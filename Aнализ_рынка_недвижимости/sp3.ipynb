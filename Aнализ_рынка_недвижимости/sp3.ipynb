{
 "cells": [
  {
   "cell_type": "markdown",
   "metadata": {
    "toc": true
   },
   "source": [
    "<h1>Содержание<span class=\"tocSkip\"></span></h1>\n",
    "<div class=\"toc\"><ul class=\"toc-item\"><li><span><a href=\"#Изучение-данных-из-файла\" data-toc-modified-id=\"Изучение-данных-из-файла-1\"><span class=\"toc-item-num\">1&nbsp;&nbsp;</span>Изучение данных из файла</a></span><ul class=\"toc-item\"><li><span><a href=\"#Вывод\" data-toc-modified-id=\"Вывод-1.1\"><span class=\"toc-item-num\">1.1&nbsp;&nbsp;</span>Вывод</a></span></li></ul></li><li><span><a href=\"#Предобработка-данных\" data-toc-modified-id=\"Предобработка-данных-2\"><span class=\"toc-item-num\">2&nbsp;&nbsp;</span>Предобработка данных</a></span></li><li><span><a href=\"#Расчёты-и-добавление-результатов-в-таблицу\" data-toc-modified-id=\"Расчёты-и-добавление-результатов-в-таблицу-3\"><span class=\"toc-item-num\">3&nbsp;&nbsp;</span>Расчёты и добавление результатов в таблицу</a></span></li><li><span><a href=\"#Исследовательский-анализ-данных\" data-toc-modified-id=\"Исследовательский-анализ-данных-4\"><span class=\"toc-item-num\">4&nbsp;&nbsp;</span>Исследовательский анализ данных</a></span></li><li><span><a href=\"#Общий-вывод\" data-toc-modified-id=\"Общий-вывод-5\"><span class=\"toc-item-num\">5&nbsp;&nbsp;</span>Общий вывод</a></span></li></ul></div>"
   ]
  },
  {
   "cell_type": "markdown",
   "metadata": {},
   "source": [
    "# Исследование объявлений о продаже квартир\n",
    "\n",
    "В вашем распоряжении данные сервиса Яндекс.Недвижимость — архив объявлений о продаже квартир в Санкт-Петербурге и соседних населённых пунктах за несколько лет. Нужно научиться определять рыночную стоимость объектов недвижимости. Ваша задача — установить параметры. Это позволит построить автоматизированную систему: она отследит аномалии и мошенническую деятельность. \n",
    "\n",
    "По каждой квартире на продажу доступны два вида данных. Первые вписаны пользователем, вторые получены автоматически на основе картографических данных. Например, расстояние до центра, аэропорта, ближайшего парка и водоёма. "
   ]
  },
  {
   "cell_type": "markdown",
   "metadata": {},
   "source": [
    "## Изучение данных из файла"
   ]
  },
  {
   "cell_type": "code",
   "execution_count": 1,
   "metadata": {},
   "outputs": [
    {
     "data": {
      "text/html": [
       "<div>\n",
       "<style scoped>\n",
       "    .dataframe tbody tr th:only-of-type {\n",
       "        vertical-align: middle;\n",
       "    }\n",
       "\n",
       "    .dataframe tbody tr th {\n",
       "        vertical-align: top;\n",
       "    }\n",
       "\n",
       "    .dataframe thead th {\n",
       "        text-align: right;\n",
       "    }\n",
       "</style>\n",
       "<table border=\"1\" class=\"dataframe\">\n",
       "  <thead>\n",
       "    <tr style=\"text-align: right;\">\n",
       "      <th></th>\n",
       "      <th>total_images</th>\n",
       "      <th>last_price</th>\n",
       "      <th>total_area</th>\n",
       "      <th>first_day_exposition</th>\n",
       "      <th>rooms</th>\n",
       "      <th>ceiling_height</th>\n",
       "      <th>floors_total</th>\n",
       "      <th>living_area</th>\n",
       "      <th>floor</th>\n",
       "      <th>is_apartment</th>\n",
       "      <th>...</th>\n",
       "      <th>kitchen_area</th>\n",
       "      <th>balcony</th>\n",
       "      <th>locality_name</th>\n",
       "      <th>airports_nearest</th>\n",
       "      <th>cityCenters_nearest</th>\n",
       "      <th>parks_around3000</th>\n",
       "      <th>parks_nearest</th>\n",
       "      <th>ponds_around3000</th>\n",
       "      <th>ponds_nearest</th>\n",
       "      <th>days_exposition</th>\n",
       "    </tr>\n",
       "  </thead>\n",
       "  <tbody>\n",
       "    <tr>\n",
       "      <td>0</td>\n",
       "      <td>20</td>\n",
       "      <td>13000000.0</td>\n",
       "      <td>108.0</td>\n",
       "      <td>2019-03-07T00:00:00</td>\n",
       "      <td>3</td>\n",
       "      <td>2.70</td>\n",
       "      <td>16.0</td>\n",
       "      <td>51.0</td>\n",
       "      <td>8</td>\n",
       "      <td>NaN</td>\n",
       "      <td>...</td>\n",
       "      <td>25.0</td>\n",
       "      <td>NaN</td>\n",
       "      <td>Санкт-Петербург</td>\n",
       "      <td>18863.0</td>\n",
       "      <td>16028.0</td>\n",
       "      <td>1.0</td>\n",
       "      <td>482.0</td>\n",
       "      <td>2.0</td>\n",
       "      <td>755.0</td>\n",
       "      <td>NaN</td>\n",
       "    </tr>\n",
       "    <tr>\n",
       "      <td>1</td>\n",
       "      <td>7</td>\n",
       "      <td>3350000.0</td>\n",
       "      <td>40.4</td>\n",
       "      <td>2018-12-04T00:00:00</td>\n",
       "      <td>1</td>\n",
       "      <td>NaN</td>\n",
       "      <td>11.0</td>\n",
       "      <td>18.6</td>\n",
       "      <td>1</td>\n",
       "      <td>NaN</td>\n",
       "      <td>...</td>\n",
       "      <td>11.0</td>\n",
       "      <td>2.0</td>\n",
       "      <td>посёлок Шушары</td>\n",
       "      <td>12817.0</td>\n",
       "      <td>18603.0</td>\n",
       "      <td>0.0</td>\n",
       "      <td>NaN</td>\n",
       "      <td>0.0</td>\n",
       "      <td>NaN</td>\n",
       "      <td>81.0</td>\n",
       "    </tr>\n",
       "    <tr>\n",
       "      <td>2</td>\n",
       "      <td>10</td>\n",
       "      <td>5196000.0</td>\n",
       "      <td>56.0</td>\n",
       "      <td>2015-08-20T00:00:00</td>\n",
       "      <td>2</td>\n",
       "      <td>NaN</td>\n",
       "      <td>5.0</td>\n",
       "      <td>34.3</td>\n",
       "      <td>4</td>\n",
       "      <td>NaN</td>\n",
       "      <td>...</td>\n",
       "      <td>8.3</td>\n",
       "      <td>0.0</td>\n",
       "      <td>Санкт-Петербург</td>\n",
       "      <td>21741.0</td>\n",
       "      <td>13933.0</td>\n",
       "      <td>1.0</td>\n",
       "      <td>90.0</td>\n",
       "      <td>2.0</td>\n",
       "      <td>574.0</td>\n",
       "      <td>558.0</td>\n",
       "    </tr>\n",
       "    <tr>\n",
       "      <td>3</td>\n",
       "      <td>0</td>\n",
       "      <td>64900000.0</td>\n",
       "      <td>159.0</td>\n",
       "      <td>2015-07-24T00:00:00</td>\n",
       "      <td>3</td>\n",
       "      <td>NaN</td>\n",
       "      <td>14.0</td>\n",
       "      <td>NaN</td>\n",
       "      <td>9</td>\n",
       "      <td>NaN</td>\n",
       "      <td>...</td>\n",
       "      <td>NaN</td>\n",
       "      <td>0.0</td>\n",
       "      <td>Санкт-Петербург</td>\n",
       "      <td>28098.0</td>\n",
       "      <td>6800.0</td>\n",
       "      <td>2.0</td>\n",
       "      <td>84.0</td>\n",
       "      <td>3.0</td>\n",
       "      <td>234.0</td>\n",
       "      <td>424.0</td>\n",
       "    </tr>\n",
       "    <tr>\n",
       "      <td>4</td>\n",
       "      <td>2</td>\n",
       "      <td>10000000.0</td>\n",
       "      <td>100.0</td>\n",
       "      <td>2018-06-19T00:00:00</td>\n",
       "      <td>2</td>\n",
       "      <td>3.03</td>\n",
       "      <td>14.0</td>\n",
       "      <td>32.0</td>\n",
       "      <td>13</td>\n",
       "      <td>NaN</td>\n",
       "      <td>...</td>\n",
       "      <td>41.0</td>\n",
       "      <td>NaN</td>\n",
       "      <td>Санкт-Петербург</td>\n",
       "      <td>31856.0</td>\n",
       "      <td>8098.0</td>\n",
       "      <td>2.0</td>\n",
       "      <td>112.0</td>\n",
       "      <td>1.0</td>\n",
       "      <td>48.0</td>\n",
       "      <td>121.0</td>\n",
       "    </tr>\n",
       "  </tbody>\n",
       "</table>\n",
       "<p>5 rows × 22 columns</p>\n",
       "</div>"
      ],
      "text/plain": [
       "   total_images  last_price  total_area first_day_exposition  rooms  \\\n",
       "0            20  13000000.0       108.0  2019-03-07T00:00:00      3   \n",
       "1             7   3350000.0        40.4  2018-12-04T00:00:00      1   \n",
       "2            10   5196000.0        56.0  2015-08-20T00:00:00      2   \n",
       "3             0  64900000.0       159.0  2015-07-24T00:00:00      3   \n",
       "4             2  10000000.0       100.0  2018-06-19T00:00:00      2   \n",
       "\n",
       "   ceiling_height  floors_total  living_area  floor is_apartment  ...  \\\n",
       "0            2.70          16.0         51.0      8          NaN  ...   \n",
       "1             NaN          11.0         18.6      1          NaN  ...   \n",
       "2             NaN           5.0         34.3      4          NaN  ...   \n",
       "3             NaN          14.0          NaN      9          NaN  ...   \n",
       "4            3.03          14.0         32.0     13          NaN  ...   \n",
       "\n",
       "   kitchen_area  balcony    locality_name  airports_nearest  \\\n",
       "0          25.0      NaN  Санкт-Петербург           18863.0   \n",
       "1          11.0      2.0   посёлок Шушары           12817.0   \n",
       "2           8.3      0.0  Санкт-Петербург           21741.0   \n",
       "3           NaN      0.0  Санкт-Петербург           28098.0   \n",
       "4          41.0      NaN  Санкт-Петербург           31856.0   \n",
       "\n",
       "  cityCenters_nearest  parks_around3000  parks_nearest  ponds_around3000  \\\n",
       "0             16028.0               1.0          482.0               2.0   \n",
       "1             18603.0               0.0            NaN               0.0   \n",
       "2             13933.0               1.0           90.0               2.0   \n",
       "3              6800.0               2.0           84.0               3.0   \n",
       "4              8098.0               2.0          112.0               1.0   \n",
       "\n",
       "   ponds_nearest  days_exposition  \n",
       "0          755.0              NaN  \n",
       "1            NaN             81.0  \n",
       "2          574.0            558.0  \n",
       "3          234.0            424.0  \n",
       "4           48.0            121.0  \n",
       "\n",
       "[5 rows x 22 columns]"
      ]
     },
     "execution_count": 1,
     "metadata": {},
     "output_type": "execute_result"
    }
   ],
   "source": [
    "import pandas as pd\n",
    "import seaborn as sns\n",
    "import matplotlib.pyplot as plt\n",
    "#открываем файл\n",
    "data = pd.read_csv('/datasets/real_estate_data.csv',sep='\\t') #таблица была не идеальна и мы ее разделили\n",
    "data.head()"
   ]
  },
  {
   "cell_type": "code",
   "execution_count": 2,
   "metadata": {},
   "outputs": [
    {
     "data": {
      "text/html": [
       "<div>\n",
       "<style scoped>\n",
       "    .dataframe tbody tr th:only-of-type {\n",
       "        vertical-align: middle;\n",
       "    }\n",
       "\n",
       "    .dataframe tbody tr th {\n",
       "        vertical-align: top;\n",
       "    }\n",
       "\n",
       "    .dataframe thead th {\n",
       "        text-align: right;\n",
       "    }\n",
       "</style>\n",
       "<table border=\"1\" class=\"dataframe\">\n",
       "  <thead>\n",
       "    <tr style=\"text-align: right;\">\n",
       "      <th></th>\n",
       "      <th>total_images</th>\n",
       "      <th>last_price</th>\n",
       "      <th>total_area</th>\n",
       "      <th>first_day_exposition</th>\n",
       "      <th>rooms</th>\n",
       "      <th>ceiling_height</th>\n",
       "      <th>floors_total</th>\n",
       "      <th>living_area</th>\n",
       "      <th>floor</th>\n",
       "      <th>is_apartment</th>\n",
       "      <th>...</th>\n",
       "      <th>kitchen_area</th>\n",
       "      <th>balcony</th>\n",
       "      <th>locality_name</th>\n",
       "      <th>airports_nearest</th>\n",
       "      <th>cityCenters_nearest</th>\n",
       "      <th>parks_around3000</th>\n",
       "      <th>parks_nearest</th>\n",
       "      <th>ponds_around3000</th>\n",
       "      <th>ponds_nearest</th>\n",
       "      <th>days_exposition</th>\n",
       "    </tr>\n",
       "  </thead>\n",
       "  <tbody>\n",
       "    <tr>\n",
       "      <td>23694</td>\n",
       "      <td>9</td>\n",
       "      <td>9700000.0</td>\n",
       "      <td>133.81</td>\n",
       "      <td>2017-03-21T00:00:00</td>\n",
       "      <td>3</td>\n",
       "      <td>3.7</td>\n",
       "      <td>5.0</td>\n",
       "      <td>73.3</td>\n",
       "      <td>3</td>\n",
       "      <td>NaN</td>\n",
       "      <td>...</td>\n",
       "      <td>13.83</td>\n",
       "      <td>NaN</td>\n",
       "      <td>Санкт-Петербург</td>\n",
       "      <td>24665.0</td>\n",
       "      <td>4232.0</td>\n",
       "      <td>1.0</td>\n",
       "      <td>796.0</td>\n",
       "      <td>3.0</td>\n",
       "      <td>381.0</td>\n",
       "      <td>NaN</td>\n",
       "    </tr>\n",
       "    <tr>\n",
       "      <td>23695</td>\n",
       "      <td>14</td>\n",
       "      <td>3100000.0</td>\n",
       "      <td>59.00</td>\n",
       "      <td>2018-01-15T00:00:00</td>\n",
       "      <td>3</td>\n",
       "      <td>NaN</td>\n",
       "      <td>5.0</td>\n",
       "      <td>38.0</td>\n",
       "      <td>4</td>\n",
       "      <td>NaN</td>\n",
       "      <td>...</td>\n",
       "      <td>8.50</td>\n",
       "      <td>NaN</td>\n",
       "      <td>Тосно</td>\n",
       "      <td>NaN</td>\n",
       "      <td>NaN</td>\n",
       "      <td>NaN</td>\n",
       "      <td>NaN</td>\n",
       "      <td>NaN</td>\n",
       "      <td>NaN</td>\n",
       "      <td>45.0</td>\n",
       "    </tr>\n",
       "    <tr>\n",
       "      <td>23696</td>\n",
       "      <td>18</td>\n",
       "      <td>2500000.0</td>\n",
       "      <td>56.70</td>\n",
       "      <td>2018-02-11T00:00:00</td>\n",
       "      <td>2</td>\n",
       "      <td>NaN</td>\n",
       "      <td>3.0</td>\n",
       "      <td>29.7</td>\n",
       "      <td>1</td>\n",
       "      <td>NaN</td>\n",
       "      <td>...</td>\n",
       "      <td>NaN</td>\n",
       "      <td>NaN</td>\n",
       "      <td>село Рождествено</td>\n",
       "      <td>NaN</td>\n",
       "      <td>NaN</td>\n",
       "      <td>NaN</td>\n",
       "      <td>NaN</td>\n",
       "      <td>NaN</td>\n",
       "      <td>NaN</td>\n",
       "      <td>NaN</td>\n",
       "    </tr>\n",
       "    <tr>\n",
       "      <td>23697</td>\n",
       "      <td>13</td>\n",
       "      <td>11475000.0</td>\n",
       "      <td>76.75</td>\n",
       "      <td>2017-03-28T00:00:00</td>\n",
       "      <td>2</td>\n",
       "      <td>3.0</td>\n",
       "      <td>17.0</td>\n",
       "      <td>NaN</td>\n",
       "      <td>12</td>\n",
       "      <td>NaN</td>\n",
       "      <td>...</td>\n",
       "      <td>23.30</td>\n",
       "      <td>2.0</td>\n",
       "      <td>Санкт-Петербург</td>\n",
       "      <td>39140.0</td>\n",
       "      <td>10364.0</td>\n",
       "      <td>2.0</td>\n",
       "      <td>173.0</td>\n",
       "      <td>3.0</td>\n",
       "      <td>196.0</td>\n",
       "      <td>602.0</td>\n",
       "    </tr>\n",
       "    <tr>\n",
       "      <td>23698</td>\n",
       "      <td>4</td>\n",
       "      <td>1350000.0</td>\n",
       "      <td>32.30</td>\n",
       "      <td>2017-07-21T00:00:00</td>\n",
       "      <td>1</td>\n",
       "      <td>2.5</td>\n",
       "      <td>5.0</td>\n",
       "      <td>12.3</td>\n",
       "      <td>1</td>\n",
       "      <td>NaN</td>\n",
       "      <td>...</td>\n",
       "      <td>9.00</td>\n",
       "      <td>NaN</td>\n",
       "      <td>поселок Новый Учхоз</td>\n",
       "      <td>NaN</td>\n",
       "      <td>NaN</td>\n",
       "      <td>NaN</td>\n",
       "      <td>NaN</td>\n",
       "      <td>NaN</td>\n",
       "      <td>NaN</td>\n",
       "      <td>NaN</td>\n",
       "    </tr>\n",
       "  </tbody>\n",
       "</table>\n",
       "<p>5 rows × 22 columns</p>\n",
       "</div>"
      ],
      "text/plain": [
       "       total_images  last_price  total_area first_day_exposition  rooms  \\\n",
       "23694             9   9700000.0      133.81  2017-03-21T00:00:00      3   \n",
       "23695            14   3100000.0       59.00  2018-01-15T00:00:00      3   \n",
       "23696            18   2500000.0       56.70  2018-02-11T00:00:00      2   \n",
       "23697            13  11475000.0       76.75  2017-03-28T00:00:00      2   \n",
       "23698             4   1350000.0       32.30  2017-07-21T00:00:00      1   \n",
       "\n",
       "       ceiling_height  floors_total  living_area  floor is_apartment  ...  \\\n",
       "23694             3.7           5.0         73.3      3          NaN  ...   \n",
       "23695             NaN           5.0         38.0      4          NaN  ...   \n",
       "23696             NaN           3.0         29.7      1          NaN  ...   \n",
       "23697             3.0          17.0          NaN     12          NaN  ...   \n",
       "23698             2.5           5.0         12.3      1          NaN  ...   \n",
       "\n",
       "       kitchen_area  balcony        locality_name  airports_nearest  \\\n",
       "23694         13.83      NaN      Санкт-Петербург           24665.0   \n",
       "23695          8.50      NaN                Тосно               NaN   \n",
       "23696           NaN      NaN     село Рождествено               NaN   \n",
       "23697         23.30      2.0      Санкт-Петербург           39140.0   \n",
       "23698          9.00      NaN  поселок Новый Учхоз               NaN   \n",
       "\n",
       "      cityCenters_nearest  parks_around3000  parks_nearest  ponds_around3000  \\\n",
       "23694              4232.0               1.0          796.0               3.0   \n",
       "23695                 NaN               NaN            NaN               NaN   \n",
       "23696                 NaN               NaN            NaN               NaN   \n",
       "23697             10364.0               2.0          173.0               3.0   \n",
       "23698                 NaN               NaN            NaN               NaN   \n",
       "\n",
       "       ponds_nearest  days_exposition  \n",
       "23694          381.0              NaN  \n",
       "23695            NaN             45.0  \n",
       "23696            NaN              NaN  \n",
       "23697          196.0            602.0  \n",
       "23698            NaN              NaN  \n",
       "\n",
       "[5 rows x 22 columns]"
      ]
     },
     "execution_count": 2,
     "metadata": {},
     "output_type": "execute_result"
    }
   ],
   "source": [
    "data.tail()"
   ]
  },
  {
   "cell_type": "code",
   "execution_count": 3,
   "metadata": {},
   "outputs": [
    {
     "name": "stdout",
     "output_type": "stream",
     "text": [
      "<class 'pandas.core.frame.DataFrame'>\n",
      "RangeIndex: 23699 entries, 0 to 23698\n",
      "Data columns (total 22 columns):\n",
      "total_images            23699 non-null int64\n",
      "last_price              23699 non-null float64\n",
      "total_area              23699 non-null float64\n",
      "first_day_exposition    23699 non-null object\n",
      "rooms                   23699 non-null int64\n",
      "ceiling_height          14504 non-null float64\n",
      "floors_total            23613 non-null float64\n",
      "living_area             21796 non-null float64\n",
      "floor                   23699 non-null int64\n",
      "is_apartment            2775 non-null object\n",
      "studio                  23699 non-null bool\n",
      "open_plan               23699 non-null bool\n",
      "kitchen_area            21421 non-null float64\n",
      "balcony                 12180 non-null float64\n",
      "locality_name           23650 non-null object\n",
      "airports_nearest        18157 non-null float64\n",
      "cityCenters_nearest     18180 non-null float64\n",
      "parks_around3000        18181 non-null float64\n",
      "parks_nearest           8079 non-null float64\n",
      "ponds_around3000        18181 non-null float64\n",
      "ponds_nearest           9110 non-null float64\n",
      "days_exposition         20518 non-null float64\n",
      "dtypes: bool(2), float64(14), int64(3), object(3)\n",
      "memory usage: 3.7+ MB\n"
     ]
    }
   ],
   "source": [
    "data.info() #информация о столбцах в таблице"
   ]
  },
  {
   "cell_type": "markdown",
   "metadata": {},
   "source": [
    "### Вывод"
   ]
  },
  {
   "cell_type": "markdown",
   "metadata": {},
   "source": [
    "В целом информации достаточно, чтобы сделать по ней выводы. Но необходимо превести к хорошему виду."
   ]
  },
  {
   "cell_type": "markdown",
   "metadata": {},
   "source": [
    "## Предобработка данных"
   ]
  },
  {
   "cell_type": "code",
   "execution_count": 4,
   "metadata": {},
   "outputs": [
    {
     "name": "stdout",
     "output_type": "stream",
     "text": [
      "total_images                0\n",
      "last_price                  0\n",
      "total_area                  0\n",
      "first_day_exposition        0\n",
      "rooms                       0\n",
      "ceiling_height           9195\n",
      "floors_total               86\n",
      "living_area              1903\n",
      "floor                       0\n",
      "is_apartment            20924\n",
      "studio                      0\n",
      "open_plan                   0\n",
      "kitchen_area             2278\n",
      "balcony                 11519\n",
      "locality_name              49\n",
      "airports_nearest         5542\n",
      "cityCenters_nearest      5519\n",
      "parks_around3000         5518\n",
      "parks_nearest           15620\n",
      "ponds_around3000         5518\n",
      "ponds_nearest           14589\n",
      "days_exposition          3181\n",
      "dtype: int64\n"
     ]
    }
   ],
   "source": [
    "print(data.isna().sum()) # подсчёт пропусков "
   ]
  },
  {
   "cell_type": "code",
   "execution_count": 5,
   "metadata": {},
   "outputs": [],
   "source": [
    "#ууу сколько пропусков, ну поехали.\n",
    "data['is_apartment'] = data['is_apartment'].fillna(False) # заменим т.к. апартаменты не на столько популярны и появились относительно не давно"
   ]
  },
  {
   "cell_type": "code",
   "execution_count": 6,
   "metadata": {},
   "outputs": [
    {
     "data": {
      "text/plain": [
       "<matplotlib.axes._subplots.AxesSubplot at 0x7fd458f6a550>"
      ]
     },
     "execution_count": 6,
     "metadata": {},
     "output_type": "execute_result"
    },
    {
     "data": {
      "image/png": "[encoded data removed]",
      "text/plain": [
       "<Figure size 432x288 with 1 Axes>"
      ]
     },
     "metadata": {
      "needs_background": "light"
     },
     "output_type": "display_data"
    }
   ],
   "source": [
    "data['ceiling_height'].sort_values().plot(y = 'ceiling_height', kind = 'hist', bins = 30, range=(2,5))\n",
    "#видно что высота может быть довольно разной, но основные значения идут от 2.5м до 3.5.\n"
   ]
  },
  {
   "cell_type": "code",
   "execution_count": 7,
   "metadata": {},
   "outputs": [
    {
     "data": {
      "text/plain": [
       "count    14504.000000\n",
       "mean         2.771499\n",
       "std          1.261056\n",
       "min          1.000000\n",
       "25%          2.520000\n",
       "50%          2.650000\n",
       "75%          2.800000\n",
       "max        100.000000\n",
       "Name: ceiling_height, dtype: float64"
      ]
     },
     "execution_count": 7,
     "metadata": {},
     "output_type": "execute_result"
    }
   ],
   "source": [
    "data['ceiling_height'].describe() #Оу,у кого-то полтолки 1м и 100м. Можно будет заменить просто медианой."
   ]
  },
  {
   "cell_type": "code",
   "execution_count": 8,
   "metadata": {},
   "outputs": [],
   "source": [
    "data['ceiling_height'] = data['ceiling_height'].fillna(data['ceiling_height'].median()) #замена"
   ]
  },
  {
   "cell_type": "code",
   "execution_count": 9,
   "metadata": {},
   "outputs": [
    {
     "data": {
      "text/html": [
       "<div>\n",
       "<style scoped>\n",
       "    .dataframe tbody tr th:only-of-type {\n",
       "        vertical-align: middle;\n",
       "    }\n",
       "\n",
       "    .dataframe tbody tr th {\n",
       "        vertical-align: top;\n",
       "    }\n",
       "\n",
       "    .dataframe thead th {\n",
       "        text-align: right;\n",
       "    }\n",
       "</style>\n",
       "<table border=\"1\" class=\"dataframe\">\n",
       "  <thead>\n",
       "    <tr style=\"text-align: right;\">\n",
       "      <th></th>\n",
       "      <th>total_images</th>\n",
       "      <th>last_price</th>\n",
       "      <th>total_area</th>\n",
       "      <th>first_day_exposition</th>\n",
       "      <th>rooms</th>\n",
       "      <th>ceiling_height</th>\n",
       "      <th>floors_total</th>\n",
       "      <th>living_area</th>\n",
       "      <th>floor</th>\n",
       "      <th>is_apartment</th>\n",
       "      <th>...</th>\n",
       "      <th>kitchen_area</th>\n",
       "      <th>balcony</th>\n",
       "      <th>locality_name</th>\n",
       "      <th>airports_nearest</th>\n",
       "      <th>cityCenters_nearest</th>\n",
       "      <th>parks_around3000</th>\n",
       "      <th>parks_nearest</th>\n",
       "      <th>ponds_around3000</th>\n",
       "      <th>ponds_nearest</th>\n",
       "      <th>days_exposition</th>\n",
       "    </tr>\n",
       "  </thead>\n",
       "  <tbody>\n",
       "    <tr>\n",
       "      <td>186</td>\n",
       "      <td>12</td>\n",
       "      <td>11640000.0</td>\n",
       "      <td>65.2</td>\n",
       "      <td>2018-10-02T00:00:00</td>\n",
       "      <td>2</td>\n",
       "      <td>2.65</td>\n",
       "      <td>NaN</td>\n",
       "      <td>30.80</td>\n",
       "      <td>4</td>\n",
       "      <td>False</td>\n",
       "      <td>...</td>\n",
       "      <td>12.00</td>\n",
       "      <td>NaN</td>\n",
       "      <td>Санкт-Петербург</td>\n",
       "      <td>39197.0</td>\n",
       "      <td>12373.0</td>\n",
       "      <td>1.0</td>\n",
       "      <td>123.0</td>\n",
       "      <td>0.0</td>\n",
       "      <td>NaN</td>\n",
       "      <td>49.0</td>\n",
       "    </tr>\n",
       "    <tr>\n",
       "      <td>237</td>\n",
       "      <td>4</td>\n",
       "      <td>2438033.0</td>\n",
       "      <td>28.1</td>\n",
       "      <td>2016-11-23T00:00:00</td>\n",
       "      <td>1</td>\n",
       "      <td>2.65</td>\n",
       "      <td>NaN</td>\n",
       "      <td>20.75</td>\n",
       "      <td>1</td>\n",
       "      <td>False</td>\n",
       "      <td>...</td>\n",
       "      <td>NaN</td>\n",
       "      <td>0.0</td>\n",
       "      <td>Санкт-Петербург</td>\n",
       "      <td>22041.0</td>\n",
       "      <td>17369.0</td>\n",
       "      <td>0.0</td>\n",
       "      <td>NaN</td>\n",
       "      <td>1.0</td>\n",
       "      <td>374.0</td>\n",
       "      <td>251.0</td>\n",
       "    </tr>\n",
       "    <tr>\n",
       "      <td>457</td>\n",
       "      <td>4</td>\n",
       "      <td>9788348.0</td>\n",
       "      <td>70.8</td>\n",
       "      <td>2015-08-01T00:00:00</td>\n",
       "      <td>2</td>\n",
       "      <td>2.65</td>\n",
       "      <td>NaN</td>\n",
       "      <td>38.40</td>\n",
       "      <td>12</td>\n",
       "      <td>False</td>\n",
       "      <td>...</td>\n",
       "      <td>10.63</td>\n",
       "      <td>0.0</td>\n",
       "      <td>Санкт-Петербург</td>\n",
       "      <td>37364.0</td>\n",
       "      <td>8322.0</td>\n",
       "      <td>2.0</td>\n",
       "      <td>309.0</td>\n",
       "      <td>2.0</td>\n",
       "      <td>706.0</td>\n",
       "      <td>727.0</td>\n",
       "    </tr>\n",
       "    <tr>\n",
       "      <td>671</td>\n",
       "      <td>4</td>\n",
       "      <td>6051191.0</td>\n",
       "      <td>93.6</td>\n",
       "      <td>2017-04-06T00:00:00</td>\n",
       "      <td>3</td>\n",
       "      <td>2.65</td>\n",
       "      <td>NaN</td>\n",
       "      <td>47.10</td>\n",
       "      <td>8</td>\n",
       "      <td>False</td>\n",
       "      <td>...</td>\n",
       "      <td>16.80</td>\n",
       "      <td>0.0</td>\n",
       "      <td>Санкт-Петербург</td>\n",
       "      <td>22041.0</td>\n",
       "      <td>17369.0</td>\n",
       "      <td>0.0</td>\n",
       "      <td>NaN</td>\n",
       "      <td>1.0</td>\n",
       "      <td>374.0</td>\n",
       "      <td>123.0</td>\n",
       "    </tr>\n",
       "    <tr>\n",
       "      <td>1757</td>\n",
       "      <td>5</td>\n",
       "      <td>3600000.0</td>\n",
       "      <td>39.0</td>\n",
       "      <td>2017-04-22T00:00:00</td>\n",
       "      <td>1</td>\n",
       "      <td>2.65</td>\n",
       "      <td>NaN</td>\n",
       "      <td>NaN</td>\n",
       "      <td>9</td>\n",
       "      <td>False</td>\n",
       "      <td>...</td>\n",
       "      <td>NaN</td>\n",
       "      <td>0.0</td>\n",
       "      <td>Санкт-Петербург</td>\n",
       "      <td>22735.0</td>\n",
       "      <td>11618.0</td>\n",
       "      <td>1.0</td>\n",
       "      <td>835.0</td>\n",
       "      <td>1.0</td>\n",
       "      <td>652.0</td>\n",
       "      <td>77.0</td>\n",
       "    </tr>\n",
       "    <tr>\n",
       "      <td>...</td>\n",
       "      <td>...</td>\n",
       "      <td>...</td>\n",
       "      <td>...</td>\n",
       "      <td>...</td>\n",
       "      <td>...</td>\n",
       "      <td>...</td>\n",
       "      <td>...</td>\n",
       "      <td>...</td>\n",
       "      <td>...</td>\n",
       "      <td>...</td>\n",
       "      <td>...</td>\n",
       "      <td>...</td>\n",
       "      <td>...</td>\n",
       "      <td>...</td>\n",
       "      <td>...</td>\n",
       "      <td>...</td>\n",
       "      <td>...</td>\n",
       "      <td>...</td>\n",
       "      <td>...</td>\n",
       "      <td>...</td>\n",
       "      <td>...</td>\n",
       "    </tr>\n",
       "    <tr>\n",
       "      <td>22542</td>\n",
       "      <td>5</td>\n",
       "      <td>8500000.0</td>\n",
       "      <td>63.5</td>\n",
       "      <td>2017-05-24T00:00:00</td>\n",
       "      <td>2</td>\n",
       "      <td>2.80</td>\n",
       "      <td>NaN</td>\n",
       "      <td>NaN</td>\n",
       "      <td>3</td>\n",
       "      <td>False</td>\n",
       "      <td>...</td>\n",
       "      <td>NaN</td>\n",
       "      <td>NaN</td>\n",
       "      <td>Санкт-Петербург</td>\n",
       "      <td>51340.0</td>\n",
       "      <td>15363.0</td>\n",
       "      <td>0.0</td>\n",
       "      <td>NaN</td>\n",
       "      <td>1.0</td>\n",
       "      <td>853.0</td>\n",
       "      <td>512.0</td>\n",
       "    </tr>\n",
       "    <tr>\n",
       "      <td>22656</td>\n",
       "      <td>4</td>\n",
       "      <td>4574160.0</td>\n",
       "      <td>64.5</td>\n",
       "      <td>2017-04-02T00:00:00</td>\n",
       "      <td>2</td>\n",
       "      <td>2.65</td>\n",
       "      <td>NaN</td>\n",
       "      <td>31.70</td>\n",
       "      <td>20</td>\n",
       "      <td>False</td>\n",
       "      <td>...</td>\n",
       "      <td>14.40</td>\n",
       "      <td>0.0</td>\n",
       "      <td>Санкт-Петербург</td>\n",
       "      <td>22041.0</td>\n",
       "      <td>17369.0</td>\n",
       "      <td>0.0</td>\n",
       "      <td>NaN</td>\n",
       "      <td>1.0</td>\n",
       "      <td>374.0</td>\n",
       "      <td>127.0</td>\n",
       "    </tr>\n",
       "    <tr>\n",
       "      <td>22808</td>\n",
       "      <td>0</td>\n",
       "      <td>14569263.0</td>\n",
       "      <td>110.4</td>\n",
       "      <td>2016-11-20T00:00:00</td>\n",
       "      <td>3</td>\n",
       "      <td>2.65</td>\n",
       "      <td>NaN</td>\n",
       "      <td>45.38</td>\n",
       "      <td>6</td>\n",
       "      <td>False</td>\n",
       "      <td>...</td>\n",
       "      <td>23.42</td>\n",
       "      <td>0.0</td>\n",
       "      <td>Санкт-Петербург</td>\n",
       "      <td>19095.0</td>\n",
       "      <td>4529.0</td>\n",
       "      <td>0.0</td>\n",
       "      <td>NaN</td>\n",
       "      <td>0.0</td>\n",
       "      <td>NaN</td>\n",
       "      <td>260.0</td>\n",
       "    </tr>\n",
       "    <tr>\n",
       "      <td>23590</td>\n",
       "      <td>0</td>\n",
       "      <td>21187872.0</td>\n",
       "      <td>123.3</td>\n",
       "      <td>2017-04-25T00:00:00</td>\n",
       "      <td>3</td>\n",
       "      <td>2.65</td>\n",
       "      <td>NaN</td>\n",
       "      <td>50.40</td>\n",
       "      <td>18</td>\n",
       "      <td>False</td>\n",
       "      <td>...</td>\n",
       "      <td>23.60</td>\n",
       "      <td>0.0</td>\n",
       "      <td>Санкт-Петербург</td>\n",
       "      <td>19095.0</td>\n",
       "      <td>4529.0</td>\n",
       "      <td>0.0</td>\n",
       "      <td>NaN</td>\n",
       "      <td>0.0</td>\n",
       "      <td>NaN</td>\n",
       "      <td>104.0</td>\n",
       "    </tr>\n",
       "    <tr>\n",
       "      <td>23658</td>\n",
       "      <td>6</td>\n",
       "      <td>3063600.0</td>\n",
       "      <td>43.8</td>\n",
       "      <td>2016-11-28T00:00:00</td>\n",
       "      <td>1</td>\n",
       "      <td>2.70</td>\n",
       "      <td>NaN</td>\n",
       "      <td>14.00</td>\n",
       "      <td>8</td>\n",
       "      <td>False</td>\n",
       "      <td>...</td>\n",
       "      <td>15.50</td>\n",
       "      <td>2.0</td>\n",
       "      <td>Санкт-Петербург</td>\n",
       "      <td>8426.0</td>\n",
       "      <td>12082.0</td>\n",
       "      <td>2.0</td>\n",
       "      <td>24.0</td>\n",
       "      <td>1.0</td>\n",
       "      <td>271.0</td>\n",
       "      <td>246.0</td>\n",
       "    </tr>\n",
       "  </tbody>\n",
       "</table>\n",
       "<p>86 rows × 22 columns</p>\n",
       "</div>"
      ],
      "text/plain": [
       "       total_images  last_price  total_area first_day_exposition  rooms  \\\n",
       "186              12  11640000.0        65.2  2018-10-02T00:00:00      2   \n",
       "237               4   2438033.0        28.1  2016-11-23T00:00:00      1   \n",
       "457               4   9788348.0        70.8  2015-08-01T00:00:00      2   \n",
       "671               4   6051191.0        93.6  2017-04-06T00:00:00      3   \n",
       "1757              5   3600000.0        39.0  2017-04-22T00:00:00      1   \n",
       "...             ...         ...         ...                  ...    ...   \n",
       "22542             5   8500000.0        63.5  2017-05-24T00:00:00      2   \n",
       "22656             4   4574160.0        64.5  2017-04-02T00:00:00      2   \n",
       "22808             0  14569263.0       110.4  2016-11-20T00:00:00      3   \n",
       "23590             0  21187872.0       123.3  2017-04-25T00:00:00      3   \n",
       "23658             6   3063600.0        43.8  2016-11-28T00:00:00      1   \n",
       "\n",
       "       ceiling_height  floors_total  living_area  floor  is_apartment  ...  \\\n",
       "186              2.65           NaN        30.80      4         False  ...   \n",
       "237              2.65           NaN        20.75      1         False  ...   \n",
       "457              2.65           NaN        38.40     12         False  ...   \n",
       "671              2.65           NaN        47.10      8         False  ...   \n",
       "1757             2.65           NaN          NaN      9         False  ...   \n",
       "...               ...           ...          ...    ...           ...  ...   \n",
       "22542            2.80           NaN          NaN      3         False  ...   \n",
       "22656            2.65           NaN        31.70     20         False  ...   \n",
       "22808            2.65           NaN        45.38      6         False  ...   \n",
       "23590            2.65           NaN        50.40     18         False  ...   \n",
       "23658            2.70           NaN        14.00      8         False  ...   \n",
       "\n",
       "       kitchen_area  balcony    locality_name  airports_nearest  \\\n",
       "186           12.00      NaN  Санкт-Петербург           39197.0   \n",
       "237             NaN      0.0  Санкт-Петербург           22041.0   \n",
       "457           10.63      0.0  Санкт-Петербург           37364.0   \n",
       "671           16.80      0.0  Санкт-Петербург           22041.0   \n",
       "1757            NaN      0.0  Санкт-Петербург           22735.0   \n",
       "...             ...      ...              ...               ...   \n",
       "22542           NaN      NaN  Санкт-Петербург           51340.0   \n",
       "22656         14.40      0.0  Санкт-Петербург           22041.0   \n",
       "22808         23.42      0.0  Санкт-Петербург           19095.0   \n",
       "23590         23.60      0.0  Санкт-Петербург           19095.0   \n",
       "23658         15.50      2.0  Санкт-Петербург            8426.0   \n",
       "\n",
       "      cityCenters_nearest  parks_around3000  parks_nearest  ponds_around3000  \\\n",
       "186               12373.0               1.0          123.0               0.0   \n",
       "237               17369.0               0.0            NaN               1.0   \n",
       "457                8322.0               2.0          309.0               2.0   \n",
       "671               17369.0               0.0            NaN               1.0   \n",
       "1757              11618.0               1.0          835.0               1.0   \n",
       "...                   ...               ...            ...               ...   \n",
       "22542             15363.0               0.0            NaN               1.0   \n",
       "22656             17369.0               0.0            NaN               1.0   \n",
       "22808              4529.0               0.0            NaN               0.0   \n",
       "23590              4529.0               0.0            NaN               0.0   \n",
       "23658             12082.0               2.0           24.0               1.0   \n",
       "\n",
       "       ponds_nearest  days_exposition  \n",
       "186              NaN             49.0  \n",
       "237            374.0            251.0  \n",
       "457            706.0            727.0  \n",
       "671            374.0            123.0  \n",
       "1757           652.0             77.0  \n",
       "...              ...              ...  \n",
       "22542          853.0            512.0  \n",
       "22656          374.0            127.0  \n",
       "22808            NaN            260.0  \n",
       "23590            NaN            104.0  \n",
       "23658          271.0            246.0  \n",
       "\n",
       "[86 rows x 22 columns]"
      ]
     },
     "execution_count": 9,
     "metadata": {},
     "output_type": "execute_result"
    }
   ],
   "source": [
    "data[data['floors_total'].isna()] # не вижу ничего общего. их кол-во очень мало и никак не повлияет"
   ]
  },
  {
   "cell_type": "code",
   "execution_count": 10,
   "metadata": {},
   "outputs": [],
   "source": [
    "data['floors_total'].value_counts() #прибавим неизвестные к 5.0\n",
    "data['floors_total'] = data['floors_total'].fillna(5.0)"
   ]
  },
  {
   "cell_type": "code",
   "execution_count": 11,
   "metadata": {},
   "outputs": [],
   "source": [
    "data[data['living_area'].isna()]\n",
    "# заполним по среднему значению к количеству комнат, думаю это будет адекватная оценка площади квартир и общей площади\n",
    "groups = data.groupby(['total_area', 'rooms'])['living_area'].transform('median')\n",
    "data['living_area'] = data['living_area'].fillna(groups) #не заполняет все пропуски, следелаем доп.обработку\n",
    "data['living_area'] = data['living_area'].fillna(data['living_area'].median())"
   ]
  },
  {
   "cell_type": "code",
   "execution_count": 12,
   "metadata": {},
   "outputs": [],
   "source": [
    "#заменим по такому же принципу.\n",
    "groups_kitchen = data.groupby(['total_area', 'rooms'])['kitchen_area'].transform('median')\n",
    "data['kitchen_area'] = data['kitchen_area'].fillna(groups_kitchen)\n",
    "data['kitchen_area'] = data['kitchen_area'].fillna(data['kitchen_area'].median())"
   ]
  },
  {
   "cell_type": "code",
   "execution_count": 13,
   "metadata": {},
   "outputs": [],
   "source": [
    "#балконы, сделаем сначала по\n",
    "data['balcony'] = data['balcony'].fillna(0)\n"
   ]
  },
  {
   "cell_type": "code",
   "execution_count": 14,
   "metadata": {},
   "outputs": [],
   "source": [
    "data['locality_name'] = data['locality_name'].fillna('unknow') # заменим на неизвестный          "
   ]
  },
  {
   "cell_type": "code",
   "execution_count": 15,
   "metadata": {},
   "outputs": [],
   "source": [
    "# данные показатели мне не важны, заполняем их 0\n",
    "data['airports_nearest'] = data['airports_nearest'].fillna(0)\n",
    "data['parks_around3000'] = data['parks_around3000'].fillna(0)\n",
    "data['ponds_around3000'] = data['ponds_around3000'].fillna(0)\n",
    "data['parks_nearest'] = data['parks_nearest'].fillna(0)\n",
    "data['ponds_nearest'] = data['ponds_nearest'].fillna(0)\n"
   ]
  },
  {
   "cell_type": "code",
   "execution_count": 16,
   "metadata": {},
   "outputs": [],
   "source": [
    "#group_days_ex = data.groupby(['total_area'])['days_exposition'].transform('median')#заполняем пропуски медианными значениями по общей площади.\n",
    "#data['days_exposition'] = data['days_exposition'].fillna(group_days_ex) \n",
    "data['days_exposition'] = data['days_exposition'].fillna(0)\n",
    "# Заполним нулём, т.к. в будущем очень сильно мешают расчётам"
   ]
  },
  {
   "cell_type": "code",
   "execution_count": 17,
   "metadata": {},
   "outputs": [],
   "source": [
    "data['first_day_exposition'] = pd.to_datetime(data['first_day_exposition'], format = '%Y-%m-%d') #меняем на понятный формат даты"
   ]
  },
  {
   "cell_type": "code",
   "execution_count": 18,
   "metadata": {},
   "outputs": [],
   "source": [
    "# чтобы не искажать данные, заменим оставшиеся пропуски -1, при расчёте удалённости отбросим их.\n",
    "data['cityCenters_nearest'] = data['cityCenters_nearest'].fillna(-1)"
   ]
  },
  {
   "cell_type": "code",
   "execution_count": 19,
   "metadata": {},
   "outputs": [
    {
     "name": "stdout",
     "output_type": "stream",
     "text": [
      "total_images            0\n",
      "last_price              0\n",
      "total_area              0\n",
      "first_day_exposition    0\n",
      "rooms                   0\n",
      "ceiling_height          0\n",
      "floors_total            0\n",
      "living_area             0\n",
      "floor                   0\n",
      "is_apartment            0\n",
      "studio                  0\n",
      "open_plan               0\n",
      "kitchen_area            0\n",
      "balcony                 0\n",
      "locality_name           0\n",
      "airports_nearest        0\n",
      "cityCenters_nearest     0\n",
      "parks_around3000        0\n",
      "parks_nearest           0\n",
      "ponds_around3000        0\n",
      "ponds_nearest           0\n",
      "days_exposition         0\n",
      "dtype: int64\n"
     ]
    }
   ],
   "source": [
    "print(data.isna().sum()) # все пропуски заполнены."
   ]
  },
  {
   "cell_type": "markdown",
   "metadata": {},
   "source": [
    "## Расчёты и добавление результатов в таблицу"
   ]
  },
  {
   "cell_type": "markdown",
   "metadata": {},
   "source": [
    "1. цену квадратного метра\n",
    "2. день недели, месяц и год публикации объявления\n",
    "3. этаж квартиры; варианты — первый, последний, другой\n",
    "4. соотношение жилой и общей площади, а также отношение площади кухни к общей."
   ]
  },
  {
   "cell_type": "code",
   "execution_count": 20,
   "metadata": {},
   "outputs": [
    {
     "data": {
      "text/plain": [
       "0    120370\n",
       "1     82920\n",
       "2     92785\n",
       "3    408176\n",
       "4    100000\n",
       "5     95065\n",
       "6     99195\n",
       "7    110544\n",
       "8     87454\n",
       "9     88524\n",
       "Name: price_meter, dtype: int64"
      ]
     },
     "execution_count": 20,
     "metadata": {},
     "output_type": "execute_result"
    }
   ],
   "source": [
    "# расчитываем цену и создаём отдельный столбец\n",
    "data['price_meter'] = data['last_price']/data['total_area']\n",
    "#чтобы лучше выглядило приведем к целым числам\n",
    "data['price_meter'] = data['price_meter'].astype('int')\n",
    "data['price_meter'].head(10)"
   ]
  },
  {
   "cell_type": "code",
   "execution_count": 21,
   "metadata": {},
   "outputs": [],
   "source": [
    "#День публикации\n",
    "data['weekday_exposition'] = data['first_day_exposition'].dt.weekday"
   ]
  },
  {
   "cell_type": "code",
   "execution_count": 22,
   "metadata": {},
   "outputs": [],
   "source": [
    "#месяц публикации\n",
    "data['month_exposition'] = data['first_day_exposition'].dt.month"
   ]
  },
  {
   "cell_type": "code",
   "execution_count": 23,
   "metadata": {},
   "outputs": [],
   "source": [
    "#год публикации\n",
    "data['year_exposition'] = data['first_day_exposition'].dt.year"
   ]
  },
  {
   "cell_type": "code",
   "execution_count": 24,
   "metadata": {},
   "outputs": [],
   "source": [
    "# разбиваем эттажи на категории\n",
    "#напишем функцию категоризации по этажам, используя метод apply применимо к каждой строке датафрейма через axis = 1\n",
    "def floor_category(row):\n",
    "    floors_total = row['floors_total']\n",
    "    floor = row['floor']\n",
    "    if floor == 1:\n",
    "        return 'первый'\n",
    "    elif floor == floors_total:\n",
    "        return 'последний'\n",
    "    elif 1 < floor < floors_total:\n",
    "        return 'другой'\n",
    "data['floor_category'] = data.apply(floor_category, axis = 1)"
   ]
  },
  {
   "cell_type": "code",
   "execution_count": 25,
   "metadata": {},
   "outputs": [
    {
     "data": {
      "text/html": [
       "<div>\n",
       "<style scoped>\n",
       "    .dataframe tbody tr th:only-of-type {\n",
       "        vertical-align: middle;\n",
       "    }\n",
       "\n",
       "    .dataframe tbody tr th {\n",
       "        vertical-align: top;\n",
       "    }\n",
       "\n",
       "    .dataframe thead th {\n",
       "        text-align: right;\n",
       "    }\n",
       "</style>\n",
       "<table border=\"1\" class=\"dataframe\">\n",
       "  <thead>\n",
       "    <tr style=\"text-align: right;\">\n",
       "      <th></th>\n",
       "      <th>total_images</th>\n",
       "      <th>last_price</th>\n",
       "      <th>total_area</th>\n",
       "      <th>first_day_exposition</th>\n",
       "      <th>rooms</th>\n",
       "      <th>ceiling_height</th>\n",
       "      <th>floors_total</th>\n",
       "      <th>living_area</th>\n",
       "      <th>floor</th>\n",
       "      <th>is_apartment</th>\n",
       "      <th>...</th>\n",
       "      <th>ponds_around3000</th>\n",
       "      <th>ponds_nearest</th>\n",
       "      <th>days_exposition</th>\n",
       "      <th>price_meter</th>\n",
       "      <th>weekday_exposition</th>\n",
       "      <th>month_exposition</th>\n",
       "      <th>year_exposition</th>\n",
       "      <th>floor_category</th>\n",
       "      <th>area_ratio</th>\n",
       "      <th>kitchen_area_ratio</th>\n",
       "    </tr>\n",
       "  </thead>\n",
       "  <tbody>\n",
       "    <tr>\n",
       "      <td>0</td>\n",
       "      <td>20</td>\n",
       "      <td>13000000.0</td>\n",
       "      <td>108.00</td>\n",
       "      <td>2019-03-07</td>\n",
       "      <td>3</td>\n",
       "      <td>2.70</td>\n",
       "      <td>16.0</td>\n",
       "      <td>51.00</td>\n",
       "      <td>8</td>\n",
       "      <td>False</td>\n",
       "      <td>...</td>\n",
       "      <td>2.0</td>\n",
       "      <td>755.0</td>\n",
       "      <td>0.0</td>\n",
       "      <td>120370</td>\n",
       "      <td>3</td>\n",
       "      <td>3</td>\n",
       "      <td>2019</td>\n",
       "      <td>другой</td>\n",
       "      <td>0.472222</td>\n",
       "      <td>0.231481</td>\n",
       "    </tr>\n",
       "    <tr>\n",
       "      <td>1</td>\n",
       "      <td>7</td>\n",
       "      <td>3350000.0</td>\n",
       "      <td>40.40</td>\n",
       "      <td>2018-12-04</td>\n",
       "      <td>1</td>\n",
       "      <td>2.65</td>\n",
       "      <td>11.0</td>\n",
       "      <td>18.60</td>\n",
       "      <td>1</td>\n",
       "      <td>False</td>\n",
       "      <td>...</td>\n",
       "      <td>0.0</td>\n",
       "      <td>0.0</td>\n",
       "      <td>81.0</td>\n",
       "      <td>82920</td>\n",
       "      <td>1</td>\n",
       "      <td>12</td>\n",
       "      <td>2018</td>\n",
       "      <td>первый</td>\n",
       "      <td>0.460396</td>\n",
       "      <td>0.272277</td>\n",
       "    </tr>\n",
       "    <tr>\n",
       "      <td>2</td>\n",
       "      <td>10</td>\n",
       "      <td>5196000.0</td>\n",
       "      <td>56.00</td>\n",
       "      <td>2015-08-20</td>\n",
       "      <td>2</td>\n",
       "      <td>2.65</td>\n",
       "      <td>5.0</td>\n",
       "      <td>34.30</td>\n",
       "      <td>4</td>\n",
       "      <td>False</td>\n",
       "      <td>...</td>\n",
       "      <td>2.0</td>\n",
       "      <td>574.0</td>\n",
       "      <td>558.0</td>\n",
       "      <td>92785</td>\n",
       "      <td>3</td>\n",
       "      <td>8</td>\n",
       "      <td>2015</td>\n",
       "      <td>другой</td>\n",
       "      <td>0.612500</td>\n",
       "      <td>0.148214</td>\n",
       "    </tr>\n",
       "    <tr>\n",
       "      <td>3</td>\n",
       "      <td>0</td>\n",
       "      <td>64900000.0</td>\n",
       "      <td>159.00</td>\n",
       "      <td>2015-07-24</td>\n",
       "      <td>3</td>\n",
       "      <td>2.65</td>\n",
       "      <td>14.0</td>\n",
       "      <td>54.00</td>\n",
       "      <td>9</td>\n",
       "      <td>False</td>\n",
       "      <td>...</td>\n",
       "      <td>3.0</td>\n",
       "      <td>234.0</td>\n",
       "      <td>424.0</td>\n",
       "      <td>408176</td>\n",
       "      <td>4</td>\n",
       "      <td>7</td>\n",
       "      <td>2015</td>\n",
       "      <td>другой</td>\n",
       "      <td>0.339623</td>\n",
       "      <td>0.094340</td>\n",
       "    </tr>\n",
       "    <tr>\n",
       "      <td>4</td>\n",
       "      <td>2</td>\n",
       "      <td>10000000.0</td>\n",
       "      <td>100.00</td>\n",
       "      <td>2018-06-19</td>\n",
       "      <td>2</td>\n",
       "      <td>3.03</td>\n",
       "      <td>14.0</td>\n",
       "      <td>32.00</td>\n",
       "      <td>13</td>\n",
       "      <td>False</td>\n",
       "      <td>...</td>\n",
       "      <td>1.0</td>\n",
       "      <td>48.0</td>\n",
       "      <td>121.0</td>\n",
       "      <td>100000</td>\n",
       "      <td>1</td>\n",
       "      <td>6</td>\n",
       "      <td>2018</td>\n",
       "      <td>другой</td>\n",
       "      <td>0.320000</td>\n",
       "      <td>0.410000</td>\n",
       "    </tr>\n",
       "    <tr>\n",
       "      <td>5</td>\n",
       "      <td>10</td>\n",
       "      <td>2890000.0</td>\n",
       "      <td>30.40</td>\n",
       "      <td>2018-09-10</td>\n",
       "      <td>1</td>\n",
       "      <td>2.65</td>\n",
       "      <td>12.0</td>\n",
       "      <td>14.40</td>\n",
       "      <td>5</td>\n",
       "      <td>False</td>\n",
       "      <td>...</td>\n",
       "      <td>0.0</td>\n",
       "      <td>0.0</td>\n",
       "      <td>55.0</td>\n",
       "      <td>95065</td>\n",
       "      <td>0</td>\n",
       "      <td>9</td>\n",
       "      <td>2018</td>\n",
       "      <td>другой</td>\n",
       "      <td>0.473684</td>\n",
       "      <td>0.299342</td>\n",
       "    </tr>\n",
       "    <tr>\n",
       "      <td>6</td>\n",
       "      <td>6</td>\n",
       "      <td>3700000.0</td>\n",
       "      <td>37.30</td>\n",
       "      <td>2017-11-02</td>\n",
       "      <td>1</td>\n",
       "      <td>2.65</td>\n",
       "      <td>26.0</td>\n",
       "      <td>10.60</td>\n",
       "      <td>6</td>\n",
       "      <td>False</td>\n",
       "      <td>...</td>\n",
       "      <td>0.0</td>\n",
       "      <td>0.0</td>\n",
       "      <td>155.0</td>\n",
       "      <td>99195</td>\n",
       "      <td>3</td>\n",
       "      <td>11</td>\n",
       "      <td>2017</td>\n",
       "      <td>другой</td>\n",
       "      <td>0.284182</td>\n",
       "      <td>0.386059</td>\n",
       "    </tr>\n",
       "    <tr>\n",
       "      <td>7</td>\n",
       "      <td>5</td>\n",
       "      <td>7915000.0</td>\n",
       "      <td>71.60</td>\n",
       "      <td>2019-04-18</td>\n",
       "      <td>2</td>\n",
       "      <td>2.65</td>\n",
       "      <td>24.0</td>\n",
       "      <td>34.65</td>\n",
       "      <td>22</td>\n",
       "      <td>False</td>\n",
       "      <td>...</td>\n",
       "      <td>0.0</td>\n",
       "      <td>0.0</td>\n",
       "      <td>0.0</td>\n",
       "      <td>110544</td>\n",
       "      <td>3</td>\n",
       "      <td>4</td>\n",
       "      <td>2019</td>\n",
       "      <td>другой</td>\n",
       "      <td>0.483939</td>\n",
       "      <td>0.263966</td>\n",
       "    </tr>\n",
       "    <tr>\n",
       "      <td>8</td>\n",
       "      <td>20</td>\n",
       "      <td>2900000.0</td>\n",
       "      <td>33.16</td>\n",
       "      <td>2018-05-23</td>\n",
       "      <td>1</td>\n",
       "      <td>2.65</td>\n",
       "      <td>27.0</td>\n",
       "      <td>15.43</td>\n",
       "      <td>26</td>\n",
       "      <td>False</td>\n",
       "      <td>...</td>\n",
       "      <td>0.0</td>\n",
       "      <td>0.0</td>\n",
       "      <td>189.0</td>\n",
       "      <td>87454</td>\n",
       "      <td>2</td>\n",
       "      <td>5</td>\n",
       "      <td>2018</td>\n",
       "      <td>другой</td>\n",
       "      <td>0.465320</td>\n",
       "      <td>0.265682</td>\n",
       "    </tr>\n",
       "    <tr>\n",
       "      <td>9</td>\n",
       "      <td>18</td>\n",
       "      <td>5400000.0</td>\n",
       "      <td>61.00</td>\n",
       "      <td>2017-02-26</td>\n",
       "      <td>3</td>\n",
       "      <td>2.50</td>\n",
       "      <td>9.0</td>\n",
       "      <td>43.60</td>\n",
       "      <td>7</td>\n",
       "      <td>False</td>\n",
       "      <td>...</td>\n",
       "      <td>0.0</td>\n",
       "      <td>0.0</td>\n",
       "      <td>289.0</td>\n",
       "      <td>88524</td>\n",
       "      <td>6</td>\n",
       "      <td>2</td>\n",
       "      <td>2017</td>\n",
       "      <td>другой</td>\n",
       "      <td>0.714754</td>\n",
       "      <td>0.106557</td>\n",
       "    </tr>\n",
       "  </tbody>\n",
       "</table>\n",
       "<p>10 rows × 29 columns</p>\n",
       "</div>"
      ],
      "text/plain": [
       "   total_images  last_price  total_area first_day_exposition  rooms  \\\n",
       "0            20  13000000.0      108.00           2019-03-07      3   \n",
       "1             7   3350000.0       40.40           2018-12-04      1   \n",
       "2            10   5196000.0       56.00           2015-08-20      2   \n",
       "3             0  64900000.0      159.00           2015-07-24      3   \n",
       "4             2  10000000.0      100.00           2018-06-19      2   \n",
       "5            10   2890000.0       30.40           2018-09-10      1   \n",
       "6             6   3700000.0       37.30           2017-11-02      1   \n",
       "7             5   7915000.0       71.60           2019-04-18      2   \n",
       "8            20   2900000.0       33.16           2018-05-23      1   \n",
       "9            18   5400000.0       61.00           2017-02-26      3   \n",
       "\n",
       "   ceiling_height  floors_total  living_area  floor  is_apartment  ...  \\\n",
       "0            2.70          16.0        51.00      8         False  ...   \n",
       "1            2.65          11.0        18.60      1         False  ...   \n",
       "2            2.65           5.0        34.30      4         False  ...   \n",
       "3            2.65          14.0        54.00      9         False  ...   \n",
       "4            3.03          14.0        32.00     13         False  ...   \n",
       "5            2.65          12.0        14.40      5         False  ...   \n",
       "6            2.65          26.0        10.60      6         False  ...   \n",
       "7            2.65          24.0        34.65     22         False  ...   \n",
       "8            2.65          27.0        15.43     26         False  ...   \n",
       "9            2.50           9.0        43.60      7         False  ...   \n",
       "\n",
       "   ponds_around3000  ponds_nearest  days_exposition  price_meter  \\\n",
       "0               2.0          755.0              0.0       120370   \n",
       "1               0.0            0.0             81.0        82920   \n",
       "2               2.0          574.0            558.0        92785   \n",
       "3               3.0          234.0            424.0       408176   \n",
       "4               1.0           48.0            121.0       100000   \n",
       "5               0.0            0.0             55.0        95065   \n",
       "6               0.0            0.0            155.0        99195   \n",
       "7               0.0            0.0              0.0       110544   \n",
       "8               0.0            0.0            189.0        87454   \n",
       "9               0.0            0.0            289.0        88524   \n",
       "\n",
       "  weekday_exposition  month_exposition  year_exposition  floor_category  \\\n",
       "0                  3                 3             2019          другой   \n",
       "1                  1                12             2018          первый   \n",
       "2                  3                 8             2015          другой   \n",
       "3                  4                 7             2015          другой   \n",
       "4                  1                 6             2018          другой   \n",
       "5                  0                 9             2018          другой   \n",
       "6                  3                11             2017          другой   \n",
       "7                  3                 4             2019          другой   \n",
       "8                  2                 5             2018          другой   \n",
       "9                  6                 2             2017          другой   \n",
       "\n",
       "   area_ratio  kitchen_area_ratio  \n",
       "0    0.472222            0.231481  \n",
       "1    0.460396            0.272277  \n",
       "2    0.612500            0.148214  \n",
       "3    0.339623            0.094340  \n",
       "4    0.320000            0.410000  \n",
       "5    0.473684            0.299342  \n",
       "6    0.284182            0.386059  \n",
       "7    0.483939            0.263966  \n",
       "8    0.465320            0.265682  \n",
       "9    0.714754            0.106557  \n",
       "\n",
       "[10 rows x 29 columns]"
      ]
     },
     "execution_count": 25,
     "metadata": {},
     "output_type": "execute_result"
    }
   ],
   "source": [
    "#добавляем соотношение жилой площади к общей и кухни к общей.\n",
    "data['area_ratio'] = data['living_area'] / data['total_area']\n",
    "data['kitchen_area_ratio'] = data['kitchen_area'] / data['total_area']\n",
    "data.head(10)"
   ]
  },
  {
   "cell_type": "markdown",
   "metadata": {},
   "source": [
    "## Исследовательский анализ данных"
   ]
  },
  {
   "cell_type": "markdown",
   "metadata": {},
   "source": [
    "# Изучите следующие параметры: площадь, цена, число комнат, высота потолков. Постройте гистограммы для каждого параметра."
   ]
  },
  {
   "cell_type": "code",
   "execution_count": 26,
   "metadata": {},
   "outputs": [
    {
     "data": {
      "text/plain": [
       "count    23699.000000\n",
       "mean        60.348651\n",
       "std         35.654083\n",
       "min         12.000000\n",
       "25%         40.000000\n",
       "50%         52.000000\n",
       "75%         69.900000\n",
       "max        900.000000\n",
       "Name: total_area, dtype: float64"
      ]
     },
     "execution_count": 26,
     "metadata": {},
     "output_type": "execute_result"
    },
    {
     "data": {
      "image/png": "[encoded data removed]",
      "text/plain": [
       "<Figure size 648x648 with 1 Axes>"
      ]
     },
     "metadata": {
      "needs_background": "light"
     },
     "output_type": "display_data"
    }
   ],
   "source": [
    "data['total_area'].hist(bins = 100, range = (0,1000), figsize=(9,9))\n",
    "data['total_area'].describe()\n",
    "#с данными всё впорядке, есть значения которые сильно выбиваются"
   ]
  },
  {
   "cell_type": "code",
   "execution_count": 27,
   "metadata": {},
   "outputs": [
    {
     "data": {
      "text/plain": [
       "count    2.369900e+04\n",
       "mean     6.541549e+06\n",
       "std      1.088701e+07\n",
       "min      1.219000e+04\n",
       "25%      3.400000e+06\n",
       "50%      4.650000e+06\n",
       "75%      6.800000e+06\n",
       "max      7.630000e+08\n",
       "Name: last_price, dtype: float64"
      ]
     },
     "execution_count": 27,
     "metadata": {},
     "output_type": "execute_result"
    },
    {
     "data": {
      "image/png": "[encoded data removed]",
      "text/plain": [
       "<Figure size 648x648 with 1 Axes>"
      ]
     },
     "metadata": {
      "needs_background": "light"
     },
     "output_type": "display_data"
    }
   ],
   "source": [
    "data['last_price'] = data['last_price'].astype('int') #привидём к целым числам\n",
    "data['last_price'].hist(bins = 100, range = (0,15000000), figsize=(9,9))\n",
    "data['last_price'].describe()\n",
    "#с данными всё впорядке, есть значения которые сильно выбиваются"
   ]
  },
  {
   "cell_type": "code",
   "execution_count": 28,
   "metadata": {},
   "outputs": [
    {
     "data": {
      "text/plain": [
       "count    23699.000000\n",
       "mean         2.724358\n",
       "std          0.988298\n",
       "min          1.000000\n",
       "25%          2.600000\n",
       "50%          2.650000\n",
       "75%          2.700000\n",
       "max        100.000000\n",
       "Name: ceiling_height, dtype: float64"
      ]
     },
     "execution_count": 28,
     "metadata": {},
     "output_type": "execute_result"
    },
    {
     "data": {
      "image/png": "[encoded data removed]",
      "text/plain": [
       "<Figure size 648x648 with 1 Axes>"
      ]
     },
     "metadata": {
      "needs_background": "light"
     },
     "output_type": "display_data"
    }
   ],
   "source": [
    "data['ceiling_height'].hist(bins = 100, range = (0,10), figsize=(9,9))\n",
    "data['ceiling_height'].describe()\n",
    "#с данными всё впорядке, есть значения которые сильно выбиваются, высота 100м или 1м."
   ]
  },
  {
   "cell_type": "markdown",
   "metadata": {},
   "source": [
    "# Изучите время продажи квартиры. Постройте гистограмму. Посчитайте среднее и медиану. Опишите, сколько обычно занимает продажа. Когда можно считать, что продажи прошли очень быстро, а когда необычно долго?"
   ]
  },
  {
   "cell_type": "code",
   "execution_count": 29,
   "metadata": {},
   "outputs": [
    {
     "data": {
      "text/plain": [
       "count    23699.000000\n",
       "mean       156.608844\n",
       "std        213.546873\n",
       "min          0.000000\n",
       "25%         22.000000\n",
       "50%         74.000000\n",
       "75%        199.000000\n",
       "max       1580.000000\n",
       "Name: days_exposition, dtype: float64"
      ]
     },
     "execution_count": 29,
     "metadata": {},
     "output_type": "execute_result"
    },
    {
     "data": {
      "image/png": "[encoded data removed]",
      "text/plain": [
       "<Figure size 648x648 with 1 Axes>"
      ]
     },
     "metadata": {
      "needs_background": "light"
     },
     "output_type": "display_data"
    }
   ],
   "source": [
    "data.plot(y = 'days_exposition', kind = 'hist', bins = 100, grid=True, figsize = (9,9), range = (1,2000))\n",
    "data['days_exposition'].describe() #счтаем нет от 0, т.к. это наши не известные дни продаж"
   ]
  },
  {
   "cell_type": "markdown",
   "metadata": {},
   "source": [
    "В целом, распределение абсолютно нормальное. Видим, что быстрая продажа квартир это в раойне 45 дней и их довольно много. Есть конечно и аномально долгие продажи от 1000 дней, а кто-то продавал аж 1580 дней."
   ]
  },
  {
   "cell_type": "markdown",
   "metadata": {},
   "source": [
    "# Уберите редкие и выбивающиеся значения. Опишите, какие особенности обнаружили."
   ]
  },
  {
   "cell_type": "code",
   "execution_count": 30,
   "metadata": {},
   "outputs": [
    {
     "data": {
      "text/plain": [
       "{'whiskers': [<matplotlib.lines.Line2D at 0x7fd3cbf1a510>,\n",
       "  <matplotlib.lines.Line2D at 0x7fd3cbf1aa90>],\n",
       " 'caps': [<matplotlib.lines.Line2D at 0x7fd3cbf1af90>,\n",
       "  <matplotlib.lines.Line2D at 0x7fd3cbf95910>],\n",
       " 'boxes': [<matplotlib.lines.Line2D at 0x7fd3cbf95790>],\n",
       " 'medians': [<matplotlib.lines.Line2D at 0x7fd3cbf1fa10>],\n",
       " 'fliers': [<matplotlib.lines.Line2D at 0x7fd3cbf1ff10>],\n",
       " 'means': []}"
      ]
     },
     "execution_count": 30,
     "metadata": {},
     "output_type": "execute_result"
    },
    {
     "data": {
      "image/png": "[encoded data removed]",
      "text/plain": [
       "<Figure size 432x288 with 1 Axes>"
      ]
     },
     "metadata": {
      "needs_background": "light"
     },
     "output_type": "display_data"
    }
   ],
   "source": [
    "plt.boxplot(data['days_exposition'])"
   ]
  },
  {
   "cell_type": "markdown",
   "metadata": {},
   "source": [
    "Какие большие усы, посмотрим как измениться гистограмма без них."
   ]
  },
  {
   "cell_type": "code",
   "execution_count": 31,
   "metadata": {},
   "outputs": [
    {
     "data": {
      "text/plain": [
       "<matplotlib.axes._subplots.AxesSubplot at 0x7fd3cbf47f90>"
      ]
     },
     "execution_count": 31,
     "metadata": {},
     "output_type": "execute_result"
    },
    {
     "data": {
      "image/png": "[encoded data removed]",
      "text/plain": [
       "<Figure size 648x648 with 1 Axes>"
      ]
     },
     "metadata": {
      "needs_background": "light"
     },
     "output_type": "display_data"
    }
   ],
   "source": [
    "data['days_exposition'].hist(bins = 30, range = (1,550), figsize=(9,9))"
   ]
  },
  {
   "cell_type": "code",
   "execution_count": 32,
   "metadata": {},
   "outputs": [
    {
     "data": {
      "text/plain": [
       "<matplotlib.axes._subplots.AxesSubplot at 0x7fd3cbe88a10>"
      ]
     },
     "execution_count": 32,
     "metadata": {},
     "output_type": "execute_result"
    },
    {
     "data": {
      "image/png": "[encoded data removed]",
      "text/plain": [
       "<Figure size 648x648 with 1 Axes>"
      ]
     },
     "metadata": {
      "needs_background": "light"
     },
     "output_type": "display_data"
    }
   ],
   "source": [
    "data['days_exposition'].hist(bins = 100, range = (1,250), figsize=(9,9))"
   ]
  },
  {
   "cell_type": "markdown",
   "metadata": {},
   "source": [
    "Вывод:\n",
    "Смотря на гистограмму - мы имеем распределение Пуассона. 45, 60, 90, 95, 7 днях - это наиболее популярное количество дней до снятия объявления, проверив информацию на яндекс.недвижимоть - увидел что данные даты совпадают с автоматическим снятием объявления. Предположительно львиная доля из них это автомат.(инфа:https://yandex.ru/support/realty/owner/home/add-ads-housing.html)"
   ]
  },
  {
   "cell_type": "markdown",
   "metadata": {},
   "source": [
    "Уберем данные значения."
   ]
  },
  {
   "cell_type": "code",
   "execution_count": 33,
   "metadata": {},
   "outputs": [
    {
     "data": {
      "text/plain": [
       "count    18454.000000\n",
       "mean       195.803349\n",
       "std        226.760010\n",
       "min          1.000000\n",
       "25%         44.000000\n",
       "50%        114.000000\n",
       "75%        259.000000\n",
       "max       1580.000000\n",
       "Name: days_exposition, dtype: float64"
      ]
     },
     "execution_count": 33,
     "metadata": {},
     "output_type": "execute_result"
    },
    {
     "data": {
      "image/png": "[encoded data removed]",
      "text/plain": [
       "<Figure size 432x288 with 1 Axes>"
      ]
     },
     "metadata": {
      "needs_background": "light"
     },
     "output_type": "display_data"
    }
   ],
   "source": [
    "data['days_exposition'] = data['days_exposition'].astype('int')\n",
    "good_data = data.query('days_exposition != 45 and days_exposition != 60 and days_exposition != 90 and days_exposition != 7 and days_exposition != 0 and days_exposition != 30')\n",
    "plt.boxplot(good_data['days_exposition'])\n",
    "good_data['days_exposition'].describe()"
   ]
  },
  {
   "cell_type": "code",
   "execution_count": 34,
   "metadata": {},
   "outputs": [
    {
     "data": {
      "text/plain": [
       "<matplotlib.axes._subplots.AxesSubplot at 0x7fd3cbc97a90>"
      ]
     },
     "execution_count": 34,
     "metadata": {},
     "output_type": "execute_result"
    },
    {
     "data": {
      "image/png": "[encoded data removed]",
      "text/plain": [
       "<Figure size 648x648 with 1 Axes>"
      ]
     },
     "metadata": {
      "needs_background": "light"
     },
     "output_type": "display_data"
    }
   ],
   "source": [
    "good_data['days_exposition'].hist(bins = 30, range = (1,550), figsize=(9,9))"
   ]
  },
  {
   "cell_type": "code",
   "execution_count": 35,
   "metadata": {},
   "outputs": [
    {
     "data": {
      "text/plain": [
       "<matplotlib.axes._subplots.AxesSubplot at 0x7fd3cc0ea2d0>"
      ]
     },
     "execution_count": 35,
     "metadata": {},
     "output_type": "execute_result"
    },
    {
     "data": {
      "image/png": "[encoded data removed]",
      "text/plain": [
       "<Figure size 648x648 with 1 Axes>"
      ]
     },
     "metadata": {
      "needs_background": "light"
     },
     "output_type": "display_data"
    }
   ],
   "source": [
    "good_data['days_exposition'].hist(bins = 100, range = (1,250), figsize=(9,9))"
   ]
  },
  {
   "cell_type": "markdown",
   "metadata": {},
   "source": [
    "Произошло хорошее изменение, которое отражает более реальную действительность. Все показатели выросли и картина более приятная глазу."
   ]
  },
  {
   "cell_type": "markdown",
   "metadata": {},
   "source": [
    "# Какие факторы больше всего влияют на стоимость квартиры? Изучите, зависит ли цена от площади, числа комнат, удалённости от центра. Изучите зависимость цены от того, на каком этаже расположена квартира: первом, последнем или другом. Также изучите зависимость от даты размещения: дня недели, месяца и года."
   ]
  },
  {
   "cell_type": "markdown",
   "metadata": {},
   "source": [
    "# Зависит ли цена от площади?"
   ]
  },
  {
   "cell_type": "code",
   "execution_count": 36,
   "metadata": {},
   "outputs": [
    {
     "data": {
      "text/plain": [
       "0.30196014387792547"
      ]
     },
     "execution_count": 36,
     "metadata": {},
     "output_type": "execute_result"
    },
    {
     "data": {
      "image/png": "[encoded data removed]",
      "text/plain": [
       "<Figure size 432x288 with 1 Axes>"
      ]
     },
     "metadata": {
      "needs_background": "light"
     },
     "output_type": "display_data"
    }
   ],
   "source": [
    "pivot_total_area = data.pivot_table(index = 'total_area', values = 'price_meter', aggfunc = ['mean', 'count', 'median'])\n",
    "pivot_total_area.columns = ['mean', 'count', 'median']\n",
    "pivot_total_area.plot(y = 'median', style = 'o')\n",
    "pivot_total_area.sort_values('median', ascending = False)\n",
    "data['total_area'].corr(data['price_meter'])"
   ]
  },
  {
   "cell_type": "markdown",
   "metadata": {},
   "source": [
    "Корреляция 0.3 - зависимость очень слабая. Больше площадь и больше цена за квадратный метр."
   ]
  },
  {
   "cell_type": "markdown",
   "metadata": {},
   "source": [
    "# Зависимость цены от числа комнат?"
   ]
  },
  {
   "cell_type": "code",
   "execution_count": 37,
   "metadata": {},
   "outputs": [
    {
     "data": {
      "text/plain": [
       "0.0554194996705922"
      ]
     },
     "execution_count": 37,
     "metadata": {},
     "output_type": "execute_result"
    },
    {
     "data": {
      "image/png": "[encoded data removed]",
      "text/plain": [
       "<Figure size 432x288 with 1 Axes>"
      ]
     },
     "metadata": {
      "needs_background": "light"
     },
     "output_type": "display_data"
    }
   ],
   "source": [
    "pivot_rooms = data.pivot_table(index = 'rooms', values = 'price_meter', aggfunc = ['mean', 'count', 'median'])\n",
    "pivot_rooms.columns = ['mean', 'count', 'median']\n",
    "pivot_rooms.query('count > 50').plot(y = 'median') #ограничим число, т.к. после 12 комнат не адекватные цифры.\n",
    "pivot_rooms.query('count > 50').sort_values('median', ascending = False)\n",
    "data['rooms'].corr(data['price_meter'])"
   ]
  },
  {
   "cell_type": "markdown",
   "metadata": {},
   "source": [
    "Видим не большую зависимость. При приближении к 3м комнатным квартирам цена падает, а далее снова вверх."
   ]
  },
  {
   "cell_type": "markdown",
   "metadata": {},
   "source": [
    "# Зависимость цены от удалённости от центра."
   ]
  },
  {
   "cell_type": "code",
   "execution_count": 38,
   "metadata": {},
   "outputs": [
    {
     "data": {
      "text/plain": [
       "0.03411969078125625"
      ]
     },
     "execution_count": 38,
     "metadata": {},
     "output_type": "execute_result"
    },
    {
     "data": {
      "image/png": "[encoded data removed]",
      "text/plain": [
       "<Figure size 432x288 with 1 Axes>"
      ]
     },
     "metadata": {
      "needs_background": "light"
     },
     "output_type": "display_data"
    }
   ],
   "source": [
    "data.plot(kind = 'scatter', y = 'price_meter', x = 'cityCenters_nearest', alpha = 0.5,)\n",
    "data['cityCenters_nearest'].corr(data['price_meter'])"
   ]
  },
  {
   "cell_type": "markdown",
   "metadata": {},
   "source": [
    "Видим явную зависимиость. Цена растёт при приближении к центру."
   ]
  },
  {
   "cell_type": "code",
   "execution_count": 46,
   "metadata": {},
   "outputs": [
    {
     "data": {
      "text/html": [
       "<div>\n",
       "<style scoped>\n",
       "    .dataframe tbody tr th:only-of-type {\n",
       "        vertical-align: middle;\n",
       "    }\n",
       "\n",
       "    .dataframe tbody tr th {\n",
       "        vertical-align: top;\n",
       "    }\n",
       "\n",
       "    .dataframe thead th {\n",
       "        text-align: right;\n",
       "    }\n",
       "</style>\n",
       "<table border=\"1\" class=\"dataframe\">\n",
       "  <thead>\n",
       "    <tr style=\"text-align: right;\">\n",
       "      <th></th>\n",
       "      <th>price_meter</th>\n",
       "      <th>last_price</th>\n",
       "      <th>total_area</th>\n",
       "      <th>rooms</th>\n",
       "      <th>cityCenters_nearest</th>\n",
       "    </tr>\n",
       "  </thead>\n",
       "  <tbody>\n",
       "    <tr>\n",
       "      <td>price_meter</td>\n",
       "      <td>1.000000</td>\n",
       "      <td>0.736499</td>\n",
       "      <td>0.301960</td>\n",
       "      <td>0.055419</td>\n",
       "      <td>0.034120</td>\n",
       "    </tr>\n",
       "    <tr>\n",
       "      <td>last_price</td>\n",
       "      <td>0.736499</td>\n",
       "      <td>1.000000</td>\n",
       "      <td>0.653675</td>\n",
       "      <td>0.363343</td>\n",
       "      <td>-0.050952</td>\n",
       "    </tr>\n",
       "    <tr>\n",
       "      <td>total_area</td>\n",
       "      <td>0.301960</td>\n",
       "      <td>0.653675</td>\n",
       "      <td>1.000000</td>\n",
       "      <td>0.758344</td>\n",
       "      <td>-0.076990</td>\n",
       "    </tr>\n",
       "    <tr>\n",
       "      <td>rooms</td>\n",
       "      <td>0.055419</td>\n",
       "      <td>0.363343</td>\n",
       "      <td>0.758344</td>\n",
       "      <td>1.000000</td>\n",
       "      <td>-0.059838</td>\n",
       "    </tr>\n",
       "    <tr>\n",
       "      <td>cityCenters_nearest</td>\n",
       "      <td>0.034120</td>\n",
       "      <td>-0.050952</td>\n",
       "      <td>-0.076990</td>\n",
       "      <td>-0.059838</td>\n",
       "      <td>1.000000</td>\n",
       "    </tr>\n",
       "  </tbody>\n",
       "</table>\n",
       "</div>"
      ],
      "text/plain": [
       "                     price_meter  last_price  total_area     rooms  \\\n",
       "price_meter             1.000000    0.736499    0.301960  0.055419   \n",
       "last_price              0.736499    1.000000    0.653675  0.363343   \n",
       "total_area              0.301960    0.653675    1.000000  0.758344   \n",
       "rooms                   0.055419    0.363343    0.758344  1.000000   \n",
       "cityCenters_nearest     0.034120   -0.050952   -0.076990 -0.059838   \n",
       "\n",
       "                     cityCenters_nearest  \n",
       "price_meter                     0.034120  \n",
       "last_price                     -0.050952  \n",
       "total_area                     -0.076990  \n",
       "rooms                          -0.059838  \n",
       "cityCenters_nearest             1.000000  "
      ]
     },
     "execution_count": 46,
     "metadata": {},
     "output_type": "execute_result"
    }
   ],
   "source": [
    "data[['price_meter', 'last_price', 'total_area', 'rooms', 'cityCenters_nearest']].corr()"
   ]
  },
  {
   "cell_type": "markdown",
   "metadata": {},
   "source": [
    "Очень странная цифры, если зависимость цены к различным показателям мы видим явно на графиках, то корреляция показывает совсем обратное. "
   ]
  },
  {
   "cell_type": "code",
   "execution_count": null,
   "metadata": {},
   "outputs": [],
   "source": [
    "#проверьте мой вывод. это к \n",
    "#1) построить корреляцию для нужных параметров\n",
    "\n",
    "#df[['last_price', 'price_per_area', 'total_area', 'rooms', 'cityCenters_nearest']].corr()\n",
    "\n",
    "#2) интерпретировать получившийся коэффициент"
   ]
  },
  {
   "cell_type": "markdown",
   "metadata": {},
   "source": [
    "# Зависимость цены от квадратного метра от этажа (первого или последнего)."
   ]
  },
  {
   "cell_type": "code",
   "execution_count": 39,
   "metadata": {},
   "outputs": [
    {
     "data": {
      "text/html": [
       "<div>\n",
       "<style scoped>\n",
       "    .dataframe tbody tr th:only-of-type {\n",
       "        vertical-align: middle;\n",
       "    }\n",
       "\n",
       "    .dataframe tbody tr th {\n",
       "        vertical-align: top;\n",
       "    }\n",
       "\n",
       "    .dataframe thead th {\n",
       "        text-align: right;\n",
       "    }\n",
       "</style>\n",
       "<table border=\"1\" class=\"dataframe\">\n",
       "  <thead>\n",
       "    <tr style=\"text-align: right;\">\n",
       "      <th></th>\n",
       "      <th>mean</th>\n",
       "      <th>count</th>\n",
       "      <th>median</th>\n",
       "    </tr>\n",
       "    <tr>\n",
       "      <th>floor_category</th>\n",
       "      <th></th>\n",
       "      <th></th>\n",
       "      <th></th>\n",
       "    </tr>\n",
       "  </thead>\n",
       "  <tbody>\n",
       "    <tr>\n",
       "      <td>первый</td>\n",
       "      <td>81983.111759</td>\n",
       "      <td>2917</td>\n",
       "      <td>81223</td>\n",
       "    </tr>\n",
       "    <tr>\n",
       "      <td>последний</td>\n",
       "      <td>93420.276048</td>\n",
       "      <td>3340</td>\n",
       "      <td>87774</td>\n",
       "    </tr>\n",
       "  </tbody>\n",
       "</table>\n",
       "</div>"
      ],
      "text/plain": [
       "                        mean  count  median\n",
       "floor_category                             \n",
       "первый          81983.111759   2917   81223\n",
       "последний       93420.276048   3340   87774"
      ]
     },
     "execution_count": 39,
     "metadata": {},
     "output_type": "execute_result"
    },
    {
     "data": {
      "image/png": "[encoded data removed]",
      "text/plain": [
       "<Figure size 432x288 with 1 Axes>"
      ]
     },
     "metadata": {
      "needs_background": "light"
     },
     "output_type": "display_data"
    }
   ],
   "source": [
    "pivot_floor_category = data.query('floor_category != \"другой\"').pivot_table(index = 'floor_category', values = 'price_meter', aggfunc = ['mean', 'count', 'median'])\n",
    "pivot_floor_category.columns = ['mean', 'count', 'median']\n",
    "pivot_floor_category.plot(y = 'median')\n",
    "pivot_floor_category"
   ]
  },
  {
   "cell_type": "markdown",
   "metadata": {},
   "source": [
    "Есть зависимость цены от первого и последнего этажа, что первый всегда дешевше."
   ]
  },
  {
   "cell_type": "markdown",
   "metadata": {},
   "source": [
    "# Зависимость от даты размещения: дня недели, месяца и года."
   ]
  },
  {
   "cell_type": "code",
   "execution_count": 40,
   "metadata": {},
   "outputs": [
    {
     "data": {
      "text/html": [
       "<div>\n",
       "<style scoped>\n",
       "    .dataframe tbody tr th:only-of-type {\n",
       "        vertical-align: middle;\n",
       "    }\n",
       "\n",
       "    .dataframe tbody tr th {\n",
       "        vertical-align: top;\n",
       "    }\n",
       "\n",
       "    .dataframe thead th {\n",
       "        text-align: right;\n",
       "    }\n",
       "</style>\n",
       "<table border=\"1\" class=\"dataframe\">\n",
       "  <thead>\n",
       "    <tr style=\"text-align: right;\">\n",
       "      <th></th>\n",
       "      <th>mean</th>\n",
       "      <th>count</th>\n",
       "      <th>median</th>\n",
       "    </tr>\n",
       "    <tr>\n",
       "      <th>weekday_exposition</th>\n",
       "      <th></th>\n",
       "      <th></th>\n",
       "      <th></th>\n",
       "    </tr>\n",
       "  </thead>\n",
       "  <tbody>\n",
       "    <tr>\n",
       "      <td>1</td>\n",
       "      <td>99734.089410</td>\n",
       "      <td>4183</td>\n",
       "      <td>95634.0</td>\n",
       "    </tr>\n",
       "    <tr>\n",
       "      <td>2</td>\n",
       "      <td>99616.731002</td>\n",
       "      <td>3974</td>\n",
       "      <td>95473.0</td>\n",
       "    </tr>\n",
       "    <tr>\n",
       "      <td>3</td>\n",
       "      <td>100162.466356</td>\n",
       "      <td>4295</td>\n",
       "      <td>95143.0</td>\n",
       "    </tr>\n",
       "    <tr>\n",
       "      <td>0</td>\n",
       "      <td>99437.994463</td>\n",
       "      <td>3612</td>\n",
       "      <td>94688.0</td>\n",
       "    </tr>\n",
       "    <tr>\n",
       "      <td>4</td>\n",
       "      <td>99011.697000</td>\n",
       "      <td>4000</td>\n",
       "      <td>94616.0</td>\n",
       "    </tr>\n",
       "    <tr>\n",
       "      <td>6</td>\n",
       "      <td>97707.917010</td>\n",
       "      <td>1699</td>\n",
       "      <td>94501.0</td>\n",
       "    </tr>\n",
       "    <tr>\n",
       "      <td>5</td>\n",
       "      <td>99017.722107</td>\n",
       "      <td>1936</td>\n",
       "      <td>93545.5</td>\n",
       "    </tr>\n",
       "  </tbody>\n",
       "</table>\n",
       "</div>"
      ],
      "text/plain": [
       "                             mean  count   median\n",
       "weekday_exposition                               \n",
       "1                    99734.089410   4183  95634.0\n",
       "2                    99616.731002   3974  95473.0\n",
       "3                   100162.466356   4295  95143.0\n",
       "0                    99437.994463   3612  94688.0\n",
       "4                    99011.697000   4000  94616.0\n",
       "6                    97707.917010   1699  94501.0\n",
       "5                    99017.722107   1936  93545.5"
      ]
     },
     "execution_count": 40,
     "metadata": {},
     "output_type": "execute_result"
    },
    {
     "data": {
      "image/png": "[encoded data removed]",
      "text/plain": [
       "<Figure size 432x288 with 1 Axes>"
      ]
     },
     "metadata": {
      "needs_background": "light"
     },
     "output_type": "display_data"
    }
   ],
   "source": [
    "pivote_weekday_exposition = data.pivot_table(index = 'weekday_exposition', values = 'price_meter', aggfunc = ['mean', 'count', 'median'])\n",
    "pivote_weekday_exposition.columns = ['mean', 'count', 'median']\n",
    "pivote_weekday_exposition.plot(y = 'median')\n",
    "pivote_weekday_exposition.sort_values('median', ascending = False)"
   ]
  },
  {
   "cell_type": "markdown",
   "metadata": {},
   "source": [
    "Разница настолько маленькая, что не имеет никакого значения. Но видно, что в будни объявление выкладывают чаще."
   ]
  },
  {
   "cell_type": "code",
   "execution_count": 41,
   "metadata": {},
   "outputs": [
    {
     "data": {
      "text/html": [
       "<div>\n",
       "<style scoped>\n",
       "    .dataframe tbody tr th:only-of-type {\n",
       "        vertical-align: middle;\n",
       "    }\n",
       "\n",
       "    .dataframe tbody tr th {\n",
       "        vertical-align: top;\n",
       "    }\n",
       "\n",
       "    .dataframe thead th {\n",
       "        text-align: right;\n",
       "    }\n",
       "</style>\n",
       "<table border=\"1\" class=\"dataframe\">\n",
       "  <thead>\n",
       "    <tr style=\"text-align: right;\">\n",
       "      <th></th>\n",
       "      <th>mean</th>\n",
       "      <th>count</th>\n",
       "      <th>median</th>\n",
       "    </tr>\n",
       "    <tr>\n",
       "      <th>month_exposition</th>\n",
       "      <th></th>\n",
       "      <th></th>\n",
       "      <th></th>\n",
       "    </tr>\n",
       "  </thead>\n",
       "  <tbody>\n",
       "    <tr>\n",
       "      <td>4</td>\n",
       "      <td>101948.567045</td>\n",
       "      <td>2379</td>\n",
       "      <td>96451</td>\n",
       "    </tr>\n",
       "    <tr>\n",
       "      <td>8</td>\n",
       "      <td>100110.094037</td>\n",
       "      <td>1744</td>\n",
       "      <td>96026</td>\n",
       "    </tr>\n",
       "    <tr>\n",
       "      <td>9</td>\n",
       "      <td>100463.814740</td>\n",
       "      <td>1981</td>\n",
       "      <td>95607</td>\n",
       "    </tr>\n",
       "    <tr>\n",
       "      <td>11</td>\n",
       "      <td>99230.427246</td>\n",
       "      <td>2371</td>\n",
       "      <td>95588</td>\n",
       "    </tr>\n",
       "    <tr>\n",
       "      <td>3</td>\n",
       "      <td>98972.768844</td>\n",
       "      <td>2587</td>\n",
       "      <td>95238</td>\n",
       "    </tr>\n",
       "    <tr>\n",
       "      <td>1</td>\n",
       "      <td>99862.139333</td>\n",
       "      <td>1500</td>\n",
       "      <td>95222</td>\n",
       "    </tr>\n",
       "    <tr>\n",
       "      <td>2</td>\n",
       "      <td>98768.292045</td>\n",
       "      <td>2640</td>\n",
       "      <td>95000</td>\n",
       "    </tr>\n",
       "    <tr>\n",
       "      <td>7</td>\n",
       "      <td>99625.190560</td>\n",
       "      <td>1695</td>\n",
       "      <td>95000</td>\n",
       "    </tr>\n",
       "    <tr>\n",
       "      <td>12</td>\n",
       "      <td>99574.280926</td>\n",
       "      <td>1641</td>\n",
       "      <td>94262</td>\n",
       "    </tr>\n",
       "    <tr>\n",
       "      <td>10</td>\n",
       "      <td>97933.448049</td>\n",
       "      <td>2127</td>\n",
       "      <td>94202</td>\n",
       "    </tr>\n",
       "    <tr>\n",
       "      <td>5</td>\n",
       "      <td>98543.340659</td>\n",
       "      <td>1274</td>\n",
       "      <td>92857</td>\n",
       "    </tr>\n",
       "    <tr>\n",
       "      <td>6</td>\n",
       "      <td>97762.870455</td>\n",
       "      <td>1760</td>\n",
       "      <td>92799</td>\n",
       "    </tr>\n",
       "  </tbody>\n",
       "</table>\n",
       "</div>"
      ],
      "text/plain": [
       "                           mean  count  median\n",
       "month_exposition                              \n",
       "4                 101948.567045   2379   96451\n",
       "8                 100110.094037   1744   96026\n",
       "9                 100463.814740   1981   95607\n",
       "11                 99230.427246   2371   95588\n",
       "3                  98972.768844   2587   95238\n",
       "1                  99862.139333   1500   95222\n",
       "2                  98768.292045   2640   95000\n",
       "7                  99625.190560   1695   95000\n",
       "12                 99574.280926   1641   94262\n",
       "10                 97933.448049   2127   94202\n",
       "5                  98543.340659   1274   92857\n",
       "6                  97762.870455   1760   92799"
      ]
     },
     "execution_count": 41,
     "metadata": {},
     "output_type": "execute_result"
    },
    {
     "data": {
      "image/png": "[encoded data removed]",
      "text/plain": [
       "<Figure size 432x288 with 1 Axes>"
      ]
     },
     "metadata": {
      "needs_background": "light"
     },
     "output_type": "display_data"
    }
   ],
   "source": [
    "pivote_month_exposition = data.pivot_table(index = 'month_exposition', values = 'price_meter', aggfunc = ['mean', 'count', 'median'])\n",
    "pivote_month_exposition.columns = ['mean', 'count', 'median']\n",
    "pivote_month_exposition.plot(y = 'median')\n",
    "pivote_month_exposition.sort_values('median', ascending = False)"
   ]
  },
  {
   "cell_type": "markdown",
   "metadata": {},
   "source": [
    "Здесь видна зависимоть от сезона, в летний и зимний период кол-во и цена снижается."
   ]
  },
  {
   "cell_type": "code",
   "execution_count": 42,
   "metadata": {},
   "outputs": [
    {
     "data": {
      "text/html": [
       "<div>\n",
       "<style scoped>\n",
       "    .dataframe tbody tr th:only-of-type {\n",
       "        vertical-align: middle;\n",
       "    }\n",
       "\n",
       "    .dataframe tbody tr th {\n",
       "        vertical-align: top;\n",
       "    }\n",
       "\n",
       "    .dataframe thead th {\n",
       "        text-align: right;\n",
       "    }\n",
       "</style>\n",
       "<table border=\"1\" class=\"dataframe\">\n",
       "  <thead>\n",
       "    <tr style=\"text-align: right;\">\n",
       "      <th></th>\n",
       "      <th>mean</th>\n",
       "      <th>count</th>\n",
       "      <th>median</th>\n",
       "    </tr>\n",
       "    <tr>\n",
       "      <th>year_exposition</th>\n",
       "      <th></th>\n",
       "      <th></th>\n",
       "      <th></th>\n",
       "    </tr>\n",
       "  </thead>\n",
       "  <tbody>\n",
       "    <tr>\n",
       "      <td>2014</td>\n",
       "      <td>124830.000000</td>\n",
       "      <td>137</td>\n",
       "      <td>107000.0</td>\n",
       "    </tr>\n",
       "    <tr>\n",
       "      <td>2019</td>\n",
       "      <td>107123.332060</td>\n",
       "      <td>2879</td>\n",
       "      <td>103305.0</td>\n",
       "    </tr>\n",
       "    <tr>\n",
       "      <td>2018</td>\n",
       "      <td>97773.107290</td>\n",
       "      <td>8519</td>\n",
       "      <td>95689.0</td>\n",
       "    </tr>\n",
       "    <tr>\n",
       "      <td>2015</td>\n",
       "      <td>104613.756507</td>\n",
       "      <td>1191</td>\n",
       "      <td>93414.0</td>\n",
       "    </tr>\n",
       "    <tr>\n",
       "      <td>2017</td>\n",
       "      <td>97621.434188</td>\n",
       "      <td>8190</td>\n",
       "      <td>92564.5</td>\n",
       "    </tr>\n",
       "    <tr>\n",
       "      <td>2016</td>\n",
       "      <td>98321.900467</td>\n",
       "      <td>2783</td>\n",
       "      <td>91743.0</td>\n",
       "    </tr>\n",
       "  </tbody>\n",
       "</table>\n",
       "</div>"
      ],
      "text/plain": [
       "                          mean  count    median\n",
       "year_exposition                                \n",
       "2014             124830.000000    137  107000.0\n",
       "2019             107123.332060   2879  103305.0\n",
       "2018              97773.107290   8519   95689.0\n",
       "2015             104613.756507   1191   93414.0\n",
       "2017              97621.434188   8190   92564.5\n",
       "2016              98321.900467   2783   91743.0"
      ]
     },
     "execution_count": 42,
     "metadata": {},
     "output_type": "execute_result"
    },
    {
     "data": {
      "image/png": "[encoded data removed]",
      "text/plain": [
       "<Figure size 432x288 with 1 Axes>"
      ]
     },
     "metadata": {
      "needs_background": "light"
     },
     "output_type": "display_data"
    }
   ],
   "source": [
    "pivote_year_exposition = data.pivot_table(index = 'year_exposition', values = 'price_meter', aggfunc = ['mean', 'count', 'median'])\n",
    "pivote_year_exposition.columns = ['mean', 'count', 'median']\n",
    "pivote_year_exposition.plot(y = 'median')\n",
    "pivote_year_exposition.sort_values('median', ascending = False)"
   ]
  },
  {
   "cell_type": "markdown",
   "metadata": {},
   "source": [
    "С 2014 по начало 2017 года видим кризис на рынке. Соответственно зависимость цены от года так же имеется."
   ]
  },
  {
   "cell_type": "markdown",
   "metadata": {},
   "source": [
    "# Выберите 10 населённых пунктов с наибольшим числом объявлений. Посчитайте среднюю цену квадратного метра в этих населённых пунктах. Выделите населённые пункты с самой высокой и низкой стоимостью жилья. Эти данные можно найти по имени в столбце locality_name."
   ]
  },
  {
   "cell_type": "code",
   "execution_count": null,
   "metadata": {},
   "outputs": [],
   "source": [
    "locality_table = data.pivot_table(index = 'locality_name', values = 'price_meter', aggfunc=['count', 'mean'])\n",
    "locality_table.columns = ['count', 'mean']\n",
    "locality_table = locality_table.sort_values('count', ascending = False).head(10)\n",
    "#самая высокая стоимость\n",
    "locality_table[locality_table['mean']==locality_table['mean'].max()]\n"
   ]
  },
  {
   "cell_type": "code",
   "execution_count": null,
   "metadata": {},
   "outputs": [],
   "source": [
    "#самая низкая стоимость\n",
    "locality_table[locality_table['mean']==locality_table['mean'].min()]"
   ]
  },
  {
   "cell_type": "markdown",
   "metadata": {},
   "source": [
    "Самая высокая стоимость и с большим кол-вом объявления в Санкт-Петербурге, а низкой в Выборге."
   ]
  },
  {
   "cell_type": "markdown",
   "metadata": {},
   "source": [
    "# Изучите предложения квартир: для каждой квартиры есть информация о расстоянии до центра. Выделите квартиры в Санкт-Петербурге (locality_name). Ваша задача — выяснить, какая область входит в центр. Создайте столбец с расстоянием до центра в километрах: округлите до целых значений. После этого посчитайте среднюю цену для каждого километра. Постройте график: он должен показывать, как цена зависит от удалённости от центра. Определите границу, где график сильно меняется, — это и будет центральная зона."
   ]
  },
  {
   "cell_type": "code",
   "execution_count": null,
   "metadata": {},
   "outputs": [],
   "source": [
    "data['cityCenters_nearest_km'] = data['cityCenters_nearest']/1000\n",
    "data['cityCenters_nearest_km'] = data['cityCenters_nearest_km'].astype('int')\n",
    "pivot_km = data.query('locality_name == \"Санкт-Петербург\" and cityCenters_nearest_km !=-0.001').pivot_table(index = 'cityCenters_nearest_km', values = 'price_meter', aggfunc = 'mean')\n",
    "pivot_km.plot()\n",
    "pivot_km"
   ]
  },
  {
   "cell_type": "markdown",
   "metadata": {},
   "source": [
    "По графику я бы выделил центр до 3х км, но по цене выделил бы до 7км.Но по условиям, где график сильно меняется, — это и будет центральная зона."
   ]
  },
  {
   "cell_type": "markdown",
   "metadata": {},
   "source": [
    "# Выделите сегмент квартир в центре. Проанализируйте эту территорию и изучите следующие параметры: площадь, цена, число комнат, высота потолков. Также выделите факторы, которые влияют на стоимость квартиры (число комнат, этаж, удалённость от центра, дата размещения объявления). Сделайте выводы. Отличаются ли они от общих выводов по всей базе?"
   ]
  },
  {
   "cell_type": "code",
   "execution_count": null,
   "metadata": {},
   "outputs": [],
   "source": [
    "#выделим квартиры в центре, беря за радиус 3 км\n",
    "spb_data = data.query('cityCenters_nearest_km <= 3 and locality_name == \"Санкт-Петербург\"')"
   ]
  },
  {
   "cell_type": "markdown",
   "metadata": {},
   "source": [
    "# Зависимость стоимости квадратного метра от количества комнат."
   ]
  },
  {
   "cell_type": "code",
   "execution_count": null,
   "metadata": {},
   "outputs": [],
   "source": [
    "spb_rooms = spb_data.pivot_table(index = 'rooms', values = 'price_meter', aggfunc = ['mean', 'count', 'median'])\n",
    "spb_rooms.columns = ['mean', 'count', 'median']\n",
    "spb_rooms.query('count > 50').plot(y = 'median')\n",
    "spb_rooms.query('count > 50').sort_values('median', ascending = False)\n",
    "spb_data['rooms'].corr(spb_data['price_meter'])"
   ]
  },
  {
   "cell_type": "markdown",
   "metadata": {},
   "source": [
    "# Есть ли зависимость стоимости квадратного метра от этажа?"
   ]
  },
  {
   "cell_type": "code",
   "execution_count": null,
   "metadata": {},
   "outputs": [],
   "source": [
    "spb_floor_category = spb_data.query('floor_category != \"другой\"').pivot_table(index = 'floor_category', values = 'price_meter', aggfunc = ['mean', 'count', 'median'])\n",
    "spb_floor_category.columns = ['mean', 'count', 'median']\n",
    "spb_floor_category.plot(y = 'median')\n",
    "spb_floor_category"
   ]
  },
  {
   "cell_type": "markdown",
   "metadata": {},
   "source": [
    "Как и ожидалось тут никаких изменений. В целом первый этаж в любой локации стоит дешевле."
   ]
  },
  {
   "cell_type": "markdown",
   "metadata": {},
   "source": [
    "# Есть ли зависимость стоимости квадратного метра от удалённость от центра?"
   ]
  },
  {
   "cell_type": "code",
   "execution_count": null,
   "metadata": {},
   "outputs": [],
   "source": [
    "spb_data.plot(kind = 'scatter', y = 'price_meter', x = 'cityCenters_nearest', alpha = 0.3)\n",
    "spb_data['cityCenters_nearest'].corr(spb_data['price_meter'])"
   ]
  },
  {
   "cell_type": "markdown",
   "metadata": {},
   "source": [
    "Учитывая, что это центр зависимости уже нет."
   ]
  },
  {
   "cell_type": "markdown",
   "metadata": {},
   "source": [
    "# Есть ли зависимость стоимости квадратного метра от даты размещения?"
   ]
  },
  {
   "cell_type": "code",
   "execution_count": null,
   "metadata": {},
   "outputs": [],
   "source": [
    "spb_weekday_exposition = spb_data.pivot_table(index = 'weekday_exposition', values = 'price_meter', aggfunc = ['mean', 'count', 'median'])\n",
    "spb_weekday_exposition.columns = ['mean', 'count', 'median']\n",
    "spb_weekday_exposition.plot(y = 'median')\n",
    "spb_weekday_exposition.sort_values('median', ascending = False)"
   ]
  },
  {
   "cell_type": "markdown",
   "metadata": {},
   "source": [
    "Интересный факт - квартиры в пн и сб особенно дорогие. "
   ]
  },
  {
   "cell_type": "code",
   "execution_count": null,
   "metadata": {},
   "outputs": [],
   "source": [
    "spb_month_exposition = spb_data.pivot_table(index = 'month_exposition', values = 'price_meter', aggfunc = ['mean', 'count', 'median'])\n",
    "spb_month_exposition.columns = ['mean', 'count', 'median']\n",
    "spb_month_exposition.plot(y = 'median')\n",
    "spb_month_exposition.sort_values('median', ascending = False)"
   ]
  },
  {
   "cell_type": "markdown",
   "metadata": {},
   "source": [
    "о_О, В центре особенно дорогие квартиры стали в декабре, но такая же ситуация в не сезон (летом)"
   ]
  },
  {
   "cell_type": "code",
   "execution_count": null,
   "metadata": {},
   "outputs": [],
   "source": [
    "spb_year_exposition = spb_data.pivot_table(index = 'year_exposition', values = 'price_meter', aggfunc = ['mean', 'count', 'median'])\n",
    "spb_year_exposition.columns = ['mean', 'count', 'median']\n",
    "spb_year_exposition.query('count > 50').plot(y = 'median')\n",
    "spb_year_exposition.query('count > 50').sort_values('median', ascending = False)"
   ]
  },
  {
   "cell_type": "markdown",
   "metadata": {},
   "source": [
    "А вот кризис на центральные квартиры никак не повлиял, они стабильно идут вверх."
   ]
  },
  {
   "cell_type": "markdown",
   "metadata": {},
   "source": [
    "## Общий вывод"
   ]
  },
  {
   "cell_type": "markdown",
   "metadata": {},
   "source": [
    "Была проведена обширная работа по обработке архивных данных - заменили, удалили пропущенные значения, заменил тип данных для удобства просмотра или в тех случаях где методы не могли их обработать. Добавлены новые столбцы по годам,месяцам,дням и категории квартир по этажам.Даже при помощи коллег была взята дополнительная информация со стороннего источника, которая очень пригодилась в данной работе. На основе всех данных начали выполнять поставленные задачи.\n",
    "По имеющимся даннам провел аналитику показателей и пришел к выводу, что в целом рынок был на спаде в приоды с 2014 по начало 2017, но Санкт-Петербурга это не коснулось, возможно если делать детальный срез по каждому населенному пункту мы бы увидили другую картину, но это другая история. "
   ]
  },
  {
   "cell_type": "code",
   "execution_count": null,
   "metadata": {},
   "outputs": [],
   "source": []
  }
 ],
 "metadata": {
  "ExecuteTimeLog": [
   {
    "duration": 440,
    "start_time": "2022-02-15T08:11:52.954Z"
   },
   {
    "duration": 379,
    "start_time": "2022-02-15T08:11:59.743Z"
   },
   {
    "duration": 164,
    "start_time": "2022-02-15T08:13:20.636Z"
   },
   {
    "duration": 623,
    "start_time": "2022-02-15T08:13:33.676Z"
   },
   {
    "duration": 376,
    "start_time": "2022-02-15T08:13:53.316Z"
   },
   {
    "duration": 362,
    "start_time": "2022-02-15T08:14:01.907Z"
   },
   {
    "duration": 55,
    "start_time": "2022-02-15T08:14:06.206Z"
   },
   {
    "duration": 58,
    "start_time": "2022-02-15T08:14:17.459Z"
   },
   {
    "duration": 98,
    "start_time": "2022-02-15T08:20:01.788Z"
   },
   {
    "duration": 346,
    "start_time": "2022-02-15T08:21:48.971Z"
   },
   {
    "duration": 354,
    "start_time": "2022-02-15T08:23:15.163Z"
   },
   {
    "duration": 64,
    "start_time": "2022-02-15T08:23:24.244Z"
   },
   {
    "duration": 10,
    "start_time": "2022-02-15T08:23:53.835Z"
   },
   {
    "duration": 76,
    "start_time": "2022-02-15T08:28:21.678Z"
   },
   {
    "duration": 19,
    "start_time": "2022-02-15T08:28:40.988Z"
   },
   {
    "duration": 152,
    "start_time": "2022-02-15T08:45:24.475Z"
   },
   {
    "duration": 21,
    "start_time": "2022-02-15T08:45:24.629Z"
   },
   {
    "duration": 10,
    "start_time": "2022-02-15T08:45:24.652Z"
   },
   {
    "duration": 62,
    "start_time": "2022-02-15T08:45:24.664Z"
   },
   {
    "duration": 8,
    "start_time": "2022-02-15T08:48:54.204Z"
   },
   {
    "duration": 3,
    "start_time": "2022-02-15T09:01:26.360Z"
   },
   {
    "duration": 109,
    "start_time": "2022-02-15T10:10:36.498Z"
   },
   {
    "duration": 52,
    "start_time": "2022-02-15T10:10:55.604Z"
   },
   {
    "duration": 5,
    "start_time": "2022-02-15T10:12:03.963Z"
   },
   {
    "duration": 22,
    "start_time": "2022-02-15T10:12:14.066Z"
   },
   {
    "duration": 35,
    "start_time": "2022-02-15T10:12:18.690Z"
   },
   {
    "duration": 4,
    "start_time": "2022-02-15T10:12:35.971Z"
   },
   {
    "duration": 4,
    "start_time": "2022-02-15T10:13:17.722Z"
   },
   {
    "duration": 12,
    "start_time": "2022-02-15T10:15:03.145Z"
   },
   {
    "duration": 16,
    "start_time": "2022-02-15T10:15:36.417Z"
   },
   {
    "duration": 12,
    "start_time": "2022-02-15T10:15:51.034Z"
   },
   {
    "duration": 12,
    "start_time": "2022-02-15T10:16:01.483Z"
   },
   {
    "duration": 12,
    "start_time": "2022-02-15T10:16:19.386Z"
   },
   {
    "duration": 12,
    "start_time": "2022-02-15T10:16:32.714Z"
   },
   {
    "duration": 13,
    "start_time": "2022-02-15T10:16:46.066Z"
   },
   {
    "duration": 53,
    "start_time": "2022-02-15T10:16:53.777Z"
   },
   {
    "duration": 750,
    "start_time": "2022-02-15T10:47:30.986Z"
   },
   {
    "duration": 18,
    "start_time": "2022-02-15T10:47:31.737Z"
   },
   {
    "duration": 8,
    "start_time": "2022-02-15T10:47:31.757Z"
   },
   {
    "duration": 78,
    "start_time": "2022-02-15T10:47:31.767Z"
   },
   {
    "duration": 7,
    "start_time": "2022-02-15T10:47:31.846Z"
   },
   {
    "duration": 5,
    "start_time": "2022-02-15T10:47:31.854Z"
   },
   {
    "duration": 6,
    "start_time": "2022-02-15T10:50:04.018Z"
   },
   {
    "duration": 16,
    "start_time": "2022-02-15T10:51:57.586Z"
   },
   {
    "duration": 15,
    "start_time": "2022-02-15T10:52:38.842Z"
   },
   {
    "duration": 5,
    "start_time": "2022-02-15T11:06:55.624Z"
   },
   {
    "duration": 10,
    "start_time": "2022-02-15T11:07:03.058Z"
   },
   {
    "duration": 8,
    "start_time": "2022-02-15T11:11:36.603Z"
   },
   {
    "duration": 222,
    "start_time": "2022-02-15T11:11:59.011Z"
   },
   {
    "duration": 6,
    "start_time": "2022-02-15T11:19:21.953Z"
   },
   {
    "duration": 6,
    "start_time": "2022-02-15T11:19:34.232Z"
   },
   {
    "duration": 32,
    "start_time": "2022-02-15T11:30:30.195Z"
   },
   {
    "duration": 8,
    "start_time": "2022-02-15T11:30:41.259Z"
   },
   {
    "duration": 7,
    "start_time": "2022-02-15T11:31:10.524Z"
   },
   {
    "duration": 5,
    "start_time": "2022-02-15T11:32:58.083Z"
   },
   {
    "duration": 4,
    "start_time": "2022-02-15T11:33:04.811Z"
   },
   {
    "duration": 7,
    "start_time": "2022-02-15T11:33:29.050Z"
   },
   {
    "duration": 148,
    "start_time": "2022-02-15T11:33:36.052Z"
   },
   {
    "duration": 103,
    "start_time": "2022-02-15T11:33:41.102Z"
   },
   {
    "duration": 106,
    "start_time": "2022-02-15T11:33:45.156Z"
   },
   {
    "duration": 8,
    "start_time": "2022-02-15T11:42:58.692Z"
   },
   {
    "duration": 9,
    "start_time": "2022-02-15T11:43:09.788Z"
   },
   {
    "duration": 9,
    "start_time": "2022-02-15T11:43:20.363Z"
   },
   {
    "duration": 9,
    "start_time": "2022-02-15T11:43:53.067Z"
   },
   {
    "duration": 4,
    "start_time": "2022-02-15T11:44:39.454Z"
   },
   {
    "duration": 98,
    "start_time": "2022-02-15T11:45:59.714Z"
   },
   {
    "duration": 11,
    "start_time": "2022-02-15T11:46:12.764Z"
   },
   {
    "duration": 4,
    "start_time": "2022-02-15T11:51:22.074Z"
   },
   {
    "duration": 8,
    "start_time": "2022-02-15T11:51:37.162Z"
   },
   {
    "duration": 3,
    "start_time": "2022-02-15T11:52:36.697Z"
   },
   {
    "duration": 6,
    "start_time": "2022-02-15T11:54:22.264Z"
   },
   {
    "duration": 331,
    "start_time": "2022-02-15T11:55:35.082Z"
   },
   {
    "duration": 230,
    "start_time": "2022-02-15T11:55:41.066Z"
   },
   {
    "duration": 8,
    "start_time": "2022-02-15T11:55:44.194Z"
   },
   {
    "duration": 7,
    "start_time": "2022-02-15T11:56:29.272Z"
   },
   {
    "duration": 5,
    "start_time": "2022-02-15T11:56:39.264Z"
   },
   {
    "duration": 10,
    "start_time": "2022-02-15T11:56:41.761Z"
   },
   {
    "duration": 8,
    "start_time": "2022-02-15T11:57:32.459Z"
   },
   {
    "duration": 8,
    "start_time": "2022-02-15T11:57:40.320Z"
   },
   {
    "duration": 6,
    "start_time": "2022-02-15T11:58:09.857Z"
   },
   {
    "duration": 380,
    "start_time": "2022-02-15T12:00:03.872Z"
   },
   {
    "duration": 78,
    "start_time": "2022-02-15T12:00:07.555Z"
   },
   {
    "duration": 22,
    "start_time": "2022-02-15T12:00:07.636Z"
   },
   {
    "duration": 12,
    "start_time": "2022-02-15T12:00:07.661Z"
   },
   {
    "duration": 8,
    "start_time": "2022-02-15T12:00:07.674Z"
   },
   {
    "duration": 6,
    "start_time": "2022-02-15T12:00:07.683Z"
   },
   {
    "duration": 241,
    "start_time": "2022-02-15T12:00:07.690Z"
   },
   {
    "duration": 8,
    "start_time": "2022-02-15T12:00:07.936Z"
   },
   {
    "duration": 7,
    "start_time": "2022-02-15T12:00:07.946Z"
   },
   {
    "duration": 10,
    "start_time": "2022-02-15T12:00:07.954Z"
   },
   {
    "duration": 351,
    "start_time": "2022-02-15T12:00:24.449Z"
   },
   {
    "duration": 80,
    "start_time": "2022-02-15T12:00:28.370Z"
   },
   {
    "duration": 25,
    "start_time": "2022-02-15T12:00:28.452Z"
   },
   {
    "duration": 9,
    "start_time": "2022-02-15T12:00:28.480Z"
   },
   {
    "duration": 14,
    "start_time": "2022-02-15T12:00:28.491Z"
   },
   {
    "duration": 5,
    "start_time": "2022-02-15T12:00:28.507Z"
   },
   {
    "duration": 231,
    "start_time": "2022-02-15T12:00:28.532Z"
   },
   {
    "duration": 10,
    "start_time": "2022-02-15T12:00:28.765Z"
   },
   {
    "duration": 4,
    "start_time": "2022-02-15T12:00:28.777Z"
   },
   {
    "duration": 5,
    "start_time": "2022-02-15T12:00:28.782Z"
   },
   {
    "duration": 30,
    "start_time": "2022-02-15T12:02:02.688Z"
   },
   {
    "duration": 330,
    "start_time": "2022-02-15T12:11:05.121Z"
   },
   {
    "duration": 330,
    "start_time": "2022-02-15T12:11:33.809Z"
   },
   {
    "duration": 337,
    "start_time": "2022-02-15T12:11:36.730Z"
   },
   {
    "duration": 73,
    "start_time": "2022-02-15T12:11:40.050Z"
   },
   {
    "duration": 62,
    "start_time": "2022-02-15T12:11:40.125Z"
   },
   {
    "duration": 10,
    "start_time": "2022-02-15T12:11:40.189Z"
   },
   {
    "duration": 6,
    "start_time": "2022-02-15T12:11:40.201Z"
   },
   {
    "duration": 4,
    "start_time": "2022-02-15T12:11:40.209Z"
   },
   {
    "duration": 219,
    "start_time": "2022-02-15T12:11:40.215Z"
   },
   {
    "duration": 8,
    "start_time": "2022-02-15T12:11:40.436Z"
   },
   {
    "duration": 1320,
    "start_time": "2022-02-15T12:11:40.446Z"
   },
   {
    "duration": -6094,
    "start_time": "2022-02-15T12:11:47.862Z"
   },
   {
    "duration": 14,
    "start_time": "2022-02-15T12:12:18.545Z"
   },
   {
    "duration": 14,
    "start_time": "2022-02-15T12:12:53.624Z"
   },
   {
    "duration": 10,
    "start_time": "2022-02-15T12:13:34.312Z"
   },
   {
    "duration": 19,
    "start_time": "2022-02-15T12:15:12.129Z"
   },
   {
    "duration": 15,
    "start_time": "2022-02-15T12:15:36.872Z"
   },
   {
    "duration": 82,
    "start_time": "2022-02-15T12:15:40.547Z"
   },
   {
    "duration": 23,
    "start_time": "2022-02-15T12:15:40.630Z"
   },
   {
    "duration": 9,
    "start_time": "2022-02-15T12:15:40.655Z"
   },
   {
    "duration": 6,
    "start_time": "2022-02-15T12:15:40.665Z"
   },
   {
    "duration": 7,
    "start_time": "2022-02-15T12:15:40.673Z"
   },
   {
    "duration": 216,
    "start_time": "2022-02-15T12:15:40.681Z"
   },
   {
    "duration": 8,
    "start_time": "2022-02-15T12:15:40.898Z"
   },
   {
    "duration": 26,
    "start_time": "2022-02-15T12:15:40.907Z"
   },
   {
    "duration": 32,
    "start_time": "2022-02-15T12:15:40.936Z"
   },
   {
    "duration": 17,
    "start_time": "2022-02-15T12:17:02.177Z"
   },
   {
    "duration": 75,
    "start_time": "2022-02-15T12:17:06.444Z"
   },
   {
    "duration": 19,
    "start_time": "2022-02-15T12:17:06.521Z"
   },
   {
    "duration": 10,
    "start_time": "2022-02-15T12:17:06.542Z"
   },
   {
    "duration": 9,
    "start_time": "2022-02-15T12:17:06.555Z"
   },
   {
    "duration": 4,
    "start_time": "2022-02-15T12:17:06.566Z"
   },
   {
    "duration": 209,
    "start_time": "2022-02-15T12:17:06.572Z"
   },
   {
    "duration": 7,
    "start_time": "2022-02-15T12:17:06.783Z"
   },
   {
    "duration": 15,
    "start_time": "2022-02-15T12:17:06.792Z"
   },
   {
    "duration": 59,
    "start_time": "2022-02-15T12:17:06.809Z"
   },
   {
    "duration": 87,
    "start_time": "2022-02-15T12:17:23.932Z"
   },
   {
    "duration": 25,
    "start_time": "2022-02-15T12:17:24.021Z"
   },
   {
    "duration": 14,
    "start_time": "2022-02-15T12:17:24.048Z"
   },
   {
    "duration": 8,
    "start_time": "2022-02-15T12:17:24.064Z"
   },
   {
    "duration": 5,
    "start_time": "2022-02-15T12:17:24.073Z"
   },
   {
    "duration": 243,
    "start_time": "2022-02-15T12:17:24.079Z"
   },
   {
    "duration": 10,
    "start_time": "2022-02-15T12:17:24.332Z"
   },
   {
    "duration": 49,
    "start_time": "2022-02-15T12:17:24.345Z"
   },
   {
    "duration": 60,
    "start_time": "2022-02-15T12:17:24.396Z"
   },
   {
    "duration": 78,
    "start_time": "2022-02-15T12:20:21.662Z"
   },
   {
    "duration": 21,
    "start_time": "2022-02-15T12:20:21.742Z"
   },
   {
    "duration": 10,
    "start_time": "2022-02-15T12:20:21.765Z"
   },
   {
    "duration": 7,
    "start_time": "2022-02-15T12:20:21.776Z"
   },
   {
    "duration": 4,
    "start_time": "2022-02-15T12:20:21.785Z"
   },
   {
    "duration": 226,
    "start_time": "2022-02-15T12:20:21.791Z"
   },
   {
    "duration": 17,
    "start_time": "2022-02-15T12:20:22.019Z"
   },
   {
    "duration": 4,
    "start_time": "2022-02-15T12:20:22.037Z"
   },
   {
    "duration": 40,
    "start_time": "2022-02-15T12:20:22.043Z"
   },
   {
    "duration": 7,
    "start_time": "2022-02-15T12:28:38.009Z"
   },
   {
    "duration": 6,
    "start_time": "2022-02-15T12:29:22.106Z"
   },
   {
    "duration": 9,
    "start_time": "2022-02-15T12:29:43.874Z"
   },
   {
    "duration": 9,
    "start_time": "2022-02-15T12:30:01.257Z"
   },
   {
    "duration": 31,
    "start_time": "2022-02-15T12:30:30.801Z"
   },
   {
    "duration": 11,
    "start_time": "2022-02-15T12:34:37.786Z"
   },
   {
    "duration": 11,
    "start_time": "2022-02-15T12:35:08.477Z"
   },
   {
    "duration": 5,
    "start_time": "2022-02-15T12:35:34.689Z"
   },
   {
    "duration": 335,
    "start_time": "2022-02-15T12:37:20.106Z"
   },
   {
    "duration": 38,
    "start_time": "2022-02-15T12:38:27.195Z"
   },
   {
    "duration": 85,
    "start_time": "2022-02-15T12:38:33.353Z"
   },
   {
    "duration": 23,
    "start_time": "2022-02-15T12:38:33.440Z"
   },
   {
    "duration": 10,
    "start_time": "2022-02-15T12:38:33.465Z"
   },
   {
    "duration": 8,
    "start_time": "2022-02-15T12:38:33.477Z"
   },
   {
    "duration": 6,
    "start_time": "2022-02-15T12:38:33.487Z"
   },
   {
    "duration": 234,
    "start_time": "2022-02-15T12:38:33.494Z"
   },
   {
    "duration": 11,
    "start_time": "2022-02-15T12:38:33.730Z"
   },
   {
    "duration": 5,
    "start_time": "2022-02-15T12:38:33.744Z"
   },
   {
    "duration": 35,
    "start_time": "2022-02-15T12:38:33.751Z"
   },
   {
    "duration": 4,
    "start_time": "2022-02-15T12:38:33.788Z"
   },
   {
    "duration": 40,
    "start_time": "2022-02-15T12:38:33.793Z"
   },
   {
    "duration": 36,
    "start_time": "2022-02-15T12:38:33.835Z"
   },
   {
    "duration": 6,
    "start_time": "2022-02-15T12:39:19.352Z"
   },
   {
    "duration": 9,
    "start_time": "2022-02-15T12:39:54.882Z"
   },
   {
    "duration": 306,
    "start_time": "2022-02-15T13:37:58.230Z"
   },
   {
    "duration": 834,
    "start_time": "2022-02-15T13:38:05.359Z"
   },
   {
    "duration": 27,
    "start_time": "2022-02-15T13:38:06.196Z"
   },
   {
    "duration": 14,
    "start_time": "2022-02-15T13:38:06.226Z"
   },
   {
    "duration": 35,
    "start_time": "2022-02-15T13:38:06.242Z"
   },
   {
    "duration": 7,
    "start_time": "2022-02-15T13:38:06.279Z"
   },
   {
    "duration": 283,
    "start_time": "2022-02-15T13:38:06.288Z"
   },
   {
    "duration": 10,
    "start_time": "2022-02-15T13:38:06.573Z"
   },
   {
    "duration": 5,
    "start_time": "2022-02-15T13:38:06.585Z"
   },
   {
    "duration": 37,
    "start_time": "2022-02-15T13:38:06.592Z"
   },
   {
    "duration": 6,
    "start_time": "2022-02-15T13:38:06.631Z"
   },
   {
    "duration": 13,
    "start_time": "2022-02-15T13:38:06.670Z"
   },
   {
    "duration": 13,
    "start_time": "2022-02-15T13:38:06.686Z"
   },
   {
    "duration": 8,
    "start_time": "2022-02-15T13:38:06.701Z"
   },
   {
    "duration": 287,
    "start_time": "2022-02-15T13:39:52.381Z"
   },
   {
    "duration": 41,
    "start_time": "2022-02-15T13:40:13.693Z"
   },
   {
    "duration": 7,
    "start_time": "2022-02-15T13:40:49.190Z"
   },
   {
    "duration": 8,
    "start_time": "2022-02-15T13:41:01.637Z"
   },
   {
    "duration": 8,
    "start_time": "2022-02-15T13:43:53.893Z"
   },
   {
    "duration": 102,
    "start_time": "2022-02-15T13:45:07.297Z"
   },
   {
    "duration": 28,
    "start_time": "2022-02-15T13:45:07.401Z"
   },
   {
    "duration": 13,
    "start_time": "2022-02-15T13:45:07.432Z"
   },
   {
    "duration": 28,
    "start_time": "2022-02-15T13:45:07.448Z"
   },
   {
    "duration": 7,
    "start_time": "2022-02-15T13:45:07.479Z"
   },
   {
    "duration": 282,
    "start_time": "2022-02-15T13:45:07.488Z"
   },
   {
    "duration": 11,
    "start_time": "2022-02-15T13:45:07.772Z"
   },
   {
    "duration": 6,
    "start_time": "2022-02-15T13:45:07.787Z"
   },
   {
    "duration": 42,
    "start_time": "2022-02-15T13:45:07.795Z"
   },
   {
    "duration": 34,
    "start_time": "2022-02-15T13:45:07.840Z"
   },
   {
    "duration": 17,
    "start_time": "2022-02-15T13:45:07.876Z"
   },
   {
    "duration": 10,
    "start_time": "2022-02-15T13:45:07.895Z"
   },
   {
    "duration": 8,
    "start_time": "2022-02-15T13:45:07.907Z"
   },
   {
    "duration": 10,
    "start_time": "2022-02-15T13:45:19.869Z"
   },
   {
    "duration": 98,
    "start_time": "2022-02-15T13:45:59.193Z"
   },
   {
    "duration": 23,
    "start_time": "2022-02-15T13:45:59.293Z"
   },
   {
    "duration": 12,
    "start_time": "2022-02-15T13:45:59.318Z"
   },
   {
    "duration": 8,
    "start_time": "2022-02-15T13:45:59.332Z"
   },
   {
    "duration": 31,
    "start_time": "2022-02-15T13:45:59.342Z"
   },
   {
    "duration": 258,
    "start_time": "2022-02-15T13:45:59.374Z"
   },
   {
    "duration": 9,
    "start_time": "2022-02-15T13:45:59.634Z"
   },
   {
    "duration": 11,
    "start_time": "2022-02-15T13:45:59.646Z"
   },
   {
    "duration": 39,
    "start_time": "2022-02-15T13:45:59.669Z"
   },
   {
    "duration": 5,
    "start_time": "2022-02-15T13:45:59.710Z"
   },
   {
    "duration": 13,
    "start_time": "2022-02-15T13:45:59.717Z"
   },
   {
    "duration": 9,
    "start_time": "2022-02-15T13:45:59.732Z"
   },
   {
    "duration": 33,
    "start_time": "2022-02-15T13:45:59.743Z"
   },
   {
    "duration": 15,
    "start_time": "2022-02-15T13:46:33.892Z"
   },
   {
    "duration": 9,
    "start_time": "2022-02-15T13:46:37.006Z"
   },
   {
    "duration": 89,
    "start_time": "2022-02-15T13:47:13.474Z"
   },
   {
    "duration": 24,
    "start_time": "2022-02-15T13:47:13.565Z"
   },
   {
    "duration": 60,
    "start_time": "2022-02-15T13:47:13.591Z"
   },
   {
    "duration": 22,
    "start_time": "2022-02-15T13:47:13.653Z"
   },
   {
    "duration": 5,
    "start_time": "2022-02-15T13:47:13.677Z"
   },
   {
    "duration": 277,
    "start_time": "2022-02-15T13:47:13.684Z"
   },
   {
    "duration": 14,
    "start_time": "2022-02-15T13:47:13.963Z"
   },
   {
    "duration": 5,
    "start_time": "2022-02-15T13:47:13.979Z"
   },
   {
    "duration": 39,
    "start_time": "2022-02-15T13:47:13.986Z"
   },
   {
    "duration": 5,
    "start_time": "2022-02-15T13:47:14.027Z"
   },
   {
    "duration": 39,
    "start_time": "2022-02-15T13:47:14.034Z"
   },
   {
    "duration": 10,
    "start_time": "2022-02-15T13:47:14.075Z"
   },
   {
    "duration": 7,
    "start_time": "2022-02-15T13:47:14.087Z"
   },
   {
    "duration": 252,
    "start_time": "2022-02-15T13:54:02.733Z"
   },
   {
    "duration": 258,
    "start_time": "2022-02-15T13:54:17.768Z"
   },
   {
    "duration": 103,
    "start_time": "2022-02-15T13:54:46.780Z"
   },
   {
    "duration": 25,
    "start_time": "2022-02-15T13:54:46.885Z"
   },
   {
    "duration": 21,
    "start_time": "2022-02-15T13:54:46.912Z"
   },
   {
    "duration": 17,
    "start_time": "2022-02-15T13:54:46.935Z"
   },
   {
    "duration": 17,
    "start_time": "2022-02-15T13:54:46.953Z"
   },
   {
    "duration": 264,
    "start_time": "2022-02-15T13:54:46.971Z"
   },
   {
    "duration": 9,
    "start_time": "2022-02-15T13:54:47.236Z"
   },
   {
    "duration": 17,
    "start_time": "2022-02-15T13:54:47.247Z"
   },
   {
    "duration": 55,
    "start_time": "2022-02-15T13:54:47.266Z"
   },
   {
    "duration": 5,
    "start_time": "2022-02-15T13:54:47.322Z"
   },
   {
    "duration": 27,
    "start_time": "2022-02-15T13:54:47.329Z"
   },
   {
    "duration": 18,
    "start_time": "2022-02-15T13:54:47.358Z"
   },
   {
    "duration": 22,
    "start_time": "2022-02-15T13:54:47.378Z"
   },
   {
    "duration": 273,
    "start_time": "2022-02-15T13:54:47.401Z"
   },
   {
    "duration": -36,
    "start_time": "2022-02-15T13:54:47.712Z"
   },
   {
    "duration": 9,
    "start_time": "2022-02-15T13:56:04.822Z"
   },
   {
    "duration": 8,
    "start_time": "2022-02-15T13:56:07.429Z"
   },
   {
    "duration": 31,
    "start_time": "2022-02-15T13:56:45.606Z"
   },
   {
    "duration": 13,
    "start_time": "2022-02-15T13:57:19.374Z"
   },
   {
    "duration": 8,
    "start_time": "2022-02-15T13:57:21.934Z"
   },
   {
    "duration": 35,
    "start_time": "2022-02-15T13:57:24.679Z"
   },
   {
    "duration": 5,
    "start_time": "2022-02-15T13:58:23.518Z"
   },
   {
    "duration": 7,
    "start_time": "2022-02-15T13:58:30.503Z"
   },
   {
    "duration": 9,
    "start_time": "2022-02-15T14:05:52.301Z"
   },
   {
    "duration": 31,
    "start_time": "2022-02-15T14:05:55.128Z"
   },
   {
    "duration": 101,
    "start_time": "2022-02-15T14:06:19.062Z"
   },
   {
    "duration": 26,
    "start_time": "2022-02-15T14:06:19.165Z"
   },
   {
    "duration": 13,
    "start_time": "2022-02-15T14:06:19.193Z"
   },
   {
    "duration": 8,
    "start_time": "2022-02-15T14:06:19.208Z"
   },
   {
    "duration": 7,
    "start_time": "2022-02-15T14:06:19.217Z"
   },
   {
    "duration": 294,
    "start_time": "2022-02-15T14:06:19.226Z"
   },
   {
    "duration": 10,
    "start_time": "2022-02-15T14:06:19.521Z"
   },
   {
    "duration": 4,
    "start_time": "2022-02-15T14:06:19.533Z"
   },
   {
    "duration": 61,
    "start_time": "2022-02-15T14:06:19.540Z"
   },
   {
    "duration": 5,
    "start_time": "2022-02-15T14:06:19.604Z"
   },
   {
    "duration": 16,
    "start_time": "2022-02-15T14:06:19.611Z"
   },
   {
    "duration": 12,
    "start_time": "2022-02-15T14:06:19.629Z"
   },
   {
    "duration": 26,
    "start_time": "2022-02-15T14:06:19.643Z"
   },
   {
    "duration": 5,
    "start_time": "2022-02-15T14:06:19.671Z"
   },
   {
    "duration": 12,
    "start_time": "2022-02-15T14:06:19.678Z"
   },
   {
    "duration": 11,
    "start_time": "2022-02-15T14:06:19.692Z"
   },
   {
    "duration": 66,
    "start_time": "2022-02-15T14:06:19.705Z"
   },
   {
    "duration": 8,
    "start_time": "2022-02-15T14:06:48.879Z"
   },
   {
    "duration": 95,
    "start_time": "2022-02-15T14:10:48.296Z"
   },
   {
    "duration": 22,
    "start_time": "2022-02-15T14:10:48.393Z"
   },
   {
    "duration": 10,
    "start_time": "2022-02-15T14:10:48.417Z"
   },
   {
    "duration": 9,
    "start_time": "2022-02-15T14:10:48.429Z"
   },
   {
    "duration": 5,
    "start_time": "2022-02-15T14:10:48.440Z"
   },
   {
    "duration": 251,
    "start_time": "2022-02-15T14:10:48.468Z"
   },
   {
    "duration": 8,
    "start_time": "2022-02-15T14:10:48.721Z"
   },
   {
    "duration": 4,
    "start_time": "2022-02-15T14:10:48.732Z"
   },
   {
    "duration": 51,
    "start_time": "2022-02-15T14:10:48.738Z"
   },
   {
    "duration": 4,
    "start_time": "2022-02-15T14:10:48.791Z"
   },
   {
    "duration": 15,
    "start_time": "2022-02-15T14:10:48.797Z"
   },
   {
    "duration": 10,
    "start_time": "2022-02-15T14:10:48.814Z"
   },
   {
    "duration": 8,
    "start_time": "2022-02-15T14:10:48.825Z"
   },
   {
    "duration": 6,
    "start_time": "2022-02-15T14:10:48.835Z"
   },
   {
    "duration": 8,
    "start_time": "2022-02-15T14:10:48.870Z"
   },
   {
    "duration": 8,
    "start_time": "2022-02-15T14:10:48.880Z"
   },
   {
    "duration": 32,
    "start_time": "2022-02-15T14:10:48.890Z"
   },
   {
    "duration": 14,
    "start_time": "2022-02-15T14:10:48.923Z"
   },
   {
    "duration": 9,
    "start_time": "2022-02-15T14:20:13.009Z"
   },
   {
    "duration": 1571,
    "start_time": "2022-02-15T14:20:39.082Z"
   },
   {
    "duration": 259,
    "start_time": "2022-02-15T14:26:11.145Z"
   },
   {
    "duration": 100,
    "start_time": "2022-02-15T14:26:48.052Z"
   },
   {
    "duration": 32,
    "start_time": "2022-02-15T14:26:48.155Z"
   },
   {
    "duration": 21,
    "start_time": "2022-02-15T14:26:48.190Z"
   },
   {
    "duration": 13,
    "start_time": "2022-02-15T14:26:48.214Z"
   },
   {
    "duration": 15,
    "start_time": "2022-02-15T14:26:48.229Z"
   },
   {
    "duration": 287,
    "start_time": "2022-02-15T14:26:48.246Z"
   },
   {
    "duration": 10,
    "start_time": "2022-02-15T14:26:48.535Z"
   },
   {
    "duration": 4,
    "start_time": "2022-02-15T14:26:48.547Z"
   },
   {
    "duration": 50,
    "start_time": "2022-02-15T14:26:48.553Z"
   },
   {
    "duration": 5,
    "start_time": "2022-02-15T14:26:48.605Z"
   },
   {
    "duration": 14,
    "start_time": "2022-02-15T14:26:48.612Z"
   },
   {
    "duration": 11,
    "start_time": "2022-02-15T14:26:48.627Z"
   },
   {
    "duration": 35,
    "start_time": "2022-02-15T14:26:48.639Z"
   },
   {
    "duration": 5,
    "start_time": "2022-02-15T14:26:48.676Z"
   },
   {
    "duration": 9,
    "start_time": "2022-02-15T14:26:48.683Z"
   },
   {
    "duration": 302,
    "start_time": "2022-02-15T14:26:48.694Z"
   },
   {
    "duration": -24,
    "start_time": "2022-02-15T14:26:49.022Z"
   },
   {
    "duration": -37,
    "start_time": "2022-02-15T14:26:49.036Z"
   },
   {
    "duration": 274,
    "start_time": "2022-02-15T14:46:37.208Z"
   },
   {
    "duration": 254,
    "start_time": "2022-02-15T14:47:15.922Z"
   },
   {
    "duration": 8,
    "start_time": "2022-02-15T14:55:08.952Z"
   },
   {
    "duration": 13,
    "start_time": "2022-02-15T14:55:08.962Z"
   },
   {
    "duration": 263,
    "start_time": "2022-02-15T15:14:02.227Z"
   },
   {
    "duration": 8,
    "start_time": "2022-02-15T15:14:11.826Z"
   },
   {
    "duration": 269,
    "start_time": "2022-02-15T15:29:38.833Z"
   },
   {
    "duration": 264,
    "start_time": "2022-02-15T15:29:51.745Z"
   },
   {
    "duration": 11,
    "start_time": "2022-02-15T15:30:21.866Z"
   },
   {
    "duration": 4,
    "start_time": "2022-02-15T15:31:41.458Z"
   },
   {
    "duration": 8,
    "start_time": "2022-02-15T15:34:43.857Z"
   },
   {
    "duration": 91,
    "start_time": "2022-02-15T15:35:07.334Z"
   },
   {
    "duration": 25,
    "start_time": "2022-02-15T15:35:07.427Z"
   },
   {
    "duration": 12,
    "start_time": "2022-02-15T15:35:07.468Z"
   },
   {
    "duration": 10,
    "start_time": "2022-02-15T15:35:07.483Z"
   },
   {
    "duration": 7,
    "start_time": "2022-02-15T15:35:07.495Z"
   },
   {
    "duration": 288,
    "start_time": "2022-02-15T15:35:07.504Z"
   },
   {
    "duration": 11,
    "start_time": "2022-02-15T15:35:07.794Z"
   },
   {
    "duration": 6,
    "start_time": "2022-02-15T15:35:07.808Z"
   },
   {
    "duration": 63,
    "start_time": "2022-02-15T15:35:07.817Z"
   },
   {
    "duration": 6,
    "start_time": "2022-02-15T15:35:07.882Z"
   },
   {
    "duration": 14,
    "start_time": "2022-02-15T15:35:07.890Z"
   },
   {
    "duration": 13,
    "start_time": "2022-02-15T15:35:07.906Z"
   },
   {
    "duration": 10,
    "start_time": "2022-02-15T15:35:07.921Z"
   },
   {
    "duration": 41,
    "start_time": "2022-02-15T15:35:07.933Z"
   },
   {
    "duration": 11,
    "start_time": "2022-02-15T15:35:07.976Z"
   },
   {
    "duration": 12,
    "start_time": "2022-02-15T15:35:07.989Z"
   },
   {
    "duration": 10,
    "start_time": "2022-02-15T15:35:55.298Z"
   },
   {
    "duration": 12,
    "start_time": "2022-02-15T15:35:57.417Z"
   },
   {
    "duration": 10,
    "start_time": "2022-02-15T15:42:12.362Z"
   },
   {
    "duration": 99,
    "start_time": "2022-02-15T16:33:47.207Z"
   },
   {
    "duration": 25,
    "start_time": "2022-02-15T16:33:47.307Z"
   },
   {
    "duration": 14,
    "start_time": "2022-02-15T16:33:47.334Z"
   },
   {
    "duration": 24,
    "start_time": "2022-02-15T16:33:47.350Z"
   },
   {
    "duration": 6,
    "start_time": "2022-02-15T16:33:47.375Z"
   },
   {
    "duration": 261,
    "start_time": "2022-02-15T16:33:47.383Z"
   },
   {
    "duration": 10,
    "start_time": "2022-02-15T16:33:47.645Z"
   },
   {
    "duration": 14,
    "start_time": "2022-02-15T16:33:47.657Z"
   },
   {
    "duration": 38,
    "start_time": "2022-02-15T16:33:47.673Z"
   },
   {
    "duration": 6,
    "start_time": "2022-02-15T16:33:47.713Z"
   },
   {
    "duration": 17,
    "start_time": "2022-02-15T16:33:47.721Z"
   },
   {
    "duration": 37,
    "start_time": "2022-02-15T16:33:47.740Z"
   },
   {
    "duration": 7,
    "start_time": "2022-02-15T16:33:47.779Z"
   },
   {
    "duration": 6,
    "start_time": "2022-02-15T16:33:47.788Z"
   },
   {
    "duration": 12,
    "start_time": "2022-02-15T16:33:47.796Z"
   },
   {
    "duration": 11,
    "start_time": "2022-02-15T16:33:47.809Z"
   },
   {
    "duration": 11,
    "start_time": "2022-02-15T16:33:47.822Z"
   },
   {
    "duration": 34,
    "start_time": "2022-02-15T16:33:47.835Z"
   },
   {
    "duration": 91,
    "start_time": "2022-02-15T16:33:47.871Z"
   },
   {
    "duration": 19,
    "start_time": "2022-02-15T16:34:19.051Z"
   },
   {
    "duration": 34,
    "start_time": "2022-02-15T16:34:30.024Z"
   },
   {
    "duration": 280,
    "start_time": "2022-02-15T16:49:15.536Z"
   },
   {
    "duration": 272,
    "start_time": "2022-02-15T16:49:26.495Z"
   },
   {
    "duration": 15,
    "start_time": "2022-02-15T16:50:07.079Z"
   },
   {
    "duration": 10,
    "start_time": "2022-02-15T16:51:32.536Z"
   },
   {
    "duration": 13,
    "start_time": "2022-02-15T16:53:35.973Z"
   },
   {
    "duration": 101,
    "start_time": "2022-02-15T16:54:03.523Z"
   },
   {
    "duration": 25,
    "start_time": "2022-02-15T16:54:03.625Z"
   },
   {
    "duration": 13,
    "start_time": "2022-02-15T16:54:03.670Z"
   },
   {
    "duration": 20,
    "start_time": "2022-02-15T16:54:03.686Z"
   },
   {
    "duration": 23,
    "start_time": "2022-02-15T16:54:03.708Z"
   },
   {
    "duration": 271,
    "start_time": "2022-02-15T16:54:03.733Z"
   },
   {
    "duration": 12,
    "start_time": "2022-02-15T16:54:04.007Z"
   },
   {
    "duration": 6,
    "start_time": "2022-02-15T16:54:04.021Z"
   },
   {
    "duration": 78,
    "start_time": "2022-02-15T16:54:04.030Z"
   },
   {
    "duration": 7,
    "start_time": "2022-02-15T16:54:04.110Z"
   },
   {
    "duration": 18,
    "start_time": "2022-02-15T16:54:04.119Z"
   },
   {
    "duration": 37,
    "start_time": "2022-02-15T16:54:04.139Z"
   },
   {
    "duration": 11,
    "start_time": "2022-02-15T16:54:04.178Z"
   },
   {
    "duration": 7,
    "start_time": "2022-02-15T16:54:04.191Z"
   },
   {
    "duration": 13,
    "start_time": "2022-02-15T16:54:04.200Z"
   },
   {
    "duration": 21,
    "start_time": "2022-02-15T16:54:04.215Z"
   },
   {
    "duration": 32,
    "start_time": "2022-02-15T16:54:04.239Z"
   },
   {
    "duration": 14,
    "start_time": "2022-02-15T16:54:04.273Z"
   },
   {
    "duration": 51,
    "start_time": "2022-02-15T16:54:04.289Z"
   },
   {
    "duration": 93,
    "start_time": "2022-02-15T16:54:04.343Z"
   },
   {
    "duration": 8,
    "start_time": "2022-02-15T16:54:35.687Z"
   },
   {
    "duration": 11,
    "start_time": "2022-02-15T16:54:58.243Z"
   },
   {
    "duration": 8,
    "start_time": "2022-02-15T16:55:10.459Z"
   },
   {
    "duration": 86,
    "start_time": "2022-02-15T16:55:21.361Z"
   },
   {
    "duration": 34,
    "start_time": "2022-02-15T16:55:21.449Z"
   },
   {
    "duration": 11,
    "start_time": "2022-02-15T16:55:21.486Z"
   },
   {
    "duration": 9,
    "start_time": "2022-02-15T16:55:21.499Z"
   },
   {
    "duration": 5,
    "start_time": "2022-02-15T16:55:21.510Z"
   },
   {
    "duration": 280,
    "start_time": "2022-02-15T16:55:21.517Z"
   },
   {
    "duration": 10,
    "start_time": "2022-02-15T16:55:21.799Z"
   },
   {
    "duration": 4,
    "start_time": "2022-02-15T16:55:21.811Z"
   },
   {
    "duration": 55,
    "start_time": "2022-02-15T16:55:21.818Z"
   },
   {
    "duration": 5,
    "start_time": "2022-02-15T16:55:21.875Z"
   },
   {
    "duration": 15,
    "start_time": "2022-02-15T16:55:21.882Z"
   },
   {
    "duration": 10,
    "start_time": "2022-02-15T16:55:21.898Z"
   },
   {
    "duration": 7,
    "start_time": "2022-02-15T16:55:21.910Z"
   },
   {
    "duration": 4,
    "start_time": "2022-02-15T16:55:21.919Z"
   },
   {
    "duration": 9,
    "start_time": "2022-02-15T16:55:21.925Z"
   },
   {
    "duration": 43,
    "start_time": "2022-02-15T16:55:21.935Z"
   },
   {
    "duration": 8,
    "start_time": "2022-02-15T16:55:21.980Z"
   },
   {
    "duration": 9,
    "start_time": "2022-02-15T16:55:21.990Z"
   },
   {
    "duration": 83,
    "start_time": "2022-02-15T16:55:22.001Z"
   },
   {
    "duration": 87,
    "start_time": "2022-02-15T16:55:40.521Z"
   },
   {
    "duration": 23,
    "start_time": "2022-02-15T16:55:40.610Z"
   },
   {
    "duration": 15,
    "start_time": "2022-02-15T16:55:40.635Z"
   },
   {
    "duration": 21,
    "start_time": "2022-02-15T16:55:40.652Z"
   },
   {
    "duration": 6,
    "start_time": "2022-02-15T16:55:40.675Z"
   },
   {
    "duration": 268,
    "start_time": "2022-02-15T16:55:40.683Z"
   },
   {
    "duration": 19,
    "start_time": "2022-02-15T16:55:40.953Z"
   },
   {
    "duration": 5,
    "start_time": "2022-02-15T16:55:40.974Z"
   },
   {
    "duration": 42,
    "start_time": "2022-02-15T16:55:40.982Z"
   },
   {
    "duration": 5,
    "start_time": "2022-02-15T16:55:41.026Z"
   },
   {
    "duration": 18,
    "start_time": "2022-02-15T16:55:41.033Z"
   },
   {
    "duration": 12,
    "start_time": "2022-02-15T16:55:41.070Z"
   },
   {
    "duration": 10,
    "start_time": "2022-02-15T16:55:41.084Z"
   },
   {
    "duration": 5,
    "start_time": "2022-02-15T16:55:41.096Z"
   },
   {
    "duration": 8,
    "start_time": "2022-02-15T16:55:41.104Z"
   },
   {
    "duration": 11,
    "start_time": "2022-02-15T16:55:41.115Z"
   },
   {
    "duration": 47,
    "start_time": "2022-02-15T16:55:41.129Z"
   },
   {
    "duration": 9,
    "start_time": "2022-02-15T16:55:41.178Z"
   },
   {
    "duration": 130,
    "start_time": "2022-02-15T16:55:41.189Z"
   },
   {
    "duration": 12,
    "start_time": "2022-02-15T16:56:56.007Z"
   },
   {
    "duration": 7,
    "start_time": "2022-02-15T16:56:59.647Z"
   },
   {
    "duration": 8,
    "start_time": "2022-02-15T16:57:29.900Z"
   },
   {
    "duration": 8,
    "start_time": "2022-02-15T16:57:32.750Z"
   },
   {
    "duration": 317,
    "start_time": "2022-02-16T08:03:05.729Z"
   },
   {
    "duration": 726,
    "start_time": "2022-02-16T08:03:12.009Z"
   },
   {
    "duration": 23,
    "start_time": "2022-02-16T08:03:12.737Z"
   },
   {
    "duration": 11,
    "start_time": "2022-02-16T08:03:12.769Z"
   },
   {
    "duration": 7,
    "start_time": "2022-02-16T08:03:12.782Z"
   },
   {
    "duration": 7,
    "start_time": "2022-02-16T08:03:12.791Z"
   },
   {
    "duration": 284,
    "start_time": "2022-02-16T08:03:12.800Z"
   },
   {
    "duration": 10,
    "start_time": "2022-02-16T08:03:13.085Z"
   },
   {
    "duration": 4,
    "start_time": "2022-02-16T08:03:13.096Z"
   },
   {
    "duration": 37,
    "start_time": "2022-02-16T08:03:13.103Z"
   },
   {
    "duration": 27,
    "start_time": "2022-02-16T08:03:13.142Z"
   },
   {
    "duration": 13,
    "start_time": "2022-02-16T08:03:13.171Z"
   },
   {
    "duration": 10,
    "start_time": "2022-02-16T08:03:13.186Z"
   },
   {
    "duration": 8,
    "start_time": "2022-02-16T08:03:13.198Z"
   },
   {
    "duration": 6,
    "start_time": "2022-02-16T08:03:13.208Z"
   },
   {
    "duration": 9,
    "start_time": "2022-02-16T08:03:13.216Z"
   },
   {
    "duration": 7,
    "start_time": "2022-02-16T08:03:13.227Z"
   },
   {
    "duration": 39,
    "start_time": "2022-02-16T08:03:13.236Z"
   },
   {
    "duration": 11,
    "start_time": "2022-02-16T08:03:13.276Z"
   },
   {
    "duration": 9,
    "start_time": "2022-02-16T08:03:13.289Z"
   },
   {
    "duration": 81,
    "start_time": "2022-02-16T08:03:13.300Z"
   },
   {
    "duration": 97,
    "start_time": "2022-02-16T08:04:05.516Z"
   },
   {
    "duration": 25,
    "start_time": "2022-02-16T08:04:05.614Z"
   },
   {
    "duration": 27,
    "start_time": "2022-02-16T08:04:05.642Z"
   },
   {
    "duration": 9,
    "start_time": "2022-02-16T08:04:05.671Z"
   },
   {
    "duration": 7,
    "start_time": "2022-02-16T08:04:05.682Z"
   },
   {
    "duration": 271,
    "start_time": "2022-02-16T08:04:05.690Z"
   },
   {
    "duration": 11,
    "start_time": "2022-02-16T08:04:05.962Z"
   },
   {
    "duration": 6,
    "start_time": "2022-02-16T08:04:05.976Z"
   },
   {
    "duration": 37,
    "start_time": "2022-02-16T08:04:05.984Z"
   },
   {
    "duration": 7,
    "start_time": "2022-02-16T08:04:06.023Z"
   },
   {
    "duration": 40,
    "start_time": "2022-02-16T08:04:06.032Z"
   },
   {
    "duration": 11,
    "start_time": "2022-02-16T08:04:06.074Z"
   },
   {
    "duration": 8,
    "start_time": "2022-02-16T08:04:06.087Z"
   },
   {
    "duration": 5,
    "start_time": "2022-02-16T08:04:06.097Z"
   },
   {
    "duration": 9,
    "start_time": "2022-02-16T08:04:06.104Z"
   },
   {
    "duration": 12,
    "start_time": "2022-02-16T08:04:06.115Z"
   },
   {
    "duration": 40,
    "start_time": "2022-02-16T08:04:06.129Z"
   },
   {
    "duration": 7,
    "start_time": "2022-02-16T08:04:06.171Z"
   },
   {
    "duration": 10,
    "start_time": "2022-02-16T08:04:06.180Z"
   },
   {
    "duration": 83,
    "start_time": "2022-02-16T08:04:06.192Z"
   },
   {
    "duration": 85,
    "start_time": "2022-02-16T08:11:09.216Z"
   },
   {
    "duration": -2037,
    "start_time": "2022-02-16T08:43:29.459Z"
   },
   {
    "duration": 96,
    "start_time": "2022-02-16T08:43:32.524Z"
   },
   {
    "duration": 24,
    "start_time": "2022-02-16T08:43:32.621Z"
   },
   {
    "duration": 25,
    "start_time": "2022-02-16T08:43:32.647Z"
   },
   {
    "duration": 8,
    "start_time": "2022-02-16T08:43:32.674Z"
   },
   {
    "duration": 6,
    "start_time": "2022-02-16T08:43:32.684Z"
   },
   {
    "duration": 273,
    "start_time": "2022-02-16T08:43:32.692Z"
   },
   {
    "duration": 9,
    "start_time": "2022-02-16T08:43:32.969Z"
   },
   {
    "duration": 6,
    "start_time": "2022-02-16T08:43:32.979Z"
   },
   {
    "duration": 36,
    "start_time": "2022-02-16T08:43:32.988Z"
   },
   {
    "duration": 5,
    "start_time": "2022-02-16T08:43:33.027Z"
   },
   {
    "duration": 43,
    "start_time": "2022-02-16T08:43:33.033Z"
   },
   {
    "duration": 10,
    "start_time": "2022-02-16T08:43:33.078Z"
   },
   {
    "duration": 9,
    "start_time": "2022-02-16T08:43:33.090Z"
   },
   {
    "duration": 6,
    "start_time": "2022-02-16T08:43:33.101Z"
   },
   {
    "duration": 9,
    "start_time": "2022-02-16T08:43:33.109Z"
   },
   {
    "duration": 11,
    "start_time": "2022-02-16T08:43:33.120Z"
   },
   {
    "duration": 41,
    "start_time": "2022-02-16T08:43:33.133Z"
   },
   {
    "duration": 4,
    "start_time": "2022-02-16T08:43:33.176Z"
   },
   {
    "duration": 10,
    "start_time": "2022-02-16T08:43:33.182Z"
   },
   {
    "duration": 6767,
    "start_time": "2022-02-16T08:43:33.194Z"
   },
   {
    "duration": 7,
    "start_time": "2022-02-16T08:43:53.179Z"
   },
   {
    "duration": 7,
    "start_time": "2022-02-16T08:44:47.923Z"
   },
   {
    "duration": 9,
    "start_time": "2022-02-16T08:44:58.812Z"
   },
   {
    "duration": 7,
    "start_time": "2022-02-16T08:45:31.063Z"
   },
   {
    "duration": 19,
    "start_time": "2022-02-16T08:50:42.986Z"
   },
   {
    "duration": 94,
    "start_time": "2022-02-16T08:50:45.683Z"
   },
   {
    "duration": 26,
    "start_time": "2022-02-16T08:50:45.779Z"
   },
   {
    "duration": 29,
    "start_time": "2022-02-16T08:50:45.807Z"
   },
   {
    "duration": 8,
    "start_time": "2022-02-16T08:50:45.838Z"
   },
   {
    "duration": 5,
    "start_time": "2022-02-16T08:50:45.848Z"
   },
   {
    "duration": 271,
    "start_time": "2022-02-16T08:50:45.855Z"
   },
   {
    "duration": 9,
    "start_time": "2022-02-16T08:50:46.128Z"
   },
   {
    "duration": 4,
    "start_time": "2022-02-16T08:50:46.140Z"
   },
   {
    "duration": 56,
    "start_time": "2022-02-16T08:50:46.146Z"
   },
   {
    "duration": 5,
    "start_time": "2022-02-16T08:50:46.204Z"
   },
   {
    "duration": 15,
    "start_time": "2022-02-16T08:50:46.210Z"
   },
   {
    "duration": 13,
    "start_time": "2022-02-16T08:50:46.227Z"
   },
   {
    "duration": 35,
    "start_time": "2022-02-16T08:50:46.242Z"
   },
   {
    "duration": 5,
    "start_time": "2022-02-16T08:50:46.279Z"
   },
   {
    "duration": 8,
    "start_time": "2022-02-16T08:50:46.285Z"
   },
   {
    "duration": 9,
    "start_time": "2022-02-16T08:50:46.295Z"
   },
   {
    "duration": 8,
    "start_time": "2022-02-16T08:50:46.305Z"
   },
   {
    "duration": 10,
    "start_time": "2022-02-16T08:50:46.315Z"
   },
   {
    "duration": 8,
    "start_time": "2022-02-16T08:50:46.327Z"
   },
   {
    "duration": 8,
    "start_time": "2022-02-16T08:50:46.369Z"
   },
   {
    "duration": 8,
    "start_time": "2022-02-16T08:50:46.379Z"
   },
   {
    "duration": 9,
    "start_time": "2022-02-16T08:50:46.389Z"
   },
   {
    "duration": 6,
    "start_time": "2022-02-16T08:50:46.401Z"
   },
   {
    "duration": 563,
    "start_time": "2022-02-16T08:50:46.409Z"
   },
   {
    "duration": 17,
    "start_time": "2022-02-16T08:50:46.974Z"
   },
   {
    "duration": 29,
    "start_time": "2022-02-16T08:50:54.971Z"
   },
   {
    "duration": 447,
    "start_time": "2022-02-16T08:59:41.042Z"
   },
   {
    "duration": 431,
    "start_time": "2022-02-16T09:00:18.794Z"
   },
   {
    "duration": 518,
    "start_time": "2022-02-16T09:00:51.865Z"
   },
   {
    "duration": 597,
    "start_time": "2022-02-16T09:01:26.569Z"
   },
   {
    "duration": 512,
    "start_time": "2022-02-16T09:01:50.457Z"
   },
   {
    "duration": 536,
    "start_time": "2022-02-16T09:02:10.106Z"
   },
   {
    "duration": 534,
    "start_time": "2022-02-16T09:04:19.295Z"
   },
   {
    "duration": 522,
    "start_time": "2022-02-16T09:04:35.008Z"
   },
   {
    "duration": 799,
    "start_time": "2022-02-16T09:04:51.935Z"
   },
   {
    "duration": 657,
    "start_time": "2022-02-16T09:05:13.567Z"
   },
   {
    "duration": 374,
    "start_time": "2022-02-16T09:12:46.211Z"
   },
   {
    "duration": 374,
    "start_time": "2022-02-16T09:13:06.596Z"
   },
   {
    "duration": 384,
    "start_time": "2022-02-16T09:15:26.818Z"
   },
   {
    "duration": 381,
    "start_time": "2022-02-16T09:15:56.516Z"
   },
   {
    "duration": 93,
    "start_time": "2022-02-16T09:16:16.462Z"
   },
   {
    "duration": 35,
    "start_time": "2022-02-16T09:16:16.556Z"
   },
   {
    "duration": 13,
    "start_time": "2022-02-16T09:16:16.593Z"
   },
   {
    "duration": 8,
    "start_time": "2022-02-16T09:16:16.608Z"
   },
   {
    "duration": 5,
    "start_time": "2022-02-16T09:16:16.618Z"
   },
   {
    "duration": 280,
    "start_time": "2022-02-16T09:16:16.625Z"
   },
   {
    "duration": 9,
    "start_time": "2022-02-16T09:16:16.907Z"
   },
   {
    "duration": 4,
    "start_time": "2022-02-16T09:16:16.918Z"
   },
   {
    "duration": 54,
    "start_time": "2022-02-16T09:16:16.924Z"
   },
   {
    "duration": 5,
    "start_time": "2022-02-16T09:16:16.980Z"
   },
   {
    "duration": 14,
    "start_time": "2022-02-16T09:16:16.986Z"
   },
   {
    "duration": 11,
    "start_time": "2022-02-16T09:16:17.002Z"
   },
   {
    "duration": 15,
    "start_time": "2022-02-16T09:16:17.014Z"
   },
   {
    "duration": 4,
    "start_time": "2022-02-16T09:16:17.031Z"
   },
   {
    "duration": 112,
    "start_time": "2022-02-16T09:16:17.037Z"
   },
   {
    "duration": 20,
    "start_time": "2022-02-16T09:16:17.151Z"
   },
   {
    "duration": 8,
    "start_time": "2022-02-16T09:16:17.172Z"
   },
   {
    "duration": 8,
    "start_time": "2022-02-16T09:16:17.182Z"
   },
   {
    "duration": 12,
    "start_time": "2022-02-16T09:16:17.192Z"
   },
   {
    "duration": 12,
    "start_time": "2022-02-16T09:16:17.206Z"
   },
   {
    "duration": 6,
    "start_time": "2022-02-16T09:16:17.220Z"
   },
   {
    "duration": 6,
    "start_time": "2022-02-16T09:16:17.228Z"
   },
   {
    "duration": 5,
    "start_time": "2022-02-16T09:16:17.237Z"
   },
   {
    "duration": 525,
    "start_time": "2022-02-16T09:16:17.244Z"
   },
   {
    "duration": 28,
    "start_time": "2022-02-16T09:16:17.770Z"
   },
   {
    "duration": 386,
    "start_time": "2022-02-16T09:16:17.800Z"
   },
   {
    "duration": 395,
    "start_time": "2022-02-16T09:16:18.187Z"
   },
   {
    "duration": 528,
    "start_time": "2022-02-16T09:16:18.584Z"
   },
   {
    "duration": 380,
    "start_time": "2022-02-16T09:20:16.924Z"
   },
   {
    "duration": 1146,
    "start_time": "2022-02-16T09:20:46.705Z"
   },
   {
    "duration": 456,
    "start_time": "2022-02-16T09:21:09.707Z"
   },
   {
    "duration": 430,
    "start_time": "2022-02-16T09:21:31.763Z"
   },
   {
    "duration": 1139,
    "start_time": "2022-02-16T09:21:58.851Z"
   },
   {
    "duration": 561,
    "start_time": "2022-02-16T09:22:02.029Z"
   },
   {
    "duration": 506,
    "start_time": "2022-02-16T09:26:55.489Z"
   },
   {
    "duration": 518,
    "start_time": "2022-02-16T09:27:13.522Z"
   },
   {
    "duration": 497,
    "start_time": "2022-02-16T09:31:58.331Z"
   },
   {
    "duration": 590,
    "start_time": "2022-02-16T09:32:08.916Z"
   },
   {
    "duration": 440,
    "start_time": "2022-02-16T09:32:16.029Z"
   },
   {
    "duration": 437,
    "start_time": "2022-02-16T09:32:22.300Z"
   },
   {
    "duration": 465,
    "start_time": "2022-02-16T09:32:37.252Z"
   },
   {
    "duration": 8679,
    "start_time": "2022-02-16T09:34:07.533Z"
   },
   {
    "duration": 101,
    "start_time": "2022-02-16T09:34:23.979Z"
   },
   {
    "duration": 26,
    "start_time": "2022-02-16T09:34:24.082Z"
   },
   {
    "duration": 12,
    "start_time": "2022-02-16T09:34:24.110Z"
   },
   {
    "duration": 8,
    "start_time": "2022-02-16T09:34:24.124Z"
   },
   {
    "duration": 36,
    "start_time": "2022-02-16T09:34:24.134Z"
   },
   {
    "duration": 271,
    "start_time": "2022-02-16T09:34:24.172Z"
   },
   {
    "duration": 10,
    "start_time": "2022-02-16T09:34:24.445Z"
   },
   {
    "duration": 6,
    "start_time": "2022-02-16T09:34:24.470Z"
   },
   {
    "duration": 44,
    "start_time": "2022-02-16T09:34:24.478Z"
   },
   {
    "duration": 6,
    "start_time": "2022-02-16T09:34:24.524Z"
   },
   {
    "duration": 32,
    "start_time": "2022-02-16T09:34:24.531Z"
   },
   {
    "duration": 20,
    "start_time": "2022-02-16T09:34:24.565Z"
   },
   {
    "duration": 8,
    "start_time": "2022-02-16T09:34:24.587Z"
   },
   {
    "duration": 6,
    "start_time": "2022-02-16T09:34:24.597Z"
   },
   {
    "duration": 9,
    "start_time": "2022-02-16T09:34:24.605Z"
   },
   {
    "duration": 10,
    "start_time": "2022-02-16T09:34:24.615Z"
   },
   {
    "duration": 13,
    "start_time": "2022-02-16T09:34:24.627Z"
   },
   {
    "duration": 30,
    "start_time": "2022-02-16T09:34:24.642Z"
   },
   {
    "duration": 12,
    "start_time": "2022-02-16T09:34:24.674Z"
   },
   {
    "duration": 9,
    "start_time": "2022-02-16T09:34:24.688Z"
   },
   {
    "duration": 10,
    "start_time": "2022-02-16T09:34:24.698Z"
   },
   {
    "duration": 7,
    "start_time": "2022-02-16T09:34:24.710Z"
   },
   {
    "duration": 10,
    "start_time": "2022-02-16T09:34:24.720Z"
   },
   {
    "duration": 840,
    "start_time": "2022-02-16T09:34:24.732Z"
   },
   {
    "duration": 30,
    "start_time": "2022-02-16T09:34:25.574Z"
   },
   {
    "duration": 8837,
    "start_time": "2022-02-16T09:34:25.606Z"
   },
   {
    "duration": 555,
    "start_time": "2022-02-16T09:34:34.445Z"
   },
   {
    "duration": 493,
    "start_time": "2022-02-16T09:34:35.002Z"
   },
   {
    "duration": 547,
    "start_time": "2022-02-16T09:34:35.497Z"
   },
   {
    "duration": 423,
    "start_time": "2022-02-16T09:34:47.821Z"
   },
   {
    "duration": 936,
    "start_time": "2022-02-16T09:36:14.324Z"
   },
   {
    "duration": 481,
    "start_time": "2022-02-16T09:37:26.374Z"
   },
   {
    "duration": 8,
    "start_time": "2022-02-16T11:18:23.079Z"
   },
   {
    "duration": 328,
    "start_time": "2022-02-16T11:19:22.106Z"
   },
   {
    "duration": 293,
    "start_time": "2022-02-16T11:19:35.093Z"
   },
   {
    "duration": 544,
    "start_time": "2022-02-16T11:19:42.712Z"
   },
   {
    "duration": 109,
    "start_time": "2022-02-16T11:20:00.032Z"
   },
   {
    "duration": 41,
    "start_time": "2022-02-16T11:20:00.143Z"
   },
   {
    "duration": 11,
    "start_time": "2022-02-16T11:20:00.186Z"
   },
   {
    "duration": 8,
    "start_time": "2022-02-16T11:20:00.199Z"
   },
   {
    "duration": 14,
    "start_time": "2022-02-16T11:20:00.209Z"
   },
   {
    "duration": 293,
    "start_time": "2022-02-16T11:20:00.225Z"
   },
   {
    "duration": 10,
    "start_time": "2022-02-16T11:20:00.519Z"
   },
   {
    "duration": 4,
    "start_time": "2022-02-16T11:20:00.531Z"
   },
   {
    "duration": 61,
    "start_time": "2022-02-16T11:20:00.538Z"
   },
   {
    "duration": 5,
    "start_time": "2022-02-16T11:20:00.602Z"
   },
   {
    "duration": 18,
    "start_time": "2022-02-16T11:20:00.609Z"
   },
   {
    "duration": 13,
    "start_time": "2022-02-16T11:20:00.628Z"
   },
   {
    "duration": 26,
    "start_time": "2022-02-16T11:20:00.643Z"
   },
   {
    "duration": 5,
    "start_time": "2022-02-16T11:20:00.671Z"
   },
   {
    "duration": 11,
    "start_time": "2022-02-16T11:20:00.678Z"
   },
   {
    "duration": 10,
    "start_time": "2022-02-16T11:20:00.691Z"
   },
   {
    "duration": 9,
    "start_time": "2022-02-16T11:20:00.703Z"
   },
   {
    "duration": 12,
    "start_time": "2022-02-16T11:20:00.714Z"
   },
   {
    "duration": 14,
    "start_time": "2022-02-16T11:20:00.728Z"
   },
   {
    "duration": 31,
    "start_time": "2022-02-16T11:20:00.744Z"
   },
   {
    "duration": 17,
    "start_time": "2022-02-16T11:20:00.777Z"
   },
   {
    "duration": 9,
    "start_time": "2022-02-16T11:20:00.796Z"
   },
   {
    "duration": 14,
    "start_time": "2022-02-16T11:20:00.807Z"
   },
   {
    "duration": 546,
    "start_time": "2022-02-16T11:20:00.823Z"
   },
   {
    "duration": 33,
    "start_time": "2022-02-16T11:20:01.371Z"
   },
   {
    "duration": 607,
    "start_time": "2022-02-16T11:20:01.407Z"
   },
   {
    "duration": 529,
    "start_time": "2022-02-16T11:20:02.019Z"
   },
   {
    "duration": 491,
    "start_time": "2022-02-16T11:20:02.551Z"
   },
   {
    "duration": 561,
    "start_time": "2022-02-16T11:20:03.044Z"
   },
   {
    "duration": 9,
    "start_time": "2022-02-16T11:20:03.608Z"
   },
   {
    "duration": 265,
    "start_time": "2022-02-16T11:21:00.734Z"
   },
   {
    "duration": 266,
    "start_time": "2022-02-16T11:22:20.180Z"
   },
   {
    "duration": 285,
    "start_time": "2022-02-16T11:23:32.753Z"
   },
   {
    "duration": 161,
    "start_time": "2022-02-16T11:24:48.741Z"
   },
   {
    "duration": 156,
    "start_time": "2022-02-16T11:25:31.546Z"
   },
   {
    "duration": 165,
    "start_time": "2022-02-16T11:25:42.510Z"
   },
   {
    "duration": 252,
    "start_time": "2022-02-16T11:25:55.584Z"
   },
   {
    "duration": 162,
    "start_time": "2022-02-16T11:26:10.710Z"
   },
   {
    "duration": 174,
    "start_time": "2022-02-16T11:26:17.296Z"
   },
   {
    "duration": 466,
    "start_time": "2022-02-16T11:28:20.740Z"
   },
   {
    "duration": 462,
    "start_time": "2022-02-16T11:28:29.235Z"
   },
   {
    "duration": 448,
    "start_time": "2022-02-16T11:28:57.412Z"
   },
   {
    "duration": 334,
    "start_time": "2022-02-16T11:29:36.022Z"
   },
   {
    "duration": 309,
    "start_time": "2022-02-16T11:29:43.151Z"
   },
   {
    "duration": 576,
    "start_time": "2022-02-16T11:31:16.344Z"
   },
   {
    "duration": 10,
    "start_time": "2022-02-16T11:33:06.561Z"
   },
   {
    "duration": 108,
    "start_time": "2022-02-16T12:33:44.164Z"
   },
   {
    "duration": 27,
    "start_time": "2022-02-16T12:33:44.274Z"
   },
   {
    "duration": 17,
    "start_time": "2022-02-16T12:33:44.303Z"
   },
   {
    "duration": 12,
    "start_time": "2022-02-16T12:33:44.323Z"
   },
   {
    "duration": 35,
    "start_time": "2022-02-16T12:33:44.337Z"
   },
   {
    "duration": 277,
    "start_time": "2022-02-16T12:33:44.374Z"
   },
   {
    "duration": 24,
    "start_time": "2022-02-16T12:33:44.653Z"
   },
   {
    "duration": 4,
    "start_time": "2022-02-16T12:33:44.680Z"
   },
   {
    "duration": 50,
    "start_time": "2022-02-16T12:33:44.687Z"
   },
   {
    "duration": 5,
    "start_time": "2022-02-16T12:33:44.739Z"
   },
   {
    "duration": 19,
    "start_time": "2022-02-16T12:33:44.770Z"
   },
   {
    "duration": 15,
    "start_time": "2022-02-16T12:33:44.791Z"
   },
   {
    "duration": 10,
    "start_time": "2022-02-16T12:33:44.809Z"
   },
   {
    "duration": 6,
    "start_time": "2022-02-16T12:33:44.822Z"
   },
   {
    "duration": 44,
    "start_time": "2022-02-16T12:33:44.830Z"
   },
   {
    "duration": 10,
    "start_time": "2022-02-16T12:33:44.876Z"
   },
   {
    "duration": 9,
    "start_time": "2022-02-16T12:33:44.888Z"
   },
   {
    "duration": 9,
    "start_time": "2022-02-16T12:33:44.899Z"
   },
   {
    "duration": 8,
    "start_time": "2022-02-16T12:33:44.910Z"
   },
   {
    "duration": 8,
    "start_time": "2022-02-16T12:33:44.919Z"
   },
   {
    "duration": 40,
    "start_time": "2022-02-16T12:33:44.929Z"
   },
   {
    "duration": 6,
    "start_time": "2022-02-16T12:33:44.971Z"
   },
   {
    "duration": 6,
    "start_time": "2022-02-16T12:33:44.981Z"
   },
   {
    "duration": 523,
    "start_time": "2022-02-16T12:33:44.989Z"
   },
   {
    "duration": 30,
    "start_time": "2022-02-16T12:33:45.513Z"
   },
   {
    "duration": 469,
    "start_time": "2022-02-16T12:33:45.545Z"
   },
   {
    "duration": 502,
    "start_time": "2022-02-16T12:33:46.016Z"
   },
   {
    "duration": 572,
    "start_time": "2022-02-16T12:33:46.521Z"
   },
   {
    "duration": 540,
    "start_time": "2022-02-16T12:33:47.094Z"
   },
   {
    "duration": 176,
    "start_time": "2022-02-16T12:33:47.635Z"
   },
   {
    "duration": 316,
    "start_time": "2022-02-16T12:33:47.813Z"
   },
   {
    "duration": 456,
    "start_time": "2022-02-16T12:33:48.131Z"
   },
   {
    "duration": 7,
    "start_time": "2022-02-16T12:33:48.589Z"
   },
   {
    "duration": 17,
    "start_time": "2022-02-16T12:33:48.597Z"
   },
   {
    "duration": 182,
    "start_time": "2022-02-16T12:33:48.615Z"
   },
   {
    "duration": 170,
    "start_time": "2022-02-16T12:34:13.014Z"
   },
   {
    "duration": 174,
    "start_time": "2022-02-16T12:34:38.471Z"
   },
   {
    "duration": 14,
    "start_time": "2022-02-16T12:35:17.930Z"
   },
   {
    "duration": 100,
    "start_time": "2022-02-16T12:35:19.653Z"
   },
   {
    "duration": 26,
    "start_time": "2022-02-16T12:35:19.769Z"
   },
   {
    "duration": 11,
    "start_time": "2022-02-16T12:35:19.798Z"
   },
   {
    "duration": 8,
    "start_time": "2022-02-16T12:35:19.811Z"
   },
   {
    "duration": 9,
    "start_time": "2022-02-16T12:35:19.821Z"
   },
   {
    "duration": 282,
    "start_time": "2022-02-16T12:35:19.832Z"
   },
   {
    "duration": 9,
    "start_time": "2022-02-16T12:35:20.115Z"
   },
   {
    "duration": 8,
    "start_time": "2022-02-16T12:35:20.126Z"
   },
   {
    "duration": 47,
    "start_time": "2022-02-16T12:35:20.136Z"
   },
   {
    "duration": 5,
    "start_time": "2022-02-16T12:35:20.185Z"
   },
   {
    "duration": 17,
    "start_time": "2022-02-16T12:35:20.191Z"
   },
   {
    "duration": 10,
    "start_time": "2022-02-16T12:35:20.210Z"
   },
   {
    "duration": 9,
    "start_time": "2022-02-16T12:35:20.222Z"
   },
   {
    "duration": 6,
    "start_time": "2022-02-16T12:35:20.232Z"
   },
   {
    "duration": 33,
    "start_time": "2022-02-16T12:35:20.240Z"
   },
   {
    "duration": 9,
    "start_time": "2022-02-16T12:35:20.275Z"
   },
   {
    "duration": 9,
    "start_time": "2022-02-16T12:35:20.285Z"
   },
   {
    "duration": 8,
    "start_time": "2022-02-16T12:35:20.296Z"
   },
   {
    "duration": 12,
    "start_time": "2022-02-16T12:35:20.305Z"
   },
   {
    "duration": 7,
    "start_time": "2022-02-16T12:35:20.319Z"
   },
   {
    "duration": 13,
    "start_time": "2022-02-16T12:35:20.328Z"
   },
   {
    "duration": 32,
    "start_time": "2022-02-16T12:35:20.342Z"
   },
   {
    "duration": 7,
    "start_time": "2022-02-16T12:35:20.377Z"
   },
   {
    "duration": 660,
    "start_time": "2022-02-16T12:35:20.386Z"
   },
   {
    "duration": 36,
    "start_time": "2022-02-16T12:35:21.048Z"
   },
   {
    "duration": 486,
    "start_time": "2022-02-16T12:35:21.086Z"
   },
   {
    "duration": 498,
    "start_time": "2022-02-16T12:35:21.574Z"
   },
   {
    "duration": 460,
    "start_time": "2022-02-16T12:35:22.074Z"
   },
   {
    "duration": 546,
    "start_time": "2022-02-16T12:35:22.536Z"
   },
   {
    "duration": 166,
    "start_time": "2022-02-16T12:35:23.084Z"
   },
   {
    "duration": 320,
    "start_time": "2022-02-16T12:35:23.252Z"
   },
   {
    "duration": 604,
    "start_time": "2022-02-16T12:35:23.574Z"
   },
   {
    "duration": 7,
    "start_time": "2022-02-16T12:35:24.180Z"
   },
   {
    "duration": 12,
    "start_time": "2022-02-16T12:35:24.188Z"
   },
   {
    "duration": 174,
    "start_time": "2022-02-16T12:35:24.202Z"
   },
   {
    "duration": 12,
    "start_time": "2022-02-16T12:36:44.334Z"
   },
   {
    "duration": 166,
    "start_time": "2022-02-16T12:36:45.851Z"
   },
   {
    "duration": 11,
    "start_time": "2022-02-16T12:37:01.486Z"
   },
   {
    "duration": 167,
    "start_time": "2022-02-16T12:37:05.096Z"
   },
   {
    "duration": 12,
    "start_time": "2022-02-16T12:38:57.527Z"
   },
   {
    "duration": 162,
    "start_time": "2022-02-16T12:38:58.519Z"
   },
   {
    "duration": 99,
    "start_time": "2022-02-16T12:39:06.184Z"
   },
   {
    "duration": 25,
    "start_time": "2022-02-16T12:39:06.285Z"
   },
   {
    "duration": 11,
    "start_time": "2022-02-16T12:39:06.313Z"
   },
   {
    "duration": 11,
    "start_time": "2022-02-16T12:39:06.327Z"
   },
   {
    "duration": 33,
    "start_time": "2022-02-16T12:39:06.340Z"
   },
   {
    "duration": 279,
    "start_time": "2022-02-16T12:39:06.375Z"
   },
   {
    "duration": 15,
    "start_time": "2022-02-16T12:39:06.656Z"
   },
   {
    "duration": 5,
    "start_time": "2022-02-16T12:39:06.674Z"
   },
   {
    "duration": 41,
    "start_time": "2022-02-16T12:39:06.682Z"
   },
   {
    "duration": 5,
    "start_time": "2022-02-16T12:39:06.725Z"
   },
   {
    "duration": 37,
    "start_time": "2022-02-16T12:39:06.732Z"
   },
   {
    "duration": 18,
    "start_time": "2022-02-16T12:39:06.771Z"
   },
   {
    "duration": 8,
    "start_time": "2022-02-16T12:39:06.791Z"
   },
   {
    "duration": 5,
    "start_time": "2022-02-16T12:39:06.801Z"
   },
   {
    "duration": 21,
    "start_time": "2022-02-16T12:39:06.808Z"
   },
   {
    "duration": 12,
    "start_time": "2022-02-16T12:39:06.831Z"
   },
   {
    "duration": 11,
    "start_time": "2022-02-16T12:39:06.845Z"
   },
   {
    "duration": 5,
    "start_time": "2022-02-16T12:39:06.869Z"
   },
   {
    "duration": 10,
    "start_time": "2022-02-16T12:39:06.876Z"
   },
   {
    "duration": 7,
    "start_time": "2022-02-16T12:39:06.888Z"
   },
   {
    "duration": 11,
    "start_time": "2022-02-16T12:39:06.897Z"
   },
   {
    "duration": 11,
    "start_time": "2022-02-16T12:39:06.910Z"
   },
   {
    "duration": 9,
    "start_time": "2022-02-16T12:39:06.924Z"
   },
   {
    "duration": 549,
    "start_time": "2022-02-16T12:39:06.935Z"
   },
   {
    "duration": 31,
    "start_time": "2022-02-16T12:39:07.486Z"
   },
   {
    "duration": 480,
    "start_time": "2022-02-16T12:39:07.519Z"
   },
   {
    "duration": 640,
    "start_time": "2022-02-16T12:39:08.001Z"
   },
   {
    "duration": 476,
    "start_time": "2022-02-16T12:39:08.643Z"
   },
   {
    "duration": 555,
    "start_time": "2022-02-16T12:39:09.121Z"
   },
   {
    "duration": 172,
    "start_time": "2022-02-16T12:39:09.678Z"
   },
   {
    "duration": 315,
    "start_time": "2022-02-16T12:39:09.852Z"
   },
   {
    "duration": 457,
    "start_time": "2022-02-16T12:39:10.169Z"
   },
   {
    "duration": 8,
    "start_time": "2022-02-16T12:39:10.627Z"
   },
   {
    "duration": 11,
    "start_time": "2022-02-16T12:39:10.636Z"
   },
   {
    "duration": 196,
    "start_time": "2022-02-16T12:39:10.649Z"
   },
   {
    "duration": 167,
    "start_time": "2022-02-16T12:44:38.852Z"
   },
   {
    "duration": 86,
    "start_time": "2022-02-16T12:44:39.021Z"
   },
   {
    "duration": 15,
    "start_time": "2022-02-16T12:49:59.693Z"
   },
   {
    "duration": 166,
    "start_time": "2022-02-16T12:50:01.686Z"
   },
   {
    "duration": 96,
    "start_time": "2022-02-16T12:50:59.544Z"
   },
   {
    "duration": 40,
    "start_time": "2022-02-16T12:50:59.642Z"
   },
   {
    "duration": 12,
    "start_time": "2022-02-16T12:50:59.685Z"
   },
   {
    "duration": 11,
    "start_time": "2022-02-16T12:50:59.699Z"
   },
   {
    "duration": 7,
    "start_time": "2022-02-16T12:50:59.711Z"
   },
   {
    "duration": 300,
    "start_time": "2022-02-16T12:50:59.720Z"
   },
   {
    "duration": 10,
    "start_time": "2022-02-16T12:51:00.022Z"
   },
   {
    "duration": 5,
    "start_time": "2022-02-16T12:51:00.034Z"
   },
   {
    "duration": 56,
    "start_time": "2022-02-16T12:51:00.041Z"
   },
   {
    "duration": 5,
    "start_time": "2022-02-16T12:51:00.099Z"
   },
   {
    "duration": 21,
    "start_time": "2022-02-16T12:51:00.106Z"
   },
   {
    "duration": 12,
    "start_time": "2022-02-16T12:51:00.129Z"
   },
   {
    "duration": 27,
    "start_time": "2022-02-16T12:51:00.142Z"
   },
   {
    "duration": 4,
    "start_time": "2022-02-16T12:51:00.171Z"
   },
   {
    "duration": 10,
    "start_time": "2022-02-16T12:51:00.177Z"
   },
   {
    "duration": 4,
    "start_time": "2022-02-16T12:51:00.189Z"
   },
   {
    "duration": 11,
    "start_time": "2022-02-16T12:51:00.195Z"
   },
   {
    "duration": 11,
    "start_time": "2022-02-16T12:51:00.208Z"
   },
   {
    "duration": 12,
    "start_time": "2022-02-16T12:51:00.220Z"
   },
   {
    "duration": 7,
    "start_time": "2022-02-16T12:51:00.234Z"
   },
   {
    "duration": 29,
    "start_time": "2022-02-16T12:51:00.243Z"
   },
   {
    "duration": 5,
    "start_time": "2022-02-16T12:51:00.274Z"
   },
   {
    "duration": 9,
    "start_time": "2022-02-16T12:51:00.282Z"
   },
   {
    "duration": 674,
    "start_time": "2022-02-16T12:51:00.293Z"
   },
   {
    "duration": 31,
    "start_time": "2022-02-16T12:51:00.968Z"
   },
   {
    "duration": 480,
    "start_time": "2022-02-16T12:51:01.000Z"
   },
   {
    "duration": 498,
    "start_time": "2022-02-16T12:51:01.482Z"
   },
   {
    "duration": 476,
    "start_time": "2022-02-16T12:51:01.982Z"
   },
   {
    "duration": 542,
    "start_time": "2022-02-16T12:51:02.460Z"
   },
   {
    "duration": 174,
    "start_time": "2022-02-16T12:51:03.004Z"
   },
   {
    "duration": 319,
    "start_time": "2022-02-16T12:51:03.180Z"
   },
   {
    "duration": 452,
    "start_time": "2022-02-16T12:51:03.501Z"
   },
   {
    "duration": 17,
    "start_time": "2022-02-16T12:51:03.954Z"
   },
   {
    "duration": 14,
    "start_time": "2022-02-16T12:51:03.973Z"
   },
   {
    "duration": 347,
    "start_time": "2022-02-16T12:51:03.989Z"
   },
   {
    "duration": 88,
    "start_time": "2022-02-16T12:51:04.338Z"
   },
   {
    "duration": 13,
    "start_time": "2022-02-16T12:51:25.561Z"
   },
   {
    "duration": 166,
    "start_time": "2022-02-16T12:51:26.534Z"
   },
   {
    "duration": 527,
    "start_time": "2022-02-16T12:53:04.199Z"
   },
   {
    "duration": 553,
    "start_time": "2022-02-16T12:54:48.831Z"
   },
   {
    "duration": 515,
    "start_time": "2022-02-16T12:55:31.863Z"
   },
   {
    "duration": 308,
    "start_time": "2022-02-16T12:56:13.775Z"
   },
   {
    "duration": 446,
    "start_time": "2022-02-16T12:56:23.878Z"
   },
   {
    "duration": 11,
    "start_time": "2022-02-16T12:57:56.423Z"
   },
   {
    "duration": 162,
    "start_time": "2022-02-16T12:57:57.255Z"
   },
   {
    "duration": 168,
    "start_time": "2022-02-16T12:58:22.966Z"
   },
   {
    "duration": 109,
    "start_time": "2022-02-16T12:59:00.434Z"
   },
   {
    "duration": 37,
    "start_time": "2022-02-16T12:59:00.545Z"
   },
   {
    "duration": 11,
    "start_time": "2022-02-16T12:59:00.584Z"
   },
   {
    "duration": 14,
    "start_time": "2022-02-16T12:59:00.597Z"
   },
   {
    "duration": 6,
    "start_time": "2022-02-16T12:59:00.613Z"
   },
   {
    "duration": 286,
    "start_time": "2022-02-16T12:59:00.621Z"
   },
   {
    "duration": 9,
    "start_time": "2022-02-16T12:59:00.909Z"
   },
   {
    "duration": 22,
    "start_time": "2022-02-16T12:59:00.920Z"
   },
   {
    "duration": 48,
    "start_time": "2022-02-16T12:59:00.944Z"
   },
   {
    "duration": 5,
    "start_time": "2022-02-16T12:59:00.994Z"
   },
   {
    "duration": 32,
    "start_time": "2022-02-16T12:59:01.000Z"
   },
   {
    "duration": 14,
    "start_time": "2022-02-16T12:59:01.034Z"
   },
   {
    "duration": 16,
    "start_time": "2022-02-16T12:59:01.050Z"
   },
   {
    "duration": 13,
    "start_time": "2022-02-16T12:59:01.067Z"
   },
   {
    "duration": 26,
    "start_time": "2022-02-16T12:59:01.082Z"
   },
   {
    "duration": 15,
    "start_time": "2022-02-16T12:59:01.109Z"
   },
   {
    "duration": 13,
    "start_time": "2022-02-16T12:59:01.126Z"
   },
   {
    "duration": 12,
    "start_time": "2022-02-16T12:59:01.141Z"
   },
   {
    "duration": 15,
    "start_time": "2022-02-16T12:59:01.154Z"
   },
   {
    "duration": 19,
    "start_time": "2022-02-16T12:59:01.171Z"
   },
   {
    "duration": 16,
    "start_time": "2022-02-16T12:59:01.192Z"
   },
   {
    "duration": 12,
    "start_time": "2022-02-16T12:59:01.209Z"
   },
   {
    "duration": 10,
    "start_time": "2022-02-16T12:59:01.224Z"
   },
   {
    "duration": 685,
    "start_time": "2022-02-16T12:59:01.236Z"
   },
   {
    "duration": 30,
    "start_time": "2022-02-16T12:59:01.923Z"
   },
   {
    "duration": 460,
    "start_time": "2022-02-16T12:59:01.954Z"
   },
   {
    "duration": 495,
    "start_time": "2022-02-16T12:59:02.415Z"
   },
   {
    "duration": 504,
    "start_time": "2022-02-16T12:59:02.912Z"
   },
   {
    "duration": 576,
    "start_time": "2022-02-16T12:59:03.419Z"
   },
   {
    "duration": 207,
    "start_time": "2022-02-16T12:59:03.997Z"
   },
   {
    "duration": 329,
    "start_time": "2022-02-16T12:59:04.205Z"
   },
   {
    "duration": 464,
    "start_time": "2022-02-16T12:59:04.537Z"
   },
   {
    "duration": 7,
    "start_time": "2022-02-16T12:59:05.003Z"
   },
   {
    "duration": 27,
    "start_time": "2022-02-16T12:59:05.012Z"
   },
   {
    "duration": 186,
    "start_time": "2022-02-16T12:59:05.041Z"
   },
   {
    "duration": 92,
    "start_time": "2022-02-16T12:59:05.229Z"
   },
   {
    "duration": 19,
    "start_time": "2022-02-16T13:00:28.117Z"
   },
   {
    "duration": 121,
    "start_time": "2022-02-16T13:00:31.252Z"
   },
   {
    "duration": 27,
    "start_time": "2022-02-16T13:00:31.375Z"
   },
   {
    "duration": 11,
    "start_time": "2022-02-16T13:00:31.405Z"
   },
   {
    "duration": 8,
    "start_time": "2022-02-16T13:00:31.418Z"
   },
   {
    "duration": 7,
    "start_time": "2022-02-16T13:00:31.428Z"
   },
   {
    "duration": 297,
    "start_time": "2022-02-16T13:00:31.436Z"
   },
   {
    "duration": 9,
    "start_time": "2022-02-16T13:00:31.735Z"
   },
   {
    "duration": 5,
    "start_time": "2022-02-16T13:00:31.747Z"
   },
   {
    "duration": 55,
    "start_time": "2022-02-16T13:00:31.754Z"
   },
   {
    "duration": 5,
    "start_time": "2022-02-16T13:00:31.810Z"
   },
   {
    "duration": 16,
    "start_time": "2022-02-16T13:00:31.817Z"
   },
   {
    "duration": 34,
    "start_time": "2022-02-16T13:00:31.835Z"
   },
   {
    "duration": 8,
    "start_time": "2022-02-16T13:00:31.871Z"
   },
   {
    "duration": 6,
    "start_time": "2022-02-16T13:00:31.881Z"
   },
   {
    "duration": 203,
    "start_time": "2022-02-16T13:00:31.889Z"
   },
   {
    "duration": 8,
    "start_time": "2022-02-16T13:00:32.094Z"
   },
   {
    "duration": 25,
    "start_time": "2022-02-16T13:00:32.104Z"
   },
   {
    "duration": 17,
    "start_time": "2022-02-16T13:00:32.131Z"
   },
   {
    "duration": 11,
    "start_time": "2022-02-16T13:00:32.150Z"
   },
   {
    "duration": 12,
    "start_time": "2022-02-16T13:00:32.163Z"
   },
   {
    "duration": 12,
    "start_time": "2022-02-16T13:00:32.177Z"
   },
   {
    "duration": 7,
    "start_time": "2022-02-16T13:00:32.191Z"
   },
   {
    "duration": 20,
    "start_time": "2022-02-16T13:00:32.202Z"
   },
   {
    "duration": 523,
    "start_time": "2022-02-16T13:00:32.224Z"
   },
   {
    "duration": 37,
    "start_time": "2022-02-16T13:00:32.749Z"
   },
   {
    "duration": 489,
    "start_time": "2022-02-16T13:00:32.788Z"
   },
   {
    "duration": 522,
    "start_time": "2022-02-16T13:00:33.279Z"
   },
   {
    "duration": 474,
    "start_time": "2022-02-16T13:00:33.803Z"
   },
   {
    "duration": 567,
    "start_time": "2022-02-16T13:00:34.279Z"
   },
   {
    "duration": 174,
    "start_time": "2022-02-16T13:00:34.848Z"
   },
   {
    "duration": 312,
    "start_time": "2022-02-16T13:00:35.023Z"
   },
   {
    "duration": 468,
    "start_time": "2022-02-16T13:00:35.337Z"
   },
   {
    "duration": 8,
    "start_time": "2022-02-16T13:00:35.806Z"
   },
   {
    "duration": 16,
    "start_time": "2022-02-16T13:00:35.816Z"
   },
   {
    "duration": 192,
    "start_time": "2022-02-16T13:00:35.834Z"
   },
   {
    "duration": 101,
    "start_time": "2022-02-16T13:00:36.028Z"
   },
   {
    "duration": 105,
    "start_time": "2022-02-16T13:11:43.800Z"
   },
   {
    "duration": 27,
    "start_time": "2022-02-16T13:11:43.907Z"
   },
   {
    "duration": 35,
    "start_time": "2022-02-16T13:11:43.936Z"
   },
   {
    "duration": 9,
    "start_time": "2022-02-16T13:11:43.973Z"
   },
   {
    "duration": 225,
    "start_time": "2022-02-16T13:11:43.984Z"
   },
   {
    "duration": 274,
    "start_time": "2022-02-16T13:11:44.212Z"
   },
   {
    "duration": 10,
    "start_time": "2022-02-16T13:11:44.488Z"
   },
   {
    "duration": 5,
    "start_time": "2022-02-16T13:11:44.501Z"
   },
   {
    "duration": 63,
    "start_time": "2022-02-16T13:11:44.508Z"
   },
   {
    "duration": 6,
    "start_time": "2022-02-16T13:11:44.573Z"
   },
   {
    "duration": 17,
    "start_time": "2022-02-16T13:11:44.582Z"
   },
   {
    "duration": 14,
    "start_time": "2022-02-16T13:11:44.601Z"
   },
   {
    "duration": 11,
    "start_time": "2022-02-16T13:11:44.617Z"
   },
   {
    "duration": 6,
    "start_time": "2022-02-16T13:11:44.678Z"
   },
   {
    "duration": 14,
    "start_time": "2022-02-16T13:11:44.686Z"
   },
   {
    "duration": 5,
    "start_time": "2022-02-16T13:11:44.702Z"
   },
   {
    "duration": 27,
    "start_time": "2022-02-16T13:11:44.709Z"
   },
   {
    "duration": 5,
    "start_time": "2022-02-16T13:11:44.738Z"
   },
   {
    "duration": 38,
    "start_time": "2022-02-16T13:11:44.746Z"
   },
   {
    "duration": 11,
    "start_time": "2022-02-16T13:11:44.786Z"
   },
   {
    "duration": 6,
    "start_time": "2022-02-16T13:11:44.800Z"
   },
   {
    "duration": 24,
    "start_time": "2022-02-16T13:11:44.808Z"
   },
   {
    "duration": 6,
    "start_time": "2022-02-16T13:11:44.835Z"
   },
   {
    "duration": 538,
    "start_time": "2022-02-16T13:11:44.870Z"
   },
   {
    "duration": 31,
    "start_time": "2022-02-16T13:11:45.410Z"
   },
   {
    "duration": 483,
    "start_time": "2022-02-16T13:11:45.443Z"
   },
   {
    "duration": 503,
    "start_time": "2022-02-16T13:11:45.928Z"
   },
   {
    "duration": 477,
    "start_time": "2022-02-16T13:11:46.433Z"
   },
   {
    "duration": 545,
    "start_time": "2022-02-16T13:11:46.911Z"
   },
   {
    "duration": 172,
    "start_time": "2022-02-16T13:11:47.458Z"
   },
   {
    "duration": 313,
    "start_time": "2022-02-16T13:11:47.632Z"
   },
   {
    "duration": 451,
    "start_time": "2022-02-16T13:11:47.947Z"
   },
   {
    "duration": 7,
    "start_time": "2022-02-16T13:11:48.399Z"
   },
   {
    "duration": 13,
    "start_time": "2022-02-16T13:11:48.408Z"
   },
   {
    "duration": 399,
    "start_time": "2022-02-16T13:11:48.423Z"
   },
   {
    "duration": 103,
    "start_time": "2022-02-16T13:11:48.824Z"
   },
   {
    "duration": 28,
    "start_time": "2022-02-16T13:16:17.070Z"
   },
   {
    "duration": 512,
    "start_time": "2022-02-16T13:18:04.088Z"
   },
   {
    "duration": 245,
    "start_time": "2022-02-16T13:18:16.848Z"
   },
   {
    "duration": 250,
    "start_time": "2022-02-16T13:22:21.357Z"
   },
   {
    "duration": 237,
    "start_time": "2022-02-16T13:22:37.903Z"
   },
   {
    "duration": 243,
    "start_time": "2022-02-16T13:23:28.760Z"
   },
   {
    "duration": 93,
    "start_time": "2022-02-16T13:24:53.887Z"
   },
   {
    "duration": 85,
    "start_time": "2022-02-16T13:24:59.800Z"
   },
   {
    "duration": 265,
    "start_time": "2022-02-16T13:25:06.368Z"
   },
   {
    "duration": 238,
    "start_time": "2022-02-16T13:25:37.952Z"
   },
   {
    "duration": 585,
    "start_time": "2022-02-16T13:35:12.183Z"
   },
   {
    "duration": 590,
    "start_time": "2022-02-16T13:35:44.486Z"
   },
   {
    "duration": 466,
    "start_time": "2022-02-16T13:37:36.367Z"
   },
   {
    "duration": 467,
    "start_time": "2022-02-16T13:37:48.070Z"
   },
   {
    "duration": 568,
    "start_time": "2022-02-16T13:38:32.470Z"
   },
   {
    "duration": 211,
    "start_time": "2022-02-16T13:42:07.229Z"
   },
   {
    "duration": 211,
    "start_time": "2022-02-16T13:42:11.694Z"
   },
   {
    "duration": 196,
    "start_time": "2022-02-16T13:42:17.983Z"
   },
   {
    "duration": 244,
    "start_time": "2022-02-16T13:42:33.166Z"
   },
   {
    "duration": 251,
    "start_time": "2022-02-16T13:42:37.238Z"
   },
   {
    "duration": 267,
    "start_time": "2022-02-16T13:42:48.334Z"
   },
   {
    "duration": 1139,
    "start_time": "2022-02-16T13:44:00.529Z"
   },
   {
    "duration": 1168,
    "start_time": "2022-02-16T13:44:05.262Z"
   },
   {
    "duration": 197,
    "start_time": "2022-02-16T13:44:37.583Z"
   },
   {
    "duration": 239,
    "start_time": "2022-02-16T14:19:45.811Z"
   },
   {
    "duration": 244,
    "start_time": "2022-02-16T14:22:07.084Z"
   },
   {
    "duration": 234,
    "start_time": "2022-02-16T14:22:36.396Z"
   },
   {
    "duration": 98,
    "start_time": "2022-02-16T14:34:46.296Z"
   },
   {
    "duration": 26,
    "start_time": "2022-02-16T14:34:46.396Z"
   },
   {
    "duration": 10,
    "start_time": "2022-02-16T14:34:46.425Z"
   },
   {
    "duration": 9,
    "start_time": "2022-02-16T14:34:46.437Z"
   },
   {
    "duration": 9,
    "start_time": "2022-02-16T14:34:46.470Z"
   },
   {
    "duration": 279,
    "start_time": "2022-02-16T14:34:46.481Z"
   },
   {
    "duration": 15,
    "start_time": "2022-02-16T14:34:46.761Z"
   },
   {
    "duration": 7,
    "start_time": "2022-02-16T14:34:46.778Z"
   },
   {
    "duration": 43,
    "start_time": "2022-02-16T14:34:46.787Z"
   },
   {
    "duration": 5,
    "start_time": "2022-02-16T14:34:46.832Z"
   },
   {
    "duration": 36,
    "start_time": "2022-02-16T14:34:46.838Z"
   },
   {
    "duration": 11,
    "start_time": "2022-02-16T14:34:46.876Z"
   },
   {
    "duration": 8,
    "start_time": "2022-02-16T14:34:46.888Z"
   },
   {
    "duration": 9,
    "start_time": "2022-02-16T14:34:46.898Z"
   },
   {
    "duration": 13,
    "start_time": "2022-02-16T14:34:46.908Z"
   },
   {
    "duration": 6,
    "start_time": "2022-02-16T14:34:46.923Z"
   },
   {
    "duration": 12,
    "start_time": "2022-02-16T14:34:46.931Z"
   },
   {
    "duration": 24,
    "start_time": "2022-02-16T14:34:46.945Z"
   },
   {
    "duration": 8,
    "start_time": "2022-02-16T14:34:46.971Z"
   },
   {
    "duration": 8,
    "start_time": "2022-02-16T14:34:46.980Z"
   },
   {
    "duration": 9,
    "start_time": "2022-02-16T14:34:46.989Z"
   },
   {
    "duration": 6,
    "start_time": "2022-02-16T14:34:47.000Z"
   },
   {
    "duration": 6,
    "start_time": "2022-02-16T14:34:47.009Z"
   },
   {
    "duration": 744,
    "start_time": "2022-02-16T14:34:47.017Z"
   },
   {
    "duration": 33,
    "start_time": "2022-02-16T14:34:47.763Z"
   },
   {
    "duration": 471,
    "start_time": "2022-02-16T14:34:47.798Z"
   },
   {
    "duration": 506,
    "start_time": "2022-02-16T14:34:48.271Z"
   },
   {
    "duration": 477,
    "start_time": "2022-02-16T14:34:48.779Z"
   },
   {
    "duration": 581,
    "start_time": "2022-02-16T14:34:49.259Z"
   },
   {
    "duration": 175,
    "start_time": "2022-02-16T14:34:49.842Z"
   },
   {
    "duration": 330,
    "start_time": "2022-02-16T14:34:50.019Z"
   },
   {
    "duration": 466,
    "start_time": "2022-02-16T14:34:50.351Z"
   },
   {
    "duration": 8,
    "start_time": "2022-02-16T14:34:50.819Z"
   },
   {
    "duration": 12,
    "start_time": "2022-02-16T14:34:50.829Z"
   },
   {
    "duration": 198,
    "start_time": "2022-02-16T14:34:50.843Z"
   },
   {
    "duration": 94,
    "start_time": "2022-02-16T14:34:51.043Z"
   },
   {
    "duration": -28,
    "start_time": "2022-02-16T14:34:51.167Z"
   },
   {
    "duration": -37,
    "start_time": "2022-02-16T14:34:51.177Z"
   },
   {
    "duration": -39,
    "start_time": "2022-02-16T14:34:51.180Z"
   },
   {
    "duration": -41,
    "start_time": "2022-02-16T14:34:51.183Z"
   },
   {
    "duration": -42,
    "start_time": "2022-02-16T14:34:51.185Z"
   },
   {
    "duration": -44,
    "start_time": "2022-02-16T14:34:51.188Z"
   },
   {
    "duration": -45,
    "start_time": "2022-02-16T14:34:51.190Z"
   },
   {
    "duration": -54,
    "start_time": "2022-02-16T14:34:51.200Z"
   },
   {
    "duration": 28,
    "start_time": "2022-02-16T14:39:43.500Z"
   },
   {
    "duration": 27,
    "start_time": "2022-02-16T14:40:24.271Z"
   },
   {
    "duration": 8,
    "start_time": "2022-02-16T14:40:27.396Z"
   },
   {
    "duration": 27,
    "start_time": "2022-02-16T14:41:02.176Z"
   },
   {
    "duration": 10,
    "start_time": "2022-02-16T14:41:06.224Z"
   },
   {
    "duration": 27,
    "start_time": "2022-02-16T14:41:42.566Z"
   },
   {
    "duration": 8,
    "start_time": "2022-02-16T14:41:45.117Z"
   },
   {
    "duration": 36,
    "start_time": "2022-02-16T14:41:48.901Z"
   },
   {
    "duration": 26,
    "start_time": "2022-02-16T14:41:54.198Z"
   },
   {
    "duration": 231,
    "start_time": "2022-02-16T14:46:41.136Z"
   },
   {
    "duration": 250,
    "start_time": "2022-02-16T14:47:42.453Z"
   },
   {
    "duration": 714,
    "start_time": "2022-02-16T17:57:47.270Z"
   },
   {
    "duration": 19,
    "start_time": "2022-02-16T17:57:47.986Z"
   },
   {
    "duration": 24,
    "start_time": "2022-02-16T17:57:48.008Z"
   },
   {
    "duration": 7,
    "start_time": "2022-02-16T17:57:48.034Z"
   },
   {
    "duration": 6,
    "start_time": "2022-02-16T17:57:48.043Z"
   },
   {
    "duration": 225,
    "start_time": "2022-02-16T17:57:48.051Z"
   },
   {
    "duration": 9,
    "start_time": "2022-02-16T17:57:48.278Z"
   },
   {
    "duration": 4,
    "start_time": "2022-02-16T17:57:48.290Z"
   },
   {
    "duration": 47,
    "start_time": "2022-02-16T17:57:48.296Z"
   },
   {
    "duration": 5,
    "start_time": "2022-02-16T17:57:48.345Z"
   },
   {
    "duration": 14,
    "start_time": "2022-02-16T17:57:48.352Z"
   },
   {
    "duration": 10,
    "start_time": "2022-02-16T17:57:48.367Z"
   },
   {
    "duration": 7,
    "start_time": "2022-02-16T17:57:48.379Z"
   },
   {
    "duration": 4,
    "start_time": "2022-02-16T17:57:48.387Z"
   },
   {
    "duration": 39,
    "start_time": "2022-02-16T17:57:48.393Z"
   },
   {
    "duration": 4,
    "start_time": "2022-02-16T17:57:48.433Z"
   },
   {
    "duration": 12,
    "start_time": "2022-02-16T17:57:48.438Z"
   },
   {
    "duration": 8,
    "start_time": "2022-02-16T17:57:48.452Z"
   },
   {
    "duration": 19,
    "start_time": "2022-02-16T17:57:48.462Z"
   },
   {
    "duration": 11,
    "start_time": "2022-02-16T17:57:48.483Z"
   },
   {
    "duration": 6,
    "start_time": "2022-02-16T17:57:48.496Z"
   },
   {
    "duration": 9,
    "start_time": "2022-02-16T17:57:48.504Z"
   },
   {
    "duration": 17,
    "start_time": "2022-02-16T17:57:48.516Z"
   },
   {
    "duration": 528,
    "start_time": "2022-02-16T17:57:48.534Z"
   },
   {
    "duration": 27,
    "start_time": "2022-02-16T17:57:49.064Z"
   },
   {
    "duration": 364,
    "start_time": "2022-02-16T17:57:49.092Z"
   },
   {
    "duration": 387,
    "start_time": "2022-02-16T17:57:49.458Z"
   },
   {
    "duration": 362,
    "start_time": "2022-02-16T17:57:49.847Z"
   },
   {
    "duration": 436,
    "start_time": "2022-02-16T17:57:50.210Z"
   },
   {
    "duration": 134,
    "start_time": "2022-02-16T17:57:50.648Z"
   },
   {
    "duration": 256,
    "start_time": "2022-02-16T17:57:50.784Z"
   },
   {
    "duration": 431,
    "start_time": "2022-02-16T17:57:51.042Z"
   },
   {
    "duration": 7,
    "start_time": "2022-02-16T17:57:51.475Z"
   },
   {
    "duration": 10,
    "start_time": "2022-02-16T17:57:51.484Z"
   },
   {
    "duration": 154,
    "start_time": "2022-02-16T17:57:51.495Z"
   },
   {
    "duration": 118,
    "start_time": "2022-02-16T17:57:51.651Z"
   },
   {
    "duration": -414,
    "start_time": "2022-02-16T17:57:52.185Z"
   },
   {
    "duration": -421,
    "start_time": "2022-02-16T17:57:52.193Z"
   },
   {
    "duration": -447,
    "start_time": "2022-02-16T17:57:52.220Z"
   },
   {
    "duration": -451,
    "start_time": "2022-02-16T17:57:52.226Z"
   },
   {
    "duration": -455,
    "start_time": "2022-02-16T17:57:52.231Z"
   },
   {
    "duration": -457,
    "start_time": "2022-02-16T17:57:52.234Z"
   },
   {
    "duration": -459,
    "start_time": "2022-02-16T17:57:52.237Z"
   },
   {
    "duration": -461,
    "start_time": "2022-02-16T17:57:52.240Z"
   },
   {
    "duration": -464,
    "start_time": "2022-02-16T17:57:52.244Z"
   },
   {
    "duration": -469,
    "start_time": "2022-02-16T17:57:52.250Z"
   },
   {
    "duration": -470,
    "start_time": "2022-02-16T17:57:52.252Z"
   },
   {
    "duration": 137,
    "start_time": "2022-02-16T17:58:41.628Z"
   },
   {
    "duration": 97,
    "start_time": "2022-02-16T18:07:32.698Z"
   },
   {
    "duration": 49,
    "start_time": "2022-02-16T18:07:32.798Z"
   },
   {
    "duration": 17,
    "start_time": "2022-02-16T18:07:32.849Z"
   },
   {
    "duration": 15,
    "start_time": "2022-02-16T18:07:32.868Z"
   },
   {
    "duration": 14,
    "start_time": "2022-02-16T18:07:32.885Z"
   },
   {
    "duration": 207,
    "start_time": "2022-02-16T18:07:32.900Z"
   },
   {
    "duration": 8,
    "start_time": "2022-02-16T18:07:33.109Z"
   },
   {
    "duration": 28,
    "start_time": "2022-02-16T18:07:33.120Z"
   },
   {
    "duration": 50,
    "start_time": "2022-02-16T18:07:33.151Z"
   },
   {
    "duration": 5,
    "start_time": "2022-02-16T18:07:33.202Z"
   },
   {
    "duration": 33,
    "start_time": "2022-02-16T18:07:33.208Z"
   },
   {
    "duration": 13,
    "start_time": "2022-02-16T18:07:33.243Z"
   },
   {
    "duration": 17,
    "start_time": "2022-02-16T18:07:33.258Z"
   },
   {
    "duration": 12,
    "start_time": "2022-02-16T18:07:33.277Z"
   },
   {
    "duration": 20,
    "start_time": "2022-02-16T18:07:33.291Z"
   },
   {
    "duration": 17,
    "start_time": "2022-02-16T18:07:33.312Z"
   },
   {
    "duration": 36,
    "start_time": "2022-02-16T18:07:33.331Z"
   },
   {
    "duration": 9,
    "start_time": "2022-02-16T18:07:33.369Z"
   },
   {
    "duration": 22,
    "start_time": "2022-02-16T18:07:33.379Z"
   },
   {
    "duration": 18,
    "start_time": "2022-02-16T18:07:33.402Z"
   },
   {
    "duration": 29,
    "start_time": "2022-02-16T18:07:33.421Z"
   },
   {
    "duration": 6,
    "start_time": "2022-02-16T18:07:33.452Z"
   },
   {
    "duration": 14,
    "start_time": "2022-02-16T18:07:33.462Z"
   },
   {
    "duration": 483,
    "start_time": "2022-02-16T18:07:33.478Z"
   },
   {
    "duration": 24,
    "start_time": "2022-02-16T18:07:33.962Z"
   },
   {
    "duration": 375,
    "start_time": "2022-02-16T18:07:33.988Z"
   },
   {
    "duration": 454,
    "start_time": "2022-02-16T18:07:34.364Z"
   },
   {
    "duration": 371,
    "start_time": "2022-02-16T18:07:34.820Z"
   },
   {
    "duration": 448,
    "start_time": "2022-02-16T18:07:35.193Z"
   },
   {
    "duration": 137,
    "start_time": "2022-02-16T18:07:35.643Z"
   },
   {
    "duration": 264,
    "start_time": "2022-02-16T18:07:35.782Z"
   },
   {
    "duration": 368,
    "start_time": "2022-02-16T18:07:36.048Z"
   },
   {
    "duration": 15,
    "start_time": "2022-02-16T18:07:36.418Z"
   },
   {
    "duration": 211,
    "start_time": "2022-02-16T18:07:36.437Z"
   },
   {
    "duration": 95,
    "start_time": "2022-02-16T18:07:36.650Z"
   },
   {
    "duration": -417,
    "start_time": "2022-02-16T18:07:37.164Z"
   },
   {
    "duration": -424,
    "start_time": "2022-02-16T18:07:37.172Z"
   },
   {
    "duration": -426,
    "start_time": "2022-02-16T18:07:37.175Z"
   },
   {
    "duration": -428,
    "start_time": "2022-02-16T18:07:37.178Z"
   },
   {
    "duration": -430,
    "start_time": "2022-02-16T18:07:37.181Z"
   },
   {
    "duration": -431,
    "start_time": "2022-02-16T18:07:37.183Z"
   },
   {
    "duration": -433,
    "start_time": "2022-02-16T18:07:37.186Z"
   },
   {
    "duration": -434,
    "start_time": "2022-02-16T18:07:37.188Z"
   },
   {
    "duration": -435,
    "start_time": "2022-02-16T18:07:37.190Z"
   },
   {
    "duration": -436,
    "start_time": "2022-02-16T18:07:37.192Z"
   },
   {
    "duration": -438,
    "start_time": "2022-02-16T18:07:37.195Z"
   },
   {
    "duration": 132,
    "start_time": "2022-02-16T18:08:20.276Z"
   },
   {
    "duration": 210,
    "start_time": "2022-02-16T18:09:04.556Z"
   },
   {
    "duration": 267,
    "start_time": "2022-02-16T18:12:04.347Z"
   },
   {
    "duration": 358,
    "start_time": "2022-02-16T18:12:47.245Z"
   },
   {
    "duration": 383,
    "start_time": "2022-02-16T18:12:53.748Z"
   },
   {
    "duration": 270,
    "start_time": "2022-02-16T18:13:32.099Z"
   },
   {
    "duration": 381,
    "start_time": "2022-02-16T18:13:42.499Z"
   },
   {
    "duration": 85,
    "start_time": "2022-02-16T18:16:09.755Z"
   },
   {
    "duration": 21,
    "start_time": "2022-02-16T18:16:09.845Z"
   },
   {
    "duration": 10,
    "start_time": "2022-02-16T18:16:09.868Z"
   },
   {
    "duration": 8,
    "start_time": "2022-02-16T18:16:09.880Z"
   },
   {
    "duration": 5,
    "start_time": "2022-02-16T18:16:09.890Z"
   },
   {
    "duration": 237,
    "start_time": "2022-02-16T18:16:09.897Z"
   },
   {
    "duration": 11,
    "start_time": "2022-02-16T18:16:10.136Z"
   },
   {
    "duration": 4,
    "start_time": "2022-02-16T18:16:10.149Z"
   },
   {
    "duration": 30,
    "start_time": "2022-02-16T18:16:10.155Z"
   },
   {
    "duration": 4,
    "start_time": "2022-02-16T18:16:10.187Z"
   },
   {
    "duration": 11,
    "start_time": "2022-02-16T18:16:10.192Z"
   },
   {
    "duration": 38,
    "start_time": "2022-02-16T18:16:10.204Z"
   },
   {
    "duration": 7,
    "start_time": "2022-02-16T18:16:10.243Z"
   },
   {
    "duration": 5,
    "start_time": "2022-02-16T18:16:10.251Z"
   },
   {
    "duration": 7,
    "start_time": "2022-02-16T18:16:10.257Z"
   },
   {
    "duration": 6,
    "start_time": "2022-02-16T18:16:10.265Z"
   },
   {
    "duration": 17,
    "start_time": "2022-02-16T18:16:10.272Z"
   },
   {
    "duration": 13,
    "start_time": "2022-02-16T18:16:10.291Z"
   },
   {
    "duration": 11,
    "start_time": "2022-02-16T18:16:10.305Z"
   },
   {
    "duration": 10,
    "start_time": "2022-02-16T18:16:10.317Z"
   },
   {
    "duration": 16,
    "start_time": "2022-02-16T18:16:10.328Z"
   },
   {
    "duration": 6,
    "start_time": "2022-02-16T18:16:10.346Z"
   },
   {
    "duration": 6,
    "start_time": "2022-02-16T18:16:10.355Z"
   },
   {
    "duration": 548,
    "start_time": "2022-02-16T18:16:10.363Z"
   },
   {
    "duration": 40,
    "start_time": "2022-02-16T18:16:10.913Z"
   },
   {
    "duration": 487,
    "start_time": "2022-02-16T18:16:10.954Z"
   },
   {
    "duration": 406,
    "start_time": "2022-02-16T18:16:11.444Z"
   },
   {
    "duration": 414,
    "start_time": "2022-02-16T18:16:11.852Z"
   },
   {
    "duration": 435,
    "start_time": "2022-02-16T18:16:12.268Z"
   },
   {
    "duration": 144,
    "start_time": "2022-02-16T18:16:12.704Z"
   },
   {
    "duration": 345,
    "start_time": "2022-02-16T18:16:12.850Z"
   },
   {
    "duration": 360,
    "start_time": "2022-02-16T18:16:13.196Z"
   },
   {
    "duration": 147,
    "start_time": "2022-02-16T18:16:13.558Z"
   },
   {
    "duration": 261,
    "start_time": "2022-02-16T18:16:13.706Z"
   },
   {
    "duration": 354,
    "start_time": "2022-02-16T18:16:13.969Z"
   },
   {
    "duration": 202,
    "start_time": "2022-02-16T18:16:14.325Z"
   },
   {
    "duration": 193,
    "start_time": "2022-02-16T18:16:14.529Z"
   },
   {
    "duration": 515,
    "start_time": "2022-02-16T18:16:14.724Z"
   },
   {
    "duration": 144,
    "start_time": "2022-02-16T18:16:15.241Z"
   },
   {
    "duration": -427,
    "start_time": "2022-02-16T18:16:15.814Z"
   },
   {
    "duration": -429,
    "start_time": "2022-02-16T18:16:15.817Z"
   },
   {
    "duration": -431,
    "start_time": "2022-02-16T18:16:15.820Z"
   },
   {
    "duration": -432,
    "start_time": "2022-02-16T18:16:15.822Z"
   },
   {
    "duration": -434,
    "start_time": "2022-02-16T18:16:15.825Z"
   },
   {
    "duration": -435,
    "start_time": "2022-02-16T18:16:15.827Z"
   },
   {
    "duration": -436,
    "start_time": "2022-02-16T18:16:15.829Z"
   },
   {
    "duration": 171,
    "start_time": "2022-02-16T18:16:40.986Z"
   },
   {
    "duration": 93,
    "start_time": "2022-02-16T18:16:45.699Z"
   },
   {
    "duration": 19,
    "start_time": "2022-02-16T18:16:45.794Z"
   },
   {
    "duration": 27,
    "start_time": "2022-02-16T18:16:45.815Z"
   },
   {
    "duration": 7,
    "start_time": "2022-02-16T18:16:45.844Z"
   },
   {
    "duration": 4,
    "start_time": "2022-02-16T18:16:45.852Z"
   },
   {
    "duration": 308,
    "start_time": "2022-02-16T18:16:45.858Z"
   },
   {
    "duration": 8,
    "start_time": "2022-02-16T18:16:46.168Z"
   },
   {
    "duration": 4,
    "start_time": "2022-02-16T18:16:46.178Z"
   },
   {
    "duration": 33,
    "start_time": "2022-02-16T18:16:46.183Z"
   },
   {
    "duration": 21,
    "start_time": "2022-02-16T18:16:46.218Z"
   },
   {
    "duration": 13,
    "start_time": "2022-02-16T18:16:46.241Z"
   },
   {
    "duration": 9,
    "start_time": "2022-02-16T18:16:46.257Z"
   },
   {
    "duration": 6,
    "start_time": "2022-02-16T18:16:46.267Z"
   },
   {
    "duration": 4,
    "start_time": "2022-02-16T18:16:46.275Z"
   },
   {
    "duration": 7,
    "start_time": "2022-02-16T18:16:46.280Z"
   },
   {
    "duration": 6,
    "start_time": "2022-02-16T18:16:46.289Z"
   },
   {
    "duration": 14,
    "start_time": "2022-02-16T18:16:46.296Z"
   },
   {
    "duration": 22,
    "start_time": "2022-02-16T18:16:46.312Z"
   },
   {
    "duration": 14,
    "start_time": "2022-02-16T18:16:46.335Z"
   },
   {
    "duration": 9,
    "start_time": "2022-02-16T18:16:46.350Z"
   },
   {
    "duration": 7,
    "start_time": "2022-02-16T18:16:46.361Z"
   },
   {
    "duration": 8,
    "start_time": "2022-02-16T18:16:46.369Z"
   },
   {
    "duration": 7,
    "start_time": "2022-02-16T18:16:46.380Z"
   },
   {
    "duration": 466,
    "start_time": "2022-02-16T18:16:46.389Z"
   },
   {
    "duration": 24,
    "start_time": "2022-02-16T18:16:46.857Z"
   },
   {
    "duration": 365,
    "start_time": "2022-02-16T18:16:46.882Z"
   },
   {
    "duration": 375,
    "start_time": "2022-02-16T18:16:47.248Z"
   },
   {
    "duration": 365,
    "start_time": "2022-02-16T18:16:47.624Z"
   },
   {
    "duration": 593,
    "start_time": "2022-02-16T18:16:47.991Z"
   },
   {
    "duration": 141,
    "start_time": "2022-02-16T18:16:48.587Z"
   },
   {
    "duration": 257,
    "start_time": "2022-02-16T18:16:48.732Z"
   },
   {
    "duration": 362,
    "start_time": "2022-02-16T18:16:48.991Z"
   },
   {
    "duration": 137,
    "start_time": "2022-02-16T18:16:49.354Z"
   },
   {
    "duration": 261,
    "start_time": "2022-02-16T18:16:49.492Z"
   },
   {
    "duration": 376,
    "start_time": "2022-02-16T18:16:49.755Z"
   },
   {
    "duration": 192,
    "start_time": "2022-02-16T18:16:50.134Z"
   },
   {
    "duration": 199,
    "start_time": "2022-02-16T18:16:50.328Z"
   },
   {
    "duration": 490,
    "start_time": "2022-02-16T18:16:50.529Z"
   },
   {
    "duration": 180,
    "start_time": "2022-02-16T18:16:51.021Z"
   },
   {
    "duration": 195,
    "start_time": "2022-02-16T18:16:51.203Z"
   },
   {
    "duration": 304,
    "start_time": "2022-02-16T18:16:51.400Z"
   },
   {
    "duration": 200,
    "start_time": "2022-02-16T18:16:51.705Z"
   },
   {
    "duration": 32,
    "start_time": "2022-02-16T18:16:51.906Z"
   },
   {
    "duration": 8,
    "start_time": "2022-02-16T18:16:51.939Z"
   },
   {
    "duration": 197,
    "start_time": "2022-02-16T18:16:51.948Z"
   },
   {
    "duration": 8,
    "start_time": "2022-02-16T18:18:51.347Z"
   },
   {
    "duration": 82,
    "start_time": "2022-02-16T18:25:55.738Z"
   },
   {
    "duration": 25,
    "start_time": "2022-02-16T18:25:55.833Z"
   },
   {
    "duration": 15,
    "start_time": "2022-02-16T18:25:55.860Z"
   },
   {
    "duration": 16,
    "start_time": "2022-02-16T18:25:55.877Z"
   },
   {
    "duration": 15,
    "start_time": "2022-02-16T18:25:55.895Z"
   },
   {
    "duration": 234,
    "start_time": "2022-02-16T18:25:55.912Z"
   },
   {
    "duration": 10,
    "start_time": "2022-02-16T18:25:56.149Z"
   },
   {
    "duration": 12,
    "start_time": "2022-02-16T18:25:56.162Z"
   },
   {
    "duration": 36,
    "start_time": "2022-02-16T18:25:56.176Z"
   },
   {
    "duration": 21,
    "start_time": "2022-02-16T18:25:56.214Z"
   },
   {
    "duration": 32,
    "start_time": "2022-02-16T18:25:56.237Z"
   },
   {
    "duration": 35,
    "start_time": "2022-02-16T18:25:56.270Z"
   },
   {
    "duration": 9,
    "start_time": "2022-02-16T18:25:56.306Z"
   },
   {
    "duration": 24,
    "start_time": "2022-02-16T18:25:56.316Z"
   },
   {
    "duration": 22,
    "start_time": "2022-02-16T18:25:56.343Z"
   },
   {
    "duration": 16,
    "start_time": "2022-02-16T18:25:56.367Z"
   },
   {
    "duration": 41,
    "start_time": "2022-02-16T18:25:56.385Z"
   },
   {
    "duration": 30,
    "start_time": "2022-02-16T18:25:56.428Z"
   },
   {
    "duration": 20,
    "start_time": "2022-02-16T18:25:56.460Z"
   },
   {
    "duration": 18,
    "start_time": "2022-02-16T18:25:56.481Z"
   },
   {
    "duration": 15,
    "start_time": "2022-02-16T18:25:56.500Z"
   },
   {
    "duration": 22,
    "start_time": "2022-02-16T18:25:56.516Z"
   },
   {
    "duration": 25,
    "start_time": "2022-02-16T18:25:56.543Z"
   },
   {
    "duration": 479,
    "start_time": "2022-02-16T18:25:56.571Z"
   },
   {
    "duration": 22,
    "start_time": "2022-02-16T18:25:57.052Z"
   },
   {
    "duration": 374,
    "start_time": "2022-02-16T18:25:57.076Z"
   },
   {
    "duration": 394,
    "start_time": "2022-02-16T18:25:57.452Z"
   },
   {
    "duration": 501,
    "start_time": "2022-02-16T18:25:57.848Z"
   },
   {
    "duration": 455,
    "start_time": "2022-02-16T18:25:58.351Z"
   },
   {
    "duration": 144,
    "start_time": "2022-02-16T18:25:58.807Z"
   },
   {
    "duration": 261,
    "start_time": "2022-02-16T18:25:58.952Z"
   },
   {
    "duration": 378,
    "start_time": "2022-02-16T18:25:59.215Z"
   },
   {
    "duration": 156,
    "start_time": "2022-02-16T18:25:59.595Z"
   },
   {
    "duration": 290,
    "start_time": "2022-02-16T18:25:59.753Z"
   },
   {
    "duration": 392,
    "start_time": "2022-02-16T18:26:00.045Z"
   },
   {
    "duration": 217,
    "start_time": "2022-02-16T18:26:00.438Z"
   },
   {
    "duration": 208,
    "start_time": "2022-02-16T18:26:00.657Z"
   },
   {
    "duration": 546,
    "start_time": "2022-02-16T18:26:00.867Z"
   },
   {
    "duration": 190,
    "start_time": "2022-02-16T18:26:01.414Z"
   },
   {
    "duration": 324,
    "start_time": "2022-02-16T18:26:01.606Z"
   },
   {
    "duration": 204,
    "start_time": "2022-02-16T18:26:01.931Z"
   },
   {
    "duration": 217,
    "start_time": "2022-02-16T18:26:02.137Z"
   },
   {
    "duration": 22,
    "start_time": "2022-02-16T18:26:02.356Z"
   },
   {
    "duration": 6,
    "start_time": "2022-02-16T18:26:02.380Z"
   },
   {
    "duration": 214,
    "start_time": "2022-02-16T18:26:02.387Z"
   },
   {
    "duration": 8,
    "start_time": "2022-02-16T18:26:02.602Z"
   },
   {
    "duration": 379,
    "start_time": "2022-02-16T18:26:02.611Z"
   },
   {
    "duration": -417,
    "start_time": "2022-02-16T18:26:03.408Z"
   },
   {
    "duration": -419,
    "start_time": "2022-02-16T18:26:03.411Z"
   },
   {
    "duration": -427,
    "start_time": "2022-02-16T18:26:03.420Z"
   },
   {
    "duration": -429,
    "start_time": "2022-02-16T18:26:03.423Z"
   },
   {
    "duration": -431,
    "start_time": "2022-02-16T18:26:03.426Z"
   },
   {
    "duration": 83,
    "start_time": "2022-02-16T18:26:49.011Z"
   },
   {
    "duration": 43,
    "start_time": "2022-02-16T18:26:49.095Z"
   },
   {
    "duration": 13,
    "start_time": "2022-02-16T18:26:49.141Z"
   },
   {
    "duration": 6,
    "start_time": "2022-02-16T18:26:49.156Z"
   },
   {
    "duration": 5,
    "start_time": "2022-02-16T18:26:49.164Z"
   },
   {
    "duration": 247,
    "start_time": "2022-02-16T18:26:49.171Z"
   },
   {
    "duration": 12,
    "start_time": "2022-02-16T18:26:49.420Z"
   },
   {
    "duration": 6,
    "start_time": "2022-02-16T18:26:49.436Z"
   },
   {
    "duration": 32,
    "start_time": "2022-02-16T18:26:49.444Z"
   },
   {
    "duration": 4,
    "start_time": "2022-02-16T18:26:49.478Z"
   },
   {
    "duration": 52,
    "start_time": "2022-02-16T18:26:49.483Z"
   },
   {
    "duration": 13,
    "start_time": "2022-02-16T18:26:49.537Z"
   },
   {
    "duration": 8,
    "start_time": "2022-02-16T18:26:49.552Z"
   },
   {
    "duration": 5,
    "start_time": "2022-02-16T18:26:49.561Z"
   },
   {
    "duration": 7,
    "start_time": "2022-02-16T18:26:49.568Z"
   },
   {
    "duration": 8,
    "start_time": "2022-02-16T18:26:49.576Z"
   },
   {
    "duration": 18,
    "start_time": "2022-02-16T18:26:49.585Z"
   },
   {
    "duration": 28,
    "start_time": "2022-02-16T18:26:49.605Z"
   },
   {
    "duration": 12,
    "start_time": "2022-02-16T18:26:49.635Z"
   },
   {
    "duration": 8,
    "start_time": "2022-02-16T18:26:49.649Z"
   },
   {
    "duration": 9,
    "start_time": "2022-02-16T18:26:49.658Z"
   },
   {
    "duration": 8,
    "start_time": "2022-02-16T18:26:49.669Z"
   },
   {
    "duration": 6,
    "start_time": "2022-02-16T18:26:49.681Z"
   },
   {
    "duration": 500,
    "start_time": "2022-02-16T18:26:49.689Z"
   },
   {
    "duration": 23,
    "start_time": "2022-02-16T18:26:50.190Z"
   },
   {
    "duration": 383,
    "start_time": "2022-02-16T18:26:50.215Z"
   },
   {
    "duration": 416,
    "start_time": "2022-02-16T18:26:50.600Z"
   },
   {
    "duration": 394,
    "start_time": "2022-02-16T18:26:51.018Z"
   },
   {
    "duration": 610,
    "start_time": "2022-02-16T18:26:51.413Z"
   },
   {
    "duration": 153,
    "start_time": "2022-02-16T18:26:52.025Z"
   },
   {
    "duration": 265,
    "start_time": "2022-02-16T18:26:52.180Z"
   },
   {
    "duration": 402,
    "start_time": "2022-02-16T18:26:52.446Z"
   },
   {
    "duration": 151,
    "start_time": "2022-02-16T18:26:52.849Z"
   },
   {
    "duration": 274,
    "start_time": "2022-02-16T18:26:53.002Z"
   },
   {
    "duration": 441,
    "start_time": "2022-02-16T18:26:53.278Z"
   },
   {
    "duration": 325,
    "start_time": "2022-02-16T18:26:53.720Z"
   },
   {
    "duration": 205,
    "start_time": "2022-02-16T18:26:54.047Z"
   },
   {
    "duration": 517,
    "start_time": "2022-02-16T18:26:54.253Z"
   },
   {
    "duration": 188,
    "start_time": "2022-02-16T18:26:54.772Z"
   },
   {
    "duration": 198,
    "start_time": "2022-02-16T18:26:54.962Z"
   },
   {
    "duration": 206,
    "start_time": "2022-02-16T18:26:55.162Z"
   },
   {
    "duration": 220,
    "start_time": "2022-02-16T18:26:55.370Z"
   },
   {
    "duration": 22,
    "start_time": "2022-02-16T18:26:55.591Z"
   },
   {
    "duration": 26,
    "start_time": "2022-02-16T18:26:55.615Z"
   },
   {
    "duration": 210,
    "start_time": "2022-02-16T18:26:55.643Z"
   },
   {
    "duration": 8,
    "start_time": "2022-02-16T18:26:55.854Z"
   },
   {
    "duration": 514,
    "start_time": "2022-02-16T18:26:55.863Z"
   },
   {
    "duration": -434,
    "start_time": "2022-02-16T18:26:56.813Z"
   },
   {
    "duration": -436,
    "start_time": "2022-02-16T18:26:56.817Z"
   },
   {
    "duration": -438,
    "start_time": "2022-02-16T18:26:56.820Z"
   },
   {
    "duration": -440,
    "start_time": "2022-02-16T18:26:56.823Z"
   },
   {
    "duration": -441,
    "start_time": "2022-02-16T18:26:56.826Z"
   },
   {
    "duration": 195,
    "start_time": "2022-02-16T18:27:39.218Z"
   },
   {
    "duration": 175,
    "start_time": "2022-02-16T18:27:48.027Z"
   },
   {
    "duration": 489,
    "start_time": "2022-02-16T18:27:52.588Z"
   },
   {
    "duration": 183,
    "start_time": "2022-02-16T18:27:56.245Z"
   },
   {
    "duration": 482,
    "start_time": "2022-02-16T18:27:59.123Z"
   },
   {
    "duration": 204,
    "start_time": "2022-02-16T18:28:09.731Z"
   },
   {
    "duration": 197,
    "start_time": "2022-02-16T18:28:16.860Z"
   },
   {
    "duration": 82,
    "start_time": "2022-02-16T18:47:33.646Z"
   },
   {
    "duration": 27,
    "start_time": "2022-02-16T18:47:33.730Z"
   },
   {
    "duration": 10,
    "start_time": "2022-02-16T18:47:33.759Z"
   },
   {
    "duration": 6,
    "start_time": "2022-02-16T18:47:33.771Z"
   },
   {
    "duration": 6,
    "start_time": "2022-02-16T18:47:33.778Z"
   },
   {
    "duration": 260,
    "start_time": "2022-02-16T18:47:33.785Z"
   },
   {
    "duration": 8,
    "start_time": "2022-02-16T18:47:34.046Z"
   },
   {
    "duration": 5,
    "start_time": "2022-02-16T18:47:34.056Z"
   },
   {
    "duration": 33,
    "start_time": "2022-02-16T18:47:34.063Z"
   },
   {
    "duration": 35,
    "start_time": "2022-02-16T18:47:34.097Z"
   },
   {
    "duration": 17,
    "start_time": "2022-02-16T18:47:34.133Z"
   },
   {
    "duration": 9,
    "start_time": "2022-02-16T18:47:34.151Z"
   },
   {
    "duration": 6,
    "start_time": "2022-02-16T18:47:34.162Z"
   },
   {
    "duration": 3,
    "start_time": "2022-02-16T18:47:34.170Z"
   },
   {
    "duration": 8,
    "start_time": "2022-02-16T18:47:34.174Z"
   },
   {
    "duration": 7,
    "start_time": "2022-02-16T18:47:34.184Z"
   },
   {
    "duration": 41,
    "start_time": "2022-02-16T18:47:34.193Z"
   },
   {
    "duration": 4,
    "start_time": "2022-02-16T18:47:34.237Z"
   },
   {
    "duration": 8,
    "start_time": "2022-02-16T18:47:34.244Z"
   },
   {
    "duration": 9,
    "start_time": "2022-02-16T18:47:34.253Z"
   },
   {
    "duration": 11,
    "start_time": "2022-02-16T18:47:34.264Z"
   },
   {
    "duration": 8,
    "start_time": "2022-02-16T18:47:34.276Z"
   },
   {
    "duration": 6,
    "start_time": "2022-02-16T18:47:34.287Z"
   },
   {
    "duration": 488,
    "start_time": "2022-02-16T18:47:34.295Z"
   },
   {
    "duration": 24,
    "start_time": "2022-02-16T18:47:34.784Z"
   },
   {
    "duration": 388,
    "start_time": "2022-02-16T18:47:34.809Z"
   },
   {
    "duration": 402,
    "start_time": "2022-02-16T18:47:35.198Z"
   },
   {
    "duration": 388,
    "start_time": "2022-02-16T18:47:35.602Z"
   },
   {
    "duration": 478,
    "start_time": "2022-02-16T18:47:35.992Z"
   },
   {
    "duration": 367,
    "start_time": "2022-02-16T18:47:36.472Z"
   },
   {
    "duration": 280,
    "start_time": "2022-02-16T18:47:36.841Z"
   },
   {
    "duration": 501,
    "start_time": "2022-02-16T18:47:37.123Z"
   },
   {
    "duration": 201,
    "start_time": "2022-02-16T18:47:37.626Z"
   },
   {
    "duration": 290,
    "start_time": "2022-02-16T18:47:37.829Z"
   },
   {
    "duration": 442,
    "start_time": "2022-02-16T18:47:38.120Z"
   },
   {
    "duration": 227,
    "start_time": "2022-02-16T18:47:38.564Z"
   },
   {
    "duration": 218,
    "start_time": "2022-02-16T18:47:38.793Z"
   },
   {
    "duration": 504,
    "start_time": "2022-02-16T18:47:39.013Z"
   },
   {
    "duration": 197,
    "start_time": "2022-02-16T18:47:39.518Z"
   },
   {
    "duration": 203,
    "start_time": "2022-02-16T18:47:39.717Z"
   },
   {
    "duration": 205,
    "start_time": "2022-02-16T18:47:39.922Z"
   },
   {
    "duration": 205,
    "start_time": "2022-02-16T18:47:40.128Z"
   },
   {
    "duration": 24,
    "start_time": "2022-02-16T18:47:40.335Z"
   },
   {
    "duration": 8,
    "start_time": "2022-02-16T18:47:40.360Z"
   },
   {
    "duration": 284,
    "start_time": "2022-02-16T18:47:40.370Z"
   },
   {
    "duration": 9,
    "start_time": "2022-02-16T18:47:40.659Z"
   },
   {
    "duration": 257,
    "start_time": "2022-02-16T18:47:40.670Z"
   },
   {
    "duration": 189,
    "start_time": "2022-02-16T18:47:40.929Z"
   },
   {
    "duration": 325,
    "start_time": "2022-02-16T18:47:41.120Z"
   },
   {
    "duration": 212,
    "start_time": "2022-02-16T18:47:41.448Z"
   },
   {
    "duration": 227,
    "start_time": "2022-02-16T18:47:41.661Z"
   },
   {
    "duration": 235,
    "start_time": "2022-02-16T18:47:41.891Z"
   },
   {
    "duration": 277,
    "start_time": "2022-02-28T18:14:00.148Z"
   },
   {
    "duration": 661,
    "start_time": "2022-02-28T18:14:13.082Z"
   },
   {
    "duration": 21,
    "start_time": "2022-02-28T18:14:13.745Z"
   },
   {
    "duration": 12,
    "start_time": "2022-02-28T18:14:13.768Z"
   },
   {
    "duration": 9,
    "start_time": "2022-02-28T18:14:13.782Z"
   },
   {
    "duration": 6,
    "start_time": "2022-02-28T18:14:13.792Z"
   },
   {
    "duration": 215,
    "start_time": "2022-02-28T18:14:13.833Z"
   },
   {
    "duration": 8,
    "start_time": "2022-02-28T18:14:14.050Z"
   },
   {
    "duration": 3,
    "start_time": "2022-02-28T18:14:14.061Z"
   },
   {
    "duration": 33,
    "start_time": "2022-02-28T18:14:14.066Z"
   },
   {
    "duration": 4,
    "start_time": "2022-02-28T18:14:14.101Z"
   },
   {
    "duration": 38,
    "start_time": "2022-02-28T18:14:14.106Z"
   },
   {
    "duration": 9,
    "start_time": "2022-02-28T18:14:14.146Z"
   },
   {
    "duration": 7,
    "start_time": "2022-02-28T18:14:14.157Z"
   },
   {
    "duration": 7,
    "start_time": "2022-02-28T18:14:14.165Z"
   },
   {
    "duration": 10,
    "start_time": "2022-02-28T18:14:14.173Z"
   },
   {
    "duration": 3,
    "start_time": "2022-02-28T18:14:14.184Z"
   },
   {
    "duration": 9,
    "start_time": "2022-02-28T18:14:14.189Z"
   },
   {
    "duration": 4,
    "start_time": "2022-02-28T18:14:14.200Z"
   },
   {
    "duration": 28,
    "start_time": "2022-02-28T18:14:14.205Z"
   },
   {
    "duration": 7,
    "start_time": "2022-02-28T18:14:14.235Z"
   },
   {
    "duration": 5,
    "start_time": "2022-02-28T18:14:14.244Z"
   },
   {
    "duration": 5,
    "start_time": "2022-02-28T18:14:14.250Z"
   },
   {
    "duration": 5,
    "start_time": "2022-02-28T18:14:14.258Z"
   },
   {
    "duration": 543,
    "start_time": "2022-02-28T18:14:14.266Z"
   },
   {
    "duration": 35,
    "start_time": "2022-02-28T18:14:14.810Z"
   },
   {
    "duration": 372,
    "start_time": "2022-02-28T18:14:14.847Z"
   },
   {
    "duration": 387,
    "start_time": "2022-02-28T18:14:15.221Z"
   },
   {
    "duration": 363,
    "start_time": "2022-02-28T18:14:15.610Z"
   },
   {
    "duration": 441,
    "start_time": "2022-02-28T18:14:15.975Z"
   },
   {
    "duration": 135,
    "start_time": "2022-02-28T18:14:16.418Z"
   },
   {
    "duration": 248,
    "start_time": "2022-02-28T18:14:16.555Z"
   },
   {
    "duration": 425,
    "start_time": "2022-02-28T18:14:16.804Z"
   },
   {
    "duration": 150,
    "start_time": "2022-02-28T18:14:17.233Z"
   },
   {
    "duration": 265,
    "start_time": "2022-02-28T18:14:17.384Z"
   },
   {
    "duration": 448,
    "start_time": "2022-02-28T18:14:17.650Z"
   },
   {
    "duration": 220,
    "start_time": "2022-02-28T18:14:18.100Z"
   },
   {
    "duration": 221,
    "start_time": "2022-02-28T18:14:18.321Z"
   },
   {
    "duration": 490,
    "start_time": "2022-02-28T18:14:18.544Z"
   },
   {
    "duration": 216,
    "start_time": "2022-02-28T18:14:19.036Z"
   },
   {
    "duration": -24,
    "start_time": "2022-02-28T18:14:19.278Z"
   },
   {
    "duration": -40,
    "start_time": "2022-02-28T18:14:19.295Z"
   },
   {
    "duration": -47,
    "start_time": "2022-02-28T18:14:19.303Z"
   },
   {
    "duration": -49,
    "start_time": "2022-02-28T18:14:19.306Z"
   },
   {
    "duration": -52,
    "start_time": "2022-02-28T18:14:19.310Z"
   },
   {
    "duration": -54,
    "start_time": "2022-02-28T18:14:19.314Z"
   },
   {
    "duration": -60,
    "start_time": "2022-02-28T18:14:19.321Z"
   },
   {
    "duration": -62,
    "start_time": "2022-02-28T18:14:19.324Z"
   },
   {
    "duration": -63,
    "start_time": "2022-02-28T18:14:19.326Z"
   },
   {
    "duration": -66,
    "start_time": "2022-02-28T18:14:19.330Z"
   },
   {
    "duration": -69,
    "start_time": "2022-02-28T18:14:19.334Z"
   },
   {
    "duration": -70,
    "start_time": "2022-02-28T18:14:19.336Z"
   },
   {
    "duration": -72,
    "start_time": "2022-02-28T18:14:19.339Z"
   },
   {
    "duration": 230,
    "start_time": "2022-02-28T18:15:05.779Z"
   },
   {
    "duration": 185,
    "start_time": "2022-02-28T18:15:14.449Z"
   },
   {
    "duration": 183,
    "start_time": "2022-02-28T18:15:46.581Z"
   },
   {
    "duration": 168,
    "start_time": "2022-02-28T18:16:10.276Z"
   },
   {
    "duration": 171,
    "start_time": "2022-02-28T18:18:02.714Z"
   },
   {
    "duration": 228,
    "start_time": "2022-02-28T18:19:23.304Z"
   },
   {
    "duration": 183,
    "start_time": "2022-02-28T18:19:40.547Z"
   },
   {
    "duration": 172,
    "start_time": "2022-02-28T18:19:46.587Z"
   },
   {
    "duration": 334,
    "start_time": "2022-02-28T18:24:49.625Z"
   },
   {
    "duration": 214,
    "start_time": "2022-02-28T18:24:54.707Z"
   },
   {
    "duration": 12,
    "start_time": "2022-02-28T18:25:45.400Z"
   },
   {
    "duration": 177,
    "start_time": "2022-02-28T18:28:22.210Z"
   },
   {
    "duration": 569,
    "start_time": "2022-02-28T18:28:49.574Z"
   },
   {
    "duration": 20,
    "start_time": "2022-02-28T18:28:50.145Z"
   },
   {
    "duration": 10,
    "start_time": "2022-02-28T18:28:50.167Z"
   },
   {
    "duration": 7,
    "start_time": "2022-02-28T18:28:50.179Z"
   },
   {
    "duration": 7,
    "start_time": "2022-02-28T18:28:50.187Z"
   },
   {
    "duration": 233,
    "start_time": "2022-02-28T18:28:50.196Z"
   },
   {
    "duration": 8,
    "start_time": "2022-02-28T18:28:50.433Z"
   },
   {
    "duration": 3,
    "start_time": "2022-02-28T18:28:50.444Z"
   },
   {
    "duration": 31,
    "start_time": "2022-02-28T18:28:50.449Z"
   },
   {
    "duration": 5,
    "start_time": "2022-02-28T18:28:50.481Z"
   },
   {
    "duration": 12,
    "start_time": "2022-02-28T18:28:50.487Z"
   },
   {
    "duration": 39,
    "start_time": "2022-02-28T18:28:50.501Z"
   },
   {
    "duration": 7,
    "start_time": "2022-02-28T18:28:50.541Z"
   },
   {
    "duration": 4,
    "start_time": "2022-02-28T18:28:50.550Z"
   },
   {
    "duration": 17,
    "start_time": "2022-02-28T18:28:50.555Z"
   },
   {
    "duration": 3,
    "start_time": "2022-02-28T18:28:50.574Z"
   },
   {
    "duration": 9,
    "start_time": "2022-02-28T18:28:50.579Z"
   },
   {
    "duration": 4,
    "start_time": "2022-02-28T18:28:50.590Z"
   },
   {
    "duration": 7,
    "start_time": "2022-02-28T18:28:50.596Z"
   },
   {
    "duration": 32,
    "start_time": "2022-02-28T18:28:50.605Z"
   },
   {
    "duration": 7,
    "start_time": "2022-02-28T18:28:50.639Z"
   },
   {
    "duration": 5,
    "start_time": "2022-02-28T18:28:50.648Z"
   },
   {
    "duration": 5,
    "start_time": "2022-02-28T18:28:50.656Z"
   },
   {
    "duration": 479,
    "start_time": "2022-02-28T18:28:50.663Z"
   },
   {
    "duration": 26,
    "start_time": "2022-02-28T18:28:51.144Z"
   },
   {
    "duration": 448,
    "start_time": "2022-02-28T18:28:51.171Z"
   },
   {
    "duration": 402,
    "start_time": "2022-02-28T18:28:51.621Z"
   },
   {
    "duration": 374,
    "start_time": "2022-02-28T18:28:52.033Z"
   },
   {
    "duration": 440,
    "start_time": "2022-02-28T18:28:52.409Z"
   },
   {
    "duration": 145,
    "start_time": "2022-02-28T18:28:52.851Z"
   },
   {
    "duration": 257,
    "start_time": "2022-02-28T18:28:52.998Z"
   },
   {
    "duration": 464,
    "start_time": "2022-02-28T18:28:53.256Z"
   },
   {
    "duration": 156,
    "start_time": "2022-02-28T18:28:53.722Z"
   },
   {
    "duration": 277,
    "start_time": "2022-02-28T18:28:53.880Z"
   },
   {
    "duration": 386,
    "start_time": "2022-02-28T18:28:54.159Z"
   },
   {
    "duration": 209,
    "start_time": "2022-02-28T18:28:54.546Z"
   },
   {
    "duration": 204,
    "start_time": "2022-02-28T18:28:54.756Z"
   },
   {
    "duration": 525,
    "start_time": "2022-02-28T18:28:54.961Z"
   },
   {
    "duration": 2,
    "start_time": "2022-02-28T18:28:55.488Z"
   },
   {
    "duration": 13,
    "start_time": "2022-02-28T18:28:55.491Z"
   },
   {
    "duration": 197,
    "start_time": "2022-02-28T18:28:55.506Z"
   },
   {
    "duration": -19,
    "start_time": "2022-02-28T18:28:55.723Z"
   },
   {
    "duration": -29,
    "start_time": "2022-02-28T18:28:55.734Z"
   },
   {
    "duration": -31,
    "start_time": "2022-02-28T18:28:55.737Z"
   },
   {
    "duration": -35,
    "start_time": "2022-02-28T18:28:55.742Z"
   },
   {
    "duration": -43,
    "start_time": "2022-02-28T18:28:55.751Z"
   },
   {
    "duration": -45,
    "start_time": "2022-02-28T18:28:55.754Z"
   },
   {
    "duration": -49,
    "start_time": "2022-02-28T18:28:55.758Z"
   },
   {
    "duration": -56,
    "start_time": "2022-02-28T18:28:55.767Z"
   },
   {
    "duration": -58,
    "start_time": "2022-02-28T18:28:55.769Z"
   },
   {
    "duration": -60,
    "start_time": "2022-02-28T18:28:55.772Z"
   },
   {
    "duration": -63,
    "start_time": "2022-02-28T18:28:55.776Z"
   },
   {
    "duration": -65,
    "start_time": "2022-02-28T18:28:55.779Z"
   },
   {
    "duration": -67,
    "start_time": "2022-02-28T18:28:55.782Z"
   },
   {
    "duration": 82,
    "start_time": "2022-02-28T18:30:11.539Z"
   },
   {
    "duration": 26,
    "start_time": "2022-02-28T18:30:11.623Z"
   },
   {
    "duration": 9,
    "start_time": "2022-02-28T18:30:11.651Z"
   },
   {
    "duration": 7,
    "start_time": "2022-02-28T18:30:11.662Z"
   },
   {
    "duration": 5,
    "start_time": "2022-02-28T18:30:11.671Z"
   },
   {
    "duration": 227,
    "start_time": "2022-02-28T18:30:11.677Z"
   },
   {
    "duration": 8,
    "start_time": "2022-02-28T18:30:11.906Z"
   },
   {
    "duration": 17,
    "start_time": "2022-02-28T18:30:11.916Z"
   },
   {
    "duration": 30,
    "start_time": "2022-02-28T18:30:11.936Z"
   },
   {
    "duration": 4,
    "start_time": "2022-02-28T18:30:11.968Z"
   },
   {
    "duration": 12,
    "start_time": "2022-02-28T18:30:11.974Z"
   },
   {
    "duration": 20,
    "start_time": "2022-02-28T18:30:11.988Z"
   },
   {
    "duration": 23,
    "start_time": "2022-02-28T18:30:12.010Z"
   },
   {
    "duration": 5,
    "start_time": "2022-02-28T18:30:12.034Z"
   },
   {
    "duration": 7,
    "start_time": "2022-02-28T18:30:12.040Z"
   },
   {
    "duration": 4,
    "start_time": "2022-02-28T18:30:12.048Z"
   },
   {
    "duration": 11,
    "start_time": "2022-02-28T18:30:12.053Z"
   },
   {
    "duration": 5,
    "start_time": "2022-02-28T18:30:12.066Z"
   },
   {
    "duration": 9,
    "start_time": "2022-02-28T18:30:12.072Z"
   },
   {
    "duration": 6,
    "start_time": "2022-02-28T18:30:12.083Z"
   },
   {
    "duration": 8,
    "start_time": "2022-02-28T18:30:12.090Z"
   },
   {
    "duration": 33,
    "start_time": "2022-02-28T18:30:12.100Z"
   },
   {
    "duration": 6,
    "start_time": "2022-02-28T18:30:12.135Z"
   },
   {
    "duration": 558,
    "start_time": "2022-02-28T18:30:12.142Z"
   },
   {
    "duration": 33,
    "start_time": "2022-02-28T18:30:12.701Z"
   },
   {
    "duration": 372,
    "start_time": "2022-02-28T18:30:12.735Z"
   },
   {
    "duration": 398,
    "start_time": "2022-02-28T18:30:13.111Z"
   },
   {
    "duration": 376,
    "start_time": "2022-02-28T18:30:13.511Z"
   },
   {
    "duration": 447,
    "start_time": "2022-02-28T18:30:13.888Z"
   },
   {
    "duration": 141,
    "start_time": "2022-02-28T18:30:14.337Z"
   },
   {
    "duration": 255,
    "start_time": "2022-02-28T18:30:14.480Z"
   },
   {
    "duration": 490,
    "start_time": "2022-02-28T18:30:14.736Z"
   },
   {
    "duration": 151,
    "start_time": "2022-02-28T18:30:15.227Z"
   },
   {
    "duration": 270,
    "start_time": "2022-02-28T18:30:15.380Z"
   },
   {
    "duration": 378,
    "start_time": "2022-02-28T18:30:15.651Z"
   },
   {
    "duration": 209,
    "start_time": "2022-02-28T18:30:16.032Z"
   },
   {
    "duration": 203,
    "start_time": "2022-02-28T18:30:16.242Z"
   },
   {
    "duration": 499,
    "start_time": "2022-02-28T18:30:16.447Z"
   },
   {
    "duration": 2,
    "start_time": "2022-02-28T18:30:16.948Z"
   },
   {
    "duration": 14,
    "start_time": "2022-02-28T18:30:16.951Z"
   },
   {
    "duration": 4752,
    "start_time": "2022-02-28T18:30:16.967Z"
   },
   {
    "duration": -52,
    "start_time": "2022-02-28T18:30:21.773Z"
   },
   {
    "duration": -54,
    "start_time": "2022-02-28T18:30:21.777Z"
   },
   {
    "duration": -57,
    "start_time": "2022-02-28T18:30:21.781Z"
   },
   {
    "duration": -58,
    "start_time": "2022-02-28T18:30:21.784Z"
   },
   {
    "duration": -61,
    "start_time": "2022-02-28T18:30:21.788Z"
   },
   {
    "duration": -62,
    "start_time": "2022-02-28T18:30:21.791Z"
   },
   {
    "duration": -64,
    "start_time": "2022-02-28T18:30:21.794Z"
   },
   {
    "duration": -66,
    "start_time": "2022-02-28T18:30:21.797Z"
   },
   {
    "duration": -67,
    "start_time": "2022-02-28T18:30:21.800Z"
   },
   {
    "duration": -69,
    "start_time": "2022-02-28T18:30:21.803Z"
   },
   {
    "duration": -71,
    "start_time": "2022-02-28T18:30:21.806Z"
   },
   {
    "duration": -71,
    "start_time": "2022-02-28T18:30:21.808Z"
   },
   {
    "duration": -73,
    "start_time": "2022-02-28T18:30:21.811Z"
   },
   {
    "duration": 5184,
    "start_time": "2022-02-28T18:31:06.419Z"
   },
   {
    "duration": 5187,
    "start_time": "2022-02-28T18:32:30.519Z"
   },
   {
    "duration": -19,
    "start_time": "2022-02-28T19:03:48.836Z"
   },
   {
    "duration": -27,
    "start_time": "2022-02-28T19:03:48.847Z"
   },
   {
    "duration": -28,
    "start_time": "2022-02-28T19:03:48.852Z"
   },
   {
    "duration": -29,
    "start_time": "2022-02-28T19:03:48.856Z"
   },
   {
    "duration": -37,
    "start_time": "2022-02-28T19:03:48.868Z"
   },
   {
    "duration": -37,
    "start_time": "2022-02-28T19:03:48.871Z"
   },
   {
    "duration": -38,
    "start_time": "2022-02-28T19:03:48.875Z"
   },
   {
    "duration": -38,
    "start_time": "2022-02-28T19:03:48.879Z"
   },
   {
    "duration": -38,
    "start_time": "2022-02-28T19:03:48.882Z"
   },
   {
    "duration": -37,
    "start_time": "2022-02-28T19:03:48.885Z"
   },
   {
    "duration": -44,
    "start_time": "2022-02-28T19:03:48.895Z"
   },
   {
    "duration": -44,
    "start_time": "2022-02-28T19:03:48.898Z"
   },
   {
    "duration": -43,
    "start_time": "2022-02-28T19:03:48.901Z"
   },
   {
    "duration": -43,
    "start_time": "2022-02-28T19:03:48.904Z"
   },
   {
    "duration": -43,
    "start_time": "2022-02-28T19:03:48.908Z"
   },
   {
    "duration": -44,
    "start_time": "2022-02-28T19:03:48.912Z"
   },
   {
    "duration": -114,
    "start_time": "2022-02-28T19:03:48.986Z"
   },
   {
    "duration": -55,
    "start_time": "2022-02-28T19:03:48.990Z"
   },
   {
    "duration": -54,
    "start_time": "2022-02-28T19:03:48.993Z"
   },
   {
    "duration": -133,
    "start_time": "2022-02-28T19:03:49.076Z"
   },
   {
    "duration": -133,
    "start_time": "2022-02-28T19:03:49.079Z"
   },
   {
    "duration": -131,
    "start_time": "2022-02-28T19:03:49.083Z"
   },
   {
    "duration": -130,
    "start_time": "2022-02-28T19:03:49.086Z"
   },
   {
    "duration": -130,
    "start_time": "2022-02-28T19:03:49.090Z"
   },
   {
    "duration": -129,
    "start_time": "2022-02-28T19:03:49.093Z"
   },
   {
    "duration": -127,
    "start_time": "2022-02-28T19:03:49.096Z"
   },
   {
    "duration": -118,
    "start_time": "2022-02-28T19:03:49.152Z"
   },
   {
    "duration": -117,
    "start_time": "2022-02-28T19:03:49.155Z"
   },
   {
    "duration": -117,
    "start_time": "2022-02-28T19:03:49.158Z"
   },
   {
    "duration": -116,
    "start_time": "2022-02-28T19:03:49.161Z"
   },
   {
    "duration": -117,
    "start_time": "2022-02-28T19:03:49.165Z"
   },
   {
    "duration": -118,
    "start_time": "2022-02-28T19:03:49.169Z"
   },
   {
    "duration": -117,
    "start_time": "2022-02-28T19:03:49.172Z"
   },
   {
    "duration": -116,
    "start_time": "2022-02-28T19:03:49.174Z"
   },
   {
    "duration": -116,
    "start_time": "2022-02-28T19:03:49.178Z"
   },
   {
    "duration": -114,
    "start_time": "2022-02-28T19:03:49.180Z"
   },
   {
    "duration": -114,
    "start_time": "2022-02-28T19:03:49.183Z"
   },
   {
    "duration": -71,
    "start_time": "2022-02-28T19:03:49.207Z"
   },
   {
    "duration": -71,
    "start_time": "2022-02-28T19:03:49.210Z"
   },
   {
    "duration": -70,
    "start_time": "2022-02-28T19:03:49.213Z"
   },
   {
    "duration": -69,
    "start_time": "2022-02-28T19:03:49.216Z"
   },
   {
    "duration": -69,
    "start_time": "2022-02-28T19:03:49.219Z"
   },
   {
    "duration": -68,
    "start_time": "2022-02-28T19:03:49.222Z"
   },
   {
    "duration": -67,
    "start_time": "2022-02-28T19:03:49.225Z"
   },
   {
    "duration": -67,
    "start_time": "2022-02-28T19:03:49.228Z"
   },
   {
    "duration": -74,
    "start_time": "2022-02-28T19:03:49.239Z"
   },
   {
    "duration": -74,
    "start_time": "2022-02-28T19:03:49.242Z"
   },
   {
    "duration": -54,
    "start_time": "2022-02-28T19:03:49.288Z"
   },
   {
    "duration": -53,
    "start_time": "2022-02-28T19:03:49.291Z"
   },
   {
    "duration": -53,
    "start_time": "2022-02-28T19:03:49.295Z"
   },
   {
    "duration": -52,
    "start_time": "2022-02-28T19:03:49.298Z"
   },
   {
    "duration": -52,
    "start_time": "2022-02-28T19:03:49.301Z"
   },
   {
    "duration": -52,
    "start_time": "2022-02-28T19:03:49.304Z"
   },
   {
    "duration": -61,
    "start_time": "2022-02-28T19:03:49.316Z"
   },
   {
    "duration": 1198,
    "start_time": "2022-02-28T19:04:59.157Z"
   },
   {
    "duration": 24,
    "start_time": "2022-02-28T19:05:00.357Z"
   },
   {
    "duration": 12,
    "start_time": "2022-02-28T19:05:00.383Z"
   },
   {
    "duration": 8,
    "start_time": "2022-02-28T19:05:00.398Z"
   },
   {
    "duration": 28,
    "start_time": "2022-02-28T19:05:00.408Z"
   },
   {
    "duration": 223,
    "start_time": "2022-02-28T19:05:00.438Z"
   },
   {
    "duration": 8,
    "start_time": "2022-02-28T19:05:00.663Z"
   },
   {
    "duration": 4,
    "start_time": "2022-02-28T19:05:00.673Z"
   },
   {
    "duration": 32,
    "start_time": "2022-02-28T19:05:00.680Z"
   },
   {
    "duration": 21,
    "start_time": "2022-02-28T19:05:00.714Z"
   },
   {
    "duration": 15,
    "start_time": "2022-02-28T19:05:00.737Z"
   },
   {
    "duration": 21,
    "start_time": "2022-02-28T19:05:00.753Z"
   },
   {
    "duration": 3,
    "start_time": "2022-02-28T19:05:00.776Z"
   },
   {
    "duration": 12,
    "start_time": "2022-02-28T19:05:00.781Z"
   },
   {
    "duration": 7,
    "start_time": "2022-02-28T19:05:00.795Z"
   },
   {
    "duration": 12,
    "start_time": "2022-02-28T19:05:00.804Z"
   },
   {
    "duration": 21,
    "start_time": "2022-02-28T19:05:00.818Z"
   },
   {
    "duration": 4,
    "start_time": "2022-02-28T19:05:00.841Z"
   },
   {
    "duration": 10,
    "start_time": "2022-02-28T19:05:00.847Z"
   },
   {
    "duration": 16,
    "start_time": "2022-02-28T19:05:00.859Z"
   },
   {
    "duration": 8,
    "start_time": "2022-02-28T19:05:00.876Z"
   },
   {
    "duration": 10,
    "start_time": "2022-02-28T19:05:00.885Z"
   },
   {
    "duration": 12,
    "start_time": "2022-02-28T19:05:00.897Z"
   },
   {
    "duration": 534,
    "start_time": "2022-02-28T19:05:00.911Z"
   },
   {
    "duration": 27,
    "start_time": "2022-02-28T19:05:01.447Z"
   },
   {
    "duration": 393,
    "start_time": "2022-02-28T19:05:01.476Z"
   },
   {
    "duration": 462,
    "start_time": "2022-02-28T19:05:01.873Z"
   },
   {
    "duration": 409,
    "start_time": "2022-02-28T19:05:02.337Z"
   },
   {
    "duration": 441,
    "start_time": "2022-02-28T19:05:02.748Z"
   },
   {
    "duration": 135,
    "start_time": "2022-02-28T19:05:03.191Z"
   },
   {
    "duration": 272,
    "start_time": "2022-02-28T19:05:03.333Z"
   },
   {
    "duration": 366,
    "start_time": "2022-02-28T19:05:03.607Z"
   },
   {
    "duration": 148,
    "start_time": "2022-02-28T19:05:03.975Z"
   },
   {
    "duration": 355,
    "start_time": "2022-02-28T19:05:04.125Z"
   },
   {
    "duration": 376,
    "start_time": "2022-02-28T19:05:04.482Z"
   },
   {
    "duration": 220,
    "start_time": "2022-02-28T19:05:04.859Z"
   },
   {
    "duration": 211,
    "start_time": "2022-02-28T19:05:05.080Z"
   },
   {
    "duration": 509,
    "start_time": "2022-02-28T19:05:05.293Z"
   },
   {
    "duration": 231,
    "start_time": "2022-02-28T19:05:05.804Z"
   },
   {
    "duration": 204,
    "start_time": "2022-02-28T19:05:06.038Z"
   },
   {
    "duration": 200,
    "start_time": "2022-02-28T19:05:06.244Z"
   },
   {
    "duration": 198,
    "start_time": "2022-02-28T19:05:06.445Z"
   },
   {
    "duration": 260,
    "start_time": "2022-02-28T19:05:06.645Z"
   },
   {
    "duration": -36,
    "start_time": "2022-02-28T19:05:06.943Z"
   },
   {
    "duration": -39,
    "start_time": "2022-02-28T19:05:06.947Z"
   },
   {
    "duration": -40,
    "start_time": "2022-02-28T19:05:06.949Z"
   },
   {
    "duration": -42,
    "start_time": "2022-02-28T19:05:06.952Z"
   },
   {
    "duration": -44,
    "start_time": "2022-02-28T19:05:06.955Z"
   },
   {
    "duration": -47,
    "start_time": "2022-02-28T19:05:06.958Z"
   },
   {
    "duration": -49,
    "start_time": "2022-02-28T19:05:06.961Z"
   },
   {
    "duration": -51,
    "start_time": "2022-02-28T19:05:06.964Z"
   },
   {
    "duration": -53,
    "start_time": "2022-02-28T19:05:06.967Z"
   },
   {
    "duration": -55,
    "start_time": "2022-02-28T19:05:06.970Z"
   },
   {
    "duration": -56,
    "start_time": "2022-02-28T19:05:06.972Z"
   },
   {
    "duration": 1213,
    "start_time": "2022-02-28T19:07:57.716Z"
   },
   {
    "duration": 22,
    "start_time": "2022-02-28T19:07:58.932Z"
   },
   {
    "duration": 14,
    "start_time": "2022-02-28T19:07:58.955Z"
   },
   {
    "duration": 7,
    "start_time": "2022-02-28T19:07:58.971Z"
   },
   {
    "duration": 6,
    "start_time": "2022-02-28T19:07:58.979Z"
   },
   {
    "duration": 228,
    "start_time": "2022-02-28T19:07:58.987Z"
   },
   {
    "duration": 9,
    "start_time": "2022-02-28T19:07:59.216Z"
   },
   {
    "duration": 4,
    "start_time": "2022-02-28T19:07:59.234Z"
   },
   {
    "duration": 32,
    "start_time": "2022-02-28T19:07:59.241Z"
   },
   {
    "duration": 14,
    "start_time": "2022-02-28T19:07:59.275Z"
   },
   {
    "duration": 15,
    "start_time": "2022-02-28T19:07:59.291Z"
   },
   {
    "duration": 35,
    "start_time": "2022-02-28T19:07:59.307Z"
   },
   {
    "duration": 4,
    "start_time": "2022-02-28T19:07:59.344Z"
   },
   {
    "duration": 5,
    "start_time": "2022-02-28T19:07:59.350Z"
   },
   {
    "duration": 8,
    "start_time": "2022-02-28T19:07:59.357Z"
   },
   {
    "duration": 6,
    "start_time": "2022-02-28T19:07:59.367Z"
   },
   {
    "duration": 8,
    "start_time": "2022-02-28T19:07:59.374Z"
   },
   {
    "duration": 3,
    "start_time": "2022-02-28T19:07:59.384Z"
   },
   {
    "duration": 8,
    "start_time": "2022-02-28T19:07:59.389Z"
   },
   {
    "duration": 8,
    "start_time": "2022-02-28T19:07:59.433Z"
   },
   {
    "duration": 5,
    "start_time": "2022-02-28T19:07:59.443Z"
   },
   {
    "duration": 5,
    "start_time": "2022-02-28T19:07:59.450Z"
   },
   {
    "duration": 5,
    "start_time": "2022-02-28T19:07:59.457Z"
   },
   {
    "duration": 473,
    "start_time": "2022-02-28T19:07:59.463Z"
   },
   {
    "duration": 25,
    "start_time": "2022-02-28T19:07:59.937Z"
   },
   {
    "duration": 386,
    "start_time": "2022-02-28T19:07:59.966Z"
   },
   {
    "duration": 451,
    "start_time": "2022-02-28T19:08:00.355Z"
   },
   {
    "duration": 380,
    "start_time": "2022-02-28T19:08:00.808Z"
   },
   {
    "duration": 435,
    "start_time": "2022-02-28T19:08:01.190Z"
   },
   {
    "duration": 140,
    "start_time": "2022-02-28T19:08:01.626Z"
   },
   {
    "duration": 249,
    "start_time": "2022-02-28T19:08:01.768Z"
   },
   {
    "duration": 368,
    "start_time": "2022-02-28T19:08:02.018Z"
   },
   {
    "duration": 164,
    "start_time": "2022-02-28T19:08:02.388Z"
   },
   {
    "duration": 370,
    "start_time": "2022-02-28T19:08:02.554Z"
   },
   {
    "duration": 375,
    "start_time": "2022-02-28T19:08:02.925Z"
   },
   {
    "duration": 214,
    "start_time": "2022-02-28T19:08:03.302Z"
   },
   {
    "duration": 205,
    "start_time": "2022-02-28T19:08:03.517Z"
   },
   {
    "duration": 490,
    "start_time": "2022-02-28T19:08:03.723Z"
   },
   {
    "duration": 175,
    "start_time": "2022-02-28T19:08:04.215Z"
   },
   {
    "duration": 190,
    "start_time": "2022-02-28T19:08:04.391Z"
   },
   {
    "duration": 211,
    "start_time": "2022-02-28T19:08:04.582Z"
   },
   {
    "duration": 203,
    "start_time": "2022-02-28T19:08:04.795Z"
   },
   {
    "duration": 13,
    "start_time": "2022-02-28T19:08:04.999Z"
   },
   {
    "duration": 129861,
    "start_time": "2022-02-28T19:08:05.014Z"
   },
   {
    "duration": -119,
    "start_time": "2022-02-28T19:10:14.997Z"
   },
   {
    "duration": -129,
    "start_time": "2022-02-28T19:10:15.008Z"
   },
   {
    "duration": -134,
    "start_time": "2022-02-28T19:10:15.014Z"
   },
   {
    "duration": -139,
    "start_time": "2022-02-28T19:10:15.020Z"
   },
   {
    "duration": -146,
    "start_time": "2022-02-28T19:10:15.028Z"
   },
   {
    "duration": -150,
    "start_time": "2022-02-28T19:10:15.033Z"
   },
   {
    "duration": -158,
    "start_time": "2022-02-28T19:10:15.042Z"
   },
   {
    "duration": -165,
    "start_time": "2022-02-28T19:10:15.050Z"
   },
   {
    "duration": -168,
    "start_time": "2022-02-28T19:10:15.054Z"
   },
   {
    "duration": -173,
    "start_time": "2022-02-28T19:10:15.059Z"
   },
   {
    "duration": 12,
    "start_time": "2022-02-28T19:17:48.606Z"
   },
   {
    "duration": 12,
    "start_time": "2022-02-28T19:23:56.443Z"
   },
   {
    "duration": 6,
    "start_time": "2022-02-28T19:25:28.415Z"
   },
   {
    "duration": 183,
    "start_time": "2022-02-28T19:42:28.275Z"
   },
   {
    "duration": 188,
    "start_time": "2022-02-28T19:43:00.863Z"
   },
   {
    "duration": 174,
    "start_time": "2022-02-28T19:45:11.201Z"
   }
  ],
  "kernelspec": {
   "display_name": "Python 3 (ipykernel)",
   "language": "python",
   "name": "python3"
  },
  "language_info": {
   "codemirror_mode": {
    "name": "ipython",
    "version": 3
   },
   "file_extension": ".py",
   "mimetype": "text/x-python",
   "name": "python",
   "nbconvert_exporter": "python",
   "pygments_lexer": "ipython3",
   "version": "3.9.5"
  },
  "toc": {
   "base_numbering": 1,
   "nav_menu": {},
   "number_sections": true,
   "sideBar": true,
   "skip_h1_title": true,
   "title_cell": "Содержание",
   "title_sidebar": "Contents",
   "toc_cell": true,
   "toc_position": {
    "height": "calc(100% - 180px)",
    "left": "10px",
    "top": "150px",
    "width": "346.396px"
   },
   "toc_section_display": true,
   "toc_window_display": false
  }
 },
 "nbformat": 4,
 "nbformat_minor": 2
}
