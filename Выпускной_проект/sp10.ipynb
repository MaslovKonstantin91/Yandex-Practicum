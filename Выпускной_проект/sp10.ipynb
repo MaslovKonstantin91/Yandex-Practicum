{
 "cells": [
  {
   "cell_type": "markdown",
   "metadata": {},
   "source": [
    "# Задача**:**\n",
    "\n",
    "Помогите «Нупозвони» найти самых неэффективных операторов. Признаки низкой эффективности:\n",
    "\n",
    "- много пропущенных входящих вызовов,\n",
    "- долгое ожидания ответа при входящих внешних вызовах,\n",
    "- мало исходящих вывозов — в случае тех колл-центров, что специализируются на обзвонах, а не обработке входящих звонков.  \n",
    "\n",
    "**Шаг 1. Откройте файл с данными и изучите общую информацию**  \n",
    "*Датасеты*\n",
    "\n",
    "[telecom_clients.csv](https://disk.yandex.ru/d/qDyw04TLVP4CiA)\n",
    "\n",
    "[telecom_dataset.csv](https://disk.yandex.ru/d/Z6Q6KHy2I_WwCA)    \n",
    "\n",
    "**Шаг 2. Произвести предобработку данных**   \n",
    "\n",
    "Этапы будут дублироваться на обе бд.\n",
    "- соответствие типов данных \n",
    "- проверка на пропущенные значения\n",
    "- проверка на дубликаты\n",
    "- объеденим бд\n",
    "  \n",
    "  \n",
    "**Шаг 3.Проведите исследовательский анализ данных.**  \n",
    "\n",
    "- Произведем категатеризацию(на \"принимающие\" те колл центры, которые занимаются приемом звонков и \"обзванивающие\", которые исходящими звонками) данных с определением  кол-во колл центров и их кол-во операторов. \n",
    "\n",
    "Для каждой категории определим неэффективных операторов.  \n",
    "  - Оценим по Average Wait Time\n",
    "  - Сколько пропущенныех звонков имеют операторы из \"принимающих\"?\n",
    "\n",
    "Признаки низкой эффективности:\n",
    "  - много пропущенных входящих вызовов. Составим гистограмму разброса, на ее основании и установим рамки эффективности. \n",
    "  - долгое ожидания ответа при входящих внешних вызовах. На гисторграмме разброса увидим и установим рамки эффективности.\n",
    "  - мало исходящих вывозов — в случае тех колл-центров, что специализируются на обзвонах, а не обработке входящих звонков. На гисторграмме разброса увидим и установим рамки эффективности.  \n",
    "  \n",
    "\n",
    "\n",
    "**Шаг 4.Проверьте статистические гипотезы.**  \n",
    "- Проверка гипотезы о различии времени ожидания ответа на входящий звонок в зависимости от тарифного плана  \n",
    "- Проверка гипотезы о различии числа пропущенных входящих вызовов в зависимости от тарифного плана  \n",
    "\n",
    "\n",
    "\n",
    "\n",
    "**Шаг 5. Построить дашборд и презентацию в pdf**  \n",
    "\n",
    "- Постройте диаграмму количества вызовов по дням;  \n",
    "- Постройте круговую диаграмму, отображающую соотношение кол-ва входящих и исходящих вызовов;\n",
    "- Добавьте фильтр дашборда по типу вызова (внешний или внутренний)"
   ]
  },
  {
   "cell_type": "markdown",
   "metadata": {},
   "source": [
    "Задачи проекта:   \n",
    "\t- провести исследовательский анализ данных и предложить возможные критерии неэффективности операторов;  \n",
    "\t- получить список неэффективных операторов;  \n",
    "\t- посмотреть у каких клиентов есть проблемы с эффективностью операторов;  \n",
    "\t- на сколько мы можем помочь клиентам увеличить эффективность операторов;  \n",
    "\t- предложить пути решения проблемы неэффективности: методы регулярного выявления неэффективных операторов и общего повышения эффективности работы;  \n",
    "\tВажно формализовать критерии и методы анализа, т.к. планируется автоматизировать этот функционал  \n",
    "    . \n"
   ]
  },
  {
   "cell_type": "markdown",
   "metadata": {},
   "source": [
    "# **Описание данных:**\n",
    "\n",
    "Датасеты описывают использование услуг «Нупозвони» — провайдера виртуальный телефонии. Его клиенты — колл-центры, которые: \n",
    "\n",
    "- распределяют входящие вызовы на операторов,\n",
    "- совершают исходящие вызовы силами операторов.\n",
    "\n",
    "Также операторы могут делать внутренние вызовы —  вызовы друг между другом внутри сети виртуальной телефонии.\n",
    "\n",
    "Колонки в `telecom_dataset.csv.zip`:\n",
    "\n",
    "- `user_id` — Идентификатор клиентского аккаунта в сервисе\n",
    "- `date` — Дата статистики\n",
    "- `direction` — Направление вызовов (out - исходящий вызов, in — входящий вызов)\n",
    "- `internal` — Является ли звонок внутренним звонком между операторами клиента\n",
    "- `operator_id` — Идентификатор оператора\n",
    "- `is_missed_call` — Является ли звонок пропущенным\n",
    "- `calls_count` — Количество звонков\n",
    "- `call_duration` — Длительность звонка (без учета времени ожидания)\n",
    "- `total_call_duration` — Длительность звонка (с учетом времени ожидания)\n",
    "\n",
    "Колонки в `telecom_clients.csv`:\n",
    "\n",
    "- `user_id` — Идентификатор клиентского аккаунта в сервисе\n",
    "- `tariff_plan` — Текущий тарифный план клиента\n",
    "- `date_start` — Дата регистрации клиентв в сервисе"
   ]
  },
  {
   "cell_type": "markdown",
   "metadata": {},
   "source": [
    "# Шаг 1. Откройте файл с данными и изучите общую информацию"
   ]
  },
  {
   "cell_type": "code",
   "execution_count": 1,
   "metadata": {},
   "outputs": [],
   "source": [
    "import pandas as pd\n",
    "import scipy.stats as st\n",
    "import datetime as dt\n",
    "import numpy as np\n",
    "import matplotlib.pyplot as plt \n",
    "import seaborn as sns \n",
    "import warnings\n",
    "warnings.filterwarnings('ignore')\n",
    "import plotly.express as px\n",
    "from plotly import graph_objects as go\n",
    "import plotly.express as px\n",
    "sns.set(rc={'figure.figsize':(15, 10)})\n",
    "import math as mth\n",
    "import datetime"
   ]
  },
  {
   "cell_type": "code",
   "execution_count": 2,
   "metadata": {},
   "outputs": [],
   "source": [
    "clients = pd.read_csv('https://code.s3.yandex.net/datasets/telecom_clients.csv')"
   ]
  },
  {
   "cell_type": "code",
   "execution_count": 3,
   "metadata": {},
   "outputs": [],
   "source": [
    "df_df = pd.read_csv('https://code.s3.yandex.net/datasets/telecom_dataset.csv')"
   ]
  },
  {
   "cell_type": "code",
   "execution_count": 4,
   "metadata": {},
   "outputs": [
    {
     "name": "stdout",
     "output_type": "stream",
     "text": [
      "<class 'pandas.core.frame.DataFrame'>\n",
      "RangeIndex: 53902 entries, 0 to 53901\n",
      "Data columns (total 9 columns):\n",
      " #   Column               Non-Null Count  Dtype  \n",
      "---  ------               --------------  -----  \n",
      " 0   user_id              53902 non-null  int64  \n",
      " 1   date                 53902 non-null  object \n",
      " 2   direction            53902 non-null  object \n",
      " 3   internal             53785 non-null  object \n",
      " 4   operator_id          45730 non-null  float64\n",
      " 5   is_missed_call       53902 non-null  bool   \n",
      " 6   calls_count          53902 non-null  int64  \n",
      " 7   call_duration        53902 non-null  int64  \n",
      " 8   total_call_duration  53902 non-null  int64  \n",
      "dtypes: bool(1), float64(1), int64(4), object(3)\n",
      "memory usage: 3.3+ MB\n"
     ]
    },
    {
     "data": {
      "text/plain": [
       "(53902, 9)"
      ]
     },
     "execution_count": 4,
     "metadata": {},
     "output_type": "execute_result"
    }
   ],
   "source": [
    "df_df.info()\n",
    "df_df.shape"
   ]
  },
  {
   "cell_type": "code",
   "execution_count": 5,
   "metadata": {},
   "outputs": [
    {
     "data": {
      "text/html": [
       "<div>\n",
       "<style scoped>\n",
       "    .dataframe tbody tr th:only-of-type {\n",
       "        vertical-align: middle;\n",
       "    }\n",
       "\n",
       "    .dataframe tbody tr th {\n",
       "        vertical-align: top;\n",
       "    }\n",
       "\n",
       "    .dataframe thead th {\n",
       "        text-align: right;\n",
       "    }\n",
       "</style>\n",
       "<table border=\"1\" class=\"dataframe\">\n",
       "  <thead>\n",
       "    <tr style=\"text-align: right;\">\n",
       "      <th></th>\n",
       "      <th>user_id</th>\n",
       "      <th>date</th>\n",
       "      <th>direction</th>\n",
       "      <th>internal</th>\n",
       "      <th>operator_id</th>\n",
       "      <th>is_missed_call</th>\n",
       "      <th>calls_count</th>\n",
       "      <th>call_duration</th>\n",
       "      <th>total_call_duration</th>\n",
       "    </tr>\n",
       "  </thead>\n",
       "  <tbody>\n",
       "    <tr>\n",
       "      <th>0</th>\n",
       "      <td>166377</td>\n",
       "      <td>2019-08-04 00:00:00+03:00</td>\n",
       "      <td>in</td>\n",
       "      <td>False</td>\n",
       "      <td>NaN</td>\n",
       "      <td>True</td>\n",
       "      <td>2</td>\n",
       "      <td>0</td>\n",
       "      <td>4</td>\n",
       "    </tr>\n",
       "    <tr>\n",
       "      <th>1</th>\n",
       "      <td>166377</td>\n",
       "      <td>2019-08-05 00:00:00+03:00</td>\n",
       "      <td>out</td>\n",
       "      <td>True</td>\n",
       "      <td>880022.0</td>\n",
       "      <td>True</td>\n",
       "      <td>3</td>\n",
       "      <td>0</td>\n",
       "      <td>5</td>\n",
       "    </tr>\n",
       "    <tr>\n",
       "      <th>2</th>\n",
       "      <td>166377</td>\n",
       "      <td>2019-08-05 00:00:00+03:00</td>\n",
       "      <td>out</td>\n",
       "      <td>True</td>\n",
       "      <td>880020.0</td>\n",
       "      <td>True</td>\n",
       "      <td>1</td>\n",
       "      <td>0</td>\n",
       "      <td>1</td>\n",
       "    </tr>\n",
       "    <tr>\n",
       "      <th>3</th>\n",
       "      <td>166377</td>\n",
       "      <td>2019-08-05 00:00:00+03:00</td>\n",
       "      <td>out</td>\n",
       "      <td>True</td>\n",
       "      <td>880020.0</td>\n",
       "      <td>False</td>\n",
       "      <td>1</td>\n",
       "      <td>10</td>\n",
       "      <td>18</td>\n",
       "    </tr>\n",
       "    <tr>\n",
       "      <th>4</th>\n",
       "      <td>166377</td>\n",
       "      <td>2019-08-05 00:00:00+03:00</td>\n",
       "      <td>out</td>\n",
       "      <td>False</td>\n",
       "      <td>880022.0</td>\n",
       "      <td>True</td>\n",
       "      <td>3</td>\n",
       "      <td>0</td>\n",
       "      <td>25</td>\n",
       "    </tr>\n",
       "  </tbody>\n",
       "</table>\n",
       "</div>"
      ],
      "text/plain": [
       "   user_id                       date direction internal  operator_id  \\\n",
       "0   166377  2019-08-04 00:00:00+03:00        in    False          NaN   \n",
       "1   166377  2019-08-05 00:00:00+03:00       out     True     880022.0   \n",
       "2   166377  2019-08-05 00:00:00+03:00       out     True     880020.0   \n",
       "3   166377  2019-08-05 00:00:00+03:00       out     True     880020.0   \n",
       "4   166377  2019-08-05 00:00:00+03:00       out    False     880022.0   \n",
       "\n",
       "   is_missed_call  calls_count  call_duration  total_call_duration  \n",
       "0            True            2              0                    4  \n",
       "1            True            3              0                    5  \n",
       "2            True            1              0                    1  \n",
       "3           False            1             10                   18  \n",
       "4            True            3              0                   25  "
      ]
     },
     "execution_count": 5,
     "metadata": {},
     "output_type": "execute_result"
    }
   ],
   "source": [
    "df_df.head()"
   ]
  },
  {
   "cell_type": "code",
   "execution_count": 6,
   "metadata": {},
   "outputs": [
    {
     "name": "stdout",
     "output_type": "stream",
     "text": [
      "<class 'pandas.core.frame.DataFrame'>\n",
      "RangeIndex: 732 entries, 0 to 731\n",
      "Data columns (total 3 columns):\n",
      " #   Column       Non-Null Count  Dtype \n",
      "---  ------       --------------  ----- \n",
      " 0   user_id      732 non-null    int64 \n",
      " 1   tariff_plan  732 non-null    object\n",
      " 2   date_start   732 non-null    object\n",
      "dtypes: int64(1), object(2)\n",
      "memory usage: 17.3+ KB\n"
     ]
    },
    {
     "data": {
      "text/plain": [
       "(732, 3)"
      ]
     },
     "execution_count": 6,
     "metadata": {},
     "output_type": "execute_result"
    }
   ],
   "source": [
    "clients.info()\n",
    "clients.shape"
   ]
  },
  {
   "cell_type": "code",
   "execution_count": 7,
   "metadata": {},
   "outputs": [
    {
     "data": {
      "text/html": [
       "<div>\n",
       "<style scoped>\n",
       "    .dataframe tbody tr th:only-of-type {\n",
       "        vertical-align: middle;\n",
       "    }\n",
       "\n",
       "    .dataframe tbody tr th {\n",
       "        vertical-align: top;\n",
       "    }\n",
       "\n",
       "    .dataframe thead th {\n",
       "        text-align: right;\n",
       "    }\n",
       "</style>\n",
       "<table border=\"1\" class=\"dataframe\">\n",
       "  <thead>\n",
       "    <tr style=\"text-align: right;\">\n",
       "      <th></th>\n",
       "      <th>user_id</th>\n",
       "      <th>tariff_plan</th>\n",
       "      <th>date_start</th>\n",
       "    </tr>\n",
       "  </thead>\n",
       "  <tbody>\n",
       "    <tr>\n",
       "      <th>0</th>\n",
       "      <td>166713</td>\n",
       "      <td>A</td>\n",
       "      <td>2019-08-15</td>\n",
       "    </tr>\n",
       "    <tr>\n",
       "      <th>1</th>\n",
       "      <td>166901</td>\n",
       "      <td>A</td>\n",
       "      <td>2019-08-23</td>\n",
       "    </tr>\n",
       "    <tr>\n",
       "      <th>2</th>\n",
       "      <td>168527</td>\n",
       "      <td>A</td>\n",
       "      <td>2019-10-29</td>\n",
       "    </tr>\n",
       "    <tr>\n",
       "      <th>3</th>\n",
       "      <td>167097</td>\n",
       "      <td>A</td>\n",
       "      <td>2019-09-01</td>\n",
       "    </tr>\n",
       "    <tr>\n",
       "      <th>4</th>\n",
       "      <td>168193</td>\n",
       "      <td>A</td>\n",
       "      <td>2019-10-16</td>\n",
       "    </tr>\n",
       "  </tbody>\n",
       "</table>\n",
       "</div>"
      ],
      "text/plain": [
       "   user_id tariff_plan  date_start\n",
       "0   166713           A  2019-08-15\n",
       "1   166901           A  2019-08-23\n",
       "2   168527           A  2019-10-29\n",
       "3   167097           A  2019-09-01\n",
       "4   168193           A  2019-10-16"
      ]
     },
     "execution_count": 7,
     "metadata": {},
     "output_type": "execute_result"
    }
   ],
   "source": [
    "clients.head()"
   ]
  },
  {
   "cell_type": "markdown",
   "metadata": {},
   "source": [
    "Так, по бд \"df_df\" - видим пропуски, нелбходимо посмотреть из-за чего и чем можно заполнить, вохзможно удалить. \"date\"-изменить тип данных на дату.  \n",
    "По \"clients\", никаких проблем нет, изменить только тип данных в \"date_start\". "
   ]
  },
  {
   "cell_type": "markdown",
   "metadata": {},
   "source": [
    "# Шаг 2. Произвести предобработку данных"
   ]
  },
  {
   "cell_type": "code",
   "execution_count": 8,
   "metadata": {},
   "outputs": [],
   "source": [
    "#можно объеденить табилцу для удобства\n",
    "df = df_df.merge(clients, on = 'user_id')"
   ]
  },
  {
   "cell_type": "code",
   "execution_count": 9,
   "metadata": {},
   "outputs": [
    {
     "name": "stdout",
     "output_type": "stream",
     "text": [
      "Количество дубликатов: 4900\n"
     ]
    }
   ],
   "source": [
    "#проверим кол-во дубликатов\n",
    "print('Количество дубликатов:', df.duplicated().sum())"
   ]
  },
  {
   "cell_type": "code",
   "execution_count": 10,
   "metadata": {},
   "outputs": [
    {
     "data": {
      "text/plain": [
       "0"
      ]
     },
     "execution_count": 10,
     "metadata": {},
     "output_type": "execute_result"
    }
   ],
   "source": [
    "#удалить\n",
    "df = df.drop_duplicates()\n",
    "df.duplicated().sum()"
   ]
  },
  {
   "cell_type": "code",
   "execution_count": 11,
   "metadata": {},
   "outputs": [
    {
     "name": "stdout",
     "output_type": "stream",
     "text": [
      "<class 'pandas.core.frame.DataFrame'>\n",
      "Int64Index: 49002 entries, 0 to 53901\n",
      "Data columns (total 11 columns):\n",
      " #   Column               Non-Null Count  Dtype  \n",
      "---  ------               --------------  -----  \n",
      " 0   user_id              49002 non-null  int64  \n",
      " 1   date                 49002 non-null  object \n",
      " 2   direction            49002 non-null  object \n",
      " 3   internal             48892 non-null  object \n",
      " 4   operator_id          41546 non-null  float64\n",
      " 5   is_missed_call       49002 non-null  bool   \n",
      " 6   calls_count          49002 non-null  int64  \n",
      " 7   call_duration        49002 non-null  int64  \n",
      " 8   total_call_duration  49002 non-null  int64  \n",
      " 9   tariff_plan          49002 non-null  object \n",
      " 10  date_start           49002 non-null  object \n",
      "dtypes: bool(1), float64(1), int64(4), object(5)\n",
      "memory usage: 4.2+ MB\n"
     ]
    }
   ],
   "source": [
    "df.head()\n",
    "df.info()"
   ]
  },
  {
   "cell_type": "markdown",
   "metadata": {},
   "source": [
    "Интересно, есть еще пропуски в \"operator_id\", посмотрим          "
   ]
  },
  {
   "cell_type": "code",
   "execution_count": 12,
   "metadata": {},
   "outputs": [
    {
     "name": "stdout",
     "output_type": "stream",
     "text": [
      "Количество пропусков:\n"
     ]
    },
    {
     "data": {
      "text/plain": [
       "user_id                   0\n",
       "date                      0\n",
       "direction                 0\n",
       "internal                110\n",
       "operator_id            7456\n",
       "is_missed_call            0\n",
       "calls_count               0\n",
       "call_duration             0\n",
       "total_call_duration       0\n",
       "tariff_plan               0\n",
       "date_start                0\n",
       "dtype: int64"
      ]
     },
     "execution_count": 12,
     "metadata": {},
     "output_type": "execute_result"
    }
   ],
   "source": [
    "# проверим количество пропусков\n",
    "print('Количество пропусков:')\n",
    "df.isna().sum()"
   ]
  },
  {
   "cell_type": "code",
   "execution_count": 13,
   "metadata": {},
   "outputs": [
    {
     "data": {
      "text/html": [
       "<style  type=\"text/css\" >\n",
       "#T_00b60_row0_col0,#T_00b60_row1_col0,#T_00b60_row2_col0,#T_00b60_row5_col0,#T_00b60_row6_col0,#T_00b60_row7_col0,#T_00b60_row8_col0,#T_00b60_row9_col0,#T_00b60_row10_col0{\n",
       "            background-color:  #3b4cc0;\n",
       "            color:  #f1f1f1;\n",
       "        }#T_00b60_row3_col0{\n",
       "            background-color:  #3e51c5;\n",
       "            color:  #f1f1f1;\n",
       "        }#T_00b60_row4_col0{\n",
       "            background-color:  #b40426;\n",
       "            color:  #f1f1f1;\n",
       "        }</style><table id=\"T_00b60_\" ><thead>    <tr>        <th class=\"blank level0\" ></th>        <th class=\"col_heading level0 col0\" >0</th>    </tr></thead><tbody>\n",
       "                <tr>\n",
       "                        <th id=\"T_00b60_level0_row0\" class=\"row_heading level0 row0\" >user_id</th>\n",
       "                        <td id=\"T_00b60_row0_col0\" class=\"data row0 col0\" >0.000000</td>\n",
       "            </tr>\n",
       "            <tr>\n",
       "                        <th id=\"T_00b60_level0_row1\" class=\"row_heading level0 row1\" >date</th>\n",
       "                        <td id=\"T_00b60_row1_col0\" class=\"data row1 col0\" >0.000000</td>\n",
       "            </tr>\n",
       "            <tr>\n",
       "                        <th id=\"T_00b60_level0_row2\" class=\"row_heading level0 row2\" >direction</th>\n",
       "                        <td id=\"T_00b60_row2_col0\" class=\"data row2 col0\" >0.000000</td>\n",
       "            </tr>\n",
       "            <tr>\n",
       "                        <th id=\"T_00b60_level0_row3\" class=\"row_heading level0 row3\" >internal</th>\n",
       "                        <td id=\"T_00b60_row3_col0\" class=\"data row3 col0\" >0.220000</td>\n",
       "            </tr>\n",
       "            <tr>\n",
       "                        <th id=\"T_00b60_level0_row4\" class=\"row_heading level0 row4\" >operator_id</th>\n",
       "                        <td id=\"T_00b60_row4_col0\" class=\"data row4 col0\" >15.220000</td>\n",
       "            </tr>\n",
       "            <tr>\n",
       "                        <th id=\"T_00b60_level0_row5\" class=\"row_heading level0 row5\" >is_missed_call</th>\n",
       "                        <td id=\"T_00b60_row5_col0\" class=\"data row5 col0\" >0.000000</td>\n",
       "            </tr>\n",
       "            <tr>\n",
       "                        <th id=\"T_00b60_level0_row6\" class=\"row_heading level0 row6\" >calls_count</th>\n",
       "                        <td id=\"T_00b60_row6_col0\" class=\"data row6 col0\" >0.000000</td>\n",
       "            </tr>\n",
       "            <tr>\n",
       "                        <th id=\"T_00b60_level0_row7\" class=\"row_heading level0 row7\" >call_duration</th>\n",
       "                        <td id=\"T_00b60_row7_col0\" class=\"data row7 col0\" >0.000000</td>\n",
       "            </tr>\n",
       "            <tr>\n",
       "                        <th id=\"T_00b60_level0_row8\" class=\"row_heading level0 row8\" >total_call_duration</th>\n",
       "                        <td id=\"T_00b60_row8_col0\" class=\"data row8 col0\" >0.000000</td>\n",
       "            </tr>\n",
       "            <tr>\n",
       "                        <th id=\"T_00b60_level0_row9\" class=\"row_heading level0 row9\" >tariff_plan</th>\n",
       "                        <td id=\"T_00b60_row9_col0\" class=\"data row9 col0\" >0.000000</td>\n",
       "            </tr>\n",
       "            <tr>\n",
       "                        <th id=\"T_00b60_level0_row10\" class=\"row_heading level0 row10\" >date_start</th>\n",
       "                        <td id=\"T_00b60_row10_col0\" class=\"data row10 col0\" >0.000000</td>\n",
       "            </tr>\n",
       "    </tbody></table>"
      ],
      "text/plain": [
       "<pandas.io.formats.style.Styler at 0x7fa51bd209d0>"
      ]
     },
     "execution_count": 13,
     "metadata": {},
     "output_type": "execute_result"
    }
   ],
   "source": [
    "#посмотрим процент пропусков от общего кол-ва данных\n",
    "pd.DataFrame(round((df.isna().mean()*100),2)).style.background_gradient('coolwarm')"
   ]
  },
  {
   "cell_type": "markdown",
   "metadata": {},
   "source": [
    "картина складывается не очень, необходимо заполнить 15.22% данных в \"operator_id\", но так как мы оцениваем в операторов прийдеися удалить значения. А вот в \"internal\" удалим."
   ]
  },
  {
   "cell_type": "code",
   "execution_count": 14,
   "metadata": {},
   "outputs": [],
   "source": [
    "#удаляем\n",
    "df = df.dropna(subset = ['internal'])"
   ]
  },
  {
   "cell_type": "code",
   "execution_count": 15,
   "metadata": {},
   "outputs": [],
   "source": [
    "#удаляем\n",
    "df = df.dropna(subset = ['operator_id'])"
   ]
  },
  {
   "cell_type": "code",
   "execution_count": 16,
   "metadata": {},
   "outputs": [
    {
     "data": {
      "text/html": [
       "<div>\n",
       "<style scoped>\n",
       "    .dataframe tbody tr th:only-of-type {\n",
       "        vertical-align: middle;\n",
       "    }\n",
       "\n",
       "    .dataframe tbody tr th {\n",
       "        vertical-align: top;\n",
       "    }\n",
       "\n",
       "    .dataframe thead th {\n",
       "        text-align: right;\n",
       "    }\n",
       "</style>\n",
       "<table border=\"1\" class=\"dataframe\">\n",
       "  <thead>\n",
       "    <tr style=\"text-align: right;\">\n",
       "      <th></th>\n",
       "      <th>user_id</th>\n",
       "      <th>date</th>\n",
       "      <th>direction</th>\n",
       "      <th>internal</th>\n",
       "      <th>operator_id</th>\n",
       "      <th>is_missed_call</th>\n",
       "      <th>calls_count</th>\n",
       "      <th>call_duration</th>\n",
       "      <th>total_call_duration</th>\n",
       "      <th>tariff_plan</th>\n",
       "      <th>date_start</th>\n",
       "    </tr>\n",
       "  </thead>\n",
       "  <tbody>\n",
       "    <tr>\n",
       "      <th>1</th>\n",
       "      <td>166377</td>\n",
       "      <td>2019-08-05 00:00:00+03:00</td>\n",
       "      <td>out</td>\n",
       "      <td>True</td>\n",
       "      <td>880022.0</td>\n",
       "      <td>True</td>\n",
       "      <td>3</td>\n",
       "      <td>0</td>\n",
       "      <td>5</td>\n",
       "      <td>B</td>\n",
       "      <td>2019-08-01</td>\n",
       "    </tr>\n",
       "    <tr>\n",
       "      <th>2</th>\n",
       "      <td>166377</td>\n",
       "      <td>2019-08-05 00:00:00+03:00</td>\n",
       "      <td>out</td>\n",
       "      <td>True</td>\n",
       "      <td>880020.0</td>\n",
       "      <td>True</td>\n",
       "      <td>1</td>\n",
       "      <td>0</td>\n",
       "      <td>1</td>\n",
       "      <td>B</td>\n",
       "      <td>2019-08-01</td>\n",
       "    </tr>\n",
       "    <tr>\n",
       "      <th>3</th>\n",
       "      <td>166377</td>\n",
       "      <td>2019-08-05 00:00:00+03:00</td>\n",
       "      <td>out</td>\n",
       "      <td>True</td>\n",
       "      <td>880020.0</td>\n",
       "      <td>False</td>\n",
       "      <td>1</td>\n",
       "      <td>10</td>\n",
       "      <td>18</td>\n",
       "      <td>B</td>\n",
       "      <td>2019-08-01</td>\n",
       "    </tr>\n",
       "    <tr>\n",
       "      <th>4</th>\n",
       "      <td>166377</td>\n",
       "      <td>2019-08-05 00:00:00+03:00</td>\n",
       "      <td>out</td>\n",
       "      <td>False</td>\n",
       "      <td>880022.0</td>\n",
       "      <td>True</td>\n",
       "      <td>3</td>\n",
       "      <td>0</td>\n",
       "      <td>25</td>\n",
       "      <td>B</td>\n",
       "      <td>2019-08-01</td>\n",
       "    </tr>\n",
       "    <tr>\n",
       "      <th>5</th>\n",
       "      <td>166377</td>\n",
       "      <td>2019-08-05 00:00:00+03:00</td>\n",
       "      <td>out</td>\n",
       "      <td>False</td>\n",
       "      <td>880020.0</td>\n",
       "      <td>False</td>\n",
       "      <td>2</td>\n",
       "      <td>3</td>\n",
       "      <td>29</td>\n",
       "      <td>B</td>\n",
       "      <td>2019-08-01</td>\n",
       "    </tr>\n",
       "  </tbody>\n",
       "</table>\n",
       "</div>"
      ],
      "text/plain": [
       "   user_id                       date direction internal  operator_id  \\\n",
       "1   166377  2019-08-05 00:00:00+03:00       out     True     880022.0   \n",
       "2   166377  2019-08-05 00:00:00+03:00       out     True     880020.0   \n",
       "3   166377  2019-08-05 00:00:00+03:00       out     True     880020.0   \n",
       "4   166377  2019-08-05 00:00:00+03:00       out    False     880022.0   \n",
       "5   166377  2019-08-05 00:00:00+03:00       out    False     880020.0   \n",
       "\n",
       "   is_missed_call  calls_count  call_duration  total_call_duration  \\\n",
       "1            True            3              0                    5   \n",
       "2            True            1              0                    1   \n",
       "3           False            1             10                   18   \n",
       "4            True            3              0                   25   \n",
       "5           False            2              3                   29   \n",
       "\n",
       "  tariff_plan  date_start  \n",
       "1           B  2019-08-01  \n",
       "2           B  2019-08-01  \n",
       "3           B  2019-08-01  \n",
       "4           B  2019-08-01  \n",
       "5           B  2019-08-01  "
      ]
     },
     "execution_count": 16,
     "metadata": {},
     "output_type": "execute_result"
    }
   ],
   "source": [
    "df.head()"
   ]
  },
  {
   "cell_type": "code",
   "execution_count": 17,
   "metadata": {},
   "outputs": [],
   "source": [
    "#меняем тип\n",
    "df['date'] = pd.to_datetime(df['date'])"
   ]
  },
  {
   "cell_type": "code",
   "execution_count": 18,
   "metadata": {},
   "outputs": [],
   "source": [
    "#меняем тип\n",
    "df['date_start'] = pd.to_datetime(df['date_start'])"
   ]
  },
  {
   "cell_type": "code",
   "execution_count": 19,
   "metadata": {},
   "outputs": [
    {
     "data": {
      "text/html": [
       "<div>\n",
       "<style scoped>\n",
       "    .dataframe tbody tr th:only-of-type {\n",
       "        vertical-align: middle;\n",
       "    }\n",
       "\n",
       "    .dataframe tbody tr th {\n",
       "        vertical-align: top;\n",
       "    }\n",
       "\n",
       "    .dataframe thead th {\n",
       "        text-align: right;\n",
       "    }\n",
       "</style>\n",
       "<table border=\"1\" class=\"dataframe\">\n",
       "  <thead>\n",
       "    <tr style=\"text-align: right;\">\n",
       "      <th></th>\n",
       "      <th>user_id</th>\n",
       "      <th>date</th>\n",
       "      <th>direction</th>\n",
       "      <th>internal</th>\n",
       "      <th>operator_id</th>\n",
       "      <th>is_missed_call</th>\n",
       "      <th>calls_count</th>\n",
       "      <th>call_duration</th>\n",
       "      <th>total_call_duration</th>\n",
       "      <th>tariff_plan</th>\n",
       "      <th>date_start</th>\n",
       "    </tr>\n",
       "  </thead>\n",
       "  <tbody>\n",
       "    <tr>\n",
       "      <th>1</th>\n",
       "      <td>166377</td>\n",
       "      <td>2019-08-05 00:00:00+03:00</td>\n",
       "      <td>out</td>\n",
       "      <td>True</td>\n",
       "      <td>880022.0</td>\n",
       "      <td>True</td>\n",
       "      <td>3</td>\n",
       "      <td>0</td>\n",
       "      <td>5</td>\n",
       "      <td>B</td>\n",
       "      <td>2019-08-01</td>\n",
       "    </tr>\n",
       "    <tr>\n",
       "      <th>2</th>\n",
       "      <td>166377</td>\n",
       "      <td>2019-08-05 00:00:00+03:00</td>\n",
       "      <td>out</td>\n",
       "      <td>True</td>\n",
       "      <td>880020.0</td>\n",
       "      <td>True</td>\n",
       "      <td>1</td>\n",
       "      <td>0</td>\n",
       "      <td>1</td>\n",
       "      <td>B</td>\n",
       "      <td>2019-08-01</td>\n",
       "    </tr>\n",
       "    <tr>\n",
       "      <th>3</th>\n",
       "      <td>166377</td>\n",
       "      <td>2019-08-05 00:00:00+03:00</td>\n",
       "      <td>out</td>\n",
       "      <td>True</td>\n",
       "      <td>880020.0</td>\n",
       "      <td>False</td>\n",
       "      <td>1</td>\n",
       "      <td>10</td>\n",
       "      <td>18</td>\n",
       "      <td>B</td>\n",
       "      <td>2019-08-01</td>\n",
       "    </tr>\n",
       "    <tr>\n",
       "      <th>4</th>\n",
       "      <td>166377</td>\n",
       "      <td>2019-08-05 00:00:00+03:00</td>\n",
       "      <td>out</td>\n",
       "      <td>False</td>\n",
       "      <td>880022.0</td>\n",
       "      <td>True</td>\n",
       "      <td>3</td>\n",
       "      <td>0</td>\n",
       "      <td>25</td>\n",
       "      <td>B</td>\n",
       "      <td>2019-08-01</td>\n",
       "    </tr>\n",
       "    <tr>\n",
       "      <th>5</th>\n",
       "      <td>166377</td>\n",
       "      <td>2019-08-05 00:00:00+03:00</td>\n",
       "      <td>out</td>\n",
       "      <td>False</td>\n",
       "      <td>880020.0</td>\n",
       "      <td>False</td>\n",
       "      <td>2</td>\n",
       "      <td>3</td>\n",
       "      <td>29</td>\n",
       "      <td>B</td>\n",
       "      <td>2019-08-01</td>\n",
       "    </tr>\n",
       "  </tbody>\n",
       "</table>\n",
       "</div>"
      ],
      "text/plain": [
       "   user_id                      date direction internal  operator_id  \\\n",
       "1   166377 2019-08-05 00:00:00+03:00       out     True     880022.0   \n",
       "2   166377 2019-08-05 00:00:00+03:00       out     True     880020.0   \n",
       "3   166377 2019-08-05 00:00:00+03:00       out     True     880020.0   \n",
       "4   166377 2019-08-05 00:00:00+03:00       out    False     880022.0   \n",
       "5   166377 2019-08-05 00:00:00+03:00       out    False     880020.0   \n",
       "\n",
       "   is_missed_call  calls_count  call_duration  total_call_duration  \\\n",
       "1            True            3              0                    5   \n",
       "2            True            1              0                    1   \n",
       "3           False            1             10                   18   \n",
       "4            True            3              0                   25   \n",
       "5           False            2              3                   29   \n",
       "\n",
       "  tariff_plan date_start  \n",
       "1           B 2019-08-01  \n",
       "2           B 2019-08-01  \n",
       "3           B 2019-08-01  \n",
       "4           B 2019-08-01  \n",
       "5           B 2019-08-01  "
      ]
     },
     "execution_count": 19,
     "metadata": {},
     "output_type": "execute_result"
    }
   ],
   "source": [
    "df.head()"
   ]
  },
  {
   "cell_type": "code",
   "execution_count": 20,
   "metadata": {},
   "outputs": [
    {
     "name": "stdout",
     "output_type": "stream",
     "text": [
      "<class 'pandas.core.frame.DataFrame'>\n",
      "Int64Index: 41491 entries, 1 to 53899\n",
      "Data columns (total 11 columns):\n",
      " #   Column               Non-Null Count  Dtype                                \n",
      "---  ------               --------------  -----                                \n",
      " 0   user_id              41491 non-null  int64                                \n",
      " 1   date                 41491 non-null  datetime64[ns, pytz.FixedOffset(180)]\n",
      " 2   direction            41491 non-null  object                               \n",
      " 3   internal             41491 non-null  object                               \n",
      " 4   operator_id          41491 non-null  float64                              \n",
      " 5   is_missed_call       41491 non-null  bool                                 \n",
      " 6   calls_count          41491 non-null  int64                                \n",
      " 7   call_duration        41491 non-null  int64                                \n",
      " 8   total_call_duration  41491 non-null  int64                                \n",
      " 9   tariff_plan          41491 non-null  object                               \n",
      " 10  date_start           41491 non-null  datetime64[ns]                       \n",
      "dtypes: bool(1), datetime64[ns, pytz.FixedOffset(180)](1), datetime64[ns](1), float64(1), int64(4), object(3)\n",
      "memory usage: 3.5+ MB\n"
     ]
    }
   ],
   "source": [
    "df.info()"
   ]
  },
  {
   "cell_type": "markdown",
   "metadata": {},
   "source": [
    "C обработкой типов данных, пропусков и дубликатов законченно, проверим аномалии и выбросы, если такие есть."
   ]
  },
  {
   "cell_type": "code",
   "execution_count": 21,
   "metadata": {},
   "outputs": [
    {
     "data": {
      "text/plain": [
       "[count     41491.000000\n",
       " mean     167301.113543\n",
       " std         600.513986\n",
       " min      166377.000000\n",
       " 25%      166782.000000\n",
       " 50%      167175.000000\n",
       " 75%      167827.000000\n",
       " max      168606.000000\n",
       " Name: user_id, dtype: float64,\n",
       " count     41491.000000\n",
       " mean     916516.771155\n",
       " std       21234.081589\n",
       " min      879896.000000\n",
       " 25%      900790.000000\n",
       " 50%      913938.000000\n",
       " 75%      937708.000000\n",
       " max      973286.000000\n",
       " Name: operator_id, dtype: float64,\n",
       " count    41491.000000\n",
       " mean        16.921381\n",
       " std         59.786187\n",
       " min          1.000000\n",
       " 25%          1.000000\n",
       " 50%          4.000000\n",
       " 75%         14.000000\n",
       " max       4817.000000\n",
       " Name: calls_count, dtype: float64,\n",
       " count     41491.000000\n",
       " mean       1010.940011\n",
       " std        4066.666485\n",
       " min           0.000000\n",
       " 25%           0.000000\n",
       " 50%         106.000000\n",
       " 75%         772.000000\n",
       " max      144395.000000\n",
       " Name: call_duration, dtype: float64,\n",
       " count     41491.000000\n",
       " mean       1323.153238\n",
       " std        4788.953155\n",
       " min           0.000000\n",
       " 25%          67.000000\n",
       " 50%         289.000000\n",
       " 75%        1107.000000\n",
       " max      166155.000000\n",
       " Name: total_call_duration, dtype: float64]"
      ]
     },
     "execution_count": 21,
     "metadata": {},
     "output_type": "execute_result"
    }
   ],
   "source": [
    "[df[col].describe() for col in df.columns if df[col].dtype in ['float','int64']]"
   ]
  },
  {
   "cell_type": "markdown",
   "metadata": {},
   "source": [
    "Большие выбросы в кол-ве звонков, звонках без ожидания и в общей длительность звонка. "
   ]
  },
  {
   "cell_type": "code",
   "execution_count": 22,
   "metadata": {},
   "outputs": [],
   "source": [
    "#проверим возьмем срез за 12 часов день\n",
    "df_1 = df.query('call_duration > 43200')"
   ]
  },
  {
   "cell_type": "code",
   "execution_count": 23,
   "metadata": {},
   "outputs": [
    {
     "data": {
      "text/plain": [
       "166582    96\n",
       "Name: user_id, dtype: int64"
      ]
     },
     "execution_count": 23,
     "metadata": {},
     "output_type": "execute_result"
    }
   ],
   "source": [
    "df_1['user_id'].value_counts()"
   ]
  },
  {
   "cell_type": "code",
   "execution_count": 24,
   "metadata": {},
   "outputs": [],
   "source": [
    "def mybox(df,title):\n",
    "    q75, q25 = np.percentile(df, [75,25])\n",
    "    iqr = q75 - q25\n",
    "    min = q25 - (q25 +1.5*iqr)\n",
    "    max = q75 + 1.5*iqr\n",
    "    print('Граница нижнего уса: ', min)\n",
    "    print('Граница верхнего уса: ', max)\n",
    "    print(df.describe())\n",
    "    fig = plt.figure(figsize =(10, 7)) \n",
    "    plt.ylim(0,max*1.2)\n",
    "    plt.boxplot(df,sym='k+', notch=1,)\n",
    "    plt.title(f'График \"ящик с усами\"для {title}')\n",
    "    plt.show()"
   ]
  },
  {
   "cell_type": "code",
   "execution_count": 25,
   "metadata": {},
   "outputs": [
    {
     "name": "stdout",
     "output_type": "stream",
     "text": [
      "Граница нижнего уса:  -16.5\n",
      "Граница верхнего уса:  29.5\n",
      "count    27660.000000\n",
      "mean        15.554085\n",
      "std         49.480135\n",
      "min          1.000000\n",
      "25%          2.000000\n",
      "50%          4.000000\n",
      "75%         13.000000\n",
      "max       1480.000000\n",
      "Name: calls_count, dtype: float64\n"
     ]
    },
    {
     "data": {
      "image/png": "[encoded data removed]",
      "text/plain": [
       "<Figure size 720x504 with 1 Axes>"
      ]
     },
     "metadata": {},
     "output_type": "display_data"
    }
   ],
   "source": [
    "mybox(df.query('call_duration != 0').calls_count, 'количества звонков')"
   ]
  },
  {
   "cell_type": "code",
   "execution_count": 26,
   "metadata": {},
   "outputs": [
    {
     "name": "stdout",
     "output_type": "stream",
     "text": [
      "Граница нижнего уса:  -1942.5\n",
      "Граница верхнего уса:  3343.5\n",
      "count     27660.000000\n",
      "mean       1516.446565\n",
      "std        4903.158159\n",
      "min           1.000000\n",
      "25%         106.000000\n",
      "50%         435.000000\n",
      "75%        1401.000000\n",
      "max      144395.000000\n",
      "Name: call_duration, dtype: float64\n"
     ]
    },
    {
     "data": {
      "image/png": "[encoded data removed]",
      "text/plain": [
       "<Figure size 720x504 with 1 Axes>"
      ]
     },
     "metadata": {},
     "output_type": "display_data"
    }
   ],
   "source": [
    "mybox(df.query('call_duration !=0').call_duration, 'длительности звонков(без учета ожидания)')"
   ]
  },
  {
   "cell_type": "code",
   "execution_count": 27,
   "metadata": {},
   "outputs": [
    {
     "name": "stdout",
     "output_type": "stream",
     "text": [
      "Граница нижнего уса:  -2232.0\n",
      "Граница верхнего уса:  3854.0\n",
      "count     27660.000000\n",
      "mean       1757.802495\n",
      "std        5711.431070\n",
      "min           1.000000\n",
      "25%         134.000000\n",
      "50%         502.500000\n",
      "75%        1622.000000\n",
      "max      166155.000000\n",
      "Name: total_call_duration, dtype: float64\n"
     ]
    },
    {
     "data": {
      "image/png": "[encoded data removed]",
      "text/plain": [
       "<Figure size 720x504 with 1 Axes>"
      ]
     },
     "metadata": {},
     "output_type": "display_data"
    }
   ],
   "source": [
    "mybox(df.query('call_duration !=0').total_call_duration, 'длительности звонков с ожиданием')"
   ]
  },
  {
   "cell_type": "code",
   "execution_count": 28,
   "metadata": {},
   "outputs": [],
   "source": [
    "df = df.query('call_duration <= 43200')"
   ]
  },
  {
   "cell_type": "markdown",
   "metadata": {},
   "source": [
    "**Вывод**  \n",
    "мы обработали все данные, удалили дубликаты и заполнили пропуски значениями из user_id на 0.52, т.к. их кол-во было существенным и могло повлиять на наш итоговый результат. Произвели замену типов данных в датах, заметили и избавились от выбросов.За основу взяли 12 часовой день, конечно тоже мало вероятно, но не будет исключать такой возможности, что у нас есть фанат своей работы. Моё предположение, что это бот, который обзванивает номера, которые когда-либо не взли трубку или были в недоступа. "
   ]
  },
  {
   "cell_type": "markdown",
   "metadata": {},
   "source": [
    "# Шаг 3.Проведите исследовательский анализ данных."
   ]
  },
  {
   "cell_type": "markdown",
   "metadata": {},
   "source": [
    "Проведем категаризации колл центров. in - только входящие, out - только исходящии и in_out - мульти."
   ]
  },
  {
   "cell_type": "code",
   "execution_count": 29,
   "metadata": {},
   "outputs": [],
   "source": [
    "df_dir = df.query('call_duration != 0').pivot_table(index = ['user_id'], columns =['direction'], values = ['calls_count'], aggfunc = (sum)).fillna(0).reset_index()\n",
    "df_dir.columns = ['user_id', 'in', 'out']"
   ]
  },
  {
   "cell_type": "code",
   "execution_count": 30,
   "metadata": {},
   "outputs": [
    {
     "data": {
      "text/html": [
       "<div>\n",
       "<style scoped>\n",
       "    .dataframe tbody tr th:only-of-type {\n",
       "        vertical-align: middle;\n",
       "    }\n",
       "\n",
       "    .dataframe tbody tr th {\n",
       "        vertical-align: top;\n",
       "    }\n",
       "\n",
       "    .dataframe thead th {\n",
       "        text-align: right;\n",
       "    }\n",
       "</style>\n",
       "<table border=\"1\" class=\"dataframe\">\n",
       "  <thead>\n",
       "    <tr style=\"text-align: right;\">\n",
       "      <th></th>\n",
       "      <th>user_id</th>\n",
       "      <th>in</th>\n",
       "      <th>out</th>\n",
       "    </tr>\n",
       "  </thead>\n",
       "  <tbody>\n",
       "    <tr>\n",
       "      <th>0</th>\n",
       "      <td>166377</td>\n",
       "      <td>102.0</td>\n",
       "      <td>3167.0</td>\n",
       "    </tr>\n",
       "    <tr>\n",
       "      <th>1</th>\n",
       "      <td>166391</td>\n",
       "      <td>6.0</td>\n",
       "      <td>0.0</td>\n",
       "    </tr>\n",
       "    <tr>\n",
       "      <th>2</th>\n",
       "      <td>166392</td>\n",
       "      <td>102.0</td>\n",
       "      <td>0.0</td>\n",
       "    </tr>\n",
       "    <tr>\n",
       "      <th>3</th>\n",
       "      <td>166399</td>\n",
       "      <td>11.0</td>\n",
       "      <td>0.0</td>\n",
       "    </tr>\n",
       "    <tr>\n",
       "      <th>4</th>\n",
       "      <td>166405</td>\n",
       "      <td>2177.0</td>\n",
       "      <td>6461.0</td>\n",
       "    </tr>\n",
       "  </tbody>\n",
       "</table>\n",
       "</div>"
      ],
      "text/plain": [
       "   user_id      in     out\n",
       "0   166377   102.0  3167.0\n",
       "1   166391     6.0     0.0\n",
       "2   166392   102.0     0.0\n",
       "3   166399    11.0     0.0\n",
       "4   166405  2177.0  6461.0"
      ]
     },
     "execution_count": 30,
     "metadata": {},
     "output_type": "execute_result"
    }
   ],
   "source": [
    "df_dir.head()"
   ]
  },
  {
   "cell_type": "code",
   "execution_count": 31,
   "metadata": {},
   "outputs": [
    {
     "name": "stdout",
     "output_type": "stream",
     "text": [
      "Граница нижнего уса:  -246.0\n",
      "Граница верхнего уса:  418.0\n",
      "count     287.000000\n",
      "mean      324.790941\n",
      "std       926.995710\n",
      "min         0.000000\n",
      "25%         8.000000\n",
      "50%        39.000000\n",
      "75%       172.000000\n",
      "max      7874.000000\n",
      "Name: in, dtype: float64\n"
     ]
    },
    {
     "data": {
      "image/png": "[encoded data removed]",
      "text/plain": [
       "<Figure size 720x504 with 1 Axes>"
      ]
     },
     "metadata": {},
     "output_type": "display_data"
    }
   ],
   "source": [
    "mybox(df_dir['in'], 'кол-во входящих вызовов')"
   ]
  },
  {
   "cell_type": "code",
   "execution_count": 32,
   "metadata": {},
   "outputs": [
    {
     "name": "stdout",
     "output_type": "stream",
     "text": [
      "Граница нижнего уса:  -809.25\n",
      "Граница верхнего уса:  1348.75\n",
      "count      287.000000\n",
      "mean       961.470383\n",
      "std       3500.881017\n",
      "min          0.000000\n",
      "25%          0.000000\n",
      "50%         50.000000\n",
      "75%        539.500000\n",
      "max      37261.000000\n",
      "Name: out, dtype: float64\n"
     ]
    },
    {
     "data": {
      "image/png": "[encoded data removed]",
      "text/plain": [
       "<Figure size 720x504 with 1 Axes>"
      ]
     },
     "metadata": {},
     "output_type": "display_data"
    }
   ],
   "source": [
    "mybox(df_dir['out'], 'кол-во исходящих вызовов')"
   ]
  },
  {
   "cell_type": "code",
   "execution_count": 33,
   "metadata": {},
   "outputs": [],
   "source": [
    "df_dir['percentile'] = df_dir['in']/(df_dir['in']+df_dir['out'])*100"
   ]
  },
  {
   "cell_type": "code",
   "execution_count": 34,
   "metadata": {},
   "outputs": [
    {
     "data": {
      "text/html": [
       "<div>\n",
       "<style scoped>\n",
       "    .dataframe tbody tr th:only-of-type {\n",
       "        vertical-align: middle;\n",
       "    }\n",
       "\n",
       "    .dataframe tbody tr th {\n",
       "        vertical-align: top;\n",
       "    }\n",
       "\n",
       "    .dataframe thead th {\n",
       "        text-align: right;\n",
       "    }\n",
       "</style>\n",
       "<table border=\"1\" class=\"dataframe\">\n",
       "  <thead>\n",
       "    <tr style=\"text-align: right;\">\n",
       "      <th></th>\n",
       "      <th>user_id</th>\n",
       "      <th>in</th>\n",
       "      <th>out</th>\n",
       "      <th>percentile</th>\n",
       "    </tr>\n",
       "  </thead>\n",
       "  <tbody>\n",
       "    <tr>\n",
       "      <th>0</th>\n",
       "      <td>166377</td>\n",
       "      <td>102.0</td>\n",
       "      <td>3167.0</td>\n",
       "      <td>3.120220</td>\n",
       "    </tr>\n",
       "    <tr>\n",
       "      <th>1</th>\n",
       "      <td>166391</td>\n",
       "      <td>6.0</td>\n",
       "      <td>0.0</td>\n",
       "      <td>100.000000</td>\n",
       "    </tr>\n",
       "    <tr>\n",
       "      <th>2</th>\n",
       "      <td>166392</td>\n",
       "      <td>102.0</td>\n",
       "      <td>0.0</td>\n",
       "      <td>100.000000</td>\n",
       "    </tr>\n",
       "    <tr>\n",
       "      <th>3</th>\n",
       "      <td>166399</td>\n",
       "      <td>11.0</td>\n",
       "      <td>0.0</td>\n",
       "      <td>100.000000</td>\n",
       "    </tr>\n",
       "    <tr>\n",
       "      <th>4</th>\n",
       "      <td>166405</td>\n",
       "      <td>2177.0</td>\n",
       "      <td>6461.0</td>\n",
       "      <td>25.202593</td>\n",
       "    </tr>\n",
       "  </tbody>\n",
       "</table>\n",
       "</div>"
      ],
      "text/plain": [
       "   user_id      in     out  percentile\n",
       "0   166377   102.0  3167.0    3.120220\n",
       "1   166391     6.0     0.0  100.000000\n",
       "2   166392   102.0     0.0  100.000000\n",
       "3   166399    11.0     0.0  100.000000\n",
       "4   166405  2177.0  6461.0   25.202593"
      ]
     },
     "execution_count": 34,
     "metadata": {},
     "output_type": "execute_result"
    }
   ],
   "source": [
    "#Посчитаем процент от общих звонков\n",
    "df_dir.head()"
   ]
  },
  {
   "cell_type": "code",
   "execution_count": 35,
   "metadata": {},
   "outputs": [],
   "source": [
    "#присвоим группы для колл-центров\n",
    "def group_dir(row):\n",
    "    if (row['in'] !=0) & (row['percentile'] >= 49.99):\n",
    "        return 'in'\n",
    "    elif (row['out'] != 0) & (row['percentile'] <= 50.01):\n",
    "         return 'out'\n",
    "    else:\n",
    "        return 'проверить'"
   ]
  },
  {
   "cell_type": "code",
   "execution_count": 36,
   "metadata": {},
   "outputs": [
    {
     "data": {
      "text/plain": [
       "in     147\n",
       "out    140\n",
       "Name: direction_group, dtype: int64"
      ]
     },
     "execution_count": 36,
     "metadata": {},
     "output_type": "execute_result"
    }
   ],
   "source": [
    "df_dir['direction_group'] = df_dir.apply(group_dir, axis =1)\n",
    "df_dir['direction_group'].value_counts()"
   ]
  },
  {
   "cell_type": "code",
   "execution_count": 37,
   "metadata": {},
   "outputs": [
    {
     "data": {
      "text/html": [
       "<div>\n",
       "<style scoped>\n",
       "    .dataframe tbody tr th:only-of-type {\n",
       "        vertical-align: middle;\n",
       "    }\n",
       "\n",
       "    .dataframe tbody tr th {\n",
       "        vertical-align: top;\n",
       "    }\n",
       "\n",
       "    .dataframe thead th {\n",
       "        text-align: right;\n",
       "    }\n",
       "</style>\n",
       "<table border=\"1\" class=\"dataframe\">\n",
       "  <thead>\n",
       "    <tr style=\"text-align: right;\">\n",
       "      <th></th>\n",
       "      <th>user_id</th>\n",
       "      <th>direction_group</th>\n",
       "    </tr>\n",
       "  </thead>\n",
       "  <tbody>\n",
       "    <tr>\n",
       "      <th>0</th>\n",
       "      <td>166377</td>\n",
       "      <td>out</td>\n",
       "    </tr>\n",
       "    <tr>\n",
       "      <th>1</th>\n",
       "      <td>166391</td>\n",
       "      <td>in</td>\n",
       "    </tr>\n",
       "    <tr>\n",
       "      <th>2</th>\n",
       "      <td>166392</td>\n",
       "      <td>in</td>\n",
       "    </tr>\n",
       "    <tr>\n",
       "      <th>3</th>\n",
       "      <td>166399</td>\n",
       "      <td>in</td>\n",
       "    </tr>\n",
       "    <tr>\n",
       "      <th>4</th>\n",
       "      <td>166405</td>\n",
       "      <td>out</td>\n",
       "    </tr>\n",
       "    <tr>\n",
       "      <th>...</th>\n",
       "      <td>...</td>\n",
       "      <td>...</td>\n",
       "    </tr>\n",
       "    <tr>\n",
       "      <th>282</th>\n",
       "      <td>168583</td>\n",
       "      <td>in</td>\n",
       "    </tr>\n",
       "    <tr>\n",
       "      <th>283</th>\n",
       "      <td>168598</td>\n",
       "      <td>in</td>\n",
       "    </tr>\n",
       "    <tr>\n",
       "      <th>284</th>\n",
       "      <td>168601</td>\n",
       "      <td>out</td>\n",
       "    </tr>\n",
       "    <tr>\n",
       "      <th>285</th>\n",
       "      <td>168603</td>\n",
       "      <td>out</td>\n",
       "    </tr>\n",
       "    <tr>\n",
       "      <th>286</th>\n",
       "      <td>168606</td>\n",
       "      <td>out</td>\n",
       "    </tr>\n",
       "  </tbody>\n",
       "</table>\n",
       "<p>287 rows × 2 columns</p>\n",
       "</div>"
      ],
      "text/plain": [
       "     user_id direction_group\n",
       "0     166377             out\n",
       "1     166391              in\n",
       "2     166392              in\n",
       "3     166399              in\n",
       "4     166405             out\n",
       "..       ...             ...\n",
       "282   168583              in\n",
       "283   168598              in\n",
       "284   168601             out\n",
       "285   168603             out\n",
       "286   168606             out\n",
       "\n",
       "[287 rows x 2 columns]"
      ]
     },
     "execution_count": 37,
     "metadata": {},
     "output_type": "execute_result"
    }
   ],
   "source": [
    "df_dir_1 = df_dir[['user_id', 'direction_group']]\n",
    "df_dir_1"
   ]
  },
  {
   "cell_type": "code",
   "execution_count": 38,
   "metadata": {},
   "outputs": [],
   "source": [
    "#присоеденим к нашей таблице\n",
    "df = df.merge(df_dir_1, on = 'user_id')"
   ]
  },
  {
   "cell_type": "markdown",
   "metadata": {},
   "source": [
    "Для будущих оценок - категаризацию провели, теперь непосредственно метрики."
   ]
  },
  {
   "cell_type": "markdown",
   "metadata": {},
   "source": [
    "**Оценим по Среднему ожиданию вызова**"
   ]
  },
  {
   "cell_type": "code",
   "execution_count": 39,
   "metadata": {},
   "outputs": [],
   "source": [
    "df['avr'] = (df['total_call_duration'] - df['call_duration']) / df['calls_count']"
   ]
  },
  {
   "cell_type": "code",
   "execution_count": 40,
   "metadata": {},
   "outputs": [
    {
     "data": {
      "text/html": [
       "<div>\n",
       "<style scoped>\n",
       "    .dataframe tbody tr th:only-of-type {\n",
       "        vertical-align: middle;\n",
       "    }\n",
       "\n",
       "    .dataframe tbody tr th {\n",
       "        vertical-align: top;\n",
       "    }\n",
       "\n",
       "    .dataframe thead th {\n",
       "        text-align: right;\n",
       "    }\n",
       "</style>\n",
       "<table border=\"1\" class=\"dataframe\">\n",
       "  <thead>\n",
       "    <tr style=\"text-align: right;\">\n",
       "      <th></th>\n",
       "      <th>user_id</th>\n",
       "      <th>date</th>\n",
       "      <th>direction</th>\n",
       "      <th>internal</th>\n",
       "      <th>operator_id</th>\n",
       "      <th>is_missed_call</th>\n",
       "      <th>calls_count</th>\n",
       "      <th>call_duration</th>\n",
       "      <th>total_call_duration</th>\n",
       "      <th>tariff_plan</th>\n",
       "      <th>date_start</th>\n",
       "      <th>direction_group</th>\n",
       "      <th>avr</th>\n",
       "    </tr>\n",
       "  </thead>\n",
       "  <tbody>\n",
       "    <tr>\n",
       "      <th>0</th>\n",
       "      <td>166377</td>\n",
       "      <td>2019-08-05 00:00:00+03:00</td>\n",
       "      <td>out</td>\n",
       "      <td>True</td>\n",
       "      <td>880022.0</td>\n",
       "      <td>True</td>\n",
       "      <td>3</td>\n",
       "      <td>0</td>\n",
       "      <td>5</td>\n",
       "      <td>B</td>\n",
       "      <td>2019-08-01</td>\n",
       "      <td>out</td>\n",
       "      <td>1.666667</td>\n",
       "    </tr>\n",
       "    <tr>\n",
       "      <th>1</th>\n",
       "      <td>166377</td>\n",
       "      <td>2019-08-05 00:00:00+03:00</td>\n",
       "      <td>out</td>\n",
       "      <td>True</td>\n",
       "      <td>880020.0</td>\n",
       "      <td>True</td>\n",
       "      <td>1</td>\n",
       "      <td>0</td>\n",
       "      <td>1</td>\n",
       "      <td>B</td>\n",
       "      <td>2019-08-01</td>\n",
       "      <td>out</td>\n",
       "      <td>1.000000</td>\n",
       "    </tr>\n",
       "    <tr>\n",
       "      <th>2</th>\n",
       "      <td>166377</td>\n",
       "      <td>2019-08-05 00:00:00+03:00</td>\n",
       "      <td>out</td>\n",
       "      <td>True</td>\n",
       "      <td>880020.0</td>\n",
       "      <td>False</td>\n",
       "      <td>1</td>\n",
       "      <td>10</td>\n",
       "      <td>18</td>\n",
       "      <td>B</td>\n",
       "      <td>2019-08-01</td>\n",
       "      <td>out</td>\n",
       "      <td>8.000000</td>\n",
       "    </tr>\n",
       "    <tr>\n",
       "      <th>3</th>\n",
       "      <td>166377</td>\n",
       "      <td>2019-08-05 00:00:00+03:00</td>\n",
       "      <td>out</td>\n",
       "      <td>False</td>\n",
       "      <td>880022.0</td>\n",
       "      <td>True</td>\n",
       "      <td>3</td>\n",
       "      <td>0</td>\n",
       "      <td>25</td>\n",
       "      <td>B</td>\n",
       "      <td>2019-08-01</td>\n",
       "      <td>out</td>\n",
       "      <td>8.333333</td>\n",
       "    </tr>\n",
       "    <tr>\n",
       "      <th>4</th>\n",
       "      <td>166377</td>\n",
       "      <td>2019-08-05 00:00:00+03:00</td>\n",
       "      <td>out</td>\n",
       "      <td>False</td>\n",
       "      <td>880020.0</td>\n",
       "      <td>False</td>\n",
       "      <td>2</td>\n",
       "      <td>3</td>\n",
       "      <td>29</td>\n",
       "      <td>B</td>\n",
       "      <td>2019-08-01</td>\n",
       "      <td>out</td>\n",
       "      <td>13.000000</td>\n",
       "    </tr>\n",
       "  </tbody>\n",
       "</table>\n",
       "</div>"
      ],
      "text/plain": [
       "   user_id                      date direction internal  operator_id  \\\n",
       "0   166377 2019-08-05 00:00:00+03:00       out     True     880022.0   \n",
       "1   166377 2019-08-05 00:00:00+03:00       out     True     880020.0   \n",
       "2   166377 2019-08-05 00:00:00+03:00       out     True     880020.0   \n",
       "3   166377 2019-08-05 00:00:00+03:00       out    False     880022.0   \n",
       "4   166377 2019-08-05 00:00:00+03:00       out    False     880020.0   \n",
       "\n",
       "   is_missed_call  calls_count  call_duration  total_call_duration  \\\n",
       "0            True            3              0                    5   \n",
       "1            True            1              0                    1   \n",
       "2           False            1             10                   18   \n",
       "3            True            3              0                   25   \n",
       "4           False            2              3                   29   \n",
       "\n",
       "  tariff_plan date_start direction_group        avr  \n",
       "0           B 2019-08-01             out   1.666667  \n",
       "1           B 2019-08-01             out   1.000000  \n",
       "2           B 2019-08-01             out   8.000000  \n",
       "3           B 2019-08-01             out   8.333333  \n",
       "4           B 2019-08-01             out  13.000000  "
      ]
     },
     "execution_count": 40,
     "metadata": {},
     "output_type": "execute_result"
    }
   ],
   "source": [
    "df.head()"
   ]
  },
  {
   "cell_type": "code",
   "execution_count": 41,
   "metadata": {},
   "outputs": [
    {
     "name": "stdout",
     "output_type": "stream",
     "text": [
      "Граница нижнего уса:  -15.097115384615389\n",
      "Граница верхнего уса:  33.16185897435898\n",
      "count    27564.000000\n",
      "mean        14.516526\n",
      "std         10.470982\n",
      "min          0.000000\n",
      "25%          8.000000\n",
      "50%         13.000000\n",
      "75%         18.064744\n",
      "max        451.203883\n",
      "Name: avr, dtype: float64\n"
     ]
    },
    {
     "data": {
      "image/png": "[encoded data removed]",
      "text/plain": [
       "<Figure size 720x504 with 1 Axes>"
      ]
     },
     "metadata": {},
     "output_type": "display_data"
    }
   ],
   "source": [
    "mybox(df.query('call_duration !=0').avr, 'Среднему ожиданию вызова')"
   ]
  },
  {
   "cell_type": "markdown",
   "metadata": {},
   "source": [
    "Оценка KPI для колл центра и в ней данная метрика обозначенна в 20 секунд. Видим, что данный показатель в основной своей массе у нас подходит. Данная метрика подойдет для колл центров из категории \"in\" и \"in_out\".  \n",
    "\n",
    "Ссылка источника: https://imccenter.ru/kak-izmerit-effektivnost-koll-tsentra/#:~:text=%D0%A1%D1%80%D0%B5%D0%B4%D0%BD%D0%B5%D0%B5%20%D0%B2%D1%80%D0%B5%D0%BC%D1%8F%20%D0%BE%D0%B1%D1%80%D0%B0%D0%B1%D0%BE%D1%82%D0%BA%D0%B8%20%D0%BE%D0%B4%D0%BD%D0%BE%D0%B3%D0%BE%20%D0%B7%D0%B2%D0%BE%D0%BD%D0%BA%D0%B0,%D0%B2%D1%80%D0%B5%D0%BC%D1%8F%20%D0%BF%D0%BE%D1%81%D1%82%D0%BE%D0%B1%D1%80%D0%B0%D0%B1%D0%BE%D1%82%D0%BA%D0%B8%2C%20%D0%B0%20%D1%82%D0%B0%D0%BA%D0%B6%D0%B5%20%D0%BF%D0%B0%D1%83%D0%B7%D1%8B)"
   ]
  },
  {
   "cell_type": "markdown",
   "metadata": {},
   "source": [
    "**Сколько пропущенныех звонков имеют операторы из \"принимающих\"?**"
   ]
  },
  {
   "cell_type": "code",
   "execution_count": 42,
   "metadata": {},
   "outputs": [
    {
     "name": "stdout",
     "output_type": "stream",
     "text": [
      "Граница нижнего уса:  -6.0\n",
      "Граница верхнего уса:  11.0\n",
      "count    1973.000000\n",
      "mean        6.709579\n",
      "std        12.321434\n",
      "min         1.000000\n",
      "25%         1.000000\n",
      "50%         2.000000\n",
      "75%         5.000000\n",
      "max       100.000000\n",
      "Name: calls_count, dtype: float64\n"
     ]
    },
    {
     "data": {
      "image/png": "[encoded data removed]",
      "text/plain": [
       "<Figure size 720x504 with 1 Axes>"
      ]
     },
     "metadata": {},
     "output_type": "display_data"
    }
   ],
   "source": [
    "mybox(df.query('direction_group == \"in\" and is_missed_call == True')['calls_count'], 'is_missed_call')"
   ]
  },
  {
   "cell_type": "code",
   "execution_count": 43,
   "metadata": {},
   "outputs": [],
   "source": [
    "missed_calls = df[(df['direction_group'] == 'in') & (df['is_missed_call'] == True)]"
   ]
  },
  {
   "cell_type": "code",
   "execution_count": 44,
   "metadata": {},
   "outputs": [
    {
     "data": {
      "text/html": [
       "<div>\n",
       "<style scoped>\n",
       "    .dataframe tbody tr th:only-of-type {\n",
       "        vertical-align: middle;\n",
       "    }\n",
       "\n",
       "    .dataframe tbody tr th {\n",
       "        vertical-align: top;\n",
       "    }\n",
       "\n",
       "    .dataframe thead th {\n",
       "        text-align: right;\n",
       "    }\n",
       "</style>\n",
       "<table border=\"1\" class=\"dataframe\">\n",
       "  <thead>\n",
       "    <tr style=\"text-align: right;\">\n",
       "      <th></th>\n",
       "      <th>user_id</th>\n",
       "      <th>calls_count</th>\n",
       "    </tr>\n",
       "  </thead>\n",
       "  <tbody>\n",
       "    <tr>\n",
       "      <th>83</th>\n",
       "      <td>168252</td>\n",
       "      <td>5078</td>\n",
       "    </tr>\n",
       "    <tr>\n",
       "      <th>57</th>\n",
       "      <td>167650</td>\n",
       "      <td>2913</td>\n",
       "    </tr>\n",
       "    <tr>\n",
       "      <th>50</th>\n",
       "      <td>167466</td>\n",
       "      <td>605</td>\n",
       "    </tr>\n",
       "    <tr>\n",
       "      <th>47</th>\n",
       "      <td>167445</td>\n",
       "      <td>460</td>\n",
       "    </tr>\n",
       "    <tr>\n",
       "      <th>84</th>\n",
       "      <td>168253</td>\n",
       "      <td>441</td>\n",
       "    </tr>\n",
       "    <tr>\n",
       "      <th>86</th>\n",
       "      <td>168271</td>\n",
       "      <td>403</td>\n",
       "    </tr>\n",
       "    <tr>\n",
       "      <th>61</th>\n",
       "      <td>167799</td>\n",
       "      <td>390</td>\n",
       "    </tr>\n",
       "    <tr>\n",
       "      <th>70</th>\n",
       "      <td>167977</td>\n",
       "      <td>348</td>\n",
       "    </tr>\n",
       "    <tr>\n",
       "      <th>25</th>\n",
       "      <td>167071</td>\n",
       "      <td>342</td>\n",
       "    </tr>\n",
       "    <tr>\n",
       "      <th>36</th>\n",
       "      <td>167235</td>\n",
       "      <td>327</td>\n",
       "    </tr>\n",
       "  </tbody>\n",
       "</table>\n",
       "</div>"
      ],
      "text/plain": [
       "    user_id  calls_count\n",
       "83   168252         5078\n",
       "57   167650         2913\n",
       "50   167466          605\n",
       "47   167445          460\n",
       "84   168253          441\n",
       "86   168271          403\n",
       "61   167799          390\n",
       "70   167977          348\n",
       "25   167071          342\n",
       "36   167235          327"
      ]
     },
     "execution_count": 44,
     "metadata": {},
     "output_type": "execute_result"
    }
   ],
   "source": [
    "miss = missed_calls.groupby('user_id', as_index=False).agg({'calls_count':'sum'}).sort_values(by='calls_count', ascending=False)\n",
    "miss.head(10)"
   ]
  },
  {
   "cell_type": "code",
   "execution_count": 45,
   "metadata": {},
   "outputs": [
    {
     "data": {
      "image/png": "[encoded data removed]",
      "text/plain": [
       "<Figure size 1080x720 with 1 Axes>"
      ]
     },
     "metadata": {},
     "output_type": "display_data"
    }
   ],
   "source": [
    "miss['calls_count'].hist()\n",
    "plt.title('Распределение пропущенных для колл-центров\\n')\n",
    "plt.xlabel('Кол-во пропущенных')\n",
    "plt.ylabel('Количество колл-центров')\n",
    "plt.show()"
   ]
  },
  {
   "cell_type": "markdown",
   "metadata": {},
   "source": [
    "Пропущенные есть у каждого оператора, который специализируется на входящих звонках. Процент пропущенных не должен привышать 5% порог для колл-центров.\n",
    "\n",
    "\n",
    "Источник:https://zen.yandex.ru/media/id/5d8b259c8d5b5f00aff0a889/chto-takoe-procent-propuscennyh-zvonkov-5f57533b692a906cd066f875"
   ]
  },
  {
   "cell_type": "code",
   "execution_count": 46,
   "metadata": {},
   "outputs": [],
   "source": [
    "#Добавим столбец для оценки данного показателя\n",
    "df['miss_limit'] = round(df['calls_count'] * 0.05)"
   ]
  },
  {
   "cell_type": "markdown",
   "metadata": {},
   "source": [
    "**мало исходящих вывозов — в случае тех колл-центров, что специализируются на обзвонах, а не обработке входящих звонков. На гисторграмме разброса увидим и установим рамки эффективности.** "
   ]
  },
  {
   "cell_type": "code",
   "execution_count": 47,
   "metadata": {
    "scrolled": false
   },
   "outputs": [
    {
     "name": "stdout",
     "output_type": "stream",
     "text": [
      "Граница нижнего уса:  -19.5\n",
      "Граница верхнего уса:  34.5\n",
      "count    20442.000000\n",
      "mean        14.685598\n",
      "std         32.324056\n",
      "min          1.000000\n",
      "25%          2.000000\n",
      "50%          5.000000\n",
      "75%         15.000000\n",
      "max        970.000000\n",
      "Name: calls_count, dtype: float64\n"
     ]
    },
    {
     "data": {
      "image/png": "[encoded data removed]",
      "text/plain": [
       "<Figure size 720x504 with 1 Axes>"
      ]
     },
     "metadata": {},
     "output_type": "display_data"
    }
   ],
   "source": [
    "mybox(df.query('direction_group == \"out\" and is_missed_call == False')['calls_count'], 'calls_count')"
   ]
  },
  {
   "cell_type": "markdown",
   "metadata": {},
   "source": [
    "Нигде не нашел метрики для оценки исходящих вызовов на основе наших данных, не хватает кол-ва рабочего времени."
   ]
  },
  {
   "cell_type": "markdown",
   "metadata": {},
   "source": [
    "Для каждой группы выделили метрики для оценки показателей эффективности колл-центров. Оценять будем по скорингу, для каждой группы.    \n",
    "Признаки низкой эффективности:\n",
    "  - много пропущенных входящих вызовов. Оценка будет простой, если кол-во больше кол-ва допустимого лимита, скоринг 1, ниже 0.\n",
    "  - долгое ожидания ответа при входящих внешних вызовах. Берем информацию из источника выше, максимальный предел 20 сек. Скоринг 0 - 10 = 0, от 11-20 = 0.5, более 20 сек = 1.\n",
    "  - мало исходящих вывозов — в случае тех колл-центров, что специализируются на обзвонах, а не обработке входящих звонков. На гисторграмме разброса увидим и установим рамки эффективности.  Здесь предлагаю установить лимиты 0-9 = 1 , 10-20 = 0.5 и более 20 = 0. Так же пояснение, что учитывать с пропущенными звонками не будет."
   ]
  },
  {
   "cell_type": "code",
   "execution_count": 48,
   "metadata": {},
   "outputs": [],
   "source": [
    "# оценка операторов который специализируется на исходящих обзвонах.\n",
    "def out_score(row):\n",
    "    if row['direction'] == \"out\" and row['is_missed_call'] == False and 0 <= row['calls_count'] <= 10:\n",
    "        return 1\n",
    "    elif row['direction'] == \"out\" and row['is_missed_call'] == False and 9 < row['calls_count'] <= 20:\n",
    "        return 0.5\n",
    "    elif row['direction'] == \"out\" and row['is_missed_call'] == False and 24 < row['calls_count']:\n",
    "        return 0\n",
    "    else:\n",
    "        return 0"
   ]
  },
  {
   "cell_type": "code",
   "execution_count": 49,
   "metadata": {},
   "outputs": [],
   "source": [
    "df['out_score'] = df.apply(out_score, axis = 1)"
   ]
  },
  {
   "cell_type": "code",
   "execution_count": 50,
   "metadata": {},
   "outputs": [],
   "source": [
    "#оценка операторов по продолжительности ожидания ответа\n",
    "def aht_score(row):\n",
    "    if row['direction'] == \"in\" and 0 <= row['avr'] <= 10:\n",
    "        return 0\n",
    "    elif row['direction'] == \"in\" and 11 <= row['avr'] <= 20:\n",
    "        return 0.5\n",
    "    elif row['direction'] == \"in\" and 21 <= row['avr']:\n",
    "        return 1\n",
    "    else:\n",
    "        return 0"
   ]
  },
  {
   "cell_type": "code",
   "execution_count": 51,
   "metadata": {},
   "outputs": [],
   "source": [
    "df['avr_score'] = df.apply(aht_score, axis = 1)"
   ]
  },
  {
   "cell_type": "code",
   "execution_count": 52,
   "metadata": {},
   "outputs": [],
   "source": [
    "#Оценка по пропущенным вызовам для операторов\n",
    "def miss_score(row):\n",
    "    if row['direction'] == \"in\" and row['is_missed_call'] == True and  row['calls_count'] < row['miss_limit']:\n",
    "        return 1\n",
    "    else:\n",
    "        return 0"
   ]
  },
  {
   "cell_type": "code",
   "execution_count": 53,
   "metadata": {},
   "outputs": [],
   "source": [
    "df['miss_score'] = df.apply(miss_score, axis = 1)"
   ]
  },
  {
   "cell_type": "code",
   "execution_count": 54,
   "metadata": {},
   "outputs": [],
   "source": [
    "df['total_score'] = df['miss_score'] + df['avr_score'] + df['out_score']"
   ]
  },
  {
   "cell_type": "code",
   "execution_count": 55,
   "metadata": {},
   "outputs": [
    {
     "data": {
      "text/html": [
       "<div>\n",
       "<style scoped>\n",
       "    .dataframe tbody tr th:only-of-type {\n",
       "        vertical-align: middle;\n",
       "    }\n",
       "\n",
       "    .dataframe tbody tr th {\n",
       "        vertical-align: top;\n",
       "    }\n",
       "\n",
       "    .dataframe thead th {\n",
       "        text-align: right;\n",
       "    }\n",
       "</style>\n",
       "<table border=\"1\" class=\"dataframe\">\n",
       "  <thead>\n",
       "    <tr style=\"text-align: right;\">\n",
       "      <th></th>\n",
       "      <th>user_id</th>\n",
       "      <th>date</th>\n",
       "      <th>direction</th>\n",
       "      <th>internal</th>\n",
       "      <th>operator_id</th>\n",
       "      <th>is_missed_call</th>\n",
       "      <th>calls_count</th>\n",
       "      <th>call_duration</th>\n",
       "      <th>total_call_duration</th>\n",
       "      <th>tariff_plan</th>\n",
       "      <th>date_start</th>\n",
       "      <th>direction_group</th>\n",
       "      <th>avr</th>\n",
       "      <th>miss_limit</th>\n",
       "      <th>out_score</th>\n",
       "      <th>avr_score</th>\n",
       "      <th>miss_score</th>\n",
       "      <th>total_score</th>\n",
       "    </tr>\n",
       "  </thead>\n",
       "  <tbody>\n",
       "    <tr>\n",
       "      <th>0</th>\n",
       "      <td>166377</td>\n",
       "      <td>2019-08-05 00:00:00+03:00</td>\n",
       "      <td>out</td>\n",
       "      <td>True</td>\n",
       "      <td>880022.0</td>\n",
       "      <td>True</td>\n",
       "      <td>3</td>\n",
       "      <td>0</td>\n",
       "      <td>5</td>\n",
       "      <td>B</td>\n",
       "      <td>2019-08-01</td>\n",
       "      <td>out</td>\n",
       "      <td>1.666667</td>\n",
       "      <td>0.0</td>\n",
       "      <td>0.0</td>\n",
       "      <td>0.0</td>\n",
       "      <td>0</td>\n",
       "      <td>0.0</td>\n",
       "    </tr>\n",
       "    <tr>\n",
       "      <th>1</th>\n",
       "      <td>166377</td>\n",
       "      <td>2019-08-05 00:00:00+03:00</td>\n",
       "      <td>out</td>\n",
       "      <td>True</td>\n",
       "      <td>880020.0</td>\n",
       "      <td>True</td>\n",
       "      <td>1</td>\n",
       "      <td>0</td>\n",
       "      <td>1</td>\n",
       "      <td>B</td>\n",
       "      <td>2019-08-01</td>\n",
       "      <td>out</td>\n",
       "      <td>1.000000</td>\n",
       "      <td>0.0</td>\n",
       "      <td>0.0</td>\n",
       "      <td>0.0</td>\n",
       "      <td>0</td>\n",
       "      <td>0.0</td>\n",
       "    </tr>\n",
       "    <tr>\n",
       "      <th>2</th>\n",
       "      <td>166377</td>\n",
       "      <td>2019-08-05 00:00:00+03:00</td>\n",
       "      <td>out</td>\n",
       "      <td>True</td>\n",
       "      <td>880020.0</td>\n",
       "      <td>False</td>\n",
       "      <td>1</td>\n",
       "      <td>10</td>\n",
       "      <td>18</td>\n",
       "      <td>B</td>\n",
       "      <td>2019-08-01</td>\n",
       "      <td>out</td>\n",
       "      <td>8.000000</td>\n",
       "      <td>0.0</td>\n",
       "      <td>1.0</td>\n",
       "      <td>0.0</td>\n",
       "      <td>0</td>\n",
       "      <td>1.0</td>\n",
       "    </tr>\n",
       "    <tr>\n",
       "      <th>3</th>\n",
       "      <td>166377</td>\n",
       "      <td>2019-08-05 00:00:00+03:00</td>\n",
       "      <td>out</td>\n",
       "      <td>False</td>\n",
       "      <td>880022.0</td>\n",
       "      <td>True</td>\n",
       "      <td>3</td>\n",
       "      <td>0</td>\n",
       "      <td>25</td>\n",
       "      <td>B</td>\n",
       "      <td>2019-08-01</td>\n",
       "      <td>out</td>\n",
       "      <td>8.333333</td>\n",
       "      <td>0.0</td>\n",
       "      <td>0.0</td>\n",
       "      <td>0.0</td>\n",
       "      <td>0</td>\n",
       "      <td>0.0</td>\n",
       "    </tr>\n",
       "    <tr>\n",
       "      <th>4</th>\n",
       "      <td>166377</td>\n",
       "      <td>2019-08-05 00:00:00+03:00</td>\n",
       "      <td>out</td>\n",
       "      <td>False</td>\n",
       "      <td>880020.0</td>\n",
       "      <td>False</td>\n",
       "      <td>2</td>\n",
       "      <td>3</td>\n",
       "      <td>29</td>\n",
       "      <td>B</td>\n",
       "      <td>2019-08-01</td>\n",
       "      <td>out</td>\n",
       "      <td>13.000000</td>\n",
       "      <td>0.0</td>\n",
       "      <td>1.0</td>\n",
       "      <td>0.0</td>\n",
       "      <td>0</td>\n",
       "      <td>1.0</td>\n",
       "    </tr>\n",
       "  </tbody>\n",
       "</table>\n",
       "</div>"
      ],
      "text/plain": [
       "   user_id                      date direction internal  operator_id  \\\n",
       "0   166377 2019-08-05 00:00:00+03:00       out     True     880022.0   \n",
       "1   166377 2019-08-05 00:00:00+03:00       out     True     880020.0   \n",
       "2   166377 2019-08-05 00:00:00+03:00       out     True     880020.0   \n",
       "3   166377 2019-08-05 00:00:00+03:00       out    False     880022.0   \n",
       "4   166377 2019-08-05 00:00:00+03:00       out    False     880020.0   \n",
       "\n",
       "   is_missed_call  calls_count  call_duration  total_call_duration  \\\n",
       "0            True            3              0                    5   \n",
       "1            True            1              0                    1   \n",
       "2           False            1             10                   18   \n",
       "3            True            3              0                   25   \n",
       "4           False            2              3                   29   \n",
       "\n",
       "  tariff_plan date_start direction_group        avr  miss_limit  out_score  \\\n",
       "0           B 2019-08-01             out   1.666667         0.0        0.0   \n",
       "1           B 2019-08-01             out   1.000000         0.0        0.0   \n",
       "2           B 2019-08-01             out   8.000000         0.0        1.0   \n",
       "3           B 2019-08-01             out   8.333333         0.0        0.0   \n",
       "4           B 2019-08-01             out  13.000000         0.0        1.0   \n",
       "\n",
       "   avr_score  miss_score  total_score  \n",
       "0        0.0           0          0.0  \n",
       "1        0.0           0          0.0  \n",
       "2        0.0           0          1.0  \n",
       "3        0.0           0          0.0  \n",
       "4        0.0           0          1.0  "
      ]
     },
     "execution_count": 55,
     "metadata": {},
     "output_type": "execute_result"
    }
   ],
   "source": [
    "df.head()"
   ]
  },
  {
   "cell_type": "code",
   "execution_count": 56,
   "metadata": {},
   "outputs": [
    {
     "data": {
      "image/png": "[encoded data removed]",
      "text/plain": [
       "<Figure size 1080x720 with 1 Axes>"
      ]
     },
     "metadata": {},
     "output_type": "display_data"
    }
   ],
   "source": [
    "plt.figure(figsize=(15, 10))\n",
    "ax = sns.histplot(df, x='total_score', hue='direction', kde=False, multiple='dodge')\n",
    "ax.axes.set_title(\"Распределение скоринга за неэффективность для входящих и исходящих вызовов\")\n",
    "ax.set_xlabel(\"скоринг\")\n",
    "ax.set_ylabel(\"количество значений\")\n",
    "plt.show()"
   ]
  },
  {
   "cell_type": "code",
   "execution_count": 57,
   "metadata": {},
   "outputs": [
    {
     "data": {
      "image/png": "[encoded data removed]",
      "text/plain": [
       "<Figure size 1080x720 with 1 Axes>"
      ]
     },
     "metadata": {},
     "output_type": "display_data"
    }
   ],
   "source": [
    "plt.figure(figsize=(15, 10))\n",
    "ax = sns.histplot(df, x='tariff_plan', hue='total_score', shrink=0.5,  multiple=\"dodge\")\n",
    "\n",
    "ax.axes.set_title(\"Распределение значений total_score по тарифным планам\")\n",
    "ax.set_xlabel(\"тарифный план\")\n",
    "ax.set_ylabel(\"количество значений\")\n",
    "plt.show()"
   ]
  },
  {
   "cell_type": "code",
   "execution_count": 58,
   "metadata": {},
   "outputs": [],
   "source": [
    "no_operator = df.query('total_score >= 1').reset_index(drop=True)"
   ]
  },
  {
   "cell_type": "code",
   "execution_count": 59,
   "metadata": {},
   "outputs": [],
   "source": [
    "#список с не эффективными операторами и колл-центрами\n",
    "nn =  pd.pivot_table(no_operator, values=['total_score'], index=['user_id', 'operator_id'])"
   ]
  },
  {
   "cell_type": "code",
   "execution_count": 60,
   "metadata": {},
   "outputs": [
    {
     "data": {
      "text/html": [
       "<div>\n",
       "<style scoped>\n",
       "    .dataframe tbody tr th:only-of-type {\n",
       "        vertical-align: middle;\n",
       "    }\n",
       "\n",
       "    .dataframe tbody tr th {\n",
       "        vertical-align: top;\n",
       "    }\n",
       "\n",
       "    .dataframe thead th {\n",
       "        text-align: right;\n",
       "    }\n",
       "</style>\n",
       "<table border=\"1\" class=\"dataframe\">\n",
       "  <thead>\n",
       "    <tr style=\"text-align: right;\">\n",
       "      <th></th>\n",
       "      <th></th>\n",
       "      <th>total_score</th>\n",
       "    </tr>\n",
       "    <tr>\n",
       "      <th>user_id</th>\n",
       "      <th>operator_id</th>\n",
       "      <th></th>\n",
       "    </tr>\n",
       "  </thead>\n",
       "  <tbody>\n",
       "    <tr>\n",
       "      <th rowspan=\"5\" valign=\"top\">166377</th>\n",
       "      <th>880020.0</th>\n",
       "      <td>1.0</td>\n",
       "    </tr>\n",
       "    <tr>\n",
       "      <th>880022.0</th>\n",
       "      <td>1.0</td>\n",
       "    </tr>\n",
       "    <tr>\n",
       "      <th>880026.0</th>\n",
       "      <td>1.0</td>\n",
       "    </tr>\n",
       "    <tr>\n",
       "      <th>880028.0</th>\n",
       "      <td>1.0</td>\n",
       "    </tr>\n",
       "    <tr>\n",
       "      <th>881278.0</th>\n",
       "      <td>1.0</td>\n",
       "    </tr>\n",
       "    <tr>\n",
       "      <th rowspan=\"2\" valign=\"top\">166391</th>\n",
       "      <th>882476.0</th>\n",
       "      <td>1.0</td>\n",
       "    </tr>\n",
       "    <tr>\n",
       "      <th>882478.0</th>\n",
       "      <td>1.0</td>\n",
       "    </tr>\n",
       "    <tr>\n",
       "      <th rowspan=\"3\" valign=\"top\">166392</th>\n",
       "      <th>886892.0</th>\n",
       "      <td>1.0</td>\n",
       "    </tr>\n",
       "    <tr>\n",
       "      <th>891900.0</th>\n",
       "      <td>1.0</td>\n",
       "    </tr>\n",
       "    <tr>\n",
       "      <th>891906.0</th>\n",
       "      <td>1.0</td>\n",
       "    </tr>\n",
       "  </tbody>\n",
       "</table>\n",
       "</div>"
      ],
      "text/plain": [
       "                     total_score\n",
       "user_id operator_id             \n",
       "166377  880020.0             1.0\n",
       "        880022.0             1.0\n",
       "        880026.0             1.0\n",
       "        880028.0             1.0\n",
       "        881278.0             1.0\n",
       "166391  882476.0             1.0\n",
       "        882478.0             1.0\n",
       "166392  886892.0             1.0\n",
       "        891900.0             1.0\n",
       "        891906.0             1.0"
      ]
     },
     "execution_count": 60,
     "metadata": {},
     "output_type": "execute_result"
    }
   ],
   "source": [
    "nn.head(10)"
   ]
  },
  {
   "cell_type": "code",
   "execution_count": 61,
   "metadata": {},
   "outputs": [],
   "source": [
    "nn_t = nn.groupby('user_id').sum().sort_values(by = 'total_score' ,ascending=False)"
   ]
  },
  {
   "cell_type": "code",
   "execution_count": 62,
   "metadata": {},
   "outputs": [],
   "source": [
    "nn_t.columns = ['sum_count']"
   ]
  },
  {
   "cell_type": "code",
   "execution_count": 63,
   "metadata": {},
   "outputs": [
    {
     "data": {
      "text/html": [
       "<div>\n",
       "<style scoped>\n",
       "    .dataframe tbody tr th:only-of-type {\n",
       "        vertical-align: middle;\n",
       "    }\n",
       "\n",
       "    .dataframe tbody tr th {\n",
       "        vertical-align: top;\n",
       "    }\n",
       "\n",
       "    .dataframe thead th {\n",
       "        text-align: right;\n",
       "    }\n",
       "</style>\n",
       "<table border=\"1\" class=\"dataframe\">\n",
       "  <thead>\n",
       "    <tr style=\"text-align: right;\">\n",
       "      <th></th>\n",
       "      <th>sum_count</th>\n",
       "    </tr>\n",
       "    <tr>\n",
       "      <th>user_id</th>\n",
       "      <th></th>\n",
       "    </tr>\n",
       "  </thead>\n",
       "  <tbody>\n",
       "    <tr>\n",
       "      <th>168187</th>\n",
       "      <td>39.0</td>\n",
       "    </tr>\n",
       "    <tr>\n",
       "      <th>167497</th>\n",
       "      <td>30.0</td>\n",
       "    </tr>\n",
       "    <tr>\n",
       "      <th>168062</th>\n",
       "      <td>27.0</td>\n",
       "    </tr>\n",
       "    <tr>\n",
       "      <th>168252</th>\n",
       "      <td>25.0</td>\n",
       "    </tr>\n",
       "    <tr>\n",
       "      <th>167626</th>\n",
       "      <td>18.0</td>\n",
       "    </tr>\n",
       "    <tr>\n",
       "      <th>166520</th>\n",
       "      <td>17.0</td>\n",
       "    </tr>\n",
       "    <tr>\n",
       "      <th>166658</th>\n",
       "      <td>17.0</td>\n",
       "    </tr>\n",
       "    <tr>\n",
       "      <th>166680</th>\n",
       "      <td>16.0</td>\n",
       "    </tr>\n",
       "    <tr>\n",
       "      <th>168091</th>\n",
       "      <td>15.0</td>\n",
       "    </tr>\n",
       "    <tr>\n",
       "      <th>166916</th>\n",
       "      <td>14.0</td>\n",
       "    </tr>\n",
       "  </tbody>\n",
       "</table>\n",
       "</div>"
      ],
      "text/plain": [
       "         sum_count\n",
       "user_id           \n",
       "168187        39.0\n",
       "167497        30.0\n",
       "168062        27.0\n",
       "168252        25.0\n",
       "167626        18.0\n",
       "166520        17.0\n",
       "166658        17.0\n",
       "166680        16.0\n",
       "168091        15.0\n",
       "166916        14.0"
      ]
     },
     "execution_count": 63,
     "metadata": {},
     "output_type": "execute_result"
    }
   ],
   "source": [
    "nn_t.head(10)"
   ]
  },
  {
   "cell_type": "code",
   "execution_count": 64,
   "metadata": {},
   "outputs": [
    {
     "data": {
      "image/png": "[encoded data removed]",
      "text/plain": [
       "<Figure size 1080x720 with 1 Axes>"
      ]
     },
     "metadata": {},
     "output_type": "display_data"
    }
   ],
   "source": [
    "plt.figure(figsize=(15, 10))\n",
    "ax = sns.histplot(no_operator, x='total_score', hue='direction', kde=False, multiple='dodge')\n",
    "ax.axes.set_title(\"Распределение скоринга за неэффективность для входящих и исходящих вызовов\")\n",
    "ax.set_xlabel(\"скоринг\")\n",
    "ax.set_ylabel(\"количество значений\")\n",
    "plt.show()"
   ]
  },
  {
   "cell_type": "code",
   "execution_count": 65,
   "metadata": {},
   "outputs": [
    {
     "name": "stdout",
     "output_type": "stream",
     "text": [
      "Количество колл-центров в которых есть не эффективные операторы\n",
      "По всем признакам : 256\n",
      "Всего колл-центров: 287\n"
     ]
    }
   ],
   "source": [
    "print('Количество колл-центров в которых есть не эффективные операторы')\n",
    "print('По всем признакам :', len(no_operator['user_id'].unique()))\n",
    "print('Всего колл-центров:', len(df['user_id'].unique()))"
   ]
  },
  {
   "cell_type": "code",
   "execution_count": 66,
   "metadata": {},
   "outputs": [
    {
     "name": "stdout",
     "output_type": "stream",
     "text": [
      "Количество  не эффективные операторов:\n",
      "По всем признакам : 883\n",
      "Всего операторов: 1089\n"
     ]
    }
   ],
   "source": [
    "print('Количество  не эффективные операторов:')\n",
    "print('По всем признакам :', len(no_operator['operator_id'].unique()))\n",
    "print('Всего операторов:', len(df['operator_id'].unique()))"
   ]
  },
  {
   "cell_type": "code",
   "execution_count": 67,
   "metadata": {},
   "outputs": [],
   "source": [
    "operator_in = no_operator[(no_operator['direction_group'] == 'in')]"
   ]
  },
  {
   "cell_type": "code",
   "execution_count": 68,
   "metadata": {},
   "outputs": [
    {
     "name": "stdout",
     "output_type": "stream",
     "text": [
      "Количество  не эффективные операторов специализирующихся на входящих звонках:\n",
      "По всем признакам : 263\n",
      "Всего не эффективных операторов: 883\n",
      "Доля от не эффективных: 0.29784824462061155\n"
     ]
    }
   ],
   "source": [
    "print('Количество  не эффективные операторов специализирующихся на входящих звонках:')\n",
    "print('По всем признакам :', len(operator_in['operator_id'].unique()))\n",
    "print('Всего не эффективных операторов:', len(no_operator['operator_id'].unique()))\n",
    "print('Доля от не эффективных:',len(operator_in['operator_id'].unique()) / len(no_operator['operator_id'].unique()))"
   ]
  },
  {
   "cell_type": "code",
   "execution_count": 69,
   "metadata": {},
   "outputs": [],
   "source": [
    "operator_out = no_operator[(no_operator['direction_group'] == 'out')]"
   ]
  },
  {
   "cell_type": "code",
   "execution_count": 70,
   "metadata": {},
   "outputs": [
    {
     "name": "stdout",
     "output_type": "stream",
     "text": [
      "Количество  не эффективные операторов специализирующихся на исходящих звонках :\n",
      "По всем признакам : 620\n",
      "Всего не эффективных операторов: 883\n",
      "Доля от не эффективных: 0.7021517553793885\n"
     ]
    }
   ],
   "source": [
    "print('Количество  не эффективные операторов специализирующихся на исходящих звонках :')\n",
    "print('По всем признакам :', len(operator_out['operator_id'].unique()))\n",
    "print('Всего не эффективных операторов:', len(no_operator['operator_id'].unique()))\n",
    "print('Доля от не эффективных:',len(operator_out['operator_id'].unique()) / len(no_operator['operator_id'].unique()))"
   ]
  },
  {
   "cell_type": "markdown",
   "metadata": {},
   "source": [
    "**По данной метрики мы увидели, что практически каждый оператор может быть не эффективным. Необходимо следить за всеми показателями, особенно остро это отображается на \"исходящих\" колл-центрах, доля не эффективных 70 %, это огромная цирфа. Им и можно призентавать наши расчёты для отслеживания эффективности.**"
   ]
  },
  {
   "cell_type": "markdown",
   "metadata": {},
   "source": [
    "# Шаг 4.Проверьте статистические гипотезы."
   ]
  },
  {
   "cell_type": "markdown",
   "metadata": {},
   "source": [
    "\n",
    "**Проверка гипотезы о различии времени ожидания ответа на входящий звонок в зависимости от тарифного плана**  \n"
   ]
  },
  {
   "cell_type": "code",
   "execution_count": 71,
   "metadata": {},
   "outputs": [],
   "source": [
    "#Cоздадим выборки для оценки наших гипотез\n",
    "sample_01 = df.query('tariff_plan == \"A\"')\n",
    "sample_02 = df.query('tariff_plan == \"B\"')\n",
    "sample_03 = df.query('tariff_plan == \"C\"')\n",
    "sample_1 = sample_01.loc[:,['avr']]\n",
    "sample_2 = sample_02.loc[:,['avr']]\n",
    "sample_3 = sample_03.loc[:,['avr']]\n"
   ]
  },
  {
   "cell_type": "markdown",
   "metadata": {},
   "source": [
    "Применим Т-тест для подтверждения гипотезы о равенстве средних двух генеральных совокупностей.  \n",
    "H0 - Среднее время ожидания тарифа А = В   \n",
    "H1 - Среднее время ожидания тарифа А != В  \n",
    "критический уровень статистической значимости = 0.05"
   ]
  },
  {
   "cell_type": "code",
   "execution_count": 72,
   "metadata": {},
   "outputs": [
    {
     "name": "stdout",
     "output_type": "stream",
     "text": [
      "p-значение: [0.68505168]\n",
      "Не получилось отвергнуть нулевую гипотезу\n"
     ]
    }
   ],
   "source": [
    "alpha = 0.05  \n",
    "\n",
    "results = st.ttest_ind(sample_1, sample_2)\n",
    "\n",
    "print('p-значение:', results.pvalue)\n",
    "\n",
    "if results.pvalue < alpha:\n",
    "    print('Отвергаем нулевую гипотезу')\n",
    "else:\n",
    "    print('Не получилось отвергнуть нулевую гипотезу') "
   ]
  },
  {
   "cell_type": "markdown",
   "metadata": {},
   "source": [
    "H0 - Среднее время ожидания тарифа B = C   \n",
    "H1 - Среднее время ожидания тарифа B != C  "
   ]
  },
  {
   "cell_type": "code",
   "execution_count": 73,
   "metadata": {},
   "outputs": [
    {
     "name": "stdout",
     "output_type": "stream",
     "text": [
      "p-значение: [8.91624624e-40]\n",
      "Отвергаем нулевую гипотезу\n"
     ]
    }
   ],
   "source": [
    "alpha = 0.05  \n",
    "\n",
    "results = st.ttest_ind(sample_2, sample_3)\n",
    "\n",
    "print('p-значение:', results.pvalue)\n",
    "\n",
    "if results.pvalue < alpha:\n",
    "    print('Отвергаем нулевую гипотезу')\n",
    "else:\n",
    "    print('Не получилось отвергнуть нулевую гипотезу') "
   ]
  },
  {
   "cell_type": "markdown",
   "metadata": {},
   "source": [
    "H0 - Среднее время ожидания тарифа A = C  \n",
    "H1 - Среднее время ожидания тарифа A != C"
   ]
  },
  {
   "cell_type": "code",
   "execution_count": 74,
   "metadata": {},
   "outputs": [
    {
     "name": "stdout",
     "output_type": "stream",
     "text": [
      "p-значение: [2.76507343e-40]\n",
      "Отвергаем нулевую гипотезу\n"
     ]
    }
   ],
   "source": [
    "alpha = 0.05  \n",
    "\n",
    "results = st.ttest_ind(sample_1, sample_3)\n",
    "\n",
    "print('p-значение:', results.pvalue)\n",
    "\n",
    "if results.pvalue < alpha:\n",
    "    print('Отвергаем нулевую гипотезу')\n",
    "else:\n",
    "    print('Не получилось отвергнуть нулевую гипотезу') "
   ]
  },
  {
   "cell_type": "markdown",
   "metadata": {},
   "source": [
    "**Тарифный план С имеет различия с А по времени ожидания на входящий звонок**"
   ]
  },
  {
   "cell_type": "markdown",
   "metadata": {},
   "source": [
    "**Проверка гипотезы о различии числа пропущенных входящих вызовов в зависимости от тарифного плана**"
   ]
  },
  {
   "cell_type": "code",
   "execution_count": 75,
   "metadata": {},
   "outputs": [],
   "source": [
    "sample_a = sample_01.query('(direction == \"in\") and (is_missed_call == True)')['calls_count']\n",
    "sample_b = sample_02.query('(direction == \"in\") and (is_missed_call == True)')['calls_count']\n",
    "sample_c = sample_03.query('(direction == \"in\") and (is_missed_call == True)')['calls_count']"
   ]
  },
  {
   "cell_type": "markdown",
   "metadata": {},
   "source": [
    "H0 - sample_a = sample_b  \n",
    "H1 - sample_a != sample_b"
   ]
  },
  {
   "cell_type": "code",
   "execution_count": 76,
   "metadata": {},
   "outputs": [
    {
     "name": "stdout",
     "output_type": "stream",
     "text": [
      "p-значение: 0.1693490946680971\n",
      "Не получилось отвергнуть нулевую гипотезу\n"
     ]
    }
   ],
   "source": [
    "alpha = 0.05  \n",
    "\n",
    "results = st.ttest_ind(sample_a, sample_b)\n",
    "\n",
    "print('p-значение:', results.pvalue)\n",
    "\n",
    "if results.pvalue < alpha:\n",
    "    print('Отвергаем нулевую гипотезу')\n",
    "else:\n",
    "    print('Не получилось отвергнуть нулевую гипотезу') "
   ]
  },
  {
   "cell_type": "code",
   "execution_count": 77,
   "metadata": {},
   "outputs": [
    {
     "name": "stdout",
     "output_type": "stream",
     "text": [
      "p-значение: 0.18634029436061147\n",
      "Не получилось отвергнуть нулевую гипотезу\n"
     ]
    }
   ],
   "source": [
    "alpha = 0.05  \n",
    "\n",
    "results = st.ttest_ind(sample_b, sample_c)\n",
    "\n",
    "print('p-значение:', results.pvalue)\n",
    "\n",
    "if results.pvalue < alpha:\n",
    "    print('Отвергаем нулевую гипотезу')\n",
    "else:\n",
    "    print('Не получилось отвергнуть нулевую гипотезу') "
   ]
  },
  {
   "cell_type": "markdown",
   "metadata": {},
   "source": [
    "H0 - sample_b = sample_c  \n",
    "H1 - sample_b != sample_c"
   ]
  },
  {
   "cell_type": "code",
   "execution_count": 78,
   "metadata": {},
   "outputs": [
    {
     "name": "stdout",
     "output_type": "stream",
     "text": [
      "p-значение: 0.015916083705629715\n",
      "Отвергаем нулевую гипотезу\n"
     ]
    }
   ],
   "source": [
    "alpha = 0.05  \n",
    "\n",
    "results = st.ttest_ind(sample_a, sample_c)\n",
    "\n",
    "print('p-значение:', results.pvalue)\n",
    "\n",
    "if results.pvalue < alpha:\n",
    "    print('Отвергаем нулевую гипотезу')\n",
    "else:\n",
    "    print('Не получилось отвергнуть нулевую гипотезу') "
   ]
  },
  {
   "cell_type": "markdown",
   "metadata": {},
   "source": [
    "H0 - sample_a = sample_c  \n",
    "H1 - sample_a != sample_c"
   ]
  },
  {
   "cell_type": "markdown",
   "metadata": {},
   "source": [
    "**Тарифный план A имеет различия с С и c по числу пропропущенных входящих вызовов**"
   ]
  },
  {
   "cell_type": "markdown",
   "metadata": {},
   "source": [
    "# Вывод и рекомендации"
   ]
  },
  {
   "cell_type": "markdown",
   "metadata": {},
   "source": [
    "\n",
    "**Произвели большую и эффективную работу с данными. Ознакомились с данными, удалили дубликаты, изменили типы данных в датах. Пришел к выводу, что логически нечем заменить данные в столбце \"operator_id\" из имющихся в таблице,замена на не известные могла исказить работу колл-центров, удалили пропуски. После добавили новые слобцы с метриками для оценки неэффективных операторов. И добавили категаризацию колл-центров на входящие \"in\",изходящие \"out\" . Для удобства оценки и узнать для кого же будет актуальна предложение нашей оценки. Пришли к выводу данные метрики будут полезны для колл-центров специализующихся на исходящих вызовах. Т.к. их доля неэффективных операторов состовляет  70%. Не имеем информации по тарифам которые даю колл-центры, но по нашим гипотезам они так же имеют влияние для тех или иных ввидов колл-центров.** \n",
    "\n",
    "**Рекомендации.  \n",
    "Конечно, для более эффективной оценки нам необходимо больше информации о операторах и их времени работы, но даже на этих данных с уверенностью можно сказать, что она будет полезна при оценке колл-центров и поможет им быть более продуктивными, и в будущем монетизировать работу если будут учитываться наши метрики.  \n",
    "Чтобы понизить скоринг неэффективности необходимо отслеживать на ежедневной основе такие метрики как :**\n",
    "  - Средние продолжительность ожидания\n",
    "  - Пропущенные звонки для \"принимающих\"(\"in\") колл-центров\n",
    "  - мало исходящих вывозов — в случае тех колл-центров, что специализируются на обзвонах(\"out\")"
   ]
  },
  {
   "cell_type": "markdown",
   "metadata": {},
   "source": [
    "# Шаг 5. Построить дашборд и презентацию в pdf**  "
   ]
  },
  {
   "cell_type": "code",
   "execution_count": 79,
   "metadata": {},
   "outputs": [],
   "source": [
    "#выгрузим наш датасет\n",
    "df.to_csv('data.csv', sep='\\t')"
   ]
  },
  {
   "cell_type": "markdown",
   "metadata": {},
   "source": [
    "[Презентация](https://disk.yandex.ru/i/HZgcFObbiJ29Hw)"
   ]
  },
  {
   "cell_type": "markdown",
   "metadata": {},
   "source": [
    "[Дашборд](https:)"
   ]
  },
  {
   "cell_type": "code",
   "execution_count": null,
   "metadata": {},
   "outputs": [],
   "source": []
  }
 ],
 "metadata": {
  "ExecuteTimeLog": [
   {
    "duration": 1452,
    "start_time": "2022-07-01T10:20:34.596Z"
   },
   {
    "duration": 61,
    "start_time": "2022-07-01T10:20:51.544Z"
   },
   {
    "duration": 181,
    "start_time": "2022-07-01T10:20:57.039Z"
   },
   {
    "duration": 38,
    "start_time": "2022-07-01T10:21:02.999Z"
   },
   {
    "duration": 122,
    "start_time": "2022-07-01T10:21:08.512Z"
   },
   {
    "duration": 27,
    "start_time": "2022-07-01T10:22:07.103Z"
   },
   {
    "duration": 12,
    "start_time": "2022-07-01T10:22:35.177Z"
   },
   {
    "duration": 29,
    "start_time": "2022-07-01T10:22:58.896Z"
   },
   {
    "duration": 9,
    "start_time": "2022-07-01T10:23:24.570Z"
   },
   {
    "duration": 10,
    "start_time": "2022-07-01T10:23:27.969Z"
   },
   {
    "duration": 1216,
    "start_time": "2022-07-01T10:23:34.186Z"
   },
   {
    "duration": 34,
    "start_time": "2022-07-01T10:23:35.405Z"
   },
   {
    "duration": 161,
    "start_time": "2022-07-01T10:23:35.440Z"
   },
   {
    "duration": 30,
    "start_time": "2022-07-01T10:23:35.603Z"
   },
   {
    "duration": 10,
    "start_time": "2022-07-01T10:23:35.635Z"
   },
   {
    "duration": 14,
    "start_time": "2022-07-01T10:23:35.646Z"
   },
   {
    "duration": 10,
    "start_time": "2022-07-01T10:23:35.661Z"
   },
   {
    "duration": 21,
    "start_time": "2022-07-01T10:30:02.020Z"
   },
   {
    "duration": 121,
    "start_time": "2022-07-01T10:30:40.532Z"
   },
   {
    "duration": 53,
    "start_time": "2022-07-01T10:30:44.762Z"
   },
   {
    "duration": 16,
    "start_time": "2022-07-01T10:31:24.084Z"
   },
   {
    "duration": 13,
    "start_time": "2022-07-01T10:34:17.473Z"
   },
   {
    "duration": 9,
    "start_time": "2022-07-01T10:40:42.632Z"
   },
   {
    "duration": 9,
    "start_time": "2022-07-01T10:40:52.599Z"
   },
   {
    "duration": 16,
    "start_time": "2022-07-01T10:41:00.063Z"
   },
   {
    "duration": 6,
    "start_time": "2022-07-01T10:41:16.456Z"
   },
   {
    "duration": 13,
    "start_time": "2022-07-01T10:41:34.415Z"
   },
   {
    "duration": 12,
    "start_time": "2022-07-01T10:41:38.408Z"
   },
   {
    "duration": 5,
    "start_time": "2022-07-01T10:41:57.040Z"
   },
   {
    "duration": 6,
    "start_time": "2022-07-01T10:42:01.655Z"
   },
   {
    "duration": 10,
    "start_time": "2022-07-01T10:42:16.174Z"
   },
   {
    "duration": 7,
    "start_time": "2022-07-01T10:42:25.903Z"
   },
   {
    "duration": 6,
    "start_time": "2022-07-01T10:42:39.800Z"
   },
   {
    "duration": 6,
    "start_time": "2022-07-01T10:42:44.801Z"
   },
   {
    "duration": 9,
    "start_time": "2022-07-01T10:42:50.255Z"
   },
   {
    "duration": 8,
    "start_time": "2022-07-01T10:42:56.870Z"
   },
   {
    "duration": 7,
    "start_time": "2022-07-01T10:43:01.662Z"
   },
   {
    "duration": 7,
    "start_time": "2022-07-01T10:43:08.745Z"
   },
   {
    "duration": 7,
    "start_time": "2022-07-01T10:43:14.696Z"
   },
   {
    "duration": 8,
    "start_time": "2022-07-01T10:43:19.974Z"
   },
   {
    "duration": 6,
    "start_time": "2022-07-01T10:43:45.918Z"
   },
   {
    "duration": 55,
    "start_time": "2022-07-01T10:44:26.358Z"
   },
   {
    "duration": 26,
    "start_time": "2022-07-01T10:44:38.462Z"
   },
   {
    "duration": 13,
    "start_time": "2022-07-01T10:44:43.685Z"
   },
   {
    "duration": 17,
    "start_time": "2022-07-01T10:44:47.615Z"
   },
   {
    "duration": 454,
    "start_time": "2022-07-01T10:50:51.772Z"
   },
   {
    "duration": 14,
    "start_time": "2022-07-01T10:51:04.043Z"
   },
   {
    "duration": 15,
    "start_time": "2022-07-01T10:51:50.572Z"
   },
   {
    "duration": 13,
    "start_time": "2022-07-01T10:52:27.893Z"
   },
   {
    "duration": 15,
    "start_time": "2022-07-01T10:52:33.223Z"
   },
   {
    "duration": 23,
    "start_time": "2022-07-01T10:52:52.174Z"
   },
   {
    "duration": 29,
    "start_time": "2022-07-01T10:53:38.571Z"
   },
   {
    "duration": 17,
    "start_time": "2022-07-01T10:54:09.555Z"
   },
   {
    "duration": 11,
    "start_time": "2022-07-01T10:58:01.378Z"
   },
   {
    "duration": 79,
    "start_time": "2022-07-01T10:58:23.523Z"
   },
   {
    "duration": 16,
    "start_time": "2022-07-01T10:58:26.170Z"
   },
   {
    "duration": 11,
    "start_time": "2022-07-01T10:59:08.900Z"
   },
   {
    "duration": 18,
    "start_time": "2022-07-01T10:59:11.178Z"
   },
   {
    "duration": 11,
    "start_time": "2022-07-01T10:59:23.523Z"
   },
   {
    "duration": 21,
    "start_time": "2022-07-01T11:00:06.834Z"
   },
   {
    "duration": 15,
    "start_time": "2022-07-01T11:00:11.586Z"
   },
   {
    "duration": 27,
    "start_time": "2022-07-01T11:00:21.289Z"
   },
   {
    "duration": 14,
    "start_time": "2022-07-01T11:00:36.370Z"
   },
   {
    "duration": 1387,
    "start_time": "2022-07-01T11:01:39.216Z"
   },
   {
    "duration": 43,
    "start_time": "2022-07-01T11:01:40.605Z"
   },
   {
    "duration": 228,
    "start_time": "2022-07-01T11:01:40.650Z"
   },
   {
    "duration": 136,
    "start_time": "2022-07-01T11:01:40.881Z"
   },
   {
    "duration": 0,
    "start_time": "2022-07-01T11:01:41.019Z"
   },
   {
    "duration": 0,
    "start_time": "2022-07-01T11:01:41.020Z"
   },
   {
    "duration": 0,
    "start_time": "2022-07-01T11:01:41.026Z"
   },
   {
    "duration": 0,
    "start_time": "2022-07-01T11:01:41.028Z"
   },
   {
    "duration": 0,
    "start_time": "2022-07-01T11:01:41.029Z"
   },
   {
    "duration": 0,
    "start_time": "2022-07-01T11:01:41.030Z"
   },
   {
    "duration": 0,
    "start_time": "2022-07-01T11:01:41.031Z"
   },
   {
    "duration": 0,
    "start_time": "2022-07-01T11:01:41.033Z"
   },
   {
    "duration": 0,
    "start_time": "2022-07-01T11:01:41.034Z"
   },
   {
    "duration": 0,
    "start_time": "2022-07-01T11:01:41.035Z"
   },
   {
    "duration": 0,
    "start_time": "2022-07-01T11:01:41.037Z"
   },
   {
    "duration": 0,
    "start_time": "2022-07-01T11:01:41.038Z"
   },
   {
    "duration": 0,
    "start_time": "2022-07-01T11:01:41.039Z"
   },
   {
    "duration": 0,
    "start_time": "2022-07-01T11:01:41.041Z"
   },
   {
    "duration": 23,
    "start_time": "2022-07-01T11:01:56.869Z"
   },
   {
    "duration": 17,
    "start_time": "2022-07-01T11:01:58.558Z"
   },
   {
    "duration": 15,
    "start_time": "2022-07-01T11:01:59.197Z"
   },
   {
    "duration": 9,
    "start_time": "2022-07-01T11:02:01.926Z"
   },
   {
    "duration": 20,
    "start_time": "2022-07-01T11:02:04.549Z"
   },
   {
    "duration": 41,
    "start_time": "2022-07-01T11:02:04.925Z"
   },
   {
    "duration": 83,
    "start_time": "2022-07-01T11:02:07.213Z"
   },
   {
    "duration": 26,
    "start_time": "2022-07-01T11:02:08.253Z"
   },
   {
    "duration": 74,
    "start_time": "2022-07-01T11:02:23.893Z"
   },
   {
    "duration": 21,
    "start_time": "2022-07-01T11:02:25.068Z"
   },
   {
    "duration": 13,
    "start_time": "2022-07-01T11:02:33.206Z"
   },
   {
    "duration": 1342,
    "start_time": "2022-07-01T11:03:49.024Z"
   },
   {
    "duration": 44,
    "start_time": "2022-07-01T11:03:50.368Z"
   },
   {
    "duration": 122,
    "start_time": "2022-07-01T11:03:50.413Z"
   },
   {
    "duration": 25,
    "start_time": "2022-07-01T11:03:50.537Z"
   },
   {
    "duration": 18,
    "start_time": "2022-07-01T11:03:50.564Z"
   },
   {
    "duration": 15,
    "start_time": "2022-07-01T11:03:50.584Z"
   },
   {
    "duration": 20,
    "start_time": "2022-07-01T11:03:50.601Z"
   },
   {
    "duration": 24,
    "start_time": "2022-07-01T11:03:50.626Z"
   },
   {
    "duration": 33,
    "start_time": "2022-07-01T11:03:50.651Z"
   },
   {
    "duration": 74,
    "start_time": "2022-07-01T11:03:50.686Z"
   },
   {
    "duration": 20,
    "start_time": "2022-07-01T11:03:50.761Z"
   },
   {
    "duration": 18,
    "start_time": "2022-07-01T11:03:50.782Z"
   },
   {
    "duration": 83,
    "start_time": "2022-07-01T11:03:50.801Z"
   },
   {
    "duration": 470,
    "start_time": "2022-07-01T11:03:50.885Z"
   },
   {
    "duration": 12,
    "start_time": "2022-07-01T11:03:51.357Z"
   },
   {
    "duration": 19,
    "start_time": "2022-07-01T11:03:51.370Z"
   },
   {
    "duration": 5,
    "start_time": "2022-07-01T11:03:51.391Z"
   },
   {
    "duration": 30,
    "start_time": "2022-07-01T11:03:51.397Z"
   },
   {
    "duration": 10,
    "start_time": "2022-07-01T11:04:28.064Z"
   },
   {
    "duration": 16,
    "start_time": "2022-07-01T11:04:29.201Z"
   },
   {
    "duration": 18,
    "start_time": "2022-07-01T11:04:46.544Z"
   },
   {
    "duration": 34,
    "start_time": "2022-07-01T11:10:03.584Z"
   },
   {
    "duration": 12,
    "start_time": "2022-07-01T11:24:40.399Z"
   },
   {
    "duration": 1193,
    "start_time": "2022-07-01T11:25:27.237Z"
   },
   {
    "duration": 16,
    "start_time": "2022-07-01T11:26:43.300Z"
   },
   {
    "duration": 13,
    "start_time": "2022-07-01T11:26:52.580Z"
   },
   {
    "duration": 11,
    "start_time": "2022-07-01T11:27:57.523Z"
   },
   {
    "duration": 8,
    "start_time": "2022-07-01T11:28:08.471Z"
   },
   {
    "duration": 12,
    "start_time": "2022-07-01T11:28:44.628Z"
   },
   {
    "duration": 14,
    "start_time": "2022-07-01T11:28:52.067Z"
   },
   {
    "duration": 12,
    "start_time": "2022-07-01T11:29:12.227Z"
   },
   {
    "duration": 19,
    "start_time": "2022-07-01T11:29:27.107Z"
   },
   {
    "duration": 37,
    "start_time": "2022-07-01T11:29:45.715Z"
   },
   {
    "duration": 53,
    "start_time": "2022-07-01T11:30:13.657Z"
   },
   {
    "duration": 7,
    "start_time": "2022-07-01T11:30:29.029Z"
   },
   {
    "duration": 8,
    "start_time": "2022-07-01T11:31:07.580Z"
   },
   {
    "duration": 16,
    "start_time": "2022-07-01T11:31:21.219Z"
   },
   {
    "duration": 16,
    "start_time": "2022-07-01T11:31:32.740Z"
   },
   {
    "duration": 24,
    "start_time": "2022-07-01T11:32:13.786Z"
   },
   {
    "duration": 21,
    "start_time": "2022-07-01T11:32:35.708Z"
   },
   {
    "duration": 9,
    "start_time": "2022-07-01T11:32:51.035Z"
   },
   {
    "duration": 6,
    "start_time": "2022-07-01T11:32:57.714Z"
   },
   {
    "duration": 6,
    "start_time": "2022-07-01T11:37:01.203Z"
   },
   {
    "duration": 152,
    "start_time": "2022-07-01T11:37:08.138Z"
   },
   {
    "duration": 216,
    "start_time": "2022-07-01T11:38:45.241Z"
   },
   {
    "duration": 138,
    "start_time": "2022-07-01T11:39:24.761Z"
   },
   {
    "duration": 126,
    "start_time": "2022-07-01T11:39:34.648Z"
   },
   {
    "duration": 7,
    "start_time": "2022-07-01T11:40:15.489Z"
   },
   {
    "duration": 7,
    "start_time": "2022-07-01T11:40:16.626Z"
   },
   {
    "duration": 7,
    "start_time": "2022-07-01T11:40:23.513Z"
   },
   {
    "duration": 8,
    "start_time": "2022-07-01T11:40:24.225Z"
   },
   {
    "duration": 7,
    "start_time": "2022-07-01T11:40:35.066Z"
   },
   {
    "duration": 7,
    "start_time": "2022-07-01T11:40:35.729Z"
   },
   {
    "duration": 6,
    "start_time": "2022-07-01T11:41:57.260Z"
   },
   {
    "duration": 6,
    "start_time": "2022-07-01T11:41:57.665Z"
   },
   {
    "duration": 6,
    "start_time": "2022-07-01T11:42:16.276Z"
   },
   {
    "duration": 6,
    "start_time": "2022-07-01T11:42:20.826Z"
   },
   {
    "duration": 10,
    "start_time": "2022-07-01T11:44:32.444Z"
   },
   {
    "duration": 1422,
    "start_time": "2022-07-01T11:48:04.243Z"
   },
   {
    "duration": 93,
    "start_time": "2022-07-01T11:48:05.668Z"
   },
   {
    "duration": 197,
    "start_time": "2022-07-01T11:48:05.764Z"
   },
   {
    "duration": 33,
    "start_time": "2022-07-01T11:48:05.965Z"
   },
   {
    "duration": 27,
    "start_time": "2022-07-01T11:48:06.000Z"
   },
   {
    "duration": 47,
    "start_time": "2022-07-01T11:48:06.029Z"
   },
   {
    "duration": 18,
    "start_time": "2022-07-01T11:48:06.078Z"
   },
   {
    "duration": 27,
    "start_time": "2022-07-01T11:48:06.098Z"
   },
   {
    "duration": 52,
    "start_time": "2022-07-01T11:48:06.127Z"
   },
   {
    "duration": 115,
    "start_time": "2022-07-01T11:48:06.183Z"
   },
   {
    "duration": 35,
    "start_time": "2022-07-01T11:48:06.301Z"
   },
   {
    "duration": 22,
    "start_time": "2022-07-01T11:48:06.338Z"
   },
   {
    "duration": 117,
    "start_time": "2022-07-01T11:48:06.362Z"
   },
   {
    "duration": 719,
    "start_time": "2022-07-01T11:48:06.481Z"
   },
   {
    "duration": 14,
    "start_time": "2022-07-01T11:48:07.202Z"
   },
   {
    "duration": 19,
    "start_time": "2022-07-01T11:48:07.227Z"
   },
   {
    "duration": 21,
    "start_time": "2022-07-01T11:48:07.249Z"
   },
   {
    "duration": 21,
    "start_time": "2022-07-01T11:48:07.271Z"
   },
   {
    "duration": 48,
    "start_time": "2022-07-01T11:48:07.294Z"
   },
   {
    "duration": 35,
    "start_time": "2022-07-01T11:48:07.344Z"
   },
   {
    "duration": 13,
    "start_time": "2022-07-01T11:48:07.382Z"
   },
   {
    "duration": 34,
    "start_time": "2022-07-01T11:48:07.397Z"
   },
   {
    "duration": 13,
    "start_time": "2022-07-01T11:48:07.433Z"
   },
   {
    "duration": 213,
    "start_time": "2022-07-01T11:48:07.449Z"
   },
   {
    "duration": 177,
    "start_time": "2022-07-01T11:48:07.664Z"
   },
   {
    "duration": 157,
    "start_time": "2022-07-01T11:48:07.843Z"
   },
   {
    "duration": 24,
    "start_time": "2022-07-01T11:48:08.002Z"
   },
   {
    "duration": 204,
    "start_time": "2022-07-01T11:48:21.206Z"
   },
   {
    "duration": 6,
    "start_time": "2022-07-01T13:03:49.952Z"
   },
   {
    "duration": 145,
    "start_time": "2022-07-01T13:03:55.135Z"
   },
   {
    "duration": 11,
    "start_time": "2022-07-01T13:03:59.615Z"
   },
   {
    "duration": 12,
    "start_time": "2022-07-01T13:04:09.143Z"
   },
   {
    "duration": 6,
    "start_time": "2022-07-01T13:04:14.006Z"
   },
   {
    "duration": 8,
    "start_time": "2022-07-01T13:04:29.376Z"
   },
   {
    "duration": 4,
    "start_time": "2022-07-01T13:16:52.429Z"
   },
   {
    "duration": 18,
    "start_time": "2022-07-01T13:16:53.172Z"
   },
   {
    "duration": 25,
    "start_time": "2022-07-01T13:17:39.883Z"
   },
   {
    "duration": 14,
    "start_time": "2022-07-01T13:17:41.722Z"
   },
   {
    "duration": 4,
    "start_time": "2022-07-01T13:17:43.019Z"
   },
   {
    "duration": 14,
    "start_time": "2022-07-01T13:17:44.908Z"
   },
   {
    "duration": 22,
    "start_time": "2022-07-01T13:19:56.722Z"
   },
   {
    "duration": 14,
    "start_time": "2022-07-01T13:19:57.002Z"
   },
   {
    "duration": 4,
    "start_time": "2022-07-01T13:19:59.594Z"
   },
   {
    "duration": 11,
    "start_time": "2022-07-01T13:20:00.140Z"
   },
   {
    "duration": 25,
    "start_time": "2022-07-01T13:20:35.546Z"
   },
   {
    "duration": 15,
    "start_time": "2022-07-01T13:20:35.988Z"
   },
   {
    "duration": 1292,
    "start_time": "2022-07-01T13:20:41.419Z"
   },
   {
    "duration": 134,
    "start_time": "2022-07-01T13:20:42.713Z"
   },
   {
    "duration": 230,
    "start_time": "2022-07-01T13:20:42.848Z"
   },
   {
    "duration": 31,
    "start_time": "2022-07-01T13:20:43.080Z"
   },
   {
    "duration": 20,
    "start_time": "2022-07-01T13:20:43.126Z"
   },
   {
    "duration": 19,
    "start_time": "2022-07-01T13:20:43.149Z"
   },
   {
    "duration": 9,
    "start_time": "2022-07-01T13:20:43.169Z"
   },
   {
    "duration": 50,
    "start_time": "2022-07-01T13:20:43.180Z"
   },
   {
    "duration": 49,
    "start_time": "2022-07-01T13:20:43.233Z"
   },
   {
    "duration": 100,
    "start_time": "2022-07-01T13:20:43.286Z"
   },
   {
    "duration": 32,
    "start_time": "2022-07-01T13:20:43.388Z"
   },
   {
    "duration": 23,
    "start_time": "2022-07-01T13:20:43.422Z"
   },
   {
    "duration": 66,
    "start_time": "2022-07-01T13:20:43.448Z"
   },
   {
    "duration": 446,
    "start_time": "2022-07-01T13:20:43.516Z"
   },
   {
    "duration": 13,
    "start_time": "2022-07-01T13:20:43.964Z"
   },
   {
    "duration": 13,
    "start_time": "2022-07-01T13:20:43.978Z"
   },
   {
    "duration": 12,
    "start_time": "2022-07-01T13:20:43.993Z"
   },
   {
    "duration": 13,
    "start_time": "2022-07-01T13:20:44.025Z"
   },
   {
    "duration": 24,
    "start_time": "2022-07-01T13:20:44.040Z"
   },
   {
    "duration": 25,
    "start_time": "2022-07-01T13:20:44.066Z"
   },
   {
    "duration": 11,
    "start_time": "2022-07-01T13:20:44.093Z"
   },
   {
    "duration": 26,
    "start_time": "2022-07-01T13:20:44.105Z"
   },
   {
    "duration": 11,
    "start_time": "2022-07-01T13:20:44.132Z"
   },
   {
    "duration": 162,
    "start_time": "2022-07-01T13:20:44.145Z"
   },
   {
    "duration": 202,
    "start_time": "2022-07-01T13:20:44.309Z"
   },
   {
    "duration": 162,
    "start_time": "2022-07-01T13:20:44.514Z"
   },
   {
    "duration": 11,
    "start_time": "2022-07-01T13:20:44.679Z"
   },
   {
    "duration": 54,
    "start_time": "2022-07-01T13:20:44.694Z"
   },
   {
    "duration": 14,
    "start_time": "2022-07-01T13:20:44.750Z"
   },
   {
    "duration": 10,
    "start_time": "2022-07-01T13:20:44.768Z"
   },
   {
    "duration": 117,
    "start_time": "2022-07-01T13:20:44.780Z"
   },
   {
    "duration": 14,
    "start_time": "2022-07-01T13:21:01.526Z"
   },
   {
    "duration": 11,
    "start_time": "2022-07-01T13:24:36.983Z"
   },
   {
    "duration": 4,
    "start_time": "2022-07-01T13:25:57.574Z"
   },
   {
    "duration": 17,
    "start_time": "2022-07-01T13:25:58.215Z"
   },
   {
    "duration": 17,
    "start_time": "2022-07-01T13:26:07.143Z"
   },
   {
    "duration": 5,
    "start_time": "2022-07-01T13:31:03.698Z"
   },
   {
    "duration": 16,
    "start_time": "2022-07-01T13:31:14.843Z"
   },
   {
    "duration": 17,
    "start_time": "2022-07-01T13:32:03.065Z"
   },
   {
    "duration": 22,
    "start_time": "2022-07-01T13:34:07.418Z"
   },
   {
    "duration": 146,
    "start_time": "2022-07-01T13:34:47.002Z"
   },
   {
    "duration": 5,
    "start_time": "2022-07-01T13:44:51.569Z"
   },
   {
    "duration": 131,
    "start_time": "2022-07-01T13:45:05.112Z"
   },
   {
    "duration": 1551,
    "start_time": "2022-07-04T10:11:11.497Z"
   },
   {
    "duration": 156,
    "start_time": "2022-07-04T10:11:13.051Z"
   },
   {
    "duration": 156,
    "start_time": "2022-07-04T10:11:13.209Z"
   },
   {
    "duration": 32,
    "start_time": "2022-07-04T10:11:13.367Z"
   },
   {
    "duration": 37,
    "start_time": "2022-07-04T10:11:13.403Z"
   },
   {
    "duration": 16,
    "start_time": "2022-07-04T10:11:13.442Z"
   },
   {
    "duration": 53,
    "start_time": "2022-07-04T10:11:13.460Z"
   },
   {
    "duration": 18,
    "start_time": "2022-07-04T10:11:13.515Z"
   },
   {
    "duration": 61,
    "start_time": "2022-07-04T10:11:13.535Z"
   },
   {
    "duration": 81,
    "start_time": "2022-07-04T10:11:13.604Z"
   },
   {
    "duration": 28,
    "start_time": "2022-07-04T10:11:13.697Z"
   },
   {
    "duration": 15,
    "start_time": "2022-07-04T10:11:13.727Z"
   },
   {
    "duration": 90,
    "start_time": "2022-07-04T10:11:13.743Z"
   },
   {
    "duration": 557,
    "start_time": "2022-07-04T10:11:13.837Z"
   },
   {
    "duration": 22,
    "start_time": "2022-07-04T10:11:14.397Z"
   },
   {
    "duration": 19,
    "start_time": "2022-07-04T10:11:14.422Z"
   },
   {
    "duration": 10,
    "start_time": "2022-07-04T10:11:14.443Z"
   },
   {
    "duration": 29,
    "start_time": "2022-07-04T10:11:14.455Z"
   },
   {
    "duration": 50,
    "start_time": "2022-07-04T10:11:14.495Z"
   },
   {
    "duration": 33,
    "start_time": "2022-07-04T10:11:14.547Z"
   },
   {
    "duration": 15,
    "start_time": "2022-07-04T10:11:14.582Z"
   },
   {
    "duration": 35,
    "start_time": "2022-07-04T10:11:14.598Z"
   },
   {
    "duration": 9,
    "start_time": "2022-07-04T10:11:14.635Z"
   },
   {
    "duration": 189,
    "start_time": "2022-07-04T10:11:14.646Z"
   },
   {
    "duration": 186,
    "start_time": "2022-07-04T10:11:14.837Z"
   },
   {
    "duration": 161,
    "start_time": "2022-07-04T10:11:15.026Z"
   },
   {
    "duration": 18,
    "start_time": "2022-07-04T10:11:15.189Z"
   },
   {
    "duration": 44,
    "start_time": "2022-07-04T10:11:15.209Z"
   },
   {
    "duration": 24,
    "start_time": "2022-07-04T10:11:15.255Z"
   },
   {
    "duration": 23,
    "start_time": "2022-07-04T10:11:15.281Z"
   },
   {
    "duration": 24,
    "start_time": "2022-07-04T10:11:15.307Z"
   },
   {
    "duration": 17,
    "start_time": "2022-07-04T10:11:15.333Z"
   },
   {
    "duration": 28,
    "start_time": "2022-07-04T10:11:15.352Z"
   },
   {
    "duration": 18,
    "start_time": "2022-07-04T10:11:15.385Z"
   },
   {
    "duration": 22,
    "start_time": "2022-07-04T10:11:15.406Z"
   },
   {
    "duration": 186,
    "start_time": "2022-07-04T10:11:15.430Z"
   },
   {
    "duration": 7,
    "start_time": "2022-07-04T10:11:15.619Z"
   },
   {
    "duration": 194,
    "start_time": "2022-07-04T10:11:15.629Z"
   },
   {
    "duration": 164,
    "start_time": "2022-07-04T10:13:02.741Z"
   },
   {
    "duration": 8,
    "start_time": "2022-07-04T10:14:27.410Z"
   },
   {
    "duration": 118,
    "start_time": "2022-07-04T10:14:28.106Z"
   },
   {
    "duration": 10,
    "start_time": "2022-07-04T10:14:54.238Z"
   },
   {
    "duration": 22,
    "start_time": "2022-07-04T10:15:02.127Z"
   },
   {
    "duration": 16,
    "start_time": "2022-07-04T10:16:49.238Z"
   },
   {
    "duration": 5,
    "start_time": "2022-07-04T10:18:45.928Z"
   },
   {
    "duration": 11,
    "start_time": "2022-07-04T10:19:15.829Z"
   },
   {
    "duration": 7,
    "start_time": "2022-07-04T10:19:35.207Z"
   },
   {
    "duration": 9,
    "start_time": "2022-07-04T10:19:39.805Z"
   },
   {
    "duration": 14,
    "start_time": "2022-07-04T10:19:52.966Z"
   },
   {
    "duration": 13,
    "start_time": "2022-07-04T10:20:50.767Z"
   },
   {
    "duration": 10,
    "start_time": "2022-07-04T10:21:04.302Z"
   },
   {
    "duration": 9,
    "start_time": "2022-07-04T10:21:25.007Z"
   },
   {
    "duration": 13,
    "start_time": "2022-07-04T10:21:34.805Z"
   },
   {
    "duration": 10,
    "start_time": "2022-07-04T10:21:52.608Z"
   },
   {
    "duration": 10,
    "start_time": "2022-07-04T10:21:58.726Z"
   },
   {
    "duration": 8,
    "start_time": "2022-07-04T10:22:13.103Z"
   },
   {
    "duration": 13,
    "start_time": "2022-07-04T10:23:37.301Z"
   },
   {
    "duration": 11,
    "start_time": "2022-07-04T10:26:45.366Z"
   },
   {
    "duration": 9,
    "start_time": "2022-07-04T10:26:54.505Z"
   },
   {
    "duration": 15,
    "start_time": "2022-07-04T10:26:58.480Z"
   },
   {
    "duration": 8,
    "start_time": "2022-07-04T10:27:32.621Z"
   },
   {
    "duration": 9,
    "start_time": "2022-07-04T10:27:34.022Z"
   },
   {
    "duration": 8,
    "start_time": "2022-07-04T10:27:34.942Z"
   },
   {
    "duration": 159,
    "start_time": "2022-07-04T10:28:00.647Z"
   },
   {
    "duration": 13,
    "start_time": "2022-07-04T10:29:47.108Z"
   },
   {
    "duration": 534,
    "start_time": "2022-07-04T10:30:11.551Z"
   },
   {
    "duration": 424,
    "start_time": "2022-07-04T10:30:22.005Z"
   },
   {
    "duration": 304,
    "start_time": "2022-07-04T10:32:12.294Z"
   },
   {
    "duration": 309,
    "start_time": "2022-07-04T10:33:28.899Z"
   },
   {
    "duration": 11,
    "start_time": "2022-07-04T10:33:58.513Z"
   },
   {
    "duration": 273,
    "start_time": "2022-07-04T10:35:24.594Z"
   },
   {
    "duration": 13,
    "start_time": "2022-07-04T10:35:30.926Z"
   },
   {
    "duration": 12,
    "start_time": "2022-07-04T10:36:05.497Z"
   },
   {
    "duration": 16,
    "start_time": "2022-07-04T10:36:10.889Z"
   },
   {
    "duration": 25,
    "start_time": "2022-07-04T10:44:52.814Z"
   },
   {
    "duration": 4,
    "start_time": "2022-07-04T10:48:27.726Z"
   },
   {
    "duration": 26,
    "start_time": "2022-07-04T10:48:31.285Z"
   },
   {
    "duration": 4,
    "start_time": "2022-07-04T10:49:26.095Z"
   },
   {
    "duration": 32,
    "start_time": "2022-07-04T10:49:27.558Z"
   },
   {
    "duration": 4,
    "start_time": "2022-07-04T10:50:26.052Z"
   },
   {
    "duration": 33,
    "start_time": "2022-07-04T10:50:27.416Z"
   },
   {
    "duration": 5,
    "start_time": "2022-07-04T10:50:40.628Z"
   },
   {
    "duration": 25,
    "start_time": "2022-07-04T10:50:41.766Z"
   },
   {
    "duration": 4,
    "start_time": "2022-07-04T10:50:47.991Z"
   },
   {
    "duration": 31,
    "start_time": "2022-07-04T10:50:49.357Z"
   },
   {
    "duration": 51,
    "start_time": "2022-07-04T10:52:00.407Z"
   },
   {
    "duration": 11,
    "start_time": "2022-07-04T10:52:03.995Z"
   },
   {
    "duration": 12,
    "start_time": "2022-07-04T10:52:08.342Z"
   },
   {
    "duration": 18,
    "start_time": "2022-07-04T10:52:13.861Z"
   },
   {
    "duration": 12,
    "start_time": "2022-07-04T10:54:38.205Z"
   },
   {
    "duration": 23,
    "start_time": "2022-07-04T10:54:58.565Z"
   },
   {
    "duration": 18,
    "start_time": "2022-07-04T10:55:03.608Z"
   },
   {
    "duration": 12,
    "start_time": "2022-07-04T10:55:48.541Z"
   },
   {
    "duration": 5,
    "start_time": "2022-07-04T10:56:14.349Z"
   },
   {
    "duration": 49,
    "start_time": "2022-07-04T10:56:17.764Z"
   },
   {
    "duration": 4,
    "start_time": "2022-07-04T10:56:30.202Z"
   },
   {
    "duration": 113,
    "start_time": "2022-07-04T10:56:53.318Z"
   },
   {
    "duration": 10,
    "start_time": "2022-07-04T10:56:55.845Z"
   },
   {
    "duration": 5,
    "start_time": "2022-07-04T10:57:04.028Z"
   },
   {
    "duration": 26,
    "start_time": "2022-07-04T10:57:07.214Z"
   },
   {
    "duration": 9,
    "start_time": "2022-07-04T10:57:30.901Z"
   },
   {
    "duration": 21,
    "start_time": "2022-07-04T10:57:47.358Z"
   },
   {
    "duration": 211,
    "start_time": "2022-07-04T13:06:03.259Z"
   },
   {
    "duration": 13,
    "start_time": "2022-07-04T13:07:42.320Z"
   },
   {
    "duration": 14,
    "start_time": "2022-07-04T13:07:51.464Z"
   },
   {
    "duration": 30,
    "start_time": "2022-07-04T13:10:36.575Z"
   },
   {
    "duration": 48,
    "start_time": "2022-07-04T13:11:20.174Z"
   },
   {
    "duration": 27,
    "start_time": "2022-07-04T13:11:41.450Z"
   },
   {
    "duration": 16,
    "start_time": "2022-07-04T13:11:49.652Z"
   },
   {
    "duration": 12,
    "start_time": "2022-07-04T13:12:47.278Z"
   },
   {
    "duration": 17,
    "start_time": "2022-07-04T13:12:59.286Z"
   },
   {
    "duration": 13,
    "start_time": "2022-07-04T13:16:07.987Z"
   },
   {
    "duration": 1089,
    "start_time": "2022-07-04T13:16:12.514Z"
   },
   {
    "duration": 234,
    "start_time": "2022-07-04T13:16:21.447Z"
   },
   {
    "duration": 11,
    "start_time": "2022-07-04T13:16:34.883Z"
   },
   {
    "duration": 13,
    "start_time": "2022-07-04T13:16:43.449Z"
   },
   {
    "duration": 4,
    "start_time": "2022-07-04T13:16:53.460Z"
   },
   {
    "duration": 5,
    "start_time": "2022-07-04T13:16:54.449Z"
   },
   {
    "duration": 1354,
    "start_time": "2022-07-04T13:17:39.961Z"
   },
   {
    "duration": 98,
    "start_time": "2022-07-04T13:17:41.318Z"
   },
   {
    "duration": 242,
    "start_time": "2022-07-04T13:17:41.419Z"
   },
   {
    "duration": 22,
    "start_time": "2022-07-04T13:17:41.663Z"
   },
   {
    "duration": 14,
    "start_time": "2022-07-04T13:17:41.688Z"
   },
   {
    "duration": 40,
    "start_time": "2022-07-04T13:17:41.705Z"
   },
   {
    "duration": 14,
    "start_time": "2022-07-04T13:17:41.746Z"
   },
   {
    "duration": 18,
    "start_time": "2022-07-04T13:17:41.763Z"
   },
   {
    "duration": 51,
    "start_time": "2022-07-04T13:17:41.783Z"
   },
   {
    "duration": 71,
    "start_time": "2022-07-04T13:17:41.841Z"
   },
   {
    "duration": 28,
    "start_time": "2022-07-04T13:17:41.914Z"
   },
   {
    "duration": 26,
    "start_time": "2022-07-04T13:17:41.943Z"
   },
   {
    "duration": 77,
    "start_time": "2022-07-04T13:17:41.971Z"
   },
   {
    "duration": 568,
    "start_time": "2022-07-04T13:17:42.053Z"
   },
   {
    "duration": 24,
    "start_time": "2022-07-04T13:17:42.626Z"
   },
   {
    "duration": 21,
    "start_time": "2022-07-04T13:17:42.654Z"
   },
   {
    "duration": 11,
    "start_time": "2022-07-04T13:17:42.677Z"
   },
   {
    "duration": 15,
    "start_time": "2022-07-04T13:17:42.690Z"
   },
   {
    "duration": 36,
    "start_time": "2022-07-04T13:17:42.707Z"
   },
   {
    "duration": 28,
    "start_time": "2022-07-04T13:17:42.753Z"
   },
   {
    "duration": 6,
    "start_time": "2022-07-04T13:17:42.783Z"
   },
   {
    "duration": 10,
    "start_time": "2022-07-04T13:17:42.790Z"
   },
   {
    "duration": 5,
    "start_time": "2022-07-04T13:17:42.802Z"
   },
   {
    "duration": 182,
    "start_time": "2022-07-04T13:17:42.809Z"
   },
   {
    "duration": 176,
    "start_time": "2022-07-04T13:17:42.993Z"
   },
   {
    "duration": 160,
    "start_time": "2022-07-04T13:17:43.171Z"
   },
   {
    "duration": 9,
    "start_time": "2022-07-04T13:17:43.335Z"
   },
   {
    "duration": 36,
    "start_time": "2022-07-04T13:17:43.346Z"
   },
   {
    "duration": 12,
    "start_time": "2022-07-04T13:17:43.384Z"
   },
   {
    "duration": 6,
    "start_time": "2022-07-04T13:17:43.398Z"
   },
   {
    "duration": 29,
    "start_time": "2022-07-04T13:17:43.406Z"
   },
   {
    "duration": 22,
    "start_time": "2022-07-04T13:17:43.445Z"
   },
   {
    "duration": 19,
    "start_time": "2022-07-04T13:17:43.469Z"
   },
   {
    "duration": 5,
    "start_time": "2022-07-04T13:17:43.490Z"
   },
   {
    "duration": 22,
    "start_time": "2022-07-04T13:17:43.497Z"
   },
   {
    "duration": 167,
    "start_time": "2022-07-04T13:17:43.521Z"
   },
   {
    "duration": 5,
    "start_time": "2022-07-04T13:17:43.690Z"
   },
   {
    "duration": 188,
    "start_time": "2022-07-04T13:17:43.697Z"
   },
   {
    "duration": 167,
    "start_time": "2022-07-04T13:17:43.888Z"
   },
   {
    "duration": 8,
    "start_time": "2022-07-04T13:17:44.057Z"
   },
   {
    "duration": 15,
    "start_time": "2022-07-04T13:17:44.069Z"
   },
   {
    "duration": 275,
    "start_time": "2022-07-04T13:17:44.085Z"
   },
   {
    "duration": 6,
    "start_time": "2022-07-04T13:17:44.362Z"
   },
   {
    "duration": 13,
    "start_time": "2022-07-04T13:17:44.370Z"
   },
   {
    "duration": 263,
    "start_time": "2022-07-04T13:17:44.385Z"
   },
   {
    "duration": 28,
    "start_time": "2022-07-04T13:17:44.653Z"
   },
   {
    "duration": 12,
    "start_time": "2022-07-04T13:17:44.683Z"
   },
   {
    "duration": 37,
    "start_time": "2022-07-04T13:19:02.409Z"
   },
   {
    "duration": 13,
    "start_time": "2022-07-04T13:19:30.785Z"
   },
   {
    "duration": 5,
    "start_time": "2022-07-04T13:19:34.602Z"
   },
   {
    "duration": 5,
    "start_time": "2022-07-04T13:19:38.543Z"
   },
   {
    "duration": 48,
    "start_time": "2022-07-04T13:20:11.936Z"
   },
   {
    "duration": 5,
    "start_time": "2022-07-04T13:20:19.949Z"
   },
   {
    "duration": 761,
    "start_time": "2022-07-04T13:20:28.635Z"
   },
   {
    "duration": 621,
    "start_time": "2022-07-04T13:20:39.591Z"
   },
   {
    "duration": 964,
    "start_time": "2022-07-04T13:20:59.443Z"
   },
   {
    "duration": 626,
    "start_time": "2022-07-04T13:21:06.311Z"
   },
   {
    "duration": 1275,
    "start_time": "2022-07-04T13:21:15.387Z"
   },
   {
    "duration": 66,
    "start_time": "2022-07-04T13:21:16.664Z"
   },
   {
    "duration": 136,
    "start_time": "2022-07-04T13:21:16.732Z"
   },
   {
    "duration": 26,
    "start_time": "2022-07-04T13:21:16.870Z"
   },
   {
    "duration": 36,
    "start_time": "2022-07-04T13:21:16.899Z"
   },
   {
    "duration": 14,
    "start_time": "2022-07-04T13:21:16.942Z"
   },
   {
    "duration": 8,
    "start_time": "2022-07-04T13:21:16.958Z"
   },
   {
    "duration": 19,
    "start_time": "2022-07-04T13:21:16.968Z"
   },
   {
    "duration": 69,
    "start_time": "2022-07-04T13:21:16.989Z"
   },
   {
    "duration": 76,
    "start_time": "2022-07-04T13:21:17.061Z"
   },
   {
    "duration": 21,
    "start_time": "2022-07-04T13:21:17.140Z"
   },
   {
    "duration": 17,
    "start_time": "2022-07-04T13:21:17.163Z"
   },
   {
    "duration": 86,
    "start_time": "2022-07-04T13:21:17.182Z"
   },
   {
    "duration": 508,
    "start_time": "2022-07-04T13:21:17.270Z"
   },
   {
    "duration": 15,
    "start_time": "2022-07-04T13:21:17.779Z"
   },
   {
    "duration": 40,
    "start_time": "2022-07-04T13:21:17.796Z"
   },
   {
    "duration": 30,
    "start_time": "2022-07-04T13:21:17.838Z"
   },
   {
    "duration": 39,
    "start_time": "2022-07-04T13:21:17.870Z"
   },
   {
    "duration": 54,
    "start_time": "2022-07-04T13:21:17.910Z"
   },
   {
    "duration": 28,
    "start_time": "2022-07-04T13:21:17.966Z"
   },
   {
    "duration": 6,
    "start_time": "2022-07-04T13:21:17.996Z"
   },
   {
    "duration": 51,
    "start_time": "2022-07-04T13:21:18.004Z"
   },
   {
    "duration": 25,
    "start_time": "2022-07-04T13:21:18.057Z"
   },
   {
    "duration": 197,
    "start_time": "2022-07-04T13:21:18.084Z"
   },
   {
    "duration": 162,
    "start_time": "2022-07-04T13:21:18.282Z"
   },
   {
    "duration": 144,
    "start_time": "2022-07-04T13:21:18.446Z"
   },
   {
    "duration": 9,
    "start_time": "2022-07-04T13:21:18.592Z"
   },
   {
    "duration": 39,
    "start_time": "2022-07-04T13:21:18.604Z"
   },
   {
    "duration": 12,
    "start_time": "2022-07-04T13:21:18.646Z"
   },
   {
    "duration": 6,
    "start_time": "2022-07-04T13:21:18.660Z"
   },
   {
    "duration": 22,
    "start_time": "2022-07-04T13:21:18.667Z"
   },
   {
    "duration": 26,
    "start_time": "2022-07-04T13:21:18.691Z"
   },
   {
    "duration": 39,
    "start_time": "2022-07-04T13:21:18.719Z"
   },
   {
    "duration": 5,
    "start_time": "2022-07-04T13:21:18.760Z"
   },
   {
    "duration": 31,
    "start_time": "2022-07-04T13:21:18.767Z"
   },
   {
    "duration": 180,
    "start_time": "2022-07-04T13:21:18.800Z"
   },
   {
    "duration": 5,
    "start_time": "2022-07-04T13:21:18.982Z"
   },
   {
    "duration": 167,
    "start_time": "2022-07-04T13:21:18.988Z"
   },
   {
    "duration": 158,
    "start_time": "2022-07-04T13:21:19.157Z"
   },
   {
    "duration": 14,
    "start_time": "2022-07-04T13:21:19.317Z"
   },
   {
    "duration": 22,
    "start_time": "2022-07-04T13:21:19.337Z"
   },
   {
    "duration": 238,
    "start_time": "2022-07-04T13:21:19.361Z"
   },
   {
    "duration": 5,
    "start_time": "2022-07-04T13:21:19.600Z"
   },
   {
    "duration": 26,
    "start_time": "2022-07-04T13:21:19.606Z"
   },
   {
    "duration": 240,
    "start_time": "2022-07-04T13:21:19.637Z"
   },
   {
    "duration": 46,
    "start_time": "2022-07-04T13:21:19.879Z"
   },
   {
    "duration": 23,
    "start_time": "2022-07-04T13:21:19.926Z"
   },
   {
    "duration": 6,
    "start_time": "2022-07-04T13:34:04.855Z"
   },
   {
    "duration": 29,
    "start_time": "2022-07-04T13:34:11.694Z"
   },
   {
    "duration": 4,
    "start_time": "2022-07-04T13:34:47.869Z"
   },
   {
    "duration": 29,
    "start_time": "2022-07-04T13:34:52.253Z"
   },
   {
    "duration": 32,
    "start_time": "2022-07-04T13:38:13.429Z"
   },
   {
    "duration": 17,
    "start_time": "2022-07-04T13:38:15.979Z"
   },
   {
    "duration": 147,
    "start_time": "2022-07-04T13:39:56.387Z"
   },
   {
    "duration": 31,
    "start_time": "2022-07-04T13:40:29.820Z"
   },
   {
    "duration": 101,
    "start_time": "2022-07-04T14:05:01.682Z"
   },
   {
    "duration": 4,
    "start_time": "2022-07-04T14:05:14.570Z"
   },
   {
    "duration": 26,
    "start_time": "2022-07-04T14:05:20.585Z"
   },
   {
    "duration": 1035,
    "start_time": "2022-07-04T14:05:52.210Z"
   },
   {
    "duration": 39,
    "start_time": "2022-07-04T14:06:00.906Z"
   },
   {
    "duration": 55,
    "start_time": "2022-07-04T14:09:48.038Z"
   },
   {
    "duration": 4,
    "start_time": "2022-07-04T14:09:55.412Z"
   },
   {
    "duration": 28,
    "start_time": "2022-07-04T14:10:00.123Z"
   },
   {
    "duration": 953,
    "start_time": "2022-07-04T14:10:15.373Z"
   },
   {
    "duration": 34,
    "start_time": "2022-07-04T14:10:18.868Z"
   },
   {
    "duration": 5,
    "start_time": "2022-07-04T14:13:06.909Z"
   },
   {
    "duration": 3,
    "start_time": "2022-07-04T14:13:28.042Z"
   },
   {
    "duration": 773,
    "start_time": "2022-07-04T14:13:43.917Z"
   },
   {
    "duration": 44,
    "start_time": "2022-07-04T14:13:45.708Z"
   },
   {
    "duration": 1328,
    "start_time": "2022-07-04T14:16:00.212Z"
   },
   {
    "duration": 41,
    "start_time": "2022-07-04T14:16:01.543Z"
   },
   {
    "duration": 227,
    "start_time": "2022-07-04T14:16:01.586Z"
   },
   {
    "duration": 27,
    "start_time": "2022-07-04T14:16:01.815Z"
   },
   {
    "duration": 48,
    "start_time": "2022-07-04T14:16:01.844Z"
   },
   {
    "duration": 25,
    "start_time": "2022-07-04T14:16:01.894Z"
   },
   {
    "duration": 44,
    "start_time": "2022-07-04T14:16:01.921Z"
   },
   {
    "duration": 33,
    "start_time": "2022-07-04T14:16:01.967Z"
   },
   {
    "duration": 54,
    "start_time": "2022-07-04T14:16:02.003Z"
   },
   {
    "duration": 96,
    "start_time": "2022-07-04T14:16:02.061Z"
   },
   {
    "duration": 33,
    "start_time": "2022-07-04T14:16:02.159Z"
   },
   {
    "duration": 40,
    "start_time": "2022-07-04T14:16:02.194Z"
   },
   {
    "duration": 83,
    "start_time": "2022-07-04T14:16:02.239Z"
   },
   {
    "duration": 581,
    "start_time": "2022-07-04T14:16:02.329Z"
   },
   {
    "duration": 28,
    "start_time": "2022-07-04T14:16:02.912Z"
   },
   {
    "duration": 21,
    "start_time": "2022-07-04T14:16:02.944Z"
   },
   {
    "duration": 15,
    "start_time": "2022-07-04T14:16:02.967Z"
   },
   {
    "duration": 37,
    "start_time": "2022-07-04T14:16:02.985Z"
   },
   {
    "duration": 33,
    "start_time": "2022-07-04T14:16:03.025Z"
   },
   {
    "duration": 26,
    "start_time": "2022-07-04T14:16:03.060Z"
   },
   {
    "duration": 7,
    "start_time": "2022-07-04T14:16:03.088Z"
   },
   {
    "duration": 7,
    "start_time": "2022-07-04T14:16:03.097Z"
   },
   {
    "duration": 26,
    "start_time": "2022-07-04T14:16:03.106Z"
   },
   {
    "duration": 236,
    "start_time": "2022-07-04T14:16:03.134Z"
   },
   {
    "duration": 168,
    "start_time": "2022-07-04T14:16:03.372Z"
   },
   {
    "duration": 145,
    "start_time": "2022-07-04T14:16:03.542Z"
   },
   {
    "duration": 12,
    "start_time": "2022-07-04T14:16:03.689Z"
   },
   {
    "duration": 44,
    "start_time": "2022-07-04T14:16:03.707Z"
   },
   {
    "duration": 12,
    "start_time": "2022-07-04T14:16:03.753Z"
   },
   {
    "duration": 8,
    "start_time": "2022-07-04T14:16:03.766Z"
   },
   {
    "duration": 18,
    "start_time": "2022-07-04T14:16:03.776Z"
   },
   {
    "duration": 35,
    "start_time": "2022-07-04T14:16:03.796Z"
   },
   {
    "duration": 32,
    "start_time": "2022-07-04T14:16:03.832Z"
   },
   {
    "duration": 6,
    "start_time": "2022-07-04T14:16:03.865Z"
   },
   {
    "duration": 17,
    "start_time": "2022-07-04T14:16:03.873Z"
   },
   {
    "duration": 149,
    "start_time": "2022-07-04T14:16:03.892Z"
   },
   {
    "duration": 5,
    "start_time": "2022-07-04T14:16:04.043Z"
   },
   {
    "duration": 156,
    "start_time": "2022-07-04T14:16:04.050Z"
   },
   {
    "duration": 171,
    "start_time": "2022-07-04T14:16:04.207Z"
   },
   {
    "duration": 8,
    "start_time": "2022-07-04T14:16:04.380Z"
   },
   {
    "duration": 16,
    "start_time": "2022-07-04T14:16:04.390Z"
   },
   {
    "duration": 228,
    "start_time": "2022-07-04T14:16:04.430Z"
   },
   {
    "duration": 4,
    "start_time": "2022-07-04T14:16:04.660Z"
   },
   {
    "duration": 236,
    "start_time": "2022-07-04T14:16:04.666Z"
   },
   {
    "duration": 4,
    "start_time": "2022-07-04T14:16:04.905Z"
   },
   {
    "duration": 138,
    "start_time": "2022-07-04T14:16:04.923Z"
   },
   {
    "duration": 0,
    "start_time": "2022-07-04T14:16:05.063Z"
   },
   {
    "duration": 0,
    "start_time": "2022-07-04T14:16:05.065Z"
   },
   {
    "duration": 0,
    "start_time": "2022-07-04T14:16:05.067Z"
   },
   {
    "duration": 0,
    "start_time": "2022-07-04T14:16:05.068Z"
   },
   {
    "duration": 0,
    "start_time": "2022-07-04T14:16:05.069Z"
   },
   {
    "duration": 1200,
    "start_time": "2022-07-04T14:16:11.941Z"
   },
   {
    "duration": 4,
    "start_time": "2022-07-04T14:16:13.761Z"
   },
   {
    "duration": 989,
    "start_time": "2022-07-04T14:16:14.201Z"
   },
   {
    "duration": 3,
    "start_time": "2022-07-04T14:16:15.192Z"
   },
   {
    "duration": 722,
    "start_time": "2022-07-04T14:16:15.197Z"
   },
   {
    "duration": 5,
    "start_time": "2022-07-04T14:16:16.440Z"
   },
   {
    "duration": 36,
    "start_time": "2022-07-04T14:16:21.504Z"
   },
   {
    "duration": 439,
    "start_time": "2022-07-04T14:20:37.623Z"
   },
   {
    "duration": 416,
    "start_time": "2022-07-04T14:23:47.545Z"
   },
   {
    "duration": 449,
    "start_time": "2022-07-04T14:24:01.711Z"
   },
   {
    "duration": 480,
    "start_time": "2022-07-04T14:24:42.720Z"
   },
   {
    "duration": 520,
    "start_time": "2022-07-04T14:26:32.950Z"
   },
   {
    "duration": 430,
    "start_time": "2022-07-04T14:26:39.215Z"
   },
   {
    "duration": 17,
    "start_time": "2022-07-04T14:30:03.799Z"
   },
   {
    "duration": 284,
    "start_time": "2022-07-04T14:30:25.398Z"
   },
   {
    "duration": 444,
    "start_time": "2022-07-04T14:30:46.455Z"
   },
   {
    "duration": 336,
    "start_time": "2022-07-04T14:30:59.872Z"
   },
   {
    "duration": 282,
    "start_time": "2022-07-04T14:31:25.638Z"
   },
   {
    "duration": 296,
    "start_time": "2022-07-04T14:31:34.045Z"
   },
   {
    "duration": 288,
    "start_time": "2022-07-04T14:31:43.335Z"
   },
   {
    "duration": 427,
    "start_time": "2022-07-04T14:32:26.838Z"
   },
   {
    "duration": 349,
    "start_time": "2022-07-04T14:33:01.805Z"
   },
   {
    "duration": 12,
    "start_time": "2022-07-04T16:00:20.195Z"
   },
   {
    "duration": 6,
    "start_time": "2022-07-04T16:00:23.135Z"
   },
   {
    "duration": 5,
    "start_time": "2022-07-04T16:00:41.193Z"
   },
   {
    "duration": 10,
    "start_time": "2022-07-04T16:01:31.073Z"
   },
   {
    "duration": 4,
    "start_time": "2022-07-04T16:01:37.209Z"
   },
   {
    "duration": 6,
    "start_time": "2022-07-04T16:01:47.262Z"
   },
   {
    "duration": 839,
    "start_time": "2022-07-04T16:02:02.070Z"
   },
   {
    "duration": 8,
    "start_time": "2022-07-04T16:02:22.918Z"
   },
   {
    "duration": 29,
    "start_time": "2022-07-04T16:02:25.070Z"
   },
   {
    "duration": 11,
    "start_time": "2022-07-04T16:03:49.926Z"
   },
   {
    "duration": 16,
    "start_time": "2022-07-04T16:04:37.272Z"
   },
   {
    "duration": 21,
    "start_time": "2022-07-04T16:04:51.759Z"
   },
   {
    "duration": 11,
    "start_time": "2022-07-04T16:05:26.598Z"
   },
   {
    "duration": 4,
    "start_time": "2022-07-04T16:05:34.702Z"
   },
   {
    "duration": 5,
    "start_time": "2022-07-04T16:05:58.429Z"
   },
   {
    "duration": 8,
    "start_time": "2022-07-04T16:12:01.527Z"
   },
   {
    "duration": 34,
    "start_time": "2022-07-04T16:12:05.335Z"
   },
   {
    "duration": 4,
    "start_time": "2022-07-04T16:12:40.430Z"
   },
   {
    "duration": 4,
    "start_time": "2022-07-04T16:12:45.044Z"
   },
   {
    "duration": 12,
    "start_time": "2022-07-04T16:15:12.470Z"
   },
   {
    "duration": 11,
    "start_time": "2022-07-04T16:15:25.395Z"
   },
   {
    "duration": 29,
    "start_time": "2022-07-04T16:15:31.878Z"
   },
   {
    "duration": 88,
    "start_time": "2022-07-04T16:16:24.469Z"
   },
   {
    "duration": 13,
    "start_time": "2022-07-04T16:16:56.870Z"
   },
   {
    "duration": 19,
    "start_time": "2022-07-04T17:45:28.954Z"
   },
   {
    "duration": 12,
    "start_time": "2022-07-04T17:48:08.191Z"
   },
   {
    "duration": 9,
    "start_time": "2022-07-04T17:48:11.008Z"
   },
   {
    "duration": 12,
    "start_time": "2022-07-04T17:48:39.320Z"
   },
   {
    "duration": 14,
    "start_time": "2022-07-04T17:48:40.549Z"
   },
   {
    "duration": 8,
    "start_time": "2022-07-04T17:49:16.785Z"
   },
   {
    "duration": 12,
    "start_time": "2022-07-04T17:49:17.236Z"
   },
   {
    "duration": 13,
    "start_time": "2022-07-04T17:49:17.836Z"
   },
   {
    "duration": 1205,
    "start_time": "2022-07-04T17:49:36.435Z"
   },
   {
    "duration": 82,
    "start_time": "2022-07-04T17:49:37.642Z"
   },
   {
    "duration": 184,
    "start_time": "2022-07-04T17:49:37.726Z"
   },
   {
    "duration": 21,
    "start_time": "2022-07-04T17:49:37.912Z"
   },
   {
    "duration": 13,
    "start_time": "2022-07-04T17:49:37.936Z"
   },
   {
    "duration": 13,
    "start_time": "2022-07-04T17:49:37.951Z"
   },
   {
    "duration": 9,
    "start_time": "2022-07-04T17:49:37.966Z"
   },
   {
    "duration": 50,
    "start_time": "2022-07-04T17:49:37.977Z"
   },
   {
    "duration": 31,
    "start_time": "2022-07-04T17:49:38.029Z"
   },
   {
    "duration": 75,
    "start_time": "2022-07-04T17:49:38.063Z"
   },
   {
    "duration": 19,
    "start_time": "2022-07-04T17:49:38.140Z"
   },
   {
    "duration": 16,
    "start_time": "2022-07-04T17:49:38.162Z"
   },
   {
    "duration": 89,
    "start_time": "2022-07-04T17:49:38.180Z"
   },
   {
    "duration": 427,
    "start_time": "2022-07-04T17:49:38.273Z"
   },
   {
    "duration": 12,
    "start_time": "2022-07-04T17:49:38.701Z"
   },
   {
    "duration": 12,
    "start_time": "2022-07-04T17:49:38.722Z"
   },
   {
    "duration": 10,
    "start_time": "2022-07-04T17:49:38.736Z"
   },
   {
    "duration": 13,
    "start_time": "2022-07-04T17:49:38.747Z"
   },
   {
    "duration": 16,
    "start_time": "2022-07-04T17:49:38.762Z"
   },
   {
    "duration": 54,
    "start_time": "2022-07-04T17:49:38.780Z"
   },
   {
    "duration": 5,
    "start_time": "2022-07-04T17:49:38.835Z"
   },
   {
    "duration": 13,
    "start_time": "2022-07-04T17:49:38.841Z"
   },
   {
    "duration": 18,
    "start_time": "2022-07-04T17:49:38.856Z"
   },
   {
    "duration": 193,
    "start_time": "2022-07-04T17:49:38.878Z"
   },
   {
    "duration": 161,
    "start_time": "2022-07-04T17:49:39.073Z"
   },
   {
    "duration": 134,
    "start_time": "2022-07-04T17:49:39.235Z"
   },
   {
    "duration": 8,
    "start_time": "2022-07-04T17:49:39.371Z"
   },
   {
    "duration": 22,
    "start_time": "2022-07-04T17:49:39.381Z"
   },
   {
    "duration": 12,
    "start_time": "2022-07-04T17:49:39.422Z"
   },
   {
    "duration": 4,
    "start_time": "2022-07-04T17:49:39.436Z"
   },
   {
    "duration": 12,
    "start_time": "2022-07-04T17:49:39.441Z"
   },
   {
    "duration": 11,
    "start_time": "2022-07-04T17:49:39.455Z"
   },
   {
    "duration": 16,
    "start_time": "2022-07-04T17:49:39.468Z"
   },
   {
    "duration": 39,
    "start_time": "2022-07-04T17:49:39.485Z"
   },
   {
    "duration": 13,
    "start_time": "2022-07-04T17:49:39.526Z"
   },
   {
    "duration": 151,
    "start_time": "2022-07-04T17:49:39.540Z"
   },
   {
    "duration": 4,
    "start_time": "2022-07-04T17:49:39.693Z"
   },
   {
    "duration": 164,
    "start_time": "2022-07-04T17:49:39.699Z"
   },
   {
    "duration": 140,
    "start_time": "2022-07-04T17:49:39.866Z"
   },
   {
    "duration": 17,
    "start_time": "2022-07-04T17:49:40.008Z"
   },
   {
    "duration": 30,
    "start_time": "2022-07-04T17:49:40.029Z"
   },
   {
    "duration": 207,
    "start_time": "2022-07-04T17:49:40.060Z"
   },
   {
    "duration": 4,
    "start_time": "2022-07-04T17:49:40.269Z"
   },
   {
    "duration": 221,
    "start_time": "2022-07-04T17:49:40.274Z"
   },
   {
    "duration": 4,
    "start_time": "2022-07-04T17:49:40.496Z"
   },
   {
    "duration": 988,
    "start_time": "2022-07-04T17:49:40.502Z"
   },
   {
    "duration": 4,
    "start_time": "2022-07-04T17:49:41.492Z"
   },
   {
    "duration": 838,
    "start_time": "2022-07-04T17:49:41.497Z"
   },
   {
    "duration": 3,
    "start_time": "2022-07-04T17:49:42.336Z"
   },
   {
    "duration": 675,
    "start_time": "2022-07-04T17:49:42.341Z"
   },
   {
    "duration": 5,
    "start_time": "2022-07-04T17:49:43.018Z"
   },
   {
    "duration": 28,
    "start_time": "2022-07-04T17:49:43.025Z"
   },
   {
    "duration": 430,
    "start_time": "2022-07-04T17:49:43.055Z"
   },
   {
    "duration": 306,
    "start_time": "2022-07-04T17:49:43.486Z"
   },
   {
    "duration": 12,
    "start_time": "2022-07-04T17:49:43.793Z"
   },
   {
    "duration": 25,
    "start_time": "2022-07-04T17:49:43.807Z"
   },
   {
    "duration": 13,
    "start_time": "2022-07-04T17:49:43.834Z"
   },
   {
    "duration": 1031,
    "start_time": "2022-07-04T17:51:05.307Z"
   },
   {
    "duration": 179,
    "start_time": "2022-07-04T17:52:06.156Z"
   },
   {
    "duration": 52663,
    "start_time": "2022-07-04T17:52:16.627Z"
   },
   {
    "duration": 90,
    "start_time": "2022-07-05T09:34:19.437Z"
   },
   {
    "duration": 1660,
    "start_time": "2022-07-05T09:34:27.960Z"
   },
   {
    "duration": 96,
    "start_time": "2022-07-05T09:34:29.622Z"
   },
   {
    "duration": 265,
    "start_time": "2022-07-05T09:34:29.720Z"
   },
   {
    "duration": 27,
    "start_time": "2022-07-05T09:34:29.987Z"
   },
   {
    "duration": 30,
    "start_time": "2022-07-05T09:34:30.017Z"
   },
   {
    "duration": 14,
    "start_time": "2022-07-05T09:34:30.049Z"
   },
   {
    "duration": 11,
    "start_time": "2022-07-05T09:34:30.065Z"
   },
   {
    "duration": 40,
    "start_time": "2022-07-05T09:34:30.077Z"
   },
   {
    "duration": 43,
    "start_time": "2022-07-05T09:34:30.122Z"
   },
   {
    "duration": 84,
    "start_time": "2022-07-05T09:34:30.168Z"
   },
   {
    "duration": 25,
    "start_time": "2022-07-05T09:34:30.253Z"
   },
   {
    "duration": 50,
    "start_time": "2022-07-05T09:34:30.280Z"
   },
   {
    "duration": 85,
    "start_time": "2022-07-05T09:34:30.332Z"
   },
   {
    "duration": 609,
    "start_time": "2022-07-05T09:34:30.419Z"
   },
   {
    "duration": 13,
    "start_time": "2022-07-05T09:34:31.032Z"
   },
   {
    "duration": 16,
    "start_time": "2022-07-05T09:34:31.047Z"
   },
   {
    "duration": 12,
    "start_time": "2022-07-05T09:34:31.065Z"
   },
   {
    "duration": 41,
    "start_time": "2022-07-05T09:34:31.079Z"
   },
   {
    "duration": 24,
    "start_time": "2022-07-05T09:34:31.125Z"
   },
   {
    "duration": 26,
    "start_time": "2022-07-05T09:34:31.151Z"
   },
   {
    "duration": 6,
    "start_time": "2022-07-05T09:34:31.179Z"
   },
   {
    "duration": 16,
    "start_time": "2022-07-05T09:34:31.187Z"
   },
   {
    "duration": 31,
    "start_time": "2022-07-05T09:34:31.205Z"
   },
   {
    "duration": 181,
    "start_time": "2022-07-05T09:34:31.238Z"
   },
   {
    "duration": 168,
    "start_time": "2022-07-05T09:34:31.421Z"
   },
   {
    "duration": 165,
    "start_time": "2022-07-05T09:34:31.591Z"
   },
   {
    "duration": 11,
    "start_time": "2022-07-05T09:34:31.759Z"
   },
   {
    "duration": 52,
    "start_time": "2022-07-05T09:34:31.776Z"
   },
   {
    "duration": 13,
    "start_time": "2022-07-05T09:34:31.830Z"
   },
   {
    "duration": 14,
    "start_time": "2022-07-05T09:34:31.845Z"
   },
   {
    "duration": 14,
    "start_time": "2022-07-05T09:34:31.861Z"
   },
   {
    "duration": 41,
    "start_time": "2022-07-05T09:34:31.876Z"
   },
   {
    "duration": 33,
    "start_time": "2022-07-05T09:34:31.922Z"
   },
   {
    "duration": 5,
    "start_time": "2022-07-05T09:34:31.957Z"
   },
   {
    "duration": 19,
    "start_time": "2022-07-05T09:34:31.964Z"
   },
   {
    "duration": 173,
    "start_time": "2022-07-05T09:34:31.985Z"
   },
   {
    "duration": 5,
    "start_time": "2022-07-05T09:34:32.159Z"
   },
   {
    "duration": 179,
    "start_time": "2022-07-05T09:34:32.166Z"
   },
   {
    "duration": 182,
    "start_time": "2022-07-05T09:34:32.347Z"
   },
   {
    "duration": 9,
    "start_time": "2022-07-05T09:34:32.531Z"
   },
   {
    "duration": 15,
    "start_time": "2022-07-05T09:34:32.542Z"
   },
   {
    "duration": 294,
    "start_time": "2022-07-05T09:34:32.559Z"
   },
   {
    "duration": 4,
    "start_time": "2022-07-05T09:34:32.855Z"
   },
   {
    "duration": 255,
    "start_time": "2022-07-05T09:34:32.861Z"
   },
   {
    "duration": 4,
    "start_time": "2022-07-05T09:34:33.118Z"
   },
   {
    "duration": 1267,
    "start_time": "2022-07-05T09:34:33.124Z"
   },
   {
    "duration": 6,
    "start_time": "2022-07-05T09:34:34.393Z"
   },
   {
    "duration": 1122,
    "start_time": "2022-07-05T09:34:34.405Z"
   },
   {
    "duration": 4,
    "start_time": "2022-07-05T09:34:35.530Z"
   },
   {
    "duration": 836,
    "start_time": "2022-07-05T09:34:35.536Z"
   },
   {
    "duration": 5,
    "start_time": "2022-07-05T09:34:36.374Z"
   },
   {
    "duration": 52,
    "start_time": "2022-07-05T09:34:36.381Z"
   },
   {
    "duration": 601,
    "start_time": "2022-07-05T09:34:36.435Z"
   },
   {
    "duration": 432,
    "start_time": "2022-07-05T09:34:37.038Z"
   },
   {
    "duration": 12,
    "start_time": "2022-07-05T09:34:37.472Z"
   },
   {
    "duration": 30,
    "start_time": "2022-07-05T09:34:37.486Z"
   },
   {
    "duration": 24,
    "start_time": "2022-07-05T09:34:37.518Z"
   },
   {
    "duration": 1615,
    "start_time": "2022-07-05T09:34:37.543Z"
   },
   {
    "duration": 4581,
    "start_time": "2022-07-05T09:35:24.573Z"
   },
   {
    "duration": 18,
    "start_time": "2022-07-05T09:35:47.172Z"
   },
   {
    "duration": 84,
    "start_time": "2022-07-05T09:36:47.052Z"
   },
   {
    "duration": 121,
    "start_time": "2022-07-05T09:36:50.867Z"
   },
   {
    "duration": 93,
    "start_time": "2022-07-05T09:37:26.131Z"
   },
   {
    "duration": 115,
    "start_time": "2022-07-05T09:37:31.220Z"
   },
   {
    "duration": 86,
    "start_time": "2022-07-05T09:37:41.935Z"
   },
   {
    "duration": 4,
    "start_time": "2022-07-05T09:37:55.936Z"
   },
   {
    "duration": 5,
    "start_time": "2022-07-05T09:38:48.291Z"
   },
   {
    "duration": 91,
    "start_time": "2022-07-05T09:39:25.927Z"
   },
   {
    "duration": 5,
    "start_time": "2022-07-05T09:39:29.554Z"
   },
   {
    "duration": 10,
    "start_time": "2022-07-05T09:40:20.994Z"
   },
   {
    "duration": 6,
    "start_time": "2022-07-05T09:41:00.267Z"
   },
   {
    "duration": 1449,
    "start_time": "2022-07-05T09:43:13.635Z"
   },
   {
    "duration": 84,
    "start_time": "2022-07-05T09:43:15.086Z"
   },
   {
    "duration": 334,
    "start_time": "2022-07-05T09:43:15.176Z"
   },
   {
    "duration": 30,
    "start_time": "2022-07-05T09:43:15.512Z"
   },
   {
    "duration": 14,
    "start_time": "2022-07-05T09:43:15.544Z"
   },
   {
    "duration": 12,
    "start_time": "2022-07-05T09:43:15.560Z"
   },
   {
    "duration": 61,
    "start_time": "2022-07-05T09:43:15.574Z"
   },
   {
    "duration": 21,
    "start_time": "2022-07-05T09:43:15.638Z"
   },
   {
    "duration": 33,
    "start_time": "2022-07-05T09:43:15.663Z"
   },
   {
    "duration": 82,
    "start_time": "2022-07-05T09:43:15.705Z"
   },
   {
    "duration": 44,
    "start_time": "2022-07-05T09:43:15.789Z"
   },
   {
    "duration": 20,
    "start_time": "2022-07-05T09:43:15.835Z"
   },
   {
    "duration": 99,
    "start_time": "2022-07-05T09:43:15.858Z"
   },
   {
    "duration": 573,
    "start_time": "2022-07-05T09:43:15.959Z"
   },
   {
    "duration": 10,
    "start_time": "2022-07-05T09:43:16.534Z"
   },
   {
    "duration": 12,
    "start_time": "2022-07-05T09:43:16.546Z"
   },
   {
    "duration": 11,
    "start_time": "2022-07-05T09:43:16.560Z"
   },
   {
    "duration": 54,
    "start_time": "2022-07-05T09:43:16.573Z"
   },
   {
    "duration": 21,
    "start_time": "2022-07-05T09:43:16.631Z"
   },
   {
    "duration": 40,
    "start_time": "2022-07-05T09:43:16.654Z"
   },
   {
    "duration": 24,
    "start_time": "2022-07-05T09:43:16.696Z"
   },
   {
    "duration": 24,
    "start_time": "2022-07-05T09:43:16.722Z"
   },
   {
    "duration": 11,
    "start_time": "2022-07-05T09:43:16.748Z"
   },
   {
    "duration": 263,
    "start_time": "2022-07-05T09:43:16.762Z"
   },
   {
    "duration": 226,
    "start_time": "2022-07-05T09:43:17.027Z"
   },
   {
    "duration": 158,
    "start_time": "2022-07-05T09:43:17.255Z"
   },
   {
    "duration": 15,
    "start_time": "2022-07-05T09:43:17.418Z"
   },
   {
    "duration": 27,
    "start_time": "2022-07-05T09:43:17.435Z"
   },
   {
    "duration": 12,
    "start_time": "2022-07-05T09:43:17.464Z"
   },
   {
    "duration": 29,
    "start_time": "2022-07-05T09:43:17.478Z"
   },
   {
    "duration": 35,
    "start_time": "2022-07-05T09:43:17.509Z"
   },
   {
    "duration": 16,
    "start_time": "2022-07-05T09:43:17.547Z"
   },
   {
    "duration": 17,
    "start_time": "2022-07-05T09:43:17.566Z"
   },
   {
    "duration": 6,
    "start_time": "2022-07-05T09:43:17.585Z"
   },
   {
    "duration": 51,
    "start_time": "2022-07-05T09:43:17.601Z"
   },
   {
    "duration": 176,
    "start_time": "2022-07-05T09:43:17.654Z"
   },
   {
    "duration": 6,
    "start_time": "2022-07-05T09:43:17.833Z"
   },
   {
    "duration": 178,
    "start_time": "2022-07-05T09:43:17.841Z"
   },
   {
    "duration": 163,
    "start_time": "2022-07-05T09:43:18.022Z"
   },
   {
    "duration": 18,
    "start_time": "2022-07-05T09:43:18.187Z"
   },
   {
    "duration": 25,
    "start_time": "2022-07-05T09:43:18.213Z"
   },
   {
    "duration": 252,
    "start_time": "2022-07-05T09:43:18.240Z"
   },
   {
    "duration": 10,
    "start_time": "2022-07-05T09:43:18.494Z"
   },
   {
    "duration": 250,
    "start_time": "2022-07-05T09:43:18.513Z"
   },
   {
    "duration": 5,
    "start_time": "2022-07-05T09:43:18.764Z"
   },
   {
    "duration": 1304,
    "start_time": "2022-07-05T09:43:18.771Z"
   },
   {
    "duration": 4,
    "start_time": "2022-07-05T09:43:20.076Z"
   },
   {
    "duration": 1125,
    "start_time": "2022-07-05T09:43:20.082Z"
   },
   {
    "duration": 4,
    "start_time": "2022-07-05T09:43:21.214Z"
   },
   {
    "duration": 852,
    "start_time": "2022-07-05T09:43:21.220Z"
   },
   {
    "duration": 5,
    "start_time": "2022-07-05T09:43:22.074Z"
   },
   {
    "duration": 52,
    "start_time": "2022-07-05T09:43:22.081Z"
   },
   {
    "duration": 416,
    "start_time": "2022-07-05T09:43:22.136Z"
   },
   {
    "duration": 320,
    "start_time": "2022-07-05T09:43:22.553Z"
   },
   {
    "duration": 11,
    "start_time": "2022-07-05T09:43:22.874Z"
   },
   {
    "duration": 32,
    "start_time": "2022-07-05T09:43:22.887Z"
   },
   {
    "duration": 21,
    "start_time": "2022-07-05T09:43:22.922Z"
   },
   {
    "duration": 16,
    "start_time": "2022-07-05T09:43:22.945Z"
   },
   {
    "duration": 10,
    "start_time": "2022-07-05T09:43:22.963Z"
   },
   {
    "duration": 146,
    "start_time": "2022-07-05T09:46:33.379Z"
   },
   {
    "duration": 9,
    "start_time": "2022-07-05T09:46:38.979Z"
   },
   {
    "duration": 8,
    "start_time": "2022-07-05T09:47:24.730Z"
   },
   {
    "duration": 12,
    "start_time": "2022-07-05T09:47:57.123Z"
   },
   {
    "duration": 7,
    "start_time": "2022-07-05T09:48:04.780Z"
   },
   {
    "duration": 9,
    "start_time": "2022-07-05T09:48:40.749Z"
   },
   {
    "duration": 6,
    "start_time": "2022-07-05T09:48:41.328Z"
   },
   {
    "duration": 10,
    "start_time": "2022-07-05T09:48:42.085Z"
   },
   {
    "duration": 4,
    "start_time": "2022-07-05T09:48:42.565Z"
   },
   {
    "duration": 6,
    "start_time": "2022-07-05T09:53:24.684Z"
   },
   {
    "duration": 4,
    "start_time": "2022-07-05T09:54:17.587Z"
   },
   {
    "duration": 2614,
    "start_time": "2022-07-05T09:55:12.877Z"
   },
   {
    "duration": 5,
    "start_time": "2022-07-05T09:55:19.331Z"
   },
   {
    "duration": 6,
    "start_time": "2022-07-05T09:55:46.163Z"
   },
   {
    "duration": 13,
    "start_time": "2022-07-05T09:55:48.675Z"
   },
   {
    "duration": 6,
    "start_time": "2022-07-05T09:55:49.290Z"
   },
   {
    "duration": 6,
    "start_time": "2022-07-05T09:56:07.917Z"
   },
   {
    "duration": 24,
    "start_time": "2022-07-05T09:59:21.787Z"
   },
   {
    "duration": 1358,
    "start_time": "2022-07-05T09:59:30.977Z"
   },
   {
    "duration": 86,
    "start_time": "2022-07-05T09:59:32.337Z"
   },
   {
    "duration": 386,
    "start_time": "2022-07-05T09:59:32.425Z"
   },
   {
    "duration": 25,
    "start_time": "2022-07-05T09:59:32.815Z"
   },
   {
    "duration": 14,
    "start_time": "2022-07-05T09:59:32.842Z"
   },
   {
    "duration": 11,
    "start_time": "2022-07-05T09:59:32.858Z"
   },
   {
    "duration": 33,
    "start_time": "2022-07-05T09:59:32.871Z"
   },
   {
    "duration": 42,
    "start_time": "2022-07-05T09:59:32.906Z"
   },
   {
    "duration": 34,
    "start_time": "2022-07-05T09:59:32.949Z"
   },
   {
    "duration": 72,
    "start_time": "2022-07-05T09:59:32.986Z"
   },
   {
    "duration": 21,
    "start_time": "2022-07-05T09:59:33.060Z"
   },
   {
    "duration": 39,
    "start_time": "2022-07-05T09:59:33.082Z"
   },
   {
    "duration": 100,
    "start_time": "2022-07-05T09:59:33.123Z"
   },
   {
    "duration": 605,
    "start_time": "2022-07-05T09:59:33.228Z"
   },
   {
    "duration": 12,
    "start_time": "2022-07-05T09:59:33.836Z"
   },
   {
    "duration": 13,
    "start_time": "2022-07-05T09:59:33.850Z"
   },
   {
    "duration": 11,
    "start_time": "2022-07-05T09:59:33.865Z"
   },
   {
    "duration": 48,
    "start_time": "2022-07-05T09:59:33.877Z"
   },
   {
    "duration": 25,
    "start_time": "2022-07-05T09:59:33.927Z"
   },
   {
    "duration": 25,
    "start_time": "2022-07-05T09:59:33.954Z"
   },
   {
    "duration": 6,
    "start_time": "2022-07-05T09:59:33.980Z"
   },
   {
    "duration": 31,
    "start_time": "2022-07-05T09:59:33.987Z"
   },
   {
    "duration": 23,
    "start_time": "2022-07-05T09:59:34.020Z"
   },
   {
    "duration": 193,
    "start_time": "2022-07-05T09:59:34.046Z"
   },
   {
    "duration": 174,
    "start_time": "2022-07-05T09:59:34.241Z"
   },
   {
    "duration": 174,
    "start_time": "2022-07-05T09:59:34.417Z"
   },
   {
    "duration": 22,
    "start_time": "2022-07-05T09:59:34.593Z"
   },
   {
    "duration": 29,
    "start_time": "2022-07-05T09:59:34.627Z"
   },
   {
    "duration": 12,
    "start_time": "2022-07-05T09:59:34.658Z"
   },
   {
    "duration": 5,
    "start_time": "2022-07-05T09:59:34.671Z"
   },
   {
    "duration": 15,
    "start_time": "2022-07-05T09:59:34.678Z"
   },
   {
    "duration": 44,
    "start_time": "2022-07-05T09:59:34.697Z"
   },
   {
    "duration": 19,
    "start_time": "2022-07-05T09:59:34.742Z"
   },
   {
    "duration": 5,
    "start_time": "2022-07-05T09:59:34.763Z"
   },
   {
    "duration": 24,
    "start_time": "2022-07-05T09:59:34.770Z"
   },
   {
    "duration": 242,
    "start_time": "2022-07-05T09:59:34.796Z"
   },
   {
    "duration": 9,
    "start_time": "2022-07-05T09:59:35.041Z"
   },
   {
    "duration": 191,
    "start_time": "2022-07-05T09:59:35.052Z"
   },
   {
    "duration": 184,
    "start_time": "2022-07-05T09:59:35.244Z"
   },
   {
    "duration": 10,
    "start_time": "2022-07-05T09:59:35.430Z"
   },
   {
    "duration": 25,
    "start_time": "2022-07-05T09:59:35.442Z"
   },
   {
    "duration": 286,
    "start_time": "2022-07-05T09:59:35.469Z"
   },
   {
    "duration": 5,
    "start_time": "2022-07-05T09:59:35.757Z"
   },
   {
    "duration": 268,
    "start_time": "2022-07-05T09:59:35.763Z"
   },
   {
    "duration": 6,
    "start_time": "2022-07-05T09:59:36.032Z"
   },
   {
    "duration": 1325,
    "start_time": "2022-07-05T09:59:36.041Z"
   },
   {
    "duration": 3,
    "start_time": "2022-07-05T09:59:37.368Z"
   },
   {
    "duration": 1108,
    "start_time": "2022-07-05T09:59:37.374Z"
   },
   {
    "duration": 3,
    "start_time": "2022-07-05T09:59:38.484Z"
   },
   {
    "duration": 897,
    "start_time": "2022-07-05T09:59:38.489Z"
   },
   {
    "duration": 6,
    "start_time": "2022-07-05T09:59:39.388Z"
   },
   {
    "duration": 66,
    "start_time": "2022-07-05T09:59:39.398Z"
   },
   {
    "duration": 428,
    "start_time": "2022-07-05T09:59:39.465Z"
   },
   {
    "duration": 361,
    "start_time": "2022-07-05T09:59:39.895Z"
   },
   {
    "duration": 12,
    "start_time": "2022-07-05T09:59:40.258Z"
   },
   {
    "duration": 16,
    "start_time": "2022-07-05T09:59:40.272Z"
   },
   {
    "duration": 38,
    "start_time": "2022-07-05T09:59:40.290Z"
   },
   {
    "duration": 14,
    "start_time": "2022-07-05T09:59:40.331Z"
   },
   {
    "duration": 7,
    "start_time": "2022-07-05T09:59:40.347Z"
   },
   {
    "duration": 11,
    "start_time": "2022-07-05T09:59:40.356Z"
   },
   {
    "duration": 9,
    "start_time": "2022-07-05T09:59:40.369Z"
   },
   {
    "duration": 29,
    "start_time": "2022-07-05T09:59:40.380Z"
   },
   {
    "duration": 20,
    "start_time": "2022-07-05T09:59:40.412Z"
   },
   {
    "duration": 12,
    "start_time": "2022-07-05T09:59:40.434Z"
   },
   {
    "duration": 5,
    "start_time": "2022-07-05T10:00:03.266Z"
   },
   {
    "duration": 1378,
    "start_time": "2022-07-05T10:01:49.158Z"
   },
   {
    "duration": 95,
    "start_time": "2022-07-05T10:01:50.538Z"
   },
   {
    "duration": 462,
    "start_time": "2022-07-05T10:01:50.635Z"
   },
   {
    "duration": 36,
    "start_time": "2022-07-05T10:01:51.103Z"
   },
   {
    "duration": 14,
    "start_time": "2022-07-05T10:01:51.142Z"
   },
   {
    "duration": 12,
    "start_time": "2022-07-05T10:01:51.159Z"
   },
   {
    "duration": 28,
    "start_time": "2022-07-05T10:01:51.173Z"
   },
   {
    "duration": 40,
    "start_time": "2022-07-05T10:01:51.205Z"
   },
   {
    "duration": 35,
    "start_time": "2022-07-05T10:01:51.248Z"
   },
   {
    "duration": 79,
    "start_time": "2022-07-05T10:01:51.287Z"
   },
   {
    "duration": 47,
    "start_time": "2022-07-05T10:01:51.369Z"
   },
   {
    "duration": 27,
    "start_time": "2022-07-05T10:01:51.421Z"
   },
   {
    "duration": 78,
    "start_time": "2022-07-05T10:01:51.450Z"
   },
   {
    "duration": 560,
    "start_time": "2022-07-05T10:01:51.531Z"
   },
   {
    "duration": 24,
    "start_time": "2022-07-05T10:01:52.093Z"
   },
   {
    "duration": 19,
    "start_time": "2022-07-05T10:01:52.120Z"
   },
   {
    "duration": 10,
    "start_time": "2022-07-05T10:01:52.141Z"
   },
   {
    "duration": 14,
    "start_time": "2022-07-05T10:01:52.153Z"
   },
   {
    "duration": 33,
    "start_time": "2022-07-05T10:01:52.169Z"
   },
   {
    "duration": 40,
    "start_time": "2022-07-05T10:01:52.210Z"
   },
   {
    "duration": 7,
    "start_time": "2022-07-05T10:01:52.253Z"
   },
   {
    "duration": 8,
    "start_time": "2022-07-05T10:01:52.263Z"
   },
   {
    "duration": 47,
    "start_time": "2022-07-05T10:01:52.272Z"
   },
   {
    "duration": 164,
    "start_time": "2022-07-05T10:01:52.328Z"
   },
   {
    "duration": 186,
    "start_time": "2022-07-05T10:01:52.494Z"
   },
   {
    "duration": 158,
    "start_time": "2022-07-05T10:01:52.682Z"
   },
   {
    "duration": 10,
    "start_time": "2022-07-05T10:01:52.841Z"
   },
   {
    "duration": 25,
    "start_time": "2022-07-05T10:01:52.855Z"
   },
   {
    "duration": 51,
    "start_time": "2022-07-05T10:01:52.882Z"
   },
   {
    "duration": 12,
    "start_time": "2022-07-05T10:01:52.935Z"
   },
   {
    "duration": 16,
    "start_time": "2022-07-05T10:01:52.949Z"
   },
   {
    "duration": 16,
    "start_time": "2022-07-05T10:01:52.967Z"
   },
   {
    "duration": 29,
    "start_time": "2022-07-05T10:01:52.984Z"
   },
   {
    "duration": 13,
    "start_time": "2022-07-05T10:01:53.014Z"
   },
   {
    "duration": 20,
    "start_time": "2022-07-05T10:01:53.030Z"
   },
   {
    "duration": 196,
    "start_time": "2022-07-05T10:01:53.052Z"
   },
   {
    "duration": 5,
    "start_time": "2022-07-05T10:01:53.250Z"
   },
   {
    "duration": 189,
    "start_time": "2022-07-05T10:01:53.256Z"
   },
   {
    "duration": 217,
    "start_time": "2022-07-05T10:01:53.447Z"
   },
   {
    "duration": 8,
    "start_time": "2022-07-05T10:01:53.666Z"
   },
   {
    "duration": 83,
    "start_time": "2022-07-05T10:01:53.677Z"
   },
   {
    "duration": 306,
    "start_time": "2022-07-05T10:01:53.762Z"
   },
   {
    "duration": 7,
    "start_time": "2022-07-05T10:01:54.070Z"
   },
   {
    "duration": 282,
    "start_time": "2022-07-05T10:01:54.080Z"
   },
   {
    "duration": 5,
    "start_time": "2022-07-05T10:01:54.364Z"
   },
   {
    "duration": 1418,
    "start_time": "2022-07-05T10:01:54.371Z"
   },
   {
    "duration": 4,
    "start_time": "2022-07-05T10:01:55.791Z"
   },
   {
    "duration": 1232,
    "start_time": "2022-07-05T10:01:55.801Z"
   },
   {
    "duration": 5,
    "start_time": "2022-07-05T10:01:57.037Z"
   },
   {
    "duration": 964,
    "start_time": "2022-07-05T10:01:57.044Z"
   },
   {
    "duration": 6,
    "start_time": "2022-07-05T10:01:58.011Z"
   },
   {
    "duration": 48,
    "start_time": "2022-07-05T10:01:58.019Z"
   },
   {
    "duration": 443,
    "start_time": "2022-07-05T10:01:58.069Z"
   },
   {
    "duration": 345,
    "start_time": "2022-07-05T10:01:58.514Z"
   },
   {
    "duration": 13,
    "start_time": "2022-07-05T10:01:58.861Z"
   },
   {
    "duration": 38,
    "start_time": "2022-07-05T10:01:58.877Z"
   },
   {
    "duration": 36,
    "start_time": "2022-07-05T10:01:58.922Z"
   },
   {
    "duration": 19,
    "start_time": "2022-07-05T10:01:58.961Z"
   },
   {
    "duration": 17,
    "start_time": "2022-07-05T10:01:58.982Z"
   },
   {
    "duration": 48,
    "start_time": "2022-07-05T10:01:59.002Z"
   },
   {
    "duration": 14,
    "start_time": "2022-07-05T10:01:59.054Z"
   },
   {
    "duration": 8,
    "start_time": "2022-07-05T10:01:59.070Z"
   },
   {
    "duration": 8,
    "start_time": "2022-07-05T10:01:59.080Z"
   },
   {
    "duration": 41,
    "start_time": "2022-07-05T10:01:59.090Z"
   },
   {
    "duration": 12,
    "start_time": "2022-07-05T10:01:59.134Z"
   },
   {
    "duration": 103,
    "start_time": "2022-07-05T10:03:41.735Z"
   },
   {
    "duration": 93,
    "start_time": "2022-07-05T10:03:45.230Z"
   },
   {
    "duration": 92,
    "start_time": "2022-07-05T10:03:52.079Z"
   },
   {
    "duration": 6,
    "start_time": "2022-07-05T10:03:58.978Z"
   },
   {
    "duration": 7,
    "start_time": "2022-07-05T10:04:47.121Z"
   },
   {
    "duration": 9,
    "start_time": "2022-07-05T10:04:47.895Z"
   },
   {
    "duration": 7,
    "start_time": "2022-07-05T10:04:53.766Z"
   },
   {
    "duration": 11,
    "start_time": "2022-07-05T10:18:58.045Z"
   },
   {
    "duration": 32,
    "start_time": "2022-07-05T10:18:58.693Z"
   },
   {
    "duration": 152,
    "start_time": "2022-07-05T10:19:46.278Z"
   },
   {
    "duration": 138,
    "start_time": "2022-07-05T10:30:34.034Z"
   },
   {
    "duration": 1431,
    "start_time": "2022-07-05T10:31:16.730Z"
   },
   {
    "duration": 72,
    "start_time": "2022-07-05T10:31:18.163Z"
   },
   {
    "duration": 312,
    "start_time": "2022-07-05T10:31:18.237Z"
   },
   {
    "duration": 24,
    "start_time": "2022-07-05T10:31:18.552Z"
   },
   {
    "duration": 34,
    "start_time": "2022-07-05T10:31:18.578Z"
   },
   {
    "duration": 36,
    "start_time": "2022-07-05T10:31:18.614Z"
   },
   {
    "duration": 12,
    "start_time": "2022-07-05T10:31:18.652Z"
   },
   {
    "duration": 16,
    "start_time": "2022-07-05T10:31:18.666Z"
   },
   {
    "duration": 53,
    "start_time": "2022-07-05T10:31:18.684Z"
   },
   {
    "duration": 76,
    "start_time": "2022-07-05T10:31:18.741Z"
   },
   {
    "duration": 32,
    "start_time": "2022-07-05T10:31:18.820Z"
   },
   {
    "duration": 16,
    "start_time": "2022-07-05T10:31:18.855Z"
   },
   {
    "duration": 91,
    "start_time": "2022-07-05T10:31:18.873Z"
   },
   {
    "duration": 587,
    "start_time": "2022-07-05T10:31:18.966Z"
   },
   {
    "duration": 12,
    "start_time": "2022-07-05T10:31:19.555Z"
   },
   {
    "duration": 14,
    "start_time": "2022-07-05T10:31:19.569Z"
   },
   {
    "duration": 24,
    "start_time": "2022-07-05T10:31:19.601Z"
   },
   {
    "duration": 31,
    "start_time": "2022-07-05T10:31:19.628Z"
   },
   {
    "duration": 22,
    "start_time": "2022-07-05T10:31:19.661Z"
   },
   {
    "duration": 40,
    "start_time": "2022-07-05T10:31:19.685Z"
   },
   {
    "duration": 6,
    "start_time": "2022-07-05T10:31:19.727Z"
   },
   {
    "duration": 12,
    "start_time": "2022-07-05T10:31:19.735Z"
   },
   {
    "duration": 5,
    "start_time": "2022-07-05T10:31:19.749Z"
   },
   {
    "duration": 182,
    "start_time": "2022-07-05T10:31:19.756Z"
   },
   {
    "duration": 191,
    "start_time": "2022-07-05T10:31:19.940Z"
   },
   {
    "duration": 145,
    "start_time": "2022-07-05T10:31:20.133Z"
   },
   {
    "duration": 24,
    "start_time": "2022-07-05T10:31:20.280Z"
   },
   {
    "duration": 32,
    "start_time": "2022-07-05T10:31:20.316Z"
   },
   {
    "duration": 11,
    "start_time": "2022-07-05T10:31:20.350Z"
   },
   {
    "duration": 6,
    "start_time": "2022-07-05T10:31:20.363Z"
   },
   {
    "duration": 14,
    "start_time": "2022-07-05T10:31:20.370Z"
   },
   {
    "duration": 21,
    "start_time": "2022-07-05T10:31:20.386Z"
   },
   {
    "duration": 34,
    "start_time": "2022-07-05T10:31:20.409Z"
   },
   {
    "duration": 6,
    "start_time": "2022-07-05T10:31:20.445Z"
   },
   {
    "duration": 15,
    "start_time": "2022-07-05T10:31:20.453Z"
   },
   {
    "duration": 181,
    "start_time": "2022-07-05T10:31:20.470Z"
   },
   {
    "duration": 5,
    "start_time": "2022-07-05T10:31:20.652Z"
   },
   {
    "duration": 170,
    "start_time": "2022-07-05T10:31:20.659Z"
   },
   {
    "duration": 161,
    "start_time": "2022-07-05T10:31:20.831Z"
   },
   {
    "duration": 21,
    "start_time": "2022-07-05T10:31:20.994Z"
   },
   {
    "duration": 19,
    "start_time": "2022-07-05T10:31:21.017Z"
   },
   {
    "duration": 252,
    "start_time": "2022-07-05T10:31:21.038Z"
   },
   {
    "duration": 4,
    "start_time": "2022-07-05T10:31:21.292Z"
   },
   {
    "duration": 251,
    "start_time": "2022-07-05T10:31:21.298Z"
   },
   {
    "duration": 4,
    "start_time": "2022-07-05T10:31:21.551Z"
   },
   {
    "duration": 1250,
    "start_time": "2022-07-05T10:31:21.557Z"
   },
   {
    "duration": 5,
    "start_time": "2022-07-05T10:31:22.808Z"
   },
   {
    "duration": 1084,
    "start_time": "2022-07-05T10:31:22.818Z"
   },
   {
    "duration": 3,
    "start_time": "2022-07-05T10:31:23.908Z"
   },
   {
    "duration": 861,
    "start_time": "2022-07-05T10:31:23.913Z"
   },
   {
    "duration": 6,
    "start_time": "2022-07-05T10:31:24.776Z"
   },
   {
    "duration": 54,
    "start_time": "2022-07-05T10:31:24.783Z"
   },
   {
    "duration": 440,
    "start_time": "2022-07-05T10:31:24.839Z"
   },
   {
    "duration": 314,
    "start_time": "2022-07-05T10:31:25.282Z"
   },
   {
    "duration": 23,
    "start_time": "2022-07-05T10:31:25.601Z"
   },
   {
    "duration": 25,
    "start_time": "2022-07-05T10:31:25.627Z"
   },
   {
    "duration": 17,
    "start_time": "2022-07-05T10:31:25.654Z"
   },
   {
    "duration": 11,
    "start_time": "2022-07-05T10:31:25.673Z"
   },
   {
    "duration": 17,
    "start_time": "2022-07-05T10:31:25.685Z"
   },
   {
    "duration": 6,
    "start_time": "2022-07-05T10:31:25.704Z"
   },
   {
    "duration": 25,
    "start_time": "2022-07-05T10:31:25.714Z"
   },
   {
    "duration": 7,
    "start_time": "2022-07-05T10:31:25.741Z"
   },
   {
    "duration": 8,
    "start_time": "2022-07-05T10:31:25.751Z"
   },
   {
    "duration": 6,
    "start_time": "2022-07-05T10:31:25.761Z"
   },
   {
    "duration": 8,
    "start_time": "2022-07-05T10:31:25.769Z"
   },
   {
    "duration": 181,
    "start_time": "2022-07-05T10:31:25.779Z"
   },
   {
    "duration": 0,
    "start_time": "2022-07-05T10:31:25.962Z"
   },
   {
    "duration": 22,
    "start_time": "2022-07-05T10:31:48.625Z"
   },
   {
    "duration": 7,
    "start_time": "2022-07-05T10:31:52.790Z"
   },
   {
    "duration": 503,
    "start_time": "2022-07-05T10:33:20.612Z"
   },
   {
    "duration": 8,
    "start_time": "2022-07-05T10:33:49.820Z"
   },
   {
    "duration": 5,
    "start_time": "2022-07-05T10:34:34.470Z"
   },
   {
    "duration": 6,
    "start_time": "2022-07-05T10:34:36.877Z"
   },
   {
    "duration": 28,
    "start_time": "2022-07-05T10:46:36.644Z"
   },
   {
    "duration": 6,
    "start_time": "2022-07-05T10:46:48.235Z"
   },
   {
    "duration": 6,
    "start_time": "2022-07-05T10:47:42.320Z"
   },
   {
    "duration": 6,
    "start_time": "2022-07-05T10:47:45.425Z"
   },
   {
    "duration": 9,
    "start_time": "2022-07-05T10:47:47.843Z"
   },
   {
    "duration": 5,
    "start_time": "2022-07-05T10:54:22.273Z"
   },
   {
    "duration": 6,
    "start_time": "2022-07-05T10:54:37.027Z"
   },
   {
    "duration": 6,
    "start_time": "2022-07-05T10:54:51.625Z"
   },
   {
    "duration": 1714,
    "start_time": "2022-07-05T13:02:04.244Z"
   },
   {
    "duration": 1381,
    "start_time": "2022-07-05T13:11:16.979Z"
   },
   {
    "duration": 93,
    "start_time": "2022-07-05T13:11:18.362Z"
   },
   {
    "duration": 277,
    "start_time": "2022-07-05T13:11:18.460Z"
   },
   {
    "duration": 23,
    "start_time": "2022-07-05T13:11:18.739Z"
   },
   {
    "duration": 14,
    "start_time": "2022-07-05T13:11:18.764Z"
   },
   {
    "duration": 39,
    "start_time": "2022-07-05T13:11:18.780Z"
   },
   {
    "duration": 9,
    "start_time": "2022-07-05T13:11:18.821Z"
   },
   {
    "duration": 17,
    "start_time": "2022-07-05T13:11:18.832Z"
   },
   {
    "duration": 61,
    "start_time": "2022-07-05T13:11:18.853Z"
   },
   {
    "duration": 74,
    "start_time": "2022-07-05T13:11:18.921Z"
   },
   {
    "duration": 26,
    "start_time": "2022-07-05T13:11:18.998Z"
   },
   {
    "duration": 26,
    "start_time": "2022-07-05T13:11:19.027Z"
   },
   {
    "duration": 99,
    "start_time": "2022-07-05T13:11:19.055Z"
   },
   {
    "duration": 559,
    "start_time": "2022-07-05T13:11:19.156Z"
   },
   {
    "duration": 13,
    "start_time": "2022-07-05T13:11:19.718Z"
   },
   {
    "duration": 16,
    "start_time": "2022-07-05T13:11:19.733Z"
   },
   {
    "duration": 10,
    "start_time": "2022-07-05T13:11:19.752Z"
   },
   {
    "duration": 34,
    "start_time": "2022-07-05T13:11:19.765Z"
   },
   {
    "duration": 29,
    "start_time": "2022-07-05T13:11:19.801Z"
   },
   {
    "duration": 28,
    "start_time": "2022-07-05T13:11:19.832Z"
   },
   {
    "duration": 9,
    "start_time": "2022-07-05T13:11:19.862Z"
   },
   {
    "duration": 23,
    "start_time": "2022-07-05T13:11:19.898Z"
   },
   {
    "duration": 8,
    "start_time": "2022-07-05T13:11:19.923Z"
   },
   {
    "duration": 178,
    "start_time": "2022-07-05T13:11:19.933Z"
   },
   {
    "duration": 230,
    "start_time": "2022-07-05T13:11:20.113Z"
   },
   {
    "duration": 146,
    "start_time": "2022-07-05T13:11:20.345Z"
   },
   {
    "duration": 16,
    "start_time": "2022-07-05T13:11:20.503Z"
   },
   {
    "duration": 34,
    "start_time": "2022-07-05T13:11:20.521Z"
   },
   {
    "duration": 18,
    "start_time": "2022-07-05T13:11:20.557Z"
   },
   {
    "duration": 18,
    "start_time": "2022-07-05T13:11:20.577Z"
   },
   {
    "duration": 37,
    "start_time": "2022-07-05T13:11:20.597Z"
   },
   {
    "duration": 15,
    "start_time": "2022-07-05T13:11:20.635Z"
   },
   {
    "duration": 19,
    "start_time": "2022-07-05T13:11:20.652Z"
   },
   {
    "duration": 6,
    "start_time": "2022-07-05T13:11:20.673Z"
   },
   {
    "duration": 18,
    "start_time": "2022-07-05T13:11:20.680Z"
   },
   {
    "duration": 172,
    "start_time": "2022-07-05T13:11:20.708Z"
   },
   {
    "duration": 4,
    "start_time": "2022-07-05T13:11:20.882Z"
   },
   {
    "duration": 179,
    "start_time": "2022-07-05T13:11:20.888Z"
   },
   {
    "duration": 160,
    "start_time": "2022-07-05T13:11:21.069Z"
   },
   {
    "duration": 8,
    "start_time": "2022-07-05T13:11:21.230Z"
   },
   {
    "duration": 17,
    "start_time": "2022-07-05T13:11:21.239Z"
   },
   {
    "duration": 256,
    "start_time": "2022-07-05T13:11:21.258Z"
   },
   {
    "duration": 5,
    "start_time": "2022-07-05T13:11:21.517Z"
   },
   {
    "duration": 233,
    "start_time": "2022-07-05T13:11:21.524Z"
   },
   {
    "duration": 4,
    "start_time": "2022-07-05T13:11:21.759Z"
   },
   {
    "duration": 1154,
    "start_time": "2022-07-05T13:11:21.766Z"
   },
   {
    "duration": 4,
    "start_time": "2022-07-05T13:11:22.922Z"
   },
   {
    "duration": 1061,
    "start_time": "2022-07-05T13:11:22.927Z"
   },
   {
    "duration": 3,
    "start_time": "2022-07-05T13:11:23.990Z"
   },
   {
    "duration": 867,
    "start_time": "2022-07-05T13:11:23.998Z"
   },
   {
    "duration": 6,
    "start_time": "2022-07-05T13:11:24.867Z"
   },
   {
    "duration": 48,
    "start_time": "2022-07-05T13:11:24.875Z"
   },
   {
    "duration": 427,
    "start_time": "2022-07-05T13:11:24.925Z"
   },
   {
    "duration": 362,
    "start_time": "2022-07-05T13:11:25.354Z"
   },
   {
    "duration": 13,
    "start_time": "2022-07-05T13:11:25.718Z"
   },
   {
    "duration": 15,
    "start_time": "2022-07-05T13:11:25.733Z"
   },
   {
    "duration": 23,
    "start_time": "2022-07-05T13:11:25.750Z"
   },
   {
    "duration": 31,
    "start_time": "2022-07-05T13:11:25.775Z"
   },
   {
    "duration": 24,
    "start_time": "2022-07-05T13:11:25.811Z"
   },
   {
    "duration": 7,
    "start_time": "2022-07-05T13:11:25.837Z"
   },
   {
    "duration": 11,
    "start_time": "2022-07-05T13:11:25.846Z"
   },
   {
    "duration": 10,
    "start_time": "2022-07-05T13:11:25.859Z"
   },
   {
    "duration": 11,
    "start_time": "2022-07-05T13:11:25.871Z"
   },
   {
    "duration": 8,
    "start_time": "2022-07-05T13:11:25.898Z"
   },
   {
    "duration": 27,
    "start_time": "2022-07-05T13:11:25.908Z"
   },
   {
    "duration": 31,
    "start_time": "2022-07-05T13:11:25.938Z"
   },
   {
    "duration": 8,
    "start_time": "2022-07-05T13:11:25.972Z"
   },
   {
    "duration": 25,
    "start_time": "2022-07-05T13:11:25.983Z"
   },
   {
    "duration": 23,
    "start_time": "2022-07-05T13:11:26.016Z"
   },
   {
    "duration": 25,
    "start_time": "2022-07-05T13:11:26.042Z"
   },
   {
    "duration": 6,
    "start_time": "2022-07-05T13:11:26.069Z"
   },
   {
    "duration": 48,
    "start_time": "2022-07-05T13:11:26.077Z"
   },
   {
    "duration": 11,
    "start_time": "2022-07-05T13:11:26.129Z"
   },
   {
    "duration": 1719,
    "start_time": "2022-07-05T13:11:26.143Z"
   },
   {
    "duration": 108,
    "start_time": "2022-07-05T13:11:27.866Z"
   },
   {
    "duration": 1436,
    "start_time": "2022-07-05T14:07:38.449Z"
   },
   {
    "duration": 102,
    "start_time": "2022-07-05T14:07:39.887Z"
   },
   {
    "duration": 176,
    "start_time": "2022-07-05T14:07:39.990Z"
   },
   {
    "duration": 23,
    "start_time": "2022-07-05T14:07:40.168Z"
   },
   {
    "duration": 28,
    "start_time": "2022-07-05T14:07:40.194Z"
   },
   {
    "duration": 23,
    "start_time": "2022-07-05T14:07:40.224Z"
   },
   {
    "duration": 17,
    "start_time": "2022-07-05T14:07:40.249Z"
   },
   {
    "duration": 69,
    "start_time": "2022-07-05T14:07:40.267Z"
   },
   {
    "duration": 45,
    "start_time": "2022-07-05T14:07:40.337Z"
   },
   {
    "duration": 62,
    "start_time": "2022-07-05T14:07:40.383Z"
   },
   {
    "duration": 19,
    "start_time": "2022-07-05T14:07:40.446Z"
   },
   {
    "duration": 27,
    "start_time": "2022-07-05T14:07:40.466Z"
   },
   {
    "duration": 68,
    "start_time": "2022-07-05T14:07:40.495Z"
   },
   {
    "duration": 431,
    "start_time": "2022-07-05T14:07:40.567Z"
   },
   {
    "duration": 12,
    "start_time": "2022-07-05T14:07:41.000Z"
   },
   {
    "duration": 15,
    "start_time": "2022-07-05T14:07:41.023Z"
   },
   {
    "duration": 20,
    "start_time": "2022-07-05T14:07:41.040Z"
   },
   {
    "duration": 28,
    "start_time": "2022-07-05T14:07:41.062Z"
   },
   {
    "duration": 28,
    "start_time": "2022-07-05T14:07:41.092Z"
   },
   {
    "duration": 25,
    "start_time": "2022-07-05T14:07:41.122Z"
   },
   {
    "duration": 13,
    "start_time": "2022-07-05T14:07:41.149Z"
   },
   {
    "duration": 15,
    "start_time": "2022-07-05T14:07:41.164Z"
   },
   {
    "duration": 25,
    "start_time": "2022-07-05T14:07:41.180Z"
   },
   {
    "duration": 167,
    "start_time": "2022-07-05T14:07:41.207Z"
   },
   {
    "duration": 138,
    "start_time": "2022-07-05T14:07:41.376Z"
   },
   {
    "duration": 134,
    "start_time": "2022-07-05T14:07:41.515Z"
   },
   {
    "duration": 7,
    "start_time": "2022-07-05T14:07:41.651Z"
   },
   {
    "duration": 26,
    "start_time": "2022-07-05T14:07:41.660Z"
   },
   {
    "duration": 16,
    "start_time": "2022-07-05T14:07:41.688Z"
   },
   {
    "duration": 25,
    "start_time": "2022-07-05T14:07:41.706Z"
   },
   {
    "duration": 21,
    "start_time": "2022-07-05T14:07:41.733Z"
   },
   {
    "duration": 13,
    "start_time": "2022-07-05T14:07:41.756Z"
   },
   {
    "duration": 32,
    "start_time": "2022-07-05T14:07:41.771Z"
   },
   {
    "duration": 5,
    "start_time": "2022-07-05T14:07:41.805Z"
   },
   {
    "duration": 37,
    "start_time": "2022-07-05T14:07:41.811Z"
   },
   {
    "duration": 174,
    "start_time": "2022-07-05T14:07:41.850Z"
   },
   {
    "duration": 5,
    "start_time": "2022-07-05T14:07:42.025Z"
   },
   {
    "duration": 141,
    "start_time": "2022-07-05T14:07:42.031Z"
   },
   {
    "duration": 124,
    "start_time": "2022-07-05T14:07:42.174Z"
   },
   {
    "duration": 7,
    "start_time": "2022-07-05T14:07:42.300Z"
   },
   {
    "duration": 43,
    "start_time": "2022-07-05T14:07:42.311Z"
   },
   {
    "duration": 210,
    "start_time": "2022-07-05T14:07:42.356Z"
   },
   {
    "duration": 5,
    "start_time": "2022-07-05T14:07:42.567Z"
   },
   {
    "duration": 201,
    "start_time": "2022-07-05T14:07:42.574Z"
   },
   {
    "duration": 4,
    "start_time": "2022-07-05T14:07:42.777Z"
   },
   {
    "duration": 959,
    "start_time": "2022-07-05T14:07:42.782Z"
   },
   {
    "duration": 4,
    "start_time": "2022-07-05T14:07:43.742Z"
   },
   {
    "duration": 863,
    "start_time": "2022-07-05T14:07:43.747Z"
   },
   {
    "duration": 4,
    "start_time": "2022-07-05T14:07:44.612Z"
   },
   {
    "duration": 663,
    "start_time": "2022-07-05T14:07:44.617Z"
   },
   {
    "duration": 4,
    "start_time": "2022-07-05T14:07:45.282Z"
   },
   {
    "duration": 40,
    "start_time": "2022-07-05T14:07:45.288Z"
   },
   {
    "duration": 334,
    "start_time": "2022-07-05T14:07:45.330Z"
   },
   {
    "duration": 256,
    "start_time": "2022-07-05T14:07:45.666Z"
   },
   {
    "duration": 11,
    "start_time": "2022-07-05T14:07:45.924Z"
   },
   {
    "duration": 23,
    "start_time": "2022-07-05T14:07:45.937Z"
   },
   {
    "duration": 26,
    "start_time": "2022-07-05T14:07:45.961Z"
   },
   {
    "duration": 34,
    "start_time": "2022-07-05T14:07:45.989Z"
   },
   {
    "duration": 16,
    "start_time": "2022-07-05T14:07:46.025Z"
   },
   {
    "duration": 17,
    "start_time": "2022-07-05T14:07:46.042Z"
   },
   {
    "duration": 13,
    "start_time": "2022-07-05T14:07:46.061Z"
   },
   {
    "duration": 30,
    "start_time": "2022-07-05T14:07:46.075Z"
   },
   {
    "duration": 27,
    "start_time": "2022-07-05T14:07:46.106Z"
   },
   {
    "duration": 16,
    "start_time": "2022-07-05T14:07:46.135Z"
   },
   {
    "duration": 20,
    "start_time": "2022-07-05T14:07:46.153Z"
   },
   {
    "duration": 45,
    "start_time": "2022-07-05T14:07:46.175Z"
   },
   {
    "duration": 6,
    "start_time": "2022-07-05T14:07:46.221Z"
   },
   {
    "duration": 34,
    "start_time": "2022-07-05T14:07:46.228Z"
   },
   {
    "duration": 21,
    "start_time": "2022-07-05T14:07:46.264Z"
   },
   {
    "duration": 28,
    "start_time": "2022-07-05T14:07:46.286Z"
   },
   {
    "duration": 24,
    "start_time": "2022-07-05T14:07:46.317Z"
   },
   {
    "duration": 7,
    "start_time": "2022-07-05T14:07:46.343Z"
   },
   {
    "duration": 24,
    "start_time": "2022-07-05T14:07:46.352Z"
   },
   {
    "duration": 1430,
    "start_time": "2022-07-05T14:07:46.377Z"
   },
   {
    "duration": 50,
    "start_time": "2022-07-08T08:49:02.669Z"
   },
   {
    "duration": 1304,
    "start_time": "2022-07-08T08:49:08.319Z"
   },
   {
    "duration": 58,
    "start_time": "2022-07-08T08:49:09.626Z"
   },
   {
    "duration": 256,
    "start_time": "2022-07-08T08:49:09.686Z"
   },
   {
    "duration": 18,
    "start_time": "2022-07-08T08:49:09.944Z"
   },
   {
    "duration": 11,
    "start_time": "2022-07-08T08:49:09.964Z"
   },
   {
    "duration": 30,
    "start_time": "2022-07-08T08:49:09.976Z"
   },
   {
    "duration": 9,
    "start_time": "2022-07-08T08:49:10.008Z"
   },
   {
    "duration": 17,
    "start_time": "2022-07-08T08:49:10.019Z"
   },
   {
    "duration": 32,
    "start_time": "2022-07-08T08:49:10.037Z"
   },
   {
    "duration": 87,
    "start_time": "2022-07-08T08:49:10.071Z"
   },
   {
    "duration": 18,
    "start_time": "2022-07-08T08:49:10.160Z"
   },
   {
    "duration": 30,
    "start_time": "2022-07-08T08:49:10.180Z"
   },
   {
    "duration": 54,
    "start_time": "2022-07-08T08:49:10.211Z"
   },
   {
    "duration": 109,
    "start_time": "2022-07-08T08:49:10.268Z"
   },
   {
    "duration": 0,
    "start_time": "2022-07-08T08:49:10.380Z"
   },
   {
    "duration": 0,
    "start_time": "2022-07-08T08:49:10.381Z"
   },
   {
    "duration": 1,
    "start_time": "2022-07-08T08:49:10.382Z"
   },
   {
    "duration": 0,
    "start_time": "2022-07-08T08:49:10.384Z"
   },
   {
    "duration": 0,
    "start_time": "2022-07-08T08:49:10.385Z"
   },
   {
    "duration": 0,
    "start_time": "2022-07-08T08:49:10.387Z"
   },
   {
    "duration": 0,
    "start_time": "2022-07-08T08:49:10.388Z"
   },
   {
    "duration": 0,
    "start_time": "2022-07-08T08:49:10.403Z"
   },
   {
    "duration": 0,
    "start_time": "2022-07-08T08:49:10.405Z"
   },
   {
    "duration": 0,
    "start_time": "2022-07-08T08:49:10.406Z"
   },
   {
    "duration": 0,
    "start_time": "2022-07-08T08:49:10.407Z"
   },
   {
    "duration": 0,
    "start_time": "2022-07-08T08:49:10.409Z"
   },
   {
    "duration": 0,
    "start_time": "2022-07-08T08:49:10.410Z"
   },
   {
    "duration": 0,
    "start_time": "2022-07-08T08:49:10.412Z"
   },
   {
    "duration": 0,
    "start_time": "2022-07-08T08:49:10.413Z"
   },
   {
    "duration": 0,
    "start_time": "2022-07-08T08:49:10.415Z"
   },
   {
    "duration": 0,
    "start_time": "2022-07-08T08:49:10.416Z"
   },
   {
    "duration": 0,
    "start_time": "2022-07-08T08:49:10.418Z"
   },
   {
    "duration": 0,
    "start_time": "2022-07-08T08:49:10.419Z"
   },
   {
    "duration": 1,
    "start_time": "2022-07-08T08:49:10.420Z"
   },
   {
    "duration": 0,
    "start_time": "2022-07-08T08:49:10.422Z"
   },
   {
    "duration": 0,
    "start_time": "2022-07-08T08:49:10.424Z"
   },
   {
    "duration": 0,
    "start_time": "2022-07-08T08:49:10.425Z"
   },
   {
    "duration": 0,
    "start_time": "2022-07-08T08:49:10.427Z"
   },
   {
    "duration": 0,
    "start_time": "2022-07-08T08:49:10.427Z"
   },
   {
    "duration": 0,
    "start_time": "2022-07-08T08:49:10.429Z"
   },
   {
    "duration": 1,
    "start_time": "2022-07-08T08:49:10.429Z"
   },
   {
    "duration": 0,
    "start_time": "2022-07-08T08:49:10.431Z"
   },
   {
    "duration": 0,
    "start_time": "2022-07-08T08:49:10.432Z"
   },
   {
    "duration": 0,
    "start_time": "2022-07-08T08:49:10.433Z"
   },
   {
    "duration": 0,
    "start_time": "2022-07-08T08:49:10.434Z"
   },
   {
    "duration": 0,
    "start_time": "2022-07-08T08:49:10.435Z"
   },
   {
    "duration": 0,
    "start_time": "2022-07-08T08:49:10.437Z"
   },
   {
    "duration": 0,
    "start_time": "2022-07-08T08:49:10.438Z"
   },
   {
    "duration": 0,
    "start_time": "2022-07-08T08:49:10.439Z"
   },
   {
    "duration": 0,
    "start_time": "2022-07-08T08:49:10.440Z"
   },
   {
    "duration": 0,
    "start_time": "2022-07-08T08:49:10.504Z"
   },
   {
    "duration": 0,
    "start_time": "2022-07-08T08:49:10.505Z"
   },
   {
    "duration": 0,
    "start_time": "2022-07-08T08:49:10.506Z"
   },
   {
    "duration": 0,
    "start_time": "2022-07-08T08:49:10.507Z"
   },
   {
    "duration": 0,
    "start_time": "2022-07-08T08:49:10.508Z"
   },
   {
    "duration": 0,
    "start_time": "2022-07-08T08:49:10.509Z"
   },
   {
    "duration": 0,
    "start_time": "2022-07-08T08:49:10.510Z"
   },
   {
    "duration": 0,
    "start_time": "2022-07-08T08:49:10.511Z"
   },
   {
    "duration": 0,
    "start_time": "2022-07-08T08:49:10.512Z"
   },
   {
    "duration": 0,
    "start_time": "2022-07-08T08:49:10.513Z"
   },
   {
    "duration": 0,
    "start_time": "2022-07-08T08:49:10.514Z"
   },
   {
    "duration": 0,
    "start_time": "2022-07-08T08:49:10.515Z"
   },
   {
    "duration": 0,
    "start_time": "2022-07-08T08:49:10.515Z"
   },
   {
    "duration": 0,
    "start_time": "2022-07-08T08:49:10.516Z"
   },
   {
    "duration": 0,
    "start_time": "2022-07-08T08:49:10.517Z"
   },
   {
    "duration": 0,
    "start_time": "2022-07-08T08:49:10.519Z"
   },
   {
    "duration": 0,
    "start_time": "2022-07-08T08:49:10.520Z"
   },
   {
    "duration": 0,
    "start_time": "2022-07-08T08:49:10.521Z"
   },
   {
    "duration": 0,
    "start_time": "2022-07-08T08:49:10.522Z"
   },
   {
    "duration": 0,
    "start_time": "2022-07-08T08:49:10.522Z"
   },
   {
    "duration": 0,
    "start_time": "2022-07-08T08:49:10.524Z"
   },
   {
    "duration": 0,
    "start_time": "2022-07-08T08:49:10.525Z"
   },
   {
    "duration": 0,
    "start_time": "2022-07-08T08:49:10.526Z"
   },
   {
    "duration": 0,
    "start_time": "2022-07-08T08:49:10.527Z"
   },
   {
    "duration": 1191,
    "start_time": "2022-07-08T08:51:31.587Z"
   },
   {
    "duration": 60,
    "start_time": "2022-07-08T08:51:32.779Z"
   },
   {
    "duration": 190,
    "start_time": "2022-07-08T08:51:32.841Z"
   },
   {
    "duration": 19,
    "start_time": "2022-07-08T08:51:33.033Z"
   },
   {
    "duration": 12,
    "start_time": "2022-07-08T08:51:33.053Z"
   },
   {
    "duration": 10,
    "start_time": "2022-07-08T08:51:33.066Z"
   },
   {
    "duration": 27,
    "start_time": "2022-07-08T08:51:33.078Z"
   },
   {
    "duration": 12,
    "start_time": "2022-07-08T08:51:33.106Z"
   },
   {
    "duration": 28,
    "start_time": "2022-07-08T08:51:33.119Z"
   },
   {
    "duration": 76,
    "start_time": "2022-07-08T08:51:33.150Z"
   },
   {
    "duration": 17,
    "start_time": "2022-07-08T08:51:33.228Z"
   },
   {
    "duration": 14,
    "start_time": "2022-07-08T08:51:33.246Z"
   },
   {
    "duration": 70,
    "start_time": "2022-07-08T08:51:33.261Z"
   },
   {
    "duration": 9,
    "start_time": "2022-07-08T08:51:33.332Z"
   },
   {
    "duration": 30,
    "start_time": "2022-07-08T08:51:33.343Z"
   },
   {
    "duration": 30,
    "start_time": "2022-07-08T08:51:33.374Z"
   },
   {
    "duration": 10,
    "start_time": "2022-07-08T08:51:33.406Z"
   },
   {
    "duration": 12,
    "start_time": "2022-07-08T08:51:33.418Z"
   },
   {
    "duration": 19,
    "start_time": "2022-07-08T08:51:33.432Z"
   },
   {
    "duration": 23,
    "start_time": "2022-07-08T08:51:33.453Z"
   },
   {
    "duration": 30,
    "start_time": "2022-07-08T08:51:33.478Z"
   },
   {
    "duration": 9,
    "start_time": "2022-07-08T08:51:33.509Z"
   },
   {
    "duration": 7,
    "start_time": "2022-07-08T08:51:33.519Z"
   },
   {
    "duration": 137,
    "start_time": "2022-07-08T08:51:33.527Z"
   },
   {
    "duration": 143,
    "start_time": "2022-07-08T08:51:33.666Z"
   },
   {
    "duration": 122,
    "start_time": "2022-07-08T08:51:33.810Z"
   },
   {
    "duration": 8,
    "start_time": "2022-07-08T08:51:33.933Z"
   },
   {
    "duration": 22,
    "start_time": "2022-07-08T08:51:33.945Z"
   },
   {
    "duration": 12,
    "start_time": "2022-07-08T08:51:33.968Z"
   },
   {
    "duration": 23,
    "start_time": "2022-07-08T08:51:33.981Z"
   },
   {
    "duration": 14,
    "start_time": "2022-07-08T08:51:34.006Z"
   },
   {
    "duration": 13,
    "start_time": "2022-07-08T08:51:34.021Z"
   },
   {
    "duration": 18,
    "start_time": "2022-07-08T08:51:34.035Z"
   },
   {
    "duration": 4,
    "start_time": "2022-07-08T08:51:34.055Z"
   },
   {
    "duration": 15,
    "start_time": "2022-07-08T08:51:34.061Z"
   },
   {
    "duration": 165,
    "start_time": "2022-07-08T08:51:34.078Z"
   },
   {
    "duration": 5,
    "start_time": "2022-07-08T08:51:34.244Z"
   },
   {
    "duration": 132,
    "start_time": "2022-07-08T08:51:34.250Z"
   },
   {
    "duration": 136,
    "start_time": "2022-07-08T08:51:34.383Z"
   },
   {
    "duration": 7,
    "start_time": "2022-07-08T08:51:34.520Z"
   },
   {
    "duration": 17,
    "start_time": "2022-07-08T08:51:34.529Z"
   },
   {
    "duration": 218,
    "start_time": "2022-07-08T08:51:34.548Z"
   },
   {
    "duration": 4,
    "start_time": "2022-07-08T08:51:34.767Z"
   },
   {
    "duration": 194,
    "start_time": "2022-07-08T08:51:34.773Z"
   },
   {
    "duration": 4,
    "start_time": "2022-07-08T08:51:34.968Z"
   },
   {
    "duration": 957,
    "start_time": "2022-07-08T08:51:34.974Z"
   },
   {
    "duration": 4,
    "start_time": "2022-07-08T08:51:35.933Z"
   },
   {
    "duration": 895,
    "start_time": "2022-07-08T08:51:35.939Z"
   },
   {
    "duration": 4,
    "start_time": "2022-07-08T08:51:36.836Z"
   },
   {
    "duration": 651,
    "start_time": "2022-07-08T08:51:36.841Z"
   },
   {
    "duration": 5,
    "start_time": "2022-07-08T08:51:37.494Z"
   },
   {
    "duration": 57,
    "start_time": "2022-07-08T08:51:37.504Z"
   },
   {
    "duration": 328,
    "start_time": "2022-07-08T08:51:37.562Z"
   },
   {
    "duration": 266,
    "start_time": "2022-07-08T08:51:37.891Z"
   },
   {
    "duration": 12,
    "start_time": "2022-07-08T08:51:38.158Z"
   },
   {
    "duration": 10,
    "start_time": "2022-07-08T08:51:38.172Z"
   },
   {
    "duration": 30,
    "start_time": "2022-07-08T08:51:38.184Z"
   },
   {
    "duration": 7,
    "start_time": "2022-07-08T08:51:38.216Z"
   },
   {
    "duration": 7,
    "start_time": "2022-07-08T08:51:38.225Z"
   },
   {
    "duration": 5,
    "start_time": "2022-07-08T08:51:38.233Z"
   },
   {
    "duration": 9,
    "start_time": "2022-07-08T08:51:38.240Z"
   },
   {
    "duration": 7,
    "start_time": "2022-07-08T08:51:38.250Z"
   },
   {
    "duration": 10,
    "start_time": "2022-07-08T08:51:38.258Z"
   },
   {
    "duration": 36,
    "start_time": "2022-07-08T08:51:38.270Z"
   },
   {
    "duration": 7,
    "start_time": "2022-07-08T08:51:38.308Z"
   },
   {
    "duration": 20,
    "start_time": "2022-07-08T08:51:38.316Z"
   },
   {
    "duration": 6,
    "start_time": "2022-07-08T08:51:38.337Z"
   },
   {
    "duration": 9,
    "start_time": "2022-07-08T08:51:38.344Z"
   },
   {
    "duration": 7,
    "start_time": "2022-07-08T08:51:38.354Z"
   },
   {
    "duration": 43,
    "start_time": "2022-07-08T08:51:38.363Z"
   },
   {
    "duration": 5,
    "start_time": "2022-07-08T08:51:38.408Z"
   },
   {
    "duration": 8,
    "start_time": "2022-07-08T08:51:38.414Z"
   },
   {
    "duration": 5,
    "start_time": "2022-07-08T08:51:38.423Z"
   },
   {
    "duration": 1265,
    "start_time": "2022-07-08T08:51:38.430Z"
   },
   {
    "duration": 19,
    "start_time": "2022-07-08T08:52:19.779Z"
   },
   {
    "duration": 78,
    "start_time": "2022-07-08T08:56:02.193Z"
   },
   {
    "duration": 8,
    "start_time": "2022-07-08T08:58:17.151Z"
   },
   {
    "duration": 23,
    "start_time": "2022-07-08T08:58:24.016Z"
   },
   {
    "duration": 27,
    "start_time": "2022-07-08T08:58:37.824Z"
   },
   {
    "duration": 1168,
    "start_time": "2022-07-08T08:59:24.341Z"
   },
   {
    "duration": 104,
    "start_time": "2022-07-08T08:59:25.512Z"
   },
   {
    "duration": 207,
    "start_time": "2022-07-08T08:59:25.618Z"
   },
   {
    "duration": 20,
    "start_time": "2022-07-08T08:59:25.827Z"
   },
   {
    "duration": 12,
    "start_time": "2022-07-08T08:59:25.849Z"
   },
   {
    "duration": 11,
    "start_time": "2022-07-08T08:59:25.863Z"
   },
   {
    "duration": 31,
    "start_time": "2022-07-08T08:59:25.876Z"
   },
   {
    "duration": 16,
    "start_time": "2022-07-08T08:59:25.909Z"
   },
   {
    "duration": 31,
    "start_time": "2022-07-08T08:59:25.927Z"
   },
   {
    "duration": 78,
    "start_time": "2022-07-08T08:59:25.959Z"
   },
   {
    "duration": 17,
    "start_time": "2022-07-08T08:59:26.039Z"
   },
   {
    "duration": 15,
    "start_time": "2022-07-08T08:59:26.058Z"
   },
   {
    "duration": 84,
    "start_time": "2022-07-08T08:59:26.075Z"
   },
   {
    "duration": 11,
    "start_time": "2022-07-08T08:59:26.162Z"
   },
   {
    "duration": 8,
    "start_time": "2022-07-08T08:59:26.174Z"
   },
   {
    "duration": 28,
    "start_time": "2022-07-08T08:59:26.183Z"
   },
   {
    "duration": 14,
    "start_time": "2022-07-08T08:59:26.213Z"
   },
   {
    "duration": 9,
    "start_time": "2022-07-08T08:59:26.229Z"
   },
   {
    "duration": 12,
    "start_time": "2022-07-08T08:59:26.240Z"
   },
   {
    "duration": 22,
    "start_time": "2022-07-08T08:59:26.254Z"
   },
   {
    "duration": 44,
    "start_time": "2022-07-08T08:59:26.278Z"
   },
   {
    "duration": 7,
    "start_time": "2022-07-08T08:59:26.323Z"
   },
   {
    "duration": 4,
    "start_time": "2022-07-08T08:59:26.332Z"
   },
   {
    "duration": 5,
    "start_time": "2022-07-08T08:59:26.338Z"
   },
   {
    "duration": 171,
    "start_time": "2022-07-08T08:59:26.344Z"
   },
   {
    "duration": 175,
    "start_time": "2022-07-08T08:59:26.518Z"
   },
   {
    "duration": 132,
    "start_time": "2022-07-08T08:59:26.695Z"
   },
   {
    "duration": 9,
    "start_time": "2022-07-08T08:59:26.829Z"
   },
   {
    "duration": 21,
    "start_time": "2022-07-08T08:59:26.839Z"
   },
   {
    "duration": 10,
    "start_time": "2022-07-08T08:59:26.862Z"
   },
   {
    "duration": 8,
    "start_time": "2022-07-08T08:59:26.873Z"
   },
   {
    "duration": 34,
    "start_time": "2022-07-08T08:59:26.882Z"
   },
   {
    "duration": 11,
    "start_time": "2022-07-08T08:59:26.918Z"
   },
   {
    "duration": 22,
    "start_time": "2022-07-08T08:59:26.930Z"
   },
   {
    "duration": 5,
    "start_time": "2022-07-08T08:59:26.953Z"
   },
   {
    "duration": 15,
    "start_time": "2022-07-08T08:59:26.959Z"
   },
   {
    "duration": 139,
    "start_time": "2022-07-08T08:59:26.975Z"
   },
   {
    "duration": 4,
    "start_time": "2022-07-08T08:59:27.116Z"
   },
   {
    "duration": 129,
    "start_time": "2022-07-08T08:59:27.121Z"
   },
   {
    "duration": 125,
    "start_time": "2022-07-08T08:59:27.252Z"
   },
   {
    "duration": 7,
    "start_time": "2022-07-08T08:59:27.381Z"
   },
   {
    "duration": 21,
    "start_time": "2022-07-08T08:59:27.389Z"
   },
   {
    "duration": 197,
    "start_time": "2022-07-08T08:59:27.412Z"
   },
   {
    "duration": 4,
    "start_time": "2022-07-08T08:59:27.610Z"
   },
   {
    "duration": 196,
    "start_time": "2022-07-08T08:59:27.616Z"
   },
   {
    "duration": 4,
    "start_time": "2022-07-08T08:59:27.813Z"
   },
   {
    "duration": 950,
    "start_time": "2022-07-08T08:59:27.818Z"
   },
   {
    "duration": 3,
    "start_time": "2022-07-08T08:59:28.769Z"
   },
   {
    "duration": 813,
    "start_time": "2022-07-08T08:59:28.774Z"
   },
   {
    "duration": 3,
    "start_time": "2022-07-08T08:59:29.588Z"
   },
   {
    "duration": 684,
    "start_time": "2022-07-08T08:59:29.592Z"
   },
   {
    "duration": 5,
    "start_time": "2022-07-08T08:59:30.277Z"
   },
   {
    "duration": 56,
    "start_time": "2022-07-08T08:59:30.283Z"
   },
   {
    "duration": 324,
    "start_time": "2022-07-08T08:59:30.341Z"
   },
   {
    "duration": 259,
    "start_time": "2022-07-08T08:59:30.667Z"
   },
   {
    "duration": 12,
    "start_time": "2022-07-08T08:59:30.928Z"
   },
   {
    "duration": 18,
    "start_time": "2022-07-08T08:59:30.942Z"
   },
   {
    "duration": 15,
    "start_time": "2022-07-08T08:59:30.962Z"
   },
   {
    "duration": 43,
    "start_time": "2022-07-08T08:59:30.979Z"
   },
   {
    "duration": 22,
    "start_time": "2022-07-08T08:59:31.023Z"
   },
   {
    "duration": 32,
    "start_time": "2022-07-08T08:59:31.046Z"
   },
   {
    "duration": 65,
    "start_time": "2022-07-08T08:59:31.080Z"
   },
   {
    "duration": 27,
    "start_time": "2022-07-08T08:59:31.147Z"
   },
   {
    "duration": 15,
    "start_time": "2022-07-08T08:59:31.176Z"
   },
   {
    "duration": 10,
    "start_time": "2022-07-08T08:59:31.193Z"
   },
   {
    "duration": 13,
    "start_time": "2022-07-08T08:59:31.204Z"
   },
   {
    "duration": 19,
    "start_time": "2022-07-08T08:59:31.218Z"
   },
   {
    "duration": 6,
    "start_time": "2022-07-08T08:59:31.238Z"
   },
   {
    "duration": 14,
    "start_time": "2022-07-08T08:59:31.246Z"
   },
   {
    "duration": 17,
    "start_time": "2022-07-08T08:59:31.262Z"
   },
   {
    "duration": 22,
    "start_time": "2022-07-08T08:59:31.280Z"
   },
   {
    "duration": 5,
    "start_time": "2022-07-08T08:59:31.303Z"
   },
   {
    "duration": 7,
    "start_time": "2022-07-08T08:59:31.309Z"
   },
   {
    "duration": 6,
    "start_time": "2022-07-08T08:59:31.318Z"
   },
   {
    "duration": 1201,
    "start_time": "2022-07-08T08:59:31.325Z"
   },
   {
    "duration": 13,
    "start_time": "2022-07-08T09:02:04.537Z"
   },
   {
    "duration": 1138,
    "start_time": "2022-07-08T09:02:10.737Z"
   },
   {
    "duration": 60,
    "start_time": "2022-07-08T09:02:11.877Z"
   },
   {
    "duration": 229,
    "start_time": "2022-07-08T09:02:11.939Z"
   },
   {
    "duration": 20,
    "start_time": "2022-07-08T09:02:12.170Z"
   },
   {
    "duration": 15,
    "start_time": "2022-07-08T09:02:12.192Z"
   },
   {
    "duration": 11,
    "start_time": "2022-07-08T09:02:12.208Z"
   },
   {
    "duration": 8,
    "start_time": "2022-07-08T09:02:12.220Z"
   },
   {
    "duration": 15,
    "start_time": "2022-07-08T09:02:12.229Z"
   },
   {
    "duration": 28,
    "start_time": "2022-07-08T09:02:12.246Z"
   },
   {
    "duration": 77,
    "start_time": "2022-07-08T09:02:12.276Z"
   },
   {
    "duration": 17,
    "start_time": "2022-07-08T09:02:12.355Z"
   },
   {
    "duration": 14,
    "start_time": "2022-07-08T09:02:12.373Z"
   },
   {
    "duration": 53,
    "start_time": "2022-07-08T09:02:12.404Z"
   },
   {
    "duration": 9,
    "start_time": "2022-07-08T09:02:12.460Z"
   },
   {
    "duration": 8,
    "start_time": "2022-07-08T09:02:12.471Z"
   },
   {
    "duration": 32,
    "start_time": "2022-07-08T09:02:12.481Z"
   },
   {
    "duration": 16,
    "start_time": "2022-07-08T09:02:12.515Z"
   },
   {
    "duration": 9,
    "start_time": "2022-07-08T09:02:12.532Z"
   },
   {
    "duration": 13,
    "start_time": "2022-07-08T09:02:12.543Z"
   },
   {
    "duration": 25,
    "start_time": "2022-07-08T09:02:12.558Z"
   },
   {
    "duration": 40,
    "start_time": "2022-07-08T09:02:12.585Z"
   },
   {
    "duration": 5,
    "start_time": "2022-07-08T09:02:12.626Z"
   },
   {
    "duration": 8,
    "start_time": "2022-07-08T09:02:12.633Z"
   },
   {
    "duration": 5,
    "start_time": "2022-07-08T09:02:12.643Z"
   },
   {
    "duration": 156,
    "start_time": "2022-07-08T09:02:12.650Z"
   },
   {
    "duration": 143,
    "start_time": "2022-07-08T09:02:12.808Z"
   },
   {
    "duration": 131,
    "start_time": "2022-07-08T09:02:12.953Z"
   },
   {
    "duration": 20,
    "start_time": "2022-07-08T09:02:13.087Z"
   },
   {
    "duration": 24,
    "start_time": "2022-07-08T09:02:13.109Z"
   },
   {
    "duration": 12,
    "start_time": "2022-07-08T09:02:13.135Z"
   },
   {
    "duration": 7,
    "start_time": "2022-07-08T09:02:13.148Z"
   },
   {
    "duration": 14,
    "start_time": "2022-07-08T09:02:13.157Z"
   },
   {
    "duration": 32,
    "start_time": "2022-07-08T09:02:13.172Z"
   },
   {
    "duration": 14,
    "start_time": "2022-07-08T09:02:13.205Z"
   },
   {
    "duration": 5,
    "start_time": "2022-07-08T09:02:13.220Z"
   },
   {
    "duration": 16,
    "start_time": "2022-07-08T09:02:13.227Z"
   },
   {
    "duration": 143,
    "start_time": "2022-07-08T09:02:13.245Z"
   },
   {
    "duration": 3,
    "start_time": "2022-07-08T09:02:13.390Z"
   },
   {
    "duration": 136,
    "start_time": "2022-07-08T09:02:13.394Z"
   },
   {
    "duration": 120,
    "start_time": "2022-07-08T09:02:13.531Z"
   },
   {
    "duration": 6,
    "start_time": "2022-07-08T09:02:13.655Z"
   },
   {
    "duration": 14,
    "start_time": "2022-07-08T09:02:13.662Z"
   },
   {
    "duration": 248,
    "start_time": "2022-07-08T09:02:13.677Z"
   },
   {
    "duration": 3,
    "start_time": "2022-07-08T09:02:13.927Z"
   },
   {
    "duration": 205,
    "start_time": "2022-07-08T09:02:13.932Z"
   },
   {
    "duration": 4,
    "start_time": "2022-07-08T09:02:14.140Z"
   },
   {
    "duration": 772,
    "start_time": "2022-07-08T09:02:14.145Z"
   },
   {
    "duration": 4,
    "start_time": "2022-07-08T09:02:14.918Z"
   },
   {
    "duration": 750,
    "start_time": "2022-07-08T09:02:14.923Z"
   },
   {
    "duration": 3,
    "start_time": "2022-07-08T09:02:15.675Z"
   },
   {
    "duration": 534,
    "start_time": "2022-07-08T09:02:15.679Z"
   },
   {
    "duration": 5,
    "start_time": "2022-07-08T09:02:16.215Z"
   },
   {
    "duration": 32,
    "start_time": "2022-07-08T09:02:16.221Z"
   },
   {
    "duration": 366,
    "start_time": "2022-07-08T09:02:16.255Z"
   },
   {
    "duration": 315,
    "start_time": "2022-07-08T09:02:16.623Z"
   },
   {
    "duration": 11,
    "start_time": "2022-07-08T09:02:16.940Z"
   },
   {
    "duration": 10,
    "start_time": "2022-07-08T09:02:16.953Z"
   },
   {
    "duration": 13,
    "start_time": "2022-07-08T09:02:16.965Z"
   },
   {
    "duration": 28,
    "start_time": "2022-07-08T09:02:16.979Z"
   },
   {
    "duration": 13,
    "start_time": "2022-07-08T09:02:17.009Z"
   },
   {
    "duration": 7,
    "start_time": "2022-07-08T09:02:17.024Z"
   },
   {
    "duration": 9,
    "start_time": "2022-07-08T09:02:17.032Z"
   },
   {
    "duration": 6,
    "start_time": "2022-07-08T09:02:17.043Z"
   },
   {
    "duration": 10,
    "start_time": "2022-07-08T09:02:17.051Z"
   },
   {
    "duration": 5,
    "start_time": "2022-07-08T09:02:17.062Z"
   },
   {
    "duration": 6,
    "start_time": "2022-07-08T09:02:17.069Z"
   },
   {
    "duration": 80,
    "start_time": "2022-07-08T09:02:17.104Z"
   },
   {
    "duration": 11,
    "start_time": "2022-07-08T09:02:17.186Z"
   },
   {
    "duration": 5,
    "start_time": "2022-07-08T09:02:17.205Z"
   },
   {
    "duration": 6,
    "start_time": "2022-07-08T09:02:17.212Z"
   },
   {
    "duration": 16,
    "start_time": "2022-07-08T09:02:17.220Z"
   },
   {
    "duration": 5,
    "start_time": "2022-07-08T09:02:17.238Z"
   },
   {
    "duration": 11,
    "start_time": "2022-07-08T09:02:17.245Z"
   },
   {
    "duration": 7,
    "start_time": "2022-07-08T09:02:17.258Z"
   },
   {
    "duration": 1052,
    "start_time": "2022-07-08T09:02:17.267Z"
   },
   {
    "duration": 74,
    "start_time": "2022-07-08T09:09:03.717Z"
   },
   {
    "duration": 80,
    "start_time": "2022-07-08T09:09:24.839Z"
   },
   {
    "duration": 128,
    "start_time": "2022-07-08T09:09:45.357Z"
   },
   {
    "duration": 121,
    "start_time": "2022-07-08T09:09:52.094Z"
   },
   {
    "duration": 123,
    "start_time": "2022-07-08T09:10:16.981Z"
   },
   {
    "duration": 126,
    "start_time": "2022-07-08T09:10:24.478Z"
   },
   {
    "duration": 97,
    "start_time": "2022-07-08T09:12:35.445Z"
   },
   {
    "duration": 100,
    "start_time": "2022-07-08T09:12:43.125Z"
   },
   {
    "duration": 19,
    "start_time": "2022-07-08T09:13:05.838Z"
   },
   {
    "duration": 12197,
    "start_time": "2022-07-08T09:13:09.180Z"
   },
   {
    "duration": 0,
    "start_time": "2022-07-08T09:15:21.339Z"
   },
   {
    "duration": 56775,
    "start_time": "2022-07-08T09:16:00.117Z"
   },
   {
    "duration": 5,
    "start_time": "2022-07-08T09:20:43.928Z"
   },
   {
    "duration": 4,
    "start_time": "2022-07-08T09:20:51.964Z"
   },
   {
    "duration": 4,
    "start_time": "2022-07-08T09:20:58.578Z"
   },
   {
    "duration": 18,
    "start_time": "2022-07-08T09:25:34.584Z"
   },
   {
    "duration": 40,
    "start_time": "2022-07-08T09:29:19.713Z"
   },
   {
    "duration": 47,
    "start_time": "2022-07-08T09:29:26.033Z"
   },
   {
    "duration": 45,
    "start_time": "2022-07-08T09:30:34.575Z"
   },
   {
    "duration": 1137,
    "start_time": "2022-07-08T09:30:42.739Z"
   },
   {
    "duration": 61,
    "start_time": "2022-07-08T09:30:43.878Z"
   },
   {
    "duration": 225,
    "start_time": "2022-07-08T09:30:43.941Z"
   },
   {
    "duration": 20,
    "start_time": "2022-07-08T09:30:44.168Z"
   },
   {
    "duration": 15,
    "start_time": "2022-07-08T09:30:44.189Z"
   },
   {
    "duration": 13,
    "start_time": "2022-07-08T09:30:44.206Z"
   },
   {
    "duration": 13,
    "start_time": "2022-07-08T09:30:44.221Z"
   },
   {
    "duration": 14,
    "start_time": "2022-07-08T09:30:44.236Z"
   },
   {
    "duration": 30,
    "start_time": "2022-07-08T09:30:44.252Z"
   },
   {
    "duration": 68,
    "start_time": "2022-07-08T09:30:44.284Z"
   },
   {
    "duration": 16,
    "start_time": "2022-07-08T09:30:44.354Z"
   },
   {
    "duration": 34,
    "start_time": "2022-07-08T09:30:44.372Z"
   },
   {
    "duration": 53,
    "start_time": "2022-07-08T09:30:44.407Z"
   },
   {
    "duration": 10,
    "start_time": "2022-07-08T09:30:44.462Z"
   },
   {
    "duration": 8,
    "start_time": "2022-07-08T09:30:44.473Z"
   },
   {
    "duration": 30,
    "start_time": "2022-07-08T09:30:44.483Z"
   },
   {
    "duration": 11,
    "start_time": "2022-07-08T09:30:44.515Z"
   },
   {
    "duration": 12,
    "start_time": "2022-07-08T09:30:44.528Z"
   },
   {
    "duration": 13,
    "start_time": "2022-07-08T09:30:44.541Z"
   },
   {
    "duration": 18,
    "start_time": "2022-07-08T09:30:44.556Z"
   },
   {
    "duration": 48,
    "start_time": "2022-07-08T09:30:44.576Z"
   },
   {
    "duration": 5,
    "start_time": "2022-07-08T09:30:44.625Z"
   },
   {
    "duration": 5,
    "start_time": "2022-07-08T09:30:44.632Z"
   },
   {
    "duration": 4,
    "start_time": "2022-07-08T09:30:44.639Z"
   },
   {
    "duration": 162,
    "start_time": "2022-07-08T09:30:44.644Z"
   },
   {
    "duration": 145,
    "start_time": "2022-07-08T09:30:44.808Z"
   },
   {
    "duration": 130,
    "start_time": "2022-07-08T09:30:44.954Z"
   },
   {
    "duration": 16,
    "start_time": "2022-07-08T09:30:45.088Z"
   },
   {
    "duration": 23,
    "start_time": "2022-07-08T09:30:45.106Z"
   },
   {
    "duration": 7,
    "start_time": "2022-07-08T09:30:45.131Z"
   },
   {
    "duration": 141,
    "start_time": "2022-07-08T09:30:45.140Z"
   },
   {
    "duration": 151,
    "start_time": "2022-07-08T09:30:45.283Z"
   },
   {
    "duration": 41,
    "start_time": "2022-07-08T09:30:45.436Z"
   },
   {
    "duration": 0,
    "start_time": "2022-07-08T09:30:45.479Z"
   },
   {
    "duration": 0,
    "start_time": "2022-07-08T09:30:45.480Z"
   },
   {
    "duration": 0,
    "start_time": "2022-07-08T09:30:45.482Z"
   },
   {
    "duration": 0,
    "start_time": "2022-07-08T09:30:45.483Z"
   },
   {
    "duration": 0,
    "start_time": "2022-07-08T09:30:45.484Z"
   },
   {
    "duration": 0,
    "start_time": "2022-07-08T09:30:45.485Z"
   },
   {
    "duration": 0,
    "start_time": "2022-07-08T09:30:45.486Z"
   },
   {
    "duration": 0,
    "start_time": "2022-07-08T09:30:45.487Z"
   },
   {
    "duration": 0,
    "start_time": "2022-07-08T09:30:45.488Z"
   },
   {
    "duration": 0,
    "start_time": "2022-07-08T09:30:45.489Z"
   },
   {
    "duration": 0,
    "start_time": "2022-07-08T09:30:45.490Z"
   },
   {
    "duration": 0,
    "start_time": "2022-07-08T09:30:45.491Z"
   },
   {
    "duration": 0,
    "start_time": "2022-07-08T09:30:45.493Z"
   },
   {
    "duration": 0,
    "start_time": "2022-07-08T09:30:45.494Z"
   },
   {
    "duration": 0,
    "start_time": "2022-07-08T09:30:45.495Z"
   },
   {
    "duration": 0,
    "start_time": "2022-07-08T09:30:45.496Z"
   },
   {
    "duration": 0,
    "start_time": "2022-07-08T09:30:45.497Z"
   },
   {
    "duration": 0,
    "start_time": "2022-07-08T09:30:45.498Z"
   },
   {
    "duration": 0,
    "start_time": "2022-07-08T09:30:45.499Z"
   },
   {
    "duration": 0,
    "start_time": "2022-07-08T09:30:45.503Z"
   },
   {
    "duration": 0,
    "start_time": "2022-07-08T09:30:45.504Z"
   },
   {
    "duration": 0,
    "start_time": "2022-07-08T09:30:45.505Z"
   },
   {
    "duration": 0,
    "start_time": "2022-07-08T09:30:45.506Z"
   },
   {
    "duration": 0,
    "start_time": "2022-07-08T09:30:45.508Z"
   },
   {
    "duration": 0,
    "start_time": "2022-07-08T09:30:45.509Z"
   },
   {
    "duration": 0,
    "start_time": "2022-07-08T09:30:45.510Z"
   },
   {
    "duration": 0,
    "start_time": "2022-07-08T09:30:45.511Z"
   },
   {
    "duration": 0,
    "start_time": "2022-07-08T09:30:45.512Z"
   },
   {
    "duration": 0,
    "start_time": "2022-07-08T09:30:45.512Z"
   },
   {
    "duration": 0,
    "start_time": "2022-07-08T09:30:45.514Z"
   },
   {
    "duration": 0,
    "start_time": "2022-07-08T09:30:45.514Z"
   },
   {
    "duration": 0,
    "start_time": "2022-07-08T09:30:45.515Z"
   },
   {
    "duration": 0,
    "start_time": "2022-07-08T09:30:45.517Z"
   },
   {
    "duration": 0,
    "start_time": "2022-07-08T09:30:45.518Z"
   },
   {
    "duration": 0,
    "start_time": "2022-07-08T09:30:45.519Z"
   },
   {
    "duration": 0,
    "start_time": "2022-07-08T09:30:45.520Z"
   },
   {
    "duration": 0,
    "start_time": "2022-07-08T09:30:45.521Z"
   },
   {
    "duration": 0,
    "start_time": "2022-07-08T09:30:45.522Z"
   },
   {
    "duration": 0,
    "start_time": "2022-07-08T09:30:45.522Z"
   },
   {
    "duration": 0,
    "start_time": "2022-07-08T09:30:45.523Z"
   },
   {
    "duration": 0,
    "start_time": "2022-07-08T09:30:45.524Z"
   },
   {
    "duration": 0,
    "start_time": "2022-07-08T09:30:45.525Z"
   },
   {
    "duration": 0,
    "start_time": "2022-07-08T09:30:45.526Z"
   },
   {
    "duration": 0,
    "start_time": "2022-07-08T09:30:45.527Z"
   },
   {
    "duration": 51,
    "start_time": "2022-07-08T09:31:41.781Z"
   },
   {
    "duration": 89,
    "start_time": "2022-07-08T09:31:49.365Z"
   },
   {
    "duration": 41,
    "start_time": "2022-07-08T09:32:05.949Z"
   },
   {
    "duration": 74,
    "start_time": "2022-07-08T09:32:24.156Z"
   },
   {
    "duration": 45,
    "start_time": "2022-07-08T09:33:01.261Z"
   },
   {
    "duration": 6,
    "start_time": "2022-07-08T09:33:13.061Z"
   },
   {
    "duration": 9,
    "start_time": "2022-07-08T09:33:34.476Z"
   },
   {
    "duration": 14,
    "start_time": "2022-07-08T09:33:43.580Z"
   },
   {
    "duration": 25,
    "start_time": "2022-07-08T09:34:24.449Z"
   },
   {
    "duration": 11,
    "start_time": "2022-07-08T09:34:25.076Z"
   },
   {
    "duration": 106,
    "start_time": "2022-07-08T09:34:28.706Z"
   },
   {
    "duration": 121,
    "start_time": "2022-07-08T09:34:30.709Z"
   },
   {
    "duration": 5,
    "start_time": "2022-07-08T09:34:33.772Z"
   },
   {
    "duration": 13,
    "start_time": "2022-07-08T09:34:34.748Z"
   },
   {
    "duration": 9,
    "start_time": "2022-07-08T09:34:45.460Z"
   },
   {
    "duration": 41,
    "start_time": "2022-07-08T09:36:41.474Z"
   },
   {
    "duration": 5,
    "start_time": "2022-07-08T09:36:48.747Z"
   },
   {
    "duration": 40,
    "start_time": "2022-07-08T09:37:33.796Z"
   },
   {
    "duration": 93,
    "start_time": "2022-07-08T09:37:39.523Z"
   },
   {
    "duration": 108,
    "start_time": "2022-07-08T09:39:30.045Z"
   },
   {
    "duration": 13,
    "start_time": "2022-07-08T09:39:31.045Z"
   },
   {
    "duration": 1387,
    "start_time": "2022-07-08T09:39:31.938Z"
   },
   {
    "duration": 106,
    "start_time": "2022-07-08T09:39:38.234Z"
   },
   {
    "duration": 6,
    "start_time": "2022-07-08T09:40:10.762Z"
   },
   {
    "duration": 10,
    "start_time": "2022-07-08T09:40:20.338Z"
   },
   {
    "duration": 5,
    "start_time": "2022-07-08T09:40:29.876Z"
   },
   {
    "duration": 11,
    "start_time": "2022-07-08T09:40:30.940Z"
   },
   {
    "duration": 1468,
    "start_time": "2022-07-08T09:44:34.090Z"
   },
   {
    "duration": 22,
    "start_time": "2022-07-08T09:44:45.995Z"
   },
   {
    "duration": 12,
    "start_time": "2022-07-08T09:44:46.473Z"
   },
   {
    "duration": 110,
    "start_time": "2022-07-08T09:44:47.025Z"
   },
   {
    "duration": 117,
    "start_time": "2022-07-08T09:44:48.929Z"
   },
   {
    "duration": 4,
    "start_time": "2022-07-08T09:44:50.762Z"
   },
   {
    "duration": 9,
    "start_time": "2022-07-08T09:44:59.681Z"
   },
   {
    "duration": 3,
    "start_time": "2022-07-08T09:45:11.969Z"
   },
   {
    "duration": 9,
    "start_time": "2022-07-08T09:45:13.009Z"
   },
   {
    "duration": 3,
    "start_time": "2022-07-08T09:46:39.178Z"
   },
   {
    "duration": 20,
    "start_time": "2022-07-08T09:46:40.641Z"
   },
   {
    "duration": 85,
    "start_time": "2022-07-08T09:47:21.784Z"
   },
   {
    "duration": 5,
    "start_time": "2022-07-08T09:47:31.850Z"
   },
   {
    "duration": 19,
    "start_time": "2022-07-08T09:47:32.768Z"
   },
   {
    "duration": 1220,
    "start_time": "2022-07-08T09:49:35.826Z"
   },
   {
    "duration": 58,
    "start_time": "2022-07-08T09:49:37.048Z"
   },
   {
    "duration": 189,
    "start_time": "2022-07-08T09:49:37.107Z"
   },
   {
    "duration": 20,
    "start_time": "2022-07-08T09:49:37.298Z"
   },
   {
    "duration": 12,
    "start_time": "2022-07-08T09:49:37.320Z"
   },
   {
    "duration": 10,
    "start_time": "2022-07-08T09:49:37.334Z"
   },
   {
    "duration": 10,
    "start_time": "2022-07-08T09:49:37.346Z"
   },
   {
    "duration": 14,
    "start_time": "2022-07-08T09:49:37.357Z"
   },
   {
    "duration": 53,
    "start_time": "2022-07-08T09:49:37.372Z"
   },
   {
    "duration": 53,
    "start_time": "2022-07-08T09:49:37.428Z"
   },
   {
    "duration": 32,
    "start_time": "2022-07-08T09:49:37.483Z"
   },
   {
    "duration": 13,
    "start_time": "2022-07-08T09:49:37.517Z"
   },
   {
    "duration": 54,
    "start_time": "2022-07-08T09:49:37.531Z"
   },
   {
    "duration": 26,
    "start_time": "2022-07-08T09:49:37.586Z"
   },
   {
    "duration": 9,
    "start_time": "2022-07-08T09:49:37.614Z"
   },
   {
    "duration": 11,
    "start_time": "2022-07-08T09:49:37.624Z"
   },
   {
    "duration": 13,
    "start_time": "2022-07-08T09:49:37.637Z"
   },
   {
    "duration": 9,
    "start_time": "2022-07-08T09:49:37.652Z"
   },
   {
    "duration": 45,
    "start_time": "2022-07-08T09:49:37.662Z"
   },
   {
    "duration": 16,
    "start_time": "2022-07-08T09:49:37.709Z"
   },
   {
    "duration": 24,
    "start_time": "2022-07-08T09:49:37.727Z"
   },
   {
    "duration": 5,
    "start_time": "2022-07-08T09:49:37.752Z"
   },
   {
    "duration": 5,
    "start_time": "2022-07-08T09:49:37.759Z"
   },
   {
    "duration": 7,
    "start_time": "2022-07-08T09:49:37.765Z"
   },
   {
    "duration": 165,
    "start_time": "2022-07-08T09:49:37.773Z"
   },
   {
    "duration": 145,
    "start_time": "2022-07-08T09:49:37.939Z"
   },
   {
    "duration": 135,
    "start_time": "2022-07-08T09:49:38.085Z"
   },
   {
    "duration": 8,
    "start_time": "2022-07-08T09:49:38.224Z"
   },
   {
    "duration": 23,
    "start_time": "2022-07-08T09:49:38.234Z"
   },
   {
    "duration": 7,
    "start_time": "2022-07-08T09:49:38.259Z"
   },
   {
    "duration": 129,
    "start_time": "2022-07-08T09:49:38.268Z"
   },
   {
    "duration": 132,
    "start_time": "2022-07-08T09:49:38.403Z"
   },
   {
    "duration": 7,
    "start_time": "2022-07-08T09:49:38.538Z"
   },
   {
    "duration": 15,
    "start_time": "2022-07-08T09:49:38.546Z"
   },
   {
    "duration": 4,
    "start_time": "2022-07-08T09:49:38.563Z"
   },
   {
    "duration": 15,
    "start_time": "2022-07-08T09:49:38.569Z"
   },
   {
    "duration": 23,
    "start_time": "2022-07-08T09:49:38.586Z"
   },
   {
    "duration": 17,
    "start_time": "2022-07-08T09:49:38.611Z"
   },
   {
    "duration": 4,
    "start_time": "2022-07-08T09:49:38.630Z"
   },
   {
    "duration": 20,
    "start_time": "2022-07-08T09:49:38.636Z"
   },
   {
    "duration": 171,
    "start_time": "2022-07-08T09:49:38.658Z"
   },
   {
    "duration": 134,
    "start_time": "2022-07-08T09:49:38.831Z"
   },
   {
    "duration": 7,
    "start_time": "2022-07-08T09:49:38.967Z"
   },
   {
    "duration": 14,
    "start_time": "2022-07-08T09:49:38.975Z"
   },
   {
    "duration": 275,
    "start_time": "2022-07-08T09:49:38.990Z"
   },
   {
    "duration": 4,
    "start_time": "2022-07-08T09:49:39.267Z"
   },
   {
    "duration": 139,
    "start_time": "2022-07-08T09:49:39.272Z"
   },
   {
    "duration": 4,
    "start_time": "2022-07-08T09:49:39.413Z"
   },
   {
    "duration": 839,
    "start_time": "2022-07-08T09:49:39.418Z"
   },
   {
    "duration": 3,
    "start_time": "2022-07-08T09:49:40.259Z"
   },
   {
    "duration": 605,
    "start_time": "2022-07-08T09:49:40.263Z"
   },
   {
    "duration": 4,
    "start_time": "2022-07-08T09:49:40.870Z"
   },
   {
    "duration": 514,
    "start_time": "2022-07-08T09:49:40.876Z"
   },
   {
    "duration": 12,
    "start_time": "2022-07-08T09:49:41.392Z"
   },
   {
    "duration": 18,
    "start_time": "2022-07-08T09:49:41.405Z"
   },
   {
    "duration": 346,
    "start_time": "2022-07-08T09:49:41.425Z"
   },
   {
    "duration": 343,
    "start_time": "2022-07-08T09:49:41.773Z"
   },
   {
    "duration": 11,
    "start_time": "2022-07-08T09:49:42.117Z"
   },
   {
    "duration": 14,
    "start_time": "2022-07-08T09:49:42.130Z"
   },
   {
    "duration": 19,
    "start_time": "2022-07-08T09:49:42.146Z"
   },
   {
    "duration": 5,
    "start_time": "2022-07-08T09:49:42.167Z"
   },
   {
    "duration": 33,
    "start_time": "2022-07-08T09:49:42.173Z"
   },
   {
    "duration": 6,
    "start_time": "2022-07-08T09:49:42.207Z"
   },
   {
    "duration": 7,
    "start_time": "2022-07-08T09:49:42.215Z"
   },
   {
    "duration": 6,
    "start_time": "2022-07-08T09:49:42.224Z"
   },
   {
    "duration": 7,
    "start_time": "2022-07-08T09:49:42.231Z"
   },
   {
    "duration": 5,
    "start_time": "2022-07-08T09:49:42.240Z"
   },
   {
    "duration": 8,
    "start_time": "2022-07-08T09:49:42.246Z"
   },
   {
    "duration": 155,
    "start_time": "2022-07-08T09:49:42.255Z"
   },
   {
    "duration": 0,
    "start_time": "2022-07-08T09:49:42.412Z"
   },
   {
    "duration": 0,
    "start_time": "2022-07-08T09:49:42.413Z"
   },
   {
    "duration": 0,
    "start_time": "2022-07-08T09:49:42.414Z"
   },
   {
    "duration": 0,
    "start_time": "2022-07-08T09:49:42.415Z"
   },
   {
    "duration": 0,
    "start_time": "2022-07-08T09:49:42.416Z"
   },
   {
    "duration": 0,
    "start_time": "2022-07-08T09:49:42.417Z"
   },
   {
    "duration": 0,
    "start_time": "2022-07-08T09:49:42.418Z"
   },
   {
    "duration": 0,
    "start_time": "2022-07-08T09:49:42.418Z"
   },
   {
    "duration": 4,
    "start_time": "2022-07-08T09:50:03.079Z"
   },
   {
    "duration": 10,
    "start_time": "2022-07-08T09:50:03.784Z"
   },
   {
    "duration": 4,
    "start_time": "2022-07-08T09:50:14.286Z"
   },
   {
    "duration": 11,
    "start_time": "2022-07-08T09:50:15.066Z"
   },
   {
    "duration": 3,
    "start_time": "2022-07-08T09:50:42.237Z"
   },
   {
    "duration": 11,
    "start_time": "2022-07-08T09:50:43.038Z"
   },
   {
    "duration": 132,
    "start_time": "2022-07-08T09:53:57.854Z"
   },
   {
    "duration": 1288,
    "start_time": "2022-07-08T09:58:22.465Z"
   },
   {
    "duration": 56,
    "start_time": "2022-07-08T09:58:23.755Z"
   },
   {
    "duration": 254,
    "start_time": "2022-07-08T09:58:23.813Z"
   },
   {
    "duration": 21,
    "start_time": "2022-07-08T09:58:24.069Z"
   },
   {
    "duration": 16,
    "start_time": "2022-07-08T09:58:24.092Z"
   },
   {
    "duration": 15,
    "start_time": "2022-07-08T09:58:24.110Z"
   },
   {
    "duration": 11,
    "start_time": "2022-07-08T09:58:24.127Z"
   },
   {
    "duration": 19,
    "start_time": "2022-07-08T09:58:24.140Z"
   },
   {
    "duration": 60,
    "start_time": "2022-07-08T09:58:24.161Z"
   },
   {
    "duration": 60,
    "start_time": "2022-07-08T09:58:24.225Z"
   },
   {
    "duration": 30,
    "start_time": "2022-07-08T09:58:24.286Z"
   },
   {
    "duration": 14,
    "start_time": "2022-07-08T09:58:24.318Z"
   },
   {
    "duration": 80,
    "start_time": "2022-07-08T09:58:24.334Z"
   },
   {
    "duration": 10,
    "start_time": "2022-07-08T09:58:24.415Z"
   },
   {
    "duration": 9,
    "start_time": "2022-07-08T09:58:24.427Z"
   },
   {
    "duration": 15,
    "start_time": "2022-07-08T09:58:24.438Z"
   },
   {
    "duration": 22,
    "start_time": "2022-07-08T09:58:24.464Z"
   },
   {
    "duration": 17,
    "start_time": "2022-07-08T09:58:24.488Z"
   },
   {
    "duration": 13,
    "start_time": "2022-07-08T09:58:24.507Z"
   },
   {
    "duration": 31,
    "start_time": "2022-07-08T09:58:24.521Z"
   },
   {
    "duration": 31,
    "start_time": "2022-07-08T09:58:24.553Z"
   },
   {
    "duration": 5,
    "start_time": "2022-07-08T09:58:24.586Z"
   },
   {
    "duration": 6,
    "start_time": "2022-07-08T09:58:24.603Z"
   },
   {
    "duration": 6,
    "start_time": "2022-07-08T09:58:24.611Z"
   },
   {
    "duration": 167,
    "start_time": "2022-07-08T09:58:24.619Z"
   },
   {
    "duration": 173,
    "start_time": "2022-07-08T09:58:24.788Z"
   },
   {
    "duration": 155,
    "start_time": "2022-07-08T09:58:24.963Z"
   },
   {
    "duration": 8,
    "start_time": "2022-07-08T09:58:25.123Z"
   },
   {
    "duration": 23,
    "start_time": "2022-07-08T09:58:25.132Z"
   },
   {
    "duration": 7,
    "start_time": "2022-07-08T09:58:25.157Z"
   },
   {
    "duration": 146,
    "start_time": "2022-07-08T09:58:25.166Z"
   },
   {
    "duration": 151,
    "start_time": "2022-07-08T09:58:25.314Z"
   },
   {
    "duration": 5,
    "start_time": "2022-07-08T09:58:25.467Z"
   },
   {
    "duration": 12,
    "start_time": "2022-07-08T09:58:25.473Z"
   },
   {
    "duration": 18,
    "start_time": "2022-07-08T09:58:25.487Z"
   },
   {
    "duration": 16,
    "start_time": "2022-07-08T09:58:25.507Z"
   },
   {
    "duration": 11,
    "start_time": "2022-07-08T09:58:25.525Z"
   },
   {
    "duration": 18,
    "start_time": "2022-07-08T09:58:25.538Z"
   },
   {
    "duration": 6,
    "start_time": "2022-07-08T09:58:25.557Z"
   },
   {
    "duration": 40,
    "start_time": "2022-07-08T09:58:25.565Z"
   },
   {
    "duration": 149,
    "start_time": "2022-07-08T09:58:25.607Z"
   },
   {
    "duration": 135,
    "start_time": "2022-07-08T09:58:25.758Z"
   },
   {
    "duration": 7,
    "start_time": "2022-07-08T09:58:25.904Z"
   },
   {
    "duration": 18,
    "start_time": "2022-07-08T09:58:25.913Z"
   },
   {
    "duration": 300,
    "start_time": "2022-07-08T09:58:25.933Z"
   },
   {
    "duration": 5,
    "start_time": "2022-07-08T09:58:26.235Z"
   },
   {
    "duration": 152,
    "start_time": "2022-07-08T09:58:26.242Z"
   },
   {
    "duration": 8,
    "start_time": "2022-07-08T09:58:26.396Z"
   },
   {
    "duration": 934,
    "start_time": "2022-07-08T09:58:26.406Z"
   },
   {
    "duration": 4,
    "start_time": "2022-07-08T09:58:27.341Z"
   },
   {
    "duration": 669,
    "start_time": "2022-07-08T09:58:27.347Z"
   },
   {
    "duration": 3,
    "start_time": "2022-07-08T09:58:28.018Z"
   },
   {
    "duration": 541,
    "start_time": "2022-07-08T09:58:28.023Z"
   },
   {
    "duration": 4,
    "start_time": "2022-07-08T09:58:28.566Z"
   },
   {
    "duration": 87,
    "start_time": "2022-07-08T09:58:28.571Z"
   },
   {
    "duration": 414,
    "start_time": "2022-07-08T09:58:28.659Z"
   },
   {
    "duration": 393,
    "start_time": "2022-07-08T09:58:29.075Z"
   },
   {
    "duration": 11,
    "start_time": "2022-07-08T09:58:29.469Z"
   },
   {
    "duration": 27,
    "start_time": "2022-07-08T09:58:29.482Z"
   },
   {
    "duration": 14,
    "start_time": "2022-07-08T09:58:29.510Z"
   },
   {
    "duration": 10,
    "start_time": "2022-07-08T09:58:29.525Z"
   },
   {
    "duration": 7,
    "start_time": "2022-07-08T09:58:29.536Z"
   },
   {
    "duration": 6,
    "start_time": "2022-07-08T09:58:29.544Z"
   },
   {
    "duration": 10,
    "start_time": "2022-07-08T09:58:29.552Z"
   },
   {
    "duration": 9,
    "start_time": "2022-07-08T09:58:29.564Z"
   },
   {
    "duration": 36,
    "start_time": "2022-07-08T09:58:29.574Z"
   },
   {
    "duration": 7,
    "start_time": "2022-07-08T09:58:29.612Z"
   },
   {
    "duration": 9,
    "start_time": "2022-07-08T09:58:29.621Z"
   },
   {
    "duration": 136,
    "start_time": "2022-07-08T09:58:29.632Z"
   },
   {
    "duration": 0,
    "start_time": "2022-07-08T09:58:29.771Z"
   },
   {
    "duration": 0,
    "start_time": "2022-07-08T09:58:29.772Z"
   },
   {
    "duration": 0,
    "start_time": "2022-07-08T09:58:29.774Z"
   },
   {
    "duration": 0,
    "start_time": "2022-07-08T09:58:29.775Z"
   },
   {
    "duration": 0,
    "start_time": "2022-07-08T09:58:29.776Z"
   },
   {
    "duration": 0,
    "start_time": "2022-07-08T09:58:29.778Z"
   },
   {
    "duration": 0,
    "start_time": "2022-07-08T09:58:29.780Z"
   },
   {
    "duration": 0,
    "start_time": "2022-07-08T09:58:29.781Z"
   },
   {
    "duration": 9,
    "start_time": "2022-07-08T09:59:37.640Z"
   },
   {
    "duration": 6,
    "start_time": "2022-07-08T10:03:23.445Z"
   },
   {
    "duration": 1280,
    "start_time": "2022-07-08T10:05:06.254Z"
   },
   {
    "duration": 91,
    "start_time": "2022-07-08T10:05:07.536Z"
   },
   {
    "duration": 315,
    "start_time": "2022-07-08T10:05:07.629Z"
   },
   {
    "duration": 20,
    "start_time": "2022-07-08T10:05:07.946Z"
   },
   {
    "duration": 14,
    "start_time": "2022-07-08T10:05:07.967Z"
   },
   {
    "duration": 31,
    "start_time": "2022-07-08T10:05:07.983Z"
   },
   {
    "duration": 13,
    "start_time": "2022-07-08T10:05:08.016Z"
   },
   {
    "duration": 17,
    "start_time": "2022-07-08T10:05:08.031Z"
   },
   {
    "duration": 32,
    "start_time": "2022-07-08T10:05:08.049Z"
   },
   {
    "duration": 64,
    "start_time": "2022-07-08T10:05:08.104Z"
   },
   {
    "duration": 34,
    "start_time": "2022-07-08T10:05:08.170Z"
   },
   {
    "duration": 15,
    "start_time": "2022-07-08T10:05:08.205Z"
   },
   {
    "duration": 58,
    "start_time": "2022-07-08T10:05:08.222Z"
   },
   {
    "duration": 31,
    "start_time": "2022-07-08T10:05:08.281Z"
   },
   {
    "duration": 9,
    "start_time": "2022-07-08T10:05:08.314Z"
   },
   {
    "duration": 13,
    "start_time": "2022-07-08T10:05:08.325Z"
   },
   {
    "duration": 16,
    "start_time": "2022-07-08T10:05:08.339Z"
   },
   {
    "duration": 9,
    "start_time": "2022-07-08T10:05:08.357Z"
   },
   {
    "duration": 40,
    "start_time": "2022-07-08T10:05:08.373Z"
   },
   {
    "duration": 18,
    "start_time": "2022-07-08T10:05:08.415Z"
   },
   {
    "duration": 22,
    "start_time": "2022-07-08T10:05:08.434Z"
   },
   {
    "duration": 6,
    "start_time": "2022-07-08T10:05:08.458Z"
   },
   {
    "duration": 13,
    "start_time": "2022-07-08T10:05:08.466Z"
   },
   {
    "duration": 25,
    "start_time": "2022-07-08T10:05:08.481Z"
   },
   {
    "duration": 154,
    "start_time": "2022-07-08T10:05:08.508Z"
   },
   {
    "duration": 175,
    "start_time": "2022-07-08T10:05:08.664Z"
   },
   {
    "duration": 139,
    "start_time": "2022-07-08T10:05:08.841Z"
   },
   {
    "duration": 8,
    "start_time": "2022-07-08T10:05:08.985Z"
   },
   {
    "duration": 38,
    "start_time": "2022-07-08T10:05:08.994Z"
   },
   {
    "duration": 8,
    "start_time": "2022-07-08T10:05:09.033Z"
   },
   {
    "duration": 133,
    "start_time": "2022-07-08T10:05:09.043Z"
   },
   {
    "duration": 144,
    "start_time": "2022-07-08T10:05:09.177Z"
   },
   {
    "duration": 5,
    "start_time": "2022-07-08T10:05:09.322Z"
   },
   {
    "duration": 13,
    "start_time": "2022-07-08T10:05:09.328Z"
   },
   {
    "duration": 5,
    "start_time": "2022-07-08T10:05:09.342Z"
   },
   {
    "duration": 12,
    "start_time": "2022-07-08T10:05:09.348Z"
   },
   {
    "duration": 10,
    "start_time": "2022-07-08T10:05:09.362Z"
   },
   {
    "duration": 35,
    "start_time": "2022-07-08T10:05:09.374Z"
   },
   {
    "duration": 5,
    "start_time": "2022-07-08T10:05:09.411Z"
   },
   {
    "duration": 18,
    "start_time": "2022-07-08T10:05:09.417Z"
   },
   {
    "duration": 149,
    "start_time": "2022-07-08T10:05:09.437Z"
   },
   {
    "duration": 134,
    "start_time": "2022-07-08T10:05:09.588Z"
   },
   {
    "duration": 7,
    "start_time": "2022-07-08T10:05:09.724Z"
   },
   {
    "duration": 14,
    "start_time": "2022-07-08T10:05:09.733Z"
   },
   {
    "duration": 301,
    "start_time": "2022-07-08T10:05:09.749Z"
   },
   {
    "duration": 5,
    "start_time": "2022-07-08T10:05:10.051Z"
   },
   {
    "duration": 170,
    "start_time": "2022-07-08T10:05:10.058Z"
   },
   {
    "duration": 4,
    "start_time": "2022-07-08T10:05:10.230Z"
   },
   {
    "duration": 886,
    "start_time": "2022-07-08T10:05:10.236Z"
   },
   {
    "duration": 4,
    "start_time": "2022-07-08T10:05:11.124Z"
   },
   {
    "duration": 666,
    "start_time": "2022-07-08T10:05:11.130Z"
   },
   {
    "duration": 6,
    "start_time": "2022-07-08T10:05:11.798Z"
   },
   {
    "duration": 512,
    "start_time": "2022-07-08T10:05:11.805Z"
   },
   {
    "duration": 6,
    "start_time": "2022-07-08T10:05:12.318Z"
   },
   {
    "duration": 20,
    "start_time": "2022-07-08T10:05:12.325Z"
   },
   {
    "duration": 346,
    "start_time": "2022-07-08T10:05:12.347Z"
   },
   {
    "duration": 336,
    "start_time": "2022-07-08T10:05:12.695Z"
   },
   {
    "duration": 13,
    "start_time": "2022-07-08T10:05:13.033Z"
   },
   {
    "duration": 12,
    "start_time": "2022-07-08T10:05:13.048Z"
   },
   {
    "duration": 8,
    "start_time": "2022-07-08T10:05:13.062Z"
   },
   {
    "duration": 6,
    "start_time": "2022-07-08T10:05:13.071Z"
   },
   {
    "duration": 29,
    "start_time": "2022-07-08T10:05:13.078Z"
   },
   {
    "duration": 6,
    "start_time": "2022-07-08T10:05:13.109Z"
   },
   {
    "duration": 9,
    "start_time": "2022-07-08T10:05:13.117Z"
   },
   {
    "duration": 5,
    "start_time": "2022-07-08T10:05:13.128Z"
   },
   {
    "duration": 6,
    "start_time": "2022-07-08T10:05:13.134Z"
   },
   {
    "duration": 21,
    "start_time": "2022-07-08T10:05:13.141Z"
   },
   {
    "duration": 5,
    "start_time": "2022-07-08T10:05:13.164Z"
   },
   {
    "duration": 36,
    "start_time": "2022-07-08T10:05:13.170Z"
   },
   {
    "duration": 4,
    "start_time": "2022-07-08T10:05:13.208Z"
   },
   {
    "duration": 15,
    "start_time": "2022-07-08T10:05:13.214Z"
   },
   {
    "duration": 4,
    "start_time": "2022-07-08T10:05:13.230Z"
   },
   {
    "duration": 6,
    "start_time": "2022-07-08T10:05:13.235Z"
   },
   {
    "duration": 19,
    "start_time": "2022-07-08T10:05:13.242Z"
   },
   {
    "duration": 1021,
    "start_time": "2022-07-08T10:05:13.263Z"
   },
   {
    "duration": 56,
    "start_time": "2022-07-08T11:40:54.175Z"
   },
   {
    "duration": 1578,
    "start_time": "2022-07-08T11:41:02.770Z"
   },
   {
    "duration": 116,
    "start_time": "2022-07-08T11:41:04.350Z"
   },
   {
    "duration": 182,
    "start_time": "2022-07-08T11:41:04.468Z"
   },
   {
    "duration": 23,
    "start_time": "2022-07-08T11:41:04.653Z"
   },
   {
    "duration": 28,
    "start_time": "2022-07-08T11:41:04.678Z"
   },
   {
    "duration": 13,
    "start_time": "2022-07-08T11:41:04.708Z"
   },
   {
    "duration": 10,
    "start_time": "2022-07-08T11:41:04.723Z"
   },
   {
    "duration": 16,
    "start_time": "2022-07-08T11:41:04.735Z"
   },
   {
    "duration": 68,
    "start_time": "2022-07-08T11:41:04.752Z"
   },
   {
    "duration": 63,
    "start_time": "2022-07-08T11:41:04.823Z"
   },
   {
    "duration": 29,
    "start_time": "2022-07-08T11:41:04.888Z"
   },
   {
    "duration": 16,
    "start_time": "2022-07-08T11:41:04.919Z"
   },
   {
    "duration": 91,
    "start_time": "2022-07-08T11:41:04.937Z"
   },
   {
    "duration": 12,
    "start_time": "2022-07-08T11:41:05.029Z"
   },
   {
    "duration": 10,
    "start_time": "2022-07-08T11:41:05.043Z"
   },
   {
    "duration": 22,
    "start_time": "2022-07-08T11:41:05.054Z"
   },
   {
    "duration": 38,
    "start_time": "2022-07-08T11:41:05.078Z"
   },
   {
    "duration": 9,
    "start_time": "2022-07-08T11:41:05.118Z"
   },
   {
    "duration": 14,
    "start_time": "2022-07-08T11:41:05.129Z"
   },
   {
    "duration": 18,
    "start_time": "2022-07-08T11:41:05.145Z"
   },
   {
    "duration": 46,
    "start_time": "2022-07-08T11:41:05.165Z"
   },
   {
    "duration": 6,
    "start_time": "2022-07-08T11:41:05.213Z"
   },
   {
    "duration": 14,
    "start_time": "2022-07-08T11:41:05.221Z"
   },
   {
    "duration": 5,
    "start_time": "2022-07-08T11:41:05.237Z"
   },
   {
    "duration": 176,
    "start_time": "2022-07-08T11:41:05.244Z"
   },
   {
    "duration": 185,
    "start_time": "2022-07-08T11:41:05.422Z"
   },
   {
    "duration": 153,
    "start_time": "2022-07-08T11:41:05.610Z"
   },
   {
    "duration": 8,
    "start_time": "2022-07-08T11:41:05.768Z"
   },
   {
    "duration": 40,
    "start_time": "2022-07-08T11:41:05.778Z"
   },
   {
    "duration": 9,
    "start_time": "2022-07-08T11:41:05.820Z"
   },
   {
    "duration": 147,
    "start_time": "2022-07-08T11:41:05.831Z"
   },
   {
    "duration": 165,
    "start_time": "2022-07-08T11:41:05.980Z"
   },
   {
    "duration": 5,
    "start_time": "2022-07-08T11:41:06.147Z"
   },
   {
    "duration": 17,
    "start_time": "2022-07-08T11:41:06.153Z"
   },
   {
    "duration": 6,
    "start_time": "2022-07-08T11:41:06.171Z"
   },
   {
    "duration": 25,
    "start_time": "2022-07-08T11:41:06.179Z"
   },
   {
    "duration": 15,
    "start_time": "2022-07-08T11:41:06.206Z"
   },
   {
    "duration": 20,
    "start_time": "2022-07-08T11:41:06.223Z"
   },
   {
    "duration": 5,
    "start_time": "2022-07-08T11:41:06.246Z"
   },
   {
    "duration": 20,
    "start_time": "2022-07-08T11:41:06.254Z"
   },
   {
    "duration": 157,
    "start_time": "2022-07-08T11:41:06.299Z"
   },
   {
    "duration": 160,
    "start_time": "2022-07-08T11:41:06.458Z"
   },
   {
    "duration": 10,
    "start_time": "2022-07-08T11:41:06.621Z"
   },
   {
    "duration": 20,
    "start_time": "2022-07-08T11:41:06.633Z"
   },
   {
    "duration": 451,
    "start_time": "2022-07-08T11:41:06.655Z"
   },
   {
    "duration": 4,
    "start_time": "2022-07-08T11:41:07.109Z"
   },
   {
    "duration": 168,
    "start_time": "2022-07-08T11:41:07.115Z"
   },
   {
    "duration": 4,
    "start_time": "2022-07-08T11:41:07.285Z"
   },
   {
    "duration": 994,
    "start_time": "2022-07-08T11:41:07.298Z"
   },
   {
    "duration": 4,
    "start_time": "2022-07-08T11:41:08.294Z"
   },
   {
    "duration": 764,
    "start_time": "2022-07-08T11:41:08.300Z"
   },
   {
    "duration": 4,
    "start_time": "2022-07-08T11:41:09.066Z"
   },
   {
    "duration": 597,
    "start_time": "2022-07-08T11:41:09.072Z"
   },
   {
    "duration": 5,
    "start_time": "2022-07-08T11:41:09.670Z"
   },
   {
    "duration": 26,
    "start_time": "2022-07-08T11:41:09.677Z"
   },
   {
    "duration": 397,
    "start_time": "2022-07-08T11:41:09.705Z"
   },
   {
    "duration": 387,
    "start_time": "2022-07-08T11:41:10.104Z"
   },
   {
    "duration": 11,
    "start_time": "2022-07-08T11:41:10.493Z"
   },
   {
    "duration": 14,
    "start_time": "2022-07-08T11:41:10.506Z"
   },
   {
    "duration": 10,
    "start_time": "2022-07-08T11:41:10.522Z"
   },
   {
    "duration": 9,
    "start_time": "2022-07-08T11:41:10.534Z"
   },
   {
    "duration": 8,
    "start_time": "2022-07-08T11:41:10.545Z"
   },
   {
    "duration": 7,
    "start_time": "2022-07-08T11:41:10.555Z"
   },
   {
    "duration": 43,
    "start_time": "2022-07-08T11:41:10.564Z"
   },
   {
    "duration": 5,
    "start_time": "2022-07-08T11:41:10.609Z"
   },
   {
    "duration": 12,
    "start_time": "2022-07-08T11:41:10.616Z"
   },
   {
    "duration": 23,
    "start_time": "2022-07-08T11:41:10.630Z"
   },
   {
    "duration": 7,
    "start_time": "2022-07-08T11:41:10.655Z"
   },
   {
    "duration": 35,
    "start_time": "2022-07-08T11:41:10.664Z"
   },
   {
    "duration": 8,
    "start_time": "2022-07-08T11:41:10.701Z"
   },
   {
    "duration": 17,
    "start_time": "2022-07-08T11:41:10.711Z"
   },
   {
    "duration": 5,
    "start_time": "2022-07-08T11:41:10.730Z"
   },
   {
    "duration": 10,
    "start_time": "2022-07-08T11:41:10.736Z"
   },
   {
    "duration": 6,
    "start_time": "2022-07-08T11:41:10.747Z"
   },
   {
    "duration": 1182,
    "start_time": "2022-07-08T11:41:10.755Z"
   },
   {
    "duration": 1406,
    "start_time": "2022-07-08T11:41:36.530Z"
   },
   {
    "duration": 1348,
    "start_time": "2022-07-08T11:41:48.242Z"
   },
   {
    "duration": 74,
    "start_time": "2022-07-08T11:41:49.592Z"
   },
   {
    "duration": 177,
    "start_time": "2022-07-08T11:41:49.668Z"
   },
   {
    "duration": 22,
    "start_time": "2022-07-08T11:41:49.847Z"
   },
   {
    "duration": 28,
    "start_time": "2022-07-08T11:41:49.871Z"
   },
   {
    "duration": 13,
    "start_time": "2022-07-08T11:41:49.901Z"
   },
   {
    "duration": 10,
    "start_time": "2022-07-08T11:41:49.916Z"
   },
   {
    "duration": 19,
    "start_time": "2022-07-08T11:41:49.928Z"
   },
   {
    "duration": 67,
    "start_time": "2022-07-08T11:41:49.949Z"
   },
   {
    "duration": 78,
    "start_time": "2022-07-08T11:41:50.020Z"
   },
   {
    "duration": 27,
    "start_time": "2022-07-08T11:41:50.100Z"
   },
   {
    "duration": 17,
    "start_time": "2022-07-08T11:41:50.129Z"
   },
   {
    "duration": 95,
    "start_time": "2022-07-08T11:41:50.148Z"
   },
   {
    "duration": 11,
    "start_time": "2022-07-08T11:41:50.244Z"
   },
   {
    "duration": 11,
    "start_time": "2022-07-08T11:41:50.257Z"
   },
   {
    "duration": 29,
    "start_time": "2022-07-08T11:41:50.270Z"
   },
   {
    "duration": 14,
    "start_time": "2022-07-08T11:41:50.301Z"
   },
   {
    "duration": 10,
    "start_time": "2022-07-08T11:41:50.317Z"
   },
   {
    "duration": 14,
    "start_time": "2022-07-08T11:41:50.329Z"
   },
   {
    "duration": 29,
    "start_time": "2022-07-08T11:41:50.345Z"
   },
   {
    "duration": 45,
    "start_time": "2022-07-08T11:41:50.376Z"
   },
   {
    "duration": 7,
    "start_time": "2022-07-08T11:41:50.423Z"
   },
   {
    "duration": 8,
    "start_time": "2022-07-08T11:41:50.432Z"
   },
   {
    "duration": 6,
    "start_time": "2022-07-08T11:41:50.442Z"
   },
   {
    "duration": 187,
    "start_time": "2022-07-08T11:41:50.449Z"
   },
   {
    "duration": 168,
    "start_time": "2022-07-08T11:41:50.637Z"
   },
   {
    "duration": 153,
    "start_time": "2022-07-08T11:41:50.807Z"
   },
   {
    "duration": 13,
    "start_time": "2022-07-08T11:41:50.964Z"
   },
   {
    "duration": 57,
    "start_time": "2022-07-08T11:41:50.980Z"
   },
   {
    "duration": 10,
    "start_time": "2022-07-08T11:41:51.040Z"
   },
   {
    "duration": 158,
    "start_time": "2022-07-08T11:41:51.053Z"
   },
   {
    "duration": 156,
    "start_time": "2022-07-08T11:41:51.213Z"
   },
   {
    "duration": 4,
    "start_time": "2022-07-08T11:41:51.371Z"
   },
   {
    "duration": 22,
    "start_time": "2022-07-08T11:41:51.377Z"
   },
   {
    "duration": 5,
    "start_time": "2022-07-08T11:41:51.401Z"
   },
   {
    "duration": 14,
    "start_time": "2022-07-08T11:41:51.408Z"
   },
   {
    "duration": 16,
    "start_time": "2022-07-08T11:41:51.424Z"
   },
   {
    "duration": 17,
    "start_time": "2022-07-08T11:41:51.442Z"
   },
   {
    "duration": 6,
    "start_time": "2022-07-08T11:41:51.461Z"
   },
   {
    "duration": 42,
    "start_time": "2022-07-08T11:41:51.469Z"
   },
   {
    "duration": 173,
    "start_time": "2022-07-08T11:41:51.513Z"
   },
   {
    "duration": 159,
    "start_time": "2022-07-08T11:41:51.688Z"
   },
   {
    "duration": 7,
    "start_time": "2022-07-08T11:41:51.849Z"
   },
   {
    "duration": 17,
    "start_time": "2022-07-08T11:41:51.858Z"
   },
   {
    "duration": 338,
    "start_time": "2022-07-08T11:41:51.898Z"
   },
   {
    "duration": 5,
    "start_time": "2022-07-08T11:41:52.238Z"
   },
   {
    "duration": 169,
    "start_time": "2022-07-08T11:41:52.245Z"
   },
   {
    "duration": 5,
    "start_time": "2022-07-08T11:41:52.415Z"
   },
   {
    "duration": 986,
    "start_time": "2022-07-08T11:41:52.421Z"
   },
   {
    "duration": 4,
    "start_time": "2022-07-08T11:41:53.409Z"
   },
   {
    "duration": 740,
    "start_time": "2022-07-08T11:41:53.415Z"
   },
   {
    "duration": 4,
    "start_time": "2022-07-08T11:41:54.157Z"
   },
   {
    "duration": 599,
    "start_time": "2022-07-08T11:41:54.163Z"
   },
   {
    "duration": 5,
    "start_time": "2022-07-08T11:41:54.764Z"
   },
   {
    "duration": 28,
    "start_time": "2022-07-08T11:41:54.771Z"
   },
   {
    "duration": 392,
    "start_time": "2022-07-08T11:41:54.801Z"
   },
   {
    "duration": 391,
    "start_time": "2022-07-08T11:41:55.198Z"
   },
   {
    "duration": 19,
    "start_time": "2022-07-08T11:41:55.591Z"
   },
   {
    "duration": 18,
    "start_time": "2022-07-08T11:41:55.612Z"
   },
   {
    "duration": 1579,
    "start_time": "2022-07-08T11:41:55.633Z"
   },
   {
    "duration": 0,
    "start_time": "2022-07-08T11:41:57.215Z"
   },
   {
    "duration": 0,
    "start_time": "2022-07-08T11:41:57.216Z"
   },
   {
    "duration": 0,
    "start_time": "2022-07-08T11:41:57.218Z"
   },
   {
    "duration": 0,
    "start_time": "2022-07-08T11:41:57.219Z"
   },
   {
    "duration": 0,
    "start_time": "2022-07-08T11:41:57.221Z"
   },
   {
    "duration": 0,
    "start_time": "2022-07-08T11:41:57.223Z"
   },
   {
    "duration": 0,
    "start_time": "2022-07-08T11:41:57.225Z"
   },
   {
    "duration": 0,
    "start_time": "2022-07-08T11:41:57.227Z"
   },
   {
    "duration": 0,
    "start_time": "2022-07-08T11:41:57.228Z"
   },
   {
    "duration": 0,
    "start_time": "2022-07-08T11:41:57.229Z"
   },
   {
    "duration": 0,
    "start_time": "2022-07-08T11:41:57.230Z"
   },
   {
    "duration": 0,
    "start_time": "2022-07-08T11:41:57.232Z"
   },
   {
    "duration": 0,
    "start_time": "2022-07-08T11:41:57.233Z"
   },
   {
    "duration": 0,
    "start_time": "2022-07-08T11:41:57.234Z"
   },
   {
    "duration": 0,
    "start_time": "2022-07-08T11:41:57.235Z"
   },
   {
    "duration": 12,
    "start_time": "2022-07-08T11:42:04.710Z"
   },
   {
    "duration": 74,
    "start_time": "2022-07-08T11:44:25.412Z"
   },
   {
    "duration": 11,
    "start_time": "2022-07-08T11:44:29.478Z"
   },
   {
    "duration": 14,
    "start_time": "2022-07-08T11:44:44.671Z"
   },
   {
    "duration": 4,
    "start_time": "2022-07-08T11:45:30.516Z"
   },
   {
    "duration": 15,
    "start_time": "2022-07-08T11:45:33.836Z"
   },
   {
    "duration": 15,
    "start_time": "2022-07-08T11:45:49.987Z"
   },
   {
    "duration": 13,
    "start_time": "2022-07-08T11:47:42.219Z"
   },
   {
    "duration": 14,
    "start_time": "2022-07-08T11:47:58.629Z"
   },
   {
    "duration": 15,
    "start_time": "2022-07-08T11:48:09.653Z"
   },
   {
    "duration": 5,
    "start_time": "2022-07-08T11:51:07.419Z"
   },
   {
    "duration": 10,
    "start_time": "2022-07-08T11:51:14.201Z"
   },
   {
    "duration": 11,
    "start_time": "2022-07-08T11:52:28.065Z"
   },
   {
    "duration": 12,
    "start_time": "2022-07-08T11:52:35.104Z"
   },
   {
    "duration": 11,
    "start_time": "2022-07-08T11:52:45.334Z"
   },
   {
    "duration": 4,
    "start_time": "2022-07-08T11:53:03.058Z"
   },
   {
    "duration": 13,
    "start_time": "2022-07-08T11:53:25.538Z"
   },
   {
    "duration": 6,
    "start_time": "2022-07-08T11:53:46.097Z"
   },
   {
    "duration": 6,
    "start_time": "2022-07-08T11:53:50.867Z"
   },
   {
    "duration": 10,
    "start_time": "2022-07-08T11:53:54.268Z"
   },
   {
    "duration": 6,
    "start_time": "2022-07-08T11:53:58.921Z"
   },
   {
    "duration": 10,
    "start_time": "2022-07-08T11:54:00.218Z"
   },
   {
    "duration": 14,
    "start_time": "2022-07-08T11:54:06.760Z"
   },
   {
    "duration": 483,
    "start_time": "2022-07-08T11:55:34.936Z"
   },
   {
    "duration": 431,
    "start_time": "2022-07-08T11:55:47.545Z"
   },
   {
    "duration": 423,
    "start_time": "2022-07-08T11:56:11.508Z"
   },
   {
    "duration": 3,
    "start_time": "2022-07-08T11:56:26.592Z"
   },
   {
    "duration": 8,
    "start_time": "2022-07-08T11:56:27.776Z"
   },
   {
    "duration": 1223,
    "start_time": "2022-07-08T11:56:42.538Z"
   },
   {
    "duration": 58,
    "start_time": "2022-07-08T11:56:43.763Z"
   },
   {
    "duration": 227,
    "start_time": "2022-07-08T11:56:43.823Z"
   },
   {
    "duration": 24,
    "start_time": "2022-07-08T11:56:44.052Z"
   },
   {
    "duration": 25,
    "start_time": "2022-07-08T11:56:44.080Z"
   },
   {
    "duration": 12,
    "start_time": "2022-07-08T11:56:44.107Z"
   },
   {
    "duration": 10,
    "start_time": "2022-07-08T11:56:44.121Z"
   },
   {
    "duration": 15,
    "start_time": "2022-07-08T11:56:44.133Z"
   },
   {
    "duration": 68,
    "start_time": "2022-07-08T11:56:44.150Z"
   },
   {
    "duration": 82,
    "start_time": "2022-07-08T11:56:44.220Z"
   },
   {
    "duration": 22,
    "start_time": "2022-07-08T11:56:44.304Z"
   },
   {
    "duration": 14,
    "start_time": "2022-07-08T11:56:44.329Z"
   },
   {
    "duration": 78,
    "start_time": "2022-07-08T11:56:44.345Z"
   },
   {
    "duration": 10,
    "start_time": "2022-07-08T11:56:44.428Z"
   },
   {
    "duration": 9,
    "start_time": "2022-07-08T11:56:44.440Z"
   },
   {
    "duration": 15,
    "start_time": "2022-07-08T11:56:44.451Z"
   },
   {
    "duration": 42,
    "start_time": "2022-07-08T11:56:44.468Z"
   },
   {
    "duration": 10,
    "start_time": "2022-07-08T11:56:44.512Z"
   },
   {
    "duration": 15,
    "start_time": "2022-07-08T11:56:44.524Z"
   },
   {
    "duration": 17,
    "start_time": "2022-07-08T11:56:44.541Z"
   },
   {
    "duration": 58,
    "start_time": "2022-07-08T11:56:44.560Z"
   },
   {
    "duration": 6,
    "start_time": "2022-07-08T11:56:44.621Z"
   },
   {
    "duration": 7,
    "start_time": "2022-07-08T11:56:44.629Z"
   },
   {
    "duration": 4,
    "start_time": "2022-07-08T11:56:44.638Z"
   },
   {
    "duration": 176,
    "start_time": "2022-07-08T11:56:44.644Z"
   },
   {
    "duration": 168,
    "start_time": "2022-07-08T11:56:44.823Z"
   },
   {
    "duration": 139,
    "start_time": "2022-07-08T11:56:44.998Z"
   },
   {
    "duration": 9,
    "start_time": "2022-07-08T11:56:45.139Z"
   },
   {
    "duration": 26,
    "start_time": "2022-07-08T11:56:45.150Z"
   },
   {
    "duration": 27,
    "start_time": "2022-07-08T11:56:45.178Z"
   },
   {
    "duration": 162,
    "start_time": "2022-07-08T11:56:45.207Z"
   },
   {
    "duration": 169,
    "start_time": "2022-07-08T11:56:45.371Z"
   },
   {
    "duration": 5,
    "start_time": "2022-07-08T11:56:45.542Z"
   },
   {
    "duration": 13,
    "start_time": "2022-07-08T11:56:45.549Z"
   },
   {
    "duration": 7,
    "start_time": "2022-07-08T11:56:45.564Z"
   },
   {
    "duration": 29,
    "start_time": "2022-07-08T11:56:45.573Z"
   },
   {
    "duration": 13,
    "start_time": "2022-07-08T11:56:45.604Z"
   },
   {
    "duration": 20,
    "start_time": "2022-07-08T11:56:45.620Z"
   },
   {
    "duration": 6,
    "start_time": "2022-07-08T11:56:45.641Z"
   },
   {
    "duration": 18,
    "start_time": "2022-07-08T11:56:45.649Z"
   },
   {
    "duration": 188,
    "start_time": "2022-07-08T11:56:45.671Z"
   },
   {
    "duration": 148,
    "start_time": "2022-07-08T11:56:45.861Z"
   },
   {
    "duration": 8,
    "start_time": "2022-07-08T11:56:46.011Z"
   },
   {
    "duration": 16,
    "start_time": "2022-07-08T11:56:46.021Z"
   },
   {
    "duration": 327,
    "start_time": "2022-07-08T11:56:46.039Z"
   },
   {
    "duration": 4,
    "start_time": "2022-07-08T11:56:46.372Z"
   },
   {
    "duration": 153,
    "start_time": "2022-07-08T11:56:46.378Z"
   },
   {
    "duration": 4,
    "start_time": "2022-07-08T11:56:46.533Z"
   },
   {
    "duration": 1061,
    "start_time": "2022-07-08T11:56:46.539Z"
   },
   {
    "duration": 4,
    "start_time": "2022-07-08T11:56:47.602Z"
   },
   {
    "duration": 736,
    "start_time": "2022-07-08T11:56:47.608Z"
   },
   {
    "duration": 3,
    "start_time": "2022-07-08T11:56:48.345Z"
   },
   {
    "duration": 609,
    "start_time": "2022-07-08T11:56:48.350Z"
   },
   {
    "duration": 6,
    "start_time": "2022-07-08T11:56:48.962Z"
   },
   {
    "duration": 32,
    "start_time": "2022-07-08T11:56:48.970Z"
   },
   {
    "duration": 383,
    "start_time": "2022-07-08T11:56:49.004Z"
   },
   {
    "duration": 398,
    "start_time": "2022-07-08T11:56:49.389Z"
   },
   {
    "duration": 17,
    "start_time": "2022-07-08T11:56:49.789Z"
   },
   {
    "duration": 12,
    "start_time": "2022-07-08T11:56:49.809Z"
   },
   {
    "duration": 11,
    "start_time": "2022-07-08T11:56:49.823Z"
   },
   {
    "duration": 7,
    "start_time": "2022-07-08T11:56:49.837Z"
   },
   {
    "duration": 3,
    "start_time": "2022-07-08T11:56:49.846Z"
   },
   {
    "duration": 11,
    "start_time": "2022-07-08T11:56:49.851Z"
   },
   {
    "duration": 44,
    "start_time": "2022-07-08T11:56:49.864Z"
   },
   {
    "duration": 8,
    "start_time": "2022-07-08T11:56:49.910Z"
   },
   {
    "duration": 8,
    "start_time": "2022-07-08T11:56:49.919Z"
   },
   {
    "duration": 8,
    "start_time": "2022-07-08T11:56:49.929Z"
   },
   {
    "duration": 12,
    "start_time": "2022-07-08T11:56:49.939Z"
   },
   {
    "duration": 10,
    "start_time": "2022-07-08T11:56:49.953Z"
   },
   {
    "duration": 63,
    "start_time": "2022-07-08T11:56:49.965Z"
   },
   {
    "duration": 7,
    "start_time": "2022-07-08T11:56:50.030Z"
   },
   {
    "duration": 9,
    "start_time": "2022-07-08T11:56:50.039Z"
   },
   {
    "duration": 5,
    "start_time": "2022-07-08T11:56:50.050Z"
   },
   {
    "duration": 41,
    "start_time": "2022-07-08T11:56:50.057Z"
   },
   {
    "duration": 5,
    "start_time": "2022-07-08T11:56:50.100Z"
   },
   {
    "duration": 11,
    "start_time": "2022-07-08T11:56:50.106Z"
   },
   {
    "duration": 7,
    "start_time": "2022-07-08T11:56:50.118Z"
   },
   {
    "duration": 1100,
    "start_time": "2022-07-08T11:56:50.127Z"
   },
   {
    "duration": 15,
    "start_time": "2022-07-08T13:27:19.718Z"
   },
   {
    "duration": 12,
    "start_time": "2022-07-08T13:27:28.163Z"
   },
   {
    "duration": 289,
    "start_time": "2022-07-08T13:40:00.848Z"
   },
   {
    "duration": 83,
    "start_time": "2022-07-08T13:50:54.865Z"
   },
   {
    "duration": 89,
    "start_time": "2022-07-08T13:51:07.233Z"
   },
   {
    "duration": 119,
    "start_time": "2022-07-08T13:51:12.073Z"
   },
   {
    "duration": 100,
    "start_time": "2022-07-08T13:51:36.368Z"
   },
   {
    "duration": 75,
    "start_time": "2022-07-08T13:52:01.696Z"
   },
   {
    "duration": 9,
    "start_time": "2022-07-08T13:52:06.375Z"
   },
   {
    "duration": 1380,
    "start_time": "2022-07-08T13:53:23.147Z"
   },
   {
    "duration": 213,
    "start_time": "2022-07-08T13:53:24.529Z"
   },
   {
    "duration": 334,
    "start_time": "2022-07-08T13:53:24.748Z"
   },
   {
    "duration": 22,
    "start_time": "2022-07-08T13:53:25.084Z"
   },
   {
    "duration": 13,
    "start_time": "2022-07-08T13:53:25.108Z"
   },
   {
    "duration": 12,
    "start_time": "2022-07-08T13:53:25.123Z"
   },
   {
    "duration": 10,
    "start_time": "2022-07-08T13:53:25.137Z"
   },
   {
    "duration": 15,
    "start_time": "2022-07-08T13:53:25.149Z"
   },
   {
    "duration": 62,
    "start_time": "2022-07-08T13:53:25.168Z"
   },
   {
    "duration": 75,
    "start_time": "2022-07-08T13:53:25.232Z"
   },
   {
    "duration": 19,
    "start_time": "2022-07-08T13:53:25.309Z"
   },
   {
    "duration": 14,
    "start_time": "2022-07-08T13:53:25.330Z"
   },
   {
    "duration": 83,
    "start_time": "2022-07-08T13:53:25.345Z"
   },
   {
    "duration": 10,
    "start_time": "2022-07-08T13:53:25.430Z"
   },
   {
    "duration": 10,
    "start_time": "2022-07-08T13:53:25.441Z"
   },
   {
    "duration": 12,
    "start_time": "2022-07-08T13:53:25.453Z"
   },
   {
    "duration": 35,
    "start_time": "2022-07-08T13:53:25.467Z"
   },
   {
    "duration": 10,
    "start_time": "2022-07-08T13:53:25.504Z"
   },
   {
    "duration": 13,
    "start_time": "2022-07-08T13:53:25.516Z"
   },
   {
    "duration": 20,
    "start_time": "2022-07-08T13:53:25.531Z"
   },
   {
    "duration": 49,
    "start_time": "2022-07-08T13:53:25.553Z"
   },
   {
    "duration": 6,
    "start_time": "2022-07-08T13:53:25.604Z"
   },
   {
    "duration": 10,
    "start_time": "2022-07-08T13:53:25.612Z"
   },
   {
    "duration": 6,
    "start_time": "2022-07-08T13:53:25.623Z"
   },
   {
    "duration": 176,
    "start_time": "2022-07-08T13:53:25.631Z"
   },
   {
    "duration": 161,
    "start_time": "2022-07-08T13:53:25.809Z"
   },
   {
    "duration": 146,
    "start_time": "2022-07-08T13:53:25.975Z"
   },
   {
    "duration": 9,
    "start_time": "2022-07-08T13:53:26.122Z"
   },
   {
    "duration": 26,
    "start_time": "2022-07-08T13:53:26.132Z"
   },
   {
    "duration": 8,
    "start_time": "2022-07-08T13:53:26.160Z"
   },
   {
    "duration": 154,
    "start_time": "2022-07-08T13:53:26.170Z"
   },
   {
    "duration": 149,
    "start_time": "2022-07-08T13:53:26.326Z"
   },
   {
    "duration": 5,
    "start_time": "2022-07-08T13:53:26.477Z"
   },
   {
    "duration": 10,
    "start_time": "2022-07-08T13:53:26.497Z"
   },
   {
    "duration": 4,
    "start_time": "2022-07-08T13:53:26.509Z"
   },
   {
    "duration": 14,
    "start_time": "2022-07-08T13:53:26.515Z"
   },
   {
    "duration": 12,
    "start_time": "2022-07-08T13:53:26.530Z"
   },
   {
    "duration": 19,
    "start_time": "2022-07-08T13:53:26.544Z"
   },
   {
    "duration": 34,
    "start_time": "2022-07-08T13:53:26.565Z"
   },
   {
    "duration": 16,
    "start_time": "2022-07-08T13:53:26.601Z"
   },
   {
    "duration": 205,
    "start_time": "2022-07-08T13:53:26.619Z"
   },
   {
    "duration": 155,
    "start_time": "2022-07-08T13:53:26.826Z"
   },
   {
    "duration": 16,
    "start_time": "2022-07-08T13:53:26.982Z"
   },
   {
    "duration": 13,
    "start_time": "2022-07-08T13:53:27.000Z"
   },
   {
    "duration": 302,
    "start_time": "2022-07-08T13:53:27.014Z"
   },
   {
    "duration": 5,
    "start_time": "2022-07-08T13:53:27.318Z"
   },
   {
    "duration": 148,
    "start_time": "2022-07-08T13:53:27.324Z"
   },
   {
    "duration": 4,
    "start_time": "2022-07-08T13:53:27.474Z"
   },
   {
    "duration": 945,
    "start_time": "2022-07-08T13:53:27.480Z"
   },
   {
    "duration": 4,
    "start_time": "2022-07-08T13:53:28.427Z"
   },
   {
    "duration": 737,
    "start_time": "2022-07-08T13:53:28.433Z"
   },
   {
    "duration": 3,
    "start_time": "2022-07-08T13:53:29.172Z"
   },
   {
    "duration": 562,
    "start_time": "2022-07-08T13:53:29.177Z"
   },
   {
    "duration": 4,
    "start_time": "2022-07-08T13:53:29.741Z"
   },
   {
    "duration": 21,
    "start_time": "2022-07-08T13:53:29.747Z"
   },
   {
    "duration": 383,
    "start_time": "2022-07-08T13:53:29.770Z"
   },
   {
    "duration": 393,
    "start_time": "2022-07-08T13:53:30.155Z"
   },
   {
    "duration": 10,
    "start_time": "2022-07-08T13:53:30.550Z"
   },
   {
    "duration": 22,
    "start_time": "2022-07-08T13:53:30.562Z"
   },
   {
    "duration": 17,
    "start_time": "2022-07-08T13:53:30.585Z"
   },
   {
    "duration": 8,
    "start_time": "2022-07-08T13:53:30.604Z"
   },
   {
    "duration": 9,
    "start_time": "2022-07-08T13:53:30.614Z"
   },
   {
    "duration": 18,
    "start_time": "2022-07-08T13:53:30.624Z"
   },
   {
    "duration": 280,
    "start_time": "2022-07-08T13:53:30.644Z"
   },
   {
    "duration": 7,
    "start_time": "2022-07-08T13:53:30.926Z"
   },
   {
    "duration": 23,
    "start_time": "2022-07-08T13:53:30.934Z"
   },
   {
    "duration": 13,
    "start_time": "2022-07-08T13:53:30.959Z"
   },
   {
    "duration": 18,
    "start_time": "2022-07-08T13:53:30.974Z"
   },
   {
    "duration": 8,
    "start_time": "2022-07-08T13:53:30.995Z"
   },
   {
    "duration": 9,
    "start_time": "2022-07-08T13:53:31.005Z"
   },
   {
    "duration": 26,
    "start_time": "2022-07-08T13:53:31.016Z"
   },
   {
    "duration": 6,
    "start_time": "2022-07-08T13:53:31.044Z"
   },
   {
    "duration": 18,
    "start_time": "2022-07-08T13:53:31.051Z"
   },
   {
    "duration": 7,
    "start_time": "2022-07-08T13:53:31.071Z"
   },
   {
    "duration": 30,
    "start_time": "2022-07-08T13:53:31.080Z"
   },
   {
    "duration": 4,
    "start_time": "2022-07-08T13:53:31.113Z"
   },
   {
    "duration": 15,
    "start_time": "2022-07-08T13:53:31.119Z"
   },
   {
    "duration": 8,
    "start_time": "2022-07-08T13:53:31.137Z"
   },
   {
    "duration": 1191,
    "start_time": "2022-07-08T13:53:31.147Z"
   },
   {
    "duration": 55,
    "start_time": "2022-07-10T08:12:34.408Z"
   }
  ],
  "kernelspec": {
   "display_name": "Python 3 (ipykernel)",
   "language": "python",
   "name": "python3"
  },
  "language_info": {
   "codemirror_mode": {
    "name": "ipython",
    "version": 3
   },
   "file_extension": ".py",
   "mimetype": "text/x-python",
   "name": "python",
   "nbconvert_exporter": "python",
   "pygments_lexer": "ipython3",
   "version": "3.9.5"
  },
  "toc": {
   "base_numbering": 1,
   "nav_menu": {},
   "number_sections": true,
   "sideBar": true,
   "skip_h1_title": true,
   "title_cell": "Table of Contents",
   "title_sidebar": "Contents",
   "toc_cell": false,
   "toc_position": {},
   "toc_section_display": true,
   "toc_window_display": false
  }
 },
 "nbformat": 4,
 "nbformat_minor": 2
}
