{
 "cells": [
  {
   "cell_type": "markdown",
   "id": "2de8ffa6",
   "metadata": {},
   "source": [
    "# Описание проекта"
   ]
  },
  {
   "cell_type": "markdown",
   "id": "d6d00fe1",
   "metadata": {},
   "source": [
    "Вы работаете в интернет-магазине «Стримчик», который продаёт по всему миру компьютерные игры. Из открытых источников доступны исторические данные о продажах игр, оценки пользователей и экспертов, жанры и платформы (например, Xbox или PlayStation). Вам нужно выявить определяющие успешность игры закономерности. Это позволит сделать ставку на потенциально популярный продукт и спланировать рекламные кампании.\n",
    "Перед вами данные до 2016 года. Представим, что сейчас декабрь 2016 г., и вы планируете кампанию на 2017-й. Нужно отработать принцип работы с данными. Неважно, прогнозируете ли вы продажи на 2017 год по данным 2016-го или же 2027-й — по данным 2026 года.\n",
    "В наборе данных попадается аббревиатура ESRB (Entertainment Software Rating Board) — это ассоциация, определяющая возрастной рейтинг компьютерных игр. ESRB оценивает игровой контент и присваивает ему подходящую возрастную категорию, например, «Для взрослых», «Для детей младшего возраста» или «Для подростков»."
   ]
  },
  {
   "cell_type": "markdown",
   "id": "db26e2e2",
   "metadata": {},
   "source": [
    "Инструкция по выполнению проекта\n",
    "Шаг 1. Откройте файл с данными и изучите общую информацию\n",
    "Путь к файлу: /datasets/games.csv. Скачать датасет\n",
    "Шаг 2. Подготовьте данные\n",
    "Замените названия столбцов (приведите к нижнему регистру);\n",
    "Преобразуйте данные в нужные типы. Опишите, в каких столбцах заменили тип данных и почему;\n",
    "Обработайте пропуски при необходимости:\n",
    "Объясните, почему заполнили пропуски определённым образом или почему не стали это делать;\n",
    "Опишите причины, которые могли привести к пропускам;\n",
    "Обратите внимание на аббревиатуру 'tbd' в столбце с оценкой пользователей. Отдельно разберите это значение и опишите, как его обработать;\n",
    "Посчитайте суммарные продажи во всех регионах и запишите их в отдельный столбец.\n",
    "Шаг 3. Проведите исследовательский анализ данных\n",
    "Посмотрите, сколько игр выпускалось в разные годы. Важны ли данные за все периоды?\n",
    "Посмотрите, как менялись продажи по платформам. Выберите платформы с наибольшими суммарными продажами и постройте распределение по годам. За какой характерный срок появляются новые и исчезают старые платформы?\n",
    "Возьмите данные за соответствующий актуальный период. Актуальный период определите самостоятельно в результате исследования предыдущих вопросов. Основной фактор — эти данные помогут построить прогноз на 2017 год.\n",
    "Не учитывайте в работе данные за предыдущие годы.\n",
    "Какие платформы лидируют по продажам, растут или падают? Выберите несколько потенциально прибыльных платформ.\n",
    "Постройте график «ящик с усами» по глобальным продажам игр в разбивке по платформам. Опишите результат.\n",
    "Посмотрите, как влияют на продажи внутри одной популярной платформы отзывы пользователей и критиков. Постройте диаграмму рассеяния и посчитайте корреляцию между отзывами и продажами. Сформулируйте выводы.\n",
    "Соотнесите выводы с продажами игр на других платформах.\n",
    "Посмотрите на общее распределение игр по жанрам. Что можно сказать о самых прибыльных жанрах? Выделяются ли жанры с высокими и низкими продажами?\n",
    "Шаг 4. Составьте портрет пользователя каждого региона\n",
    "Определите для пользователя каждого региона (NA, EU, JP):\n",
    "Самые популярные платформы (топ-5). Опишите различия в долях продаж.\n",
    "Самые популярные жанры (топ-5). Поясните разницу.\n",
    "Влияет ли рейтинг ESRB на продажи в отдельном регионе?\n",
    "Шаг 5. Проверьте гипотезы\n",
    "Средние пользовательские рейтинги платформ Xbox One и PC одинаковые;\n",
    "Средние пользовательские рейтинги жанров Action (англ. «действие», экшен-игры) и Sports (англ. «спортивные соревнования») разные.\n",
    "Задайте самостоятельно пороговое значение alpha.\n",
    "Поясните:\n",
    "Как вы сформулировали нулевую и альтернативную гипотезы;\n",
    "Какой критерий применили для проверки гипотез и почему.\n",
    "Шаг 6. Напишите общий вывод\n",
    "Оформление: Выполните задание в Jupyter Notebook. Заполните программный код в ячейках типа code, текстовые пояснения — в ячейках типа markdown. Примените форматирование и заголовки."
   ]
  },
  {
   "cell_type": "markdown",
   "id": "b125a29d",
   "metadata": {},
   "source": [
    "# Откройте файл с данными и изучите общую информацию"
   ]
  },
  {
   "cell_type": "code",
   "execution_count": 1,
   "id": "bd1e4e05",
   "metadata": {},
   "outputs": [],
   "source": [
    "import pandas as pd\n",
    "import seaborn as sns\n",
    "import matplotlib.pyplot as plt\n",
    "from scipy import stats as st"
   ]
  },
  {
   "cell_type": "code",
   "execution_count": 3,
   "id": "1288729c",
   "metadata": {},
   "outputs": [],
   "source": [
    "data =  pd.read_csv('/datasets/games.csv',sep=',')"
   ]
  },
  {
   "cell_type": "code",
   "execution_count": 4,
   "id": "8cc745e9",
   "metadata": {},
   "outputs": [
    {
     "name": "stdout",
     "output_type": "stream",
     "text": [
      "<class 'pandas.core.frame.DataFrame'>\n",
      "RangeIndex: 16715 entries, 0 to 16714\n",
      "Data columns (total 11 columns):\n",
      " #   Column           Non-Null Count  Dtype  \n",
      "---  ------           --------------  -----  \n",
      " 0   Name             16713 non-null  object \n",
      " 1   Platform         16715 non-null  object \n",
      " 2   Year_of_Release  16446 non-null  float64\n",
      " 3   Genre            16713 non-null  object \n",
      " 4   NA_sales         16715 non-null  float64\n",
      " 5   EU_sales         16715 non-null  float64\n",
      " 6   JP_sales         16715 non-null  float64\n",
      " 7   Other_sales      16715 non-null  float64\n",
      " 8   Critic_Score     8137 non-null   float64\n",
      " 9   User_Score       10014 non-null  object \n",
      " 10  Rating           9949 non-null   object \n",
      "dtypes: float64(6), object(5)\n",
      "memory usage: 1.4+ MB\n"
     ]
    }
   ],
   "source": [
    "data.info()"
   ]
  },
  {
   "cell_type": "code",
   "execution_count": 5,
   "id": "d8785273",
   "metadata": {},
   "outputs": [
    {
     "data": {
      "text/html": [
       "<div>\n",
       "<style scoped>\n",
       "    .dataframe tbody tr th:only-of-type {\n",
       "        vertical-align: middle;\n",
       "    }\n",
       "\n",
       "    .dataframe tbody tr th {\n",
       "        vertical-align: top;\n",
       "    }\n",
       "\n",
       "    .dataframe thead th {\n",
       "        text-align: right;\n",
       "    }\n",
       "</style>\n",
       "<table border=\"1\" class=\"dataframe\">\n",
       "  <thead>\n",
       "    <tr style=\"text-align: right;\">\n",
       "      <th></th>\n",
       "      <th>Name</th>\n",
       "      <th>Platform</th>\n",
       "      <th>Year_of_Release</th>\n",
       "      <th>Genre</th>\n",
       "      <th>NA_sales</th>\n",
       "      <th>EU_sales</th>\n",
       "      <th>JP_sales</th>\n",
       "      <th>Other_sales</th>\n",
       "      <th>Critic_Score</th>\n",
       "      <th>User_Score</th>\n",
       "      <th>Rating</th>\n",
       "    </tr>\n",
       "  </thead>\n",
       "  <tbody>\n",
       "    <tr>\n",
       "      <th>0</th>\n",
       "      <td>Wii Sports</td>\n",
       "      <td>Wii</td>\n",
       "      <td>2006.0</td>\n",
       "      <td>Sports</td>\n",
       "      <td>41.36</td>\n",
       "      <td>28.96</td>\n",
       "      <td>3.77</td>\n",
       "      <td>8.45</td>\n",
       "      <td>76.0</td>\n",
       "      <td>8</td>\n",
       "      <td>E</td>\n",
       "    </tr>\n",
       "    <tr>\n",
       "      <th>1</th>\n",
       "      <td>Super Mario Bros.</td>\n",
       "      <td>NES</td>\n",
       "      <td>1985.0</td>\n",
       "      <td>Platform</td>\n",
       "      <td>29.08</td>\n",
       "      <td>3.58</td>\n",
       "      <td>6.81</td>\n",
       "      <td>0.77</td>\n",
       "      <td>NaN</td>\n",
       "      <td>NaN</td>\n",
       "      <td>NaN</td>\n",
       "    </tr>\n",
       "    <tr>\n",
       "      <th>2</th>\n",
       "      <td>Mario Kart Wii</td>\n",
       "      <td>Wii</td>\n",
       "      <td>2008.0</td>\n",
       "      <td>Racing</td>\n",
       "      <td>15.68</td>\n",
       "      <td>12.76</td>\n",
       "      <td>3.79</td>\n",
       "      <td>3.29</td>\n",
       "      <td>82.0</td>\n",
       "      <td>8.3</td>\n",
       "      <td>E</td>\n",
       "    </tr>\n",
       "    <tr>\n",
       "      <th>3</th>\n",
       "      <td>Wii Sports Resort</td>\n",
       "      <td>Wii</td>\n",
       "      <td>2009.0</td>\n",
       "      <td>Sports</td>\n",
       "      <td>15.61</td>\n",
       "      <td>10.93</td>\n",
       "      <td>3.28</td>\n",
       "      <td>2.95</td>\n",
       "      <td>80.0</td>\n",
       "      <td>8</td>\n",
       "      <td>E</td>\n",
       "    </tr>\n",
       "    <tr>\n",
       "      <th>4</th>\n",
       "      <td>Pokemon Red/Pokemon Blue</td>\n",
       "      <td>GB</td>\n",
       "      <td>1996.0</td>\n",
       "      <td>Role-Playing</td>\n",
       "      <td>11.27</td>\n",
       "      <td>8.89</td>\n",
       "      <td>10.22</td>\n",
       "      <td>1.00</td>\n",
       "      <td>NaN</td>\n",
       "      <td>NaN</td>\n",
       "      <td>NaN</td>\n",
       "    </tr>\n",
       "  </tbody>\n",
       "</table>\n",
       "</div>"
      ],
      "text/plain": [
       "                       Name Platform  Year_of_Release         Genre  NA_sales  \\\n",
       "0                Wii Sports      Wii           2006.0        Sports     41.36   \n",
       "1         Super Mario Bros.      NES           1985.0      Platform     29.08   \n",
       "2            Mario Kart Wii      Wii           2008.0        Racing     15.68   \n",
       "3         Wii Sports Resort      Wii           2009.0        Sports     15.61   \n",
       "4  Pokemon Red/Pokemon Blue       GB           1996.0  Role-Playing     11.27   \n",
       "\n",
       "   EU_sales  JP_sales  Other_sales  Critic_Score User_Score Rating  \n",
       "0     28.96      3.77         8.45          76.0          8      E  \n",
       "1      3.58      6.81         0.77           NaN        NaN    NaN  \n",
       "2     12.76      3.79         3.29          82.0        8.3      E  \n",
       "3     10.93      3.28         2.95          80.0          8      E  \n",
       "4      8.89     10.22         1.00           NaN        NaN    NaN  "
      ]
     },
     "execution_count": 5,
     "metadata": {},
     "output_type": "execute_result"
    }
   ],
   "source": [
    "data.head()"
   ]
  },
  {
   "cell_type": "markdown",
   "id": "833422ab",
   "metadata": {},
   "source": [
    "Вывод : Колонка \"Year_of_Release\" - типа float64, навзвание колонок разного регистра, рейтинг К-А = Е. Так же имеются пропуски которые будет удалять или заполнять.\n"
   ]
  },
  {
   "cell_type": "markdown",
   "id": "e62fe548",
   "metadata": {},
   "source": [
    "# Подготовьте данные"
   ]
  },
  {
   "cell_type": "markdown",
   "id": "d8dad29a",
   "metadata": {},
   "source": [
    "## Замените названия столбцов (приведите к нижнему регистру)"
   ]
  },
  {
   "cell_type": "code",
   "execution_count": 6,
   "id": "e4acef8a",
   "metadata": {},
   "outputs": [
    {
     "data": {
      "text/plain": [
       "Index(['Name', 'Platform', 'Year_of_Release', 'Genre', 'NA_sales', 'EU_sales',\n",
       "       'JP_sales', 'Other_sales', 'Critic_Score', 'User_Score', 'Rating'],\n",
       "      dtype='object')"
      ]
     },
     "execution_count": 6,
     "metadata": {},
     "output_type": "execute_result"
    }
   ],
   "source": [
    "data.columns"
   ]
  },
  {
   "cell_type": "code",
   "execution_count": 7,
   "id": "3aa29981",
   "metadata": {},
   "outputs": [],
   "source": [
    "data.columns = map(str.lower, data.columns) #приводим к нижнему регистру."
   ]
  },
  {
   "cell_type": "code",
   "execution_count": 8,
   "id": "79c579da",
   "metadata": {},
   "outputs": [
    {
     "data": {
      "text/plain": [
       "Index(['name', 'platform', 'year_of_release', 'genre', 'na_sales', 'eu_sales',\n",
       "       'jp_sales', 'other_sales', 'critic_score', 'user_score', 'rating'],\n",
       "      dtype='object')"
      ]
     },
     "execution_count": 8,
     "metadata": {},
     "output_type": "execute_result"
    }
   ],
   "source": [
    "data.columns"
   ]
  },
  {
   "cell_type": "markdown",
   "id": "ab884e7f",
   "metadata": {},
   "source": [
    "## Преобразуйте данные в нужные типы. Опишите, в каких столбцах заменили тип данных и почему"
   ]
  },
  {
   "cell_type": "code",
   "execution_count": 9,
   "id": "0cad9b1f",
   "metadata": {},
   "outputs": [
    {
     "data": {
      "text/plain": [
       "array(['E', nan, 'M', 'T', 'E10+', 'K-A', 'AO', 'EC', 'RP'], dtype=object)"
      ]
     },
     "execution_count": 9,
     "metadata": {},
     "output_type": "execute_result"
    }
   ],
   "source": [
    "data['rating'].unique()"
   ]
  },
  {
   "cell_type": "code",
   "execution_count": 10,
   "id": "27a73184",
   "metadata": {},
   "outputs": [],
   "source": [
    "data['rating'] = data['rating'].replace('K-A', 'E') #https://ru.wikipedia.org/wiki/Entertainment_Software_Rating_Board"
   ]
  },
  {
   "cell_type": "code",
   "execution_count": 11,
   "id": "338a0280",
   "metadata": {},
   "outputs": [],
   "source": [
    "data['year_of_release'] = data['year_of_release'].fillna(-1).astype(int)"
   ]
  },
  {
   "cell_type": "code",
   "execution_count": 12,
   "id": "f93c034a",
   "metadata": {},
   "outputs": [],
   "source": [
    "data['user_score'] = data['user_score'].fillna(-1) #по такому же принципу поступим и с оценками."
   ]
  },
  {
   "cell_type": "markdown",
   "id": "03c88c95",
   "metadata": {},
   "source": [
    "Значения в столбцах 'year_of_release' и 'user_score' на -1, для того чтобы в будущем не сбивали нам подсчёты. Заменить на средние значение или медиану было бы не верно."
   ]
  },
  {
   "cell_type": "code",
   "execution_count": 13,
   "id": "04347d03",
   "metadata": {},
   "outputs": [],
   "source": [
    "data['user_score'] = data['user_score'].replace('tbd', -1)\n",
    "data['user_score'] = pd.to_numeric(data['user_score']) "
   ]
  },
  {
   "cell_type": "markdown",
   "id": "28a6290e",
   "metadata": {},
   "source": [
    "Обратите внимание на аббревиатуру 'tbd' в столбце с оценкой\n",
    "пользователей. Отдельно разберите это значение и опишите, как его\n",
    "обработать. tbd- будет определен позднее, новые данные нам конечно не предоставят и не доплнят существующие, заменим \"-1\""
   ]
  },
  {
   "cell_type": "code",
   "execution_count": 14,
   "id": "5471a93a",
   "metadata": {},
   "outputs": [
    {
     "data": {
      "text/html": [
       "<div>\n",
       "<style scoped>\n",
       "    .dataframe tbody tr th:only-of-type {\n",
       "        vertical-align: middle;\n",
       "    }\n",
       "\n",
       "    .dataframe tbody tr th {\n",
       "        vertical-align: top;\n",
       "    }\n",
       "\n",
       "    .dataframe thead th {\n",
       "        text-align: right;\n",
       "    }\n",
       "</style>\n",
       "<table border=\"1\" class=\"dataframe\">\n",
       "  <thead>\n",
       "    <tr style=\"text-align: right;\">\n",
       "      <th></th>\n",
       "      <th>name</th>\n",
       "      <th>platform</th>\n",
       "      <th>year_of_release</th>\n",
       "      <th>genre</th>\n",
       "      <th>na_sales</th>\n",
       "      <th>eu_sales</th>\n",
       "      <th>jp_sales</th>\n",
       "      <th>other_sales</th>\n",
       "      <th>critic_score</th>\n",
       "      <th>user_score</th>\n",
       "      <th>rating</th>\n",
       "    </tr>\n",
       "  </thead>\n",
       "  <tbody>\n",
       "    <tr>\n",
       "      <th>659</th>\n",
       "      <td>NaN</td>\n",
       "      <td>GEN</td>\n",
       "      <td>1993</td>\n",
       "      <td>NaN</td>\n",
       "      <td>1.78</td>\n",
       "      <td>0.53</td>\n",
       "      <td>0.00</td>\n",
       "      <td>0.08</td>\n",
       "      <td>NaN</td>\n",
       "      <td>-1.0</td>\n",
       "      <td>NaN</td>\n",
       "    </tr>\n",
       "    <tr>\n",
       "      <th>14244</th>\n",
       "      <td>NaN</td>\n",
       "      <td>GEN</td>\n",
       "      <td>1993</td>\n",
       "      <td>NaN</td>\n",
       "      <td>0.00</td>\n",
       "      <td>0.00</td>\n",
       "      <td>0.03</td>\n",
       "      <td>0.00</td>\n",
       "      <td>NaN</td>\n",
       "      <td>-1.0</td>\n",
       "      <td>NaN</td>\n",
       "    </tr>\n",
       "  </tbody>\n",
       "</table>\n",
       "</div>"
      ],
      "text/plain": [
       "      name platform  year_of_release genre  na_sales  eu_sales  jp_sales  \\\n",
       "659    NaN      GEN             1993   NaN      1.78      0.53      0.00   \n",
       "14244  NaN      GEN             1993   NaN      0.00      0.00      0.03   \n",
       "\n",
       "       other_sales  critic_score  user_score rating  \n",
       "659           0.08           NaN        -1.0    NaN  \n",
       "14244         0.00           NaN        -1.0    NaN  "
      ]
     },
     "execution_count": 14,
     "metadata": {},
     "output_type": "execute_result"
    }
   ],
   "source": [
    "data.query('name.isnull()') "
   ]
  },
  {
   "cell_type": "code",
   "execution_count": 15,
   "id": "71125054",
   "metadata": {},
   "outputs": [],
   "source": [
    "data.dropna(subset = ['name'], inplace = True) #всего 2 пропуска, удалить."
   ]
  },
  {
   "cell_type": "code",
   "execution_count": 16,
   "id": "1f6ab071",
   "metadata": {},
   "outputs": [],
   "source": [
    "data['critic_score'] = data['critic_score'].fillna(-1)\n",
    "data['rating'] = data['rating'].fillna('not_rating')"
   ]
  },
  {
   "cell_type": "code",
   "execution_count": 17,
   "id": "7db874c0",
   "metadata": {},
   "outputs": [
    {
     "name": "stdout",
     "output_type": "stream",
     "text": [
      "<class 'pandas.core.frame.DataFrame'>\n",
      "Int64Index: 16713 entries, 0 to 16714\n",
      "Data columns (total 12 columns):\n",
      " #   Column           Non-Null Count  Dtype  \n",
      "---  ------           --------------  -----  \n",
      " 0   name             16713 non-null  object \n",
      " 1   platform         16713 non-null  object \n",
      " 2   year_of_release  16713 non-null  int64  \n",
      " 3   genre            16713 non-null  object \n",
      " 4   na_sales         16713 non-null  float64\n",
      " 5   eu_sales         16713 non-null  float64\n",
      " 6   jp_sales         16713 non-null  float64\n",
      " 7   other_sales      16713 non-null  float64\n",
      " 8   critic_score     16713 non-null  float64\n",
      " 9   user_score       16713 non-null  float64\n",
      " 10  rating           16713 non-null  object \n",
      " 11  total_sales      16713 non-null  float64\n",
      "dtypes: float64(7), int64(1), object(4)\n",
      "memory usage: 1.7+ MB\n"
     ]
    }
   ],
   "source": [
    "data['total_sales'] = data['na_sales'] + data['eu_sales'] + data['jp_sales'] + data['other_sales']\n",
    "data.info() #Посчитайте суммарные продажи во всех регионах и запишите их в отдельный столбец."
   ]
  },
  {
   "cell_type": "code",
   "execution_count": 18,
   "id": "02f9974a",
   "metadata": {},
   "outputs": [
    {
     "data": {
      "text/plain": [
       "0"
      ]
     },
     "execution_count": 18,
     "metadata": {},
     "output_type": "execute_result"
    }
   ],
   "source": [
    "data.duplicated().sum()"
   ]
  },
  {
   "cell_type": "markdown",
   "id": "c3f78b81",
   "metadata": {},
   "source": [
    "Вывод : Пропуски заполнены, дубликатов нет. Все значения заполнены не характерным значением \"-1\", чтобы в дальнейшем нам не мешали подсчётам."
   ]
  },
  {
   "cell_type": "code",
   "execution_count": 19,
   "id": "f04c8a6f",
   "metadata": {},
   "outputs": [
    {
     "name": "stdout",
     "output_type": "stream",
     "text": [
      "<class 'pandas.core.frame.DataFrame'>\n",
      "Int64Index: 16713 entries, 0 to 16714\n",
      "Data columns (total 12 columns):\n",
      " #   Column           Non-Null Count  Dtype  \n",
      "---  ------           --------------  -----  \n",
      " 0   name             16713 non-null  object \n",
      " 1   platform         16713 non-null  object \n",
      " 2   year_of_release  16713 non-null  int64  \n",
      " 3   genre            16713 non-null  object \n",
      " 4   na_sales         16713 non-null  float64\n",
      " 5   eu_sales         16713 non-null  float64\n",
      " 6   jp_sales         16713 non-null  float64\n",
      " 7   other_sales      16713 non-null  float64\n",
      " 8   critic_score     16713 non-null  float64\n",
      " 9   user_score       16713 non-null  float64\n",
      " 10  rating           16713 non-null  object \n",
      " 11  total_sales      16713 non-null  float64\n",
      "dtypes: float64(7), int64(1), object(4)\n",
      "memory usage: 1.7+ MB\n",
      "None\n",
      "-------------------------\n",
      "name ['Wii Sports' 'Super Mario Bros.' 'Mario Kart Wii' ...\n",
      " 'Woody Woodpecker in Crazy Castle 5' 'LMA Manager 2007'\n",
      " 'Haitaka no Psychedelica']\n",
      "name : кол-во NaN 0 , процент NaN 0.0 %\n",
      "-------------------------\n",
      "platform ['Wii' 'NES' 'GB' 'DS' 'X360' 'PS3' 'PS2' 'SNES' 'GBA' 'PS4' '3DS' 'N64'\n",
      " 'PS' 'XB' 'PC' '2600' 'PSP' 'XOne' 'WiiU' 'GC' 'GEN' 'DC' 'PSV' 'SAT'\n",
      " 'SCD' 'WS' 'NG' 'TG16' '3DO' 'GG' 'PCFX']\n",
      "platform : кол-во NaN 0 , процент NaN 0.0 %\n",
      "-------------------------\n",
      "year_of_release [2006 1985 2008 2009 1996 1989 1984 2005 1999 2007 2010 2013 2004 1990\n",
      " 1988 2002 2001 2011 1998 2015 2012 2014 1992 1997 1993 1994 1982 2016\n",
      " 2003 1986 2000   -1 1995 1991 1981 1987 1980 1983]\n",
      "year_of_release : кол-во NaN 0 , процент NaN 0.0 %\n",
      "-------------------------\n",
      "genre ['Sports' 'Platform' 'Racing' 'Role-Playing' 'Puzzle' 'Misc' 'Shooter'\n",
      " 'Simulation' 'Action' 'Fighting' 'Adventure' 'Strategy']\n",
      "genre : кол-во NaN 0 , процент NaN 0.0 %\n",
      "-------------------------\n",
      "critic_score [76. -1. 82. 80. 89. 58. 87. 91. 61. 97. 95. 77. 88. 83. 94. 93. 85. 86.\n",
      " 98. 96. 90. 84. 73. 74. 78. 92. 71. 72. 68. 62. 49. 67. 81. 66. 56. 79.\n",
      " 70. 59. 64. 75. 60. 63. 69. 50. 25. 42. 44. 55. 48. 57. 29. 47. 65. 54.\n",
      " 20. 53. 37. 38. 33. 52. 30. 32. 43. 45. 51. 40. 46. 39. 34. 35. 41. 36.\n",
      " 28. 31. 27. 26. 19. 23. 24. 21. 17. 22. 13.]\n",
      "critic_score : кол-во NaN 0 , процент NaN 0.0 %\n",
      "-------------------------\n",
      "user_score [ 8.  -1.   8.3  8.5  6.6  8.4  8.6  7.7  6.3  7.4  8.2  9.   7.9  8.1\n",
      "  8.7  7.1  3.4  5.3  4.8  3.2  8.9  6.4  7.8  7.5  2.6  7.2  9.2  7.\n",
      "  7.3  4.3  7.6  5.7  5.   9.1  6.5  8.8  6.9  9.4  6.8  6.1  6.7  5.4\n",
      "  4.   4.9  4.5  9.3  6.2  4.2  6.   3.7  4.1  5.8  5.6  5.5  4.4  4.6\n",
      "  5.9  3.9  3.1  2.9  5.2  3.3  4.7  5.1  3.5  2.5  1.9  3.   2.7  2.2\n",
      "  2.   9.5  2.1  3.6  2.8  1.8  3.8  0.   1.6  9.6  2.4  1.7  1.1  0.3\n",
      "  1.5  0.7  1.2  2.3  0.5  1.3  0.2  0.6  1.4  0.9  1.   9.7]\n",
      "user_score : кол-во NaN 0 , процент NaN 0.0 %\n",
      "-------------------------\n",
      "rating ['E' 'not_rating' 'M' 'T' 'E10+' 'AO' 'EC' 'RP']\n",
      "rating : кол-во NaN 0 , процент NaN 0.0 %\n"
     ]
    }
   ],
   "source": [
    "# Комментарий ревьюера\n",
    "# Посмотрим, что у нас осталось\n",
    "temp = data.copy() \n",
    "list_c = ['name', 'platform', 'year_of_release', 'genre', 'critic_score', 'user_score', 'rating']\n",
    "print(temp.info())\n",
    "for col_l in list_c:\n",
    "  print('-------------------------')\n",
    "  print(col_l, temp[col_l].unique())\n",
    "  print(col_l,': кол-во NaN',temp[col_l].isna().sum(),', процент NaN', round(temp[col_l].isna().sum()/len(temp)*100, 2),'%')"
   ]
  },
  {
   "cell_type": "markdown",
   "id": "6833e564",
   "metadata": {},
   "source": [
    "# Проведите исследовательский анализ данных"
   ]
  },
  {
   "cell_type": "markdown",
   "id": "31e8e80c",
   "metadata": {},
   "source": [
    "Посмотрите, сколько игр выпускалось в разные годы. Важны ли данные за все периоды?\n"
   ]
  },
  {
   "cell_type": "code",
   "execution_count": 20,
   "id": "8de655dc",
   "metadata": {},
   "outputs": [
    {
     "data": {
      "text/plain": [
       "Text(0.5, 0, 'Год выпуска')"
      ]
     },
     "execution_count": 20,
     "metadata": {},
     "output_type": "execute_result"
    },
    {
     "data": {
      "image/png": "[encoded data removed]",
      "text/plain": [
       "<Figure size 432x432 with 1 Axes>"
      ]
     },
     "metadata": {
      "needs_background": "light"
     },
     "output_type": "display_data"
    }
   ],
   "source": [
    "count_by_year = data.query('year_of_release >= 1980').groupby('year_of_release')['name'].count()\n",
    "count_by_year.plot(figsize=(6, 6), title='Кол-во выпущенных игр по годам')\n",
    "ax = plt.gca()\n",
    "ax.set_ylabel('Игры, шт.')\n",
    "ax.set_xlabel('Год выпуска')"
   ]
  },
  {
   "cell_type": "markdown",
   "id": "b97b58eb",
   "metadata": {},
   "source": [
    "Видим, что до 2009 был огромный рост выпуска игр. Думаю связанно это с большим кол-вом различных приставок. Актульно будет брать срез по играм от 2011 года, показатели будут более приближенны к нынешним цифрам."
   ]
  },
  {
   "cell_type": "markdown",
   "id": "0b7fb391",
   "metadata": {},
   "source": [
    "Посмотрите, как менялись продажи по платформам. Выберите платформы с наибольшими суммарными продажами и постройте распределение по годам. За какой характерный срок появляются новые и исчезают старые платформы?"
   ]
  },
  {
   "cell_type": "code",
   "execution_count": 21,
   "id": "ea6ff3e0",
   "metadata": {},
   "outputs": [
    {
     "data": {
      "text/html": [
       "<div>\n",
       "<style scoped>\n",
       "    .dataframe tbody tr th:only-of-type {\n",
       "        vertical-align: middle;\n",
       "    }\n",
       "\n",
       "    .dataframe tbody tr th {\n",
       "        vertical-align: top;\n",
       "    }\n",
       "\n",
       "    .dataframe thead th {\n",
       "        text-align: right;\n",
       "    }\n",
       "</style>\n",
       "<table border=\"1\" class=\"dataframe\">\n",
       "  <thead>\n",
       "    <tr style=\"text-align: right;\">\n",
       "      <th>year_of_release</th>\n",
       "      <th>2012</th>\n",
       "      <th>2013</th>\n",
       "      <th>2014</th>\n",
       "      <th>2015</th>\n",
       "      <th>2016</th>\n",
       "    </tr>\n",
       "    <tr>\n",
       "      <th>platform</th>\n",
       "      <th></th>\n",
       "      <th></th>\n",
       "      <th></th>\n",
       "      <th></th>\n",
       "      <th></th>\n",
       "    </tr>\n",
       "  </thead>\n",
       "  <tbody>\n",
       "    <tr>\n",
       "      <th>3DS</th>\n",
       "      <td>93.0</td>\n",
       "      <td>91.0</td>\n",
       "      <td>80.0</td>\n",
       "      <td>86.0</td>\n",
       "      <td>46.0</td>\n",
       "    </tr>\n",
       "    <tr>\n",
       "      <th>DS</th>\n",
       "      <td>23.0</td>\n",
       "      <td>8.0</td>\n",
       "      <td>-</td>\n",
       "      <td>-</td>\n",
       "      <td>-</td>\n",
       "    </tr>\n",
       "    <tr>\n",
       "      <th>PC</th>\n",
       "      <td>61.0</td>\n",
       "      <td>38.0</td>\n",
       "      <td>47.0</td>\n",
       "      <td>50.0</td>\n",
       "      <td>54.0</td>\n",
       "    </tr>\n",
       "    <tr>\n",
       "      <th>PS3</th>\n",
       "      <td>148.0</td>\n",
       "      <td>126.0</td>\n",
       "      <td>108.0</td>\n",
       "      <td>73.0</td>\n",
       "      <td>38.0</td>\n",
       "    </tr>\n",
       "    <tr>\n",
       "      <th>PS4</th>\n",
       "      <td>-</td>\n",
       "      <td>16.0</td>\n",
       "      <td>75.0</td>\n",
       "      <td>137.0</td>\n",
       "      <td>164.0</td>\n",
       "    </tr>\n",
       "    <tr>\n",
       "      <th>PSP</th>\n",
       "      <td>106.0</td>\n",
       "      <td>54.0</td>\n",
       "      <td>10.0</td>\n",
       "      <td>3.0</td>\n",
       "      <td>-</td>\n",
       "    </tr>\n",
       "    <tr>\n",
       "      <th>PSV</th>\n",
       "      <td>53.0</td>\n",
       "      <td>63.0</td>\n",
       "      <td>100.0</td>\n",
       "      <td>110.0</td>\n",
       "      <td>85.0</td>\n",
       "    </tr>\n",
       "    <tr>\n",
       "      <th>Wii</th>\n",
       "      <td>31.0</td>\n",
       "      <td>12.0</td>\n",
       "      <td>6.0</td>\n",
       "      <td>4.0</td>\n",
       "      <td>1.0</td>\n",
       "    </tr>\n",
       "    <tr>\n",
       "      <th>WiiU</th>\n",
       "      <td>32.0</td>\n",
       "      <td>42.0</td>\n",
       "      <td>31.0</td>\n",
       "      <td>28.0</td>\n",
       "      <td>14.0</td>\n",
       "    </tr>\n",
       "    <tr>\n",
       "      <th>X360</th>\n",
       "      <td>106.0</td>\n",
       "      <td>75.0</td>\n",
       "      <td>63.0</td>\n",
       "      <td>35.0</td>\n",
       "      <td>13.0</td>\n",
       "    </tr>\n",
       "    <tr>\n",
       "      <th>XOne</th>\n",
       "      <td>-</td>\n",
       "      <td>19.0</td>\n",
       "      <td>61.0</td>\n",
       "      <td>80.0</td>\n",
       "      <td>87.0</td>\n",
       "    </tr>\n",
       "  </tbody>\n",
       "</table>\n",
       "</div>"
      ],
      "text/plain": [
       "year_of_release   2012   2013   2014   2015   2016\n",
       "platform                                          \n",
       "3DS               93.0   91.0   80.0   86.0   46.0\n",
       "DS                23.0    8.0      -      -      -\n",
       "PC                61.0   38.0   47.0   50.0   54.0\n",
       "PS3              148.0  126.0  108.0   73.0   38.0\n",
       "PS4                  -   16.0   75.0  137.0  164.0\n",
       "PSP              106.0   54.0   10.0    3.0      -\n",
       "PSV               53.0   63.0  100.0  110.0   85.0\n",
       "Wii               31.0   12.0    6.0    4.0    1.0\n",
       "WiiU              32.0   42.0   31.0   28.0   14.0\n",
       "X360             106.0   75.0   63.0   35.0   13.0\n",
       "XOne                 -   19.0   61.0   80.0   87.0"
      ]
     },
     "execution_count": 21,
     "metadata": {},
     "output_type": "execute_result"
    }
   ],
   "source": [
    "data.query('year_of_release > 2011').pivot_table(index='platform', columns='year_of_release', values='name', aggfunc='count', fill_value='-')"
   ]
  },
  {
   "cell_type": "markdown",
   "id": "a857817e",
   "metadata": {},
   "source": [
    "Видно, что в среднем платформы начинают новыю эру в 2005-2007 года(хотя уже с 2013 идёт новое поколение, но там мало данных), для дальнейшего использования возьмем срез за последние 5 лет, с 2011 года."
   ]
  },
  {
   "cell_type": "code",
   "execution_count": 22,
   "id": "15e63f39",
   "metadata": {},
   "outputs": [],
   "source": [
    " new_data = data.query('year_of_release >= 2011')"
   ]
  },
  {
   "cell_type": "code",
   "execution_count": 23,
   "id": "0eb79656",
   "metadata": {},
   "outputs": [
    {
     "data": {
      "text/html": [
       "<div>\n",
       "<style scoped>\n",
       "    .dataframe tbody tr th:only-of-type {\n",
       "        vertical-align: middle;\n",
       "    }\n",
       "\n",
       "    .dataframe tbody tr th {\n",
       "        vertical-align: top;\n",
       "    }\n",
       "\n",
       "    .dataframe thead th {\n",
       "        text-align: right;\n",
       "    }\n",
       "</style>\n",
       "<table border=\"1\" class=\"dataframe\">\n",
       "  <thead>\n",
       "    <tr style=\"text-align: right;\">\n",
       "      <th></th>\n",
       "      <th>platform</th>\n",
       "      <th>total_sales</th>\n",
       "    </tr>\n",
       "  </thead>\n",
       "  <tbody>\n",
       "    <tr>\n",
       "      <th>0</th>\n",
       "      <td>PS3</td>\n",
       "      <td>445.57</td>\n",
       "    </tr>\n",
       "    <tr>\n",
       "      <th>1</th>\n",
       "      <td>X360</td>\n",
       "      <td>380.38</td>\n",
       "    </tr>\n",
       "    <tr>\n",
       "      <th>2</th>\n",
       "      <td>PS4</td>\n",
       "      <td>314.14</td>\n",
       "    </tr>\n",
       "    <tr>\n",
       "      <th>3</th>\n",
       "      <td>3DS</td>\n",
       "      <td>257.81</td>\n",
       "    </tr>\n",
       "    <tr>\n",
       "      <th>4</th>\n",
       "      <td>XOne</td>\n",
       "      <td>159.32</td>\n",
       "    </tr>\n",
       "    <tr>\n",
       "      <th>5</th>\n",
       "      <td>PC</td>\n",
       "      <td>97.68</td>\n",
       "    </tr>\n",
       "    <tr>\n",
       "      <th>6</th>\n",
       "      <td>Wii</td>\n",
       "      <td>95.02</td>\n",
       "    </tr>\n",
       "    <tr>\n",
       "      <th>7</th>\n",
       "      <td>WiiU</td>\n",
       "      <td>82.19</td>\n",
       "    </tr>\n",
       "    <tr>\n",
       "      <th>8</th>\n",
       "      <td>PSV</td>\n",
       "      <td>53.81</td>\n",
       "    </tr>\n",
       "    <tr>\n",
       "      <th>9</th>\n",
       "      <td>DS</td>\n",
       "      <td>38.73</td>\n",
       "    </tr>\n",
       "  </tbody>\n",
       "</table>\n",
       "</div>"
      ],
      "text/plain": [
       "  platform  total_sales\n",
       "0      PS3       445.57\n",
       "1     X360       380.38\n",
       "2      PS4       314.14\n",
       "3      3DS       257.81\n",
       "4     XOne       159.32\n",
       "5       PC        97.68\n",
       "6      Wii        95.02\n",
       "7     WiiU        82.19\n",
       "8      PSV        53.81\n",
       "9       DS        38.73"
      ]
     },
     "execution_count": 23,
     "metadata": {},
     "output_type": "execute_result"
    }
   ],
   "source": [
    "platform_sales = new_data.groupby('platform')['total_sales'].sum().sort_values(ascending=False).reset_index()\n",
    "platform_sales.head(10)"
   ]
  },
  {
   "cell_type": "code",
   "execution_count": 24,
   "id": "46b3647d",
   "metadata": {},
   "outputs": [
    {
     "data": {
      "text/plain": [
       "['PS3',\n",
       " 'X360',\n",
       " 'PS4',\n",
       " '3DS',\n",
       " 'XOne',\n",
       " 'PC',\n",
       " 'Wii',\n",
       " 'WiiU',\n",
       " 'PSV',\n",
       " 'DS',\n",
       " 'PSP',\n",
       " 'PS2']"
      ]
     },
     "execution_count": 24,
     "metadata": {},
     "output_type": "execute_result"
    }
   ],
   "source": [
    "top_platforms = platform_sales['platform'].to_list() #создадим список платформ\n",
    "top_platforms"
   ]
  },
  {
   "cell_type": "code",
   "execution_count": 25,
   "id": "dcdeaccd",
   "metadata": {},
   "outputs": [
    {
     "data": {
      "text/html": [
       "<div>\n",
       "<style scoped>\n",
       "    .dataframe tbody tr th:only-of-type {\n",
       "        vertical-align: middle;\n",
       "    }\n",
       "\n",
       "    .dataframe tbody tr th {\n",
       "        vertical-align: top;\n",
       "    }\n",
       "\n",
       "    .dataframe thead th {\n",
       "        text-align: right;\n",
       "    }\n",
       "</style>\n",
       "<table border=\"1\" class=\"dataframe\">\n",
       "  <thead>\n",
       "    <tr style=\"text-align: right;\">\n",
       "      <th></th>\n",
       "      <th>name</th>\n",
       "      <th>platform</th>\n",
       "      <th>year_of_release</th>\n",
       "      <th>genre</th>\n",
       "      <th>na_sales</th>\n",
       "      <th>eu_sales</th>\n",
       "      <th>jp_sales</th>\n",
       "      <th>other_sales</th>\n",
       "      <th>critic_score</th>\n",
       "      <th>user_score</th>\n",
       "      <th>rating</th>\n",
       "      <th>total_sales</th>\n",
       "    </tr>\n",
       "  </thead>\n",
       "  <tbody>\n",
       "    <tr>\n",
       "      <th>16</th>\n",
       "      <td>Grand Theft Auto V</td>\n",
       "      <td>PS3</td>\n",
       "      <td>2013</td>\n",
       "      <td>Action</td>\n",
       "      <td>7.02</td>\n",
       "      <td>9.09</td>\n",
       "      <td>0.98</td>\n",
       "      <td>3.96</td>\n",
       "      <td>97.0</td>\n",
       "      <td>8.2</td>\n",
       "      <td>M</td>\n",
       "      <td>21.05</td>\n",
       "    </tr>\n",
       "    <tr>\n",
       "      <th>23</th>\n",
       "      <td>Grand Theft Auto V</td>\n",
       "      <td>X360</td>\n",
       "      <td>2013</td>\n",
       "      <td>Action</td>\n",
       "      <td>9.66</td>\n",
       "      <td>5.14</td>\n",
       "      <td>0.06</td>\n",
       "      <td>1.41</td>\n",
       "      <td>97.0</td>\n",
       "      <td>8.1</td>\n",
       "      <td>M</td>\n",
       "      <td>16.27</td>\n",
       "    </tr>\n",
       "    <tr>\n",
       "      <th>29</th>\n",
       "      <td>Call of Duty: Modern Warfare 3</td>\n",
       "      <td>X360</td>\n",
       "      <td>2011</td>\n",
       "      <td>Shooter</td>\n",
       "      <td>9.04</td>\n",
       "      <td>4.24</td>\n",
       "      <td>0.13</td>\n",
       "      <td>1.32</td>\n",
       "      <td>88.0</td>\n",
       "      <td>3.4</td>\n",
       "      <td>M</td>\n",
       "      <td>14.73</td>\n",
       "    </tr>\n",
       "    <tr>\n",
       "      <th>31</th>\n",
       "      <td>Call of Duty: Black Ops 3</td>\n",
       "      <td>PS4</td>\n",
       "      <td>2015</td>\n",
       "      <td>Shooter</td>\n",
       "      <td>6.03</td>\n",
       "      <td>5.86</td>\n",
       "      <td>0.36</td>\n",
       "      <td>2.38</td>\n",
       "      <td>-1.0</td>\n",
       "      <td>-1.0</td>\n",
       "      <td>not_rating</td>\n",
       "      <td>14.63</td>\n",
       "    </tr>\n",
       "    <tr>\n",
       "      <th>33</th>\n",
       "      <td>Pokemon X/Pokemon Y</td>\n",
       "      <td>3DS</td>\n",
       "      <td>2013</td>\n",
       "      <td>Role-Playing</td>\n",
       "      <td>5.28</td>\n",
       "      <td>4.19</td>\n",
       "      <td>4.35</td>\n",
       "      <td>0.78</td>\n",
       "      <td>-1.0</td>\n",
       "      <td>-1.0</td>\n",
       "      <td>not_rating</td>\n",
       "      <td>14.60</td>\n",
       "    </tr>\n",
       "    <tr>\n",
       "      <th>34</th>\n",
       "      <td>Call of Duty: Black Ops II</td>\n",
       "      <td>PS3</td>\n",
       "      <td>2012</td>\n",
       "      <td>Shooter</td>\n",
       "      <td>4.99</td>\n",
       "      <td>5.73</td>\n",
       "      <td>0.65</td>\n",
       "      <td>2.42</td>\n",
       "      <td>83.0</td>\n",
       "      <td>5.3</td>\n",
       "      <td>M</td>\n",
       "      <td>13.79</td>\n",
       "    </tr>\n",
       "    <tr>\n",
       "      <th>35</th>\n",
       "      <td>Call of Duty: Black Ops II</td>\n",
       "      <td>X360</td>\n",
       "      <td>2012</td>\n",
       "      <td>Shooter</td>\n",
       "      <td>8.25</td>\n",
       "      <td>4.24</td>\n",
       "      <td>0.07</td>\n",
       "      <td>1.12</td>\n",
       "      <td>83.0</td>\n",
       "      <td>4.8</td>\n",
       "      <td>M</td>\n",
       "      <td>13.68</td>\n",
       "    </tr>\n",
       "    <tr>\n",
       "      <th>37</th>\n",
       "      <td>Call of Duty: Modern Warfare 3</td>\n",
       "      <td>PS3</td>\n",
       "      <td>2011</td>\n",
       "      <td>Shooter</td>\n",
       "      <td>5.54</td>\n",
       "      <td>5.73</td>\n",
       "      <td>0.49</td>\n",
       "      <td>1.57</td>\n",
       "      <td>88.0</td>\n",
       "      <td>3.2</td>\n",
       "      <td>M</td>\n",
       "      <td>13.33</td>\n",
       "    </tr>\n",
       "    <tr>\n",
       "      <th>40</th>\n",
       "      <td>Mario Kart 7</td>\n",
       "      <td>3DS</td>\n",
       "      <td>2011</td>\n",
       "      <td>Racing</td>\n",
       "      <td>5.03</td>\n",
       "      <td>4.02</td>\n",
       "      <td>2.69</td>\n",
       "      <td>0.91</td>\n",
       "      <td>85.0</td>\n",
       "      <td>8.2</td>\n",
       "      <td>E</td>\n",
       "      <td>12.65</td>\n",
       "    </tr>\n",
       "    <tr>\n",
       "      <th>42</th>\n",
       "      <td>Grand Theft Auto V</td>\n",
       "      <td>PS4</td>\n",
       "      <td>2014</td>\n",
       "      <td>Action</td>\n",
       "      <td>3.96</td>\n",
       "      <td>6.31</td>\n",
       "      <td>0.38</td>\n",
       "      <td>1.97</td>\n",
       "      <td>97.0</td>\n",
       "      <td>8.3</td>\n",
       "      <td>M</td>\n",
       "      <td>12.62</td>\n",
       "    </tr>\n",
       "  </tbody>\n",
       "</table>\n",
       "</div>"
      ],
      "text/plain": [
       "                              name platform  year_of_release         genre  \\\n",
       "16              Grand Theft Auto V      PS3             2013        Action   \n",
       "23              Grand Theft Auto V     X360             2013        Action   \n",
       "29  Call of Duty: Modern Warfare 3     X360             2011       Shooter   \n",
       "31       Call of Duty: Black Ops 3      PS4             2015       Shooter   \n",
       "33             Pokemon X/Pokemon Y      3DS             2013  Role-Playing   \n",
       "34      Call of Duty: Black Ops II      PS3             2012       Shooter   \n",
       "35      Call of Duty: Black Ops II     X360             2012       Shooter   \n",
       "37  Call of Duty: Modern Warfare 3      PS3             2011       Shooter   \n",
       "40                    Mario Kart 7      3DS             2011        Racing   \n",
       "42              Grand Theft Auto V      PS4             2014        Action   \n",
       "\n",
       "    na_sales  eu_sales  jp_sales  other_sales  critic_score  user_score  \\\n",
       "16      7.02      9.09      0.98         3.96          97.0         8.2   \n",
       "23      9.66      5.14      0.06         1.41          97.0         8.1   \n",
       "29      9.04      4.24      0.13         1.32          88.0         3.4   \n",
       "31      6.03      5.86      0.36         2.38          -1.0        -1.0   \n",
       "33      5.28      4.19      4.35         0.78          -1.0        -1.0   \n",
       "34      4.99      5.73      0.65         2.42          83.0         5.3   \n",
       "35      8.25      4.24      0.07         1.12          83.0         4.8   \n",
       "37      5.54      5.73      0.49         1.57          88.0         3.2   \n",
       "40      5.03      4.02      2.69         0.91          85.0         8.2   \n",
       "42      3.96      6.31      0.38         1.97          97.0         8.3   \n",
       "\n",
       "        rating  total_sales  \n",
       "16           M        21.05  \n",
       "23           M        16.27  \n",
       "29           M        14.73  \n",
       "31  not_rating        14.63  \n",
       "33  not_rating        14.60  \n",
       "34           M        13.79  \n",
       "35           M        13.68  \n",
       "37           M        13.33  \n",
       "40           E        12.65  \n",
       "42           M        12.62  "
      ]
     },
     "execution_count": 25,
     "metadata": {},
     "output_type": "execute_result"
    }
   ],
   "source": [
    "game_stat_new_top = new_data.query('platform in @top_platforms')\n",
    "game_stat_new_top.head(10)"
   ]
  },
  {
   "cell_type": "code",
   "execution_count": 26,
   "id": "cf593bbf",
   "metadata": {},
   "outputs": [
    {
     "data": {
      "text/html": [
       "<div>\n",
       "<style scoped>\n",
       "    .dataframe tbody tr th:only-of-type {\n",
       "        vertical-align: middle;\n",
       "    }\n",
       "\n",
       "    .dataframe tbody tr th {\n",
       "        vertical-align: top;\n",
       "    }\n",
       "\n",
       "    .dataframe thead th {\n",
       "        text-align: right;\n",
       "    }\n",
       "</style>\n",
       "<table border=\"1\" class=\"dataframe\">\n",
       "  <thead>\n",
       "    <tr style=\"text-align: right;\">\n",
       "      <th>year_of_release</th>\n",
       "      <th>2011</th>\n",
       "      <th>2012</th>\n",
       "      <th>2013</th>\n",
       "      <th>2014</th>\n",
       "      <th>2015</th>\n",
       "      <th>2016</th>\n",
       "    </tr>\n",
       "    <tr>\n",
       "      <th>platform</th>\n",
       "      <th></th>\n",
       "      <th></th>\n",
       "      <th></th>\n",
       "      <th></th>\n",
       "      <th></th>\n",
       "      <th></th>\n",
       "    </tr>\n",
       "  </thead>\n",
       "  <tbody>\n",
       "    <tr>\n",
       "      <th>3DS</th>\n",
       "      <td>63.2</td>\n",
       "      <td>51.36</td>\n",
       "      <td>56.57</td>\n",
       "      <td>43.76</td>\n",
       "      <td>27.78</td>\n",
       "      <td>15.14</td>\n",
       "    </tr>\n",
       "    <tr>\n",
       "      <th>DS</th>\n",
       "      <td>26.18</td>\n",
       "      <td>11.01</td>\n",
       "      <td>1.54</td>\n",
       "      <td>-</td>\n",
       "      <td>-</td>\n",
       "      <td>-</td>\n",
       "    </tr>\n",
       "    <tr>\n",
       "      <th>PC</th>\n",
       "      <td>35.03</td>\n",
       "      <td>23.22</td>\n",
       "      <td>12.38</td>\n",
       "      <td>13.28</td>\n",
       "      <td>8.52</td>\n",
       "      <td>5.25</td>\n",
       "    </tr>\n",
       "    <tr>\n",
       "      <th>PS2</th>\n",
       "      <td>0.45</td>\n",
       "      <td>-</td>\n",
       "      <td>-</td>\n",
       "      <td>-</td>\n",
       "      <td>-</td>\n",
       "      <td>-</td>\n",
       "    </tr>\n",
       "    <tr>\n",
       "      <th>PS3</th>\n",
       "      <td>156.78</td>\n",
       "      <td>107.36</td>\n",
       "      <td>113.25</td>\n",
       "      <td>47.76</td>\n",
       "      <td>16.82</td>\n",
       "      <td>3.6</td>\n",
       "    </tr>\n",
       "    <tr>\n",
       "      <th>PS4</th>\n",
       "      <td>-</td>\n",
       "      <td>-</td>\n",
       "      <td>25.99</td>\n",
       "      <td>100.0</td>\n",
       "      <td>118.9</td>\n",
       "      <td>69.25</td>\n",
       "    </tr>\n",
       "    <tr>\n",
       "      <th>PSP</th>\n",
       "      <td>17.82</td>\n",
       "      <td>7.69</td>\n",
       "      <td>3.14</td>\n",
       "      <td>0.24</td>\n",
       "      <td>0.12</td>\n",
       "      <td>-</td>\n",
       "    </tr>\n",
       "    <tr>\n",
       "      <th>PSV</th>\n",
       "      <td>4.63</td>\n",
       "      <td>16.19</td>\n",
       "      <td>10.59</td>\n",
       "      <td>11.9</td>\n",
       "      <td>6.25</td>\n",
       "      <td>4.25</td>\n",
       "    </tr>\n",
       "    <tr>\n",
       "      <th>Wii</th>\n",
       "      <td>59.65</td>\n",
       "      <td>21.71</td>\n",
       "      <td>8.59</td>\n",
       "      <td>3.75</td>\n",
       "      <td>1.14</td>\n",
       "      <td>0.18</td>\n",
       "    </tr>\n",
       "    <tr>\n",
       "      <th>WiiU</th>\n",
       "      <td>-</td>\n",
       "      <td>17.56</td>\n",
       "      <td>21.65</td>\n",
       "      <td>22.03</td>\n",
       "      <td>16.35</td>\n",
       "      <td>4.6</td>\n",
       "    </tr>\n",
       "    <tr>\n",
       "      <th>X360</th>\n",
       "      <td>143.84</td>\n",
       "      <td>99.74</td>\n",
       "      <td>88.58</td>\n",
       "      <td>34.74</td>\n",
       "      <td>11.96</td>\n",
       "      <td>1.52</td>\n",
       "    </tr>\n",
       "    <tr>\n",
       "      <th>XOne</th>\n",
       "      <td>-</td>\n",
       "      <td>-</td>\n",
       "      <td>18.96</td>\n",
       "      <td>54.07</td>\n",
       "      <td>60.14</td>\n",
       "      <td>26.15</td>\n",
       "    </tr>\n",
       "  </tbody>\n",
       "</table>\n",
       "</div>"
      ],
      "text/plain": [
       "year_of_release    2011    2012    2013   2014   2015   2016\n",
       "platform                                                    \n",
       "3DS                63.2   51.36   56.57  43.76  27.78  15.14\n",
       "DS                26.18   11.01    1.54      -      -      -\n",
       "PC                35.03   23.22   12.38  13.28   8.52   5.25\n",
       "PS2                0.45       -       -      -      -      -\n",
       "PS3              156.78  107.36  113.25  47.76  16.82    3.6\n",
       "PS4                   -       -   25.99  100.0  118.9  69.25\n",
       "PSP               17.82    7.69    3.14   0.24   0.12      -\n",
       "PSV                4.63   16.19   10.59   11.9   6.25   4.25\n",
       "Wii               59.65   21.71    8.59   3.75   1.14   0.18\n",
       "WiiU                  -   17.56   21.65  22.03  16.35    4.6\n",
       "X360             143.84   99.74   88.58  34.74  11.96   1.52\n",
       "XOne                  -       -   18.96  54.07  60.14  26.15"
      ]
     },
     "execution_count": 26,
     "metadata": {},
     "output_type": "execute_result"
    }
   ],
   "source": [
    "#Посмотрим на новую таблицу\n",
    "game_stat_new_top.pivot_table(index='platform', columns='year_of_release', values='total_sales', aggfunc='sum', fill_value='-')"
   ]
  },
  {
   "cell_type": "markdown",
   "id": "8f707497",
   "metadata": {},
   "source": [
    "Видим, что пиковые значения приходились на 2011-2012 года. Далее дела идут более плачевно, но видно сразу гигимонов рынка. "
   ]
  },
  {
   "cell_type": "markdown",
   "id": "89a86dc5",
   "metadata": {},
   "source": [
    "Постройте график «ящик с усами» по глобальным продажам игр в разбивке по платформам. Опишите результат."
   ]
  },
  {
   "cell_type": "code",
   "execution_count": 27,
   "id": "241968be",
   "metadata": {},
   "outputs": [
    {
     "name": "stderr",
     "output_type": "stream",
     "text": [
      "/opt/conda/lib/python3.9/site-packages/seaborn/_decorators.py:36: FutureWarning: Pass the following variable as a keyword arg: x. From version 0.12, the only valid positional argument will be `data`, and passing other arguments without an explicit keyword will result in an error or misinterpretation.\n",
      "  warnings.warn(\n"
     ]
    },
    {
     "data": {
      "text/plain": [
       "Text(0.5, 0, 'Выручка, млн дол.')"
      ]
     },
     "execution_count": 27,
     "metadata": {},
     "output_type": "execute_result"
    },
    {
     "data": {
      "image/png": "[encoded data removed]",
      "text/plain": [
       "<Figure size 432x288 with 1 Axes>"
      ]
     },
     "metadata": {
      "needs_background": "light"
     },
     "output_type": "display_data"
    }
   ],
   "source": [
    "#берем только те игры, общие продажи которых больше 1 млн долларов\n",
    "s = new_data.query('total_sales > 1')\n",
    "ax = sns.boxplot('total_sales', data= s)\n",
    "ax.set_title('Глобальные сборы по играм')\n",
    "ax.set_xlabel('Выручка, млн дол.')"
   ]
  },
  {
   "cell_type": "markdown",
   "id": "beef83d8",
   "metadata": {},
   "source": [
    "Оу, разница в продажах есть и существенная. Кто-то продал на 80 млн."
   ]
  },
  {
   "cell_type": "code",
   "execution_count": 28,
   "id": "32dca119",
   "metadata": {},
   "outputs": [
    {
     "name": "stderr",
     "output_type": "stream",
     "text": [
      "/opt/conda/lib/python3.9/site-packages/seaborn/_decorators.py:36: FutureWarning: Pass the following variable as a keyword arg: x. From version 0.12, the only valid positional argument will be `data`, and passing other arguments without an explicit keyword will result in an error or misinterpretation.\n",
      "  warnings.warn(\n"
     ]
    },
    {
     "data": {
      "text/plain": [
       "Text(0.5, 0, 'Выручка, млн дол.')"
      ]
     },
     "execution_count": 28,
     "metadata": {},
     "output_type": "execute_result"
    },
    {
     "data": {
      "image/png": "[encoded data removed]",
      "text/plain": [
       "<Figure size 432x288 with 1 Axes>"
      ]
     },
     "metadata": {
      "needs_background": "light"
     },
     "output_type": "display_data"
    }
   ],
   "source": [
    "p = new_data.groupby('platform')['total_sales'].sum().reset_index()\n",
    "ax = sns.boxplot('total_sales', data=p)\n",
    "ax.set_title('Глобальные сборы по платформам')\n",
    "ax.set_xlabel('Выручка, млн дол.')"
   ]
  },
  {
   "cell_type": "code",
   "execution_count": 29,
   "id": "6b30cdda",
   "metadata": {},
   "outputs": [
    {
     "data": {
      "image/png": "[encoded data removed]",
      "text/plain": [
       "<Figure size 720x360 with 1 Axes>"
      ]
     },
     "metadata": {
      "needs_background": "light"
     },
     "output_type": "display_data"
    }
   ],
   "source": [
    "platform_best3=['PS4','XOne','3DS', 'X360','PS3']\n",
    "plt.figure(figsize=(10,5))\n",
    "box_best6 = sns.boxplot(x=\"platform\", y=\"total_sales\", data=data.query('platform.isin(@platform_best3)'), palette=\"Set2\")\n",
    "box_best6.set(ylim=(0,3))\n",
    "plt.ylabel('Суммарные продажи')\n",
    "plt.xlabel('Платформы')\n",
    "plt.title('Boxplot для продаж по платформам')\n",
    "plt.show()"
   ]
  },
  {
   "cell_type": "markdown",
   "id": "f386b1e6",
   "metadata": {},
   "source": [
    "Основные продажи в районе 40 - 400 млн., видим интересный хвост, но не влияющий  на медиану."
   ]
  },
  {
   "cell_type": "code",
   "execution_count": 30,
   "id": "9a03c6b2",
   "metadata": {},
   "outputs": [
    {
     "data": {
      "text/plain": [
       "Text(0, 0.5, '')"
      ]
     },
     "execution_count": 30,
     "metadata": {},
     "output_type": "execute_result"
    },
    {
     "data": {
      "image/png": "[encoded data removed]",
      "text/plain": [
       "<Figure size 432x432 with 1 Axes>"
      ]
     },
     "metadata": {},
     "output_type": "display_data"
    }
   ],
   "source": [
    "#посмотрим на среднюю выручку платформ по годам\n",
    "revenue_mean = new_data.groupby('platform')['total_sales'].mean()\n",
    "revenue_mean.plot(kind='pie', figsize=(6, 6), autopct='%1.0f%%', shadow=True, title='Доля выручки платформ за 2011-2016 гг.')\n",
    "ax = plt.gca()\n",
    "ax.set_ylabel('')"
   ]
  },
  {
   "cell_type": "markdown",
   "id": "71c0ee7d",
   "metadata": {},
   "source": [
    "Вот наши лидеры - PS3,PS4,Wii,Wiu,X360,XOne,3DS."
   ]
  },
  {
   "cell_type": "code",
   "execution_count": 31,
   "id": "0c6abf54",
   "metadata": {},
   "outputs": [],
   "source": [
    "#выделим в отдельную таблицу продажи по X360\n",
    "game_stat_x360 = new_data.query('platform == \"X360\" and user_score != -1 and critic_score != -1')"
   ]
  },
  {
   "cell_type": "code",
   "execution_count": 32,
   "id": "5ddf0102",
   "metadata": {},
   "outputs": [
    {
     "data": {
      "text/plain": [
       "Text(0.5, 0, 'Оценка пользователей')"
      ]
     },
     "execution_count": 32,
     "metadata": {},
     "output_type": "execute_result"
    },
    {
     "data": {
      "image/png": "[encoded data removed]",
      "text/plain": [
       "<Figure size 432x288 with 1 Axes>"
      ]
     },
     "metadata": {
      "needs_background": "light"
     },
     "output_type": "display_data"
    }
   ],
   "source": [
    "game_stat_x360.plot(y='total_sales', x='user_score', kind='scatter', alpha=0.5, title='Зависимость выручки X360 от оценки пользователей')\n",
    "ax = plt.gca()\n",
    "ax.set_ylabel('Выручка, млн дол.')\n",
    "ax.set_xlabel('Оценка пользователей')"
   ]
  },
  {
   "cell_type": "code",
   "execution_count": 33,
   "id": "d562e103",
   "metadata": {},
   "outputs": [
    {
     "data": {
      "text/plain": [
       "0.024110542685083735"
      ]
     },
     "execution_count": 33,
     "metadata": {},
     "output_type": "execute_result"
    }
   ],
   "source": [
    "game_stat_x360['total_sales'].corr(game_stat_x360['user_score'])"
   ]
  },
  {
   "cell_type": "code",
   "execution_count": 34,
   "id": "bba1d08f",
   "metadata": {},
   "outputs": [
    {
     "data": {
      "text/plain": [
       "Text(0.5, 0, 'Оценка критиков')"
      ]
     },
     "execution_count": 34,
     "metadata": {},
     "output_type": "execute_result"
    },
    {
     "data": {
      "image/png": "[encoded data removed]",
      "text/plain": [
       "<Figure size 432x288 with 1 Axes>"
      ]
     },
     "metadata": {
      "needs_background": "light"
     },
     "output_type": "display_data"
    }
   ],
   "source": [
    "game_stat_x360.plot(y='total_sales', x='critic_score', kind='scatter', alpha=0.5, title='Зависимость выручки X360 от оценки критиков')\n",
    "ax = plt.gca()\n",
    "ax.set_ylabel('Выручка, млн дол.')\n",
    "ax.set_xlabel('Оценка критиков')"
   ]
  },
  {
   "cell_type": "code",
   "execution_count": 35,
   "id": "3f8ffdd1",
   "metadata": {},
   "outputs": [
    {
     "data": {
      "text/plain": [
       "0.39039696950102515"
      ]
     },
     "execution_count": 35,
     "metadata": {},
     "output_type": "execute_result"
    }
   ],
   "source": [
    "game_stat_x360['total_sales'].corr(game_stat_x360['critic_score'])"
   ]
  },
  {
   "cell_type": "markdown",
   "id": "34ba9a47",
   "metadata": {},
   "source": [
    "Зависимости от оценом нет, но вот от оценки критиков не большая зависимость есть."
   ]
  },
  {
   "cell_type": "code",
   "execution_count": 36,
   "id": "5b218880",
   "metadata": {},
   "outputs": [],
   "source": [
    "#выделим в отдельную таблицу продажи по XOne\n",
    "game_stat_xone = new_data.query('platform == \"XOne\" and user_score != -1 and critic_score != -1')"
   ]
  },
  {
   "cell_type": "code",
   "execution_count": 37,
   "id": "03943e1b",
   "metadata": {},
   "outputs": [
    {
     "data": {
      "text/plain": [
       "Text(0.5, 17.200000000000003, 'Оценка пользователей')"
      ]
     },
     "execution_count": 37,
     "metadata": {},
     "output_type": "execute_result"
    },
    {
     "data": {
      "image/png": "[encoded data removed]",
      "text/plain": [
       "<Figure size 432x288 with 1 Axes>"
      ]
     },
     "metadata": {
      "needs_background": "light"
     },
     "output_type": "display_data"
    }
   ],
   "source": [
    "game_stat_xone.plot(y='total_sales', x='user_score', kind='scatter', alpha=0.5, title='Зависимость выручки XOne от оценки пользователей')\n",
    "ax_1 = plt.gca()\n",
    "ax.set_ylabel('Выручка, млн дол.')\n",
    "ax.set_xlabel('Оценка пользователей')"
   ]
  },
  {
   "cell_type": "code",
   "execution_count": 38,
   "id": "02cd7bf5",
   "metadata": {},
   "outputs": [
    {
     "data": {
      "text/plain": [
       "-0.09400318326920852"
      ]
     },
     "execution_count": 38,
     "metadata": {},
     "output_type": "execute_result"
    }
   ],
   "source": [
    "game_stat_xone['total_sales'].corr(game_stat_xone['user_score'])"
   ]
  },
  {
   "cell_type": "code",
   "execution_count": 39,
   "id": "8b9bc249",
   "metadata": {},
   "outputs": [
    {
     "data": {
      "text/plain": [
       "Text(0.5, 0, 'Оценка критиков')"
      ]
     },
     "execution_count": 39,
     "metadata": {},
     "output_type": "execute_result"
    },
    {
     "data": {
      "image/png": "[encoded data removed]",
      "text/plain": [
       "<Figure size 432x288 with 1 Axes>"
      ]
     },
     "metadata": {
      "needs_background": "light"
     },
     "output_type": "display_data"
    }
   ],
   "source": [
    "game_stat_xone.plot(y='total_sales', x='critic_score', kind='scatter', alpha=0.5, title='Зависимость выручки XOne от оценки критиков')\n",
    "ax_1 = plt.gca()\n",
    "ax_1.set_ylabel('Выручка, млн дол.')\n",
    "ax_1.set_xlabel('Оценка критиков')"
   ]
  },
  {
   "cell_type": "code",
   "execution_count": 40,
   "id": "59bc7df8",
   "metadata": {},
   "outputs": [
    {
     "data": {
      "text/plain": [
       "0.4104220356129637"
      ]
     },
     "execution_count": 40,
     "metadata": {},
     "output_type": "execute_result"
    }
   ],
   "source": [
    "game_stat_xone['total_sales'].corr(game_stat_xone['critic_score'])"
   ]
  },
  {
   "cell_type": "code",
   "execution_count": 41,
   "id": "e6f63170",
   "metadata": {},
   "outputs": [],
   "source": [
    "#выделим в отдельную таблицу продажи по PS3\n",
    "game_stat_ps3 = new_data.query('platform == \"PS3\" and user_score != -1 and critic_score != -1')"
   ]
  },
  {
   "cell_type": "code",
   "execution_count": 42,
   "id": "a6a60324",
   "metadata": {},
   "outputs": [
    {
     "data": {
      "text/plain": [
       "Text(0.5, 0, 'Оценка пользователей')"
      ]
     },
     "execution_count": 42,
     "metadata": {},
     "output_type": "execute_result"
    },
    {
     "data": {
      "image/png": "[encoded data removed]",
      "text/plain": [
       "<Figure size 432x288 with 1 Axes>"
      ]
     },
     "metadata": {
      "needs_background": "light"
     },
     "output_type": "display_data"
    }
   ],
   "source": [
    "game_stat_ps3.plot(y='total_sales', x='user_score', kind='scatter', alpha=0.5, title='Зависимость выручки PS3 от оценки пользователей')\n",
    "ax_2 = plt.gca()\n",
    "ax_2.set_ylabel('Выручка, млн дол.')\n",
    "ax_2.set_xlabel('Оценка пользователей')"
   ]
  },
  {
   "cell_type": "code",
   "execution_count": 43,
   "id": "4a15052d",
   "metadata": {},
   "outputs": [
    {
     "data": {
      "text/plain": [
       "0.025188713843039043"
      ]
     },
     "execution_count": 43,
     "metadata": {},
     "output_type": "execute_result"
    }
   ],
   "source": [
    "game_stat_ps3['total_sales'].corr(game_stat_ps3['user_score'])"
   ]
  },
  {
   "cell_type": "code",
   "execution_count": 44,
   "id": "98326d09",
   "metadata": {},
   "outputs": [
    {
     "data": {
      "text/plain": [
       "Text(0.5, 0, 'Оценка критиков')"
      ]
     },
     "execution_count": 44,
     "metadata": {},
     "output_type": "execute_result"
    },
    {
     "data": {
      "image/png": "[encoded data removed]",
      "text/plain": [
       "<Figure size 432x288 with 1 Axes>"
      ]
     },
     "metadata": {
      "needs_background": "light"
     },
     "output_type": "display_data"
    }
   ],
   "source": [
    "game_stat_ps3.plot(y='total_sales', x='critic_score', kind='scatter', alpha=0.5, title='Зависимость выручки PS3 от оценки критиков')\n",
    "ax_2 = plt.gca()\n",
    "ax_2.set_ylabel('Выручка, млн дол.')\n",
    "ax_2.set_xlabel('Оценка критиков')"
   ]
  },
  {
   "cell_type": "code",
   "execution_count": 45,
   "id": "a81a5575",
   "metadata": {},
   "outputs": [
    {
     "data": {
      "text/plain": [
       "0.3762850329134494"
      ]
     },
     "execution_count": 45,
     "metadata": {},
     "output_type": "execute_result"
    }
   ],
   "source": [
    "game_stat_ps3['total_sales'].corr(game_stat_ps3['critic_score'])"
   ]
  },
  {
   "cell_type": "code",
   "execution_count": 46,
   "id": "68ffe1fd",
   "metadata": {},
   "outputs": [],
   "source": [
    "#выделим в отдельную таблицу продажи по PS4\n",
    "game_stat_ps4 = new_data.query('platform == \"PS4\" and user_score != -1 and critic_score != -1')"
   ]
  },
  {
   "cell_type": "code",
   "execution_count": 47,
   "id": "7b700016",
   "metadata": {},
   "outputs": [
    {
     "data": {
      "text/plain": [
       "Text(0.5, 0, 'Оценка пользователей')"
      ]
     },
     "execution_count": 47,
     "metadata": {},
     "output_type": "execute_result"
    },
    {
     "data": {
      "image/png": "[encoded data removed]",
      "text/plain": [
       "<Figure size 432x288 with 1 Axes>"
      ]
     },
     "metadata": {
      "needs_background": "light"
     },
     "output_type": "display_data"
    }
   ],
   "source": [
    "game_stat_ps4.plot(y='total_sales', x='user_score', kind='scatter', alpha=0.5, title='Зависимость выручки PS4 от оценки пользователей')\n",
    "ax_3 = plt.gca()\n",
    "ax_3.set_ylabel('Выручка, млн дол.')\n",
    "ax_3.set_xlabel('Оценка пользователей')"
   ]
  },
  {
   "cell_type": "code",
   "execution_count": 48,
   "id": "7fc53d38",
   "metadata": {},
   "outputs": [
    {
     "data": {
      "text/plain": [
       "-0.03362497596528878"
      ]
     },
     "execution_count": 48,
     "metadata": {},
     "output_type": "execute_result"
    }
   ],
   "source": [
    "game_stat_ps4['total_sales'].corr(game_stat_ps4['user_score'])"
   ]
  },
  {
   "cell_type": "code",
   "execution_count": 49,
   "id": "f0ef3fed",
   "metadata": {},
   "outputs": [
    {
     "data": {
      "text/plain": [
       "Text(0.5, 0, 'Оценка критиков')"
      ]
     },
     "execution_count": 49,
     "metadata": {},
     "output_type": "execute_result"
    },
    {
     "data": {
      "image/png": "[encoded data removed]",
      "text/plain": [
       "<Figure size 432x288 with 1 Axes>"
      ]
     },
     "metadata": {
      "needs_background": "light"
     },
     "output_type": "display_data"
    }
   ],
   "source": [
    "game_stat_ps4.plot(y='total_sales', x='critic_score', kind='scatter', alpha=0.5, title='Зависимость выручки PS4 от оценки критиков')\n",
    "ax_3 = plt.gca()\n",
    "ax_3.set_ylabel('Выручка, млн дол.')\n",
    "ax_3.set_xlabel('Оценка критиков')"
   ]
  },
  {
   "cell_type": "code",
   "execution_count": 50,
   "id": "172fcc40",
   "metadata": {},
   "outputs": [
    {
     "data": {
      "text/plain": [
       "0.40589480145836687"
      ]
     },
     "execution_count": 50,
     "metadata": {},
     "output_type": "execute_result"
    }
   ],
   "source": [
    "game_stat_ps4['total_sales'].corr(game_stat_ps4['critic_score'])"
   ]
  },
  {
   "cell_type": "code",
   "execution_count": 51,
   "id": "8d342cb1",
   "metadata": {},
   "outputs": [],
   "source": [
    "#выделим в отдельную таблицу продажи по WiiU\n",
    "game_stat_wiiu = new_data.query('platform == \"WiiU\" and user_score != -1 and critic_score != -1')"
   ]
  },
  {
   "cell_type": "code",
   "execution_count": 52,
   "id": "d6aec627",
   "metadata": {},
   "outputs": [
    {
     "data": {
      "text/plain": [
       "Text(0.5, 0, 'Оценка пользователей')"
      ]
     },
     "execution_count": 52,
     "metadata": {},
     "output_type": "execute_result"
    },
    {
     "data": {
      "image/png": "[encoded data removed]",
      "text/plain": [
       "<Figure size 432x288 with 1 Axes>"
      ]
     },
     "metadata": {
      "needs_background": "light"
     },
     "output_type": "display_data"
    }
   ],
   "source": [
    "game_stat_wiiu.plot(y='total_sales', x='user_score', kind='scatter', alpha=0.5, title='Зависимость выручки WiiU от оценки пользователей')\n",
    "ax_4 = plt.gca()\n",
    "ax_4.set_ylabel('Выручка, млн дол.')\n",
    "ax_4.set_xlabel('Оценка пользователей')"
   ]
  },
  {
   "cell_type": "code",
   "execution_count": 53,
   "id": "41ed1b3b",
   "metadata": {},
   "outputs": [
    {
     "data": {
      "text/plain": [
       "0.3918479505297129"
      ]
     },
     "execution_count": 53,
     "metadata": {},
     "output_type": "execute_result"
    }
   ],
   "source": [
    "game_stat_wiiu['total_sales'].corr(game_stat_wiiu['user_score'])"
   ]
  },
  {
   "cell_type": "code",
   "execution_count": 54,
   "id": "2897e740",
   "metadata": {},
   "outputs": [
    {
     "data": {
      "text/plain": [
       "Text(0.5, 0, 'Оценка критиков')"
      ]
     },
     "execution_count": 54,
     "metadata": {},
     "output_type": "execute_result"
    },
    {
     "data": {
      "image/png": "[encoded data removed]",
      "text/plain": [
       "<Figure size 432x288 with 1 Axes>"
      ]
     },
     "metadata": {
      "needs_background": "light"
     },
     "output_type": "display_data"
    }
   ],
   "source": [
    "game_stat_wiiu.plot(y='total_sales', x='critic_score', kind='scatter', alpha=0.5, title='Зависимость выручки WiiU от оценки критиков')\n",
    "ax_4 = plt.gca()\n",
    "ax_4.set_ylabel('Выручка, млн дол.')\n",
    "ax_4.set_xlabel('Оценка критиков')"
   ]
  },
  {
   "cell_type": "code",
   "execution_count": 55,
   "id": "41432335",
   "metadata": {},
   "outputs": [
    {
     "data": {
      "text/plain": [
       "0.35088242248864304"
      ]
     },
     "execution_count": 55,
     "metadata": {},
     "output_type": "execute_result"
    }
   ],
   "source": [
    "game_stat_wiiu['total_sales'].corr(game_stat_wiiu['critic_score'])"
   ]
  },
  {
   "cell_type": "code",
   "execution_count": 56,
   "id": "89edb838",
   "metadata": {},
   "outputs": [
    {
     "data": {
      "text/plain": [
       "Text(0.5, 0, 'Оценка пользователей')"
      ]
     },
     "execution_count": 56,
     "metadata": {},
     "output_type": "execute_result"
    },
    {
     "data": {
      "image/png": "[encoded data removed]",
      "text/plain": [
       "<Figure size 432x288 with 1 Axes>"
      ]
     },
     "metadata": {
      "needs_background": "light"
     },
     "output_type": "display_data"
    }
   ],
   "source": [
    "game_stat_new_filtered = new_data.query('user_score != -1 and critic_score != -1')\n",
    "game_stat_new_filtered.plot(y='total_sales', x='user_score', kind='scatter', alpha=0.5, title='Зависимость выручки всех платформ от оценки пользователей')\n",
    "ax = plt.gca()\n",
    "ax.set_ylabel('Выручка, млн дол.')\n",
    "ax.set_xlabel('Оценка пользователей')"
   ]
  },
  {
   "cell_type": "code",
   "execution_count": 57,
   "id": "853db648",
   "metadata": {},
   "outputs": [
    {
     "data": {
      "text/plain": [
       "0.02950143936031489"
      ]
     },
     "execution_count": 57,
     "metadata": {},
     "output_type": "execute_result"
    }
   ],
   "source": [
    "game_stat_new_filtered['total_sales'].corr(game_stat_new_filtered['user_score'])"
   ]
  },
  {
   "cell_type": "code",
   "execution_count": 58,
   "id": "13f9eb95",
   "metadata": {},
   "outputs": [
    {
     "data": {
      "text/plain": [
       "Text(0.5, 0, 'Оценка критиков')"
      ]
     },
     "execution_count": 58,
     "metadata": {},
     "output_type": "execute_result"
    },
    {
     "data": {
      "image/png": "[encoded data removed]",
      "text/plain": [
       "<Figure size 432x288 with 1 Axes>"
      ]
     },
     "metadata": {
      "needs_background": "light"
     },
     "output_type": "display_data"
    }
   ],
   "source": [
    "game_stat_new_filtered.plot(y='total_sales', x='critic_score', kind='scatter', alpha=0.5, title='Зависимость выручки всех платформ от оценки критиков')\n",
    "ax = plt.gca()\n",
    "ax.set_ylabel('Выручка, млн дол.')\n",
    "ax.set_xlabel('Оценка критиков')"
   ]
  },
  {
   "cell_type": "code",
   "execution_count": 59,
   "id": "f96c7420",
   "metadata": {},
   "outputs": [
    {
     "data": {
      "text/plain": [
       "0.32660362178848995"
      ]
     },
     "execution_count": 59,
     "metadata": {},
     "output_type": "execute_result"
    }
   ],
   "source": [
    "game_stat_new_filtered['total_sales'].corr(game_stat_new_filtered['critic_score'])"
   ]
  },
  {
   "cell_type": "markdown",
   "id": "d8a2a293",
   "metadata": {},
   "source": [
    "Вывод такой же, от оценки пользователей зависимости практически нет, а вот от критиков минимальная, но есть. И это наюблюдается во всех платформах."
   ]
  },
  {
   "cell_type": "code",
   "execution_count": 60,
   "id": "f991c822",
   "metadata": {},
   "outputs": [
    {
     "data": {
      "text/html": [
       "<div>\n",
       "<style scoped>\n",
       "    .dataframe tbody tr th:only-of-type {\n",
       "        vertical-align: middle;\n",
       "    }\n",
       "\n",
       "    .dataframe tbody tr th {\n",
       "        vertical-align: top;\n",
       "    }\n",
       "\n",
       "    .dataframe thead th {\n",
       "        text-align: right;\n",
       "    }\n",
       "</style>\n",
       "<table border=\"1\" class=\"dataframe\">\n",
       "  <thead>\n",
       "    <tr style=\"text-align: right;\">\n",
       "      <th></th>\n",
       "      <th>total_sales</th>\n",
       "    </tr>\n",
       "    <tr>\n",
       "      <th>genre</th>\n",
       "      <th></th>\n",
       "    </tr>\n",
       "  </thead>\n",
       "  <tbody>\n",
       "    <tr>\n",
       "      <th>Action</th>\n",
       "      <td>557.80</td>\n",
       "    </tr>\n",
       "    <tr>\n",
       "      <th>Shooter</th>\n",
       "      <td>402.91</td>\n",
       "    </tr>\n",
       "    <tr>\n",
       "      <th>Role-Playing</th>\n",
       "      <td>245.63</td>\n",
       "    </tr>\n",
       "    <tr>\n",
       "      <th>Sports</th>\n",
       "      <td>237.15</td>\n",
       "    </tr>\n",
       "    <tr>\n",
       "      <th>Misc</th>\n",
       "      <td>139.42</td>\n",
       "    </tr>\n",
       "    <tr>\n",
       "      <th>Platform</th>\n",
       "      <td>88.68</td>\n",
       "    </tr>\n",
       "    <tr>\n",
       "      <th>Racing</th>\n",
       "      <td>88.31</td>\n",
       "    </tr>\n",
       "    <tr>\n",
       "      <th>Fighting</th>\n",
       "      <td>66.90</td>\n",
       "    </tr>\n",
       "    <tr>\n",
       "      <th>Simulation</th>\n",
       "      <td>50.26</td>\n",
       "    </tr>\n",
       "    <tr>\n",
       "      <th>Adventure</th>\n",
       "      <td>45.04</td>\n",
       "    </tr>\n",
       "    <tr>\n",
       "      <th>Strategy</th>\n",
       "      <td>22.16</td>\n",
       "    </tr>\n",
       "    <tr>\n",
       "      <th>Puzzle</th>\n",
       "      <td>9.85</td>\n",
       "    </tr>\n",
       "  </tbody>\n",
       "</table>\n",
       "</div>"
      ],
      "text/plain": [
       "              total_sales\n",
       "genre                    \n",
       "Action             557.80\n",
       "Shooter            402.91\n",
       "Role-Playing       245.63\n",
       "Sports             237.15\n",
       "Misc               139.42\n",
       "Platform            88.68\n",
       "Racing              88.31\n",
       "Fighting            66.90\n",
       "Simulation          50.26\n",
       "Adventure           45.04\n",
       "Strategy            22.16\n",
       "Puzzle               9.85"
      ]
     },
     "execution_count": 60,
     "metadata": {},
     "output_type": "execute_result"
    }
   ],
   "source": [
    "new_data.pivot_table(index='genre', values='total_sales', aggfunc='sum').sort_values(by='total_sales', ascending=False)"
   ]
  },
  {
   "cell_type": "code",
   "execution_count": 61,
   "id": "2c2aeda4",
   "metadata": {},
   "outputs": [
    {
     "data": {
      "text/plain": [
       "<matplotlib.legend.Legend at 0x7f3158d1e460>"
      ]
     },
     "execution_count": 61,
     "metadata": {},
     "output_type": "execute_result"
    },
    {
     "data": {
      "image/png": "[encoded data removed]",
      "text/plain": [
       "<Figure size 1080x360 with 1 Axes>"
      ]
     },
     "metadata": {
      "needs_background": "light"
     },
     "output_type": "display_data"
    }
   ],
   "source": [
    "ax = plt.gca()\n",
    "\n",
    "pivot = new_data.groupby('genre').agg({'name': 'count', 'total_sales': 'sum'}).sort_values(by='name', ascending=False)\n",
    "\n",
    "plot1 = pivot['name']\n",
    "plot1.plot(kind='bar', figsize=(15,5), ec='black', ax=ax, width=0.2, position=1)\n",
    "\n",
    "plot2 = pivot['total_sales']\n",
    "plot2.plot(kind='bar', figsize=(15,5), ec='black', ax=ax, width=0.2, color='#97F0AA', position=0)\n",
    "\n",
    "ax.legend(['Количество продаж', 'Общая сумма продаж'])"
   ]
  },
  {
   "cell_type": "markdown",
   "id": "bb9e64e2",
   "metadata": {},
   "source": [
    "Вывод:\n",
    "Провели исследовательский анализ данных, на котором сделали срез с 2011по 2016 год, увидели явных лидеров в продажах как в платформах, так и в жанрах. Оценили зависимость выручки от оценки пользователей и оценки критиков - критики влияют больше на продажи, чем пользователи."
   ]
  },
  {
   "cell_type": "code",
   "execution_count": 86,
   "id": "d63f723c",
   "metadata": {},
   "outputs": [
    {
     "data": {
      "image/png": "[encoded data removed]",
      "text/plain": [
       "<Figure size 936x576 with 1 Axes>"
      ]
     },
     "metadata": {
      "needs_background": "light"
     },
     "output_type": "display_data"
    }
   ],
   "source": [
    "# Комментарий ревьюера 4\n",
    "plt.figure(figsize=(13, 8))\n",
    "(sns.boxplot(data = new_data, y = 'total_sales', x='genre')\n",
    "    .set(title = 'Продажи по жанрам', xlabel = 'Платформы', ylabel = 'Общие продажи', ylim=(0, 4)))\n",
    "\n",
    "plt.show()"
   ]
  },
  {
   "cell_type": "markdown",
   "id": "519f5ed9",
   "metadata": {},
   "source": [
    "# Составим портрет пользователя каждого региона"
   ]
  },
  {
   "cell_type": "markdown",
   "id": "08e3eae2",
   "metadata": {},
   "source": [
    "Определите для пользователя каждого региона (NA, EU, JP):\n",
    "Самые популярные платформы (топ-5). Опишите различия в долях продаж.\n",
    "Самые популярные жанры (топ-5). Поясните разницу.\n",
    "Влияет ли рейтинг ESRB на продажи в отдельном регионе?"
   ]
  },
  {
   "cell_type": "markdown",
   "id": "b5ae16f8",
   "metadata": {},
   "source": [
    "Северная америка."
   ]
  },
  {
   "cell_type": "code",
   "execution_count": 62,
   "id": "f01e6777",
   "metadata": {},
   "outputs": [
    {
     "data": {
      "text/html": [
       "<div>\n",
       "<style scoped>\n",
       "    .dataframe tbody tr th:only-of-type {\n",
       "        vertical-align: middle;\n",
       "    }\n",
       "\n",
       "    .dataframe tbody tr th {\n",
       "        vertical-align: top;\n",
       "    }\n",
       "\n",
       "    .dataframe thead th {\n",
       "        text-align: right;\n",
       "    }\n",
       "</style>\n",
       "<table border=\"1\" class=\"dataframe\">\n",
       "  <thead>\n",
       "    <tr style=\"text-align: right;\">\n",
       "      <th></th>\n",
       "      <th>platform</th>\n",
       "      <th>na_sales</th>\n",
       "    </tr>\n",
       "  </thead>\n",
       "  <tbody>\n",
       "    <tr>\n",
       "      <th>10</th>\n",
       "      <td>X360</td>\n",
       "      <td>226.80</td>\n",
       "    </tr>\n",
       "    <tr>\n",
       "      <th>4</th>\n",
       "      <td>PS3</td>\n",
       "      <td>168.26</td>\n",
       "    </tr>\n",
       "    <tr>\n",
       "      <th>5</th>\n",
       "      <td>PS4</td>\n",
       "      <td>108.74</td>\n",
       "    </tr>\n",
       "    <tr>\n",
       "      <th>11</th>\n",
       "      <td>XOne</td>\n",
       "      <td>93.12</td>\n",
       "    </tr>\n",
       "    <tr>\n",
       "      <th>0</th>\n",
       "      <td>3DS</td>\n",
       "      <td>82.65</td>\n",
       "    </tr>\n",
       "  </tbody>\n",
       "</table>\n",
       "</div>"
      ],
      "text/plain": [
       "   platform  na_sales\n",
       "10     X360    226.80\n",
       "4       PS3    168.26\n",
       "5       PS4    108.74\n",
       "11     XOne     93.12\n",
       "0       3DS     82.65"
      ]
     },
     "execution_count": 62,
     "metadata": {},
     "output_type": "execute_result"
    }
   ],
   "source": [
    "(new_data.groupby('platform')['na_sales'].sum().reset_index().sort_values(by='na_sales', ascending=False).head(5))"
   ]
  },
  {
   "cell_type": "code",
   "execution_count": 63,
   "id": "d19f62eb",
   "metadata": {},
   "outputs": [
    {
     "data": {
      "text/html": [
       "<div>\n",
       "<style scoped>\n",
       "    .dataframe tbody tr th:only-of-type {\n",
       "        vertical-align: middle;\n",
       "    }\n",
       "\n",
       "    .dataframe tbody tr th {\n",
       "        vertical-align: top;\n",
       "    }\n",
       "\n",
       "    .dataframe thead th {\n",
       "        text-align: right;\n",
       "    }\n",
       "</style>\n",
       "<table border=\"1\" class=\"dataframe\">\n",
       "  <thead>\n",
       "    <tr style=\"text-align: right;\">\n",
       "      <th></th>\n",
       "      <th>rating</th>\n",
       "      <th>na_sales</th>\n",
       "    </tr>\n",
       "  </thead>\n",
       "  <tbody>\n",
       "    <tr>\n",
       "      <th>3</th>\n",
       "      <td>M</td>\n",
       "      <td>308.45</td>\n",
       "    </tr>\n",
       "    <tr>\n",
       "      <th>0</th>\n",
       "      <td>E</td>\n",
       "      <td>170.17</td>\n",
       "    </tr>\n",
       "    <tr>\n",
       "      <th>6</th>\n",
       "      <td>not_rating</td>\n",
       "      <td>123.69</td>\n",
       "    </tr>\n",
       "    <tr>\n",
       "      <th>1</th>\n",
       "      <td>E10+</td>\n",
       "      <td>117.72</td>\n",
       "    </tr>\n",
       "    <tr>\n",
       "      <th>5</th>\n",
       "      <td>T</td>\n",
       "      <td>109.31</td>\n",
       "    </tr>\n",
       "  </tbody>\n",
       "</table>\n",
       "</div>"
      ],
      "text/plain": [
       "       rating  na_sales\n",
       "3           M    308.45\n",
       "0           E    170.17\n",
       "6  not_rating    123.69\n",
       "1        E10+    117.72\n",
       "5           T    109.31"
      ]
     },
     "execution_count": 63,
     "metadata": {},
     "output_type": "execute_result"
    }
   ],
   "source": [
    "(new_data.query('rating != -1').groupby('rating')['na_sales'].sum().reset_index().sort_values(by='na_sales', ascending=False).head(5))"
   ]
  },
  {
   "cell_type": "code",
   "execution_count": 64,
   "id": "7892d272",
   "metadata": {},
   "outputs": [
    {
     "data": {
      "text/html": [
       "<div>\n",
       "<style scoped>\n",
       "    .dataframe tbody tr th:only-of-type {\n",
       "        vertical-align: middle;\n",
       "    }\n",
       "\n",
       "    .dataframe tbody tr th {\n",
       "        vertical-align: top;\n",
       "    }\n",
       "\n",
       "    .dataframe thead th {\n",
       "        text-align: right;\n",
       "    }\n",
       "</style>\n",
       "<table border=\"1\" class=\"dataframe\">\n",
       "  <thead>\n",
       "    <tr style=\"text-align: right;\">\n",
       "      <th></th>\n",
       "      <th>genre</th>\n",
       "      <th>na_sales</th>\n",
       "    </tr>\n",
       "  </thead>\n",
       "  <tbody>\n",
       "    <tr>\n",
       "      <th>0</th>\n",
       "      <td>Action</td>\n",
       "      <td>230.92</td>\n",
       "    </tr>\n",
       "    <tr>\n",
       "      <th>8</th>\n",
       "      <td>Shooter</td>\n",
       "      <td>194.43</td>\n",
       "    </tr>\n",
       "    <tr>\n",
       "      <th>10</th>\n",
       "      <td>Sports</td>\n",
       "      <td>108.70</td>\n",
       "    </tr>\n",
       "    <tr>\n",
       "      <th>7</th>\n",
       "      <td>Role-Playing</td>\n",
       "      <td>83.78</td>\n",
       "    </tr>\n",
       "    <tr>\n",
       "      <th>3</th>\n",
       "      <td>Misc</td>\n",
       "      <td>69.69</td>\n",
       "    </tr>\n",
       "  </tbody>\n",
       "</table>\n",
       "</div>"
      ],
      "text/plain": [
       "           genre  na_sales\n",
       "0         Action    230.92\n",
       "8        Shooter    194.43\n",
       "10        Sports    108.70\n",
       "7   Role-Playing     83.78\n",
       "3           Misc     69.69"
      ]
     },
     "execution_count": 64,
     "metadata": {},
     "output_type": "execute_result"
    }
   ],
   "source": [
    "(new_data.groupby('genre')['na_sales'].sum().reset_index().sort_values(by='na_sales', ascending=False).head(5))"
   ]
  },
  {
   "cell_type": "markdown",
   "id": "b68c8ddb",
   "metadata": {},
   "source": [
    "Европа."
   ]
  },
  {
   "cell_type": "code",
   "execution_count": 65,
   "id": "a932e616",
   "metadata": {},
   "outputs": [
    {
     "data": {
      "text/html": [
       "<div>\n",
       "<style scoped>\n",
       "    .dataframe tbody tr th:only-of-type {\n",
       "        vertical-align: middle;\n",
       "    }\n",
       "\n",
       "    .dataframe tbody tr th {\n",
       "        vertical-align: top;\n",
       "    }\n",
       "\n",
       "    .dataframe thead th {\n",
       "        text-align: right;\n",
       "    }\n",
       "</style>\n",
       "<table border=\"1\" class=\"dataframe\">\n",
       "  <thead>\n",
       "    <tr style=\"text-align: right;\">\n",
       "      <th></th>\n",
       "      <th>platform</th>\n",
       "      <th>eu_sales</th>\n",
       "    </tr>\n",
       "  </thead>\n",
       "  <tbody>\n",
       "    <tr>\n",
       "      <th>4</th>\n",
       "      <td>PS3</td>\n",
       "      <td>163.10</td>\n",
       "    </tr>\n",
       "    <tr>\n",
       "      <th>5</th>\n",
       "      <td>PS4</td>\n",
       "      <td>141.09</td>\n",
       "    </tr>\n",
       "    <tr>\n",
       "      <th>10</th>\n",
       "      <td>X360</td>\n",
       "      <td>117.10</td>\n",
       "    </tr>\n",
       "    <tr>\n",
       "      <th>0</th>\n",
       "      <td>3DS</td>\n",
       "      <td>61.27</td>\n",
       "    </tr>\n",
       "    <tr>\n",
       "      <th>2</th>\n",
       "      <td>PC</td>\n",
       "      <td>56.70</td>\n",
       "    </tr>\n",
       "  </tbody>\n",
       "</table>\n",
       "</div>"
      ],
      "text/plain": [
       "   platform  eu_sales\n",
       "4       PS3    163.10\n",
       "5       PS4    141.09\n",
       "10     X360    117.10\n",
       "0       3DS     61.27\n",
       "2        PC     56.70"
      ]
     },
     "execution_count": 65,
     "metadata": {},
     "output_type": "execute_result"
    }
   ],
   "source": [
    "(new_data.groupby('platform')['eu_sales'].sum().reset_index().sort_values(by='eu_sales', ascending=False).head(5))"
   ]
  },
  {
   "cell_type": "code",
   "execution_count": 66,
   "id": "8b9fea56",
   "metadata": {},
   "outputs": [
    {
     "data": {
      "text/html": [
       "<div>\n",
       "<style scoped>\n",
       "    .dataframe tbody tr th:only-of-type {\n",
       "        vertical-align: middle;\n",
       "    }\n",
       "\n",
       "    .dataframe tbody tr th {\n",
       "        vertical-align: top;\n",
       "    }\n",
       "\n",
       "    .dataframe thead th {\n",
       "        text-align: right;\n",
       "    }\n",
       "</style>\n",
       "<table border=\"1\" class=\"dataframe\">\n",
       "  <thead>\n",
       "    <tr style=\"text-align: right;\">\n",
       "      <th></th>\n",
       "      <th>genre</th>\n",
       "      <th>eu_sales</th>\n",
       "    </tr>\n",
       "  </thead>\n",
       "  <tbody>\n",
       "    <tr>\n",
       "      <th>0</th>\n",
       "      <td>Action</td>\n",
       "      <td>199.12</td>\n",
       "    </tr>\n",
       "    <tr>\n",
       "      <th>8</th>\n",
       "      <td>Shooter</td>\n",
       "      <td>148.02</td>\n",
       "    </tr>\n",
       "    <tr>\n",
       "      <th>10</th>\n",
       "      <td>Sports</td>\n",
       "      <td>88.48</td>\n",
       "    </tr>\n",
       "    <tr>\n",
       "      <th>7</th>\n",
       "      <td>Role-Playing</td>\n",
       "      <td>62.30</td>\n",
       "    </tr>\n",
       "    <tr>\n",
       "      <th>6</th>\n",
       "      <td>Racing</td>\n",
       "      <td>40.58</td>\n",
       "    </tr>\n",
       "  </tbody>\n",
       "</table>\n",
       "</div>"
      ],
      "text/plain": [
       "           genre  eu_sales\n",
       "0         Action    199.12\n",
       "8        Shooter    148.02\n",
       "10        Sports     88.48\n",
       "7   Role-Playing     62.30\n",
       "6         Racing     40.58"
      ]
     },
     "execution_count": 66,
     "metadata": {},
     "output_type": "execute_result"
    }
   ],
   "source": [
    "(new_data.groupby('genre')['eu_sales'].sum().reset_index().sort_values(by='eu_sales', ascending=False).head(5))"
   ]
  },
  {
   "cell_type": "code",
   "execution_count": 67,
   "id": "a386caba",
   "metadata": {},
   "outputs": [
    {
     "data": {
      "text/html": [
       "<div>\n",
       "<style scoped>\n",
       "    .dataframe tbody tr th:only-of-type {\n",
       "        vertical-align: middle;\n",
       "    }\n",
       "\n",
       "    .dataframe tbody tr th {\n",
       "        vertical-align: top;\n",
       "    }\n",
       "\n",
       "    .dataframe thead th {\n",
       "        text-align: right;\n",
       "    }\n",
       "</style>\n",
       "<table border=\"1\" class=\"dataframe\">\n",
       "  <thead>\n",
       "    <tr style=\"text-align: right;\">\n",
       "      <th></th>\n",
       "      <th>rating</th>\n",
       "      <th>eu_sales</th>\n",
       "    </tr>\n",
       "  </thead>\n",
       "  <tbody>\n",
       "    <tr>\n",
       "      <th>3</th>\n",
       "      <td>M</td>\n",
       "      <td>250.26</td>\n",
       "    </tr>\n",
       "    <tr>\n",
       "      <th>0</th>\n",
       "      <td>E</td>\n",
       "      <td>141.73</td>\n",
       "    </tr>\n",
       "    <tr>\n",
       "      <th>6</th>\n",
       "      <td>not_rating</td>\n",
       "      <td>116.61</td>\n",
       "    </tr>\n",
       "    <tr>\n",
       "      <th>5</th>\n",
       "      <td>T</td>\n",
       "      <td>83.16</td>\n",
       "    </tr>\n",
       "    <tr>\n",
       "      <th>1</th>\n",
       "      <td>E10+</td>\n",
       "      <td>78.00</td>\n",
       "    </tr>\n",
       "  </tbody>\n",
       "</table>\n",
       "</div>"
      ],
      "text/plain": [
       "       rating  eu_sales\n",
       "3           M    250.26\n",
       "0           E    141.73\n",
       "6  not_rating    116.61\n",
       "5           T     83.16\n",
       "1        E10+     78.00"
      ]
     },
     "execution_count": 67,
     "metadata": {},
     "output_type": "execute_result"
    }
   ],
   "source": [
    "(new_data.query('rating != -1').groupby('rating')['eu_sales'].sum().reset_index().sort_values(by='eu_sales', ascending=False).head(5))"
   ]
  },
  {
   "cell_type": "code",
   "execution_count": null,
   "id": "c973ae24",
   "metadata": {},
   "outputs": [],
   "source": []
  },
  {
   "cell_type": "markdown",
   "id": "3f38218c",
   "metadata": {},
   "source": [
    "Япония."
   ]
  },
  {
   "cell_type": "code",
   "execution_count": 68,
   "id": "02de3261",
   "metadata": {},
   "outputs": [
    {
     "data": {
      "text/html": [
       "<div>\n",
       "<style scoped>\n",
       "    .dataframe tbody tr th:only-of-type {\n",
       "        vertical-align: middle;\n",
       "    }\n",
       "\n",
       "    .dataframe tbody tr th {\n",
       "        vertical-align: top;\n",
       "    }\n",
       "\n",
       "    .dataframe thead th {\n",
       "        text-align: right;\n",
       "    }\n",
       "</style>\n",
       "<table border=\"1\" class=\"dataframe\">\n",
       "  <thead>\n",
       "    <tr style=\"text-align: right;\">\n",
       "      <th></th>\n",
       "      <th>platform</th>\n",
       "      <th>jp_sales</th>\n",
       "    </tr>\n",
       "  </thead>\n",
       "  <tbody>\n",
       "    <tr>\n",
       "      <th>0</th>\n",
       "      <td>3DS</td>\n",
       "      <td>100.62</td>\n",
       "    </tr>\n",
       "    <tr>\n",
       "      <th>4</th>\n",
       "      <td>PS3</td>\n",
       "      <td>49.39</td>\n",
       "    </tr>\n",
       "    <tr>\n",
       "      <th>6</th>\n",
       "      <td>PSP</td>\n",
       "      <td>24.04</td>\n",
       "    </tr>\n",
       "    <tr>\n",
       "      <th>7</th>\n",
       "      <td>PSV</td>\n",
       "      <td>21.84</td>\n",
       "    </tr>\n",
       "    <tr>\n",
       "      <th>5</th>\n",
       "      <td>PS4</td>\n",
       "      <td>15.96</td>\n",
       "    </tr>\n",
       "  </tbody>\n",
       "</table>\n",
       "</div>"
      ],
      "text/plain": [
       "  platform  jp_sales\n",
       "0      3DS    100.62\n",
       "4      PS3     49.39\n",
       "6      PSP     24.04\n",
       "7      PSV     21.84\n",
       "5      PS4     15.96"
      ]
     },
     "execution_count": 68,
     "metadata": {},
     "output_type": "execute_result"
    }
   ],
   "source": [
    "(new_data.groupby('platform')['jp_sales'].sum().reset_index().sort_values(by='jp_sales', ascending=False).head(5))"
   ]
  },
  {
   "cell_type": "code",
   "execution_count": 69,
   "id": "453933c3",
   "metadata": {},
   "outputs": [
    {
     "data": {
      "text/html": [
       "<div>\n",
       "<style scoped>\n",
       "    .dataframe tbody tr th:only-of-type {\n",
       "        vertical-align: middle;\n",
       "    }\n",
       "\n",
       "    .dataframe tbody tr th {\n",
       "        vertical-align: top;\n",
       "    }\n",
       "\n",
       "    .dataframe thead th {\n",
       "        text-align: right;\n",
       "    }\n",
       "</style>\n",
       "<table border=\"1\" class=\"dataframe\">\n",
       "  <thead>\n",
       "    <tr style=\"text-align: right;\">\n",
       "      <th></th>\n",
       "      <th>genre</th>\n",
       "      <th>jp_sales</th>\n",
       "    </tr>\n",
       "  </thead>\n",
       "  <tbody>\n",
       "    <tr>\n",
       "      <th>7</th>\n",
       "      <td>Role-Playing</td>\n",
       "      <td>79.87</td>\n",
       "    </tr>\n",
       "    <tr>\n",
       "      <th>0</th>\n",
       "      <td>Action</td>\n",
       "      <td>63.62</td>\n",
       "    </tr>\n",
       "    <tr>\n",
       "      <th>3</th>\n",
       "      <td>Misc</td>\n",
       "      <td>17.60</td>\n",
       "    </tr>\n",
       "    <tr>\n",
       "      <th>2</th>\n",
       "      <td>Fighting</td>\n",
       "      <td>12.38</td>\n",
       "    </tr>\n",
       "    <tr>\n",
       "      <th>4</th>\n",
       "      <td>Platform</td>\n",
       "      <td>12.13</td>\n",
       "    </tr>\n",
       "  </tbody>\n",
       "</table>\n",
       "</div>"
      ],
      "text/plain": [
       "          genre  jp_sales\n",
       "7  Role-Playing     79.87\n",
       "0        Action     63.62\n",
       "3          Misc     17.60\n",
       "2      Fighting     12.38\n",
       "4      Platform     12.13"
      ]
     },
     "execution_count": 69,
     "metadata": {},
     "output_type": "execute_result"
    }
   ],
   "source": [
    "(new_data.groupby('genre')['jp_sales'].sum().reset_index().sort_values(by='jp_sales', ascending=False).head(5))"
   ]
  },
  {
   "cell_type": "code",
   "execution_count": 70,
   "id": "90c572be",
   "metadata": {},
   "outputs": [
    {
     "data": {
      "text/html": [
       "<div>\n",
       "<style scoped>\n",
       "    .dataframe tbody tr th:only-of-type {\n",
       "        vertical-align: middle;\n",
       "    }\n",
       "\n",
       "    .dataframe tbody tr th {\n",
       "        vertical-align: top;\n",
       "    }\n",
       "\n",
       "    .dataframe thead th {\n",
       "        text-align: right;\n",
       "    }\n",
       "</style>\n",
       "<table border=\"1\" class=\"dataframe\">\n",
       "  <thead>\n",
       "    <tr style=\"text-align: right;\">\n",
       "      <th></th>\n",
       "      <th>rating</th>\n",
       "      <th>jp_sales</th>\n",
       "    </tr>\n",
       "  </thead>\n",
       "  <tbody>\n",
       "    <tr>\n",
       "      <th>6</th>\n",
       "      <td>not_rating</td>\n",
       "      <td>138.21</td>\n",
       "    </tr>\n",
       "    <tr>\n",
       "      <th>0</th>\n",
       "      <td>E</td>\n",
       "      <td>36.68</td>\n",
       "    </tr>\n",
       "    <tr>\n",
       "      <th>5</th>\n",
       "      <td>T</td>\n",
       "      <td>33.39</td>\n",
       "    </tr>\n",
       "    <tr>\n",
       "      <th>3</th>\n",
       "      <td>M</td>\n",
       "      <td>26.14</td>\n",
       "    </tr>\n",
       "    <tr>\n",
       "      <th>1</th>\n",
       "      <td>E10+</td>\n",
       "      <td>11.23</td>\n",
       "    </tr>\n",
       "  </tbody>\n",
       "</table>\n",
       "</div>"
      ],
      "text/plain": [
       "       rating  jp_sales\n",
       "6  not_rating    138.21\n",
       "0           E     36.68\n",
       "5           T     33.39\n",
       "3           M     26.14\n",
       "1        E10+     11.23"
      ]
     },
     "execution_count": 70,
     "metadata": {},
     "output_type": "execute_result"
    }
   ],
   "source": [
    "(new_data.query('rating != -1').groupby('rating')['jp_sales'].sum().reset_index().sort_values(by='jp_sales', ascending=False).head(5))"
   ]
  },
  {
   "cell_type": "markdown",
   "id": "a97868e3",
   "metadata": {},
   "source": [
    "Другие."
   ]
  },
  {
   "cell_type": "code",
   "execution_count": 71,
   "id": "0ed8955c",
   "metadata": {},
   "outputs": [
    {
     "data": {
      "text/html": [
       "<div>\n",
       "<style scoped>\n",
       "    .dataframe tbody tr th:only-of-type {\n",
       "        vertical-align: middle;\n",
       "    }\n",
       "\n",
       "    .dataframe tbody tr th {\n",
       "        vertical-align: top;\n",
       "    }\n",
       "\n",
       "    .dataframe thead th {\n",
       "        text-align: right;\n",
       "    }\n",
       "</style>\n",
       "<table border=\"1\" class=\"dataframe\">\n",
       "  <thead>\n",
       "    <tr style=\"text-align: right;\">\n",
       "      <th></th>\n",
       "      <th>platform</th>\n",
       "      <th>other_sales</th>\n",
       "    </tr>\n",
       "  </thead>\n",
       "  <tbody>\n",
       "    <tr>\n",
       "      <th>4</th>\n",
       "      <td>PS3</td>\n",
       "      <td>64.82</td>\n",
       "    </tr>\n",
       "    <tr>\n",
       "      <th>5</th>\n",
       "      <td>PS4</td>\n",
       "      <td>48.35</td>\n",
       "    </tr>\n",
       "    <tr>\n",
       "      <th>10</th>\n",
       "      <td>X360</td>\n",
       "      <td>33.13</td>\n",
       "    </tr>\n",
       "    <tr>\n",
       "      <th>11</th>\n",
       "      <td>XOne</td>\n",
       "      <td>14.27</td>\n",
       "    </tr>\n",
       "    <tr>\n",
       "      <th>0</th>\n",
       "      <td>3DS</td>\n",
       "      <td>13.27</td>\n",
       "    </tr>\n",
       "  </tbody>\n",
       "</table>\n",
       "</div>"
      ],
      "text/plain": [
       "   platform  other_sales\n",
       "4       PS3        64.82\n",
       "5       PS4        48.35\n",
       "10     X360        33.13\n",
       "11     XOne        14.27\n",
       "0       3DS        13.27"
      ]
     },
     "execution_count": 71,
     "metadata": {},
     "output_type": "execute_result"
    }
   ],
   "source": [
    "(new_data.groupby('platform')['other_sales'].sum().reset_index().sort_values(by='other_sales', ascending=False).head(5))"
   ]
  },
  {
   "cell_type": "code",
   "execution_count": 72,
   "id": "f8ebffc1",
   "metadata": {},
   "outputs": [
    {
     "data": {
      "text/html": [
       "<div>\n",
       "<style scoped>\n",
       "    .dataframe tbody tr th:only-of-type {\n",
       "        vertical-align: middle;\n",
       "    }\n",
       "\n",
       "    .dataframe tbody tr th {\n",
       "        vertical-align: top;\n",
       "    }\n",
       "\n",
       "    .dataframe thead th {\n",
       "        text-align: right;\n",
       "    }\n",
       "</style>\n",
       "<table border=\"1\" class=\"dataframe\">\n",
       "  <thead>\n",
       "    <tr style=\"text-align: right;\">\n",
       "      <th></th>\n",
       "      <th>genre</th>\n",
       "      <th>other_sales</th>\n",
       "    </tr>\n",
       "  </thead>\n",
       "  <tbody>\n",
       "    <tr>\n",
       "      <th>0</th>\n",
       "      <td>Action</td>\n",
       "      <td>64.14</td>\n",
       "    </tr>\n",
       "    <tr>\n",
       "      <th>8</th>\n",
       "      <td>Shooter</td>\n",
       "      <td>48.54</td>\n",
       "    </tr>\n",
       "    <tr>\n",
       "      <th>10</th>\n",
       "      <td>Sports</td>\n",
       "      <td>28.88</td>\n",
       "    </tr>\n",
       "    <tr>\n",
       "      <th>7</th>\n",
       "      <td>Role-Playing</td>\n",
       "      <td>19.68</td>\n",
       "    </tr>\n",
       "    <tr>\n",
       "      <th>3</th>\n",
       "      <td>Misc</td>\n",
       "      <td>12.41</td>\n",
       "    </tr>\n",
       "  </tbody>\n",
       "</table>\n",
       "</div>"
      ],
      "text/plain": [
       "           genre  other_sales\n",
       "0         Action        64.14\n",
       "8        Shooter        48.54\n",
       "10        Sports        28.88\n",
       "7   Role-Playing        19.68\n",
       "3           Misc        12.41"
      ]
     },
     "execution_count": 72,
     "metadata": {},
     "output_type": "execute_result"
    }
   ],
   "source": [
    "(new_data.groupby('genre')['other_sales'].sum().reset_index().sort_values(by='other_sales', ascending=False).head(5))"
   ]
  },
  {
   "cell_type": "code",
   "execution_count": 73,
   "id": "78e58e41",
   "metadata": {},
   "outputs": [
    {
     "data": {
      "text/html": [
       "<div>\n",
       "<style scoped>\n",
       "    .dataframe tbody tr th:only-of-type {\n",
       "        vertical-align: middle;\n",
       "    }\n",
       "\n",
       "    .dataframe tbody tr th {\n",
       "        vertical-align: top;\n",
       "    }\n",
       "\n",
       "    .dataframe thead th {\n",
       "        text-align: right;\n",
       "    }\n",
       "</style>\n",
       "<table border=\"1\" class=\"dataframe\">\n",
       "  <thead>\n",
       "    <tr style=\"text-align: right;\">\n",
       "      <th></th>\n",
       "      <th>rating</th>\n",
       "      <th>other_sales</th>\n",
       "    </tr>\n",
       "  </thead>\n",
       "  <tbody>\n",
       "    <tr>\n",
       "      <th>3</th>\n",
       "      <td>M</td>\n",
       "      <td>81.96</td>\n",
       "    </tr>\n",
       "    <tr>\n",
       "      <th>0</th>\n",
       "      <td>E</td>\n",
       "      <td>40.86</td>\n",
       "    </tr>\n",
       "    <tr>\n",
       "      <th>6</th>\n",
       "      <td>not_rating</td>\n",
       "      <td>33.97</td>\n",
       "    </tr>\n",
       "    <tr>\n",
       "      <th>5</th>\n",
       "      <td>T</td>\n",
       "      <td>28.17</td>\n",
       "    </tr>\n",
       "    <tr>\n",
       "      <th>1</th>\n",
       "      <td>E10+</td>\n",
       "      <td>23.91</td>\n",
       "    </tr>\n",
       "  </tbody>\n",
       "</table>\n",
       "</div>"
      ],
      "text/plain": [
       "       rating  other_sales\n",
       "3           M        81.96\n",
       "0           E        40.86\n",
       "6  not_rating        33.97\n",
       "5           T        28.17\n",
       "1        E10+        23.91"
      ]
     },
     "execution_count": 73,
     "metadata": {},
     "output_type": "execute_result"
    }
   ],
   "source": [
    "(new_data.query('rating != -1').groupby('rating')['other_sales'].sum().reset_index().sort_values(by='other_sales', ascending=False).head(5))"
   ]
  },
  {
   "cell_type": "code",
   "execution_count": 74,
   "id": "19994d90",
   "metadata": {},
   "outputs": [],
   "source": [
    "# создадим список регионов\n",
    "regions = ['na_sales','eu_sales','jp_sales']\n",
    "df_since2011=data.query('year_of_release >= 2011')"
   ]
  },
  {
   "cell_type": "code",
   "execution_count": 75,
   "id": "e71f1778",
   "metadata": {},
   "outputs": [
    {
     "name": "stdout",
     "output_type": "stream",
     "text": [
      "Суммарные продажи, млн.проданных копий в регионе\n",
      "na_sales 830\n",
      "eu_sales 670\n",
      "jp_sales 246\n"
     ]
    }
   ],
   "source": [
    "# посмотрим для себя где и как продается всё\n",
    "print(\"Суммарные продажи, млн.проданных копий в регионе\")\n",
    "for reg in regions:\n",
    "    sum_region=df_since2011[reg].sum()     \n",
    "    print(reg, round(sum_region))"
   ]
  },
  {
   "cell_type": "code",
   "execution_count": 76,
   "id": "d0b857f9",
   "metadata": {},
   "outputs": [
    {
     "data": {
      "image/png": "[encoded data removed]",
      "text/plain": [
       "<Figure size 432x432 with 1 Axes>"
      ]
     },
     "metadata": {},
     "output_type": "display_data"
    },
    {
     "data": {
      "image/png": "[encoded data removed]",
      "text/plain": [
       "<Figure size 432x432 with 1 Axes>"
      ]
     },
     "metadata": {},
     "output_type": "display_data"
    },
    {
     "data": {
      "image/png": "[encoded data removed]",
      "text/plain": [
       "<Figure size 432x432 with 1 Axes>"
      ]
     },
     "metadata": {},
     "output_type": "display_data"
    }
   ],
   "source": [
    "# создадим цикл для быстрого вывода для каждого региона\n",
    "for reg in regions:\n",
    "    (df_since2011.pivot_table(index='platform', values=reg, aggfunc='sum')\n",
    "                .sort_values(reg, ascending=False).head(5)\n",
    "                .plot(kind='pie', y=reg, figsize=(6, 6), legend=False, title = reg, autopct='%1.1f%%')\n",
    "                .set(ylabel='Суммарные продажи, млн.проданных копий')\n",
    "    )\n",
    "    plt.show()"
   ]
  },
  {
   "cell_type": "code",
   "execution_count": 77,
   "id": "7dfc5637",
   "metadata": {},
   "outputs": [
    {
     "data": {
      "image/png": "[encoded data removed]",
      "text/plain": [
       "<Figure size 432x432 with 1 Axes>"
      ]
     },
     "metadata": {},
     "output_type": "display_data"
    },
    {
     "data": {
      "image/png": "[encoded data removed]",
      "text/plain": [
       "<Figure size 432x432 with 1 Axes>"
      ]
     },
     "metadata": {},
     "output_type": "display_data"
    },
    {
     "data": {
      "image/png": "[encoded data removed]",
      "text/plain": [
       "<Figure size 432x432 with 1 Axes>"
      ]
     },
     "metadata": {},
     "output_type": "display_data"
    }
   ],
   "source": [
    "for reg in regions:\n",
    "    (new_data.pivot_table(index='genre', values=reg, aggfunc='sum')\n",
    "                .sort_values(reg, ascending=False).head(5)\n",
    "                .plot(kind='pie', y=reg, figsize=(6, 6), legend=False, pctdistance=0.5, \n",
    "                      labeldistance=1.1, radius=0.7, title = reg, autopct='%1.1f%%', explode = [0.02, 0.05, 0.08, 0.08, 0.05])\n",
    "                .set(ylabel='Суммарные продажи, млн.проданных копий')\n",
    "    )\n",
    "    plt.show()"
   ]
  },
  {
   "cell_type": "code",
   "execution_count": 78,
   "id": "37deac03",
   "metadata": {},
   "outputs": [
    {
     "data": {
      "image/png": "[encoded data removed]",
      "text/plain": [
       "<Figure size 432x432 with 1 Axes>"
      ]
     },
     "metadata": {},
     "output_type": "display_data"
    },
    {
     "data": {
      "image/png": "[encoded data removed]",
      "text/plain": [
       "<Figure size 432x432 with 1 Axes>"
      ]
     },
     "metadata": {},
     "output_type": "display_data"
    },
    {
     "data": {
      "image/png": "[encoded data removed]",
      "text/plain": [
       "<Figure size 432x432 with 1 Axes>"
      ]
     },
     "metadata": {},
     "output_type": "display_data"
    }
   ],
   "source": [
    "rating_actual= new_data.query('year_of_release >= 2011')\n",
    "for reg in regions:\n",
    "    (rating_actual.pivot_table(index='rating', values=reg, aggfunc='sum')\n",
    "                .sort_values(reg, ascending=True).tail(5)\n",
    "                .plot(kind='pie', y=reg, figsize=(6, 6), legend=False, pctdistance=0.5, \n",
    "                      labeldistance=1, radius=0.7, title = reg, autopct='%1.1f%%')\n",
    "                .set(xlabel='Суммарные продажи')\n",
    "    )\n",
    "    plt.show()"
   ]
  },
  {
   "cell_type": "markdown",
   "id": "89ea5f14",
   "metadata": {},
   "source": [
    "Вывод:\n",
    "В Северной Америке и Европе схожие взгляды как на приставки, так и на игры. Даже рейтинги игры очень схож. На их фоне выделяется Япония в которой на втором месте идут игры с рейтигом Т(для подростков). Так же изменения по популярным жанрам, либо они играют в спокойные игры, либо верно указвают данные при регистрации :)\n",
    "В целом взять весь мир, взгляды на приставки, жанры, рейтинги практически одиннаковый, выделяется Япония, но только флагманами продаж в остальном картина сразу похожа на весь мир. Так же видим, что игры с рейтингом ESRB предназначены для США И Канады, напрашивается вывод, что игры со статусом 'not_rating' может быть любой возврастной категории и мог бы значительно повлиять на результаты анализа."
   ]
  },
  {
   "cell_type": "markdown",
   "id": "73cc89be",
   "metadata": {},
   "source": [
    "# Проверьте гипотезы"
   ]
  },
  {
   "cell_type": "markdown",
   "id": "7b63238b",
   "metadata": {},
   "source": [
    "Сформулируем нулевую и альтернативную гипотезы. Нулевую гипотезу будем формулировать так, чтобы использовать знак равенства. Альтернативную гипотезу сформулируем оттакливаясь от нулевой гипотезы.\n",
    "\n",
    "H₀ -Средние пользовательские рейтинги платформ Xbox One и PC равны\n",
    "H₁ -Средние пользовательские рейтинги платформ Xbox One и PC не равны"
   ]
  },
  {
   "cell_type": "code",
   "execution_count": 79,
   "id": "faec1261",
   "metadata": {},
   "outputs": [],
   "source": [
    "x_one = game_stat_new_filtered.query('platform == \"XOne\"')\n",
    "pc = game_stat_new_filtered.query('platform == \"PC\"')"
   ]
  },
  {
   "cell_type": "code",
   "execution_count": 80,
   "id": "c8238fcc",
   "metadata": {},
   "outputs": [],
   "source": [
    "#критический уровень статистической значимости\n",
    "alpha = .05"
   ]
  },
  {
   "cell_type": "code",
   "execution_count": 81,
   "id": "98ead9a4",
   "metadata": {},
   "outputs": [
    {
     "name": "stdout",
     "output_type": "stream",
     "text": [
      "p-значение: 0.6497780402343761\n",
      "Не получилось отвергнуть нулевую гипотезу\n",
      "\n",
      "Cредний пользовательский рейтинг платформы Xbox One - 6.54\n",
      "Cредний пользовательский рейтинг платформы PC - 6.47\n"
     ]
    }
   ],
   "source": [
    "results = st.ttest_ind(x_one['user_score'], pc['user_score'])\n",
    "\n",
    "print('p-значение:', results.pvalue)\n",
    "\n",
    "if (results.pvalue < alpha):\n",
    "    print(\"Отвергаем нулевую гипотезу\")\n",
    "else:\n",
    "    print(\"Не получилось отвергнуть нулевую гипотезу\")\n",
    "    \n",
    "print()    \n",
    "print('Cредний пользовательский рейтинг платформы Xbox One -', x_one['user_score'].mean().round(2))\n",
    "print('Cредний пользовательский рейтинг платформы PC -', pc['user_score'].mean().round(2))"
   ]
  },
  {
   "cell_type": "markdown",
   "id": "3b565ab8",
   "metadata": {},
   "source": [
    "Средние пользовательские рейтинги жанров Action (англ. «действие», экшен\u0002игры) и Sports (англ. «спортивные соревнования») разные."
   ]
  },
  {
   "cell_type": "markdown",
   "id": "7fd8fb9c",
   "metadata": {},
   "source": [
    "H₀ - средние пользовательские рейтинги жанров Action и Sports равны\n",
    "H₁ - средние пользовательские рейтинги жанров Action и Sports не равны"
   ]
  },
  {
   "cell_type": "code",
   "execution_count": 82,
   "id": "9079a0e6",
   "metadata": {},
   "outputs": [],
   "source": [
    "action = game_stat_new_filtered.query('genre == \"Action\"')\n",
    "sports = game_stat_new_filtered.query('genre == \"Sports\"')"
   ]
  },
  {
   "cell_type": "code",
   "execution_count": 83,
   "id": "d9768fe6",
   "metadata": {},
   "outputs": [
    {
     "name": "stdout",
     "output_type": "stream",
     "text": [
      "p-значение: 2.3310713074754963e-14\n",
      "Отвергаем нулевую гипотезу\n",
      "\n",
      "Cредний пользовательский рейтинг жанра Action - 6.83\n",
      "Cредний пользовательский рейтинг жанра Sports - 5.96\n"
     ]
    }
   ],
   "source": [
    "results = st.ttest_ind(action['user_score'], sports['user_score'])\n",
    "\n",
    "print('p-значение:', results.pvalue)\n",
    "\n",
    "if (results.pvalue < alpha):\n",
    "    print(\"Отвергаем нулевую гипотезу\")\n",
    "else:\n",
    "    print(\"Не получилось отвергнуть нулевую гипотезу\")\n",
    "    \n",
    "print()    \n",
    "print('Cредний пользовательский рейтинг жанра Action -', action['user_score'].mean().round(2))\n",
    "print('Cредний пользовательский рейтинг жанра Sports -', sports['user_score'].mean().round(2))"
   ]
  },
  {
   "cell_type": "markdown",
   "id": "95fe9ad0",
   "metadata": {},
   "source": [
    "Вывод :\n",
    "Обе гипотезы не подтвержденны. "
   ]
  },
  {
   "cell_type": "markdown",
   "id": "c565c7ca",
   "metadata": {},
   "source": [
    "<font color='DarkBlue'><b>Комментарий ревьюера</b></font><br>\n",
    "<font color='DarkGreen'>👌 Хорошо сделана проверка гипотез. 👍</font>"
   ]
  },
  {
   "cell_type": "markdown",
   "id": "04e3ce7c",
   "metadata": {},
   "source": [
    "# Общий вывод"
   ]
  },
  {
   "cell_type": "markdown",
   "id": "0c9203a7",
   "metadata": {},
   "source": [
    "Следуя выводам из предыдущих блоков, можно сделать вывод такой, что в среднем платформы живут 10 лет и основываясь на данных за предудущие года. Лучше всего будет упор на новые приставки - PSPV, WiiU, 3DS, XOne, но так же не обделить вниманием и PSP4, X360,PC. На эти основные платформы я бы орентировался в будущем. Так же необходимо учитывать специфику каждого рынка, если СА,Европа и другой мир более-менее имеют схожие вкусы, так вот Япония кардинально отличается. При выборе реклам, следует больше орентироваться на предпочтение критиков, как мы выше увидели, из-за их оценок так же влияют продажи."
   ]
  }
 ],
 "metadata": {
  "ExecuteTimeLog": [
   {
    "duration": 1126,
    "start_time": "2022-04-01T19:31:48.032Z"
   },
   {
    "duration": 152,
    "start_time": "2022-04-01T19:31:49.160Z"
   },
   {
    "duration": 0,
    "start_time": "2022-04-01T19:31:49.315Z"
   },
   {
    "duration": 0,
    "start_time": "2022-04-01T19:31:49.316Z"
   },
   {
    "duration": 0,
    "start_time": "2022-04-01T19:31:49.317Z"
   },
   {
    "duration": 0,
    "start_time": "2022-04-01T19:31:49.318Z"
   },
   {
    "duration": 0,
    "start_time": "2022-04-01T19:31:49.319Z"
   },
   {
    "duration": 0,
    "start_time": "2022-04-01T19:31:49.320Z"
   },
   {
    "duration": 0,
    "start_time": "2022-04-01T19:31:49.332Z"
   },
   {
    "duration": 0,
    "start_time": "2022-04-01T19:31:49.334Z"
   },
   {
    "duration": 0,
    "start_time": "2022-04-01T19:31:49.335Z"
   },
   {
    "duration": 0,
    "start_time": "2022-04-01T19:31:49.336Z"
   },
   {
    "duration": 0,
    "start_time": "2022-04-01T19:31:49.337Z"
   },
   {
    "duration": 0,
    "start_time": "2022-04-01T19:31:49.337Z"
   },
   {
    "duration": 0,
    "start_time": "2022-04-01T19:31:49.339Z"
   },
   {
    "duration": 0,
    "start_time": "2022-04-01T19:31:49.339Z"
   },
   {
    "duration": 0,
    "start_time": "2022-04-01T19:31:49.340Z"
   },
   {
    "duration": 0,
    "start_time": "2022-04-01T19:31:49.341Z"
   },
   {
    "duration": 0,
    "start_time": "2022-04-01T19:31:49.342Z"
   },
   {
    "duration": 0,
    "start_time": "2022-04-01T19:31:49.343Z"
   },
   {
    "duration": 0,
    "start_time": "2022-04-01T19:31:49.344Z"
   },
   {
    "duration": 0,
    "start_time": "2022-04-01T19:31:49.345Z"
   },
   {
    "duration": 0,
    "start_time": "2022-04-01T19:31:49.346Z"
   },
   {
    "duration": 0,
    "start_time": "2022-04-01T19:31:49.347Z"
   },
   {
    "duration": 0,
    "start_time": "2022-04-01T19:31:49.348Z"
   },
   {
    "duration": 0,
    "start_time": "2022-04-01T19:31:49.349Z"
   },
   {
    "duration": 0,
    "start_time": "2022-04-01T19:31:49.350Z"
   },
   {
    "duration": 0,
    "start_time": "2022-04-01T19:31:49.351Z"
   },
   {
    "duration": 0,
    "start_time": "2022-04-01T19:31:49.352Z"
   },
   {
    "duration": 0,
    "start_time": "2022-04-01T19:31:49.353Z"
   },
   {
    "duration": 0,
    "start_time": "2022-04-01T19:31:49.353Z"
   },
   {
    "duration": 0,
    "start_time": "2022-04-01T19:31:49.355Z"
   },
   {
    "duration": 0,
    "start_time": "2022-04-01T19:31:49.356Z"
   },
   {
    "duration": 0,
    "start_time": "2022-04-01T19:31:49.356Z"
   },
   {
    "duration": 0,
    "start_time": "2022-04-01T19:31:49.357Z"
   },
   {
    "duration": 0,
    "start_time": "2022-04-01T19:31:49.358Z"
   },
   {
    "duration": 0,
    "start_time": "2022-04-01T19:31:49.359Z"
   },
   {
    "duration": 0,
    "start_time": "2022-04-01T19:31:49.360Z"
   },
   {
    "duration": 0,
    "start_time": "2022-04-01T19:31:49.360Z"
   },
   {
    "duration": 0,
    "start_time": "2022-04-01T19:31:49.361Z"
   },
   {
    "duration": 0,
    "start_time": "2022-04-01T19:31:49.362Z"
   },
   {
    "duration": 0,
    "start_time": "2022-04-01T19:31:49.363Z"
   },
   {
    "duration": 0,
    "start_time": "2022-04-01T19:31:49.364Z"
   },
   {
    "duration": 0,
    "start_time": "2022-04-01T19:31:49.365Z"
   },
   {
    "duration": 0,
    "start_time": "2022-04-01T19:31:49.366Z"
   },
   {
    "duration": 0,
    "start_time": "2022-04-01T19:31:49.367Z"
   },
   {
    "duration": 0,
    "start_time": "2022-04-01T19:31:49.368Z"
   },
   {
    "duration": 0,
    "start_time": "2022-04-01T19:31:49.369Z"
   },
   {
    "duration": 0,
    "start_time": "2022-04-01T19:31:49.370Z"
   },
   {
    "duration": 0,
    "start_time": "2022-04-01T19:31:49.433Z"
   },
   {
    "duration": 0,
    "start_time": "2022-04-01T19:31:49.434Z"
   },
   {
    "duration": 0,
    "start_time": "2022-04-01T19:31:49.435Z"
   },
   {
    "duration": 0,
    "start_time": "2022-04-01T19:31:49.436Z"
   },
   {
    "duration": 0,
    "start_time": "2022-04-01T19:31:49.437Z"
   },
   {
    "duration": 1127,
    "start_time": "2022-04-01T19:35:38.020Z"
   },
   {
    "duration": 3,
    "start_time": "2022-04-01T19:35:39.149Z"
   },
   {
    "duration": 38,
    "start_time": "2022-04-01T19:35:39.153Z"
   },
   {
    "duration": 15,
    "start_time": "2022-04-01T19:35:39.193Z"
   },
   {
    "duration": 27,
    "start_time": "2022-04-01T19:35:39.211Z"
   },
   {
    "duration": 4,
    "start_time": "2022-04-01T19:35:39.240Z"
   },
   {
    "duration": 5,
    "start_time": "2022-04-01T19:35:39.246Z"
   },
   {
    "duration": 10,
    "start_time": "2022-04-01T19:35:39.252Z"
   },
   {
    "duration": 18,
    "start_time": "2022-04-01T19:35:39.263Z"
   },
   {
    "duration": 7,
    "start_time": "2022-04-01T19:35:39.282Z"
   },
   {
    "duration": 9,
    "start_time": "2022-04-01T19:35:39.291Z"
   },
   {
    "duration": 8,
    "start_time": "2022-04-01T19:35:39.301Z"
   },
   {
    "duration": 29,
    "start_time": "2022-04-01T19:35:39.311Z"
   },
   {
    "duration": 20,
    "start_time": "2022-04-01T19:35:39.343Z"
   },
   {
    "duration": 8,
    "start_time": "2022-04-01T19:35:39.364Z"
   },
   {
    "duration": 5,
    "start_time": "2022-04-01T19:35:39.373Z"
   },
   {
    "duration": 17,
    "start_time": "2022-04-01T19:35:39.380Z"
   },
   {
    "duration": 41,
    "start_time": "2022-04-01T19:35:39.399Z"
   },
   {
    "duration": 152,
    "start_time": "2022-04-01T19:35:39.442Z"
   },
   {
    "duration": 45,
    "start_time": "2022-04-01T19:35:39.595Z"
   },
   {
    "duration": 6,
    "start_time": "2022-04-01T19:35:39.642Z"
   },
   {
    "duration": 12,
    "start_time": "2022-04-01T19:35:39.650Z"
   },
   {
    "duration": 4,
    "start_time": "2022-04-01T19:35:39.663Z"
   },
   {
    "duration": 19,
    "start_time": "2022-04-01T19:35:39.669Z"
   },
   {
    "duration": 56,
    "start_time": "2022-04-01T19:35:39.689Z"
   },
   {
    "duration": 117,
    "start_time": "2022-04-01T19:35:39.746Z"
   },
   {
    "duration": 101,
    "start_time": "2022-04-01T19:35:39.865Z"
   },
   {
    "duration": 230,
    "start_time": "2022-04-01T19:35:39.968Z"
   },
   {
    "duration": 7,
    "start_time": "2022-04-01T19:35:40.200Z"
   },
   {
    "duration": 143,
    "start_time": "2022-04-01T19:35:40.208Z"
   },
   {
    "duration": 5,
    "start_time": "2022-04-01T19:35:40.352Z"
   },
   {
    "duration": 138,
    "start_time": "2022-04-01T19:35:40.358Z"
   },
   {
    "duration": 5,
    "start_time": "2022-04-01T19:35:40.498Z"
   },
   {
    "duration": 144,
    "start_time": "2022-04-01T19:35:40.504Z"
   },
   {
    "duration": 5,
    "start_time": "2022-04-01T19:35:40.650Z"
   },
   {
    "duration": 134,
    "start_time": "2022-04-01T19:35:40.657Z"
   },
   {
    "duration": 6,
    "start_time": "2022-04-01T19:35:40.792Z"
   },
   {
    "duration": 16,
    "start_time": "2022-04-01T19:35:40.799Z"
   },
   {
    "duration": 11,
    "start_time": "2022-04-01T19:35:40.832Z"
   },
   {
    "duration": 13,
    "start_time": "2022-04-01T19:35:40.845Z"
   },
   {
    "duration": 10,
    "start_time": "2022-04-01T19:35:40.862Z"
   },
   {
    "duration": 11,
    "start_time": "2022-04-01T19:35:40.873Z"
   },
   {
    "duration": 48,
    "start_time": "2022-04-01T19:35:40.885Z"
   },
   {
    "duration": 15,
    "start_time": "2022-04-01T19:35:40.935Z"
   },
   {
    "duration": 10,
    "start_time": "2022-04-01T19:35:40.952Z"
   },
   {
    "duration": 10,
    "start_time": "2022-04-01T19:35:40.964Z"
   },
   {
    "duration": 13,
    "start_time": "2022-04-01T19:35:40.975Z"
   },
   {
    "duration": 45,
    "start_time": "2022-04-01T19:35:40.989Z"
   },
   {
    "duration": 10,
    "start_time": "2022-04-01T19:35:41.036Z"
   },
   {
    "duration": 13,
    "start_time": "2022-04-01T19:35:41.047Z"
   },
   {
    "duration": 7,
    "start_time": "2022-04-01T19:35:41.062Z"
   },
   {
    "duration": 6,
    "start_time": "2022-04-01T19:35:41.071Z"
   },
   {
    "duration": 7,
    "start_time": "2022-04-01T19:35:41.078Z"
   },
   {
    "duration": 9,
    "start_time": "2022-04-01T19:35:41.087Z"
   },
   {
    "duration": 39,
    "start_time": "2022-04-01T19:35:41.097Z"
   },
   {
    "duration": 1096,
    "start_time": "2022-04-01T19:38:42.082Z"
   },
   {
    "duration": 3,
    "start_time": "2022-04-01T19:38:43.180Z"
   },
   {
    "duration": 42,
    "start_time": "2022-04-01T19:38:43.184Z"
   },
   {
    "duration": 14,
    "start_time": "2022-04-01T19:38:43.228Z"
   },
   {
    "duration": 16,
    "start_time": "2022-04-01T19:38:43.244Z"
   },
   {
    "duration": 4,
    "start_time": "2022-04-01T19:38:43.262Z"
   },
   {
    "duration": 3,
    "start_time": "2022-04-01T19:38:43.268Z"
   },
   {
    "duration": 5,
    "start_time": "2022-04-01T19:38:43.273Z"
   },
   {
    "duration": 8,
    "start_time": "2022-04-01T19:38:43.280Z"
   },
   {
    "duration": 5,
    "start_time": "2022-04-01T19:38:43.289Z"
   },
   {
    "duration": 37,
    "start_time": "2022-04-01T19:38:43.296Z"
   },
   {
    "duration": 5,
    "start_time": "2022-04-01T19:38:43.335Z"
   },
   {
    "duration": 11,
    "start_time": "2022-04-01T19:38:43.341Z"
   },
   {
    "duration": 17,
    "start_time": "2022-04-01T19:38:43.355Z"
   },
   {
    "duration": 8,
    "start_time": "2022-04-01T19:38:43.374Z"
   },
   {
    "duration": 5,
    "start_time": "2022-04-01T19:38:43.384Z"
   },
   {
    "duration": 44,
    "start_time": "2022-04-01T19:38:43.390Z"
   },
   {
    "duration": 14,
    "start_time": "2022-04-01T19:38:43.435Z"
   },
   {
    "duration": 176,
    "start_time": "2022-04-01T19:38:43.451Z"
   },
   {
    "duration": 0,
    "start_time": "2022-04-01T19:38:43.629Z"
   },
   {
    "duration": 0,
    "start_time": "2022-04-01T19:38:43.632Z"
   },
   {
    "duration": 1,
    "start_time": "2022-04-01T19:38:43.633Z"
   },
   {
    "duration": 0,
    "start_time": "2022-04-01T19:38:43.635Z"
   },
   {
    "duration": 0,
    "start_time": "2022-04-01T19:38:43.636Z"
   },
   {
    "duration": 0,
    "start_time": "2022-04-01T19:38:43.637Z"
   },
   {
    "duration": 0,
    "start_time": "2022-04-01T19:38:43.638Z"
   },
   {
    "duration": 0,
    "start_time": "2022-04-01T19:38:43.639Z"
   },
   {
    "duration": 0,
    "start_time": "2022-04-01T19:38:43.640Z"
   },
   {
    "duration": 0,
    "start_time": "2022-04-01T19:38:43.642Z"
   },
   {
    "duration": 0,
    "start_time": "2022-04-01T19:38:43.642Z"
   },
   {
    "duration": 0,
    "start_time": "2022-04-01T19:38:43.644Z"
   },
   {
    "duration": 0,
    "start_time": "2022-04-01T19:38:43.645Z"
   },
   {
    "duration": 0,
    "start_time": "2022-04-01T19:38:43.646Z"
   },
   {
    "duration": 0,
    "start_time": "2022-04-01T19:38:43.646Z"
   },
   {
    "duration": 0,
    "start_time": "2022-04-01T19:38:43.648Z"
   },
   {
    "duration": 0,
    "start_time": "2022-04-01T19:38:43.649Z"
   },
   {
    "duration": 0,
    "start_time": "2022-04-01T19:38:43.650Z"
   },
   {
    "duration": 0,
    "start_time": "2022-04-01T19:38:43.651Z"
   },
   {
    "duration": 0,
    "start_time": "2022-04-01T19:38:43.652Z"
   },
   {
    "duration": 0,
    "start_time": "2022-04-01T19:38:43.653Z"
   },
   {
    "duration": 0,
    "start_time": "2022-04-01T19:38:43.654Z"
   },
   {
    "duration": 0,
    "start_time": "2022-04-01T19:38:43.655Z"
   },
   {
    "duration": 0,
    "start_time": "2022-04-01T19:38:43.656Z"
   },
   {
    "duration": 0,
    "start_time": "2022-04-01T19:38:43.657Z"
   },
   {
    "duration": 0,
    "start_time": "2022-04-01T19:38:43.658Z"
   },
   {
    "duration": 0,
    "start_time": "2022-04-01T19:38:43.659Z"
   },
   {
    "duration": 0,
    "start_time": "2022-04-01T19:38:43.660Z"
   },
   {
    "duration": 0,
    "start_time": "2022-04-01T19:38:43.661Z"
   },
   {
    "duration": 0,
    "start_time": "2022-04-01T19:38:43.662Z"
   },
   {
    "duration": 0,
    "start_time": "2022-04-01T19:38:43.663Z"
   },
   {
    "duration": 0,
    "start_time": "2022-04-01T19:38:43.664Z"
   },
   {
    "duration": 0,
    "start_time": "2022-04-01T19:38:43.665Z"
   },
   {
    "duration": 0,
    "start_time": "2022-04-01T19:38:43.667Z"
   },
   {
    "duration": 0,
    "start_time": "2022-04-01T19:38:43.667Z"
   },
   {
    "duration": 0,
    "start_time": "2022-04-01T19:38:43.669Z"
   },
   {
    "duration": 0,
    "start_time": "2022-04-01T19:38:43.669Z"
   },
   {
    "duration": 73,
    "start_time": "2022-04-01T19:40:39.865Z"
   },
   {
    "duration": 36,
    "start_time": "2022-04-01T19:42:19.821Z"
   },
   {
    "duration": 1162,
    "start_time": "2022-04-01T19:42:47.304Z"
   },
   {
    "duration": 3,
    "start_time": "2022-04-01T19:42:48.468Z"
   },
   {
    "duration": 42,
    "start_time": "2022-04-01T19:42:48.472Z"
   },
   {
    "duration": 20,
    "start_time": "2022-04-01T19:42:48.516Z"
   },
   {
    "duration": 16,
    "start_time": "2022-04-01T19:42:48.538Z"
   },
   {
    "duration": 6,
    "start_time": "2022-04-01T19:42:48.556Z"
   },
   {
    "duration": 5,
    "start_time": "2022-04-01T19:42:48.564Z"
   },
   {
    "duration": 7,
    "start_time": "2022-04-01T19:42:48.570Z"
   },
   {
    "duration": 8,
    "start_time": "2022-04-01T19:42:48.579Z"
   },
   {
    "duration": 8,
    "start_time": "2022-04-01T19:42:48.588Z"
   },
   {
    "duration": 39,
    "start_time": "2022-04-01T19:42:48.597Z"
   },
   {
    "duration": 8,
    "start_time": "2022-04-01T19:42:48.638Z"
   },
   {
    "duration": 13,
    "start_time": "2022-04-01T19:42:48.647Z"
   },
   {
    "duration": 23,
    "start_time": "2022-04-01T19:42:48.663Z"
   },
   {
    "duration": 9,
    "start_time": "2022-04-01T19:42:48.687Z"
   },
   {
    "duration": 8,
    "start_time": "2022-04-01T19:42:48.697Z"
   },
   {
    "duration": 36,
    "start_time": "2022-04-01T19:42:48.706Z"
   },
   {
    "duration": 21,
    "start_time": "2022-04-01T19:42:48.744Z"
   },
   {
    "duration": 36,
    "start_time": "2022-04-01T19:42:48.766Z"
   },
   {
    "duration": 190,
    "start_time": "2022-04-01T19:42:48.804Z"
   },
   {
    "duration": 52,
    "start_time": "2022-04-01T19:42:48.997Z"
   },
   {
    "duration": 7,
    "start_time": "2022-04-01T19:42:49.051Z"
   },
   {
    "duration": 19,
    "start_time": "2022-04-01T19:42:49.060Z"
   },
   {
    "duration": 5,
    "start_time": "2022-04-01T19:42:49.081Z"
   },
   {
    "duration": 21,
    "start_time": "2022-04-01T19:42:49.087Z"
   },
   {
    "duration": 49,
    "start_time": "2022-04-01T19:42:49.110Z"
   },
   {
    "duration": 127,
    "start_time": "2022-04-01T19:42:49.160Z"
   },
   {
    "duration": 104,
    "start_time": "2022-04-01T19:42:49.288Z"
   },
   {
    "duration": 274,
    "start_time": "2022-04-01T19:42:49.394Z"
   },
   {
    "duration": 7,
    "start_time": "2022-04-01T19:42:49.670Z"
   },
   {
    "duration": 149,
    "start_time": "2022-04-01T19:42:49.678Z"
   },
   {
    "duration": 6,
    "start_time": "2022-04-01T19:42:49.833Z"
   },
   {
    "duration": 232,
    "start_time": "2022-04-01T19:42:49.841Z"
   },
   {
    "duration": 6,
    "start_time": "2022-04-01T19:42:50.075Z"
   },
   {
    "duration": 162,
    "start_time": "2022-04-01T19:42:50.083Z"
   },
   {
    "duration": 5,
    "start_time": "2022-04-01T19:42:50.247Z"
   },
   {
    "duration": 150,
    "start_time": "2022-04-01T19:42:50.253Z"
   },
   {
    "duration": 5,
    "start_time": "2022-04-01T19:42:50.405Z"
   },
   {
    "duration": 28,
    "start_time": "2022-04-01T19:42:50.411Z"
   },
   {
    "duration": 13,
    "start_time": "2022-04-01T19:42:50.441Z"
   },
   {
    "duration": 14,
    "start_time": "2022-04-01T19:42:50.458Z"
   },
   {
    "duration": 10,
    "start_time": "2022-04-01T19:42:50.473Z"
   },
   {
    "duration": 14,
    "start_time": "2022-04-01T19:42:50.485Z"
   },
   {
    "duration": 42,
    "start_time": "2022-04-01T19:42:50.500Z"
   },
   {
    "duration": 17,
    "start_time": "2022-04-01T19:42:50.544Z"
   },
   {
    "duration": 11,
    "start_time": "2022-04-01T19:42:50.562Z"
   },
   {
    "duration": 10,
    "start_time": "2022-04-01T19:42:50.575Z"
   },
   {
    "duration": 13,
    "start_time": "2022-04-01T19:42:50.587Z"
   },
   {
    "duration": 12,
    "start_time": "2022-04-01T19:42:50.633Z"
   },
   {
    "duration": 12,
    "start_time": "2022-04-01T19:42:50.646Z"
   },
   {
    "duration": 19,
    "start_time": "2022-04-01T19:42:50.660Z"
   },
   {
    "duration": 10,
    "start_time": "2022-04-01T19:42:50.681Z"
   },
   {
    "duration": 4,
    "start_time": "2022-04-01T19:42:50.693Z"
   },
   {
    "duration": 9,
    "start_time": "2022-04-01T19:42:50.732Z"
   },
   {
    "duration": 12,
    "start_time": "2022-04-01T19:42:50.744Z"
   },
   {
    "duration": 8,
    "start_time": "2022-04-01T19:42:50.758Z"
   },
   {
    "duration": 1159,
    "start_time": "2022-04-01T20:19:31.299Z"
   },
   {
    "duration": 3,
    "start_time": "2022-04-01T20:19:32.460Z"
   },
   {
    "duration": 44,
    "start_time": "2022-04-01T20:19:32.465Z"
   },
   {
    "duration": 16,
    "start_time": "2022-04-01T20:19:32.511Z"
   },
   {
    "duration": 17,
    "start_time": "2022-04-01T20:19:32.533Z"
   },
   {
    "duration": 5,
    "start_time": "2022-04-01T20:19:32.551Z"
   },
   {
    "duration": 3,
    "start_time": "2022-04-01T20:19:32.558Z"
   },
   {
    "duration": 5,
    "start_time": "2022-04-01T20:19:32.563Z"
   },
   {
    "duration": 6,
    "start_time": "2022-04-01T20:19:32.570Z"
   },
   {
    "duration": 5,
    "start_time": "2022-04-01T20:19:32.579Z"
   },
   {
    "duration": 48,
    "start_time": "2022-04-01T20:19:32.585Z"
   },
   {
    "duration": 6,
    "start_time": "2022-04-01T20:19:32.635Z"
   },
   {
    "duration": 15,
    "start_time": "2022-04-01T20:19:32.642Z"
   },
   {
    "duration": 24,
    "start_time": "2022-04-01T20:19:32.659Z"
   },
   {
    "duration": 8,
    "start_time": "2022-04-01T20:19:32.685Z"
   },
   {
    "duration": 5,
    "start_time": "2022-04-01T20:19:32.695Z"
   },
   {
    "duration": 36,
    "start_time": "2022-04-01T20:19:32.701Z"
   },
   {
    "duration": 14,
    "start_time": "2022-04-01T20:19:32.738Z"
   },
   {
    "duration": 33,
    "start_time": "2022-04-01T20:19:32.754Z"
   },
   {
    "duration": 173,
    "start_time": "2022-04-01T20:19:32.789Z"
   },
   {
    "duration": 36,
    "start_time": "2022-04-01T20:19:32.964Z"
   },
   {
    "duration": 6,
    "start_time": "2022-04-01T20:19:33.001Z"
   },
   {
    "duration": 28,
    "start_time": "2022-04-01T20:19:33.008Z"
   },
   {
    "duration": 4,
    "start_time": "2022-04-01T20:19:33.038Z"
   },
   {
    "duration": 21,
    "start_time": "2022-04-01T20:19:33.043Z"
   },
   {
    "duration": 26,
    "start_time": "2022-04-01T20:19:33.065Z"
   },
   {
    "duration": 130,
    "start_time": "2022-04-01T20:19:33.093Z"
   },
   {
    "duration": 88,
    "start_time": "2022-04-01T20:19:33.235Z"
   },
   {
    "duration": 228,
    "start_time": "2022-04-01T20:19:33.333Z"
   },
   {
    "duration": 7,
    "start_time": "2022-04-01T20:19:33.563Z"
   },
   {
    "duration": 144,
    "start_time": "2022-04-01T20:19:33.571Z"
   },
   {
    "duration": 5,
    "start_time": "2022-04-01T20:19:33.717Z"
   },
   {
    "duration": 138,
    "start_time": "2022-04-01T20:19:33.733Z"
   },
   {
    "duration": 5,
    "start_time": "2022-04-01T20:19:33.872Z"
   },
   {
    "duration": 134,
    "start_time": "2022-04-01T20:19:33.879Z"
   },
   {
    "duration": 19,
    "start_time": "2022-04-01T20:19:34.014Z"
   },
   {
    "duration": 135,
    "start_time": "2022-04-01T20:19:34.035Z"
   },
   {
    "duration": 5,
    "start_time": "2022-04-01T20:19:34.172Z"
   },
   {
    "duration": 15,
    "start_time": "2022-04-01T20:19:34.178Z"
   },
   {
    "duration": 11,
    "start_time": "2022-04-01T20:19:34.195Z"
   },
   {
    "duration": 14,
    "start_time": "2022-04-01T20:19:34.233Z"
   },
   {
    "duration": 11,
    "start_time": "2022-04-01T20:19:34.249Z"
   },
   {
    "duration": 11,
    "start_time": "2022-04-01T20:19:34.261Z"
   },
   {
    "duration": 11,
    "start_time": "2022-04-01T20:19:34.274Z"
   },
   {
    "duration": 50,
    "start_time": "2022-04-01T20:19:34.287Z"
   },
   {
    "duration": 10,
    "start_time": "2022-04-01T20:19:34.339Z"
   },
   {
    "duration": 9,
    "start_time": "2022-04-01T20:19:34.351Z"
   },
   {
    "duration": 13,
    "start_time": "2022-04-01T20:19:34.362Z"
   },
   {
    "duration": 11,
    "start_time": "2022-04-01T20:19:34.376Z"
   },
   {
    "duration": 46,
    "start_time": "2022-04-01T20:19:34.388Z"
   },
   {
    "duration": 13,
    "start_time": "2022-04-01T20:19:34.436Z"
   },
   {
    "duration": 7,
    "start_time": "2022-04-01T20:19:34.451Z"
   },
   {
    "duration": 6,
    "start_time": "2022-04-01T20:19:34.460Z"
   },
   {
    "duration": 6,
    "start_time": "2022-04-01T20:19:34.468Z"
   },
   {
    "duration": 8,
    "start_time": "2022-04-01T20:19:34.476Z"
   },
   {
    "duration": 5,
    "start_time": "2022-04-01T20:19:34.486Z"
   },
   {
    "duration": 5,
    "start_time": "2022-04-01T20:23:44.576Z"
   },
   {
    "duration": 4,
    "start_time": "2022-04-01T20:24:37.905Z"
   },
   {
    "duration": 4,
    "start_time": "2022-04-01T20:24:50.036Z"
   },
   {
    "duration": 1414,
    "start_time": "2022-04-07T17:04:07.919Z"
   },
   {
    "duration": 3,
    "start_time": "2022-04-07T17:04:09.335Z"
   },
   {
    "duration": 46,
    "start_time": "2022-04-07T17:04:09.340Z"
   },
   {
    "duration": 16,
    "start_time": "2022-04-07T17:04:09.389Z"
   },
   {
    "duration": 22,
    "start_time": "2022-04-07T17:04:09.407Z"
   },
   {
    "duration": 5,
    "start_time": "2022-04-07T17:04:09.430Z"
   },
   {
    "duration": 6,
    "start_time": "2022-04-07T17:04:09.437Z"
   },
   {
    "duration": 7,
    "start_time": "2022-04-07T17:04:09.445Z"
   },
   {
    "duration": 9,
    "start_time": "2022-04-07T17:04:09.453Z"
   },
   {
    "duration": 6,
    "start_time": "2022-04-07T17:04:09.501Z"
   },
   {
    "duration": 7,
    "start_time": "2022-04-07T17:04:09.509Z"
   },
   {
    "duration": 6,
    "start_time": "2022-04-07T17:04:09.519Z"
   },
   {
    "duration": 19,
    "start_time": "2022-04-07T17:04:09.527Z"
   },
   {
    "duration": 53,
    "start_time": "2022-04-07T17:04:09.549Z"
   },
   {
    "duration": 11,
    "start_time": "2022-04-07T17:04:09.605Z"
   },
   {
    "duration": 7,
    "start_time": "2022-04-07T17:04:09.618Z"
   },
   {
    "duration": 16,
    "start_time": "2022-04-07T17:04:09.627Z"
   },
   {
    "duration": 16,
    "start_time": "2022-04-07T17:04:09.645Z"
   },
   {
    "duration": 73,
    "start_time": "2022-04-07T17:04:09.663Z"
   },
   {
    "duration": 191,
    "start_time": "2022-04-07T17:04:09.738Z"
   },
   {
    "duration": 42,
    "start_time": "2022-04-07T17:04:09.931Z"
   },
   {
    "duration": 27,
    "start_time": "2022-04-07T17:04:09.975Z"
   },
   {
    "duration": 11,
    "start_time": "2022-04-07T17:04:10.004Z"
   },
   {
    "duration": 5,
    "start_time": "2022-04-07T17:04:10.017Z"
   },
   {
    "duration": 28,
    "start_time": "2022-04-07T17:04:10.023Z"
   },
   {
    "duration": 50,
    "start_time": "2022-04-07T17:04:10.053Z"
   },
   {
    "duration": 132,
    "start_time": "2022-04-07T17:04:10.106Z"
   },
   {
    "duration": 116,
    "start_time": "2022-04-07T17:04:10.242Z"
   },
   {
    "duration": 261,
    "start_time": "2022-04-07T17:04:10.360Z"
   },
   {
    "duration": 7,
    "start_time": "2022-04-07T17:04:10.623Z"
   },
   {
    "duration": 171,
    "start_time": "2022-04-07T17:04:10.632Z"
   },
   {
    "duration": 5,
    "start_time": "2022-04-07T17:04:10.805Z"
   },
   {
    "duration": 174,
    "start_time": "2022-04-07T17:04:10.812Z"
   },
   {
    "duration": 14,
    "start_time": "2022-04-07T17:04:10.987Z"
   },
   {
    "duration": 158,
    "start_time": "2022-04-07T17:04:11.003Z"
   },
   {
    "duration": 5,
    "start_time": "2022-04-07T17:04:11.163Z"
   },
   {
    "duration": 156,
    "start_time": "2022-04-07T17:04:11.170Z"
   },
   {
    "duration": 6,
    "start_time": "2022-04-07T17:04:11.328Z"
   },
   {
    "duration": 18,
    "start_time": "2022-04-07T17:04:11.335Z"
   },
   {
    "duration": 12,
    "start_time": "2022-04-07T17:04:11.355Z"
   },
   {
    "duration": 16,
    "start_time": "2022-04-07T17:04:11.400Z"
   },
   {
    "duration": 11,
    "start_time": "2022-04-07T17:04:11.418Z"
   },
   {
    "duration": 11,
    "start_time": "2022-04-07T17:04:11.431Z"
   },
   {
    "duration": 11,
    "start_time": "2022-04-07T17:04:11.444Z"
   },
   {
    "duration": 16,
    "start_time": "2022-04-07T17:04:11.500Z"
   },
   {
    "duration": 11,
    "start_time": "2022-04-07T17:04:11.518Z"
   },
   {
    "duration": 12,
    "start_time": "2022-04-07T17:04:11.530Z"
   },
   {
    "duration": 14,
    "start_time": "2022-04-07T17:04:11.544Z"
   },
   {
    "duration": 50,
    "start_time": "2022-04-07T17:04:11.560Z"
   },
   {
    "duration": 11,
    "start_time": "2022-04-07T17:04:11.612Z"
   },
   {
    "duration": 15,
    "start_time": "2022-04-07T17:04:11.624Z"
   },
   {
    "duration": 8,
    "start_time": "2022-04-07T17:04:11.641Z"
   },
   {
    "duration": 51,
    "start_time": "2022-04-07T17:04:11.651Z"
   },
   {
    "duration": 10,
    "start_time": "2022-04-07T17:04:11.704Z"
   },
   {
    "duration": 18,
    "start_time": "2022-04-07T17:04:11.716Z"
   },
   {
    "duration": 16,
    "start_time": "2022-04-07T17:04:11.736Z"
   },
   {
    "duration": 116,
    "start_time": "2022-04-07T17:04:41.968Z"
   },
   {
    "duration": 1317,
    "start_time": "2022-04-07T17:04:49.914Z"
   },
   {
    "duration": 2,
    "start_time": "2022-04-07T17:04:51.234Z"
   },
   {
    "duration": 43,
    "start_time": "2022-04-07T17:04:51.237Z"
   },
   {
    "duration": 21,
    "start_time": "2022-04-07T17:04:51.283Z"
   },
   {
    "duration": 18,
    "start_time": "2022-04-07T17:04:51.306Z"
   },
   {
    "duration": 4,
    "start_time": "2022-04-07T17:04:51.326Z"
   },
   {
    "duration": 13,
    "start_time": "2022-04-07T17:04:51.332Z"
   },
   {
    "duration": 11,
    "start_time": "2022-04-07T17:04:51.347Z"
   },
   {
    "duration": 10,
    "start_time": "2022-04-07T17:04:51.360Z"
   },
   {
    "duration": 28,
    "start_time": "2022-04-07T17:04:51.374Z"
   },
   {
    "duration": 15,
    "start_time": "2022-04-07T17:04:51.404Z"
   },
   {
    "duration": 12,
    "start_time": "2022-04-07T17:04:51.421Z"
   },
   {
    "duration": 18,
    "start_time": "2022-04-07T17:04:51.435Z"
   },
   {
    "duration": 38,
    "start_time": "2022-04-07T17:04:51.455Z"
   },
   {
    "duration": 12,
    "start_time": "2022-04-07T17:04:51.495Z"
   },
   {
    "duration": 11,
    "start_time": "2022-04-07T17:04:51.509Z"
   },
   {
    "duration": 31,
    "start_time": "2022-04-07T17:04:51.522Z"
   },
   {
    "duration": 23,
    "start_time": "2022-04-07T17:04:51.555Z"
   },
   {
    "duration": 57,
    "start_time": "2022-04-07T17:04:51.581Z"
   },
   {
    "duration": 133,
    "start_time": "2022-04-07T17:04:51.640Z"
   },
   {
    "duration": 0,
    "start_time": "2022-04-07T17:04:51.777Z"
   },
   {
    "duration": 0,
    "start_time": "2022-04-07T17:04:51.778Z"
   },
   {
    "duration": 0,
    "start_time": "2022-04-07T17:04:51.779Z"
   },
   {
    "duration": 0,
    "start_time": "2022-04-07T17:04:51.780Z"
   },
   {
    "duration": 0,
    "start_time": "2022-04-07T17:04:51.781Z"
   },
   {
    "duration": 0,
    "start_time": "2022-04-07T17:04:51.782Z"
   },
   {
    "duration": 0,
    "start_time": "2022-04-07T17:04:51.783Z"
   },
   {
    "duration": 0,
    "start_time": "2022-04-07T17:04:51.801Z"
   },
   {
    "duration": 0,
    "start_time": "2022-04-07T17:04:51.802Z"
   },
   {
    "duration": 0,
    "start_time": "2022-04-07T17:04:51.804Z"
   },
   {
    "duration": 0,
    "start_time": "2022-04-07T17:04:51.805Z"
   },
   {
    "duration": 0,
    "start_time": "2022-04-07T17:04:51.806Z"
   },
   {
    "duration": 0,
    "start_time": "2022-04-07T17:04:51.808Z"
   },
   {
    "duration": 0,
    "start_time": "2022-04-07T17:04:51.810Z"
   },
   {
    "duration": 0,
    "start_time": "2022-04-07T17:04:51.811Z"
   },
   {
    "duration": 0,
    "start_time": "2022-04-07T17:04:51.813Z"
   },
   {
    "duration": 0,
    "start_time": "2022-04-07T17:04:51.814Z"
   },
   {
    "duration": 0,
    "start_time": "2022-04-07T17:04:51.816Z"
   },
   {
    "duration": 0,
    "start_time": "2022-04-07T17:04:51.817Z"
   },
   {
    "duration": 0,
    "start_time": "2022-04-07T17:04:51.819Z"
   },
   {
    "duration": 0,
    "start_time": "2022-04-07T17:04:51.820Z"
   },
   {
    "duration": 0,
    "start_time": "2022-04-07T17:04:51.822Z"
   },
   {
    "duration": 0,
    "start_time": "2022-04-07T17:04:51.823Z"
   },
   {
    "duration": 0,
    "start_time": "2022-04-07T17:04:51.825Z"
   },
   {
    "duration": 0,
    "start_time": "2022-04-07T17:04:51.826Z"
   },
   {
    "duration": 0,
    "start_time": "2022-04-07T17:04:51.828Z"
   },
   {
    "duration": 0,
    "start_time": "2022-04-07T17:04:51.829Z"
   },
   {
    "duration": 0,
    "start_time": "2022-04-07T17:04:51.831Z"
   },
   {
    "duration": 0,
    "start_time": "2022-04-07T17:04:51.832Z"
   },
   {
    "duration": 0,
    "start_time": "2022-04-07T17:04:51.834Z"
   },
   {
    "duration": 0,
    "start_time": "2022-04-07T17:04:51.835Z"
   },
   {
    "duration": 0,
    "start_time": "2022-04-07T17:04:51.836Z"
   },
   {
    "duration": 0,
    "start_time": "2022-04-07T17:04:51.838Z"
   },
   {
    "duration": 0,
    "start_time": "2022-04-07T17:04:51.839Z"
   },
   {
    "duration": 0,
    "start_time": "2022-04-07T17:04:51.841Z"
   },
   {
    "duration": 0,
    "start_time": "2022-04-07T17:04:51.902Z"
   },
   {
    "duration": 1217,
    "start_time": "2022-04-07T17:05:10.244Z"
   },
   {
    "duration": 2,
    "start_time": "2022-04-07T17:05:11.463Z"
   },
   {
    "duration": 47,
    "start_time": "2022-04-07T17:05:11.467Z"
   },
   {
    "duration": 17,
    "start_time": "2022-04-07T17:05:11.516Z"
   },
   {
    "duration": 19,
    "start_time": "2022-04-07T17:05:11.534Z"
   },
   {
    "duration": 5,
    "start_time": "2022-04-07T17:05:11.555Z"
   },
   {
    "duration": 6,
    "start_time": "2022-04-07T17:05:11.562Z"
   },
   {
    "duration": 35,
    "start_time": "2022-04-07T17:05:11.569Z"
   },
   {
    "duration": 9,
    "start_time": "2022-04-07T17:05:11.605Z"
   },
   {
    "duration": 5,
    "start_time": "2022-04-07T17:05:11.617Z"
   },
   {
    "duration": 6,
    "start_time": "2022-04-07T17:05:11.624Z"
   },
   {
    "duration": 7,
    "start_time": "2022-04-07T17:05:11.633Z"
   },
   {
    "duration": 16,
    "start_time": "2022-04-07T17:05:11.642Z"
   },
   {
    "duration": 48,
    "start_time": "2022-04-07T17:05:11.660Z"
   },
   {
    "duration": 10,
    "start_time": "2022-04-07T17:05:11.710Z"
   },
   {
    "duration": 7,
    "start_time": "2022-04-07T17:05:11.722Z"
   },
   {
    "duration": 19,
    "start_time": "2022-04-07T17:05:11.731Z"
   },
   {
    "duration": 17,
    "start_time": "2022-04-07T17:05:11.751Z"
   },
   {
    "duration": 40,
    "start_time": "2022-04-07T17:05:11.800Z"
   },
   {
    "duration": 201,
    "start_time": "2022-04-07T17:05:11.842Z"
   },
   {
    "duration": 56,
    "start_time": "2022-04-07T17:05:12.046Z"
   },
   {
    "duration": 7,
    "start_time": "2022-04-07T17:05:12.105Z"
   },
   {
    "duration": 15,
    "start_time": "2022-04-07T17:05:12.114Z"
   },
   {
    "duration": 6,
    "start_time": "2022-04-07T17:05:12.131Z"
   },
   {
    "duration": 27,
    "start_time": "2022-04-07T17:05:12.139Z"
   },
   {
    "duration": 53,
    "start_time": "2022-04-07T17:05:12.168Z"
   },
   {
    "duration": 129,
    "start_time": "2022-04-07T17:05:12.222Z"
   },
   {
    "duration": 115,
    "start_time": "2022-04-07T17:05:12.356Z"
   },
   {
    "duration": 256,
    "start_time": "2022-04-07T17:05:12.473Z"
   },
   {
    "duration": 8,
    "start_time": "2022-04-07T17:05:12.731Z"
   },
   {
    "duration": 161,
    "start_time": "2022-04-07T17:05:12.742Z"
   },
   {
    "duration": 6,
    "start_time": "2022-04-07T17:05:12.905Z"
   },
   {
    "duration": 165,
    "start_time": "2022-04-07T17:05:12.914Z"
   },
   {
    "duration": 6,
    "start_time": "2022-04-07T17:05:13.080Z"
   },
   {
    "duration": 165,
    "start_time": "2022-04-07T17:05:13.087Z"
   },
   {
    "duration": 6,
    "start_time": "2022-04-07T17:05:13.254Z"
   },
   {
    "duration": 232,
    "start_time": "2022-04-07T17:05:13.262Z"
   },
   {
    "duration": 6,
    "start_time": "2022-04-07T17:05:13.501Z"
   },
   {
    "duration": 24,
    "start_time": "2022-04-07T17:05:13.509Z"
   },
   {
    "duration": 16,
    "start_time": "2022-04-07T17:05:13.535Z"
   },
   {
    "duration": 49,
    "start_time": "2022-04-07T17:05:13.553Z"
   },
   {
    "duration": 17,
    "start_time": "2022-04-07T17:05:13.605Z"
   },
   {
    "duration": 16,
    "start_time": "2022-04-07T17:05:13.624Z"
   },
   {
    "duration": 17,
    "start_time": "2022-04-07T17:05:13.643Z"
   },
   {
    "duration": 50,
    "start_time": "2022-04-07T17:05:13.663Z"
   },
   {
    "duration": 16,
    "start_time": "2022-04-07T17:05:13.715Z"
   },
   {
    "duration": 16,
    "start_time": "2022-04-07T17:05:13.733Z"
   },
   {
    "duration": 21,
    "start_time": "2022-04-07T17:05:13.751Z"
   },
   {
    "duration": 16,
    "start_time": "2022-04-07T17:05:13.801Z"
   },
   {
    "duration": 17,
    "start_time": "2022-04-07T17:05:13.820Z"
   },
   {
    "duration": 22,
    "start_time": "2022-04-07T17:05:13.839Z"
   },
   {
    "duration": 40,
    "start_time": "2022-04-07T17:05:13.863Z"
   },
   {
    "duration": 4,
    "start_time": "2022-04-07T17:05:13.905Z"
   },
   {
    "duration": 9,
    "start_time": "2022-04-07T17:05:13.911Z"
   },
   {
    "duration": 14,
    "start_time": "2022-04-07T17:05:13.922Z"
   },
   {
    "duration": 9,
    "start_time": "2022-04-07T17:05:13.939Z"
   },
   {
    "duration": 1292,
    "start_time": "2022-04-07T17:06:01.874Z"
   },
   {
    "duration": 3,
    "start_time": "2022-04-07T17:06:03.168Z"
   },
   {
    "duration": 53,
    "start_time": "2022-04-07T17:06:03.172Z"
   },
   {
    "duration": 19,
    "start_time": "2022-04-07T17:06:03.227Z"
   },
   {
    "duration": 19,
    "start_time": "2022-04-07T17:06:03.248Z"
   },
   {
    "duration": 7,
    "start_time": "2022-04-07T17:06:03.270Z"
   },
   {
    "duration": 4,
    "start_time": "2022-04-07T17:06:03.302Z"
   },
   {
    "duration": 12,
    "start_time": "2022-04-07T17:06:03.308Z"
   },
   {
    "duration": 10,
    "start_time": "2022-04-07T17:06:03.323Z"
   },
   {
    "duration": 7,
    "start_time": "2022-04-07T17:06:03.336Z"
   },
   {
    "duration": 10,
    "start_time": "2022-04-07T17:06:03.345Z"
   },
   {
    "duration": 11,
    "start_time": "2022-04-07T17:06:03.358Z"
   },
   {
    "duration": 33,
    "start_time": "2022-04-07T17:06:03.371Z"
   },
   {
    "duration": 29,
    "start_time": "2022-04-07T17:06:03.406Z"
   },
   {
    "duration": 9,
    "start_time": "2022-04-07T17:06:03.437Z"
   },
   {
    "duration": 9,
    "start_time": "2022-04-07T17:06:03.448Z"
   },
   {
    "duration": 22,
    "start_time": "2022-04-07T17:06:03.459Z"
   },
   {
    "duration": 30,
    "start_time": "2022-04-07T17:06:03.483Z"
   },
   {
    "duration": 40,
    "start_time": "2022-04-07T17:06:03.515Z"
   },
   {
    "duration": 203,
    "start_time": "2022-04-07T17:06:03.557Z"
   },
   {
    "duration": 54,
    "start_time": "2022-04-07T17:06:03.763Z"
   },
   {
    "duration": 9,
    "start_time": "2022-04-07T17:06:03.819Z"
   },
   {
    "duration": 30,
    "start_time": "2022-04-07T17:06:03.830Z"
   },
   {
    "duration": 20,
    "start_time": "2022-04-07T17:06:03.863Z"
   },
   {
    "duration": 75,
    "start_time": "2022-04-07T17:06:03.885Z"
   },
   {
    "duration": 33,
    "start_time": "2022-04-07T17:06:03.962Z"
   },
   {
    "duration": 116,
    "start_time": "2022-04-07T17:06:03.997Z"
   },
   {
    "duration": 118,
    "start_time": "2022-04-07T17:06:04.119Z"
   },
   {
    "duration": 221,
    "start_time": "2022-04-07T17:06:04.239Z"
   },
   {
    "duration": 7,
    "start_time": "2022-04-07T17:06:04.462Z"
   },
   {
    "duration": 188,
    "start_time": "2022-04-07T17:06:04.471Z"
   },
   {
    "duration": 6,
    "start_time": "2022-04-07T17:06:04.661Z"
   },
   {
    "duration": 185,
    "start_time": "2022-04-07T17:06:04.668Z"
   },
   {
    "duration": 5,
    "start_time": "2022-04-07T17:06:04.855Z"
   },
   {
    "duration": 156,
    "start_time": "2022-04-07T17:06:04.863Z"
   },
   {
    "duration": 6,
    "start_time": "2022-04-07T17:06:05.022Z"
   },
   {
    "duration": 163,
    "start_time": "2022-04-07T17:06:05.031Z"
   },
   {
    "duration": 9,
    "start_time": "2022-04-07T17:06:05.196Z"
   },
   {
    "duration": 36,
    "start_time": "2022-04-07T17:06:05.207Z"
   },
   {
    "duration": 21,
    "start_time": "2022-04-07T17:06:05.245Z"
   },
   {
    "duration": 32,
    "start_time": "2022-04-07T17:06:05.268Z"
   },
   {
    "duration": 16,
    "start_time": "2022-04-07T17:06:05.303Z"
   },
   {
    "duration": 27,
    "start_time": "2022-04-07T17:06:05.321Z"
   },
   {
    "duration": 38,
    "start_time": "2022-04-07T17:06:05.350Z"
   },
   {
    "duration": 107,
    "start_time": "2022-04-07T17:06:05.390Z"
   },
   {
    "duration": 162,
    "start_time": "2022-04-07T17:06:05.500Z"
   },
   {
    "duration": 20,
    "start_time": "2022-04-07T17:06:05.663Z"
   },
   {
    "duration": 15,
    "start_time": "2022-04-07T17:06:05.685Z"
   },
   {
    "duration": 11,
    "start_time": "2022-04-07T17:06:05.702Z"
   },
   {
    "duration": 16,
    "start_time": "2022-04-07T17:06:05.715Z"
   },
   {
    "duration": 15,
    "start_time": "2022-04-07T17:06:05.732Z"
   },
   {
    "duration": 7,
    "start_time": "2022-04-07T17:06:05.749Z"
   },
   {
    "duration": 7,
    "start_time": "2022-04-07T17:06:05.758Z"
   },
   {
    "duration": 38,
    "start_time": "2022-04-07T17:06:05.767Z"
   },
   {
    "duration": 10,
    "start_time": "2022-04-07T17:06:05.807Z"
   },
   {
    "duration": 11,
    "start_time": "2022-04-07T17:06:05.818Z"
   },
   {
    "duration": 1207,
    "start_time": "2022-04-07T17:15:42.631Z"
   },
   {
    "duration": 2,
    "start_time": "2022-04-07T17:15:43.841Z"
   },
   {
    "duration": 44,
    "start_time": "2022-04-07T17:15:43.844Z"
   },
   {
    "duration": 18,
    "start_time": "2022-04-07T17:15:43.891Z"
   },
   {
    "duration": 18,
    "start_time": "2022-04-07T17:15:43.911Z"
   },
   {
    "duration": 4,
    "start_time": "2022-04-07T17:15:43.931Z"
   },
   {
    "duration": 6,
    "start_time": "2022-04-07T17:15:43.937Z"
   },
   {
    "duration": 7,
    "start_time": "2022-04-07T17:15:43.945Z"
   },
   {
    "duration": 7,
    "start_time": "2022-04-07T17:15:43.954Z"
   },
   {
    "duration": 8,
    "start_time": "2022-04-07T17:15:43.963Z"
   },
   {
    "duration": 4,
    "start_time": "2022-04-07T17:15:44.002Z"
   },
   {
    "duration": 11,
    "start_time": "2022-04-07T17:15:44.007Z"
   },
   {
    "duration": 15,
    "start_time": "2022-04-07T17:15:44.019Z"
   },
   {
    "duration": 25,
    "start_time": "2022-04-07T17:15:44.036Z"
   },
   {
    "duration": 8,
    "start_time": "2022-04-07T17:15:44.063Z"
   },
   {
    "duration": 8,
    "start_time": "2022-04-07T17:15:44.072Z"
   },
   {
    "duration": 40,
    "start_time": "2022-04-07T17:15:44.082Z"
   },
   {
    "duration": 22,
    "start_time": "2022-04-07T17:15:44.123Z"
   },
   {
    "duration": 37,
    "start_time": "2022-04-07T17:15:44.147Z"
   },
   {
    "duration": 173,
    "start_time": "2022-04-07T17:15:44.201Z"
   },
   {
    "duration": 48,
    "start_time": "2022-04-07T17:15:44.376Z"
   },
   {
    "duration": 7,
    "start_time": "2022-04-07T17:15:44.426Z"
   },
   {
    "duration": 23,
    "start_time": "2022-04-07T17:15:44.434Z"
   },
   {
    "duration": 8,
    "start_time": "2022-04-07T17:15:44.459Z"
   },
   {
    "duration": 36,
    "start_time": "2022-04-07T17:15:44.468Z"
   },
   {
    "duration": 25,
    "start_time": "2022-04-07T17:15:44.506Z"
   },
   {
    "duration": 128,
    "start_time": "2022-04-07T17:15:44.533Z"
   },
   {
    "duration": 100,
    "start_time": "2022-04-07T17:15:44.665Z"
   },
   {
    "duration": 204,
    "start_time": "2022-04-07T17:15:44.766Z"
   },
   {
    "duration": 7,
    "start_time": "2022-04-07T17:15:44.972Z"
   },
   {
    "duration": 186,
    "start_time": "2022-04-07T17:15:44.981Z"
   },
   {
    "duration": 6,
    "start_time": "2022-04-07T17:15:45.169Z"
   },
   {
    "duration": 175,
    "start_time": "2022-04-07T17:15:45.177Z"
   },
   {
    "duration": 5,
    "start_time": "2022-04-07T17:15:45.354Z"
   },
   {
    "duration": 128,
    "start_time": "2022-04-07T17:15:45.360Z"
   },
   {
    "duration": 0,
    "start_time": "2022-04-07T17:15:45.490Z"
   },
   {
    "duration": 0,
    "start_time": "2022-04-07T17:15:45.491Z"
   },
   {
    "duration": 0,
    "start_time": "2022-04-07T17:15:45.493Z"
   },
   {
    "duration": 0,
    "start_time": "2022-04-07T17:15:45.501Z"
   },
   {
    "duration": 0,
    "start_time": "2022-04-07T17:15:45.502Z"
   },
   {
    "duration": 0,
    "start_time": "2022-04-07T17:15:45.503Z"
   },
   {
    "duration": 0,
    "start_time": "2022-04-07T17:15:45.505Z"
   },
   {
    "duration": 0,
    "start_time": "2022-04-07T17:15:45.506Z"
   },
   {
    "duration": 0,
    "start_time": "2022-04-07T17:15:45.507Z"
   },
   {
    "duration": 0,
    "start_time": "2022-04-07T17:15:45.508Z"
   },
   {
    "duration": 0,
    "start_time": "2022-04-07T17:15:45.509Z"
   },
   {
    "duration": 0,
    "start_time": "2022-04-07T17:15:45.510Z"
   },
   {
    "duration": 0,
    "start_time": "2022-04-07T17:15:45.511Z"
   },
   {
    "duration": 0,
    "start_time": "2022-04-07T17:15:45.512Z"
   },
   {
    "duration": 0,
    "start_time": "2022-04-07T17:15:45.513Z"
   },
   {
    "duration": 0,
    "start_time": "2022-04-07T17:15:45.515Z"
   },
   {
    "duration": 0,
    "start_time": "2022-04-07T17:15:45.516Z"
   },
   {
    "duration": 0,
    "start_time": "2022-04-07T17:15:45.517Z"
   },
   {
    "duration": 0,
    "start_time": "2022-04-07T17:15:45.518Z"
   },
   {
    "duration": 0,
    "start_time": "2022-04-07T17:15:45.519Z"
   },
   {
    "duration": 0,
    "start_time": "2022-04-07T17:15:45.521Z"
   },
   {
    "duration": 0,
    "start_time": "2022-04-07T17:15:45.522Z"
   },
   {
    "duration": 0,
    "start_time": "2022-04-07T17:15:45.523Z"
   },
   {
    "duration": 0,
    "start_time": "2022-04-07T17:15:45.524Z"
   },
   {
    "duration": 0,
    "start_time": "2022-04-07T17:15:45.524Z"
   },
   {
    "duration": 1,
    "start_time": "2022-04-07T17:15:45.525Z"
   },
   {
    "duration": 1196,
    "start_time": "2022-04-07T17:18:49.356Z"
   },
   {
    "duration": 3,
    "start_time": "2022-04-07T17:18:50.554Z"
   },
   {
    "duration": 59,
    "start_time": "2022-04-07T17:18:50.558Z"
   },
   {
    "duration": 17,
    "start_time": "2022-04-07T17:18:50.619Z"
   },
   {
    "duration": 24,
    "start_time": "2022-04-07T17:18:50.637Z"
   },
   {
    "duration": 5,
    "start_time": "2022-04-07T17:18:50.663Z"
   },
   {
    "duration": 7,
    "start_time": "2022-04-07T17:18:50.670Z"
   },
   {
    "duration": 9,
    "start_time": "2022-04-07T17:18:50.679Z"
   },
   {
    "duration": 6,
    "start_time": "2022-04-07T17:18:50.701Z"
   },
   {
    "duration": 8,
    "start_time": "2022-04-07T17:18:50.710Z"
   },
   {
    "duration": 8,
    "start_time": "2022-04-07T17:18:50.720Z"
   },
   {
    "duration": 12,
    "start_time": "2022-04-07T17:18:50.730Z"
   },
   {
    "duration": 15,
    "start_time": "2022-04-07T17:18:50.743Z"
   },
   {
    "duration": 24,
    "start_time": "2022-04-07T17:18:50.760Z"
   },
   {
    "duration": 21,
    "start_time": "2022-04-07T17:18:50.786Z"
   },
   {
    "duration": 5,
    "start_time": "2022-04-07T17:18:50.809Z"
   },
   {
    "duration": 18,
    "start_time": "2022-04-07T17:18:50.816Z"
   },
   {
    "duration": 15,
    "start_time": "2022-04-07T17:18:50.835Z"
   },
   {
    "duration": 69,
    "start_time": "2022-04-07T17:18:50.852Z"
   },
   {
    "duration": 180,
    "start_time": "2022-04-07T17:18:50.923Z"
   },
   {
    "duration": 40,
    "start_time": "2022-04-07T17:18:51.104Z"
   },
   {
    "duration": 5,
    "start_time": "2022-04-07T17:18:51.146Z"
   },
   {
    "duration": 16,
    "start_time": "2022-04-07T17:18:51.153Z"
   },
   {
    "duration": 4,
    "start_time": "2022-04-07T17:18:51.171Z"
   },
   {
    "duration": 44,
    "start_time": "2022-04-07T17:18:51.177Z"
   },
   {
    "duration": 26,
    "start_time": "2022-04-07T17:18:51.223Z"
   },
   {
    "duration": 126,
    "start_time": "2022-04-07T17:18:51.251Z"
   },
   {
    "duration": 103,
    "start_time": "2022-04-07T17:18:51.381Z"
   },
   {
    "duration": 219,
    "start_time": "2022-04-07T17:18:51.485Z"
   },
   {
    "duration": 6,
    "start_time": "2022-04-07T17:18:51.706Z"
   },
   {
    "duration": 173,
    "start_time": "2022-04-07T17:18:51.714Z"
   },
   {
    "duration": 16,
    "start_time": "2022-04-07T17:18:51.889Z"
   },
   {
    "duration": 175,
    "start_time": "2022-04-07T17:18:51.907Z"
   },
   {
    "duration": 6,
    "start_time": "2022-04-07T17:18:52.084Z"
   },
   {
    "duration": 79,
    "start_time": "2022-04-07T17:18:52.092Z"
   },
   {
    "duration": 0,
    "start_time": "2022-04-07T17:18:52.173Z"
   },
   {
    "duration": 0,
    "start_time": "2022-04-07T17:18:52.174Z"
   },
   {
    "duration": 0,
    "start_time": "2022-04-07T17:18:52.175Z"
   },
   {
    "duration": 0,
    "start_time": "2022-04-07T17:18:52.176Z"
   },
   {
    "duration": 0,
    "start_time": "2022-04-07T17:18:52.177Z"
   },
   {
    "duration": 0,
    "start_time": "2022-04-07T17:18:52.178Z"
   },
   {
    "duration": 0,
    "start_time": "2022-04-07T17:18:52.179Z"
   },
   {
    "duration": 0,
    "start_time": "2022-04-07T17:18:52.181Z"
   },
   {
    "duration": 0,
    "start_time": "2022-04-07T17:18:52.182Z"
   },
   {
    "duration": 0,
    "start_time": "2022-04-07T17:18:52.201Z"
   },
   {
    "duration": 0,
    "start_time": "2022-04-07T17:18:52.203Z"
   },
   {
    "duration": 0,
    "start_time": "2022-04-07T17:18:52.204Z"
   },
   {
    "duration": 0,
    "start_time": "2022-04-07T17:18:52.205Z"
   },
   {
    "duration": 0,
    "start_time": "2022-04-07T17:18:52.206Z"
   },
   {
    "duration": 0,
    "start_time": "2022-04-07T17:18:52.207Z"
   },
   {
    "duration": 0,
    "start_time": "2022-04-07T17:18:52.208Z"
   },
   {
    "duration": 0,
    "start_time": "2022-04-07T17:18:52.209Z"
   },
   {
    "duration": 0,
    "start_time": "2022-04-07T17:18:52.210Z"
   },
   {
    "duration": 0,
    "start_time": "2022-04-07T17:18:52.211Z"
   },
   {
    "duration": 0,
    "start_time": "2022-04-07T17:18:52.212Z"
   },
   {
    "duration": 0,
    "start_time": "2022-04-07T17:18:52.213Z"
   },
   {
    "duration": 0,
    "start_time": "2022-04-07T17:18:52.214Z"
   },
   {
    "duration": 0,
    "start_time": "2022-04-07T17:18:52.215Z"
   },
   {
    "duration": 0,
    "start_time": "2022-04-07T17:18:52.217Z"
   },
   {
    "duration": 0,
    "start_time": "2022-04-07T17:18:52.218Z"
   },
   {
    "duration": 0,
    "start_time": "2022-04-07T17:18:52.219Z"
   },
   {
    "duration": 16,
    "start_time": "2022-04-07T17:19:02.813Z"
   },
   {
    "duration": 13,
    "start_time": "2022-04-07T17:19:09.973Z"
   },
   {
    "duration": 13,
    "start_time": "2022-04-07T17:19:15.237Z"
   },
   {
    "duration": 12,
    "start_time": "2022-04-07T17:19:28.133Z"
   },
   {
    "duration": 12,
    "start_time": "2022-04-07T17:19:32.213Z"
   },
   {
    "duration": 17,
    "start_time": "2022-04-07T17:21:42.420Z"
   },
   {
    "duration": 6,
    "start_time": "2022-04-07T17:22:35.628Z"
   },
   {
    "duration": 1287,
    "start_time": "2022-04-07T17:28:25.272Z"
   },
   {
    "duration": 3,
    "start_time": "2022-04-07T17:28:26.561Z"
   },
   {
    "duration": 51,
    "start_time": "2022-04-07T17:28:26.566Z"
   },
   {
    "duration": 17,
    "start_time": "2022-04-07T17:28:26.619Z"
   },
   {
    "duration": 20,
    "start_time": "2022-04-07T17:28:26.639Z"
   },
   {
    "duration": 4,
    "start_time": "2022-04-07T17:28:26.661Z"
   },
   {
    "duration": 7,
    "start_time": "2022-04-07T17:28:26.667Z"
   },
   {
    "duration": 4,
    "start_time": "2022-04-07T17:28:26.701Z"
   },
   {
    "duration": 9,
    "start_time": "2022-04-07T17:28:26.707Z"
   },
   {
    "duration": 22,
    "start_time": "2022-04-07T17:28:26.717Z"
   },
   {
    "duration": 8,
    "start_time": "2022-04-07T17:28:26.741Z"
   },
   {
    "duration": 8,
    "start_time": "2022-04-07T17:28:26.750Z"
   },
   {
    "duration": 27,
    "start_time": "2022-04-07T17:28:26.760Z"
   },
   {
    "duration": 18,
    "start_time": "2022-04-07T17:28:26.791Z"
   },
   {
    "duration": 9,
    "start_time": "2022-04-07T17:28:26.811Z"
   },
   {
    "duration": 8,
    "start_time": "2022-04-07T17:28:26.822Z"
   },
   {
    "duration": 22,
    "start_time": "2022-04-07T17:28:26.832Z"
   },
   {
    "duration": 16,
    "start_time": "2022-04-07T17:28:26.856Z"
   },
   {
    "duration": 64,
    "start_time": "2022-04-07T17:28:26.874Z"
   },
   {
    "duration": 193,
    "start_time": "2022-04-07T17:28:26.940Z"
   },
   {
    "duration": 41,
    "start_time": "2022-04-07T17:28:27.135Z"
   },
   {
    "duration": 25,
    "start_time": "2022-04-07T17:28:27.178Z"
   },
   {
    "duration": 12,
    "start_time": "2022-04-07T17:28:27.205Z"
   },
   {
    "duration": 6,
    "start_time": "2022-04-07T17:28:27.219Z"
   },
   {
    "duration": 24,
    "start_time": "2022-04-07T17:28:27.227Z"
   },
   {
    "duration": 57,
    "start_time": "2022-04-07T17:28:27.253Z"
   },
   {
    "duration": 129,
    "start_time": "2022-04-07T17:28:27.312Z"
   },
   {
    "duration": 124,
    "start_time": "2022-04-07T17:28:27.443Z"
   },
   {
    "duration": 217,
    "start_time": "2022-04-07T17:28:27.568Z"
   },
   {
    "duration": 17,
    "start_time": "2022-04-07T17:28:27.787Z"
   },
   {
    "duration": 177,
    "start_time": "2022-04-07T17:28:27.806Z"
   },
   {
    "duration": 16,
    "start_time": "2022-04-07T17:28:27.986Z"
   },
   {
    "duration": 7,
    "start_time": "2022-04-07T17:28:28.238Z"
   },
   {
    "duration": 16,
    "start_time": "2022-04-07T17:28:28.248Z"
   },
   {
    "duration": 248,
    "start_time": "2022-04-07T17:28:28.267Z"
   },
   {
    "duration": 7,
    "start_time": "2022-04-07T17:28:28.518Z"
   },
   {
    "duration": 251,
    "start_time": "2022-04-07T17:28:28.527Z"
   },
   {
    "duration": 7,
    "start_time": "2022-04-07T17:28:28.780Z"
   },
   {
    "duration": 8,
    "start_time": "2022-04-07T17:28:28.803Z"
   },
   {
    "duration": 250,
    "start_time": "2022-04-07T17:28:28.818Z"
   },
   {
    "duration": 6,
    "start_time": "2022-04-07T17:28:29.071Z"
   },
   {
    "duration": 316,
    "start_time": "2022-04-07T17:28:29.079Z"
   },
   {
    "duration": 7,
    "start_time": "2022-04-07T17:28:29.402Z"
   },
   {
    "duration": 9,
    "start_time": "2022-04-07T17:28:29.411Z"
   },
   {
    "duration": 182,
    "start_time": "2022-04-07T17:28:29.422Z"
   },
   {
    "duration": 7,
    "start_time": "2022-04-07T17:28:29.606Z"
   },
   {
    "duration": 267,
    "start_time": "2022-04-07T17:28:29.615Z"
   },
   {
    "duration": 6,
    "start_time": "2022-04-07T17:28:29.885Z"
   },
   {
    "duration": 10,
    "start_time": "2022-04-07T17:28:29.902Z"
   },
   {
    "duration": 239,
    "start_time": "2022-04-07T17:28:29.914Z"
   },
   {
    "duration": 5,
    "start_time": "2022-04-07T17:28:30.156Z"
   },
   {
    "duration": 170,
    "start_time": "2022-04-07T17:28:30.163Z"
   },
   {
    "duration": 7,
    "start_time": "2022-04-07T17:28:30.335Z"
   },
   {
    "duration": 238,
    "start_time": "2022-04-07T17:28:30.344Z"
   },
   {
    "duration": 7,
    "start_time": "2022-04-07T17:28:30.584Z"
   },
   {
    "duration": 221,
    "start_time": "2022-04-07T17:28:30.600Z"
   },
   {
    "duration": 6,
    "start_time": "2022-04-07T17:28:30.823Z"
   },
   {
    "duration": 40,
    "start_time": "2022-04-07T17:28:30.830Z"
   },
   {
    "duration": 14,
    "start_time": "2022-04-07T17:28:30.872Z"
   },
   {
    "duration": 28,
    "start_time": "2022-04-07T17:28:30.888Z"
   },
   {
    "duration": 24,
    "start_time": "2022-04-07T17:28:30.918Z"
   },
   {
    "duration": 44,
    "start_time": "2022-04-07T17:28:30.944Z"
   },
   {
    "duration": 58,
    "start_time": "2022-04-07T17:28:30.990Z"
   },
   {
    "duration": 41,
    "start_time": "2022-04-07T17:28:31.050Z"
   },
   {
    "duration": 19,
    "start_time": "2022-04-07T17:28:31.093Z"
   },
   {
    "duration": 24,
    "start_time": "2022-04-07T17:28:31.114Z"
   },
   {
    "duration": 42,
    "start_time": "2022-04-07T17:28:31.140Z"
   },
   {
    "duration": 25,
    "start_time": "2022-04-07T17:28:31.183Z"
   },
   {
    "duration": 18,
    "start_time": "2022-04-07T17:28:31.210Z"
   },
   {
    "duration": 18,
    "start_time": "2022-04-07T17:28:31.230Z"
   },
   {
    "duration": 18,
    "start_time": "2022-04-07T17:28:31.250Z"
   },
   {
    "duration": 17,
    "start_time": "2022-04-07T17:28:31.270Z"
   },
   {
    "duration": 15,
    "start_time": "2022-04-07T17:28:31.289Z"
   },
   {
    "duration": 17,
    "start_time": "2022-04-07T17:28:31.306Z"
   },
   {
    "duration": 15,
    "start_time": "2022-04-07T17:28:31.326Z"
   },
   {
    "duration": 166,
    "start_time": "2022-04-07T17:28:56.556Z"
   },
   {
    "duration": 109,
    "start_time": "2022-04-07T17:40:43.838Z"
   },
   {
    "duration": 23,
    "start_time": "2022-04-07T17:41:20.679Z"
   },
   {
    "duration": 266,
    "start_time": "2022-04-07T17:41:40.855Z"
   },
   {
    "duration": 146,
    "start_time": "2022-04-07T17:44:27.511Z"
   },
   {
    "duration": 256,
    "start_time": "2022-04-07T17:58:14.615Z"
   },
   {
    "duration": 114,
    "start_time": "2022-04-07T17:58:23.382Z"
   },
   {
    "duration": 107,
    "start_time": "2022-04-07T17:58:27.935Z"
   },
   {
    "duration": 222,
    "start_time": "2022-04-07T17:59:59.947Z"
   },
   {
    "duration": 110,
    "start_time": "2022-04-07T18:00:07.676Z"
   },
   {
    "duration": 11,
    "start_time": "2022-04-07T18:03:02.415Z"
   },
   {
    "duration": 132,
    "start_time": "2022-04-07T18:04:50.371Z"
   },
   {
    "duration": 135,
    "start_time": "2022-04-07T18:05:03.033Z"
   },
   {
    "duration": 123,
    "start_time": "2022-04-07T18:05:09.368Z"
   },
   {
    "duration": 270,
    "start_time": "2022-04-07T18:05:13.744Z"
   },
   {
    "duration": 191,
    "start_time": "2022-04-07T18:06:17.176Z"
   },
   {
    "duration": 16,
    "start_time": "2022-04-07T18:06:25.103Z"
   },
   {
    "duration": 119,
    "start_time": "2022-04-07T18:06:48.320Z"
   },
   {
    "duration": 219,
    "start_time": "2022-04-07T18:06:59.903Z"
   },
   {
    "duration": 12,
    "start_time": "2022-04-07T18:07:12.439Z"
   },
   {
    "duration": 602,
    "start_time": "2022-04-07T18:07:28.807Z"
   },
   {
    "duration": 13,
    "start_time": "2022-04-07T18:07:51.927Z"
   },
   {
    "duration": 697,
    "start_time": "2022-04-07T18:08:00.208Z"
   },
   {
    "duration": 12,
    "start_time": "2022-04-07T18:08:11.315Z"
   },
   {
    "duration": 135,
    "start_time": "2022-04-07T18:08:16.927Z"
   },
   {
    "duration": 126,
    "start_time": "2022-04-07T18:08:34.327Z"
   },
   {
    "duration": 244,
    "start_time": "2022-04-07T18:08:42.167Z"
   },
   {
    "duration": 48,
    "start_time": "2022-04-08T09:42:10.853Z"
   },
   {
    "duration": 1330,
    "start_time": "2022-04-08T09:44:22.176Z"
   },
   {
    "duration": 3,
    "start_time": "2022-04-08T09:44:23.508Z"
   },
   {
    "duration": 46,
    "start_time": "2022-04-08T09:44:23.513Z"
   },
   {
    "duration": 15,
    "start_time": "2022-04-08T09:44:23.561Z"
   },
   {
    "duration": 20,
    "start_time": "2022-04-08T09:44:23.578Z"
   },
   {
    "duration": 5,
    "start_time": "2022-04-08T09:44:23.599Z"
   },
   {
    "duration": 4,
    "start_time": "2022-04-08T09:44:23.605Z"
   },
   {
    "duration": 28,
    "start_time": "2022-04-08T09:44:23.611Z"
   },
   {
    "duration": 6,
    "start_time": "2022-04-08T09:44:23.641Z"
   },
   {
    "duration": 6,
    "start_time": "2022-04-08T09:44:23.650Z"
   },
   {
    "duration": 12,
    "start_time": "2022-04-08T09:44:23.658Z"
   },
   {
    "duration": 5,
    "start_time": "2022-04-08T09:44:23.672Z"
   },
   {
    "duration": 13,
    "start_time": "2022-04-08T09:44:23.679Z"
   },
   {
    "duration": 19,
    "start_time": "2022-04-08T09:44:23.693Z"
   },
   {
    "duration": 24,
    "start_time": "2022-04-08T09:44:23.714Z"
   },
   {
    "duration": 5,
    "start_time": "2022-04-08T09:44:23.740Z"
   },
   {
    "duration": 15,
    "start_time": "2022-04-08T09:44:23.747Z"
   },
   {
    "duration": 13,
    "start_time": "2022-04-08T09:44:23.764Z"
   },
   {
    "duration": 62,
    "start_time": "2022-04-08T09:44:23.779Z"
   },
   {
    "duration": 162,
    "start_time": "2022-04-08T09:44:23.843Z"
   },
   {
    "duration": 49,
    "start_time": "2022-04-08T09:44:24.007Z"
   },
   {
    "duration": 6,
    "start_time": "2022-04-08T09:44:24.057Z"
   },
   {
    "duration": 12,
    "start_time": "2022-04-08T09:44:24.064Z"
   },
   {
    "duration": 4,
    "start_time": "2022-04-08T09:44:24.077Z"
   },
   {
    "duration": 19,
    "start_time": "2022-04-08T09:44:24.082Z"
   },
   {
    "duration": 46,
    "start_time": "2022-04-08T09:44:24.102Z"
   },
   {
    "duration": 104,
    "start_time": "2022-04-08T09:44:24.150Z"
   },
   {
    "duration": 104,
    "start_time": "2022-04-08T09:44:24.258Z"
   },
   {
    "duration": 99,
    "start_time": "2022-04-08T09:44:24.365Z"
   },
   {
    "duration": 0,
    "start_time": "2022-04-08T09:44:24.466Z"
   },
   {
    "duration": 0,
    "start_time": "2022-04-08T09:44:24.467Z"
   },
   {
    "duration": 0,
    "start_time": "2022-04-08T09:44:24.468Z"
   },
   {
    "duration": 0,
    "start_time": "2022-04-08T09:44:24.469Z"
   },
   {
    "duration": 0,
    "start_time": "2022-04-08T09:44:24.470Z"
   },
   {
    "duration": 0,
    "start_time": "2022-04-08T09:44:24.471Z"
   },
   {
    "duration": 0,
    "start_time": "2022-04-08T09:44:24.472Z"
   },
   {
    "duration": 0,
    "start_time": "2022-04-08T09:44:24.473Z"
   },
   {
    "duration": 0,
    "start_time": "2022-04-08T09:44:24.474Z"
   },
   {
    "duration": 0,
    "start_time": "2022-04-08T09:44:24.475Z"
   },
   {
    "duration": 0,
    "start_time": "2022-04-08T09:44:24.477Z"
   },
   {
    "duration": 0,
    "start_time": "2022-04-08T09:44:24.478Z"
   },
   {
    "duration": 0,
    "start_time": "2022-04-08T09:44:24.479Z"
   },
   {
    "duration": 0,
    "start_time": "2022-04-08T09:44:24.480Z"
   },
   {
    "duration": 0,
    "start_time": "2022-04-08T09:44:24.481Z"
   },
   {
    "duration": 0,
    "start_time": "2022-04-08T09:44:24.483Z"
   },
   {
    "duration": 0,
    "start_time": "2022-04-08T09:44:24.484Z"
   },
   {
    "duration": 0,
    "start_time": "2022-04-08T09:44:24.485Z"
   },
   {
    "duration": 0,
    "start_time": "2022-04-08T09:44:24.486Z"
   },
   {
    "duration": 0,
    "start_time": "2022-04-08T09:44:24.487Z"
   },
   {
    "duration": 0,
    "start_time": "2022-04-08T09:44:24.488Z"
   },
   {
    "duration": 0,
    "start_time": "2022-04-08T09:44:24.538Z"
   },
   {
    "duration": 0,
    "start_time": "2022-04-08T09:44:24.539Z"
   },
   {
    "duration": 0,
    "start_time": "2022-04-08T09:44:24.540Z"
   },
   {
    "duration": 0,
    "start_time": "2022-04-08T09:44:24.541Z"
   },
   {
    "duration": 0,
    "start_time": "2022-04-08T09:44:24.542Z"
   },
   {
    "duration": 0,
    "start_time": "2022-04-08T09:44:24.543Z"
   },
   {
    "duration": 0,
    "start_time": "2022-04-08T09:44:24.543Z"
   },
   {
    "duration": 0,
    "start_time": "2022-04-08T09:44:24.545Z"
   },
   {
    "duration": 0,
    "start_time": "2022-04-08T09:44:24.546Z"
   },
   {
    "duration": 0,
    "start_time": "2022-04-08T09:44:24.547Z"
   },
   {
    "duration": 0,
    "start_time": "2022-04-08T09:44:24.548Z"
   },
   {
    "duration": 0,
    "start_time": "2022-04-08T09:44:24.549Z"
   },
   {
    "duration": 0,
    "start_time": "2022-04-08T09:44:24.550Z"
   },
   {
    "duration": 0,
    "start_time": "2022-04-08T09:44:24.551Z"
   },
   {
    "duration": 0,
    "start_time": "2022-04-08T09:44:24.552Z"
   },
   {
    "duration": 0,
    "start_time": "2022-04-08T09:44:24.553Z"
   },
   {
    "duration": 0,
    "start_time": "2022-04-08T09:44:24.554Z"
   },
   {
    "duration": 0,
    "start_time": "2022-04-08T09:44:24.555Z"
   },
   {
    "duration": 0,
    "start_time": "2022-04-08T09:44:24.556Z"
   },
   {
    "duration": 0,
    "start_time": "2022-04-08T09:44:24.557Z"
   },
   {
    "duration": 0,
    "start_time": "2022-04-08T09:44:24.558Z"
   },
   {
    "duration": 0,
    "start_time": "2022-04-08T09:44:24.561Z"
   },
   {
    "duration": 0,
    "start_time": "2022-04-08T09:44:24.562Z"
   },
   {
    "duration": 0,
    "start_time": "2022-04-08T09:44:24.563Z"
   },
   {
    "duration": 0,
    "start_time": "2022-04-08T09:44:24.564Z"
   },
   {
    "duration": 0,
    "start_time": "2022-04-08T09:44:24.565Z"
   },
   {
    "duration": 0,
    "start_time": "2022-04-08T09:44:24.566Z"
   },
   {
    "duration": 29,
    "start_time": "2022-04-08T09:45:18.525Z"
   },
   {
    "duration": 160,
    "start_time": "2022-04-08T09:45:31.246Z"
   },
   {
    "duration": 1180,
    "start_time": "2022-04-08T09:48:37.670Z"
   },
   {
    "duration": 2,
    "start_time": "2022-04-08T09:48:38.852Z"
   },
   {
    "duration": 35,
    "start_time": "2022-04-08T09:48:38.858Z"
   },
   {
    "duration": 15,
    "start_time": "2022-04-08T09:48:38.895Z"
   },
   {
    "duration": 36,
    "start_time": "2022-04-08T09:48:38.911Z"
   },
   {
    "duration": 4,
    "start_time": "2022-04-08T09:48:38.949Z"
   },
   {
    "duration": 5,
    "start_time": "2022-04-08T09:48:38.954Z"
   },
   {
    "duration": 6,
    "start_time": "2022-04-08T09:48:38.961Z"
   },
   {
    "duration": 6,
    "start_time": "2022-04-08T09:48:38.970Z"
   },
   {
    "duration": 6,
    "start_time": "2022-04-08T09:48:38.978Z"
   },
   {
    "duration": 8,
    "start_time": "2022-04-08T09:48:38.986Z"
   },
   {
    "duration": 7,
    "start_time": "2022-04-08T09:48:38.995Z"
   },
   {
    "duration": 34,
    "start_time": "2022-04-08T09:48:39.004Z"
   },
   {
    "duration": 18,
    "start_time": "2022-04-08T09:48:39.040Z"
   },
   {
    "duration": 7,
    "start_time": "2022-04-08T09:48:39.060Z"
   },
   {
    "duration": 13,
    "start_time": "2022-04-08T09:48:39.069Z"
   },
   {
    "duration": 17,
    "start_time": "2022-04-08T09:48:39.083Z"
   },
   {
    "duration": 35,
    "start_time": "2022-04-08T09:48:39.102Z"
   },
   {
    "duration": 36,
    "start_time": "2022-04-08T09:48:39.139Z"
   },
   {
    "duration": 172,
    "start_time": "2022-04-08T09:48:39.177Z"
   },
   {
    "duration": 35,
    "start_time": "2022-04-08T09:48:39.351Z"
   },
   {
    "duration": 5,
    "start_time": "2022-04-08T09:48:39.388Z"
   },
   {
    "duration": 12,
    "start_time": "2022-04-08T09:48:39.395Z"
   },
   {
    "duration": 29,
    "start_time": "2022-04-08T09:48:39.409Z"
   },
   {
    "duration": 19,
    "start_time": "2022-04-08T09:48:39.440Z"
   },
   {
    "duration": 20,
    "start_time": "2022-04-08T09:48:39.460Z"
   },
   {
    "duration": 123,
    "start_time": "2022-04-08T09:48:39.485Z"
   },
   {
    "duration": 100,
    "start_time": "2022-04-08T09:48:39.610Z"
   },
   {
    "duration": 181,
    "start_time": "2022-04-08T09:48:39.713Z"
   },
   {
    "duration": 208,
    "start_time": "2022-04-08T09:48:39.897Z"
   },
   {
    "duration": 7,
    "start_time": "2022-04-08T09:48:40.107Z"
   },
   {
    "duration": 163,
    "start_time": "2022-04-08T09:48:40.116Z"
   },
   {
    "duration": 6,
    "start_time": "2022-04-08T09:48:40.281Z"
   },
   {
    "duration": 166,
    "start_time": "2022-04-08T09:48:40.288Z"
   },
   {
    "duration": 6,
    "start_time": "2022-04-08T09:48:40.456Z"
   },
   {
    "duration": 8,
    "start_time": "2022-04-08T09:48:40.463Z"
   },
   {
    "duration": 154,
    "start_time": "2022-04-08T09:48:40.473Z"
   },
   {
    "duration": 12,
    "start_time": "2022-04-08T09:48:40.629Z"
   },
   {
    "duration": 152,
    "start_time": "2022-04-08T09:48:40.643Z"
   },
   {
    "duration": 4,
    "start_time": "2022-04-08T09:48:40.797Z"
   },
   {
    "duration": 10,
    "start_time": "2022-04-08T09:48:40.803Z"
   },
   {
    "duration": 222,
    "start_time": "2022-04-08T09:48:40.815Z"
   },
   {
    "duration": 5,
    "start_time": "2022-04-08T09:48:41.039Z"
   },
   {
    "duration": 130,
    "start_time": "2022-04-08T09:48:41.046Z"
   },
   {
    "duration": 5,
    "start_time": "2022-04-08T09:48:41.178Z"
   },
   {
    "duration": 11,
    "start_time": "2022-04-08T09:48:41.185Z"
   },
   {
    "duration": 156,
    "start_time": "2022-04-08T09:48:41.198Z"
   },
   {
    "duration": 4,
    "start_time": "2022-04-08T09:48:41.356Z"
   },
   {
    "duration": 152,
    "start_time": "2022-04-08T09:48:41.362Z"
   },
   {
    "duration": 6,
    "start_time": "2022-04-08T09:48:41.516Z"
   },
   {
    "duration": 7,
    "start_time": "2022-04-08T09:48:41.537Z"
   },
   {
    "duration": 149,
    "start_time": "2022-04-08T09:48:41.545Z"
   },
   {
    "duration": 5,
    "start_time": "2022-04-08T09:48:41.696Z"
   },
   {
    "duration": 151,
    "start_time": "2022-04-08T09:48:41.702Z"
   },
   {
    "duration": 6,
    "start_time": "2022-04-08T09:48:41.855Z"
   },
   {
    "duration": 147,
    "start_time": "2022-04-08T09:48:41.862Z"
   },
   {
    "duration": 5,
    "start_time": "2022-04-08T09:48:42.010Z"
   },
   {
    "duration": 138,
    "start_time": "2022-04-08T09:48:42.017Z"
   },
   {
    "duration": 5,
    "start_time": "2022-04-08T09:48:42.157Z"
   },
   {
    "duration": 16,
    "start_time": "2022-04-08T09:48:42.164Z"
   },
   {
    "duration": 10,
    "start_time": "2022-04-08T09:48:42.182Z"
   },
   {
    "duration": 29,
    "start_time": "2022-04-08T09:48:42.193Z"
   },
   {
    "duration": 19,
    "start_time": "2022-04-08T09:48:42.224Z"
   },
   {
    "duration": 15,
    "start_time": "2022-04-08T09:48:42.245Z"
   },
   {
    "duration": 11,
    "start_time": "2022-04-08T09:48:42.262Z"
   },
   {
    "duration": 18,
    "start_time": "2022-04-08T09:48:42.275Z"
   },
   {
    "duration": 10,
    "start_time": "2022-04-08T09:48:42.295Z"
   },
   {
    "duration": 39,
    "start_time": "2022-04-08T09:48:42.307Z"
   },
   {
    "duration": 12,
    "start_time": "2022-04-08T09:48:42.348Z"
   },
   {
    "duration": 9,
    "start_time": "2022-04-08T09:48:42.362Z"
   },
   {
    "duration": 9,
    "start_time": "2022-04-08T09:48:42.372Z"
   },
   {
    "duration": 12,
    "start_time": "2022-04-08T09:48:42.383Z"
   },
   {
    "duration": 41,
    "start_time": "2022-04-08T09:48:42.397Z"
   },
   {
    "duration": 8,
    "start_time": "2022-04-08T09:48:42.440Z"
   },
   {
    "duration": 9,
    "start_time": "2022-04-08T09:48:42.450Z"
   },
   {
    "duration": 16,
    "start_time": "2022-04-08T09:48:42.460Z"
   },
   {
    "duration": 7,
    "start_time": "2022-04-08T09:48:42.478Z"
   },
   {
    "duration": 1180,
    "start_time": "2022-04-08T09:50:40.234Z"
   },
   {
    "duration": 3,
    "start_time": "2022-04-08T09:50:41.416Z"
   },
   {
    "duration": 49,
    "start_time": "2022-04-08T09:50:41.420Z"
   },
   {
    "duration": 17,
    "start_time": "2022-04-08T09:50:41.471Z"
   },
   {
    "duration": 25,
    "start_time": "2022-04-08T09:50:41.489Z"
   },
   {
    "duration": 5,
    "start_time": "2022-04-08T09:50:41.515Z"
   },
   {
    "duration": 3,
    "start_time": "2022-04-08T09:50:41.537Z"
   },
   {
    "duration": 11,
    "start_time": "2022-04-08T09:50:41.542Z"
   },
   {
    "duration": 9,
    "start_time": "2022-04-08T09:50:41.555Z"
   },
   {
    "duration": 7,
    "start_time": "2022-04-08T09:50:41.566Z"
   },
   {
    "duration": 13,
    "start_time": "2022-04-08T09:50:41.575Z"
   },
   {
    "duration": 12,
    "start_time": "2022-04-08T09:50:41.589Z"
   },
   {
    "duration": 17,
    "start_time": "2022-04-08T09:50:41.602Z"
   },
   {
    "duration": 22,
    "start_time": "2022-04-08T09:50:41.621Z"
   },
   {
    "duration": 9,
    "start_time": "2022-04-08T09:50:41.644Z"
   },
   {
    "duration": 6,
    "start_time": "2022-04-08T09:50:41.654Z"
   },
   {
    "duration": 15,
    "start_time": "2022-04-08T09:50:41.661Z"
   },
   {
    "duration": 13,
    "start_time": "2022-04-08T09:50:41.678Z"
   },
   {
    "duration": 70,
    "start_time": "2022-04-08T09:50:41.693Z"
   },
   {
    "duration": 181,
    "start_time": "2022-04-08T09:50:41.765Z"
   },
   {
    "duration": 39,
    "start_time": "2022-04-08T09:50:41.947Z"
   },
   {
    "duration": 6,
    "start_time": "2022-04-08T09:50:41.988Z"
   },
   {
    "duration": 15,
    "start_time": "2022-04-08T09:50:41.995Z"
   },
   {
    "duration": 29,
    "start_time": "2022-04-08T09:50:42.012Z"
   },
   {
    "duration": 26,
    "start_time": "2022-04-08T09:50:42.043Z"
   },
   {
    "duration": 22,
    "start_time": "2022-04-08T09:50:42.071Z"
   },
   {
    "duration": 129,
    "start_time": "2022-04-08T09:50:42.095Z"
   },
   {
    "duration": 94,
    "start_time": "2022-04-08T09:50:42.228Z"
   },
   {
    "duration": 168,
    "start_time": "2022-04-08T09:50:42.337Z"
   },
   {
    "duration": 209,
    "start_time": "2022-04-08T09:50:42.507Z"
   },
   {
    "duration": 5,
    "start_time": "2022-04-08T09:50:42.718Z"
   },
   {
    "duration": 161,
    "start_time": "2022-04-08T09:50:42.725Z"
   },
   {
    "duration": 5,
    "start_time": "2022-04-08T09:50:42.888Z"
   },
   {
    "duration": 165,
    "start_time": "2022-04-08T09:50:42.894Z"
   },
   {
    "duration": 4,
    "start_time": "2022-04-08T09:50:43.061Z"
   },
   {
    "duration": 9,
    "start_time": "2022-04-08T09:50:43.067Z"
   },
   {
    "duration": 156,
    "start_time": "2022-04-08T09:50:43.078Z"
   },
   {
    "duration": 6,
    "start_time": "2022-04-08T09:50:43.235Z"
   },
   {
    "duration": 153,
    "start_time": "2022-04-08T09:50:43.242Z"
   },
   {
    "duration": 5,
    "start_time": "2022-04-08T09:50:43.397Z"
   },
   {
    "duration": 18,
    "start_time": "2022-04-08T09:50:43.403Z"
   },
   {
    "duration": 222,
    "start_time": "2022-04-08T09:50:43.422Z"
   },
   {
    "duration": 4,
    "start_time": "2022-04-08T09:50:43.646Z"
   },
   {
    "duration": 139,
    "start_time": "2022-04-08T09:50:43.652Z"
   },
   {
    "duration": 5,
    "start_time": "2022-04-08T09:50:43.792Z"
   },
   {
    "duration": 11,
    "start_time": "2022-04-08T09:50:43.799Z"
   },
   {
    "duration": 156,
    "start_time": "2022-04-08T09:50:43.812Z"
   },
   {
    "duration": 6,
    "start_time": "2022-04-08T09:50:43.970Z"
   },
   {
    "duration": 162,
    "start_time": "2022-04-08T09:50:43.977Z"
   },
   {
    "duration": 5,
    "start_time": "2022-04-08T09:50:44.141Z"
   },
   {
    "duration": 9,
    "start_time": "2022-04-08T09:50:44.147Z"
   },
   {
    "duration": 152,
    "start_time": "2022-04-08T09:50:44.158Z"
   },
   {
    "duration": 5,
    "start_time": "2022-04-08T09:50:44.312Z"
   },
   {
    "duration": 144,
    "start_time": "2022-04-08T09:50:44.319Z"
   },
   {
    "duration": 4,
    "start_time": "2022-04-08T09:50:44.465Z"
   },
   {
    "duration": 140,
    "start_time": "2022-04-08T09:50:44.471Z"
   },
   {
    "duration": 6,
    "start_time": "2022-04-08T09:50:44.613Z"
   },
   {
    "duration": 126,
    "start_time": "2022-04-08T09:50:44.637Z"
   },
   {
    "duration": 5,
    "start_time": "2022-04-08T09:50:44.766Z"
   },
   {
    "duration": 16,
    "start_time": "2022-04-08T09:50:44.773Z"
   },
   {
    "duration": 9,
    "start_time": "2022-04-08T09:50:44.791Z"
   },
   {
    "duration": 38,
    "start_time": "2022-04-08T09:50:44.802Z"
   },
   {
    "duration": 11,
    "start_time": "2022-04-08T09:50:44.841Z"
   },
   {
    "duration": 14,
    "start_time": "2022-04-08T09:50:44.853Z"
   },
   {
    "duration": 9,
    "start_time": "2022-04-08T09:50:44.868Z"
   },
   {
    "duration": 13,
    "start_time": "2022-04-08T09:50:44.879Z"
   },
   {
    "duration": 9,
    "start_time": "2022-04-08T09:50:44.893Z"
   },
   {
    "duration": 43,
    "start_time": "2022-04-08T09:50:44.904Z"
   },
   {
    "duration": 19,
    "start_time": "2022-04-08T09:50:44.949Z"
   },
   {
    "duration": 11,
    "start_time": "2022-04-08T09:50:44.970Z"
   },
   {
    "duration": 11,
    "start_time": "2022-04-08T09:50:44.982Z"
   },
   {
    "duration": 18,
    "start_time": "2022-04-08T09:50:44.994Z"
   },
   {
    "duration": 30,
    "start_time": "2022-04-08T09:50:45.014Z"
   },
   {
    "duration": 9,
    "start_time": "2022-04-08T09:50:45.045Z"
   },
   {
    "duration": 9,
    "start_time": "2022-04-08T09:50:45.056Z"
   },
   {
    "duration": 13,
    "start_time": "2022-04-08T09:50:45.067Z"
   },
   {
    "duration": 14,
    "start_time": "2022-04-08T09:50:45.081Z"
   },
   {
    "duration": 1136,
    "start_time": "2022-04-08T09:56:06.479Z"
   },
   {
    "duration": 2,
    "start_time": "2022-04-08T09:56:07.617Z"
   },
   {
    "duration": 48,
    "start_time": "2022-04-08T09:56:07.621Z"
   },
   {
    "duration": 14,
    "start_time": "2022-04-08T09:56:07.671Z"
   },
   {
    "duration": 26,
    "start_time": "2022-04-08T09:56:07.687Z"
   },
   {
    "duration": 7,
    "start_time": "2022-04-08T09:56:07.715Z"
   },
   {
    "duration": 8,
    "start_time": "2022-04-08T09:56:07.724Z"
   },
   {
    "duration": 19,
    "start_time": "2022-04-08T09:56:07.734Z"
   },
   {
    "duration": 25,
    "start_time": "2022-04-08T09:56:07.754Z"
   },
   {
    "duration": 11,
    "start_time": "2022-04-08T09:56:07.781Z"
   },
   {
    "duration": 16,
    "start_time": "2022-04-08T09:56:07.793Z"
   },
   {
    "duration": 10,
    "start_time": "2022-04-08T09:56:07.811Z"
   },
   {
    "duration": 10,
    "start_time": "2022-04-08T09:56:07.823Z"
   },
   {
    "duration": 15,
    "start_time": "2022-04-08T09:56:07.835Z"
   },
   {
    "duration": 7,
    "start_time": "2022-04-08T09:56:07.852Z"
   },
   {
    "duration": 15,
    "start_time": "2022-04-08T09:56:07.861Z"
   },
   {
    "duration": 17,
    "start_time": "2022-04-08T09:56:07.877Z"
   },
   {
    "duration": 13,
    "start_time": "2022-04-08T09:56:07.896Z"
   },
   {
    "duration": 52,
    "start_time": "2022-04-08T09:56:07.911Z"
   },
   {
    "duration": 173,
    "start_time": "2022-04-08T09:56:07.964Z"
   },
   {
    "duration": 36,
    "start_time": "2022-04-08T09:56:08.139Z"
   },
   {
    "duration": 6,
    "start_time": "2022-04-08T09:56:08.176Z"
   },
   {
    "duration": 16,
    "start_time": "2022-04-08T09:56:08.184Z"
   },
   {
    "duration": 6,
    "start_time": "2022-04-08T09:56:08.202Z"
   },
   {
    "duration": 39,
    "start_time": "2022-04-08T09:56:08.209Z"
   },
   {
    "duration": 21,
    "start_time": "2022-04-08T09:56:08.250Z"
   },
   {
    "duration": 114,
    "start_time": "2022-04-08T09:56:08.272Z"
   },
   {
    "duration": 98,
    "start_time": "2022-04-08T09:56:08.390Z"
   },
   {
    "duration": 175,
    "start_time": "2022-04-08T09:56:08.490Z"
   },
   {
    "duration": 200,
    "start_time": "2022-04-08T09:56:08.667Z"
   },
   {
    "duration": 6,
    "start_time": "2022-04-08T09:56:08.868Z"
   },
   {
    "duration": 167,
    "start_time": "2022-04-08T09:56:08.875Z"
   },
   {
    "duration": 5,
    "start_time": "2022-04-08T09:56:09.044Z"
   },
   {
    "duration": 159,
    "start_time": "2022-04-08T09:56:09.050Z"
   },
   {
    "duration": 5,
    "start_time": "2022-04-08T09:56:09.211Z"
   },
   {
    "duration": 10,
    "start_time": "2022-04-08T09:56:09.217Z"
   },
   {
    "duration": 135,
    "start_time": "2022-04-08T09:56:09.237Z"
   },
   {
    "duration": 4,
    "start_time": "2022-04-08T09:56:09.374Z"
   },
   {
    "duration": 152,
    "start_time": "2022-04-08T09:56:09.380Z"
   },
   {
    "duration": 5,
    "start_time": "2022-04-08T09:56:09.534Z"
   },
   {
    "duration": 13,
    "start_time": "2022-04-08T09:56:09.541Z"
   },
   {
    "duration": 230,
    "start_time": "2022-04-08T09:56:09.555Z"
   },
   {
    "duration": 5,
    "start_time": "2022-04-08T09:56:09.787Z"
   },
   {
    "duration": 134,
    "start_time": "2022-04-08T09:56:09.793Z"
   },
   {
    "duration": 9,
    "start_time": "2022-04-08T09:56:09.929Z"
   },
   {
    "duration": 10,
    "start_time": "2022-04-08T09:56:09.940Z"
   },
   {
    "duration": 156,
    "start_time": "2022-04-08T09:56:09.951Z"
   },
   {
    "duration": 5,
    "start_time": "2022-04-08T09:56:10.109Z"
   },
   {
    "duration": 153,
    "start_time": "2022-04-08T09:56:10.116Z"
   },
   {
    "duration": 5,
    "start_time": "2022-04-08T09:56:10.270Z"
   },
   {
    "duration": 12,
    "start_time": "2022-04-08T09:56:10.277Z"
   },
   {
    "duration": 156,
    "start_time": "2022-04-08T09:56:10.291Z"
   },
   {
    "duration": 5,
    "start_time": "2022-04-08T09:56:10.449Z"
   },
   {
    "duration": 157,
    "start_time": "2022-04-08T09:56:10.455Z"
   },
   {
    "duration": 5,
    "start_time": "2022-04-08T09:56:10.613Z"
   },
   {
    "duration": 137,
    "start_time": "2022-04-08T09:56:10.619Z"
   },
   {
    "duration": 4,
    "start_time": "2022-04-08T09:56:10.758Z"
   },
   {
    "duration": 137,
    "start_time": "2022-04-08T09:56:10.764Z"
   },
   {
    "duration": 5,
    "start_time": "2022-04-08T09:56:10.902Z"
   },
   {
    "duration": 17,
    "start_time": "2022-04-08T09:56:10.909Z"
   },
   {
    "duration": 19,
    "start_time": "2022-04-08T09:56:10.927Z"
   },
   {
    "duration": 15,
    "start_time": "2022-04-08T09:56:10.947Z"
   },
   {
    "duration": 10,
    "start_time": "2022-04-08T09:56:10.964Z"
   },
   {
    "duration": 17,
    "start_time": "2022-04-08T09:56:10.975Z"
   },
   {
    "duration": 12,
    "start_time": "2022-04-08T09:56:10.993Z"
   },
   {
    "duration": 31,
    "start_time": "2022-04-08T09:56:11.007Z"
   },
   {
    "duration": 11,
    "start_time": "2022-04-08T09:56:11.040Z"
   },
   {
    "duration": 24,
    "start_time": "2022-04-08T09:56:11.053Z"
   },
   {
    "duration": 24,
    "start_time": "2022-04-08T09:56:11.079Z"
   },
   {
    "duration": 13,
    "start_time": "2022-04-08T09:56:11.104Z"
   },
   {
    "duration": 19,
    "start_time": "2022-04-08T09:56:11.119Z"
   },
   {
    "duration": 14,
    "start_time": "2022-04-08T09:56:11.140Z"
   },
   {
    "duration": 15,
    "start_time": "2022-04-08T09:56:11.156Z"
   },
   {
    "duration": 108,
    "start_time": "2022-04-08T09:56:11.173Z"
   },
   {
    "duration": 0,
    "start_time": "2022-04-08T09:56:11.283Z"
   },
   {
    "duration": 0,
    "start_time": "2022-04-08T09:56:11.284Z"
   },
   {
    "duration": 0,
    "start_time": "2022-04-08T09:56:11.286Z"
   },
   {
    "duration": 0,
    "start_time": "2022-04-08T09:56:11.287Z"
   },
   {
    "duration": 0,
    "start_time": "2022-04-08T09:56:11.288Z"
   },
   {
    "duration": 0,
    "start_time": "2022-04-08T09:56:11.289Z"
   },
   {
    "duration": 0,
    "start_time": "2022-04-08T09:56:11.290Z"
   },
   {
    "duration": 0,
    "start_time": "2022-04-08T09:56:11.291Z"
   },
   {
    "duration": 0,
    "start_time": "2022-04-08T09:56:11.292Z"
   },
   {
    "duration": 0,
    "start_time": "2022-04-08T09:56:11.293Z"
   },
   {
    "duration": 0,
    "start_time": "2022-04-08T09:56:11.294Z"
   },
   {
    "duration": 6,
    "start_time": "2022-04-08T09:56:29.521Z"
   },
   {
    "duration": 316,
    "start_time": "2022-04-08T09:56:37.791Z"
   },
   {
    "duration": 313,
    "start_time": "2022-04-08T09:56:57.255Z"
   },
   {
    "duration": 9,
    "start_time": "2022-04-08T09:57:17.303Z"
   },
   {
    "duration": 6,
    "start_time": "2022-04-08T09:57:25.607Z"
   },
   {
    "duration": 4,
    "start_time": "2022-04-08T09:57:29.254Z"
   },
   {
    "duration": 11,
    "start_time": "2022-04-08T09:57:32.718Z"
   },
   {
    "duration": 14,
    "start_time": "2022-04-08T09:57:43.559Z"
   },
   {
    "duration": 10,
    "start_time": "2022-04-08T09:58:13.591Z"
   },
   {
    "duration": 34,
    "start_time": "2022-04-08T09:58:21.959Z"
   },
   {
    "duration": 127,
    "start_time": "2022-04-08T09:58:27.896Z"
   },
   {
    "duration": 117,
    "start_time": "2022-04-08T09:59:07.878Z"
   },
   {
    "duration": 10,
    "start_time": "2022-04-08T09:59:11.303Z"
   },
   {
    "duration": 12,
    "start_time": "2022-04-08T09:59:27.471Z"
   },
   {
    "duration": 1129,
    "start_time": "2022-04-08T09:59:33.353Z"
   },
   {
    "duration": 3,
    "start_time": "2022-04-08T09:59:34.483Z"
   },
   {
    "duration": 39,
    "start_time": "2022-04-08T09:59:34.487Z"
   },
   {
    "duration": 16,
    "start_time": "2022-04-08T09:59:34.528Z"
   },
   {
    "duration": 18,
    "start_time": "2022-04-08T09:59:34.546Z"
   },
   {
    "duration": 4,
    "start_time": "2022-04-08T09:59:34.566Z"
   },
   {
    "duration": 7,
    "start_time": "2022-04-08T09:59:34.572Z"
   },
   {
    "duration": 8,
    "start_time": "2022-04-08T09:59:34.581Z"
   },
   {
    "duration": 8,
    "start_time": "2022-04-08T09:59:34.590Z"
   },
   {
    "duration": 11,
    "start_time": "2022-04-08T09:59:34.601Z"
   },
   {
    "duration": 25,
    "start_time": "2022-04-08T09:59:34.613Z"
   },
   {
    "duration": 5,
    "start_time": "2022-04-08T09:59:34.640Z"
   },
   {
    "duration": 11,
    "start_time": "2022-04-08T09:59:34.647Z"
   },
   {
    "duration": 19,
    "start_time": "2022-04-08T09:59:34.660Z"
   },
   {
    "duration": 9,
    "start_time": "2022-04-08T09:59:34.680Z"
   },
   {
    "duration": 10,
    "start_time": "2022-04-08T09:59:34.691Z"
   },
   {
    "duration": 43,
    "start_time": "2022-04-08T09:59:34.703Z"
   },
   {
    "duration": 15,
    "start_time": "2022-04-08T09:59:34.749Z"
   },
   {
    "duration": 39,
    "start_time": "2022-04-08T09:59:34.766Z"
   },
   {
    "duration": 203,
    "start_time": "2022-04-08T09:59:34.807Z"
   },
   {
    "duration": 48,
    "start_time": "2022-04-08T09:59:35.012Z"
   },
   {
    "duration": 6,
    "start_time": "2022-04-08T09:59:35.061Z"
   },
   {
    "duration": 16,
    "start_time": "2022-04-08T09:59:35.069Z"
   },
   {
    "duration": 5,
    "start_time": "2022-04-08T09:59:35.087Z"
   },
   {
    "duration": 43,
    "start_time": "2022-04-08T09:59:35.094Z"
   },
   {
    "duration": 22,
    "start_time": "2022-04-08T09:59:35.139Z"
   },
   {
    "duration": 123,
    "start_time": "2022-04-08T09:59:35.163Z"
   },
   {
    "duration": 97,
    "start_time": "2022-04-08T09:59:35.292Z"
   },
   {
    "duration": 186,
    "start_time": "2022-04-08T09:59:35.391Z"
   },
   {
    "duration": 202,
    "start_time": "2022-04-08T09:59:35.579Z"
   },
   {
    "duration": 7,
    "start_time": "2022-04-08T09:59:35.782Z"
   },
   {
    "duration": 167,
    "start_time": "2022-04-08T09:59:35.790Z"
   },
   {
    "duration": 5,
    "start_time": "2022-04-08T09:59:35.959Z"
   },
   {
    "duration": 168,
    "start_time": "2022-04-08T09:59:35.966Z"
   },
   {
    "duration": 6,
    "start_time": "2022-04-08T09:59:36.135Z"
   },
   {
    "duration": 22,
    "start_time": "2022-04-08T09:59:36.142Z"
   },
   {
    "duration": 141,
    "start_time": "2022-04-08T09:59:36.166Z"
   },
   {
    "duration": 5,
    "start_time": "2022-04-08T09:59:36.308Z"
   },
   {
    "duration": 159,
    "start_time": "2022-04-08T09:59:36.315Z"
   },
   {
    "duration": 5,
    "start_time": "2022-04-08T09:59:36.476Z"
   },
   {
    "duration": 11,
    "start_time": "2022-04-08T09:59:36.483Z"
   },
   {
    "duration": 232,
    "start_time": "2022-04-08T09:59:36.495Z"
   },
   {
    "duration": 12,
    "start_time": "2022-04-08T09:59:36.728Z"
   },
   {
    "duration": 130,
    "start_time": "2022-04-08T09:59:36.742Z"
   },
   {
    "duration": 5,
    "start_time": "2022-04-08T09:59:36.874Z"
   },
   {
    "duration": 16,
    "start_time": "2022-04-08T09:59:36.880Z"
   },
   {
    "duration": 153,
    "start_time": "2022-04-08T09:59:36.898Z"
   },
   {
    "duration": 5,
    "start_time": "2022-04-08T09:59:37.053Z"
   },
   {
    "duration": 160,
    "start_time": "2022-04-08T09:59:37.060Z"
   },
   {
    "duration": 5,
    "start_time": "2022-04-08T09:59:37.222Z"
   },
   {
    "duration": 6,
    "start_time": "2022-04-08T09:59:37.238Z"
   },
   {
    "duration": 147,
    "start_time": "2022-04-08T09:59:37.246Z"
   },
   {
    "duration": 5,
    "start_time": "2022-04-08T09:59:37.395Z"
   },
   {
    "duration": 148,
    "start_time": "2022-04-08T09:59:37.402Z"
   },
   {
    "duration": 5,
    "start_time": "2022-04-08T09:59:37.552Z"
   },
   {
    "duration": 138,
    "start_time": "2022-04-08T09:59:37.559Z"
   },
   {
    "duration": 5,
    "start_time": "2022-04-08T09:59:37.698Z"
   },
   {
    "duration": 140,
    "start_time": "2022-04-08T09:59:37.705Z"
   },
   {
    "duration": 5,
    "start_time": "2022-04-08T09:59:37.847Z"
   },
   {
    "duration": 16,
    "start_time": "2022-04-08T09:59:37.854Z"
   },
   {
    "duration": 12,
    "start_time": "2022-04-08T09:59:37.871Z"
   },
   {
    "duration": 14,
    "start_time": "2022-04-08T09:59:37.884Z"
   },
   {
    "duration": 42,
    "start_time": "2022-04-08T09:59:37.900Z"
   },
   {
    "duration": 12,
    "start_time": "2022-04-08T09:59:37.944Z"
   },
   {
    "duration": 13,
    "start_time": "2022-04-08T09:59:37.957Z"
   },
   {
    "duration": 12,
    "start_time": "2022-04-08T09:59:37.972Z"
   },
   {
    "duration": 12,
    "start_time": "2022-04-08T09:59:37.986Z"
   },
   {
    "duration": 13,
    "start_time": "2022-04-08T09:59:38.000Z"
   },
   {
    "duration": 13,
    "start_time": "2022-04-08T09:59:38.037Z"
   },
   {
    "duration": 10,
    "start_time": "2022-04-08T09:59:38.051Z"
   },
   {
    "duration": 15,
    "start_time": "2022-04-08T09:59:38.063Z"
   },
   {
    "duration": 12,
    "start_time": "2022-04-08T09:59:38.080Z"
   },
   {
    "duration": 5,
    "start_time": "2022-04-08T09:59:38.094Z"
   },
   {
    "duration": 10,
    "start_time": "2022-04-08T09:59:38.101Z"
   },
   {
    "duration": 327,
    "start_time": "2022-04-08T09:59:38.137Z"
   },
   {
    "duration": 339,
    "start_time": "2022-04-08T09:59:38.466Z"
   },
   {
    "duration": 6,
    "start_time": "2022-04-08T09:59:38.808Z"
   },
   {
    "duration": 13,
    "start_time": "2022-04-08T09:59:38.815Z"
   },
   {
    "duration": 109,
    "start_time": "2022-04-08T09:59:38.829Z"
   },
   {
    "duration": 0,
    "start_time": "2022-04-08T09:59:38.940Z"
   },
   {
    "duration": 0,
    "start_time": "2022-04-08T09:59:38.942Z"
   },
   {
    "duration": 1,
    "start_time": "2022-04-08T09:59:38.942Z"
   },
   {
    "duration": 0,
    "start_time": "2022-04-08T09:59:38.944Z"
   },
   {
    "duration": 0,
    "start_time": "2022-04-08T09:59:38.945Z"
   },
   {
    "duration": 0,
    "start_time": "2022-04-08T09:59:38.945Z"
   },
   {
    "duration": 4,
    "start_time": "2022-04-08T10:00:28.510Z"
   },
   {
    "duration": 11,
    "start_time": "2022-04-08T10:00:38.451Z"
   },
   {
    "duration": 361,
    "start_time": "2022-04-08T10:01:01.094Z"
   },
   {
    "duration": 161,
    "start_time": "2022-04-08T10:03:05.598Z"
   },
   {
    "duration": 12,
    "start_time": "2022-04-08T10:03:14.379Z"
   },
   {
    "duration": 415,
    "start_time": "2022-04-08T10:03:25.318Z"
   },
   {
    "duration": 1201,
    "start_time": "2022-04-08T10:08:47.436Z"
   },
   {
    "duration": 3,
    "start_time": "2022-04-08T10:08:48.639Z"
   },
   {
    "duration": 40,
    "start_time": "2022-04-08T10:08:48.644Z"
   },
   {
    "duration": 15,
    "start_time": "2022-04-08T10:08:48.686Z"
   },
   {
    "duration": 16,
    "start_time": "2022-04-08T10:08:48.702Z"
   },
   {
    "duration": 19,
    "start_time": "2022-04-08T10:08:48.720Z"
   },
   {
    "duration": 4,
    "start_time": "2022-04-08T10:08:48.741Z"
   },
   {
    "duration": 6,
    "start_time": "2022-04-08T10:08:48.747Z"
   },
   {
    "duration": 9,
    "start_time": "2022-04-08T10:08:48.754Z"
   },
   {
    "duration": 6,
    "start_time": "2022-04-08T10:08:48.765Z"
   },
   {
    "duration": 6,
    "start_time": "2022-04-08T10:08:48.773Z"
   },
   {
    "duration": 9,
    "start_time": "2022-04-08T10:08:48.780Z"
   },
   {
    "duration": 14,
    "start_time": "2022-04-08T10:08:48.791Z"
   },
   {
    "duration": 35,
    "start_time": "2022-04-08T10:08:48.807Z"
   },
   {
    "duration": 8,
    "start_time": "2022-04-08T10:08:48.844Z"
   },
   {
    "duration": 10,
    "start_time": "2022-04-08T10:08:48.853Z"
   },
   {
    "duration": 18,
    "start_time": "2022-04-08T10:08:48.864Z"
   },
   {
    "duration": 13,
    "start_time": "2022-04-08T10:08:48.884Z"
   },
   {
    "duration": 57,
    "start_time": "2022-04-08T10:08:48.899Z"
   },
   {
    "duration": 168,
    "start_time": "2022-04-08T10:08:48.958Z"
   },
   {
    "duration": 43,
    "start_time": "2022-04-08T10:08:49.128Z"
   },
   {
    "duration": 5,
    "start_time": "2022-04-08T10:08:49.172Z"
   },
   {
    "duration": 15,
    "start_time": "2022-04-08T10:08:49.179Z"
   },
   {
    "duration": 4,
    "start_time": "2022-04-08T10:08:49.196Z"
   },
   {
    "duration": 39,
    "start_time": "2022-04-08T10:08:49.201Z"
   },
   {
    "duration": 21,
    "start_time": "2022-04-08T10:08:49.241Z"
   },
   {
    "duration": 123,
    "start_time": "2022-04-08T10:08:49.263Z"
   },
   {
    "duration": 96,
    "start_time": "2022-04-08T10:08:49.390Z"
   },
   {
    "duration": 182,
    "start_time": "2022-04-08T10:08:49.488Z"
   },
   {
    "duration": 199,
    "start_time": "2022-04-08T10:08:49.672Z"
   },
   {
    "duration": 6,
    "start_time": "2022-04-08T10:08:49.873Z"
   },
   {
    "duration": 174,
    "start_time": "2022-04-08T10:08:49.881Z"
   },
   {
    "duration": 5,
    "start_time": "2022-04-08T10:08:50.057Z"
   },
   {
    "duration": 169,
    "start_time": "2022-04-08T10:08:50.064Z"
   },
   {
    "duration": 5,
    "start_time": "2022-04-08T10:08:50.237Z"
   },
   {
    "duration": 8,
    "start_time": "2022-04-08T10:08:50.244Z"
   },
   {
    "duration": 148,
    "start_time": "2022-04-08T10:08:50.254Z"
   },
   {
    "duration": 5,
    "start_time": "2022-04-08T10:08:50.404Z"
   },
   {
    "duration": 155,
    "start_time": "2022-04-08T10:08:50.410Z"
   },
   {
    "duration": 5,
    "start_time": "2022-04-08T10:08:50.567Z"
   },
   {
    "duration": 15,
    "start_time": "2022-04-08T10:08:50.573Z"
   },
   {
    "duration": 219,
    "start_time": "2022-04-08T10:08:50.590Z"
   },
   {
    "duration": 5,
    "start_time": "2022-04-08T10:08:50.811Z"
   },
   {
    "duration": 135,
    "start_time": "2022-04-08T10:08:50.817Z"
   },
   {
    "duration": 5,
    "start_time": "2022-04-08T10:08:50.953Z"
   },
   {
    "duration": 26,
    "start_time": "2022-04-08T10:08:50.959Z"
   },
   {
    "duration": 143,
    "start_time": "2022-04-08T10:08:50.987Z"
   },
   {
    "duration": 9,
    "start_time": "2022-04-08T10:08:51.131Z"
   },
   {
    "duration": 155,
    "start_time": "2022-04-08T10:08:51.141Z"
   },
   {
    "duration": 4,
    "start_time": "2022-04-08T10:08:51.298Z"
   },
   {
    "duration": 11,
    "start_time": "2022-04-08T10:08:51.304Z"
   },
   {
    "duration": 153,
    "start_time": "2022-04-08T10:08:51.316Z"
   },
   {
    "duration": 5,
    "start_time": "2022-04-08T10:08:51.471Z"
   },
   {
    "duration": 151,
    "start_time": "2022-04-08T10:08:51.477Z"
   },
   {
    "duration": 10,
    "start_time": "2022-04-08T10:08:51.629Z"
   },
   {
    "duration": 141,
    "start_time": "2022-04-08T10:08:51.640Z"
   },
   {
    "duration": 5,
    "start_time": "2022-04-08T10:08:51.783Z"
   },
   {
    "duration": 132,
    "start_time": "2022-04-08T10:08:51.790Z"
   },
   {
    "duration": 16,
    "start_time": "2022-04-08T10:08:51.924Z"
   },
   {
    "duration": 16,
    "start_time": "2022-04-08T10:08:51.942Z"
   },
   {
    "duration": 10,
    "start_time": "2022-04-08T10:08:51.959Z"
   },
   {
    "duration": 34,
    "start_time": "2022-04-08T10:08:51.970Z"
   },
   {
    "duration": 13,
    "start_time": "2022-04-08T10:08:52.006Z"
   },
   {
    "duration": 22,
    "start_time": "2022-04-08T10:08:52.020Z"
   },
   {
    "duration": 12,
    "start_time": "2022-04-08T10:08:52.043Z"
   },
   {
    "duration": 16,
    "start_time": "2022-04-08T10:08:52.056Z"
   },
   {
    "duration": 18,
    "start_time": "2022-04-08T10:08:52.074Z"
   },
   {
    "duration": 17,
    "start_time": "2022-04-08T10:08:52.093Z"
   },
   {
    "duration": 30,
    "start_time": "2022-04-08T10:08:52.112Z"
   },
   {
    "duration": 10,
    "start_time": "2022-04-08T10:08:52.143Z"
   },
   {
    "duration": 21,
    "start_time": "2022-04-08T10:08:52.155Z"
   },
   {
    "duration": 32,
    "start_time": "2022-04-08T10:08:52.178Z"
   },
   {
    "duration": 11,
    "start_time": "2022-04-08T10:08:52.211Z"
   },
   {
    "duration": 19,
    "start_time": "2022-04-08T10:08:52.224Z"
   },
   {
    "duration": 308,
    "start_time": "2022-04-08T10:08:52.244Z"
   },
   {
    "duration": 326,
    "start_time": "2022-04-08T10:08:52.554Z"
   },
   {
    "duration": 457,
    "start_time": "2022-04-08T10:08:52.882Z"
   },
   {
    "duration": 7,
    "start_time": "2022-04-08T10:08:53.341Z"
   },
   {
    "duration": 17,
    "start_time": "2022-04-08T10:08:53.349Z"
   },
   {
    "duration": 10,
    "start_time": "2022-04-08T10:08:53.367Z"
   },
   {
    "duration": 8,
    "start_time": "2022-04-08T10:08:53.379Z"
   },
   {
    "duration": 6,
    "start_time": "2022-04-08T10:08:53.392Z"
   },
   {
    "duration": 1191,
    "start_time": "2022-04-08T10:10:09.693Z"
   },
   {
    "duration": 3,
    "start_time": "2022-04-08T10:10:10.886Z"
   },
   {
    "duration": 51,
    "start_time": "2022-04-08T10:10:10.890Z"
   },
   {
    "duration": 16,
    "start_time": "2022-04-08T10:10:10.943Z"
   },
   {
    "duration": 17,
    "start_time": "2022-04-08T10:10:10.961Z"
   },
   {
    "duration": 4,
    "start_time": "2022-04-08T10:10:10.980Z"
   },
   {
    "duration": 6,
    "start_time": "2022-04-08T10:10:10.986Z"
   },
   {
    "duration": 7,
    "start_time": "2022-04-08T10:10:10.993Z"
   },
   {
    "duration": 11,
    "start_time": "2022-04-08T10:10:11.001Z"
   },
   {
    "duration": 5,
    "start_time": "2022-04-08T10:10:11.041Z"
   },
   {
    "duration": 9,
    "start_time": "2022-04-08T10:10:11.047Z"
   },
   {
    "duration": 8,
    "start_time": "2022-04-08T10:10:11.058Z"
   },
   {
    "duration": 12,
    "start_time": "2022-04-08T10:10:11.068Z"
   },
   {
    "duration": 22,
    "start_time": "2022-04-08T10:10:11.082Z"
   },
   {
    "duration": 8,
    "start_time": "2022-04-08T10:10:11.106Z"
   },
   {
    "duration": 25,
    "start_time": "2022-04-08T10:10:11.115Z"
   },
   {
    "duration": 16,
    "start_time": "2022-04-08T10:10:11.142Z"
   },
   {
    "duration": 15,
    "start_time": "2022-04-08T10:10:11.160Z"
   },
   {
    "duration": 65,
    "start_time": "2022-04-08T10:10:11.176Z"
   },
   {
    "duration": 170,
    "start_time": "2022-04-08T10:10:11.243Z"
   },
   {
    "duration": 48,
    "start_time": "2022-04-08T10:10:11.415Z"
   },
   {
    "duration": 6,
    "start_time": "2022-04-08T10:10:11.465Z"
   },
   {
    "duration": 11,
    "start_time": "2022-04-08T10:10:11.473Z"
   },
   {
    "duration": 12,
    "start_time": "2022-04-08T10:10:11.486Z"
   },
   {
    "duration": 40,
    "start_time": "2022-04-08T10:10:11.499Z"
   },
   {
    "duration": 23,
    "start_time": "2022-04-08T10:10:11.541Z"
   },
   {
    "duration": 127,
    "start_time": "2022-04-08T10:10:11.565Z"
   },
   {
    "duration": 106,
    "start_time": "2022-04-08T10:10:11.697Z"
   },
   {
    "duration": 184,
    "start_time": "2022-04-08T10:10:11.805Z"
   },
   {
    "duration": 214,
    "start_time": "2022-04-08T10:10:11.991Z"
   },
   {
    "duration": 7,
    "start_time": "2022-04-08T10:10:12.207Z"
   },
   {
    "duration": 175,
    "start_time": "2022-04-08T10:10:12.215Z"
   },
   {
    "duration": 6,
    "start_time": "2022-04-08T10:10:12.392Z"
   },
   {
    "duration": 170,
    "start_time": "2022-04-08T10:10:12.400Z"
   },
   {
    "duration": 6,
    "start_time": "2022-04-08T10:10:12.571Z"
   },
   {
    "duration": 8,
    "start_time": "2022-04-08T10:10:12.579Z"
   },
   {
    "duration": 164,
    "start_time": "2022-04-08T10:10:12.589Z"
   },
   {
    "duration": 6,
    "start_time": "2022-04-08T10:10:12.754Z"
   },
   {
    "duration": 163,
    "start_time": "2022-04-08T10:10:12.761Z"
   },
   {
    "duration": 13,
    "start_time": "2022-04-08T10:10:12.926Z"
   },
   {
    "duration": 15,
    "start_time": "2022-04-08T10:10:12.941Z"
   },
   {
    "duration": 247,
    "start_time": "2022-04-08T10:10:12.958Z"
   },
   {
    "duration": 6,
    "start_time": "2022-04-08T10:10:13.207Z"
   },
   {
    "duration": 149,
    "start_time": "2022-04-08T10:10:13.214Z"
   },
   {
    "duration": 5,
    "start_time": "2022-04-08T10:10:13.365Z"
   },
   {
    "duration": 32,
    "start_time": "2022-04-08T10:10:13.372Z"
   },
   {
    "duration": 147,
    "start_time": "2022-04-08T10:10:13.406Z"
   },
   {
    "duration": 5,
    "start_time": "2022-04-08T10:10:13.555Z"
   },
   {
    "duration": 164,
    "start_time": "2022-04-08T10:10:13.562Z"
   },
   {
    "duration": 9,
    "start_time": "2022-04-08T10:10:13.728Z"
   },
   {
    "duration": 11,
    "start_time": "2022-04-08T10:10:13.739Z"
   },
   {
    "duration": 158,
    "start_time": "2022-04-08T10:10:13.751Z"
   },
   {
    "duration": 6,
    "start_time": "2022-04-08T10:10:13.910Z"
   },
   {
    "duration": 165,
    "start_time": "2022-04-08T10:10:13.918Z"
   },
   {
    "duration": 6,
    "start_time": "2022-04-08T10:10:14.084Z"
   },
   {
    "duration": 149,
    "start_time": "2022-04-08T10:10:14.091Z"
   },
   {
    "duration": 6,
    "start_time": "2022-04-08T10:10:14.241Z"
   },
   {
    "duration": 147,
    "start_time": "2022-04-08T10:10:14.248Z"
   },
   {
    "duration": 5,
    "start_time": "2022-04-08T10:10:14.397Z"
   },
   {
    "duration": 30,
    "start_time": "2022-04-08T10:10:14.403Z"
   },
   {
    "duration": 13,
    "start_time": "2022-04-08T10:10:14.436Z"
   },
   {
    "duration": 20,
    "start_time": "2022-04-08T10:10:14.451Z"
   },
   {
    "duration": 23,
    "start_time": "2022-04-08T10:10:14.472Z"
   },
   {
    "duration": 37,
    "start_time": "2022-04-08T10:10:14.497Z"
   },
   {
    "duration": 23,
    "start_time": "2022-04-08T10:10:14.536Z"
   },
   {
    "duration": 20,
    "start_time": "2022-04-08T10:10:14.561Z"
   },
   {
    "duration": 15,
    "start_time": "2022-04-08T10:10:14.583Z"
   },
   {
    "duration": 12,
    "start_time": "2022-04-08T10:10:14.600Z"
   },
   {
    "duration": 27,
    "start_time": "2022-04-08T10:10:14.613Z"
   },
   {
    "duration": 35,
    "start_time": "2022-04-08T10:10:14.642Z"
   },
   {
    "duration": 30,
    "start_time": "2022-04-08T10:10:14.678Z"
   },
   {
    "duration": 24,
    "start_time": "2022-04-08T10:10:14.710Z"
   },
   {
    "duration": 14,
    "start_time": "2022-04-08T10:10:14.736Z"
   },
   {
    "duration": 19,
    "start_time": "2022-04-08T10:10:14.752Z"
   },
   {
    "duration": 351,
    "start_time": "2022-04-08T10:10:14.773Z"
   },
   {
    "duration": 345,
    "start_time": "2022-04-08T10:10:15.126Z"
   },
   {
    "duration": 442,
    "start_time": "2022-04-08T10:10:15.472Z"
   },
   {
    "duration": 7,
    "start_time": "2022-04-08T10:10:15.916Z"
   },
   {
    "duration": 5,
    "start_time": "2022-04-08T10:10:15.937Z"
   },
   {
    "duration": 16,
    "start_time": "2022-04-08T10:10:15.945Z"
   },
   {
    "duration": 20,
    "start_time": "2022-04-08T10:10:15.963Z"
   },
   {
    "duration": 8,
    "start_time": "2022-04-08T10:10:15.988Z"
   },
   {
    "duration": 1286,
    "start_time": "2022-04-08T10:12:22.322Z"
   },
   {
    "duration": 3,
    "start_time": "2022-04-08T10:12:23.610Z"
   },
   {
    "duration": 44,
    "start_time": "2022-04-08T10:12:23.614Z"
   },
   {
    "duration": 15,
    "start_time": "2022-04-08T10:12:23.661Z"
   },
   {
    "duration": 18,
    "start_time": "2022-04-08T10:12:23.678Z"
   },
   {
    "duration": 5,
    "start_time": "2022-04-08T10:12:23.698Z"
   },
   {
    "duration": 7,
    "start_time": "2022-04-08T10:12:23.704Z"
   },
   {
    "duration": 27,
    "start_time": "2022-04-08T10:12:23.712Z"
   },
   {
    "duration": 5,
    "start_time": "2022-04-08T10:12:23.741Z"
   },
   {
    "duration": 15,
    "start_time": "2022-04-08T10:12:23.748Z"
   },
   {
    "duration": 19,
    "start_time": "2022-04-08T10:12:23.765Z"
   },
   {
    "duration": 13,
    "start_time": "2022-04-08T10:12:23.786Z"
   },
   {
    "duration": 21,
    "start_time": "2022-04-08T10:12:23.800Z"
   },
   {
    "duration": 28,
    "start_time": "2022-04-08T10:12:23.823Z"
   },
   {
    "duration": 9,
    "start_time": "2022-04-08T10:12:23.853Z"
   },
   {
    "duration": 16,
    "start_time": "2022-04-08T10:12:23.864Z"
   },
   {
    "duration": 18,
    "start_time": "2022-04-08T10:12:23.882Z"
   },
   {
    "duration": 13,
    "start_time": "2022-04-08T10:12:23.902Z"
   },
   {
    "duration": 49,
    "start_time": "2022-04-08T10:12:23.917Z"
   },
   {
    "duration": 183,
    "start_time": "2022-04-08T10:12:23.967Z"
   },
   {
    "duration": 38,
    "start_time": "2022-04-08T10:12:24.152Z"
   },
   {
    "duration": 7,
    "start_time": "2022-04-08T10:12:24.192Z"
   },
   {
    "duration": 38,
    "start_time": "2022-04-08T10:12:24.201Z"
   },
   {
    "duration": 4,
    "start_time": "2022-04-08T10:12:24.240Z"
   },
   {
    "duration": 25,
    "start_time": "2022-04-08T10:12:24.246Z"
   },
   {
    "duration": 20,
    "start_time": "2022-04-08T10:12:24.272Z"
   },
   {
    "duration": 116,
    "start_time": "2022-04-08T10:12:24.294Z"
   },
   {
    "duration": 102,
    "start_time": "2022-04-08T10:12:24.415Z"
   },
   {
    "duration": 182,
    "start_time": "2022-04-08T10:12:24.518Z"
   },
   {
    "duration": 202,
    "start_time": "2022-04-08T10:12:24.702Z"
   },
   {
    "duration": 6,
    "start_time": "2022-04-08T10:12:24.906Z"
   },
   {
    "duration": 174,
    "start_time": "2022-04-08T10:12:24.914Z"
   },
   {
    "duration": 5,
    "start_time": "2022-04-08T10:12:25.090Z"
   },
   {
    "duration": 168,
    "start_time": "2022-04-08T10:12:25.096Z"
   },
   {
    "duration": 5,
    "start_time": "2022-04-08T10:12:25.265Z"
   },
   {
    "duration": 11,
    "start_time": "2022-04-08T10:12:25.272Z"
   },
   {
    "duration": 143,
    "start_time": "2022-04-08T10:12:25.284Z"
   },
   {
    "duration": 5,
    "start_time": "2022-04-08T10:12:25.437Z"
   },
   {
    "duration": 156,
    "start_time": "2022-04-08T10:12:25.444Z"
   },
   {
    "duration": 6,
    "start_time": "2022-04-08T10:12:25.602Z"
   },
   {
    "duration": 13,
    "start_time": "2022-04-08T10:12:25.609Z"
   },
   {
    "duration": 241,
    "start_time": "2022-04-08T10:12:25.624Z"
   },
   {
    "duration": 6,
    "start_time": "2022-04-08T10:12:25.866Z"
   },
   {
    "duration": 134,
    "start_time": "2022-04-08T10:12:25.873Z"
   },
   {
    "duration": 5,
    "start_time": "2022-04-08T10:12:26.009Z"
   },
   {
    "duration": 22,
    "start_time": "2022-04-08T10:12:26.016Z"
   },
   {
    "duration": 144,
    "start_time": "2022-04-08T10:12:26.040Z"
   },
   {
    "duration": 5,
    "start_time": "2022-04-08T10:12:26.185Z"
   },
   {
    "duration": 159,
    "start_time": "2022-04-08T10:12:26.192Z"
   },
   {
    "duration": 5,
    "start_time": "2022-04-08T10:12:26.353Z"
   },
   {
    "duration": 9,
    "start_time": "2022-04-08T10:12:26.359Z"
   },
   {
    "duration": 160,
    "start_time": "2022-04-08T10:12:26.370Z"
   },
   {
    "duration": 8,
    "start_time": "2022-04-08T10:12:26.532Z"
   },
   {
    "duration": 152,
    "start_time": "2022-04-08T10:12:26.541Z"
   },
   {
    "duration": 5,
    "start_time": "2022-04-08T10:12:26.695Z"
   },
   {
    "duration": 143,
    "start_time": "2022-04-08T10:12:26.701Z"
   },
   {
    "duration": 5,
    "start_time": "2022-04-08T10:12:26.846Z"
   },
   {
    "duration": 139,
    "start_time": "2022-04-08T10:12:26.853Z"
   },
   {
    "duration": 5,
    "start_time": "2022-04-08T10:12:26.994Z"
   },
   {
    "duration": 21,
    "start_time": "2022-04-08T10:12:27.000Z"
   },
   {
    "duration": 23,
    "start_time": "2022-04-08T10:12:27.022Z"
   },
   {
    "duration": 12,
    "start_time": "2022-04-08T10:12:27.047Z"
   },
   {
    "duration": 10,
    "start_time": "2022-04-08T10:12:27.061Z"
   },
   {
    "duration": 16,
    "start_time": "2022-04-08T10:12:27.073Z"
   },
   {
    "duration": 15,
    "start_time": "2022-04-08T10:12:27.090Z"
   },
   {
    "duration": 40,
    "start_time": "2022-04-08T10:12:27.106Z"
   },
   {
    "duration": 10,
    "start_time": "2022-04-08T10:12:27.147Z"
   },
   {
    "duration": 14,
    "start_time": "2022-04-08T10:12:27.158Z"
   },
   {
    "duration": 13,
    "start_time": "2022-04-08T10:12:27.174Z"
   },
   {
    "duration": 16,
    "start_time": "2022-04-08T10:12:27.188Z"
   },
   {
    "duration": 38,
    "start_time": "2022-04-08T10:12:27.206Z"
   },
   {
    "duration": 17,
    "start_time": "2022-04-08T10:12:27.246Z"
   },
   {
    "duration": 7,
    "start_time": "2022-04-08T10:12:27.264Z"
   },
   {
    "duration": 18,
    "start_time": "2022-04-08T10:12:27.273Z"
   },
   {
    "duration": 326,
    "start_time": "2022-04-08T10:12:27.293Z"
   },
   {
    "duration": 323,
    "start_time": "2022-04-08T10:12:27.621Z"
   },
   {
    "duration": 425,
    "start_time": "2022-04-08T10:12:27.946Z"
   },
   {
    "duration": 7,
    "start_time": "2022-04-08T10:12:28.373Z"
   },
   {
    "duration": 11,
    "start_time": "2022-04-08T10:12:28.381Z"
   },
   {
    "duration": 10,
    "start_time": "2022-04-08T10:12:28.393Z"
   },
   {
    "duration": 12,
    "start_time": "2022-04-08T10:12:28.404Z"
   },
   {
    "duration": 17,
    "start_time": "2022-04-08T10:12:28.420Z"
   },
   {
    "duration": 1485,
    "start_time": "2022-04-12T09:40:35.970Z"
   },
   {
    "duration": 2,
    "start_time": "2022-04-12T09:40:37.458Z"
   },
   {
    "duration": 45,
    "start_time": "2022-04-12T09:40:37.462Z"
   },
   {
    "duration": 14,
    "start_time": "2022-04-12T09:40:37.509Z"
   },
   {
    "duration": 17,
    "start_time": "2022-04-12T09:40:37.525Z"
   },
   {
    "duration": 4,
    "start_time": "2022-04-12T09:40:37.544Z"
   },
   {
    "duration": 5,
    "start_time": "2022-04-12T09:40:37.550Z"
   },
   {
    "duration": 11,
    "start_time": "2022-04-12T09:40:37.557Z"
   },
   {
    "duration": 8,
    "start_time": "2022-04-12T09:40:37.569Z"
   },
   {
    "duration": 6,
    "start_time": "2022-04-12T09:40:37.579Z"
   },
   {
    "duration": 37,
    "start_time": "2022-04-12T09:40:37.586Z"
   },
   {
    "duration": 10,
    "start_time": "2022-04-12T09:40:37.625Z"
   },
   {
    "duration": 14,
    "start_time": "2022-04-12T09:40:37.637Z"
   },
   {
    "duration": 18,
    "start_time": "2022-04-12T09:40:37.653Z"
   },
   {
    "duration": 7,
    "start_time": "2022-04-12T09:40:37.673Z"
   },
   {
    "duration": 6,
    "start_time": "2022-04-12T09:40:37.681Z"
   },
   {
    "duration": 35,
    "start_time": "2022-04-12T09:40:37.688Z"
   },
   {
    "duration": 13,
    "start_time": "2022-04-12T09:40:37.725Z"
   },
   {
    "duration": 34,
    "start_time": "2022-04-12T09:40:37.740Z"
   },
   {
    "duration": 192,
    "start_time": "2022-04-12T09:40:37.776Z"
   },
   {
    "duration": 26,
    "start_time": "2022-04-12T09:40:37.969Z"
   },
   {
    "duration": 5,
    "start_time": "2022-04-12T09:40:37.997Z"
   },
   {
    "duration": 22,
    "start_time": "2022-04-12T09:40:38.004Z"
   },
   {
    "duration": 11,
    "start_time": "2022-04-12T09:40:38.028Z"
   },
   {
    "duration": 26,
    "start_time": "2022-04-12T09:40:38.041Z"
   },
   {
    "duration": 21,
    "start_time": "2022-04-12T09:40:38.069Z"
   },
   {
    "duration": 119,
    "start_time": "2022-04-12T09:40:38.092Z"
   },
   {
    "duration": 102,
    "start_time": "2022-04-12T09:40:38.222Z"
   },
   {
    "duration": 167,
    "start_time": "2022-04-12T09:40:38.326Z"
   },
   {
    "duration": 197,
    "start_time": "2022-04-12T09:40:38.494Z"
   },
   {
    "duration": 6,
    "start_time": "2022-04-12T09:40:38.693Z"
   },
   {
    "duration": 162,
    "start_time": "2022-04-12T09:40:38.701Z"
   },
   {
    "duration": 5,
    "start_time": "2022-04-12T09:40:38.865Z"
   },
   {
    "duration": 179,
    "start_time": "2022-04-12T09:40:38.872Z"
   },
   {
    "duration": 6,
    "start_time": "2022-04-12T09:40:39.053Z"
   },
   {
    "duration": 8,
    "start_time": "2022-04-12T09:40:39.060Z"
   },
   {
    "duration": 160,
    "start_time": "2022-04-12T09:40:39.070Z"
   },
   {
    "duration": 5,
    "start_time": "2022-04-12T09:40:39.232Z"
   },
   {
    "duration": 149,
    "start_time": "2022-04-12T09:40:39.238Z"
   },
   {
    "duration": 5,
    "start_time": "2022-04-12T09:40:39.389Z"
   },
   {
    "duration": 7,
    "start_time": "2022-04-12T09:40:39.395Z"
   },
   {
    "duration": 205,
    "start_time": "2022-04-12T09:40:39.404Z"
   },
   {
    "duration": 14,
    "start_time": "2022-04-12T09:40:39.610Z"
   },
   {
    "duration": 129,
    "start_time": "2022-04-12T09:40:39.625Z"
   },
   {
    "duration": 6,
    "start_time": "2022-04-12T09:40:39.756Z"
   },
   {
    "duration": 16,
    "start_time": "2022-04-12T09:40:39.764Z"
   },
   {
    "duration": 143,
    "start_time": "2022-04-12T09:40:39.781Z"
   },
   {
    "duration": 5,
    "start_time": "2022-04-12T09:40:39.926Z"
   },
   {
    "duration": 157,
    "start_time": "2022-04-12T09:40:39.933Z"
   },
   {
    "duration": 5,
    "start_time": "2022-04-12T09:40:40.092Z"
   },
   {
    "duration": 8,
    "start_time": "2022-04-12T09:40:40.099Z"
   },
   {
    "duration": 166,
    "start_time": "2022-04-12T09:40:40.109Z"
   },
   {
    "duration": 5,
    "start_time": "2022-04-12T09:40:40.276Z"
   },
   {
    "duration": 203,
    "start_time": "2022-04-12T09:40:40.283Z"
   },
   {
    "duration": 7,
    "start_time": "2022-04-12T09:40:40.488Z"
   },
   {
    "duration": 143,
    "start_time": "2022-04-12T09:40:40.497Z"
   },
   {
    "duration": 5,
    "start_time": "2022-04-12T09:40:40.642Z"
   },
   {
    "duration": 138,
    "start_time": "2022-04-12T09:40:40.648Z"
   },
   {
    "duration": 5,
    "start_time": "2022-04-12T09:40:40.787Z"
   },
   {
    "duration": 28,
    "start_time": "2022-04-12T09:40:40.794Z"
   },
   {
    "duration": 10,
    "start_time": "2022-04-12T09:40:40.824Z"
   },
   {
    "duration": 12,
    "start_time": "2022-04-12T09:40:40.836Z"
   },
   {
    "duration": 10,
    "start_time": "2022-04-12T09:40:40.850Z"
   },
   {
    "duration": 10,
    "start_time": "2022-04-12T09:40:40.861Z"
   },
   {
    "duration": 12,
    "start_time": "2022-04-12T09:40:40.872Z"
   },
   {
    "duration": 47,
    "start_time": "2022-04-12T09:40:40.886Z"
   },
   {
    "duration": 10,
    "start_time": "2022-04-12T09:40:40.935Z"
   },
   {
    "duration": 9,
    "start_time": "2022-04-12T09:40:40.947Z"
   },
   {
    "duration": 12,
    "start_time": "2022-04-12T09:40:40.958Z"
   },
   {
    "duration": 10,
    "start_time": "2022-04-12T09:40:40.971Z"
   },
   {
    "duration": 45,
    "start_time": "2022-04-12T09:40:40.983Z"
   },
   {
    "duration": 14,
    "start_time": "2022-04-12T09:40:41.029Z"
   },
   {
    "duration": 7,
    "start_time": "2022-04-12T09:40:41.044Z"
   },
   {
    "duration": 10,
    "start_time": "2022-04-12T09:40:41.052Z"
   },
   {
    "duration": 325,
    "start_time": "2022-04-12T09:40:41.063Z"
   },
   {
    "duration": 304,
    "start_time": "2022-04-12T09:40:41.389Z"
   },
   {
    "duration": 384,
    "start_time": "2022-04-12T09:40:41.695Z"
   },
   {
    "duration": 7,
    "start_time": "2022-04-12T09:40:42.080Z"
   },
   {
    "duration": 13,
    "start_time": "2022-04-12T09:40:42.089Z"
   },
   {
    "duration": 8,
    "start_time": "2022-04-12T09:40:42.103Z"
   },
   {
    "duration": 15,
    "start_time": "2022-04-12T09:40:42.112Z"
   },
   {
    "duration": 6,
    "start_time": "2022-04-12T09:40:42.133Z"
   },
   {
    "duration": 216,
    "start_time": "2022-04-12T09:50:38.090Z"
   },
   {
    "duration": 3099,
    "start_time": "2022-04-12T09:50:50.040Z"
   },
   {
    "duration": 269,
    "start_time": "2022-04-12T09:51:02.017Z"
   },
   {
    "duration": 1270,
    "start_time": "2022-04-12T22:07:13.754Z"
   },
   {
    "duration": 3,
    "start_time": "2022-04-12T22:07:15.026Z"
   },
   {
    "duration": 68,
    "start_time": "2022-04-12T22:07:15.031Z"
   },
   {
    "duration": 14,
    "start_time": "2022-04-12T22:07:15.101Z"
   },
   {
    "duration": 21,
    "start_time": "2022-04-12T22:07:15.117Z"
   },
   {
    "duration": 7,
    "start_time": "2022-04-12T22:07:15.139Z"
   },
   {
    "duration": 7,
    "start_time": "2022-04-12T22:07:15.148Z"
   },
   {
    "duration": 26,
    "start_time": "2022-04-12T22:07:15.156Z"
   },
   {
    "duration": 18,
    "start_time": "2022-04-12T22:07:15.184Z"
   },
   {
    "duration": 11,
    "start_time": "2022-04-12T22:07:15.204Z"
   },
   {
    "duration": 19,
    "start_time": "2022-04-12T22:07:15.217Z"
   },
   {
    "duration": 12,
    "start_time": "2022-04-12T22:07:15.237Z"
   },
   {
    "duration": 48,
    "start_time": "2022-04-12T22:07:15.251Z"
   },
   {
    "duration": 22,
    "start_time": "2022-04-12T22:07:15.302Z"
   },
   {
    "duration": 13,
    "start_time": "2022-04-12T22:07:15.326Z"
   },
   {
    "duration": 47,
    "start_time": "2022-04-12T22:07:15.341Z"
   },
   {
    "duration": 18,
    "start_time": "2022-04-12T22:07:15.389Z"
   },
   {
    "duration": 33,
    "start_time": "2022-04-12T22:07:15.409Z"
   },
   {
    "duration": 53,
    "start_time": "2022-04-12T22:07:15.443Z"
   },
   {
    "duration": 184,
    "start_time": "2022-04-12T22:07:15.498Z"
   },
   {
    "duration": 24,
    "start_time": "2022-04-12T22:07:15.684Z"
   },
   {
    "duration": 6,
    "start_time": "2022-04-12T22:07:15.709Z"
   },
   {
    "duration": 18,
    "start_time": "2022-04-12T22:07:15.717Z"
   },
   {
    "duration": 4,
    "start_time": "2022-04-12T22:07:15.737Z"
   },
   {
    "duration": 26,
    "start_time": "2022-04-12T22:07:15.762Z"
   },
   {
    "duration": 21,
    "start_time": "2022-04-12T22:07:15.790Z"
   },
   {
    "duration": 125,
    "start_time": "2022-04-12T22:07:15.812Z"
   },
   {
    "duration": 105,
    "start_time": "2022-04-12T22:07:15.939Z"
   },
   {
    "duration": 196,
    "start_time": "2022-04-12T22:07:16.045Z"
   },
   {
    "duration": 216,
    "start_time": "2022-04-12T22:07:16.243Z"
   },
   {
    "duration": 8,
    "start_time": "2022-04-12T22:07:16.462Z"
   },
   {
    "duration": 167,
    "start_time": "2022-04-12T22:07:16.472Z"
   },
   {
    "duration": 5,
    "start_time": "2022-04-12T22:07:16.641Z"
   },
   {
    "duration": 167,
    "start_time": "2022-04-12T22:07:16.655Z"
   },
   {
    "duration": 5,
    "start_time": "2022-04-12T22:07:16.823Z"
   },
   {
    "duration": 9,
    "start_time": "2022-04-12T22:07:16.829Z"
   },
   {
    "duration": 160,
    "start_time": "2022-04-12T22:07:16.840Z"
   },
   {
    "duration": 5,
    "start_time": "2022-04-12T22:07:17.002Z"
   },
   {
    "duration": 171,
    "start_time": "2022-04-12T22:07:17.008Z"
   },
   {
    "duration": 5,
    "start_time": "2022-04-12T22:07:17.181Z"
   },
   {
    "duration": 17,
    "start_time": "2022-04-12T22:07:17.191Z"
   },
   {
    "duration": 223,
    "start_time": "2022-04-12T22:07:17.210Z"
   },
   {
    "duration": 5,
    "start_time": "2022-04-12T22:07:17.435Z"
   },
   {
    "duration": 146,
    "start_time": "2022-04-12T22:07:17.441Z"
   },
   {
    "duration": 5,
    "start_time": "2022-04-12T22:07:17.589Z"
   },
   {
    "duration": 8,
    "start_time": "2022-04-12T22:07:17.595Z"
   },
   {
    "duration": 157,
    "start_time": "2022-04-12T22:07:17.605Z"
   },
   {
    "duration": 7,
    "start_time": "2022-04-12T22:07:17.764Z"
   },
   {
    "duration": 168,
    "start_time": "2022-04-12T22:07:17.773Z"
   },
   {
    "duration": 12,
    "start_time": "2022-04-12T22:07:17.942Z"
   },
   {
    "duration": 8,
    "start_time": "2022-04-12T22:07:17.956Z"
   },
   {
    "duration": 161,
    "start_time": "2022-04-12T22:07:17.966Z"
   },
   {
    "duration": 4,
    "start_time": "2022-04-12T22:07:18.129Z"
   },
   {
    "duration": 158,
    "start_time": "2022-04-12T22:07:18.135Z"
   },
   {
    "duration": 4,
    "start_time": "2022-04-12T22:07:18.296Z"
   },
   {
    "duration": 142,
    "start_time": "2022-04-12T22:07:18.302Z"
   },
   {
    "duration": 12,
    "start_time": "2022-04-12T22:07:18.446Z"
   },
   {
    "duration": 142,
    "start_time": "2022-04-12T22:07:18.460Z"
   },
   {
    "duration": 5,
    "start_time": "2022-04-12T22:07:18.604Z"
   },
   {
    "duration": 14,
    "start_time": "2022-04-12T22:07:18.611Z"
   },
   {
    "duration": 263,
    "start_time": "2022-04-12T22:07:18.626Z"
   },
   {
    "duration": 10,
    "start_time": "2022-04-12T22:07:18.891Z"
   },
   {
    "duration": 12,
    "start_time": "2022-04-12T22:07:18.903Z"
   },
   {
    "duration": 9,
    "start_time": "2022-04-12T22:07:18.916Z"
   },
   {
    "duration": 35,
    "start_time": "2022-04-12T22:07:18.926Z"
   },
   {
    "duration": 13,
    "start_time": "2022-04-12T22:07:18.962Z"
   },
   {
    "duration": 19,
    "start_time": "2022-04-12T22:07:18.977Z"
   },
   {
    "duration": 10,
    "start_time": "2022-04-12T22:07:18.998Z"
   },
   {
    "duration": 11,
    "start_time": "2022-04-12T22:07:19.009Z"
   },
   {
    "duration": 47,
    "start_time": "2022-04-12T22:07:19.022Z"
   },
   {
    "duration": 15,
    "start_time": "2022-04-12T22:07:19.072Z"
   },
   {
    "duration": 11,
    "start_time": "2022-04-12T22:07:19.089Z"
   },
   {
    "duration": 13,
    "start_time": "2022-04-12T22:07:19.101Z"
   },
   {
    "duration": 6,
    "start_time": "2022-04-12T22:07:19.115Z"
   },
   {
    "duration": 6,
    "start_time": "2022-04-12T22:07:19.157Z"
   },
   {
    "duration": 324,
    "start_time": "2022-04-12T22:07:19.165Z"
   },
   {
    "duration": 429,
    "start_time": "2022-04-12T22:07:19.491Z"
   },
   {
    "duration": 327,
    "start_time": "2022-04-12T22:07:19.922Z"
   },
   {
    "duration": 11,
    "start_time": "2022-04-12T22:07:20.255Z"
   },
   {
    "duration": 6,
    "start_time": "2022-04-12T22:07:20.269Z"
   },
   {
    "duration": 19,
    "start_time": "2022-04-12T22:07:20.277Z"
   },
   {
    "duration": 11,
    "start_time": "2022-04-12T22:07:20.298Z"
   },
   {
    "duration": 13,
    "start_time": "2022-04-12T22:07:20.311Z"
   },
   {
    "duration": 19,
    "start_time": "2022-04-12T22:08:56.725Z"
   },
   {
    "duration": 271,
    "start_time": "2022-04-12T22:09:56.112Z"
   },
   {
    "duration": 277,
    "start_time": "2022-04-12T22:10:47.141Z"
   }
  ],
  "kernelspec": {
   "display_name": "Python 3 (ipykernel)",
   "language": "python",
   "name": "python3"
  },
  "language_info": {
   "codemirror_mode": {
    "name": "ipython",
    "version": 3
   },
   "file_extension": ".py",
   "mimetype": "text/x-python",
   "name": "python",
   "nbconvert_exporter": "python",
   "pygments_lexer": "ipython3",
   "version": "3.9.5"
  },
  "toc": {
   "base_numbering": 1,
   "nav_menu": {},
   "number_sections": true,
   "sideBar": true,
   "skip_h1_title": false,
   "title_cell": "Table of Contents",
   "title_sidebar": "Contents",
   "toc_cell": false,
   "toc_position": {
    "height": "calc(100% - 180px)",
    "left": "10px",
    "top": "150px",
    "width": "165px"
   },
   "toc_section_display": true,
   "toc_window_display": true
  }
 },
 "nbformat": 4,
 "nbformat_minor": 5
}
