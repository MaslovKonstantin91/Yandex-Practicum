{
 "cells": [
  {
   "cell_type": "markdown",
   "metadata": {},
   "source": [
    "# Исследование надёжности заёмщиков\n",
    "\n",
    "Заказчик — кредитный отдел банка. Нужно разобраться, влияет ли семейное положение и количество детей клиента на факт погашения кредита в срок. Входные данные от банка — статистика о платёжеспособности клиентов.\n",
    "\n",
    "Результаты исследования будут учтены при построении модели **кредитного скоринга** — специальной системы, которая оценивает способность потенциального заёмщика вернуть кредит банку."
   ]
  },
  {
   "cell_type": "markdown",
   "metadata": {},
   "source": [
    "##  Откройте файл с данными и изучите общую информацию"
   ]
  },
  {
   "cell_type": "code",
   "execution_count": 1,
   "metadata": {},
   "outputs": [],
   "source": [
    "import pandas as pd  # импорт библиотеки pandas"
   ]
  },
  {
   "cell_type": "code",
   "execution_count": 2,
   "metadata": {},
   "outputs": [],
   "source": [
    "data = pd.read_csv('/datasets/data.csv')  # чтение файла с данными и сохранение в data"
   ]
  },
  {
   "cell_type": "code",
   "execution_count": 3,
   "metadata": {},
   "outputs": [
    {
     "data": {
      "text/html": [
       "<div>\n",
       "<style scoped>\n",
       "    .dataframe tbody tr th:only-of-type {\n",
       "        vertical-align: middle;\n",
       "    }\n",
       "\n",
       "    .dataframe tbody tr th {\n",
       "        vertical-align: top;\n",
       "    }\n",
       "\n",
       "    .dataframe thead th {\n",
       "        text-align: right;\n",
       "    }\n",
       "</style>\n",
       "<table border=\"1\" class=\"dataframe\">\n",
       "  <thead>\n",
       "    <tr style=\"text-align: right;\">\n",
       "      <th></th>\n",
       "      <th>children</th>\n",
       "      <th>days_employed</th>\n",
       "      <th>dob_years</th>\n",
       "      <th>education</th>\n",
       "      <th>education_id</th>\n",
       "      <th>family_status</th>\n",
       "      <th>family_status_id</th>\n",
       "      <th>gender</th>\n",
       "      <th>income_type</th>\n",
       "      <th>debt</th>\n",
       "      <th>total_income</th>\n",
       "      <th>purpose</th>\n",
       "    </tr>\n",
       "  </thead>\n",
       "  <tbody>\n",
       "    <tr>\n",
       "      <td>0</td>\n",
       "      <td>1</td>\n",
       "      <td>-8437.673028</td>\n",
       "      <td>42</td>\n",
       "      <td>высшее</td>\n",
       "      <td>0</td>\n",
       "      <td>женат / замужем</td>\n",
       "      <td>0</td>\n",
       "      <td>F</td>\n",
       "      <td>сотрудник</td>\n",
       "      <td>0</td>\n",
       "      <td>253875.639453</td>\n",
       "      <td>покупка жилья</td>\n",
       "    </tr>\n",
       "    <tr>\n",
       "      <td>1</td>\n",
       "      <td>1</td>\n",
       "      <td>-4024.803754</td>\n",
       "      <td>36</td>\n",
       "      <td>среднее</td>\n",
       "      <td>1</td>\n",
       "      <td>женат / замужем</td>\n",
       "      <td>0</td>\n",
       "      <td>F</td>\n",
       "      <td>сотрудник</td>\n",
       "      <td>0</td>\n",
       "      <td>112080.014102</td>\n",
       "      <td>приобретение автомобиля</td>\n",
       "    </tr>\n",
       "    <tr>\n",
       "      <td>2</td>\n",
       "      <td>0</td>\n",
       "      <td>-5623.422610</td>\n",
       "      <td>33</td>\n",
       "      <td>Среднее</td>\n",
       "      <td>1</td>\n",
       "      <td>женат / замужем</td>\n",
       "      <td>0</td>\n",
       "      <td>M</td>\n",
       "      <td>сотрудник</td>\n",
       "      <td>0</td>\n",
       "      <td>145885.952297</td>\n",
       "      <td>покупка жилья</td>\n",
       "    </tr>\n",
       "    <tr>\n",
       "      <td>3</td>\n",
       "      <td>3</td>\n",
       "      <td>-4124.747207</td>\n",
       "      <td>32</td>\n",
       "      <td>среднее</td>\n",
       "      <td>1</td>\n",
       "      <td>женат / замужем</td>\n",
       "      <td>0</td>\n",
       "      <td>M</td>\n",
       "      <td>сотрудник</td>\n",
       "      <td>0</td>\n",
       "      <td>267628.550329</td>\n",
       "      <td>дополнительное образование</td>\n",
       "    </tr>\n",
       "    <tr>\n",
       "      <td>4</td>\n",
       "      <td>0</td>\n",
       "      <td>340266.072047</td>\n",
       "      <td>53</td>\n",
       "      <td>среднее</td>\n",
       "      <td>1</td>\n",
       "      <td>гражданский брак</td>\n",
       "      <td>1</td>\n",
       "      <td>F</td>\n",
       "      <td>пенсионер</td>\n",
       "      <td>0</td>\n",
       "      <td>158616.077870</td>\n",
       "      <td>сыграть свадьбу</td>\n",
       "    </tr>\n",
       "  </tbody>\n",
       "</table>\n",
       "</div>"
      ],
      "text/plain": [
       "   children  days_employed  dob_years education  education_id  \\\n",
       "0         1   -8437.673028         42    высшее             0   \n",
       "1         1   -4024.803754         36   среднее             1   \n",
       "2         0   -5623.422610         33   Среднее             1   \n",
       "3         3   -4124.747207         32   среднее             1   \n",
       "4         0  340266.072047         53   среднее             1   \n",
       "\n",
       "      family_status  family_status_id gender income_type  debt   total_income  \\\n",
       "0   женат / замужем                 0      F   сотрудник     0  253875.639453   \n",
       "1   женат / замужем                 0      F   сотрудник     0  112080.014102   \n",
       "2   женат / замужем                 0      M   сотрудник     0  145885.952297   \n",
       "3   женат / замужем                 0      M   сотрудник     0  267628.550329   \n",
       "4  гражданский брак                 1      F   пенсионер     0  158616.077870   \n",
       "\n",
       "                      purpose  \n",
       "0               покупка жилья  \n",
       "1     приобретение автомобиля  \n",
       "2               покупка жилья  \n",
       "3  дополнительное образование  \n",
       "4             сыграть свадьбу  "
      ]
     },
     "execution_count": 3,
     "metadata": {},
     "output_type": "execute_result"
    }
   ],
   "source": [
    "data.head() # получение первых 10 строк таблицы data"
   ]
  },
  {
   "cell_type": "code",
   "execution_count": 4,
   "metadata": {},
   "outputs": [
    {
     "name": "stdout",
     "output_type": "stream",
     "text": [
      "<class 'pandas.core.frame.DataFrame'>\n",
      "RangeIndex: 21525 entries, 0 to 21524\n",
      "Data columns (total 12 columns):\n",
      "children            21525 non-null int64\n",
      "days_employed       19351 non-null float64\n",
      "dob_years           21525 non-null int64\n",
      "education           21525 non-null object\n",
      "education_id        21525 non-null int64\n",
      "family_status       21525 non-null object\n",
      "family_status_id    21525 non-null int64\n",
      "gender              21525 non-null object\n",
      "income_type         21525 non-null object\n",
      "debt                21525 non-null int64\n",
      "total_income        19351 non-null float64\n",
      "purpose             21525 non-null object\n",
      "dtypes: float64(2), int64(5), object(5)\n",
      "memory usage: 2.0+ MB\n"
     ]
    }
   ],
   "source": [
    "data.info() # получение общей информации о данных в таблице df"
   ]
  },
  {
   "cell_type": "markdown",
   "metadata": {},
   "source": [
    "**Вывод**"
   ]
  },
  {
   "cell_type": "markdown",
   "metadata": {},
   "source": [
    "семейное положение,количество детей и данные по по предыдущим задолжностям есть. Очень странно - в поле дети, есть отрицательные значения.Так же мне совсем не понятно зачем тут 'days_employed'."
   ]
  },
  {
   "cell_type": "markdown",
   "metadata": {},
   "source": [
    "## Предобработка данных"
   ]
  },
  {
   "cell_type": "markdown",
   "metadata": {},
   "source": [
    "### Обработка пропусков"
   ]
  },
  {
   "cell_type": "code",
   "execution_count": 5,
   "metadata": {},
   "outputs": [
    {
     "name": "stdout",
     "output_type": "stream",
     "text": [
      "children               0\n",
      "days_employed       2174\n",
      "dob_years              0\n",
      "education              0\n",
      "education_id           0\n",
      "family_status          0\n",
      "family_status_id       0\n",
      "gender                 0\n",
      "income_type            0\n",
      "debt                   0\n",
      "total_income        2174\n",
      "purpose                0\n",
      "dtype: int64\n"
     ]
    }
   ],
   "source": [
    "print(data.isna().sum()) # подсчёт пропусков"
   ]
  },
  {
   "cell_type": "code",
   "execution_count": 6,
   "metadata": {},
   "outputs": [
    {
     "data": {
      "text/html": [
       "<div>\n",
       "<style scoped>\n",
       "    .dataframe tbody tr th:only-of-type {\n",
       "        vertical-align: middle;\n",
       "    }\n",
       "\n",
       "    .dataframe tbody tr th {\n",
       "        vertical-align: top;\n",
       "    }\n",
       "\n",
       "    .dataframe thead tr th {\n",
       "        text-align: left;\n",
       "    }\n",
       "\n",
       "    .dataframe thead tr:last-of-type th {\n",
       "        text-align: right;\n",
       "    }\n",
       "</style>\n",
       "<table border=\"1\" class=\"dataframe\">\n",
       "  <thead>\n",
       "    <tr>\n",
       "      <th></th>\n",
       "      <th colspan=\"3\" halign=\"left\">days_employed</th>\n",
       "    </tr>\n",
       "    <tr>\n",
       "      <th></th>\n",
       "      <th>Общее количество строк</th>\n",
       "      <th>Среднее</th>\n",
       "      <th>Кол-во значений &gt; 0</th>\n",
       "    </tr>\n",
       "    <tr>\n",
       "      <th>income_type</th>\n",
       "      <th></th>\n",
       "      <th></th>\n",
       "      <th></th>\n",
       "    </tr>\n",
       "  </thead>\n",
       "  <tbody>\n",
       "    <tr>\n",
       "      <td>безработный</td>\n",
       "      <td>2</td>\n",
       "      <td>366413.652744</td>\n",
       "      <td>2.0</td>\n",
       "    </tr>\n",
       "    <tr>\n",
       "      <td>в декрете</td>\n",
       "      <td>1</td>\n",
       "      <td>-3296.759962</td>\n",
       "      <td>0.0</td>\n",
       "    </tr>\n",
       "    <tr>\n",
       "      <td>госслужащий</td>\n",
       "      <td>1312</td>\n",
       "      <td>-3399.896902</td>\n",
       "      <td>0.0</td>\n",
       "    </tr>\n",
       "    <tr>\n",
       "      <td>компаньон</td>\n",
       "      <td>4577</td>\n",
       "      <td>-2111.524398</td>\n",
       "      <td>0.0</td>\n",
       "    </tr>\n",
       "    <tr>\n",
       "      <td>пенсионер</td>\n",
       "      <td>3443</td>\n",
       "      <td>365003.491245</td>\n",
       "      <td>3443.0</td>\n",
       "    </tr>\n",
       "    <tr>\n",
       "      <td>предприниматель</td>\n",
       "      <td>1</td>\n",
       "      <td>-520.848083</td>\n",
       "      <td>0.0</td>\n",
       "    </tr>\n",
       "    <tr>\n",
       "      <td>сотрудник</td>\n",
       "      <td>10014</td>\n",
       "      <td>-2326.499216</td>\n",
       "      <td>0.0</td>\n",
       "    </tr>\n",
       "    <tr>\n",
       "      <td>студент</td>\n",
       "      <td>1</td>\n",
       "      <td>-578.751554</td>\n",
       "      <td>0.0</td>\n",
       "    </tr>\n",
       "  </tbody>\n",
       "</table>\n",
       "</div>"
      ],
      "text/plain": [
       "                         days_employed                                   \n",
       "                Общее количество строк        Среднее Кол-во значений > 0\n",
       "income_type                                                              \n",
       "безработный                          2  366413.652744                 2.0\n",
       "в декрете                            1   -3296.759962                 0.0\n",
       "госслужащий                       1312   -3399.896902                 0.0\n",
       "компаньон                         4577   -2111.524398                 0.0\n",
       "пенсионер                         3443  365003.491245              3443.0\n",
       "предприниматель                      1    -520.848083                 0.0\n",
       "сотрудник                        10014   -2326.499216                 0.0\n",
       "студент                              1    -578.751554                 0.0"
      ]
     },
     "execution_count": 6,
     "metadata": {},
     "output_type": "execute_result"
    }
   ],
   "source": [
    "data_grouped = data.groupby('income_type').agg({'days_employed':['count', 'mean', lambda x: sum(x>0)]})\n",
    "\n",
    "dict_to_rename = dict(zip(data_grouped.columns.levels[1], ['Общее количество строк', 'Среднее', 'Кол-во значений > 0']))\n",
    "\n",
    "data_grouped = data_grouped.rename(columns=dict_to_rename, level=1)\n",
    "data_grouped"
   ]
  },
  {
   "cell_type": "code",
   "execution_count": 7,
   "metadata": {},
   "outputs": [
    {
     "data": {
      "text/html": [
       "<div>\n",
       "<style scoped>\n",
       "    .dataframe tbody tr th:only-of-type {\n",
       "        vertical-align: middle;\n",
       "    }\n",
       "\n",
       "    .dataframe tbody tr th {\n",
       "        vertical-align: top;\n",
       "    }\n",
       "\n",
       "    .dataframe thead th {\n",
       "        text-align: right;\n",
       "    }\n",
       "</style>\n",
       "<table border=\"1\" class=\"dataframe\">\n",
       "  <thead>\n",
       "    <tr style=\"text-align: right;\">\n",
       "      <th></th>\n",
       "      <th>children</th>\n",
       "      <th>days_employed</th>\n",
       "      <th>dob_years</th>\n",
       "      <th>education</th>\n",
       "      <th>education_id</th>\n",
       "      <th>family_status</th>\n",
       "      <th>family_status_id</th>\n",
       "      <th>gender</th>\n",
       "      <th>income_type</th>\n",
       "      <th>debt</th>\n",
       "      <th>total_income</th>\n",
       "      <th>purpose</th>\n",
       "      <th>ratio_days_employed</th>\n",
       "    </tr>\n",
       "  </thead>\n",
       "  <tbody>\n",
       "    <tr>\n",
       "      <td>0</td>\n",
       "      <td>1</td>\n",
       "      <td>8437.673028</td>\n",
       "      <td>42</td>\n",
       "      <td>высшее</td>\n",
       "      <td>0</td>\n",
       "      <td>женат / замужем</td>\n",
       "      <td>0</td>\n",
       "      <td>F</td>\n",
       "      <td>сотрудник</td>\n",
       "      <td>0</td>\n",
       "      <td>253875.639453</td>\n",
       "      <td>покупка жилья</td>\n",
       "      <td>0.889112</td>\n",
       "    </tr>\n",
       "    <tr>\n",
       "      <td>1</td>\n",
       "      <td>1</td>\n",
       "      <td>4024.803754</td>\n",
       "      <td>36</td>\n",
       "      <td>среднее</td>\n",
       "      <td>1</td>\n",
       "      <td>женат / замужем</td>\n",
       "      <td>0</td>\n",
       "      <td>F</td>\n",
       "      <td>сотрудник</td>\n",
       "      <td>0</td>\n",
       "      <td>112080.014102</td>\n",
       "      <td>приобретение автомобиля</td>\n",
       "      <td>0.551343</td>\n",
       "    </tr>\n",
       "    <tr>\n",
       "      <td>2</td>\n",
       "      <td>0</td>\n",
       "      <td>5623.422610</td>\n",
       "      <td>33</td>\n",
       "      <td>Среднее</td>\n",
       "      <td>1</td>\n",
       "      <td>женат / замужем</td>\n",
       "      <td>0</td>\n",
       "      <td>M</td>\n",
       "      <td>сотрудник</td>\n",
       "      <td>0</td>\n",
       "      <td>145885.952297</td>\n",
       "      <td>покупка жилья</td>\n",
       "      <td>0.906273</td>\n",
       "    </tr>\n",
       "    <tr>\n",
       "      <td>3</td>\n",
       "      <td>3</td>\n",
       "      <td>4124.747207</td>\n",
       "      <td>32</td>\n",
       "      <td>среднее</td>\n",
       "      <td>1</td>\n",
       "      <td>женат / замужем</td>\n",
       "      <td>0</td>\n",
       "      <td>M</td>\n",
       "      <td>сотрудник</td>\n",
       "      <td>0</td>\n",
       "      <td>267628.550329</td>\n",
       "      <td>дополнительное образование</td>\n",
       "      <td>0.706292</td>\n",
       "    </tr>\n",
       "    <tr>\n",
       "      <td>4</td>\n",
       "      <td>0</td>\n",
       "      <td>340266.072047</td>\n",
       "      <td>53</td>\n",
       "      <td>среднее</td>\n",
       "      <td>1</td>\n",
       "      <td>гражданский брак</td>\n",
       "      <td>1</td>\n",
       "      <td>F</td>\n",
       "      <td>пенсионер</td>\n",
       "      <td>0</td>\n",
       "      <td>158616.077870</td>\n",
       "      <td>сыграть свадьбу</td>\n",
       "      <td>25.195563</td>\n",
       "    </tr>\n",
       "  </tbody>\n",
       "</table>\n",
       "</div>"
      ],
      "text/plain": [
       "   children  days_employed  dob_years education  education_id  \\\n",
       "0         1    8437.673028         42    высшее             0   \n",
       "1         1    4024.803754         36   среднее             1   \n",
       "2         0    5623.422610         33   Среднее             1   \n",
       "3         3    4124.747207         32   среднее             1   \n",
       "4         0  340266.072047         53   среднее             1   \n",
       "\n",
       "      family_status  family_status_id gender income_type  debt   total_income  \\\n",
       "0   женат / замужем                 0      F   сотрудник     0  253875.639453   \n",
       "1   женат / замужем                 0      F   сотрудник     0  112080.014102   \n",
       "2   женат / замужем                 0      M   сотрудник     0  145885.952297   \n",
       "3   женат / замужем                 0      M   сотрудник     0  267628.550329   \n",
       "4  гражданский брак                 1      F   пенсионер     0  158616.077870   \n",
       "\n",
       "                      purpose  ratio_days_employed  \n",
       "0               покупка жилья             0.889112  \n",
       "1     приобретение автомобиля             0.551343  \n",
       "2               покупка жилья             0.906273  \n",
       "3  дополнительное образование             0.706292  \n",
       "4             сыграть свадьбу            25.195563  "
      ]
     },
     "execution_count": 7,
     "metadata": {},
     "output_type": "execute_result"
    }
   ],
   "source": [
    "data[['total_income', 'days_employed']] = data[['total_income', 'days_employed']].abs()\n",
    "data['ratio_days_employed'] = data[data['days_employed'].notnull()]['days_employed']/((data['dob_years']-16)*365)\n",
    "data.head()"
   ]
  },
  {
   "cell_type": "code",
   "execution_count": 8,
   "metadata": {},
   "outputs": [
    {
     "data": {
      "text/html": [
       "<div>\n",
       "<style scoped>\n",
       "    .dataframe tbody tr th:only-of-type {\n",
       "        vertical-align: middle;\n",
       "    }\n",
       "\n",
       "    .dataframe tbody tr th {\n",
       "        vertical-align: top;\n",
       "    }\n",
       "\n",
       "    .dataframe thead th {\n",
       "        text-align: right;\n",
       "    }\n",
       "</style>\n",
       "<table border=\"1\" class=\"dataframe\">\n",
       "  <thead>\n",
       "    <tr style=\"text-align: right;\">\n",
       "      <th></th>\n",
       "      <th>children</th>\n",
       "      <th>days_employed</th>\n",
       "      <th>dob_years</th>\n",
       "      <th>education</th>\n",
       "      <th>education_id</th>\n",
       "      <th>family_status</th>\n",
       "      <th>family_status_id</th>\n",
       "      <th>gender</th>\n",
       "      <th>income_type</th>\n",
       "      <th>debt</th>\n",
       "      <th>total_income</th>\n",
       "      <th>purpose</th>\n",
       "      <th>ratio_days_employed</th>\n",
       "    </tr>\n",
       "  </thead>\n",
       "  <tbody>\n",
       "    <tr>\n",
       "      <td>0</td>\n",
       "      <td>1</td>\n",
       "      <td>8437.673028</td>\n",
       "      <td>42</td>\n",
       "      <td>высшее</td>\n",
       "      <td>0</td>\n",
       "      <td>женат / замужем</td>\n",
       "      <td>0</td>\n",
       "      <td>F</td>\n",
       "      <td>сотрудник</td>\n",
       "      <td>0</td>\n",
       "      <td>253875.639453</td>\n",
       "      <td>покупка жилья</td>\n",
       "      <td>0.889112</td>\n",
       "    </tr>\n",
       "    <tr>\n",
       "      <td>1</td>\n",
       "      <td>1</td>\n",
       "      <td>4024.803754</td>\n",
       "      <td>36</td>\n",
       "      <td>среднее</td>\n",
       "      <td>1</td>\n",
       "      <td>женат / замужем</td>\n",
       "      <td>0</td>\n",
       "      <td>F</td>\n",
       "      <td>сотрудник</td>\n",
       "      <td>0</td>\n",
       "      <td>112080.014102</td>\n",
       "      <td>приобретение автомобиля</td>\n",
       "      <td>0.551343</td>\n",
       "    </tr>\n",
       "    <tr>\n",
       "      <td>2</td>\n",
       "      <td>0</td>\n",
       "      <td>5623.422610</td>\n",
       "      <td>33</td>\n",
       "      <td>Среднее</td>\n",
       "      <td>1</td>\n",
       "      <td>женат / замужем</td>\n",
       "      <td>0</td>\n",
       "      <td>M</td>\n",
       "      <td>сотрудник</td>\n",
       "      <td>0</td>\n",
       "      <td>145885.952297</td>\n",
       "      <td>покупка жилья</td>\n",
       "      <td>0.906273</td>\n",
       "    </tr>\n",
       "    <tr>\n",
       "      <td>3</td>\n",
       "      <td>3</td>\n",
       "      <td>4124.747207</td>\n",
       "      <td>32</td>\n",
       "      <td>среднее</td>\n",
       "      <td>1</td>\n",
       "      <td>женат / замужем</td>\n",
       "      <td>0</td>\n",
       "      <td>M</td>\n",
       "      <td>сотрудник</td>\n",
       "      <td>0</td>\n",
       "      <td>267628.550329</td>\n",
       "      <td>дополнительное образование</td>\n",
       "      <td>0.706292</td>\n",
       "    </tr>\n",
       "    <tr>\n",
       "      <td>4</td>\n",
       "      <td>0</td>\n",
       "      <td>340266.072047</td>\n",
       "      <td>53</td>\n",
       "      <td>среднее</td>\n",
       "      <td>1</td>\n",
       "      <td>гражданский брак</td>\n",
       "      <td>1</td>\n",
       "      <td>F</td>\n",
       "      <td>пенсионер</td>\n",
       "      <td>0</td>\n",
       "      <td>158616.077870</td>\n",
       "      <td>сыграть свадьбу</td>\n",
       "      <td>25.195563</td>\n",
       "    </tr>\n",
       "  </tbody>\n",
       "</table>\n",
       "</div>"
      ],
      "text/plain": [
       "   children  days_employed  dob_years education  education_id  \\\n",
       "0         1    8437.673028         42    высшее             0   \n",
       "1         1    4024.803754         36   среднее             1   \n",
       "2         0    5623.422610         33   Среднее             1   \n",
       "3         3    4124.747207         32   среднее             1   \n",
       "4         0  340266.072047         53   среднее             1   \n",
       "\n",
       "      family_status  family_status_id gender income_type  debt   total_income  \\\n",
       "0   женат / замужем                 0      F   сотрудник     0  253875.639453   \n",
       "1   женат / замужем                 0      F   сотрудник     0  112080.014102   \n",
       "2   женат / замужем                 0      M   сотрудник     0  145885.952297   \n",
       "3   женат / замужем                 0      M   сотрудник     0  267628.550329   \n",
       "4  гражданский брак                 1      F   пенсионер     0  158616.077870   \n",
       "\n",
       "                      purpose  ratio_days_employed  \n",
       "0               покупка жилья             0.889112  \n",
       "1     приобретение автомобиля             0.551343  \n",
       "2               покупка жилья             0.906273  \n",
       "3  дополнительное образование             0.706292  \n",
       "4             сыграть свадьбу            25.195563  "
      ]
     },
     "execution_count": 8,
     "metadata": {},
     "output_type": "execute_result"
    }
   ],
   "source": [
    "data['days_employed'] = data.groupby('income_type')['days_employed'].transform(lambda x: x.fillna(x.mean()*data['dob_years']*365))\n",
    "data['total_income'] = data.groupby('income_type')['total_income'].transform(lambda x: x.fillna(x.mean()))\n",
    "data.head()"
   ]
  },
  {
   "cell_type": "code",
   "execution_count": 9,
   "metadata": {},
   "outputs": [],
   "source": [
    "data = data.drop('ratio_days_employed', axis=1)"
   ]
  },
  {
   "cell_type": "code",
   "execution_count": 10,
   "metadata": {},
   "outputs": [
    {
     "name": "stdout",
     "output_type": "stream",
     "text": [
      "children            0\n",
      "days_employed       0\n",
      "dob_years           0\n",
      "education           0\n",
      "education_id        0\n",
      "family_status       0\n",
      "family_status_id    0\n",
      "gender              0\n",
      "income_type         0\n",
      "debt                0\n",
      "total_income        0\n",
      "purpose             0\n",
      "dtype: int64\n"
     ]
    }
   ],
   "source": [
    "print(data.isna().sum()) # проверяем пропуски"
   ]
  },
  {
   "cell_type": "markdown",
   "metadata": {},
   "source": [
    "**Вывод**"
   ]
  },
  {
   "cell_type": "markdown",
   "metadata": {},
   "source": [
    "С группировали по виду занятости и добавили в пропуски средние значения из каждых групп, на вывод не должно повлеять."
   ]
  },
  {
   "cell_type": "markdown",
   "metadata": {},
   "source": [
    "### Замена типа данных"
   ]
  },
  {
   "cell_type": "code",
   "execution_count": 11,
   "metadata": {},
   "outputs": [
    {
     "data": {
      "text/plain": [
       "array([ 1,  0,  3,  2, -1,  4, 20,  5])"
      ]
     },
     "execution_count": 11,
     "metadata": {},
     "output_type": "execute_result"
    }
   ],
   "source": [
    "data['children'].unique() #Найдено отрицательное число и неоюходимо посмреть кто это с 20ю детьми."
   ]
  },
  {
   "cell_type": "code",
   "execution_count": 12,
   "metadata": {},
   "outputs": [
    {
     "name": "stdout",
     "output_type": "stream",
     "text": [
      "Количество людей с -1 ребенком: 47\n",
      "Количество строк с 20 детьми: 76\n"
     ]
    }
   ],
   "source": [
    "print(\"Количество людей с -1 ребенком:\", data[data['children'] == -1].count()[0])\n",
    "print(\"Количество строк с 20 детьми:\", data[data['children'] == 20].count()[0]) #получается большое кол-во"
   ]
  },
  {
   "cell_type": "code",
   "execution_count": 13,
   "metadata": {},
   "outputs": [],
   "source": [
    "#заменим данные значения\n",
    "data['children'] = data['children'].replace(-1, 1)\n",
    "data['children'] = data['children'].replace(20, 2)"
   ]
  },
  {
   "cell_type": "code",
   "execution_count": 14,
   "metadata": {},
   "outputs": [
    {
     "data": {
      "text/plain": [
       "array([8437.67302776, 4024.80375385, 5623.42261023, ..., 2113.3468877 ,\n",
       "       3112.4817052 , 1984.50758853])"
      ]
     },
     "execution_count": 14,
     "metadata": {},
     "output_type": "execute_result"
    }
   ],
   "source": [
    "data['days_employed'].unique() #"
   ]
  },
  {
   "cell_type": "code",
   "execution_count": 15,
   "metadata": {},
   "outputs": [],
   "source": [
    "data['days_employed'] = data['days_employed'].astype('int') #Приводим к целым числам"
   ]
  },
  {
   "cell_type": "code",
   "execution_count": 16,
   "metadata": {},
   "outputs": [
    {
     "data": {
      "text/plain": [
       "array([42, 36, 33, 32, 53, 27, 43, 50, 35, 41, 40, 65, 54, 56, 26, 48, 24,\n",
       "       21, 57, 67, 28, 63, 62, 47, 34, 68, 25, 31, 30, 20, 49, 37, 45, 61,\n",
       "       64, 44, 52, 46, 23, 38, 39, 51,  0, 59, 29, 60, 55, 58, 71, 22, 73,\n",
       "       66, 69, 19, 72, 70, 74, 75])"
      ]
     },
     "execution_count": 16,
     "metadata": {},
     "output_type": "execute_result"
    }
   ],
   "source": [
    "data['dob_years'].unique()"
   ]
  },
  {
   "cell_type": "code",
   "execution_count": 17,
   "metadata": {},
   "outputs": [
    {
     "data": {
      "text/plain": [
       "array(['высшее', 'среднее', 'Среднее', 'СРЕДНЕЕ', 'ВЫСШЕЕ',\n",
       "       'неоконченное высшее', 'начальное', 'Высшее',\n",
       "       'НЕОКОНЧЕННОЕ ВЫСШЕЕ', 'Неоконченное высшее', 'НАЧАЛЬНОЕ',\n",
       "       'Начальное', 'Ученая степень', 'УЧЕНАЯ СТЕПЕНЬ', 'ученая степень'],\n",
       "      dtype=object)"
      ]
     },
     "execution_count": 17,
     "metadata": {},
     "output_type": "execute_result"
    }
   ],
   "source": [
    "data['education'].unique() # кроме разницы шрифтов и  возможно дубликатов, всё нормально."
   ]
  },
  {
   "cell_type": "code",
   "execution_count": 18,
   "metadata": {},
   "outputs": [],
   "source": [
    "data['education'] = data['education'].str.lower() #приводим к нижнему регистру"
   ]
  },
  {
   "cell_type": "code",
   "execution_count": 19,
   "metadata": {},
   "outputs": [
    {
     "data": {
      "text/html": [
       "<div>\n",
       "<style scoped>\n",
       "    .dataframe tbody tr th:only-of-type {\n",
       "        vertical-align: middle;\n",
       "    }\n",
       "\n",
       "    .dataframe tbody tr th {\n",
       "        vertical-align: top;\n",
       "    }\n",
       "\n",
       "    .dataframe thead th {\n",
       "        text-align: right;\n",
       "    }\n",
       "</style>\n",
       "<table border=\"1\" class=\"dataframe\">\n",
       "  <thead>\n",
       "    <tr style=\"text-align: right;\">\n",
       "      <th></th>\n",
       "      <th>children</th>\n",
       "      <th>days_employed</th>\n",
       "      <th>dob_years</th>\n",
       "      <th>education</th>\n",
       "      <th>education_id</th>\n",
       "      <th>family_status</th>\n",
       "      <th>family_status_id</th>\n",
       "      <th>gender</th>\n",
       "      <th>income_type</th>\n",
       "      <th>debt</th>\n",
       "      <th>total_income</th>\n",
       "      <th>purpose</th>\n",
       "    </tr>\n",
       "  </thead>\n",
       "  <tbody>\n",
       "    <tr>\n",
       "      <td>0</td>\n",
       "      <td>1</td>\n",
       "      <td>8437</td>\n",
       "      <td>42</td>\n",
       "      <td>высшее</td>\n",
       "      <td>0</td>\n",
       "      <td>женат / замужем</td>\n",
       "      <td>0</td>\n",
       "      <td>F</td>\n",
       "      <td>сотрудник</td>\n",
       "      <td>0</td>\n",
       "      <td>253875.639453</td>\n",
       "      <td>покупка жилья</td>\n",
       "    </tr>\n",
       "    <tr>\n",
       "      <td>1</td>\n",
       "      <td>1</td>\n",
       "      <td>4024</td>\n",
       "      <td>36</td>\n",
       "      <td>среднее</td>\n",
       "      <td>1</td>\n",
       "      <td>женат / замужем</td>\n",
       "      <td>0</td>\n",
       "      <td>F</td>\n",
       "      <td>сотрудник</td>\n",
       "      <td>0</td>\n",
       "      <td>112080.014102</td>\n",
       "      <td>приобретение автомобиля</td>\n",
       "    </tr>\n",
       "    <tr>\n",
       "      <td>2</td>\n",
       "      <td>0</td>\n",
       "      <td>5623</td>\n",
       "      <td>33</td>\n",
       "      <td>среднее</td>\n",
       "      <td>1</td>\n",
       "      <td>женат / замужем</td>\n",
       "      <td>0</td>\n",
       "      <td>M</td>\n",
       "      <td>сотрудник</td>\n",
       "      <td>0</td>\n",
       "      <td>145885.952297</td>\n",
       "      <td>покупка жилья</td>\n",
       "    </tr>\n",
       "    <tr>\n",
       "      <td>3</td>\n",
       "      <td>3</td>\n",
       "      <td>4124</td>\n",
       "      <td>32</td>\n",
       "      <td>среднее</td>\n",
       "      <td>1</td>\n",
       "      <td>женат / замужем</td>\n",
       "      <td>0</td>\n",
       "      <td>M</td>\n",
       "      <td>сотрудник</td>\n",
       "      <td>0</td>\n",
       "      <td>267628.550329</td>\n",
       "      <td>дополнительное образование</td>\n",
       "    </tr>\n",
       "    <tr>\n",
       "      <td>4</td>\n",
       "      <td>0</td>\n",
       "      <td>340266</td>\n",
       "      <td>53</td>\n",
       "      <td>среднее</td>\n",
       "      <td>1</td>\n",
       "      <td>гражданский брак</td>\n",
       "      <td>1</td>\n",
       "      <td>F</td>\n",
       "      <td>пенсионер</td>\n",
       "      <td>0</td>\n",
       "      <td>158616.077870</td>\n",
       "      <td>сыграть свадьбу</td>\n",
       "    </tr>\n",
       "    <tr>\n",
       "      <td>5</td>\n",
       "      <td>0</td>\n",
       "      <td>926</td>\n",
       "      <td>27</td>\n",
       "      <td>высшее</td>\n",
       "      <td>0</td>\n",
       "      <td>гражданский брак</td>\n",
       "      <td>1</td>\n",
       "      <td>M</td>\n",
       "      <td>компаньон</td>\n",
       "      <td>0</td>\n",
       "      <td>255763.565419</td>\n",
       "      <td>покупка жилья</td>\n",
       "    </tr>\n",
       "    <tr>\n",
       "      <td>6</td>\n",
       "      <td>0</td>\n",
       "      <td>2879</td>\n",
       "      <td>43</td>\n",
       "      <td>высшее</td>\n",
       "      <td>0</td>\n",
       "      <td>женат / замужем</td>\n",
       "      <td>0</td>\n",
       "      <td>F</td>\n",
       "      <td>компаньон</td>\n",
       "      <td>0</td>\n",
       "      <td>240525.971920</td>\n",
       "      <td>операции с жильем</td>\n",
       "    </tr>\n",
       "    <tr>\n",
       "      <td>7</td>\n",
       "      <td>0</td>\n",
       "      <td>152</td>\n",
       "      <td>50</td>\n",
       "      <td>среднее</td>\n",
       "      <td>1</td>\n",
       "      <td>женат / замужем</td>\n",
       "      <td>0</td>\n",
       "      <td>M</td>\n",
       "      <td>сотрудник</td>\n",
       "      <td>0</td>\n",
       "      <td>135823.934197</td>\n",
       "      <td>образование</td>\n",
       "    </tr>\n",
       "    <tr>\n",
       "      <td>8</td>\n",
       "      <td>2</td>\n",
       "      <td>6929</td>\n",
       "      <td>35</td>\n",
       "      <td>высшее</td>\n",
       "      <td>0</td>\n",
       "      <td>гражданский брак</td>\n",
       "      <td>1</td>\n",
       "      <td>F</td>\n",
       "      <td>сотрудник</td>\n",
       "      <td>0</td>\n",
       "      <td>95856.832424</td>\n",
       "      <td>на проведение свадьбы</td>\n",
       "    </tr>\n",
       "    <tr>\n",
       "      <td>9</td>\n",
       "      <td>0</td>\n",
       "      <td>2188</td>\n",
       "      <td>41</td>\n",
       "      <td>среднее</td>\n",
       "      <td>1</td>\n",
       "      <td>женат / замужем</td>\n",
       "      <td>0</td>\n",
       "      <td>M</td>\n",
       "      <td>сотрудник</td>\n",
       "      <td>0</td>\n",
       "      <td>144425.938277</td>\n",
       "      <td>покупка жилья для семьи</td>\n",
       "    </tr>\n",
       "  </tbody>\n",
       "</table>\n",
       "</div>"
      ],
      "text/plain": [
       "   children  days_employed  dob_years education  education_id  \\\n",
       "0         1           8437         42    высшее             0   \n",
       "1         1           4024         36   среднее             1   \n",
       "2         0           5623         33   среднее             1   \n",
       "3         3           4124         32   среднее             1   \n",
       "4         0         340266         53   среднее             1   \n",
       "5         0            926         27    высшее             0   \n",
       "6         0           2879         43    высшее             0   \n",
       "7         0            152         50   среднее             1   \n",
       "8         2           6929         35    высшее             0   \n",
       "9         0           2188         41   среднее             1   \n",
       "\n",
       "      family_status  family_status_id gender income_type  debt   total_income  \\\n",
       "0   женат / замужем                 0      F   сотрудник     0  253875.639453   \n",
       "1   женат / замужем                 0      F   сотрудник     0  112080.014102   \n",
       "2   женат / замужем                 0      M   сотрудник     0  145885.952297   \n",
       "3   женат / замужем                 0      M   сотрудник     0  267628.550329   \n",
       "4  гражданский брак                 1      F   пенсионер     0  158616.077870   \n",
       "5  гражданский брак                 1      M   компаньон     0  255763.565419   \n",
       "6   женат / замужем                 0      F   компаньон     0  240525.971920   \n",
       "7   женат / замужем                 0      M   сотрудник     0  135823.934197   \n",
       "8  гражданский брак                 1      F   сотрудник     0   95856.832424   \n",
       "9   женат / замужем                 0      M   сотрудник     0  144425.938277   \n",
       "\n",
       "                      purpose  \n",
       "0               покупка жилья  \n",
       "1     приобретение автомобиля  \n",
       "2               покупка жилья  \n",
       "3  дополнительное образование  \n",
       "4             сыграть свадьбу  \n",
       "5               покупка жилья  \n",
       "6           операции с жильем  \n",
       "7                 образование  \n",
       "8       на проведение свадьбы  \n",
       "9     покупка жилья для семьи  "
      ]
     },
     "execution_count": 19,
     "metadata": {},
     "output_type": "execute_result"
    }
   ],
   "source": [
    "data.head(10) #проверка"
   ]
  },
  {
   "cell_type": "code",
   "execution_count": 20,
   "metadata": {},
   "outputs": [
    {
     "data": {
      "text/plain": [
       "array([0, 1, 2, 3, 4])"
      ]
     },
     "execution_count": 20,
     "metadata": {},
     "output_type": "execute_result"
    }
   ],
   "source": [
    "data['education_id'].unique() "
   ]
  },
  {
   "cell_type": "code",
   "execution_count": 21,
   "metadata": {},
   "outputs": [
    {
     "data": {
      "text/plain": [
       "array(['женат / замужем', 'гражданский брак', 'вдовец / вдова',\n",
       "       'в разводе', 'Не женат / не замужем'], dtype=object)"
      ]
     },
     "execution_count": 21,
     "metadata": {},
     "output_type": "execute_result"
    }
   ],
   "source": [
    "data['family_status'].unique() # дубликаты"
   ]
  },
  {
   "cell_type": "code",
   "execution_count": 22,
   "metadata": {},
   "outputs": [
    {
     "data": {
      "text/plain": [
       "array(['F', 'M', 'XNA'], dtype=object)"
      ]
     },
     "execution_count": 22,
     "metadata": {},
     "output_type": "execute_result"
    }
   ],
   "source": [
    "data['gender'].unique() # что за 'XNA'"
   ]
  },
  {
   "cell_type": "code",
   "execution_count": 23,
   "metadata": {},
   "outputs": [
    {
     "data": {
      "text/plain": [
       "array(['сотрудник', 'пенсионер', 'компаньон', 'госслужащий',\n",
       "       'безработный', 'предприниматель', 'студент', 'в декрете'],\n",
       "      dtype=object)"
      ]
     },
     "execution_count": 23,
     "metadata": {},
     "output_type": "execute_result"
    }
   ],
   "source": [
    "data['income_type'].unique() #хоть где-то всё хорошо"
   ]
  },
  {
   "cell_type": "code",
   "execution_count": 24,
   "metadata": {},
   "outputs": [
    {
     "data": {
      "text/plain": [
       "array([253875.6394526 , 112080.01410244, 145885.95229686, ...,\n",
       "        89672.56115303, 244093.05050043,  82047.41889948])"
      ]
     },
     "execution_count": 24,
     "metadata": {},
     "output_type": "execute_result"
    }
   ],
   "source": [
    "data['total_income'].unique() "
   ]
  },
  {
   "cell_type": "code",
   "execution_count": 25,
   "metadata": {},
   "outputs": [],
   "source": [
    "data['total_income'] = data['total_income'].astype('int') #Приводим к целым числам"
   ]
  },
  {
   "cell_type": "code",
   "execution_count": 26,
   "metadata": {},
   "outputs": [
    {
     "data": {
      "text/plain": [
       "array(['покупка жилья', 'приобретение автомобиля',\n",
       "       'дополнительное образование', 'сыграть свадьбу',\n",
       "       'операции с жильем', 'образование', 'на проведение свадьбы',\n",
       "       'покупка жилья для семьи', 'покупка недвижимости',\n",
       "       'покупка коммерческой недвижимости', 'покупка жилой недвижимости',\n",
       "       'строительство собственной недвижимости', 'недвижимость',\n",
       "       'строительство недвижимости', 'на покупку подержанного автомобиля',\n",
       "       'на покупку своего автомобиля',\n",
       "       'операции с коммерческой недвижимостью',\n",
       "       'строительство жилой недвижимости', 'жилье',\n",
       "       'операции со своей недвижимостью', 'автомобили',\n",
       "       'заняться образованием', 'сделка с подержанным автомобилем',\n",
       "       'получение образования', 'автомобиль', 'свадьба',\n",
       "       'получение дополнительного образования', 'покупка своего жилья',\n",
       "       'операции с недвижимостью', 'получение высшего образования',\n",
       "       'свой автомобиль', 'сделка с автомобилем',\n",
       "       'профильное образование', 'высшее образование',\n",
       "       'покупка жилья для сдачи', 'на покупку автомобиля', 'ремонт жилью',\n",
       "       'заняться высшим образованием'], dtype=object)"
      ]
     },
     "execution_count": 26,
     "metadata": {},
     "output_type": "execute_result"
    }
   ],
   "source": [
    "data['purpose'].unique()  #дубликаты..."
   ]
  },
  {
   "cell_type": "code",
   "execution_count": 27,
   "metadata": {},
   "outputs": [
    {
     "name": "stdout",
     "output_type": "stream",
     "text": [
      "<class 'pandas.core.frame.DataFrame'>\n",
      "RangeIndex: 21525 entries, 0 to 21524\n",
      "Data columns (total 12 columns):\n",
      "children            21525 non-null int64\n",
      "days_employed       21525 non-null int64\n",
      "dob_years           21525 non-null int64\n",
      "education           21525 non-null object\n",
      "education_id        21525 non-null int64\n",
      "family_status       21525 non-null object\n",
      "family_status_id    21525 non-null int64\n",
      "gender              21525 non-null object\n",
      "income_type         21525 non-null object\n",
      "debt                21525 non-null int64\n",
      "total_income        21525 non-null int64\n",
      "purpose             21525 non-null object\n",
      "dtypes: int64(7), object(5)\n",
      "memory usage: 2.0+ MB\n"
     ]
    }
   ],
   "source": [
    "data.info() #проверка"
   ]
  },
  {
   "cell_type": "markdown",
   "metadata": {},
   "source": [
    "**Вывод**"
   ]
  },
  {
   "cell_type": "markdown",
   "metadata": {},
   "source": [
    "Пропуски убрали, к целым числам привели. Думаю таблица практически готова, осталось убрать дубликаты и к виду 'хороших манер'"
   ]
  },
  {
   "cell_type": "markdown",
   "metadata": {},
   "source": [
    "### Обработка дубликатов"
   ]
  },
  {
   "cell_type": "code",
   "execution_count": 28,
   "metadata": {},
   "outputs": [
    {
     "data": {
      "text/plain": [
       "71"
      ]
     },
     "execution_count": 28,
     "metadata": {},
     "output_type": "execute_result"
    }
   ],
   "source": [
    "data.duplicated().sum() # подсчёт явных дубликатов"
   ]
  },
  {
   "cell_type": "code",
   "execution_count": 29,
   "metadata": {},
   "outputs": [],
   "source": [
    "data = data.drop_duplicates().reset_index(drop=True) # удаление явных дубликатов"
   ]
  },
  {
   "cell_type": "code",
   "execution_count": 30,
   "metadata": {
    "scrolled": true
   },
   "outputs": [
    {
     "data": {
      "text/plain": [
       "0"
      ]
     },
     "execution_count": 30,
     "metadata": {},
     "output_type": "execute_result"
    }
   ],
   "source": [
    "data.duplicated().sum() #проверка"
   ]
  },
  {
   "cell_type": "markdown",
   "metadata": {},
   "source": [
    "**Вывод**"
   ]
  },
  {
   "cell_type": "markdown",
   "metadata": {},
   "source": [
    "От явных избавились довольно легко, но в переди еще много работы. Поехали!"
   ]
  },
  {
   "cell_type": "markdown",
   "metadata": {},
   "source": [
    "### Лемматизация"
   ]
  },
  {
   "cell_type": "code",
   "execution_count": 31,
   "metadata": {},
   "outputs": [
    {
     "data": {
      "text/plain": [
       "Counter({'покупка   жилье \\n': 646,\n",
       "         'приобретение   автомобиль \\n': 461,\n",
       "         'дополнительный   образование \\n': 460,\n",
       "         'сыграть   свадьба \\n': 765,\n",
       "         'операция   с   жилье \\n': 652,\n",
       "         'образование \\n': 447,\n",
       "         'на   проведение   свадьба \\n': 768,\n",
       "         'покупка   жилье   для   семья \\n': 638,\n",
       "         'покупка   недвижимость \\n': 621,\n",
       "         'покупка   коммерческий   недвижимость \\n': 661,\n",
       "         'покупка   жилой   недвижимость \\n': 606,\n",
       "         'строительство   собственный   недвижимость \\n': 635,\n",
       "         'недвижимость \\n': 633,\n",
       "         'строительство   недвижимость \\n': 619,\n",
       "         'на   покупка   подержать   автомобиль \\n': 478,\n",
       "         'на   покупка   свой   автомобиль \\n': 505,\n",
       "         'операция   с   коммерческий   недвижимость \\n': 650,\n",
       "         'строительство   жилой   недвижимость \\n': 624,\n",
       "         'жилье \\n': 646,\n",
       "         'операция   со   свой   недвижимость \\n': 627,\n",
       "         'автомобиль \\n': 972,\n",
       "         'заниматься   образование \\n': 408,\n",
       "         'сделка   с   подержанный   автомобиль \\n': 486,\n",
       "         'получение   образование \\n': 442,\n",
       "         'свадьба \\n': 791,\n",
       "         'получение   дополнительный   образование \\n': 446,\n",
       "         'покупка   свой   жилье \\n': 620,\n",
       "         'операция   с   недвижимость \\n': 675,\n",
       "         'получение   высокий   образование \\n': 426,\n",
       "         'свой   автомобиль \\n': 478,\n",
       "         'сделка   с   автомобиль \\n': 455,\n",
       "         'профильный   образование \\n': 436,\n",
       "         'высокий   образование \\n': 452,\n",
       "         'покупка   жилье   для   сдача \\n': 651,\n",
       "         'на   покупка   автомобиль \\n': 471,\n",
       "         'ремонт   жилье \\n': 607,\n",
       "         'заниматься   высокий   образование \\n': 496})"
      ]
     },
     "execution_count": 31,
     "metadata": {},
     "output_type": "execute_result"
    }
   ],
   "source": [
    "from pymystem3 import Mystem #Считает леммы\n",
    "m=Mystem()\n",
    "lemma = []\n",
    "for i in data['purpose']:\n",
    "    lemmass = ' '.join(m.lemmatize(i))\n",
    "    lemma.append(lemmass)\n",
    "from collections import Counter\n",
    "Counter(lemma)\n",
    "#данная задача далась мне очень сложно, путем ручного подсчёта и просмотра у к коллег выделил: автомобиль, образование, жилье, недвижимость, свадьба  "
   ]
  },
  {
   "cell_type": "code",
   "execution_count": 32,
   "metadata": {},
   "outputs": [
    {
     "data": {
      "text/html": [
       "<div>\n",
       "<style scoped>\n",
       "    .dataframe tbody tr th:only-of-type {\n",
       "        vertical-align: middle;\n",
       "    }\n",
       "\n",
       "    .dataframe tbody tr th {\n",
       "        vertical-align: top;\n",
       "    }\n",
       "\n",
       "    .dataframe thead th {\n",
       "        text-align: right;\n",
       "    }\n",
       "</style>\n",
       "<table border=\"1\" class=\"dataframe\">\n",
       "  <thead>\n",
       "    <tr style=\"text-align: right;\">\n",
       "      <th></th>\n",
       "      <th>children</th>\n",
       "      <th>days_employed</th>\n",
       "      <th>dob_years</th>\n",
       "      <th>education</th>\n",
       "      <th>education_id</th>\n",
       "      <th>family_status</th>\n",
       "      <th>family_status_id</th>\n",
       "      <th>gender</th>\n",
       "      <th>income_type</th>\n",
       "      <th>debt</th>\n",
       "      <th>total_income</th>\n",
       "      <th>purpose</th>\n",
       "      <th>group_purpose</th>\n",
       "    </tr>\n",
       "  </thead>\n",
       "  <tbody>\n",
       "    <tr>\n",
       "      <td>0</td>\n",
       "      <td>1</td>\n",
       "      <td>8437</td>\n",
       "      <td>42</td>\n",
       "      <td>высшее</td>\n",
       "      <td>0</td>\n",
       "      <td>женат / замужем</td>\n",
       "      <td>0</td>\n",
       "      <td>F</td>\n",
       "      <td>сотрудник</td>\n",
       "      <td>0</td>\n",
       "      <td>253875</td>\n",
       "      <td>покупка жилья</td>\n",
       "      <td>покупка жилья/недвижимости</td>\n",
       "    </tr>\n",
       "    <tr>\n",
       "      <td>1</td>\n",
       "      <td>1</td>\n",
       "      <td>4024</td>\n",
       "      <td>36</td>\n",
       "      <td>среднее</td>\n",
       "      <td>1</td>\n",
       "      <td>женат / замужем</td>\n",
       "      <td>0</td>\n",
       "      <td>F</td>\n",
       "      <td>сотрудник</td>\n",
       "      <td>0</td>\n",
       "      <td>112080</td>\n",
       "      <td>приобретение автомобиля</td>\n",
       "      <td>покупка автомобиля</td>\n",
       "    </tr>\n",
       "    <tr>\n",
       "      <td>2</td>\n",
       "      <td>0</td>\n",
       "      <td>5623</td>\n",
       "      <td>33</td>\n",
       "      <td>среднее</td>\n",
       "      <td>1</td>\n",
       "      <td>женат / замужем</td>\n",
       "      <td>0</td>\n",
       "      <td>M</td>\n",
       "      <td>сотрудник</td>\n",
       "      <td>0</td>\n",
       "      <td>145885</td>\n",
       "      <td>покупка жилья</td>\n",
       "      <td>покупка жилья/недвижимости</td>\n",
       "    </tr>\n",
       "    <tr>\n",
       "      <td>3</td>\n",
       "      <td>3</td>\n",
       "      <td>4124</td>\n",
       "      <td>32</td>\n",
       "      <td>среднее</td>\n",
       "      <td>1</td>\n",
       "      <td>женат / замужем</td>\n",
       "      <td>0</td>\n",
       "      <td>M</td>\n",
       "      <td>сотрудник</td>\n",
       "      <td>0</td>\n",
       "      <td>267628</td>\n",
       "      <td>дополнительное образование</td>\n",
       "      <td>получение образования</td>\n",
       "    </tr>\n",
       "    <tr>\n",
       "      <td>4</td>\n",
       "      <td>0</td>\n",
       "      <td>340266</td>\n",
       "      <td>53</td>\n",
       "      <td>среднее</td>\n",
       "      <td>1</td>\n",
       "      <td>гражданский брак</td>\n",
       "      <td>1</td>\n",
       "      <td>F</td>\n",
       "      <td>пенсионер</td>\n",
       "      <td>0</td>\n",
       "      <td>158616</td>\n",
       "      <td>сыграть свадьбу</td>\n",
       "      <td>свадьба</td>\n",
       "    </tr>\n",
       "    <tr>\n",
       "      <td>5</td>\n",
       "      <td>0</td>\n",
       "      <td>926</td>\n",
       "      <td>27</td>\n",
       "      <td>высшее</td>\n",
       "      <td>0</td>\n",
       "      <td>гражданский брак</td>\n",
       "      <td>1</td>\n",
       "      <td>M</td>\n",
       "      <td>компаньон</td>\n",
       "      <td>0</td>\n",
       "      <td>255763</td>\n",
       "      <td>покупка жилья</td>\n",
       "      <td>покупка жилья/недвижимости</td>\n",
       "    </tr>\n",
       "    <tr>\n",
       "      <td>6</td>\n",
       "      <td>0</td>\n",
       "      <td>2879</td>\n",
       "      <td>43</td>\n",
       "      <td>высшее</td>\n",
       "      <td>0</td>\n",
       "      <td>женат / замужем</td>\n",
       "      <td>0</td>\n",
       "      <td>F</td>\n",
       "      <td>компаньон</td>\n",
       "      <td>0</td>\n",
       "      <td>240525</td>\n",
       "      <td>операции с жильем</td>\n",
       "      <td>покупка жилья/недвижимости</td>\n",
       "    </tr>\n",
       "    <tr>\n",
       "      <td>7</td>\n",
       "      <td>0</td>\n",
       "      <td>152</td>\n",
       "      <td>50</td>\n",
       "      <td>среднее</td>\n",
       "      <td>1</td>\n",
       "      <td>женат / замужем</td>\n",
       "      <td>0</td>\n",
       "      <td>M</td>\n",
       "      <td>сотрудник</td>\n",
       "      <td>0</td>\n",
       "      <td>135823</td>\n",
       "      <td>образование</td>\n",
       "      <td>получение образования</td>\n",
       "    </tr>\n",
       "    <tr>\n",
       "      <td>8</td>\n",
       "      <td>2</td>\n",
       "      <td>6929</td>\n",
       "      <td>35</td>\n",
       "      <td>высшее</td>\n",
       "      <td>0</td>\n",
       "      <td>гражданский брак</td>\n",
       "      <td>1</td>\n",
       "      <td>F</td>\n",
       "      <td>сотрудник</td>\n",
       "      <td>0</td>\n",
       "      <td>95856</td>\n",
       "      <td>на проведение свадьбы</td>\n",
       "      <td>свадьба</td>\n",
       "    </tr>\n",
       "    <tr>\n",
       "      <td>9</td>\n",
       "      <td>0</td>\n",
       "      <td>2188</td>\n",
       "      <td>41</td>\n",
       "      <td>среднее</td>\n",
       "      <td>1</td>\n",
       "      <td>женат / замужем</td>\n",
       "      <td>0</td>\n",
       "      <td>M</td>\n",
       "      <td>сотрудник</td>\n",
       "      <td>0</td>\n",
       "      <td>144425</td>\n",
       "      <td>покупка жилья для семьи</td>\n",
       "      <td>покупка жилья/недвижимости</td>\n",
       "    </tr>\n",
       "  </tbody>\n",
       "</table>\n",
       "</div>"
      ],
      "text/plain": [
       "   children  days_employed  dob_years education  education_id  \\\n",
       "0         1           8437         42    высшее             0   \n",
       "1         1           4024         36   среднее             1   \n",
       "2         0           5623         33   среднее             1   \n",
       "3         3           4124         32   среднее             1   \n",
       "4         0         340266         53   среднее             1   \n",
       "5         0            926         27    высшее             0   \n",
       "6         0           2879         43    высшее             0   \n",
       "7         0            152         50   среднее             1   \n",
       "8         2           6929         35    высшее             0   \n",
       "9         0           2188         41   среднее             1   \n",
       "\n",
       "      family_status  family_status_id gender income_type  debt  total_income  \\\n",
       "0   женат / замужем                 0      F   сотрудник     0        253875   \n",
       "1   женат / замужем                 0      F   сотрудник     0        112080   \n",
       "2   женат / замужем                 0      M   сотрудник     0        145885   \n",
       "3   женат / замужем                 0      M   сотрудник     0        267628   \n",
       "4  гражданский брак                 1      F   пенсионер     0        158616   \n",
       "5  гражданский брак                 1      M   компаньон     0        255763   \n",
       "6   женат / замужем                 0      F   компаньон     0        240525   \n",
       "7   женат / замужем                 0      M   сотрудник     0        135823   \n",
       "8  гражданский брак                 1      F   сотрудник     0         95856   \n",
       "9   женат / замужем                 0      M   сотрудник     0        144425   \n",
       "\n",
       "                      purpose               group_purpose  \n",
       "0               покупка жилья  покупка жилья/недвижимости  \n",
       "1     приобретение автомобиля          покупка автомобиля  \n",
       "2               покупка жилья  покупка жилья/недвижимости  \n",
       "3  дополнительное образование       получение образования  \n",
       "4             сыграть свадьбу                     свадьба  \n",
       "5               покупка жилья  покупка жилья/недвижимости  \n",
       "6           операции с жильем  покупка жилья/недвижимости  \n",
       "7                 образование       получение образования  \n",
       "8       на проведение свадьбы                     свадьба  \n",
       "9     покупка жилья для семьи  покупка жилья/недвижимости  "
      ]
     },
     "execution_count": 32,
     "metadata": {},
     "output_type": "execute_result"
    }
   ],
   "source": [
    "def filter_lem(row):\n",
    "    lemmas = m.lemmatize(row['purpose'])\n",
    "    if 'автомобиль' in lemmas:\n",
    "        return 'покупка автомобиля'\n",
    "    if 'образование' in lemmas:\n",
    "        return 'получение образования'\n",
    "    if 'жилье' in lemmas:\n",
    "        return 'покупка жилья/недвижимости'\n",
    "    if 'недвижимость' in lemmas:\n",
    "        return 'покупка жилья/недвижимости'\n",
    "    if 'свадьба' in lemmas:\n",
    "        return 'свадьба'\n",
    "    else:\n",
    "        return 'прочее'\n",
    "data['group_purpose'] = data.apply(filter_lem, axis=1)\n",
    "data.head(10)"
   ]
  },
  {
   "cell_type": "markdown",
   "metadata": {},
   "source": [
    "**Вывод**"
   ]
  },
  {
   "cell_type": "markdown",
   "metadata": {},
   "source": [
    "Сгруппировали для дальнейшей обработки."
   ]
  },
  {
   "cell_type": "markdown",
   "metadata": {},
   "source": [
    "### Категоризация данных"
   ]
  },
  {
   "cell_type": "code",
   "execution_count": 33,
   "metadata": {},
   "outputs": [
    {
     "data": {
      "text/html": [
       "<div>\n",
       "<style scoped>\n",
       "    .dataframe tbody tr th:only-of-type {\n",
       "        vertical-align: middle;\n",
       "    }\n",
       "\n",
       "    .dataframe tbody tr th {\n",
       "        vertical-align: top;\n",
       "    }\n",
       "\n",
       "    .dataframe thead th {\n",
       "        text-align: right;\n",
       "    }\n",
       "</style>\n",
       "<table border=\"1\" class=\"dataframe\">\n",
       "  <thead>\n",
       "    <tr style=\"text-align: right;\">\n",
       "      <th></th>\n",
       "      <th>family_status_id</th>\n",
       "      <th>family_status</th>\n",
       "    </tr>\n",
       "  </thead>\n",
       "  <tbody>\n",
       "    <tr>\n",
       "      <td>0</td>\n",
       "      <td>0</td>\n",
       "      <td>женат / замужем</td>\n",
       "    </tr>\n",
       "    <tr>\n",
       "      <td>1</td>\n",
       "      <td>1</td>\n",
       "      <td>гражданский брак</td>\n",
       "    </tr>\n",
       "    <tr>\n",
       "      <td>2</td>\n",
       "      <td>2</td>\n",
       "      <td>вдовец / вдова</td>\n",
       "    </tr>\n",
       "    <tr>\n",
       "      <td>3</td>\n",
       "      <td>3</td>\n",
       "      <td>в разводе</td>\n",
       "    </tr>\n",
       "    <tr>\n",
       "      <td>4</td>\n",
       "      <td>4</td>\n",
       "      <td>Не женат / не замужем</td>\n",
       "    </tr>\n",
       "  </tbody>\n",
       "</table>\n",
       "</div>"
      ],
      "text/plain": [
       "   family_status_id          family_status\n",
       "0                 0        женат / замужем\n",
       "1                 1       гражданский брак\n",
       "2                 2         вдовец / вдова\n",
       "3                 3              в разводе\n",
       "4                 4  Не женат / не замужем"
      ]
     },
     "execution_count": 33,
     "metadata": {},
     "output_type": "execute_result"
    }
   ],
   "source": [
    "family_dict = data[['family_status_id', 'family_status']] #делаем категоризацию по family_status_id \n",
    "family_dict = family_dict.drop_duplicates().reset_index(drop=True)\n",
    "family_dict.sort_values(by ='family_status_id')"
   ]
  },
  {
   "cell_type": "code",
   "execution_count": 34,
   "metadata": {},
   "outputs": [
    {
     "data": {
      "text/html": [
       "<div>\n",
       "<style scoped>\n",
       "    .dataframe tbody tr th:only-of-type {\n",
       "        vertical-align: middle;\n",
       "    }\n",
       "\n",
       "    .dataframe tbody tr th {\n",
       "        vertical-align: top;\n",
       "    }\n",
       "\n",
       "    .dataframe thead th {\n",
       "        text-align: right;\n",
       "    }\n",
       "</style>\n",
       "<table border=\"1\" class=\"dataframe\">\n",
       "  <thead>\n",
       "    <tr style=\"text-align: right;\">\n",
       "      <th></th>\n",
       "      <th>education_id</th>\n",
       "      <th>education</th>\n",
       "    </tr>\n",
       "  </thead>\n",
       "  <tbody>\n",
       "    <tr>\n",
       "      <td>0</td>\n",
       "      <td>0</td>\n",
       "      <td>высшее</td>\n",
       "    </tr>\n",
       "    <tr>\n",
       "      <td>1</td>\n",
       "      <td>1</td>\n",
       "      <td>среднее</td>\n",
       "    </tr>\n",
       "    <tr>\n",
       "      <td>2</td>\n",
       "      <td>2</td>\n",
       "      <td>неоконченное высшее</td>\n",
       "    </tr>\n",
       "    <tr>\n",
       "      <td>3</td>\n",
       "      <td>3</td>\n",
       "      <td>начальное</td>\n",
       "    </tr>\n",
       "    <tr>\n",
       "      <td>4</td>\n",
       "      <td>4</td>\n",
       "      <td>ученая степень</td>\n",
       "    </tr>\n",
       "  </tbody>\n",
       "</table>\n",
       "</div>"
      ],
      "text/plain": [
       "   education_id            education\n",
       "0             0               высшее\n",
       "1             1              среднее\n",
       "2             2  неоконченное высшее\n",
       "3             3            начальное\n",
       "4             4       ученая степень"
      ]
     },
     "execution_count": 34,
     "metadata": {},
     "output_type": "execute_result"
    }
   ],
   "source": [
    "education_dict = data[['education_id', 'education']] #делаем категоризацию по education_id \n",
    "education_dict = education_dict.drop_duplicates().reset_index(drop=True)\n",
    "education_dict.sort_values(by ='education_id')"
   ]
  },
  {
   "cell_type": "code",
   "execution_count": 35,
   "metadata": {},
   "outputs": [],
   "source": [
    "def salary_cat(row):\n",
    "    if row['total_income'] <= 50000:\n",
    "        return 'низкий доход'\n",
    "    elif 50000 < row['total_income'] <= 120000:\n",
    "        return 'средний доход'\n",
    "    elif 120000 < row['total_income'] < 1000000:\n",
    "        return 'зажиточный'\n",
    "    else:\n",
    "        return 'зачем тебе кредит' #категоризировали по уровню дохода\n",
    "\n",
    "    \n",
    "def days_employed_cat(row):\n",
    "    if row['days_employed'] <= 3652:\n",
    "        return 'стаж до 10 лет'\n",
    "    elif 3652 < row['days_employed'] <= 6904:\n",
    "        return 'стаж 10-30 лет'\n",
    "    else:\n",
    "        return 'стаж более 30 лет' #категоризировали по стажу\n",
    "\n",
    "\n",
    "def dob_years_cat(row):\n",
    "    if row['dob_years'] < 30:\n",
    "        return 'до 30 лет'\n",
    "    elif 30 <= row['dob_years'] < 45:\n",
    "        return '30-45 лет'\n",
    "    elif 45 <= row['dob_years'] < 65:\n",
    "        return '45-65 лет'\n",
    "    else:\n",
    "        return 'старше 65 лет' #категоризировали по возрасту\n"
   ]
  },
  {
   "cell_type": "code",
   "execution_count": 36,
   "metadata": {},
   "outputs": [],
   "source": [
    "data['salary_cat'] = data.apply(salary_cat, axis=1)\n",
    "data['days_employed_cat'] = data.apply(days_employed_cat, axis=1)\n",
    "data['dob_years_cat'] = data.apply(dob_years_cat, axis=1)"
   ]
  },
  {
   "cell_type": "code",
   "execution_count": 37,
   "metadata": {},
   "outputs": [
    {
     "data": {
      "text/html": [
       "<div>\n",
       "<style scoped>\n",
       "    .dataframe tbody tr th:only-of-type {\n",
       "        vertical-align: middle;\n",
       "    }\n",
       "\n",
       "    .dataframe tbody tr th {\n",
       "        vertical-align: top;\n",
       "    }\n",
       "\n",
       "    .dataframe thead th {\n",
       "        text-align: right;\n",
       "    }\n",
       "</style>\n",
       "<table border=\"1\" class=\"dataframe\">\n",
       "  <thead>\n",
       "    <tr style=\"text-align: right;\">\n",
       "      <th></th>\n",
       "      <th>children</th>\n",
       "      <th>days_employed</th>\n",
       "      <th>dob_years</th>\n",
       "      <th>education</th>\n",
       "      <th>education_id</th>\n",
       "      <th>family_status</th>\n",
       "      <th>family_status_id</th>\n",
       "      <th>gender</th>\n",
       "      <th>income_type</th>\n",
       "      <th>debt</th>\n",
       "      <th>total_income</th>\n",
       "      <th>purpose</th>\n",
       "      <th>group_purpose</th>\n",
       "      <th>salary_cat</th>\n",
       "      <th>days_employed_cat</th>\n",
       "      <th>dob_years_cat</th>\n",
       "    </tr>\n",
       "  </thead>\n",
       "  <tbody>\n",
       "    <tr>\n",
       "      <td>0</td>\n",
       "      <td>1</td>\n",
       "      <td>8437</td>\n",
       "      <td>42</td>\n",
       "      <td>высшее</td>\n",
       "      <td>0</td>\n",
       "      <td>женат / замужем</td>\n",
       "      <td>0</td>\n",
       "      <td>F</td>\n",
       "      <td>сотрудник</td>\n",
       "      <td>0</td>\n",
       "      <td>253875</td>\n",
       "      <td>покупка жилья</td>\n",
       "      <td>покупка жилья/недвижимости</td>\n",
       "      <td>зажиточный</td>\n",
       "      <td>стаж более 30 лет</td>\n",
       "      <td>30-45 лет</td>\n",
       "    </tr>\n",
       "    <tr>\n",
       "      <td>1</td>\n",
       "      <td>1</td>\n",
       "      <td>4024</td>\n",
       "      <td>36</td>\n",
       "      <td>среднее</td>\n",
       "      <td>1</td>\n",
       "      <td>женат / замужем</td>\n",
       "      <td>0</td>\n",
       "      <td>F</td>\n",
       "      <td>сотрудник</td>\n",
       "      <td>0</td>\n",
       "      <td>112080</td>\n",
       "      <td>приобретение автомобиля</td>\n",
       "      <td>покупка автомобиля</td>\n",
       "      <td>средний доход</td>\n",
       "      <td>стаж 10-30 лет</td>\n",
       "      <td>30-45 лет</td>\n",
       "    </tr>\n",
       "    <tr>\n",
       "      <td>2</td>\n",
       "      <td>0</td>\n",
       "      <td>5623</td>\n",
       "      <td>33</td>\n",
       "      <td>среднее</td>\n",
       "      <td>1</td>\n",
       "      <td>женат / замужем</td>\n",
       "      <td>0</td>\n",
       "      <td>M</td>\n",
       "      <td>сотрудник</td>\n",
       "      <td>0</td>\n",
       "      <td>145885</td>\n",
       "      <td>покупка жилья</td>\n",
       "      <td>покупка жилья/недвижимости</td>\n",
       "      <td>зажиточный</td>\n",
       "      <td>стаж 10-30 лет</td>\n",
       "      <td>30-45 лет</td>\n",
       "    </tr>\n",
       "    <tr>\n",
       "      <td>3</td>\n",
       "      <td>3</td>\n",
       "      <td>4124</td>\n",
       "      <td>32</td>\n",
       "      <td>среднее</td>\n",
       "      <td>1</td>\n",
       "      <td>женат / замужем</td>\n",
       "      <td>0</td>\n",
       "      <td>M</td>\n",
       "      <td>сотрудник</td>\n",
       "      <td>0</td>\n",
       "      <td>267628</td>\n",
       "      <td>дополнительное образование</td>\n",
       "      <td>получение образования</td>\n",
       "      <td>зажиточный</td>\n",
       "      <td>стаж 10-30 лет</td>\n",
       "      <td>30-45 лет</td>\n",
       "    </tr>\n",
       "    <tr>\n",
       "      <td>4</td>\n",
       "      <td>0</td>\n",
       "      <td>340266</td>\n",
       "      <td>53</td>\n",
       "      <td>среднее</td>\n",
       "      <td>1</td>\n",
       "      <td>гражданский брак</td>\n",
       "      <td>1</td>\n",
       "      <td>F</td>\n",
       "      <td>пенсионер</td>\n",
       "      <td>0</td>\n",
       "      <td>158616</td>\n",
       "      <td>сыграть свадьбу</td>\n",
       "      <td>свадьба</td>\n",
       "      <td>зажиточный</td>\n",
       "      <td>стаж более 30 лет</td>\n",
       "      <td>45-65 лет</td>\n",
       "    </tr>\n",
       "    <tr>\n",
       "      <td>5</td>\n",
       "      <td>0</td>\n",
       "      <td>926</td>\n",
       "      <td>27</td>\n",
       "      <td>высшее</td>\n",
       "      <td>0</td>\n",
       "      <td>гражданский брак</td>\n",
       "      <td>1</td>\n",
       "      <td>M</td>\n",
       "      <td>компаньон</td>\n",
       "      <td>0</td>\n",
       "      <td>255763</td>\n",
       "      <td>покупка жилья</td>\n",
       "      <td>покупка жилья/недвижимости</td>\n",
       "      <td>зажиточный</td>\n",
       "      <td>стаж до 10 лет</td>\n",
       "      <td>до 30 лет</td>\n",
       "    </tr>\n",
       "    <tr>\n",
       "      <td>6</td>\n",
       "      <td>0</td>\n",
       "      <td>2879</td>\n",
       "      <td>43</td>\n",
       "      <td>высшее</td>\n",
       "      <td>0</td>\n",
       "      <td>женат / замужем</td>\n",
       "      <td>0</td>\n",
       "      <td>F</td>\n",
       "      <td>компаньон</td>\n",
       "      <td>0</td>\n",
       "      <td>240525</td>\n",
       "      <td>операции с жильем</td>\n",
       "      <td>покупка жилья/недвижимости</td>\n",
       "      <td>зажиточный</td>\n",
       "      <td>стаж до 10 лет</td>\n",
       "      <td>30-45 лет</td>\n",
       "    </tr>\n",
       "    <tr>\n",
       "      <td>7</td>\n",
       "      <td>0</td>\n",
       "      <td>152</td>\n",
       "      <td>50</td>\n",
       "      <td>среднее</td>\n",
       "      <td>1</td>\n",
       "      <td>женат / замужем</td>\n",
       "      <td>0</td>\n",
       "      <td>M</td>\n",
       "      <td>сотрудник</td>\n",
       "      <td>0</td>\n",
       "      <td>135823</td>\n",
       "      <td>образование</td>\n",
       "      <td>получение образования</td>\n",
       "      <td>зажиточный</td>\n",
       "      <td>стаж до 10 лет</td>\n",
       "      <td>45-65 лет</td>\n",
       "    </tr>\n",
       "    <tr>\n",
       "      <td>8</td>\n",
       "      <td>2</td>\n",
       "      <td>6929</td>\n",
       "      <td>35</td>\n",
       "      <td>высшее</td>\n",
       "      <td>0</td>\n",
       "      <td>гражданский брак</td>\n",
       "      <td>1</td>\n",
       "      <td>F</td>\n",
       "      <td>сотрудник</td>\n",
       "      <td>0</td>\n",
       "      <td>95856</td>\n",
       "      <td>на проведение свадьбы</td>\n",
       "      <td>свадьба</td>\n",
       "      <td>средний доход</td>\n",
       "      <td>стаж более 30 лет</td>\n",
       "      <td>30-45 лет</td>\n",
       "    </tr>\n",
       "    <tr>\n",
       "      <td>9</td>\n",
       "      <td>0</td>\n",
       "      <td>2188</td>\n",
       "      <td>41</td>\n",
       "      <td>среднее</td>\n",
       "      <td>1</td>\n",
       "      <td>женат / замужем</td>\n",
       "      <td>0</td>\n",
       "      <td>M</td>\n",
       "      <td>сотрудник</td>\n",
       "      <td>0</td>\n",
       "      <td>144425</td>\n",
       "      <td>покупка жилья для семьи</td>\n",
       "      <td>покупка жилья/недвижимости</td>\n",
       "      <td>зажиточный</td>\n",
       "      <td>стаж до 10 лет</td>\n",
       "      <td>30-45 лет</td>\n",
       "    </tr>\n",
       "  </tbody>\n",
       "</table>\n",
       "</div>"
      ],
      "text/plain": [
       "   children  days_employed  dob_years education  education_id  \\\n",
       "0         1           8437         42    высшее             0   \n",
       "1         1           4024         36   среднее             1   \n",
       "2         0           5623         33   среднее             1   \n",
       "3         3           4124         32   среднее             1   \n",
       "4         0         340266         53   среднее             1   \n",
       "5         0            926         27    высшее             0   \n",
       "6         0           2879         43    высшее             0   \n",
       "7         0            152         50   среднее             1   \n",
       "8         2           6929         35    высшее             0   \n",
       "9         0           2188         41   среднее             1   \n",
       "\n",
       "      family_status  family_status_id gender income_type  debt  total_income  \\\n",
       "0   женат / замужем                 0      F   сотрудник     0        253875   \n",
       "1   женат / замужем                 0      F   сотрудник     0        112080   \n",
       "2   женат / замужем                 0      M   сотрудник     0        145885   \n",
       "3   женат / замужем                 0      M   сотрудник     0        267628   \n",
       "4  гражданский брак                 1      F   пенсионер     0        158616   \n",
       "5  гражданский брак                 1      M   компаньон     0        255763   \n",
       "6   женат / замужем                 0      F   компаньон     0        240525   \n",
       "7   женат / замужем                 0      M   сотрудник     0        135823   \n",
       "8  гражданский брак                 1      F   сотрудник     0         95856   \n",
       "9   женат / замужем                 0      M   сотрудник     0        144425   \n",
       "\n",
       "                      purpose               group_purpose     salary_cat  \\\n",
       "0               покупка жилья  покупка жилья/недвижимости     зажиточный   \n",
       "1     приобретение автомобиля          покупка автомобиля  средний доход   \n",
       "2               покупка жилья  покупка жилья/недвижимости     зажиточный   \n",
       "3  дополнительное образование       получение образования     зажиточный   \n",
       "4             сыграть свадьбу                     свадьба     зажиточный   \n",
       "5               покупка жилья  покупка жилья/недвижимости     зажиточный   \n",
       "6           операции с жильем  покупка жилья/недвижимости     зажиточный   \n",
       "7                 образование       получение образования     зажиточный   \n",
       "8       на проведение свадьбы                     свадьба  средний доход   \n",
       "9     покупка жилья для семьи  покупка жилья/недвижимости     зажиточный   \n",
       "\n",
       "   days_employed_cat dob_years_cat  \n",
       "0  стаж более 30 лет     30-45 лет  \n",
       "1     стаж 10-30 лет     30-45 лет  \n",
       "2     стаж 10-30 лет     30-45 лет  \n",
       "3     стаж 10-30 лет     30-45 лет  \n",
       "4  стаж более 30 лет     45-65 лет  \n",
       "5     стаж до 10 лет     до 30 лет  \n",
       "6     стаж до 10 лет     30-45 лет  \n",
       "7     стаж до 10 лет     45-65 лет  \n",
       "8  стаж более 30 лет     30-45 лет  \n",
       "9     стаж до 10 лет     30-45 лет  "
      ]
     },
     "execution_count": 37,
     "metadata": {},
     "output_type": "execute_result"
    }
   ],
   "source": [
    "data.head(10)"
   ]
  },
  {
   "cell_type": "markdown",
   "metadata": {},
   "source": [
    "**Вывод**"
   ]
  },
  {
   "cell_type": "markdown",
   "metadata": {},
   "source": [
    "Думаю максимально группировали данные(создали словари). смело можно подходить к 3му шагу."
   ]
  },
  {
   "cell_type": "code",
   "execution_count": 38,
   "metadata": {},
   "outputs": [
    {
     "data": {
      "text/plain": [
       "зажиточный           14584\n",
       "средний доход         6473\n",
       "низкий доход           372\n",
       "зачем тебе кредит       25\n",
       "Name: salary_cat, dtype: int64"
      ]
     },
     "execution_count": 38,
     "metadata": {},
     "output_type": "execute_result"
    }
   ],
   "source": [
    "data['salary_cat'].value_counts()"
   ]
  },
  {
   "cell_type": "markdown",
   "metadata": {},
   "source": [
    "## Ответьте на вопросы"
   ]
  },
  {
   "cell_type": "markdown",
   "metadata": {},
   "source": [
    "- Есть ли зависимость между наличием детей и возвратом кредита в срок?"
   ]
  },
  {
   "cell_type": "code",
   "execution_count": 39,
   "metadata": {},
   "outputs": [
    {
     "data": {
      "text/html": [
       "<div>\n",
       "<style scoped>\n",
       "    .dataframe tbody tr th:only-of-type {\n",
       "        vertical-align: middle;\n",
       "    }\n",
       "\n",
       "    .dataframe tbody tr th {\n",
       "        vertical-align: top;\n",
       "    }\n",
       "\n",
       "    .dataframe thead th {\n",
       "        text-align: right;\n",
       "    }\n",
       "</style>\n",
       "<table border=\"1\" class=\"dataframe\">\n",
       "  <thead>\n",
       "    <tr style=\"text-align: right;\">\n",
       "      <th></th>\n",
       "      <th>count_children</th>\n",
       "      <th>sum_children</th>\n",
       "      <th>result_children</th>\n",
       "    </tr>\n",
       "    <tr>\n",
       "      <th>children</th>\n",
       "      <th></th>\n",
       "      <th></th>\n",
       "      <th></th>\n",
       "    </tr>\n",
       "  </thead>\n",
       "  <tbody>\n",
       "    <tr>\n",
       "      <td>4</td>\n",
       "      <td>41</td>\n",
       "      <td>4</td>\n",
       "      <td>0.097561</td>\n",
       "    </tr>\n",
       "    <tr>\n",
       "      <td>2</td>\n",
       "      <td>2128</td>\n",
       "      <td>202</td>\n",
       "      <td>0.094925</td>\n",
       "    </tr>\n",
       "    <tr>\n",
       "      <td>1</td>\n",
       "      <td>4855</td>\n",
       "      <td>445</td>\n",
       "      <td>0.091658</td>\n",
       "    </tr>\n",
       "    <tr>\n",
       "      <td>3</td>\n",
       "      <td>330</td>\n",
       "      <td>27</td>\n",
       "      <td>0.081818</td>\n",
       "    </tr>\n",
       "    <tr>\n",
       "      <td>0</td>\n",
       "      <td>14091</td>\n",
       "      <td>1063</td>\n",
       "      <td>0.075438</td>\n",
       "    </tr>\n",
       "    <tr>\n",
       "      <td>5</td>\n",
       "      <td>9</td>\n",
       "      <td>0</td>\n",
       "      <td>0.000000</td>\n",
       "    </tr>\n",
       "  </tbody>\n",
       "</table>\n",
       "</div>"
      ],
      "text/plain": [
       "          count_children  sum_children  result_children\n",
       "children                                               \n",
       "4                     41             4         0.097561\n",
       "2                   2128           202         0.094925\n",
       "1                   4855           445         0.091658\n",
       "3                    330            27         0.081818\n",
       "0                  14091          1063         0.075438\n",
       "5                      9             0         0.000000"
      ]
     },
     "execution_count": 39,
     "metadata": {},
     "output_type": "execute_result"
    }
   ],
   "source": [
    "debt_from_children = pd.DataFrame()\n",
    "debt_from_children['count_children'] = data.groupby('children')['debt'].count()\n",
    "debt_from_children['sum_children'] = data.groupby('children')['debt'].sum()\n",
    "debt_from_children['result_children'] = debt_from_children['sum_children'] / debt_from_children['count_children'] \n",
    "debt_from_children.sort_values('result_children', ascending = False)"
   ]
  },
  {
   "cell_type": "markdown",
   "metadata": {},
   "source": [
    "**Вывод**"
   ]
  },
  {
   "cell_type": "markdown",
   "metadata": {},
   "source": [
    "Убрал категории и совсем другие данные."
   ]
  },
  {
   "cell_type": "markdown",
   "metadata": {},
   "source": [
    "- Есть ли зависимость между семейным положением и возвратом кредита в срок?"
   ]
  },
  {
   "cell_type": "code",
   "execution_count": 40,
   "metadata": {},
   "outputs": [
    {
     "data": {
      "text/html": [
       "<div>\n",
       "<style scoped>\n",
       "    .dataframe tbody tr th:only-of-type {\n",
       "        vertical-align: middle;\n",
       "    }\n",
       "\n",
       "    .dataframe tbody tr th {\n",
       "        vertical-align: top;\n",
       "    }\n",
       "\n",
       "    .dataframe thead th {\n",
       "        text-align: right;\n",
       "    }\n",
       "</style>\n",
       "<table border=\"1\" class=\"dataframe\">\n",
       "  <thead>\n",
       "    <tr style=\"text-align: right;\">\n",
       "      <th></th>\n",
       "      <th>count_family</th>\n",
       "      <th>sum_family</th>\n",
       "      <th>result_family</th>\n",
       "    </tr>\n",
       "    <tr>\n",
       "      <th>family_status</th>\n",
       "      <th></th>\n",
       "      <th></th>\n",
       "      <th></th>\n",
       "    </tr>\n",
       "  </thead>\n",
       "  <tbody>\n",
       "    <tr>\n",
       "      <td>Не женат / не замужем</td>\n",
       "      <td>2810</td>\n",
       "      <td>274</td>\n",
       "      <td>0.097509</td>\n",
       "    </tr>\n",
       "    <tr>\n",
       "      <td>гражданский брак</td>\n",
       "      <td>4151</td>\n",
       "      <td>388</td>\n",
       "      <td>0.093471</td>\n",
       "    </tr>\n",
       "    <tr>\n",
       "      <td>женат / замужем</td>\n",
       "      <td>12339</td>\n",
       "      <td>931</td>\n",
       "      <td>0.075452</td>\n",
       "    </tr>\n",
       "    <tr>\n",
       "      <td>в разводе</td>\n",
       "      <td>1195</td>\n",
       "      <td>85</td>\n",
       "      <td>0.071130</td>\n",
       "    </tr>\n",
       "    <tr>\n",
       "      <td>вдовец / вдова</td>\n",
       "      <td>959</td>\n",
       "      <td>63</td>\n",
       "      <td>0.065693</td>\n",
       "    </tr>\n",
       "  </tbody>\n",
       "</table>\n",
       "</div>"
      ],
      "text/plain": [
       "                       count_family  sum_family  result_family\n",
       "family_status                                                 \n",
       "Не женат / не замужем          2810         274       0.097509\n",
       "гражданский брак               4151         388       0.093471\n",
       "женат / замужем               12339         931       0.075452\n",
       "в разводе                      1195          85       0.071130\n",
       "вдовец / вдова                  959          63       0.065693"
      ]
     },
     "execution_count": 40,
     "metadata": {},
     "output_type": "execute_result"
    }
   ],
   "source": [
    "debt_from_family = pd.DataFrame()\n",
    "debt_from_family['count_family'] = data.groupby('family_status')['debt'].count()\n",
    "debt_from_family['sum_family'] = data.groupby('family_status')['debt'].sum()\n",
    "debt_from_family['result_family'] = debt_from_family['sum_family'] / debt_from_family['count_family']\n",
    "debt_from_family.sort_values('result_family', ascending = False)"
   ]
  },
  {
   "cell_type": "markdown",
   "metadata": {},
   "source": [
    "**Вывод**"
   ]
  },
  {
   "cell_type": "markdown",
   "metadata": {},
   "source": [
    "Видим, что людю в браке лучше выплачивают кредиты чем гражданский брак или не в браке. Данных по разведенным и вдовацам не достаточно."
   ]
  },
  {
   "cell_type": "markdown",
   "metadata": {},
   "source": [
    "- Есть ли зависимость между уровнем дохода и возвратом кредита в срок?"
   ]
  },
  {
   "cell_type": "code",
   "execution_count": 41,
   "metadata": {},
   "outputs": [
    {
     "data": {
      "text/html": [
       "<div>\n",
       "<style scoped>\n",
       "    .dataframe tbody tr th:only-of-type {\n",
       "        vertical-align: middle;\n",
       "    }\n",
       "\n",
       "    .dataframe tbody tr th {\n",
       "        vertical-align: top;\n",
       "    }\n",
       "\n",
       "    .dataframe thead tr th {\n",
       "        text-align: left;\n",
       "    }\n",
       "\n",
       "    .dataframe thead tr:last-of-type th {\n",
       "        text-align: right;\n",
       "    }\n",
       "</style>\n",
       "<table border=\"1\" class=\"dataframe\">\n",
       "  <thead>\n",
       "    <tr>\n",
       "      <th></th>\n",
       "      <th colspan=\"2\" halign=\"left\">debt</th>\n",
       "      <th>result_salary</th>\n",
       "    </tr>\n",
       "    <tr>\n",
       "      <th></th>\n",
       "      <th>count</th>\n",
       "      <th>sum</th>\n",
       "      <th></th>\n",
       "    </tr>\n",
       "    <tr>\n",
       "      <th>salary_cat</th>\n",
       "      <th></th>\n",
       "      <th></th>\n",
       "      <th></th>\n",
       "    </tr>\n",
       "  </thead>\n",
       "  <tbody>\n",
       "    <tr>\n",
       "      <td>средний доход</td>\n",
       "      <td>6473</td>\n",
       "      <td>528</td>\n",
       "      <td>0.081570</td>\n",
       "    </tr>\n",
       "    <tr>\n",
       "      <td>зажиточный</td>\n",
       "      <td>14584</td>\n",
       "      <td>1188</td>\n",
       "      <td>0.081459</td>\n",
       "    </tr>\n",
       "    <tr>\n",
       "      <td>зачем тебе кредит</td>\n",
       "      <td>25</td>\n",
       "      <td>2</td>\n",
       "      <td>0.080000</td>\n",
       "    </tr>\n",
       "    <tr>\n",
       "      <td>низкий доход</td>\n",
       "      <td>372</td>\n",
       "      <td>23</td>\n",
       "      <td>0.061828</td>\n",
       "    </tr>\n",
       "  </tbody>\n",
       "</table>\n",
       "</div>"
      ],
      "text/plain": [
       "                    debt       result_salary\n",
       "                   count   sum              \n",
       "salary_cat                                  \n",
       "средний доход       6473   528      0.081570\n",
       "зажиточный         14584  1188      0.081459\n",
       "зачем тебе кредит     25     2      0.080000\n",
       "низкий доход         372    23      0.061828"
      ]
     },
     "execution_count": 41,
     "metadata": {},
     "output_type": "execute_result"
    }
   ],
   "source": [
    "debt_from_salary = pd.DataFrame()\n",
    "debt_from_salary = data.groupby('salary_cat').agg({'debt': ['count', 'sum']})\n",
    "debt_from_salary['result_salary'] =  debt_from_salary['debt']['sum'] / debt_from_salary['debt']['count']\n",
    "debt_from_salary.sort_values('result_salary', ascending = False) #по agg, пожалуйста :)"
   ]
  },
  {
   "cell_type": "markdown",
   "metadata": {},
   "source": [
    "**Вывод**"
   ]
  },
  {
   "cell_type": "markdown",
   "metadata": {},
   "source": [
    "Очень интересная статистика. Люди с доходами от \"среднего\" до \"зачем тебе кредит\" имеют примерно одинаковые показатели по выплатам, конечно разная выборка, но интересно. А люди \"низким доходом\" охотно выплачивают свои долги. По моему мнение необходимо больше данных."
   ]
  },
  {
   "cell_type": "markdown",
   "metadata": {},
   "source": [
    "- Как разные цели кредита влияют на его возврат в срок?"
   ]
  },
  {
   "cell_type": "code",
   "execution_count": 42,
   "metadata": {},
   "outputs": [
    {
     "data": {
      "text/html": [
       "<div>\n",
       "<style scoped>\n",
       "    .dataframe tbody tr th:only-of-type {\n",
       "        vertical-align: middle;\n",
       "    }\n",
       "\n",
       "    .dataframe tbody tr th {\n",
       "        vertical-align: top;\n",
       "    }\n",
       "\n",
       "    .dataframe thead tr th {\n",
       "        text-align: left;\n",
       "    }\n",
       "\n",
       "    .dataframe thead tr:last-of-type th {\n",
       "        text-align: right;\n",
       "    }\n",
       "</style>\n",
       "<table border=\"1\" class=\"dataframe\">\n",
       "  <thead>\n",
       "    <tr>\n",
       "      <th></th>\n",
       "      <th>sum</th>\n",
       "      <th>count</th>\n",
       "      <th>result_salary</th>\n",
       "    </tr>\n",
       "    <tr>\n",
       "      <th></th>\n",
       "      <th>debt</th>\n",
       "      <th>debt</th>\n",
       "      <th></th>\n",
       "    </tr>\n",
       "    <tr>\n",
       "      <th>group_purpose</th>\n",
       "      <th></th>\n",
       "      <th></th>\n",
       "      <th></th>\n",
       "    </tr>\n",
       "  </thead>\n",
       "  <tbody>\n",
       "    <tr>\n",
       "      <td>покупка автомобиля</td>\n",
       "      <td>403</td>\n",
       "      <td>4306</td>\n",
       "      <td>0.093590</td>\n",
       "    </tr>\n",
       "    <tr>\n",
       "      <td>покупка жилья/недвижимости</td>\n",
       "      <td>782</td>\n",
       "      <td>10811</td>\n",
       "      <td>0.072334</td>\n",
       "    </tr>\n",
       "    <tr>\n",
       "      <td>получение образования</td>\n",
       "      <td>370</td>\n",
       "      <td>4013</td>\n",
       "      <td>0.092200</td>\n",
       "    </tr>\n",
       "    <tr>\n",
       "      <td>свадьба</td>\n",
       "      <td>186</td>\n",
       "      <td>2324</td>\n",
       "      <td>0.080034</td>\n",
       "    </tr>\n",
       "  </tbody>\n",
       "</table>\n",
       "</div>"
      ],
      "text/plain": [
       "                            sum  count result_salary\n",
       "                           debt   debt              \n",
       "group_purpose                                       \n",
       "покупка автомобиля          403   4306      0.093590\n",
       "покупка жилья/недвижимости  782  10811      0.072334\n",
       "получение образования       370   4013      0.092200\n",
       "свадьба                     186   2324      0.080034"
      ]
     },
     "execution_count": 42,
     "metadata": {},
     "output_type": "execute_result"
    }
   ],
   "source": [
    "debt_from_purpose = pd.DataFrame()\n",
    "debt_from_purpose = data.pivot_table(index=['group_purpose'], values='debt', aggfunc=['sum','count'])\n",
    "debt_from_purpose['result_salary'] =  debt_from_purpose['sum'] / debt_from_purpose['count']\n",
    "debt_from_purpose #вот и pivot_table"
   ]
  },
  {
   "cell_type": "markdown",
   "metadata": {},
   "source": [
    "**Вывод**"
   ]
  },
  {
   "cell_type": "markdown",
   "metadata": {},
   "source": [
    "За недвижимость  охотно выплачиваю кредиты. А вот автомобили и образование сильно просидает."
   ]
  },
  {
   "cell_type": "markdown",
   "metadata": {},
   "source": [
    "## Общий вывод"
   ]
  },
  {
   "cell_type": "markdown",
   "metadata": {},
   "source": [
    "Заказчик — кредитный отдел банка. Нужно разобраться, влияет ли семейное положение и количество детей клиента на факт погашения кредита в срок. Входные данные от банка — статистика о платёжеспособности клиентов.\n",
    "Вывод таков, что все переменные важны для ознакомления. Не ожидал от холостяков такого плохого показателя по выплате.\n",
    "Так же есть зависимость от кол-ва детей,что чем больше детей тем выше вероятность просрочки. Аномалия с 5ю деньми в расчёт не берем, было бы больше опрошенных с таким кол-вом возможно результат поменялся бы.\n"
   ]
  }
 ],
 "metadata": {
  "ExecuteTimeLog": [
   {
    "duration": 613,
    "start_time": "2022-01-27T14:25:31.521Z"
   },
   {
    "duration": 56,
    "start_time": "2022-01-27T14:25:49.791Z"
   },
   {
    "duration": 62,
    "start_time": "2022-01-27T14:26:06.670Z"
   },
   {
    "duration": 57,
    "start_time": "2022-01-27T14:30:52.983Z"
   },
   {
    "duration": 54,
    "start_time": "2022-01-27T14:33:06.495Z"
   },
   {
    "duration": 252,
    "start_time": "2022-01-27T14:37:25.460Z"
   },
   {
    "duration": 50,
    "start_time": "2022-01-27T14:39:42.734Z"
   },
   {
    "duration": 53,
    "start_time": "2022-01-27T14:42:25.510Z"
   },
   {
    "duration": 46,
    "start_time": "2022-01-27T14:42:36.414Z"
   },
   {
    "duration": 46,
    "start_time": "2022-01-27T14:43:20.422Z"
   },
   {
    "duration": 51,
    "start_time": "2022-01-27T14:43:57.183Z"
   },
   {
    "duration": 55,
    "start_time": "2022-01-27T14:45:44.990Z"
   },
   {
    "duration": 229,
    "start_time": "2022-01-27T14:46:46.742Z"
   },
   {
    "duration": 53,
    "start_time": "2022-01-27T14:47:07.631Z"
   },
   {
    "duration": 8,
    "start_time": "2022-01-27T14:54:22.245Z"
   },
   {
    "duration": 56,
    "start_time": "2022-01-27T14:57:38.277Z"
   },
   {
    "duration": 59,
    "start_time": "2022-01-27T14:58:09.822Z"
   },
   {
    "duration": 63,
    "start_time": "2022-01-27T14:58:34.823Z"
   },
   {
    "duration": 54,
    "start_time": "2022-01-27T14:59:04.865Z"
   },
   {
    "duration": 3,
    "start_time": "2022-01-27T15:00:06.511Z"
   },
   {
    "duration": 4,
    "start_time": "2022-01-27T15:00:09.814Z"
   },
   {
    "duration": 21,
    "start_time": "2022-01-27T15:00:13.375Z"
   },
   {
    "duration": 4,
    "start_time": "2022-01-27T15:00:22.197Z"
   },
   {
    "duration": 62,
    "start_time": "2022-01-27T15:03:20.702Z"
   },
   {
    "duration": 9,
    "start_time": "2022-01-27T15:03:27.726Z"
   },
   {
    "duration": 11,
    "start_time": "2022-01-27T15:04:37.839Z"
   },
   {
    "duration": 9,
    "start_time": "2022-01-27T15:05:10.886Z"
   },
   {
    "duration": 7,
    "start_time": "2022-01-27T15:05:24.471Z"
   },
   {
    "duration": 7,
    "start_time": "2022-01-27T15:05:49.630Z"
   },
   {
    "duration": 222,
    "start_time": "2022-01-27T15:06:20.469Z"
   },
   {
    "duration": 382,
    "start_time": "2022-01-28T18:53:51.214Z"
   },
   {
    "duration": 347,
    "start_time": "2022-01-28T18:54:02.009Z"
   },
   {
    "duration": 283,
    "start_time": "2022-01-28T18:54:10.792Z"
   },
   {
    "duration": 285,
    "start_time": "2022-01-28T18:54:28.303Z"
   },
   {
    "duration": 289,
    "start_time": "2022-01-28T18:55:16.938Z"
   },
   {
    "duration": 283,
    "start_time": "2022-01-28T18:55:20.766Z"
   },
   {
    "duration": 286,
    "start_time": "2022-01-28T18:56:13.714Z"
   },
   {
    "duration": 783,
    "start_time": "2022-01-28T18:56:30.930Z"
   },
   {
    "duration": 69,
    "start_time": "2022-01-28T18:56:33.339Z"
   },
   {
    "duration": 27,
    "start_time": "2022-01-28T18:56:35.651Z"
   },
   {
    "duration": 15,
    "start_time": "2022-01-28T18:56:37.954Z"
   },
   {
    "duration": 15,
    "start_time": "2022-01-28T18:57:15.249Z"
   },
   {
    "duration": 17,
    "start_time": "2022-01-28T18:58:18.048Z"
   },
   {
    "duration": 11,
    "start_time": "2022-01-28T19:41:48.025Z"
   },
   {
    "duration": 10,
    "start_time": "2022-01-28T19:41:50.546Z"
   },
   {
    "duration": 12,
    "start_time": "2022-01-28T19:42:23.851Z"
   },
   {
    "duration": -15,
    "start_time": "2022-01-28T19:44:00.228Z"
   },
   {
    "duration": 8167,
    "start_time": "2022-01-28T19:44:01.070Z"
   },
   {
    "duration": 7764,
    "start_time": "2022-01-28T19:44:21.683Z"
   },
   {
    "duration": 8142,
    "start_time": "2022-01-28T19:44:34.298Z"
   },
   {
    "duration": 8270,
    "start_time": "2022-01-28T19:44:49.779Z"
   },
   {
    "duration": 13,
    "start_time": "2022-01-28T19:45:12.242Z"
   },
   {
    "duration": 14,
    "start_time": "2022-01-28T19:48:20.867Z"
   },
   {
    "duration": 12,
    "start_time": "2022-01-28T19:48:30.714Z"
   },
   {
    "duration": 11,
    "start_time": "2022-01-28T19:49:58.260Z"
   },
   {
    "duration": 12,
    "start_time": "2022-01-28T19:50:10.155Z"
   },
   {
    "duration": 14,
    "start_time": "2022-01-28T19:50:23.914Z"
   },
   {
    "duration": 7,
    "start_time": "2022-01-28T19:51:49.867Z"
   },
   {
    "duration": 6,
    "start_time": "2022-01-28T19:51:55.671Z"
   },
   {
    "duration": 5,
    "start_time": "2022-01-28T19:52:13.266Z"
   },
   {
    "duration": 9,
    "start_time": "2022-01-28T19:52:23.820Z"
   },
   {
    "duration": 19,
    "start_time": "2022-01-28T19:52:38.771Z"
   },
   {
    "duration": 15,
    "start_time": "2022-01-28T19:52:50.450Z"
   },
   {
    "duration": 12,
    "start_time": "2022-01-28T19:56:38.073Z"
   },
   {
    "duration": 17,
    "start_time": "2022-01-28T19:56:46.014Z"
   },
   {
    "duration": 15,
    "start_time": "2022-01-28T19:56:47.174Z"
   },
   {
    "duration": 12,
    "start_time": "2022-01-28T19:57:08.962Z"
   },
   {
    "duration": 16,
    "start_time": "2022-01-28T19:57:44.677Z"
   },
   {
    "duration": 8057,
    "start_time": "2022-01-28T20:01:52.801Z"
   },
   {
    "duration": 300,
    "start_time": "2022-01-28T20:02:19.434Z"
   },
   {
    "duration": 19,
    "start_time": "2022-01-28T20:02:25.112Z"
   },
   {
    "duration": 17,
    "start_time": "2022-01-28T20:02:57.243Z"
   },
   {
    "duration": 308,
    "start_time": "2022-01-28T20:03:06.185Z"
   },
   {
    "duration": 12,
    "start_time": "2022-01-28T20:03:17.610Z"
   },
   {
    "duration": 4,
    "start_time": "2022-01-28T20:03:46.708Z"
   },
   {
    "duration": 65,
    "start_time": "2022-01-28T20:03:46.716Z"
   },
   {
    "duration": 20,
    "start_time": "2022-01-28T20:03:46.784Z"
   },
   {
    "duration": 16,
    "start_time": "2022-01-28T20:03:46.807Z"
   },
   {
    "duration": 33,
    "start_time": "2022-01-28T20:03:46.825Z"
   },
   {
    "duration": 6,
    "start_time": "2022-01-28T20:03:46.860Z"
   },
   {
    "duration": 12,
    "start_time": "2022-01-28T20:03:46.868Z"
   },
   {
    "duration": 6,
    "start_time": "2022-01-28T20:03:46.884Z"
   },
   {
    "duration": 4,
    "start_time": "2022-01-28T20:05:26.741Z"
   },
   {
    "duration": 73,
    "start_time": "2022-01-28T20:05:26.748Z"
   },
   {
    "duration": 29,
    "start_time": "2022-01-28T20:05:26.825Z"
   },
   {
    "duration": 24,
    "start_time": "2022-01-28T20:05:26.857Z"
   },
   {
    "duration": 12,
    "start_time": "2022-01-28T20:05:26.883Z"
   },
   {
    "duration": 9,
    "start_time": "2022-01-28T20:05:26.898Z"
   },
   {
    "duration": 42,
    "start_time": "2022-01-28T20:05:26.910Z"
   },
   {
    "duration": 11,
    "start_time": "2022-01-28T20:05:26.955Z"
   },
   {
    "duration": 5,
    "start_time": "2022-01-28T20:05:26.970Z"
   },
   {
    "duration": 304,
    "start_time": "2022-01-28T20:11:59.962Z"
   },
   {
    "duration": 319,
    "start_time": "2022-01-28T20:12:08.218Z"
   },
   {
    "duration": 308,
    "start_time": "2022-01-28T20:18:22.000Z"
   },
   {
    "duration": 307,
    "start_time": "2022-01-28T20:18:30.601Z"
   },
   {
    "duration": 277,
    "start_time": "2022-01-28T20:18:39.202Z"
   },
   {
    "duration": 44,
    "start_time": "2022-01-28T20:21:11.450Z"
   },
   {
    "duration": 492,
    "start_time": "2022-01-28T20:22:01.833Z"
   },
   {
    "duration": 318,
    "start_time": "2022-01-28T20:22:07.818Z"
   },
   {
    "duration": 297,
    "start_time": "2022-01-28T20:22:14.498Z"
   },
   {
    "duration": 10,
    "start_time": "2022-01-28T20:22:17.701Z"
   },
   {
    "duration": 100,
    "start_time": "2022-01-28T20:22:17.715Z"
   },
   {
    "duration": 18,
    "start_time": "2022-01-28T20:22:17.818Z"
   },
   {
    "duration": 19,
    "start_time": "2022-01-28T20:22:17.839Z"
   },
   {
    "duration": 17,
    "start_time": "2022-01-28T20:22:17.861Z"
   },
   {
    "duration": 6,
    "start_time": "2022-01-28T20:22:17.880Z"
   },
   {
    "duration": 8,
    "start_time": "2022-01-28T20:22:17.889Z"
   },
   {
    "duration": 13,
    "start_time": "2022-01-28T20:22:17.900Z"
   },
   {
    "duration": 302,
    "start_time": "2022-01-28T20:22:17.917Z"
   },
   {
    "duration": 304,
    "start_time": "2022-01-28T20:22:26.129Z"
   },
   {
    "duration": 5,
    "start_time": "2022-01-28T20:24:08.130Z"
   },
   {
    "duration": 17,
    "start_time": "2022-01-28T20:25:46.170Z"
   },
   {
    "duration": 20,
    "start_time": "2022-01-28T20:26:08.433Z"
   },
   {
    "duration": 278,
    "start_time": "2022-01-28T20:32:17.442Z"
   },
   {
    "duration": 7,
    "start_time": "2022-01-28T20:32:45.106Z"
   },
   {
    "duration": 6,
    "start_time": "2022-01-28T20:33:00.242Z"
   },
   {
    "duration": 9,
    "start_time": "2022-01-28T20:34:05.970Z"
   },
   {
    "duration": 7,
    "start_time": "2022-01-28T20:35:08.065Z"
   },
   {
    "duration": 8,
    "start_time": "2022-01-28T20:35:45.722Z"
   },
   {
    "duration": 7,
    "start_time": "2022-01-28T20:35:47.946Z"
   },
   {
    "duration": 7,
    "start_time": "2022-01-28T20:36:10.170Z"
   },
   {
    "duration": 8,
    "start_time": "2022-01-28T20:36:12.577Z"
   },
   {
    "duration": 9,
    "start_time": "2022-01-28T20:37:22.810Z"
   },
   {
    "duration": 7,
    "start_time": "2022-01-28T20:37:25.602Z"
   },
   {
    "duration": 8,
    "start_time": "2022-01-28T20:46:21.800Z"
   },
   {
    "duration": 3,
    "start_time": "2022-01-28T20:46:32.197Z"
   },
   {
    "duration": 69,
    "start_time": "2022-01-28T20:46:32.203Z"
   },
   {
    "duration": 17,
    "start_time": "2022-01-28T20:46:32.275Z"
   },
   {
    "duration": 17,
    "start_time": "2022-01-28T20:46:32.295Z"
   },
   {
    "duration": 10,
    "start_time": "2022-01-28T20:46:32.315Z"
   },
   {
    "duration": 6,
    "start_time": "2022-01-28T20:46:32.348Z"
   },
   {
    "duration": 10,
    "start_time": "2022-01-28T20:46:32.356Z"
   },
   {
    "duration": 18,
    "start_time": "2022-01-28T20:46:32.368Z"
   },
   {
    "duration": 4,
    "start_time": "2022-01-28T20:46:32.390Z"
   },
   {
    "duration": 52,
    "start_time": "2022-01-28T20:46:32.397Z"
   },
   {
    "duration": 6,
    "start_time": "2022-01-28T20:46:32.452Z"
   },
   {
    "duration": 13,
    "start_time": "2022-01-28T20:46:32.461Z"
   },
   {
    "duration": 10,
    "start_time": "2022-01-28T20:46:32.476Z"
   },
   {
    "duration": 9,
    "start_time": "2022-01-28T20:46:32.488Z"
   },
   {
    "duration": 5,
    "start_time": "2022-01-28T20:46:32.500Z"
   },
   {
    "duration": 44,
    "start_time": "2022-01-28T20:46:32.508Z"
   },
   {
    "duration": 7,
    "start_time": "2022-01-28T20:46:32.555Z"
   },
   {
    "duration": 6,
    "start_time": "2022-01-28T20:46:32.565Z"
   },
   {
    "duration": 11,
    "start_time": "2022-01-28T20:46:32.573Z"
   },
   {
    "duration": 7,
    "start_time": "2022-01-28T20:46:32.587Z"
   },
   {
    "duration": 53,
    "start_time": "2022-01-28T20:46:32.596Z"
   },
   {
    "duration": 4,
    "start_time": "2022-01-28T20:46:54.862Z"
   },
   {
    "duration": 74,
    "start_time": "2022-01-28T20:46:54.869Z"
   },
   {
    "duration": 17,
    "start_time": "2022-01-28T20:46:54.946Z"
   },
   {
    "duration": 21,
    "start_time": "2022-01-28T20:46:54.967Z"
   },
   {
    "duration": 14,
    "start_time": "2022-01-28T20:46:54.991Z"
   },
   {
    "duration": 14,
    "start_time": "2022-01-28T20:46:55.007Z"
   },
   {
    "duration": 25,
    "start_time": "2022-01-28T20:46:55.023Z"
   },
   {
    "duration": 14,
    "start_time": "2022-01-28T20:46:55.051Z"
   },
   {
    "duration": 4,
    "start_time": "2022-01-28T20:46:55.069Z"
   },
   {
    "duration": 20,
    "start_time": "2022-01-28T20:46:55.076Z"
   },
   {
    "duration": 8,
    "start_time": "2022-01-28T20:46:55.099Z"
   },
   {
    "duration": 39,
    "start_time": "2022-01-28T20:46:55.109Z"
   },
   {
    "duration": 7,
    "start_time": "2022-01-28T20:46:55.151Z"
   },
   {
    "duration": 23,
    "start_time": "2022-01-28T20:46:55.160Z"
   },
   {
    "duration": 11,
    "start_time": "2022-01-28T20:46:55.185Z"
   },
   {
    "duration": 6,
    "start_time": "2022-01-28T20:46:55.199Z"
   },
   {
    "duration": 11,
    "start_time": "2022-01-28T20:46:55.207Z"
   },
   {
    "duration": 5,
    "start_time": "2022-01-28T20:46:55.249Z"
   },
   {
    "duration": 17,
    "start_time": "2022-01-28T20:46:55.257Z"
   },
   {
    "duration": 18,
    "start_time": "2022-01-28T20:46:55.277Z"
   },
   {
    "duration": 8,
    "start_time": "2022-01-28T20:46:55.297Z"
   },
   {
    "duration": 4,
    "start_time": "2022-01-28T20:48:06.708Z"
   },
   {
    "duration": 70,
    "start_time": "2022-01-28T20:48:06.714Z"
   },
   {
    "duration": 17,
    "start_time": "2022-01-28T20:48:06.787Z"
   },
   {
    "duration": 18,
    "start_time": "2022-01-28T20:48:06.808Z"
   },
   {
    "duration": 24,
    "start_time": "2022-01-28T20:48:06.829Z"
   },
   {
    "duration": 7,
    "start_time": "2022-01-28T20:48:06.856Z"
   },
   {
    "duration": 7,
    "start_time": "2022-01-28T20:48:06.866Z"
   },
   {
    "duration": 18,
    "start_time": "2022-01-28T20:48:06.878Z"
   },
   {
    "duration": 5,
    "start_time": "2022-01-28T20:48:06.899Z"
   },
   {
    "duration": 20,
    "start_time": "2022-01-28T20:48:06.949Z"
   },
   {
    "duration": 8,
    "start_time": "2022-01-28T20:48:06.972Z"
   },
   {
    "duration": 5,
    "start_time": "2022-01-28T20:48:06.983Z"
   },
   {
    "duration": 10,
    "start_time": "2022-01-28T20:48:06.990Z"
   },
   {
    "duration": 46,
    "start_time": "2022-01-28T20:48:07.002Z"
   },
   {
    "duration": 7,
    "start_time": "2022-01-28T20:48:07.051Z"
   },
   {
    "duration": 8,
    "start_time": "2022-01-28T20:48:07.062Z"
   },
   {
    "duration": 7,
    "start_time": "2022-01-28T20:48:07.072Z"
   },
   {
    "duration": 8,
    "start_time": "2022-01-28T20:48:07.082Z"
   },
   {
    "duration": 60,
    "start_time": "2022-01-28T20:48:07.093Z"
   },
   {
    "duration": 9,
    "start_time": "2022-01-28T20:48:07.155Z"
   },
   {
    "duration": 307,
    "start_time": "2022-01-29T19:17:15.158Z"
   },
   {
    "duration": 741,
    "start_time": "2022-01-29T19:17:25.038Z"
   },
   {
    "duration": 65,
    "start_time": "2022-01-29T19:17:25.781Z"
   },
   {
    "duration": 27,
    "start_time": "2022-01-29T19:17:25.849Z"
   },
   {
    "duration": 19,
    "start_time": "2022-01-29T19:17:25.879Z"
   },
   {
    "duration": 11,
    "start_time": "2022-01-29T19:17:25.900Z"
   },
   {
    "duration": 7,
    "start_time": "2022-01-29T19:17:25.932Z"
   },
   {
    "duration": 9,
    "start_time": "2022-01-29T19:17:25.941Z"
   },
   {
    "duration": 12,
    "start_time": "2022-01-29T19:17:25.952Z"
   },
   {
    "duration": 4,
    "start_time": "2022-01-29T19:17:25.968Z"
   },
   {
    "duration": 60,
    "start_time": "2022-01-29T19:17:25.975Z"
   },
   {
    "duration": 7,
    "start_time": "2022-01-29T19:17:26.037Z"
   },
   {
    "duration": 5,
    "start_time": "2022-01-29T19:17:26.046Z"
   },
   {
    "duration": 8,
    "start_time": "2022-01-29T19:17:26.054Z"
   },
   {
    "duration": 5,
    "start_time": "2022-01-29T19:17:26.064Z"
   },
   {
    "duration": 9,
    "start_time": "2022-01-29T19:17:26.071Z"
   },
   {
    "duration": 52,
    "start_time": "2022-01-29T19:17:26.082Z"
   },
   {
    "duration": 8,
    "start_time": "2022-01-29T19:17:26.137Z"
   },
   {
    "duration": 11,
    "start_time": "2022-01-29T19:17:26.147Z"
   },
   {
    "duration": 10,
    "start_time": "2022-01-29T19:17:26.160Z"
   },
   {
    "duration": 7,
    "start_time": "2022-01-29T19:17:26.172Z"
   },
   {
    "duration": 51,
    "start_time": "2022-01-29T19:17:26.182Z"
   },
   {
    "duration": 7,
    "start_time": "2022-01-29T19:18:48.651Z"
   },
   {
    "duration": 7,
    "start_time": "2022-01-29T19:19:13.883Z"
   },
   {
    "duration": 4,
    "start_time": "2022-01-29T19:20:34.453Z"
   },
   {
    "duration": 64,
    "start_time": "2022-01-29T19:20:34.460Z"
   },
   {
    "duration": 17,
    "start_time": "2022-01-29T19:20:34.527Z"
   },
   {
    "duration": 16,
    "start_time": "2022-01-29T19:20:34.547Z"
   },
   {
    "duration": 11,
    "start_time": "2022-01-29T19:20:34.565Z"
   },
   {
    "duration": 4,
    "start_time": "2022-01-29T19:20:34.579Z"
   },
   {
    "duration": 7,
    "start_time": "2022-01-29T19:20:34.586Z"
   },
   {
    "duration": 10,
    "start_time": "2022-01-29T19:20:34.634Z"
   },
   {
    "duration": 4,
    "start_time": "2022-01-29T19:20:34.647Z"
   },
   {
    "duration": 19,
    "start_time": "2022-01-29T19:20:34.654Z"
   },
   {
    "duration": 6,
    "start_time": "2022-01-29T19:20:34.676Z"
   },
   {
    "duration": 47,
    "start_time": "2022-01-29T19:20:34.685Z"
   },
   {
    "duration": 7,
    "start_time": "2022-01-29T19:20:34.735Z"
   },
   {
    "duration": 5,
    "start_time": "2022-01-29T19:20:34.744Z"
   },
   {
    "duration": 8,
    "start_time": "2022-01-29T19:20:34.751Z"
   },
   {
    "duration": 7,
    "start_time": "2022-01-29T19:20:34.761Z"
   },
   {
    "duration": 5,
    "start_time": "2022-01-29T19:20:34.771Z"
   },
   {
    "duration": 55,
    "start_time": "2022-01-29T19:20:34.779Z"
   },
   {
    "duration": 6,
    "start_time": "2022-01-29T19:20:34.836Z"
   },
   {
    "duration": 8,
    "start_time": "2022-01-29T19:20:34.844Z"
   },
   {
    "duration": 7,
    "start_time": "2022-01-29T19:20:34.854Z"
   },
   {
    "duration": 6,
    "start_time": "2022-01-29T19:20:34.863Z"
   },
   {
    "duration": 61,
    "start_time": "2022-01-29T19:20:34.874Z"
   },
   {
    "duration": 15,
    "start_time": "2022-01-29T19:20:52.261Z"
   },
   {
    "duration": 21,
    "start_time": "2022-01-29T19:24:10.508Z"
   },
   {
    "duration": 21,
    "start_time": "2022-01-29T19:24:19.053Z"
   },
   {
    "duration": 24,
    "start_time": "2022-01-29T19:25:15.747Z"
   },
   {
    "duration": 23,
    "start_time": "2022-01-29T19:25:25.301Z"
   },
   {
    "duration": 10,
    "start_time": "2022-01-29T19:28:05.749Z"
   },
   {
    "duration": 10,
    "start_time": "2022-01-29T19:29:18.117Z"
   },
   {
    "duration": 551,
    "start_time": "2022-01-30T11:28:47.689Z"
   },
   {
    "duration": 52,
    "start_time": "2022-01-30T11:28:48.242Z"
   },
   {
    "duration": 18,
    "start_time": "2022-01-30T11:28:48.296Z"
   },
   {
    "duration": 15,
    "start_time": "2022-01-30T11:28:48.316Z"
   },
   {
    "duration": 26,
    "start_time": "2022-01-30T11:28:48.333Z"
   },
   {
    "duration": 4,
    "start_time": "2022-01-30T11:28:48.361Z"
   },
   {
    "duration": 6,
    "start_time": "2022-01-30T11:28:48.367Z"
   },
   {
    "duration": 11,
    "start_time": "2022-01-30T11:28:48.375Z"
   },
   {
    "duration": 8,
    "start_time": "2022-01-30T11:28:48.388Z"
   },
   {
    "duration": 14,
    "start_time": "2022-01-30T11:28:48.398Z"
   },
   {
    "duration": 10,
    "start_time": "2022-01-30T11:28:48.414Z"
   },
   {
    "duration": 7,
    "start_time": "2022-01-30T11:28:48.426Z"
   },
   {
    "duration": 26,
    "start_time": "2022-01-30T11:28:48.434Z"
   },
   {
    "duration": 3,
    "start_time": "2022-01-30T11:28:48.462Z"
   },
   {
    "duration": 9,
    "start_time": "2022-01-30T11:28:48.467Z"
   },
   {
    "duration": 8,
    "start_time": "2022-01-30T11:28:48.477Z"
   },
   {
    "duration": 14,
    "start_time": "2022-01-30T11:28:48.487Z"
   },
   {
    "duration": 18,
    "start_time": "2022-01-30T11:28:48.503Z"
   },
   {
    "duration": 11,
    "start_time": "2022-01-30T11:28:48.522Z"
   },
   {
    "duration": 25,
    "start_time": "2022-01-30T11:28:48.535Z"
   },
   {
    "duration": 4,
    "start_time": "2022-01-30T11:28:48.561Z"
   },
   {
    "duration": 6,
    "start_time": "2022-01-30T11:28:48.567Z"
   },
   {
    "duration": 5,
    "start_time": "2022-01-30T11:28:48.575Z"
   },
   {
    "duration": 5,
    "start_time": "2022-01-30T11:28:48.581Z"
   },
   {
    "duration": 7,
    "start_time": "2022-01-30T11:28:48.587Z"
   },
   {
    "duration": 11,
    "start_time": "2022-01-30T11:28:48.596Z"
   },
   {
    "duration": 50,
    "start_time": "2022-01-30T11:28:48.609Z"
   },
   {
    "duration": 18,
    "start_time": "2022-01-30T11:28:48.661Z"
   },
   {
    "duration": 15,
    "start_time": "2022-01-30T11:28:48.681Z"
   },
   {
    "duration": 307,
    "start_time": "2022-01-30T11:45:30.413Z"
   },
   {
    "duration": 322,
    "start_time": "2022-01-30T11:55:40.196Z"
   },
   {
    "duration": 4001,
    "start_time": "2022-01-30T11:55:48.160Z"
   },
   {
    "duration": 235,
    "start_time": "2022-01-30T11:58:53.902Z"
   },
   {
    "duration": 628,
    "start_time": "2022-01-30T11:59:16.940Z"
   },
   {
    "duration": 62,
    "start_time": "2022-01-30T11:59:26.509Z"
   },
   {
    "duration": 645,
    "start_time": "2022-01-30T12:03:40.451Z"
   },
   {
    "duration": 7,
    "start_time": "2022-01-30T12:03:50.654Z"
   },
   {
    "duration": 959,
    "start_time": "2022-01-30T12:04:59.156Z"
   },
   {
    "duration": 995,
    "start_time": "2022-01-30T12:05:08.941Z"
   },
   {
    "duration": 3940,
    "start_time": "2022-01-30T12:07:13.188Z"
   },
   {
    "duration": 1079,
    "start_time": "2022-01-30T12:08:03.950Z"
   },
   {
    "duration": 6,
    "start_time": "2022-01-30T12:11:10.557Z"
   },
   {
    "duration": 4055,
    "start_time": "2022-01-30T12:13:45.469Z"
   },
   {
    "duration": 350,
    "start_time": "2022-01-30T12:14:17.917Z"
   },
   {
    "duration": 343,
    "start_time": "2022-01-30T12:16:07.957Z"
   },
   {
    "duration": 392,
    "start_time": "2022-01-30T12:16:51.542Z"
   },
   {
    "duration": 412,
    "start_time": "2022-01-30T12:17:00.004Z"
   },
   {
    "duration": 193,
    "start_time": "2022-01-30T12:17:24.108Z"
   },
   {
    "duration": 3,
    "start_time": "2022-01-30T12:17:45.201Z"
   },
   {
    "duration": 55,
    "start_time": "2022-01-30T12:17:45.206Z"
   },
   {
    "duration": 12,
    "start_time": "2022-01-30T12:17:45.264Z"
   },
   {
    "duration": 17,
    "start_time": "2022-01-30T12:17:45.278Z"
   },
   {
    "duration": 9,
    "start_time": "2022-01-30T12:17:45.297Z"
   },
   {
    "duration": 6,
    "start_time": "2022-01-30T12:17:45.307Z"
   },
   {
    "duration": 9,
    "start_time": "2022-01-30T12:17:45.314Z"
   },
   {
    "duration": 39,
    "start_time": "2022-01-30T12:17:45.325Z"
   },
   {
    "duration": 5,
    "start_time": "2022-01-30T12:17:45.366Z"
   },
   {
    "duration": 19,
    "start_time": "2022-01-30T12:17:45.373Z"
   },
   {
    "duration": 8,
    "start_time": "2022-01-30T12:17:45.394Z"
   },
   {
    "duration": 4,
    "start_time": "2022-01-30T12:17:45.404Z"
   },
   {
    "duration": 9,
    "start_time": "2022-01-30T12:17:45.409Z"
   },
   {
    "duration": 6,
    "start_time": "2022-01-30T12:17:45.420Z"
   },
   {
    "duration": 32,
    "start_time": "2022-01-30T12:17:45.428Z"
   },
   {
    "duration": 6,
    "start_time": "2022-01-30T12:17:45.463Z"
   },
   {
    "duration": 13,
    "start_time": "2022-01-30T12:17:45.471Z"
   },
   {
    "duration": 19,
    "start_time": "2022-01-30T12:17:45.486Z"
   },
   {
    "duration": 6,
    "start_time": "2022-01-30T12:17:45.507Z"
   },
   {
    "duration": 45,
    "start_time": "2022-01-30T12:17:45.515Z"
   },
   {
    "duration": 7,
    "start_time": "2022-01-30T12:17:45.562Z"
   },
   {
    "duration": 7,
    "start_time": "2022-01-30T12:17:45.570Z"
   },
   {
    "duration": 4,
    "start_time": "2022-01-30T12:17:45.582Z"
   },
   {
    "duration": 5,
    "start_time": "2022-01-30T12:17:45.588Z"
   },
   {
    "duration": 11,
    "start_time": "2022-01-30T12:17:45.595Z"
   },
   {
    "duration": 51,
    "start_time": "2022-01-30T12:17:45.608Z"
   },
   {
    "duration": 18,
    "start_time": "2022-01-30T12:17:45.662Z"
   },
   {
    "duration": 18,
    "start_time": "2022-01-30T12:17:45.682Z"
   },
   {
    "duration": 17,
    "start_time": "2022-01-30T12:17:45.702Z"
   },
   {
    "duration": 41,
    "start_time": "2022-01-30T12:17:45.720Z"
   },
   {
    "duration": 187,
    "start_time": "2022-01-30T12:17:45.763Z"
   },
   {
    "duration": 190,
    "start_time": "2022-01-30T12:19:10.115Z"
   },
   {
    "duration": 188,
    "start_time": "2022-01-30T12:19:32.211Z"
   },
   {
    "duration": 205,
    "start_time": "2022-01-30T12:19:35.859Z"
   },
   {
    "duration": 198,
    "start_time": "2022-01-30T12:28:35.603Z"
   },
   {
    "duration": 234,
    "start_time": "2022-01-30T12:29:33.611Z"
   },
   {
    "duration": 185,
    "start_time": "2022-01-30T12:29:47.668Z"
   },
   {
    "duration": 218,
    "start_time": "2022-01-30T12:30:00.459Z"
   },
   {
    "duration": 244,
    "start_time": "2022-01-30T12:31:08.907Z"
   },
   {
    "duration": 189,
    "start_time": "2022-01-30T12:32:37.211Z"
   },
   {
    "duration": 3,
    "start_time": "2022-01-30T12:35:03.203Z"
   },
   {
    "duration": 269,
    "start_time": "2022-01-30T12:49:32.586Z"
   },
   {
    "duration": 3,
    "start_time": "2022-01-30T12:50:57.958Z"
   },
   {
    "duration": 55,
    "start_time": "2022-01-30T12:50:57.963Z"
   },
   {
    "duration": 13,
    "start_time": "2022-01-30T12:50:58.021Z"
   },
   {
    "duration": 31,
    "start_time": "2022-01-30T12:50:58.036Z"
   },
   {
    "duration": 11,
    "start_time": "2022-01-30T12:50:58.069Z"
   },
   {
    "duration": 5,
    "start_time": "2022-01-30T12:50:58.082Z"
   },
   {
    "duration": 9,
    "start_time": "2022-01-30T12:50:58.089Z"
   },
   {
    "duration": 9,
    "start_time": "2022-01-30T12:50:58.100Z"
   },
   {
    "duration": 3,
    "start_time": "2022-01-30T12:50:58.111Z"
   },
   {
    "duration": 16,
    "start_time": "2022-01-30T12:50:58.116Z"
   },
   {
    "duration": 29,
    "start_time": "2022-01-30T12:50:58.134Z"
   },
   {
    "duration": 5,
    "start_time": "2022-01-30T12:50:58.164Z"
   },
   {
    "duration": 9,
    "start_time": "2022-01-30T12:50:58.171Z"
   },
   {
    "duration": 5,
    "start_time": "2022-01-30T12:50:58.181Z"
   },
   {
    "duration": 9,
    "start_time": "2022-01-30T12:50:58.187Z"
   },
   {
    "duration": 9,
    "start_time": "2022-01-30T12:50:58.197Z"
   },
   {
    "duration": 13,
    "start_time": "2022-01-30T12:50:58.207Z"
   },
   {
    "duration": 38,
    "start_time": "2022-01-30T12:50:58.222Z"
   },
   {
    "duration": 5,
    "start_time": "2022-01-30T12:50:58.261Z"
   },
   {
    "duration": 10,
    "start_time": "2022-01-30T12:50:58.267Z"
   },
   {
    "duration": 8,
    "start_time": "2022-01-30T12:50:58.279Z"
   },
   {
    "duration": 8,
    "start_time": "2022-01-30T12:50:58.288Z"
   },
   {
    "duration": 6,
    "start_time": "2022-01-30T12:50:58.299Z"
   },
   {
    "duration": 8,
    "start_time": "2022-01-30T12:50:58.306Z"
   },
   {
    "duration": 9,
    "start_time": "2022-01-30T12:50:58.316Z"
   },
   {
    "duration": 33,
    "start_time": "2022-01-30T12:50:58.327Z"
   },
   {
    "duration": 16,
    "start_time": "2022-01-30T12:50:58.361Z"
   },
   {
    "duration": 17,
    "start_time": "2022-01-30T12:50:58.378Z"
   },
   {
    "duration": 15,
    "start_time": "2022-01-30T12:50:58.396Z"
   },
   {
    "duration": 3781,
    "start_time": "2022-01-30T12:50:58.412Z"
   },
   {
    "duration": 3516,
    "start_time": "2022-01-30T12:51:46.555Z"
   },
   {
    "duration": 4162,
    "start_time": "2022-01-30T12:54:15.953Z"
   },
   {
    "duration": 6,
    "start_time": "2022-01-30T12:59:06.145Z"
   },
   {
    "duration": 3,
    "start_time": "2022-01-30T12:59:21.038Z"
   },
   {
    "duration": 57,
    "start_time": "2022-01-30T12:59:21.043Z"
   },
   {
    "duration": 12,
    "start_time": "2022-01-30T12:59:21.103Z"
   },
   {
    "duration": 13,
    "start_time": "2022-01-30T12:59:21.117Z"
   },
   {
    "duration": 34,
    "start_time": "2022-01-30T12:59:21.132Z"
   },
   {
    "duration": 7,
    "start_time": "2022-01-30T12:59:21.168Z"
   },
   {
    "duration": 4,
    "start_time": "2022-01-30T12:59:21.178Z"
   },
   {
    "duration": 10,
    "start_time": "2022-01-30T12:59:21.184Z"
   },
   {
    "duration": 3,
    "start_time": "2022-01-30T12:59:21.196Z"
   },
   {
    "duration": 15,
    "start_time": "2022-01-30T12:59:21.201Z"
   },
   {
    "duration": 13,
    "start_time": "2022-01-30T12:59:21.218Z"
   },
   {
    "duration": 4,
    "start_time": "2022-01-30T12:59:21.260Z"
   },
   {
    "duration": 13,
    "start_time": "2022-01-30T12:59:21.266Z"
   },
   {
    "duration": 5,
    "start_time": "2022-01-30T12:59:21.281Z"
   },
   {
    "duration": 9,
    "start_time": "2022-01-30T12:59:21.289Z"
   },
   {
    "duration": 10,
    "start_time": "2022-01-30T12:59:21.300Z"
   },
   {
    "duration": 19,
    "start_time": "2022-01-30T12:59:21.312Z"
   },
   {
    "duration": 38,
    "start_time": "2022-01-30T12:59:21.334Z"
   },
   {
    "duration": 4,
    "start_time": "2022-01-30T12:59:21.375Z"
   },
   {
    "duration": 7,
    "start_time": "2022-01-30T12:59:21.382Z"
   },
   {
    "duration": 7,
    "start_time": "2022-01-30T12:59:21.391Z"
   },
   {
    "duration": 6,
    "start_time": "2022-01-30T12:59:21.400Z"
   },
   {
    "duration": 7,
    "start_time": "2022-01-30T12:59:21.407Z"
   },
   {
    "duration": 45,
    "start_time": "2022-01-30T12:59:21.416Z"
   },
   {
    "duration": 12,
    "start_time": "2022-01-30T12:59:21.463Z"
   },
   {
    "duration": 13,
    "start_time": "2022-01-30T12:59:21.477Z"
   },
   {
    "duration": 17,
    "start_time": "2022-01-30T12:59:21.491Z"
   },
   {
    "duration": 17,
    "start_time": "2022-01-30T12:59:21.510Z"
   },
   {
    "duration": 44,
    "start_time": "2022-01-30T12:59:21.529Z"
   },
   {
    "duration": 6,
    "start_time": "2022-01-30T12:59:21.574Z"
   },
   {
    "duration": 4094,
    "start_time": "2022-01-30T12:59:21.581Z"
   },
   {
    "duration": 230,
    "start_time": "2022-01-30T13:00:55.530Z"
   },
   {
    "duration": 189,
    "start_time": "2022-01-30T13:03:45.867Z"
   },
   {
    "duration": 61,
    "start_time": "2022-01-30T13:04:18.050Z"
   },
   {
    "duration": 671,
    "start_time": "2022-01-30T13:04:44.889Z"
   },
   {
    "duration": 672,
    "start_time": "2022-01-30T13:06:11.248Z"
   },
   {
    "duration": 672,
    "start_time": "2022-01-30T13:06:28.122Z"
   },
   {
    "duration": 3,
    "start_time": "2022-01-30T13:07:35.679Z"
   },
   {
    "duration": 63,
    "start_time": "2022-01-30T13:07:35.684Z"
   },
   {
    "duration": 13,
    "start_time": "2022-01-30T13:07:35.749Z"
   },
   {
    "duration": 38,
    "start_time": "2022-01-30T13:07:35.765Z"
   },
   {
    "duration": 12,
    "start_time": "2022-01-30T13:07:35.806Z"
   },
   {
    "duration": 15,
    "start_time": "2022-01-30T13:07:35.820Z"
   },
   {
    "duration": 20,
    "start_time": "2022-01-30T13:07:35.837Z"
   },
   {
    "duration": 18,
    "start_time": "2022-01-30T13:07:35.860Z"
   },
   {
    "duration": 4,
    "start_time": "2022-01-30T13:07:35.883Z"
   },
   {
    "duration": 16,
    "start_time": "2022-01-30T13:07:35.889Z"
   },
   {
    "duration": 9,
    "start_time": "2022-01-30T13:07:35.907Z"
   },
   {
    "duration": 9,
    "start_time": "2022-01-30T13:07:35.918Z"
   },
   {
    "duration": 12,
    "start_time": "2022-01-30T13:07:35.929Z"
   },
   {
    "duration": 4,
    "start_time": "2022-01-30T13:07:35.960Z"
   },
   {
    "duration": 10,
    "start_time": "2022-01-30T13:07:35.966Z"
   },
   {
    "duration": 8,
    "start_time": "2022-01-30T13:07:35.978Z"
   },
   {
    "duration": 13,
    "start_time": "2022-01-30T13:07:35.988Z"
   },
   {
    "duration": 17,
    "start_time": "2022-01-30T13:07:36.004Z"
   },
   {
    "duration": 5,
    "start_time": "2022-01-30T13:07:36.023Z"
   },
   {
    "duration": 30,
    "start_time": "2022-01-30T13:07:36.030Z"
   },
   {
    "duration": 5,
    "start_time": "2022-01-30T13:07:36.062Z"
   },
   {
    "duration": 21,
    "start_time": "2022-01-30T13:07:36.069Z"
   },
   {
    "duration": 5,
    "start_time": "2022-01-30T13:07:36.092Z"
   },
   {
    "duration": 4,
    "start_time": "2022-01-30T13:07:36.099Z"
   },
   {
    "duration": 9,
    "start_time": "2022-01-30T13:07:36.105Z"
   },
   {
    "duration": 49,
    "start_time": "2022-01-30T13:07:36.115Z"
   },
   {
    "duration": 18,
    "start_time": "2022-01-30T13:07:36.167Z"
   },
   {
    "duration": 19,
    "start_time": "2022-01-30T13:07:36.187Z"
   },
   {
    "duration": 54,
    "start_time": "2022-01-30T13:07:36.208Z"
   },
   {
    "duration": 6,
    "start_time": "2022-01-30T13:07:36.264Z"
   },
   {
    "duration": 706,
    "start_time": "2022-01-30T13:07:36.272Z"
   },
   {
    "duration": 4304,
    "start_time": "2022-01-30T13:07:36.980Z"
   },
   {
    "duration": 3389,
    "start_time": "2022-01-30T13:08:45.107Z"
   },
   {
    "duration": 199,
    "start_time": "2022-01-30T13:09:10.506Z"
   },
   {
    "duration": 215,
    "start_time": "2022-01-30T13:13:07.865Z"
   },
   {
    "duration": 191,
    "start_time": "2022-01-30T13:13:22.585Z"
   },
   {
    "duration": 195,
    "start_time": "2022-01-30T13:13:27.937Z"
   },
   {
    "duration": 187,
    "start_time": "2022-01-30T13:13:44.697Z"
   },
   {
    "duration": 189,
    "start_time": "2022-01-30T13:13:51.177Z"
   },
   {
    "duration": 179,
    "start_time": "2022-01-30T13:14:44.201Z"
   },
   {
    "duration": 186,
    "start_time": "2022-01-30T13:14:55.817Z"
   },
   {
    "duration": 197,
    "start_time": "2022-01-30T13:17:20.083Z"
   },
   {
    "duration": 184,
    "start_time": "2022-01-30T13:17:41.250Z"
   },
   {
    "duration": 182,
    "start_time": "2022-01-30T13:17:47.563Z"
   },
   {
    "duration": 193,
    "start_time": "2022-01-30T13:18:52.204Z"
   },
   {
    "duration": 3,
    "start_time": "2022-01-30T13:19:02.010Z"
   },
   {
    "duration": 72,
    "start_time": "2022-01-30T13:19:02.015Z"
   },
   {
    "duration": 13,
    "start_time": "2022-01-30T13:19:02.089Z"
   },
   {
    "duration": 12,
    "start_time": "2022-01-30T13:19:02.104Z"
   },
   {
    "duration": 9,
    "start_time": "2022-01-30T13:19:02.118Z"
   },
   {
    "duration": 5,
    "start_time": "2022-01-30T13:19:02.159Z"
   },
   {
    "duration": 5,
    "start_time": "2022-01-30T13:19:02.167Z"
   },
   {
    "duration": 17,
    "start_time": "2022-01-30T13:19:02.174Z"
   },
   {
    "duration": 14,
    "start_time": "2022-01-30T13:19:02.193Z"
   },
   {
    "duration": 17,
    "start_time": "2022-01-30T13:19:02.208Z"
   },
   {
    "duration": 10,
    "start_time": "2022-01-30T13:19:02.227Z"
   },
   {
    "duration": 8,
    "start_time": "2022-01-30T13:19:02.239Z"
   },
   {
    "duration": 6,
    "start_time": "2022-01-30T13:19:02.259Z"
   },
   {
    "duration": 4,
    "start_time": "2022-01-30T13:19:02.266Z"
   },
   {
    "duration": 17,
    "start_time": "2022-01-30T13:19:02.272Z"
   },
   {
    "duration": 6,
    "start_time": "2022-01-30T13:19:02.291Z"
   },
   {
    "duration": 15,
    "start_time": "2022-01-30T13:19:02.299Z"
   },
   {
    "duration": 17,
    "start_time": "2022-01-30T13:19:02.316Z"
   },
   {
    "duration": 4,
    "start_time": "2022-01-30T13:19:02.336Z"
   },
   {
    "duration": 6,
    "start_time": "2022-01-30T13:19:02.360Z"
   },
   {
    "duration": 6,
    "start_time": "2022-01-30T13:19:02.368Z"
   },
   {
    "duration": 7,
    "start_time": "2022-01-30T13:19:02.376Z"
   },
   {
    "duration": 18,
    "start_time": "2022-01-30T13:19:02.385Z"
   },
   {
    "duration": 9,
    "start_time": "2022-01-30T13:19:02.405Z"
   },
   {
    "duration": 18,
    "start_time": "2022-01-30T13:19:02.416Z"
   },
   {
    "duration": 33,
    "start_time": "2022-01-30T13:19:02.436Z"
   },
   {
    "duration": 28,
    "start_time": "2022-01-30T13:19:02.471Z"
   },
   {
    "duration": 20,
    "start_time": "2022-01-30T13:19:02.501Z"
   },
   {
    "duration": 16,
    "start_time": "2022-01-30T13:19:02.524Z"
   },
   {
    "duration": 5,
    "start_time": "2022-01-30T13:19:02.560Z"
   },
   {
    "duration": 3625,
    "start_time": "2022-01-30T13:19:02.567Z"
   },
   {
    "duration": 339,
    "start_time": "2022-01-30T13:19:06.194Z"
   },
   {
    "duration": 189,
    "start_time": "2022-01-30T13:20:10.868Z"
   },
   {
    "duration": 211,
    "start_time": "2022-01-30T13:20:15.051Z"
   },
   {
    "duration": 4001,
    "start_time": "2022-01-30T13:25:39.205Z"
   },
   {
    "duration": 3,
    "start_time": "2022-01-30T13:26:35.578Z"
   },
   {
    "duration": 64,
    "start_time": "2022-01-30T13:26:35.583Z"
   },
   {
    "duration": 12,
    "start_time": "2022-01-30T13:26:35.649Z"
   },
   {
    "duration": 17,
    "start_time": "2022-01-30T13:26:35.663Z"
   },
   {
    "duration": 9,
    "start_time": "2022-01-30T13:26:35.682Z"
   },
   {
    "duration": 8,
    "start_time": "2022-01-30T13:26:35.693Z"
   },
   {
    "duration": 6,
    "start_time": "2022-01-30T13:26:35.703Z"
   },
   {
    "duration": 10,
    "start_time": "2022-01-30T13:26:35.711Z"
   },
   {
    "duration": 3,
    "start_time": "2022-01-30T13:26:35.725Z"
   },
   {
    "duration": 33,
    "start_time": "2022-01-30T13:26:35.731Z"
   },
   {
    "duration": 6,
    "start_time": "2022-01-30T13:26:35.766Z"
   },
   {
    "duration": 14,
    "start_time": "2022-01-30T13:26:35.774Z"
   },
   {
    "duration": 36,
    "start_time": "2022-01-30T13:26:35.790Z"
   },
   {
    "duration": 20,
    "start_time": "2022-01-30T13:26:35.828Z"
   },
   {
    "duration": 36,
    "start_time": "2022-01-30T13:26:35.850Z"
   },
   {
    "duration": 15,
    "start_time": "2022-01-30T13:26:35.888Z"
   },
   {
    "duration": 36,
    "start_time": "2022-01-30T13:26:35.905Z"
   },
   {
    "duration": 38,
    "start_time": "2022-01-30T13:26:35.942Z"
   },
   {
    "duration": 20,
    "start_time": "2022-01-30T13:26:35.982Z"
   },
   {
    "duration": 18,
    "start_time": "2022-01-30T13:26:36.004Z"
   },
   {
    "duration": 25,
    "start_time": "2022-01-30T13:26:36.024Z"
   },
   {
    "duration": 29,
    "start_time": "2022-01-30T13:26:36.050Z"
   },
   {
    "duration": 23,
    "start_time": "2022-01-30T13:26:36.080Z"
   },
   {
    "duration": 22,
    "start_time": "2022-01-30T13:26:36.105Z"
   },
   {
    "duration": 19,
    "start_time": "2022-01-30T13:26:36.129Z"
   },
   {
    "duration": 38,
    "start_time": "2022-01-30T13:26:36.150Z"
   },
   {
    "duration": 27,
    "start_time": "2022-01-30T13:26:36.191Z"
   },
   {
    "duration": 21,
    "start_time": "2022-01-30T13:26:36.220Z"
   },
   {
    "duration": 30,
    "start_time": "2022-01-30T13:26:36.243Z"
   },
   {
    "duration": 6,
    "start_time": "2022-01-30T13:26:36.275Z"
   },
   {
    "duration": 4133,
    "start_time": "2022-01-30T13:26:36.282Z"
   },
   {
    "duration": 3411,
    "start_time": "2022-01-30T13:31:44.949Z"
   },
   {
    "duration": 192,
    "start_time": "2022-01-30T13:34:37.223Z"
   },
   {
    "duration": 205,
    "start_time": "2022-01-30T13:34:53.695Z"
   },
   {
    "duration": 5114,
    "start_time": "2022-01-30T13:36:12.863Z"
   },
   {
    "duration": 4,
    "start_time": "2022-01-30T13:36:20.049Z"
   },
   {
    "duration": 62,
    "start_time": "2022-01-30T13:36:20.054Z"
   },
   {
    "duration": 13,
    "start_time": "2022-01-30T13:36:20.118Z"
   },
   {
    "duration": 14,
    "start_time": "2022-01-30T13:36:20.133Z"
   },
   {
    "duration": 8,
    "start_time": "2022-01-30T13:36:20.159Z"
   },
   {
    "duration": 4,
    "start_time": "2022-01-30T13:36:20.169Z"
   },
   {
    "duration": 5,
    "start_time": "2022-01-30T13:36:20.174Z"
   },
   {
    "duration": 14,
    "start_time": "2022-01-30T13:36:20.181Z"
   },
   {
    "duration": 4,
    "start_time": "2022-01-30T13:36:20.198Z"
   },
   {
    "duration": 14,
    "start_time": "2022-01-30T13:36:20.204Z"
   },
   {
    "duration": 38,
    "start_time": "2022-01-30T13:36:20.220Z"
   },
   {
    "duration": 6,
    "start_time": "2022-01-30T13:36:20.261Z"
   },
   {
    "duration": 8,
    "start_time": "2022-01-30T13:36:20.268Z"
   },
   {
    "duration": 5,
    "start_time": "2022-01-30T13:36:20.277Z"
   },
   {
    "duration": 9,
    "start_time": "2022-01-30T13:36:20.283Z"
   },
   {
    "duration": 10,
    "start_time": "2022-01-30T13:36:20.294Z"
   },
   {
    "duration": 12,
    "start_time": "2022-01-30T13:36:20.305Z"
   },
   {
    "duration": 42,
    "start_time": "2022-01-30T13:36:20.318Z"
   },
   {
    "duration": 4,
    "start_time": "2022-01-30T13:36:20.362Z"
   },
   {
    "duration": 8,
    "start_time": "2022-01-30T13:36:20.368Z"
   },
   {
    "duration": 4,
    "start_time": "2022-01-30T13:36:20.378Z"
   },
   {
    "duration": 9,
    "start_time": "2022-01-30T13:36:20.384Z"
   },
   {
    "duration": 7,
    "start_time": "2022-01-30T13:36:20.396Z"
   },
   {
    "duration": 7,
    "start_time": "2022-01-30T13:36:20.404Z"
   },
   {
    "duration": 17,
    "start_time": "2022-01-30T13:36:20.412Z"
   },
   {
    "duration": 44,
    "start_time": "2022-01-30T13:36:20.431Z"
   },
   {
    "duration": 17,
    "start_time": "2022-01-30T13:36:20.477Z"
   },
   {
    "duration": 24,
    "start_time": "2022-01-30T13:36:20.496Z"
   },
   {
    "duration": 41,
    "start_time": "2022-01-30T13:36:20.522Z"
   },
   {
    "duration": 5,
    "start_time": "2022-01-30T13:36:20.565Z"
   },
   {
    "duration": 4846,
    "start_time": "2022-01-30T13:36:20.572Z"
   },
   {
    "duration": 3463,
    "start_time": "2022-01-30T13:36:31.927Z"
   },
   {
    "duration": 205,
    "start_time": "2022-01-30T13:47:03.386Z"
   },
   {
    "duration": 189,
    "start_time": "2022-01-30T13:48:19.529Z"
   },
   {
    "duration": 679,
    "start_time": "2022-01-30T13:49:34.980Z"
   },
   {
    "duration": 929,
    "start_time": "2022-01-30T13:49:41.900Z"
   },
   {
    "duration": 685,
    "start_time": "2022-01-30T13:49:48.291Z"
   },
   {
    "duration": 692,
    "start_time": "2022-01-30T13:50:02.076Z"
   },
   {
    "duration": 702,
    "start_time": "2022-01-30T13:50:26.396Z"
   },
   {
    "duration": 675,
    "start_time": "2022-01-30T13:51:21.476Z"
   },
   {
    "duration": 674,
    "start_time": "2022-01-30T13:51:27.268Z"
   },
   {
    "duration": 697,
    "start_time": "2022-01-30T13:53:31.485Z"
   },
   {
    "duration": 3674,
    "start_time": "2022-01-30T13:54:12.628Z"
   },
   {
    "duration": 3831,
    "start_time": "2022-01-30T13:57:11.597Z"
   },
   {
    "duration": 3700,
    "start_time": "2022-01-30T13:57:48.366Z"
   },
   {
    "duration": 3490,
    "start_time": "2022-01-30T13:57:59.078Z"
   },
   {
    "duration": 190,
    "start_time": "2022-01-30T13:58:42.551Z"
   },
   {
    "duration": 207,
    "start_time": "2022-01-30T14:01:51.998Z"
   },
   {
    "duration": 195,
    "start_time": "2022-01-30T14:02:02.630Z"
   },
   {
    "duration": 192,
    "start_time": "2022-01-30T14:02:07.782Z"
   },
   {
    "duration": 192,
    "start_time": "2022-01-30T14:03:23.391Z"
   },
   {
    "duration": 188,
    "start_time": "2022-01-30T14:03:32.206Z"
   },
   {
    "duration": 204,
    "start_time": "2022-01-30T14:04:12.471Z"
   },
   {
    "duration": 183,
    "start_time": "2022-01-30T14:04:19.193Z"
   },
   {
    "duration": 196,
    "start_time": "2022-01-30T14:04:27.407Z"
   },
   {
    "duration": 260,
    "start_time": "2022-01-30T14:23:02.128Z"
   },
   {
    "duration": 189,
    "start_time": "2022-01-30T14:23:49.367Z"
   },
   {
    "duration": 185,
    "start_time": "2022-01-30T14:25:58.991Z"
   },
   {
    "duration": 201,
    "start_time": "2022-01-30T14:26:35.639Z"
   },
   {
    "duration": 3,
    "start_time": "2022-01-30T14:42:09.576Z"
   },
   {
    "duration": 56,
    "start_time": "2022-01-30T14:42:09.581Z"
   },
   {
    "duration": 12,
    "start_time": "2022-01-30T14:42:09.639Z"
   },
   {
    "duration": 17,
    "start_time": "2022-01-30T14:42:09.653Z"
   },
   {
    "duration": 11,
    "start_time": "2022-01-30T14:42:09.672Z"
   },
   {
    "duration": 7,
    "start_time": "2022-01-30T14:42:09.685Z"
   },
   {
    "duration": 5,
    "start_time": "2022-01-30T14:42:09.694Z"
   },
   {
    "duration": 8,
    "start_time": "2022-01-30T14:42:09.702Z"
   },
   {
    "duration": 4,
    "start_time": "2022-01-30T14:42:09.712Z"
   },
   {
    "duration": 46,
    "start_time": "2022-01-30T14:42:09.717Z"
   },
   {
    "duration": 6,
    "start_time": "2022-01-30T14:42:09.765Z"
   },
   {
    "duration": 11,
    "start_time": "2022-01-30T14:42:09.773Z"
   },
   {
    "duration": 6,
    "start_time": "2022-01-30T14:42:09.786Z"
   },
   {
    "duration": 4,
    "start_time": "2022-01-30T14:42:09.793Z"
   },
   {
    "duration": 10,
    "start_time": "2022-01-30T14:42:09.799Z"
   },
   {
    "duration": 14,
    "start_time": "2022-01-30T14:42:09.811Z"
   },
   {
    "duration": 35,
    "start_time": "2022-01-30T14:42:09.827Z"
   },
   {
    "duration": 19,
    "start_time": "2022-01-30T14:42:09.864Z"
   },
   {
    "duration": 6,
    "start_time": "2022-01-30T14:42:09.885Z"
   },
   {
    "duration": 10,
    "start_time": "2022-01-30T14:42:09.893Z"
   },
   {
    "duration": 8,
    "start_time": "2022-01-30T14:42:09.905Z"
   },
   {
    "duration": 6,
    "start_time": "2022-01-30T14:42:09.915Z"
   },
   {
    "duration": 9,
    "start_time": "2022-01-30T14:42:09.924Z"
   },
   {
    "duration": 25,
    "start_time": "2022-01-30T14:42:09.935Z"
   },
   {
    "duration": 5,
    "start_time": "2022-01-30T14:42:09.962Z"
   },
   {
    "duration": 14,
    "start_time": "2022-01-30T14:42:09.969Z"
   },
   {
    "duration": 18,
    "start_time": "2022-01-30T14:42:09.985Z"
   },
   {
    "duration": 20,
    "start_time": "2022-01-30T14:42:10.005Z"
   },
   {
    "duration": 18,
    "start_time": "2022-01-30T14:42:10.059Z"
   },
   {
    "duration": 3627,
    "start_time": "2022-01-30T14:42:10.079Z"
   },
   {
    "duration": 3502,
    "start_time": "2022-01-30T14:42:13.708Z"
   },
   {
    "duration": 3400,
    "start_time": "2022-01-30T14:51:37.281Z"
   },
   {
    "duration": 3392,
    "start_time": "2022-01-30T14:52:36.322Z"
   },
   {
    "duration": 3423,
    "start_time": "2022-01-30T14:56:21.292Z"
   },
   {
    "duration": 3,
    "start_time": "2022-01-30T14:57:36.255Z"
   },
   {
    "duration": 63,
    "start_time": "2022-01-30T14:57:36.261Z"
   },
   {
    "duration": 12,
    "start_time": "2022-01-30T14:57:36.326Z"
   },
   {
    "duration": 23,
    "start_time": "2022-01-30T14:57:36.340Z"
   },
   {
    "duration": 8,
    "start_time": "2022-01-30T14:57:36.365Z"
   },
   {
    "duration": 5,
    "start_time": "2022-01-30T14:57:36.375Z"
   },
   {
    "duration": 5,
    "start_time": "2022-01-30T14:57:36.382Z"
   },
   {
    "duration": 10,
    "start_time": "2022-01-30T14:57:36.389Z"
   },
   {
    "duration": 4,
    "start_time": "2022-01-30T14:57:36.402Z"
   },
   {
    "duration": 18,
    "start_time": "2022-01-30T14:57:36.408Z"
   },
   {
    "duration": 34,
    "start_time": "2022-01-30T14:57:36.428Z"
   },
   {
    "duration": 14,
    "start_time": "2022-01-30T14:57:36.464Z"
   },
   {
    "duration": 7,
    "start_time": "2022-01-30T14:57:36.480Z"
   },
   {
    "duration": 9,
    "start_time": "2022-01-30T14:57:36.489Z"
   },
   {
    "duration": 7,
    "start_time": "2022-01-30T14:57:36.499Z"
   },
   {
    "duration": 6,
    "start_time": "2022-01-30T14:57:36.507Z"
   },
   {
    "duration": 8,
    "start_time": "2022-01-30T14:57:36.515Z"
   },
   {
    "duration": 61,
    "start_time": "2022-01-30T14:57:36.525Z"
   },
   {
    "duration": 132,
    "start_time": "2022-01-30T14:57:36.599Z"
   },
   {
    "duration": 106,
    "start_time": "2022-01-30T14:57:36.733Z"
   },
   {
    "duration": 8,
    "start_time": "2022-01-30T14:57:36.841Z"
   },
   {
    "duration": 6,
    "start_time": "2022-01-30T14:57:36.851Z"
   },
   {
    "duration": 8,
    "start_time": "2022-01-30T14:57:36.858Z"
   },
   {
    "duration": 5,
    "start_time": "2022-01-30T14:57:36.868Z"
   },
   {
    "duration": 4,
    "start_time": "2022-01-30T14:57:36.875Z"
   },
   {
    "duration": 8,
    "start_time": "2022-01-30T14:57:36.881Z"
   },
   {
    "duration": 16,
    "start_time": "2022-01-30T14:57:36.892Z"
   },
   {
    "duration": 17,
    "start_time": "2022-01-30T14:57:36.910Z"
   },
   {
    "duration": 47,
    "start_time": "2022-01-30T14:57:36.929Z"
   },
   {
    "duration": 16,
    "start_time": "2022-01-30T14:57:36.978Z"
   },
   {
    "duration": 3549,
    "start_time": "2022-01-30T14:57:36.995Z"
   },
   {
    "duration": 3571,
    "start_time": "2022-01-30T14:57:40.546Z"
   },
   {
    "duration": 3585,
    "start_time": "2022-01-30T14:59:23.937Z"
   },
   {
    "duration": 3780,
    "start_time": "2022-01-30T15:00:09.059Z"
   },
   {
    "duration": 3514,
    "start_time": "2022-01-30T15:00:37.804Z"
   },
   {
    "duration": 3591,
    "start_time": "2022-01-30T15:03:42.405Z"
   },
   {
    "duration": 3,
    "start_time": "2022-01-30T15:22:47.330Z"
   },
   {
    "duration": 5,
    "start_time": "2022-01-30T15:22:53.202Z"
   },
   {
    "duration": 4,
    "start_time": "2022-01-30T15:23:10.067Z"
   },
   {
    "duration": 13,
    "start_time": "2022-01-30T15:23:49.251Z"
   },
   {
    "duration": 22,
    "start_time": "2022-01-30T15:23:55.418Z"
   },
   {
    "duration": 6,
    "start_time": "2022-01-30T15:27:12.674Z"
   },
   {
    "duration": 202,
    "start_time": "2022-01-30T15:27:58.258Z"
   },
   {
    "duration": 5,
    "start_time": "2022-01-30T15:28:13.588Z"
   },
   {
    "duration": 3514,
    "start_time": "2022-01-30T15:31:22.156Z"
   },
   {
    "duration": 12,
    "start_time": "2022-01-30T15:37:37.435Z"
   },
   {
    "duration": 6,
    "start_time": "2022-01-30T15:40:05.788Z"
   },
   {
    "duration": 15,
    "start_time": "2022-01-30T15:40:25.908Z"
   },
   {
    "duration": 13,
    "start_time": "2022-01-30T15:40:36.771Z"
   },
   {
    "duration": 62,
    "start_time": "2022-01-30T15:46:52.349Z"
   },
   {
    "duration": 4586,
    "start_time": "2022-01-30T16:19:53.025Z"
   },
   {
    "duration": 3,
    "start_time": "2022-01-30T16:20:03.550Z"
   },
   {
    "duration": 54,
    "start_time": "2022-01-30T16:20:03.555Z"
   },
   {
    "duration": 12,
    "start_time": "2022-01-30T16:20:03.611Z"
   },
   {
    "duration": 26,
    "start_time": "2022-01-30T16:20:03.625Z"
   },
   {
    "duration": 9,
    "start_time": "2022-01-30T16:20:03.658Z"
   },
   {
    "duration": 17,
    "start_time": "2022-01-30T16:20:03.669Z"
   },
   {
    "duration": 9,
    "start_time": "2022-01-30T16:20:03.687Z"
   },
   {
    "duration": 16,
    "start_time": "2022-01-30T16:20:03.698Z"
   },
   {
    "duration": 4,
    "start_time": "2022-01-30T16:20:03.716Z"
   },
   {
    "duration": 16,
    "start_time": "2022-01-30T16:20:03.721Z"
   },
   {
    "duration": 21,
    "start_time": "2022-01-30T16:20:03.739Z"
   },
   {
    "duration": 9,
    "start_time": "2022-01-30T16:20:03.761Z"
   },
   {
    "duration": 15,
    "start_time": "2022-01-30T16:20:03.772Z"
   },
   {
    "duration": 11,
    "start_time": "2022-01-30T16:20:03.789Z"
   },
   {
    "duration": 7,
    "start_time": "2022-01-30T16:20:03.801Z"
   },
   {
    "duration": 11,
    "start_time": "2022-01-30T16:20:03.810Z"
   },
   {
    "duration": 7,
    "start_time": "2022-01-30T16:20:03.823Z"
   },
   {
    "duration": 32,
    "start_time": "2022-01-30T16:20:03.832Z"
   },
   {
    "duration": 15,
    "start_time": "2022-01-30T16:20:03.866Z"
   },
   {
    "duration": 9,
    "start_time": "2022-01-30T16:20:03.883Z"
   },
   {
    "duration": 23,
    "start_time": "2022-01-30T16:20:03.894Z"
   },
   {
    "duration": 18,
    "start_time": "2022-01-30T16:20:03.919Z"
   },
   {
    "duration": 7,
    "start_time": "2022-01-30T16:20:03.940Z"
   },
   {
    "duration": 15,
    "start_time": "2022-01-30T16:20:03.949Z"
   },
   {
    "duration": 7,
    "start_time": "2022-01-30T16:20:03.965Z"
   },
   {
    "duration": 16,
    "start_time": "2022-01-30T16:20:03.973Z"
   },
   {
    "duration": 17,
    "start_time": "2022-01-30T16:20:03.990Z"
   },
   {
    "duration": 17,
    "start_time": "2022-01-30T16:20:04.009Z"
   },
   {
    "duration": 17,
    "start_time": "2022-01-30T16:20:04.027Z"
   },
   {
    "duration": 16,
    "start_time": "2022-01-30T16:20:04.060Z"
   },
   {
    "duration": 3700,
    "start_time": "2022-01-30T16:20:04.078Z"
   },
   {
    "duration": 3444,
    "start_time": "2022-01-30T16:20:07.780Z"
   },
   {
    "duration": 4521,
    "start_time": "2022-01-30T16:20:11.226Z"
   },
   {
    "duration": 7,
    "start_time": "2022-01-30T16:21:36.354Z"
   },
   {
    "duration": 17,
    "start_time": "2022-01-30T16:28:58.400Z"
   },
   {
    "duration": 13,
    "start_time": "2022-01-30T16:30:32.441Z"
   },
   {
    "duration": 182,
    "start_time": "2022-01-30T16:33:49.986Z"
   },
   {
    "duration": 192,
    "start_time": "2022-01-30T16:34:04.121Z"
   },
   {
    "duration": 14,
    "start_time": "2022-01-30T16:35:40.074Z"
   },
   {
    "duration": 12,
    "start_time": "2022-01-30T16:35:47.008Z"
   },
   {
    "duration": 3,
    "start_time": "2022-01-30T16:39:57.119Z"
   },
   {
    "duration": 554,
    "start_time": "2022-01-30T16:39:57.124Z"
   },
   {
    "duration": 12,
    "start_time": "2022-01-30T16:39:57.680Z"
   },
   {
    "duration": 15,
    "start_time": "2022-01-30T16:39:57.694Z"
   },
   {
    "duration": 13,
    "start_time": "2022-01-30T16:39:57.711Z"
   },
   {
    "duration": 6,
    "start_time": "2022-01-30T16:39:57.727Z"
   },
   {
    "duration": 6,
    "start_time": "2022-01-30T16:39:57.735Z"
   },
   {
    "duration": 25,
    "start_time": "2022-01-30T16:39:57.742Z"
   },
   {
    "duration": 4,
    "start_time": "2022-01-30T16:39:57.770Z"
   },
   {
    "duration": 16,
    "start_time": "2022-01-30T16:39:57.777Z"
   },
   {
    "duration": 6,
    "start_time": "2022-01-30T16:39:57.795Z"
   },
   {
    "duration": 13,
    "start_time": "2022-01-30T16:39:57.803Z"
   },
   {
    "duration": 5,
    "start_time": "2022-01-30T16:39:57.818Z"
   },
   {
    "duration": 38,
    "start_time": "2022-01-30T16:39:57.824Z"
   },
   {
    "duration": 4,
    "start_time": "2022-01-30T16:39:57.864Z"
   },
   {
    "duration": 9,
    "start_time": "2022-01-30T16:39:57.870Z"
   },
   {
    "duration": 8,
    "start_time": "2022-01-30T16:39:57.880Z"
   },
   {
    "duration": 15,
    "start_time": "2022-01-30T16:39:57.889Z"
   },
   {
    "duration": 14,
    "start_time": "2022-01-30T16:39:57.906Z"
   },
   {
    "duration": 38,
    "start_time": "2022-01-30T16:39:57.922Z"
   },
   {
    "duration": 6,
    "start_time": "2022-01-30T16:39:57.962Z"
   },
   {
    "duration": 7,
    "start_time": "2022-01-30T16:39:57.970Z"
   },
   {
    "duration": 8,
    "start_time": "2022-01-30T16:39:57.978Z"
   },
   {
    "duration": 6,
    "start_time": "2022-01-30T16:39:57.988Z"
   },
   {
    "duration": 4,
    "start_time": "2022-01-30T16:39:57.995Z"
   },
   {
    "duration": 8,
    "start_time": "2022-01-30T16:39:58.001Z"
   },
   {
    "duration": 48,
    "start_time": "2022-01-30T16:39:58.013Z"
   },
   {
    "duration": 18,
    "start_time": "2022-01-30T16:39:58.063Z"
   },
   {
    "duration": 19,
    "start_time": "2022-01-30T16:39:58.083Z"
   },
   {
    "duration": 15,
    "start_time": "2022-01-30T16:39:58.104Z"
   },
   {
    "duration": 3768,
    "start_time": "2022-01-30T16:39:58.121Z"
   },
   {
    "duration": 3453,
    "start_time": "2022-01-30T16:40:01.891Z"
   },
   {
    "duration": 27,
    "start_time": "2022-01-30T16:40:05.346Z"
   },
   {
    "duration": 12,
    "start_time": "2022-01-30T16:40:05.375Z"
   },
   {
    "duration": 9,
    "start_time": "2022-01-30T16:40:05.389Z"
   },
   {
    "duration": 1341,
    "start_time": "2022-01-30T16:40:05.400Z"
   },
   {
    "duration": 23,
    "start_time": "2022-01-30T16:40:06.743Z"
   },
   {
    "duration": 34,
    "start_time": "2022-01-30T16:40:56.960Z"
   },
   {
    "duration": 15,
    "start_time": "2022-01-30T16:43:53.082Z"
   },
   {
    "duration": 3,
    "start_time": "2022-01-30T16:45:56.730Z"
   },
   {
    "duration": 54,
    "start_time": "2022-01-30T16:45:56.736Z"
   },
   {
    "duration": 12,
    "start_time": "2022-01-30T16:45:56.793Z"
   },
   {
    "duration": 16,
    "start_time": "2022-01-30T16:45:56.807Z"
   },
   {
    "duration": 34,
    "start_time": "2022-01-30T16:45:56.825Z"
   },
   {
    "duration": 8,
    "start_time": "2022-01-30T16:45:56.863Z"
   },
   {
    "duration": 17,
    "start_time": "2022-01-30T16:45:56.873Z"
   },
   {
    "duration": 20,
    "start_time": "2022-01-30T16:45:56.893Z"
   },
   {
    "duration": 8,
    "start_time": "2022-01-30T16:45:56.916Z"
   },
   {
    "duration": 40,
    "start_time": "2022-01-30T16:45:56.926Z"
   },
   {
    "duration": 10,
    "start_time": "2022-01-30T16:45:56.968Z"
   },
   {
    "duration": 20,
    "start_time": "2022-01-30T16:45:56.981Z"
   },
   {
    "duration": 13,
    "start_time": "2022-01-30T16:45:57.005Z"
   },
   {
    "duration": 15,
    "start_time": "2022-01-30T16:45:57.020Z"
   },
   {
    "duration": 23,
    "start_time": "2022-01-30T16:45:57.038Z"
   },
   {
    "duration": 8,
    "start_time": "2022-01-30T16:45:57.064Z"
   },
   {
    "duration": 9,
    "start_time": "2022-01-30T16:45:57.075Z"
   },
   {
    "duration": 13,
    "start_time": "2022-01-30T16:45:57.087Z"
   },
   {
    "duration": 18,
    "start_time": "2022-01-30T16:45:57.102Z"
   },
   {
    "duration": 37,
    "start_time": "2022-01-30T16:45:57.122Z"
   },
   {
    "duration": 9,
    "start_time": "2022-01-30T16:45:57.161Z"
   },
   {
    "duration": 7,
    "start_time": "2022-01-30T16:45:57.172Z"
   },
   {
    "duration": 6,
    "start_time": "2022-01-30T16:45:57.182Z"
   },
   {
    "duration": 6,
    "start_time": "2022-01-30T16:45:57.190Z"
   },
   {
    "duration": 6,
    "start_time": "2022-01-30T16:45:57.198Z"
   },
   {
    "duration": 56,
    "start_time": "2022-01-30T16:45:57.205Z"
   },
   {
    "duration": 14,
    "start_time": "2022-01-30T16:45:57.263Z"
   },
   {
    "duration": 18,
    "start_time": "2022-01-30T16:45:57.279Z"
   },
   {
    "duration": 16,
    "start_time": "2022-01-30T16:45:57.299Z"
   },
   {
    "duration": 52,
    "start_time": "2022-01-30T16:45:57.317Z"
   },
   {
    "duration": 3970,
    "start_time": "2022-01-30T16:45:57.371Z"
   },
   {
    "duration": 3998,
    "start_time": "2022-01-30T16:46:01.344Z"
   },
   {
    "duration": 32,
    "start_time": "2022-01-30T16:46:05.345Z"
   },
   {
    "duration": 15,
    "start_time": "2022-01-30T16:46:05.380Z"
   },
   {
    "duration": 7,
    "start_time": "2022-01-30T16:46:05.398Z"
   },
   {
    "duration": 1411,
    "start_time": "2022-01-30T16:46:05.407Z"
   },
   {
    "duration": 16,
    "start_time": "2022-01-30T16:46:06.820Z"
   },
   {
    "duration": 361,
    "start_time": "2022-01-30T16:55:21.815Z"
   },
   {
    "duration": 10,
    "start_time": "2022-01-30T16:55:40.856Z"
   },
   {
    "duration": 10,
    "start_time": "2022-01-30T16:56:54.360Z"
   },
   {
    "duration": 318,
    "start_time": "2022-01-30T16:57:49.928Z"
   },
   {
    "duration": 12,
    "start_time": "2022-01-30T16:58:08.760Z"
   },
   {
    "duration": 199,
    "start_time": "2022-01-30T17:11:46.231Z"
   },
   {
    "duration": 17,
    "start_time": "2022-01-30T17:12:00.847Z"
   },
   {
    "duration": 16,
    "start_time": "2022-01-30T17:14:24.870Z"
   },
   {
    "duration": 212,
    "start_time": "2022-01-30T17:24:14.687Z"
   },
   {
    "duration": 16,
    "start_time": "2022-01-30T17:24:50.982Z"
   },
   {
    "duration": 2,
    "start_time": "2022-01-30T17:25:24.160Z"
   },
   {
    "duration": 54,
    "start_time": "2022-01-30T17:25:24.164Z"
   },
   {
    "duration": 12,
    "start_time": "2022-01-30T17:25:24.221Z"
   },
   {
    "duration": 12,
    "start_time": "2022-01-30T17:25:24.259Z"
   },
   {
    "duration": 9,
    "start_time": "2022-01-30T17:25:24.273Z"
   },
   {
    "duration": 5,
    "start_time": "2022-01-30T17:25:24.284Z"
   },
   {
    "duration": 4,
    "start_time": "2022-01-30T17:25:24.291Z"
   },
   {
    "duration": 14,
    "start_time": "2022-01-30T17:25:24.298Z"
   },
   {
    "duration": 4,
    "start_time": "2022-01-30T17:25:24.314Z"
   },
   {
    "duration": 47,
    "start_time": "2022-01-30T17:25:24.320Z"
   },
   {
    "duration": 6,
    "start_time": "2022-01-30T17:25:24.368Z"
   },
   {
    "duration": 11,
    "start_time": "2022-01-30T17:25:24.375Z"
   },
   {
    "duration": 5,
    "start_time": "2022-01-30T17:25:24.388Z"
   },
   {
    "duration": 7,
    "start_time": "2022-01-30T17:25:24.394Z"
   },
   {
    "duration": 4,
    "start_time": "2022-01-30T17:25:24.402Z"
   },
   {
    "duration": 7,
    "start_time": "2022-01-30T17:25:24.407Z"
   },
   {
    "duration": 44,
    "start_time": "2022-01-30T17:25:24.416Z"
   },
   {
    "duration": 11,
    "start_time": "2022-01-30T17:25:24.462Z"
   },
   {
    "duration": 16,
    "start_time": "2022-01-30T17:25:24.475Z"
   },
   {
    "duration": 4,
    "start_time": "2022-01-30T17:25:24.493Z"
   },
   {
    "duration": 9,
    "start_time": "2022-01-30T17:25:24.498Z"
   },
   {
    "duration": 9,
    "start_time": "2022-01-30T17:25:24.508Z"
   },
   {
    "duration": 6,
    "start_time": "2022-01-30T17:25:24.520Z"
   },
   {
    "duration": 42,
    "start_time": "2022-01-30T17:25:24.528Z"
   },
   {
    "duration": 7,
    "start_time": "2022-01-30T17:25:24.572Z"
   },
   {
    "duration": 7,
    "start_time": "2022-01-30T17:25:24.580Z"
   },
   {
    "duration": 11,
    "start_time": "2022-01-30T17:25:24.589Z"
   },
   {
    "duration": 17,
    "start_time": "2022-01-30T17:25:24.602Z"
   },
   {
    "duration": 39,
    "start_time": "2022-01-30T17:25:24.620Z"
   },
   {
    "duration": 17,
    "start_time": "2022-01-30T17:25:24.661Z"
   },
   {
    "duration": 3712,
    "start_time": "2022-01-30T17:25:24.680Z"
   },
   {
    "duration": 3955,
    "start_time": "2022-01-30T17:25:28.394Z"
   },
   {
    "duration": 15719,
    "start_time": "2022-01-30T17:25:32.359Z"
   },
   {
    "duration": -64,
    "start_time": "2022-01-30T17:25:48.144Z"
   },
   {
    "duration": -68,
    "start_time": "2022-01-30T17:25:48.149Z"
   },
   {
    "duration": -69,
    "start_time": "2022-01-30T17:25:48.151Z"
   },
   {
    "duration": -72,
    "start_time": "2022-01-30T17:25:48.155Z"
   },
   {
    "duration": -75,
    "start_time": "2022-01-30T17:25:48.159Z"
   },
   {
    "duration": -78,
    "start_time": "2022-01-30T17:25:48.163Z"
   },
   {
    "duration": 3743,
    "start_time": "2022-01-30T17:28:11.038Z"
   },
   {
    "duration": 3,
    "start_time": "2022-01-30T17:31:13.925Z"
   },
   {
    "duration": 57,
    "start_time": "2022-01-30T17:31:13.930Z"
   },
   {
    "duration": 14,
    "start_time": "2022-01-30T17:31:13.989Z"
   },
   {
    "duration": 16,
    "start_time": "2022-01-30T17:31:14.005Z"
   },
   {
    "duration": 37,
    "start_time": "2022-01-30T17:31:14.024Z"
   },
   {
    "duration": 4,
    "start_time": "2022-01-30T17:31:14.063Z"
   },
   {
    "duration": 4,
    "start_time": "2022-01-30T17:31:14.069Z"
   },
   {
    "duration": 10,
    "start_time": "2022-01-30T17:31:14.075Z"
   },
   {
    "duration": 3,
    "start_time": "2022-01-30T17:31:14.088Z"
   },
   {
    "duration": 18,
    "start_time": "2022-01-30T17:31:14.093Z"
   },
   {
    "duration": 5,
    "start_time": "2022-01-30T17:31:14.113Z"
   },
   {
    "duration": 44,
    "start_time": "2022-01-30T17:31:14.119Z"
   },
   {
    "duration": 5,
    "start_time": "2022-01-30T17:31:14.165Z"
   },
   {
    "duration": 8,
    "start_time": "2022-01-30T17:31:14.172Z"
   },
   {
    "duration": 3,
    "start_time": "2022-01-30T17:31:14.182Z"
   },
   {
    "duration": 7,
    "start_time": "2022-01-30T17:31:14.187Z"
   },
   {
    "duration": 7,
    "start_time": "2022-01-30T17:31:14.195Z"
   },
   {
    "duration": 10,
    "start_time": "2022-01-30T17:31:14.203Z"
   },
   {
    "duration": 46,
    "start_time": "2022-01-30T17:31:14.215Z"
   },
   {
    "duration": 4,
    "start_time": "2022-01-30T17:31:14.263Z"
   },
   {
    "duration": 8,
    "start_time": "2022-01-30T17:31:14.269Z"
   },
   {
    "duration": 5,
    "start_time": "2022-01-30T17:31:14.278Z"
   },
   {
    "duration": 7,
    "start_time": "2022-01-30T17:31:14.285Z"
   },
   {
    "duration": 7,
    "start_time": "2022-01-30T17:31:14.293Z"
   },
   {
    "duration": 4,
    "start_time": "2022-01-30T17:31:14.301Z"
   },
   {
    "duration": 9,
    "start_time": "2022-01-30T17:31:14.306Z"
   },
   {
    "duration": 48,
    "start_time": "2022-01-30T17:31:14.318Z"
   },
   {
    "duration": 16,
    "start_time": "2022-01-30T17:31:14.368Z"
   },
   {
    "duration": 19,
    "start_time": "2022-01-30T17:31:14.385Z"
   },
   {
    "duration": 16,
    "start_time": "2022-01-30T17:31:14.405Z"
   },
   {
    "duration": 3607,
    "start_time": "2022-01-30T17:31:14.422Z"
   },
   {
    "duration": 3363,
    "start_time": "2022-01-30T17:31:18.031Z"
   },
   {
    "duration": 15,
    "start_time": "2022-01-30T17:31:21.396Z"
   },
   {
    "duration": 12,
    "start_time": "2022-01-30T17:31:21.412Z"
   },
   {
    "duration": 5,
    "start_time": "2022-01-30T17:31:21.426Z"
   },
   {
    "duration": 1296,
    "start_time": "2022-01-30T17:31:21.433Z"
   },
   {
    "duration": 16,
    "start_time": "2022-01-30T17:31:22.731Z"
   },
   {
    "duration": 28,
    "start_time": "2022-01-30T17:31:22.748Z"
   },
   {
    "duration": 15,
    "start_time": "2022-01-30T17:31:22.778Z"
   },
   {
    "duration": 17,
    "start_time": "2022-01-30T17:41:48.501Z"
   },
   {
    "duration": 4742,
    "start_time": "2022-01-30T17:42:23.167Z"
   },
   {
    "duration": 16,
    "start_time": "2022-01-30T17:43:06.606Z"
   },
   {
    "duration": 4636,
    "start_time": "2022-01-30T17:48:12.964Z"
   },
   {
    "duration": 4864,
    "start_time": "2022-01-30T17:48:49.238Z"
   },
   {
    "duration": 17,
    "start_time": "2022-01-30T17:49:14.341Z"
   },
   {
    "duration": 582,
    "start_time": "2022-02-08T15:00:14.049Z"
   },
   {
    "duration": 44,
    "start_time": "2022-02-08T15:00:14.633Z"
   },
   {
    "duration": 17,
    "start_time": "2022-02-08T15:00:14.679Z"
   },
   {
    "duration": 31,
    "start_time": "2022-02-08T15:00:14.698Z"
   },
   {
    "duration": 8,
    "start_time": "2022-02-08T15:00:14.731Z"
   },
   {
    "duration": 4,
    "start_time": "2022-02-08T15:00:14.741Z"
   },
   {
    "duration": 4,
    "start_time": "2022-02-08T15:00:14.747Z"
   },
   {
    "duration": 10,
    "start_time": "2022-02-08T15:00:14.753Z"
   },
   {
    "duration": 3,
    "start_time": "2022-02-08T15:00:14.765Z"
   },
   {
    "duration": 14,
    "start_time": "2022-02-08T15:00:14.770Z"
   },
   {
    "duration": 33,
    "start_time": "2022-02-08T15:00:14.786Z"
   },
   {
    "duration": 18,
    "start_time": "2022-02-08T15:00:14.823Z"
   },
   {
    "duration": 4,
    "start_time": "2022-02-08T15:00:14.843Z"
   },
   {
    "duration": 8,
    "start_time": "2022-02-08T15:00:14.848Z"
   },
   {
    "duration": 3,
    "start_time": "2022-02-08T15:00:14.858Z"
   },
   {
    "duration": 5,
    "start_time": "2022-02-08T15:00:14.863Z"
   },
   {
    "duration": 6,
    "start_time": "2022-02-08T15:00:14.870Z"
   },
   {
    "duration": 53,
    "start_time": "2022-02-08T15:00:14.877Z"
   },
   {
    "duration": 13,
    "start_time": "2022-02-08T15:00:14.932Z"
   },
   {
    "duration": 6,
    "start_time": "2022-02-08T15:00:14.946Z"
   },
   {
    "duration": 6,
    "start_time": "2022-02-08T15:00:14.954Z"
   },
   {
    "duration": 4,
    "start_time": "2022-02-08T15:00:14.961Z"
   },
   {
    "duration": 4,
    "start_time": "2022-02-08T15:00:14.967Z"
   },
   {
    "duration": 5,
    "start_time": "2022-02-08T15:00:14.972Z"
   },
   {
    "duration": 39,
    "start_time": "2022-02-08T15:00:14.978Z"
   },
   {
    "duration": 7,
    "start_time": "2022-02-08T15:00:15.019Z"
   },
   {
    "duration": 12,
    "start_time": "2022-02-08T15:00:15.030Z"
   },
   {
    "duration": 15,
    "start_time": "2022-02-08T15:00:15.044Z"
   },
   {
    "duration": 16,
    "start_time": "2022-02-08T15:00:15.061Z"
   },
   {
    "duration": 49,
    "start_time": "2022-02-08T15:00:15.079Z"
   },
   {
    "duration": 3497,
    "start_time": "2022-02-08T15:00:15.129Z"
   },
   {
    "duration": 3512,
    "start_time": "2022-02-08T15:00:18.628Z"
   },
   {
    "duration": 15,
    "start_time": "2022-02-08T15:00:22.142Z"
   },
   {
    "duration": 11,
    "start_time": "2022-02-08T15:00:22.158Z"
   },
   {
    "duration": 4,
    "start_time": "2022-02-08T15:00:22.171Z"
   },
   {
    "duration": 1466,
    "start_time": "2022-02-08T15:00:22.177Z"
   },
   {
    "duration": 15,
    "start_time": "2022-02-08T15:00:23.644Z"
   },
   {
    "duration": 21,
    "start_time": "2022-02-08T15:00:23.661Z"
   },
   {
    "duration": 33,
    "start_time": "2022-02-08T15:00:23.684Z"
   },
   {
    "duration": 17,
    "start_time": "2022-02-08T15:00:23.722Z"
   },
   {
    "duration": 16,
    "start_time": "2022-02-08T15:00:23.740Z"
   },
   {
    "duration": 7,
    "start_time": "2022-02-08T15:05:39.835Z"
   },
   {
    "duration": 610,
    "start_time": "2022-02-11T06:46:52.976Z"
   },
   {
    "duration": 65,
    "start_time": "2022-02-11T06:46:53.588Z"
   },
   {
    "duration": 16,
    "start_time": "2022-02-11T06:46:53.656Z"
   },
   {
    "duration": 27,
    "start_time": "2022-02-11T06:46:53.674Z"
   },
   {
    "duration": 20,
    "start_time": "2022-02-11T06:46:53.702Z"
   },
   {
    "duration": 11,
    "start_time": "2022-02-11T06:46:53.724Z"
   },
   {
    "duration": 12,
    "start_time": "2022-02-11T06:46:53.736Z"
   },
   {
    "duration": 11,
    "start_time": "2022-02-11T06:46:53.750Z"
   },
   {
    "duration": 9,
    "start_time": "2022-02-11T06:46:53.763Z"
   },
   {
    "duration": 28,
    "start_time": "2022-02-11T06:46:53.773Z"
   },
   {
    "duration": 20,
    "start_time": "2022-02-11T06:46:53.803Z"
   },
   {
    "duration": 25,
    "start_time": "2022-02-11T06:46:53.825Z"
   },
   {
    "duration": 15,
    "start_time": "2022-02-11T06:46:53.852Z"
   },
   {
    "duration": 30,
    "start_time": "2022-02-11T06:46:53.869Z"
   },
   {
    "duration": 17,
    "start_time": "2022-02-11T06:46:53.901Z"
   },
   {
    "duration": 17,
    "start_time": "2022-02-11T06:46:53.920Z"
   },
   {
    "duration": 29,
    "start_time": "2022-02-11T06:46:53.939Z"
   },
   {
    "duration": 32,
    "start_time": "2022-02-11T06:46:53.970Z"
   },
   {
    "duration": 32,
    "start_time": "2022-02-11T06:46:54.003Z"
   },
   {
    "duration": 20,
    "start_time": "2022-02-11T06:46:54.037Z"
   },
   {
    "duration": 33,
    "start_time": "2022-02-11T06:46:54.059Z"
   },
   {
    "duration": 17,
    "start_time": "2022-02-11T06:46:54.093Z"
   },
   {
    "duration": 15,
    "start_time": "2022-02-11T06:46:54.113Z"
   },
   {
    "duration": 22,
    "start_time": "2022-02-11T06:46:54.129Z"
   },
   {
    "duration": 26,
    "start_time": "2022-02-11T06:46:54.152Z"
   },
   {
    "duration": 34,
    "start_time": "2022-02-11T06:46:54.180Z"
   },
   {
    "duration": 31,
    "start_time": "2022-02-11T06:46:54.216Z"
   },
   {
    "duration": 18,
    "start_time": "2022-02-11T06:46:54.249Z"
   },
   {
    "duration": 18,
    "start_time": "2022-02-11T06:46:54.268Z"
   },
   {
    "duration": 23,
    "start_time": "2022-02-11T06:46:54.288Z"
   },
   {
    "duration": 3514,
    "start_time": "2022-02-11T06:46:54.313Z"
   },
   {
    "duration": 3557,
    "start_time": "2022-02-11T06:46:57.830Z"
   },
   {
    "duration": 14,
    "start_time": "2022-02-11T06:47:01.389Z"
   },
   {
    "duration": 22,
    "start_time": "2022-02-11T06:47:01.417Z"
   },
   {
    "duration": 30,
    "start_time": "2022-02-11T06:47:01.440Z"
   },
   {
    "duration": 1146,
    "start_time": "2022-02-11T06:47:01.472Z"
   },
   {
    "duration": 16,
    "start_time": "2022-02-11T06:47:02.620Z"
   },
   {
    "duration": 11,
    "start_time": "2022-02-11T06:47:02.638Z"
   },
   {
    "duration": 7302,
    "start_time": "2022-02-11T06:47:02.651Z"
   },
   {
    "duration": -687,
    "start_time": "2022-02-11T06:47:10.641Z"
   },
   {
    "duration": -689,
    "start_time": "2022-02-11T06:47:10.645Z"
   },
   {
    "duration": -691,
    "start_time": "2022-02-11T06:47:10.647Z"
   },
   {
    "duration": 3,
    "start_time": "2022-02-11T06:48:27.303Z"
   },
   {
    "duration": 60,
    "start_time": "2022-02-11T06:48:27.308Z"
   },
   {
    "duration": 11,
    "start_time": "2022-02-11T06:48:27.370Z"
   },
   {
    "duration": 13,
    "start_time": "2022-02-11T06:48:27.383Z"
   },
   {
    "duration": 11,
    "start_time": "2022-02-11T06:48:27.417Z"
   },
   {
    "duration": 10,
    "start_time": "2022-02-11T06:48:27.430Z"
   },
   {
    "duration": 6,
    "start_time": "2022-02-11T06:48:27.442Z"
   },
   {
    "duration": 12,
    "start_time": "2022-02-11T06:48:27.451Z"
   },
   {
    "duration": 10,
    "start_time": "2022-02-11T06:48:27.465Z"
   },
   {
    "duration": 16,
    "start_time": "2022-02-11T06:48:27.477Z"
   },
   {
    "duration": 6,
    "start_time": "2022-02-11T06:48:27.494Z"
   },
   {
    "duration": 24,
    "start_time": "2022-02-11T06:48:27.501Z"
   },
   {
    "duration": 6,
    "start_time": "2022-02-11T06:48:27.527Z"
   },
   {
    "duration": 8,
    "start_time": "2022-02-11T06:48:27.534Z"
   },
   {
    "duration": 4,
    "start_time": "2022-02-11T06:48:27.544Z"
   },
   {
    "duration": 5,
    "start_time": "2022-02-11T06:48:27.550Z"
   },
   {
    "duration": 7,
    "start_time": "2022-02-11T06:48:27.557Z"
   },
   {
    "duration": 35,
    "start_time": "2022-02-11T06:48:27.566Z"
   },
   {
    "duration": 23,
    "start_time": "2022-02-11T06:48:27.603Z"
   },
   {
    "duration": 22,
    "start_time": "2022-02-11T06:48:27.628Z"
   },
   {
    "duration": 14,
    "start_time": "2022-02-11T06:48:27.652Z"
   },
   {
    "duration": 15,
    "start_time": "2022-02-11T06:48:27.668Z"
   },
   {
    "duration": 13,
    "start_time": "2022-02-11T06:48:27.686Z"
   },
   {
    "duration": 10,
    "start_time": "2022-02-11T06:48:27.701Z"
   },
   {
    "duration": 8,
    "start_time": "2022-02-11T06:48:27.712Z"
   },
   {
    "duration": 20,
    "start_time": "2022-02-11T06:48:27.722Z"
   },
   {
    "duration": 23,
    "start_time": "2022-02-11T06:48:27.743Z"
   },
   {
    "duration": 23,
    "start_time": "2022-02-11T06:48:27.768Z"
   },
   {
    "duration": 17,
    "start_time": "2022-02-11T06:48:27.793Z"
   },
   {
    "duration": 24,
    "start_time": "2022-02-11T06:48:27.811Z"
   },
   {
    "duration": 3764,
    "start_time": "2022-02-11T06:48:27.837Z"
   },
   {
    "duration": 4443,
    "start_time": "2022-02-11T06:48:31.603Z"
   },
   {
    "duration": 16,
    "start_time": "2022-02-11T06:48:36.048Z"
   },
   {
    "duration": 22,
    "start_time": "2022-02-11T06:48:36.065Z"
   },
   {
    "duration": 10,
    "start_time": "2022-02-11T06:48:36.089Z"
   },
   {
    "duration": 1134,
    "start_time": "2022-02-11T06:48:36.101Z"
   },
   {
    "duration": 14,
    "start_time": "2022-02-11T06:48:37.237Z"
   },
   {
    "duration": 11,
    "start_time": "2022-02-11T06:48:37.253Z"
   },
   {
    "duration": 32,
    "start_time": "2022-02-11T06:48:37.267Z"
   },
   {
    "duration": 30,
    "start_time": "2022-02-11T06:48:37.301Z"
   },
   {
    "duration": 16,
    "start_time": "2022-02-11T06:48:37.333Z"
   },
   {
    "duration": 21,
    "start_time": "2022-02-11T06:48:37.352Z"
   },
   {
    "duration": 3,
    "start_time": "2022-02-11T07:49:59.034Z"
   },
   {
    "duration": 55,
    "start_time": "2022-02-11T07:49:59.039Z"
   },
   {
    "duration": 14,
    "start_time": "2022-02-11T07:49:59.096Z"
   },
   {
    "duration": 13,
    "start_time": "2022-02-11T07:49:59.119Z"
   },
   {
    "duration": 23,
    "start_time": "2022-02-11T07:49:59.133Z"
   },
   {
    "duration": 8,
    "start_time": "2022-02-11T07:49:59.157Z"
   },
   {
    "duration": 7,
    "start_time": "2022-02-11T07:49:59.167Z"
   },
   {
    "duration": 19,
    "start_time": "2022-02-11T07:49:59.176Z"
   },
   {
    "duration": 36,
    "start_time": "2022-02-11T07:49:59.197Z"
   },
   {
    "duration": 10,
    "start_time": "2022-02-11T07:49:59.235Z"
   },
   {
    "duration": 25,
    "start_time": "2022-02-11T07:49:59.247Z"
   },
   {
    "duration": 21,
    "start_time": "2022-02-11T07:49:59.274Z"
   },
   {
    "duration": 12,
    "start_time": "2022-02-11T07:49:59.296Z"
   },
   {
    "duration": 21,
    "start_time": "2022-02-11T07:49:59.310Z"
   },
   {
    "duration": 11,
    "start_time": "2022-02-11T07:49:59.333Z"
   },
   {
    "duration": 288,
    "start_time": "2022-02-11T07:49:59.346Z"
   },
   {
    "duration": -745,
    "start_time": "2022-02-11T07:50:00.383Z"
   },
   {
    "duration": -747,
    "start_time": "2022-02-11T07:50:00.386Z"
   },
   {
    "duration": -748,
    "start_time": "2022-02-11T07:50:00.388Z"
   },
   {
    "duration": -748,
    "start_time": "2022-02-11T07:50:00.390Z"
   },
   {
    "duration": -751,
    "start_time": "2022-02-11T07:50:00.394Z"
   },
   {
    "duration": -752,
    "start_time": "2022-02-11T07:50:00.397Z"
   },
   {
    "duration": -753,
    "start_time": "2022-02-11T07:50:00.399Z"
   },
   {
    "duration": -754,
    "start_time": "2022-02-11T07:50:00.402Z"
   },
   {
    "duration": -755,
    "start_time": "2022-02-11T07:50:00.404Z"
   },
   {
    "duration": -756,
    "start_time": "2022-02-11T07:50:00.406Z"
   },
   {
    "duration": -757,
    "start_time": "2022-02-11T07:50:00.409Z"
   },
   {
    "duration": -756,
    "start_time": "2022-02-11T07:50:00.410Z"
   },
   {
    "duration": -759,
    "start_time": "2022-02-11T07:50:00.414Z"
   },
   {
    "duration": -760,
    "start_time": "2022-02-11T07:50:00.416Z"
   },
   {
    "duration": -761,
    "start_time": "2022-02-11T07:50:00.418Z"
   },
   {
    "duration": -763,
    "start_time": "2022-02-11T07:50:00.420Z"
   },
   {
    "duration": -764,
    "start_time": "2022-02-11T07:50:00.422Z"
   },
   {
    "duration": -765,
    "start_time": "2022-02-11T07:50:00.424Z"
   },
   {
    "duration": -767,
    "start_time": "2022-02-11T07:50:00.427Z"
   },
   {
    "duration": -767,
    "start_time": "2022-02-11T07:50:00.428Z"
   },
   {
    "duration": -769,
    "start_time": "2022-02-11T07:50:00.431Z"
   },
   {
    "duration": -771,
    "start_time": "2022-02-11T07:50:00.433Z"
   },
   {
    "duration": -773,
    "start_time": "2022-02-11T07:50:00.436Z"
   },
   {
    "duration": -774,
    "start_time": "2022-02-11T07:50:00.438Z"
   },
   {
    "duration": -775,
    "start_time": "2022-02-11T07:50:00.440Z"
   },
   {
    "duration": -788,
    "start_time": "2022-02-11T07:50:00.454Z"
   },
   {
    "duration": -790,
    "start_time": "2022-02-11T07:50:00.457Z"
   },
   {
    "duration": 3,
    "start_time": "2022-02-11T07:50:28.041Z"
   },
   {
    "duration": 52,
    "start_time": "2022-02-11T07:50:28.045Z"
   },
   {
    "duration": 11,
    "start_time": "2022-02-11T07:50:28.100Z"
   },
   {
    "duration": 15,
    "start_time": "2022-02-11T07:50:28.113Z"
   },
   {
    "duration": 12,
    "start_time": "2022-02-11T07:50:28.129Z"
   },
   {
    "duration": 9,
    "start_time": "2022-02-11T07:50:28.143Z"
   },
   {
    "duration": 6,
    "start_time": "2022-02-11T07:50:28.154Z"
   },
   {
    "duration": 8,
    "start_time": "2022-02-11T07:50:28.162Z"
   },
   {
    "duration": 4,
    "start_time": "2022-02-11T07:50:28.172Z"
   },
   {
    "duration": 5,
    "start_time": "2022-02-11T07:50:28.178Z"
   },
   {
    "duration": 15,
    "start_time": "2022-02-11T07:50:28.185Z"
   },
   {
    "duration": 20,
    "start_time": "2022-02-11T07:50:28.201Z"
   },
   {
    "duration": 17,
    "start_time": "2022-02-11T07:50:28.222Z"
   },
   {
    "duration": 7,
    "start_time": "2022-02-11T07:50:28.241Z"
   },
   {
    "duration": 7,
    "start_time": "2022-02-11T07:50:28.250Z"
   },
   {
    "duration": 282,
    "start_time": "2022-02-11T07:50:28.258Z"
   },
   {
    "duration": -692,
    "start_time": "2022-02-11T07:50:29.234Z"
   },
   {
    "duration": -695,
    "start_time": "2022-02-11T07:50:29.239Z"
   },
   {
    "duration": -699,
    "start_time": "2022-02-11T07:50:29.243Z"
   },
   {
    "duration": -702,
    "start_time": "2022-02-11T07:50:29.247Z"
   },
   {
    "duration": -704,
    "start_time": "2022-02-11T07:50:29.250Z"
   },
   {
    "duration": -706,
    "start_time": "2022-02-11T07:50:29.253Z"
   },
   {
    "duration": -715,
    "start_time": "2022-02-11T07:50:29.263Z"
   },
   {
    "duration": -718,
    "start_time": "2022-02-11T07:50:29.267Z"
   },
   {
    "duration": -720,
    "start_time": "2022-02-11T07:50:29.270Z"
   },
   {
    "duration": -724,
    "start_time": "2022-02-11T07:50:29.275Z"
   },
   {
    "duration": -728,
    "start_time": "2022-02-11T07:50:29.280Z"
   },
   {
    "duration": -731,
    "start_time": "2022-02-11T07:50:29.285Z"
   },
   {
    "duration": -735,
    "start_time": "2022-02-11T07:50:29.290Z"
   },
   {
    "duration": -738,
    "start_time": "2022-02-11T07:50:29.294Z"
   },
   {
    "duration": -741,
    "start_time": "2022-02-11T07:50:29.298Z"
   },
   {
    "duration": -743,
    "start_time": "2022-02-11T07:50:29.301Z"
   },
   {
    "duration": -745,
    "start_time": "2022-02-11T07:50:29.304Z"
   },
   {
    "duration": -750,
    "start_time": "2022-02-11T07:50:29.310Z"
   },
   {
    "duration": -754,
    "start_time": "2022-02-11T07:50:29.314Z"
   },
   {
    "duration": -757,
    "start_time": "2022-02-11T07:50:29.318Z"
   },
   {
    "duration": -759,
    "start_time": "2022-02-11T07:50:29.321Z"
   },
   {
    "duration": -762,
    "start_time": "2022-02-11T07:50:29.325Z"
   },
   {
    "duration": -765,
    "start_time": "2022-02-11T07:50:29.329Z"
   },
   {
    "duration": -768,
    "start_time": "2022-02-11T07:50:29.333Z"
   },
   {
    "duration": -771,
    "start_time": "2022-02-11T07:50:29.337Z"
   },
   {
    "duration": -775,
    "start_time": "2022-02-11T07:50:29.341Z"
   },
   {
    "duration": -778,
    "start_time": "2022-02-11T07:50:29.345Z"
   },
   {
    "duration": 3,
    "start_time": "2022-02-11T07:50:59.004Z"
   },
   {
    "duration": 51,
    "start_time": "2022-02-11T07:50:59.009Z"
   },
   {
    "duration": 11,
    "start_time": "2022-02-11T07:50:59.063Z"
   },
   {
    "duration": 21,
    "start_time": "2022-02-11T07:50:59.076Z"
   },
   {
    "duration": 26,
    "start_time": "2022-02-11T07:50:59.099Z"
   },
   {
    "duration": 12,
    "start_time": "2022-02-11T07:50:59.127Z"
   },
   {
    "duration": 10,
    "start_time": "2022-02-11T07:50:59.141Z"
   },
   {
    "duration": 3,
    "start_time": "2022-02-11T07:50:59.154Z"
   },
   {
    "duration": 4,
    "start_time": "2022-02-11T07:50:59.160Z"
   },
   {
    "duration": 6,
    "start_time": "2022-02-11T07:50:59.166Z"
   },
   {
    "duration": 23,
    "start_time": "2022-02-11T07:50:59.173Z"
   },
   {
    "duration": 22,
    "start_time": "2022-02-11T07:50:59.198Z"
   },
   {
    "duration": 10,
    "start_time": "2022-02-11T07:50:59.222Z"
   },
   {
    "duration": 6,
    "start_time": "2022-02-11T07:50:59.234Z"
   },
   {
    "duration": 8,
    "start_time": "2022-02-11T07:50:59.242Z"
   },
   {
    "duration": 373,
    "start_time": "2022-02-11T07:50:59.252Z"
   },
   {
    "duration": -688,
    "start_time": "2022-02-11T07:51:00.315Z"
   },
   {
    "duration": -690,
    "start_time": "2022-02-11T07:51:00.318Z"
   },
   {
    "duration": -692,
    "start_time": "2022-02-11T07:51:00.321Z"
   },
   {
    "duration": -694,
    "start_time": "2022-02-11T07:51:00.324Z"
   },
   {
    "duration": -695,
    "start_time": "2022-02-11T07:51:00.326Z"
   },
   {
    "duration": -696,
    "start_time": "2022-02-11T07:51:00.328Z"
   },
   {
    "duration": -698,
    "start_time": "2022-02-11T07:51:00.331Z"
   },
   {
    "duration": -700,
    "start_time": "2022-02-11T07:51:00.334Z"
   },
   {
    "duration": -760,
    "start_time": "2022-02-11T07:51:00.395Z"
   },
   {
    "duration": -770,
    "start_time": "2022-02-11T07:51:00.405Z"
   },
   {
    "duration": -773,
    "start_time": "2022-02-11T07:51:00.409Z"
   },
   {
    "duration": -775,
    "start_time": "2022-02-11T07:51:00.412Z"
   },
   {
    "duration": -777,
    "start_time": "2022-02-11T07:51:00.415Z"
   },
   {
    "duration": -779,
    "start_time": "2022-02-11T07:51:00.418Z"
   },
   {
    "duration": -781,
    "start_time": "2022-02-11T07:51:00.421Z"
   },
   {
    "duration": -784,
    "start_time": "2022-02-11T07:51:00.425Z"
   },
   {
    "duration": -786,
    "start_time": "2022-02-11T07:51:00.428Z"
   },
   {
    "duration": -788,
    "start_time": "2022-02-11T07:51:00.431Z"
   },
   {
    "duration": -790,
    "start_time": "2022-02-11T07:51:00.434Z"
   },
   {
    "duration": -792,
    "start_time": "2022-02-11T07:51:00.437Z"
   },
   {
    "duration": -795,
    "start_time": "2022-02-11T07:51:00.440Z"
   },
   {
    "duration": -797,
    "start_time": "2022-02-11T07:51:00.443Z"
   },
   {
    "duration": -805,
    "start_time": "2022-02-11T07:51:00.452Z"
   },
   {
    "duration": -808,
    "start_time": "2022-02-11T07:51:00.456Z"
   },
   {
    "duration": -810,
    "start_time": "2022-02-11T07:51:00.459Z"
   },
   {
    "duration": -811,
    "start_time": "2022-02-11T07:51:00.461Z"
   },
   {
    "duration": -813,
    "start_time": "2022-02-11T07:51:00.464Z"
   },
   {
    "duration": 4,
    "start_time": "2022-02-11T07:53:00.388Z"
   },
   {
    "duration": 7,
    "start_time": "2022-02-11T07:53:59.139Z"
   },
   {
    "duration": 7,
    "start_time": "2022-02-11T07:55:32.902Z"
   },
   {
    "duration": 7,
    "start_time": "2022-02-11T07:55:32.911Z"
   },
   {
    "duration": 11,
    "start_time": "2022-02-11T07:55:32.920Z"
   },
   {
    "duration": 8,
    "start_time": "2022-02-11T07:55:32.933Z"
   },
   {
    "duration": 13,
    "start_time": "2022-02-11T07:55:32.943Z"
   },
   {
    "duration": 16,
    "start_time": "2022-02-11T07:55:32.958Z"
   },
   {
    "duration": 8,
    "start_time": "2022-02-11T07:55:32.976Z"
   },
   {
    "duration": 8,
    "start_time": "2022-02-11T07:55:32.986Z"
   },
   {
    "duration": 5,
    "start_time": "2022-02-11T07:55:33.017Z"
   },
   {
    "duration": 27,
    "start_time": "2022-02-11T07:55:33.025Z"
   },
   {
    "duration": 10,
    "start_time": "2022-02-11T07:55:33.054Z"
   },
   {
    "duration": 12,
    "start_time": "2022-02-11T07:55:33.066Z"
   },
   {
    "duration": 9,
    "start_time": "2022-02-11T07:55:33.080Z"
   },
   {
    "duration": 13,
    "start_time": "2022-02-11T07:55:33.090Z"
   },
   {
    "duration": 23,
    "start_time": "2022-02-11T07:55:33.105Z"
   },
   {
    "duration": 4,
    "start_time": "2022-02-11T07:55:33.129Z"
   },
   {
    "duration": 9,
    "start_time": "2022-02-11T07:55:33.135Z"
   },
   {
    "duration": 17,
    "start_time": "2022-02-11T07:55:33.146Z"
   },
   {
    "duration": 12,
    "start_time": "2022-02-11T07:55:33.164Z"
   },
   {
    "duration": 33,
    "start_time": "2022-02-11T07:55:33.177Z"
   },
   {
    "duration": 308,
    "start_time": "2022-02-11T07:55:33.212Z"
   },
   {
    "duration": -684,
    "start_time": "2022-02-11T07:55:34.207Z"
   },
   {
    "duration": -687,
    "start_time": "2022-02-11T07:55:34.211Z"
   },
   {
    "duration": -690,
    "start_time": "2022-02-11T07:55:34.215Z"
   },
   {
    "duration": -692,
    "start_time": "2022-02-11T07:55:34.218Z"
   },
   {
    "duration": -698,
    "start_time": "2022-02-11T07:55:34.226Z"
   },
   {
    "duration": -699,
    "start_time": "2022-02-11T07:55:34.228Z"
   },
   {
    "duration": -700,
    "start_time": "2022-02-11T07:55:34.231Z"
   },
   {
    "duration": -702,
    "start_time": "2022-02-11T07:55:34.234Z"
   },
   {
    "duration": -703,
    "start_time": "2022-02-11T07:55:34.237Z"
   },
   {
    "duration": -704,
    "start_time": "2022-02-11T07:55:34.239Z"
   },
   {
    "duration": -705,
    "start_time": "2022-02-11T07:55:34.242Z"
   },
   {
    "duration": -706,
    "start_time": "2022-02-11T07:55:34.244Z"
   },
   {
    "duration": -708,
    "start_time": "2022-02-11T07:55:34.247Z"
   },
   {
    "duration": -708,
    "start_time": "2022-02-11T07:55:34.249Z"
   },
   {
    "duration": -709,
    "start_time": "2022-02-11T07:55:34.251Z"
   },
   {
    "duration": -711,
    "start_time": "2022-02-11T07:55:34.254Z"
   },
   {
    "duration": -712,
    "start_time": "2022-02-11T07:55:34.256Z"
   },
   {
    "duration": 11,
    "start_time": "2022-02-11T08:22:05.505Z"
   },
   {
    "duration": 3,
    "start_time": "2022-02-11T08:22:13.315Z"
   },
   {
    "duration": 47,
    "start_time": "2022-02-11T08:22:14.464Z"
   },
   {
    "duration": 12,
    "start_time": "2022-02-11T08:22:14.891Z"
   },
   {
    "duration": 11,
    "start_time": "2022-02-11T08:22:17.161Z"
   },
   {
    "duration": 2,
    "start_time": "2022-02-11T08:22:30.687Z"
   },
   {
    "duration": 68,
    "start_time": "2022-02-11T08:22:30.691Z"
   },
   {
    "duration": 13,
    "start_time": "2022-02-11T08:22:30.762Z"
   },
   {
    "duration": 30,
    "start_time": "2022-02-11T08:22:30.777Z"
   },
   {
    "duration": 15,
    "start_time": "2022-02-11T08:22:30.808Z"
   },
   {
    "duration": 448,
    "start_time": "2022-02-11T08:22:30.825Z"
   },
   {
    "duration": -681,
    "start_time": "2022-02-11T08:22:31.957Z"
   },
   {
    "duration": -695,
    "start_time": "2022-02-11T08:22:31.972Z"
   },
   {
    "duration": -702,
    "start_time": "2022-02-11T08:22:31.980Z"
   },
   {
    "duration": -706,
    "start_time": "2022-02-11T08:22:31.985Z"
   },
   {
    "duration": -710,
    "start_time": "2022-02-11T08:22:31.990Z"
   },
   {
    "duration": -713,
    "start_time": "2022-02-11T08:22:31.994Z"
   },
   {
    "duration": -718,
    "start_time": "2022-02-11T08:22:32.000Z"
   },
   {
    "duration": -722,
    "start_time": "2022-02-11T08:22:32.005Z"
   },
   {
    "duration": -730,
    "start_time": "2022-02-11T08:22:32.014Z"
   },
   {
    "duration": -738,
    "start_time": "2022-02-11T08:22:32.023Z"
   },
   {
    "duration": -745,
    "start_time": "2022-02-11T08:22:32.031Z"
   },
   {
    "duration": -747,
    "start_time": "2022-02-11T08:22:32.034Z"
   },
   {
    "duration": -750,
    "start_time": "2022-02-11T08:22:32.038Z"
   },
   {
    "duration": -752,
    "start_time": "2022-02-11T08:22:32.041Z"
   },
   {
    "duration": -754,
    "start_time": "2022-02-11T08:22:32.044Z"
   },
   {
    "duration": -756,
    "start_time": "2022-02-11T08:22:32.047Z"
   },
   {
    "duration": -758,
    "start_time": "2022-02-11T08:22:32.050Z"
   },
   {
    "duration": -761,
    "start_time": "2022-02-11T08:22:32.054Z"
   },
   {
    "duration": -762,
    "start_time": "2022-02-11T08:22:32.057Z"
   },
   {
    "duration": -764,
    "start_time": "2022-02-11T08:22:32.060Z"
   },
   {
    "duration": -773,
    "start_time": "2022-02-11T08:22:32.070Z"
   },
   {
    "duration": -778,
    "start_time": "2022-02-11T08:22:32.075Z"
   },
   {
    "duration": -778,
    "start_time": "2022-02-11T08:22:32.077Z"
   },
   {
    "duration": -781,
    "start_time": "2022-02-11T08:22:32.081Z"
   },
   {
    "duration": -783,
    "start_time": "2022-02-11T08:22:32.084Z"
   },
   {
    "duration": -785,
    "start_time": "2022-02-11T08:22:32.087Z"
   },
   {
    "duration": -787,
    "start_time": "2022-02-11T08:22:32.090Z"
   },
   {
    "duration": -788,
    "start_time": "2022-02-11T08:22:32.092Z"
   },
   {
    "duration": -790,
    "start_time": "2022-02-11T08:22:32.095Z"
   },
   {
    "duration": -791,
    "start_time": "2022-02-11T08:22:32.097Z"
   },
   {
    "duration": -794,
    "start_time": "2022-02-11T08:22:32.101Z"
   },
   {
    "duration": -795,
    "start_time": "2022-02-11T08:22:32.103Z"
   },
   {
    "duration": -796,
    "start_time": "2022-02-11T08:22:32.105Z"
   },
   {
    "duration": -798,
    "start_time": "2022-02-11T08:22:32.108Z"
   },
   {
    "duration": -800,
    "start_time": "2022-02-11T08:22:32.111Z"
   },
   {
    "duration": 3,
    "start_time": "2022-02-11T08:23:21.243Z"
   },
   {
    "duration": 50,
    "start_time": "2022-02-11T08:23:21.248Z"
   },
   {
    "duration": 11,
    "start_time": "2022-02-11T08:23:21.301Z"
   },
   {
    "duration": 14,
    "start_time": "2022-02-11T08:23:21.314Z"
   },
   {
    "duration": 28,
    "start_time": "2022-02-11T08:23:21.330Z"
   },
   {
    "duration": 13,
    "start_time": "2022-02-11T08:23:21.360Z"
   },
   {
    "duration": 8,
    "start_time": "2022-02-11T08:23:21.375Z"
   },
   {
    "duration": 6,
    "start_time": "2022-02-11T08:23:21.386Z"
   },
   {
    "duration": 29,
    "start_time": "2022-02-11T08:23:21.393Z"
   },
   {
    "duration": 16,
    "start_time": "2022-02-11T08:23:21.424Z"
   },
   {
    "duration": 9,
    "start_time": "2022-02-11T08:23:21.442Z"
   },
   {
    "duration": 6,
    "start_time": "2022-02-11T08:23:21.452Z"
   },
   {
    "duration": 10,
    "start_time": "2022-02-11T08:23:21.460Z"
   },
   {
    "duration": 6,
    "start_time": "2022-02-11T08:23:21.472Z"
   },
   {
    "duration": 11,
    "start_time": "2022-02-11T08:23:21.480Z"
   },
   {
    "duration": 6,
    "start_time": "2022-02-11T08:23:21.493Z"
   },
   {
    "duration": 24,
    "start_time": "2022-02-11T08:23:21.501Z"
   },
   {
    "duration": 16,
    "start_time": "2022-02-11T08:23:21.526Z"
   },
   {
    "duration": 8,
    "start_time": "2022-02-11T08:23:21.544Z"
   },
   {
    "duration": 8,
    "start_time": "2022-02-11T08:23:21.554Z"
   },
   {
    "duration": 5,
    "start_time": "2022-02-11T08:23:21.564Z"
   },
   {
    "duration": 7,
    "start_time": "2022-02-11T08:23:21.571Z"
   },
   {
    "duration": 6,
    "start_time": "2022-02-11T08:23:21.582Z"
   },
   {
    "duration": 5,
    "start_time": "2022-02-11T08:23:21.620Z"
   },
   {
    "duration": 16,
    "start_time": "2022-02-11T08:23:21.626Z"
   },
   {
    "duration": 23,
    "start_time": "2022-02-11T08:23:21.644Z"
   },
   {
    "duration": 16,
    "start_time": "2022-02-11T08:23:21.669Z"
   },
   {
    "duration": 34,
    "start_time": "2022-02-11T08:23:21.687Z"
   },
   {
    "duration": 15,
    "start_time": "2022-02-11T08:23:21.723Z"
   },
   {
    "duration": 3762,
    "start_time": "2022-02-11T08:23:21.740Z"
   },
   {
    "duration": 3579,
    "start_time": "2022-02-11T08:23:25.504Z"
   },
   {
    "duration": 14,
    "start_time": "2022-02-11T08:23:29.085Z"
   },
   {
    "duration": 27,
    "start_time": "2022-02-11T08:23:29.101Z"
   },
   {
    "duration": 6,
    "start_time": "2022-02-11T08:23:29.130Z"
   },
   {
    "duration": 1123,
    "start_time": "2022-02-11T08:23:29.138Z"
   },
   {
    "duration": 15,
    "start_time": "2022-02-11T08:23:30.264Z"
   },
   {
    "duration": 28,
    "start_time": "2022-02-11T08:23:30.281Z"
   },
   {
    "duration": 27,
    "start_time": "2022-02-11T08:23:30.311Z"
   },
   {
    "duration": 18,
    "start_time": "2022-02-11T08:23:30.341Z"
   },
   {
    "duration": 17,
    "start_time": "2022-02-11T08:23:30.361Z"
   },
   {
    "duration": 19,
    "start_time": "2022-02-11T08:23:30.380Z"
   },
   {
    "duration": 3,
    "start_time": "2022-02-11T08:24:22.285Z"
   },
   {
    "duration": 50,
    "start_time": "2022-02-11T08:24:22.289Z"
   },
   {
    "duration": 12,
    "start_time": "2022-02-11T08:24:22.341Z"
   },
   {
    "duration": 14,
    "start_time": "2022-02-11T08:24:22.355Z"
   },
   {
    "duration": 9,
    "start_time": "2022-02-11T08:24:22.371Z"
   },
   {
    "duration": 42,
    "start_time": "2022-02-11T08:24:22.382Z"
   },
   {
    "duration": 16,
    "start_time": "2022-02-11T08:24:22.426Z"
   },
   {
    "duration": 14,
    "start_time": "2022-02-11T08:24:22.445Z"
   },
   {
    "duration": 91,
    "start_time": "2022-02-11T08:24:22.461Z"
   },
   {
    "duration": 26,
    "start_time": "2022-02-11T08:24:22.554Z"
   },
   {
    "duration": 9,
    "start_time": "2022-02-11T08:24:22.582Z"
   },
   {
    "duration": 14,
    "start_time": "2022-02-11T08:24:22.592Z"
   },
   {
    "duration": 9,
    "start_time": "2022-02-11T08:24:22.607Z"
   },
   {
    "duration": 9,
    "start_time": "2022-02-11T08:24:22.618Z"
   },
   {
    "duration": 7,
    "start_time": "2022-02-11T08:24:22.629Z"
   },
   {
    "duration": 8,
    "start_time": "2022-02-11T08:24:22.638Z"
   },
   {
    "duration": 13,
    "start_time": "2022-02-11T08:24:22.648Z"
   },
   {
    "duration": 13,
    "start_time": "2022-02-11T08:24:22.663Z"
   },
   {
    "duration": 14,
    "start_time": "2022-02-11T08:24:22.677Z"
   },
   {
    "duration": 26,
    "start_time": "2022-02-11T08:24:22.693Z"
   },
   {
    "duration": 5,
    "start_time": "2022-02-11T08:24:22.721Z"
   },
   {
    "duration": 9,
    "start_time": "2022-02-11T08:24:22.728Z"
   },
   {
    "duration": 8,
    "start_time": "2022-02-11T08:24:22.741Z"
   },
   {
    "duration": 8,
    "start_time": "2022-02-11T08:24:22.751Z"
   },
   {
    "duration": 4,
    "start_time": "2022-02-11T08:24:22.760Z"
   },
   {
    "duration": 9,
    "start_time": "2022-02-11T08:24:22.765Z"
   },
   {
    "duration": 13,
    "start_time": "2022-02-11T08:24:22.776Z"
   },
   {
    "duration": 43,
    "start_time": "2022-02-11T08:24:22.790Z"
   },
   {
    "duration": 18,
    "start_time": "2022-02-11T08:24:22.835Z"
   },
   {
    "duration": 16,
    "start_time": "2022-02-11T08:24:22.855Z"
   },
   {
    "duration": 3765,
    "start_time": "2022-02-11T08:24:22.873Z"
   },
   {
    "duration": 3823,
    "start_time": "2022-02-11T08:24:26.641Z"
   },
   {
    "duration": 15,
    "start_time": "2022-02-11T08:24:30.466Z"
   },
   {
    "duration": 20,
    "start_time": "2022-02-11T08:24:30.483Z"
   },
   {
    "duration": 18,
    "start_time": "2022-02-11T08:24:30.505Z"
   },
   {
    "duration": 1093,
    "start_time": "2022-02-11T08:24:30.525Z"
   },
   {
    "duration": 16,
    "start_time": "2022-02-11T08:24:31.620Z"
   },
   {
    "duration": 19,
    "start_time": "2022-02-11T08:24:31.638Z"
   },
   {
    "duration": 20,
    "start_time": "2022-02-11T08:24:31.659Z"
   },
   {
    "duration": 38,
    "start_time": "2022-02-11T08:24:31.681Z"
   },
   {
    "duration": 16,
    "start_time": "2022-02-11T08:24:31.721Z"
   },
   {
    "duration": 16,
    "start_time": "2022-02-11T08:24:31.739Z"
   },
   {
    "duration": 2,
    "start_time": "2022-02-11T08:25:49.855Z"
   },
   {
    "duration": 52,
    "start_time": "2022-02-11T08:25:49.859Z"
   },
   {
    "duration": 13,
    "start_time": "2022-02-11T08:25:49.913Z"
   },
   {
    "duration": 12,
    "start_time": "2022-02-11T08:25:49.928Z"
   },
   {
    "duration": 8,
    "start_time": "2022-02-11T08:25:49.942Z"
   },
   {
    "duration": 299,
    "start_time": "2022-02-11T08:25:49.951Z"
   },
   {
    "duration": -674,
    "start_time": "2022-02-11T08:25:50.927Z"
   },
   {
    "duration": -677,
    "start_time": "2022-02-11T08:25:50.931Z"
   },
   {
    "duration": -679,
    "start_time": "2022-02-11T08:25:50.934Z"
   },
   {
    "duration": -683,
    "start_time": "2022-02-11T08:25:50.939Z"
   },
   {
    "duration": -685,
    "start_time": "2022-02-11T08:25:50.942Z"
   },
   {
    "duration": -688,
    "start_time": "2022-02-11T08:25:50.946Z"
   },
   {
    "duration": -690,
    "start_time": "2022-02-11T08:25:50.949Z"
   },
   {
    "duration": -698,
    "start_time": "2022-02-11T08:25:50.958Z"
   },
   {
    "duration": -702,
    "start_time": "2022-02-11T08:25:50.962Z"
   },
   {
    "duration": -704,
    "start_time": "2022-02-11T08:25:50.965Z"
   },
   {
    "duration": -706,
    "start_time": "2022-02-11T08:25:50.968Z"
   },
   {
    "duration": -709,
    "start_time": "2022-02-11T08:25:50.972Z"
   },
   {
    "duration": -710,
    "start_time": "2022-02-11T08:25:50.975Z"
   },
   {
    "duration": -713,
    "start_time": "2022-02-11T08:25:50.979Z"
   },
   {
    "duration": -715,
    "start_time": "2022-02-11T08:25:50.982Z"
   },
   {
    "duration": -718,
    "start_time": "2022-02-11T08:25:50.986Z"
   },
   {
    "duration": -719,
    "start_time": "2022-02-11T08:25:50.988Z"
   },
   {
    "duration": -721,
    "start_time": "2022-02-11T08:25:50.991Z"
   },
   {
    "duration": -723,
    "start_time": "2022-02-11T08:25:50.994Z"
   },
   {
    "duration": -726,
    "start_time": "2022-02-11T08:25:50.998Z"
   },
   {
    "duration": -736,
    "start_time": "2022-02-11T08:25:51.009Z"
   },
   {
    "duration": -738,
    "start_time": "2022-02-11T08:25:51.012Z"
   },
   {
    "duration": -740,
    "start_time": "2022-02-11T08:25:51.015Z"
   },
   {
    "duration": -742,
    "start_time": "2022-02-11T08:25:51.018Z"
   },
   {
    "duration": -744,
    "start_time": "2022-02-11T08:25:51.020Z"
   },
   {
    "duration": -745,
    "start_time": "2022-02-11T08:25:51.023Z"
   },
   {
    "duration": -747,
    "start_time": "2022-02-11T08:25:51.026Z"
   },
   {
    "duration": -748,
    "start_time": "2022-02-11T08:25:51.028Z"
   },
   {
    "duration": -749,
    "start_time": "2022-02-11T08:25:51.030Z"
   },
   {
    "duration": -752,
    "start_time": "2022-02-11T08:25:51.033Z"
   },
   {
    "duration": -754,
    "start_time": "2022-02-11T08:25:51.036Z"
   },
   {
    "duration": -756,
    "start_time": "2022-02-11T08:25:51.039Z"
   },
   {
    "duration": -757,
    "start_time": "2022-02-11T08:25:51.041Z"
   },
   {
    "duration": -759,
    "start_time": "2022-02-11T08:25:51.044Z"
   },
   {
    "duration": -760,
    "start_time": "2022-02-11T08:25:51.046Z"
   },
   {
    "duration": 21,
    "start_time": "2022-02-11T08:27:07.592Z"
   },
   {
    "duration": 2,
    "start_time": "2022-02-11T08:27:09.366Z"
   },
   {
    "duration": 50,
    "start_time": "2022-02-11T08:27:09.370Z"
   },
   {
    "duration": 10,
    "start_time": "2022-02-11T08:27:09.422Z"
   },
   {
    "duration": 15,
    "start_time": "2022-02-11T08:27:09.434Z"
   },
   {
    "duration": 10,
    "start_time": "2022-02-11T08:27:09.451Z"
   },
   {
    "duration": 23,
    "start_time": "2022-02-11T08:27:09.462Z"
   },
   {
    "duration": 37,
    "start_time": "2022-02-11T08:27:09.487Z"
   },
   {
    "duration": 3,
    "start_time": "2022-02-11T08:27:09.527Z"
   },
   {
    "duration": 18,
    "start_time": "2022-02-11T08:27:09.532Z"
   },
   {
    "duration": 8,
    "start_time": "2022-02-11T08:27:09.552Z"
   },
   {
    "duration": 9,
    "start_time": "2022-02-11T08:27:09.562Z"
   },
   {
    "duration": 6,
    "start_time": "2022-02-11T08:27:09.573Z"
   },
   {
    "duration": 8,
    "start_time": "2022-02-11T08:27:09.580Z"
   },
   {
    "duration": 351,
    "start_time": "2022-02-11T08:27:09.590Z"
   },
   {
    "duration": -709,
    "start_time": "2022-02-11T08:27:10.653Z"
   },
   {
    "duration": -713,
    "start_time": "2022-02-11T08:27:10.658Z"
   },
   {
    "duration": -716,
    "start_time": "2022-02-11T08:27:10.662Z"
   },
   {
    "duration": -719,
    "start_time": "2022-02-11T08:27:10.666Z"
   },
   {
    "duration": -721,
    "start_time": "2022-02-11T08:27:10.669Z"
   },
   {
    "duration": -724,
    "start_time": "2022-02-11T08:27:10.673Z"
   },
   {
    "duration": -738,
    "start_time": "2022-02-11T08:27:10.688Z"
   },
   {
    "duration": -741,
    "start_time": "2022-02-11T08:27:10.692Z"
   },
   {
    "duration": -744,
    "start_time": "2022-02-11T08:27:10.696Z"
   },
   {
    "duration": -746,
    "start_time": "2022-02-11T08:27:10.699Z"
   },
   {
    "duration": -749,
    "start_time": "2022-02-11T08:27:10.703Z"
   },
   {
    "duration": -751,
    "start_time": "2022-02-11T08:27:10.706Z"
   },
   {
    "duration": -754,
    "start_time": "2022-02-11T08:27:10.710Z"
   },
   {
    "duration": -756,
    "start_time": "2022-02-11T08:27:10.713Z"
   },
   {
    "duration": -758,
    "start_time": "2022-02-11T08:27:10.716Z"
   },
   {
    "duration": -762,
    "start_time": "2022-02-11T08:27:10.721Z"
   },
   {
    "duration": -766,
    "start_time": "2022-02-11T08:27:10.726Z"
   },
   {
    "duration": -768,
    "start_time": "2022-02-11T08:27:10.729Z"
   },
   {
    "duration": -770,
    "start_time": "2022-02-11T08:27:10.732Z"
   },
   {
    "duration": -772,
    "start_time": "2022-02-11T08:27:10.735Z"
   },
   {
    "duration": -776,
    "start_time": "2022-02-11T08:27:10.740Z"
   },
   {
    "duration": -778,
    "start_time": "2022-02-11T08:27:10.743Z"
   },
   {
    "duration": -781,
    "start_time": "2022-02-11T08:27:10.747Z"
   },
   {
    "duration": -783,
    "start_time": "2022-02-11T08:27:10.750Z"
   },
   {
    "duration": -787,
    "start_time": "2022-02-11T08:27:10.755Z"
   },
   {
    "duration": -789,
    "start_time": "2022-02-11T08:27:10.758Z"
   },
   {
    "duration": -792,
    "start_time": "2022-02-11T08:27:10.762Z"
   },
   {
    "duration": 2,
    "start_time": "2022-02-11T08:28:38.842Z"
   },
   {
    "duration": 53,
    "start_time": "2022-02-11T08:28:38.846Z"
   },
   {
    "duration": 11,
    "start_time": "2022-02-11T08:28:38.902Z"
   },
   {
    "duration": 16,
    "start_time": "2022-02-11T08:28:38.915Z"
   },
   {
    "duration": 9,
    "start_time": "2022-02-11T08:28:38.933Z"
   },
   {
    "duration": 21,
    "start_time": "2022-02-11T08:28:38.944Z"
   },
   {
    "duration": 306,
    "start_time": "2022-02-11T08:28:38.967Z"
   },
   {
    "duration": -717,
    "start_time": "2022-02-11T08:28:39.995Z"
   },
   {
    "duration": -724,
    "start_time": "2022-02-11T08:28:40.004Z"
   },
   {
    "duration": -729,
    "start_time": "2022-02-11T08:28:40.010Z"
   },
   {
    "duration": -735,
    "start_time": "2022-02-11T08:28:40.017Z"
   },
   {
    "duration": -739,
    "start_time": "2022-02-11T08:28:40.022Z"
   },
   {
    "duration": -744,
    "start_time": "2022-02-11T08:28:40.028Z"
   },
   {
    "duration": -750,
    "start_time": "2022-02-11T08:28:40.035Z"
   },
   {
    "duration": -756,
    "start_time": "2022-02-11T08:28:40.042Z"
   },
   {
    "duration": -762,
    "start_time": "2022-02-11T08:28:40.049Z"
   },
   {
    "duration": -767,
    "start_time": "2022-02-11T08:28:40.054Z"
   },
   {
    "duration": -781,
    "start_time": "2022-02-11T08:28:40.069Z"
   },
   {
    "duration": -786,
    "start_time": "2022-02-11T08:28:40.075Z"
   },
   {
    "duration": -789,
    "start_time": "2022-02-11T08:28:40.079Z"
   },
   {
    "duration": -794,
    "start_time": "2022-02-11T08:28:40.085Z"
   },
   {
    "duration": -797,
    "start_time": "2022-02-11T08:28:40.089Z"
   },
   {
    "duration": -808,
    "start_time": "2022-02-11T08:28:40.101Z"
   },
   {
    "duration": -813,
    "start_time": "2022-02-11T08:28:40.106Z"
   },
   {
    "duration": -816,
    "start_time": "2022-02-11T08:28:40.110Z"
   },
   {
    "duration": -818,
    "start_time": "2022-02-11T08:28:40.113Z"
   },
   {
    "duration": -822,
    "start_time": "2022-02-11T08:28:40.118Z"
   },
   {
    "duration": -824,
    "start_time": "2022-02-11T08:28:40.121Z"
   },
   {
    "duration": -827,
    "start_time": "2022-02-11T08:28:40.125Z"
   },
   {
    "duration": -830,
    "start_time": "2022-02-11T08:28:40.129Z"
   },
   {
    "duration": -833,
    "start_time": "2022-02-11T08:28:40.133Z"
   },
   {
    "duration": -836,
    "start_time": "2022-02-11T08:28:40.137Z"
   },
   {
    "duration": -838,
    "start_time": "2022-02-11T08:28:40.140Z"
   },
   {
    "duration": -840,
    "start_time": "2022-02-11T08:28:40.143Z"
   },
   {
    "duration": -843,
    "start_time": "2022-02-11T08:28:40.146Z"
   },
   {
    "duration": -845,
    "start_time": "2022-02-11T08:28:40.149Z"
   },
   {
    "duration": -847,
    "start_time": "2022-02-11T08:28:40.152Z"
   },
   {
    "duration": -850,
    "start_time": "2022-02-11T08:28:40.156Z"
   },
   {
    "duration": -852,
    "start_time": "2022-02-11T08:28:40.159Z"
   },
   {
    "duration": -855,
    "start_time": "2022-02-11T08:28:40.163Z"
   },
   {
    "duration": -865,
    "start_time": "2022-02-11T08:28:40.173Z"
   },
   {
    "duration": -866,
    "start_time": "2022-02-11T08:28:40.175Z"
   },
   {
    "duration": -868,
    "start_time": "2022-02-11T08:28:40.178Z"
   },
   {
    "duration": 3,
    "start_time": "2022-02-11T08:29:55.417Z"
   },
   {
    "duration": 55,
    "start_time": "2022-02-11T08:29:55.421Z"
   },
   {
    "duration": 11,
    "start_time": "2022-02-11T08:29:55.478Z"
   },
   {
    "duration": 30,
    "start_time": "2022-02-11T08:29:55.491Z"
   },
   {
    "duration": 11,
    "start_time": "2022-02-11T08:29:55.523Z"
   },
   {
    "duration": 29,
    "start_time": "2022-02-11T08:29:55.536Z"
   },
   {
    "duration": 21,
    "start_time": "2022-02-11T08:29:55.568Z"
   },
   {
    "duration": 40,
    "start_time": "2022-02-11T08:29:55.619Z"
   },
   {
    "duration": 10,
    "start_time": "2022-02-11T08:29:55.662Z"
   },
   {
    "duration": 9,
    "start_time": "2022-02-11T08:29:55.674Z"
   },
   {
    "duration": 35,
    "start_time": "2022-02-11T08:29:55.685Z"
   },
   {
    "duration": 7,
    "start_time": "2022-02-11T08:29:55.722Z"
   },
   {
    "duration": 15,
    "start_time": "2022-02-11T08:29:55.731Z"
   },
   {
    "duration": 15,
    "start_time": "2022-02-11T08:29:55.748Z"
   },
   {
    "duration": 10,
    "start_time": "2022-02-11T08:29:55.765Z"
   },
   {
    "duration": 15,
    "start_time": "2022-02-11T08:29:55.777Z"
   },
   {
    "duration": 39,
    "start_time": "2022-02-11T08:29:55.794Z"
   },
   {
    "duration": 6,
    "start_time": "2022-02-11T08:29:55.835Z"
   },
   {
    "duration": 12,
    "start_time": "2022-02-11T08:29:55.843Z"
   },
   {
    "duration": 17,
    "start_time": "2022-02-11T08:29:55.856Z"
   },
   {
    "duration": 18,
    "start_time": "2022-02-11T08:29:55.875Z"
   },
   {
    "duration": 14,
    "start_time": "2022-02-11T08:29:55.894Z"
   },
   {
    "duration": 12,
    "start_time": "2022-02-11T08:29:55.912Z"
   },
   {
    "duration": 8,
    "start_time": "2022-02-11T08:29:55.926Z"
   },
   {
    "duration": 21,
    "start_time": "2022-02-11T08:29:55.936Z"
   },
   {
    "duration": 4,
    "start_time": "2022-02-11T08:29:55.959Z"
   },
   {
    "duration": 15,
    "start_time": "2022-02-11T08:29:55.964Z"
   },
   {
    "duration": 15,
    "start_time": "2022-02-11T08:29:55.981Z"
   },
   {
    "duration": 28,
    "start_time": "2022-02-11T08:29:55.998Z"
   },
   {
    "duration": 22,
    "start_time": "2022-02-11T08:29:56.028Z"
   },
   {
    "duration": 19,
    "start_time": "2022-02-11T08:29:56.053Z"
   },
   {
    "duration": 3816,
    "start_time": "2022-02-11T08:29:56.074Z"
   },
   {
    "duration": 4250,
    "start_time": "2022-02-11T08:29:59.892Z"
   },
   {
    "duration": 15,
    "start_time": "2022-02-11T08:30:04.144Z"
   },
   {
    "duration": 12,
    "start_time": "2022-02-11T08:30:04.160Z"
   },
   {
    "duration": 7,
    "start_time": "2022-02-11T08:30:04.174Z"
   },
   {
    "duration": 1278,
    "start_time": "2022-02-11T08:30:04.183Z"
   },
   {
    "duration": 16,
    "start_time": "2022-02-11T08:30:05.463Z"
   },
   {
    "duration": 18,
    "start_time": "2022-02-11T08:30:05.480Z"
   },
   {
    "duration": 23,
    "start_time": "2022-02-11T08:30:05.500Z"
   },
   {
    "duration": 16,
    "start_time": "2022-02-11T08:30:05.525Z"
   },
   {
    "duration": 16,
    "start_time": "2022-02-11T08:30:05.543Z"
   },
   {
    "duration": 17,
    "start_time": "2022-02-11T08:30:05.560Z"
   },
   {
    "duration": 3,
    "start_time": "2022-02-11T08:30:45.977Z"
   },
   {
    "duration": 52,
    "start_time": "2022-02-11T08:30:45.982Z"
   },
   {
    "duration": 18,
    "start_time": "2022-02-11T08:30:46.036Z"
   },
   {
    "duration": 23,
    "start_time": "2022-02-11T08:30:46.056Z"
   },
   {
    "duration": 48,
    "start_time": "2022-02-11T08:30:46.081Z"
   },
   {
    "duration": 23,
    "start_time": "2022-02-11T08:30:46.131Z"
   },
   {
    "duration": 20,
    "start_time": "2022-02-11T08:30:46.155Z"
   },
   {
    "duration": 60,
    "start_time": "2022-02-11T08:30:46.179Z"
   },
   {
    "duration": 6,
    "start_time": "2022-02-11T08:30:46.242Z"
   },
   {
    "duration": 14,
    "start_time": "2022-02-11T08:30:46.249Z"
   },
   {
    "duration": 11,
    "start_time": "2022-02-11T08:30:46.265Z"
   },
   {
    "duration": 31,
    "start_time": "2022-02-11T08:30:46.279Z"
   },
   {
    "duration": 14,
    "start_time": "2022-02-11T08:30:46.313Z"
   },
   {
    "duration": 13,
    "start_time": "2022-02-11T08:30:46.329Z"
   },
   {
    "duration": 27,
    "start_time": "2022-02-11T08:30:46.344Z"
   },
   {
    "duration": 15,
    "start_time": "2022-02-11T08:30:46.373Z"
   },
   {
    "duration": 11,
    "start_time": "2022-02-11T08:30:46.390Z"
   },
   {
    "duration": 12,
    "start_time": "2022-02-11T08:30:46.402Z"
   },
   {
    "duration": 22,
    "start_time": "2022-02-11T08:30:46.416Z"
   },
   {
    "duration": 23,
    "start_time": "2022-02-11T08:30:46.440Z"
   },
   {
    "duration": 30,
    "start_time": "2022-02-11T08:30:46.465Z"
   },
   {
    "duration": 12,
    "start_time": "2022-02-11T08:30:46.498Z"
   },
   {
    "duration": 39,
    "start_time": "2022-02-11T08:30:46.513Z"
   },
   {
    "duration": 43,
    "start_time": "2022-02-11T08:30:46.555Z"
   },
   {
    "duration": 23,
    "start_time": "2022-02-11T08:30:46.600Z"
   },
   {
    "duration": 16,
    "start_time": "2022-02-11T08:30:46.625Z"
   },
   {
    "duration": 21,
    "start_time": "2022-02-11T08:30:46.643Z"
   },
   {
    "duration": 29,
    "start_time": "2022-02-11T08:30:46.665Z"
   },
   {
    "duration": 25,
    "start_time": "2022-02-11T08:30:46.696Z"
   },
   {
    "duration": 26,
    "start_time": "2022-02-11T08:30:46.723Z"
   },
   {
    "duration": 18,
    "start_time": "2022-02-11T08:30:46.751Z"
   },
   {
    "duration": 26,
    "start_time": "2022-02-11T08:30:46.771Z"
   },
   {
    "duration": 4031,
    "start_time": "2022-02-11T08:30:46.799Z"
   },
   {
    "duration": 4086,
    "start_time": "2022-02-11T08:30:50.833Z"
   },
   {
    "duration": 19,
    "start_time": "2022-02-11T08:30:54.921Z"
   },
   {
    "duration": 15,
    "start_time": "2022-02-11T08:30:54.942Z"
   },
   {
    "duration": 6,
    "start_time": "2022-02-11T08:30:54.959Z"
   },
   {
    "duration": 1914,
    "start_time": "2022-02-11T08:30:54.967Z"
   },
   {
    "duration": 30,
    "start_time": "2022-02-11T08:30:56.883Z"
   },
   {
    "duration": 128,
    "start_time": "2022-02-11T08:30:56.921Z"
   },
   {
    "duration": 153,
    "start_time": "2022-02-11T08:30:57.052Z"
   },
   {
    "duration": 105,
    "start_time": "2022-02-11T08:30:57.208Z"
   },
   {
    "duration": 25,
    "start_time": "2022-02-11T08:30:57.316Z"
   },
   {
    "duration": 14,
    "start_time": "2022-02-11T08:30:57.343Z"
   },
   {
    "duration": 2,
    "start_time": "2022-02-11T08:46:11.760Z"
   },
   {
    "duration": 52,
    "start_time": "2022-02-11T08:46:11.765Z"
   },
   {
    "duration": 12,
    "start_time": "2022-02-11T08:46:11.820Z"
   },
   {
    "duration": 13,
    "start_time": "2022-02-11T08:46:11.834Z"
   },
   {
    "duration": 10,
    "start_time": "2022-02-11T08:46:11.849Z"
   },
   {
    "duration": 64,
    "start_time": "2022-02-11T08:46:11.862Z"
   },
   {
    "duration": 20,
    "start_time": "2022-02-11T08:46:11.928Z"
   },
   {
    "duration": 39,
    "start_time": "2022-02-11T08:46:11.950Z"
   },
   {
    "duration": 6,
    "start_time": "2022-02-11T08:46:12.021Z"
   },
   {
    "duration": 14,
    "start_time": "2022-02-11T08:46:12.029Z"
   },
   {
    "duration": 5,
    "start_time": "2022-02-11T08:46:12.045Z"
   },
   {
    "duration": 15,
    "start_time": "2022-02-11T08:46:12.052Z"
   },
   {
    "duration": 7,
    "start_time": "2022-02-11T08:46:12.069Z"
   },
   {
    "duration": 11,
    "start_time": "2022-02-11T08:46:12.077Z"
   },
   {
    "duration": 5,
    "start_time": "2022-02-11T08:46:12.119Z"
   },
   {
    "duration": 27,
    "start_time": "2022-02-11T08:46:12.126Z"
   },
   {
    "duration": 6,
    "start_time": "2022-02-11T08:46:12.155Z"
   },
   {
    "duration": 13,
    "start_time": "2022-02-11T08:46:12.163Z"
   },
   {
    "duration": 19,
    "start_time": "2022-02-11T08:46:12.177Z"
   },
   {
    "duration": 5,
    "start_time": "2022-02-11T08:46:12.198Z"
   },
   {
    "duration": 14,
    "start_time": "2022-02-11T08:46:12.205Z"
   },
   {
    "duration": 5,
    "start_time": "2022-02-11T08:46:12.221Z"
   },
   {
    "duration": 8,
    "start_time": "2022-02-11T08:46:12.228Z"
   },
   {
    "duration": 7,
    "start_time": "2022-02-11T08:46:12.238Z"
   },
   {
    "duration": 4,
    "start_time": "2022-02-11T08:46:12.247Z"
   },
   {
    "duration": 10,
    "start_time": "2022-02-11T08:46:12.253Z"
   },
   {
    "duration": 12,
    "start_time": "2022-02-11T08:46:12.267Z"
   },
   {
    "duration": 52,
    "start_time": "2022-02-11T08:46:12.281Z"
   },
   {
    "duration": 18,
    "start_time": "2022-02-11T08:46:12.335Z"
   },
   {
    "duration": 15,
    "start_time": "2022-02-11T08:46:12.354Z"
   },
   {
    "duration": 3732,
    "start_time": "2022-02-11T08:46:12.371Z"
   },
   {
    "duration": 3766,
    "start_time": "2022-02-11T08:46:16.117Z"
   },
   {
    "duration": 15,
    "start_time": "2022-02-11T08:46:19.885Z"
   },
   {
    "duration": 12,
    "start_time": "2022-02-11T08:46:19.919Z"
   },
   {
    "duration": 5,
    "start_time": "2022-02-11T08:46:19.933Z"
   },
   {
    "duration": 1081,
    "start_time": "2022-02-11T08:46:19.940Z"
   },
   {
    "duration": 17,
    "start_time": "2022-02-11T08:46:21.023Z"
   },
   {
    "duration": 10,
    "start_time": "2022-02-11T08:46:21.042Z"
   },
   {
    "duration": 25,
    "start_time": "2022-02-11T08:46:21.054Z"
   },
   {
    "duration": 42,
    "start_time": "2022-02-11T08:46:21.081Z"
   },
   {
    "duration": 14,
    "start_time": "2022-02-11T08:46:21.125Z"
   },
   {
    "duration": 103,
    "start_time": "2022-02-11T08:46:21.141Z"
   },
   {
    "duration": 944,
    "start_time": "2022-02-11T08:46:45.715Z"
   },
   {
    "duration": 292,
    "start_time": "2022-02-11T08:50:40.037Z"
   },
   {
    "duration": 297,
    "start_time": "2022-02-11T08:55:14.221Z"
   },
   {
    "duration": 261,
    "start_time": "2022-02-11T08:56:07.227Z"
   },
   {
    "duration": 3,
    "start_time": "2022-02-11T08:56:22.372Z"
   },
   {
    "duration": 61,
    "start_time": "2022-02-11T08:56:22.377Z"
   },
   {
    "duration": 15,
    "start_time": "2022-02-11T08:56:22.441Z"
   },
   {
    "duration": 17,
    "start_time": "2022-02-11T08:56:22.459Z"
   },
   {
    "duration": 41,
    "start_time": "2022-02-11T08:56:22.479Z"
   },
   {
    "duration": 25,
    "start_time": "2022-02-11T08:56:22.522Z"
   },
   {
    "duration": 21,
    "start_time": "2022-02-11T08:56:22.549Z"
   },
   {
    "duration": 65,
    "start_time": "2022-02-11T08:56:22.573Z"
   },
   {
    "duration": 5,
    "start_time": "2022-02-11T08:56:22.640Z"
   },
   {
    "duration": 13,
    "start_time": "2022-02-11T08:56:22.647Z"
   },
   {
    "duration": 5,
    "start_time": "2022-02-11T08:56:22.661Z"
   },
   {
    "duration": 16,
    "start_time": "2022-02-11T08:56:22.668Z"
   },
   {
    "duration": 9,
    "start_time": "2022-02-11T08:56:22.686Z"
   },
   {
    "duration": 26,
    "start_time": "2022-02-11T08:56:22.697Z"
   },
   {
    "duration": 7,
    "start_time": "2022-02-11T08:56:22.725Z"
   },
   {
    "duration": 8,
    "start_time": "2022-02-11T08:56:22.734Z"
   },
   {
    "duration": 10,
    "start_time": "2022-02-11T08:56:22.743Z"
   },
   {
    "duration": 12,
    "start_time": "2022-02-11T08:56:22.755Z"
   },
   {
    "duration": 22,
    "start_time": "2022-02-11T08:56:22.769Z"
   },
   {
    "duration": 26,
    "start_time": "2022-02-11T08:56:22.793Z"
   },
   {
    "duration": 9,
    "start_time": "2022-02-11T08:56:22.821Z"
   },
   {
    "duration": 6,
    "start_time": "2022-02-11T08:56:22.832Z"
   },
   {
    "duration": 7,
    "start_time": "2022-02-11T08:56:22.842Z"
   },
   {
    "duration": 6,
    "start_time": "2022-02-11T08:56:22.851Z"
   },
   {
    "duration": 9,
    "start_time": "2022-02-11T08:56:22.859Z"
   },
   {
    "duration": 17,
    "start_time": "2022-02-11T08:56:22.870Z"
   },
   {
    "duration": 34,
    "start_time": "2022-02-11T08:56:22.889Z"
   },
   {
    "duration": 17,
    "start_time": "2022-02-11T08:56:22.925Z"
   },
   {
    "duration": 19,
    "start_time": "2022-02-11T08:56:22.944Z"
   },
   {
    "duration": 15,
    "start_time": "2022-02-11T08:56:22.965Z"
   },
   {
    "duration": 4175,
    "start_time": "2022-02-11T08:56:22.982Z"
   },
   {
    "duration": 3887,
    "start_time": "2022-02-11T08:56:27.159Z"
   },
   {
    "duration": 16,
    "start_time": "2022-02-11T08:56:31.048Z"
   },
   {
    "duration": 50,
    "start_time": "2022-02-11T08:56:31.066Z"
   },
   {
    "duration": 32,
    "start_time": "2022-02-11T08:56:31.118Z"
   },
   {
    "duration": 1222,
    "start_time": "2022-02-11T08:56:31.152Z"
   },
   {
    "duration": 16,
    "start_time": "2022-02-11T08:56:32.376Z"
   },
   {
    "duration": 14,
    "start_time": "2022-02-11T08:56:32.394Z"
   },
   {
    "duration": 20,
    "start_time": "2022-02-11T08:56:32.419Z"
   },
   {
    "duration": 16,
    "start_time": "2022-02-11T08:56:32.440Z"
   },
   {
    "duration": 19,
    "start_time": "2022-02-11T08:56:32.458Z"
   },
   {
    "duration": 291,
    "start_time": "2022-02-11T08:56:32.479Z"
   },
   {
    "duration": 347,
    "start_time": "2022-02-11T08:56:39.049Z"
   },
   {
    "duration": 285,
    "start_time": "2022-02-11T08:56:53.297Z"
   },
   {
    "duration": 17,
    "start_time": "2022-02-11T09:06:47.166Z"
   },
   {
    "duration": 16,
    "start_time": "2022-02-11T09:07:28.244Z"
   },
   {
    "duration": 21,
    "start_time": "2022-02-11T09:08:00.539Z"
   },
   {
    "duration": 16,
    "start_time": "2022-02-11T09:10:07.903Z"
   },
   {
    "duration": 38,
    "start_time": "2022-02-11T09:18:51.155Z"
   },
   {
    "duration": 17,
    "start_time": "2022-02-11T09:19:45.674Z"
   },
   {
    "duration": 275,
    "start_time": "2022-02-11T09:25:44.217Z"
   },
   {
    "duration": 271,
    "start_time": "2022-02-11T09:25:52.056Z"
   },
   {
    "duration": 27,
    "start_time": "2022-02-11T09:26:23.378Z"
   },
   {
    "duration": 16,
    "start_time": "2022-02-11T09:27:02.783Z"
   },
   {
    "duration": 22,
    "start_time": "2022-02-11T09:28:21.995Z"
   },
   {
    "duration": 25,
    "start_time": "2022-02-11T09:28:55.040Z"
   },
   {
    "duration": 6919,
    "start_time": "2022-02-11T09:29:50.680Z"
   },
   {
    "duration": 29,
    "start_time": "2022-02-11T09:30:16.265Z"
   },
   {
    "duration": 16,
    "start_time": "2022-02-11T09:30:48.144Z"
   },
   {
    "duration": 24,
    "start_time": "2022-02-11T09:31:28.910Z"
   },
   {
    "duration": 538,
    "start_time": "2022-02-11T13:26:39.598Z"
   },
   {
    "duration": 47,
    "start_time": "2022-02-11T13:26:40.137Z"
   },
   {
    "duration": 15,
    "start_time": "2022-02-11T13:26:40.186Z"
   },
   {
    "duration": 9,
    "start_time": "2022-02-11T13:26:40.203Z"
   },
   {
    "duration": 7,
    "start_time": "2022-02-11T13:26:40.214Z"
   },
   {
    "duration": 18,
    "start_time": "2022-02-11T13:26:40.222Z"
   },
   {
    "duration": 43,
    "start_time": "2022-02-11T13:26:40.241Z"
   },
   {
    "duration": 35,
    "start_time": "2022-02-11T13:26:40.286Z"
   },
   {
    "duration": 4,
    "start_time": "2022-02-11T13:26:40.324Z"
   },
   {
    "duration": 9,
    "start_time": "2022-02-11T13:26:40.330Z"
   },
   {
    "duration": 4,
    "start_time": "2022-02-11T13:26:40.340Z"
   },
   {
    "duration": 33,
    "start_time": "2022-02-11T13:26:40.345Z"
   },
   {
    "duration": 7,
    "start_time": "2022-02-11T13:26:40.379Z"
   },
   {
    "duration": 11,
    "start_time": "2022-02-11T13:26:40.387Z"
   },
   {
    "duration": 9,
    "start_time": "2022-02-11T13:26:40.400Z"
   },
   {
    "duration": 11,
    "start_time": "2022-02-11T13:26:40.410Z"
   },
   {
    "duration": 4,
    "start_time": "2022-02-11T13:26:40.423Z"
   },
   {
    "duration": 13,
    "start_time": "2022-02-11T13:26:40.429Z"
   },
   {
    "duration": 16,
    "start_time": "2022-02-11T13:26:40.444Z"
   },
   {
    "duration": 11,
    "start_time": "2022-02-11T13:26:40.461Z"
   },
   {
    "duration": 5,
    "start_time": "2022-02-11T13:26:40.473Z"
   },
   {
    "duration": 8,
    "start_time": "2022-02-11T13:26:40.479Z"
   },
   {
    "duration": 9,
    "start_time": "2022-02-11T13:26:40.488Z"
   },
   {
    "duration": 8,
    "start_time": "2022-02-11T13:26:40.499Z"
   },
   {
    "duration": 7,
    "start_time": "2022-02-11T13:26:40.508Z"
   },
   {
    "duration": 10,
    "start_time": "2022-02-11T13:26:40.516Z"
   },
   {
    "duration": 11,
    "start_time": "2022-02-11T13:26:40.530Z"
   },
   {
    "duration": 31,
    "start_time": "2022-02-11T13:26:40.543Z"
   },
   {
    "duration": 16,
    "start_time": "2022-02-11T13:26:40.576Z"
   },
   {
    "duration": 14,
    "start_time": "2022-02-11T13:26:40.594Z"
   },
   {
    "duration": 3337,
    "start_time": "2022-02-11T13:26:40.610Z"
   },
   {
    "duration": 3242,
    "start_time": "2022-02-11T13:26:43.948Z"
   },
   {
    "duration": 13,
    "start_time": "2022-02-11T13:26:47.191Z"
   },
   {
    "duration": 10,
    "start_time": "2022-02-11T13:26:47.206Z"
   },
   {
    "duration": 4,
    "start_time": "2022-02-11T13:26:47.218Z"
   },
   {
    "duration": 1029,
    "start_time": "2022-02-11T13:26:47.223Z"
   },
   {
    "duration": 18,
    "start_time": "2022-02-11T13:26:48.254Z"
   },
   {
    "duration": 7,
    "start_time": "2022-02-11T13:26:48.274Z"
   },
   {
    "duration": 14,
    "start_time": "2022-02-11T13:26:48.282Z"
   },
   {
    "duration": 13,
    "start_time": "2022-02-11T13:26:48.297Z"
   },
   {
    "duration": 14,
    "start_time": "2022-02-11T13:26:48.312Z"
   },
   {
    "duration": 52,
    "start_time": "2022-02-11T13:26:48.327Z"
   }
  ],
  "kernelspec": {
   "display_name": "Python 3 (ipykernel)",
   "language": "python",
   "name": "python3"
  },
  "language_info": {
   "codemirror_mode": {
    "name": "ipython",
    "version": 3
   },
   "file_extension": ".py",
   "mimetype": "text/x-python",
   "name": "python",
   "nbconvert_exporter": "python",
   "pygments_lexer": "ipython3",
   "version": "3.9.5"
  },
  "toc": {
   "base_numbering": 1,
   "nav_menu": {},
   "number_sections": true,
   "sideBar": true,
   "skip_h1_title": true,
   "title_cell": "Table of Contents",
   "title_sidebar": "Contents",
   "toc_cell": false,
   "toc_position": {},
   "toc_section_display": true,
   "toc_window_display": false
  }
 },
 "nbformat": 4,
 "nbformat_minor": 2
}
