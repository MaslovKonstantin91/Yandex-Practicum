{
 "cells": [
  {
   "cell_type": "markdown",
   "metadata": {
    "id": "E0vqbgi9ay0H"
   },
   "source": [
    "# Яндекс.Музыка"
   ]
  },
  {
   "cell_type": "markdown",
   "metadata": {
    "id": "VUC88oWjTJw2"
   },
   "source": [
    "Сравнение Москвы и Петербурга окружено мифами. Например:\n",
    " * Москва — мегаполис, подчинённый жёсткому ритму рабочей недели;\n",
    " * Петербург — культурная столица, со своими вкусами.\n",
    "\n",
    "На данных Яндекс.Музыки вы сравните поведение пользователей двух столиц.\n",
    "\n",
    "**Цель исследования** — проверьте три гипотезы:\n",
    "1. Активность пользователей зависит от дня недели. Причём в Москве и Петербурге это проявляется по-разному.\n",
    "2. В понедельник утром в Москве преобладают одни жанры, а в Петербурге — другие. Так же и вечером пятницы преобладают разные жанры — в зависимости от города. \n",
    "3. Москва и Петербург предпочитают разные жанры музыки. В Москве чаще слушают поп-музыку, в Петербурге — русский рэп.\n",
    "\n",
    "**Ход исследования**\n",
    "\n",
    "Данные о поведении пользователей вы получите из файла `yandex_music_project.csv`. О качестве данных ничего не известно. Поэтому перед проверкой гипотез понадобится обзор данных. \n",
    "\n",
    "Вы проверите данные на ошибки и оцените их влияние на исследование. Затем, на этапе предобработки вы поищете возможность исправить самые критичные ошибки данных.\n",
    " \n",
    "Таким образом, исследование пройдёт в три этапа:\n",
    " 1. Обзор данных.\n",
    " 2. Предобработка данных.\n",
    " 3. Проверка гипотез.\n",
    "\n"
   ]
  },
  {
   "cell_type": "markdown",
   "metadata": {
    "id": "Ml1hmfXC_Zcs"
   },
   "source": [
    "## Обзор данных\n",
    "\n",
    "Составьте первое представление о данных Яндекс.Музыки.\n",
    "\n",
    "\n"
   ]
  },
  {
   "cell_type": "markdown",
   "metadata": {
    "id": "57eAOGIz_Zcs"
   },
   "source": [
    "Основной инструмент аналитика — `pandas`. Импортируйте эту библиотеку."
   ]
  },
  {
   "cell_type": "code",
   "execution_count": 1,
   "metadata": {
    "id": "AXN7PHPN_Zcs"
   },
   "outputs": [],
   "source": [
    "import pandas as pd # импорт библиотеки pandas"
   ]
  },
  {
   "cell_type": "markdown",
   "metadata": {
    "id": "SG23P8tt_Zcs"
   },
   "source": [
    "Прочитайте файл `yandex_music_project.csv` из папки `/datasets` и сохраните его в переменной `df`:"
   ]
  },
  {
   "cell_type": "code",
   "execution_count": 2,
   "metadata": {
    "id": "fFVu7vqh_Zct"
   },
   "outputs": [],
   "source": [
    "df = pd.read_csv('/datasets/yandex_music_project.csv') # чтение файла с данными и сохранение в df"
   ]
  },
  {
   "cell_type": "markdown",
   "metadata": {
    "id": "rDoOMd3uTqnZ"
   },
   "source": [
    "Выведите на экран первые десять строк таблицы:"
   ]
  },
  {
   "cell_type": "code",
   "execution_count": 3,
   "metadata": {
    "id": "oWTVX3gW_Zct"
   },
   "outputs": [
    {
     "data": {
      "text/html": [
       "<div>\n",
       "<style scoped>\n",
       "    .dataframe tbody tr th:only-of-type {\n",
       "        vertical-align: middle;\n",
       "    }\n",
       "\n",
       "    .dataframe tbody tr th {\n",
       "        vertical-align: top;\n",
       "    }\n",
       "\n",
       "    .dataframe thead th {\n",
       "        text-align: right;\n",
       "    }\n",
       "</style>\n",
       "<table border=\"1\" class=\"dataframe\">\n",
       "  <thead>\n",
       "    <tr style=\"text-align: right;\">\n",
       "      <th></th>\n",
       "      <th>userID</th>\n",
       "      <th>Track</th>\n",
       "      <th>artist</th>\n",
       "      <th>genre</th>\n",
       "      <th>City</th>\n",
       "      <th>time</th>\n",
       "      <th>Day</th>\n",
       "    </tr>\n",
       "  </thead>\n",
       "  <tbody>\n",
       "    <tr>\n",
       "      <td>0</td>\n",
       "      <td>FFB692EC</td>\n",
       "      <td>Kamigata To Boots</td>\n",
       "      <td>The Mass Missile</td>\n",
       "      <td>rock</td>\n",
       "      <td>Saint-Petersburg</td>\n",
       "      <td>20:28:33</td>\n",
       "      <td>Wednesday</td>\n",
       "    </tr>\n",
       "    <tr>\n",
       "      <td>1</td>\n",
       "      <td>55204538</td>\n",
       "      <td>Delayed Because of Accident</td>\n",
       "      <td>Andreas Rönnberg</td>\n",
       "      <td>rock</td>\n",
       "      <td>Moscow</td>\n",
       "      <td>14:07:09</td>\n",
       "      <td>Friday</td>\n",
       "    </tr>\n",
       "    <tr>\n",
       "      <td>2</td>\n",
       "      <td>20EC38</td>\n",
       "      <td>Funiculì funiculà</td>\n",
       "      <td>Mario Lanza</td>\n",
       "      <td>pop</td>\n",
       "      <td>Saint-Petersburg</td>\n",
       "      <td>20:58:07</td>\n",
       "      <td>Wednesday</td>\n",
       "    </tr>\n",
       "    <tr>\n",
       "      <td>3</td>\n",
       "      <td>A3DD03C9</td>\n",
       "      <td>Dragons in the Sunset</td>\n",
       "      <td>Fire + Ice</td>\n",
       "      <td>folk</td>\n",
       "      <td>Saint-Petersburg</td>\n",
       "      <td>08:37:09</td>\n",
       "      <td>Monday</td>\n",
       "    </tr>\n",
       "    <tr>\n",
       "      <td>4</td>\n",
       "      <td>E2DC1FAE</td>\n",
       "      <td>Soul People</td>\n",
       "      <td>Space Echo</td>\n",
       "      <td>dance</td>\n",
       "      <td>Moscow</td>\n",
       "      <td>08:34:34</td>\n",
       "      <td>Monday</td>\n",
       "    </tr>\n",
       "    <tr>\n",
       "      <td>5</td>\n",
       "      <td>842029A1</td>\n",
       "      <td>Преданная</td>\n",
       "      <td>IMPERVTOR</td>\n",
       "      <td>rusrap</td>\n",
       "      <td>Saint-Petersburg</td>\n",
       "      <td>13:09:41</td>\n",
       "      <td>Friday</td>\n",
       "    </tr>\n",
       "    <tr>\n",
       "      <td>6</td>\n",
       "      <td>4CB90AA5</td>\n",
       "      <td>True</td>\n",
       "      <td>Roman Messer</td>\n",
       "      <td>dance</td>\n",
       "      <td>Moscow</td>\n",
       "      <td>13:00:07</td>\n",
       "      <td>Wednesday</td>\n",
       "    </tr>\n",
       "    <tr>\n",
       "      <td>7</td>\n",
       "      <td>F03E1C1F</td>\n",
       "      <td>Feeling This Way</td>\n",
       "      <td>Polina Griffith</td>\n",
       "      <td>dance</td>\n",
       "      <td>Moscow</td>\n",
       "      <td>20:47:49</td>\n",
       "      <td>Wednesday</td>\n",
       "    </tr>\n",
       "    <tr>\n",
       "      <td>8</td>\n",
       "      <td>8FA1D3BE</td>\n",
       "      <td>И вновь продолжается бой</td>\n",
       "      <td>NaN</td>\n",
       "      <td>ruspop</td>\n",
       "      <td>Moscow</td>\n",
       "      <td>09:17:40</td>\n",
       "      <td>Friday</td>\n",
       "    </tr>\n",
       "    <tr>\n",
       "      <td>9</td>\n",
       "      <td>E772D5C0</td>\n",
       "      <td>Pessimist</td>\n",
       "      <td>NaN</td>\n",
       "      <td>dance</td>\n",
       "      <td>Saint-Petersburg</td>\n",
       "      <td>21:20:49</td>\n",
       "      <td>Wednesday</td>\n",
       "    </tr>\n",
       "  </tbody>\n",
       "</table>\n",
       "</div>"
      ],
      "text/plain": [
       "     userID                        Track            artist   genre  \\\n",
       "0  FFB692EC            Kamigata To Boots  The Mass Missile    rock   \n",
       "1  55204538  Delayed Because of Accident  Andreas Rönnberg    rock   \n",
       "2    20EC38            Funiculì funiculà       Mario Lanza     pop   \n",
       "3  A3DD03C9        Dragons in the Sunset        Fire + Ice    folk   \n",
       "4  E2DC1FAE                  Soul People        Space Echo   dance   \n",
       "5  842029A1                    Преданная         IMPERVTOR  rusrap   \n",
       "6  4CB90AA5                         True      Roman Messer   dance   \n",
       "7  F03E1C1F             Feeling This Way   Polina Griffith   dance   \n",
       "8  8FA1D3BE     И вновь продолжается бой               NaN  ruspop   \n",
       "9  E772D5C0                    Pessimist               NaN   dance   \n",
       "\n",
       "             City        time        Day  \n",
       "0  Saint-Petersburg  20:28:33  Wednesday  \n",
       "1            Moscow  14:07:09     Friday  \n",
       "2  Saint-Petersburg  20:58:07  Wednesday  \n",
       "3  Saint-Petersburg  08:37:09     Monday  \n",
       "4            Moscow  08:34:34     Monday  \n",
       "5  Saint-Petersburg  13:09:41     Friday  \n",
       "6            Moscow  13:00:07  Wednesday  \n",
       "7            Moscow  20:47:49  Wednesday  \n",
       "8            Moscow  09:17:40     Friday  \n",
       "9  Saint-Petersburg  21:20:49  Wednesday  "
      ]
     },
     "execution_count": 3,
     "metadata": {},
     "output_type": "execute_result"
    }
   ],
   "source": [
    "df.head(10)# получение первых 10 строк таблицы df"
   ]
  },
  {
   "cell_type": "markdown",
   "metadata": {
    "id": "EO73Kwic_Zct"
   },
   "source": [
    "Одной командой получить общую информацию о таблице:"
   ]
  },
  {
   "cell_type": "code",
   "execution_count": 4,
   "metadata": {
    "id": "DSf2kIb-_Zct"
   },
   "outputs": [
    {
     "name": "stdout",
     "output_type": "stream",
     "text": [
      "<class 'pandas.core.frame.DataFrame'>\n",
      "RangeIndex: 65079 entries, 0 to 65078\n",
      "Data columns (total 7 columns):\n",
      "  userID    65079 non-null object\n",
      "Track       63848 non-null object\n",
      "artist      57876 non-null object\n",
      "genre       63881 non-null object\n",
      "  City      65079 non-null object\n",
      "time        65079 non-null object\n",
      "Day         65079 non-null object\n",
      "dtypes: object(7)\n",
      "memory usage: 3.5+ MB\n",
      "None\n"
     ]
    }
   ],
   "source": [
    "print(df.info())# получение общей информации о данных в таблице df"
   ]
  },
  {
   "cell_type": "markdown",
   "metadata": {
    "id": "TaQ2Iwbr_Zct"
   },
   "source": [
    "Итак, в таблице семь столбцов. Тип данных во всех столбцах — `object`.\n",
    "\n",
    "Согласно документации к данным:\n",
    "* `userID` — идентификатор пользователя;\n",
    "* `Track` — название трека;  \n",
    "* `artist` — имя исполнителя;\n",
    "* `genre` — название жанра;\n",
    "* `City` — город пользователя;\n",
    "* `time` — время начала прослушивания;\n",
    "* `Day` — день недели.\n",
    "\n",
    "В названиях колонок видны три нарушения стиля:\n",
    "1. Строчные буквы сочетаются с прописными.\n",
    "2. Встречаются пробелы.\n",
    "3. Найдите ещё одну проблему в названии колонок и опишите её в этом пункте.\n",
    "4. Не сохранено правило хоошего стиля.(userID->user_id) - добавил!\n",
    "\n",
    "\n",
    "\n",
    "Количество значений в столбцах различается. Значит, в данных есть пропущенные значения.\n"
   ]
  },
  {
   "cell_type": "markdown",
   "metadata": {
    "id": "MCB6-dXG_Zct"
   },
   "source": [
    "**Выводы**\n",
    "\n",
    "В каждой строке таблицы — данные о прослушанном треке. Часть колонок описывает саму композицию: название, исполнителя и жанр. Остальные данные рассказывают о пользователе: из какого он города, когда он слушал музыку. \n",
    "\n",
    "Предварительно можно утверждать, что, данных достаточно для проверки гипотез. Но встречаются пропуски в данных, а в названиях колонок — расхождения с хорошим стилем.\n",
    "\n",
    "Чтобы двигаться дальше, нужно устранить проблемы в данных."
   ]
  },
  {
   "cell_type": "markdown",
   "metadata": {
    "id": "SjYF6Ub9_Zct"
   },
   "source": [
    "## Предобработка данных\n",
    "Исправьте стиль в заголовках столбцов, исключите пропуски. Затем проверьте данные на дубликаты."
   ]
  },
  {
   "cell_type": "markdown",
   "metadata": {
    "id": "dIaKXr29_Zct"
   },
   "source": [
    "### Стиль заголовков\n",
    "Выведите на экран названия столбцов:"
   ]
  },
  {
   "cell_type": "code",
   "execution_count": 5,
   "metadata": {
    "id": "oKOTdF_Q_Zct"
   },
   "outputs": [
    {
     "data": {
      "text/plain": [
       "Index(['  userID', 'Track', 'artist', 'genre', '  City  ', 'time', 'Day'], dtype='object')"
      ]
     },
     "execution_count": 5,
     "metadata": {},
     "output_type": "execute_result"
    }
   ],
   "source": [
    "df.columns # перечень названий столбцов таблицы df"
   ]
  },
  {
   "cell_type": "markdown",
   "metadata": {
    "id": "zj5534cv_Zct"
   },
   "source": [
    "Приведите названия в соответствие с хорошим стилем:\n",
    "* несколько слов в названии запишите в «змеином_регистре»,\n",
    "* все символы сделайте строчными,\n",
    "* устраните пробелы.\n",
    "\n",
    "Для этого переименуйте колонки так:\n",
    "* `'  userID'` → `'user_id'`;\n",
    "* `'Track'` → `'track'`;\n",
    "* `'  City  '` → `'city'`;\n",
    "* `'Day'` → `'day'`."
   ]
  },
  {
   "cell_type": "code",
   "execution_count": 6,
   "metadata": {
    "id": "ISlFqs5y_Zct"
   },
   "outputs": [],
   "source": [
    "df = df.rename(columns={'  userID':'user_id', 'Track':'track', '  City  ':'city', 'Day':'day',}) # переименование столбцов"
   ]
  },
  {
   "cell_type": "markdown",
   "metadata": {
    "id": "1dqbh00J_Zct"
   },
   "source": [
    "Проверьте результат. Для этого ещё раз выведите на экран названия столбцов:"
   ]
  },
  {
   "cell_type": "code",
   "execution_count": 7,
   "metadata": {
    "id": "d4NOAmTW_Zct"
   },
   "outputs": [
    {
     "name": "stdout",
     "output_type": "stream",
     "text": [
      "Index(['user_id', 'track', 'artist', 'genre', 'city', 'time', 'day'], dtype='object')\n"
     ]
    }
   ],
   "source": [
    "print(df.columns) # проверка результатов - перечень названий столбцов"
   ]
  },
  {
   "cell_type": "markdown",
   "metadata": {
    "id": "5ISfbcfY_Zct"
   },
   "source": [
    "### Пропуски значений\n",
    "Сначала посчитайте, сколько в таблице пропущенных значений. Для этого достаточно двух методов `pandas`:"
   ]
  },
  {
   "cell_type": "code",
   "execution_count": 8,
   "metadata": {
    "id": "RskX29qr_Zct"
   },
   "outputs": [
    {
     "name": "stdout",
     "output_type": "stream",
     "text": [
      "user_id       0\n",
      "track      1231\n",
      "artist     7203\n",
      "genre      1198\n",
      "city          0\n",
      "time          0\n",
      "day           0\n",
      "dtype: int64\n"
     ]
    }
   ],
   "source": [
    " print(df.isna().sum())# подсчёт пропусков"
   ]
  },
  {
   "cell_type": "markdown",
   "metadata": {
    "id": "qubhgnlO_Zct"
   },
   "source": [
    "Не все пропущенные значения влияют на исследование. Так в `track` и `artist` пропуски не важны для вашей работы. Достаточно заменить их явными обозначениями.\n",
    "\n",
    "Но пропуски в `genre` могут помешать сравнению музыкальных вкусов в Москве и Санкт-Петербурге. На практике было бы правильно установить причину пропусков и восстановить данные. Такой возможности нет в учебном проекте. Придётся:\n",
    "* заполнить и эти пропуски явными обозначениями,\n",
    "* оценить, насколько они повредят расчётам. "
   ]
  },
  {
   "cell_type": "markdown",
   "metadata": {
    "id": "fSv2laPA_Zct"
   },
   "source": [
    "Замените пропущенные значения в столбцах `track`, `artist` и `genre` на строку `'unknown'`. Для этого создайте список `columns_to_replace`, переберите его элементы циклом `for` и для каждого столбца выполните замену пропущенных значений:"
   ]
  },
  {
   "cell_type": "code",
   "execution_count": 9,
   "metadata": {
    "id": "KplB5qWs_Zct"
   },
   "outputs": [],
   "source": [
    "columns_to_replace = ['track', 'artist', 'genre']  # перебор названий столбцов в цикле и замена пропущенных значений на 'unknown'\n",
    "for column in columns_to_replace:\n",
    "    df[column] = df[column].fillna('unknown')\n",
    "    "
   ]
  },
  {
   "cell_type": "markdown",
   "metadata": {
    "id": "Ilsm-MZo_Zct"
   },
   "source": [
    "Убедитесь, что в таблице не осталось пропусков. Для этого ещё раз посчитайте пропущенные значения."
   ]
  },
  {
   "cell_type": "code",
   "execution_count": 10,
   "metadata": {
    "id": "Tq4nYRX4_Zct"
   },
   "outputs": [
    {
     "name": "stdout",
     "output_type": "stream",
     "text": [
      "user_id    0\n",
      "track      0\n",
      "artist     0\n",
      "genre      0\n",
      "city       0\n",
      "time       0\n",
      "day        0\n",
      "dtype: int64\n"
     ]
    }
   ],
   "source": [
    "print(df.isna().sum()) # подсчёт пропусков"
   ]
  },
  {
   "cell_type": "markdown",
   "metadata": {
    "id": "BWKRtBJ3_Zct"
   },
   "source": [
    "### Дубликаты\n",
    "Посчитайте явные дубликаты в таблице одной командой:"
   ]
  },
  {
   "cell_type": "code",
   "execution_count": 11,
   "metadata": {
    "id": "36eES_S0_Zct"
   },
   "outputs": [
    {
     "name": "stdout",
     "output_type": "stream",
     "text": [
      "3826\n"
     ]
    }
   ],
   "source": [
    " print(df.duplicated().sum()) # подсчёт явных дубликатов"
   ]
  },
  {
   "cell_type": "markdown",
   "metadata": {
    "id": "Ot25h6XR_Zct"
   },
   "source": [
    "Вызовите специальный метод `pandas`, чтобы удалить явные дубликаты:"
   ]
  },
  {
   "cell_type": "code",
   "execution_count": 12,
   "metadata": {
    "id": "exFHq6tt_Zct"
   },
   "outputs": [],
   "source": [
    "df = df.drop_duplicates().reset_index(drop=True) # удаление явных дубликатов (с удалением старых индексов и формированием новых)"
   ]
  },
  {
   "cell_type": "markdown",
   "metadata": {
    "id": "Im2YwBEG_Zct"
   },
   "source": [
    "Ещё раз посчитайте явные дубликаты в таблице — убедитесь, что полностью от них избавились:"
   ]
  },
  {
   "cell_type": "code",
   "execution_count": 13,
   "metadata": {
    "id": "-8PuNWQ0_Zct"
   },
   "outputs": [
    {
     "name": "stdout",
     "output_type": "stream",
     "text": [
      "0\n"
     ]
    }
   ],
   "source": [
    "print(df.duplicated().sum()) # проверка на отсутствие дубликатов"
   ]
  },
  {
   "cell_type": "markdown",
   "metadata": {
    "id": "QlFBsxAr_Zct"
   },
   "source": [
    "Теперь избавьтесь от неявных дубликатов в колонке `genre`. Например, название одного и того же жанра может быть записано немного по-разному. Такие ошибки тоже повлияют на результат исследования."
   ]
  },
  {
   "cell_type": "markdown",
   "metadata": {
    "id": "eSjWwsOh_Zct"
   },
   "source": [
    "Выведите на экран список уникальных названий жанров, отсортированный в алфавитном порядке. Для этого:\n",
    "* извлеките нужный столбец датафрейма, \n",
    "* примените к нему метод сортировки,\n",
    "* для отсортированного столбца вызовите метод, который вернёт уникальные значения из столбца."
   ]
  },
  {
   "cell_type": "code",
   "execution_count": 14,
   "metadata": {
    "id": "JIUcqzZN_Zct"
   },
   "outputs": [
    {
     "name": "stdout",
     "output_type": "stream",
     "text": [
      "6465     электроника\n",
      "8448             ïîï\n",
      "27939      worldbeat\n",
      "39063      worldbeat\n",
      "41879          world\n",
      "            ...     \n",
      "20264       acoustic\n",
      "14611       acoustic\n",
      "3636        acoustic\n",
      "57580       acoustic\n",
      "31916           acid\n",
      "Name: genre, Length: 61253, dtype: object\n"
     ]
    }
   ],
   "source": [
    "print(df['genre'].sort_values(ascending=False))  # Просмотр уникальных названий жанров\n"
   ]
  },
  {
   "cell_type": "markdown",
   "metadata": {
    "id": "qej-Qmuo_Zct"
   },
   "source": [
    "Просмотрите список и найдите неявные дубликаты названия `hiphop`. Это могут быть названия с ошибками или альтернативные названия того же жанра.\n",
    "\n",
    "Вы увидите следующие неявные дубликаты:\n",
    "* *hip*,\n",
    "* *hop*,\n",
    "* *hip-hop*.\n",
    "\n",
    "Чтобы очистить от них таблицу, напишите функцию `replace_wrong_genres()` с двумя параметрами: \n",
    "* `wrong_genres` — список дубликатов,\n",
    "* `correct_genre` — строка с правильным значением.\n",
    "\n",
    "Функция должна исправить колонку `genre` в таблице `df`: заменить каждое значение из списка `wrong_genres` на значение из `correct_genre`."
   ]
  },
  {
   "cell_type": "code",
   "execution_count": 15,
   "metadata": {
    "id": "ErNDkmns_Zct"
   },
   "outputs": [],
   "source": [
    "def replace_wrong_genres(wrong_genres, correct_genre):  # Функция для замены неявных дубликатов\n",
    "    for wrong_genre in wrong_genres: #переьираем нерравильные имена\n",
    "        df['genre'] = df['genre'].replace(wrong_genre, correct_genre)"
   ]
  },
  {
   "cell_type": "markdown",
   "metadata": {
    "id": "aDoBJxbA_Zct"
   },
   "source": [
    "Вызовите `replace_wrong_genres()` и передайте ей такие аргументы, чтобы она устранила неявные дубликаты: вместо `hip`, `hop` и `hip-hop` в таблице должно быть значение `hiphop`:"
   ]
  },
  {
   "cell_type": "code",
   "execution_count": 16,
   "metadata": {
    "id": "YN5i2hpmSo09"
   },
   "outputs": [],
   "source": [
    "duplicates = ['hip', 'hop', 'hip-hop']\n",
    "name = 'hiphop'\n",
    "replace_wrong_genres(duplicates, name) # Устранение неявных дубликатов"
   ]
  },
  {
   "cell_type": "markdown",
   "metadata": {
    "id": "zQKF16_RG15m"
   },
   "source": [
    "Проверьте, что заменили неправильные названия:\n",
    "\n",
    "*   hip\n",
    "*   hop\n",
    "*   hip-hop\n",
    "\n",
    "Выведите отсортированный список уникальных значений столбца `genre`:"
   ]
  },
  {
   "cell_type": "code",
   "execution_count": 17,
   "metadata": {
    "id": "wvixALnFG15m"
   },
   "outputs": [
    {
     "name": "stdout",
     "output_type": "stream",
     "text": [
      "['rock' 'pop' 'folk' 'dance' 'rusrap' 'ruspop' 'world' 'electronic'\n",
      " 'unknown' 'alternative' 'children' 'rnb' 'hiphop' 'jazz' 'postrock'\n",
      " 'latin' 'classical' 'metal' 'reggae' 'tatar' 'blues' 'instrumental'\n",
      " 'rusrock' 'dnb' 'türk' 'post' 'country' 'psychedelic' 'conjazz' 'indie'\n",
      " 'posthardcore' 'local' 'avantgarde' 'punk' 'videogame' 'techno' 'house'\n",
      " 'christmas' 'melodic' 'caucasian' 'reggaeton' 'soundtrack' 'singer' 'ska'\n",
      " 'shanson' 'ambient' 'film' 'western' 'rap' 'beats' \"hard'n'heavy\"\n",
      " 'progmetal' 'minimal' 'contemporary' 'new' 'soul' 'holiday' 'german'\n",
      " 'tropical' 'fairytail' 'spiritual' 'urban' 'gospel' 'nujazz' 'folkmetal'\n",
      " 'trance' 'miscellaneous' 'anime' 'hardcore' 'progressive' 'chanson'\n",
      " 'numetal' 'vocal' 'estrada' 'russian' 'classicmetal' 'dubstep' 'club'\n",
      " 'deep' 'southern' 'black' 'folkrock' 'fitness' 'french' 'disco'\n",
      " 'religious' 'drum' 'extrememetal' 'türkçe' 'experimental' 'easy'\n",
      " 'metalcore' 'modern' 'argentinetango' 'old' 'breaks' 'eurofolk'\n",
      " 'stonerrock' 'industrial' 'funk' 'jpop' 'middle' 'variété' 'other'\n",
      " 'adult' 'christian' 'gothic' 'international' 'muslim' 'relax' 'schlager'\n",
      " 'caribbean' 'ukrrock' 'nu' 'breakbeat' 'comedy' 'chill' 'newage'\n",
      " 'specialty' 'uzbek' 'k-pop' 'balkan' 'chinese' 'meditative' 'dub' 'power'\n",
      " 'death' 'grime' 'arabesk' 'romance' 'flamenco' 'leftfield' 'european'\n",
      " 'tech' 'newwave' 'dancehall' 'mpb' 'piano' 'top' 'bigroom' 'opera'\n",
      " 'celtic' 'tradjazz' 'acoustic' 'epicmetal' 'historisch' 'downbeat'\n",
      " 'downtempo' 'africa' 'audiobook' 'jewish' 'sängerportrait' 'deutschrock'\n",
      " 'eastern' 'action' 'future' 'electropop' 'folklore' 'bollywood'\n",
      " 'marschmusik' 'rnr' 'karaoke' 'indian' 'rancheras' 'электроника'\n",
      " 'afrikaans' 'tango' 'rhythm' 'sound' 'deutschspr' 'trip' 'lovers'\n",
      " 'choral' 'dancepop' 'podcasts' 'retro' 'smooth' 'mexican' 'brazilian'\n",
      " 'ïîï' 'mood' 'surf' 'author' 'gangsta' 'triphop' 'inspirational' 'idm'\n",
      " 'ethnic' 'bluegrass' 'broadway' 'animated' 'americana' 'karadeniz'\n",
      " 'rockabilly' 'colombian' 'self' 'synthrock' 'sertanejo' 'japanese'\n",
      " 'canzone' 'swing' 'lounge' 'sport' 'korean' 'ragga' 'traditional'\n",
      " 'gitarre' 'frankreich' 'alternativepunk' 'emo' 'laiko' 'cantopop'\n",
      " 'glitch' 'documentary' 'rockalternative' 'thrash' 'hymn' 'oceania'\n",
      " 'rockother' 'popeurodance' 'dark' 'vi' 'grunge' 'hardstyle' 'samba'\n",
      " 'garage' 'soft' 'art' 'folktronica' 'entehno' 'mediterranean' 'chamber'\n",
      " 'cuban' 'taraftar' 'rockindie' 'gypsy' 'hardtechno' 'shoegazing'\n",
      " 'skarock' 'bossa' 'salsa' 'latino' 'worldbeat' 'malaysian' 'baile'\n",
      " 'ghazal' 'loungeelectronic' 'arabic' 'popelectronic' 'acid' 'kayokyoku'\n",
      " 'neoklassik' 'tribal' 'tanzorchester' 'native' 'independent' 'cantautori'\n",
      " 'handsup' 'poprussian' 'punjabi' 'synthpop' 'rave' 'französisch'\n",
      " 'quebecois' 'speech' 'soulful' 'teen' 'jam' 'ram' 'horror' 'scenic'\n",
      " 'orchestral' 'neue' 'roots' 'slow' 'jungle' 'indipop' 'axé' 'fado'\n",
      " 'showtunes' 'arena' 'irish' 'mandopop' 'forró' 'popdance' 'dirty'\n",
      " 'regional']\n"
     ]
    }
   ],
   "source": [
    "print(df['genre'].unique()) # Проверка на неявные дубликаты"
   ]
  },
  {
   "cell_type": "markdown",
   "metadata": {
    "id": "jz6a9-7HQUDd"
   },
   "source": [
    "**Выводы**\n",
    "\n",
    "Предобработка обнаружила три проблемы в данных:\n",
    "\n",
    "- нарушения в стиле заголовков,\n",
    "- пропущенные значения,\n",
    "- дубликаты — явные и неявные.\n",
    "\n",
    "Вы исправили заголовки, чтобы упростить работу с таблицей. Без дубликатов исследование станет более точным.\n",
    "\n",
    "Пропущенные значения вы заменили на `'unknown'`. Ещё предстоит увидеть, не повредят ли исследованию пропуски в колонке `genre`.\n",
    "\n",
    "Теперь можно перейти к проверке гипотез. "
   ]
  },
  {
   "cell_type": "markdown",
   "metadata": {
    "id": "WttZHXH0SqKk"
   },
   "source": [
    "## Проверка гипотез"
   ]
  },
  {
   "cell_type": "markdown",
   "metadata": {
    "id": "Im936VVi_Zcu"
   },
   "source": [
    "### Сравнение поведения пользователей двух столиц"
   ]
  },
  {
   "cell_type": "markdown",
   "metadata": {
    "id": "nwt_MuaL_Zcu"
   },
   "source": [
    "Первая гипотеза утверждает, что пользователи по-разному слушают музыку в Москве и Санкт-Петербурге. Проверьте это предположение по данным о трёх днях недели — понедельнике, среде и пятнице. Для этого:\n",
    "\n",
    "* Разделите пользователей Москвы и Санкт-Петербурга\n",
    "* Сравните, сколько треков послушала каждая группа пользователей в понедельник, среду и пятницу.\n"
   ]
  },
  {
   "cell_type": "markdown",
   "metadata": {
    "id": "8Dw_YMmT_Zcu"
   },
   "source": [
    "Для тренировки сначала выполните каждый из расчётов по отдельности. \n",
    "\n",
    "Оцените активность пользователей в каждом городе. Сгруппируйте данные по городу и посчитайте прослушивания в каждой группе.\n",
    "\n"
   ]
  },
  {
   "cell_type": "code",
   "execution_count": 18,
   "metadata": {
    "id": "0_Qs96oh_Zcu"
   },
   "outputs": [
    {
     "name": "stdout",
     "output_type": "stream",
     "text": [
      "city\n",
      "Moscow              42741\n",
      "Saint-Petersburg    18512\n",
      "Name: day, dtype: int64\n"
     ]
    }
   ],
   "source": [
    "group_city = df.groupby('city')['day'].count() # Подсчёт прослушиваний в каждом городе\n",
    "print(group_city)"
   ]
  },
  {
   "cell_type": "markdown",
   "metadata": {
    "id": "dzli3w8o_Zcu"
   },
   "source": [
    "В Москве прослушиваний больше, чем в Петербурге. Из этого не следует, что московские пользователи чаще слушают музыку. Просто самих пользователей в Москве больше.\n",
    "\n",
    "Теперь сгруппируйте данные по дню недели и подсчитайте прослушивания в понедельник, среду и пятницу. Учтите, что в данных есть информация только о прослушиваниях только за эти дни.\n"
   ]
  },
  {
   "cell_type": "code",
   "execution_count": 19,
   "metadata": {
    "id": "uZMKjiJz_Zcu"
   },
   "outputs": [
    {
     "name": "stdout",
     "output_type": "stream",
     "text": [
      "day\n",
      "Friday       21840\n",
      "Monday       21354\n",
      "Wednesday    18059\n",
      "Name: time, dtype: int64\n"
     ]
    }
   ],
   "source": [
    "group_day = df.groupby('day')['time'].count()\n",
    "print(group_day)# Подсчёт прослушиваний в каждый из трёх дней"
   ]
  },
  {
   "cell_type": "markdown",
   "metadata": {
    "id": "cC2tNrlL_Zcu"
   },
   "source": [
    "В среднем пользователи из двух городов менее активны по средам. Но картина может измениться, если рассмотреть каждый город в отдельности."
   ]
  },
  {
   "cell_type": "markdown",
   "metadata": {
    "id": "POzs8bGa_Zcu"
   },
   "source": [
    "Вы видели, как работает группировка по городу и по дням недели. Теперь напишите функцию, которая объединит два эти расчёта.\n",
    "\n",
    "Создайте функцию `number_tracks()`, которая посчитает прослушивания для заданного дня и города. Ей понадобятся два параметра:\n",
    "* день недели,\n",
    "* название города.\n",
    "\n",
    "В функции сохраните в переменную строки исходной таблицы, у которых значение:\n",
    "  * в колонке `day` равно параметру `day`,\n",
    "  * в колонке `city` равно параметру `city`.\n",
    "\n",
    "Для этого примените последовательную фильтрацию с логической индексацией.\n",
    "\n",
    "Затем посчитайте значения в столбце `user_id` получившейся таблицы. Результат сохраните в новую переменную. Верните эту переменную из функции."
   ]
  },
  {
   "cell_type": "code",
   "execution_count": 20,
   "metadata": {
    "id": "Nz3GdQB1_Zcu"
   },
   "outputs": [],
   "source": [
    " # <создание функции number_tracks()>\n",
    "def number_tracks(day, city):# Объявляется функция с двумя параметрами: day, city.\n",
    "    track_list = df[(df['day']==day) & (df['city']==city)] # В переменной track_list сохраняются те строки таблицы df, для которых \n",
    "    track_list_count = track_list['user_id'].count()\n",
    "    return track_list_count# значение в столбце 'day' равно параметру day и одновременно значение\n",
    " # в столбце 'city' равно параметру city (используйте последовательную фильтрацию\n",
    " # с помощью логической индексации).\n",
    " # В переменной track_list_count сохраняется число значений столбца 'user_id',\n",
    " # рассчитанное методом count() для таблицы track_list.\n",
    " # Функция возвращает число - значение track_list_count.\n",
    "\n",
    "# Функция для подсчёта прослушиваний для конкретного города и дня.\n",
    "# С помощью последовательной фильтрации с логической индексацией она \n",
    "# сначала получит из исходной таблицы строки с нужным днём,\n",
    "# затем из результата отфильтрует строки с нужным городом,\n",
    "# методом count() посчитает количество значений в колонке user_id. \n",
    "# Это количество функция вернёт в качестве результата"
   ]
  },
  {
   "cell_type": "markdown",
   "metadata": {
    "id": "ytf7xFrFJQ2r"
   },
   "source": [
    "Вызовите `number_tracks()` шесть раз, меняя значение параметров — так, чтобы получить данные для каждого города в каждый из трёх дней."
   ]
  },
  {
   "cell_type": "code",
   "execution_count": 21,
   "metadata": {
    "id": "rJcRATNQ_Zcu"
   },
   "outputs": [
    {
     "name": "stdout",
     "output_type": "stream",
     "text": [
      "15740\n"
     ]
    }
   ],
   "source": [
    "print(number_tracks('Monday','Moscow')) # количество прослушиваний в Москве по понедельникам"
   ]
  },
  {
   "cell_type": "code",
   "execution_count": 22,
   "metadata": {
    "id": "hq_ncZ5T_Zcu"
   },
   "outputs": [
    {
     "name": "stdout",
     "output_type": "stream",
     "text": [
      "5614\n"
     ]
    }
   ],
   "source": [
    "print(number_tracks('Monday','Saint-Petersburg'))# количество прослушиваний в Санкт-Петербурге по понедельникам"
   ]
  },
  {
   "cell_type": "code",
   "execution_count": 23,
   "metadata": {
    "id": "_NTy2VPU_Zcu"
   },
   "outputs": [
    {
     "name": "stdout",
     "output_type": "stream",
     "text": [
      "11056\n"
     ]
    }
   ],
   "source": [
    "print(number_tracks('Wednesday','Moscow'))# количество прослушиваний в Москве по средам"
   ]
  },
  {
   "cell_type": "code",
   "execution_count": 24,
   "metadata": {
    "id": "j2y3TAwo_Zcu"
   },
   "outputs": [
    {
     "name": "stdout",
     "output_type": "stream",
     "text": [
      "7003\n"
     ]
    }
   ],
   "source": [
    "print(number_tracks('Wednesday','Saint-Petersburg')) #количество прослушиваний в Санкт-Петербурге по средам"
   ]
  },
  {
   "cell_type": "code",
   "execution_count": 25,
   "metadata": {
    "id": "vYDw5u_K_Zcu"
   },
   "outputs": [
    {
     "name": "stdout",
     "output_type": "stream",
     "text": [
      "15945\n"
     ]
    }
   ],
   "source": [
    "print(number_tracks('Friday','Moscow'))# количество прослушиваний в Москве по пятницам"
   ]
  },
  {
   "cell_type": "code",
   "execution_count": 26,
   "metadata": {
    "id": "8_yzFtW3_Zcu"
   },
   "outputs": [
    {
     "name": "stdout",
     "output_type": "stream",
     "text": [
      "5895\n"
     ]
    }
   ],
   "source": [
    "print(number_tracks('Friday','Saint-Petersburg')) # количество прослушиваний в Санкт-Петербурге по пятницам"
   ]
  },
  {
   "cell_type": "markdown",
   "metadata": {
    "id": "7QXffbO-_Zcu"
   },
   "source": [
    "Создайте c помощью конструктора `pd.DataFrame` таблицу, где\n",
    "* названия колонок — `['city', 'monday', 'wednesday', 'friday']`;\n",
    "* данные — результаты, которые вы получили с помощью `number_tracks`."
   ]
  },
  {
   "cell_type": "code",
   "execution_count": 27,
   "metadata": {
    "id": "APAcLpOr_Zcu"
   },
   "outputs": [
    {
     "data": {
      "text/html": [
       "<div>\n",
       "<style scoped>\n",
       "    .dataframe tbody tr th:only-of-type {\n",
       "        vertical-align: middle;\n",
       "    }\n",
       "\n",
       "    .dataframe tbody tr th {\n",
       "        vertical-align: top;\n",
       "    }\n",
       "\n",
       "    .dataframe thead th {\n",
       "        text-align: right;\n",
       "    }\n",
       "</style>\n",
       "<table border=\"1\" class=\"dataframe\">\n",
       "  <thead>\n",
       "    <tr style=\"text-align: right;\">\n",
       "      <th></th>\n",
       "      <th>city</th>\n",
       "      <th>monday</th>\n",
       "      <th>wednesday</th>\n",
       "      <th>friday</th>\n",
       "    </tr>\n",
       "  </thead>\n",
       "  <tbody>\n",
       "    <tr>\n",
       "      <td>0</td>\n",
       "      <td>Moscow</td>\n",
       "      <td>16715</td>\n",
       "      <td>11755</td>\n",
       "      <td>16890</td>\n",
       "    </tr>\n",
       "    <tr>\n",
       "      <td>1</td>\n",
       "      <td>Saint-Petersburg</td>\n",
       "      <td>5982</td>\n",
       "      <td>7478</td>\n",
       "      <td>6259</td>\n",
       "    </tr>\n",
       "  </tbody>\n",
       "</table>\n",
       "</div>"
      ],
      "text/plain": [
       "               city  monday  wednesday  friday\n",
       "0            Moscow   16715      11755   16890\n",
       "1  Saint-Petersburg    5982       7478    6259"
      ]
     },
     "metadata": {},
     "output_type": "display_data"
    }
   ],
   "source": [
    "columns = ['city', 'monday', 'wednesday', 'friday']\n",
    "data = [['Moscow', 16715, 11755, 16890],['Saint-Petersburg', 5982, 7478, 6259]] # Таблица с результатами\n",
    "\n",
    "metrics = pd.DataFrame(data=data, columns=columns)\n",
    "display(metrics)"
   ]
  },
  {
   "cell_type": "markdown",
   "metadata": {
    "id": "-EgPIHYu_Zcu"
   },
   "source": [
    "**Выводы**\n",
    "\n",
    "Данные показывают разницу поведения пользователей:\n",
    "\n",
    "- В Москве пик прослушиваний приходится на понедельник и пятницу, а в среду заметен спад.\n",
    "- В Петербурге, наоборот, больше слушают музыку по средам. Активность в понедельник и пятницу здесь почти в равной мере уступает среде.\n",
    "\n",
    "Значит, данные говорят в пользу первой гипотезы."
   ]
  },
  {
   "cell_type": "markdown",
   "metadata": {
    "id": "atZAxtq4_Zcu"
   },
   "source": [
    "### Музыка в начале и в конце недели"
   ]
  },
  {
   "cell_type": "markdown",
   "metadata": {
    "id": "eXrQqXFH_Zcu"
   },
   "source": [
    "Согласно второй гипотезе, утром в понедельник в Москве преобладают одни жанры, а в Петербурге — другие. Так же и вечером пятницы преобладают разные жанры — в зависимости от города."
   ]
  },
  {
   "cell_type": "markdown",
   "metadata": {
    "id": "S8UcW6Hw_Zcu"
   },
   "source": [
    "Сохраните таблицы с данными в две переменные:\n",
    "* по Москве — в `moscow_general`;\n",
    "* по Санкт-Петербургу — в `spb_general`."
   ]
  },
  {
   "cell_type": "code",
   "execution_count": 28,
   "metadata": {
    "id": "qeaFfM_P_Zcu"
   },
   "outputs": [],
   "source": [
    "moscow_general = df[df['city'] == 'Moscow'] # получение таблицы moscow_general из тех строк таблицы df, \n",
    "# для которых значение в столбце 'city' равно 'Moscow'\n"
   ]
  },
  {
   "cell_type": "code",
   "execution_count": 29,
   "metadata": {
    "id": "ORaVRKto_Zcu"
   },
   "outputs": [],
   "source": [
    "spb_general =  df[df['city'] == 'Saint-Petersburg']# получение таблицы spb_general из тех строк таблицы df,\n",
    "# для которых значение в столбце 'city' равно 'Saint-Petersburg'\n"
   ]
  },
  {
   "cell_type": "markdown",
   "metadata": {
    "id": "MEJV-CX2_Zcu"
   },
   "source": [
    "Создайте функцию `genre_weekday()` с четырьмя параметрами:\n",
    "* таблица (датафрейм) с данными,\n",
    "* день недели,\n",
    "* начальная временная метка в формате 'hh:mm', \n",
    "* последняя временная метка в формате 'hh:mm'.\n",
    "\n",
    "Функция должна вернуть информацию о топ-10 жанров тех треков, которые прослушивали в указанный день, в промежутке между двумя отметками времени."
   ]
  },
  {
   "cell_type": "code",
   "execution_count": 30,
   "metadata": {
    "id": "laJT9BYl_Zcu"
   },
   "outputs": [],
   "source": [
    "def genre_weekday(table, day, time1, time2,):\n",
    "    genre_df = table[table['day']== day] \n",
    "    genre_df = genre_df[genre_df['time']> time1]\n",
    "    genre_df = genre_df[genre_df['time']< time2]\n",
    "    genre_df_count = genre_df.groupby('genre')\n",
    "    genre_df_count = genre_df_count['genre'].count()\n",
    "    genre_df_sorted = genre_df_count.sort_values(ascending=False)\n",
    "    return genre_df_sorted.head(10)\n",
    "                    \n"
   ]
  },
  {
   "cell_type": "markdown",
   "metadata": {
    "id": "la2s2_PF_Zcu"
   },
   "source": [
    "Cравните результаты функции `genre_weekday()` для Москвы и Санкт-Петербурга в понедельник утром (с 7:00 до 11:00) и в пятницу вечером (с 17:00 до 23:00):"
   ]
  },
  {
   "cell_type": "code",
   "execution_count": 31,
   "metadata": {
    "id": "yz7itPUQ_Zcu"
   },
   "outputs": [
    {
     "name": "stdout",
     "output_type": "stream",
     "text": [
      "genre\n",
      "pop            781\n",
      "dance          549\n",
      "electronic     480\n",
      "rock           474\n",
      "hiphop         286\n",
      "ruspop         186\n",
      "world          181\n",
      "rusrap         175\n",
      "alternative    164\n",
      "unknown        161\n",
      "Name: genre, dtype: int64\n"
     ]
    }
   ],
   "source": [
    "print(genre_weekday(moscow_general, 'Monday', '07:00', '11:00'))# вызов функции для утра понедельника в Москве (вместо df — таблица moscow_general)\n",
    " # объекты, хранящие время, являются строками и сравниваются как строки\n",
    "# пример вызова: genre_weekday(moscow_general, 'Monday', '07:00', '11:00')"
   ]
  },
  {
   "cell_type": "code",
   "execution_count": 32,
   "metadata": {
    "id": "kwUcHPdy_Zcu"
   },
   "outputs": [
    {
     "name": "stdout",
     "output_type": "stream",
     "text": [
      "genre\n",
      "pop            218\n",
      "dance          182\n",
      "rock           162\n",
      "electronic     147\n",
      "hiphop          80\n",
      "ruspop          64\n",
      "alternative     58\n",
      "rusrap          55\n",
      "jazz            44\n",
      "classical       40\n",
      "Name: genre, dtype: int64\n"
     ]
    }
   ],
   "source": [
    "print(genre_weekday(spb_general, 'Monday', '07:00', '11:00'))# вызов функции для утра понедельника в Петербурге (вместо df — таблица spb_general)"
   ]
  },
  {
   "cell_type": "code",
   "execution_count": 33,
   "metadata": {
    "id": "EzXVRE1o_Zcu"
   },
   "outputs": [
    {
     "name": "stdout",
     "output_type": "stream",
     "text": [
      "genre\n",
      "pop            713\n",
      "rock           517\n",
      "dance          495\n",
      "electronic     482\n",
      "hiphop         273\n",
      "world          208\n",
      "ruspop         170\n",
      "alternative    163\n",
      "classical      163\n",
      "rusrap         142\n",
      "Name: genre, dtype: int64\n"
     ]
    }
   ],
   "source": [
    "print(genre_weekday(moscow_general, 'Friday', '17:00', '23:00'))# вызов функции для вечера пятницы в Москве"
   ]
  },
  {
   "cell_type": "code",
   "execution_count": 34,
   "metadata": {
    "id": "JZaEKu5v_Zcu"
   },
   "outputs": [
    {
     "name": "stdout",
     "output_type": "stream",
     "text": [
      "genre\n",
      "pop            256\n",
      "rock           216\n",
      "electronic     216\n",
      "dance          210\n",
      "hiphop          97\n",
      "alternative     63\n",
      "jazz            61\n",
      "classical       60\n",
      "rusrap          59\n",
      "world           54\n",
      "Name: genre, dtype: int64\n"
     ]
    }
   ],
   "source": [
    "print(genre_weekday(spb_general, 'Friday', '17:00', '23:00'))# вызов функции для вечера пятницы в Петербурге"
   ]
  },
  {
   "cell_type": "markdown",
   "metadata": {
    "id": "wrCe4MNX_Zcu"
   },
   "source": [
    "**Выводы**\n",
    "\n",
    "Если сравнить топ-10 жанров в понедельник утром, можно сделать такие выводы:\n",
    "\n",
    "1. В Москве и Петербурге слушают похожую музыку. Единственное отличие — в московский рейтинг вошёл жанр “world”, а в петербургский — джаз и классика.\n",
    "\n",
    "2. В Москве пропущенных значений оказалось так много, что значение `'unknown'` заняло десятое место среди самых популярных жанров. Значит, пропущенные значения занимают существенную долю в данных и угрожают достоверности исследования.\n",
    "\n",
    "Вечер пятницы не меняет эту картину. Некоторые жанры поднимаются немного выше, другие спускаются, но в целом топ-10 остаётся тем же самым.\n",
    "\n",
    "Таким образом, вторая гипотеза подтвердилась лишь частично:\n",
    "* Пользователи слушают похожую музыку в начале недели и в конце.\n",
    "* Разница между Москвой и Петербургом не слишком выражена. В Москве чаще слушают русскую популярную музыку, в Петербурге — джаз.\n",
    "\n",
    "Однако пропуски в данных ставят под сомнение этот результат. В Москве их так много, что рейтинг топ-10 мог бы выглядеть иначе, если бы не утерянные  данные о жанрах."
   ]
  },
  {
   "cell_type": "markdown",
   "metadata": {
    "id": "JolODAqr_Zcu"
   },
   "source": [
    "### Жанровые предпочтения в Москве и Петербурге\n",
    "\n",
    "Гипотеза: Петербург — столица рэпа, музыку этого жанра там слушают чаще, чем в Москве.  А Москва — город контрастов, в котором, тем не менее, преобладает поп-музыка."
   ]
  },
  {
   "cell_type": "markdown",
   "metadata": {
    "id": "DlegSvaT_Zcu"
   },
   "source": [
    "Сгруппируйте таблицу `moscow_general` по жанру и посчитайте прослушивания треков каждого жанра методом `count()`. Затем отсортируйте результат в порядке убывания и сохраните его в таблице `moscow_genres`."
   ]
  },
  {
   "cell_type": "code",
   "execution_count": 35,
   "metadata": {
    "id": "r19lIPke_Zcu"
   },
   "outputs": [],
   "source": [
    "moscow_genres = moscow_general.groupby('genre')['genre'].count() # одной строкой: группировка таблицы moscow_general по столбцу 'genre', \n",
    "moscow_genres = moscow_genres.sort_values(ascending = False) # подсчёт числа значений 'genre' в этой группировке методом count(), # сортировка получившегося Series в порядке убывания и сохранение в moscow_genres"
   ]
  },
  {
   "cell_type": "markdown",
   "metadata": {
    "id": "6kMuomxTiIr8"
   },
   "source": [
    "Выведите на экран первые десять строк `moscow_genres`:"
   ]
  },
  {
   "cell_type": "code",
   "execution_count": 36,
   "metadata": {
    "id": "WhCSooF8_Zcv"
   },
   "outputs": [
    {
     "name": "stdout",
     "output_type": "stream",
     "text": [
      "genre\n",
      "pop            5892\n",
      "dance          4435\n",
      "rock           3965\n",
      "electronic     3786\n",
      "hiphop         2096\n",
      "classical      1616\n",
      "world          1432\n",
      "alternative    1379\n",
      "ruspop         1372\n",
      "rusrap         1161\n",
      "Name: genre, dtype: int64\n"
     ]
    }
   ],
   "source": [
    "print(moscow_genres.head(10))# просмотр первых 10 строк moscow_genres"
   ]
  },
  {
   "cell_type": "markdown",
   "metadata": {
    "id": "cnPG2vnN_Zcv"
   },
   "source": [
    "Теперь повторите то же и для Петербурга.\n",
    "\n",
    "Сгруппируйте таблицу `spb_general` по жанру. Посчитайте прослушивания треков каждого жанра. Результат отсортируйте в порядке убывания и сохраните в таблице `spb_genres`:\n"
   ]
  },
  {
   "cell_type": "code",
   "execution_count": 37,
   "metadata": {
    "id": "gluLIpE7_Zcv"
   },
   "outputs": [],
   "source": [
    "spb_genres = spb_general.groupby('genre')['genre'].count() # одной строкой: группировка таблицы spb_general по столбцу 'genre', \n",
    "spb_genres = spb_genres.sort_values(ascending = False)# подсчёт числа значений 'genre' в этой группировке методом count(), \n",
    "# сортировка получившегося Series в порядке убывания и сохранение в spb_genres"
   ]
  },
  {
   "cell_type": "markdown",
   "metadata": {
    "id": "5Doha_ODgyQ8"
   },
   "source": [
    "Выведите на экран первые десять строк `spb_genres`:"
   ]
  },
  {
   "cell_type": "code",
   "execution_count": 38,
   "metadata": {
    "id": "uaGJHjVU_Zcv"
   },
   "outputs": [
    {
     "name": "stdout",
     "output_type": "stream",
     "text": [
      "genre\n",
      "pop            2431\n",
      "dance          1932\n",
      "rock           1879\n",
      "electronic     1736\n",
      "hiphop          960\n",
      "alternative     649\n",
      "classical       646\n",
      "rusrap          564\n",
      "ruspop          538\n",
      "world           515\n",
      "Name: genre, dtype: int64\n"
     ]
    }
   ],
   "source": [
    "print(spb_genres.head(10))# просмотр первых 10 строк spb_genres"
   ]
  },
  {
   "cell_type": "markdown",
   "metadata": {
    "id": "RY51YJYu_Zcv"
   },
   "source": [
    "**Выводы**"
   ]
  },
  {
   "cell_type": "markdown",
   "metadata": {
    "id": "nVhnJEm__Zcv"
   },
   "source": [
    "Гипотеза частично подтвердилась:\n",
    "* Поп-музыка — самый популярный жанр в Москве, как и предполагала гипотеза. Более того, в топ-10 жанров встречается близкий жанр — русская популярная музыка.\n",
    "* Вопреки ожиданиям, рэп одинаково популярен в Москве и Петербурге. \n"
   ]
  },
  {
   "cell_type": "markdown",
   "metadata": {
    "id": "ykKQ0N65_Zcv"
   },
   "source": [
    "## Итоги исследования"
   ]
  },
  {
   "cell_type": "markdown",
   "metadata": {
    "id": "tjUwbHb3_Zcv"
   },
   "source": [
    "Вы проверили три гипотезы и установили:\n",
    "\n",
    "1. День недели по-разному влияет на активность пользователей в Москве и Петербурге. \n",
    "\n",
    "Первая гипотеза полностью подтвердилась.\n",
    "\n",
    "2. Музыкальные предпочтения не сильно меняются в течение недели — будь то Москва или Петербург. Небольшие различия заметны в начале недели, по понедельникам:\n",
    "* в Москве слушают музыку жанра “world”,\n",
    "* в Петербурге — джаз и классику.\n",
    "\n",
    "Таким образом, вторая гипотеза подтвердилась лишь отчасти. Этот результат мог оказаться иным, если бы не пропуски в данных.\n",
    "\n",
    "3. Во вкусах пользователей Москвы и Петербурга больше общего чем различий. Вопреки ожиданиям, предпочтения жанров в Петербурге напоминают московские.\n",
    "\n",
    "Третья гипотеза не подтвердилась. Если различия в предпочтениях и существуют, на основной массе пользователей они незаметны.\n",
    "\n",
    "**На практике исследования содержат проверки статистических гипотез.**\n",
    "Из данных одного сервиса не всегда можно сделать вывод о всех жителях города.\n",
    "Проверки статистических гипотез покажут, насколько они достоверны, исходя из имеющихся данных. \n",
    "С методами проверок гипотез вы ещё познакомитесь в следующих темах."
   ]
  }
 ],
 "metadata": {
  "ExecuteTimeLog": [
   {
    "duration": 713,
    "start_time": "2022-01-09T08:53:22.279Z"
   },
   {
    "duration": 2148,
    "start_time": "2022-01-09T08:54:31.038Z"
   },
   {
    "duration": 186,
    "start_time": "2022-01-09T08:55:01.960Z"
   },
   {
    "duration": 10,
    "start_time": "2022-01-09T08:55:17.281Z"
   },
   {
    "duration": 5,
    "start_time": "2022-01-09T09:01:17.031Z"
   },
   {
    "duration": 98,
    "start_time": "2022-01-09T09:03:51.295Z"
   },
   {
    "duration": 106,
    "start_time": "2022-01-09T09:03:59.302Z"
   },
   {
    "duration": 116,
    "start_time": "2022-01-09T09:04:14.944Z"
   },
   {
    "duration": 26,
    "start_time": "2022-01-09T09:05:06.807Z"
   },
   {
    "duration": 5,
    "start_time": "2022-01-09T09:05:17.832Z"
   },
   {
    "duration": 28,
    "start_time": "2022-01-09T09:07:34.975Z"
   },
   {
    "duration": 21,
    "start_time": "2022-01-09T09:10:15.303Z"
   },
   {
    "duration": 22,
    "start_time": "2022-01-09T09:10:21.733Z"
   },
   {
    "duration": 29,
    "start_time": "2022-01-09T09:10:36.271Z"
   },
   {
    "duration": 93,
    "start_time": "2022-01-09T09:12:15.680Z"
   },
   {
    "duration": 102,
    "start_time": "2022-01-09T09:13:37.304Z"
   },
   {
    "duration": 95,
    "start_time": "2022-01-09T09:13:46.223Z"
   },
   {
    "duration": 8,
    "start_time": "2022-01-09T09:17:35.544Z"
   },
   {
    "duration": 4,
    "start_time": "2022-01-09T09:31:56.598Z"
   },
   {
    "duration": 102,
    "start_time": "2022-01-09T09:31:58.715Z"
   },
   {
    "duration": 14,
    "start_time": "2022-01-09T09:32:07.103Z"
   },
   {
    "duration": 10,
    "start_time": "2022-01-09T09:32:09.487Z"
   },
   {
    "duration": 10,
    "start_time": "2022-01-09T09:32:36.958Z"
   },
   {
    "duration": 9,
    "start_time": "2022-01-09T09:33:18.687Z"
   },
   {
    "duration": 335,
    "start_time": "2022-01-10T08:40:23.451Z"
   },
   {
    "duration": 286,
    "start_time": "2022-01-10T08:41:17.516Z"
   },
   {
    "duration": 1086,
    "start_time": "2022-01-10T08:42:03.372Z"
   },
   {
    "duration": 1593,
    "start_time": "2022-01-10T08:42:23.436Z"
   },
   {
    "duration": 617,
    "start_time": "2022-01-10T08:46:05.986Z"
   },
   {
    "duration": 276,
    "start_time": "2022-01-10T08:46:43.020Z"
   },
   {
    "duration": 693,
    "start_time": "2022-01-10T08:46:48.732Z"
   },
   {
    "duration": 425,
    "start_time": "2022-01-10T08:50:41.571Z"
   },
   {
    "duration": 38,
    "start_time": "2022-01-10T08:50:52.132Z"
   },
   {
    "duration": 331,
    "start_time": "2022-01-10T08:54:30.373Z"
   },
   {
    "duration": 502,
    "start_time": "2022-01-10T08:55:22.155Z"
   },
   {
    "duration": 274,
    "start_time": "2022-01-10T08:57:23.556Z"
   },
   {
    "duration": 381,
    "start_time": "2022-01-10T08:57:46.243Z"
   },
   {
    "duration": 312,
    "start_time": "2022-01-10T08:57:57.774Z"
   },
   {
    "duration": 28,
    "start_time": "2022-01-10T08:58:41.331Z"
   },
   {
    "duration": 5,
    "start_time": "2022-01-10T08:58:45.139Z"
   },
   {
    "duration": 35,
    "start_time": "2022-01-10T08:59:08.947Z"
   },
   {
    "duration": 5,
    "start_time": "2022-01-10T08:59:11.259Z"
   },
   {
    "duration": 14,
    "start_time": "2022-01-10T08:59:20.459Z"
   },
   {
    "duration": 303,
    "start_time": "2022-01-10T09:00:18.244Z"
   },
   {
    "duration": 15,
    "start_time": "2022-01-10T09:00:37.748Z"
   },
   {
    "duration": 15,
    "start_time": "2022-01-10T09:00:51.499Z"
   },
   {
    "duration": 5,
    "start_time": "2022-01-10T09:12:42.443Z"
   },
   {
    "duration": 556,
    "start_time": "2022-01-10T09:14:30.763Z"
   },
   {
    "duration": 5,
    "start_time": "2022-01-10T09:14:40.649Z"
   },
   {
    "duration": 30,
    "start_time": "2022-01-10T09:14:43.090Z"
   },
   {
    "duration": 19,
    "start_time": "2022-01-10T09:15:46.161Z"
   },
   {
    "duration": 21,
    "start_time": "2022-01-10T09:16:20.714Z"
   },
   {
    "duration": 21,
    "start_time": "2022-01-10T09:16:24.180Z"
   },
   {
    "duration": 33,
    "start_time": "2022-01-10T09:16:26.315Z"
   },
   {
    "duration": 20,
    "start_time": "2022-01-10T09:16:28.138Z"
   },
   {
    "duration": 21,
    "start_time": "2022-01-10T09:16:49.505Z"
   },
   {
    "duration": 19,
    "start_time": "2022-01-10T09:17:29.810Z"
   },
   {
    "duration": 19,
    "start_time": "2022-01-10T09:17:30.458Z"
   },
   {
    "duration": 309,
    "start_time": "2022-01-10T09:17:30.930Z"
   },
   {
    "duration": -1575,
    "start_time": "2022-01-10T09:17:32.817Z"
   },
   {
    "duration": 21,
    "start_time": "2022-01-10T09:17:45.779Z"
   },
   {
    "duration": 24,
    "start_time": "2022-01-10T09:17:50.050Z"
   },
   {
    "duration": 363,
    "start_time": "2022-01-10T09:21:33.667Z"
   },
   {
    "duration": 382,
    "start_time": "2022-01-10T09:21:54.131Z"
   },
   {
    "duration": 278,
    "start_time": "2022-01-10T09:23:13.883Z"
   },
   {
    "duration": 1376,
    "start_time": "2022-01-10T09:25:09.219Z"
   },
   {
    "duration": 288,
    "start_time": "2022-01-10T09:28:58.962Z"
   },
   {
    "duration": 356,
    "start_time": "2022-01-10T09:33:07.146Z"
   },
   {
    "duration": 22,
    "start_time": "2022-01-10T09:37:56.713Z"
   },
   {
    "duration": 159,
    "start_time": "2022-01-10T09:39:09.313Z"
   },
   {
    "duration": 100,
    "start_time": "2022-01-10T09:40:19.919Z"
   },
   {
    "duration": 106,
    "start_time": "2022-01-10T09:40:32.002Z"
   },
   {
    "duration": 106,
    "start_time": "2022-01-10T09:40:36.537Z"
   },
   {
    "duration": 158,
    "start_time": "2022-01-10T09:40:48.833Z"
   },
   {
    "duration": 99,
    "start_time": "2022-01-10T09:41:01.514Z"
   },
   {
    "duration": 96,
    "start_time": "2022-01-10T09:41:17.090Z"
   },
   {
    "duration": 89,
    "start_time": "2022-01-10T09:41:37.017Z"
   },
   {
    "duration": 307,
    "start_time": "2022-01-10T09:42:25.529Z"
   },
   {
    "duration": 10,
    "start_time": "2022-01-10T09:42:31.218Z"
   },
   {
    "duration": 13,
    "start_time": "2022-01-10T09:42:51.307Z"
   },
   {
    "duration": 293,
    "start_time": "2022-01-10T09:47:17.426Z"
   },
   {
    "duration": 307,
    "start_time": "2022-01-10T09:47:28.234Z"
   },
   {
    "duration": 335,
    "start_time": "2022-01-10T09:49:53.882Z"
   },
   {
    "duration": 3,
    "start_time": "2022-01-10T09:50:20.543Z"
   },
   {
    "duration": 222,
    "start_time": "2022-01-10T09:50:20.549Z"
   },
   {
    "duration": 10,
    "start_time": "2022-01-10T09:50:20.774Z"
   },
   {
    "duration": 40,
    "start_time": "2022-01-10T09:50:20.787Z"
   },
   {
    "duration": 5,
    "start_time": "2022-01-10T09:50:20.830Z"
   },
   {
    "duration": 18,
    "start_time": "2022-01-10T09:50:20.868Z"
   },
   {
    "duration": 4,
    "start_time": "2022-01-10T09:50:20.888Z"
   },
   {
    "duration": 32,
    "start_time": "2022-01-10T09:50:20.897Z"
   },
   {
    "duration": 55,
    "start_time": "2022-01-10T09:50:20.932Z"
   },
   {
    "duration": 30,
    "start_time": "2022-01-10T09:50:20.989Z"
   },
   {
    "duration": 112,
    "start_time": "2022-01-10T09:50:21.022Z"
   },
   {
    "duration": 160,
    "start_time": "2022-01-10T09:50:21.137Z"
   },
   {
    "duration": 134,
    "start_time": "2022-01-10T09:50:21.300Z"
   },
   {
    "duration": 13,
    "start_time": "2022-01-10T09:50:21.437Z"
   },
   {
    "duration": 6,
    "start_time": "2022-01-10T09:50:21.466Z"
   },
   {
    "duration": 35,
    "start_time": "2022-01-10T09:50:21.475Z"
   },
   {
    "duration": 15,
    "start_time": "2022-01-10T09:50:21.513Z"
   },
   {
    "duration": 39,
    "start_time": "2022-01-10T09:50:21.532Z"
   },
   {
    "duration": 22,
    "start_time": "2022-01-10T09:50:21.574Z"
   },
   {
    "duration": 7,
    "start_time": "2022-01-10T09:50:21.599Z"
   },
   {
    "duration": 63,
    "start_time": "2022-01-10T09:50:21.609Z"
   },
   {
    "duration": 18,
    "start_time": "2022-01-10T09:50:21.675Z"
   },
   {
    "duration": 19,
    "start_time": "2022-01-10T09:50:21.698Z"
   },
   {
    "duration": 57,
    "start_time": "2022-01-10T09:50:21.720Z"
   },
   {
    "duration": 26,
    "start_time": "2022-01-10T09:50:21.780Z"
   },
   {
    "duration": 17,
    "start_time": "2022-01-10T09:50:21.809Z"
   },
   {
    "duration": 48,
    "start_time": "2022-01-10T09:50:21.829Z"
   },
   {
    "duration": 356,
    "start_time": "2022-01-10T09:50:21.879Z"
   },
   {
    "duration": -1566,
    "start_time": "2022-01-10T09:50:23.803Z"
   },
   {
    "duration": -1572,
    "start_time": "2022-01-10T09:50:23.810Z"
   },
   {
    "duration": -1577,
    "start_time": "2022-01-10T09:50:23.816Z"
   },
   {
    "duration": -1581,
    "start_time": "2022-01-10T09:50:23.822Z"
   },
   {
    "duration": -1596,
    "start_time": "2022-01-10T09:50:23.838Z"
   },
   {
    "duration": -1602,
    "start_time": "2022-01-10T09:50:23.845Z"
   },
   {
    "duration": -1607,
    "start_time": "2022-01-10T09:50:23.851Z"
   },
   {
    "duration": -1611,
    "start_time": "2022-01-10T09:50:23.857Z"
   },
   {
    "duration": -1616,
    "start_time": "2022-01-10T09:50:23.863Z"
   },
   {
    "duration": -1621,
    "start_time": "2022-01-10T09:50:23.869Z"
   },
   {
    "duration": 15,
    "start_time": "2022-01-10T09:52:42.769Z"
   },
   {
    "duration": 26,
    "start_time": "2022-01-10T09:52:53.930Z"
   },
   {
    "duration": 16,
    "start_time": "2022-01-10T09:53:26.097Z"
   },
   {
    "duration": 112,
    "start_time": "2022-01-10T10:09:40.041Z"
   },
   {
    "duration": 5,
    "start_time": "2022-01-10T10:10:00.641Z"
   },
   {
    "duration": 19,
    "start_time": "2022-01-10T10:11:41.184Z"
   },
   {
    "duration": 26,
    "start_time": "2022-01-10T10:18:28.273Z"
   },
   {
    "duration": 25,
    "start_time": "2022-01-10T10:18:43.112Z"
   },
   {
    "duration": 258,
    "start_time": "2022-01-10T10:19:28.297Z"
   },
   {
    "duration": 14,
    "start_time": "2022-01-10T10:19:50.401Z"
   },
   {
    "duration": 16,
    "start_time": "2022-01-10T10:20:00.720Z"
   },
   {
    "duration": 26,
    "start_time": "2022-01-10T10:20:05.712Z"
   },
   {
    "duration": 17,
    "start_time": "2022-01-10T10:20:08.336Z"
   },
   {
    "duration": 24,
    "start_time": "2022-01-10T10:20:57.064Z"
   },
   {
    "duration": 15,
    "start_time": "2022-01-10T10:21:01.192Z"
   },
   {
    "duration": 272,
    "start_time": "2022-01-10T10:24:45.344Z"
   },
   {
    "duration": 274,
    "start_time": "2022-01-10T10:24:53.040Z"
   },
   {
    "duration": 11,
    "start_time": "2022-01-10T10:25:11.288Z"
   },
   {
    "duration": 5,
    "start_time": "2022-01-10T10:25:33.208Z"
   },
   {
    "duration": 11,
    "start_time": "2022-01-10T10:29:09.792Z"
   },
   {
    "duration": 6,
    "start_time": "2022-01-10T10:29:12.136Z"
   },
   {
    "duration": 321,
    "start_time": "2022-01-10T10:31:31.641Z"
   },
   {
    "duration": 9,
    "start_time": "2022-01-10T10:31:33.408Z"
   },
   {
    "duration": 5,
    "start_time": "2022-01-10T10:31:39.416Z"
   },
   {
    "duration": 4,
    "start_time": "2022-01-10T10:32:40.636Z"
   },
   {
    "duration": 252,
    "start_time": "2022-01-10T10:32:40.643Z"
   },
   {
    "duration": 13,
    "start_time": "2022-01-10T10:32:40.898Z"
   },
   {
    "duration": 36,
    "start_time": "2022-01-10T10:32:40.914Z"
   },
   {
    "duration": 5,
    "start_time": "2022-01-10T10:32:40.967Z"
   },
   {
    "duration": 23,
    "start_time": "2022-01-10T10:32:40.975Z"
   },
   {
    "duration": 4,
    "start_time": "2022-01-10T10:32:41.000Z"
   },
   {
    "duration": 62,
    "start_time": "2022-01-10T10:32:41.009Z"
   },
   {
    "duration": 34,
    "start_time": "2022-01-10T10:32:41.074Z"
   },
   {
    "duration": 56,
    "start_time": "2022-01-10T10:32:41.111Z"
   },
   {
    "duration": 111,
    "start_time": "2022-01-10T10:32:41.170Z"
   },
   {
    "duration": 114,
    "start_time": "2022-01-10T10:32:41.284Z"
   },
   {
    "duration": 101,
    "start_time": "2022-01-10T10:32:41.400Z"
   },
   {
    "duration": 9,
    "start_time": "2022-01-10T10:32:41.504Z"
   },
   {
    "duration": 5,
    "start_time": "2022-01-10T10:32:41.515Z"
   },
   {
    "duration": 48,
    "start_time": "2022-01-10T10:32:41.522Z"
   },
   {
    "duration": 11,
    "start_time": "2022-01-10T10:32:41.573Z"
   },
   {
    "duration": 18,
    "start_time": "2022-01-10T10:32:41.587Z"
   },
   {
    "duration": 18,
    "start_time": "2022-01-10T10:32:41.608Z"
   },
   {
    "duration": 41,
    "start_time": "2022-01-10T10:32:41.629Z"
   },
   {
    "duration": 27,
    "start_time": "2022-01-10T10:32:41.673Z"
   },
   {
    "duration": 20,
    "start_time": "2022-01-10T10:32:41.703Z"
   },
   {
    "duration": 53,
    "start_time": "2022-01-10T10:32:41.730Z"
   },
   {
    "duration": 25,
    "start_time": "2022-01-10T10:32:41.787Z"
   },
   {
    "duration": 55,
    "start_time": "2022-01-10T10:32:41.815Z"
   },
   {
    "duration": 19,
    "start_time": "2022-01-10T10:32:41.872Z"
   },
   {
    "duration": 14,
    "start_time": "2022-01-10T10:32:41.894Z"
   },
   {
    "duration": 56,
    "start_time": "2022-01-10T10:32:41.911Z"
   },
   {
    "duration": 21,
    "start_time": "2022-01-10T10:32:41.970Z"
   },
   {
    "duration": 8,
    "start_time": "2022-01-10T10:32:41.993Z"
   },
   {
    "duration": 32,
    "start_time": "2022-01-10T10:32:42.003Z"
   },
   {
    "duration": 18,
    "start_time": "2022-01-10T10:32:42.066Z"
   },
   {
    "duration": 24,
    "start_time": "2022-01-10T10:32:42.087Z"
   },
   {
    "duration": 20,
    "start_time": "2022-01-10T10:32:42.113Z"
   },
   {
    "duration": 12,
    "start_time": "2022-01-10T10:32:42.168Z"
   },
   {
    "duration": 7,
    "start_time": "2022-01-10T10:32:42.183Z"
   },
   {
    "duration": 14,
    "start_time": "2022-01-10T10:32:42.193Z"
   },
   {
    "duration": 7,
    "start_time": "2022-01-10T10:32:42.210Z"
   },
   {
    "duration": 309,
    "start_time": "2022-01-10T10:32:54.593Z"
   },
   {
    "duration": 6,
    "start_time": "2022-01-10T10:32:59.408Z"
   },
   {
    "duration": 1230,
    "start_time": "2022-01-11T15:05:38.381Z"
   },
   {
    "duration": 439,
    "start_time": "2022-01-11T15:05:39.615Z"
   },
   {
    "duration": 11,
    "start_time": "2022-01-11T15:05:40.061Z"
   },
   {
    "duration": 62,
    "start_time": "2022-01-11T15:05:40.075Z"
   },
   {
    "duration": 5,
    "start_time": "2022-01-11T15:05:40.139Z"
   },
   {
    "duration": 46,
    "start_time": "2022-01-11T15:05:40.146Z"
   },
   {
    "duration": 15,
    "start_time": "2022-01-11T15:05:40.195Z"
   },
   {
    "duration": 38,
    "start_time": "2022-01-11T15:05:40.214Z"
   },
   {
    "duration": 27,
    "start_time": "2022-01-11T15:05:40.256Z"
   },
   {
    "duration": 57,
    "start_time": "2022-01-11T15:05:40.286Z"
   },
   {
    "duration": 119,
    "start_time": "2022-01-11T15:05:40.346Z"
   },
   {
    "duration": 142,
    "start_time": "2022-01-11T15:05:40.468Z"
   },
   {
    "duration": 113,
    "start_time": "2022-01-11T15:05:40.613Z"
   },
   {
    "duration": 8,
    "start_time": "2022-01-11T15:05:40.728Z"
   },
   {
    "duration": 13,
    "start_time": "2022-01-11T15:05:40.739Z"
   },
   {
    "duration": 19,
    "start_time": "2022-01-11T15:05:40.754Z"
   },
   {
    "duration": 9,
    "start_time": "2022-01-11T15:05:40.775Z"
   },
   {
    "duration": 47,
    "start_time": "2022-01-11T15:05:40.787Z"
   },
   {
    "duration": 15,
    "start_time": "2022-01-11T15:05:40.837Z"
   },
   {
    "duration": 7,
    "start_time": "2022-01-11T15:05:40.855Z"
   },
   {
    "duration": 65,
    "start_time": "2022-01-11T15:05:40.865Z"
   },
   {
    "duration": 18,
    "start_time": "2022-01-11T15:05:40.933Z"
   },
   {
    "duration": 20,
    "start_time": "2022-01-11T15:05:40.954Z"
   },
   {
    "duration": 50,
    "start_time": "2022-01-11T15:05:40.977Z"
   },
   {
    "duration": 21,
    "start_time": "2022-01-11T15:05:41.030Z"
   },
   {
    "duration": 22,
    "start_time": "2022-01-11T15:05:41.056Z"
   },
   {
    "duration": 61,
    "start_time": "2022-01-11T15:05:41.082Z"
   },
   {
    "duration": 23,
    "start_time": "2022-01-11T15:05:41.146Z"
   },
   {
    "duration": 18,
    "start_time": "2022-01-11T15:05:41.172Z"
   },
   {
    "duration": 37,
    "start_time": "2022-01-11T15:05:41.194Z"
   },
   {
    "duration": 29,
    "start_time": "2022-01-11T15:05:41.234Z"
   },
   {
    "duration": 23,
    "start_time": "2022-01-11T15:05:41.266Z"
   },
   {
    "duration": 30,
    "start_time": "2022-01-11T15:05:41.324Z"
   },
   {
    "duration": 20,
    "start_time": "2022-01-11T15:05:41.357Z"
   },
   {
    "duration": 48,
    "start_time": "2022-01-11T15:05:41.380Z"
   },
   {
    "duration": 6,
    "start_time": "2022-01-11T15:05:41.431Z"
   },
   {
    "duration": 14,
    "start_time": "2022-01-11T15:05:41.440Z"
   },
   {
    "duration": 17,
    "start_time": "2022-01-11T15:05:41.457Z"
   },
   {
    "duration": 229,
    "start_time": "2022-01-12T08:44:23.269Z"
   },
   {
    "duration": 183,
    "start_time": "2022-01-12T08:44:42.373Z"
   },
   {
    "duration": 566,
    "start_time": "2022-01-12T08:45:09.304Z"
   },
   {
    "duration": 133,
    "start_time": "2022-01-12T08:45:09.872Z"
   },
   {
    "duration": 8,
    "start_time": "2022-01-12T08:45:10.007Z"
   },
   {
    "duration": 30,
    "start_time": "2022-01-12T08:45:10.017Z"
   },
   {
    "duration": 4,
    "start_time": "2022-01-12T08:45:10.049Z"
   },
   {
    "duration": 54,
    "start_time": "2022-01-12T08:45:10.054Z"
   },
   {
    "duration": 3,
    "start_time": "2022-01-12T08:45:10.110Z"
   },
   {
    "duration": 29,
    "start_time": "2022-01-12T08:45:10.115Z"
   },
   {
    "duration": 22,
    "start_time": "2022-01-12T08:45:10.146Z"
   },
   {
    "duration": 36,
    "start_time": "2022-01-12T08:45:10.170Z"
   },
   {
    "duration": 65,
    "start_time": "2022-01-12T08:45:10.208Z"
   },
   {
    "duration": 85,
    "start_time": "2022-01-12T08:45:10.274Z"
   },
   {
    "duration": 61,
    "start_time": "2022-01-12T08:45:10.361Z"
   },
   {
    "duration": 199,
    "start_time": "2022-01-12T08:45:10.424Z"
   },
   {
    "duration": -3134,
    "start_time": "2022-01-12T08:45:13.760Z"
   },
   {
    "duration": -3137,
    "start_time": "2022-01-12T08:45:13.765Z"
   },
   {
    "duration": -3140,
    "start_time": "2022-01-12T08:45:13.769Z"
   },
   {
    "duration": -3142,
    "start_time": "2022-01-12T08:45:13.773Z"
   },
   {
    "duration": -3144,
    "start_time": "2022-01-12T08:45:13.777Z"
   },
   {
    "duration": -3148,
    "start_time": "2022-01-12T08:45:13.782Z"
   },
   {
    "duration": -3150,
    "start_time": "2022-01-12T08:45:13.786Z"
   },
   {
    "duration": -3157,
    "start_time": "2022-01-12T08:45:13.794Z"
   },
   {
    "duration": -3159,
    "start_time": "2022-01-12T08:45:13.797Z"
   },
   {
    "duration": -3162,
    "start_time": "2022-01-12T08:45:13.800Z"
   },
   {
    "duration": -3164,
    "start_time": "2022-01-12T08:45:13.803Z"
   },
   {
    "duration": -3166,
    "start_time": "2022-01-12T08:45:13.806Z"
   },
   {
    "duration": -3168,
    "start_time": "2022-01-12T08:45:13.809Z"
   },
   {
    "duration": -3170,
    "start_time": "2022-01-12T08:45:13.812Z"
   },
   {
    "duration": -3172,
    "start_time": "2022-01-12T08:45:13.815Z"
   },
   {
    "duration": -3174,
    "start_time": "2022-01-12T08:45:13.818Z"
   },
   {
    "duration": -3176,
    "start_time": "2022-01-12T08:45:13.821Z"
   },
   {
    "duration": -3178,
    "start_time": "2022-01-12T08:45:13.824Z"
   },
   {
    "duration": -3179,
    "start_time": "2022-01-12T08:45:13.826Z"
   },
   {
    "duration": -3182,
    "start_time": "2022-01-12T08:45:13.830Z"
   },
   {
    "duration": -3183,
    "start_time": "2022-01-12T08:45:13.832Z"
   },
   {
    "duration": -3185,
    "start_time": "2022-01-12T08:45:13.835Z"
   },
   {
    "duration": -3186,
    "start_time": "2022-01-12T08:45:13.838Z"
   },
   {
    "duration": -3188,
    "start_time": "2022-01-12T08:45:13.841Z"
   },
   {
    "duration": 356,
    "start_time": "2022-01-13T19:50:42.959Z"
   },
   {
    "duration": 369,
    "start_time": "2022-01-13T19:59:29.484Z"
   },
   {
    "duration": 789,
    "start_time": "2022-01-13T20:04:10.840Z"
   },
   {
    "duration": 124,
    "start_time": "2022-01-13T20:04:11.631Z"
   },
   {
    "duration": 16,
    "start_time": "2022-01-13T20:04:11.757Z"
   },
   {
    "duration": 24,
    "start_time": "2022-01-13T20:04:11.775Z"
   },
   {
    "duration": 5,
    "start_time": "2022-01-13T20:04:11.801Z"
   },
   {
    "duration": 35,
    "start_time": "2022-01-13T20:04:11.807Z"
   },
   {
    "duration": 5,
    "start_time": "2022-01-13T20:04:11.844Z"
   },
   {
    "duration": 23,
    "start_time": "2022-01-13T20:04:11.851Z"
   },
   {
    "duration": 27,
    "start_time": "2022-01-13T20:04:11.877Z"
   },
   {
    "duration": 47,
    "start_time": "2022-01-13T20:04:11.906Z"
   },
   {
    "duration": 57,
    "start_time": "2022-01-13T20:04:11.955Z"
   },
   {
    "duration": 62,
    "start_time": "2022-01-13T20:04:12.027Z"
   },
   {
    "duration": 60,
    "start_time": "2022-01-13T20:04:12.091Z"
   },
   {
    "duration": 36,
    "start_time": "2022-01-13T20:04:12.153Z"
   },
   {
    "duration": 2,
    "start_time": "2022-01-13T20:04:12.191Z"
   },
   {
    "duration": 14,
    "start_time": "2022-01-13T20:04:12.195Z"
   },
   {
    "duration": 20,
    "start_time": "2022-01-13T20:04:12.211Z"
   },
   {
    "duration": 11,
    "start_time": "2022-01-13T20:04:12.233Z"
   },
   {
    "duration": 8,
    "start_time": "2022-01-13T20:04:12.246Z"
   },
   {
    "duration": 3,
    "start_time": "2022-01-13T20:04:12.256Z"
   },
   {
    "duration": 22,
    "start_time": "2022-01-13T20:04:12.260Z"
   },
   {
    "duration": 11,
    "start_time": "2022-01-13T20:04:12.284Z"
   },
   {
    "duration": 15,
    "start_time": "2022-01-13T20:04:12.326Z"
   },
   {
    "duration": 11,
    "start_time": "2022-01-13T20:04:12.343Z"
   },
   {
    "duration": 14,
    "start_time": "2022-01-13T20:04:12.355Z"
   },
   {
    "duration": 16,
    "start_time": "2022-01-13T20:04:12.370Z"
   },
   {
    "duration": 12,
    "start_time": "2022-01-13T20:04:12.387Z"
   },
   {
    "duration": 12,
    "start_time": "2022-01-13T20:04:12.427Z"
   },
   {
    "duration": 8,
    "start_time": "2022-01-13T20:04:12.440Z"
   },
   {
    "duration": 4,
    "start_time": "2022-01-13T20:04:12.450Z"
   },
   {
    "duration": 19,
    "start_time": "2022-01-13T20:04:12.455Z"
   },
   {
    "duration": 14,
    "start_time": "2022-01-13T20:04:12.476Z"
   },
   {
    "duration": 45,
    "start_time": "2022-01-13T20:04:12.492Z"
   },
   {
    "duration": 11,
    "start_time": "2022-01-13T20:04:12.539Z"
   },
   {
    "duration": 20,
    "start_time": "2022-01-13T20:04:12.552Z"
   },
   {
    "duration": 10,
    "start_time": "2022-01-13T20:04:12.573Z"
   },
   {
    "duration": 13,
    "start_time": "2022-01-13T20:04:12.585Z"
   },
   {
    "duration": 10,
    "start_time": "2022-01-13T20:04:12.600Z"
   },
   {
    "duration": 589,
    "start_time": "2022-01-13T20:18:20.675Z"
   },
   {
    "duration": 133,
    "start_time": "2022-01-13T20:18:21.266Z"
   },
   {
    "duration": 16,
    "start_time": "2022-01-13T20:18:21.404Z"
   },
   {
    "duration": 25,
    "start_time": "2022-01-13T20:18:21.422Z"
   },
   {
    "duration": 13,
    "start_time": "2022-01-13T20:18:21.448Z"
   },
   {
    "duration": 35,
    "start_time": "2022-01-13T20:18:21.463Z"
   },
   {
    "duration": 20,
    "start_time": "2022-01-13T20:18:21.500Z"
   },
   {
    "duration": 40,
    "start_time": "2022-01-13T20:18:21.522Z"
   },
   {
    "duration": 32,
    "start_time": "2022-01-13T20:18:21.564Z"
   },
   {
    "duration": 24,
    "start_time": "2022-01-13T20:18:21.598Z"
   },
   {
    "duration": 73,
    "start_time": "2022-01-13T20:18:21.624Z"
   },
   {
    "duration": 62,
    "start_time": "2022-01-13T20:18:21.699Z"
   },
   {
    "duration": 58,
    "start_time": "2022-01-13T20:18:21.762Z"
   },
   {
    "duration": 40,
    "start_time": "2022-01-13T20:18:21.822Z"
   },
   {
    "duration": 3,
    "start_time": "2022-01-13T20:18:21.863Z"
   },
   {
    "duration": 30,
    "start_time": "2022-01-13T20:18:21.868Z"
   },
   {
    "duration": 6,
    "start_time": "2022-01-13T20:18:21.900Z"
   },
   {
    "duration": 12,
    "start_time": "2022-01-13T20:18:21.908Z"
   },
   {
    "duration": 10,
    "start_time": "2022-01-13T20:18:21.921Z"
   },
   {
    "duration": 3,
    "start_time": "2022-01-13T20:18:21.932Z"
   },
   {
    "duration": 19,
    "start_time": "2022-01-13T20:18:21.937Z"
   },
   {
    "duration": 40,
    "start_time": "2022-01-13T20:18:21.958Z"
   },
   {
    "duration": 15,
    "start_time": "2022-01-13T20:18:22.000Z"
   },
   {
    "duration": 14,
    "start_time": "2022-01-13T20:18:22.016Z"
   },
   {
    "duration": 15,
    "start_time": "2022-01-13T20:18:22.031Z"
   },
   {
    "duration": 13,
    "start_time": "2022-01-13T20:18:22.050Z"
   },
   {
    "duration": 40,
    "start_time": "2022-01-13T20:18:22.065Z"
   },
   {
    "duration": 15,
    "start_time": "2022-01-13T20:18:22.107Z"
   },
   {
    "duration": 18,
    "start_time": "2022-01-13T20:18:22.124Z"
   },
   {
    "duration": 5,
    "start_time": "2022-01-13T20:18:22.144Z"
   },
   {
    "duration": 27,
    "start_time": "2022-01-13T20:18:22.150Z"
   },
   {
    "duration": 13,
    "start_time": "2022-01-13T20:18:22.199Z"
   },
   {
    "duration": 15,
    "start_time": "2022-01-13T20:18:22.214Z"
   },
   {
    "duration": 10,
    "start_time": "2022-01-13T20:18:22.231Z"
   },
   {
    "duration": 7,
    "start_time": "2022-01-13T20:18:22.243Z"
   },
   {
    "duration": 5,
    "start_time": "2022-01-13T20:18:22.252Z"
   },
   {
    "duration": 43,
    "start_time": "2022-01-13T20:18:22.259Z"
   },
   {
    "duration": 4,
    "start_time": "2022-01-13T20:18:22.303Z"
   }
  ],
  "colab": {
   "collapsed_sections": [
    "E0vqbgi9ay0H",
    "VUC88oWjTJw2"
   ],
   "name": "yandex_music_project_2021.2.ipynb",
   "provenance": []
  },
  "kernelspec": {
   "display_name": "Python 3 (ipykernel)",
   "language": "python",
   "name": "python3"
  },
  "language_info": {
   "codemirror_mode": {
    "name": "ipython",
    "version": 3
   },
   "file_extension": ".py",
   "mimetype": "text/x-python",
   "name": "python",
   "nbconvert_exporter": "python",
   "pygments_lexer": "ipython3",
   "version": "3.9.5"
  },
  "toc": {
   "base_numbering": 1,
   "nav_menu": {},
   "number_sections": true,
   "sideBar": true,
   "skip_h1_title": true,
   "title_cell": "Table of Contents",
   "title_sidebar": "Contents",
   "toc_cell": false,
   "toc_position": {
    "height": "calc(100% - 180px)",
    "left": "10px",
    "top": "150px",
    "width": "237.854px"
   },
   "toc_section_display": true,
   "toc_window_display": true
  }
 },
 "nbformat": 4,
 "nbformat_minor": 1
}
