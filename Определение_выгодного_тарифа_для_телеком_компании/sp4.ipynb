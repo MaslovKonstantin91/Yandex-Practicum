{
 "cells": [
  {
   "cell_type": "markdown",
   "metadata": {},
   "source": [
    "## Откройте файл с данными и изучите общую информацию"
   ]
  },
  {
   "cell_type": "code",
   "execution_count": 1,
   "metadata": {},
   "outputs": [],
   "source": [
    "import pandas as pd\n",
    "import numpy as np\n",
    "import seaborn as sns\n",
    "import matplotlib.pyplot as plt\n",
    "import math\n"
   ]
  },
  {
   "cell_type": "code",
   "execution_count": 2,
   "metadata": {},
   "outputs": [],
   "source": [
    "calls = pd.read_csv('/datasets/calls.csv',sep=',')\n",
    "internet = pd.read_csv('/datasets/internet.csv',sep=',')\n",
    "messages = pd.read_csv('/datasets/messages.csv',sep=',')\n",
    "tariffs = pd.read_csv('/datasets/tariffs.csv',sep=',')\n",
    "users = pd.read_csv('/datasets/users.csv',sep=',')"
   ]
  },
  {
   "cell_type": "code",
   "execution_count": 3,
   "metadata": {},
   "outputs": [
    {
     "data": {
      "text/html": [
       "<div>\n",
       "<style scoped>\n",
       "    .dataframe tbody tr th:only-of-type {\n",
       "        vertical-align: middle;\n",
       "    }\n",
       "\n",
       "    .dataframe tbody tr th {\n",
       "        vertical-align: top;\n",
       "    }\n",
       "\n",
       "    .dataframe thead th {\n",
       "        text-align: right;\n",
       "    }\n",
       "</style>\n",
       "<table border=\"1\" class=\"dataframe\">\n",
       "  <thead>\n",
       "    <tr style=\"text-align: right;\">\n",
       "      <th></th>\n",
       "      <th>user_id</th>\n",
       "      <th>age</th>\n",
       "      <th>churn_date</th>\n",
       "      <th>city</th>\n",
       "      <th>first_name</th>\n",
       "      <th>last_name</th>\n",
       "      <th>reg_date</th>\n",
       "      <th>tariff</th>\n",
       "    </tr>\n",
       "  </thead>\n",
       "  <tbody>\n",
       "    <tr>\n",
       "      <th>0</th>\n",
       "      <td>1000</td>\n",
       "      <td>52</td>\n",
       "      <td>NaN</td>\n",
       "      <td>Краснодар</td>\n",
       "      <td>Рафаил</td>\n",
       "      <td>Верещагин</td>\n",
       "      <td>2018-05-25</td>\n",
       "      <td>ultra</td>\n",
       "    </tr>\n",
       "    <tr>\n",
       "      <th>1</th>\n",
       "      <td>1001</td>\n",
       "      <td>41</td>\n",
       "      <td>NaN</td>\n",
       "      <td>Москва</td>\n",
       "      <td>Иван</td>\n",
       "      <td>Ежов</td>\n",
       "      <td>2018-11-01</td>\n",
       "      <td>smart</td>\n",
       "    </tr>\n",
       "    <tr>\n",
       "      <th>2</th>\n",
       "      <td>1002</td>\n",
       "      <td>59</td>\n",
       "      <td>NaN</td>\n",
       "      <td>Стерлитамак</td>\n",
       "      <td>Евгений</td>\n",
       "      <td>Абрамович</td>\n",
       "      <td>2018-06-17</td>\n",
       "      <td>smart</td>\n",
       "    </tr>\n",
       "    <tr>\n",
       "      <th>3</th>\n",
       "      <td>1003</td>\n",
       "      <td>23</td>\n",
       "      <td>NaN</td>\n",
       "      <td>Москва</td>\n",
       "      <td>Белла</td>\n",
       "      <td>Белякова</td>\n",
       "      <td>2018-08-17</td>\n",
       "      <td>ultra</td>\n",
       "    </tr>\n",
       "    <tr>\n",
       "      <th>4</th>\n",
       "      <td>1004</td>\n",
       "      <td>68</td>\n",
       "      <td>NaN</td>\n",
       "      <td>Новокузнецк</td>\n",
       "      <td>Татьяна</td>\n",
       "      <td>Авдеенко</td>\n",
       "      <td>2018-05-14</td>\n",
       "      <td>ultra</td>\n",
       "    </tr>\n",
       "  </tbody>\n",
       "</table>\n",
       "</div>"
      ],
      "text/plain": [
       "   user_id  age churn_date         city first_name  last_name    reg_date  \\\n",
       "0     1000   52        NaN    Краснодар     Рафаил  Верещагин  2018-05-25   \n",
       "1     1001   41        NaN       Москва       Иван       Ежов  2018-11-01   \n",
       "2     1002   59        NaN  Стерлитамак    Евгений  Абрамович  2018-06-17   \n",
       "3     1003   23        NaN       Москва      Белла   Белякова  2018-08-17   \n",
       "4     1004   68        NaN  Новокузнецк    Татьяна   Авдеенко  2018-05-14   \n",
       "\n",
       "  tariff  \n",
       "0  ultra  \n",
       "1  smart  \n",
       "2  smart  \n",
       "3  ultra  \n",
       "4  ultra  "
      ]
     },
     "execution_count": 3,
     "metadata": {},
     "output_type": "execute_result"
    }
   ],
   "source": [
    "calls.head()\n",
    "internet.head()\n",
    "messages.head()\n",
    "tariffs.head()\n",
    "users.head()"
   ]
  },
  {
   "cell_type": "code",
   "execution_count": 4,
   "metadata": {},
   "outputs": [
    {
     "data": {
      "text/html": [
       "<div>\n",
       "<style scoped>\n",
       "    .dataframe tbody tr th:only-of-type {\n",
       "        vertical-align: middle;\n",
       "    }\n",
       "\n",
       "    .dataframe tbody tr th {\n",
       "        vertical-align: top;\n",
       "    }\n",
       "\n",
       "    .dataframe thead th {\n",
       "        text-align: right;\n",
       "    }\n",
       "</style>\n",
       "<table border=\"1\" class=\"dataframe\">\n",
       "  <thead>\n",
       "    <tr style=\"text-align: right;\">\n",
       "      <th></th>\n",
       "      <th>Unnamed: 0</th>\n",
       "      <th>id</th>\n",
       "      <th>mb_used</th>\n",
       "      <th>session_date</th>\n",
       "      <th>user_id</th>\n",
       "    </tr>\n",
       "  </thead>\n",
       "  <tbody>\n",
       "    <tr>\n",
       "      <th>0</th>\n",
       "      <td>0</td>\n",
       "      <td>1000_0</td>\n",
       "      <td>112.95</td>\n",
       "      <td>2018-11-25</td>\n",
       "      <td>1000</td>\n",
       "    </tr>\n",
       "    <tr>\n",
       "      <th>1</th>\n",
       "      <td>1</td>\n",
       "      <td>1000_1</td>\n",
       "      <td>1052.81</td>\n",
       "      <td>2018-09-07</td>\n",
       "      <td>1000</td>\n",
       "    </tr>\n",
       "    <tr>\n",
       "      <th>2</th>\n",
       "      <td>2</td>\n",
       "      <td>1000_2</td>\n",
       "      <td>1197.26</td>\n",
       "      <td>2018-06-25</td>\n",
       "      <td>1000</td>\n",
       "    </tr>\n",
       "    <tr>\n",
       "      <th>3</th>\n",
       "      <td>3</td>\n",
       "      <td>1000_3</td>\n",
       "      <td>550.27</td>\n",
       "      <td>2018-08-22</td>\n",
       "      <td>1000</td>\n",
       "    </tr>\n",
       "    <tr>\n",
       "      <th>4</th>\n",
       "      <td>4</td>\n",
       "      <td>1000_4</td>\n",
       "      <td>302.56</td>\n",
       "      <td>2018-09-24</td>\n",
       "      <td>1000</td>\n",
       "    </tr>\n",
       "  </tbody>\n",
       "</table>\n",
       "</div>"
      ],
      "text/plain": [
       "   Unnamed: 0      id  mb_used session_date  user_id\n",
       "0           0  1000_0   112.95   2018-11-25     1000\n",
       "1           1  1000_1  1052.81   2018-09-07     1000\n",
       "2           2  1000_2  1197.26   2018-06-25     1000\n",
       "3           3  1000_3   550.27   2018-08-22     1000\n",
       "4           4  1000_4   302.56   2018-09-24     1000"
      ]
     },
     "execution_count": 4,
     "metadata": {},
     "output_type": "execute_result"
    }
   ],
   "source": [
    "internet.head()"
   ]
  },
  {
   "cell_type": "code",
   "execution_count": 5,
   "metadata": {},
   "outputs": [
    {
     "data": {
      "text/html": [
       "<div>\n",
       "<style scoped>\n",
       "    .dataframe tbody tr th:only-of-type {\n",
       "        vertical-align: middle;\n",
       "    }\n",
       "\n",
       "    .dataframe tbody tr th {\n",
       "        vertical-align: top;\n",
       "    }\n",
       "\n",
       "    .dataframe thead th {\n",
       "        text-align: right;\n",
       "    }\n",
       "</style>\n",
       "<table border=\"1\" class=\"dataframe\">\n",
       "  <thead>\n",
       "    <tr style=\"text-align: right;\">\n",
       "      <th></th>\n",
       "      <th>id</th>\n",
       "      <th>message_date</th>\n",
       "      <th>user_id</th>\n",
       "    </tr>\n",
       "  </thead>\n",
       "  <tbody>\n",
       "    <tr>\n",
       "      <th>0</th>\n",
       "      <td>1000_0</td>\n",
       "      <td>2018-06-27</td>\n",
       "      <td>1000</td>\n",
       "    </tr>\n",
       "    <tr>\n",
       "      <th>1</th>\n",
       "      <td>1000_1</td>\n",
       "      <td>2018-10-08</td>\n",
       "      <td>1000</td>\n",
       "    </tr>\n",
       "    <tr>\n",
       "      <th>2</th>\n",
       "      <td>1000_2</td>\n",
       "      <td>2018-08-04</td>\n",
       "      <td>1000</td>\n",
       "    </tr>\n",
       "    <tr>\n",
       "      <th>3</th>\n",
       "      <td>1000_3</td>\n",
       "      <td>2018-06-16</td>\n",
       "      <td>1000</td>\n",
       "    </tr>\n",
       "    <tr>\n",
       "      <th>4</th>\n",
       "      <td>1000_4</td>\n",
       "      <td>2018-12-05</td>\n",
       "      <td>1000</td>\n",
       "    </tr>\n",
       "  </tbody>\n",
       "</table>\n",
       "</div>"
      ],
      "text/plain": [
       "       id message_date  user_id\n",
       "0  1000_0   2018-06-27     1000\n",
       "1  1000_1   2018-10-08     1000\n",
       "2  1000_2   2018-08-04     1000\n",
       "3  1000_3   2018-06-16     1000\n",
       "4  1000_4   2018-12-05     1000"
      ]
     },
     "execution_count": 5,
     "metadata": {},
     "output_type": "execute_result"
    }
   ],
   "source": [
    "messages.head()"
   ]
  },
  {
   "cell_type": "code",
   "execution_count": 6,
   "metadata": {},
   "outputs": [
    {
     "data": {
      "text/html": [
       "<div>\n",
       "<style scoped>\n",
       "    .dataframe tbody tr th:only-of-type {\n",
       "        vertical-align: middle;\n",
       "    }\n",
       "\n",
       "    .dataframe tbody tr th {\n",
       "        vertical-align: top;\n",
       "    }\n",
       "\n",
       "    .dataframe thead th {\n",
       "        text-align: right;\n",
       "    }\n",
       "</style>\n",
       "<table border=\"1\" class=\"dataframe\">\n",
       "  <thead>\n",
       "    <tr style=\"text-align: right;\">\n",
       "      <th></th>\n",
       "      <th>messages_included</th>\n",
       "      <th>mb_per_month_included</th>\n",
       "      <th>minutes_included</th>\n",
       "      <th>rub_monthly_fee</th>\n",
       "      <th>rub_per_gb</th>\n",
       "      <th>rub_per_message</th>\n",
       "      <th>rub_per_minute</th>\n",
       "      <th>tariff_name</th>\n",
       "    </tr>\n",
       "  </thead>\n",
       "  <tbody>\n",
       "    <tr>\n",
       "      <th>0</th>\n",
       "      <td>50</td>\n",
       "      <td>15360</td>\n",
       "      <td>500</td>\n",
       "      <td>550</td>\n",
       "      <td>200</td>\n",
       "      <td>3</td>\n",
       "      <td>3</td>\n",
       "      <td>smart</td>\n",
       "    </tr>\n",
       "    <tr>\n",
       "      <th>1</th>\n",
       "      <td>1000</td>\n",
       "      <td>30720</td>\n",
       "      <td>3000</td>\n",
       "      <td>1950</td>\n",
       "      <td>150</td>\n",
       "      <td>1</td>\n",
       "      <td>1</td>\n",
       "      <td>ultra</td>\n",
       "    </tr>\n",
       "  </tbody>\n",
       "</table>\n",
       "</div>"
      ],
      "text/plain": [
       "   messages_included  mb_per_month_included  minutes_included  \\\n",
       "0                 50                  15360               500   \n",
       "1               1000                  30720              3000   \n",
       "\n",
       "   rub_monthly_fee  rub_per_gb  rub_per_message  rub_per_minute tariff_name  \n",
       "0              550         200                3               3       smart  \n",
       "1             1950         150                1               1       ultra  "
      ]
     },
     "execution_count": 6,
     "metadata": {},
     "output_type": "execute_result"
    }
   ],
   "source": [
    "tariffs.head()"
   ]
  },
  {
   "cell_type": "code",
   "execution_count": 7,
   "metadata": {},
   "outputs": [
    {
     "data": {
      "text/html": [
       "<div>\n",
       "<style scoped>\n",
       "    .dataframe tbody tr th:only-of-type {\n",
       "        vertical-align: middle;\n",
       "    }\n",
       "\n",
       "    .dataframe tbody tr th {\n",
       "        vertical-align: top;\n",
       "    }\n",
       "\n",
       "    .dataframe thead th {\n",
       "        text-align: right;\n",
       "    }\n",
       "</style>\n",
       "<table border=\"1\" class=\"dataframe\">\n",
       "  <thead>\n",
       "    <tr style=\"text-align: right;\">\n",
       "      <th></th>\n",
       "      <th>id</th>\n",
       "      <th>call_date</th>\n",
       "      <th>duration</th>\n",
       "      <th>user_id</th>\n",
       "    </tr>\n",
       "  </thead>\n",
       "  <tbody>\n",
       "    <tr>\n",
       "      <th>202602</th>\n",
       "      <td>1499_215</td>\n",
       "      <td>2018-12-26</td>\n",
       "      <td>0.76</td>\n",
       "      <td>1499</td>\n",
       "    </tr>\n",
       "    <tr>\n",
       "      <th>202603</th>\n",
       "      <td>1499_216</td>\n",
       "      <td>2018-10-18</td>\n",
       "      <td>18.83</td>\n",
       "      <td>1499</td>\n",
       "    </tr>\n",
       "    <tr>\n",
       "      <th>202604</th>\n",
       "      <td>1499_217</td>\n",
       "      <td>2018-11-10</td>\n",
       "      <td>10.81</td>\n",
       "      <td>1499</td>\n",
       "    </tr>\n",
       "    <tr>\n",
       "      <th>202605</th>\n",
       "      <td>1499_218</td>\n",
       "      <td>2018-10-06</td>\n",
       "      <td>4.27</td>\n",
       "      <td>1499</td>\n",
       "    </tr>\n",
       "    <tr>\n",
       "      <th>202606</th>\n",
       "      <td>1499_219</td>\n",
       "      <td>2018-12-14</td>\n",
       "      <td>19.62</td>\n",
       "      <td>1499</td>\n",
       "    </tr>\n",
       "  </tbody>\n",
       "</table>\n",
       "</div>"
      ],
      "text/plain": [
       "              id   call_date  duration  user_id\n",
       "202602  1499_215  2018-12-26      0.76     1499\n",
       "202603  1499_216  2018-10-18     18.83     1499\n",
       "202604  1499_217  2018-11-10     10.81     1499\n",
       "202605  1499_218  2018-10-06      4.27     1499\n",
       "202606  1499_219  2018-12-14     19.62     1499"
      ]
     },
     "execution_count": 7,
     "metadata": {},
     "output_type": "execute_result"
    }
   ],
   "source": [
    "calls.tail()"
   ]
  },
  {
   "cell_type": "code",
   "execution_count": 8,
   "metadata": {},
   "outputs": [
    {
     "data": {
      "text/html": [
       "<div>\n",
       "<style scoped>\n",
       "    .dataframe tbody tr th:only-of-type {\n",
       "        vertical-align: middle;\n",
       "    }\n",
       "\n",
       "    .dataframe tbody tr th {\n",
       "        vertical-align: top;\n",
       "    }\n",
       "\n",
       "    .dataframe thead th {\n",
       "        text-align: right;\n",
       "    }\n",
       "</style>\n",
       "<table border=\"1\" class=\"dataframe\">\n",
       "  <thead>\n",
       "    <tr style=\"text-align: right;\">\n",
       "      <th></th>\n",
       "      <th>user_id</th>\n",
       "      <th>age</th>\n",
       "      <th>churn_date</th>\n",
       "      <th>city</th>\n",
       "      <th>first_name</th>\n",
       "      <th>last_name</th>\n",
       "      <th>reg_date</th>\n",
       "      <th>tariff</th>\n",
       "    </tr>\n",
       "  </thead>\n",
       "  <tbody>\n",
       "    <tr>\n",
       "      <th>495</th>\n",
       "      <td>1495</td>\n",
       "      <td>65</td>\n",
       "      <td>NaN</td>\n",
       "      <td>Иркутск</td>\n",
       "      <td>Авксентий</td>\n",
       "      <td>Фокин</td>\n",
       "      <td>2018-08-28</td>\n",
       "      <td>ultra</td>\n",
       "    </tr>\n",
       "    <tr>\n",
       "      <th>496</th>\n",
       "      <td>1496</td>\n",
       "      <td>36</td>\n",
       "      <td>NaN</td>\n",
       "      <td>Вологда</td>\n",
       "      <td>Трифон</td>\n",
       "      <td>Блохин</td>\n",
       "      <td>2018-01-27</td>\n",
       "      <td>smart</td>\n",
       "    </tr>\n",
       "    <tr>\n",
       "      <th>497</th>\n",
       "      <td>1497</td>\n",
       "      <td>32</td>\n",
       "      <td>NaN</td>\n",
       "      <td>Челябинск</td>\n",
       "      <td>Каролина</td>\n",
       "      <td>Агеева</td>\n",
       "      <td>2018-10-09</td>\n",
       "      <td>smart</td>\n",
       "    </tr>\n",
       "    <tr>\n",
       "      <th>498</th>\n",
       "      <td>1498</td>\n",
       "      <td>68</td>\n",
       "      <td>2018-10-25</td>\n",
       "      <td>Владикавказ</td>\n",
       "      <td>Всеволод</td>\n",
       "      <td>Акимчин</td>\n",
       "      <td>2018-07-19</td>\n",
       "      <td>smart</td>\n",
       "    </tr>\n",
       "    <tr>\n",
       "      <th>499</th>\n",
       "      <td>1499</td>\n",
       "      <td>35</td>\n",
       "      <td>NaN</td>\n",
       "      <td>Пермь</td>\n",
       "      <td>Гектор</td>\n",
       "      <td>Корнилов</td>\n",
       "      <td>2018-09-27</td>\n",
       "      <td>smart</td>\n",
       "    </tr>\n",
       "  </tbody>\n",
       "</table>\n",
       "</div>"
      ],
      "text/plain": [
       "     user_id  age  churn_date         city first_name last_name    reg_date  \\\n",
       "495     1495   65         NaN      Иркутск  Авксентий     Фокин  2018-08-28   \n",
       "496     1496   36         NaN      Вологда     Трифон    Блохин  2018-01-27   \n",
       "497     1497   32         NaN    Челябинск   Каролина    Агеева  2018-10-09   \n",
       "498     1498   68  2018-10-25  Владикавказ   Всеволод   Акимчин  2018-07-19   \n",
       "499     1499   35         NaN        Пермь     Гектор  Корнилов  2018-09-27   \n",
       "\n",
       "    tariff  \n",
       "495  ultra  \n",
       "496  smart  \n",
       "497  smart  \n",
       "498  smart  \n",
       "499  smart  "
      ]
     },
     "execution_count": 8,
     "metadata": {},
     "output_type": "execute_result"
    }
   ],
   "source": [
    "calls.tail()\n",
    "internet.tail()\n",
    "messages.tail()\n",
    "tariffs.tail()\n",
    "users.tail()"
   ]
  },
  {
   "cell_type": "code",
   "execution_count": 9,
   "metadata": {},
   "outputs": [
    {
     "name": "stdout",
     "output_type": "stream",
     "text": [
      "<class 'pandas.core.frame.DataFrame'>\n",
      "RangeIndex: 202607 entries, 0 to 202606\n",
      "Data columns (total 4 columns):\n",
      " #   Column     Non-Null Count   Dtype  \n",
      "---  ------     --------------   -----  \n",
      " 0   id         202607 non-null  object \n",
      " 1   call_date  202607 non-null  object \n",
      " 2   duration   202607 non-null  float64\n",
      " 3   user_id    202607 non-null  int64  \n",
      "dtypes: float64(1), int64(1), object(2)\n",
      "memory usage: 6.2+ MB\n",
      "<class 'pandas.core.frame.DataFrame'>\n",
      "RangeIndex: 149396 entries, 0 to 149395\n",
      "Data columns (total 5 columns):\n",
      " #   Column        Non-Null Count   Dtype  \n",
      "---  ------        --------------   -----  \n",
      " 0   Unnamed: 0    149396 non-null  int64  \n",
      " 1   id            149396 non-null  object \n",
      " 2   mb_used       149396 non-null  float64\n",
      " 3   session_date  149396 non-null  object \n",
      " 4   user_id       149396 non-null  int64  \n",
      "dtypes: float64(1), int64(2), object(2)\n",
      "memory usage: 5.7+ MB\n",
      "<class 'pandas.core.frame.DataFrame'>\n",
      "RangeIndex: 123036 entries, 0 to 123035\n",
      "Data columns (total 3 columns):\n",
      " #   Column        Non-Null Count   Dtype \n",
      "---  ------        --------------   ----- \n",
      " 0   id            123036 non-null  object\n",
      " 1   message_date  123036 non-null  object\n",
      " 2   user_id       123036 non-null  int64 \n",
      "dtypes: int64(1), object(2)\n",
      "memory usage: 2.8+ MB\n",
      "<class 'pandas.core.frame.DataFrame'>\n",
      "RangeIndex: 2 entries, 0 to 1\n",
      "Data columns (total 8 columns):\n",
      " #   Column                 Non-Null Count  Dtype \n",
      "---  ------                 --------------  ----- \n",
      " 0   messages_included      2 non-null      int64 \n",
      " 1   mb_per_month_included  2 non-null      int64 \n",
      " 2   minutes_included       2 non-null      int64 \n",
      " 3   rub_monthly_fee        2 non-null      int64 \n",
      " 4   rub_per_gb             2 non-null      int64 \n",
      " 5   rub_per_message        2 non-null      int64 \n",
      " 6   rub_per_minute         2 non-null      int64 \n",
      " 7   tariff_name            2 non-null      object\n",
      "dtypes: int64(7), object(1)\n",
      "memory usage: 256.0+ bytes\n",
      "<class 'pandas.core.frame.DataFrame'>\n",
      "RangeIndex: 500 entries, 0 to 499\n",
      "Data columns (total 8 columns):\n",
      " #   Column      Non-Null Count  Dtype \n",
      "---  ------      --------------  ----- \n",
      " 0   user_id     500 non-null    int64 \n",
      " 1   age         500 non-null    int64 \n",
      " 2   churn_date  38 non-null     object\n",
      " 3   city        500 non-null    object\n",
      " 4   first_name  500 non-null    object\n",
      " 5   last_name   500 non-null    object\n",
      " 6   reg_date    500 non-null    object\n",
      " 7   tariff      500 non-null    object\n",
      "dtypes: int64(2), object(6)\n",
      "memory usage: 31.4+ KB\n"
     ]
    }
   ],
   "source": [
    "calls.info()\n",
    "internet.info()\n",
    "messages.info()\n",
    "tariffs.info()\n",
    "users.info()"
   ]
  },
  {
   "cell_type": "markdown",
   "metadata": {},
   "source": [
    "<div class=\"alert-success\">\n",
    "<b>Комментарий ревьюера ✔️</b>\n",
    "\n",
    "Данные загружены верно, получена первая общая информация о датасете. 🚀\n",
    "</div>"
   ]
  },
  {
   "cell_type": "markdown",
   "metadata": {},
   "source": [
    "### Вывод"
   ]
  },
  {
   "cell_type": "markdown",
   "metadata": {},
   "source": [
    "В целом информации достаточно, чтобы сделать по ней выводы. Но необходимо превести к хорошему виду."
   ]
  },
  {
   "cell_type": "markdown",
   "metadata": {},
   "source": [
    "## Подготовка данных"
   ]
  },
  {
   "cell_type": "markdown",
   "metadata": {},
   "source": [
    "### Приведите данные к нужным типам"
   ]
  },
  {
   "cell_type": "code",
   "execution_count": 10,
   "metadata": {},
   "outputs": [],
   "source": [
    "calls\n",
    "calls['call_date'] = pd.to_datetime(calls['call_date'], format='%Y-%m-%d') #переводим к нужному датафрейму.\n",
    "calls['duration'] = np.ceil(calls['duration']) #окгруляем в большую сторону\n",
    "calls['month'] = pd.DatetimeIndex(calls['call_date']).month #добавляем столбец месяца"
   ]
  },
  {
   "cell_type": "code",
   "execution_count": 11,
   "metadata": {},
   "outputs": [],
   "source": [
    "internet\n",
    "internet['session_date'] = pd.to_datetime(internet['session_date'], format='%Y-%m-%d')\n",
    "internet['month'] = pd.DatetimeIndex(internet['session_date']).month #добавляем столбец месяца"
   ]
  },
  {
   "cell_type": "code",
   "execution_count": 12,
   "metadata": {},
   "outputs": [],
   "source": [
    "messages\n",
    "messages['message_date'] = pd.to_datetime(messages['message_date'], format='%Y-%m-%d') #переводим к нужному датафрейму.\n",
    "messages['month'] = pd.DatetimeIndex(messages['message_date']).month"
   ]
  },
  {
   "cell_type": "code",
   "execution_count": 13,
   "metadata": {},
   "outputs": [],
   "source": [
    "users\n",
    "users['reg_date'] = pd.to_datetime(users['reg_date'], format='%Y-%m-%d')\n",
    "users['churn_date'] = pd.to_datetime(users['churn_date'], format='%Y-%m-%d')\n",
    "#добавим информацию о тарифах в users в виде 0 и 1\n",
    "def tariff_id(object):\n",
    "    if object == 'smart':\n",
    "        return 0\n",
    "    elif object == 'ultra':\n",
    "        return 1\n",
    "users['tariff_id'] = users['tariff'].apply(tariff_id)"
   ]
  },
  {
   "cell_type": "code",
   "execution_count": 14,
   "metadata": {},
   "outputs": [],
   "source": [
    "tariffs\n",
    "tariffs.rename(columns={'tariff_name': 'tariff'}, inplace=True)"
   ]
  },
  {
   "cell_type": "markdown",
   "metadata": {},
   "source": [
    "### Посчитайте для каждого пользователя:"
   ]
  },
  {
   "cell_type": "code",
   "execution_count": 15,
   "metadata": {},
   "outputs": [],
   "source": [
    "#количество сделанных звонков и израсходованных минут разговора по месяцам\n",
    "calls_data = calls.groupby(['user_id', 'month']).agg({'duration':'sum','id':'count'}).reset_index()"
   ]
  },
  {
   "cell_type": "code",
   "execution_count": 16,
   "metadata": {},
   "outputs": [],
   "source": [
    "#количество отправленных сообщений по месяцам\n",
    "internet_data = internet.groupby(['user_id', 'month']).agg({'mb_used':'sum'}).reset_index()\n",
    "internet_data['mb_used'] = internet_data['mb_used'] / 1024\n",
    "internet_data['mb_used'] = np.ceil(internet_data['mb_used'])\n",
    "internet_data['mb_used'] = internet_data['mb_used'].astype('int')"
   ]
  },
  {
   "cell_type": "code",
   "execution_count": 17,
   "metadata": {},
   "outputs": [],
   "source": [
    "messages_data = messages.groupby(['user_id', 'month']).agg({'id':'count'}).reset_index()"
   ]
  },
  {
   "cell_type": "code",
   "execution_count": 18,
   "metadata": {},
   "outputs": [],
   "source": [
    "# объединяем таблицы\n",
    "data_on = calls_data.merge(internet_data, on=['user_id', 'month'], how='outer')\n",
    "data = data_on.merge(messages_data, on=['user_id', 'month'], how='outer')\n",
    "data = data.merge(users, on=['user_id'], how='outer')\n",
    "data = data.merge(tariffs, on=['tariff'],how='outer')"
   ]
  },
  {
   "cell_type": "code",
   "execution_count": 19,
   "metadata": {},
   "outputs": [],
   "source": [
    "data.rename(columns={'id_x': 'calls', 'id_y': 'sms', 'mb_used': 'gb_used'}, inplace=True)"
   ]
  },
  {
   "cell_type": "code",
   "execution_count": 20,
   "metadata": {},
   "outputs": [
    {
     "data": {
      "text/plain": [
       "user_id                     0\n",
       "month                       2\n",
       "duration                   42\n",
       "calls                      42\n",
       "gb_used                    13\n",
       "sms                       499\n",
       "age                         0\n",
       "churn_date               3027\n",
       "city                        0\n",
       "first_name                  0\n",
       "last_name                   0\n",
       "reg_date                    0\n",
       "tariff                      0\n",
       "tariff_id                   0\n",
       "messages_included           0\n",
       "mb_per_month_included       0\n",
       "minutes_included            0\n",
       "rub_monthly_fee             0\n",
       "rub_per_gb                  0\n",
       "rub_per_message             0\n",
       "rub_per_minute              0\n",
       "dtype: int64"
      ]
     },
     "execution_count": 20,
     "metadata": {},
     "output_type": "execute_result"
    }
   ],
   "source": [
    "data.isnull().sum() #появились пропуски"
   ]
  },
  {
   "cell_type": "code",
   "execution_count": 21,
   "metadata": {},
   "outputs": [],
   "source": [
    "data = data.fillna(0) "
   ]
  },
  {
   "cell_type": "code",
   "execution_count": 22,
   "metadata": {},
   "outputs": [
    {
     "data": {
      "text/plain": [
       "user_id                  0\n",
       "month                    0\n",
       "duration                 0\n",
       "calls                    0\n",
       "gb_used                  0\n",
       "sms                      0\n",
       "age                      0\n",
       "churn_date               0\n",
       "city                     0\n",
       "first_name               0\n",
       "last_name                0\n",
       "reg_date                 0\n",
       "tariff                   0\n",
       "tariff_id                0\n",
       "messages_included        0\n",
       "mb_per_month_included    0\n",
       "minutes_included         0\n",
       "rub_monthly_fee          0\n",
       "rub_per_gb               0\n",
       "rub_per_message          0\n",
       "rub_per_minute           0\n",
       "dtype: int64"
      ]
     },
     "execution_count": 22,
     "metadata": {},
     "output_type": "execute_result"
    }
   ],
   "source": [
    "data.isnull().sum()"
   ]
  },
  {
   "cell_type": "markdown",
   "metadata": {},
   "source": [
    "помесячную выручку с каждого пользователя (вычтите бесплатный лимит из суммарного количества звонков, сообщений и интернет-трафика; остаток умножьте на значение из тарифного плана; прибавьте абонентскую плату, соответствующую тарифному плану)."
   ]
  },
  {
   "cell_type": "code",
   "execution_count": 23,
   "metadata": {},
   "outputs": [],
   "source": [
    "def function_minute(row):\n",
    "    rev = row['rub_monthly_fee']\n",
    "    if row['duration'] >= row['minutes_included']:\n",
    "        rev += ((row['duration']-row['minutes_included'])*row['rub_per_minute'])\n",
    "    if row['sms'] >= row['messages_included']:\n",
    "        rev += ((row['sms'] - row['messages_included'])*row['rub_per_message'])\n",
    "    if row['gb_used'] >= row['mb_per_month_included']/ 1024  :\n",
    "        rev += ((row['gb_used'] - row['mb_per_month_included']/ 1024 )*row['rub_per_gb'])\n",
    "    return rev\n",
    "data['profit'] = data.apply(function_minute, axis = 1)"
   ]
  },
  {
   "cell_type": "code",
   "execution_count": 24,
   "metadata": {},
   "outputs": [
    {
     "data": {
      "text/html": [
       "<div>\n",
       "<style scoped>\n",
       "    .dataframe tbody tr th:only-of-type {\n",
       "        vertical-align: middle;\n",
       "    }\n",
       "\n",
       "    .dataframe tbody tr th {\n",
       "        vertical-align: top;\n",
       "    }\n",
       "\n",
       "    .dataframe thead th {\n",
       "        text-align: right;\n",
       "    }\n",
       "</style>\n",
       "<table border=\"1\" class=\"dataframe\">\n",
       "  <thead>\n",
       "    <tr style=\"text-align: right;\">\n",
       "      <th></th>\n",
       "      <th>user_id</th>\n",
       "      <th>month</th>\n",
       "      <th>duration</th>\n",
       "      <th>calls</th>\n",
       "      <th>gb_used</th>\n",
       "      <th>sms</th>\n",
       "      <th>age</th>\n",
       "      <th>churn_date</th>\n",
       "      <th>city</th>\n",
       "      <th>first_name</th>\n",
       "      <th>...</th>\n",
       "      <th>tariff</th>\n",
       "      <th>tariff_id</th>\n",
       "      <th>messages_included</th>\n",
       "      <th>mb_per_month_included</th>\n",
       "      <th>minutes_included</th>\n",
       "      <th>rub_monthly_fee</th>\n",
       "      <th>rub_per_gb</th>\n",
       "      <th>rub_per_message</th>\n",
       "      <th>rub_per_minute</th>\n",
       "      <th>profit</th>\n",
       "    </tr>\n",
       "  </thead>\n",
       "  <tbody>\n",
       "    <tr>\n",
       "      <th>3206</th>\n",
       "      <td>1499</td>\n",
       "      <td>9.0</td>\n",
       "      <td>70.0</td>\n",
       "      <td>9.0</td>\n",
       "      <td>2.0</td>\n",
       "      <td>11.0</td>\n",
       "      <td>35</td>\n",
       "      <td>0</td>\n",
       "      <td>Пермь</td>\n",
       "      <td>Гектор</td>\n",
       "      <td>...</td>\n",
       "      <td>smart</td>\n",
       "      <td>0</td>\n",
       "      <td>50</td>\n",
       "      <td>15360</td>\n",
       "      <td>500</td>\n",
       "      <td>550</td>\n",
       "      <td>200</td>\n",
       "      <td>3</td>\n",
       "      <td>3</td>\n",
       "      <td>550.0</td>\n",
       "    </tr>\n",
       "    <tr>\n",
       "      <th>3207</th>\n",
       "      <td>1499</td>\n",
       "      <td>10.0</td>\n",
       "      <td>449.0</td>\n",
       "      <td>68.0</td>\n",
       "      <td>18.0</td>\n",
       "      <td>48.0</td>\n",
       "      <td>35</td>\n",
       "      <td>0</td>\n",
       "      <td>Пермь</td>\n",
       "      <td>Гектор</td>\n",
       "      <td>...</td>\n",
       "      <td>smart</td>\n",
       "      <td>0</td>\n",
       "      <td>50</td>\n",
       "      <td>15360</td>\n",
       "      <td>500</td>\n",
       "      <td>550</td>\n",
       "      <td>200</td>\n",
       "      <td>3</td>\n",
       "      <td>3</td>\n",
       "      <td>1150.0</td>\n",
       "    </tr>\n",
       "    <tr>\n",
       "      <th>3208</th>\n",
       "      <td>1499</td>\n",
       "      <td>11.0</td>\n",
       "      <td>612.0</td>\n",
       "      <td>74.0</td>\n",
       "      <td>18.0</td>\n",
       "      <td>59.0</td>\n",
       "      <td>35</td>\n",
       "      <td>0</td>\n",
       "      <td>Пермь</td>\n",
       "      <td>Гектор</td>\n",
       "      <td>...</td>\n",
       "      <td>smart</td>\n",
       "      <td>0</td>\n",
       "      <td>50</td>\n",
       "      <td>15360</td>\n",
       "      <td>500</td>\n",
       "      <td>550</td>\n",
       "      <td>200</td>\n",
       "      <td>3</td>\n",
       "      <td>3</td>\n",
       "      <td>1513.0</td>\n",
       "    </tr>\n",
       "    <tr>\n",
       "      <th>3209</th>\n",
       "      <td>1499</td>\n",
       "      <td>12.0</td>\n",
       "      <td>492.0</td>\n",
       "      <td>69.0</td>\n",
       "      <td>13.0</td>\n",
       "      <td>66.0</td>\n",
       "      <td>35</td>\n",
       "      <td>0</td>\n",
       "      <td>Пермь</td>\n",
       "      <td>Гектор</td>\n",
       "      <td>...</td>\n",
       "      <td>smart</td>\n",
       "      <td>0</td>\n",
       "      <td>50</td>\n",
       "      <td>15360</td>\n",
       "      <td>500</td>\n",
       "      <td>550</td>\n",
       "      <td>200</td>\n",
       "      <td>3</td>\n",
       "      <td>3</td>\n",
       "      <td>598.0</td>\n",
       "    </tr>\n",
       "    <tr>\n",
       "      <th>3210</th>\n",
       "      <td>1489</td>\n",
       "      <td>8.0</td>\n",
       "      <td>0.0</td>\n",
       "      <td>0.0</td>\n",
       "      <td>11.0</td>\n",
       "      <td>17.0</td>\n",
       "      <td>35</td>\n",
       "      <td>0</td>\n",
       "      <td>Санкт-Петербург</td>\n",
       "      <td>Павел</td>\n",
       "      <td>...</td>\n",
       "      <td>smart</td>\n",
       "      <td>0</td>\n",
       "      <td>50</td>\n",
       "      <td>15360</td>\n",
       "      <td>500</td>\n",
       "      <td>550</td>\n",
       "      <td>200</td>\n",
       "      <td>3</td>\n",
       "      <td>3</td>\n",
       "      <td>550.0</td>\n",
       "    </tr>\n",
       "    <tr>\n",
       "      <th>3211</th>\n",
       "      <td>1489</td>\n",
       "      <td>9.0</td>\n",
       "      <td>0.0</td>\n",
       "      <td>0.0</td>\n",
       "      <td>17.0</td>\n",
       "      <td>32.0</td>\n",
       "      <td>35</td>\n",
       "      <td>0</td>\n",
       "      <td>Санкт-Петербург</td>\n",
       "      <td>Павел</td>\n",
       "      <td>...</td>\n",
       "      <td>smart</td>\n",
       "      <td>0</td>\n",
       "      <td>50</td>\n",
       "      <td>15360</td>\n",
       "      <td>500</td>\n",
       "      <td>550</td>\n",
       "      <td>200</td>\n",
       "      <td>3</td>\n",
       "      <td>3</td>\n",
       "      <td>950.0</td>\n",
       "    </tr>\n",
       "    <tr>\n",
       "      <th>3212</th>\n",
       "      <td>1489</td>\n",
       "      <td>10.0</td>\n",
       "      <td>0.0</td>\n",
       "      <td>0.0</td>\n",
       "      <td>20.0</td>\n",
       "      <td>21.0</td>\n",
       "      <td>35</td>\n",
       "      <td>0</td>\n",
       "      <td>Санкт-Петербург</td>\n",
       "      <td>Павел</td>\n",
       "      <td>...</td>\n",
       "      <td>smart</td>\n",
       "      <td>0</td>\n",
       "      <td>50</td>\n",
       "      <td>15360</td>\n",
       "      <td>500</td>\n",
       "      <td>550</td>\n",
       "      <td>200</td>\n",
       "      <td>3</td>\n",
       "      <td>3</td>\n",
       "      <td>1550.0</td>\n",
       "    </tr>\n",
       "    <tr>\n",
       "      <th>3213</th>\n",
       "      <td>1489</td>\n",
       "      <td>11.0</td>\n",
       "      <td>0.0</td>\n",
       "      <td>0.0</td>\n",
       "      <td>18.0</td>\n",
       "      <td>20.0</td>\n",
       "      <td>35</td>\n",
       "      <td>0</td>\n",
       "      <td>Санкт-Петербург</td>\n",
       "      <td>Павел</td>\n",
       "      <td>...</td>\n",
       "      <td>smart</td>\n",
       "      <td>0</td>\n",
       "      <td>50</td>\n",
       "      <td>15360</td>\n",
       "      <td>500</td>\n",
       "      <td>550</td>\n",
       "      <td>200</td>\n",
       "      <td>3</td>\n",
       "      <td>3</td>\n",
       "      <td>1150.0</td>\n",
       "    </tr>\n",
       "    <tr>\n",
       "      <th>3214</th>\n",
       "      <td>1489</td>\n",
       "      <td>12.0</td>\n",
       "      <td>0.0</td>\n",
       "      <td>0.0</td>\n",
       "      <td>17.0</td>\n",
       "      <td>35.0</td>\n",
       "      <td>35</td>\n",
       "      <td>0</td>\n",
       "      <td>Санкт-Петербург</td>\n",
       "      <td>Павел</td>\n",
       "      <td>...</td>\n",
       "      <td>smart</td>\n",
       "      <td>0</td>\n",
       "      <td>50</td>\n",
       "      <td>15360</td>\n",
       "      <td>500</td>\n",
       "      <td>550</td>\n",
       "      <td>200</td>\n",
       "      <td>3</td>\n",
       "      <td>3</td>\n",
       "      <td>950.0</td>\n",
       "    </tr>\n",
       "    <tr>\n",
       "      <th>3215</th>\n",
       "      <td>1371</td>\n",
       "      <td>0.0</td>\n",
       "      <td>0.0</td>\n",
       "      <td>0.0</td>\n",
       "      <td>0.0</td>\n",
       "      <td>0.0</td>\n",
       "      <td>50</td>\n",
       "      <td>2018-12-30 00:00:00</td>\n",
       "      <td>Омск</td>\n",
       "      <td>Ириней</td>\n",
       "      <td>...</td>\n",
       "      <td>smart</td>\n",
       "      <td>0</td>\n",
       "      <td>50</td>\n",
       "      <td>15360</td>\n",
       "      <td>500</td>\n",
       "      <td>550</td>\n",
       "      <td>200</td>\n",
       "      <td>3</td>\n",
       "      <td>3</td>\n",
       "      <td>550.0</td>\n",
       "    </tr>\n",
       "  </tbody>\n",
       "</table>\n",
       "<p>10 rows × 22 columns</p>\n",
       "</div>"
      ],
      "text/plain": [
       "      user_id  month  duration  calls  gb_used   sms  age  \\\n",
       "3206     1499    9.0      70.0    9.0      2.0  11.0   35   \n",
       "3207     1499   10.0     449.0   68.0     18.0  48.0   35   \n",
       "3208     1499   11.0     612.0   74.0     18.0  59.0   35   \n",
       "3209     1499   12.0     492.0   69.0     13.0  66.0   35   \n",
       "3210     1489    8.0       0.0    0.0     11.0  17.0   35   \n",
       "3211     1489    9.0       0.0    0.0     17.0  32.0   35   \n",
       "3212     1489   10.0       0.0    0.0     20.0  21.0   35   \n",
       "3213     1489   11.0       0.0    0.0     18.0  20.0   35   \n",
       "3214     1489   12.0       0.0    0.0     17.0  35.0   35   \n",
       "3215     1371    0.0       0.0    0.0      0.0   0.0   50   \n",
       "\n",
       "               churn_date             city first_name  ... tariff tariff_id  \\\n",
       "3206                    0            Пермь     Гектор  ...  smart         0   \n",
       "3207                    0            Пермь     Гектор  ...  smart         0   \n",
       "3208                    0            Пермь     Гектор  ...  smart         0   \n",
       "3209                    0            Пермь     Гектор  ...  smart         0   \n",
       "3210                    0  Санкт-Петербург      Павел  ...  smart         0   \n",
       "3211                    0  Санкт-Петербург      Павел  ...  smart         0   \n",
       "3212                    0  Санкт-Петербург      Павел  ...  smart         0   \n",
       "3213                    0  Санкт-Петербург      Павел  ...  smart         0   \n",
       "3214                    0  Санкт-Петербург      Павел  ...  smart         0   \n",
       "3215  2018-12-30 00:00:00             Омск     Ириней  ...  smart         0   \n",
       "\n",
       "     messages_included  mb_per_month_included  minutes_included  \\\n",
       "3206                50                  15360               500   \n",
       "3207                50                  15360               500   \n",
       "3208                50                  15360               500   \n",
       "3209                50                  15360               500   \n",
       "3210                50                  15360               500   \n",
       "3211                50                  15360               500   \n",
       "3212                50                  15360               500   \n",
       "3213                50                  15360               500   \n",
       "3214                50                  15360               500   \n",
       "3215                50                  15360               500   \n",
       "\n",
       "      rub_monthly_fee  rub_per_gb  rub_per_message  rub_per_minute  profit  \n",
       "3206              550         200                3               3   550.0  \n",
       "3207              550         200                3               3  1150.0  \n",
       "3208              550         200                3               3  1513.0  \n",
       "3209              550         200                3               3   598.0  \n",
       "3210              550         200                3               3   550.0  \n",
       "3211              550         200                3               3   950.0  \n",
       "3212              550         200                3               3  1550.0  \n",
       "3213              550         200                3               3  1150.0  \n",
       "3214              550         200                3               3   950.0  \n",
       "3215              550         200                3               3   550.0  \n",
       "\n",
       "[10 rows x 22 columns]"
      ]
     },
     "execution_count": 24,
     "metadata": {},
     "output_type": "execute_result"
    }
   ],
   "source": [
    "data.tail(10)"
   ]
  },
  {
   "cell_type": "markdown",
   "metadata": {},
   "source": [
    "Вывод: \n",
    "Заполнили пропуски и обработали данные. Интересно, что есть пользователи которые не пользовались услугами..."
   ]
  },
  {
   "cell_type": "markdown",
   "metadata": {},
   "source": [
    "## Проанализируйте данные\n"
   ]
  },
  {
   "cell_type": "code",
   "execution_count": 25,
   "metadata": {},
   "outputs": [],
   "source": [
    "#создадим две таблицы по тарифам\n",
    "smart = data[data['tariff_id'] == 0]\n",
    "ultra = data[data['tariff_id'] == 1]"
   ]
  },
  {
   "cell_type": "code",
   "execution_count": 26,
   "metadata": {},
   "outputs": [
    {
     "data": {
      "text/html": [
       "<div>\n",
       "<style scoped>\n",
       "    .dataframe tbody tr th:only-of-type {\n",
       "        vertical-align: middle;\n",
       "    }\n",
       "\n",
       "    .dataframe tbody tr th {\n",
       "        vertical-align: top;\n",
       "    }\n",
       "\n",
       "    .dataframe thead th {\n",
       "        text-align: right;\n",
       "    }\n",
       "</style>\n",
       "<table border=\"1\" class=\"dataframe\">\n",
       "  <thead>\n",
       "    <tr style=\"text-align: right;\">\n",
       "      <th></th>\n",
       "      <th>duration</th>\n",
       "      <th>sms</th>\n",
       "      <th>gb_used</th>\n",
       "      <th>profit</th>\n",
       "    </tr>\n",
       "  </thead>\n",
       "  <tbody>\n",
       "    <tr>\n",
       "      <th>count</th>\n",
       "      <td>2230.000000</td>\n",
       "      <td>2230.000000</td>\n",
       "      <td>2230.000000</td>\n",
       "      <td>2230.000000</td>\n",
       "    </tr>\n",
       "    <tr>\n",
       "      <th>mean</th>\n",
       "      <td>417.747534</td>\n",
       "      <td>33.369058</td>\n",
       "      <td>16.321525</td>\n",
       "      <td>1289.641704</td>\n",
       "    </tr>\n",
       "    <tr>\n",
       "      <th>std</th>\n",
       "      <td>190.476754</td>\n",
       "      <td>28.230396</td>\n",
       "      <td>5.756167</td>\n",
       "      <td>818.370799</td>\n",
       "    </tr>\n",
       "    <tr>\n",
       "      <th>min</th>\n",
       "      <td>0.000000</td>\n",
       "      <td>0.000000</td>\n",
       "      <td>0.000000</td>\n",
       "      <td>550.000000</td>\n",
       "    </tr>\n",
       "    <tr>\n",
       "      <th>25%</th>\n",
       "      <td>282.000000</td>\n",
       "      <td>10.000000</td>\n",
       "      <td>13.000000</td>\n",
       "      <td>550.000000</td>\n",
       "    </tr>\n",
       "    <tr>\n",
       "      <th>50%</th>\n",
       "      <td>421.500000</td>\n",
       "      <td>28.000000</td>\n",
       "      <td>17.000000</td>\n",
       "      <td>1021.000000</td>\n",
       "    </tr>\n",
       "    <tr>\n",
       "      <th>75%</th>\n",
       "      <td>545.000000</td>\n",
       "      <td>51.000000</td>\n",
       "      <td>20.000000</td>\n",
       "      <td>1750.000000</td>\n",
       "    </tr>\n",
       "    <tr>\n",
       "      <th>max</th>\n",
       "      <td>1435.000000</td>\n",
       "      <td>143.000000</td>\n",
       "      <td>38.000000</td>\n",
       "      <td>6770.000000</td>\n",
       "    </tr>\n",
       "  </tbody>\n",
       "</table>\n",
       "</div>"
      ],
      "text/plain": [
       "          duration          sms      gb_used       profit\n",
       "count  2230.000000  2230.000000  2230.000000  2230.000000\n",
       "mean    417.747534    33.369058    16.321525  1289.641704\n",
       "std     190.476754    28.230396     5.756167   818.370799\n",
       "min       0.000000     0.000000     0.000000   550.000000\n",
       "25%     282.000000    10.000000    13.000000   550.000000\n",
       "50%     421.500000    28.000000    17.000000  1021.000000\n",
       "75%     545.000000    51.000000    20.000000  1750.000000\n",
       "max    1435.000000   143.000000    38.000000  6770.000000"
      ]
     },
     "execution_count": 26,
     "metadata": {},
     "output_type": "execute_result"
    }
   ],
   "source": [
    "smart[['duration', 'sms', 'gb_used', 'profit', ]].describe()"
   ]
  },
  {
   "cell_type": "code",
   "execution_count": 27,
   "metadata": {},
   "outputs": [
    {
     "data": {
      "text/html": [
       "<div>\n",
       "<style scoped>\n",
       "    .dataframe tbody tr th:only-of-type {\n",
       "        vertical-align: middle;\n",
       "    }\n",
       "\n",
       "    .dataframe tbody tr th {\n",
       "        vertical-align: top;\n",
       "    }\n",
       "\n",
       "    .dataframe thead th {\n",
       "        text-align: right;\n",
       "    }\n",
       "</style>\n",
       "<table border=\"1\" class=\"dataframe\">\n",
       "  <thead>\n",
       "    <tr style=\"text-align: right;\">\n",
       "      <th></th>\n",
       "      <th>duration</th>\n",
       "      <th>sms</th>\n",
       "      <th>gb_used</th>\n",
       "      <th>profit</th>\n",
       "    </tr>\n",
       "  </thead>\n",
       "  <tbody>\n",
       "    <tr>\n",
       "      <th>count</th>\n",
       "      <td>986.000000</td>\n",
       "      <td>986.000000</td>\n",
       "      <td>986.000000</td>\n",
       "      <td>986.000000</td>\n",
       "    </tr>\n",
       "    <tr>\n",
       "      <th>mean</th>\n",
       "      <td>526.089249</td>\n",
       "      <td>49.313387</td>\n",
       "      <td>19.474645</td>\n",
       "      <td>2070.030426</td>\n",
       "    </tr>\n",
       "    <tr>\n",
       "      <th>std</th>\n",
       "      <td>317.887549</td>\n",
       "      <td>47.806040</td>\n",
       "      <td>9.868057</td>\n",
       "      <td>376.015578</td>\n",
       "    </tr>\n",
       "    <tr>\n",
       "      <th>min</th>\n",
       "      <td>0.000000</td>\n",
       "      <td>0.000000</td>\n",
       "      <td>0.000000</td>\n",
       "      <td>1950.000000</td>\n",
       "    </tr>\n",
       "    <tr>\n",
       "      <th>25%</th>\n",
       "      <td>282.500000</td>\n",
       "      <td>6.000000</td>\n",
       "      <td>12.000000</td>\n",
       "      <td>1950.000000</td>\n",
       "    </tr>\n",
       "    <tr>\n",
       "      <th>50%</th>\n",
       "      <td>518.000000</td>\n",
       "      <td>38.000000</td>\n",
       "      <td>19.000000</td>\n",
       "      <td>1950.000000</td>\n",
       "    </tr>\n",
       "    <tr>\n",
       "      <th>75%</th>\n",
       "      <td>751.750000</td>\n",
       "      <td>78.750000</td>\n",
       "      <td>27.000000</td>\n",
       "      <td>1950.000000</td>\n",
       "    </tr>\n",
       "    <tr>\n",
       "      <th>max</th>\n",
       "      <td>1673.000000</td>\n",
       "      <td>224.000000</td>\n",
       "      <td>49.000000</td>\n",
       "      <td>4800.000000</td>\n",
       "    </tr>\n",
       "  </tbody>\n",
       "</table>\n",
       "</div>"
      ],
      "text/plain": [
       "          duration         sms     gb_used       profit\n",
       "count   986.000000  986.000000  986.000000   986.000000\n",
       "mean    526.089249   49.313387   19.474645  2070.030426\n",
       "std     317.887549   47.806040    9.868057   376.015578\n",
       "min       0.000000    0.000000    0.000000  1950.000000\n",
       "25%     282.500000    6.000000   12.000000  1950.000000\n",
       "50%     518.000000   38.000000   19.000000  1950.000000\n",
       "75%     751.750000   78.750000   27.000000  1950.000000\n",
       "max    1673.000000  224.000000   49.000000  4800.000000"
      ]
     },
     "execution_count": 27,
     "metadata": {},
     "output_type": "execute_result"
    }
   ],
   "source": [
    "ultra[['duration', 'sms', 'gb_used', 'profit', ]].describe()"
   ]
  },
  {
   "cell_type": "code",
   "execution_count": 28,
   "metadata": {},
   "outputs": [
    {
     "name": "stdout",
     "output_type": "stream",
     "text": [
      "smart, средние показатели за месяц:\n",
      "\n",
      "Минуты: 417.747533632287\n",
      "SMS: 33.36905829596412\n",
      "Gb: 16.32152466367713\n"
     ]
    }
   ],
   "source": [
    "print('smart, средние показатели за месяц:')\n",
    "print('')\n",
    "print('Минуты:', smart['duration'].describe()['mean'])\n",
    "print('SMS:', smart['sms'].describe()['mean'])\n",
    "print('Gb:', smart['gb_used'].describe()['mean'])"
   ]
  },
  {
   "cell_type": "code",
   "execution_count": 29,
   "metadata": {},
   "outputs": [
    {
     "name": "stdout",
     "output_type": "stream",
     "text": [
      "ultra, средние показатели за месяц:\n",
      "\n",
      "Минуты: 526.0892494929006\n",
      "SMS: 49.31338742393509\n",
      "Gb: 19.474645030425965\n"
     ]
    }
   ],
   "source": [
    "print('ultra, средние показатели за месяц:')\n",
    "print('')\n",
    "print('Минуты:', ultra['duration'].describe()['mean'])\n",
    "print('SMS:', ultra['sms'].describe()['mean'])\n",
    "print('Gb:', ultra['gb_used'].describe()['mean'])"
   ]
  },
  {
   "cell_type": "code",
   "execution_count": 30,
   "metadata": {},
   "outputs": [
    {
     "data": {
      "image/png": "[encoded data removed]",
      "text/plain": [
       "<Figure size 432x288 with 1 Axes>"
      ]
     },
     "metadata": {
      "needs_background": "light"
     },
     "output_type": "display_data"
    }
   ],
   "source": [
    "plt.hist(smart['duration'], bins=1000, alpha = 0.5, label='smart')\n",
    "plt.hist(ultra['duration'], bins=1000, alpha = 0.5, label='ultra')\n",
    "plt.legend(loc='upper left')\n",
    "\n",
    "plt.show()"
   ]
  },
  {
   "cell_type": "code",
   "execution_count": 31,
   "metadata": {},
   "outputs": [
    {
     "data": {
      "image/png": "[encoded data removed]",
      "text/plain": [
       "<Figure size 432x288 with 1 Axes>"
      ]
     },
     "metadata": {
      "needs_background": "light"
     },
     "output_type": "display_data"
    }
   ],
   "source": [
    "plt.hist(smart['sms'], bins=100, alpha = 0.5, label='smart')\n",
    "plt.hist(ultra['sms'], bins=100, alpha = 0.5, label='ultra')\n",
    "plt.legend(loc='upper left')\n",
    "\n",
    "plt.show()"
   ]
  },
  {
   "cell_type": "code",
   "execution_count": 32,
   "metadata": {},
   "outputs": [
    {
     "data": {
      "image/png": "[encoded data removed]",
      "text/plain": [
       "<Figure size 432x288 with 1 Axes>"
      ]
     },
     "metadata": {
      "needs_background": "light"
     },
     "output_type": "display_data"
    }
   ],
   "source": [
    "plt.hist(smart['gb_used'], bins=100, alpha = 0.5, label='smart')\n",
    "plt.hist(ultra['gb_used'], bins=100, alpha = 0.5, label='ultra')\n",
    "plt.legend(loc='upper left')\n",
    "\n",
    "plt.show()"
   ]
  },
  {
   "cell_type": "code",
   "execution_count": 33,
   "metadata": {},
   "outputs": [
    {
     "data": {
      "image/png": "[encoded data removed]",
      "text/plain": [
       "<Figure size 432x288 with 1 Axes>"
      ]
     },
     "metadata": {
      "needs_background": "light"
     },
     "output_type": "display_data"
    }
   ],
   "source": [
    "plt.hist(smart['profit'], bins=100, alpha = 0.5, label='smart')\n",
    "plt.hist(ultra['profit'], bins=100, alpha = 0.5, label='ultra')\n",
    "plt.legend(loc='upper left')\n",
    "\n",
    "plt.show()"
   ]
  },
  {
   "cell_type": "markdown",
   "metadata": {},
   "source": [
    "Вывод:"
   ]
  },
  {
   "cell_type": "markdown",
   "metadata": {},
   "source": [
    "Интересная картина получается, что люди на тарифе смарт часто выходят за рамки своего лимита и часто даже платят больше чем на тарифе ултра."
   ]
  },
  {
   "cell_type": "markdown",
   "metadata": {},
   "source": [
    "## Проверьте гипотезы"
   ]
  },
  {
   "cell_type": "markdown",
   "metadata": {},
   "source": [
    "### Гипотеза (средняя выручка пользователей тарифов «Ультра» и «Смарт» различаются)"
   ]
  },
  {
   "cell_type": "markdown",
   "metadata": {},
   "source": [
    "Нулевой гипотезой будет гипотеза о том, что средние наших выборок равны. Альтернативной гипотезой будет- cредняя выручка пользователей тарифов \"Ультра\" и \"Смарт\" различается."
   ]
  },
  {
   "cell_type": "code",
   "execution_count": 34,
   "metadata": {},
   "outputs": [
    {
     "name": "stdout",
     "output_type": "stream",
     "text": [
      "p-значение: 8.081909555489933e-161\n",
      "Отвергаем нулевую гипотезу\n"
     ]
    }
   ],
   "source": [
    "from scipy import stats as st\n",
    "\n",
    "alpha = .05 #Критический уровень значимости\n",
    "\n",
    "results = st.ttest_ind(smart['profit'], ultra['profit'])\n",
    "\n",
    "print('p-значение:', results.pvalue)\n",
    "\n",
    "if results.pvalue < alpha:\n",
    "    print(\"Отвергаем нулевую гипотезу\")\n",
    "else:\n",
    "    print(\"Не получилось отвергнуть нулевую гипотезу\") "
   ]
  },
  {
   "cell_type": "markdown",
   "metadata": {},
   "source": [
    "Было отвержено, что выборки одиннаковые,а уровень критической значимости очень мал. Следтсвие альтернативная гипотеза не отвергается. "
   ]
  },
  {
   "cell_type": "markdown",
   "metadata": {},
   "source": [
    "### Гипотеза (средняя выручка пользователей из Москвы отличается от выручки пользователей из других регионов.)"
   ]
  },
  {
   "cell_type": "markdown",
   "metadata": {},
   "source": [
    "Нулевой гипотезой будет, что средняя выручка пользователей из Москвы равна другим регионам. Альтернативная - средняя выручка Москвы и регионов отличаются. Для проверки гипотезы создадим две таблицы moscow и other. "
   ]
  },
  {
   "cell_type": "code",
   "execution_count": 35,
   "metadata": {},
   "outputs": [
    {
     "name": "stdout",
     "output_type": "stream",
     "text": [
      "P-value: 0.5400751614511182\n",
      "Не получилось отвергнуть нулевую гипотезу\n"
     ]
    }
   ],
   "source": [
    "moscow = data[data['city'] == 'Москва']\n",
    "other = data[data['city'] != 'Москва']\n",
    "\n",
    "alpha = .05\n",
    "results = st.ttest_ind(moscow['profit'], other['profit'])\n",
    "print('P-value:', results.pvalue)\n",
    "\n",
    "if (results.pvalue < alpha):\n",
    "    print(\"Отвергаем нулевую гипотезу\")\n",
    "else:\n",
    "    print(\"Не получилось отвергнуть нулевую гипотезу\")"
   ]
  },
  {
   "cell_type": "markdown",
   "metadata": {},
   "source": [
    "p-value = 0.54, значит есть большая вероятность того, что отличие средних значений наших выборок случайно и мы не можем отвергнуть нулевую гипотезу, которая говорит нам о равенстве средних значений,альтернативную гипотезу о различии средних мы отвергаем."
   ]
  },
  {
   "cell_type": "markdown",
   "metadata": {},
   "source": [
    "## Общий вывод"
   ]
  },
  {
   "cell_type": "markdown",
   "metadata": {},
   "source": [
    "При анализе обоих тарифов, я пришел к выводу, что примерное потребление трафика, минут и смс равно, но из-за высокой стоимости тарифа ултра в целом он более выгоден для компании, но это поверхностно. Думаю если более детально разбирать, возможно картина измениться т.к. кол-во смс и минут клиента 'ultra' тратят заметно больше."
   ]
  },
  {
   "cell_type": "code",
   "execution_count": null,
   "metadata": {},
   "outputs": [],
   "source": []
  }
 ],
 "metadata": {
  "ExecuteTimeLog": [
   {
    "duration": 343,
    "start_time": "2022-03-03T14:19:46.326Z"
   },
   {
    "duration": 1102,
    "start_time": "2022-03-03T14:19:50.805Z"
   },
   {
    "duration": 402,
    "start_time": "2022-03-03T14:19:51.908Z"
   },
   {
    "duration": 8,
    "start_time": "2022-03-03T14:19:52.312Z"
   },
   {
    "duration": 3,
    "start_time": "2022-03-03T14:20:28.141Z"
   },
   {
    "duration": 1246,
    "start_time": "2022-03-03T14:20:28.146Z"
   },
   {
    "duration": 5,
    "start_time": "2022-03-03T14:20:29.394Z"
   },
   {
    "duration": 3,
    "start_time": "2022-03-03T14:20:50.495Z"
   },
   {
    "duration": 385,
    "start_time": "2022-03-03T14:20:50.500Z"
   },
   {
    "duration": 7,
    "start_time": "2022-03-03T14:20:50.887Z"
   },
   {
    "duration": 7,
    "start_time": "2022-03-03T14:21:04.395Z"
   },
   {
    "duration": 7,
    "start_time": "2022-03-03T14:21:11.272Z"
   },
   {
    "duration": 11,
    "start_time": "2022-03-03T14:21:16.441Z"
   },
   {
    "duration": 9,
    "start_time": "2022-03-03T14:21:29.239Z"
   },
   {
    "duration": 10,
    "start_time": "2022-03-03T14:26:04.125Z"
   },
   {
    "duration": 370,
    "start_time": "2022-03-03T14:28:24.657Z"
   },
   {
    "duration": 3,
    "start_time": "2022-03-03T14:28:28.587Z"
   },
   {
    "duration": 357,
    "start_time": "2022-03-03T14:28:28.592Z"
   },
   {
    "duration": 10,
    "start_time": "2022-03-03T14:28:28.950Z"
   },
   {
    "duration": 10,
    "start_time": "2022-03-03T14:28:28.961Z"
   },
   {
    "duration": 16,
    "start_time": "2022-03-03T14:28:28.972Z"
   },
   {
    "duration": 46,
    "start_time": "2022-03-03T14:29:23.268Z"
   },
   {
    "duration": 8,
    "start_time": "2022-03-03T14:33:51.471Z"
   },
   {
    "duration": 8,
    "start_time": "2022-03-03T14:34:30.097Z"
   },
   {
    "duration": 6,
    "start_time": "2022-03-03T14:34:59.003Z"
   },
   {
    "duration": 7,
    "start_time": "2022-03-03T14:35:28.860Z"
   },
   {
    "duration": 18,
    "start_time": "2022-03-03T14:56:40.566Z"
   },
   {
    "duration": 15,
    "start_time": "2022-03-03T14:56:59.702Z"
   },
   {
    "duration": 12,
    "start_time": "2022-03-03T14:57:12.690Z"
   },
   {
    "duration": 5,
    "start_time": "2022-03-03T14:57:24.254Z"
   },
   {
    "duration": 4,
    "start_time": "2022-03-03T14:57:48.387Z"
   },
   {
    "duration": 3,
    "start_time": "2022-03-03T15:17:23.442Z"
   },
   {
    "duration": 316,
    "start_time": "2022-03-03T15:31:48.440Z"
   },
   {
    "duration": 2,
    "start_time": "2022-03-03T15:31:57.551Z"
   },
   {
    "duration": 353,
    "start_time": "2022-03-03T15:31:57.555Z"
   },
   {
    "duration": 9,
    "start_time": "2022-03-03T15:31:57.910Z"
   },
   {
    "duration": 8,
    "start_time": "2022-03-03T15:31:57.921Z"
   },
   {
    "duration": 6,
    "start_time": "2022-03-03T15:31:57.930Z"
   },
   {
    "duration": 8,
    "start_time": "2022-03-03T15:31:57.938Z"
   },
   {
    "duration": 8,
    "start_time": "2022-03-03T15:31:57.947Z"
   },
   {
    "duration": 10,
    "start_time": "2022-03-03T15:31:57.956Z"
   },
   {
    "duration": 71,
    "start_time": "2022-03-03T15:31:57.968Z"
   },
   {
    "duration": 327,
    "start_time": "2022-03-03T15:31:58.041Z"
   },
   {
    "duration": 27,
    "start_time": "2022-03-03T15:33:21.692Z"
   },
   {
    "duration": 8,
    "start_time": "2022-03-03T15:33:36.866Z"
   },
   {
    "duration": 9,
    "start_time": "2022-03-03T15:34:08.765Z"
   },
   {
    "duration": 28,
    "start_time": "2022-03-03T15:39:13.850Z"
   },
   {
    "duration": 22,
    "start_time": "2022-03-03T15:42:14.225Z"
   },
   {
    "duration": 14,
    "start_time": "2022-03-03T15:48:31.225Z"
   },
   {
    "duration": 7,
    "start_time": "2022-03-03T15:49:00.335Z"
   },
   {
    "duration": 11,
    "start_time": "2022-03-03T15:49:11.197Z"
   },
   {
    "duration": 14,
    "start_time": "2022-03-03T15:52:30.715Z"
   },
   {
    "duration": 9,
    "start_time": "2022-03-03T15:56:52.580Z"
   },
   {
    "duration": 5,
    "start_time": "2022-03-03T15:57:03.190Z"
   },
   {
    "duration": 20,
    "start_time": "2022-03-03T16:07:00.945Z"
   },
   {
    "duration": 28,
    "start_time": "2022-03-03T16:07:03.108Z"
   },
   {
    "duration": 6,
    "start_time": "2022-03-03T16:07:03.484Z"
   },
   {
    "duration": 300,
    "start_time": "2022-03-03T17:00:49.832Z"
   },
   {
    "duration": 1116,
    "start_time": "2022-03-03T17:01:16.599Z"
   },
   {
    "duration": 403,
    "start_time": "2022-03-03T17:01:17.717Z"
   },
   {
    "duration": 12,
    "start_time": "2022-03-03T17:01:18.122Z"
   },
   {
    "duration": 14,
    "start_time": "2022-03-03T17:01:18.135Z"
   },
   {
    "duration": 7,
    "start_time": "2022-03-03T17:01:18.150Z"
   },
   {
    "duration": 11,
    "start_time": "2022-03-03T17:01:18.158Z"
   },
   {
    "duration": 11,
    "start_time": "2022-03-03T17:01:18.170Z"
   },
   {
    "duration": 16,
    "start_time": "2022-03-03T17:01:18.183Z"
   },
   {
    "duration": 48,
    "start_time": "2022-03-03T17:01:18.201Z"
   },
   {
    "duration": 64,
    "start_time": "2022-03-03T17:01:18.251Z"
   },
   {
    "duration": 33,
    "start_time": "2022-03-03T17:01:18.316Z"
   },
   {
    "duration": 28,
    "start_time": "2022-03-03T17:01:18.350Z"
   },
   {
    "duration": 5,
    "start_time": "2022-03-03T17:01:18.380Z"
   },
   {
    "duration": 1061,
    "start_time": "2022-03-03T17:01:37.439Z"
   },
   {
    "duration": 385,
    "start_time": "2022-03-03T17:01:38.502Z"
   },
   {
    "duration": 13,
    "start_time": "2022-03-03T17:01:38.889Z"
   },
   {
    "duration": 7,
    "start_time": "2022-03-03T17:01:38.903Z"
   },
   {
    "duration": 7,
    "start_time": "2022-03-03T17:01:38.912Z"
   },
   {
    "duration": 7,
    "start_time": "2022-03-03T17:01:38.921Z"
   },
   {
    "duration": 7,
    "start_time": "2022-03-03T17:01:38.930Z"
   },
   {
    "duration": 8,
    "start_time": "2022-03-03T17:01:38.940Z"
   },
   {
    "duration": 77,
    "start_time": "2022-03-03T17:01:38.950Z"
   },
   {
    "duration": 48,
    "start_time": "2022-03-03T17:01:39.029Z"
   },
   {
    "duration": 48,
    "start_time": "2022-03-03T17:01:39.078Z"
   },
   {
    "duration": 30,
    "start_time": "2022-03-03T17:01:39.127Z"
   },
   {
    "duration": 6,
    "start_time": "2022-03-03T17:01:39.158Z"
   },
   {
    "duration": 373,
    "start_time": "2022-03-03T17:03:05.490Z"
   },
   {
    "duration": 1112,
    "start_time": "2022-03-03T17:03:07.405Z"
   },
   {
    "duration": 398,
    "start_time": "2022-03-03T17:03:08.519Z"
   },
   {
    "duration": 13,
    "start_time": "2022-03-03T17:03:08.919Z"
   },
   {
    "duration": 7,
    "start_time": "2022-03-03T17:03:08.934Z"
   },
   {
    "duration": 8,
    "start_time": "2022-03-03T17:03:08.943Z"
   },
   {
    "duration": 13,
    "start_time": "2022-03-03T17:03:08.952Z"
   },
   {
    "duration": 7,
    "start_time": "2022-03-03T17:03:08.966Z"
   },
   {
    "duration": 10,
    "start_time": "2022-03-03T17:03:08.974Z"
   },
   {
    "duration": 50,
    "start_time": "2022-03-03T17:03:09.002Z"
   },
   {
    "duration": 59,
    "start_time": "2022-03-03T17:03:09.054Z"
   },
   {
    "duration": 37,
    "start_time": "2022-03-03T17:03:09.114Z"
   },
   {
    "duration": 29,
    "start_time": "2022-03-03T17:03:09.152Z"
   },
   {
    "duration": 19,
    "start_time": "2022-03-03T17:03:09.182Z"
   },
   {
    "duration": 69,
    "start_time": "2022-03-03T17:03:09.203Z"
   },
   {
    "duration": 13,
    "start_time": "2022-03-03T17:03:09.273Z"
   },
   {
    "duration": 3,
    "start_time": "2022-03-03T17:05:10.536Z"
   },
   {
    "duration": 371,
    "start_time": "2022-03-03T17:05:10.541Z"
   },
   {
    "duration": 10,
    "start_time": "2022-03-03T17:05:10.914Z"
   },
   {
    "duration": 9,
    "start_time": "2022-03-03T17:05:10.926Z"
   },
   {
    "duration": 6,
    "start_time": "2022-03-03T17:05:10.937Z"
   },
   {
    "duration": 8,
    "start_time": "2022-03-03T17:05:10.945Z"
   },
   {
    "duration": 8,
    "start_time": "2022-03-03T17:05:10.955Z"
   },
   {
    "duration": 38,
    "start_time": "2022-03-03T17:05:10.965Z"
   },
   {
    "duration": 44,
    "start_time": "2022-03-03T17:05:11.006Z"
   },
   {
    "duration": 58,
    "start_time": "2022-03-03T17:05:11.052Z"
   },
   {
    "duration": 31,
    "start_time": "2022-03-03T17:05:11.112Z"
   },
   {
    "duration": 25,
    "start_time": "2022-03-03T17:05:11.145Z"
   },
   {
    "duration": 5,
    "start_time": "2022-03-03T17:05:11.172Z"
   },
   {
    "duration": 1778,
    "start_time": "2022-03-03T17:05:11.179Z"
   },
   {
    "duration": 339,
    "start_time": "2022-03-03T17:05:52.975Z"
   },
   {
    "duration": 1106,
    "start_time": "2022-03-03T17:06:36.897Z"
   },
   {
    "duration": 388,
    "start_time": "2022-03-03T17:06:38.005Z"
   },
   {
    "duration": 13,
    "start_time": "2022-03-03T17:06:38.395Z"
   },
   {
    "duration": 7,
    "start_time": "2022-03-03T17:06:38.410Z"
   },
   {
    "duration": 8,
    "start_time": "2022-03-03T17:06:38.418Z"
   },
   {
    "duration": 8,
    "start_time": "2022-03-03T17:06:38.428Z"
   },
   {
    "duration": 9,
    "start_time": "2022-03-03T17:06:38.437Z"
   },
   {
    "duration": 11,
    "start_time": "2022-03-03T17:06:38.447Z"
   },
   {
    "duration": 71,
    "start_time": "2022-03-03T17:06:38.460Z"
   },
   {
    "duration": 49,
    "start_time": "2022-03-03T17:06:38.532Z"
   },
   {
    "duration": 43,
    "start_time": "2022-03-03T17:06:38.582Z"
   },
   {
    "duration": 28,
    "start_time": "2022-03-03T17:06:38.627Z"
   },
   {
    "duration": 6,
    "start_time": "2022-03-03T17:06:38.656Z"
   },
   {
    "duration": 1585,
    "start_time": "2022-03-03T17:06:38.663Z"
   },
   {
    "duration": 13,
    "start_time": "2022-03-03T17:06:40.251Z"
   },
   {
    "duration": 2,
    "start_time": "2022-03-03T17:06:40.266Z"
   },
   {
    "duration": 11,
    "start_time": "2022-03-03T17:06:40.269Z"
   },
   {
    "duration": 3,
    "start_time": "2022-03-03T17:07:41.884Z"
   },
   {
    "duration": 367,
    "start_time": "2022-03-03T17:07:41.889Z"
   },
   {
    "duration": 9,
    "start_time": "2022-03-03T17:07:42.258Z"
   },
   {
    "duration": 8,
    "start_time": "2022-03-03T17:07:42.268Z"
   },
   {
    "duration": 6,
    "start_time": "2022-03-03T17:07:42.277Z"
   },
   {
    "duration": 7,
    "start_time": "2022-03-03T17:07:42.285Z"
   },
   {
    "duration": 7,
    "start_time": "2022-03-03T17:07:42.293Z"
   },
   {
    "duration": 10,
    "start_time": "2022-03-03T17:07:42.301Z"
   },
   {
    "duration": 45,
    "start_time": "2022-03-03T17:07:42.314Z"
   },
   {
    "duration": 64,
    "start_time": "2022-03-03T17:07:42.361Z"
   },
   {
    "duration": 32,
    "start_time": "2022-03-03T17:07:42.426Z"
   },
   {
    "duration": 42,
    "start_time": "2022-03-03T17:07:42.459Z"
   },
   {
    "duration": 6,
    "start_time": "2022-03-03T17:07:42.503Z"
   },
   {
    "duration": 2756,
    "start_time": "2022-03-03T17:07:42.511Z"
   },
   {
    "duration": 10,
    "start_time": "2022-03-03T17:07:45.269Z"
   },
   {
    "duration": 109,
    "start_time": "2022-03-03T17:07:45.280Z"
   },
   {
    "duration": -1096,
    "start_time": "2022-03-03T17:07:46.487Z"
   },
   {
    "duration": -1101,
    "start_time": "2022-03-03T17:07:46.493Z"
   },
   {
    "duration": 336,
    "start_time": "2022-03-03T17:12:32.333Z"
   },
   {
    "duration": 1081,
    "start_time": "2022-03-03T17:15:07.211Z"
   },
   {
    "duration": 362,
    "start_time": "2022-03-03T17:15:08.293Z"
   },
   {
    "duration": 12,
    "start_time": "2022-03-03T17:15:08.657Z"
   },
   {
    "duration": 9,
    "start_time": "2022-03-03T17:15:08.671Z"
   },
   {
    "duration": 7,
    "start_time": "2022-03-03T17:15:08.681Z"
   },
   {
    "duration": 8,
    "start_time": "2022-03-03T17:15:08.690Z"
   },
   {
    "duration": 8,
    "start_time": "2022-03-03T17:15:08.699Z"
   },
   {
    "duration": 10,
    "start_time": "2022-03-03T17:15:08.710Z"
   },
   {
    "duration": 45,
    "start_time": "2022-03-03T17:15:08.722Z"
   },
   {
    "duration": 69,
    "start_time": "2022-03-03T17:15:08.769Z"
   },
   {
    "duration": 36,
    "start_time": "2022-03-03T17:15:08.840Z"
   },
   {
    "duration": 41,
    "start_time": "2022-03-03T17:15:08.877Z"
   },
   {
    "duration": 5,
    "start_time": "2022-03-03T17:15:08.920Z"
   },
   {
    "duration": 1481,
    "start_time": "2022-03-03T17:15:08.927Z"
   },
   {
    "duration": 1084,
    "start_time": "2022-03-03T17:19:52.451Z"
   },
   {
    "duration": 372,
    "start_time": "2022-03-03T17:19:53.537Z"
   },
   {
    "duration": 12,
    "start_time": "2022-03-03T17:19:53.911Z"
   },
   {
    "duration": 8,
    "start_time": "2022-03-03T17:19:53.924Z"
   },
   {
    "duration": 6,
    "start_time": "2022-03-03T17:19:53.934Z"
   },
   {
    "duration": 8,
    "start_time": "2022-03-03T17:19:53.941Z"
   },
   {
    "duration": 13,
    "start_time": "2022-03-03T17:19:53.950Z"
   },
   {
    "duration": 13,
    "start_time": "2022-03-03T17:19:53.965Z"
   },
   {
    "duration": 63,
    "start_time": "2022-03-03T17:19:53.980Z"
   },
   {
    "duration": 57,
    "start_time": "2022-03-03T17:19:54.045Z"
   },
   {
    "duration": 31,
    "start_time": "2022-03-03T17:19:54.104Z"
   },
   {
    "duration": 28,
    "start_time": "2022-03-03T17:19:54.137Z"
   },
   {
    "duration": 5,
    "start_time": "2022-03-03T17:19:54.167Z"
   },
   {
    "duration": 1498,
    "start_time": "2022-03-03T17:19:54.174Z"
   },
   {
    "duration": 1295,
    "start_time": "2022-03-03T17:20:13.897Z"
   },
   {
    "duration": 365,
    "start_time": "2022-03-03T17:20:15.194Z"
   },
   {
    "duration": 12,
    "start_time": "2022-03-03T17:20:15.561Z"
   },
   {
    "duration": 8,
    "start_time": "2022-03-03T17:20:15.575Z"
   },
   {
    "duration": 7,
    "start_time": "2022-03-03T17:20:15.585Z"
   },
   {
    "duration": 10,
    "start_time": "2022-03-03T17:20:15.593Z"
   },
   {
    "duration": 12,
    "start_time": "2022-03-03T17:20:15.604Z"
   },
   {
    "duration": 12,
    "start_time": "2022-03-03T17:20:15.617Z"
   },
   {
    "duration": 47,
    "start_time": "2022-03-03T17:20:15.631Z"
   },
   {
    "duration": 69,
    "start_time": "2022-03-03T17:20:15.679Z"
   },
   {
    "duration": 33,
    "start_time": "2022-03-03T17:20:15.750Z"
   },
   {
    "duration": 42,
    "start_time": "2022-03-03T17:20:15.785Z"
   },
   {
    "duration": 5,
    "start_time": "2022-03-03T17:20:15.828Z"
   },
   {
    "duration": 1481,
    "start_time": "2022-03-03T17:20:15.835Z"
   },
   {
    "duration": 1058,
    "start_time": "2022-03-03T17:23:50.040Z"
   },
   {
    "duration": 371,
    "start_time": "2022-03-03T17:23:51.101Z"
   },
   {
    "duration": 14,
    "start_time": "2022-03-03T17:23:51.474Z"
   },
   {
    "duration": 8,
    "start_time": "2022-03-03T17:23:51.489Z"
   },
   {
    "duration": 8,
    "start_time": "2022-03-03T17:23:51.499Z"
   },
   {
    "duration": 8,
    "start_time": "2022-03-03T17:23:51.508Z"
   },
   {
    "duration": 10,
    "start_time": "2022-03-03T17:23:51.517Z"
   },
   {
    "duration": 14,
    "start_time": "2022-03-03T17:23:51.528Z"
   },
   {
    "duration": 68,
    "start_time": "2022-03-03T17:23:51.544Z"
   },
   {
    "duration": 48,
    "start_time": "2022-03-03T17:23:51.614Z"
   },
   {
    "duration": 46,
    "start_time": "2022-03-03T17:23:51.663Z"
   },
   {
    "duration": 29,
    "start_time": "2022-03-03T17:23:51.711Z"
   },
   {
    "duration": 6,
    "start_time": "2022-03-03T17:23:51.742Z"
   },
   {
    "duration": 1481,
    "start_time": "2022-03-03T17:23:51.749Z"
   },
   {
    "duration": 1074,
    "start_time": "2022-03-03T17:27:07.629Z"
   },
   {
    "duration": 373,
    "start_time": "2022-03-03T17:27:08.704Z"
   },
   {
    "duration": 13,
    "start_time": "2022-03-03T17:27:09.078Z"
   },
   {
    "duration": 7,
    "start_time": "2022-03-03T17:27:09.093Z"
   },
   {
    "duration": 6,
    "start_time": "2022-03-03T17:27:09.102Z"
   },
   {
    "duration": 7,
    "start_time": "2022-03-03T17:27:09.110Z"
   },
   {
    "duration": 7,
    "start_time": "2022-03-03T17:27:09.119Z"
   },
   {
    "duration": 9,
    "start_time": "2022-03-03T17:27:09.127Z"
   },
   {
    "duration": 71,
    "start_time": "2022-03-03T17:27:09.139Z"
   },
   {
    "duration": 46,
    "start_time": "2022-03-03T17:27:09.211Z"
   },
   {
    "duration": 44,
    "start_time": "2022-03-03T17:27:09.259Z"
   },
   {
    "duration": 28,
    "start_time": "2022-03-03T17:27:09.305Z"
   },
   {
    "duration": 6,
    "start_time": "2022-03-03T17:27:09.335Z"
   },
   {
    "duration": 1564,
    "start_time": "2022-03-03T17:27:09.342Z"
   },
   {
    "duration": 1056,
    "start_time": "2022-03-03T17:27:32.241Z"
   },
   {
    "duration": 357,
    "start_time": "2022-03-03T17:27:33.298Z"
   },
   {
    "duration": 12,
    "start_time": "2022-03-03T17:27:33.657Z"
   },
   {
    "duration": 8,
    "start_time": "2022-03-03T17:27:33.670Z"
   },
   {
    "duration": 8,
    "start_time": "2022-03-03T17:27:33.679Z"
   },
   {
    "duration": 7,
    "start_time": "2022-03-03T17:27:33.688Z"
   },
   {
    "duration": 8,
    "start_time": "2022-03-03T17:27:33.696Z"
   },
   {
    "duration": 10,
    "start_time": "2022-03-03T17:27:33.706Z"
   },
   {
    "duration": 51,
    "start_time": "2022-03-03T17:27:33.717Z"
   },
   {
    "duration": 51,
    "start_time": "2022-03-03T17:27:33.769Z"
   },
   {
    "duration": 34,
    "start_time": "2022-03-03T17:27:33.822Z"
   },
   {
    "duration": 28,
    "start_time": "2022-03-03T17:27:33.857Z"
   },
   {
    "duration": 17,
    "start_time": "2022-03-03T17:27:33.887Z"
   },
   {
    "duration": 1466,
    "start_time": "2022-03-03T17:27:33.906Z"
   },
   {
    "duration": 345,
    "start_time": "2022-03-03T17:39:08.214Z"
   },
   {
    "duration": 1041,
    "start_time": "2022-03-03T17:39:23.751Z"
   },
   {
    "duration": 377,
    "start_time": "2022-03-03T17:39:24.793Z"
   },
   {
    "duration": 11,
    "start_time": "2022-03-03T17:39:25.172Z"
   },
   {
    "duration": 7,
    "start_time": "2022-03-03T17:39:25.185Z"
   },
   {
    "duration": 8,
    "start_time": "2022-03-03T17:39:25.193Z"
   },
   {
    "duration": 7,
    "start_time": "2022-03-03T17:39:25.202Z"
   },
   {
    "duration": 8,
    "start_time": "2022-03-03T17:39:25.210Z"
   },
   {
    "duration": 13,
    "start_time": "2022-03-03T17:39:25.220Z"
   },
   {
    "duration": 46,
    "start_time": "2022-03-03T17:39:25.235Z"
   },
   {
    "duration": 54,
    "start_time": "2022-03-03T17:39:25.283Z"
   },
   {
    "duration": 33,
    "start_time": "2022-03-03T17:39:25.338Z"
   },
   {
    "duration": 40,
    "start_time": "2022-03-03T17:39:25.373Z"
   },
   {
    "duration": 5,
    "start_time": "2022-03-03T17:39:25.414Z"
   },
   {
    "duration": 8,
    "start_time": "2022-03-03T17:39:25.421Z"
   },
   {
    "duration": 3,
    "start_time": "2022-03-03T17:39:25.431Z"
   },
   {
    "duration": 3,
    "start_time": "2022-03-03T17:39:25.436Z"
   },
   {
    "duration": 5,
    "start_time": "2022-03-03T17:39:25.441Z"
   },
   {
    "duration": 7,
    "start_time": "2022-03-03T17:39:25.447Z"
   },
   {
    "duration": 7,
    "start_time": "2022-03-03T17:39:25.456Z"
   },
   {
    "duration": 372,
    "start_time": "2022-03-03T17:39:49.044Z"
   },
   {
    "duration": 306,
    "start_time": "2022-03-03T17:42:42.511Z"
   },
   {
    "duration": 299,
    "start_time": "2022-03-03T17:43:19.041Z"
   },
   {
    "duration": 284,
    "start_time": "2022-03-03T17:47:46.540Z"
   },
   {
    "duration": 2,
    "start_time": "2022-03-03T17:48:16.746Z"
   },
   {
    "duration": 408,
    "start_time": "2022-03-03T17:48:16.750Z"
   },
   {
    "duration": 10,
    "start_time": "2022-03-03T17:48:17.160Z"
   },
   {
    "duration": 7,
    "start_time": "2022-03-03T17:48:17.172Z"
   },
   {
    "duration": 7,
    "start_time": "2022-03-03T17:48:17.181Z"
   },
   {
    "duration": 7,
    "start_time": "2022-03-03T17:48:17.190Z"
   },
   {
    "duration": 9,
    "start_time": "2022-03-03T17:48:17.198Z"
   },
   {
    "duration": 10,
    "start_time": "2022-03-03T17:48:17.208Z"
   },
   {
    "duration": 46,
    "start_time": "2022-03-03T17:48:17.220Z"
   },
   {
    "duration": 51,
    "start_time": "2022-03-03T17:48:17.268Z"
   },
   {
    "duration": 31,
    "start_time": "2022-03-03T17:48:17.321Z"
   },
   {
    "duration": 27,
    "start_time": "2022-03-03T17:48:17.354Z"
   },
   {
    "duration": 20,
    "start_time": "2022-03-03T17:48:17.382Z"
   },
   {
    "duration": 27,
    "start_time": "2022-03-03T17:48:17.404Z"
   },
   {
    "duration": 301,
    "start_time": "2022-03-03T17:48:17.433Z"
   },
   {
    "duration": -977,
    "start_time": "2022-03-03T17:48:18.713Z"
   },
   {
    "duration": -981,
    "start_time": "2022-03-03T17:48:18.718Z"
   },
   {
    "duration": -989,
    "start_time": "2022-03-03T17:48:18.726Z"
   },
   {
    "duration": -991,
    "start_time": "2022-03-03T17:48:18.729Z"
   },
   {
    "duration": 11,
    "start_time": "2022-03-03T17:48:33.486Z"
   },
   {
    "duration": 2,
    "start_time": "2022-03-03T17:49:02.777Z"
   },
   {
    "duration": 4,
    "start_time": "2022-03-03T17:49:05.521Z"
   },
   {
    "duration": 2,
    "start_time": "2022-03-03T17:49:13.146Z"
   },
   {
    "duration": 390,
    "start_time": "2022-03-03T17:49:13.150Z"
   },
   {
    "duration": 10,
    "start_time": "2022-03-03T17:49:13.542Z"
   },
   {
    "duration": 9,
    "start_time": "2022-03-03T17:49:13.554Z"
   },
   {
    "duration": 7,
    "start_time": "2022-03-03T17:49:13.564Z"
   },
   {
    "duration": 8,
    "start_time": "2022-03-03T17:49:13.573Z"
   },
   {
    "duration": 7,
    "start_time": "2022-03-03T17:49:13.582Z"
   },
   {
    "duration": 14,
    "start_time": "2022-03-03T17:49:13.591Z"
   },
   {
    "duration": 48,
    "start_time": "2022-03-03T17:49:13.608Z"
   },
   {
    "duration": 62,
    "start_time": "2022-03-03T17:49:13.658Z"
   },
   {
    "duration": 34,
    "start_time": "2022-03-03T17:49:13.722Z"
   },
   {
    "duration": 29,
    "start_time": "2022-03-03T17:49:13.758Z"
   },
   {
    "duration": 5,
    "start_time": "2022-03-03T17:49:13.802Z"
   },
   {
    "duration": 9,
    "start_time": "2022-03-03T17:49:13.809Z"
   },
   {
    "duration": 3,
    "start_time": "2022-03-03T17:49:13.820Z"
   },
   {
    "duration": 6,
    "start_time": "2022-03-03T17:49:13.824Z"
   },
   {
    "duration": 4,
    "start_time": "2022-03-03T17:49:13.831Z"
   },
   {
    "duration": 4,
    "start_time": "2022-03-03T17:49:13.837Z"
   },
   {
    "duration": 6,
    "start_time": "2022-03-03T17:49:13.842Z"
   },
   {
    "duration": 3,
    "start_time": "2022-03-03T17:51:29.027Z"
   },
   {
    "duration": 380,
    "start_time": "2022-03-03T17:51:29.032Z"
   },
   {
    "duration": 11,
    "start_time": "2022-03-03T17:51:29.414Z"
   },
   {
    "duration": 13,
    "start_time": "2022-03-03T17:51:29.427Z"
   },
   {
    "duration": 7,
    "start_time": "2022-03-03T17:51:29.442Z"
   },
   {
    "duration": 7,
    "start_time": "2022-03-03T17:51:29.451Z"
   },
   {
    "duration": 8,
    "start_time": "2022-03-03T17:51:29.460Z"
   },
   {
    "duration": 10,
    "start_time": "2022-03-03T17:51:29.470Z"
   },
   {
    "duration": 48,
    "start_time": "2022-03-03T17:51:29.503Z"
   },
   {
    "duration": 59,
    "start_time": "2022-03-03T17:51:29.553Z"
   },
   {
    "duration": 35,
    "start_time": "2022-03-03T17:51:29.613Z"
   },
   {
    "duration": 29,
    "start_time": "2022-03-03T17:51:29.650Z"
   },
   {
    "duration": 6,
    "start_time": "2022-03-03T17:51:29.680Z"
   },
   {
    "duration": 814,
    "start_time": "2022-03-03T17:51:29.701Z"
   },
   {
    "duration": -976,
    "start_time": "2022-03-03T17:51:31.493Z"
   },
   {
    "duration": -984,
    "start_time": "2022-03-03T17:51:31.502Z"
   },
   {
    "duration": -985,
    "start_time": "2022-03-03T17:51:31.505Z"
   },
   {
    "duration": -987,
    "start_time": "2022-03-03T17:51:31.508Z"
   },
   {
    "duration": -987,
    "start_time": "2022-03-03T17:51:31.510Z"
   },
   {
    "duration": 2,
    "start_time": "2022-03-03T17:51:48.724Z"
   },
   {
    "duration": 393,
    "start_time": "2022-03-03T17:51:48.728Z"
   },
   {
    "duration": 10,
    "start_time": "2022-03-03T17:51:49.124Z"
   },
   {
    "duration": 7,
    "start_time": "2022-03-03T17:51:49.136Z"
   },
   {
    "duration": 8,
    "start_time": "2022-03-03T17:51:49.145Z"
   },
   {
    "duration": 7,
    "start_time": "2022-03-03T17:51:49.154Z"
   },
   {
    "duration": 9,
    "start_time": "2022-03-03T17:51:49.162Z"
   },
   {
    "duration": 13,
    "start_time": "2022-03-03T17:51:49.174Z"
   },
   {
    "duration": 55,
    "start_time": "2022-03-03T17:51:49.189Z"
   },
   {
    "duration": 61,
    "start_time": "2022-03-03T17:51:49.245Z"
   },
   {
    "duration": 32,
    "start_time": "2022-03-03T17:51:49.308Z"
   },
   {
    "duration": 27,
    "start_time": "2022-03-03T17:51:49.341Z"
   },
   {
    "duration": 6,
    "start_time": "2022-03-03T17:51:49.369Z"
   },
   {
    "duration": 57,
    "start_time": "2022-03-03T17:51:49.376Z"
   },
   {
    "duration": 12,
    "start_time": "2022-03-03T17:51:49.435Z"
   },
   {
    "duration": 1,
    "start_time": "2022-03-03T17:51:49.449Z"
   },
   {
    "duration": 4,
    "start_time": "2022-03-03T17:51:49.452Z"
   },
   {
    "duration": 5,
    "start_time": "2022-03-03T17:51:49.457Z"
   },
   {
    "duration": 8,
    "start_time": "2022-03-03T17:51:49.464Z"
   },
   {
    "duration": 1141,
    "start_time": "2022-03-03T17:58:17.606Z"
   },
   {
    "duration": 371,
    "start_time": "2022-03-03T17:58:18.748Z"
   },
   {
    "duration": 13,
    "start_time": "2022-03-03T17:58:19.121Z"
   },
   {
    "duration": 8,
    "start_time": "2022-03-03T17:58:19.135Z"
   },
   {
    "duration": 6,
    "start_time": "2022-03-03T17:58:19.145Z"
   },
   {
    "duration": 9,
    "start_time": "2022-03-03T17:58:19.153Z"
   },
   {
    "duration": 7,
    "start_time": "2022-03-03T17:58:19.164Z"
   },
   {
    "duration": 9,
    "start_time": "2022-03-03T17:58:19.173Z"
   },
   {
    "duration": 57,
    "start_time": "2022-03-03T17:58:19.183Z"
   },
   {
    "duration": 66,
    "start_time": "2022-03-03T17:58:19.242Z"
   },
   {
    "duration": 32,
    "start_time": "2022-03-03T17:58:19.310Z"
   },
   {
    "duration": 28,
    "start_time": "2022-03-03T17:58:19.344Z"
   },
   {
    "duration": 5,
    "start_time": "2022-03-03T17:58:19.373Z"
   },
   {
    "duration": 24,
    "start_time": "2022-03-03T17:58:19.380Z"
   },
   {
    "duration": 8,
    "start_time": "2022-03-03T17:58:19.405Z"
   },
   {
    "duration": 11,
    "start_time": "2022-03-03T17:58:19.414Z"
   },
   {
    "duration": 15,
    "start_time": "2022-03-03T17:58:19.426Z"
   },
   {
    "duration": 16,
    "start_time": "2022-03-03T17:58:19.443Z"
   },
   {
    "duration": 22,
    "start_time": "2022-03-03T17:58:19.460Z"
   },
   {
    "duration": 890,
    "start_time": "2022-03-03T18:00:00.565Z"
   },
   {
    "duration": 65,
    "start_time": "2022-03-03T18:00:02.920Z"
   },
   {
    "duration": 1106,
    "start_time": "2022-03-03T18:12:04.605Z"
   },
   {
    "duration": 365,
    "start_time": "2022-03-03T18:12:05.713Z"
   },
   {
    "duration": 12,
    "start_time": "2022-03-03T18:12:06.080Z"
   },
   {
    "duration": 9,
    "start_time": "2022-03-03T18:12:06.094Z"
   },
   {
    "duration": 8,
    "start_time": "2022-03-03T18:12:06.105Z"
   },
   {
    "duration": 9,
    "start_time": "2022-03-03T18:12:06.114Z"
   },
   {
    "duration": 7,
    "start_time": "2022-03-03T18:12:06.125Z"
   },
   {
    "duration": 9,
    "start_time": "2022-03-03T18:12:06.135Z"
   },
   {
    "duration": 72,
    "start_time": "2022-03-03T18:12:06.146Z"
   },
   {
    "duration": 46,
    "start_time": "2022-03-03T18:12:06.220Z"
   },
   {
    "duration": 46,
    "start_time": "2022-03-03T18:12:06.267Z"
   },
   {
    "duration": 26,
    "start_time": "2022-03-03T18:12:06.315Z"
   },
   {
    "duration": 5,
    "start_time": "2022-03-03T18:12:06.343Z"
   },
   {
    "duration": 23,
    "start_time": "2022-03-03T18:12:06.350Z"
   },
   {
    "duration": 34,
    "start_time": "2022-03-03T18:12:06.375Z"
   },
   {
    "duration": 15,
    "start_time": "2022-03-03T18:12:06.411Z"
   },
   {
    "duration": 9,
    "start_time": "2022-03-03T18:12:06.427Z"
   },
   {
    "duration": 3,
    "start_time": "2022-03-03T18:12:06.438Z"
   },
   {
    "duration": 4,
    "start_time": "2022-03-03T18:12:06.443Z"
   },
   {
    "duration": 4,
    "start_time": "2022-03-03T18:12:06.448Z"
   },
   {
    "duration": 4,
    "start_time": "2022-03-03T18:12:06.454Z"
   },
   {
    "duration": 11,
    "start_time": "2022-03-03T18:12:25.898Z"
   },
   {
    "duration": 10,
    "start_time": "2022-03-03T18:12:33.270Z"
   },
   {
    "duration": 11,
    "start_time": "2022-03-03T18:15:39.278Z"
   },
   {
    "duration": 3,
    "start_time": "2022-03-03T18:16:32.833Z"
   },
   {
    "duration": 446,
    "start_time": "2022-03-03T18:16:32.838Z"
   },
   {
    "duration": 10,
    "start_time": "2022-03-03T18:16:33.286Z"
   },
   {
    "duration": 23,
    "start_time": "2022-03-03T18:16:33.298Z"
   },
   {
    "duration": 12,
    "start_time": "2022-03-03T18:16:33.323Z"
   },
   {
    "duration": 21,
    "start_time": "2022-03-03T18:16:33.337Z"
   },
   {
    "duration": 19,
    "start_time": "2022-03-03T18:16:33.359Z"
   },
   {
    "duration": 16,
    "start_time": "2022-03-03T18:16:33.379Z"
   },
   {
    "duration": 64,
    "start_time": "2022-03-03T18:16:33.397Z"
   },
   {
    "duration": 43,
    "start_time": "2022-03-03T18:16:33.463Z"
   },
   {
    "duration": 33,
    "start_time": "2022-03-03T18:16:33.507Z"
   },
   {
    "duration": 28,
    "start_time": "2022-03-03T18:16:33.541Z"
   },
   {
    "duration": 5,
    "start_time": "2022-03-03T18:16:33.570Z"
   },
   {
    "duration": 51,
    "start_time": "2022-03-03T18:16:33.577Z"
   },
   {
    "duration": 17,
    "start_time": "2022-03-03T18:16:33.629Z"
   },
   {
    "duration": 15,
    "start_time": "2022-03-03T18:16:33.647Z"
   },
   {
    "duration": 10,
    "start_time": "2022-03-03T18:16:33.663Z"
   },
   {
    "duration": 26,
    "start_time": "2022-03-03T18:16:33.675Z"
   },
   {
    "duration": 15,
    "start_time": "2022-03-03T18:16:33.703Z"
   },
   {
    "duration": 11,
    "start_time": "2022-03-03T18:16:33.719Z"
   },
   {
    "duration": 7,
    "start_time": "2022-03-03T18:16:33.732Z"
   },
   {
    "duration": 1108,
    "start_time": "2022-03-03T18:26:10.585Z"
   },
   {
    "duration": 402,
    "start_time": "2022-03-03T18:26:11.695Z"
   },
   {
    "duration": 12,
    "start_time": "2022-03-03T18:26:12.099Z"
   },
   {
    "duration": 7,
    "start_time": "2022-03-03T18:26:12.113Z"
   },
   {
    "duration": 7,
    "start_time": "2022-03-03T18:26:12.121Z"
   },
   {
    "duration": 7,
    "start_time": "2022-03-03T18:26:12.130Z"
   },
   {
    "duration": 7,
    "start_time": "2022-03-03T18:26:12.139Z"
   },
   {
    "duration": 9,
    "start_time": "2022-03-03T18:26:12.148Z"
   },
   {
    "duration": 69,
    "start_time": "2022-03-03T18:26:12.159Z"
   },
   {
    "duration": 47,
    "start_time": "2022-03-03T18:26:12.230Z"
   },
   {
    "duration": 45,
    "start_time": "2022-03-03T18:26:12.278Z"
   },
   {
    "duration": 28,
    "start_time": "2022-03-03T18:26:12.325Z"
   },
   {
    "duration": 5,
    "start_time": "2022-03-03T18:26:12.354Z"
   },
   {
    "duration": 42,
    "start_time": "2022-03-03T18:26:12.361Z"
   },
   {
    "duration": 19,
    "start_time": "2022-03-03T18:26:12.404Z"
   },
   {
    "duration": 16,
    "start_time": "2022-03-03T18:26:12.424Z"
   },
   {
    "duration": 88,
    "start_time": "2022-03-03T18:26:12.442Z"
   },
   {
    "duration": -990,
    "start_time": "2022-03-03T18:26:13.521Z"
   },
   {
    "duration": -992,
    "start_time": "2022-03-03T18:26:13.524Z"
   },
   {
    "duration": -993,
    "start_time": "2022-03-03T18:26:13.526Z"
   },
   {
    "duration": -994,
    "start_time": "2022-03-03T18:26:13.528Z"
   },
   {
    "duration": -995,
    "start_time": "2022-03-03T18:26:13.530Z"
   },
   {
    "duration": 14,
    "start_time": "2022-03-03T18:26:20.144Z"
   },
   {
    "duration": 12,
    "start_time": "2022-03-03T18:26:22.120Z"
   },
   {
    "duration": 20,
    "start_time": "2022-03-03T18:27:22.149Z"
   },
   {
    "duration": 33,
    "start_time": "2022-03-03T18:27:35.085Z"
   },
   {
    "duration": 4,
    "start_time": "2022-03-03T18:34:46.967Z"
   },
   {
    "duration": 11,
    "start_time": "2022-03-03T18:34:48.594Z"
   },
   {
    "duration": 418,
    "start_time": "2022-03-03T18:36:22.073Z"
   },
   {
    "duration": 301,
    "start_time": "2022-03-03T18:38:29.055Z"
   },
   {
    "duration": 6,
    "start_time": "2022-03-03T18:40:01.644Z"
   },
   {
    "duration": 328,
    "start_time": "2022-03-03T18:40:45.916Z"
   },
   {
    "duration": 5,
    "start_time": "2022-03-03T18:42:12.717Z"
   },
   {
    "duration": 2,
    "start_time": "2022-03-03T18:42:18.980Z"
   },
   {
    "duration": 414,
    "start_time": "2022-03-03T18:42:18.984Z"
   },
   {
    "duration": 9,
    "start_time": "2022-03-03T18:42:19.400Z"
   },
   {
    "duration": 8,
    "start_time": "2022-03-03T18:42:19.411Z"
   },
   {
    "duration": 6,
    "start_time": "2022-03-03T18:42:19.421Z"
   },
   {
    "duration": 7,
    "start_time": "2022-03-03T18:42:19.429Z"
   },
   {
    "duration": 7,
    "start_time": "2022-03-03T18:42:19.438Z"
   },
   {
    "duration": 9,
    "start_time": "2022-03-03T18:42:19.447Z"
   },
   {
    "duration": 73,
    "start_time": "2022-03-03T18:42:19.459Z"
   },
   {
    "duration": 43,
    "start_time": "2022-03-03T18:42:19.534Z"
   },
   {
    "duration": 48,
    "start_time": "2022-03-03T18:42:19.578Z"
   },
   {
    "duration": 29,
    "start_time": "2022-03-03T18:42:19.627Z"
   },
   {
    "duration": 5,
    "start_time": "2022-03-03T18:42:19.658Z"
   },
   {
    "duration": 41,
    "start_time": "2022-03-03T18:42:19.665Z"
   },
   {
    "duration": 15,
    "start_time": "2022-03-03T18:42:19.707Z"
   },
   {
    "duration": 14,
    "start_time": "2022-03-03T18:42:19.723Z"
   },
   {
    "duration": 11,
    "start_time": "2022-03-03T18:42:19.739Z"
   },
   {
    "duration": 12,
    "start_time": "2022-03-03T18:42:19.751Z"
   },
   {
    "duration": 5,
    "start_time": "2022-03-03T18:42:19.764Z"
   },
   {
    "duration": 39,
    "start_time": "2022-03-03T18:42:19.770Z"
   },
   {
    "duration": 3,
    "start_time": "2022-03-03T18:42:19.811Z"
   },
   {
    "duration": 4,
    "start_time": "2022-03-03T18:42:19.815Z"
   },
   {
    "duration": 5,
    "start_time": "2022-03-03T18:42:19.820Z"
   },
   {
    "duration": 7,
    "start_time": "2022-03-03T18:42:19.827Z"
   },
   {
    "duration": 284,
    "start_time": "2022-03-03T18:42:48.691Z"
   },
   {
    "duration": 6,
    "start_time": "2022-03-03T18:43:04.391Z"
   },
   {
    "duration": 3,
    "start_time": "2022-03-03T18:47:18.117Z"
   },
   {
    "duration": 406,
    "start_time": "2022-03-03T18:47:18.122Z"
   },
   {
    "duration": 10,
    "start_time": "2022-03-03T18:47:18.529Z"
   },
   {
    "duration": 8,
    "start_time": "2022-03-03T18:47:18.541Z"
   },
   {
    "duration": 8,
    "start_time": "2022-03-03T18:47:18.550Z"
   },
   {
    "duration": 7,
    "start_time": "2022-03-03T18:47:18.559Z"
   },
   {
    "duration": 8,
    "start_time": "2022-03-03T18:47:18.567Z"
   },
   {
    "duration": 10,
    "start_time": "2022-03-03T18:47:18.577Z"
   },
   {
    "duration": 51,
    "start_time": "2022-03-03T18:47:18.588Z"
   },
   {
    "duration": 44,
    "start_time": "2022-03-03T18:47:18.640Z"
   },
   {
    "duration": 46,
    "start_time": "2022-03-03T18:47:18.685Z"
   },
   {
    "duration": 27,
    "start_time": "2022-03-03T18:47:18.732Z"
   },
   {
    "duration": 5,
    "start_time": "2022-03-03T18:47:18.760Z"
   },
   {
    "duration": 38,
    "start_time": "2022-03-03T18:47:18.767Z"
   },
   {
    "duration": 18,
    "start_time": "2022-03-03T18:47:18.807Z"
   },
   {
    "duration": 14,
    "start_time": "2022-03-03T18:47:18.827Z"
   },
   {
    "duration": 24,
    "start_time": "2022-03-03T18:47:18.843Z"
   },
   {
    "duration": 13,
    "start_time": "2022-03-03T18:47:18.869Z"
   },
   {
    "duration": 23,
    "start_time": "2022-03-03T18:47:18.883Z"
   },
   {
    "duration": 11,
    "start_time": "2022-03-03T18:47:18.907Z"
   },
   {
    "duration": 5,
    "start_time": "2022-03-03T18:47:18.920Z"
   },
   {
    "duration": 2,
    "start_time": "2022-03-03T18:47:18.927Z"
   },
   {
    "duration": 6,
    "start_time": "2022-03-03T18:47:18.931Z"
   },
   {
    "duration": 8,
    "start_time": "2022-03-03T18:47:18.938Z"
   },
   {
    "duration": 3,
    "start_time": "2022-03-03T18:47:42.737Z"
   },
   {
    "duration": 6,
    "start_time": "2022-03-03T18:47:45.341Z"
   },
   {
    "duration": 300,
    "start_time": "2022-03-04T08:08:42.741Z"
   },
   {
    "duration": 1346,
    "start_time": "2022-03-04T08:08:58.352Z"
   },
   {
    "duration": 453,
    "start_time": "2022-03-04T08:08:59.701Z"
   },
   {
    "duration": 22,
    "start_time": "2022-03-04T08:09:00.157Z"
   },
   {
    "duration": 15,
    "start_time": "2022-03-04T08:09:00.183Z"
   },
   {
    "duration": 12,
    "start_time": "2022-03-04T08:09:00.201Z"
   },
   {
    "duration": 12,
    "start_time": "2022-03-04T08:09:00.253Z"
   },
   {
    "duration": 14,
    "start_time": "2022-03-04T08:09:00.268Z"
   },
   {
    "duration": 21,
    "start_time": "2022-03-04T08:09:00.284Z"
   },
   {
    "duration": 104,
    "start_time": "2022-03-04T08:09:00.310Z"
   },
   {
    "duration": 87,
    "start_time": "2022-03-04T08:09:00.417Z"
   },
   {
    "duration": 59,
    "start_time": "2022-03-04T08:09:00.506Z"
   },
   {
    "duration": 41,
    "start_time": "2022-03-04T08:09:00.568Z"
   },
   {
    "duration": 8,
    "start_time": "2022-03-04T08:09:00.612Z"
   },
   {
    "duration": 64,
    "start_time": "2022-03-04T08:09:00.622Z"
   },
   {
    "duration": 28,
    "start_time": "2022-03-04T08:09:00.688Z"
   },
   {
    "duration": 40,
    "start_time": "2022-03-04T08:09:00.718Z"
   },
   {
    "duration": 19,
    "start_time": "2022-03-04T08:09:00.760Z"
   },
   {
    "duration": 7,
    "start_time": "2022-03-04T08:09:00.781Z"
   },
   {
    "duration": 24,
    "start_time": "2022-03-04T08:09:00.790Z"
   },
   {
    "duration": 36,
    "start_time": "2022-03-04T08:09:00.817Z"
   },
   {
    "duration": 5,
    "start_time": "2022-03-04T08:09:00.855Z"
   },
   {
    "duration": 15,
    "start_time": "2022-03-04T08:09:00.862Z"
   },
   {
    "duration": 33,
    "start_time": "2022-03-04T08:18:15.330Z"
   },
   {
    "duration": 1455,
    "start_time": "2022-03-04T08:19:11.086Z"
   },
   {
    "duration": 463,
    "start_time": "2022-03-04T08:19:12.543Z"
   },
   {
    "duration": 22,
    "start_time": "2022-03-04T08:19:13.009Z"
   },
   {
    "duration": 19,
    "start_time": "2022-03-04T08:19:13.035Z"
   },
   {
    "duration": 13,
    "start_time": "2022-03-04T08:19:13.056Z"
   },
   {
    "duration": 16,
    "start_time": "2022-03-04T08:19:13.071Z"
   },
   {
    "duration": 25,
    "start_time": "2022-03-04T08:19:13.089Z"
   },
   {
    "duration": 37,
    "start_time": "2022-03-04T08:19:13.118Z"
   },
   {
    "duration": 72,
    "start_time": "2022-03-04T08:19:13.159Z"
   },
   {
    "duration": 88,
    "start_time": "2022-03-04T08:19:13.233Z"
   },
   {
    "duration": 69,
    "start_time": "2022-03-04T08:19:13.323Z"
   },
   {
    "duration": 41,
    "start_time": "2022-03-04T08:19:13.395Z"
   },
   {
    "duration": 16,
    "start_time": "2022-03-04T08:19:13.439Z"
   },
   {
    "duration": 43,
    "start_time": "2022-03-04T08:19:13.457Z"
   },
   {
    "duration": 61,
    "start_time": "2022-03-04T08:19:13.503Z"
   },
   {
    "duration": 25,
    "start_time": "2022-03-04T08:19:13.566Z"
   },
   {
    "duration": 21,
    "start_time": "2022-03-04T08:19:13.594Z"
   },
   {
    "duration": 35,
    "start_time": "2022-03-04T08:19:13.617Z"
   },
   {
    "duration": 18,
    "start_time": "2022-03-04T08:19:13.654Z"
   },
   {
    "duration": 10,
    "start_time": "2022-03-04T08:19:13.674Z"
   },
   {
    "duration": 13,
    "start_time": "2022-03-04T08:19:13.686Z"
   },
   {
    "duration": 10,
    "start_time": "2022-03-04T08:19:13.701Z"
   },
   {
    "duration": 4,
    "start_time": "2022-03-04T08:22:56.900Z"
   },
   {
    "duration": 518,
    "start_time": "2022-03-04T08:22:56.908Z"
   },
   {
    "duration": 23,
    "start_time": "2022-03-04T08:22:57.430Z"
   },
   {
    "duration": 14,
    "start_time": "2022-03-04T08:22:57.457Z"
   },
   {
    "duration": 17,
    "start_time": "2022-03-04T08:22:57.474Z"
   },
   {
    "duration": 10,
    "start_time": "2022-03-04T08:22:57.494Z"
   },
   {
    "duration": 57,
    "start_time": "2022-03-04T08:22:57.507Z"
   },
   {
    "duration": 16,
    "start_time": "2022-03-04T08:22:57.567Z"
   },
   {
    "duration": 91,
    "start_time": "2022-03-04T08:22:57.588Z"
   },
   {
    "duration": 76,
    "start_time": "2022-03-04T08:22:57.682Z"
   },
   {
    "duration": 54,
    "start_time": "2022-03-04T08:22:57.762Z"
   },
   {
    "duration": 69,
    "start_time": "2022-03-04T08:22:57.818Z"
   },
   {
    "duration": 8,
    "start_time": "2022-03-04T08:22:57.890Z"
   },
   {
    "duration": 68,
    "start_time": "2022-03-04T08:22:57.900Z"
   },
   {
    "duration": 45,
    "start_time": "2022-03-04T08:22:57.972Z"
   },
   {
    "duration": 80,
    "start_time": "2022-03-04T08:22:58.019Z"
   },
   {
    "duration": 28,
    "start_time": "2022-03-04T08:22:58.101Z"
   },
   {
    "duration": 6,
    "start_time": "2022-03-04T08:22:58.132Z"
   },
   {
    "duration": 49,
    "start_time": "2022-03-04T08:22:58.141Z"
   },
   {
    "duration": 8,
    "start_time": "2022-03-04T08:22:58.192Z"
   },
   {
    "duration": 54,
    "start_time": "2022-03-04T08:22:58.202Z"
   },
   {
    "duration": 12,
    "start_time": "2022-03-04T08:22:58.261Z"
   },
   {
    "duration": 97,
    "start_time": "2022-03-04T08:22:58.275Z"
   },
   {
    "duration": 482,
    "start_time": "2022-03-04T09:12:06.421Z"
   },
   {
    "duration": 297,
    "start_time": "2022-03-04T09:12:36.628Z"
   },
   {
    "duration": 263,
    "start_time": "2022-03-04T09:13:17.997Z"
   },
   {
    "duration": 388,
    "start_time": "2022-03-04T09:13:30.561Z"
   },
   {
    "duration": 9,
    "start_time": "2022-03-04T09:13:55.551Z"
   },
   {
    "duration": 34,
    "start_time": "2022-03-04T09:14:00.926Z"
   },
   {
    "duration": 11,
    "start_time": "2022-03-04T09:14:27.341Z"
   },
   {
    "duration": 10,
    "start_time": "2022-03-04T09:55:01.921Z"
   },
   {
    "duration": 269,
    "start_time": "2022-03-04T09:55:09.746Z"
   },
   {
    "duration": 31,
    "start_time": "2022-03-04T09:55:20.578Z"
   },
   {
    "duration": 419,
    "start_time": "2022-03-04T09:55:38.631Z"
   },
   {
    "duration": 7,
    "start_time": "2022-03-04T09:55:47.503Z"
   },
   {
    "duration": 30,
    "start_time": "2022-03-04T09:55:49.115Z"
   },
   {
    "duration": 10,
    "start_time": "2022-03-04T10:00:33.334Z"
   },
   {
    "duration": 43,
    "start_time": "2022-03-04T10:00:35.249Z"
   },
   {
    "duration": 436,
    "start_time": "2022-03-04T10:05:11.792Z"
   },
   {
    "duration": 445,
    "start_time": "2022-03-04T10:06:18.443Z"
   },
   {
    "duration": 1461,
    "start_time": "2022-03-04T10:08:31.429Z"
   },
   {
    "duration": 389,
    "start_time": "2022-03-04T10:09:36.088Z"
   },
   {
    "duration": 459,
    "start_time": "2022-03-04T10:10:31.697Z"
   },
   {
    "duration": 1390,
    "start_time": "2022-03-04T10:10:43.999Z"
   },
   {
    "duration": 471,
    "start_time": "2022-03-04T10:10:45.392Z"
   },
   {
    "duration": 20,
    "start_time": "2022-03-04T10:10:45.866Z"
   },
   {
    "duration": 11,
    "start_time": "2022-03-04T10:10:45.889Z"
   },
   {
    "duration": 11,
    "start_time": "2022-03-04T10:10:45.903Z"
   },
   {
    "duration": 37,
    "start_time": "2022-03-04T10:10:45.916Z"
   },
   {
    "duration": 12,
    "start_time": "2022-03-04T10:10:45.956Z"
   },
   {
    "duration": 15,
    "start_time": "2022-03-04T10:10:45.971Z"
   },
   {
    "duration": 94,
    "start_time": "2022-03-04T10:10:45.989Z"
   },
   {
    "duration": 89,
    "start_time": "2022-03-04T10:10:46.085Z"
   },
   {
    "duration": 53,
    "start_time": "2022-03-04T10:10:46.176Z"
   },
   {
    "duration": 55,
    "start_time": "2022-03-04T10:10:46.231Z"
   },
   {
    "duration": 8,
    "start_time": "2022-03-04T10:10:46.289Z"
   },
   {
    "duration": 60,
    "start_time": "2022-03-04T10:10:46.299Z"
   },
   {
    "duration": 31,
    "start_time": "2022-03-04T10:10:46.361Z"
   },
   {
    "duration": 23,
    "start_time": "2022-03-04T10:10:46.394Z"
   },
   {
    "duration": 48,
    "start_time": "2022-03-04T10:10:46.420Z"
   },
   {
    "duration": 7,
    "start_time": "2022-03-04T10:10:46.471Z"
   },
   {
    "duration": 31,
    "start_time": "2022-03-04T10:10:46.480Z"
   },
   {
    "duration": 39,
    "start_time": "2022-03-04T10:10:46.513Z"
   },
   {
    "duration": 30,
    "start_time": "2022-03-04T10:10:46.555Z"
   },
   {
    "duration": 8,
    "start_time": "2022-03-04T10:10:46.588Z"
   },
   {
    "duration": 569,
    "start_time": "2022-03-04T10:10:46.600Z"
   },
   {
    "duration": -1576,
    "start_time": "2022-03-04T10:10:48.748Z"
   },
   {
    "duration": 6284,
    "start_time": "2022-03-04T10:11:37.846Z"
   },
   {
    "duration": 89,
    "start_time": "2022-03-04T10:27:20.581Z"
   },
   {
    "duration": 83,
    "start_time": "2022-03-04T10:27:51.851Z"
   },
   {
    "duration": 91,
    "start_time": "2022-03-04T10:28:00.905Z"
   },
   {
    "duration": 140,
    "start_time": "2022-03-04T10:28:08.546Z"
   },
   {
    "duration": 7,
    "start_time": "2022-03-04T10:28:25.575Z"
   },
   {
    "duration": 31,
    "start_time": "2022-03-04T10:28:30.358Z"
   },
   {
    "duration": 4,
    "start_time": "2022-03-04T10:28:51.552Z"
   },
   {
    "duration": 566,
    "start_time": "2022-03-04T10:28:51.558Z"
   },
   {
    "duration": 15,
    "start_time": "2022-03-04T10:28:52.128Z"
   },
   {
    "duration": 14,
    "start_time": "2022-03-04T10:28:52.146Z"
   },
   {
    "duration": 14,
    "start_time": "2022-03-04T10:28:52.162Z"
   },
   {
    "duration": 13,
    "start_time": "2022-03-04T10:28:52.178Z"
   },
   {
    "duration": 13,
    "start_time": "2022-03-04T10:28:52.193Z"
   },
   {
    "duration": 52,
    "start_time": "2022-03-04T10:28:52.208Z"
   },
   {
    "duration": 70,
    "start_time": "2022-03-04T10:28:52.264Z"
   },
   {
    "duration": 79,
    "start_time": "2022-03-04T10:28:52.337Z"
   },
   {
    "duration": 65,
    "start_time": "2022-03-04T10:28:52.419Z"
   },
   {
    "duration": 42,
    "start_time": "2022-03-04T10:28:52.487Z"
   },
   {
    "duration": 25,
    "start_time": "2022-03-04T10:28:52.531Z"
   },
   {
    "duration": 39,
    "start_time": "2022-03-04T10:28:52.559Z"
   },
   {
    "duration": 24,
    "start_time": "2022-03-04T10:28:52.601Z"
   },
   {
    "duration": 44,
    "start_time": "2022-03-04T10:28:52.627Z"
   },
   {
    "duration": 29,
    "start_time": "2022-03-04T10:28:52.674Z"
   },
   {
    "duration": 8,
    "start_time": "2022-03-04T10:28:52.705Z"
   },
   {
    "duration": 61,
    "start_time": "2022-03-04T10:28:52.715Z"
   },
   {
    "duration": 10,
    "start_time": "2022-03-04T10:28:52.779Z"
   },
   {
    "duration": 61,
    "start_time": "2022-03-04T10:28:52.791Z"
   },
   {
    "duration": 9,
    "start_time": "2022-03-04T10:28:52.854Z"
   },
   {
    "duration": 7,
    "start_time": "2022-03-04T10:28:52.866Z"
   },
   {
    "duration": 40,
    "start_time": "2022-03-04T10:28:52.876Z"
   },
   {
    "duration": 4,
    "start_time": "2022-03-04T10:35:25.659Z"
   },
   {
    "duration": 497,
    "start_time": "2022-03-04T10:35:25.667Z"
   },
   {
    "duration": 16,
    "start_time": "2022-03-04T10:35:26.167Z"
   },
   {
    "duration": 18,
    "start_time": "2022-03-04T10:35:26.186Z"
   },
   {
    "duration": 12,
    "start_time": "2022-03-04T10:35:26.208Z"
   },
   {
    "duration": 37,
    "start_time": "2022-03-04T10:35:26.223Z"
   },
   {
    "duration": 12,
    "start_time": "2022-03-04T10:35:26.262Z"
   },
   {
    "duration": 20,
    "start_time": "2022-03-04T10:35:26.276Z"
   },
   {
    "duration": 103,
    "start_time": "2022-03-04T10:35:26.300Z"
   },
   {
    "duration": 80,
    "start_time": "2022-03-04T10:35:26.406Z"
   },
   {
    "duration": 49,
    "start_time": "2022-03-04T10:35:26.488Z"
   },
   {
    "duration": 49,
    "start_time": "2022-03-04T10:35:26.540Z"
   },
   {
    "duration": 9,
    "start_time": "2022-03-04T10:35:26.591Z"
   },
   {
    "duration": 4,
    "start_time": "2022-03-04T10:35:26.603Z"
   },
   {
    "duration": 66,
    "start_time": "2022-03-04T10:35:26.609Z"
   },
   {
    "duration": 24,
    "start_time": "2022-03-04T10:35:26.677Z"
   },
   {
    "duration": 20,
    "start_time": "2022-03-04T10:35:26.703Z"
   },
   {
    "duration": 260,
    "start_time": "2022-03-04T10:35:26.725Z"
   },
   {
    "duration": -1499,
    "start_time": "2022-03-04T10:35:28.487Z"
   },
   {
    "duration": -1499,
    "start_time": "2022-03-04T10:35:28.490Z"
   },
   {
    "duration": -1500,
    "start_time": "2022-03-04T10:35:28.493Z"
   },
   {
    "duration": -1500,
    "start_time": "2022-03-04T10:35:28.496Z"
   },
   {
    "duration": -1500,
    "start_time": "2022-03-04T10:35:28.498Z"
   },
   {
    "duration": -1501,
    "start_time": "2022-03-04T10:35:28.501Z"
   },
   {
    "duration": -1517,
    "start_time": "2022-03-04T10:35:28.520Z"
   },
   {
    "duration": -1519,
    "start_time": "2022-03-04T10:35:28.524Z"
   },
   {
    "duration": 32,
    "start_time": "2022-03-04T10:35:35.925Z"
   },
   {
    "duration": 6,
    "start_time": "2022-03-04T10:35:42.002Z"
   },
   {
    "duration": 548,
    "start_time": "2022-03-04T10:35:42.011Z"
   },
   {
    "duration": 18,
    "start_time": "2022-03-04T10:35:42.562Z"
   },
   {
    "duration": 13,
    "start_time": "2022-03-04T10:35:42.583Z"
   },
   {
    "duration": 11,
    "start_time": "2022-03-04T10:35:42.598Z"
   },
   {
    "duration": 42,
    "start_time": "2022-03-04T10:35:42.611Z"
   },
   {
    "duration": 12,
    "start_time": "2022-03-04T10:35:42.655Z"
   },
   {
    "duration": 17,
    "start_time": "2022-03-04T10:35:42.671Z"
   },
   {
    "duration": 103,
    "start_time": "2022-03-04T10:35:42.690Z"
   },
   {
    "duration": 81,
    "start_time": "2022-03-04T10:35:42.795Z"
   },
   {
    "duration": 51,
    "start_time": "2022-03-04T10:35:42.878Z"
   },
   {
    "duration": 58,
    "start_time": "2022-03-04T10:35:42.931Z"
   },
   {
    "duration": 9,
    "start_time": "2022-03-04T10:35:42.991Z"
   },
   {
    "duration": 7,
    "start_time": "2022-03-04T10:35:43.003Z"
   },
   {
    "duration": 64,
    "start_time": "2022-03-04T10:35:43.012Z"
   },
   {
    "duration": 20,
    "start_time": "2022-03-04T10:35:43.079Z"
   },
   {
    "duration": 21,
    "start_time": "2022-03-04T10:35:43.102Z"
   },
   {
    "duration": 62,
    "start_time": "2022-03-04T10:35:43.126Z"
   },
   {
    "duration": 10,
    "start_time": "2022-03-04T10:35:43.192Z"
   },
   {
    "duration": 72,
    "start_time": "2022-03-04T10:35:43.206Z"
   },
   {
    "duration": 8,
    "start_time": "2022-03-04T10:35:43.281Z"
   },
   {
    "duration": 36,
    "start_time": "2022-03-04T10:35:43.291Z"
   },
   {
    "duration": 9,
    "start_time": "2022-03-04T10:35:43.351Z"
   },
   {
    "duration": 8,
    "start_time": "2022-03-04T10:35:43.363Z"
   },
   {
    "duration": 9,
    "start_time": "2022-03-04T10:35:43.373Z"
   },
   {
    "duration": 67,
    "start_time": "2022-03-04T10:35:43.384Z"
   },
   {
    "duration": 447,
    "start_time": "2022-03-04T10:40:13.015Z"
   },
   {
    "duration": 251,
    "start_time": "2022-03-04T10:40:30.941Z"
   },
   {
    "duration": 282,
    "start_time": "2022-03-04T11:03:12.474Z"
   },
   {
    "duration": 380,
    "start_time": "2022-03-04T11:05:23.566Z"
   },
   {
    "duration": 1418,
    "start_time": "2022-03-04T11:09:56.159Z"
   },
   {
    "duration": 474,
    "start_time": "2022-03-04T11:09:57.579Z"
   },
   {
    "duration": 22,
    "start_time": "2022-03-04T11:09:58.056Z"
   },
   {
    "duration": 13,
    "start_time": "2022-03-04T11:09:58.081Z"
   },
   {
    "duration": 10,
    "start_time": "2022-03-04T11:09:58.096Z"
   },
   {
    "duration": 49,
    "start_time": "2022-03-04T11:09:58.109Z"
   },
   {
    "duration": 21,
    "start_time": "2022-03-04T11:09:58.161Z"
   },
   {
    "duration": 16,
    "start_time": "2022-03-04T11:09:58.187Z"
   },
   {
    "duration": 90,
    "start_time": "2022-03-04T11:09:58.206Z"
   },
   {
    "duration": 83,
    "start_time": "2022-03-04T11:09:58.299Z"
   },
   {
    "duration": 51,
    "start_time": "2022-03-04T11:09:58.385Z"
   },
   {
    "duration": 44,
    "start_time": "2022-03-04T11:09:58.452Z"
   },
   {
    "duration": 10,
    "start_time": "2022-03-04T11:09:58.499Z"
   },
   {
    "duration": 6,
    "start_time": "2022-03-04T11:09:58.512Z"
   },
   {
    "duration": 42,
    "start_time": "2022-03-04T11:09:58.552Z"
   },
   {
    "duration": 30,
    "start_time": "2022-03-04T11:09:58.596Z"
   },
   {
    "duration": 40,
    "start_time": "2022-03-04T11:09:58.628Z"
   },
   {
    "duration": 35,
    "start_time": "2022-03-04T11:09:58.670Z"
   },
   {
    "duration": 7,
    "start_time": "2022-03-04T11:09:58.707Z"
   },
   {
    "duration": 64,
    "start_time": "2022-03-04T11:09:58.717Z"
   },
   {
    "duration": 8,
    "start_time": "2022-03-04T11:09:58.783Z"
   },
   {
    "duration": 29,
    "start_time": "2022-03-04T11:09:58.793Z"
   },
   {
    "duration": 8,
    "start_time": "2022-03-04T11:09:58.854Z"
   },
   {
    "duration": 410,
    "start_time": "2022-03-04T11:09:58.865Z"
   },
   {
    "duration": -1502,
    "start_time": "2022-03-04T11:10:00.780Z"
   },
   {
    "duration": 98,
    "start_time": "2022-03-04T11:19:40.806Z"
   },
   {
    "duration": 10,
    "start_time": "2022-03-04T11:19:56.526Z"
   },
   {
    "duration": 239,
    "start_time": "2022-03-04T11:20:08.742Z"
   },
   {
    "duration": 7,
    "start_time": "2022-03-04T11:20:19.020Z"
   },
   {
    "duration": 1570,
    "start_time": "2022-03-04T11:20:47.328Z"
   },
   {
    "duration": 577,
    "start_time": "2022-03-04T11:20:48.901Z"
   },
   {
    "duration": 21,
    "start_time": "2022-03-04T11:20:49.481Z"
   },
   {
    "duration": 12,
    "start_time": "2022-03-04T11:20:49.504Z"
   },
   {
    "duration": 9,
    "start_time": "2022-03-04T11:20:49.518Z"
   },
   {
    "duration": 22,
    "start_time": "2022-03-04T11:20:49.530Z"
   },
   {
    "duration": 10,
    "start_time": "2022-03-04T11:20:49.555Z"
   },
   {
    "duration": 16,
    "start_time": "2022-03-04T11:20:49.569Z"
   },
   {
    "duration": 114,
    "start_time": "2022-03-04T11:20:49.588Z"
   },
   {
    "duration": 89,
    "start_time": "2022-03-04T11:20:49.705Z"
   },
   {
    "duration": 60,
    "start_time": "2022-03-04T11:20:49.797Z"
   },
   {
    "duration": 44,
    "start_time": "2022-03-04T11:20:49.860Z"
   },
   {
    "duration": 13,
    "start_time": "2022-03-04T11:20:49.906Z"
   },
   {
    "duration": 4,
    "start_time": "2022-03-04T11:20:49.922Z"
   },
   {
    "duration": 54,
    "start_time": "2022-03-04T11:20:49.951Z"
   },
   {
    "duration": 45,
    "start_time": "2022-03-04T11:20:50.007Z"
   },
   {
    "duration": 34,
    "start_time": "2022-03-04T11:20:50.055Z"
   },
   {
    "duration": 68,
    "start_time": "2022-03-04T11:20:50.093Z"
   },
   {
    "duration": 10,
    "start_time": "2022-03-04T11:20:50.164Z"
   },
   {
    "duration": 41,
    "start_time": "2022-03-04T11:20:50.177Z"
   },
   {
    "duration": 39,
    "start_time": "2022-03-04T11:20:50.220Z"
   },
   {
    "duration": 30,
    "start_time": "2022-03-04T11:20:50.262Z"
   },
   {
    "duration": 9,
    "start_time": "2022-03-04T11:20:50.296Z"
   },
   {
    "duration": 8,
    "start_time": "2022-03-04T11:20:50.308Z"
   },
   {
    "duration": 10,
    "start_time": "2022-03-04T11:21:39.630Z"
   },
   {
    "duration": 496,
    "start_time": "2022-03-04T11:21:50.585Z"
   },
   {
    "duration": 9,
    "start_time": "2022-03-04T11:22:39.377Z"
   },
   {
    "duration": 51,
    "start_time": "2022-03-04T11:22:52.629Z"
   },
   {
    "duration": 155,
    "start_time": "2022-03-04T11:28:20.565Z"
   },
   {
    "duration": 94,
    "start_time": "2022-03-04T11:28:46.608Z"
   },
   {
    "duration": 5,
    "start_time": "2022-03-04T11:39:16.887Z"
   },
   {
    "duration": 280,
    "start_time": "2022-03-04T11:39:45.257Z"
   },
   {
    "duration": 289,
    "start_time": "2022-03-04T11:41:52.385Z"
   },
   {
    "duration": 4,
    "start_time": "2022-03-04T19:15:51.218Z"
   },
   {
    "duration": 1244,
    "start_time": "2022-03-04T19:17:28.994Z"
   },
   {
    "duration": 393,
    "start_time": "2022-03-04T19:17:30.240Z"
   },
   {
    "duration": 13,
    "start_time": "2022-03-04T19:17:30.635Z"
   },
   {
    "duration": 30,
    "start_time": "2022-03-04T19:17:30.650Z"
   },
   {
    "duration": 22,
    "start_time": "2022-03-04T19:17:30.681Z"
   },
   {
    "duration": 12,
    "start_time": "2022-03-04T19:17:30.705Z"
   },
   {
    "duration": 18,
    "start_time": "2022-03-04T19:17:30.719Z"
   },
   {
    "duration": 26,
    "start_time": "2022-03-04T19:17:30.739Z"
   },
   {
    "duration": 73,
    "start_time": "2022-03-04T19:17:30.768Z"
   },
   {
    "duration": 55,
    "start_time": "2022-03-04T19:17:30.844Z"
   },
   {
    "duration": 40,
    "start_time": "2022-03-04T19:17:30.901Z"
   },
   {
    "duration": 48,
    "start_time": "2022-03-04T19:17:30.942Z"
   },
   {
    "duration": 7,
    "start_time": "2022-03-04T19:17:30.992Z"
   },
   {
    "duration": 25,
    "start_time": "2022-03-04T19:17:31.000Z"
   },
   {
    "duration": 51,
    "start_time": "2022-03-04T19:17:31.026Z"
   },
   {
    "duration": 29,
    "start_time": "2022-03-04T19:17:31.079Z"
   },
   {
    "duration": 20,
    "start_time": "2022-03-04T19:17:31.109Z"
   },
   {
    "duration": 36,
    "start_time": "2022-03-04T19:17:31.131Z"
   },
   {
    "duration": 5,
    "start_time": "2022-03-04T19:17:31.169Z"
   },
   {
    "duration": 30,
    "start_time": "2022-03-04T19:17:31.175Z"
   },
   {
    "duration": 20,
    "start_time": "2022-03-04T19:17:31.206Z"
   },
   {
    "duration": 22,
    "start_time": "2022-03-04T19:17:31.228Z"
   },
   {
    "duration": 14,
    "start_time": "2022-03-04T19:17:31.252Z"
   },
   {
    "duration": 72,
    "start_time": "2022-03-04T19:17:31.268Z"
   },
   {
    "duration": 36,
    "start_time": "2022-03-04T19:17:31.342Z"
   },
   {
    "duration": 3,
    "start_time": "2022-03-04T19:23:23.783Z"
   },
   {
    "duration": 370,
    "start_time": "2022-03-04T19:23:23.788Z"
   },
   {
    "duration": 10,
    "start_time": "2022-03-04T19:23:24.160Z"
   },
   {
    "duration": 9,
    "start_time": "2022-03-04T19:23:24.171Z"
   },
   {
    "duration": 8,
    "start_time": "2022-03-04T19:23:24.182Z"
   },
   {
    "duration": 9,
    "start_time": "2022-03-04T19:23:24.191Z"
   },
   {
    "duration": 9,
    "start_time": "2022-03-04T19:23:24.201Z"
   },
   {
    "duration": 12,
    "start_time": "2022-03-04T19:23:24.213Z"
   },
   {
    "duration": 76,
    "start_time": "2022-03-04T19:23:24.227Z"
   },
   {
    "duration": 47,
    "start_time": "2022-03-04T19:23:24.304Z"
   },
   {
    "duration": 35,
    "start_time": "2022-03-04T19:23:24.363Z"
   },
   {
    "duration": 31,
    "start_time": "2022-03-04T19:23:24.400Z"
   },
   {
    "duration": 7,
    "start_time": "2022-03-04T19:23:24.432Z"
   },
   {
    "duration": 22,
    "start_time": "2022-03-04T19:23:24.441Z"
   },
   {
    "duration": 32,
    "start_time": "2022-03-04T19:23:24.465Z"
   },
   {
    "duration": 15,
    "start_time": "2022-03-04T19:23:24.499Z"
   },
   {
    "duration": 20,
    "start_time": "2022-03-04T19:23:24.516Z"
   },
   {
    "duration": 29,
    "start_time": "2022-03-04T19:23:24.538Z"
   },
   {
    "duration": 25,
    "start_time": "2022-03-04T19:23:24.569Z"
   },
   {
    "duration": 7,
    "start_time": "2022-03-04T19:23:24.596Z"
   },
   {
    "duration": 20,
    "start_time": "2022-03-04T19:23:24.605Z"
   },
   {
    "duration": 40,
    "start_time": "2022-03-04T19:23:24.627Z"
   },
   {
    "duration": 68,
    "start_time": "2022-03-04T19:23:24.671Z"
   },
   {
    "duration": 47,
    "start_time": "2022-03-04T19:23:24.741Z"
   },
   {
    "duration": 12,
    "start_time": "2022-03-04T19:29:56.491Z"
   },
   {
    "duration": 3,
    "start_time": "2022-03-04T19:30:14.004Z"
   },
   {
    "duration": 367,
    "start_time": "2022-03-04T19:30:14.009Z"
   },
   {
    "duration": 10,
    "start_time": "2022-03-04T19:30:14.379Z"
   },
   {
    "duration": 11,
    "start_time": "2022-03-04T19:30:14.391Z"
   },
   {
    "duration": 10,
    "start_time": "2022-03-04T19:30:14.404Z"
   },
   {
    "duration": 10,
    "start_time": "2022-03-04T19:30:14.416Z"
   },
   {
    "duration": 10,
    "start_time": "2022-03-04T19:30:14.427Z"
   },
   {
    "duration": 11,
    "start_time": "2022-03-04T19:30:14.438Z"
   },
   {
    "duration": 59,
    "start_time": "2022-03-04T19:30:14.452Z"
   },
   {
    "duration": 58,
    "start_time": "2022-03-04T19:30:14.513Z"
   },
   {
    "duration": 35,
    "start_time": "2022-03-04T19:30:14.573Z"
   },
   {
    "duration": 29,
    "start_time": "2022-03-04T19:30:14.610Z"
   },
   {
    "duration": 23,
    "start_time": "2022-03-04T19:30:14.640Z"
   },
   {
    "duration": 6,
    "start_time": "2022-03-04T19:30:14.664Z"
   },
   {
    "duration": 33,
    "start_time": "2022-03-04T19:30:14.672Z"
   },
   {
    "duration": 17,
    "start_time": "2022-03-04T19:30:14.706Z"
   },
   {
    "duration": 38,
    "start_time": "2022-03-04T19:30:14.725Z"
   },
   {
    "duration": 5,
    "start_time": "2022-03-04T19:30:14.765Z"
   },
   {
    "duration": 333,
    "start_time": "2022-03-04T19:30:14.772Z"
   },
   {
    "duration": -1636,
    "start_time": "2022-03-04T19:30:16.743Z"
   },
   {
    "duration": -1639,
    "start_time": "2022-03-04T19:30:16.747Z"
   },
   {
    "duration": -1640,
    "start_time": "2022-03-04T19:30:16.749Z"
   },
   {
    "duration": -1642,
    "start_time": "2022-03-04T19:30:16.752Z"
   },
   {
    "duration": -1643,
    "start_time": "2022-03-04T19:30:16.754Z"
   },
   {
    "duration": 1146,
    "start_time": "2022-03-04T19:30:49.148Z"
   },
   {
    "duration": 366,
    "start_time": "2022-03-04T19:30:50.296Z"
   },
   {
    "duration": 15,
    "start_time": "2022-03-04T19:30:50.665Z"
   },
   {
    "duration": 9,
    "start_time": "2022-03-04T19:30:50.682Z"
   },
   {
    "duration": 8,
    "start_time": "2022-03-04T19:30:50.693Z"
   },
   {
    "duration": 9,
    "start_time": "2022-03-04T19:30:50.702Z"
   },
   {
    "duration": 9,
    "start_time": "2022-03-04T19:30:50.713Z"
   },
   {
    "duration": 40,
    "start_time": "2022-03-04T19:30:50.724Z"
   },
   {
    "duration": 48,
    "start_time": "2022-03-04T19:30:50.767Z"
   },
   {
    "duration": 69,
    "start_time": "2022-03-04T19:30:50.817Z"
   },
   {
    "duration": 38,
    "start_time": "2022-03-04T19:30:50.888Z"
   },
   {
    "duration": 43,
    "start_time": "2022-03-04T19:30:50.928Z"
   },
   {
    "duration": 6,
    "start_time": "2022-03-04T19:30:50.973Z"
   },
   {
    "duration": 8,
    "start_time": "2022-03-04T19:30:50.980Z"
   },
   {
    "duration": 36,
    "start_time": "2022-03-04T19:30:50.990Z"
   },
   {
    "duration": 18,
    "start_time": "2022-03-04T19:30:51.028Z"
   },
   {
    "duration": 317,
    "start_time": "2022-03-04T19:30:51.048Z"
   },
   {
    "duration": -1642,
    "start_time": "2022-03-04T19:30:53.009Z"
   },
   {
    "duration": -1647,
    "start_time": "2022-03-04T19:30:53.015Z"
   },
   {
    "duration": -1649,
    "start_time": "2022-03-04T19:30:53.018Z"
   },
   {
    "duration": -1650,
    "start_time": "2022-03-04T19:30:53.021Z"
   },
   {
    "duration": -1653,
    "start_time": "2022-03-04T19:30:53.024Z"
   },
   {
    "duration": -1654,
    "start_time": "2022-03-04T19:30:53.027Z"
   },
   {
    "duration": -1657,
    "start_time": "2022-03-04T19:30:53.031Z"
   },
   {
    "duration": 1135,
    "start_time": "2022-03-04T19:32:04.644Z"
   },
   {
    "duration": 372,
    "start_time": "2022-03-04T19:32:05.781Z"
   },
   {
    "duration": 15,
    "start_time": "2022-03-04T19:32:06.156Z"
   },
   {
    "duration": 9,
    "start_time": "2022-03-04T19:32:06.173Z"
   },
   {
    "duration": 18,
    "start_time": "2022-03-04T19:32:06.184Z"
   },
   {
    "duration": 13,
    "start_time": "2022-03-04T19:32:06.204Z"
   },
   {
    "duration": 9,
    "start_time": "2022-03-04T19:32:06.225Z"
   },
   {
    "duration": 13,
    "start_time": "2022-03-04T19:32:06.236Z"
   },
   {
    "duration": 50,
    "start_time": "2022-03-04T19:32:06.251Z"
   },
   {
    "duration": 64,
    "start_time": "2022-03-04T19:32:06.303Z"
   },
   {
    "duration": 38,
    "start_time": "2022-03-04T19:32:06.368Z"
   },
   {
    "duration": 31,
    "start_time": "2022-03-04T19:32:06.407Z"
   },
   {
    "duration": 7,
    "start_time": "2022-03-04T19:32:06.440Z"
   },
   {
    "duration": 17,
    "start_time": "2022-03-04T19:32:06.448Z"
   },
   {
    "duration": 36,
    "start_time": "2022-03-04T19:32:06.466Z"
   },
   {
    "duration": 19,
    "start_time": "2022-03-04T19:32:06.504Z"
   },
   {
    "duration": 122,
    "start_time": "2022-03-04T19:32:06.525Z"
   },
   {
    "duration": 49,
    "start_time": "2022-03-04T19:32:06.649Z"
   },
   {
    "duration": 403,
    "start_time": "2022-03-04T19:32:06.699Z"
   },
   {
    "duration": -1648,
    "start_time": "2022-03-04T19:32:08.751Z"
   },
   {
    "duration": -1650,
    "start_time": "2022-03-04T19:32:08.754Z"
   },
   {
    "duration": -1651,
    "start_time": "2022-03-04T19:32:08.756Z"
   },
   {
    "duration": -1652,
    "start_time": "2022-03-04T19:32:08.758Z"
   },
   {
    "duration": -1652,
    "start_time": "2022-03-04T19:32:08.759Z"
   },
   {
    "duration": 219,
    "start_time": "2022-03-04T19:32:26.009Z"
   },
   {
    "duration": 1070,
    "start_time": "2022-03-04T19:33:41.323Z"
   },
   {
    "duration": 357,
    "start_time": "2022-03-04T19:33:42.395Z"
   },
   {
    "duration": 13,
    "start_time": "2022-03-04T19:33:42.754Z"
   },
   {
    "duration": 8,
    "start_time": "2022-03-04T19:33:42.769Z"
   },
   {
    "duration": 8,
    "start_time": "2022-03-04T19:33:42.779Z"
   },
   {
    "duration": 8,
    "start_time": "2022-03-04T19:33:42.789Z"
   },
   {
    "duration": 11,
    "start_time": "2022-03-04T19:33:42.799Z"
   },
   {
    "duration": 11,
    "start_time": "2022-03-04T19:33:42.812Z"
   },
   {
    "duration": 73,
    "start_time": "2022-03-04T19:33:42.825Z"
   },
   {
    "duration": 50,
    "start_time": "2022-03-04T19:33:42.900Z"
   },
   {
    "duration": 44,
    "start_time": "2022-03-04T19:33:42.952Z"
   },
   {
    "duration": 30,
    "start_time": "2022-03-04T19:33:42.997Z"
   },
   {
    "duration": 6,
    "start_time": "2022-03-04T19:33:43.028Z"
   },
   {
    "duration": 7,
    "start_time": "2022-03-04T19:33:43.035Z"
   },
   {
    "duration": 32,
    "start_time": "2022-03-04T19:33:43.062Z"
   },
   {
    "duration": 17,
    "start_time": "2022-03-04T19:33:43.096Z"
   },
   {
    "duration": 113,
    "start_time": "2022-03-04T19:33:43.114Z"
   },
   {
    "duration": 49,
    "start_time": "2022-03-04T19:33:43.229Z"
   },
   {
    "duration": 30,
    "start_time": "2022-03-04T19:33:43.280Z"
   },
   {
    "duration": 2086,
    "start_time": "2022-03-04T19:33:43.312Z"
   },
   {
    "duration": 42,
    "start_time": "2022-03-04T19:33:45.401Z"
   },
   {
    "duration": 2338,
    "start_time": "2022-03-04T19:33:45.445Z"
   },
   {
    "duration": 101,
    "start_time": "2022-03-04T19:33:47.785Z"
   },
   {
    "duration": 1070,
    "start_time": "2022-03-04T19:40:45.710Z"
   },
   {
    "duration": 373,
    "start_time": "2022-03-04T19:40:46.782Z"
   },
   {
    "duration": 14,
    "start_time": "2022-03-04T19:40:47.156Z"
   },
   {
    "duration": 9,
    "start_time": "2022-03-04T19:40:47.172Z"
   },
   {
    "duration": 10,
    "start_time": "2022-03-04T19:40:47.183Z"
   },
   {
    "duration": 9,
    "start_time": "2022-03-04T19:40:47.195Z"
   },
   {
    "duration": 10,
    "start_time": "2022-03-04T19:40:47.206Z"
   },
   {
    "duration": 16,
    "start_time": "2022-03-04T19:40:47.217Z"
   },
   {
    "duration": 75,
    "start_time": "2022-03-04T19:40:47.236Z"
   },
   {
    "duration": 65,
    "start_time": "2022-03-04T19:40:47.312Z"
   },
   {
    "duration": 36,
    "start_time": "2022-03-04T19:40:47.379Z"
   },
   {
    "duration": 31,
    "start_time": "2022-03-04T19:40:47.417Z"
   },
   {
    "duration": 14,
    "start_time": "2022-03-04T19:40:47.450Z"
   },
   {
    "duration": 8,
    "start_time": "2022-03-04T19:40:47.466Z"
   },
   {
    "duration": 35,
    "start_time": "2022-03-04T19:40:47.475Z"
   },
   {
    "duration": 19,
    "start_time": "2022-03-04T19:40:47.512Z"
   },
   {
    "duration": 33,
    "start_time": "2022-03-04T19:40:47.533Z"
   },
   {
    "duration": 20,
    "start_time": "2022-03-04T19:40:47.568Z"
   },
   {
    "duration": 5,
    "start_time": "2022-03-04T19:40:47.590Z"
   },
   {
    "duration": 8,
    "start_time": "2022-03-04T19:40:47.596Z"
   },
   {
    "duration": 20,
    "start_time": "2022-03-04T19:40:47.606Z"
   },
   {
    "duration": 8,
    "start_time": "2022-03-04T19:40:47.627Z"
   },
   {
    "duration": 89,
    "start_time": "2022-03-04T19:40:47.636Z"
   },
   {
    "duration": 38,
    "start_time": "2022-03-04T19:40:47.726Z"
   },
   {
    "duration": 8,
    "start_time": "2022-03-04T19:41:58.646Z"
   },
   {
    "duration": 1098,
    "start_time": "2022-03-04T19:45:10.493Z"
   },
   {
    "duration": 372,
    "start_time": "2022-03-04T19:45:11.593Z"
   },
   {
    "duration": 14,
    "start_time": "2022-03-04T19:45:11.968Z"
   },
   {
    "duration": 13,
    "start_time": "2022-03-04T19:45:11.984Z"
   },
   {
    "duration": 7,
    "start_time": "2022-03-04T19:45:12.000Z"
   },
   {
    "duration": 10,
    "start_time": "2022-03-04T19:45:12.008Z"
   },
   {
    "duration": 8,
    "start_time": "2022-03-04T19:45:12.019Z"
   },
   {
    "duration": 40,
    "start_time": "2022-03-04T19:45:12.029Z"
   },
   {
    "duration": 50,
    "start_time": "2022-03-04T19:45:12.072Z"
   },
   {
    "duration": 84,
    "start_time": "2022-03-04T19:45:12.124Z"
   },
   {
    "duration": 39,
    "start_time": "2022-03-04T19:45:12.210Z"
   },
   {
    "duration": 48,
    "start_time": "2022-03-04T19:45:12.251Z"
   },
   {
    "duration": 6,
    "start_time": "2022-03-04T19:45:12.301Z"
   },
   {
    "duration": 8,
    "start_time": "2022-03-04T19:45:12.309Z"
   },
   {
    "duration": 56,
    "start_time": "2022-03-04T19:45:12.318Z"
   },
   {
    "duration": 24,
    "start_time": "2022-03-04T19:45:12.377Z"
   },
   {
    "duration": 23,
    "start_time": "2022-03-04T19:45:12.403Z"
   },
   {
    "duration": 43,
    "start_time": "2022-03-04T19:45:12.428Z"
   },
   {
    "duration": 314,
    "start_time": "2022-03-04T19:45:12.473Z"
   },
   {
    "duration": -1644,
    "start_time": "2022-03-04T19:45:14.433Z"
   },
   {
    "duration": -1647,
    "start_time": "2022-03-04T19:45:14.437Z"
   },
   {
    "duration": -1647,
    "start_time": "2022-03-04T19:45:14.438Z"
   },
   {
    "duration": -1648,
    "start_time": "2022-03-04T19:45:14.440Z"
   },
   {
    "duration": -1649,
    "start_time": "2022-03-04T19:45:14.442Z"
   },
   {
    "duration": 234,
    "start_time": "2022-03-04T19:46:01.951Z"
   },
   {
    "duration": 230,
    "start_time": "2022-03-04T19:46:30.666Z"
   },
   {
    "duration": 1147,
    "start_time": "2022-03-04T19:46:45.836Z"
   },
   {
    "duration": 363,
    "start_time": "2022-03-04T19:46:46.985Z"
   },
   {
    "duration": 13,
    "start_time": "2022-03-04T19:46:47.351Z"
   },
   {
    "duration": 9,
    "start_time": "2022-03-04T19:46:47.365Z"
   },
   {
    "duration": 11,
    "start_time": "2022-03-04T19:46:47.376Z"
   },
   {
    "duration": 13,
    "start_time": "2022-03-04T19:46:47.389Z"
   },
   {
    "duration": 15,
    "start_time": "2022-03-04T19:46:47.404Z"
   },
   {
    "duration": 12,
    "start_time": "2022-03-04T19:46:47.421Z"
   },
   {
    "duration": 65,
    "start_time": "2022-03-04T19:46:47.435Z"
   },
   {
    "duration": 61,
    "start_time": "2022-03-04T19:46:47.502Z"
   },
   {
    "duration": 41,
    "start_time": "2022-03-04T19:46:47.564Z"
   },
   {
    "duration": 30,
    "start_time": "2022-03-04T19:46:47.607Z"
   },
   {
    "duration": 6,
    "start_time": "2022-03-04T19:46:47.638Z"
   },
   {
    "duration": 18,
    "start_time": "2022-03-04T19:46:47.647Z"
   },
   {
    "duration": 43,
    "start_time": "2022-03-04T19:46:47.667Z"
   },
   {
    "duration": 20,
    "start_time": "2022-03-04T19:46:47.711Z"
   },
   {
    "duration": 32,
    "start_time": "2022-03-04T19:46:47.732Z"
   },
   {
    "duration": 23,
    "start_time": "2022-03-04T19:46:47.765Z"
   },
   {
    "duration": 313,
    "start_time": "2022-03-04T19:46:47.790Z"
   },
   {
    "duration": -1665,
    "start_time": "2022-03-04T19:46:49.770Z"
   },
   {
    "duration": -1667,
    "start_time": "2022-03-04T19:46:49.773Z"
   },
   {
    "duration": -1667,
    "start_time": "2022-03-04T19:46:49.774Z"
   },
   {
    "duration": -1668,
    "start_time": "2022-03-04T19:46:49.776Z"
   },
   {
    "duration": -1668,
    "start_time": "2022-03-04T19:46:49.777Z"
   },
   {
    "duration": 1077,
    "start_time": "2022-03-04T19:47:19.418Z"
   },
   {
    "duration": 371,
    "start_time": "2022-03-04T19:47:20.498Z"
   },
   {
    "duration": 14,
    "start_time": "2022-03-04T19:47:20.873Z"
   },
   {
    "duration": 8,
    "start_time": "2022-03-04T19:47:20.889Z"
   },
   {
    "duration": 9,
    "start_time": "2022-03-04T19:47:20.899Z"
   },
   {
    "duration": 10,
    "start_time": "2022-03-04T19:47:20.909Z"
   },
   {
    "duration": 8,
    "start_time": "2022-03-04T19:47:20.922Z"
   },
   {
    "duration": 10,
    "start_time": "2022-03-04T19:47:20.964Z"
   },
   {
    "duration": 55,
    "start_time": "2022-03-04T19:47:20.976Z"
   },
   {
    "duration": 76,
    "start_time": "2022-03-04T19:47:21.033Z"
   },
   {
    "duration": 39,
    "start_time": "2022-03-04T19:47:21.111Z"
   },
   {
    "duration": 42,
    "start_time": "2022-03-04T19:47:21.152Z"
   },
   {
    "duration": 7,
    "start_time": "2022-03-04T19:47:21.196Z"
   },
   {
    "duration": 11,
    "start_time": "2022-03-04T19:47:21.205Z"
   },
   {
    "duration": 66,
    "start_time": "2022-03-04T19:47:21.217Z"
   },
   {
    "duration": 20,
    "start_time": "2022-03-04T19:47:21.285Z"
   },
   {
    "duration": 20,
    "start_time": "2022-03-04T19:47:21.307Z"
   },
   {
    "duration": 35,
    "start_time": "2022-03-04T19:47:21.329Z"
   },
   {
    "duration": 329,
    "start_time": "2022-03-04T19:47:21.365Z"
   },
   {
    "duration": -1645,
    "start_time": "2022-03-04T19:47:23.342Z"
   },
   {
    "duration": -1647,
    "start_time": "2022-03-04T19:47:23.345Z"
   },
   {
    "duration": -1648,
    "start_time": "2022-03-04T19:47:23.347Z"
   },
   {
    "duration": -1649,
    "start_time": "2022-03-04T19:47:23.349Z"
   },
   {
    "duration": -1649,
    "start_time": "2022-03-04T19:47:23.351Z"
   },
   {
    "duration": 1124,
    "start_time": "2022-03-04T19:48:39.568Z"
   },
   {
    "duration": 385,
    "start_time": "2022-03-04T19:48:40.694Z"
   },
   {
    "duration": 14,
    "start_time": "2022-03-04T19:48:41.081Z"
   },
   {
    "duration": 9,
    "start_time": "2022-03-04T19:48:41.096Z"
   },
   {
    "duration": 7,
    "start_time": "2022-03-04T19:48:41.107Z"
   },
   {
    "duration": 12,
    "start_time": "2022-03-04T19:48:41.116Z"
   },
   {
    "duration": 8,
    "start_time": "2022-03-04T19:48:41.129Z"
   },
   {
    "duration": 10,
    "start_time": "2022-03-04T19:48:41.139Z"
   },
   {
    "duration": 60,
    "start_time": "2022-03-04T19:48:41.151Z"
   },
   {
    "duration": 67,
    "start_time": "2022-03-04T19:48:41.213Z"
   },
   {
    "duration": 37,
    "start_time": "2022-03-04T19:48:41.282Z"
   },
   {
    "duration": 43,
    "start_time": "2022-03-04T19:48:41.320Z"
   },
   {
    "duration": 6,
    "start_time": "2022-03-04T19:48:41.364Z"
   },
   {
    "duration": 9,
    "start_time": "2022-03-04T19:48:41.372Z"
   },
   {
    "duration": 35,
    "start_time": "2022-03-04T19:48:41.382Z"
   },
   {
    "duration": 19,
    "start_time": "2022-03-04T19:48:41.418Z"
   },
   {
    "duration": 28,
    "start_time": "2022-03-04T19:48:41.439Z"
   },
   {
    "duration": 20,
    "start_time": "2022-03-04T19:48:41.468Z"
   },
   {
    "duration": 300,
    "start_time": "2022-03-04T19:48:41.489Z"
   },
   {
    "duration": -1649,
    "start_time": "2022-03-04T19:48:43.440Z"
   },
   {
    "duration": -1652,
    "start_time": "2022-03-04T19:48:43.444Z"
   },
   {
    "duration": -1654,
    "start_time": "2022-03-04T19:48:43.446Z"
   },
   {
    "duration": -1654,
    "start_time": "2022-03-04T19:48:43.448Z"
   },
   {
    "duration": -1654,
    "start_time": "2022-03-04T19:48:43.449Z"
   },
   {
    "duration": 208,
    "start_time": "2022-03-04T19:51:09.171Z"
   },
   {
    "duration": 204,
    "start_time": "2022-03-04T19:51:25.179Z"
   },
   {
    "duration": 401,
    "start_time": "2022-03-09T08:48:18.733Z"
   },
   {
    "duration": 1028,
    "start_time": "2022-03-09T08:48:27.453Z"
   },
   {
    "duration": 370,
    "start_time": "2022-03-09T08:48:28.483Z"
   },
   {
    "duration": 12,
    "start_time": "2022-03-09T08:48:28.857Z"
   },
   {
    "duration": 15,
    "start_time": "2022-03-09T08:48:28.870Z"
   },
   {
    "duration": 10,
    "start_time": "2022-03-09T08:48:28.886Z"
   },
   {
    "duration": 14,
    "start_time": "2022-03-09T08:48:28.898Z"
   },
   {
    "duration": 16,
    "start_time": "2022-03-09T08:48:28.914Z"
   },
   {
    "duration": 14,
    "start_time": "2022-03-09T08:48:28.931Z"
   },
   {
    "duration": 52,
    "start_time": "2022-03-09T08:48:28.946Z"
   },
   {
    "duration": 47,
    "start_time": "2022-03-09T08:48:29.000Z"
   },
   {
    "duration": 33,
    "start_time": "2022-03-09T08:48:29.049Z"
   },
   {
    "duration": 35,
    "start_time": "2022-03-09T08:48:29.084Z"
   },
   {
    "duration": 5,
    "start_time": "2022-03-09T08:48:29.121Z"
   },
   {
    "duration": 6,
    "start_time": "2022-03-09T08:48:29.127Z"
   },
   {
    "duration": 35,
    "start_time": "2022-03-09T08:48:29.134Z"
   },
   {
    "duration": 18,
    "start_time": "2022-03-09T08:48:29.170Z"
   },
   {
    "duration": 26,
    "start_time": "2022-03-09T08:48:29.189Z"
   },
   {
    "duration": 20,
    "start_time": "2022-03-09T08:48:29.216Z"
   },
   {
    "duration": 396,
    "start_time": "2022-03-09T08:48:29.237Z"
   },
   {
    "duration": -1312,
    "start_time": "2022-03-09T08:48:30.947Z"
   },
   {
    "duration": -1315,
    "start_time": "2022-03-09T08:48:30.951Z"
   },
   {
    "duration": -1318,
    "start_time": "2022-03-09T08:48:30.954Z"
   },
   {
    "duration": -1320,
    "start_time": "2022-03-09T08:48:30.957Z"
   },
   {
    "duration": -1322,
    "start_time": "2022-03-09T08:48:30.960Z"
   },
   {
    "duration": 3,
    "start_time": "2022-03-09T08:48:44.336Z"
   },
   {
    "duration": 6,
    "start_time": "2022-03-09T08:48:46.253Z"
   },
   {
    "duration": 19,
    "start_time": "2022-03-09T08:48:49.999Z"
   },
   {
    "duration": 6,
    "start_time": "2022-03-09T08:48:54.676Z"
   },
   {
    "duration": 214,
    "start_time": "2022-03-09T08:49:06.276Z"
   },
   {
    "duration": 8,
    "start_time": "2022-03-09T08:49:08.947Z"
   },
   {
    "duration": 19,
    "start_time": "2022-03-09T08:49:23.487Z"
   },
   {
    "duration": 185,
    "start_time": "2022-03-09T08:49:41.121Z"
   },
   {
    "duration": 10,
    "start_time": "2022-03-09T08:49:43.803Z"
   },
   {
    "duration": 21,
    "start_time": "2022-03-09T08:49:46.819Z"
   },
   {
    "duration": 3,
    "start_time": "2022-03-09T09:15:31.376Z"
   },
   {
    "duration": 6,
    "start_time": "2022-03-09T09:15:34.138Z"
   },
   {
    "duration": 557,
    "start_time": "2022-03-09T09:15:55.389Z"
   },
   {
    "duration": 27,
    "start_time": "2022-03-09T09:18:35.636Z"
   },
   {
    "duration": 1036,
    "start_time": "2022-03-09T09:18:44.536Z"
   },
   {
    "duration": 366,
    "start_time": "2022-03-09T09:18:45.573Z"
   },
   {
    "duration": 12,
    "start_time": "2022-03-09T09:18:45.940Z"
   },
   {
    "duration": 9,
    "start_time": "2022-03-09T09:18:45.954Z"
   },
   {
    "duration": 11,
    "start_time": "2022-03-09T09:18:45.964Z"
   },
   {
    "duration": 10,
    "start_time": "2022-03-09T09:18:45.976Z"
   },
   {
    "duration": 8,
    "start_time": "2022-03-09T09:18:45.987Z"
   },
   {
    "duration": 11,
    "start_time": "2022-03-09T09:18:45.997Z"
   },
   {
    "duration": 45,
    "start_time": "2022-03-09T09:18:46.010Z"
   },
   {
    "duration": 52,
    "start_time": "2022-03-09T09:18:46.057Z"
   },
   {
    "duration": 34,
    "start_time": "2022-03-09T09:18:46.110Z"
   },
   {
    "duration": 28,
    "start_time": "2022-03-09T09:18:46.146Z"
   },
   {
    "duration": 6,
    "start_time": "2022-03-09T09:18:46.175Z"
   },
   {
    "duration": 23,
    "start_time": "2022-03-09T09:18:46.182Z"
   },
   {
    "duration": 34,
    "start_time": "2022-03-09T09:18:46.206Z"
   },
   {
    "duration": 17,
    "start_time": "2022-03-09T09:18:46.241Z"
   },
   {
    "duration": 15,
    "start_time": "2022-03-09T09:18:46.259Z"
   },
   {
    "duration": 37,
    "start_time": "2022-03-09T09:18:46.275Z"
   },
   {
    "duration": 6,
    "start_time": "2022-03-09T09:18:46.313Z"
   },
   {
    "duration": 10,
    "start_time": "2022-03-09T09:18:46.320Z"
   },
   {
    "duration": 18,
    "start_time": "2022-03-09T09:18:46.332Z"
   },
   {
    "duration": 6,
    "start_time": "2022-03-09T09:18:46.351Z"
   },
   {
    "duration": 620,
    "start_time": "2022-03-09T09:18:46.359Z"
   },
   {
    "duration": -1391,
    "start_time": "2022-03-09T09:18:48.372Z"
   },
   {
    "duration": -1399,
    "start_time": "2022-03-09T09:18:48.381Z"
   },
   {
    "duration": 8,
    "start_time": "2022-03-09T09:19:33.824Z"
   },
   {
    "duration": 637,
    "start_time": "2022-03-09T09:20:12.405Z"
   },
   {
    "duration": 1351,
    "start_time": "2022-03-09T10:54:55.131Z"
   },
   {
    "duration": 415,
    "start_time": "2022-03-09T10:54:56.484Z"
   },
   {
    "duration": 12,
    "start_time": "2022-03-09T10:54:56.901Z"
   },
   {
    "duration": 8,
    "start_time": "2022-03-09T10:54:56.914Z"
   },
   {
    "duration": 7,
    "start_time": "2022-03-09T10:54:56.924Z"
   },
   {
    "duration": 9,
    "start_time": "2022-03-09T10:54:56.932Z"
   },
   {
    "duration": 7,
    "start_time": "2022-03-09T10:54:56.943Z"
   },
   {
    "duration": 9,
    "start_time": "2022-03-09T10:54:56.953Z"
   },
   {
    "duration": 65,
    "start_time": "2022-03-09T10:54:56.964Z"
   },
   {
    "duration": 51,
    "start_time": "2022-03-09T10:54:57.030Z"
   },
   {
    "duration": 49,
    "start_time": "2022-03-09T10:54:57.083Z"
   },
   {
    "duration": 25,
    "start_time": "2022-03-09T10:54:57.134Z"
   },
   {
    "duration": 4,
    "start_time": "2022-03-09T10:54:57.161Z"
   },
   {
    "duration": 5,
    "start_time": "2022-03-09T10:54:57.167Z"
   },
   {
    "duration": 50,
    "start_time": "2022-03-09T10:54:57.174Z"
   },
   {
    "duration": 14,
    "start_time": "2022-03-09T10:54:57.225Z"
   },
   {
    "duration": 14,
    "start_time": "2022-03-09T10:54:57.240Z"
   },
   {
    "duration": 18,
    "start_time": "2022-03-09T10:54:57.255Z"
   },
   {
    "duration": 4,
    "start_time": "2022-03-09T10:54:57.274Z"
   },
   {
    "duration": 28,
    "start_time": "2022-03-09T10:54:57.280Z"
   },
   {
    "duration": 26,
    "start_time": "2022-03-09T10:54:57.309Z"
   },
   {
    "duration": 8,
    "start_time": "2022-03-09T10:54:57.337Z"
   },
   {
    "duration": 9,
    "start_time": "2022-03-09T10:54:57.348Z"
   },
   {
    "duration": 668,
    "start_time": "2022-03-09T10:54:57.359Z"
   },
   {
    "duration": -51,
    "start_time": "2022-03-09T10:54:58.080Z"
   },
   {
    "duration": -53,
    "start_time": "2022-03-09T10:54:58.083Z"
   },
   {
    "duration": 1159,
    "start_time": "2022-03-10T09:56:23.288Z"
   },
   {
    "duration": 454,
    "start_time": "2022-03-10T09:56:24.449Z"
   },
   {
    "duration": 14,
    "start_time": "2022-03-10T09:56:24.905Z"
   },
   {
    "duration": 13,
    "start_time": "2022-03-10T09:56:24.922Z"
   },
   {
    "duration": 11,
    "start_time": "2022-03-10T09:56:24.937Z"
   },
   {
    "duration": 11,
    "start_time": "2022-03-10T09:56:24.950Z"
   },
   {
    "duration": 9,
    "start_time": "2022-03-10T09:56:24.963Z"
   },
   {
    "duration": 12,
    "start_time": "2022-03-10T09:56:24.975Z"
   },
   {
    "duration": 56,
    "start_time": "2022-03-10T09:56:24.989Z"
   },
   {
    "duration": 69,
    "start_time": "2022-03-10T09:56:25.046Z"
   },
   {
    "duration": 39,
    "start_time": "2022-03-10T09:56:25.117Z"
   },
   {
    "duration": 42,
    "start_time": "2022-03-10T09:56:25.158Z"
   },
   {
    "duration": 6,
    "start_time": "2022-03-10T09:56:25.201Z"
   },
   {
    "duration": 9,
    "start_time": "2022-03-10T09:56:25.209Z"
   },
   {
    "duration": 39,
    "start_time": "2022-03-10T09:56:25.220Z"
   },
   {
    "duration": 33,
    "start_time": "2022-03-10T09:56:25.261Z"
   },
   {
    "duration": 19,
    "start_time": "2022-03-10T09:56:25.296Z"
   },
   {
    "duration": 22,
    "start_time": "2022-03-10T09:56:25.317Z"
   },
   {
    "duration": 5,
    "start_time": "2022-03-10T09:56:25.341Z"
   },
   {
    "duration": 33,
    "start_time": "2022-03-10T09:56:25.347Z"
   },
   {
    "duration": 22,
    "start_time": "2022-03-10T09:56:25.382Z"
   },
   {
    "duration": 7,
    "start_time": "2022-03-10T09:56:25.406Z"
   },
   {
    "duration": 8,
    "start_time": "2022-03-10T09:56:25.416Z"
   },
   {
    "duration": 251,
    "start_time": "2022-03-10T09:56:25.426Z"
   },
   {
    "duration": 8,
    "start_time": "2022-03-10T09:56:25.679Z"
   },
   {
    "duration": 24,
    "start_time": "2022-03-10T09:56:25.689Z"
   },
   {
    "duration": 3,
    "start_time": "2022-03-10T10:10:31.467Z"
   },
   {
    "duration": 435,
    "start_time": "2022-03-10T10:10:31.472Z"
   },
   {
    "duration": 12,
    "start_time": "2022-03-10T10:10:31.909Z"
   },
   {
    "duration": 22,
    "start_time": "2022-03-10T10:10:31.923Z"
   },
   {
    "duration": 20,
    "start_time": "2022-03-10T10:10:31.947Z"
   },
   {
    "duration": 25,
    "start_time": "2022-03-10T10:10:31.968Z"
   },
   {
    "duration": 20,
    "start_time": "2022-03-10T10:10:31.996Z"
   },
   {
    "duration": 14,
    "start_time": "2022-03-10T10:10:32.018Z"
   },
   {
    "duration": 60,
    "start_time": "2022-03-10T10:10:32.034Z"
   },
   {
    "duration": 53,
    "start_time": "2022-03-10T10:10:32.096Z"
   },
   {
    "duration": 52,
    "start_time": "2022-03-10T10:10:32.151Z"
   },
   {
    "duration": 33,
    "start_time": "2022-03-10T10:10:32.205Z"
   },
   {
    "duration": 6,
    "start_time": "2022-03-10T10:10:32.240Z"
   },
   {
    "duration": 18,
    "start_time": "2022-03-10T10:10:32.248Z"
   },
   {
    "duration": 43,
    "start_time": "2022-03-10T10:10:32.268Z"
   },
   {
    "duration": 21,
    "start_time": "2022-03-10T10:10:32.313Z"
   },
   {
    "duration": 17,
    "start_time": "2022-03-10T10:10:32.335Z"
   },
   {
    "duration": 42,
    "start_time": "2022-03-10T10:10:32.354Z"
   },
   {
    "duration": 5,
    "start_time": "2022-03-10T10:10:32.399Z"
   },
   {
    "duration": 14,
    "start_time": "2022-03-10T10:10:32.406Z"
   },
   {
    "duration": 25,
    "start_time": "2022-03-10T10:10:32.422Z"
   },
   {
    "duration": 6,
    "start_time": "2022-03-10T10:10:32.449Z"
   },
   {
    "duration": 9,
    "start_time": "2022-03-10T10:10:32.477Z"
   },
   {
    "duration": 234,
    "start_time": "2022-03-10T10:10:32.488Z"
   },
   {
    "duration": 9,
    "start_time": "2022-03-10T10:10:32.724Z"
   },
   {
    "duration": 27,
    "start_time": "2022-03-10T10:10:32.734Z"
   },
   {
    "duration": 3,
    "start_time": "2022-03-10T10:14:44.348Z"
   },
   {
    "duration": 460,
    "start_time": "2022-03-10T10:14:44.353Z"
   },
   {
    "duration": 11,
    "start_time": "2022-03-10T10:14:44.815Z"
   },
   {
    "duration": 12,
    "start_time": "2022-03-10T10:14:44.828Z"
   },
   {
    "duration": 10,
    "start_time": "2022-03-10T10:14:44.841Z"
   },
   {
    "duration": 11,
    "start_time": "2022-03-10T10:14:44.852Z"
   },
   {
    "duration": 8,
    "start_time": "2022-03-10T10:14:44.865Z"
   },
   {
    "duration": 13,
    "start_time": "2022-03-10T10:14:44.875Z"
   },
   {
    "duration": 60,
    "start_time": "2022-03-10T10:14:44.890Z"
   },
   {
    "duration": 61,
    "start_time": "2022-03-10T10:14:44.951Z"
   },
   {
    "duration": 40,
    "start_time": "2022-03-10T10:14:45.014Z"
   },
   {
    "duration": 44,
    "start_time": "2022-03-10T10:14:45.056Z"
   },
   {
    "duration": 6,
    "start_time": "2022-03-10T10:14:45.102Z"
   },
   {
    "duration": 9,
    "start_time": "2022-03-10T10:14:45.110Z"
   },
   {
    "duration": 40,
    "start_time": "2022-03-10T10:14:45.120Z"
   },
   {
    "duration": 24,
    "start_time": "2022-03-10T10:14:45.162Z"
   },
   {
    "duration": 18,
    "start_time": "2022-03-10T10:14:45.188Z"
   },
   {
    "duration": 25,
    "start_time": "2022-03-10T10:14:45.208Z"
   },
   {
    "duration": 6,
    "start_time": "2022-03-10T10:14:45.237Z"
   },
   {
    "duration": 36,
    "start_time": "2022-03-10T10:14:45.245Z"
   },
   {
    "duration": 28,
    "start_time": "2022-03-10T10:14:45.283Z"
   },
   {
    "duration": 15,
    "start_time": "2022-03-10T10:14:45.313Z"
   },
   {
    "duration": 14,
    "start_time": "2022-03-10T10:14:45.330Z"
   },
   {
    "duration": 232,
    "start_time": "2022-03-10T10:14:45.346Z"
   },
   {
    "duration": 9,
    "start_time": "2022-03-10T10:14:45.580Z"
   },
   {
    "duration": 28,
    "start_time": "2022-03-10T10:14:45.590Z"
   },
   {
    "duration": 28,
    "start_time": "2022-03-10T10:16:00.729Z"
   },
   {
    "duration": 33,
    "start_time": "2022-03-10T10:16:14.491Z"
   },
   {
    "duration": 30,
    "start_time": "2022-03-10T10:16:39.868Z"
   },
   {
    "duration": 3,
    "start_time": "2022-03-10T10:19:19.813Z"
   },
   {
    "duration": 429,
    "start_time": "2022-03-10T10:19:19.818Z"
   },
   {
    "duration": 11,
    "start_time": "2022-03-10T10:19:20.249Z"
   },
   {
    "duration": 33,
    "start_time": "2022-03-10T10:19:20.262Z"
   },
   {
    "duration": 22,
    "start_time": "2022-03-10T10:19:20.297Z"
   },
   {
    "duration": 38,
    "start_time": "2022-03-10T10:19:20.321Z"
   },
   {
    "duration": 31,
    "start_time": "2022-03-10T10:19:20.361Z"
   },
   {
    "duration": 27,
    "start_time": "2022-03-10T10:19:20.394Z"
   },
   {
    "duration": 86,
    "start_time": "2022-03-10T10:19:20.424Z"
   },
   {
    "duration": 51,
    "start_time": "2022-03-10T10:19:20.512Z"
   },
   {
    "duration": 41,
    "start_time": "2022-03-10T10:19:20.565Z"
   },
   {
    "duration": 30,
    "start_time": "2022-03-10T10:19:20.608Z"
   },
   {
    "duration": 6,
    "start_time": "2022-03-10T10:19:20.640Z"
   },
   {
    "duration": 15,
    "start_time": "2022-03-10T10:19:20.647Z"
   },
   {
    "duration": 45,
    "start_time": "2022-03-10T10:19:20.664Z"
   },
   {
    "duration": 16,
    "start_time": "2022-03-10T10:19:20.711Z"
   },
   {
    "duration": 22,
    "start_time": "2022-03-10T10:19:20.729Z"
   },
   {
    "duration": 41,
    "start_time": "2022-03-10T10:19:20.753Z"
   },
   {
    "duration": 5,
    "start_time": "2022-03-10T10:19:20.795Z"
   },
   {
    "duration": 17,
    "start_time": "2022-03-10T10:19:20.801Z"
   },
   {
    "duration": 26,
    "start_time": "2022-03-10T10:19:20.819Z"
   },
   {
    "duration": 9,
    "start_time": "2022-03-10T10:19:20.847Z"
   },
   {
    "duration": 26,
    "start_time": "2022-03-10T10:19:20.858Z"
   },
   {
    "duration": 229,
    "start_time": "2022-03-10T10:19:20.886Z"
   },
   {
    "duration": 8,
    "start_time": "2022-03-10T10:19:21.117Z"
   },
   {
    "duration": 40,
    "start_time": "2022-03-10T10:19:21.126Z"
   },
   {
    "duration": 388,
    "start_time": "2022-03-10T10:44:27.131Z"
   },
   {
    "duration": 269,
    "start_time": "2022-03-10T10:44:29.116Z"
   },
   {
    "duration": 1227,
    "start_time": "2022-03-10T10:44:45.605Z"
   },
   {
    "duration": 416,
    "start_time": "2022-03-10T10:44:46.834Z"
   },
   {
    "duration": 15,
    "start_time": "2022-03-10T10:44:47.256Z"
   },
   {
    "duration": 8,
    "start_time": "2022-03-10T10:44:47.273Z"
   },
   {
    "duration": 10,
    "start_time": "2022-03-10T10:44:47.283Z"
   },
   {
    "duration": 10,
    "start_time": "2022-03-10T10:44:47.296Z"
   },
   {
    "duration": 11,
    "start_time": "2022-03-10T10:44:47.308Z"
   },
   {
    "duration": 14,
    "start_time": "2022-03-10T10:44:47.321Z"
   },
   {
    "duration": 85,
    "start_time": "2022-03-10T10:44:47.337Z"
   },
   {
    "duration": 71,
    "start_time": "2022-03-10T10:44:47.424Z"
   },
   {
    "duration": 42,
    "start_time": "2022-03-10T10:44:47.496Z"
   },
   {
    "duration": 56,
    "start_time": "2022-03-10T10:44:47.539Z"
   },
   {
    "duration": 7,
    "start_time": "2022-03-10T10:44:47.597Z"
   },
   {
    "duration": 7,
    "start_time": "2022-03-10T10:44:47.606Z"
   },
   {
    "duration": 38,
    "start_time": "2022-03-10T10:44:47.614Z"
   },
   {
    "duration": 44,
    "start_time": "2022-03-10T10:44:47.653Z"
   },
   {
    "duration": 21,
    "start_time": "2022-03-10T10:44:47.699Z"
   },
   {
    "duration": 26,
    "start_time": "2022-03-10T10:44:47.721Z"
   },
   {
    "duration": 32,
    "start_time": "2022-03-10T10:44:47.749Z"
   },
   {
    "duration": 7,
    "start_time": "2022-03-10T10:44:47.783Z"
   },
   {
    "duration": 23,
    "start_time": "2022-03-10T10:44:47.793Z"
   },
   {
    "duration": 6,
    "start_time": "2022-03-10T10:44:47.819Z"
   },
   {
    "duration": 276,
    "start_time": "2022-03-10T10:44:47.827Z"
   },
   {
    "duration": 25,
    "start_time": "2022-03-10T10:44:48.105Z"
   },
   {
    "duration": 402,
    "start_time": "2022-03-10T10:44:48.132Z"
   },
   {
    "duration": -1401,
    "start_time": "2022-03-10T10:44:49.938Z"
   },
   {
    "duration": 334,
    "start_time": "2022-03-10T10:48:04.646Z"
   },
   {
    "duration": 279,
    "start_time": "2022-03-10T10:48:15.174Z"
   },
   {
    "duration": 350,
    "start_time": "2022-03-10T10:48:54.702Z"
   },
   {
    "duration": 303,
    "start_time": "2022-03-10T10:50:00.422Z"
   },
   {
    "duration": 1204,
    "start_time": "2022-03-10T10:52:01.036Z"
   },
   {
    "duration": 443,
    "start_time": "2022-03-10T10:52:02.242Z"
   },
   {
    "duration": 18,
    "start_time": "2022-03-10T10:52:02.688Z"
   },
   {
    "duration": 12,
    "start_time": "2022-03-10T10:52:02.708Z"
   },
   {
    "duration": 25,
    "start_time": "2022-03-10T10:52:02.722Z"
   },
   {
    "duration": 29,
    "start_time": "2022-03-10T10:52:02.749Z"
   },
   {
    "duration": 17,
    "start_time": "2022-03-10T10:52:02.781Z"
   },
   {
    "duration": 26,
    "start_time": "2022-03-10T10:52:02.802Z"
   },
   {
    "duration": 71,
    "start_time": "2022-03-10T10:52:02.831Z"
   },
   {
    "duration": 75,
    "start_time": "2022-03-10T10:52:02.904Z"
   },
   {
    "duration": 44,
    "start_time": "2022-03-10T10:52:02.982Z"
   },
   {
    "duration": 58,
    "start_time": "2022-03-10T10:52:03.028Z"
   },
   {
    "duration": 10,
    "start_time": "2022-03-10T10:52:03.088Z"
   },
   {
    "duration": 17,
    "start_time": "2022-03-10T10:52:03.100Z"
   },
   {
    "duration": 57,
    "start_time": "2022-03-10T10:52:03.118Z"
   },
   {
    "duration": 28,
    "start_time": "2022-03-10T10:52:03.177Z"
   },
   {
    "duration": 22,
    "start_time": "2022-03-10T10:52:03.207Z"
   },
   {
    "duration": 52,
    "start_time": "2022-03-10T10:52:03.231Z"
   },
   {
    "duration": 8,
    "start_time": "2022-03-10T10:52:03.285Z"
   },
   {
    "duration": 35,
    "start_time": "2022-03-10T10:52:03.295Z"
   },
   {
    "duration": 49,
    "start_time": "2022-03-10T10:52:03.332Z"
   },
   {
    "duration": 23,
    "start_time": "2022-03-10T10:52:03.383Z"
   },
   {
    "duration": 238,
    "start_time": "2022-03-10T10:52:03.410Z"
   },
   {
    "duration": 35,
    "start_time": "2022-03-10T10:52:03.650Z"
   },
   {
    "duration": 7,
    "start_time": "2022-03-10T10:52:03.687Z"
   },
   {
    "duration": 33,
    "start_time": "2022-03-10T10:52:03.696Z"
   },
   {
    "duration": 24,
    "start_time": "2022-03-10T10:53:03.765Z"
   },
   {
    "duration": 6544,
    "start_time": "2022-03-10T10:59:35.034Z"
   },
   {
    "duration": 46,
    "start_time": "2022-03-10T11:00:15.865Z"
   },
   {
    "duration": 15,
    "start_time": "2022-03-10T11:02:44.688Z"
   },
   {
    "duration": 14,
    "start_time": "2022-03-10T11:03:03.264Z"
   },
   {
    "duration": 278,
    "start_time": "2022-03-10T11:07:14.830Z"
   },
   {
    "duration": 1917,
    "start_time": "2022-03-10T11:07:23.638Z"
   },
   {
    "duration": 1791,
    "start_time": "2022-03-10T11:11:29.060Z"
   },
   {
    "duration": 13,
    "start_time": "2022-03-10T11:23:35.760Z"
   },
   {
    "duration": 272,
    "start_time": "2022-03-10T11:24:28.681Z"
   },
   {
    "duration": 5,
    "start_time": "2022-03-10T11:27:21.272Z"
   },
   {
    "duration": 6,
    "start_time": "2022-03-10T11:30:14.231Z"
   },
   {
    "duration": 2403,
    "start_time": "2022-03-10T11:35:16.029Z"
   },
   {
    "duration": 6,
    "start_time": "2022-03-10T11:35:31.006Z"
   },
   {
    "duration": 6,
    "start_time": "2022-03-10T11:35:43.807Z"
   },
   {
    "duration": 1368,
    "start_time": "2022-03-10T11:35:53.672Z"
   },
   {
    "duration": 429,
    "start_time": "2022-03-10T11:35:55.042Z"
   },
   {
    "duration": 19,
    "start_time": "2022-03-10T11:35:55.478Z"
   },
   {
    "duration": 13,
    "start_time": "2022-03-10T11:35:55.499Z"
   },
   {
    "duration": 15,
    "start_time": "2022-03-10T11:35:55.515Z"
   },
   {
    "duration": 45,
    "start_time": "2022-03-10T11:35:55.535Z"
   },
   {
    "duration": 28,
    "start_time": "2022-03-10T11:35:55.583Z"
   },
   {
    "duration": 18,
    "start_time": "2022-03-10T11:35:55.614Z"
   },
   {
    "duration": 90,
    "start_time": "2022-03-10T11:35:55.634Z"
   },
   {
    "duration": 67,
    "start_time": "2022-03-10T11:35:55.726Z"
   },
   {
    "duration": 42,
    "start_time": "2022-03-10T11:35:55.795Z"
   },
   {
    "duration": 51,
    "start_time": "2022-03-10T11:35:55.839Z"
   },
   {
    "duration": 9,
    "start_time": "2022-03-10T11:35:55.892Z"
   },
   {
    "duration": 11,
    "start_time": "2022-03-10T11:35:55.902Z"
   },
   {
    "duration": 65,
    "start_time": "2022-03-10T11:35:55.914Z"
   },
   {
    "duration": 26,
    "start_time": "2022-03-10T11:35:55.981Z"
   },
   {
    "duration": 21,
    "start_time": "2022-03-10T11:35:56.009Z"
   },
   {
    "duration": 55,
    "start_time": "2022-03-10T11:35:56.031Z"
   },
   {
    "duration": 5,
    "start_time": "2022-03-10T11:35:56.088Z"
   },
   {
    "duration": 9,
    "start_time": "2022-03-10T11:35:56.095Z"
   },
   {
    "duration": 24,
    "start_time": "2022-03-10T11:35:56.107Z"
   },
   {
    "duration": 7,
    "start_time": "2022-03-10T11:35:56.133Z"
   },
   {
    "duration": 243,
    "start_time": "2022-03-10T11:35:56.178Z"
   },
   {
    "duration": 24,
    "start_time": "2022-03-10T11:35:56.423Z"
   },
   {
    "duration": 9,
    "start_time": "2022-03-10T11:35:56.449Z"
   },
   {
    "duration": 38,
    "start_time": "2022-03-10T11:35:56.460Z"
   },
   {
    "duration": 24,
    "start_time": "2022-03-10T11:35:56.500Z"
   },
   {
    "duration": 14,
    "start_time": "2022-03-10T11:35:56.526Z"
   },
   {
    "duration": 15,
    "start_time": "2022-03-10T11:35:56.577Z"
   },
   {
    "duration": 2018,
    "start_time": "2022-03-10T11:35:56.594Z"
   },
   {
    "duration": 1793,
    "start_time": "2022-03-10T11:35:58.614Z"
   },
   {
    "duration": 8,
    "start_time": "2022-03-10T11:36:00.409Z"
   },
   {
    "duration": 26,
    "start_time": "2022-03-10T11:43:10.448Z"
   },
   {
    "duration": 7,
    "start_time": "2022-03-10T11:43:23.385Z"
   },
   {
    "duration": 7,
    "start_time": "2022-03-10T11:43:45.744Z"
   },
   {
    "duration": 5,
    "start_time": "2022-03-10T11:44:58.328Z"
   },
   {
    "duration": 1159,
    "start_time": "2022-03-10T11:45:09.413Z"
   },
   {
    "duration": 440,
    "start_time": "2022-03-10T11:45:10.574Z"
   },
   {
    "duration": 14,
    "start_time": "2022-03-10T11:45:11.019Z"
   },
   {
    "duration": 33,
    "start_time": "2022-03-10T11:45:11.035Z"
   },
   {
    "duration": 30,
    "start_time": "2022-03-10T11:45:11.070Z"
   },
   {
    "duration": 16,
    "start_time": "2022-03-10T11:45:11.102Z"
   },
   {
    "duration": 37,
    "start_time": "2022-03-10T11:45:11.122Z"
   },
   {
    "duration": 24,
    "start_time": "2022-03-10T11:45:11.162Z"
   },
   {
    "duration": 79,
    "start_time": "2022-03-10T11:45:11.189Z"
   },
   {
    "duration": 60,
    "start_time": "2022-03-10T11:45:11.270Z"
   },
   {
    "duration": 45,
    "start_time": "2022-03-10T11:45:11.332Z"
   },
   {
    "duration": 32,
    "start_time": "2022-03-10T11:45:11.379Z"
   },
   {
    "duration": 8,
    "start_time": "2022-03-10T11:45:11.413Z"
   },
   {
    "duration": 10,
    "start_time": "2022-03-10T11:45:11.423Z"
   },
   {
    "duration": 61,
    "start_time": "2022-03-10T11:45:11.435Z"
   },
   {
    "duration": 26,
    "start_time": "2022-03-10T11:45:11.497Z"
   },
   {
    "duration": 18,
    "start_time": "2022-03-10T11:45:11.524Z"
   },
   {
    "duration": 43,
    "start_time": "2022-03-10T11:45:11.544Z"
   },
   {
    "duration": 5,
    "start_time": "2022-03-10T11:45:11.589Z"
   },
   {
    "duration": 11,
    "start_time": "2022-03-10T11:45:11.595Z"
   },
   {
    "duration": 45,
    "start_time": "2022-03-10T11:45:11.607Z"
   },
   {
    "duration": 23,
    "start_time": "2022-03-10T11:45:11.655Z"
   },
   {
    "duration": 220,
    "start_time": "2022-03-10T11:45:11.680Z"
   },
   {
    "duration": 23,
    "start_time": "2022-03-10T11:45:11.902Z"
   },
   {
    "duration": 10,
    "start_time": "2022-03-10T11:45:11.927Z"
   },
   {
    "duration": 44,
    "start_time": "2022-03-10T11:45:11.939Z"
   },
   {
    "duration": 33,
    "start_time": "2022-03-10T11:45:11.985Z"
   },
   {
    "duration": 18,
    "start_time": "2022-03-10T11:45:12.019Z"
   },
   {
    "duration": 18,
    "start_time": "2022-03-10T11:45:12.038Z"
   },
   {
    "duration": 1939,
    "start_time": "2022-03-10T11:45:12.058Z"
   },
   {
    "duration": 1858,
    "start_time": "2022-03-10T11:45:13.999Z"
   },
   {
    "duration": 6,
    "start_time": "2022-03-10T11:45:15.859Z"
   },
   {
    "duration": 9,
    "start_time": "2022-03-10T11:45:15.877Z"
   },
   {
    "duration": 412,
    "start_time": "2022-03-10T11:45:15.888Z"
   },
   {
    "duration": 6,
    "start_time": "2022-03-10T11:47:17.741Z"
   },
   {
    "duration": 264,
    "start_time": "2022-03-10T12:02:46.489Z"
   },
   {
    "duration": 21,
    "start_time": "2022-03-10T12:02:57.233Z"
   },
   {
    "duration": 15,
    "start_time": "2022-03-10T12:04:21.514Z"
   },
   {
    "duration": 281,
    "start_time": "2022-03-10T12:05:06.585Z"
   },
   {
    "duration": 15,
    "start_time": "2022-03-10T12:05:13.186Z"
   },
   {
    "duration": 10,
    "start_time": "2022-03-10T12:06:01.005Z"
   },
   {
    "duration": 10,
    "start_time": "2022-03-10T12:07:27.360Z"
   },
   {
    "duration": 10,
    "start_time": "2022-03-10T12:07:32.192Z"
   },
   {
    "duration": 6,
    "start_time": "2022-03-10T12:08:17.712Z"
   },
   {
    "duration": 6,
    "start_time": "2022-03-10T12:08:22.080Z"
   },
   {
    "duration": 1349,
    "start_time": "2022-03-19T09:40:14.505Z"
   },
   {
    "duration": 389,
    "start_time": "2022-03-19T09:40:15.856Z"
   },
   {
    "duration": 15,
    "start_time": "2022-03-19T09:40:16.247Z"
   },
   {
    "duration": 10,
    "start_time": "2022-03-19T09:40:16.264Z"
   },
   {
    "duration": 7,
    "start_time": "2022-03-19T09:40:16.277Z"
   },
   {
    "duration": 9,
    "start_time": "2022-03-19T09:40:16.286Z"
   },
   {
    "duration": 21,
    "start_time": "2022-03-19T09:40:16.296Z"
   },
   {
    "duration": 12,
    "start_time": "2022-03-19T09:40:16.318Z"
   },
   {
    "duration": 95,
    "start_time": "2022-03-19T09:40:16.331Z"
   },
   {
    "duration": 57,
    "start_time": "2022-03-19T09:40:16.428Z"
   },
   {
    "duration": 58,
    "start_time": "2022-03-19T09:40:16.486Z"
   },
   {
    "duration": 34,
    "start_time": "2022-03-19T09:40:16.546Z"
   },
   {
    "duration": 27,
    "start_time": "2022-03-19T09:40:16.582Z"
   },
   {
    "duration": 5,
    "start_time": "2022-03-19T09:40:16.612Z"
   },
   {
    "duration": 40,
    "start_time": "2022-03-19T09:40:16.619Z"
   },
   {
    "duration": 24,
    "start_time": "2022-03-19T09:40:16.661Z"
   },
   {
    "duration": 38,
    "start_time": "2022-03-19T09:40:16.686Z"
   },
   {
    "duration": 22,
    "start_time": "2022-03-19T09:40:16.726Z"
   },
   {
    "duration": 4,
    "start_time": "2022-03-19T09:40:16.758Z"
   },
   {
    "duration": 12,
    "start_time": "2022-03-19T09:40:16.764Z"
   },
   {
    "duration": 75,
    "start_time": "2022-03-19T09:40:16.778Z"
   },
   {
    "duration": 7,
    "start_time": "2022-03-19T09:40:16.855Z"
   },
   {
    "duration": 127,
    "start_time": "2022-03-19T09:40:16.864Z"
   },
   {
    "duration": 28,
    "start_time": "2022-03-19T09:40:16.993Z"
   },
   {
    "duration": 6,
    "start_time": "2022-03-19T09:40:17.022Z"
   },
   {
    "duration": 22,
    "start_time": "2022-03-19T09:40:17.030Z"
   },
   {
    "duration": 20,
    "start_time": "2022-03-19T09:40:17.054Z"
   },
   {
    "duration": 42,
    "start_time": "2022-03-19T09:40:17.076Z"
   },
   {
    "duration": 14,
    "start_time": "2022-03-19T09:40:17.120Z"
   },
   {
    "duration": 976,
    "start_time": "2022-03-19T09:40:17.136Z"
   },
   {
    "duration": 987,
    "start_time": "2022-03-19T09:40:18.114Z"
   },
   {
    "duration": 7,
    "start_time": "2022-03-19T09:40:19.103Z"
   },
   {
    "duration": 11,
    "start_time": "2022-03-19T09:40:19.113Z"
   },
   {
    "duration": 4,
    "start_time": "2022-03-19T09:53:00.593Z"
   },
   {
    "duration": 15,
    "start_time": "2022-03-19T09:54:52.011Z"
   },
   {
    "duration": 1407,
    "start_time": "2022-03-20T11:25:20.026Z"
   },
   {
    "duration": 421,
    "start_time": "2022-03-20T11:25:21.435Z"
   },
   {
    "duration": 15,
    "start_time": "2022-03-20T11:25:21.857Z"
   },
   {
    "duration": 16,
    "start_time": "2022-03-20T11:25:21.875Z"
   },
   {
    "duration": 35,
    "start_time": "2022-03-20T11:25:21.893Z"
   },
   {
    "duration": 24,
    "start_time": "2022-03-20T11:25:21.930Z"
   },
   {
    "duration": 23,
    "start_time": "2022-03-20T11:25:21.956Z"
   },
   {
    "duration": 39,
    "start_time": "2022-03-20T11:25:21.981Z"
   },
   {
    "duration": 121,
    "start_time": "2022-03-20T11:25:22.022Z"
   },
   {
    "duration": 56,
    "start_time": "2022-03-20T11:25:22.145Z"
   },
   {
    "duration": 50,
    "start_time": "2022-03-20T11:25:22.203Z"
   },
   {
    "duration": 34,
    "start_time": "2022-03-20T11:25:22.255Z"
   },
   {
    "duration": 10,
    "start_time": "2022-03-20T11:25:22.291Z"
   },
   {
    "duration": 11,
    "start_time": "2022-03-20T11:25:22.303Z"
   },
   {
    "duration": 40,
    "start_time": "2022-03-20T11:25:22.332Z"
   },
   {
    "duration": 35,
    "start_time": "2022-03-20T11:25:22.374Z"
   },
   {
    "duration": 21,
    "start_time": "2022-03-20T11:25:22.411Z"
   },
   {
    "duration": 22,
    "start_time": "2022-03-20T11:25:22.434Z"
   },
   {
    "duration": 12,
    "start_time": "2022-03-20T11:25:22.458Z"
   },
   {
    "duration": 37,
    "start_time": "2022-03-20T11:25:22.471Z"
   },
   {
    "duration": 46,
    "start_time": "2022-03-20T11:25:22.510Z"
   },
   {
    "duration": 8,
    "start_time": "2022-03-20T11:25:22.558Z"
   },
   {
    "duration": 128,
    "start_time": "2022-03-20T11:25:22.568Z"
   },
   {
    "duration": 33,
    "start_time": "2022-03-20T11:25:22.698Z"
   },
   {
    "duration": 7,
    "start_time": "2022-03-20T11:25:22.733Z"
   },
   {
    "duration": 20,
    "start_time": "2022-03-20T11:25:22.742Z"
   },
   {
    "duration": 20,
    "start_time": "2022-03-20T11:25:22.764Z"
   },
   {
    "duration": 46,
    "start_time": "2022-03-20T11:25:22.788Z"
   },
   {
    "duration": 14,
    "start_time": "2022-03-20T11:25:22.836Z"
   },
   {
    "duration": 952,
    "start_time": "2022-03-20T11:25:22.852Z"
   },
   {
    "duration": 1210,
    "start_time": "2022-03-20T11:25:46.144Z"
   },
   {
    "duration": 409,
    "start_time": "2022-03-20T11:25:47.356Z"
   },
   {
    "duration": 14,
    "start_time": "2022-03-20T11:25:47.767Z"
   },
   {
    "duration": 10,
    "start_time": "2022-03-20T11:25:47.783Z"
   },
   {
    "duration": 9,
    "start_time": "2022-03-20T11:25:47.795Z"
   },
   {
    "duration": 11,
    "start_time": "2022-03-20T11:25:47.805Z"
   },
   {
    "duration": 15,
    "start_time": "2022-03-20T11:25:47.817Z"
   },
   {
    "duration": 16,
    "start_time": "2022-03-20T11:25:47.833Z"
   },
   {
    "duration": 95,
    "start_time": "2022-03-20T11:25:47.851Z"
   },
   {
    "duration": 62,
    "start_time": "2022-03-20T11:25:47.950Z"
   },
   {
    "duration": 54,
    "start_time": "2022-03-20T11:25:48.014Z"
   },
   {
    "duration": 34,
    "start_time": "2022-03-20T11:25:48.070Z"
   },
   {
    "duration": 26,
    "start_time": "2022-03-20T11:25:48.107Z"
   },
   {
    "duration": 8,
    "start_time": "2022-03-20T11:25:48.135Z"
   },
   {
    "duration": 39,
    "start_time": "2022-03-20T11:25:48.145Z"
   },
   {
    "duration": 26,
    "start_time": "2022-03-20T11:25:48.186Z"
   },
   {
    "duration": 35,
    "start_time": "2022-03-20T11:25:48.214Z"
   },
   {
    "duration": 22,
    "start_time": "2022-03-20T11:25:48.251Z"
   },
   {
    "duration": 4,
    "start_time": "2022-03-20T11:25:48.275Z"
   },
   {
    "duration": 34,
    "start_time": "2022-03-20T11:25:48.280Z"
   },
   {
    "duration": 46,
    "start_time": "2022-03-20T11:25:48.315Z"
   },
   {
    "duration": 7,
    "start_time": "2022-03-20T11:25:48.363Z"
   },
   {
    "duration": 117,
    "start_time": "2022-03-20T11:25:48.372Z"
   },
   {
    "duration": 22,
    "start_time": "2022-03-20T11:25:48.491Z"
   },
   {
    "duration": 20,
    "start_time": "2022-03-20T11:25:48.515Z"
   },
   {
    "duration": 24,
    "start_time": "2022-03-20T11:25:48.536Z"
   },
   {
    "duration": 21,
    "start_time": "2022-03-20T11:25:48.562Z"
   },
   {
    "duration": 12,
    "start_time": "2022-03-20T11:25:48.587Z"
   },
   {
    "duration": 13,
    "start_time": "2022-03-20T11:25:48.632Z"
   },
   {
    "duration": 985,
    "start_time": "2022-03-20T11:25:48.647Z"
   },
   {
    "duration": 956,
    "start_time": "2022-03-20T11:26:53.292Z"
   },
   {
    "duration": 6,
    "start_time": "2022-03-20T11:26:54.250Z"
   },
   {
    "duration": 16,
    "start_time": "2022-03-20T11:26:54.258Z"
   },
   {
    "duration": 8438,
    "start_time": "2022-03-20T11:28:02.482Z"
   },
   {
    "duration": 3309,
    "start_time": "2022-03-20T11:31:24.318Z"
   },
   {
    "duration": 3282,
    "start_time": "2022-03-20T11:32:01.570Z"
   },
   {
    "duration": 3169,
    "start_time": "2022-03-20T11:33:24.046Z"
   },
   {
    "duration": 3234,
    "start_time": "2022-03-20T11:33:46.092Z"
   },
   {
    "duration": 1257,
    "start_time": "2022-03-20T11:34:32.319Z"
   },
   {
    "duration": 426,
    "start_time": "2022-03-20T11:34:33.578Z"
   },
   {
    "duration": 16,
    "start_time": "2022-03-20T11:34:34.006Z"
   },
   {
    "duration": 11,
    "start_time": "2022-03-20T11:34:34.025Z"
   },
   {
    "duration": 12,
    "start_time": "2022-03-20T11:34:34.038Z"
   },
   {
    "duration": 11,
    "start_time": "2022-03-20T11:34:34.051Z"
   },
   {
    "duration": 12,
    "start_time": "2022-03-20T11:34:34.063Z"
   },
   {
    "duration": 13,
    "start_time": "2022-03-20T11:34:34.076Z"
   },
   {
    "duration": 98,
    "start_time": "2022-03-20T11:34:34.090Z"
   },
   {
    "duration": 71,
    "start_time": "2022-03-20T11:34:34.191Z"
   },
   {
    "duration": 42,
    "start_time": "2022-03-20T11:34:34.264Z"
   },
   {
    "duration": 47,
    "start_time": "2022-03-20T11:34:34.308Z"
   },
   {
    "duration": 9,
    "start_time": "2022-03-20T11:34:34.356Z"
   },
   {
    "duration": 6,
    "start_time": "2022-03-20T11:34:34.366Z"
   },
   {
    "duration": 37,
    "start_time": "2022-03-20T11:34:34.374Z"
   },
   {
    "duration": 36,
    "start_time": "2022-03-20T11:34:34.412Z"
   },
   {
    "duration": 22,
    "start_time": "2022-03-20T11:34:34.450Z"
   },
   {
    "duration": 22,
    "start_time": "2022-03-20T11:34:34.474Z"
   },
   {
    "duration": 11,
    "start_time": "2022-03-20T11:34:34.498Z"
   },
   {
    "duration": 31,
    "start_time": "2022-03-20T11:34:34.511Z"
   },
   {
    "duration": 48,
    "start_time": "2022-03-20T11:34:34.543Z"
   },
   {
    "duration": 8,
    "start_time": "2022-03-20T11:34:34.593Z"
   },
   {
    "duration": 115,
    "start_time": "2022-03-20T11:34:34.602Z"
   },
   {
    "duration": 25,
    "start_time": "2022-03-20T11:34:34.719Z"
   },
   {
    "duration": 20,
    "start_time": "2022-03-20T11:34:34.745Z"
   },
   {
    "duration": 22,
    "start_time": "2022-03-20T11:34:34.767Z"
   },
   {
    "duration": 21,
    "start_time": "2022-03-20T11:34:34.791Z"
   },
   {
    "duration": 15,
    "start_time": "2022-03-20T11:34:34.831Z"
   },
   {
    "duration": 12,
    "start_time": "2022-03-20T11:34:34.848Z"
   },
   {
    "duration": 3048,
    "start_time": "2022-03-20T11:34:34.862Z"
   },
   {
    "duration": 3040,
    "start_time": "2022-03-20T11:34:37.913Z"
   },
   {
    "duration": 3103,
    "start_time": "2022-03-20T11:34:40.955Z"
   },
   {
    "duration": 3181,
    "start_time": "2022-03-20T11:34:44.060Z"
   },
   {
    "duration": 6,
    "start_time": "2022-03-20T11:34:47.243Z"
   },
   {
    "duration": 13,
    "start_time": "2022-03-20T11:34:47.250Z"
   },
   {
    "duration": 428,
    "start_time": "2022-03-20T11:36:09.100Z"
   },
   {
    "duration": 408,
    "start_time": "2022-03-20T11:36:24.540Z"
   },
   {
    "duration": 667,
    "start_time": "2022-03-20T11:36:32.579Z"
   },
   {
    "duration": 1259,
    "start_time": "2022-03-20T11:42:42.648Z"
   },
   {
    "duration": 430,
    "start_time": "2022-03-20T11:42:43.909Z"
   },
   {
    "duration": 16,
    "start_time": "2022-03-20T11:42:44.341Z"
   },
   {
    "duration": 11,
    "start_time": "2022-03-20T11:42:44.360Z"
   },
   {
    "duration": 12,
    "start_time": "2022-03-20T11:42:44.374Z"
   },
   {
    "duration": 15,
    "start_time": "2022-03-20T11:42:44.388Z"
   },
   {
    "duration": 14,
    "start_time": "2022-03-20T11:42:44.431Z"
   },
   {
    "duration": 18,
    "start_time": "2022-03-20T11:42:44.447Z"
   },
   {
    "duration": 105,
    "start_time": "2022-03-20T11:42:44.467Z"
   },
   {
    "duration": 74,
    "start_time": "2022-03-20T11:42:44.575Z"
   },
   {
    "duration": 43,
    "start_time": "2022-03-20T11:42:44.650Z"
   },
   {
    "duration": 52,
    "start_time": "2022-03-20T11:42:44.696Z"
   },
   {
    "duration": 7,
    "start_time": "2022-03-20T11:42:44.750Z"
   },
   {
    "duration": 6,
    "start_time": "2022-03-20T11:42:44.759Z"
   },
   {
    "duration": 38,
    "start_time": "2022-03-20T11:42:44.767Z"
   },
   {
    "duration": 45,
    "start_time": "2022-03-20T11:42:44.806Z"
   },
   {
    "duration": 33,
    "start_time": "2022-03-20T11:42:44.853Z"
   },
   {
    "duration": 49,
    "start_time": "2022-03-20T11:42:44.888Z"
   },
   {
    "duration": 4,
    "start_time": "2022-03-20T11:42:44.938Z"
   },
   {
    "duration": 13,
    "start_time": "2022-03-20T11:42:44.944Z"
   },
   {
    "duration": 37,
    "start_time": "2022-03-20T11:42:44.959Z"
   },
   {
    "duration": 11,
    "start_time": "2022-03-20T11:42:44.998Z"
   },
   {
    "duration": 140,
    "start_time": "2022-03-20T11:42:45.032Z"
   },
   {
    "duration": 33,
    "start_time": "2022-03-20T11:42:45.174Z"
   },
   {
    "duration": 10,
    "start_time": "2022-03-20T11:42:45.210Z"
   },
   {
    "duration": 31,
    "start_time": "2022-03-20T11:42:45.221Z"
   },
   {
    "duration": 23,
    "start_time": "2022-03-20T11:42:45.254Z"
   },
   {
    "duration": 15,
    "start_time": "2022-03-20T11:42:45.281Z"
   },
   {
    "duration": 48,
    "start_time": "2022-03-20T11:42:45.298Z"
   },
   {
    "duration": 3187,
    "start_time": "2022-03-20T11:42:45.347Z"
   },
   {
    "duration": 430,
    "start_time": "2022-03-20T11:42:48.536Z"
   },
   {
    "duration": 445,
    "start_time": "2022-03-20T11:42:48.967Z"
   },
   {
    "duration": 683,
    "start_time": "2022-03-20T11:42:49.413Z"
   },
   {
    "duration": 6,
    "start_time": "2022-03-20T11:42:50.098Z"
   },
   {
    "duration": 35,
    "start_time": "2022-03-20T11:42:50.106Z"
   },
   {
    "duration": 1163,
    "start_time": "2022-03-21T07:06:17.535Z"
   },
   {
    "duration": 430,
    "start_time": "2022-03-21T07:06:18.700Z"
   },
   {
    "duration": 14,
    "start_time": "2022-03-21T07:06:19.132Z"
   },
   {
    "duration": 9,
    "start_time": "2022-03-21T07:06:19.148Z"
   },
   {
    "duration": 10,
    "start_time": "2022-03-21T07:06:19.158Z"
   },
   {
    "duration": 11,
    "start_time": "2022-03-21T07:06:19.169Z"
   },
   {
    "duration": 8,
    "start_time": "2022-03-21T07:06:19.181Z"
   },
   {
    "duration": 15,
    "start_time": "2022-03-21T07:06:19.190Z"
   },
   {
    "duration": 76,
    "start_time": "2022-03-21T07:06:19.206Z"
   },
   {
    "duration": 63,
    "start_time": "2022-03-21T07:06:19.285Z"
   },
   {
    "duration": 38,
    "start_time": "2022-03-21T07:06:19.349Z"
   },
   {
    "duration": 33,
    "start_time": "2022-03-21T07:06:19.400Z"
   },
   {
    "duration": 7,
    "start_time": "2022-03-21T07:06:19.435Z"
   },
   {
    "duration": 5,
    "start_time": "2022-03-21T07:06:19.444Z"
   },
   {
    "duration": 53,
    "start_time": "2022-03-21T07:06:19.450Z"
   },
   {
    "duration": 25,
    "start_time": "2022-03-21T07:06:19.504Z"
   },
   {
    "duration": 20,
    "start_time": "2022-03-21T07:06:19.531Z"
   },
   {
    "duration": 21,
    "start_time": "2022-03-21T07:06:19.552Z"
   },
   {
    "duration": 3,
    "start_time": "2022-03-21T07:06:19.575Z"
   },
   {
    "duration": 30,
    "start_time": "2022-03-21T07:06:19.580Z"
   },
   {
    "duration": 34,
    "start_time": "2022-03-21T07:06:19.611Z"
   },
   {
    "duration": 8,
    "start_time": "2022-03-21T07:06:19.646Z"
   },
   {
    "duration": 133,
    "start_time": "2022-03-21T07:06:19.655Z"
   },
   {
    "duration": 25,
    "start_time": "2022-03-21T07:06:19.790Z"
   },
   {
    "duration": 9,
    "start_time": "2022-03-21T07:06:19.817Z"
   },
   {
    "duration": 19,
    "start_time": "2022-03-21T07:06:19.827Z"
   },
   {
    "duration": 20,
    "start_time": "2022-03-21T07:06:19.848Z"
   },
   {
    "duration": 37,
    "start_time": "2022-03-21T07:06:19.871Z"
   },
   {
    "duration": 12,
    "start_time": "2022-03-21T07:06:19.910Z"
   },
   {
    "duration": 2672,
    "start_time": "2022-03-21T07:06:19.923Z"
   },
   {
    "duration": 346,
    "start_time": "2022-03-21T07:06:22.597Z"
   },
   {
    "duration": 346,
    "start_time": "2022-03-21T07:06:22.946Z"
   },
   {
    "duration": 589,
    "start_time": "2022-03-21T07:06:23.294Z"
   },
   {
    "duration": 5,
    "start_time": "2022-03-21T07:06:23.886Z"
   },
   {
    "duration": 7,
    "start_time": "2022-03-21T07:06:23.901Z"
   }
  ],
  "kernelspec": {
   "display_name": "Python 3 (ipykernel)",
   "language": "python",
   "name": "python3"
  },
  "language_info": {
   "codemirror_mode": {
    "name": "ipython",
    "version": 3
   },
   "file_extension": ".py",
   "mimetype": "text/x-python",
   "name": "python",
   "nbconvert_exporter": "python",
   "pygments_lexer": "ipython3",
   "version": "3.9.5"
  },
  "toc": {
   "base_numbering": 1,
   "nav_menu": {},
   "number_sections": true,
   "sideBar": true,
   "skip_h1_title": true,
   "title_cell": "Table of Contents",
   "title_sidebar": "Contents",
   "toc_cell": false,
   "toc_position": {},
   "toc_section_display": true,
   "toc_window_display": false
  }
 },
 "nbformat": 4,
 "nbformat_minor": 2
}
