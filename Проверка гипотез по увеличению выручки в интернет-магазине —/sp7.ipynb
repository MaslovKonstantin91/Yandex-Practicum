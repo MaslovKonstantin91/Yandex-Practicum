{
 "cells": [
  {
   "cell_type": "markdown",
   "metadata": {},
   "source": [
    "## Описание проекта"
   ]
  },
  {
   "cell_type": "markdown",
   "metadata": {},
   "source": [
    "### Контекст"
   ]
  },
  {
   "cell_type": "markdown",
   "metadata": {},
   "source": [
    "Вы — аналитик крупного интернет-магазина. Вместе с отделом маркетинга вы подготовили список гипотез для увеличения выручки."
   ]
  },
  {
   "cell_type": "markdown",
   "metadata": {},
   "source": [
    "Приоритизируйте гипотезы, запустите A/B-тест и проанализируйте результаты."
   ]
  },
  {
   "cell_type": "markdown",
   "metadata": {},
   "source": [
    "### Приоритизация гипотез."
   ]
  },
  {
   "cell_type": "markdown",
   "metadata": {},
   "source": [
    "В файле ***/datasets/hypothesis.csv 9*** гипотез по увеличению выручки интернет-магазина с указанными параметрами ***Reach, Impact, Confidence, Effort***."
   ]
  },
  {
   "cell_type": "markdown",
   "metadata": {},
   "source": [
    "**Задача**"
   ]
  },
  {
   "cell_type": "markdown",
   "metadata": {},
   "source": [
    "- Примените фреймворк ***ICE*** для приоритизации гипотез. Отсортируйте их по убыванию приоритета.  \n",
    "\n",
    "- Примените фреймворк ***RICE*** для приоритизации гипотез. Отсортируйте их по убыванию приоритета.\n",
    "\n",
    "- Укажите, как изменилась приоритизация гипотез при применении ***RICE*** вместо ***ICE***. Объясните, почему так произошло  "
   ]
  },
  {
   "cell_type": "markdown",
   "metadata": {},
   "source": [
    "### Анализ A/B-теста"
   ]
  },
  {
   "cell_type": "markdown",
   "metadata": {},
   "source": [
    "Вы провели A/B-тест и получили результаты, которые описаны в файлах ***/datasets/orders.csv*** и ***/datasets/visitors.csv***."
   ]
  },
  {
   "cell_type": "markdown",
   "metadata": {},
   "source": [
    "**Задача**"
   ]
  },
  {
   "cell_type": "markdown",
   "metadata": {},
   "source": [
    "Проанализируйте A/B-тест:"
   ]
  },
  {
   "cell_type": "markdown",
   "metadata": {},
   "source": [
    "1. Постройте график кумулятивной выручки по группам. Сделайте выводы и предположения.\n",
    "2. Постройте график кумулятивного среднего чека по группам. Сделайте выводы и предположения.\n",
    "3. Постройте график относительного изменения кумулятивного среднего чека группы B к группе A. Сделайте выводы и предположения.\n",
    "4. Постройте график кумулятивной конверсии по группам. Сделайте выводы и предположения.\n",
    "5. Постройте график относительного изменения кумулятивной конверсии группы B к группе A. Сделайте выводы и предположения.\n",
    "6. Постройте точечный график количества заказов по пользователям. Сделайте выводы и предположения.\n",
    "7. Посчитайте 95-й и 99-й перцентили количества заказов на пользователя. Выберите границу для определения аномальных пользователей.\n",
    "8. Постройте точечный график стоимостей заказов. Сделайте выводы и предположения.\n",
    "9. Посчитайте 95-й и 99-й перцентили стоимости заказов. Выберите границу для определения аномальных заказов.\n",
    "10. Посчитайте статистическую значимость различий в конверсии между группами по «сырым» данным.Сделайте выводы и предположения.\n",
    "11. Посчитайте статистическую значимость различий в среднем чеке заказа между группами по «сырым» данным. Сделайте выводы и предположения.\n",
    "12. Посчитайте статистическую значимость различий в конверсии между группами по «очищенным» данным. Сделайте выводы и предположения.\n",
    "13. Посчитайте статистическую значимость различий в среднем чеке заказа между группами по «очищенным» данным. Сделайте выводы и предположения.\n",
    "14. Примите решение по результатам теста и объясните его. Варианты решений: 1. Остановить тест, зафиксировать победу одной из групп. 2. Остановить тест, зафиксировать отсутствие различий между группами. 3. Продолжить тест."
   ]
  },
  {
   "cell_type": "markdown",
   "metadata": {},
   "source": [
    "## Загрузка данных и подготовка их к анализу"
   ]
  },
  {
   "cell_type": "code",
   "execution_count": 1,
   "metadata": {},
   "outputs": [],
   "source": [
    "import numpy as np\n",
    "import pandas as pd\n",
    "import matplotlib.pyplot as plt\n",
    "import seaborn as sns\n",
    "from IPython.display import display\n",
    "import scipy.stats as stats\n",
    "import datetime as dt\n",
    "pd.options.display.max_colwidth = 400\n"
   ]
  },
  {
   "cell_type": "code",
   "execution_count": 2,
   "metadata": {},
   "outputs": [],
   "source": [
    "hypothesis = pd.read_csv('/datasets/hypothesis.csv')\n",
    "orders = pd.read_csv('/datasets/orders.csv')\n",
    "visitors = pd.read_csv('/datasets/visitors.csv')"
   ]
  },
  {
   "cell_type": "markdown",
   "metadata": {},
   "source": [
    "### Предобработка таблицы *hypothesis* - гипотезы, *orders* - заказы, *visitors* - посетители"
   ]
  },
  {
   "cell_type": "code",
   "execution_count": 3,
   "metadata": {},
   "outputs": [
    {
     "name": "stdout",
     "output_type": "stream",
     "text": [
      "<class 'pandas.core.frame.DataFrame'>\n",
      "RangeIndex: 9 entries, 0 to 8\n",
      "Data columns (total 5 columns):\n",
      " #   Column      Non-Null Count  Dtype \n",
      "---  ------      --------------  ----- \n",
      " 0   Hypothesis  9 non-null      object\n",
      " 1   Reach       9 non-null      int64 \n",
      " 2   Impact      9 non-null      int64 \n",
      " 3   Confidence  9 non-null      int64 \n",
      " 4   Efforts     9 non-null      int64 \n",
      "dtypes: int64(4), object(1)\n",
      "memory usage: 488.0+ bytes\n"
     ]
    }
   ],
   "source": [
    "hypothesis.info()"
   ]
  },
  {
   "cell_type": "code",
   "execution_count": 4,
   "metadata": {},
   "outputs": [
    {
     "data": {
      "text/html": [
       "<div>\n",
       "<style scoped>\n",
       "    .dataframe tbody tr th:only-of-type {\n",
       "        vertical-align: middle;\n",
       "    }\n",
       "\n",
       "    .dataframe tbody tr th {\n",
       "        vertical-align: top;\n",
       "    }\n",
       "\n",
       "    .dataframe thead th {\n",
       "        text-align: right;\n",
       "    }\n",
       "</style>\n",
       "<table border=\"1\" class=\"dataframe\">\n",
       "  <thead>\n",
       "    <tr style=\"text-align: right;\">\n",
       "      <th></th>\n",
       "      <th>Hypothesis</th>\n",
       "      <th>Reach</th>\n",
       "      <th>Impact</th>\n",
       "      <th>Confidence</th>\n",
       "      <th>Efforts</th>\n",
       "    </tr>\n",
       "  </thead>\n",
       "  <tbody>\n",
       "    <tr>\n",
       "      <th>0</th>\n",
       "      <td>Добавить два новых канала привлечения трафика, что позволит привлекать на 30% больше пользователей</td>\n",
       "      <td>3</td>\n",
       "      <td>10</td>\n",
       "      <td>8</td>\n",
       "      <td>6</td>\n",
       "    </tr>\n",
       "    <tr>\n",
       "      <th>1</th>\n",
       "      <td>Запустить собственную службу доставки, что сократит срок доставки заказов</td>\n",
       "      <td>2</td>\n",
       "      <td>5</td>\n",
       "      <td>4</td>\n",
       "      <td>10</td>\n",
       "    </tr>\n",
       "    <tr>\n",
       "      <th>2</th>\n",
       "      <td>Добавить блоки рекомендаций товаров на сайт интернет магазина, чтобы повысить конверсию и средний чек заказа</td>\n",
       "      <td>8</td>\n",
       "      <td>3</td>\n",
       "      <td>7</td>\n",
       "      <td>3</td>\n",
       "    </tr>\n",
       "    <tr>\n",
       "      <th>3</th>\n",
       "      <td>Изменить структура категорий, что увеличит конверсию, т.к. пользователи быстрее найдут нужный товар</td>\n",
       "      <td>8</td>\n",
       "      <td>3</td>\n",
       "      <td>3</td>\n",
       "      <td>8</td>\n",
       "    </tr>\n",
       "    <tr>\n",
       "      <th>4</th>\n",
       "      <td>Изменить цвет фона главной страницы, чтобы увеличить вовлеченность пользователей</td>\n",
       "      <td>3</td>\n",
       "      <td>1</td>\n",
       "      <td>1</td>\n",
       "      <td>1</td>\n",
       "    </tr>\n",
       "    <tr>\n",
       "      <th>5</th>\n",
       "      <td>Добавить страницу отзывов клиентов о магазине, что позволит увеличить количество заказов</td>\n",
       "      <td>3</td>\n",
       "      <td>2</td>\n",
       "      <td>2</td>\n",
       "      <td>3</td>\n",
       "    </tr>\n",
       "    <tr>\n",
       "      <th>6</th>\n",
       "      <td>Показать на главной странице баннеры с актуальными акциями и распродажами, чтобы увеличить конверсию</td>\n",
       "      <td>5</td>\n",
       "      <td>3</td>\n",
       "      <td>8</td>\n",
       "      <td>3</td>\n",
       "    </tr>\n",
       "    <tr>\n",
       "      <th>7</th>\n",
       "      <td>Добавить форму подписки на все основные страницы, чтобы собрать базу клиентов для email-рассылок</td>\n",
       "      <td>10</td>\n",
       "      <td>7</td>\n",
       "      <td>8</td>\n",
       "      <td>5</td>\n",
       "    </tr>\n",
       "    <tr>\n",
       "      <th>8</th>\n",
       "      <td>Запустить акцию, дающую скидку на товар в день рождения</td>\n",
       "      <td>1</td>\n",
       "      <td>9</td>\n",
       "      <td>9</td>\n",
       "      <td>5</td>\n",
       "    </tr>\n",
       "  </tbody>\n",
       "</table>\n",
       "</div>"
      ],
      "text/plain": [
       "                                                                                                     Hypothesis  \\\n",
       "0            Добавить два новых канала привлечения трафика, что позволит привлекать на 30% больше пользователей   \n",
       "1                                     Запустить собственную службу доставки, что сократит срок доставки заказов   \n",
       "2  Добавить блоки рекомендаций товаров на сайт интернет магазина, чтобы повысить конверсию и средний чек заказа   \n",
       "3           Изменить структура категорий, что увеличит конверсию, т.к. пользователи быстрее найдут нужный товар   \n",
       "4                              Изменить цвет фона главной страницы, чтобы увеличить вовлеченность пользователей   \n",
       "5                      Добавить страницу отзывов клиентов о магазине, что позволит увеличить количество заказов   \n",
       "6          Показать на главной странице баннеры с актуальными акциями и распродажами, чтобы увеличить конверсию   \n",
       "7              Добавить форму подписки на все основные страницы, чтобы собрать базу клиентов для email-рассылок   \n",
       "8                                                       Запустить акцию, дающую скидку на товар в день рождения   \n",
       "\n",
       "   Reach  Impact  Confidence  Efforts  \n",
       "0      3      10           8        6  \n",
       "1      2       5           4       10  \n",
       "2      8       3           7        3  \n",
       "3      8       3           3        8  \n",
       "4      3       1           1        1  \n",
       "5      3       2           2        3  \n",
       "6      5       3           8        3  \n",
       "7     10       7           8        5  \n",
       "8      1       9           9        5  "
      ]
     },
     "metadata": {},
     "output_type": "display_data"
    }
   ],
   "source": [
    "display(hypothesis)"
   ]
  },
  {
   "cell_type": "code",
   "execution_count": 5,
   "metadata": {},
   "outputs": [
    {
     "name": "stdout",
     "output_type": "stream",
     "text": [
      "Кол-во дубликатов = 0\n"
     ]
    }
   ],
   "source": [
    "print(\"Кол-во дубликатов =\",hypothesis.duplicated().sum())"
   ]
  },
  {
   "cell_type": "code",
   "execution_count": 6,
   "metadata": {},
   "outputs": [
    {
     "name": "stdout",
     "output_type": "stream",
     "text": [
      "<class 'pandas.core.frame.DataFrame'>\n",
      "RangeIndex: 1197 entries, 0 to 1196\n",
      "Data columns (total 5 columns):\n",
      " #   Column         Non-Null Count  Dtype \n",
      "---  ------         --------------  ----- \n",
      " 0   transactionId  1197 non-null   int64 \n",
      " 1   visitorId      1197 non-null   int64 \n",
      " 2   date           1197 non-null   object\n",
      " 3   revenue        1197 non-null   int64 \n",
      " 4   group          1197 non-null   object\n",
      "dtypes: int64(3), object(2)\n",
      "memory usage: 46.9+ KB\n"
     ]
    }
   ],
   "source": [
    "orders.info()"
   ]
  },
  {
   "cell_type": "code",
   "execution_count": 7,
   "metadata": {},
   "outputs": [
    {
     "data": {
      "text/html": [
       "<div>\n",
       "<style scoped>\n",
       "    .dataframe tbody tr th:only-of-type {\n",
       "        vertical-align: middle;\n",
       "    }\n",
       "\n",
       "    .dataframe tbody tr th {\n",
       "        vertical-align: top;\n",
       "    }\n",
       "\n",
       "    .dataframe thead th {\n",
       "        text-align: right;\n",
       "    }\n",
       "</style>\n",
       "<table border=\"1\" class=\"dataframe\">\n",
       "  <thead>\n",
       "    <tr style=\"text-align: right;\">\n",
       "      <th></th>\n",
       "      <th>transactionId</th>\n",
       "      <th>visitorId</th>\n",
       "      <th>date</th>\n",
       "      <th>revenue</th>\n",
       "      <th>group</th>\n",
       "    </tr>\n",
       "  </thead>\n",
       "  <tbody>\n",
       "    <tr>\n",
       "      <th>0</th>\n",
       "      <td>3667963787</td>\n",
       "      <td>3312258926</td>\n",
       "      <td>2019-08-15</td>\n",
       "      <td>1650</td>\n",
       "      <td>B</td>\n",
       "    </tr>\n",
       "    <tr>\n",
       "      <th>1</th>\n",
       "      <td>2804400009</td>\n",
       "      <td>3642806036</td>\n",
       "      <td>2019-08-15</td>\n",
       "      <td>730</td>\n",
       "      <td>B</td>\n",
       "    </tr>\n",
       "    <tr>\n",
       "      <th>2</th>\n",
       "      <td>2961555356</td>\n",
       "      <td>4069496402</td>\n",
       "      <td>2019-08-15</td>\n",
       "      <td>400</td>\n",
       "      <td>A</td>\n",
       "    </tr>\n",
       "    <tr>\n",
       "      <th>3</th>\n",
       "      <td>3797467345</td>\n",
       "      <td>1196621759</td>\n",
       "      <td>2019-08-15</td>\n",
       "      <td>9759</td>\n",
       "      <td>B</td>\n",
       "    </tr>\n",
       "    <tr>\n",
       "      <th>4</th>\n",
       "      <td>2282983706</td>\n",
       "      <td>2322279887</td>\n",
       "      <td>2019-08-15</td>\n",
       "      <td>2308</td>\n",
       "      <td>B</td>\n",
       "    </tr>\n",
       "  </tbody>\n",
       "</table>\n",
       "</div>"
      ],
      "text/plain": [
       "   transactionId   visitorId        date  revenue group\n",
       "0     3667963787  3312258926  2019-08-15     1650     B\n",
       "1     2804400009  3642806036  2019-08-15      730     B\n",
       "2     2961555356  4069496402  2019-08-15      400     A\n",
       "3     3797467345  1196621759  2019-08-15     9759     B\n",
       "4     2282983706  2322279887  2019-08-15     2308     B"
      ]
     },
     "execution_count": 7,
     "metadata": {},
     "output_type": "execute_result"
    }
   ],
   "source": [
    "orders.head()"
   ]
  },
  {
   "cell_type": "code",
   "execution_count": 8,
   "metadata": {},
   "outputs": [],
   "source": [
    "#заменим тип столбца\n",
    "orders[\"date\"] = orders[\"date\"].map(lambda x: dt.datetime.strptime(x, '%Y-%m-%d'))\n"
   ]
  },
  {
   "cell_type": "code",
   "execution_count": 9,
   "metadata": {},
   "outputs": [
    {
     "name": "stdout",
     "output_type": "stream",
     "text": [
      "Кол-во дубликатов = 0\n"
     ]
    }
   ],
   "source": [
    "print(\"Кол-во дубликатов =\",orders.duplicated().sum())"
   ]
  },
  {
   "cell_type": "code",
   "execution_count": 10,
   "metadata": {},
   "outputs": [
    {
     "name": "stdout",
     "output_type": "stream",
     "text": [
      "<class 'pandas.core.frame.DataFrame'>\n",
      "RangeIndex: 62 entries, 0 to 61\n",
      "Data columns (total 3 columns):\n",
      " #   Column    Non-Null Count  Dtype \n",
      "---  ------    --------------  ----- \n",
      " 0   date      62 non-null     object\n",
      " 1   group     62 non-null     object\n",
      " 2   visitors  62 non-null     int64 \n",
      "dtypes: int64(1), object(2)\n",
      "memory usage: 1.6+ KB\n"
     ]
    }
   ],
   "source": [
    "visitors.info()"
   ]
  },
  {
   "cell_type": "code",
   "execution_count": 11,
   "metadata": {},
   "outputs": [
    {
     "data": {
      "text/html": [
       "<div>\n",
       "<style scoped>\n",
       "    .dataframe tbody tr th:only-of-type {\n",
       "        vertical-align: middle;\n",
       "    }\n",
       "\n",
       "    .dataframe tbody tr th {\n",
       "        vertical-align: top;\n",
       "    }\n",
       "\n",
       "    .dataframe thead th {\n",
       "        text-align: right;\n",
       "    }\n",
       "</style>\n",
       "<table border=\"1\" class=\"dataframe\">\n",
       "  <thead>\n",
       "    <tr style=\"text-align: right;\">\n",
       "      <th></th>\n",
       "      <th>date</th>\n",
       "      <th>group</th>\n",
       "      <th>visitors</th>\n",
       "    </tr>\n",
       "  </thead>\n",
       "  <tbody>\n",
       "    <tr>\n",
       "      <th>0</th>\n",
       "      <td>2019-08-01</td>\n",
       "      <td>A</td>\n",
       "      <td>719</td>\n",
       "    </tr>\n",
       "    <tr>\n",
       "      <th>1</th>\n",
       "      <td>2019-08-02</td>\n",
       "      <td>A</td>\n",
       "      <td>619</td>\n",
       "    </tr>\n",
       "    <tr>\n",
       "      <th>2</th>\n",
       "      <td>2019-08-03</td>\n",
       "      <td>A</td>\n",
       "      <td>507</td>\n",
       "    </tr>\n",
       "    <tr>\n",
       "      <th>3</th>\n",
       "      <td>2019-08-04</td>\n",
       "      <td>A</td>\n",
       "      <td>717</td>\n",
       "    </tr>\n",
       "    <tr>\n",
       "      <th>4</th>\n",
       "      <td>2019-08-05</td>\n",
       "      <td>A</td>\n",
       "      <td>756</td>\n",
       "    </tr>\n",
       "  </tbody>\n",
       "</table>\n",
       "</div>"
      ],
      "text/plain": [
       "         date group  visitors\n",
       "0  2019-08-01     A       719\n",
       "1  2019-08-02     A       619\n",
       "2  2019-08-03     A       507\n",
       "3  2019-08-04     A       717\n",
       "4  2019-08-05     A       756"
      ]
     },
     "execution_count": 11,
     "metadata": {},
     "output_type": "execute_result"
    }
   ],
   "source": [
    "visitors.head()"
   ]
  },
  {
   "cell_type": "code",
   "execution_count": 12,
   "metadata": {},
   "outputs": [],
   "source": [
    "#так же заменим тип данных\n",
    "visitors[\"date\"] = visitors[\"date\"].map(lambda x: dt.datetime.strptime(x, '%Y-%m-%d'))"
   ]
  },
  {
   "cell_type": "code",
   "execution_count": 13,
   "metadata": {},
   "outputs": [
    {
     "name": "stdout",
     "output_type": "stream",
     "text": [
      "Кол-во дубликатов = 0\n"
     ]
    }
   ],
   "source": [
    "print(\"Кол-во дубликатов =\",visitors.duplicated().sum())"
   ]
  },
  {
   "cell_type": "markdown",
   "metadata": {},
   "source": [
    "*Вывод :*  \n",
    "**Все данные подготовлены, дубликатов нет, можем приступать к анализу.**\n"
   ]
  },
  {
   "cell_type": "markdown",
   "metadata": {},
   "source": [
    " ## Приоритизация гипотез."
   ]
  },
  {
   "cell_type": "markdown",
   "metadata": {},
   "source": [
    "- Примените фреймворк ***ICE*** для приоритизации гипотез. Отсортируйте их по убыванию приоритета.  \n",
    "\n",
    "- Примените фреймворк ***RICE*** для приоритизации гипотез. Отсортируйте их по убыванию приоритета.\n",
    "\n",
    "- Укажите, как изменилась приоритизация гипотез при применении ***RICE*** вместо ***ICE***. Объясните, почему так произошло "
   ]
  },
  {
   "cell_type": "code",
   "execution_count": 14,
   "metadata": {},
   "outputs": [
    {
     "data": {
      "text/html": [
       "<div>\n",
       "<style scoped>\n",
       "    .dataframe tbody tr th:only-of-type {\n",
       "        vertical-align: middle;\n",
       "    }\n",
       "\n",
       "    .dataframe tbody tr th {\n",
       "        vertical-align: top;\n",
       "    }\n",
       "\n",
       "    .dataframe thead th {\n",
       "        text-align: right;\n",
       "    }\n",
       "</style>\n",
       "<table border=\"1\" class=\"dataframe\">\n",
       "  <thead>\n",
       "    <tr style=\"text-align: right;\">\n",
       "      <th></th>\n",
       "      <th>Hypothesis</th>\n",
       "      <th>Reach</th>\n",
       "      <th>Impact</th>\n",
       "      <th>Confidence</th>\n",
       "      <th>Efforts</th>\n",
       "    </tr>\n",
       "  </thead>\n",
       "  <tbody>\n",
       "    <tr>\n",
       "      <th>0</th>\n",
       "      <td>Добавить два новых канала привлечения трафика, что позволит привлекать на 30% больше пользователей</td>\n",
       "      <td>3</td>\n",
       "      <td>10</td>\n",
       "      <td>8</td>\n",
       "      <td>6</td>\n",
       "    </tr>\n",
       "    <tr>\n",
       "      <th>1</th>\n",
       "      <td>Запустить собственную службу доставки, что сократит срок доставки заказов</td>\n",
       "      <td>2</td>\n",
       "      <td>5</td>\n",
       "      <td>4</td>\n",
       "      <td>10</td>\n",
       "    </tr>\n",
       "    <tr>\n",
       "      <th>2</th>\n",
       "      <td>Добавить блоки рекомендаций товаров на сайт интернет магазина, чтобы повысить конверсию и средний чек заказа</td>\n",
       "      <td>8</td>\n",
       "      <td>3</td>\n",
       "      <td>7</td>\n",
       "      <td>3</td>\n",
       "    </tr>\n",
       "    <tr>\n",
       "      <th>3</th>\n",
       "      <td>Изменить структура категорий, что увеличит конверсию, т.к. пользователи быстрее найдут нужный товар</td>\n",
       "      <td>8</td>\n",
       "      <td>3</td>\n",
       "      <td>3</td>\n",
       "      <td>8</td>\n",
       "    </tr>\n",
       "    <tr>\n",
       "      <th>4</th>\n",
       "      <td>Изменить цвет фона главной страницы, чтобы увеличить вовлеченность пользователей</td>\n",
       "      <td>3</td>\n",
       "      <td>1</td>\n",
       "      <td>1</td>\n",
       "      <td>1</td>\n",
       "    </tr>\n",
       "    <tr>\n",
       "      <th>5</th>\n",
       "      <td>Добавить страницу отзывов клиентов о магазине, что позволит увеличить количество заказов</td>\n",
       "      <td>3</td>\n",
       "      <td>2</td>\n",
       "      <td>2</td>\n",
       "      <td>3</td>\n",
       "    </tr>\n",
       "    <tr>\n",
       "      <th>6</th>\n",
       "      <td>Показать на главной странице баннеры с актуальными акциями и распродажами, чтобы увеличить конверсию</td>\n",
       "      <td>5</td>\n",
       "      <td>3</td>\n",
       "      <td>8</td>\n",
       "      <td>3</td>\n",
       "    </tr>\n",
       "    <tr>\n",
       "      <th>7</th>\n",
       "      <td>Добавить форму подписки на все основные страницы, чтобы собрать базу клиентов для email-рассылок</td>\n",
       "      <td>10</td>\n",
       "      <td>7</td>\n",
       "      <td>8</td>\n",
       "      <td>5</td>\n",
       "    </tr>\n",
       "    <tr>\n",
       "      <th>8</th>\n",
       "      <td>Запустить акцию, дающую скидку на товар в день рождения</td>\n",
       "      <td>1</td>\n",
       "      <td>9</td>\n",
       "      <td>9</td>\n",
       "      <td>5</td>\n",
       "    </tr>\n",
       "  </tbody>\n",
       "</table>\n",
       "</div>"
      ],
      "text/plain": [
       "                                                                                                     Hypothesis  \\\n",
       "0            Добавить два новых канала привлечения трафика, что позволит привлекать на 30% больше пользователей   \n",
       "1                                     Запустить собственную службу доставки, что сократит срок доставки заказов   \n",
       "2  Добавить блоки рекомендаций товаров на сайт интернет магазина, чтобы повысить конверсию и средний чек заказа   \n",
       "3           Изменить структура категорий, что увеличит конверсию, т.к. пользователи быстрее найдут нужный товар   \n",
       "4                              Изменить цвет фона главной страницы, чтобы увеличить вовлеченность пользователей   \n",
       "5                      Добавить страницу отзывов клиентов о магазине, что позволит увеличить количество заказов   \n",
       "6          Показать на главной странице баннеры с актуальными акциями и распродажами, чтобы увеличить конверсию   \n",
       "7              Добавить форму подписки на все основные страницы, чтобы собрать базу клиентов для email-рассылок   \n",
       "8                                                       Запустить акцию, дающую скидку на товар в день рождения   \n",
       "\n",
       "   Reach  Impact  Confidence  Efforts  \n",
       "0      3      10           8        6  \n",
       "1      2       5           4       10  \n",
       "2      8       3           7        3  \n",
       "3      8       3           3        8  \n",
       "4      3       1           1        1  \n",
       "5      3       2           2        3  \n",
       "6      5       3           8        3  \n",
       "7     10       7           8        5  \n",
       "8      1       9           9        5  "
      ]
     },
     "metadata": {},
     "output_type": "display_data"
    }
   ],
   "source": [
    "display(hypothesis)"
   ]
  },
  {
   "cell_type": "code",
   "execution_count": 15,
   "metadata": {},
   "outputs": [],
   "source": [
    "hypothesis['ICE'] = ((hypothesis['Impact'] * hypothesis['Confidence']) / hypothesis['Efforts']).round(1)\n",
    "hypothesis['RICE'] = (hypothesis['Reach']  *hypothesis['Impact'] * hypothesis['Confidence']) / hypothesis['Efforts']"
   ]
  },
  {
   "cell_type": "code",
   "execution_count": 16,
   "metadata": {},
   "outputs": [
    {
     "data": {
      "text/html": [
       "<div>\n",
       "<style scoped>\n",
       "    .dataframe tbody tr th:only-of-type {\n",
       "        vertical-align: middle;\n",
       "    }\n",
       "\n",
       "    .dataframe tbody tr th {\n",
       "        vertical-align: top;\n",
       "    }\n",
       "\n",
       "    .dataframe thead th {\n",
       "        text-align: right;\n",
       "    }\n",
       "</style>\n",
       "<table border=\"1\" class=\"dataframe\">\n",
       "  <thead>\n",
       "    <tr style=\"text-align: right;\">\n",
       "      <th></th>\n",
       "      <th>ICE</th>\n",
       "      <th>Hypothesis</th>\n",
       "    </tr>\n",
       "  </thead>\n",
       "  <tbody>\n",
       "    <tr>\n",
       "      <th>8</th>\n",
       "      <td>16.2</td>\n",
       "      <td>Запустить акцию, дающую скидку на товар в день рождения</td>\n",
       "    </tr>\n",
       "    <tr>\n",
       "      <th>0</th>\n",
       "      <td>13.3</td>\n",
       "      <td>Добавить два новых канала привлечения трафика, что позволит привлекать на 30% больше пользователей</td>\n",
       "    </tr>\n",
       "    <tr>\n",
       "      <th>7</th>\n",
       "      <td>11.2</td>\n",
       "      <td>Добавить форму подписки на все основные страницы, чтобы собрать базу клиентов для email-рассылок</td>\n",
       "    </tr>\n",
       "    <tr>\n",
       "      <th>6</th>\n",
       "      <td>8.0</td>\n",
       "      <td>Показать на главной странице баннеры с актуальными акциями и распродажами, чтобы увеличить конверсию</td>\n",
       "    </tr>\n",
       "    <tr>\n",
       "      <th>2</th>\n",
       "      <td>7.0</td>\n",
       "      <td>Добавить блоки рекомендаций товаров на сайт интернет магазина, чтобы повысить конверсию и средний чек заказа</td>\n",
       "    </tr>\n",
       "    <tr>\n",
       "      <th>1</th>\n",
       "      <td>2.0</td>\n",
       "      <td>Запустить собственную службу доставки, что сократит срок доставки заказов</td>\n",
       "    </tr>\n",
       "    <tr>\n",
       "      <th>5</th>\n",
       "      <td>1.3</td>\n",
       "      <td>Добавить страницу отзывов клиентов о магазине, что позволит увеличить количество заказов</td>\n",
       "    </tr>\n",
       "    <tr>\n",
       "      <th>3</th>\n",
       "      <td>1.1</td>\n",
       "      <td>Изменить структура категорий, что увеличит конверсию, т.к. пользователи быстрее найдут нужный товар</td>\n",
       "    </tr>\n",
       "    <tr>\n",
       "      <th>4</th>\n",
       "      <td>1.0</td>\n",
       "      <td>Изменить цвет фона главной страницы, чтобы увеличить вовлеченность пользователей</td>\n",
       "    </tr>\n",
       "  </tbody>\n",
       "</table>\n",
       "</div>"
      ],
      "text/plain": [
       "    ICE  \\\n",
       "8  16.2   \n",
       "0  13.3   \n",
       "7  11.2   \n",
       "6   8.0   \n",
       "2   7.0   \n",
       "1   2.0   \n",
       "5   1.3   \n",
       "3   1.1   \n",
       "4   1.0   \n",
       "\n",
       "                                                                                                     Hypothesis  \n",
       "8                                                       Запустить акцию, дающую скидку на товар в день рождения  \n",
       "0            Добавить два новых канала привлечения трафика, что позволит привлекать на 30% больше пользователей  \n",
       "7              Добавить форму подписки на все основные страницы, чтобы собрать базу клиентов для email-рассылок  \n",
       "6          Показать на главной странице баннеры с актуальными акциями и распродажами, чтобы увеличить конверсию  \n",
       "2  Добавить блоки рекомендаций товаров на сайт интернет магазина, чтобы повысить конверсию и средний чек заказа  \n",
       "1                                     Запустить собственную службу доставки, что сократит срок доставки заказов  \n",
       "5                      Добавить страницу отзывов клиентов о магазине, что позволит увеличить количество заказов  \n",
       "3           Изменить структура категорий, что увеличит конверсию, т.к. пользователи быстрее найдут нужный товар  \n",
       "4                              Изменить цвет фона главной страницы, чтобы увеличить вовлеченность пользователей  "
      ]
     },
     "metadata": {},
     "output_type": "display_data"
    }
   ],
   "source": [
    "display(hypothesis[['ICE', 'Hypothesis']].sort_values(by='ICE', ascending=False))"
   ]
  },
  {
   "cell_type": "code",
   "execution_count": 17,
   "metadata": {},
   "outputs": [
    {
     "data": {
      "text/html": [
       "<div>\n",
       "<style scoped>\n",
       "    .dataframe tbody tr th:only-of-type {\n",
       "        vertical-align: middle;\n",
       "    }\n",
       "\n",
       "    .dataframe tbody tr th {\n",
       "        vertical-align: top;\n",
       "    }\n",
       "\n",
       "    .dataframe thead th {\n",
       "        text-align: right;\n",
       "    }\n",
       "</style>\n",
       "<table border=\"1\" class=\"dataframe\">\n",
       "  <thead>\n",
       "    <tr style=\"text-align: right;\">\n",
       "      <th></th>\n",
       "      <th>RICE</th>\n",
       "      <th>Hypothesis</th>\n",
       "      <th>Reach</th>\n",
       "    </tr>\n",
       "  </thead>\n",
       "  <tbody>\n",
       "    <tr>\n",
       "      <th>7</th>\n",
       "      <td>112.0</td>\n",
       "      <td>Добавить форму подписки на все основные страницы, чтобы собрать базу клиентов для email-рассылок</td>\n",
       "      <td>10</td>\n",
       "    </tr>\n",
       "    <tr>\n",
       "      <th>2</th>\n",
       "      <td>56.0</td>\n",
       "      <td>Добавить блоки рекомендаций товаров на сайт интернет магазина, чтобы повысить конверсию и средний чек заказа</td>\n",
       "      <td>8</td>\n",
       "    </tr>\n",
       "    <tr>\n",
       "      <th>0</th>\n",
       "      <td>40.0</td>\n",
       "      <td>Добавить два новых канала привлечения трафика, что позволит привлекать на 30% больше пользователей</td>\n",
       "      <td>3</td>\n",
       "    </tr>\n",
       "    <tr>\n",
       "      <th>6</th>\n",
       "      <td>40.0</td>\n",
       "      <td>Показать на главной странице баннеры с актуальными акциями и распродажами, чтобы увеличить конверсию</td>\n",
       "      <td>5</td>\n",
       "    </tr>\n",
       "    <tr>\n",
       "      <th>8</th>\n",
       "      <td>16.2</td>\n",
       "      <td>Запустить акцию, дающую скидку на товар в день рождения</td>\n",
       "      <td>1</td>\n",
       "    </tr>\n",
       "    <tr>\n",
       "      <th>3</th>\n",
       "      <td>9.0</td>\n",
       "      <td>Изменить структура категорий, что увеличит конверсию, т.к. пользователи быстрее найдут нужный товар</td>\n",
       "      <td>8</td>\n",
       "    </tr>\n",
       "    <tr>\n",
       "      <th>1</th>\n",
       "      <td>4.0</td>\n",
       "      <td>Запустить собственную службу доставки, что сократит срок доставки заказов</td>\n",
       "      <td>2</td>\n",
       "    </tr>\n",
       "    <tr>\n",
       "      <th>5</th>\n",
       "      <td>4.0</td>\n",
       "      <td>Добавить страницу отзывов клиентов о магазине, что позволит увеличить количество заказов</td>\n",
       "      <td>3</td>\n",
       "    </tr>\n",
       "    <tr>\n",
       "      <th>4</th>\n",
       "      <td>3.0</td>\n",
       "      <td>Изменить цвет фона главной страницы, чтобы увеличить вовлеченность пользователей</td>\n",
       "      <td>3</td>\n",
       "    </tr>\n",
       "  </tbody>\n",
       "</table>\n",
       "</div>"
      ],
      "text/plain": [
       "    RICE  \\\n",
       "7  112.0   \n",
       "2   56.0   \n",
       "0   40.0   \n",
       "6   40.0   \n",
       "8   16.2   \n",
       "3    9.0   \n",
       "1    4.0   \n",
       "5    4.0   \n",
       "4    3.0   \n",
       "\n",
       "                                                                                                     Hypothesis  \\\n",
       "7              Добавить форму подписки на все основные страницы, чтобы собрать базу клиентов для email-рассылок   \n",
       "2  Добавить блоки рекомендаций товаров на сайт интернет магазина, чтобы повысить конверсию и средний чек заказа   \n",
       "0            Добавить два новых канала привлечения трафика, что позволит привлекать на 30% больше пользователей   \n",
       "6          Показать на главной странице баннеры с актуальными акциями и распродажами, чтобы увеличить конверсию   \n",
       "8                                                       Запустить акцию, дающую скидку на товар в день рождения   \n",
       "3           Изменить структура категорий, что увеличит конверсию, т.к. пользователи быстрее найдут нужный товар   \n",
       "1                                     Запустить собственную службу доставки, что сократит срок доставки заказов   \n",
       "5                      Добавить страницу отзывов клиентов о магазине, что позволит увеличить количество заказов   \n",
       "4                              Изменить цвет фона главной страницы, чтобы увеличить вовлеченность пользователей   \n",
       "\n",
       "   Reach  \n",
       "7     10  \n",
       "2      8  \n",
       "0      3  \n",
       "6      5  \n",
       "8      1  \n",
       "3      8  \n",
       "1      2  \n",
       "5      3  \n",
       "4      3  "
      ]
     },
     "metadata": {},
     "output_type": "display_data"
    }
   ],
   "source": [
    "pd.options.display.max_colwidth = 400\n",
    "display(hypothesis[['RICE', 'Hypothesis', 'Reach']].sort_values(by='RICE', ascending=False))"
   ]
  },
  {
   "cell_type": "markdown",
   "metadata": {},
   "source": [
    "*Вывод:*   \n",
    "**Заметны различие, всё из-за учитывание в RICE параметра REACH(сколько максимальных пользователей затронет изменение.).Лидере ICE сместили аж на 5ую строчку в RICE. Поэтому предлагаю для тестирования гипотезу 7 и возможно еще 2.**"
   ]
  },
  {
   "cell_type": "markdown",
   "metadata": {},
   "source": [
    "##  Анализ A/B-теста "
   ]
  },
  {
   "cell_type": "code",
   "execution_count": 18,
   "metadata": {},
   "outputs": [
    {
     "data": {
      "text/plain": [
       "visitorId    58\n",
       "group        58\n",
       "dtype: int64"
      ]
     },
     "execution_count": 18,
     "metadata": {},
     "output_type": "execute_result"
    }
   ],
   "source": [
    "(orders.groupby(['visitorId'])['group'].nunique().reset_index().query('group > 1').count())  #выводим результат, где групп больше 1\n"
   ]
  },
  {
   "cell_type": "code",
   "execution_count": 19,
   "metadata": {},
   "outputs": [],
   "source": [
    "# отбираем группы из данных с заказами \n",
    "group_a=orders.query('group == \"A\"') \n",
    "group_b=orders.query('group == \"B\"') \n",
    "  \n",
    "# получаем пользователей, попавших в обе группы \n",
    "group_intersections=list(np.intersect1d(group_a['visitorId'], group_b['visitorId']))\n"
   ]
  },
  {
   "cell_type": "code",
   "execution_count": 20,
   "metadata": {},
   "outputs": [],
   "source": [
    "orders_without_intersections = orders.query('visitorId not in @group_intersections')"
   ]
  },
  {
   "cell_type": "code",
   "execution_count": 21,
   "metadata": {},
   "outputs": [],
   "source": [
    "orders = orders.query('visitorId not in @group_intersections')"
   ]
  },
  {
   "cell_type": "code",
   "execution_count": 22,
   "metadata": {},
   "outputs": [
    {
     "name": "stdout",
     "output_type": "stream",
     "text": [
      "<class 'pandas.core.frame.DataFrame'>\n",
      "Int64Index: 1016 entries, 0 to 1196\n",
      "Data columns (total 5 columns):\n",
      " #   Column         Non-Null Count  Dtype         \n",
      "---  ------         --------------  -----         \n",
      " 0   transactionId  1016 non-null   int64         \n",
      " 1   visitorId      1016 non-null   int64         \n",
      " 2   date           1016 non-null   datetime64[ns]\n",
      " 3   revenue        1016 non-null   int64         \n",
      " 4   group          1016 non-null   object        \n",
      "dtypes: datetime64[ns](1), int64(3), object(1)\n",
      "memory usage: 47.6+ KB\n"
     ]
    }
   ],
   "source": [
    "orders.info()"
   ]
  },
  {
   "cell_type": "markdown",
   "metadata": {},
   "source": [
    "****"
   ]
  },
  {
   "cell_type": "markdown",
   "metadata": {},
   "source": [
    "### Постройте график кумулятивной выручки по группам."
   ]
  },
  {
   "cell_type": "code",
   "execution_count": 23,
   "metadata": {},
   "outputs": [
    {
     "data": {
      "text/html": [
       "<div>\n",
       "<style scoped>\n",
       "    .dataframe tbody tr th:only-of-type {\n",
       "        vertical-align: middle;\n",
       "    }\n",
       "\n",
       "    .dataframe tbody tr th {\n",
       "        vertical-align: top;\n",
       "    }\n",
       "\n",
       "    .dataframe thead th {\n",
       "        text-align: right;\n",
       "    }\n",
       "</style>\n",
       "<table border=\"1\" class=\"dataframe\">\n",
       "  <thead>\n",
       "    <tr style=\"text-align: right;\">\n",
       "      <th></th>\n",
       "      <th>transactionId</th>\n",
       "      <th>visitorId</th>\n",
       "      <th>date</th>\n",
       "      <th>revenue</th>\n",
       "      <th>group</th>\n",
       "    </tr>\n",
       "  </thead>\n",
       "  <tbody>\n",
       "    <tr>\n",
       "      <th>0</th>\n",
       "      <td>3667963787</td>\n",
       "      <td>3312258926</td>\n",
       "      <td>2019-08-15</td>\n",
       "      <td>1650</td>\n",
       "      <td>B</td>\n",
       "    </tr>\n",
       "    <tr>\n",
       "      <th>1</th>\n",
       "      <td>2804400009</td>\n",
       "      <td>3642806036</td>\n",
       "      <td>2019-08-15</td>\n",
       "      <td>730</td>\n",
       "      <td>B</td>\n",
       "    </tr>\n",
       "    <tr>\n",
       "      <th>3</th>\n",
       "      <td>3797467345</td>\n",
       "      <td>1196621759</td>\n",
       "      <td>2019-08-15</td>\n",
       "      <td>9759</td>\n",
       "      <td>B</td>\n",
       "    </tr>\n",
       "    <tr>\n",
       "      <th>4</th>\n",
       "      <td>2282983706</td>\n",
       "      <td>2322279887</td>\n",
       "      <td>2019-08-15</td>\n",
       "      <td>2308</td>\n",
       "      <td>B</td>\n",
       "    </tr>\n",
       "    <tr>\n",
       "      <th>5</th>\n",
       "      <td>182168103</td>\n",
       "      <td>935554773</td>\n",
       "      <td>2019-08-15</td>\n",
       "      <td>2210</td>\n",
       "      <td>B</td>\n",
       "    </tr>\n",
       "  </tbody>\n",
       "</table>\n",
       "</div>"
      ],
      "text/plain": [
       "   transactionId   visitorId       date  revenue group\n",
       "0     3667963787  3312258926 2019-08-15     1650     B\n",
       "1     2804400009  3642806036 2019-08-15      730     B\n",
       "3     3797467345  1196621759 2019-08-15     9759     B\n",
       "4     2282983706  2322279887 2019-08-15     2308     B\n",
       "5      182168103   935554773 2019-08-15     2210     B"
      ]
     },
     "execution_count": 23,
     "metadata": {},
     "output_type": "execute_result"
    }
   ],
   "source": [
    "orders.head(5)"
   ]
  },
  {
   "cell_type": "code",
   "execution_count": 24,
   "metadata": {},
   "outputs": [
    {
     "data": {
      "text/plain": [
       "group\n",
       "A     92365\n",
       "B    107340\n",
       "Name: revenue, dtype: int64"
      ]
     },
     "execution_count": 24,
     "metadata": {},
     "output_type": "execute_result"
    }
   ],
   "source": [
    "orders.groupby(['date','group'])['revenue'].sum().groupby('group').median()"
   ]
  },
  {
   "cell_type": "code",
   "execution_count": 25,
   "metadata": {},
   "outputs": [
    {
     "data": {
      "text/html": [
       "<div>\n",
       "<style scoped>\n",
       "    .dataframe tbody tr th:only-of-type {\n",
       "        vertical-align: middle;\n",
       "    }\n",
       "\n",
       "    .dataframe tbody tr th {\n",
       "        vertical-align: top;\n",
       "    }\n",
       "\n",
       "    .dataframe thead th {\n",
       "        text-align: right;\n",
       "    }\n",
       "</style>\n",
       "<table border=\"1\" class=\"dataframe\">\n",
       "  <thead>\n",
       "    <tr style=\"text-align: right;\">\n",
       "      <th></th>\n",
       "      <th>date</th>\n",
       "      <th>group</th>\n",
       "      <th>visitors</th>\n",
       "    </tr>\n",
       "  </thead>\n",
       "  <tbody>\n",
       "    <tr>\n",
       "      <th>0</th>\n",
       "      <td>2019-08-01</td>\n",
       "      <td>A</td>\n",
       "      <td>719</td>\n",
       "    </tr>\n",
       "    <tr>\n",
       "      <th>1</th>\n",
       "      <td>2019-08-02</td>\n",
       "      <td>A</td>\n",
       "      <td>619</td>\n",
       "    </tr>\n",
       "    <tr>\n",
       "      <th>2</th>\n",
       "      <td>2019-08-03</td>\n",
       "      <td>A</td>\n",
       "      <td>507</td>\n",
       "    </tr>\n",
       "    <tr>\n",
       "      <th>3</th>\n",
       "      <td>2019-08-04</td>\n",
       "      <td>A</td>\n",
       "      <td>717</td>\n",
       "    </tr>\n",
       "    <tr>\n",
       "      <th>4</th>\n",
       "      <td>2019-08-05</td>\n",
       "      <td>A</td>\n",
       "      <td>756</td>\n",
       "    </tr>\n",
       "  </tbody>\n",
       "</table>\n",
       "</div>"
      ],
      "text/plain": [
       "        date group  visitors\n",
       "0 2019-08-01     A       719\n",
       "1 2019-08-02     A       619\n",
       "2 2019-08-03     A       507\n",
       "3 2019-08-04     A       717\n",
       "4 2019-08-05     A       756"
      ]
     },
     "execution_count": 25,
     "metadata": {},
     "output_type": "execute_result"
    }
   ],
   "source": [
    "visitors.head(5)"
   ]
  },
  {
   "cell_type": "code",
   "execution_count": 26,
   "metadata": {},
   "outputs": [
    {
     "data": {
      "text/html": [
       "<div>\n",
       "<style scoped>\n",
       "    .dataframe tbody tr th:only-of-type {\n",
       "        vertical-align: middle;\n",
       "    }\n",
       "\n",
       "    .dataframe tbody tr th {\n",
       "        vertical-align: top;\n",
       "    }\n",
       "\n",
       "    .dataframe thead th {\n",
       "        text-align: right;\n",
       "    }\n",
       "</style>\n",
       "<table border=\"1\" class=\"dataframe\">\n",
       "  <thead>\n",
       "    <tr style=\"text-align: right;\">\n",
       "      <th></th>\n",
       "      <th>date</th>\n",
       "      <th>group</th>\n",
       "    </tr>\n",
       "  </thead>\n",
       "  <tbody>\n",
       "    <tr>\n",
       "      <th>0</th>\n",
       "      <td>True</td>\n",
       "      <td>True</td>\n",
       "    </tr>\n",
       "    <tr>\n",
       "      <th>1</th>\n",
       "      <td>True</td>\n",
       "      <td>True</td>\n",
       "    </tr>\n",
       "    <tr>\n",
       "      <th>2</th>\n",
       "      <td>True</td>\n",
       "      <td>True</td>\n",
       "    </tr>\n",
       "    <tr>\n",
       "      <th>3</th>\n",
       "      <td>True</td>\n",
       "      <td>True</td>\n",
       "    </tr>\n",
       "    <tr>\n",
       "      <th>4</th>\n",
       "      <td>True</td>\n",
       "      <td>True</td>\n",
       "    </tr>\n",
       "    <tr>\n",
       "      <th>...</th>\n",
       "      <td>...</td>\n",
       "      <td>...</td>\n",
       "    </tr>\n",
       "    <tr>\n",
       "      <th>57</th>\n",
       "      <td>True</td>\n",
       "      <td>True</td>\n",
       "    </tr>\n",
       "    <tr>\n",
       "      <th>58</th>\n",
       "      <td>True</td>\n",
       "      <td>True</td>\n",
       "    </tr>\n",
       "    <tr>\n",
       "      <th>59</th>\n",
       "      <td>True</td>\n",
       "      <td>True</td>\n",
       "    </tr>\n",
       "    <tr>\n",
       "      <th>60</th>\n",
       "      <td>True</td>\n",
       "      <td>True</td>\n",
       "    </tr>\n",
       "    <tr>\n",
       "      <th>61</th>\n",
       "      <td>True</td>\n",
       "      <td>True</td>\n",
       "    </tr>\n",
       "  </tbody>\n",
       "</table>\n",
       "<p>62 rows × 2 columns</p>\n",
       "</div>"
      ],
      "text/plain": [
       "    date  group\n",
       "0   True   True\n",
       "1   True   True\n",
       "2   True   True\n",
       "3   True   True\n",
       "4   True   True\n",
       "..   ...    ...\n",
       "57  True   True\n",
       "58  True   True\n",
       "59  True   True\n",
       "60  True   True\n",
       "61  True   True\n",
       "\n",
       "[62 rows x 2 columns]"
      ]
     },
     "execution_count": 26,
     "metadata": {},
     "output_type": "execute_result"
    }
   ],
   "source": [
    "#Проверим одиннаковые ли данные.\n",
    "compare_dg = orders[['date','group']].drop_duplicates().sort_values(by=['date','group']).reset_index(drop=True) == \\\n",
    "                        visitors[['date','group']].drop_duplicates().sort_values(by=['date','group']).reset_index(drop=True)\n",
    "compare_dg"
   ]
  },
  {
   "cell_type": "code",
   "execution_count": 27,
   "metadata": {},
   "outputs": [
    {
     "data": {
      "text/plain": [
       "(62, 62)"
      ]
     },
     "execution_count": 27,
     "metadata": {},
     "output_type": "execute_result"
    }
   ],
   "source": [
    "compare_dg['date'].sum() , compare_dg['group'].sum()"
   ]
  },
  {
   "cell_type": "code",
   "execution_count": 28,
   "metadata": {},
   "outputs": [
    {
     "name": "stdout",
     "output_type": "stream",
     "text": [
      "        date group  orders  buyers  revenue  visitors\n",
      "0 2019-08-01     A      23      19   142779       719\n",
      "1 2019-08-01     B      17      17    59758       713\n",
      "2 2019-08-02     A      42      36   234381      1338\n",
      "3 2019-08-02     B      40      39   221801      1294\n",
      "4 2019-08-03     A      66      60   346854      1845\n"
     ]
    }
   ],
   "source": [
    "# Создадим таблицу cumulativeData куммулятивных данных по обеим таблицам\n",
    "# создаем массив уникальных пар значений дат и групп теста\n",
    "datesGroups = orders[['date','group']].drop_duplicates()\n",
    "\n",
    "# получаем агрегированные кумулятивные по дням данные о заказах \n",
    "ordersAggregated = datesGroups.apply(lambda x: orders[np.logical_and(orders['date'] <= x['date'], orders['group'] == x['group'])].agg({'date' : 'max', 'group' : 'max', 'transactionId' : 'nunique', 'visitorId' : 'nunique', 'revenue' : 'sum'}), axis=1).sort_values(by=['date','group'])\n",
    "\n",
    "# получаем агрегированные кумулятивные по дням данные о посетителях интернет-магазина \n",
    "visitorsAggregated = datesGroups.apply(lambda x: visitors[np.logical_and(visitors['date'] <= x['date'], visitors['group'] == x['group'])].agg({'date' : 'max', 'group' : 'max', 'visitors' : 'sum'}), axis=1).sort_values(by=['date','group'])\n",
    "\n",
    "# объединяем кумулятивные данные в одной таблице и присваиваем ее столбцам понятные названия\n",
    "cumulativeData = ordersAggregated.merge(visitorsAggregated, left_on=['date', 'group'], right_on=['date', 'group'])\n",
    "cumulativeData.columns = ['date', 'group', 'orders', 'buyers', 'revenue', 'visitors']\n",
    "\n",
    "print(cumulativeData.head(5))"
   ]
  },
  {
   "cell_type": "code",
   "execution_count": 29,
   "metadata": {},
   "outputs": [
    {
     "data": {
      "image/png": "[encoded data removed]",
      "text/plain": [
       "<Figure size 1080x360 with 1 Axes>"
      ]
     },
     "metadata": {
      "needs_background": "light"
     },
     "output_type": "display_data"
    }
   ],
   "source": [
    "# датафрейм с кумулятивным количеством заказов и кумулятивной выручкой по дням в группе А\n",
    "cumulativeRevenueA = cumulativeData[cumulativeData['group']=='A'][['date','revenue', 'orders']]\n",
    "\n",
    "# датафрейм с кумулятивным количеством заказов и кумулятивной выручкой по дням в группе B\n",
    "cumulativeRevenueB = cumulativeData[cumulativeData['group']=='B'][['date','revenue', 'orders']]\n",
    "plt.figure(figsize=(15,5))\n",
    "plt.title('графики кумулятивной выручки по дням и группам A/B-тестирования')\n",
    "# Строим график выручки группы А\n",
    "plt.plot(cumulativeRevenueA['date'], cumulativeRevenueA['revenue'], label='A')\n",
    "\n",
    "# Строим график выручки группы B\n",
    "plt.plot(cumulativeRevenueB['date'], cumulativeRevenueB['revenue'], label='B')\n",
    "plt.xlabel(\"date\")\n",
    "plt.ylabel(\"revenue\")\n",
    "plt.grid()\n",
    "plt.show() "
   ]
  },
  {
   "cell_type": "markdown",
   "metadata": {},
   "source": [
    "**В первой половине месяца видно, что выручка в группе \"B\" растёт чуть быстрее, чем в \"A\". 13 августа выручки примерно равны. После 19 августа сильный всплеск выручки в группе \"B\" , возможно какие-то большие заказы, необходимо проверить.**"
   ]
  },
  {
   "cell_type": "markdown",
   "metadata": {},
   "source": [
    "Посмотрим какие заказы были 19 августа."
   ]
  },
  {
   "cell_type": "code",
   "execution_count": 30,
   "metadata": {},
   "outputs": [
    {
     "data": {
      "text/html": [
       "<div>\n",
       "<style scoped>\n",
       "    .dataframe tbody tr th:only-of-type {\n",
       "        vertical-align: middle;\n",
       "    }\n",
       "\n",
       "    .dataframe tbody tr th {\n",
       "        vertical-align: top;\n",
       "    }\n",
       "\n",
       "    .dataframe thead th {\n",
       "        text-align: right;\n",
       "    }\n",
       "</style>\n",
       "<table border=\"1\" class=\"dataframe\">\n",
       "  <thead>\n",
       "    <tr style=\"text-align: right;\">\n",
       "      <th></th>\n",
       "      <th>date</th>\n",
       "      <th>revenue</th>\n",
       "      <th>orders</th>\n",
       "    </tr>\n",
       "  </thead>\n",
       "  <tbody>\n",
       "    <tr>\n",
       "      <th>33</th>\n",
       "      <td>2019-08-17</td>\n",
       "      <td>2155542</td>\n",
       "      <td>320</td>\n",
       "    </tr>\n",
       "    <tr>\n",
       "      <th>35</th>\n",
       "      <td>2019-08-18</td>\n",
       "      <td>2190865</td>\n",
       "      <td>327</td>\n",
       "    </tr>\n",
       "    <tr>\n",
       "      <th>37</th>\n",
       "      <td>2019-08-19</td>\n",
       "      <td>3620785</td>\n",
       "      <td>348</td>\n",
       "    </tr>\n",
       "    <tr>\n",
       "      <th>39</th>\n",
       "      <td>2019-08-20</td>\n",
       "      <td>3768059</td>\n",
       "      <td>368</td>\n",
       "    </tr>\n",
       "    <tr>\n",
       "      <th>41</th>\n",
       "      <td>2019-08-21</td>\n",
       "      <td>3908406</td>\n",
       "      <td>380</td>\n",
       "    </tr>\n",
       "  </tbody>\n",
       "</table>\n",
       "</div>"
      ],
      "text/plain": [
       "         date  revenue  orders\n",
       "33 2019-08-17  2155542     320\n",
       "35 2019-08-18  2190865     327\n",
       "37 2019-08-19  3620785     348\n",
       "39 2019-08-20  3768059     368\n",
       "41 2019-08-21  3908406     380"
      ]
     },
     "execution_count": 30,
     "metadata": {},
     "output_type": "execute_result"
    }
   ],
   "source": [
    "cumulativeRevenueB.query(' \"2019-08-17\" <= date <= \"2019-08-21\" ')"
   ]
  },
  {
   "cell_type": "code",
   "execution_count": 31,
   "metadata": {},
   "outputs": [
    {
     "name": "stdout",
     "output_type": "stream",
     "text": [
      "Медианное значение одного заказа 19 августа = 2578.0\n"
     ]
    },
    {
     "data": {
      "text/html": [
       "<div>\n",
       "<style scoped>\n",
       "    .dataframe tbody tr th:only-of-type {\n",
       "        vertical-align: middle;\n",
       "    }\n",
       "\n",
       "    .dataframe tbody tr th {\n",
       "        vertical-align: top;\n",
       "    }\n",
       "\n",
       "    .dataframe thead th {\n",
       "        text-align: right;\n",
       "    }\n",
       "</style>\n",
       "<table border=\"1\" class=\"dataframe\">\n",
       "  <thead>\n",
       "    <tr style=\"text-align: right;\">\n",
       "      <th></th>\n",
       "      <th>transactionId</th>\n",
       "      <th>visitorId</th>\n",
       "      <th>date</th>\n",
       "      <th>revenue</th>\n",
       "      <th>group</th>\n",
       "    </tr>\n",
       "  </thead>\n",
       "  <tbody>\n",
       "    <tr>\n",
       "      <th>425</th>\n",
       "      <td>590470918</td>\n",
       "      <td>1920142716</td>\n",
       "      <td>2019-08-19</td>\n",
       "      <td>1294500</td>\n",
       "      <td>B</td>\n",
       "    </tr>\n",
       "    <tr>\n",
       "      <th>530</th>\n",
       "      <td>3970235543</td>\n",
       "      <td>2912540959</td>\n",
       "      <td>2019-08-19</td>\n",
       "      <td>43990</td>\n",
       "      <td>A</td>\n",
       "    </tr>\n",
       "    <tr>\n",
       "      <th>527</th>\n",
       "      <td>1570513684</td>\n",
       "      <td>2837914161</td>\n",
       "      <td>2019-08-19</td>\n",
       "      <td>33405</td>\n",
       "      <td>B</td>\n",
       "    </tr>\n",
       "    <tr>\n",
       "      <th>421</th>\n",
       "      <td>3765974140</td>\n",
       "      <td>1357170471</td>\n",
       "      <td>2019-08-19</td>\n",
       "      <td>31680</td>\n",
       "      <td>A</td>\n",
       "    </tr>\n",
       "    <tr>\n",
       "      <th>461</th>\n",
       "      <td>2683113224</td>\n",
       "      <td>154576532</td>\n",
       "      <td>2019-08-19</td>\n",
       "      <td>26550</td>\n",
       "      <td>B</td>\n",
       "    </tr>\n",
       "    <tr>\n",
       "      <th>368</th>\n",
       "      <td>3268879337</td>\n",
       "      <td>2536252163</td>\n",
       "      <td>2019-08-19</td>\n",
       "      <td>20026</td>\n",
       "      <td>B</td>\n",
       "    </tr>\n",
       "    <tr>\n",
       "      <th>366</th>\n",
       "      <td>2037051350</td>\n",
       "      <td>1957949546</td>\n",
       "      <td>2019-08-19</td>\n",
       "      <td>16770</td>\n",
       "      <td>A</td>\n",
       "    </tr>\n",
       "    <tr>\n",
       "      <th>463</th>\n",
       "      <td>4170537404</td>\n",
       "      <td>290022471</td>\n",
       "      <td>2019-08-19</td>\n",
       "      <td>16480</td>\n",
       "      <td>B</td>\n",
       "    </tr>\n",
       "    <tr>\n",
       "      <th>531</th>\n",
       "      <td>4016435970</td>\n",
       "      <td>4017075195</td>\n",
       "      <td>2019-08-19</td>\n",
       "      <td>13390</td>\n",
       "      <td>A</td>\n",
       "    </tr>\n",
       "    <tr>\n",
       "      <th>318</th>\n",
       "      <td>3412626998</td>\n",
       "      <td>3282099314</td>\n",
       "      <td>2019-08-19</td>\n",
       "      <td>11985</td>\n",
       "      <td>A</td>\n",
       "    </tr>\n",
       "  </tbody>\n",
       "</table>\n",
       "</div>"
      ],
      "text/plain": [
       "     transactionId   visitorId       date  revenue group\n",
       "425      590470918  1920142716 2019-08-19  1294500     B\n",
       "530     3970235543  2912540959 2019-08-19    43990     A\n",
       "527     1570513684  2837914161 2019-08-19    33405     B\n",
       "421     3765974140  1357170471 2019-08-19    31680     A\n",
       "461     2683113224   154576532 2019-08-19    26550     B\n",
       "368     3268879337  2536252163 2019-08-19    20026     B\n",
       "366     2037051350  1957949546 2019-08-19    16770     A\n",
       "463     4170537404   290022471 2019-08-19    16480     B\n",
       "531     4016435970  4017075195 2019-08-19    13390     A\n",
       "318     3412626998  3282099314 2019-08-19    11985     A"
      ]
     },
     "execution_count": 31,
     "metadata": {},
     "output_type": "execute_result"
    }
   ],
   "source": [
    "print('Медианное значение одного заказа 19 августа =',orders.query(' date == \"2019-08-19\" ')['revenue'].median())\n",
    "orders.query(' date == \"2019-08-19\" ').sort_values(by='revenue', ascending=False).head(10)"
   ]
  },
  {
   "cell_type": "markdown",
   "metadata": {},
   "source": [
    "Вот это заказ... Заказ 425 во много раз превосходит медианное значение, видно что это выброс и в дальнейшем необходимо будет это учитывать."
   ]
  },
  {
   "cell_type": "markdown",
   "metadata": {},
   "source": [
    "### Постройте график кумулятивного среднего чека по группам."
   ]
  },
  {
   "cell_type": "code",
   "execution_count": 32,
   "metadata": {},
   "outputs": [
    {
     "data": {
      "image/png": "[encoded data removed]",
      "text/plain": [
       "<Figure size 1080x360 with 1 Axes>"
      ]
     },
     "metadata": {
      "needs_background": "light"
     },
     "output_type": "display_data"
    }
   ],
   "source": [
    "#Построим графики среднего чека по группам — разделим кумулятивную выручку на кумулятивное число заказов:\n",
    "plt.figure(figsize=(15,5))\n",
    "plt.plot(cumulativeRevenueA['date'], cumulativeRevenueA['revenue']/cumulativeRevenueA['orders'], label='A')\n",
    "plt.plot(cumulativeRevenueB['date'], cumulativeRevenueB['revenue']/cumulativeRevenueB['orders'], label='B')\n",
    "plt.title('график кумулятивного среднего чека по дням и группам A/B-тестирования')\n",
    "plt.xlabel(\"date\")\n",
    "plt.ylabel(\"Average check\")\n",
    "plt.show()"
   ]
  },
  {
   "cell_type": "markdown",
   "metadata": {},
   "source": [
    "**Схожая картина кум. вырочкой, после 18го августа сильный скачок. Видим сильные колебания в первой половине месяца и примерно равномерный средний чек во второй.**"
   ]
  },
  {
   "cell_type": "markdown",
   "metadata": {},
   "source": [
    "### Постройте график относительного изменения кумулятивного среднего чека группы B к группе A."
   ]
  },
  {
   "cell_type": "code",
   "execution_count": 33,
   "metadata": {},
   "outputs": [
    {
     "data": {
      "image/png": "[encoded data removed]",
      "text/plain": [
       "<Figure size 1080x360 with 1 Axes>"
      ]
     },
     "metadata": {
      "needs_background": "light"
     },
     "output_type": "display_data"
    }
   ],
   "source": [
    "# собираем данные в одном датафрейме\n",
    "mergedCumulativeRevenue = cumulativeRevenueA.merge(cumulativeRevenueB, left_on='date', right_on='date', how='left', suffixes=['A', 'B'])\n",
    "\n",
    "# cтроим отношение средних чеков\n",
    "plt.figure(figsize=(15,5))\n",
    "plt.plot(mergedCumulativeRevenue['date'], (mergedCumulativeRevenue['revenueB']/mergedCumulativeRevenue['ordersB'])/(mergedCumulativeRevenue['revenueA']/mergedCumulativeRevenue['ordersA'])-1)\n",
    "plt.title('Относительное изменение кумулятивного среднего чека групп \"B\" к \"А\"')\n",
    "# добавляем ось X\n",
    "plt.axhline(y=0, color='black', linestyle='--')\n",
    "plt.xlabel(\"date\")\n",
    "plt.ylabel(\"Cumulative average check\")\n",
    "plt.show()"
   ]
  },
  {
   "cell_type": "markdown",
   "metadata": {},
   "source": [
    "**Аналогичный вывовод из пунка 4.2. надо смотреть данные без выбросов.**"
   ]
  },
  {
   "cell_type": "markdown",
   "metadata": {},
   "source": [
    "### Постройте график кумулятивной конверсии по группам."
   ]
  },
  {
   "cell_type": "code",
   "execution_count": 34,
   "metadata": {},
   "outputs": [
    {
     "data": {
      "image/png": "[encoded data removed]",
      "text/plain": [
       "<Figure size 1080x360 with 1 Axes>"
      ]
     },
     "metadata": {
      "needs_background": "light"
     },
     "output_type": "display_data"
    }
   ],
   "source": [
    "# считаем кумулятивную конверсию\n",
    "cumulativeData['conversion'] = cumulativeData['orders']/cumulativeData['visitors']\n",
    "\n",
    "# отделяем данные по группе A\n",
    "cumulativeDataA = cumulativeData[cumulativeData['group']=='A']\n",
    "\n",
    "# отделяем данные по группе B\n",
    "cumulativeDataB = cumulativeData[cumulativeData['group']=='B']\n",
    "\n",
    "# строим графики\n",
    "plt.figure(figsize=(15,5))\n",
    "plt.title(' график кумулятивной конверсии по дням и группам A/B-тестирования')\n",
    "plt.xlabel(\"date\")\n",
    "plt.ylabel(\"Cumulative conversion\")\n",
    "plt.plot(cumulativeDataA['date'], cumulativeDataA['conversion'], label='A')\n",
    "plt.plot(cumulativeDataB['date'], cumulativeDataB['conversion'], label='B')\n",
    "plt.show()"
   ]
  },
  {
   "cell_type": "markdown",
   "metadata": {},
   "source": [
    "**Конверсия группы \"А\" 1-5 августа была значительно выше группы \"В\", но после пошла на сильный спад. И обратную картину наблюдаем в группе \"В\"**"
   ]
  },
  {
   "cell_type": "markdown",
   "metadata": {},
   "source": [
    "### Постройте график относительного изменения кумулятивной конверсии группы B к группе A."
   ]
  },
  {
   "cell_type": "code",
   "execution_count": 35,
   "metadata": {},
   "outputs": [
    {
     "data": {
      "image/png": "[encoded data removed]",
      "text/plain": [
       "<Figure size 1080x360 with 1 Axes>"
      ]
     },
     "metadata": {
      "needs_background": "light"
     },
     "output_type": "display_data"
    }
   ],
   "source": [
    "mergedCumulativeConversions = cumulativeDataA[['date','conversion']].merge(cumulativeDataB[['date','conversion']], left_on='date', right_on='date', how='left', suffixes=['A', 'B'])\n",
    "plt.figure(figsize=(15,5))\n",
    "plt.plot(mergedCumulativeConversions['date'], mergedCumulativeConversions['conversionB']/mergedCumulativeConversions['conversionA']-1, label=\"Относительный прирост конверсии группы B относительно группы A\")\n",
    "plt.legend()\n",
    "\n",
    "plt.axhline(y=0, color='black', linestyle='--')\n",
    "plt.axhline(y=-0.1, color='grey', linestyle='--')\n",
    "plt.title(' график относительного изменения кумулятивной конверсии группы B к группе A')\n",
    "plt.xlabel(\"date\")\n",
    "plt.ylabel(\"Relative change in cumulative conversion\")\n",
    "plt.show()"
   ]
  },
  {
   "cell_type": "markdown",
   "metadata": {},
   "source": [
    "**Наглядное представление прироста конверсии**"
   ]
  },
  {
   "cell_type": "markdown",
   "metadata": {},
   "source": [
    "### Постройте точечный график количества заказов по пользователям."
   ]
  },
  {
   "cell_type": "code",
   "execution_count": 36,
   "metadata": {},
   "outputs": [],
   "source": [
    "ordersByUsers = (orders.groupby('visitorId', as_index=False).agg({'transactionId': 'nunique'}))"
   ]
  },
  {
   "cell_type": "code",
   "execution_count": 37,
   "metadata": {},
   "outputs": [
    {
     "name": "stdout",
     "output_type": "stream",
     "text": [
      "        user_id  orders\n",
      "908  3967698036       3\n",
      "55    249864742       3\n",
      "478  2108163459       3\n",
      "687  2988190573       3\n",
      "890  3908431265       3\n",
      "138   611059232       3\n",
      "632  2742574263       3\n",
      "157   678354126       2\n",
      "323  1404560065       2\n",
      "452  1985475298       2\n"
     ]
    }
   ],
   "source": [
    "ordersByUsers.columns = ['user_id', 'orders']\n",
    "print(ordersByUsers.sort_values(by='orders', ascending=False).head(10))"
   ]
  },
  {
   "cell_type": "code",
   "execution_count": 38,
   "metadata": {},
   "outputs": [
    {
     "data": {
      "image/png": "[encoded data removed]",
      "text/plain": [
       "<Figure size 1080x360 with 1 Axes>"
      ]
     },
     "metadata": {
      "needs_background": "light"
     },
     "output_type": "display_data"
    }
   ],
   "source": [
    "x_values = pd.Series(range(0,len(ordersByUsers)))\n",
    "plt.figure(figsize=(15,5))\n",
    "plt.title('График количества заказов по пользователям')\n",
    "plt.xlabel(\"Number users\")\n",
    "plt.ylabel(\"orders\")\n",
    "plt.scatter(x_values, ordersByUsers['orders'])\n",
    "plt.show()"
   ]
  },
  {
   "cell_type": "markdown",
   "metadata": {},
   "source": [
    "**Большенство заказов сделано 1-2, так же есть несколько клиентов которые делали свыше 9. В дальнейшем решим какое кол-во заказов считать выбросами.** "
   ]
  },
  {
   "cell_type": "markdown",
   "metadata": {},
   "source": [
    "### Посчитайте 95-й и 99-й перцентили количества заказов на пользователя."
   ]
  },
  {
   "cell_type": "code",
   "execution_count": 39,
   "metadata": {},
   "outputs": [
    {
     "name": "stdout",
     "output_type": "stream",
     "text": [
      "[1. 2.]\n"
     ]
    }
   ],
   "source": [
    "print(np.percentile(ordersByUsers['orders'], [95, 99]))"
   ]
  },
  {
   "cell_type": "code",
   "execution_count": 40,
   "metadata": {},
   "outputs": [
    {
     "name": "stdout",
     "output_type": "stream",
     "text": [
      "[1. 1. 2. 2. 2.]\n"
     ]
    }
   ],
   "source": [
    "#для большей точности добавим еще процентилей.\n",
    "print(np.percentile(ordersByUsers['orders'], [ 95,96,97,98, 99])) "
   ]
  },
  {
   "cell_type": "markdown",
   "metadata": {},
   "source": [
    "Видим, что ~98% всех заказов это 1-2 заказа, все остальное выброс."
   ]
  },
  {
   "cell_type": "markdown",
   "metadata": {},
   "source": [
    "### Постройте точечный график стоимостей заказов."
   ]
  },
  {
   "cell_type": "code",
   "execution_count": 41,
   "metadata": {},
   "outputs": [
    {
     "data": {
      "image/png": "[encoded data removed]",
      "text/plain": [
       "<Figure size 1080x360 with 1 Axes>"
      ]
     },
     "metadata": {
      "needs_background": "light"
     },
     "output_type": "display_data"
    }
   ],
   "source": [
    "x_values = pd.Series(range(0,len(orders['revenue'])))\n",
    "plt.figure(figsize=(15,5))\n",
    "plt.title('График стоимостей заказов')\n",
    "plt.xlabel(\"revenue\")\n",
    "plt.ylabel(\"Number orders\")\n",
    "plt.scatter(x_values, orders['revenue'])\n",
    "plt.show()"
   ]
  },
  {
   "cell_type": "code",
   "execution_count": 42,
   "metadata": {},
   "outputs": [
    {
     "data": {
      "image/png": "[encoded data removed]",
      "text/plain": [
       "<Figure size 1080x360 with 1 Axes>"
      ]
     },
     "metadata": {
      "needs_background": "light"
     },
     "output_type": "display_data"
    }
   ],
   "source": [
    "#сделаем более наглядный пример\n",
    "norm_orders = orders[orders['revenue']<=195000]['revenue']\n",
    "xn_values = pd.Series(range(0,len(norm_orders)))\n",
    "plt.figure(figsize=(15,5))\n",
    "plt.title('График стоимостей заказов')\n",
    "plt.xlabel(\"revenue\")\n",
    "plt.ylabel(\"Number orders\")\n",
    "plt.scatter(xn_values, norm_orders, alpha=0.5)\n",
    "plt.show()"
   ]
  },
  {
   "cell_type": "markdown",
   "metadata": {},
   "source": [
    "Видим наш аномальный заказ и еще не большое кол-во от 100 до 200 тыс. Чтобы более наглядно все понять, расчитаем процентили."
   ]
  },
  {
   "cell_type": "markdown",
   "metadata": {},
   "source": [
    "### Посчитайте 95-й и 99-й перцентили стоимости заказов."
   ]
  },
  {
   "cell_type": "code",
   "execution_count": 43,
   "metadata": {},
   "outputs": [
    {
     "name": "stdout",
     "output_type": "stream",
     "text": [
      "[26785. 53904.]\n"
     ]
    }
   ],
   "source": [
    "print(np.percentile(orders['revenue'], [95, 99])) "
   ]
  },
  {
   "cell_type": "markdown",
   "metadata": {},
   "source": [
    "**99 % заказов меньше 53904, будет нашей границей.** "
   ]
  },
  {
   "cell_type": "markdown",
   "metadata": {},
   "source": [
    "### Посчитайте статистическую значимость различий в конверсии между группами по «сырым» данным. "
   ]
  },
  {
   "cell_type": "code",
   "execution_count": 44,
   "metadata": {},
   "outputs": [
    {
     "data": {
      "text/html": [
       "<div>\n",
       "<style scoped>\n",
       "    .dataframe tbody tr th:only-of-type {\n",
       "        vertical-align: middle;\n",
       "    }\n",
       "\n",
       "    .dataframe tbody tr th {\n",
       "        vertical-align: top;\n",
       "    }\n",
       "\n",
       "    .dataframe thead th {\n",
       "        text-align: right;\n",
       "    }\n",
       "</style>\n",
       "<table border=\"1\" class=\"dataframe\">\n",
       "  <thead>\n",
       "    <tr style=\"text-align: right;\">\n",
       "      <th></th>\n",
       "      <th>date</th>\n",
       "      <th>ordersPerDateA</th>\n",
       "      <th>revenuePerDateA</th>\n",
       "      <th>ordersPerDateB</th>\n",
       "      <th>revenuePerDateB</th>\n",
       "      <th>ordersCummulativeA</th>\n",
       "      <th>revenueCummulativeA</th>\n",
       "      <th>ordersCummulativeB</th>\n",
       "      <th>revenueCummulativeB</th>\n",
       "      <th>visitorsPerDateA</th>\n",
       "      <th>visitorsPerDateB</th>\n",
       "      <th>visitorsCummulativeA</th>\n",
       "      <th>visitorsCummulativeB</th>\n",
       "    </tr>\n",
       "  </thead>\n",
       "  <tbody>\n",
       "    <tr>\n",
       "      <th>0</th>\n",
       "      <td>2019-08-01</td>\n",
       "      <td>23</td>\n",
       "      <td>142779</td>\n",
       "      <td>17</td>\n",
       "      <td>59758</td>\n",
       "      <td>23</td>\n",
       "      <td>142779</td>\n",
       "      <td>17</td>\n",
       "      <td>59758</td>\n",
       "      <td>719</td>\n",
       "      <td>713</td>\n",
       "      <td>719</td>\n",
       "      <td>713</td>\n",
       "    </tr>\n",
       "    <tr>\n",
       "      <th>1</th>\n",
       "      <td>2019-08-02</td>\n",
       "      <td>19</td>\n",
       "      <td>91602</td>\n",
       "      <td>23</td>\n",
       "      <td>162043</td>\n",
       "      <td>42</td>\n",
       "      <td>234381</td>\n",
       "      <td>40</td>\n",
       "      <td>221801</td>\n",
       "      <td>619</td>\n",
       "      <td>581</td>\n",
       "      <td>1338</td>\n",
       "      <td>1294</td>\n",
       "    </tr>\n",
       "    <tr>\n",
       "      <th>2</th>\n",
       "      <td>2019-08-03</td>\n",
       "      <td>24</td>\n",
       "      <td>112473</td>\n",
       "      <td>14</td>\n",
       "      <td>67049</td>\n",
       "      <td>66</td>\n",
       "      <td>346854</td>\n",
       "      <td>54</td>\n",
       "      <td>288850</td>\n",
       "      <td>507</td>\n",
       "      <td>509</td>\n",
       "      <td>1845</td>\n",
       "      <td>1803</td>\n",
       "    </tr>\n",
       "    <tr>\n",
       "      <th>3</th>\n",
       "      <td>2019-08-04</td>\n",
       "      <td>11</td>\n",
       "      <td>41176</td>\n",
       "      <td>14</td>\n",
       "      <td>96890</td>\n",
       "      <td>77</td>\n",
       "      <td>388030</td>\n",
       "      <td>68</td>\n",
       "      <td>385740</td>\n",
       "      <td>717</td>\n",
       "      <td>770</td>\n",
       "      <td>2562</td>\n",
       "      <td>2573</td>\n",
       "    </tr>\n",
       "    <tr>\n",
       "      <th>4</th>\n",
       "      <td>2019-08-05</td>\n",
       "      <td>22</td>\n",
       "      <td>86383</td>\n",
       "      <td>21</td>\n",
       "      <td>89908</td>\n",
       "      <td>99</td>\n",
       "      <td>474413</td>\n",
       "      <td>89</td>\n",
       "      <td>475648</td>\n",
       "      <td>756</td>\n",
       "      <td>707</td>\n",
       "      <td>3318</td>\n",
       "      <td>3280</td>\n",
       "    </tr>\n",
       "  </tbody>\n",
       "</table>\n",
       "</div>"
      ],
      "text/plain": [
       "        date  ordersPerDateA  revenuePerDateA  ordersPerDateB  \\\n",
       "0 2019-08-01              23           142779              17   \n",
       "1 2019-08-02              19            91602              23   \n",
       "2 2019-08-03              24           112473              14   \n",
       "3 2019-08-04              11            41176              14   \n",
       "4 2019-08-05              22            86383              21   \n",
       "\n",
       "   revenuePerDateB  ordersCummulativeA  revenueCummulativeA  \\\n",
       "0            59758                  23               142779   \n",
       "1           162043                  42               234381   \n",
       "2            67049                  66               346854   \n",
       "3            96890                  77               388030   \n",
       "4            89908                  99               474413   \n",
       "\n",
       "   ordersCummulativeB  revenueCummulativeB  visitorsPerDateA  \\\n",
       "0                  17                59758               719   \n",
       "1                  40               221801               619   \n",
       "2                  54               288850               507   \n",
       "3                  68               385740               717   \n",
       "4                  89               475648               756   \n",
       "\n",
       "   visitorsPerDateB  visitorsCummulativeA  visitorsCummulativeB  \n",
       "0               713                   719                   713  \n",
       "1               581                  1338                  1294  \n",
       "2               509                  1845                  1803  \n",
       "3               770                  2562                  2573  \n",
       "4               707                  3318                  3280  "
      ]
     },
     "metadata": {},
     "output_type": "display_data"
    }
   ],
   "source": [
    "#Начнём с подготовки данных.\n",
    "visitorsADaily = visitors[visitors['group'] == 'A'][['date', 'visitors']]\n",
    "visitorsADaily.columns = ['date', 'visitorsPerDateA']\n",
    "\n",
    "visitorsACummulative = visitorsADaily.apply(\n",
    "    lambda x: visitorsADaily[visitorsADaily['date'] <= x['date']].agg(\n",
    "        {'date': 'max', 'visitorsPerDateA': 'sum'}\n",
    "    ),\n",
    "    axis=1,\n",
    ")\n",
    "visitorsACummulative.columns = ['date', 'visitorsCummulativeA']\n",
    "\n",
    "visitorsBDaily = visitors[visitors['group'] == 'B'][['date', 'visitors']]\n",
    "visitorsBDaily.columns = ['date', 'visitorsPerDateB']\n",
    "\n",
    "visitorsBCummulative = visitorsBDaily.apply(\n",
    "    lambda x: visitorsBDaily[visitorsBDaily['date'] <= x['date']].agg(\n",
    "        {'date': 'max', 'visitorsPerDateB': 'sum'}\n",
    "    ),\n",
    "    axis=1,\n",
    ")\n",
    "visitorsBCummulative.columns = ['date', 'visitorsCummulativeB']\n",
    "\n",
    "ordersADaily = (\n",
    "    orders[orders['group'] == 'A'][['date', 'transactionId', 'visitorId', 'revenue']]\n",
    "    .groupby('date', as_index=False)\n",
    "    .agg({'transactionId': pd.Series.nunique, 'revenue': 'sum'})\n",
    ")\n",
    "ordersADaily.columns = ['date', 'ordersPerDateA', 'revenuePerDateA']\n",
    "\n",
    "ordersACummulative = ordersADaily.apply(\n",
    "    lambda x: ordersADaily[ordersADaily['date'] <= x['date']].agg(\n",
    "        {'date': 'max', 'ordersPerDateA': 'sum', 'revenuePerDateA': 'sum'}\n",
    "    ),\n",
    "    axis=1,\n",
    ").sort_values(by=['date'])\n",
    "ordersACummulative.columns = [\n",
    "    'date',\n",
    "    'ordersCummulativeA',\n",
    "    'revenueCummulativeA',\n",
    "]\n",
    "\n",
    "ordersBDaily = (\n",
    "    orders[orders['group'] == 'B'][['date', 'transactionId', 'visitorId', 'revenue']]\n",
    "    .groupby('date', as_index=False)\n",
    "    .agg({'transactionId': pd.Series.nunique, 'revenue': 'sum'})\n",
    ")\n",
    "ordersBDaily.columns = ['date', 'ordersPerDateB', 'revenuePerDateB']\n",
    "\n",
    "ordersBCummulative = ordersBDaily.apply(\n",
    "    lambda x: ordersBDaily[ordersBDaily['date'] <= x['date']].agg(\n",
    "        {'date': 'max', 'ordersPerDateB': 'sum', 'revenuePerDateB': 'sum'}\n",
    "    ),\n",
    "    axis=1,\n",
    ").sort_values(by=['date'])\n",
    "ordersBCummulative.columns = [\n",
    "    'date',\n",
    "    'ordersCummulativeB',\n",
    "    'revenueCummulativeB',\n",
    "]\n",
    "#собрали в одну таблицу\n",
    "data = (\n",
    "    ordersADaily.merge(\n",
    "        ordersBDaily, left_on='date', right_on='date', how='left'\n",
    "    )\n",
    "    .merge(ordersACummulative, left_on='date', right_on='date', how='left')\n",
    "    .merge(ordersBCummulative, left_on='date', right_on='date', how='left')\n",
    "    .merge(visitorsADaily, left_on='date', right_on='date', how='left')\n",
    "    .merge(visitorsBDaily, left_on='date', right_on='date', how='left')\n",
    "    .merge(visitorsACummulative, left_on='date', right_on='date', how='left')\n",
    "    .merge(visitorsBCummulative, left_on='date', right_on='date', how='left')\n",
    ")\n",
    "\n",
    "display(data.head(5)) "
   ]
  },
  {
   "cell_type": "markdown",
   "metadata": {},
   "source": [
    "Сформулируем гипотезы.\n",
    "- H0 различий в конверсии между группами нет. \n",
    "- H1 различия в конверсии между группами есть."
   ]
  },
  {
   "cell_type": "code",
   "execution_count": 45,
   "metadata": {},
   "outputs": [
    {
     "name": "stdout",
     "output_type": "stream",
     "text": [
      "alpha = 0.05\n",
      "p-value = 0.011\n",
      "Относительный показатель 'B' и 'A' = 0.160\n"
     ]
    }
   ],
   "source": [
    "ordersByUsersA = (\n",
    "    orders[orders['group'] == 'A']\n",
    "    .groupby('visitorId', as_index=False)\n",
    "    .agg({'transactionId': pd.Series.nunique})\n",
    ")\n",
    "ordersByUsersA.columns = ['userId', 'orders']\n",
    "\n",
    "ordersByUsersB = (\n",
    "    orders[orders['group'] == 'B']\n",
    "    .groupby('visitorId', as_index=False)\n",
    "    .agg({'transactionId': pd.Series.nunique})\n",
    ")\n",
    "ordersByUsersB.columns = ['userId', 'orders']\n",
    "sampleA = pd.concat([ordersByUsersA['orders'],pd.Series(0, index=np.arange(data['visitorsPerDateA'].sum() - len(ordersByUsersA['orders'])), name='orders')],axis=0)\n",
    "\n",
    "sampleB = pd.concat([ordersByUsersB['orders'],pd.Series(0, index=np.arange(data['visitorsPerDateB'].sum() - len(ordersByUsersB['orders'])), name='orders')],axis=0)\n",
    "print(\"alpha =\",0.05)\n",
    "print(\"p-value = {0:.3f}\".format(stats.mannwhitneyu(sampleA, sampleB)[1]))\n",
    "\n",
    "print(\"Относительный показатель 'B' и 'A' = {0:.3f}\".format(sampleB.mean() / sampleA.mean() - 1))"
   ]
  },
  {
   "cell_type": "markdown",
   "metadata": {},
   "source": [
    "**Вывод: По «сырым» данным различий в конверсии групп A и B есть.\n",
    "Первое число — p-value = 0.011 меньше 0.05. Значит, нулевую гипотезу о том, что статистически значимых различий в конверсии между группами нет, отвергаем. Однако относительный выйгрыш группы B над А равен 16%.**"
   ]
  },
  {
   "cell_type": "markdown",
   "metadata": {},
   "source": [
    "### Посчитайте статистическую значимость различий в среднем чеке заказа между группами по «сырым» данным. "
   ]
  },
  {
   "cell_type": "markdown",
   "metadata": {},
   "source": [
    "Теперь проверим статистическую значимость различий в среднем чеке между сегментами. Нулевая гипотеза: различий в среднем чеке между группами нет. Альтернативная гипотеза: различия в среднем чеке между группами есть.  \n",
    "Чтобы рассчитать статистическую значимость различий в среднем чеке, передадим критерию mannwhitneyu() данные о выручке с заказов."
   ]
  },
  {
   "cell_type": "code",
   "execution_count": 46,
   "metadata": {},
   "outputs": [
    {
     "name": "stdout",
     "output_type": "stream",
     "text": [
      "p-value = 0.829\n",
      "Относительный показатель 'B' и 'A' =  0.287\n"
     ]
    }
   ],
   "source": [
    "print('p-value = {0:.3f}'.format(stats.mannwhitneyu(orders[orders['group']=='A']['revenue'], orders[orders['group']=='B']['revenue'])[1]))\n",
    "print(\"Относительный показатель 'B' и 'A' =  {0:.3f}\".format(orders[orders['group']=='B']['revenue'].mean()/orders[orders['group']=='A']['revenue'].mean()-1)) "
   ]
  },
  {
   "cell_type": "markdown",
   "metadata": {},
   "source": [
    "**P-value значительно больше 0.05. Значит, причин отвергать нулевую гипотезу и считать, что в среднем чеке есть различия, нет. Впрочем, средний чек группы B значительно выше среднего чека группы A.**"
   ]
  },
  {
   "cell_type": "markdown",
   "metadata": {},
   "source": [
    "<div class=\"alert alert-warning\">\n",
    "    \n",
    "  <b>Комментарий ревьюера</b>\n",
    "    \n",
    "  ⚠️ С одной стороны не отвергаем нулевую гипотезу, но потом говорим, что \"Впрочем, средний чек группы B значительно выше среднего чека группы A.\". Выводы немного противоречат друг другу. Тут лучше изменить интерпретацию: наблюдаемое различие... не является стат. значимым... и .т.д.\n",
    "\n",
    "</div>    "
   ]
  },
  {
   "cell_type": "markdown",
   "metadata": {},
   "source": [
    "### Посчитайте статистическую значимость различий в конверсии между группами по «очищенным» данным. "
   ]
  },
  {
   "cell_type": "markdown",
   "metadata": {},
   "source": [
    "Вспомним - из предыдущих пунктов мы приняли за аномальных пользователей тех, кто совершил 3 и больше заказов или совершил заказ дороже 58233.2 рублей. Сделаем срезы пользователей с числом заказов больше 2 — usersWithManyOrders и пользователей, совершивших заказы дороже 58233.2 — usersWithExpensiveOrders. Объединим их в таблице abnormalUsers. Узнаем, сколько всего аномальных пользователей методом shape()."
   ]
  },
  {
   "cell_type": "code",
   "execution_count": 47,
   "metadata": {},
   "outputs": [
    {
     "name": "stdout",
     "output_type": "stream",
     "text": [
      "568     113298937\n",
      "1099    148427295\n",
      "928     204675465\n",
      "33      249864742\n",
      "684     358944393\n",
      "dtype: int64\n",
      "58\n"
     ]
    }
   ],
   "source": [
    "usersWithManyOrders = pd.concat(\n",
    "    [\n",
    "        ordersByUsersA[ordersByUsersA['orders'] > 2]['userId'],\n",
    "        ordersByUsersB[ordersByUsersB['orders'] > 2]['userId'],\n",
    "    ],\n",
    "    axis=0,\n",
    ")\n",
    "revenue_lim = np.percentile(orders['revenue'], 95)\n",
    "usersWithExpensiveOrders = orders[orders['revenue'] > revenue_lim]['visitorId']\n",
    "abnormalUsers = (\n",
    "    pd.concat([usersWithManyOrders, usersWithExpensiveOrders], axis=0)\n",
    "    .drop_duplicates()\n",
    "    .sort_values()\n",
    ")\n",
    "print(abnormalUsers.head(5))\n",
    "print(abnormalUsers.shape[0])"
   ]
  },
  {
   "cell_type": "markdown",
   "metadata": {},
   "source": [
    "Узнаем, как их действия повлияли на результаты теста. Посчитаем статистическую значимость различий в конверсии между группами теста по очищенным данным. Сначала подготовим выборки количества заказов по пользователям по группам теста:"
   ]
  },
  {
   "cell_type": "code",
   "execution_count": 48,
   "metadata": {},
   "outputs": [],
   "source": [
    "sampleAFiltered = pd.concat(\n",
    "    [\n",
    "        ordersByUsersA[\n",
    "            np.logical_not(ordersByUsersA['userId'].isin(abnormalUsers))\n",
    "        ]['orders'],\n",
    "        pd.Series(\n",
    "            0,\n",
    "            index=np.arange(\n",
    "                data['visitorsPerDateA'].sum() - len(ordersByUsersA['orders'])\n",
    "            ),\n",
    "            name='orders',\n",
    "        ),\n",
    "    ],\n",
    "    axis=0,\n",
    ")\n",
    "\n",
    "sampleBFiltered = pd.concat(\n",
    "    [\n",
    "        ordersByUsersB[\n",
    "            np.logical_not(ordersByUsersB['userId'].isin(abnormalUsers))\n",
    "        ]['orders'],\n",
    "        pd.Series(\n",
    "            0,\n",
    "            index=np.arange(\n",
    "                data['visitorsPerDateB'].sum() - len(ordersByUsersB['orders'])\n",
    "            ),\n",
    "            name='orders',\n",
    "        ),\n",
    "    ],\n",
    "    axis=0,\n",
    ")"
   ]
  },
  {
   "cell_type": "markdown",
   "metadata": {},
   "source": [
    "Применим статистический критерий Манна-Уитни к полученным выборкам:"
   ]
  },
  {
   "cell_type": "code",
   "execution_count": 49,
   "metadata": {},
   "outputs": [
    {
     "name": "stdout",
     "output_type": "stream",
     "text": [
      "p-value = 0.012\n",
      "Относительный показатель \"B\" и \"A\" = 0.182\n"
     ]
    }
   ],
   "source": [
    "print('p-value = {0:.3f}'.format(stats.mannwhitneyu(sampleAFiltered, sampleBFiltered)[1]))\n",
    "print('Относительный показатель \"B\" и \"A\" = {0:.3f}'.format(sampleBFiltered.mean()/sampleAFiltered.mean()-1))"
   ]
  },
  {
   "cell_type": "markdown",
   "metadata": {},
   "source": [
    "p-value = 0.07 меньше 0.05. Значит, нулевую гипотезу о том, что статистически значимых различий в конверсии между группами нет, - отвергаем. Это значит: и по «очищенным» данным различия в конверсии групп A и B есть. А относительный выигрыш группы \"B\" над \"A\" равен 18,9% (выше, чем с «сырыми» данными - 16%) ."
   ]
  },
  {
   "cell_type": "markdown",
   "metadata": {},
   "source": [
    "### Посчитайте статистическую значимость различий в среднем чеке заказа между группами по «очищенным» данным. "
   ]
  },
  {
   "cell_type": "markdown",
   "metadata": {},
   "source": [
    "Произошло ли что-нибудь с результатами по среднему чеку?"
   ]
  },
  {
   "cell_type": "code",
   "execution_count": 50,
   "metadata": {},
   "outputs": [
    {
     "name": "stdout",
     "output_type": "stream",
     "text": [
      "p-value = 0.646\n",
      "Относительный показатель 'B' и 'A' = -0.048\n"
     ]
    }
   ],
   "source": [
    "print(\n",
    "    'p-value = {0:.3f}'.format(\n",
    "        stats.mannwhitneyu(\n",
    "            orders[\n",
    "                np.logical_and(\n",
    "                    orders['group'] == 'A',\n",
    "                    np.logical_not(orders['visitorId'].isin(abnormalUsers)),\n",
    "                )\n",
    "            ]['revenue'],\n",
    "            orders[\n",
    "                np.logical_and(\n",
    "                    orders['group'] == 'B',\n",
    "                    np.logical_not(orders['visitorId'].isin(abnormalUsers)),\n",
    "                )\n",
    "            ]['revenue'],\n",
    "        )[1]\n",
    "    )\n",
    ")\n",
    "\n",
    "print(\n",
    "    \"Относительный показатель 'B' и 'A' = {0:.3f}\".format(\n",
    "        orders[\n",
    "            np.logical_and(\n",
    "                orders['group'] == 'B',\n",
    "                np.logical_not(orders['visitorId'].isin(abnormalUsers)),\n",
    "            )\n",
    "        ]['revenue'].mean()\n",
    "        / orders[\n",
    "            np.logical_and(\n",
    "                orders['group'] == 'A',\n",
    "                np.logical_not(orders['visitorId'].isin(abnormalUsers)),\n",
    "            )\n",
    "        ]['revenue'].mean()\n",
    "        - 1\n",
    "    )\n",
    ")"
   ]
  },
  {
   "cell_type": "markdown",
   "metadata": {},
   "source": [
    "P-value значительно больше нужного нам значения. Значит, причин отвергать нулевую гипотезу и считать, что в среднем чеке есть различия,тоже нет (как и с \"Сырыми\" данными). А вот средний чек группы B оказался незначительно (на 3%) ниже среднего чека группы A, в то время как по \"сырым\" данным, он был больше аж на ~26%, - и всё это из-за одного того самого аномального заказа на 1,3 млн."
   ]
  },
  {
   "cell_type": "markdown",
   "metadata": {},
   "source": [
    "### Решение по результатам теста "
   ]
  },
  {
   "cell_type": "markdown",
   "metadata": {},
   "source": [
    "Какие выводы по тесту можем сделать?\n",
    "Имеющиеся факты:\n",
    "- Различия в \"сырым\" и \"очищенным\" данных в конверсии групп А и В есть. Показатель конверсии выше В над А по \"сырым\" данным - 16 %, \"очищенным\" - 18,9%;\n",
    "- Нет статистически значимого различия по среднему чеку между группами ни по «сырым», ни по данным после фильтрации аномалий;"
   ]
  },
  {
   "cell_type": "markdown",
   "metadata": {},
   "source": [
    "**Исходя из обнаруженных фактов, тест следует остановить и признать его успешным. По результатам : Группа В эффективнее группы А по конверсии, хотя по средниму чеку они примерно равны - без учета аномалий.**"
   ]
  }
 ],
 "metadata": {
  "ExecuteTimeLog": [
   {
    "duration": 213,
    "start_time": "2022-05-03T20:51:32.565Z"
   },
   {
    "duration": 5681,
    "start_time": "2022-05-03T20:54:53.356Z"
   },
   {
    "duration": 4,
    "start_time": "2022-05-03T21:18:49.894Z"
   },
   {
    "duration": 67,
    "start_time": "2022-05-03T21:24:14.573Z"
   },
   {
    "duration": 2972,
    "start_time": "2022-05-03T21:24:23.931Z"
   },
   {
    "duration": 2026,
    "start_time": "2022-05-03T21:24:35.923Z"
   },
   {
    "duration": 78,
    "start_time": "2022-05-03T21:24:37.952Z"
   },
   {
    "duration": 51,
    "start_time": "2022-05-04T07:47:58.733Z"
   },
   {
    "duration": 1374,
    "start_time": "2022-05-04T07:48:10.000Z"
   },
   {
    "duration": 66,
    "start_time": "2022-05-04T07:48:11.376Z"
   },
   {
    "duration": 11,
    "start_time": "2022-05-04T07:48:11.444Z"
   },
   {
    "duration": 11,
    "start_time": "2022-05-04T07:48:43.437Z"
   },
   {
    "duration": 4,
    "start_time": "2022-05-04T07:49:24.933Z"
   },
   {
    "duration": 3,
    "start_time": "2022-05-04T07:52:02.472Z"
   },
   {
    "duration": 70,
    "start_time": "2022-05-04T07:52:02.477Z"
   },
   {
    "duration": 10,
    "start_time": "2022-05-04T07:52:02.548Z"
   },
   {
    "duration": 8,
    "start_time": "2022-05-04T07:52:02.561Z"
   },
   {
    "duration": 6,
    "start_time": "2022-05-04T07:52:02.570Z"
   },
   {
    "duration": 10,
    "start_time": "2022-05-04T07:52:02.578Z"
   },
   {
    "duration": 10,
    "start_time": "2022-05-04T07:52:02.590Z"
   },
   {
    "duration": 16,
    "start_time": "2022-05-04T07:52:02.601Z"
   },
   {
    "duration": 13,
    "start_time": "2022-05-04T07:52:02.619Z"
   },
   {
    "duration": 22,
    "start_time": "2022-05-04T07:52:02.635Z"
   },
   {
    "duration": 10,
    "start_time": "2022-05-04T07:52:02.658Z"
   },
   {
    "duration": 12,
    "start_time": "2022-05-04T07:52:02.669Z"
   },
   {
    "duration": 7,
    "start_time": "2022-05-04T07:52:02.683Z"
   },
   {
    "duration": 8,
    "start_time": "2022-05-04T07:56:52.021Z"
   },
   {
    "duration": 8,
    "start_time": "2022-05-04T07:56:52.284Z"
   },
   {
    "duration": 9,
    "start_time": "2022-05-04T07:56:52.988Z"
   },
   {
    "duration": 10,
    "start_time": "2022-05-04T07:56:57.020Z"
   },
   {
    "duration": 7,
    "start_time": "2022-05-04T08:15:11.731Z"
   },
   {
    "duration": 11,
    "start_time": "2022-05-04T08:16:46.235Z"
   },
   {
    "duration": 7,
    "start_time": "2022-05-04T08:17:05.628Z"
   },
   {
    "duration": 21,
    "start_time": "2022-05-04T08:18:22.284Z"
   },
   {
    "duration": 4,
    "start_time": "2022-05-04T08:18:49.148Z"
   },
   {
    "duration": 79,
    "start_time": "2022-05-04T08:19:59.477Z"
   },
   {
    "duration": 277,
    "start_time": "2022-05-04T08:21:53.132Z"
   },
   {
    "duration": 221,
    "start_time": "2022-05-04T08:23:00.573Z"
   },
   {
    "duration": 175,
    "start_time": "2022-05-04T08:23:17.749Z"
   },
   {
    "duration": 10,
    "start_time": "2022-05-04T08:27:41.227Z"
   },
   {
    "duration": 14,
    "start_time": "2022-05-04T08:27:41.836Z"
   },
   {
    "duration": 13,
    "start_time": "2022-05-04T08:29:33.149Z"
   },
   {
    "duration": 185,
    "start_time": "2022-05-04T08:32:47.379Z"
   },
   {
    "duration": 178,
    "start_time": "2022-05-04T08:33:03.605Z"
   },
   {
    "duration": 195,
    "start_time": "2022-05-04T08:33:34.429Z"
   },
   {
    "duration": 174,
    "start_time": "2022-05-04T08:34:29.373Z"
   },
   {
    "duration": 175,
    "start_time": "2022-05-04T08:39:36.020Z"
   },
   {
    "duration": 167,
    "start_time": "2022-05-04T08:40:19.701Z"
   },
   {
    "duration": 271,
    "start_time": "2022-05-04T08:40:31.198Z"
   },
   {
    "duration": 236,
    "start_time": "2022-05-04T08:40:54.301Z"
   },
   {
    "duration": 204,
    "start_time": "2022-05-04T08:41:15.582Z"
   },
   {
    "duration": 345,
    "start_time": "2022-05-04T08:50:07.517Z"
   },
   {
    "duration": 358,
    "start_time": "2022-05-04T08:50:20.815Z"
   },
   {
    "duration": 306,
    "start_time": "2022-05-04T08:57:27.310Z"
   },
   {
    "duration": 275,
    "start_time": "2022-05-04T08:57:34.951Z"
   },
   {
    "duration": 360,
    "start_time": "2022-05-04T08:57:50.325Z"
   },
   {
    "duration": 8,
    "start_time": "2022-05-04T09:02:12.629Z"
   },
   {
    "duration": 14,
    "start_time": "2022-05-04T09:02:14.797Z"
   },
   {
    "duration": 11,
    "start_time": "2022-05-04T09:02:33.884Z"
   },
   {
    "duration": 6,
    "start_time": "2022-05-04T09:02:49.837Z"
   },
   {
    "duration": 6,
    "start_time": "2022-05-04T09:02:52.645Z"
   },
   {
    "duration": 6,
    "start_time": "2022-05-04T09:03:11.341Z"
   },
   {
    "duration": 107,
    "start_time": "2022-05-04T09:04:00.565Z"
   },
   {
    "duration": 130,
    "start_time": "2022-05-04T09:04:14.519Z"
   },
   {
    "duration": 136,
    "start_time": "2022-05-04T09:04:26.677Z"
   },
   {
    "duration": 4,
    "start_time": "2022-05-04T09:07:27.856Z"
   },
   {
    "duration": 3,
    "start_time": "2022-05-04T09:08:45.527Z"
   },
   {
    "duration": 3366,
    "start_time": "2022-05-04T09:12:07.413Z"
   },
   {
    "duration": 141,
    "start_time": "2022-05-04T09:12:22.366Z"
   },
   {
    "duration": 154,
    "start_time": "2022-05-04T09:13:19.894Z"
   },
   {
    "duration": 228,
    "start_time": "2022-05-04T09:13:26.055Z"
   },
   {
    "duration": 148,
    "start_time": "2022-05-04T09:14:22.655Z"
   },
   {
    "duration": 2,
    "start_time": "2022-05-04T09:16:07.558Z"
   },
   {
    "duration": 5,
    "start_time": "2022-05-04T09:16:31.448Z"
   },
   {
    "duration": 6,
    "start_time": "2022-05-04T09:17:04.383Z"
   },
   {
    "duration": 60,
    "start_time": "2022-05-05T12:31:26.454Z"
   },
   {
    "duration": 1348,
    "start_time": "2022-05-05T12:31:34.041Z"
   },
   {
    "duration": 37,
    "start_time": "2022-05-05T12:31:35.392Z"
   },
   {
    "duration": 13,
    "start_time": "2022-05-05T12:31:35.430Z"
   },
   {
    "duration": 14,
    "start_time": "2022-05-05T12:31:35.445Z"
   },
   {
    "duration": 4,
    "start_time": "2022-05-05T12:31:35.461Z"
   },
   {
    "duration": 11,
    "start_time": "2022-05-05T12:31:35.467Z"
   },
   {
    "duration": 9,
    "start_time": "2022-05-05T12:31:35.480Z"
   },
   {
    "duration": 15,
    "start_time": "2022-05-05T12:31:35.507Z"
   },
   {
    "duration": 8,
    "start_time": "2022-05-05T12:31:35.524Z"
   },
   {
    "duration": 9,
    "start_time": "2022-05-05T12:31:35.534Z"
   },
   {
    "duration": 8,
    "start_time": "2022-05-05T12:31:35.544Z"
   },
   {
    "duration": 5,
    "start_time": "2022-05-05T12:31:35.553Z"
   },
   {
    "duration": 10,
    "start_time": "2022-05-05T12:31:35.560Z"
   },
   {
    "duration": 45,
    "start_time": "2022-05-05T12:31:35.573Z"
   },
   {
    "duration": 7,
    "start_time": "2022-05-05T12:31:35.620Z"
   },
   {
    "duration": 10,
    "start_time": "2022-05-05T12:31:35.629Z"
   },
   {
    "duration": 10,
    "start_time": "2022-05-05T12:31:35.641Z"
   },
   {
    "duration": 9,
    "start_time": "2022-05-05T12:31:35.652Z"
   },
   {
    "duration": 11,
    "start_time": "2022-05-05T12:31:35.663Z"
   },
   {
    "duration": 8,
    "start_time": "2022-05-05T12:31:35.708Z"
   },
   {
    "duration": 21,
    "start_time": "2022-05-05T12:31:35.718Z"
   },
   {
    "duration": 4,
    "start_time": "2022-05-05T12:31:35.741Z"
   },
   {
    "duration": 315,
    "start_time": "2022-05-05T12:31:35.747Z"
   },
   {
    "duration": 294,
    "start_time": "2022-05-05T12:31:36.064Z"
   },
   {
    "duration": 11,
    "start_time": "2022-05-05T12:31:36.360Z"
   },
   {
    "duration": 35,
    "start_time": "2022-05-05T12:31:36.373Z"
   },
   {
    "duration": 220,
    "start_time": "2022-05-05T12:31:36.410Z"
   },
   {
    "duration": 376,
    "start_time": "2022-05-05T12:31:36.632Z"
   },
   {
    "duration": 232,
    "start_time": "2022-05-05T12:31:37.010Z"
   },
   {
    "duration": 307,
    "start_time": "2022-05-05T12:31:37.244Z"
   },
   {
    "duration": 6,
    "start_time": "2022-05-05T12:31:37.553Z"
   },
   {
    "duration": 6,
    "start_time": "2022-05-05T12:31:37.561Z"
   },
   {
    "duration": 164,
    "start_time": "2022-05-05T12:31:37.568Z"
   },
   {
    "duration": 5,
    "start_time": "2022-05-05T12:31:37.734Z"
   },
   {
    "duration": 6,
    "start_time": "2022-05-05T12:31:37.741Z"
   },
   {
    "duration": 176,
    "start_time": "2022-05-05T12:31:37.748Z"
   },
   {
    "duration": 178,
    "start_time": "2022-05-05T12:31:37.927Z"
   },
   {
    "duration": 5,
    "start_time": "2022-05-05T12:31:38.107Z"
   },
   {
    "duration": 312,
    "start_time": "2022-05-05T12:31:38.115Z"
   },
   {
    "duration": 321,
    "start_time": "2022-05-05T12:35:47.613Z"
   },
   {
    "duration": 227,
    "start_time": "2022-05-05T12:35:53.263Z"
   },
   {
    "duration": 128,
    "start_time": "2022-05-05T12:38:33.964Z"
   },
   {
    "duration": 150,
    "start_time": "2022-05-05T12:38:46.110Z"
   },
   {
    "duration": 156,
    "start_time": "2022-05-05T12:39:54.925Z"
   },
   {
    "duration": 167,
    "start_time": "2022-05-05T12:40:54.910Z"
   },
   {
    "duration": 10,
    "start_time": "2022-05-05T12:45:08.311Z"
   },
   {
    "duration": 76,
    "start_time": "2022-05-05T12:45:36.351Z"
   },
   {
    "duration": 11,
    "start_time": "2022-05-05T12:45:51.303Z"
   },
   {
    "duration": 9,
    "start_time": "2022-05-05T12:54:52.126Z"
   },
   {
    "duration": 65,
    "start_time": "2022-05-05T12:55:40.509Z"
   },
   {
    "duration": 72,
    "start_time": "2022-05-05T12:55:46.048Z"
   },
   {
    "duration": 16,
    "start_time": "2022-05-05T12:56:09.342Z"
   },
   {
    "duration": 17,
    "start_time": "2022-05-05T12:56:26.014Z"
   },
   {
    "duration": 9,
    "start_time": "2022-05-05T12:56:31.993Z"
   },
   {
    "duration": 9,
    "start_time": "2022-05-05T12:57:43.861Z"
   },
   {
    "duration": 71,
    "start_time": "2022-05-05T12:58:22.910Z"
   },
   {
    "duration": 24,
    "start_time": "2022-05-05T12:58:37.501Z"
   },
   {
    "duration": 1451,
    "start_time": "2022-05-05T13:02:03.478Z"
   },
   {
    "duration": 14,
    "start_time": "2022-05-05T13:02:25.141Z"
   },
   {
    "duration": 73,
    "start_time": "2022-05-05T13:03:11.750Z"
   },
   {
    "duration": 14,
    "start_time": "2022-05-05T13:03:53.222Z"
   },
   {
    "duration": 3,
    "start_time": "2022-05-05T13:06:01.398Z"
   },
   {
    "duration": 1159,
    "start_time": "2022-05-05T13:16:20.546Z"
   },
   {
    "duration": 41,
    "start_time": "2022-05-05T13:16:21.707Z"
   },
   {
    "duration": 13,
    "start_time": "2022-05-05T13:16:21.749Z"
   },
   {
    "duration": 14,
    "start_time": "2022-05-05T13:16:21.764Z"
   },
   {
    "duration": 5,
    "start_time": "2022-05-05T13:16:21.782Z"
   },
   {
    "duration": 11,
    "start_time": "2022-05-05T13:16:21.789Z"
   },
   {
    "duration": 14,
    "start_time": "2022-05-05T13:16:21.801Z"
   },
   {
    "duration": 15,
    "start_time": "2022-05-05T13:16:21.816Z"
   },
   {
    "duration": 11,
    "start_time": "2022-05-05T13:16:21.832Z"
   },
   {
    "duration": 12,
    "start_time": "2022-05-05T13:16:21.844Z"
   },
   {
    "duration": 12,
    "start_time": "2022-05-05T13:16:21.857Z"
   },
   {
    "duration": 6,
    "start_time": "2022-05-05T13:16:21.871Z"
   },
   {
    "duration": 32,
    "start_time": "2022-05-05T13:16:21.879Z"
   },
   {
    "duration": 12,
    "start_time": "2022-05-05T13:16:21.914Z"
   },
   {
    "duration": 8,
    "start_time": "2022-05-05T13:16:21.928Z"
   },
   {
    "duration": 11,
    "start_time": "2022-05-05T13:16:21.938Z"
   },
   {
    "duration": 12,
    "start_time": "2022-05-05T13:16:21.950Z"
   },
   {
    "duration": 10,
    "start_time": "2022-05-05T13:16:21.963Z"
   },
   {
    "duration": 40,
    "start_time": "2022-05-05T13:16:21.975Z"
   },
   {
    "duration": 8,
    "start_time": "2022-05-05T13:16:22.017Z"
   },
   {
    "duration": 22,
    "start_time": "2022-05-05T13:16:22.026Z"
   },
   {
    "duration": 4,
    "start_time": "2022-05-05T13:16:22.050Z"
   },
   {
    "duration": 319,
    "start_time": "2022-05-05T13:16:22.056Z"
   },
   {
    "duration": 300,
    "start_time": "2022-05-05T13:16:22.377Z"
   },
   {
    "duration": 11,
    "start_time": "2022-05-05T13:16:22.679Z"
   },
   {
    "duration": 17,
    "start_time": "2022-05-05T13:16:22.709Z"
   },
   {
    "duration": 227,
    "start_time": "2022-05-05T13:16:22.728Z"
   },
   {
    "duration": 298,
    "start_time": "2022-05-05T13:16:22.958Z"
   },
   {
    "duration": 229,
    "start_time": "2022-05-05T13:16:23.257Z"
   },
   {
    "duration": 348,
    "start_time": "2022-05-05T13:16:23.488Z"
   },
   {
    "duration": 6,
    "start_time": "2022-05-05T13:16:23.838Z"
   },
   {
    "duration": 6,
    "start_time": "2022-05-05T13:16:23.846Z"
   },
   {
    "duration": 167,
    "start_time": "2022-05-05T13:16:23.853Z"
   },
   {
    "duration": 4,
    "start_time": "2022-05-05T13:16:24.022Z"
   },
   {
    "duration": 6,
    "start_time": "2022-05-05T13:16:24.027Z"
   },
   {
    "duration": 177,
    "start_time": "2022-05-05T13:16:24.035Z"
   },
   {
    "duration": 168,
    "start_time": "2022-05-05T13:16:24.214Z"
   },
   {
    "duration": 4,
    "start_time": "2022-05-05T13:16:24.384Z"
   },
   {
    "duration": 313,
    "start_time": "2022-05-05T13:16:24.390Z"
   },
   {
    "duration": 187,
    "start_time": "2022-05-05T13:16:24.704Z"
   },
   {
    "duration": 17,
    "start_time": "2022-05-05T13:16:24.895Z"
   },
   {
    "duration": 9,
    "start_time": "2022-05-05T13:16:24.914Z"
   },
   {
    "duration": 7,
    "start_time": "2022-05-05T13:16:24.925Z"
   },
   {
    "duration": 24,
    "start_time": "2022-05-05T13:16:24.934Z"
   },
   {
    "duration": 14,
    "start_time": "2022-05-05T13:16:24.959Z"
   },
   {
    "duration": 1548,
    "start_time": "2022-05-06T13:35:39.527Z"
   },
   {
    "duration": 42,
    "start_time": "2022-05-06T13:35:41.077Z"
   },
   {
    "duration": 16,
    "start_time": "2022-05-06T13:35:41.122Z"
   },
   {
    "duration": 22,
    "start_time": "2022-05-06T13:35:41.141Z"
   },
   {
    "duration": 8,
    "start_time": "2022-05-06T13:35:41.165Z"
   },
   {
    "duration": 16,
    "start_time": "2022-05-06T13:35:41.176Z"
   },
   {
    "duration": 15,
    "start_time": "2022-05-06T13:35:41.194Z"
   },
   {
    "duration": 55,
    "start_time": "2022-05-06T13:35:41.211Z"
   },
   {
    "duration": 11,
    "start_time": "2022-05-06T13:35:41.268Z"
   },
   {
    "duration": 19,
    "start_time": "2022-05-06T13:35:41.283Z"
   },
   {
    "duration": 23,
    "start_time": "2022-05-06T13:35:41.305Z"
   },
   {
    "duration": 25,
    "start_time": "2022-05-06T13:35:41.331Z"
   },
   {
    "duration": 23,
    "start_time": "2022-05-06T13:35:41.358Z"
   },
   {
    "duration": 15,
    "start_time": "2022-05-06T13:35:41.383Z"
   },
   {
    "duration": 10,
    "start_time": "2022-05-06T13:35:41.400Z"
   },
   {
    "duration": 14,
    "start_time": "2022-05-06T13:35:41.412Z"
   },
   {
    "duration": 35,
    "start_time": "2022-05-06T13:35:41.428Z"
   },
   {
    "duration": 15,
    "start_time": "2022-05-06T13:35:41.465Z"
   },
   {
    "duration": 17,
    "start_time": "2022-05-06T13:35:41.482Z"
   },
   {
    "duration": 11,
    "start_time": "2022-05-06T13:35:41.501Z"
   },
   {
    "duration": 58,
    "start_time": "2022-05-06T13:35:41.514Z"
   },
   {
    "duration": 6,
    "start_time": "2022-05-06T13:35:41.574Z"
   },
   {
    "duration": 488,
    "start_time": "2022-05-06T13:35:41.582Z"
   },
   {
    "duration": 470,
    "start_time": "2022-05-06T13:35:42.072Z"
   },
   {
    "duration": 15,
    "start_time": "2022-05-06T13:35:42.552Z"
   },
   {
    "duration": 28,
    "start_time": "2022-05-06T13:35:42.569Z"
   },
   {
    "duration": 330,
    "start_time": "2022-05-06T13:35:42.598Z"
   },
   {
    "duration": 443,
    "start_time": "2022-05-06T13:35:42.934Z"
   },
   {
    "duration": 351,
    "start_time": "2022-05-06T13:35:43.379Z"
   },
   {
    "duration": 455,
    "start_time": "2022-05-06T13:35:43.732Z"
   },
   {
    "duration": 8,
    "start_time": "2022-05-06T13:35:44.189Z"
   },
   {
    "duration": 8,
    "start_time": "2022-05-06T13:35:44.199Z"
   },
   {
    "duration": 259,
    "start_time": "2022-05-06T13:35:44.209Z"
   },
   {
    "duration": 6,
    "start_time": "2022-05-06T13:35:44.470Z"
   },
   {
    "duration": 6,
    "start_time": "2022-05-06T13:35:44.478Z"
   },
   {
    "duration": 285,
    "start_time": "2022-05-06T13:35:44.486Z"
   },
   {
    "duration": 278,
    "start_time": "2022-05-06T13:35:44.774Z"
   },
   {
    "duration": 6,
    "start_time": "2022-05-06T13:35:45.054Z"
   },
   {
    "duration": 475,
    "start_time": "2022-05-06T13:35:45.062Z"
   },
   {
    "duration": 339,
    "start_time": "2022-05-06T13:35:45.539Z"
   },
   {
    "duration": 14,
    "start_time": "2022-05-06T13:35:45.880Z"
   },
   {
    "duration": 13,
    "start_time": "2022-05-06T13:35:45.897Z"
   },
   {
    "duration": 45,
    "start_time": "2022-05-06T13:35:45.913Z"
   },
   {
    "duration": 30,
    "start_time": "2022-05-06T13:35:45.960Z"
   },
   {
    "duration": 20,
    "start_time": "2022-05-06T13:35:45.993Z"
   },
   {
    "duration": 83,
    "start_time": "2022-05-09T19:40:07.874Z"
   },
   {
    "duration": 2220,
    "start_time": "2022-05-09T19:40:18.200Z"
   },
   {
    "duration": 89,
    "start_time": "2022-05-09T19:40:20.424Z"
   },
   {
    "duration": 19,
    "start_time": "2022-05-09T19:40:20.515Z"
   },
   {
    "duration": 21,
    "start_time": "2022-05-09T19:40:20.536Z"
   },
   {
    "duration": 7,
    "start_time": "2022-05-09T19:40:20.561Z"
   },
   {
    "duration": 28,
    "start_time": "2022-05-09T19:40:20.571Z"
   },
   {
    "duration": 15,
    "start_time": "2022-05-09T19:40:20.601Z"
   },
   {
    "duration": 24,
    "start_time": "2022-05-09T19:40:20.618Z"
   },
   {
    "duration": 12,
    "start_time": "2022-05-09T19:40:20.645Z"
   },
   {
    "duration": 41,
    "start_time": "2022-05-09T19:40:20.659Z"
   },
   {
    "duration": 22,
    "start_time": "2022-05-09T19:40:20.703Z"
   },
   {
    "duration": 9,
    "start_time": "2022-05-09T19:40:20.727Z"
   },
   {
    "duration": 10,
    "start_time": "2022-05-09T19:40:20.738Z"
   },
   {
    "duration": 40,
    "start_time": "2022-05-09T19:40:20.753Z"
   },
   {
    "duration": 14,
    "start_time": "2022-05-09T19:40:20.795Z"
   },
   {
    "duration": 25,
    "start_time": "2022-05-09T19:40:20.812Z"
   },
   {
    "duration": 174,
    "start_time": "2022-05-09T19:40:20.839Z"
   },
   {
    "duration": 0,
    "start_time": "2022-05-09T19:40:21.015Z"
   },
   {
    "duration": 0,
    "start_time": "2022-05-09T19:40:21.017Z"
   },
   {
    "duration": 0,
    "start_time": "2022-05-09T19:40:21.019Z"
   },
   {
    "duration": 0,
    "start_time": "2022-05-09T19:40:21.020Z"
   },
   {
    "duration": 0,
    "start_time": "2022-05-09T19:40:21.022Z"
   },
   {
    "duration": 0,
    "start_time": "2022-05-09T19:40:21.023Z"
   },
   {
    "duration": 0,
    "start_time": "2022-05-09T19:40:21.025Z"
   },
   {
    "duration": 0,
    "start_time": "2022-05-09T19:40:21.026Z"
   },
   {
    "duration": 0,
    "start_time": "2022-05-09T19:40:21.027Z"
   },
   {
    "duration": 0,
    "start_time": "2022-05-09T19:40:21.029Z"
   },
   {
    "duration": 1,
    "start_time": "2022-05-09T19:40:21.030Z"
   },
   {
    "duration": 0,
    "start_time": "2022-05-09T19:40:21.032Z"
   },
   {
    "duration": 0,
    "start_time": "2022-05-09T19:40:21.033Z"
   },
   {
    "duration": 0,
    "start_time": "2022-05-09T19:40:21.034Z"
   },
   {
    "duration": 0,
    "start_time": "2022-05-09T19:40:21.035Z"
   },
   {
    "duration": 0,
    "start_time": "2022-05-09T19:40:21.037Z"
   },
   {
    "duration": 0,
    "start_time": "2022-05-09T19:40:21.038Z"
   },
   {
    "duration": 0,
    "start_time": "2022-05-09T19:40:21.082Z"
   },
   {
    "duration": 0,
    "start_time": "2022-05-09T19:40:21.084Z"
   },
   {
    "duration": 0,
    "start_time": "2022-05-09T19:40:21.086Z"
   },
   {
    "duration": 0,
    "start_time": "2022-05-09T19:40:21.087Z"
   },
   {
    "duration": 0,
    "start_time": "2022-05-09T19:40:21.089Z"
   },
   {
    "duration": 0,
    "start_time": "2022-05-09T19:40:21.091Z"
   },
   {
    "duration": 0,
    "start_time": "2022-05-09T19:40:21.093Z"
   },
   {
    "duration": 0,
    "start_time": "2022-05-09T19:40:21.095Z"
   },
   {
    "duration": 0,
    "start_time": "2022-05-09T19:40:21.097Z"
   },
   {
    "duration": 0,
    "start_time": "2022-05-09T19:40:21.102Z"
   },
   {
    "duration": 0,
    "start_time": "2022-05-09T19:40:21.104Z"
   },
   {
    "duration": 16,
    "start_time": "2022-05-09T19:40:47.112Z"
   },
   {
    "duration": 14,
    "start_time": "2022-05-09T19:45:46.591Z"
   },
   {
    "duration": 121,
    "start_time": "2022-05-09T19:47:20.760Z"
   },
   {
    "duration": 1541,
    "start_time": "2022-05-10T19:56:28.871Z"
   },
   {
    "duration": 177,
    "start_time": "2022-05-10T19:56:30.414Z"
   },
   {
    "duration": 13,
    "start_time": "2022-05-10T19:56:30.593Z"
   },
   {
    "duration": 19,
    "start_time": "2022-05-10T19:56:30.609Z"
   },
   {
    "duration": 7,
    "start_time": "2022-05-10T19:56:30.630Z"
   },
   {
    "duration": 39,
    "start_time": "2022-05-10T19:56:30.639Z"
   },
   {
    "duration": 22,
    "start_time": "2022-05-10T19:56:30.682Z"
   },
   {
    "duration": 26,
    "start_time": "2022-05-10T19:56:30.707Z"
   },
   {
    "duration": 21,
    "start_time": "2022-05-10T19:56:30.737Z"
   },
   {
    "duration": 20,
    "start_time": "2022-05-10T19:56:30.761Z"
   },
   {
    "duration": 13,
    "start_time": "2022-05-10T19:56:30.783Z"
   },
   {
    "duration": 18,
    "start_time": "2022-05-10T19:56:30.798Z"
   },
   {
    "duration": 11,
    "start_time": "2022-05-10T19:56:30.818Z"
   },
   {
    "duration": 33,
    "start_time": "2022-05-10T19:56:30.830Z"
   },
   {
    "duration": 15,
    "start_time": "2022-05-10T19:56:30.865Z"
   },
   {
    "duration": 19,
    "start_time": "2022-05-10T19:56:30.882Z"
   },
   {
    "duration": 16,
    "start_time": "2022-05-10T19:56:30.903Z"
   },
   {
    "duration": 11,
    "start_time": "2022-05-10T19:56:30.922Z"
   },
   {
    "duration": 27,
    "start_time": "2022-05-10T19:56:30.936Z"
   },
   {
    "duration": 16,
    "start_time": "2022-05-10T19:56:30.965Z"
   },
   {
    "duration": 25,
    "start_time": "2022-05-10T19:56:30.983Z"
   },
   {
    "duration": 11,
    "start_time": "2022-05-10T19:56:31.010Z"
   },
   {
    "duration": 349,
    "start_time": "2022-05-10T19:56:31.023Z"
   },
   {
    "duration": 355,
    "start_time": "2022-05-10T19:56:31.374Z"
   },
   {
    "duration": 16,
    "start_time": "2022-05-10T19:56:31.731Z"
   },
   {
    "duration": 21,
    "start_time": "2022-05-10T19:56:31.750Z"
   },
   {
    "duration": 265,
    "start_time": "2022-05-10T19:56:31.773Z"
   },
   {
    "duration": 376,
    "start_time": "2022-05-10T19:56:32.045Z"
   },
   {
    "duration": 271,
    "start_time": "2022-05-10T19:56:32.423Z"
   },
   {
    "duration": 409,
    "start_time": "2022-05-10T19:56:32.696Z"
   },
   {
    "duration": 7,
    "start_time": "2022-05-10T19:56:33.106Z"
   },
   {
    "duration": 23,
    "start_time": "2022-05-10T19:56:33.115Z"
   },
   {
    "duration": 181,
    "start_time": "2022-05-10T19:56:33.141Z"
   },
   {
    "duration": 13,
    "start_time": "2022-05-10T19:56:33.324Z"
   },
   {
    "duration": 20,
    "start_time": "2022-05-10T19:56:33.340Z"
   },
   {
    "duration": 198,
    "start_time": "2022-05-10T19:56:33.362Z"
   },
   {
    "duration": 201,
    "start_time": "2022-05-10T19:56:33.562Z"
   },
   {
    "duration": 5,
    "start_time": "2022-05-10T19:56:33.765Z"
   },
   {
    "duration": 355,
    "start_time": "2022-05-10T19:56:33.772Z"
   },
   {
    "duration": 191,
    "start_time": "2022-05-10T19:56:34.133Z"
   },
   {
    "duration": 20,
    "start_time": "2022-05-10T19:56:34.325Z"
   },
   {
    "duration": 13,
    "start_time": "2022-05-10T19:56:34.347Z"
   },
   {
    "duration": 11,
    "start_time": "2022-05-10T19:56:34.362Z"
   },
   {
    "duration": 29,
    "start_time": "2022-05-10T19:56:34.375Z"
   },
   {
    "duration": 42,
    "start_time": "2022-05-10T19:56:34.406Z"
   },
   {
    "duration": 163,
    "start_time": "2022-05-10T19:59:05.591Z"
   },
   {
    "duration": 172,
    "start_time": "2022-05-10T19:59:36.046Z"
   },
   {
    "duration": 235,
    "start_time": "2022-05-10T20:08:02.431Z"
   },
   {
    "duration": 165,
    "start_time": "2022-05-10T20:15:37.695Z"
   },
   {
    "duration": 1307,
    "start_time": "2022-05-10T20:15:47.308Z"
   },
   {
    "duration": 60,
    "start_time": "2022-05-10T20:15:48.617Z"
   },
   {
    "duration": 13,
    "start_time": "2022-05-10T20:15:48.679Z"
   },
   {
    "duration": 14,
    "start_time": "2022-05-10T20:15:48.695Z"
   },
   {
    "duration": 6,
    "start_time": "2022-05-10T20:15:48.711Z"
   },
   {
    "duration": 19,
    "start_time": "2022-05-10T20:15:48.719Z"
   },
   {
    "duration": 21,
    "start_time": "2022-05-10T20:15:48.740Z"
   },
   {
    "duration": 15,
    "start_time": "2022-05-10T20:15:48.763Z"
   },
   {
    "duration": 14,
    "start_time": "2022-05-10T20:15:48.780Z"
   },
   {
    "duration": 11,
    "start_time": "2022-05-10T20:15:48.797Z"
   },
   {
    "duration": 30,
    "start_time": "2022-05-10T20:15:48.810Z"
   },
   {
    "duration": 7,
    "start_time": "2022-05-10T20:15:48.842Z"
   },
   {
    "duration": 7,
    "start_time": "2022-05-10T20:15:48.851Z"
   },
   {
    "duration": 11,
    "start_time": "2022-05-10T20:15:48.860Z"
   },
   {
    "duration": 11,
    "start_time": "2022-05-10T20:15:48.874Z"
   },
   {
    "duration": 14,
    "start_time": "2022-05-10T20:15:48.887Z"
   },
   {
    "duration": 18,
    "start_time": "2022-05-10T20:15:48.935Z"
   },
   {
    "duration": 14,
    "start_time": "2022-05-10T20:15:48.955Z"
   },
   {
    "duration": 15,
    "start_time": "2022-05-10T20:15:48.971Z"
   },
   {
    "duration": 10,
    "start_time": "2022-05-10T20:15:48.989Z"
   },
   {
    "duration": 26,
    "start_time": "2022-05-10T20:15:49.033Z"
   },
   {
    "duration": 6,
    "start_time": "2022-05-10T20:15:49.062Z"
   },
   {
    "duration": 326,
    "start_time": "2022-05-10T20:15:49.070Z"
   },
   {
    "duration": 169,
    "start_time": "2022-05-10T20:15:49.398Z"
   },
   {
    "duration": 0,
    "start_time": "2022-05-10T20:15:49.570Z"
   },
   {
    "duration": 0,
    "start_time": "2022-05-10T20:15:49.572Z"
   },
   {
    "duration": 0,
    "start_time": "2022-05-10T20:15:49.574Z"
   },
   {
    "duration": 0,
    "start_time": "2022-05-10T20:15:49.575Z"
   },
   {
    "duration": 0,
    "start_time": "2022-05-10T20:15:49.577Z"
   },
   {
    "duration": 0,
    "start_time": "2022-05-10T20:15:49.578Z"
   },
   {
    "duration": 0,
    "start_time": "2022-05-10T20:15:49.580Z"
   },
   {
    "duration": 0,
    "start_time": "2022-05-10T20:15:49.582Z"
   },
   {
    "duration": 0,
    "start_time": "2022-05-10T20:15:49.583Z"
   },
   {
    "duration": 0,
    "start_time": "2022-05-10T20:15:49.584Z"
   },
   {
    "duration": 0,
    "start_time": "2022-05-10T20:15:49.586Z"
   },
   {
    "duration": 0,
    "start_time": "2022-05-10T20:15:49.587Z"
   },
   {
    "duration": 0,
    "start_time": "2022-05-10T20:15:49.589Z"
   },
   {
    "duration": 0,
    "start_time": "2022-05-10T20:15:49.590Z"
   },
   {
    "duration": 0,
    "start_time": "2022-05-10T20:15:49.591Z"
   },
   {
    "duration": 0,
    "start_time": "2022-05-10T20:15:49.592Z"
   },
   {
    "duration": 0,
    "start_time": "2022-05-10T20:15:49.594Z"
   },
   {
    "duration": 0,
    "start_time": "2022-05-10T20:15:49.595Z"
   },
   {
    "duration": 0,
    "start_time": "2022-05-10T20:15:49.596Z"
   },
   {
    "duration": 0,
    "start_time": "2022-05-10T20:15:49.598Z"
   },
   {
    "duration": 0,
    "start_time": "2022-05-10T20:15:49.599Z"
   },
   {
    "duration": 171,
    "start_time": "2022-05-10T20:17:13.075Z"
   },
   {
    "duration": 1282,
    "start_time": "2022-05-10T20:17:20.445Z"
   },
   {
    "duration": 66,
    "start_time": "2022-05-10T20:17:21.729Z"
   },
   {
    "duration": 13,
    "start_time": "2022-05-10T20:17:21.797Z"
   },
   {
    "duration": 19,
    "start_time": "2022-05-10T20:17:21.812Z"
   },
   {
    "duration": 6,
    "start_time": "2022-05-10T20:17:21.833Z"
   },
   {
    "duration": 22,
    "start_time": "2022-05-10T20:17:21.841Z"
   },
   {
    "duration": 16,
    "start_time": "2022-05-10T20:17:21.865Z"
   },
   {
    "duration": 18,
    "start_time": "2022-05-10T20:17:21.883Z"
   },
   {
    "duration": 12,
    "start_time": "2022-05-10T20:17:21.903Z"
   },
   {
    "duration": 18,
    "start_time": "2022-05-10T20:17:21.933Z"
   },
   {
    "duration": 12,
    "start_time": "2022-05-10T20:17:21.954Z"
   },
   {
    "duration": 12,
    "start_time": "2022-05-10T20:17:21.968Z"
   },
   {
    "duration": 9,
    "start_time": "2022-05-10T20:17:21.982Z"
   },
   {
    "duration": 14,
    "start_time": "2022-05-10T20:17:21.993Z"
   },
   {
    "duration": 8,
    "start_time": "2022-05-10T20:17:22.034Z"
   },
   {
    "duration": 14,
    "start_time": "2022-05-10T20:17:22.044Z"
   },
   {
    "duration": 14,
    "start_time": "2022-05-10T20:17:22.060Z"
   },
   {
    "duration": 13,
    "start_time": "2022-05-10T20:17:22.076Z"
   },
   {
    "duration": 45,
    "start_time": "2022-05-10T20:17:22.091Z"
   },
   {
    "duration": 9,
    "start_time": "2022-05-10T20:17:22.138Z"
   },
   {
    "duration": 32,
    "start_time": "2022-05-10T20:17:22.149Z"
   },
   {
    "duration": 7,
    "start_time": "2022-05-10T20:17:22.183Z"
   },
   {
    "duration": 339,
    "start_time": "2022-05-10T20:17:22.192Z"
   },
   {
    "duration": 182,
    "start_time": "2022-05-10T20:17:22.532Z"
   },
   {
    "duration": 0,
    "start_time": "2022-05-10T20:17:22.718Z"
   },
   {
    "duration": 0,
    "start_time": "2022-05-10T20:17:22.719Z"
   },
   {
    "duration": 0,
    "start_time": "2022-05-10T20:17:22.721Z"
   },
   {
    "duration": 0,
    "start_time": "2022-05-10T20:17:22.723Z"
   },
   {
    "duration": 0,
    "start_time": "2022-05-10T20:17:22.724Z"
   },
   {
    "duration": 0,
    "start_time": "2022-05-10T20:17:22.726Z"
   },
   {
    "duration": 0,
    "start_time": "2022-05-10T20:17:22.728Z"
   },
   {
    "duration": 0,
    "start_time": "2022-05-10T20:17:22.729Z"
   },
   {
    "duration": 0,
    "start_time": "2022-05-10T20:17:22.731Z"
   },
   {
    "duration": 0,
    "start_time": "2022-05-10T20:17:22.733Z"
   },
   {
    "duration": 0,
    "start_time": "2022-05-10T20:17:22.734Z"
   },
   {
    "duration": 0,
    "start_time": "2022-05-10T20:17:22.736Z"
   },
   {
    "duration": 0,
    "start_time": "2022-05-10T20:17:22.737Z"
   },
   {
    "duration": 0,
    "start_time": "2022-05-10T20:17:22.739Z"
   },
   {
    "duration": 0,
    "start_time": "2022-05-10T20:17:22.741Z"
   },
   {
    "duration": 0,
    "start_time": "2022-05-10T20:17:22.742Z"
   },
   {
    "duration": 0,
    "start_time": "2022-05-10T20:17:22.744Z"
   },
   {
    "duration": 0,
    "start_time": "2022-05-10T20:17:22.745Z"
   },
   {
    "duration": 0,
    "start_time": "2022-05-10T20:17:22.747Z"
   },
   {
    "duration": 0,
    "start_time": "2022-05-10T20:17:22.749Z"
   },
   {
    "duration": 0,
    "start_time": "2022-05-10T20:17:22.750Z"
   },
   {
    "duration": 320,
    "start_time": "2022-05-10T20:17:37.741Z"
   },
   {
    "duration": 242,
    "start_time": "2022-05-10T20:17:52.733Z"
   },
   {
    "duration": 355,
    "start_time": "2022-05-10T20:18:05.724Z"
   },
   {
    "duration": 234,
    "start_time": "2022-05-10T20:18:23.709Z"
   },
   {
    "duration": 238,
    "start_time": "2022-05-10T20:18:38.252Z"
   },
   {
    "duration": 121,
    "start_time": "2022-05-10T20:19:56.134Z"
   },
   {
    "duration": 1323,
    "start_time": "2022-05-10T20:21:55.900Z"
   },
   {
    "duration": 61,
    "start_time": "2022-05-10T20:21:57.225Z"
   },
   {
    "duration": 13,
    "start_time": "2022-05-10T20:21:57.287Z"
   },
   {
    "duration": 16,
    "start_time": "2022-05-10T20:21:57.302Z"
   },
   {
    "duration": 5,
    "start_time": "2022-05-10T20:21:57.319Z"
   },
   {
    "duration": 14,
    "start_time": "2022-05-10T20:21:57.326Z"
   },
   {
    "duration": 11,
    "start_time": "2022-05-10T20:21:57.342Z"
   },
   {
    "duration": 19,
    "start_time": "2022-05-10T20:21:57.355Z"
   },
   {
    "duration": 9,
    "start_time": "2022-05-10T20:21:57.376Z"
   },
   {
    "duration": 10,
    "start_time": "2022-05-10T20:21:57.389Z"
   },
   {
    "duration": 13,
    "start_time": "2022-05-10T20:21:57.402Z"
   },
   {
    "duration": 5,
    "start_time": "2022-05-10T20:21:57.433Z"
   },
   {
    "duration": 8,
    "start_time": "2022-05-10T20:21:57.440Z"
   },
   {
    "duration": 16,
    "start_time": "2022-05-10T20:21:57.450Z"
   },
   {
    "duration": 10,
    "start_time": "2022-05-10T20:21:57.468Z"
   },
   {
    "duration": 16,
    "start_time": "2022-05-10T20:21:57.480Z"
   },
   {
    "duration": 35,
    "start_time": "2022-05-10T20:21:57.498Z"
   },
   {
    "duration": 10,
    "start_time": "2022-05-10T20:21:57.535Z"
   },
   {
    "duration": 14,
    "start_time": "2022-05-10T20:21:57.547Z"
   },
   {
    "duration": 9,
    "start_time": "2022-05-10T20:21:57.562Z"
   },
   {
    "duration": 21,
    "start_time": "2022-05-10T20:21:57.574Z"
   },
   {
    "duration": 38,
    "start_time": "2022-05-10T20:21:57.597Z"
   },
   {
    "duration": 318,
    "start_time": "2022-05-10T20:21:57.638Z"
   },
   {
    "duration": 123,
    "start_time": "2022-05-10T20:21:57.958Z"
   },
   {
    "duration": 0,
    "start_time": "2022-05-10T20:21:58.084Z"
   },
   {
    "duration": 0,
    "start_time": "2022-05-10T20:21:58.086Z"
   },
   {
    "duration": 0,
    "start_time": "2022-05-10T20:21:58.087Z"
   },
   {
    "duration": 0,
    "start_time": "2022-05-10T20:21:58.089Z"
   },
   {
    "duration": 0,
    "start_time": "2022-05-10T20:21:58.090Z"
   },
   {
    "duration": 0,
    "start_time": "2022-05-10T20:21:58.091Z"
   },
   {
    "duration": 0,
    "start_time": "2022-05-10T20:21:58.093Z"
   },
   {
    "duration": 0,
    "start_time": "2022-05-10T20:21:58.094Z"
   },
   {
    "duration": 0,
    "start_time": "2022-05-10T20:21:58.095Z"
   },
   {
    "duration": 0,
    "start_time": "2022-05-10T20:21:58.096Z"
   },
   {
    "duration": 0,
    "start_time": "2022-05-10T20:21:58.098Z"
   },
   {
    "duration": 0,
    "start_time": "2022-05-10T20:21:58.099Z"
   },
   {
    "duration": 0,
    "start_time": "2022-05-10T20:21:58.101Z"
   },
   {
    "duration": 0,
    "start_time": "2022-05-10T20:21:58.102Z"
   },
   {
    "duration": 0,
    "start_time": "2022-05-10T20:21:58.134Z"
   },
   {
    "duration": 0,
    "start_time": "2022-05-10T20:21:58.136Z"
   },
   {
    "duration": 1,
    "start_time": "2022-05-10T20:21:58.137Z"
   },
   {
    "duration": 0,
    "start_time": "2022-05-10T20:21:58.139Z"
   },
   {
    "duration": 0,
    "start_time": "2022-05-10T20:21:58.140Z"
   },
   {
    "duration": 0,
    "start_time": "2022-05-10T20:21:58.141Z"
   },
   {
    "duration": 0,
    "start_time": "2022-05-10T20:21:58.142Z"
   },
   {
    "duration": 314,
    "start_time": "2022-05-10T20:22:22.556Z"
   },
   {
    "duration": 243,
    "start_time": "2022-05-10T20:23:08.520Z"
   },
   {
    "duration": 237,
    "start_time": "2022-05-10T20:23:55.688Z"
   },
   {
    "duration": 202,
    "start_time": "2022-05-10T20:24:38.297Z"
   },
   {
    "duration": 239,
    "start_time": "2022-05-10T20:27:03.511Z"
   },
   {
    "duration": 212,
    "start_time": "2022-05-10T20:28:04.575Z"
   },
   {
    "duration": 174,
    "start_time": "2022-05-10T20:29:38.065Z"
   },
   {
    "duration": 335,
    "start_time": "2022-05-10T20:36:13.639Z"
   },
   {
    "duration": 322,
    "start_time": "2022-05-10T20:36:30.672Z"
   },
   {
    "duration": 1232,
    "start_time": "2022-05-10T20:38:05.482Z"
   },
   {
    "duration": 62,
    "start_time": "2022-05-10T20:38:06.716Z"
   },
   {
    "duration": 13,
    "start_time": "2022-05-10T20:38:06.779Z"
   },
   {
    "duration": 13,
    "start_time": "2022-05-10T20:38:06.795Z"
   },
   {
    "duration": 6,
    "start_time": "2022-05-10T20:38:06.810Z"
   },
   {
    "duration": 12,
    "start_time": "2022-05-10T20:38:06.818Z"
   },
   {
    "duration": 11,
    "start_time": "2022-05-10T20:38:06.832Z"
   },
   {
    "duration": 16,
    "start_time": "2022-05-10T20:38:06.845Z"
   },
   {
    "duration": 8,
    "start_time": "2022-05-10T20:38:06.863Z"
   },
   {
    "duration": 11,
    "start_time": "2022-05-10T20:38:06.874Z"
   },
   {
    "duration": 8,
    "start_time": "2022-05-10T20:38:06.886Z"
   },
   {
    "duration": 6,
    "start_time": "2022-05-10T20:38:06.895Z"
   },
   {
    "duration": 31,
    "start_time": "2022-05-10T20:38:06.903Z"
   },
   {
    "duration": 13,
    "start_time": "2022-05-10T20:38:06.936Z"
   },
   {
    "duration": 8,
    "start_time": "2022-05-10T20:38:06.951Z"
   },
   {
    "duration": 13,
    "start_time": "2022-05-10T20:38:06.961Z"
   },
   {
    "duration": 11,
    "start_time": "2022-05-10T20:38:06.976Z"
   },
   {
    "duration": 45,
    "start_time": "2022-05-10T20:38:06.989Z"
   },
   {
    "duration": 10,
    "start_time": "2022-05-10T20:38:07.036Z"
   },
   {
    "duration": 8,
    "start_time": "2022-05-10T20:38:07.048Z"
   },
   {
    "duration": 22,
    "start_time": "2022-05-10T20:38:07.057Z"
   },
   {
    "duration": 5,
    "start_time": "2022-05-10T20:38:07.081Z"
   },
   {
    "duration": 333,
    "start_time": "2022-05-10T20:38:07.087Z"
   },
   {
    "duration": 330,
    "start_time": "2022-05-10T20:38:07.422Z"
   },
   {
    "duration": 10,
    "start_time": "2022-05-10T20:38:07.754Z"
   },
   {
    "duration": 18,
    "start_time": "2022-05-10T20:38:07.766Z"
   },
   {
    "duration": 239,
    "start_time": "2022-05-10T20:38:07.786Z"
   },
   {
    "duration": 334,
    "start_time": "2022-05-10T20:38:08.029Z"
   },
   {
    "duration": 234,
    "start_time": "2022-05-10T20:38:08.364Z"
   },
   {
    "duration": 363,
    "start_time": "2022-05-10T20:38:08.600Z"
   },
   {
    "duration": 7,
    "start_time": "2022-05-10T20:38:08.965Z"
   },
   {
    "duration": 11,
    "start_time": "2022-05-10T20:38:08.973Z"
   },
   {
    "duration": 174,
    "start_time": "2022-05-10T20:38:08.985Z"
   },
   {
    "duration": 4,
    "start_time": "2022-05-10T20:38:09.161Z"
   },
   {
    "duration": 7,
    "start_time": "2022-05-10T20:38:09.166Z"
   },
   {
    "duration": 190,
    "start_time": "2022-05-10T20:38:09.174Z"
   },
   {
    "duration": 249,
    "start_time": "2022-05-10T20:38:09.365Z"
   },
   {
    "duration": 4,
    "start_time": "2022-05-10T20:38:09.616Z"
   },
   {
    "duration": 239,
    "start_time": "2022-05-10T20:38:09.633Z"
   },
   {
    "duration": 180,
    "start_time": "2022-05-10T20:38:09.874Z"
   },
   {
    "duration": 12,
    "start_time": "2022-05-10T20:38:10.057Z"
   },
   {
    "duration": 11,
    "start_time": "2022-05-10T20:38:10.071Z"
   },
   {
    "duration": 9,
    "start_time": "2022-05-10T20:38:10.085Z"
   },
   {
    "duration": 58,
    "start_time": "2022-05-10T20:38:10.096Z"
   },
   {
    "duration": 16,
    "start_time": "2022-05-10T20:38:10.155Z"
   },
   {
    "duration": 1506,
    "start_time": "2022-05-11T10:21:23.548Z"
   },
   {
    "duration": 39,
    "start_time": "2022-05-11T10:21:25.057Z"
   },
   {
    "duration": 17,
    "start_time": "2022-05-11T10:21:25.098Z"
   },
   {
    "duration": 18,
    "start_time": "2022-05-11T10:21:25.118Z"
   },
   {
    "duration": 16,
    "start_time": "2022-05-11T10:21:25.139Z"
   },
   {
    "duration": 17,
    "start_time": "2022-05-11T10:21:25.158Z"
   },
   {
    "duration": 14,
    "start_time": "2022-05-11T10:21:25.178Z"
   },
   {
    "duration": 25,
    "start_time": "2022-05-11T10:21:25.194Z"
   },
   {
    "duration": 35,
    "start_time": "2022-05-11T10:21:25.221Z"
   },
   {
    "duration": 15,
    "start_time": "2022-05-11T10:21:25.260Z"
   },
   {
    "duration": 12,
    "start_time": "2022-05-11T10:21:25.277Z"
   },
   {
    "duration": 8,
    "start_time": "2022-05-11T10:21:25.291Z"
   },
   {
    "duration": 10,
    "start_time": "2022-05-11T10:21:25.301Z"
   },
   {
    "duration": 46,
    "start_time": "2022-05-11T10:21:25.313Z"
   },
   {
    "duration": 15,
    "start_time": "2022-05-11T10:21:25.361Z"
   },
   {
    "duration": 14,
    "start_time": "2022-05-11T10:21:25.378Z"
   },
   {
    "duration": 16,
    "start_time": "2022-05-11T10:21:25.394Z"
   },
   {
    "duration": 42,
    "start_time": "2022-05-11T10:21:25.412Z"
   },
   {
    "duration": 16,
    "start_time": "2022-05-11T10:21:25.457Z"
   },
   {
    "duration": 10,
    "start_time": "2022-05-11T10:21:25.475Z"
   },
   {
    "duration": 26,
    "start_time": "2022-05-11T10:21:25.487Z"
   },
   {
    "duration": 39,
    "start_time": "2022-05-11T10:21:25.515Z"
   },
   {
    "duration": 463,
    "start_time": "2022-05-11T10:21:25.556Z"
   },
   {
    "duration": 565,
    "start_time": "2022-05-11T10:21:26.021Z"
   },
   {
    "duration": 14,
    "start_time": "2022-05-11T10:21:26.588Z"
   },
   {
    "duration": 23,
    "start_time": "2022-05-11T10:21:26.604Z"
   },
   {
    "duration": 332,
    "start_time": "2022-05-11T10:21:26.629Z"
   },
   {
    "duration": 406,
    "start_time": "2022-05-11T10:21:26.966Z"
   },
   {
    "duration": 451,
    "start_time": "2022-05-11T10:21:27.374Z"
   },
   {
    "duration": 455,
    "start_time": "2022-05-11T10:21:27.827Z"
   },
   {
    "duration": 8,
    "start_time": "2022-05-11T10:21:28.284Z"
   },
   {
    "duration": 8,
    "start_time": "2022-05-11T10:21:28.295Z"
   },
   {
    "duration": 263,
    "start_time": "2022-05-11T10:21:28.305Z"
   },
   {
    "duration": 5,
    "start_time": "2022-05-11T10:21:28.570Z"
   },
   {
    "duration": 10,
    "start_time": "2022-05-11T10:21:28.577Z"
   },
   {
    "duration": 272,
    "start_time": "2022-05-11T10:21:28.588Z"
   },
   {
    "duration": 312,
    "start_time": "2022-05-11T10:21:28.863Z"
   },
   {
    "duration": 5,
    "start_time": "2022-05-11T10:21:29.177Z"
   },
   {
    "duration": 399,
    "start_time": "2022-05-11T10:21:29.184Z"
   },
   {
    "duration": 326,
    "start_time": "2022-05-11T10:21:29.585Z"
   },
   {
    "duration": 14,
    "start_time": "2022-05-11T10:21:29.914Z"
   },
   {
    "duration": 29,
    "start_time": "2022-05-11T10:21:29.931Z"
   },
   {
    "duration": 13,
    "start_time": "2022-05-11T10:21:29.962Z"
   },
   {
    "duration": 30,
    "start_time": "2022-05-11T10:21:29.977Z"
   },
   {
    "duration": 57,
    "start_time": "2022-05-11T10:21:30.010Z"
   },
   {
    "duration": 62,
    "start_time": "2022-05-11T17:51:39.347Z"
   },
   {
    "duration": 1445,
    "start_time": "2022-05-11T17:51:47.020Z"
   },
   {
    "duration": 61,
    "start_time": "2022-05-11T17:51:48.468Z"
   },
   {
    "duration": 13,
    "start_time": "2022-05-11T17:51:48.531Z"
   },
   {
    "duration": 18,
    "start_time": "2022-05-11T17:51:48.546Z"
   },
   {
    "duration": 12,
    "start_time": "2022-05-11T17:51:48.566Z"
   },
   {
    "duration": 18,
    "start_time": "2022-05-11T17:51:48.580Z"
   },
   {
    "duration": 15,
    "start_time": "2022-05-11T17:51:48.600Z"
   },
   {
    "duration": 26,
    "start_time": "2022-05-11T17:51:48.616Z"
   },
   {
    "duration": 16,
    "start_time": "2022-05-11T17:51:48.643Z"
   },
   {
    "duration": 11,
    "start_time": "2022-05-11T17:51:48.662Z"
   },
   {
    "duration": 14,
    "start_time": "2022-05-11T17:51:48.675Z"
   },
   {
    "duration": 19,
    "start_time": "2022-05-11T17:51:48.690Z"
   },
   {
    "duration": 12,
    "start_time": "2022-05-11T17:51:48.710Z"
   },
   {
    "duration": 17,
    "start_time": "2022-05-11T17:51:48.723Z"
   },
   {
    "duration": 20,
    "start_time": "2022-05-11T17:51:48.742Z"
   },
   {
    "duration": 19,
    "start_time": "2022-05-11T17:51:48.763Z"
   },
   {
    "duration": 31,
    "start_time": "2022-05-11T17:51:48.783Z"
   },
   {
    "duration": 22,
    "start_time": "2022-05-11T17:51:48.816Z"
   },
   {
    "duration": 34,
    "start_time": "2022-05-11T17:51:48.840Z"
   },
   {
    "duration": 17,
    "start_time": "2022-05-11T17:51:48.876Z"
   },
   {
    "duration": 25,
    "start_time": "2022-05-11T17:51:48.894Z"
   },
   {
    "duration": 4,
    "start_time": "2022-05-11T17:51:48.921Z"
   },
   {
    "duration": 287,
    "start_time": "2022-05-11T17:51:48.927Z"
   },
   {
    "duration": 295,
    "start_time": "2022-05-11T17:51:49.216Z"
   },
   {
    "duration": 21,
    "start_time": "2022-05-11T17:51:49.513Z"
   },
   {
    "duration": 30,
    "start_time": "2022-05-11T17:51:49.536Z"
   },
   {
    "duration": 214,
    "start_time": "2022-05-11T17:51:49.568Z"
   },
   {
    "duration": 419,
    "start_time": "2022-05-11T17:51:49.786Z"
   },
   {
    "duration": 252,
    "start_time": "2022-05-11T17:51:50.207Z"
   },
   {
    "duration": 330,
    "start_time": "2022-05-11T17:51:50.461Z"
   },
   {
    "duration": 6,
    "start_time": "2022-05-11T17:51:50.793Z"
   },
   {
    "duration": 11,
    "start_time": "2022-05-11T17:51:50.801Z"
   },
   {
    "duration": 174,
    "start_time": "2022-05-11T17:51:50.814Z"
   },
   {
    "duration": 5,
    "start_time": "2022-05-11T17:51:50.991Z"
   },
   {
    "duration": 18,
    "start_time": "2022-05-11T17:51:50.998Z"
   },
   {
    "duration": 186,
    "start_time": "2022-05-11T17:51:51.017Z"
   },
   {
    "duration": 269,
    "start_time": "2022-05-11T17:51:51.205Z"
   },
   {
    "duration": 5,
    "start_time": "2022-05-11T17:51:51.475Z"
   },
   {
    "duration": 264,
    "start_time": "2022-05-11T17:51:51.482Z"
   },
   {
    "duration": 190,
    "start_time": "2022-05-11T17:51:51.748Z"
   },
   {
    "duration": 12,
    "start_time": "2022-05-11T17:51:51.939Z"
   },
   {
    "duration": 13,
    "start_time": "2022-05-11T17:51:51.953Z"
   },
   {
    "duration": 12,
    "start_time": "2022-05-11T17:51:51.968Z"
   },
   {
    "duration": 37,
    "start_time": "2022-05-11T17:51:51.982Z"
   },
   {
    "duration": 15,
    "start_time": "2022-05-11T17:51:52.034Z"
   },
   {
    "duration": 1267,
    "start_time": "2022-05-11T17:53:17.582Z"
   },
   {
    "duration": 70,
    "start_time": "2022-05-11T17:53:18.851Z"
   },
   {
    "duration": 12,
    "start_time": "2022-05-11T17:53:18.922Z"
   },
   {
    "duration": 15,
    "start_time": "2022-05-11T17:53:18.937Z"
   },
   {
    "duration": 5,
    "start_time": "2022-05-11T17:53:18.954Z"
   },
   {
    "duration": 17,
    "start_time": "2022-05-11T17:53:18.961Z"
   },
   {
    "duration": 12,
    "start_time": "2022-05-11T17:53:18.979Z"
   },
   {
    "duration": 42,
    "start_time": "2022-05-11T17:53:18.992Z"
   },
   {
    "duration": 8,
    "start_time": "2022-05-11T17:53:19.036Z"
   },
   {
    "duration": 12,
    "start_time": "2022-05-11T17:53:19.047Z"
   },
   {
    "duration": 10,
    "start_time": "2022-05-11T17:53:19.060Z"
   },
   {
    "duration": 8,
    "start_time": "2022-05-11T17:53:19.072Z"
   },
   {
    "duration": 7,
    "start_time": "2022-05-11T17:53:19.081Z"
   },
   {
    "duration": 14,
    "start_time": "2022-05-11T17:53:19.090Z"
   },
   {
    "duration": 31,
    "start_time": "2022-05-11T17:53:19.106Z"
   },
   {
    "duration": 10,
    "start_time": "2022-05-11T17:53:19.138Z"
   },
   {
    "duration": 12,
    "start_time": "2022-05-11T17:53:19.150Z"
   },
   {
    "duration": 11,
    "start_time": "2022-05-11T17:53:19.163Z"
   },
   {
    "duration": 13,
    "start_time": "2022-05-11T17:53:19.176Z"
   },
   {
    "duration": 8,
    "start_time": "2022-05-11T17:53:19.190Z"
   },
   {
    "duration": 19,
    "start_time": "2022-05-11T17:53:19.233Z"
   },
   {
    "duration": 4,
    "start_time": "2022-05-11T17:53:19.254Z"
   },
   {
    "duration": 315,
    "start_time": "2022-05-11T17:53:19.260Z"
   },
   {
    "duration": 308,
    "start_time": "2022-05-11T17:53:19.577Z"
   },
   {
    "duration": 11,
    "start_time": "2022-05-11T17:53:19.887Z"
   },
   {
    "duration": 17,
    "start_time": "2022-05-11T17:53:19.899Z"
   },
   {
    "duration": 197,
    "start_time": "2022-05-11T17:53:19.934Z"
   },
   {
    "duration": 325,
    "start_time": "2022-05-11T17:53:20.136Z"
   },
   {
    "duration": 215,
    "start_time": "2022-05-11T17:53:20.463Z"
   },
   {
    "duration": 333,
    "start_time": "2022-05-11T17:53:20.679Z"
   },
   {
    "duration": 7,
    "start_time": "2022-05-11T17:53:21.014Z"
   },
   {
    "duration": 16,
    "start_time": "2022-05-11T17:53:21.022Z"
   },
   {
    "duration": 163,
    "start_time": "2022-05-11T17:53:21.040Z"
   },
   {
    "duration": 4,
    "start_time": "2022-05-11T17:53:21.205Z"
   },
   {
    "duration": 8,
    "start_time": "2022-05-11T17:53:21.211Z"
   },
   {
    "duration": 177,
    "start_time": "2022-05-11T17:53:21.234Z"
   },
   {
    "duration": 246,
    "start_time": "2022-05-11T17:53:21.413Z"
   },
   {
    "duration": 5,
    "start_time": "2022-05-11T17:53:21.662Z"
   },
   {
    "duration": 260,
    "start_time": "2022-05-11T17:53:21.669Z"
   },
   {
    "duration": 199,
    "start_time": "2022-05-11T17:53:21.931Z"
   },
   {
    "duration": 11,
    "start_time": "2022-05-11T17:53:22.134Z"
   },
   {
    "duration": 10,
    "start_time": "2022-05-11T17:53:22.146Z"
   },
   {
    "duration": 9,
    "start_time": "2022-05-11T17:53:22.158Z"
   },
   {
    "duration": 28,
    "start_time": "2022-05-11T17:53:22.168Z"
   },
   {
    "duration": 47,
    "start_time": "2022-05-11T17:53:22.198Z"
   },
   {
    "duration": 122,
    "start_time": "2022-05-11T18:06:14.851Z"
   },
   {
    "duration": 1239,
    "start_time": "2022-05-11T18:06:25.133Z"
   },
   {
    "duration": 66,
    "start_time": "2022-05-11T18:06:26.374Z"
   },
   {
    "duration": 14,
    "start_time": "2022-05-11T18:06:26.441Z"
   },
   {
    "duration": 19,
    "start_time": "2022-05-11T18:06:26.457Z"
   },
   {
    "duration": 5,
    "start_time": "2022-05-11T18:06:26.478Z"
   },
   {
    "duration": 14,
    "start_time": "2022-05-11T18:06:26.484Z"
   },
   {
    "duration": 33,
    "start_time": "2022-05-11T18:06:26.500Z"
   },
   {
    "duration": 13,
    "start_time": "2022-05-11T18:06:26.535Z"
   },
   {
    "duration": 8,
    "start_time": "2022-05-11T18:06:26.550Z"
   },
   {
    "duration": 11,
    "start_time": "2022-05-11T18:06:26.562Z"
   },
   {
    "duration": 10,
    "start_time": "2022-05-11T18:06:26.575Z"
   },
   {
    "duration": 9,
    "start_time": "2022-05-11T18:06:26.587Z"
   },
   {
    "duration": 40,
    "start_time": "2022-05-11T18:06:26.597Z"
   },
   {
    "duration": 10,
    "start_time": "2022-05-11T18:06:26.639Z"
   },
   {
    "duration": 11,
    "start_time": "2022-05-11T18:06:26.651Z"
   },
   {
    "duration": 13,
    "start_time": "2022-05-11T18:06:26.663Z"
   },
   {
    "duration": 14,
    "start_time": "2022-05-11T18:06:26.678Z"
   },
   {
    "duration": 131,
    "start_time": "2022-05-11T18:06:26.693Z"
   },
   {
    "duration": 0,
    "start_time": "2022-05-11T18:06:26.827Z"
   },
   {
    "duration": 0,
    "start_time": "2022-05-11T18:06:26.833Z"
   },
   {
    "duration": 0,
    "start_time": "2022-05-11T18:06:26.835Z"
   },
   {
    "duration": 0,
    "start_time": "2022-05-11T18:06:26.836Z"
   },
   {
    "duration": 0,
    "start_time": "2022-05-11T18:06:26.837Z"
   },
   {
    "duration": 0,
    "start_time": "2022-05-11T18:06:26.838Z"
   },
   {
    "duration": 0,
    "start_time": "2022-05-11T18:06:26.840Z"
   },
   {
    "duration": 0,
    "start_time": "2022-05-11T18:06:26.841Z"
   },
   {
    "duration": 0,
    "start_time": "2022-05-11T18:06:26.842Z"
   },
   {
    "duration": 0,
    "start_time": "2022-05-11T18:06:26.843Z"
   },
   {
    "duration": 0,
    "start_time": "2022-05-11T18:06:26.845Z"
   },
   {
    "duration": 0,
    "start_time": "2022-05-11T18:06:26.846Z"
   },
   {
    "duration": 0,
    "start_time": "2022-05-11T18:06:26.847Z"
   },
   {
    "duration": 0,
    "start_time": "2022-05-11T18:06:26.848Z"
   },
   {
    "duration": 0,
    "start_time": "2022-05-11T18:06:26.850Z"
   },
   {
    "duration": 0,
    "start_time": "2022-05-11T18:06:26.851Z"
   },
   {
    "duration": 0,
    "start_time": "2022-05-11T18:06:26.852Z"
   },
   {
    "duration": 0,
    "start_time": "2022-05-11T18:06:26.853Z"
   },
   {
    "duration": 0,
    "start_time": "2022-05-11T18:06:26.854Z"
   },
   {
    "duration": 0,
    "start_time": "2022-05-11T18:06:26.856Z"
   },
   {
    "duration": 0,
    "start_time": "2022-05-11T18:06:26.857Z"
   },
   {
    "duration": 0,
    "start_time": "2022-05-11T18:06:26.858Z"
   },
   {
    "duration": 0,
    "start_time": "2022-05-11T18:06:26.859Z"
   },
   {
    "duration": 0,
    "start_time": "2022-05-11T18:06:26.860Z"
   },
   {
    "duration": 0,
    "start_time": "2022-05-11T18:06:26.861Z"
   },
   {
    "duration": 0,
    "start_time": "2022-05-11T18:06:26.862Z"
   },
   {
    "duration": 0,
    "start_time": "2022-05-11T18:06:26.863Z"
   },
   {
    "duration": 0,
    "start_time": "2022-05-11T18:06:26.864Z"
   },
   {
    "duration": 8,
    "start_time": "2022-05-11T18:06:43.849Z"
   },
   {
    "duration": 10,
    "start_time": "2022-05-11T18:06:57.441Z"
   },
   {
    "duration": 12,
    "start_time": "2022-05-11T18:08:44.529Z"
   },
   {
    "duration": 15,
    "start_time": "2022-05-11T18:09:28.113Z"
   },
   {
    "duration": 18,
    "start_time": "2022-05-11T18:10:01.730Z"
   },
   {
    "duration": 7,
    "start_time": "2022-05-11T18:33:32.504Z"
   },
   {
    "duration": 10,
    "start_time": "2022-05-11T18:33:40.816Z"
   },
   {
    "duration": 24,
    "start_time": "2022-05-11T18:33:56.584Z"
   },
   {
    "duration": 11,
    "start_time": "2022-05-11T18:34:08.288Z"
   },
   {
    "duration": 28,
    "start_time": "2022-05-11T18:34:28.504Z"
   },
   {
    "duration": 11,
    "start_time": "2022-05-11T18:34:33.296Z"
   },
   {
    "duration": 10,
    "start_time": "2022-05-11T18:34:41.856Z"
   },
   {
    "duration": 20,
    "start_time": "2022-05-11T18:42:39.727Z"
   },
   {
    "duration": 19,
    "start_time": "2022-05-11T18:47:11.326Z"
   },
   {
    "duration": 231,
    "start_time": "2022-05-11T18:47:55.272Z"
   },
   {
    "duration": 190,
    "start_time": "2022-05-11T18:56:44.767Z"
   },
   {
    "duration": 17,
    "start_time": "2022-05-11T18:59:39.615Z"
   },
   {
    "duration": 16,
    "start_time": "2022-05-11T19:00:37.735Z"
   },
   {
    "duration": 15,
    "start_time": "2022-05-11T19:00:51.062Z"
   },
   {
    "duration": 51,
    "start_time": "2022-05-12T08:13:11.798Z"
   },
   {
    "duration": 1269,
    "start_time": "2022-05-12T08:13:17.797Z"
   },
   {
    "duration": 40,
    "start_time": "2022-05-12T08:13:19.069Z"
   },
   {
    "duration": 11,
    "start_time": "2022-05-12T08:13:19.110Z"
   },
   {
    "duration": 12,
    "start_time": "2022-05-12T08:13:19.123Z"
   },
   {
    "duration": 4,
    "start_time": "2022-05-12T08:13:19.137Z"
   },
   {
    "duration": 12,
    "start_time": "2022-05-12T08:13:19.143Z"
   },
   {
    "duration": 8,
    "start_time": "2022-05-12T08:13:19.156Z"
   },
   {
    "duration": 12,
    "start_time": "2022-05-12T08:13:19.167Z"
   },
   {
    "duration": 7,
    "start_time": "2022-05-12T08:13:19.181Z"
   },
   {
    "duration": 9,
    "start_time": "2022-05-12T08:13:19.191Z"
   },
   {
    "duration": 9,
    "start_time": "2022-05-12T08:13:19.202Z"
   },
   {
    "duration": 5,
    "start_time": "2022-05-12T08:13:19.213Z"
   },
   {
    "duration": 12,
    "start_time": "2022-05-12T08:13:19.220Z"
   },
   {
    "duration": 11,
    "start_time": "2022-05-12T08:13:19.234Z"
   },
   {
    "duration": 25,
    "start_time": "2022-05-12T08:13:19.246Z"
   },
   {
    "duration": 10,
    "start_time": "2022-05-12T08:13:19.272Z"
   },
   {
    "duration": 11,
    "start_time": "2022-05-12T08:13:19.284Z"
   },
   {
    "duration": 15,
    "start_time": "2022-05-12T08:13:19.296Z"
   },
   {
    "duration": 10,
    "start_time": "2022-05-12T08:13:19.313Z"
   },
   {
    "duration": 7,
    "start_time": "2022-05-12T08:13:19.325Z"
   },
   {
    "duration": 42,
    "start_time": "2022-05-12T08:13:19.333Z"
   },
   {
    "duration": 7,
    "start_time": "2022-05-12T08:13:19.376Z"
   },
   {
    "duration": 18,
    "start_time": "2022-05-12T08:13:19.384Z"
   },
   {
    "duration": 4,
    "start_time": "2022-05-12T08:13:19.404Z"
   },
   {
    "duration": 283,
    "start_time": "2022-05-12T08:13:19.410Z"
   },
   {
    "duration": 259,
    "start_time": "2022-05-12T08:13:19.695Z"
   },
   {
    "duration": 12,
    "start_time": "2022-05-12T08:13:19.956Z"
   },
   {
    "duration": 14,
    "start_time": "2022-05-12T08:13:19.971Z"
   },
   {
    "duration": 185,
    "start_time": "2022-05-12T08:13:19.987Z"
   },
   {
    "duration": 336,
    "start_time": "2022-05-12T08:13:20.174Z"
   },
   {
    "duration": 188,
    "start_time": "2022-05-12T08:13:20.512Z"
   },
   {
    "duration": 289,
    "start_time": "2022-05-12T08:13:20.701Z"
   },
   {
    "duration": 6,
    "start_time": "2022-05-12T08:13:20.992Z"
   },
   {
    "duration": 8,
    "start_time": "2022-05-12T08:13:20.999Z"
   },
   {
    "duration": 145,
    "start_time": "2022-05-12T08:13:21.009Z"
   },
   {
    "duration": 4,
    "start_time": "2022-05-12T08:13:21.156Z"
   },
   {
    "duration": 4,
    "start_time": "2022-05-12T08:13:21.166Z"
   },
   {
    "duration": 145,
    "start_time": "2022-05-12T08:13:21.171Z"
   },
   {
    "duration": 217,
    "start_time": "2022-05-12T08:13:21.318Z"
   },
   {
    "duration": 4,
    "start_time": "2022-05-12T08:13:21.537Z"
   },
   {
    "duration": 234,
    "start_time": "2022-05-12T08:13:21.543Z"
   },
   {
    "duration": 166,
    "start_time": "2022-05-12T08:13:21.778Z"
   },
   {
    "duration": 9,
    "start_time": "2022-05-12T08:13:21.946Z"
   },
   {
    "duration": 17,
    "start_time": "2022-05-12T08:13:21.957Z"
   },
   {
    "duration": 8,
    "start_time": "2022-05-12T08:13:21.975Z"
   },
   {
    "duration": 25,
    "start_time": "2022-05-12T08:13:21.985Z"
   },
   {
    "duration": 14,
    "start_time": "2022-05-12T08:13:22.012Z"
   },
   {
    "duration": 9,
    "start_time": "2022-05-12T08:34:35.802Z"
   },
   {
    "duration": 8,
    "start_time": "2022-05-12T08:39:02.400Z"
   },
   {
    "duration": 10,
    "start_time": "2022-05-12T08:41:42.338Z"
   },
   {
    "duration": 1236,
    "start_time": "2022-05-12T08:45:48.062Z"
   },
   {
    "duration": 39,
    "start_time": "2022-05-12T08:45:49.300Z"
   },
   {
    "duration": 11,
    "start_time": "2022-05-12T08:45:49.341Z"
   },
   {
    "duration": 11,
    "start_time": "2022-05-12T08:45:49.354Z"
   },
   {
    "duration": 5,
    "start_time": "2022-05-12T08:45:49.375Z"
   },
   {
    "duration": 24,
    "start_time": "2022-05-12T08:45:49.382Z"
   },
   {
    "duration": 10,
    "start_time": "2022-05-12T08:45:49.408Z"
   },
   {
    "duration": 15,
    "start_time": "2022-05-12T08:45:49.420Z"
   },
   {
    "duration": 8,
    "start_time": "2022-05-12T08:45:49.436Z"
   },
   {
    "duration": 9,
    "start_time": "2022-05-12T08:45:49.447Z"
   },
   {
    "duration": 14,
    "start_time": "2022-05-12T08:45:49.458Z"
   },
   {
    "duration": 28,
    "start_time": "2022-05-12T08:45:49.474Z"
   },
   {
    "duration": 8,
    "start_time": "2022-05-12T08:45:49.504Z"
   },
   {
    "duration": 16,
    "start_time": "2022-05-12T08:45:49.513Z"
   },
   {
    "duration": 10,
    "start_time": "2022-05-12T08:45:49.531Z"
   },
   {
    "duration": 15,
    "start_time": "2022-05-12T08:45:49.543Z"
   },
   {
    "duration": 15,
    "start_time": "2022-05-12T08:45:49.559Z"
   },
   {
    "duration": 28,
    "start_time": "2022-05-12T08:45:49.578Z"
   },
   {
    "duration": 7,
    "start_time": "2022-05-12T08:45:49.608Z"
   },
   {
    "duration": 14,
    "start_time": "2022-05-12T08:45:49.617Z"
   },
   {
    "duration": 8,
    "start_time": "2022-05-12T08:45:49.632Z"
   },
   {
    "duration": 22,
    "start_time": "2022-05-12T08:45:49.641Z"
   },
   {
    "duration": 6,
    "start_time": "2022-05-12T08:45:49.664Z"
   },
   {
    "duration": 317,
    "start_time": "2022-05-12T08:45:49.672Z"
   },
   {
    "duration": 304,
    "start_time": "2022-05-12T08:45:49.991Z"
   },
   {
    "duration": 10,
    "start_time": "2022-05-12T08:45:50.296Z"
   },
   {
    "duration": 16,
    "start_time": "2022-05-12T08:45:50.307Z"
   },
   {
    "duration": 192,
    "start_time": "2022-05-12T08:45:50.327Z"
   },
   {
    "duration": 323,
    "start_time": "2022-05-12T08:45:50.520Z"
   },
   {
    "duration": 257,
    "start_time": "2022-05-12T08:45:50.845Z"
   },
   {
    "duration": 301,
    "start_time": "2022-05-12T08:45:51.104Z"
   },
   {
    "duration": 7,
    "start_time": "2022-05-12T08:45:51.407Z"
   },
   {
    "duration": 6,
    "start_time": "2022-05-12T08:45:51.415Z"
   },
   {
    "duration": 189,
    "start_time": "2022-05-12T08:45:51.423Z"
   },
   {
    "duration": 4,
    "start_time": "2022-05-12T08:45:51.614Z"
   },
   {
    "duration": 7,
    "start_time": "2022-05-12T08:45:51.620Z"
   },
   {
    "duration": 189,
    "start_time": "2022-05-12T08:45:51.629Z"
   },
   {
    "duration": 277,
    "start_time": "2022-05-12T08:45:51.821Z"
   },
   {
    "duration": 4,
    "start_time": "2022-05-12T08:45:52.102Z"
   },
   {
    "duration": 269,
    "start_time": "2022-05-12T08:45:52.108Z"
   },
   {
    "duration": 229,
    "start_time": "2022-05-12T08:45:52.387Z"
   },
   {
    "duration": 10,
    "start_time": "2022-05-12T08:45:52.618Z"
   },
   {
    "duration": 9,
    "start_time": "2022-05-12T08:45:52.630Z"
   },
   {
    "duration": 12,
    "start_time": "2022-05-12T08:45:52.640Z"
   },
   {
    "duration": 85,
    "start_time": "2022-05-12T08:45:52.653Z"
   },
   {
    "duration": 13,
    "start_time": "2022-05-12T08:45:52.740Z"
   },
   {
    "duration": 1187,
    "start_time": "2022-05-12T16:09:10.025Z"
   },
   {
    "duration": 45,
    "start_time": "2022-05-12T16:09:11.214Z"
   },
   {
    "duration": 12,
    "start_time": "2022-05-12T16:09:11.261Z"
   },
   {
    "duration": 12,
    "start_time": "2022-05-12T16:09:11.275Z"
   },
   {
    "duration": 4,
    "start_time": "2022-05-12T16:09:11.289Z"
   },
   {
    "duration": 11,
    "start_time": "2022-05-12T16:09:11.295Z"
   },
   {
    "duration": 8,
    "start_time": "2022-05-12T16:09:11.308Z"
   },
   {
    "duration": 14,
    "start_time": "2022-05-12T16:09:11.318Z"
   },
   {
    "duration": 15,
    "start_time": "2022-05-12T16:09:11.334Z"
   },
   {
    "duration": 12,
    "start_time": "2022-05-12T16:09:11.352Z"
   },
   {
    "duration": 13,
    "start_time": "2022-05-12T16:09:11.365Z"
   },
   {
    "duration": 9,
    "start_time": "2022-05-12T16:09:11.380Z"
   },
   {
    "duration": 20,
    "start_time": "2022-05-12T16:09:11.391Z"
   },
   {
    "duration": 13,
    "start_time": "2022-05-12T16:09:11.413Z"
   },
   {
    "duration": 9,
    "start_time": "2022-05-12T16:09:11.428Z"
   },
   {
    "duration": 9,
    "start_time": "2022-05-12T16:09:11.439Z"
   },
   {
    "duration": 11,
    "start_time": "2022-05-12T16:09:11.450Z"
   },
   {
    "duration": 15,
    "start_time": "2022-05-12T16:09:11.463Z"
   },
   {
    "duration": 35,
    "start_time": "2022-05-12T16:09:11.480Z"
   },
   {
    "duration": 12,
    "start_time": "2022-05-12T16:09:11.517Z"
   },
   {
    "duration": 8,
    "start_time": "2022-05-12T16:09:11.530Z"
   },
   {
    "duration": 19,
    "start_time": "2022-05-12T16:09:11.539Z"
   },
   {
    "duration": 4,
    "start_time": "2022-05-12T16:09:11.560Z"
   },
   {
    "duration": 321,
    "start_time": "2022-05-12T16:09:11.566Z"
   },
   {
    "duration": 293,
    "start_time": "2022-05-12T16:09:11.889Z"
   },
   {
    "duration": 9,
    "start_time": "2022-05-12T16:09:12.184Z"
   },
   {
    "duration": 23,
    "start_time": "2022-05-12T16:09:12.195Z"
   },
   {
    "duration": 190,
    "start_time": "2022-05-12T16:09:12.222Z"
   },
   {
    "duration": 312,
    "start_time": "2022-05-12T16:09:12.414Z"
   },
   {
    "duration": 200,
    "start_time": "2022-05-12T16:09:12.728Z"
   },
   {
    "duration": 315,
    "start_time": "2022-05-12T16:09:12.930Z"
   },
   {
    "duration": 6,
    "start_time": "2022-05-12T16:09:13.246Z"
   },
   {
    "duration": 8,
    "start_time": "2022-05-12T16:09:13.254Z"
   },
   {
    "duration": 158,
    "start_time": "2022-05-12T16:09:13.264Z"
   },
   {
    "duration": 4,
    "start_time": "2022-05-12T16:09:13.424Z"
   },
   {
    "duration": 6,
    "start_time": "2022-05-12T16:09:13.429Z"
   },
   {
    "duration": 175,
    "start_time": "2022-05-12T16:09:13.436Z"
   },
   {
    "duration": 231,
    "start_time": "2022-05-12T16:09:13.613Z"
   },
   {
    "duration": 4,
    "start_time": "2022-05-12T16:09:13.846Z"
   },
   {
    "duration": 249,
    "start_time": "2022-05-12T16:09:13.851Z"
   },
   {
    "duration": 173,
    "start_time": "2022-05-12T16:09:14.107Z"
   },
   {
    "duration": 10,
    "start_time": "2022-05-12T16:09:14.281Z"
   },
   {
    "duration": 9,
    "start_time": "2022-05-12T16:09:14.307Z"
   },
   {
    "duration": 8,
    "start_time": "2022-05-12T16:09:14.317Z"
   },
   {
    "duration": 24,
    "start_time": "2022-05-12T16:09:14.327Z"
   },
   {
    "duration": 15,
    "start_time": "2022-05-12T16:09:14.354Z"
   },
   {
    "duration": 164,
    "start_time": "2022-05-12T16:15:46.265Z"
   },
   {
    "duration": 1250,
    "start_time": "2022-05-14T12:34:53.440Z"
   },
   {
    "duration": 43,
    "start_time": "2022-05-14T12:34:54.692Z"
   },
   {
    "duration": 12,
    "start_time": "2022-05-14T12:34:54.736Z"
   },
   {
    "duration": 20,
    "start_time": "2022-05-14T12:34:54.750Z"
   },
   {
    "duration": 5,
    "start_time": "2022-05-14T12:34:54.771Z"
   },
   {
    "duration": 12,
    "start_time": "2022-05-14T12:34:54.778Z"
   },
   {
    "duration": 10,
    "start_time": "2022-05-14T12:34:54.792Z"
   },
   {
    "duration": 14,
    "start_time": "2022-05-14T12:34:54.803Z"
   },
   {
    "duration": 11,
    "start_time": "2022-05-14T12:34:54.819Z"
   },
   {
    "duration": 35,
    "start_time": "2022-05-14T12:34:54.832Z"
   },
   {
    "duration": 8,
    "start_time": "2022-05-14T12:34:54.868Z"
   },
   {
    "duration": 7,
    "start_time": "2022-05-14T12:34:54.877Z"
   },
   {
    "duration": 9,
    "start_time": "2022-05-14T12:34:54.885Z"
   },
   {
    "duration": 20,
    "start_time": "2022-05-14T12:34:54.895Z"
   },
   {
    "duration": 13,
    "start_time": "2022-05-14T12:34:54.917Z"
   },
   {
    "duration": 11,
    "start_time": "2022-05-14T12:34:54.932Z"
   },
   {
    "duration": 23,
    "start_time": "2022-05-14T12:34:54.945Z"
   },
   {
    "duration": 14,
    "start_time": "2022-05-14T12:34:54.970Z"
   },
   {
    "duration": 9,
    "start_time": "2022-05-14T12:34:54.986Z"
   },
   {
    "duration": 16,
    "start_time": "2022-05-14T12:34:54.997Z"
   },
   {
    "duration": 23,
    "start_time": "2022-05-14T12:34:55.014Z"
   },
   {
    "duration": 24,
    "start_time": "2022-05-14T12:34:55.038Z"
   },
   {
    "duration": 12,
    "start_time": "2022-05-14T12:34:55.064Z"
   },
   {
    "duration": 18,
    "start_time": "2022-05-14T12:34:55.077Z"
   },
   {
    "duration": 15,
    "start_time": "2022-05-14T12:34:55.097Z"
   },
   {
    "duration": 28,
    "start_time": "2022-05-14T12:34:55.114Z"
   },
   {
    "duration": 5,
    "start_time": "2022-05-14T12:34:55.143Z"
   },
   {
    "duration": 274,
    "start_time": "2022-05-14T12:34:55.152Z"
   },
   {
    "duration": 266,
    "start_time": "2022-05-14T12:34:55.428Z"
   },
   {
    "duration": 10,
    "start_time": "2022-05-14T12:34:55.696Z"
   },
   {
    "duration": 19,
    "start_time": "2022-05-14T12:34:55.707Z"
   },
   {
    "duration": 197,
    "start_time": "2022-05-14T12:34:55.728Z"
   },
   {
    "duration": 320,
    "start_time": "2022-05-14T12:34:55.927Z"
   },
   {
    "duration": 197,
    "start_time": "2022-05-14T12:34:56.249Z"
   },
   {
    "duration": 441,
    "start_time": "2022-05-14T12:34:56.448Z"
   },
   {
    "duration": 8,
    "start_time": "2022-05-14T12:34:56.891Z"
   },
   {
    "duration": 7,
    "start_time": "2022-05-14T12:34:56.901Z"
   },
   {
    "duration": 176,
    "start_time": "2022-05-14T12:34:56.910Z"
   },
   {
    "duration": 4,
    "start_time": "2022-05-14T12:34:57.087Z"
   },
   {
    "duration": 6,
    "start_time": "2022-05-14T12:34:57.093Z"
   },
   {
    "duration": 168,
    "start_time": "2022-05-14T12:34:57.101Z"
   },
   {
    "duration": 221,
    "start_time": "2022-05-14T12:34:57.270Z"
   },
   {
    "duration": 4,
    "start_time": "2022-05-14T12:34:57.492Z"
   },
   {
    "duration": 225,
    "start_time": "2022-05-14T12:34:57.498Z"
   },
   {
    "duration": 148,
    "start_time": "2022-05-14T12:34:57.725Z"
   },
   {
    "duration": 9,
    "start_time": "2022-05-14T12:34:57.875Z"
   },
   {
    "duration": 150,
    "start_time": "2022-05-14T12:34:57.885Z"
   },
   {
    "duration": 0,
    "start_time": "2022-05-14T12:34:58.037Z"
   },
   {
    "duration": 0,
    "start_time": "2022-05-14T12:34:58.038Z"
   },
   {
    "duration": 0,
    "start_time": "2022-05-14T12:34:58.038Z"
   },
   {
    "duration": 1321,
    "start_time": "2022-07-06T18:25:28.107Z"
   },
   {
    "duration": 107,
    "start_time": "2022-07-06T18:25:29.430Z"
   },
   {
    "duration": 16,
    "start_time": "2022-07-06T18:25:29.538Z"
   },
   {
    "duration": 18,
    "start_time": "2022-07-06T18:25:29.556Z"
   },
   {
    "duration": 6,
    "start_time": "2022-07-06T18:25:29.578Z"
   },
   {
    "duration": 13,
    "start_time": "2022-07-06T18:25:29.586Z"
   },
   {
    "duration": 11,
    "start_time": "2022-07-06T18:25:29.600Z"
   },
   {
    "duration": 11,
    "start_time": "2022-07-06T18:25:29.625Z"
   },
   {
    "duration": 8,
    "start_time": "2022-07-06T18:25:29.638Z"
   },
   {
    "duration": 17,
    "start_time": "2022-07-06T18:25:29.648Z"
   },
   {
    "duration": 15,
    "start_time": "2022-07-06T18:25:29.667Z"
   },
   {
    "duration": 8,
    "start_time": "2022-07-06T18:25:29.684Z"
   },
   {
    "duration": 33,
    "start_time": "2022-07-06T18:25:29.693Z"
   },
   {
    "duration": 12,
    "start_time": "2022-07-06T18:25:29.730Z"
   },
   {
    "duration": 7,
    "start_time": "2022-07-06T18:25:29.744Z"
   },
   {
    "duration": 11,
    "start_time": "2022-07-06T18:25:29.752Z"
   },
   {
    "duration": 12,
    "start_time": "2022-07-06T18:25:29.764Z"
   },
   {
    "duration": 13,
    "start_time": "2022-07-06T18:25:29.777Z"
   },
   {
    "duration": 9,
    "start_time": "2022-07-06T18:25:29.792Z"
   },
   {
    "duration": 6,
    "start_time": "2022-07-06T18:25:29.824Z"
   },
   {
    "duration": 13,
    "start_time": "2022-07-06T18:25:29.832Z"
   },
   {
    "duration": 15,
    "start_time": "2022-07-06T18:25:29.847Z"
   },
   {
    "duration": 14,
    "start_time": "2022-07-06T18:25:29.864Z"
   },
   {
    "duration": 13,
    "start_time": "2022-07-06T18:25:29.880Z"
   },
   {
    "duration": 7,
    "start_time": "2022-07-06T18:25:29.894Z"
   },
   {
    "duration": 28,
    "start_time": "2022-07-06T18:25:29.902Z"
   },
   {
    "duration": 5,
    "start_time": "2022-07-06T18:25:29.931Z"
   },
   {
    "duration": 272,
    "start_time": "2022-07-06T18:25:29.937Z"
   },
   {
    "duration": 270,
    "start_time": "2022-07-06T18:25:30.211Z"
   },
   {
    "duration": 9,
    "start_time": "2022-07-06T18:25:30.483Z"
   },
   {
    "duration": 31,
    "start_time": "2022-07-06T18:25:30.494Z"
   },
   {
    "duration": 207,
    "start_time": "2022-07-06T18:25:30.527Z"
   },
   {
    "duration": 335,
    "start_time": "2022-07-06T18:25:30.735Z"
   },
   {
    "duration": 207,
    "start_time": "2022-07-06T18:25:31.072Z"
   },
   {
    "duration": 348,
    "start_time": "2022-07-06T18:25:31.280Z"
   },
   {
    "duration": 6,
    "start_time": "2022-07-06T18:25:31.629Z"
   },
   {
    "duration": 40,
    "start_time": "2022-07-06T18:25:31.636Z"
   },
   {
    "duration": 173,
    "start_time": "2022-07-06T18:25:31.677Z"
   },
   {
    "duration": 4,
    "start_time": "2022-07-06T18:25:31.851Z"
   },
   {
    "duration": 8,
    "start_time": "2022-07-06T18:25:31.857Z"
   },
   {
    "duration": 182,
    "start_time": "2022-07-06T18:25:31.868Z"
   },
   {
    "duration": 236,
    "start_time": "2022-07-06T18:25:32.052Z"
   },
   {
    "duration": 5,
    "start_time": "2022-07-06T18:25:32.290Z"
   },
   {
    "duration": 230,
    "start_time": "2022-07-06T18:25:32.297Z"
   },
   {
    "duration": 165,
    "start_time": "2022-07-06T18:25:32.529Z"
   },
   {
    "duration": 12,
    "start_time": "2022-07-06T18:25:32.695Z"
   },
   {
    "duration": 51,
    "start_time": "2022-07-06T18:25:32.709Z"
   },
   {
    "duration": 0,
    "start_time": "2022-07-06T18:25:32.762Z"
   },
   {
    "duration": 0,
    "start_time": "2022-07-06T18:25:32.763Z"
   },
   {
    "duration": 0,
    "start_time": "2022-07-06T18:25:32.765Z"
   },
   {
    "duration": 11,
    "start_time": "2022-07-06T18:25:49.287Z"
   },
   {
    "duration": 1074,
    "start_time": "2022-07-06T18:26:02.557Z"
   },
   {
    "duration": 41,
    "start_time": "2022-07-06T18:26:03.633Z"
   },
   {
    "duration": 12,
    "start_time": "2022-07-06T18:26:03.675Z"
   },
   {
    "duration": 27,
    "start_time": "2022-07-06T18:26:03.689Z"
   },
   {
    "duration": 14,
    "start_time": "2022-07-06T18:26:03.719Z"
   },
   {
    "duration": 16,
    "start_time": "2022-07-06T18:26:03.735Z"
   },
   {
    "duration": 27,
    "start_time": "2022-07-06T18:26:03.752Z"
   },
   {
    "duration": 15,
    "start_time": "2022-07-06T18:26:03.781Z"
   },
   {
    "duration": 20,
    "start_time": "2022-07-06T18:26:03.798Z"
   },
   {
    "duration": 25,
    "start_time": "2022-07-06T18:26:03.820Z"
   },
   {
    "duration": 17,
    "start_time": "2022-07-06T18:26:03.847Z"
   },
   {
    "duration": 20,
    "start_time": "2022-07-06T18:26:03.866Z"
   },
   {
    "duration": 22,
    "start_time": "2022-07-06T18:26:03.888Z"
   },
   {
    "duration": 14,
    "start_time": "2022-07-06T18:26:03.915Z"
   },
   {
    "duration": 13,
    "start_time": "2022-07-06T18:26:03.931Z"
   },
   {
    "duration": 16,
    "start_time": "2022-07-06T18:26:03.946Z"
   },
   {
    "duration": 17,
    "start_time": "2022-07-06T18:26:03.964Z"
   },
   {
    "duration": 14,
    "start_time": "2022-07-06T18:26:03.983Z"
   },
   {
    "duration": 20,
    "start_time": "2022-07-06T18:26:03.999Z"
   },
   {
    "duration": 20,
    "start_time": "2022-07-06T18:26:04.023Z"
   },
   {
    "duration": 13,
    "start_time": "2022-07-06T18:26:04.045Z"
   },
   {
    "duration": 18,
    "start_time": "2022-07-06T18:26:04.060Z"
   },
   {
    "duration": 35,
    "start_time": "2022-07-06T18:26:04.079Z"
   },
   {
    "duration": 17,
    "start_time": "2022-07-06T18:26:04.115Z"
   },
   {
    "duration": 14,
    "start_time": "2022-07-06T18:26:04.133Z"
   },
   {
    "duration": 19,
    "start_time": "2022-07-06T18:26:04.148Z"
   },
   {
    "duration": 7,
    "start_time": "2022-07-06T18:26:04.169Z"
   },
   {
    "duration": 291,
    "start_time": "2022-07-06T18:26:04.177Z"
   },
   {
    "duration": 298,
    "start_time": "2022-07-06T18:26:04.469Z"
   },
   {
    "duration": 9,
    "start_time": "2022-07-06T18:26:04.769Z"
   },
   {
    "duration": 18,
    "start_time": "2022-07-06T18:26:04.779Z"
   },
   {
    "duration": 199,
    "start_time": "2022-07-06T18:26:04.799Z"
   },
   {
    "duration": 326,
    "start_time": "2022-07-06T18:26:05.000Z"
   },
   {
    "duration": 202,
    "start_time": "2022-07-06T18:26:05.328Z"
   },
   {
    "duration": 324,
    "start_time": "2022-07-06T18:26:05.531Z"
   },
   {
    "duration": 6,
    "start_time": "2022-07-06T18:26:05.856Z"
   },
   {
    "duration": 9,
    "start_time": "2022-07-06T18:26:05.863Z"
   },
   {
    "duration": 165,
    "start_time": "2022-07-06T18:26:05.873Z"
   },
   {
    "duration": 4,
    "start_time": "2022-07-06T18:26:06.040Z"
   },
   {
    "duration": 9,
    "start_time": "2022-07-06T18:26:06.045Z"
   },
   {
    "duration": 169,
    "start_time": "2022-07-06T18:26:06.057Z"
   },
   {
    "duration": 223,
    "start_time": "2022-07-06T18:26:06.228Z"
   },
   {
    "duration": 4,
    "start_time": "2022-07-06T18:26:06.452Z"
   },
   {
    "duration": 213,
    "start_time": "2022-07-06T18:26:06.458Z"
   },
   {
    "duration": 144,
    "start_time": "2022-07-06T18:26:06.672Z"
   },
   {
    "duration": 10,
    "start_time": "2022-07-06T18:26:06.818Z"
   },
   {
    "duration": 14,
    "start_time": "2022-07-06T18:26:06.830Z"
   },
   {
    "duration": 9,
    "start_time": "2022-07-06T18:26:06.845Z"
   },
   {
    "duration": 25,
    "start_time": "2022-07-06T18:26:06.855Z"
   },
   {
    "duration": 45,
    "start_time": "2022-07-06T18:26:06.882Z"
   }
  ],
  "kernelspec": {
   "display_name": "Python 3 (ipykernel)",
   "language": "python",
   "name": "python3"
  },
  "language_info": {
   "codemirror_mode": {
    "name": "ipython",
    "version": 3
   },
   "file_extension": ".py",
   "mimetype": "text/x-python",
   "name": "python",
   "nbconvert_exporter": "python",
   "pygments_lexer": "ipython3",
   "version": "3.9.5"
  },
  "toc": {
   "base_numbering": 1,
   "nav_menu": {},
   "number_sections": true,
   "sideBar": true,
   "skip_h1_title": true,
   "title_cell": "Table of Contents",
   "title_sidebar": "Гипотезы для увеличения выручки",
   "toc_cell": false,
   "toc_position": {
    "height": "calc(100% - 180px)",
    "left": "10px",
    "top": "150px",
    "width": "165px"
   },
   "toc_section_display": true,
   "toc_window_display": true
  }
 },
 "nbformat": 4,
 "nbformat_minor": 2
}
